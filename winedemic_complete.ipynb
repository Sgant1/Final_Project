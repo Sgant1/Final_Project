{
 "cells": [
  {
   "cell_type": "code",
   "execution_count": 1,
   "id": "ac9bdc74",
   "metadata": {},
   "outputs": [],
   "source": [
    "import pandas as pd"
   ]
  },
  {
   "cell_type": "code",
   "execution_count": null,
   "id": "3657a6ff",
   "metadata": {},
   "outputs": [],
   "source": [
    "# Read the csv files for each year's wine shipment info\n",
    "year2019_df = pd.read_csv()\n",
    "year2020_df = pd.read_csv()\n",
    "year2021_df = pd.read_csv()\n",
    "\n",
    "# Merge data in all files into one\n",
    "winedemic_df = pd.concat([year2019_df, year2020_df, year2021_df])\n",
    "\n",
    "# view new combined data frame\n",
    "winedemic_df.head()"
   ]
  },
  {
   "cell_type": "code",
   "execution_count": null,
   "id": "3cc5f0ab",
   "metadata": {},
   "outputs": [],
   "source": [
    "# view new combined data frame\n",
    "winedemic_df.tail()"
   ]
  },
  {
   "cell_type": "code",
   "execution_count": null,
   "id": "720a76bd",
   "metadata": {},
   "outputs": [],
   "source": [
    "df.index = pd.to_datetime(df.index)"
   ]
  },
  {
   "cell_type": "code",
   "execution_count": null,
   "id": "18057921",
   "metadata": {},
   "outputs": [],
   "source": [
    "# Create new month and year columns from ship date column info\n",
    "df.reset_index(inplace=True)\n",
    "\n",
    "# Create new columns\n",
    "df['Month'] = df['Ship Date'].dt.month\n",
    "df['Day'] = df['Ship Date'].dt.day\n",
    "df['Year'] = df['Ship Date'].dt.year"
   ]
  },
  {
   "cell_type": "code",
   "execution_count": null,
   "id": "cb648a3f",
   "metadata": {},
   "outputs": [],
   "source": [
    "#check new columns were created correctly\n",
    "winedemic_df.head()"
   ]
  },
  {
   "cell_type": "code",
   "execution_count": null,
   "id": "b560db1f",
   "metadata": {},
   "outputs": [],
   "source": [
    "# Create new column for state political affilliation\n",
    "winedemic_df['political_affilliation']= \n",
    "\n",
    "if value in 'state'= 'CA' then 'political_affilliation'= 'blue'\n",
    "elif value in 'state'= 'ID' then 'political_affilliation'= 'red'\n",
    "elif value in 'state'= 'KS' then 'political_affilliation'= 'red'\n",
    "elif value in 'state'= 'MA' then 'political_affilliation'= 'blue'\n",
    "elif value in 'state'= 'NM' then 'political_affilliation'= 'blue'\n",
    "elif value in 'state'= 'NY' then 'political_affilliation'= 'blue'\n",
    "elif value in 'state'= 'PA' then 'political_affilliation'= 'blue'\n",
    "elif value in 'state'= 'RI' then 'political_affilliation'= 'blue'\n",
    "elif value in 'state'= 'SD' then 'political_affilliation'= 'red'\n",
    "elif value in 'state'= 'VT' then 'political_affilliation'= 'blue'\n",
    "elif value in 'state'= 'WA' then 'political_affilliation'= 'blue'\n",
    "elif value in 'state'= 'DC' then 'political_affilliation'= 'blue'\n",
    "elif value in 'state'= 'AK' then 'political_affilliation'= 'red'\n",
    "elif value in 'state'= 'FL' then 'political_affilliation'= 'red'\n",
    "elif value in 'state'= 'IL' then 'political_affilliation'= 'blue'\n",
    "elif value in 'state'= 'IN' then 'political_affilliation'= 'red'\n",
    "elif value in 'state'= 'NJ' then 'political_affilliation'= 'blue'\n",
    "elif value in 'state'= 'ND' then 'political_affilliation'= 'red'\n",
    "elif value in 'state'= 'OK' then 'political_affilliation'= 'red'\n",
    "elif value in 'state'= 'OR' then 'political_affilliation'= 'blue'\n",
    "elif value in 'state'= 'WY' then 'political_affilliation'= 'red'\n",
    "elif value in 'state'= 'AL' then 'political_affilliation'= 'red'\n",
    "elif value in 'state'= 'CO' then 'political_affilliation'= 'blue'\n",
    "elif value in 'state'= 'DE' then 'political_affilliation'= 'blue'\n",
    "elif value in 'state'= 'GA' then 'political_affilliation'= 'blue'\n",
    "elif value in 'state'= 'IA' then 'political_affilliation'= 'red'\n",
    "elif value in 'state'= 'MN' then 'political_affilliation'= 'blue'\n",
    "elif value in 'state'= 'MO' then 'political_affilliation'= 'red'\n",
    "elif value in 'state'= 'OH' then 'political_affilliation'= 'red'\n",
    "elif value in 'state'= 'SC' then 'political_affilliation'= 'red'\n",
    "elif value in 'state'= 'VA' then 'political_affilliation'= 'blue'\n",
    "elif value in 'state'= 'AZ' then 'political_affilliation'= 'blue'\n",
    "elif value in 'state'= 'AR' then 'political_affilliation'= 'red'\n",
    "elif value in 'state'= 'CT' then 'political_affilliation'= 'blue'\n",
    "elif value in 'state'= 'KY' then 'political_affilliation'= 'red'\n",
    "elif value in 'state'= 'LA' then 'political_affilliation'= 'red'\n",
    "elif value in 'state'= 'MT' then 'political_affilliation'= 'red'\n",
    "elif value in 'state'= 'NE' then 'political_affilliation'= 'red'\n",
    "elif value in 'state'= 'NV' then 'political_affilliation'= 'blue'\n",
    "elif value in 'state'= 'WV' then 'political_affilliation'= 'red'\n",
    "elif value in 'state'= 'WI' then 'political_affilliation'= 'blue'\n",
    "elif value in 'state'= 'HI' then 'political_affilliation'= 'blue'\n",
    "elif value in 'state'= 'ME' then 'political_affilliation'= 'blue'\n",
    "elif value in 'state'= 'MD' then 'political_affilliation'= 'blue'\n",
    "elif value in 'state'= 'MI' then 'political_affilliation'= 'blue'\n",
    "elif value in 'state'= 'MS' then 'political_affilliation'= 'red'\n",
    "elif value in 'state'= 'NH' then 'political_affilliation'= 'blue'\n",
    "elif value in 'state'= 'NC' then 'political_affilliation'= 'red'\n",
    "elif value in 'state'= 'TN' then 'political_affilliation'= 'red'\n",
    "elif value in 'state'= 'TX' then 'political_affilliation'= 'red'\n",
    "else value in 'state'= 'UT' then 'political_affilliation'= 'red'"
   ]
  }
 ],
 "metadata": {
  "kernelspec": {
   "display_name": "PythonData",
   "language": "python",
   "name": "pythondata"
  },
  "language_info": {
   "codemirror_mode": {
    "name": "ipython",
    "version": 3
   },
   "file_extension": ".py",
   "mimetype": "text/x-python",
   "name": "python",
   "nbconvert_exporter": "python",
   "pygments_lexer": "ipython3",
   "version": "3.7.13"
  }
 },
 "nbformat": 4,
 "nbformat_minor": 5
}
