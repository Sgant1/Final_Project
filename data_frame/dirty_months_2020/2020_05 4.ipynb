{
 "cells": [
  {
   "cell_type": "code",
   "execution_count": 1,
   "id": "1f30ec89",
   "metadata": {},
   "outputs": [],
   "source": [
    "#Pandas library to create DataFrames\n",
    "import pandas as pd\n",
    "#NumPy library for converting data types\n",
    "import numpy as np"
   ]
  },
  {
   "cell_type": "code",
   "execution_count": 2,
   "id": "7d4569c3",
   "metadata": {},
   "outputs": [],
   "source": [
    "# Files to load\n",
    "load_2020_05 = \"../../2020_Data/2020.05.csv\""
   ]
  },
  {
   "cell_type": "code",
   "execution_count": 3,
   "id": "5bf26e77",
   "metadata": {},
   "outputs": [
    {
     "data": {
      "text/html": [
       "<div>\n",
       "<style scoped>\n",
       "    .dataframe tbody tr th:only-of-type {\n",
       "        vertical-align: middle;\n",
       "    }\n",
       "\n",
       "    .dataframe tbody tr th {\n",
       "        vertical-align: top;\n",
       "    }\n",
       "\n",
       "    .dataframe thead th {\n",
       "        text-align: right;\n",
       "    }\n",
       "</style>\n",
       "<table border=\"1\" class=\"dataframe\">\n",
       "  <thead>\n",
       "    <tr style=\"text-align: right;\">\n",
       "      <th></th>\n",
       "      <th>Company Name</th>\n",
       "      <th>Status</th>\n",
       "      <th>Ship Date</th>\n",
       "      <th>City</th>\n",
       "      <th>State</th>\n",
       "      <th>Zip</th>\n",
       "      <th>Shipping Service</th>\n",
       "      <th>Created Date</th>\n",
       "      <th>Weight</th>\n",
       "      <th>Item/Bottle Count</th>\n",
       "    </tr>\n",
       "  </thead>\n",
       "  <tbody>\n",
       "    <tr>\n",
       "      <th>0</th>\n",
       "      <td>Ecom1</td>\n",
       "      <td>Shipped</td>\n",
       "      <td>5/1/20</td>\n",
       "      <td>Edmond</td>\n",
       "      <td>OK</td>\n",
       "      <td>73034</td>\n",
       "      <td>LSO1</td>\n",
       "      <td>4/19/20</td>\n",
       "      <td>10.5</td>\n",
       "      <td>3</td>\n",
       "    </tr>\n",
       "    <tr>\n",
       "      <th>1</th>\n",
       "      <td>Ecom1</td>\n",
       "      <td>In Transit</td>\n",
       "      <td>5/1/20</td>\n",
       "      <td>Snohomish</td>\n",
       "      <td>WA</td>\n",
       "      <td>98296</td>\n",
       "      <td>FEH</td>\n",
       "      <td>4/22/20</td>\n",
       "      <td>20.2</td>\n",
       "      <td>6</td>\n",
       "    </tr>\n",
       "    <tr>\n",
       "      <th>2</th>\n",
       "      <td>Ecom1</td>\n",
       "      <td>In Transit</td>\n",
       "      <td>5/1/20</td>\n",
       "      <td>Denver</td>\n",
       "      <td>CO</td>\n",
       "      <td>80209</td>\n",
       "      <td>UPS</td>\n",
       "      <td>4/24/20</td>\n",
       "      <td>20.2</td>\n",
       "      <td>6</td>\n",
       "    </tr>\n",
       "    <tr>\n",
       "      <th>3</th>\n",
       "      <td>Ecom1</td>\n",
       "      <td>In Transit</td>\n",
       "      <td>5/1/20</td>\n",
       "      <td>San Diego</td>\n",
       "      <td>CA</td>\n",
       "      <td>92115</td>\n",
       "      <td>FXG</td>\n",
       "      <td>4/24/20</td>\n",
       "      <td>10.5</td>\n",
       "      <td>3</td>\n",
       "    </tr>\n",
       "    <tr>\n",
       "      <th>4</th>\n",
       "      <td>Ecom1</td>\n",
       "      <td>In Transit</td>\n",
       "      <td>5/1/20</td>\n",
       "      <td>Seattle</td>\n",
       "      <td>WA</td>\n",
       "      <td>98104</td>\n",
       "      <td>FEH</td>\n",
       "      <td>4/26/20</td>\n",
       "      <td>39.0</td>\n",
       "      <td>12</td>\n",
       "    </tr>\n",
       "  </tbody>\n",
       "</table>\n",
       "</div>"
      ],
      "text/plain": [
       "  Company Name      Status Ship Date       City State    Zip Shipping Service  \\\n",
       "0        Ecom1     Shipped    5/1/20     Edmond    OK  73034             LSO1   \n",
       "1        Ecom1  In Transit    5/1/20  Snohomish    WA  98296              FEH   \n",
       "2        Ecom1  In Transit    5/1/20     Denver    CO  80209              UPS   \n",
       "3        Ecom1  In Transit    5/1/20  San Diego    CA  92115              FXG   \n",
       "4        Ecom1  In Transit    5/1/20    Seattle    WA  98104              FEH   \n",
       "\n",
       "  Created Date  Weight  Item/Bottle Count  \n",
       "0      4/19/20    10.5                  3  \n",
       "1      4/22/20    20.2                  6  \n",
       "2      4/24/20    20.2                  6  \n",
       "3      4/24/20    10.5                  3  \n",
       "4      4/26/20    39.0                 12  "
      ]
     },
     "execution_count": 3,
     "metadata": {},
     "output_type": "execute_result"
    }
   ],
   "source": [
    "# Read the May CSV into a DataFrame\n",
    "#Had to open each file in excel and save it as a .csv file instead of an .xlsm file in order for the encryption to be read properly.\n",
    "df_2020_05 = pd.read_csv(load_2020_05)\n",
    "df_2020_05.head()"
   ]
  },
  {
   "cell_type": "markdown",
   "id": "175df6a6",
   "metadata": {},
   "source": [
    "## Inspect the Data"
   ]
  },
  {
   "cell_type": "code",
   "execution_count": 4,
   "id": "2cdb2387",
   "metadata": {},
   "outputs": [
    {
     "data": {
      "text/html": [
       "<div>\n",
       "<style scoped>\n",
       "    .dataframe tbody tr th:only-of-type {\n",
       "        vertical-align: middle;\n",
       "    }\n",
       "\n",
       "    .dataframe tbody tr th {\n",
       "        vertical-align: top;\n",
       "    }\n",
       "\n",
       "    .dataframe thead th {\n",
       "        text-align: right;\n",
       "    }\n",
       "</style>\n",
       "<table border=\"1\" class=\"dataframe\">\n",
       "  <thead>\n",
       "    <tr style=\"text-align: right;\">\n",
       "      <th></th>\n",
       "      <th>Company Name</th>\n",
       "      <th>Status</th>\n",
       "      <th>Ship Date</th>\n",
       "      <th>City</th>\n",
       "      <th>State</th>\n",
       "      <th>Zip</th>\n",
       "      <th>Shipping Service</th>\n",
       "      <th>Created Date</th>\n",
       "      <th>Weight</th>\n",
       "      <th>Item/Bottle Count</th>\n",
       "    </tr>\n",
       "  </thead>\n",
       "  <tbody>\n",
       "    <tr>\n",
       "      <th>31594</th>\n",
       "      <td>Ecom3</td>\n",
       "      <td>In Transit</td>\n",
       "      <td>5/29/20</td>\n",
       "      <td>Broomfield</td>\n",
       "      <td>CO</td>\n",
       "      <td>80023</td>\n",
       "      <td>UPS</td>\n",
       "      <td>5/28/20</td>\n",
       "      <td>7.0</td>\n",
       "      <td>2</td>\n",
       "    </tr>\n",
       "    <tr>\n",
       "      <th>8929</th>\n",
       "      <td>Ecom3</td>\n",
       "      <td>Shipped</td>\n",
       "      <td>5/15/20</td>\n",
       "      <td>Bishopville</td>\n",
       "      <td>MD</td>\n",
       "      <td>21813</td>\n",
       "      <td>FEH</td>\n",
       "      <td>5/15/20</td>\n",
       "      <td>41.0</td>\n",
       "      <td>12</td>\n",
       "    </tr>\n",
       "    <tr>\n",
       "      <th>14743</th>\n",
       "      <td>Ecom2</td>\n",
       "      <td>In Transit</td>\n",
       "      <td>5/21/20</td>\n",
       "      <td>Lawrence</td>\n",
       "      <td>KS</td>\n",
       "      <td>66049</td>\n",
       "      <td>FEH</td>\n",
       "      <td>5/19/20</td>\n",
       "      <td>7.0</td>\n",
       "      <td>1</td>\n",
       "    </tr>\n",
       "    <tr>\n",
       "      <th>20612</th>\n",
       "      <td>Ecom2</td>\n",
       "      <td>In Transit</td>\n",
       "      <td>5/21/20</td>\n",
       "      <td>New Rochelle</td>\n",
       "      <td>NY</td>\n",
       "      <td>10804</td>\n",
       "      <td>FEH</td>\n",
       "      <td>5/19/20</td>\n",
       "      <td>7.0</td>\n",
       "      <td>1</td>\n",
       "    </tr>\n",
       "    <tr>\n",
       "      <th>18977</th>\n",
       "      <td>Ecom2</td>\n",
       "      <td>In Transit</td>\n",
       "      <td>5/21/20</td>\n",
       "      <td>Port Washington</td>\n",
       "      <td>NY</td>\n",
       "      <td>11050</td>\n",
       "      <td>FEH</td>\n",
       "      <td>5/19/20</td>\n",
       "      <td>7.0</td>\n",
       "      <td>1</td>\n",
       "    </tr>\n",
       "  </tbody>\n",
       "</table>\n",
       "</div>"
      ],
      "text/plain": [
       "      Company Name      Status Ship Date             City State    Zip  \\\n",
       "31594        Ecom3  In Transit   5/29/20       Broomfield    CO  80023   \n",
       "8929         Ecom3     Shipped   5/15/20      Bishopville    MD  21813   \n",
       "14743        Ecom2  In Transit   5/21/20         Lawrence    KS  66049   \n",
       "20612        Ecom2  In Transit   5/21/20     New Rochelle    NY  10804   \n",
       "18977        Ecom2  In Transit   5/21/20  Port Washington    NY  11050   \n",
       "\n",
       "      Shipping Service Created Date  Weight  Item/Bottle Count  \n",
       "31594              UPS      5/28/20     7.0                  2  \n",
       "8929               FEH      5/15/20    41.0                 12  \n",
       "14743              FEH      5/19/20     7.0                  1  \n",
       "20612              FEH      5/19/20     7.0                  1  \n",
       "18977              FEH      5/19/20     7.0                  1  "
      ]
     },
     "execution_count": 4,
     "metadata": {},
     "output_type": "execute_result"
    }
   ],
   "source": [
    "#See five random rows of data\n",
    "df_2020_05.sample(n=5)"
   ]
  },
  {
   "cell_type": "code",
   "execution_count": 5,
   "id": "a7bdb733",
   "metadata": {},
   "outputs": [
    {
     "data": {
      "text/html": [
       "<div>\n",
       "<style scoped>\n",
       "    .dataframe tbody tr th:only-of-type {\n",
       "        vertical-align: middle;\n",
       "    }\n",
       "\n",
       "    .dataframe tbody tr th {\n",
       "        vertical-align: top;\n",
       "    }\n",
       "\n",
       "    .dataframe thead th {\n",
       "        text-align: right;\n",
       "    }\n",
       "</style>\n",
       "<table border=\"1\" class=\"dataframe\">\n",
       "  <thead>\n",
       "    <tr style=\"text-align: right;\">\n",
       "      <th></th>\n",
       "      <th>Company Name</th>\n",
       "      <th>Status</th>\n",
       "      <th>Ship Date</th>\n",
       "      <th>City</th>\n",
       "      <th>State</th>\n",
       "      <th>Zip</th>\n",
       "      <th>Shipping Service</th>\n",
       "      <th>Created Date</th>\n",
       "      <th>Weight</th>\n",
       "      <th>Item/Bottle Count</th>\n",
       "    </tr>\n",
       "  </thead>\n",
       "  <tbody>\n",
       "    <tr>\n",
       "      <th>32226</th>\n",
       "      <td>Ecom3</td>\n",
       "      <td>Delivered</td>\n",
       "      <td>5/26/20</td>\n",
       "      <td>Morristown</td>\n",
       "      <td>NJ</td>\n",
       "      <td>7960</td>\n",
       "      <td>UPS</td>\n",
       "      <td>5/25/20</td>\n",
       "      <td>14.0</td>\n",
       "      <td>4</td>\n",
       "    </tr>\n",
       "    <tr>\n",
       "      <th>32227</th>\n",
       "      <td>Ecom3</td>\n",
       "      <td>Delivered</td>\n",
       "      <td>5/28/20</td>\n",
       "      <td>San Jose</td>\n",
       "      <td>CA</td>\n",
       "      <td>95120</td>\n",
       "      <td>UPS</td>\n",
       "      <td>5/25/20</td>\n",
       "      <td>26.0</td>\n",
       "      <td>7</td>\n",
       "    </tr>\n",
       "    <tr>\n",
       "      <th>32228</th>\n",
       "      <td>Ecom3</td>\n",
       "      <td>In Transit</td>\n",
       "      <td>5/30/20</td>\n",
       "      <td>Glenview</td>\n",
       "      <td>IL</td>\n",
       "      <td>60025</td>\n",
       "      <td>UPS</td>\n",
       "      <td>5/28/20</td>\n",
       "      <td>18.5</td>\n",
       "      <td>5</td>\n",
       "    </tr>\n",
       "    <tr>\n",
       "      <th>32229</th>\n",
       "      <td>Ecom3</td>\n",
       "      <td>In Transit</td>\n",
       "      <td>5/28/20</td>\n",
       "      <td>Atlanta</td>\n",
       "      <td>GA</td>\n",
       "      <td>30327</td>\n",
       "      <td>UPS</td>\n",
       "      <td>5/22/20</td>\n",
       "      <td>29.0</td>\n",
       "      <td>8</td>\n",
       "    </tr>\n",
       "    <tr>\n",
       "      <th>32230</th>\n",
       "      <td>Ecom3</td>\n",
       "      <td>In Transit</td>\n",
       "      <td>5/29/20</td>\n",
       "      <td>Atlanta</td>\n",
       "      <td>GA</td>\n",
       "      <td>30327</td>\n",
       "      <td>UPS</td>\n",
       "      <td>5/22/20</td>\n",
       "      <td>27.0</td>\n",
       "      <td>4</td>\n",
       "    </tr>\n",
       "  </tbody>\n",
       "</table>\n",
       "</div>"
      ],
      "text/plain": [
       "      Company Name      Status Ship Date        City State    Zip  \\\n",
       "32226        Ecom3   Delivered   5/26/20  Morristown    NJ   7960   \n",
       "32227        Ecom3   Delivered   5/28/20    San Jose    CA  95120   \n",
       "32228        Ecom3  In Transit   5/30/20    Glenview    IL  60025   \n",
       "32229        Ecom3  In Transit   5/28/20     Atlanta    GA  30327   \n",
       "32230        Ecom3  In Transit   5/29/20     Atlanta    GA  30327   \n",
       "\n",
       "      Shipping Service Created Date  Weight  Item/Bottle Count  \n",
       "32226              UPS      5/25/20    14.0                  4  \n",
       "32227              UPS      5/25/20    26.0                  7  \n",
       "32228              UPS      5/28/20    18.5                  5  \n",
       "32229              UPS      5/22/20    29.0                  8  \n",
       "32230              UPS      5/22/20    27.0                  4  "
      ]
     },
     "execution_count": 5,
     "metadata": {},
     "output_type": "execute_result"
    }
   ],
   "source": [
    "#See the last rows of data\n",
    "df_2020_05.tail(5)"
   ]
  },
  {
   "cell_type": "code",
   "execution_count": 6,
   "id": "a820ba41",
   "metadata": {},
   "outputs": [
    {
     "data": {
      "text/plain": [
       "Index(['Company Name', 'Status', 'Ship Date', 'City', 'State', 'Zip',\n",
       "       'Shipping Service', 'Created Date', 'Weight', 'Item/Bottle Count'],\n",
       "      dtype='object')"
      ]
     },
     "execution_count": 6,
     "metadata": {},
     "output_type": "execute_result"
    }
   ],
   "source": [
    "df_2020_05.columns"
   ]
  },
  {
   "cell_type": "code",
   "execution_count": 7,
   "id": "7410d9e5",
   "metadata": {},
   "outputs": [
    {
     "name": "stdout",
     "output_type": "stream",
     "text": [
      "Number of Rows:  32231\n",
      "Number of Columns:  10\n"
     ]
    }
   ],
   "source": [
    "#Determine total rows for df_2020_05.\n",
    "df_2020_05_rows = len(df_2020_05.axes[0])\n",
    "df_2020_05_cols = len(df_2020_05.axes[1])\n",
    "print(\"Number of Rows: \", df_2020_05_rows)\n",
    "print(\"Number of Columns: \", df_2020_05_cols)"
   ]
  },
  {
   "cell_type": "code",
   "execution_count": 8,
   "id": "4caf57c3",
   "metadata": {},
   "outputs": [
    {
     "data": {
      "text/plain": [
       "Company Name         0\n",
       "Status               0\n",
       "Ship Date            0\n",
       "City                 0\n",
       "State                0\n",
       "Zip                  0\n",
       "Shipping Service     0\n",
       "Created Date         0\n",
       "Weight               0\n",
       "Item/Bottle Count    0\n",
       "dtype: int64"
      ]
     },
     "execution_count": 8,
     "metadata": {},
     "output_type": "execute_result"
    }
   ],
   "source": [
    "# Determine if there are any missing values in df_2020_05.\n",
    "df_2020_05.isnull().sum()"
   ]
  },
  {
   "cell_type": "code",
   "execution_count": 9,
   "id": "d2ad8510",
   "metadata": {},
   "outputs": [
    {
     "data": {
      "text/plain": [
       "Company Name          object\n",
       "Status                object\n",
       "Ship Date             object\n",
       "City                  object\n",
       "State                 object\n",
       "Zip                   object\n",
       "Shipping Service      object\n",
       "Created Date          object\n",
       "Weight               float64\n",
       "Item/Bottle Count      int64\n",
       "dtype: object"
      ]
     },
     "execution_count": 9,
     "metadata": {},
     "output_type": "execute_result"
    }
   ],
   "source": [
    "# Determine data types for df_2020_05.\n",
    "df_2020_05.dtypes"
   ]
  },
  {
   "cell_type": "code",
   "execution_count": 10,
   "id": "4061fbbf",
   "metadata": {},
   "outputs": [
    {
     "data": {
      "text/plain": [
       "Ecom3      15823\n",
       "Ecom2      11335\n",
       "Ecom1       4648\n",
       "Winery1      364\n",
       "Winery2       61\n",
       "Name: Company Name, dtype: int64"
      ]
     },
     "execution_count": 10,
     "metadata": {},
     "output_type": "execute_result"
    }
   ],
   "source": [
    "df_2020_05['Company Name'].value_counts()"
   ]
  },
  {
   "cell_type": "code",
   "execution_count": 11,
   "id": "aac39571",
   "metadata": {},
   "outputs": [
    {
     "data": {
      "text/plain": [
       "5/21/20    12132\n",
       "5/18/20     1647\n",
       "5/11/20     1529\n",
       "5/13/20     1313\n",
       "5/26/20     1155\n",
       "5/22/20     1149\n",
       "5/29/20     1084\n",
       "5/4/20      1072\n",
       "5/20/20     1062\n",
       "5/27/20      943\n",
       "5/8/20       942\n",
       "5/28/20      927\n",
       "5/5/20       923\n",
       "5/12/20      879\n",
       "5/7/20       866\n",
       "5/15/20      784\n",
       "5/19/20      737\n",
       "5/6/20       729\n",
       "5/14/20      700\n",
       "5/23/20      662\n",
       "5/1/20       526\n",
       "5/30/20      263\n",
       "5/10/20      207\n",
       "Name: Ship Date, dtype: int64"
      ]
     },
     "execution_count": 11,
     "metadata": {},
     "output_type": "execute_result"
    }
   ],
   "source": [
    "df_2020_05['Ship Date'].value_counts()"
   ]
  },
  {
   "cell_type": "code",
   "execution_count": 12,
   "id": "ff45ee9d",
   "metadata": {},
   "outputs": [
    {
     "data": {
      "text/plain": [
       "In Transit           15005\n",
       "Delivered            13705\n",
       "Shipped               3098\n",
       "Carrier Exception      329\n",
       "Delivery Attempt        94\n",
       "Name: Status, dtype: int64"
      ]
     },
     "execution_count": 12,
     "metadata": {},
     "output_type": "execute_result"
    }
   ],
   "source": [
    "df_2020_05['Status'].value_counts()"
   ]
  },
  {
   "cell_type": "code",
   "execution_count": 13,
   "id": "ae707cc4",
   "metadata": {},
   "outputs": [
    {
     "data": {
      "text/plain": [
       "New York          510\n",
       "Chicago           405\n",
       "Philadelphia      253\n",
       "Brooklyn          228\n",
       "Washington        218\n",
       "                 ... \n",
       "Towaco              1\n",
       "Dunlap              1\n",
       "CORAL GABLES        1\n",
       "Kingfield           1\n",
       "beverly shores      1\n",
       "Name: City, Length: 6471, dtype: int64"
      ]
     },
     "execution_count": 13,
     "metadata": {},
     "output_type": "execute_result"
    }
   ],
   "source": [
    "df_2020_05['City'].value_counts()"
   ]
  },
  {
   "cell_type": "code",
   "execution_count": 14,
   "id": "a8718b4d",
   "metadata": {},
   "outputs": [
    {
     "data": {
      "text/plain": [
       "CA    3345\n",
       "NY    3028\n",
       "PA    2512\n",
       "FL    2360\n",
       "TX    1838\n",
       "NJ    1754\n",
       "IL    1427\n",
       "MA    1277\n",
       "OH    1093\n",
       "VA    1028\n",
       "MI    1020\n",
       "GA     992\n",
       "MD     890\n",
       "NC     860\n",
       "CO     833\n",
       "CT     715\n",
       "WA     579\n",
       "IN     521\n",
       "TN     510\n",
       "AZ     464\n",
       "MN     454\n",
       "WI     453\n",
       "SC     398\n",
       "MO     387\n",
       "OR     329\n",
       "LA     312\n",
       "KS     231\n",
       "RI     223\n",
       "HI     213\n",
       "DC     210\n",
       "IA     205\n",
       "NH     194\n",
       "NE     173\n",
       "NV     162\n",
       "ME     155\n",
       "AR     126\n",
       "NM     124\n",
       "OK     115\n",
       "ID     102\n",
       "AL     101\n",
       "MT      85\n",
       "VT      81\n",
       "WV      75\n",
       "WY      73\n",
       "AK      55\n",
       "DE      54\n",
       "ND      49\n",
       "SD      46\n",
       "Name: State, dtype: int64"
      ]
     },
     "execution_count": 14,
     "metadata": {},
     "output_type": "execute_result"
    }
   ],
   "source": [
    "df_2020_05['State'].value_counts()"
   ]
  },
  {
   "cell_type": "code",
   "execution_count": 15,
   "id": "aba1ce28",
   "metadata": {},
   "outputs": [
    {
     "data": {
      "text/plain": [
       "19103    39\n",
       "19460    37\n",
       "10019    35\n",
       "19087    33\n",
       "60618    33\n",
       "         ..\n",
       "16701     1\n",
       "69149     1\n",
       "49065     1\n",
       "96101     1\n",
       "33193     1\n",
       "Name: Zip, Length: 9010, dtype: int64"
      ]
     },
     "execution_count": 15,
     "metadata": {},
     "output_type": "execute_result"
    }
   ],
   "source": [
    "df_2020_05['Zip'].value_counts()"
   ]
  },
  {
   "cell_type": "code",
   "execution_count": 16,
   "id": "85be0dcc",
   "metadata": {},
   "outputs": [
    {
     "data": {
      "text/plain": [
       "UPS     16532\n",
       "FEH     13665\n",
       "FXG      1634\n",
       "FEX       182\n",
       "LSO1      135\n",
       "UP3        29\n",
       "AZS        19\n",
       "FXE        13\n",
       "WCU        12\n",
       "UP2         8\n",
       "WCP         1\n",
       "UP1         1\n",
       "Name: Shipping Service, dtype: int64"
      ]
     },
     "execution_count": 16,
     "metadata": {},
     "output_type": "execute_result"
    }
   ],
   "source": [
    "df_2020_05['Shipping Service'].value_counts()"
   ]
  },
  {
   "cell_type": "code",
   "execution_count": 17,
   "id": "74be41f6",
   "metadata": {},
   "outputs": [
    {
     "data": {
      "text/plain": [
       "5/19/20    10699\n",
       "5/20/20     2089\n",
       "5/22/20     1294\n",
       "5/12/20     1224\n",
       "5/17/20     1049\n",
       "5/10/20      993\n",
       "5/21/20      891\n",
       "5/11/20      856\n",
       "5/7/20       849\n",
       "5/8/20       780\n",
       "5/15/20      764\n",
       "5/9/20       731\n",
       "5/25/20      672\n",
       "5/18/20      662\n",
       "5/2/20       654\n",
       "5/5/20       646\n",
       "5/23/20      617\n",
       "5/28/20      612\n",
       "5/13/20      598\n",
       "5/4/20       558\n",
       "5/3/20       548\n",
       "5/16/20      548\n",
       "5/1/20       539\n",
       "5/24/20      520\n",
       "5/26/20      499\n",
       "5/14/20      461\n",
       "4/30/20      428\n",
       "5/6/20       405\n",
       "5/29/20      395\n",
       "5/27/20      321\n",
       "4/29/20      130\n",
       "4/27/20       88\n",
       "4/28/20       61\n",
       "4/26/20       11\n",
       "2/11/20       11\n",
       "5/30/20       10\n",
       "4/23/20        6\n",
       "4/24/20        3\n",
       "4/14/20        3\n",
       "4/22/20        2\n",
       "4/20/20        2\n",
       "4/13/20        1\n",
       "4/19/20        1\n",
       "Name: Created Date, dtype: int64"
      ]
     },
     "execution_count": 17,
     "metadata": {},
     "output_type": "execute_result"
    }
   ],
   "source": [
    "df_2020_05['Created Date'].value_counts()"
   ]
  },
  {
   "cell_type": "code",
   "execution_count": 18,
   "id": "34adbd2f",
   "metadata": {},
   "outputs": [
    {
     "data": {
      "text/plain": [
       "7.00     11912\n",
       "21.50     7022\n",
       "41.00     2898\n",
       "14.00     2058\n",
       "20.20     1427\n",
       "39.00     1309\n",
       "10.50     1129\n",
       "9.90       883\n",
       "18.50      673\n",
       "29.00      538\n",
       "26.00      517\n",
       "10.00      426\n",
       "27.00      222\n",
       "35.00      176\n",
       "3.35       173\n",
       "32.00      167\n",
       "20.00      165\n",
       "4.00        65\n",
       "30.00       64\n",
       "38.00       47\n",
       "13.50       45\n",
       "19.50       45\n",
       "20.50       44\n",
       "23.20       32\n",
       "24.00       31\n",
       "33.00       25\n",
       "17.20       24\n",
       "13.00       17\n",
       "11.50       16\n",
       "19.00       12\n",
       "39.50       11\n",
       "36.00       10\n",
       "42.00        8\n",
       "23.00        4\n",
       "19.20        4\n",
       "28.00        3\n",
       "45.00        3\n",
       "17.00        3\n",
       "17.50        3\n",
       "37.00        2\n",
       "38.20        2\n",
       "15.50        2\n",
       "29.20        2\n",
       "75.00        1\n",
       "11.00        1\n",
       "6.90         1\n",
       "12.00        1\n",
       "5.00         1\n",
       "31.00        1\n",
       "56.20        1\n",
       "9.20         1\n",
       "2.00         1\n",
       "40.00        1\n",
       "2.35         1\n",
       "6.00         1\n",
       "Name: Weight, dtype: int64"
      ]
     },
     "execution_count": 18,
     "metadata": {},
     "output_type": "execute_result"
    }
   ],
   "source": [
    "df_2020_05['Weight'].value_counts()"
   ]
  },
  {
   "cell_type": "code",
   "execution_count": 19,
   "id": "73bd62e8",
   "metadata": {},
   "outputs": [
    {
     "data": {
      "text/plain": [
       "1     11601\n",
       "6      8709\n",
       "12     4189\n",
       "3      2472\n",
       "4      2277\n",
       "5       704\n",
       "2       601\n",
       "7       588\n",
       "8       584\n",
       "9       235\n",
       "10      201\n",
       "11       56\n",
       "13        9\n",
       "14        3\n",
       "18        1\n",
       "24        1\n",
       "Name: Item/Bottle Count, dtype: int64"
      ]
     },
     "execution_count": 19,
     "metadata": {},
     "output_type": "execute_result"
    }
   ],
   "source": [
    "df_2020_05['Item/Bottle Count'].value_counts()"
   ]
  },
  {
   "cell_type": "markdown",
   "id": "b28748d1",
   "metadata": {},
   "source": [
    "## Clean the Data"
   ]
  },
  {
   "cell_type": "code",
   "execution_count": 20,
   "id": "ae2074b6",
   "metadata": {},
   "outputs": [
    {
     "data": {
      "text/plain": [
       "Company Name          object\n",
       "Status                object\n",
       "Ship Date             object\n",
       "City                  object\n",
       "State                 object\n",
       "Zip                   object\n",
       "Shipping Service      object\n",
       "Created Date          object\n",
       "Weight               float64\n",
       "Item/Bottle Count    float64\n",
       "dtype: object"
      ]
     },
     "execution_count": 20,
     "metadata": {},
     "output_type": "execute_result"
    }
   ],
   "source": [
    "#Change [\"Item/Bottle Count\"] to float64 type in df_2020_05.\n",
    "df_2020_05[\"Item/Bottle Count\"]=df_2020_05[\"Item/Bottle Count\"].astype(float)\n",
    "df_2020_05.dtypes"
   ]
  },
  {
   "cell_type": "code",
   "execution_count": 21,
   "id": "2de5f1ce",
   "metadata": {},
   "outputs": [
    {
     "data": {
      "text/html": [
       "<div>\n",
       "<style scoped>\n",
       "    .dataframe tbody tr th:only-of-type {\n",
       "        vertical-align: middle;\n",
       "    }\n",
       "\n",
       "    .dataframe tbody tr th {\n",
       "        vertical-align: top;\n",
       "    }\n",
       "\n",
       "    .dataframe thead th {\n",
       "        text-align: right;\n",
       "    }\n",
       "</style>\n",
       "<table border=\"1\" class=\"dataframe\">\n",
       "  <thead>\n",
       "    <tr style=\"text-align: right;\">\n",
       "      <th></th>\n",
       "      <th>Company Name</th>\n",
       "      <th>Ship Date</th>\n",
       "      <th>City</th>\n",
       "      <th>State</th>\n",
       "      <th>Zip</th>\n",
       "      <th>Shipping Service</th>\n",
       "      <th>Created Date</th>\n",
       "      <th>Weight</th>\n",
       "      <th>Item/Bottle Count</th>\n",
       "    </tr>\n",
       "  </thead>\n",
       "  <tbody>\n",
       "    <tr>\n",
       "      <th>0</th>\n",
       "      <td>Ecom1</td>\n",
       "      <td>5/1/20</td>\n",
       "      <td>Edmond</td>\n",
       "      <td>OK</td>\n",
       "      <td>73034</td>\n",
       "      <td>LSO1</td>\n",
       "      <td>4/19/20</td>\n",
       "      <td>10.5</td>\n",
       "      <td>3.0</td>\n",
       "    </tr>\n",
       "    <tr>\n",
       "      <th>1</th>\n",
       "      <td>Ecom1</td>\n",
       "      <td>5/1/20</td>\n",
       "      <td>Snohomish</td>\n",
       "      <td>WA</td>\n",
       "      <td>98296</td>\n",
       "      <td>FEH</td>\n",
       "      <td>4/22/20</td>\n",
       "      <td>20.2</td>\n",
       "      <td>6.0</td>\n",
       "    </tr>\n",
       "    <tr>\n",
       "      <th>2</th>\n",
       "      <td>Ecom1</td>\n",
       "      <td>5/1/20</td>\n",
       "      <td>Denver</td>\n",
       "      <td>CO</td>\n",
       "      <td>80209</td>\n",
       "      <td>UPS</td>\n",
       "      <td>4/24/20</td>\n",
       "      <td>20.2</td>\n",
       "      <td>6.0</td>\n",
       "    </tr>\n",
       "    <tr>\n",
       "      <th>3</th>\n",
       "      <td>Ecom1</td>\n",
       "      <td>5/1/20</td>\n",
       "      <td>San Diego</td>\n",
       "      <td>CA</td>\n",
       "      <td>92115</td>\n",
       "      <td>FXG</td>\n",
       "      <td>4/24/20</td>\n",
       "      <td>10.5</td>\n",
       "      <td>3.0</td>\n",
       "    </tr>\n",
       "    <tr>\n",
       "      <th>4</th>\n",
       "      <td>Ecom1</td>\n",
       "      <td>5/1/20</td>\n",
       "      <td>Seattle</td>\n",
       "      <td>WA</td>\n",
       "      <td>98104</td>\n",
       "      <td>FEH</td>\n",
       "      <td>4/26/20</td>\n",
       "      <td>39.0</td>\n",
       "      <td>12.0</td>\n",
       "    </tr>\n",
       "    <tr>\n",
       "      <th>...</th>\n",
       "      <td>...</td>\n",
       "      <td>...</td>\n",
       "      <td>...</td>\n",
       "      <td>...</td>\n",
       "      <td>...</td>\n",
       "      <td>...</td>\n",
       "      <td>...</td>\n",
       "      <td>...</td>\n",
       "      <td>...</td>\n",
       "    </tr>\n",
       "    <tr>\n",
       "      <th>32226</th>\n",
       "      <td>Ecom3</td>\n",
       "      <td>5/26/20</td>\n",
       "      <td>Morristown</td>\n",
       "      <td>NJ</td>\n",
       "      <td>7960</td>\n",
       "      <td>UPS</td>\n",
       "      <td>5/25/20</td>\n",
       "      <td>14.0</td>\n",
       "      <td>4.0</td>\n",
       "    </tr>\n",
       "    <tr>\n",
       "      <th>32227</th>\n",
       "      <td>Ecom3</td>\n",
       "      <td>5/28/20</td>\n",
       "      <td>San Jose</td>\n",
       "      <td>CA</td>\n",
       "      <td>95120</td>\n",
       "      <td>UPS</td>\n",
       "      <td>5/25/20</td>\n",
       "      <td>26.0</td>\n",
       "      <td>7.0</td>\n",
       "    </tr>\n",
       "    <tr>\n",
       "      <th>32228</th>\n",
       "      <td>Ecom3</td>\n",
       "      <td>5/30/20</td>\n",
       "      <td>Glenview</td>\n",
       "      <td>IL</td>\n",
       "      <td>60025</td>\n",
       "      <td>UPS</td>\n",
       "      <td>5/28/20</td>\n",
       "      <td>18.5</td>\n",
       "      <td>5.0</td>\n",
       "    </tr>\n",
       "    <tr>\n",
       "      <th>32229</th>\n",
       "      <td>Ecom3</td>\n",
       "      <td>5/28/20</td>\n",
       "      <td>Atlanta</td>\n",
       "      <td>GA</td>\n",
       "      <td>30327</td>\n",
       "      <td>UPS</td>\n",
       "      <td>5/22/20</td>\n",
       "      <td>29.0</td>\n",
       "      <td>8.0</td>\n",
       "    </tr>\n",
       "    <tr>\n",
       "      <th>32230</th>\n",
       "      <td>Ecom3</td>\n",
       "      <td>5/29/20</td>\n",
       "      <td>Atlanta</td>\n",
       "      <td>GA</td>\n",
       "      <td>30327</td>\n",
       "      <td>UPS</td>\n",
       "      <td>5/22/20</td>\n",
       "      <td>27.0</td>\n",
       "      <td>4.0</td>\n",
       "    </tr>\n",
       "  </tbody>\n",
       "</table>\n",
       "<p>32231 rows × 9 columns</p>\n",
       "</div>"
      ],
      "text/plain": [
       "      Company Name Ship Date        City State    Zip Shipping Service  \\\n",
       "0            Ecom1    5/1/20      Edmond    OK  73034             LSO1   \n",
       "1            Ecom1    5/1/20   Snohomish    WA  98296              FEH   \n",
       "2            Ecom1    5/1/20      Denver    CO  80209              UPS   \n",
       "3            Ecom1    5/1/20   San Diego    CA  92115              FXG   \n",
       "4            Ecom1    5/1/20     Seattle    WA  98104              FEH   \n",
       "...            ...       ...         ...   ...    ...              ...   \n",
       "32226        Ecom3   5/26/20  Morristown    NJ   7960              UPS   \n",
       "32227        Ecom3   5/28/20    San Jose    CA  95120              UPS   \n",
       "32228        Ecom3   5/30/20    Glenview    IL  60025              UPS   \n",
       "32229        Ecom3   5/28/20     Atlanta    GA  30327              UPS   \n",
       "32230        Ecom3   5/29/20     Atlanta    GA  30327              UPS   \n",
       "\n",
       "      Created Date  Weight  Item/Bottle Count  \n",
       "0          4/19/20    10.5                3.0  \n",
       "1          4/22/20    20.2                6.0  \n",
       "2          4/24/20    20.2                6.0  \n",
       "3          4/24/20    10.5                3.0  \n",
       "4          4/26/20    39.0               12.0  \n",
       "...            ...     ...                ...  \n",
       "32226      5/25/20    14.0                4.0  \n",
       "32227      5/25/20    26.0                7.0  \n",
       "32228      5/28/20    18.5                5.0  \n",
       "32229      5/22/20    29.0                8.0  \n",
       "32230      5/22/20    27.0                4.0  \n",
       "\n",
       "[32231 rows x 9 columns]"
      ]
     },
     "execution_count": 21,
     "metadata": {},
     "output_type": "execute_result"
    }
   ],
   "source": [
    "#Remove \"Status\" column from df_2020_05.\n",
    "df_2020_05 = df_2020_05.drop('Status', axis=1)\n",
    "df_2020_05"
   ]
  },
  {
   "cell_type": "code",
   "execution_count": 22,
   "id": "0374b7d7",
   "metadata": {},
   "outputs": [],
   "source": [
    "# Drop the NaNs for df_2020_05.\n",
    "df_2020_05 = df_2020_05.dropna()"
   ]
  },
  {
   "cell_type": "markdown",
   "id": "b54ac18d",
   "metadata": {},
   "source": [
    "## Confirm Changes"
   ]
  },
  {
   "cell_type": "code",
   "execution_count": 23,
   "id": "717b65ec",
   "metadata": {},
   "outputs": [
    {
     "data": {
      "text/html": [
       "<div>\n",
       "<style scoped>\n",
       "    .dataframe tbody tr th:only-of-type {\n",
       "        vertical-align: middle;\n",
       "    }\n",
       "\n",
       "    .dataframe tbody tr th {\n",
       "        vertical-align: top;\n",
       "    }\n",
       "\n",
       "    .dataframe thead th {\n",
       "        text-align: right;\n",
       "    }\n",
       "</style>\n",
       "<table border=\"1\" class=\"dataframe\">\n",
       "  <thead>\n",
       "    <tr style=\"text-align: right;\">\n",
       "      <th></th>\n",
       "      <th>Company Name</th>\n",
       "      <th>Ship Date</th>\n",
       "      <th>City</th>\n",
       "      <th>State</th>\n",
       "      <th>Zip</th>\n",
       "      <th>Shipping Service</th>\n",
       "      <th>Created Date</th>\n",
       "      <th>Weight</th>\n",
       "      <th>Item/Bottle Count</th>\n",
       "    </tr>\n",
       "  </thead>\n",
       "  <tbody>\n",
       "    <tr>\n",
       "      <th>21441</th>\n",
       "      <td>Ecom2</td>\n",
       "      <td>5/21/20</td>\n",
       "      <td>Urbana</td>\n",
       "      <td>OH</td>\n",
       "      <td>43078</td>\n",
       "      <td>FEH</td>\n",
       "      <td>5/19/20</td>\n",
       "      <td>7.0</td>\n",
       "      <td>1.0</td>\n",
       "    </tr>\n",
       "    <tr>\n",
       "      <th>15644</th>\n",
       "      <td>Ecom2</td>\n",
       "      <td>5/21/20</td>\n",
       "      <td>Hackettstown</td>\n",
       "      <td>NJ</td>\n",
       "      <td>7840</td>\n",
       "      <td>FEH</td>\n",
       "      <td>5/19/20</td>\n",
       "      <td>7.0</td>\n",
       "      <td>1.0</td>\n",
       "    </tr>\n",
       "    <tr>\n",
       "      <th>7590</th>\n",
       "      <td>Ecom3</td>\n",
       "      <td>5/13/20</td>\n",
       "      <td>NEW YORK</td>\n",
       "      <td>NY</td>\n",
       "      <td>10024</td>\n",
       "      <td>FEH</td>\n",
       "      <td>5/10/20</td>\n",
       "      <td>21.5</td>\n",
       "      <td>6.0</td>\n",
       "    </tr>\n",
       "    <tr>\n",
       "      <th>3292</th>\n",
       "      <td>Ecom3</td>\n",
       "      <td>5/7/20</td>\n",
       "      <td>San Diego</td>\n",
       "      <td>CA</td>\n",
       "      <td>92109</td>\n",
       "      <td>UPS</td>\n",
       "      <td>5/7/20</td>\n",
       "      <td>41.0</td>\n",
       "      <td>12.0</td>\n",
       "    </tr>\n",
       "    <tr>\n",
       "      <th>29305</th>\n",
       "      <td>Ecom3</td>\n",
       "      <td>5/28/20</td>\n",
       "      <td>NEW YORK</td>\n",
       "      <td>NY</td>\n",
       "      <td>10128</td>\n",
       "      <td>UPS</td>\n",
       "      <td>5/22/20</td>\n",
       "      <td>21.5</td>\n",
       "      <td>6.0</td>\n",
       "    </tr>\n",
       "  </tbody>\n",
       "</table>\n",
       "</div>"
      ],
      "text/plain": [
       "      Company Name Ship Date          City State    Zip Shipping Service  \\\n",
       "21441        Ecom2   5/21/20        Urbana    OH  43078              FEH   \n",
       "15644        Ecom2   5/21/20  Hackettstown    NJ   7840              FEH   \n",
       "7590         Ecom3   5/13/20      NEW YORK    NY  10024              FEH   \n",
       "3292         Ecom3    5/7/20     San Diego    CA  92109              UPS   \n",
       "29305        Ecom3   5/28/20      NEW YORK    NY  10128              UPS   \n",
       "\n",
       "      Created Date  Weight  Item/Bottle Count  \n",
       "21441      5/19/20     7.0                1.0  \n",
       "15644      5/19/20     7.0                1.0  \n",
       "7590       5/10/20    21.5                6.0  \n",
       "3292        5/7/20    41.0               12.0  \n",
       "29305      5/22/20    21.5                6.0  "
      ]
     },
     "execution_count": 23,
     "metadata": {},
     "output_type": "execute_result"
    }
   ],
   "source": [
    "#See five random rows of data\n",
    "df_2020_05.sample(n=5)"
   ]
  },
  {
   "cell_type": "code",
   "execution_count": 24,
   "id": "2f59ad5f",
   "metadata": {},
   "outputs": [
    {
     "name": "stdout",
     "output_type": "stream",
     "text": [
      "Number of Rows:  32231\n",
      "Number of Columns:  9\n"
     ]
    }
   ],
   "source": [
    "#Determine total rows for df_2020_05.\n",
    "df_2020_05_rows = len(df_2020_05.axes[0])\n",
    "df_2020_05_cols = len(df_2020_05.axes[1])\n",
    "print(\"Number of Rows: \", df_2020_05_rows)\n",
    "print(\"Number of Columns: \", df_2020_05_cols)"
   ]
  },
  {
   "cell_type": "markdown",
   "id": "625b4837",
   "metadata": {},
   "source": [
    "## Export Cleaned df to .CSV"
   ]
  },
  {
   "cell_type": "code",
   "execution_count": 31,
   "id": "f5a7980c",
   "metadata": {},
   "outputs": [],
   "source": [
    "#Export df_2020_05 to .csv\n",
    "df_2020_05.to_csv('../cleaned_months_2020/Clean_2020_05.csv') "
   ]
  },
  {
   "cell_type": "code",
   "execution_count": null,
   "id": "aafdefb9",
   "metadata": {},
   "outputs": [],
   "source": []
  }
 ],
 "metadata": {
  "kernelspec": {
   "display_name": "Python 3 (ipykernel)",
   "language": "python",
   "name": "python3"
  },
  "language_info": {
   "codemirror_mode": {
    "name": "ipython",
    "version": 3
   },
   "file_extension": ".py",
   "mimetype": "text/x-python",
   "name": "python",
   "nbconvert_exporter": "python",
   "pygments_lexer": "ipython3",
   "version": "3.7.13"
  }
 },
 "nbformat": 4,
 "nbformat_minor": 5
}
