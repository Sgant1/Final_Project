{
 "cells": [
  {
   "cell_type": "code",
   "execution_count": 1,
   "id": "1f30ec89",
   "metadata": {},
   "outputs": [],
   "source": [
    "#Pandas library to create DataFrames\n",
    "import pandas as pd\n",
    "#NumPy library for converting data types\n",
    "import numpy as np"
   ]
  },
  {
   "cell_type": "code",
   "execution_count": 2,
   "id": "7d4569c3",
   "metadata": {},
   "outputs": [],
   "source": [
    "# Files to load\n",
    "load_2020_05 = \"../../2020_Data/2020.05.csv\""
   ]
  },
  {
   "cell_type": "code",
   "execution_count": 3,
   "id": "5bf26e77",
   "metadata": {},
   "outputs": [
    {
     "data": {
      "text/html": [
       "<div>\n",
       "<style scoped>\n",
       "    .dataframe tbody tr th:only-of-type {\n",
       "        vertical-align: middle;\n",
       "    }\n",
       "\n",
       "    .dataframe tbody tr th {\n",
       "        vertical-align: top;\n",
       "    }\n",
       "\n",
       "    .dataframe thead th {\n",
       "        text-align: right;\n",
       "    }\n",
       "</style>\n",
       "<table border=\"1\" class=\"dataframe\">\n",
       "  <thead>\n",
       "    <tr style=\"text-align: right;\">\n",
       "      <th></th>\n",
       "      <th>Company Name</th>\n",
       "      <th>Status</th>\n",
       "      <th>Ship Date</th>\n",
       "      <th>City</th>\n",
       "      <th>State</th>\n",
       "      <th>Zip</th>\n",
       "      <th>Shipping Service</th>\n",
       "      <th>Created Date</th>\n",
       "      <th>Weight</th>\n",
       "      <th>Item/Bottle Count</th>\n",
       "    </tr>\n",
       "  </thead>\n",
       "  <tbody>\n",
       "    <tr>\n",
       "      <th>0</th>\n",
       "      <td>Ecom1</td>\n",
       "      <td>Shipped</td>\n",
       "      <td>43952.87139</td>\n",
       "      <td>Edmond</td>\n",
       "      <td>OK</td>\n",
       "      <td>73034</td>\n",
       "      <td>LSO1</td>\n",
       "      <td>43940.85348</td>\n",
       "      <td>10.5</td>\n",
       "      <td>3</td>\n",
       "    </tr>\n",
       "    <tr>\n",
       "      <th>1</th>\n",
       "      <td>Ecom1</td>\n",
       "      <td>In Transit</td>\n",
       "      <td>43952.87149</td>\n",
       "      <td>Snohomish</td>\n",
       "      <td>WA</td>\n",
       "      <td>98296</td>\n",
       "      <td>FEH</td>\n",
       "      <td>43943.52123</td>\n",
       "      <td>20.2</td>\n",
       "      <td>6</td>\n",
       "    </tr>\n",
       "    <tr>\n",
       "      <th>2</th>\n",
       "      <td>Ecom1</td>\n",
       "      <td>In Transit</td>\n",
       "      <td>43952.87149</td>\n",
       "      <td>Denver</td>\n",
       "      <td>CO</td>\n",
       "      <td>80209</td>\n",
       "      <td>UPS</td>\n",
       "      <td>43945.43794</td>\n",
       "      <td>20.2</td>\n",
       "      <td>6</td>\n",
       "    </tr>\n",
       "    <tr>\n",
       "      <th>3</th>\n",
       "      <td>Ecom1</td>\n",
       "      <td>In Transit</td>\n",
       "      <td>43952.87148</td>\n",
       "      <td>San Diego</td>\n",
       "      <td>CA</td>\n",
       "      <td>92115</td>\n",
       "      <td>FXG</td>\n",
       "      <td>43945.60456</td>\n",
       "      <td>10.5</td>\n",
       "      <td>3</td>\n",
       "    </tr>\n",
       "    <tr>\n",
       "      <th>4</th>\n",
       "      <td>Ecom1</td>\n",
       "      <td>In Transit</td>\n",
       "      <td>43952.87148</td>\n",
       "      <td>Seattle</td>\n",
       "      <td>WA</td>\n",
       "      <td>98104</td>\n",
       "      <td>FEH</td>\n",
       "      <td>43947.43795</td>\n",
       "      <td>39.0</td>\n",
       "      <td>12</td>\n",
       "    </tr>\n",
       "  </tbody>\n",
       "</table>\n",
       "</div>"
      ],
      "text/plain": [
       "  Company Name      Status    Ship Date       City State    Zip  \\\n",
       "0        Ecom1     Shipped  43952.87139     Edmond    OK  73034   \n",
       "1        Ecom1  In Transit  43952.87149  Snohomish    WA  98296   \n",
       "2        Ecom1  In Transit  43952.87149     Denver    CO  80209   \n",
       "3        Ecom1  In Transit  43952.87148  San Diego    CA  92115   \n",
       "4        Ecom1  In Transit  43952.87148    Seattle    WA  98104   \n",
       "\n",
       "  Shipping Service Created Date  Weight  Item/Bottle Count  \n",
       "0             LSO1  43940.85348    10.5                  3  \n",
       "1              FEH  43943.52123    20.2                  6  \n",
       "2              UPS  43945.43794    20.2                  6  \n",
       "3              FXG  43945.60456    10.5                  3  \n",
       "4              FEH  43947.43795    39.0                 12  "
      ]
     },
     "execution_count": 3,
     "metadata": {},
     "output_type": "execute_result"
    }
   ],
   "source": [
    "# Read the May CSV into a DataFrame\n",
    "#Had to open each file in excel and save it as a .csv file instead of an .xlsm file in order for the encryption to be read properly.\n",
    "df_2020_05 = pd.read_csv(load_2020_05)\n",
    "df_2020_05.head()"
   ]
  },
  {
   "cell_type": "markdown",
   "id": "175df6a6",
   "metadata": {},
   "source": [
    "## Inspect the Data"
   ]
  },
  {
   "cell_type": "code",
   "execution_count": 4,
   "id": "2cdb2387",
   "metadata": {},
   "outputs": [
    {
     "data": {
      "text/html": [
       "<div>\n",
       "<style scoped>\n",
       "    .dataframe tbody tr th:only-of-type {\n",
       "        vertical-align: middle;\n",
       "    }\n",
       "\n",
       "    .dataframe tbody tr th {\n",
       "        vertical-align: top;\n",
       "    }\n",
       "\n",
       "    .dataframe thead th {\n",
       "        text-align: right;\n",
       "    }\n",
       "</style>\n",
       "<table border=\"1\" class=\"dataframe\">\n",
       "  <thead>\n",
       "    <tr style=\"text-align: right;\">\n",
       "      <th></th>\n",
       "      <th>Company Name</th>\n",
       "      <th>Status</th>\n",
       "      <th>Ship Date</th>\n",
       "      <th>City</th>\n",
       "      <th>State</th>\n",
       "      <th>Zip</th>\n",
       "      <th>Shipping Service</th>\n",
       "      <th>Created Date</th>\n",
       "      <th>Weight</th>\n",
       "      <th>Item/Bottle Count</th>\n",
       "    </tr>\n",
       "  </thead>\n",
       "  <tbody>\n",
       "    <tr>\n",
       "      <th>17536</th>\n",
       "      <td>Ecom2</td>\n",
       "      <td>In Transit</td>\n",
       "      <td>43972.78063</td>\n",
       "      <td>Westminster</td>\n",
       "      <td>MD</td>\n",
       "      <td>21158</td>\n",
       "      <td>FEH</td>\n",
       "      <td>43970.8298</td>\n",
       "      <td>7.0</td>\n",
       "      <td>1</td>\n",
       "    </tr>\n",
       "    <tr>\n",
       "      <th>25312</th>\n",
       "      <td>Ecom3</td>\n",
       "      <td>In Transit</td>\n",
       "      <td>43969.62855</td>\n",
       "      <td>Albuquerque</td>\n",
       "      <td>NM</td>\n",
       "      <td>87114</td>\n",
       "      <td>FEH</td>\n",
       "      <td>43968.68831</td>\n",
       "      <td>21.5</td>\n",
       "      <td>6</td>\n",
       "    </tr>\n",
       "    <tr>\n",
       "      <th>18228</th>\n",
       "      <td>Ecom2</td>\n",
       "      <td>In Transit</td>\n",
       "      <td>43972.73215</td>\n",
       "      <td>Bloomington</td>\n",
       "      <td>IL</td>\n",
       "      <td>61704</td>\n",
       "      <td>FEH</td>\n",
       "      <td>43970.68071</td>\n",
       "      <td>7.0</td>\n",
       "      <td>1</td>\n",
       "    </tr>\n",
       "    <tr>\n",
       "      <th>21498</th>\n",
       "      <td>Ecom2</td>\n",
       "      <td>In Transit</td>\n",
       "      <td>43972.75764</td>\n",
       "      <td>Gloucester</td>\n",
       "      <td>MA</td>\n",
       "      <td>1930</td>\n",
       "      <td>UPS</td>\n",
       "      <td>43970.71571</td>\n",
       "      <td>7.0</td>\n",
       "      <td>1</td>\n",
       "    </tr>\n",
       "    <tr>\n",
       "      <th>16350</th>\n",
       "      <td>Ecom2</td>\n",
       "      <td>Shipped</td>\n",
       "      <td>43972.76059</td>\n",
       "      <td>Santa Clara</td>\n",
       "      <td>CA</td>\n",
       "      <td>95054</td>\n",
       "      <td>UPS</td>\n",
       "      <td>43970.8198</td>\n",
       "      <td>7.0</td>\n",
       "      <td>1</td>\n",
       "    </tr>\n",
       "  </tbody>\n",
       "</table>\n",
       "</div>"
      ],
      "text/plain": [
       "      Company Name      Status    Ship Date         City State    Zip  \\\n",
       "17536        Ecom2  In Transit  43972.78063  Westminster    MD  21158   \n",
       "25312        Ecom3  In Transit  43969.62855  Albuquerque    NM  87114   \n",
       "18228        Ecom2  In Transit  43972.73215  Bloomington    IL  61704   \n",
       "21498        Ecom2  In Transit  43972.75764   Gloucester    MA   1930   \n",
       "16350        Ecom2     Shipped  43972.76059  Santa Clara    CA  95054   \n",
       "\n",
       "      Shipping Service Created Date  Weight  Item/Bottle Count  \n",
       "17536              FEH   43970.8298     7.0                  1  \n",
       "25312              FEH  43968.68831    21.5                  6  \n",
       "18228              FEH  43970.68071     7.0                  1  \n",
       "21498              UPS  43970.71571     7.0                  1  \n",
       "16350              UPS   43970.8198     7.0                  1  "
      ]
     },
     "execution_count": 4,
     "metadata": {},
     "output_type": "execute_result"
    }
   ],
   "source": [
    "#See five random rows of data\n",
    "df_2020_05.sample(n=5)"
   ]
  },
  {
   "cell_type": "code",
   "execution_count": 5,
   "id": "a7bdb733",
   "metadata": {},
   "outputs": [
    {
     "data": {
      "text/html": [
       "<div>\n",
       "<style scoped>\n",
       "    .dataframe tbody tr th:only-of-type {\n",
       "        vertical-align: middle;\n",
       "    }\n",
       "\n",
       "    .dataframe tbody tr th {\n",
       "        vertical-align: top;\n",
       "    }\n",
       "\n",
       "    .dataframe thead th {\n",
       "        text-align: right;\n",
       "    }\n",
       "</style>\n",
       "<table border=\"1\" class=\"dataframe\">\n",
       "  <thead>\n",
       "    <tr style=\"text-align: right;\">\n",
       "      <th></th>\n",
       "      <th>Company Name</th>\n",
       "      <th>Status</th>\n",
       "      <th>Ship Date</th>\n",
       "      <th>City</th>\n",
       "      <th>State</th>\n",
       "      <th>Zip</th>\n",
       "      <th>Shipping Service</th>\n",
       "      <th>Created Date</th>\n",
       "      <th>Weight</th>\n",
       "      <th>Item/Bottle Count</th>\n",
       "    </tr>\n",
       "  </thead>\n",
       "  <tbody>\n",
       "    <tr>\n",
       "      <th>32424</th>\n",
       "      <td>Winery3</td>\n",
       "      <td>Shipped</td>\n",
       "      <td>5/27/2020</td>\n",
       "      <td>Napa</td>\n",
       "      <td>CA</td>\n",
       "      <td>94558</td>\n",
       "      <td>WCU</td>\n",
       "      <td>5/27/2020</td>\n",
       "      <td>39.0</td>\n",
       "      <td>12</td>\n",
       "    </tr>\n",
       "    <tr>\n",
       "      <th>32425</th>\n",
       "      <td>Winery3</td>\n",
       "      <td>Shipped</td>\n",
       "      <td>5/27/2020</td>\n",
       "      <td>Napa</td>\n",
       "      <td>CA</td>\n",
       "      <td>94558</td>\n",
       "      <td>WCU</td>\n",
       "      <td>5/27/2020</td>\n",
       "      <td>20.2</td>\n",
       "      <td>6</td>\n",
       "    </tr>\n",
       "    <tr>\n",
       "      <th>32426</th>\n",
       "      <td>Winery3</td>\n",
       "      <td>Shipped</td>\n",
       "      <td>5/27/2020</td>\n",
       "      <td>Napa</td>\n",
       "      <td>CA</td>\n",
       "      <td>94558</td>\n",
       "      <td>WCU</td>\n",
       "      <td>5/27/2020</td>\n",
       "      <td>20.2</td>\n",
       "      <td>6</td>\n",
       "    </tr>\n",
       "    <tr>\n",
       "      <th>32427</th>\n",
       "      <td>Winery3</td>\n",
       "      <td>Shipped</td>\n",
       "      <td>5/27/2020</td>\n",
       "      <td>Napa</td>\n",
       "      <td>CA</td>\n",
       "      <td>94558</td>\n",
       "      <td>WCU</td>\n",
       "      <td>5/27/2020</td>\n",
       "      <td>39.0</td>\n",
       "      <td>12</td>\n",
       "    </tr>\n",
       "    <tr>\n",
       "      <th>32428</th>\n",
       "      <td>Winery3</td>\n",
       "      <td>Delivered</td>\n",
       "      <td>5/27/2020</td>\n",
       "      <td>Napa</td>\n",
       "      <td>CA</td>\n",
       "      <td>94558</td>\n",
       "      <td>WCU</td>\n",
       "      <td>5/27/2020</td>\n",
       "      <td>7.0</td>\n",
       "      <td>2</td>\n",
       "    </tr>\n",
       "  </tbody>\n",
       "</table>\n",
       "</div>"
      ],
      "text/plain": [
       "      Company Name     Status  Ship Date  City State    Zip Shipping Service  \\\n",
       "32424      Winery3    Shipped  5/27/2020  Napa    CA  94558              WCU   \n",
       "32425      Winery3    Shipped  5/27/2020  Napa    CA  94558              WCU   \n",
       "32426      Winery3    Shipped  5/27/2020  Napa    CA  94558              WCU   \n",
       "32427      Winery3    Shipped  5/27/2020  Napa    CA  94558              WCU   \n",
       "32428      Winery3  Delivered  5/27/2020  Napa    CA  94558              WCU   \n",
       "\n",
       "      Created Date  Weight  Item/Bottle Count  \n",
       "32424    5/27/2020    39.0                 12  \n",
       "32425    5/27/2020    20.2                  6  \n",
       "32426    5/27/2020    20.2                  6  \n",
       "32427    5/27/2020    39.0                 12  \n",
       "32428    5/27/2020     7.0                  2  "
      ]
     },
     "execution_count": 5,
     "metadata": {},
     "output_type": "execute_result"
    }
   ],
   "source": [
    "#See the last rows of data\n",
    "df_2020_05.tail(5)"
   ]
  },
  {
   "cell_type": "code",
   "execution_count": 6,
   "id": "a820ba41",
   "metadata": {},
   "outputs": [
    {
     "data": {
      "text/plain": [
       "Index(['Company Name', 'Status', 'Ship Date', 'City', 'State', 'Zip',\n",
       "       'Shipping Service', 'Created Date', 'Weight', 'Item/Bottle Count'],\n",
       "      dtype='object')"
      ]
     },
     "execution_count": 6,
     "metadata": {},
     "output_type": "execute_result"
    }
   ],
   "source": [
    "df_2020_05.columns"
   ]
  },
  {
   "cell_type": "code",
   "execution_count": 7,
   "id": "7410d9e5",
   "metadata": {},
   "outputs": [
    {
     "name": "stdout",
     "output_type": "stream",
     "text": [
      "Number of Rows:  32429\n",
      "Number of Columns:  10\n"
     ]
    }
   ],
   "source": [
    "#Determine total rows for df_2020_05.\n",
    "df_2020_05_rows = len(df_2020_05.axes[0])\n",
    "df_2020_05_cols = len(df_2020_05.axes[1])\n",
    "print(\"Number of Rows: \", df_2020_05_rows)\n",
    "print(\"Number of Columns: \", df_2020_05_cols)"
   ]
  },
  {
   "cell_type": "code",
   "execution_count": 8,
   "id": "4caf57c3",
   "metadata": {},
   "outputs": [
    {
     "data": {
      "text/plain": [
       "Company Name         0\n",
       "Status               0\n",
       "Ship Date            0\n",
       "City                 0\n",
       "State                0\n",
       "Zip                  0\n",
       "Shipping Service     0\n",
       "Created Date         0\n",
       "Weight               0\n",
       "Item/Bottle Count    0\n",
       "dtype: int64"
      ]
     },
     "execution_count": 8,
     "metadata": {},
     "output_type": "execute_result"
    }
   ],
   "source": [
    "# Determine if there are any missing values in df_2020_05.\n",
    "df_2020_05.isnull().sum()"
   ]
  },
  {
   "cell_type": "code",
   "execution_count": 9,
   "id": "d2ad8510",
   "metadata": {},
   "outputs": [
    {
     "data": {
      "text/plain": [
       "Company Name          object\n",
       "Status                object\n",
       "Ship Date             object\n",
       "City                  object\n",
       "State                 object\n",
       "Zip                   object\n",
       "Shipping Service      object\n",
       "Created Date          object\n",
       "Weight               float64\n",
       "Item/Bottle Count      int64\n",
       "dtype: object"
      ]
     },
     "execution_count": 9,
     "metadata": {},
     "output_type": "execute_result"
    }
   ],
   "source": [
    "# Determine data types for df_2020_05.\n",
    "df_2020_05.dtypes"
   ]
  },
  {
   "cell_type": "code",
   "execution_count": 10,
   "id": "4061fbbf",
   "metadata": {},
   "outputs": [
    {
     "data": {
      "text/plain": [
       "Ecom3      15823\n",
       "Ecom2      11335\n",
       "Ecom1       4648\n",
       "Winery1      364\n",
       "Winery3      198\n",
       "Winery2       61\n",
       "Name: Company Name, dtype: int64"
      ]
     },
     "execution_count": 10,
     "metadata": {},
     "output_type": "execute_result"
    }
   ],
   "source": [
    "df_2020_05['Company Name'].value_counts()"
   ]
  },
  {
   "cell_type": "code",
   "execution_count": 11,
   "id": "aac39571",
   "metadata": {},
   "outputs": [
    {
     "data": {
      "text/plain": [
       "43958.697      45\n",
       "43966.64353    45\n",
       "43969.6227     43\n",
       "5/8/2020       43\n",
       "5/29/2020      42\n",
       "               ..\n",
       "43971.684       1\n",
       "43971.68399     1\n",
       "43972.7583      1\n",
       "43964.65645     1\n",
       "43952.87139     1\n",
       "Name: Ship Date, Length: 1978, dtype: int64"
      ]
     },
     "execution_count": 11,
     "metadata": {},
     "output_type": "execute_result"
    }
   ],
   "source": [
    "df_2020_05['Ship Date'].value_counts()"
   ]
  },
  {
   "cell_type": "code",
   "execution_count": 12,
   "id": "ff45ee9d",
   "metadata": {},
   "outputs": [
    {
     "data": {
      "text/plain": [
       "In Transit           15054\n",
       "Delivered            13734\n",
       "Shipped               3212\n",
       "Carrier Exception      329\n",
       "Delivery Attempt       100\n",
       "Name: Status, dtype: int64"
      ]
     },
     "execution_count": 12,
     "metadata": {},
     "output_type": "execute_result"
    }
   ],
   "source": [
    "df_2020_05['Status'].value_counts()"
   ]
  },
  {
   "cell_type": "code",
   "execution_count": 13,
   "id": "ae707cc4",
   "metadata": {},
   "outputs": [
    {
     "data": {
      "text/plain": [
       "New York          514\n",
       "Chicago           408\n",
       "Philadelphia      253\n",
       "Brooklyn          228\n",
       "Washington        219\n",
       "                 ... \n",
       "Moosup              1\n",
       "CHAGRIN FALLS       1\n",
       "Harwich             1\n",
       "Los Angles          1\n",
       "Normandy Beach      1\n",
       "Name: City, Length: 6483, dtype: int64"
      ]
     },
     "execution_count": 13,
     "metadata": {},
     "output_type": "execute_result"
    }
   ],
   "source": [
    "df_2020_05['City'].value_counts()"
   ]
  },
  {
   "cell_type": "code",
   "execution_count": 14,
   "id": "a8718b4d",
   "metadata": {},
   "outputs": [
    {
     "data": {
      "text/plain": [
       "CA    3394\n",
       "NY    3042\n",
       "PA    2514\n",
       "FL    2375\n",
       "TX    1857\n",
       "NJ    1761\n",
       "IL    1434\n",
       "MA    1281\n",
       "OH    1112\n",
       "VA    1029\n",
       "MI    1021\n",
       "GA     996\n",
       "MD     895\n",
       "NC     868\n",
       "CO     839\n",
       "CT     719\n",
       "WA     580\n",
       "IN     524\n",
       "TN     512\n",
       "AZ     465\n",
       "WI     456\n",
       "MN     454\n",
       "SC     400\n",
       "MO     390\n",
       "OR     330\n",
       "LA     314\n",
       "KS     231\n",
       "RI     223\n",
       "HI     213\n",
       "DC     211\n",
       "IA     206\n",
       "NH     194\n",
       "NE     174\n",
       "NV     164\n",
       "ME     155\n",
       "NM     126\n",
       "AR     126\n",
       "OK     119\n",
       "ID     103\n",
       "AL     102\n",
       "MT      85\n",
       "VT      81\n",
       "WV      75\n",
       "WY      73\n",
       "AK      55\n",
       "DE      54\n",
       "ND      50\n",
       "SD      47\n",
       "Name: State, dtype: int64"
      ]
     },
     "execution_count": 14,
     "metadata": {},
     "output_type": "execute_result"
    }
   ],
   "source": [
    "df_2020_05['State'].value_counts()"
   ]
  },
  {
   "cell_type": "code",
   "execution_count": 15,
   "id": "aba1ce28",
   "metadata": {},
   "outputs": [
    {
     "data": {
      "text/plain": [
       "94558    44\n",
       "19103    39\n",
       "19460    37\n",
       "10019    35\n",
       "37027    34\n",
       "         ..\n",
       "60452     1\n",
       "1826      1\n",
       "90804     1\n",
       "6093      1\n",
       "8739      1\n",
       "Name: Zip, Length: 9024, dtype: int64"
      ]
     },
     "execution_count": 15,
     "metadata": {},
     "output_type": "execute_result"
    }
   ],
   "source": [
    "df_2020_05['Zip'].value_counts()"
   ]
  },
  {
   "cell_type": "code",
   "execution_count": 16,
   "id": "85be0dcc",
   "metadata": {},
   "outputs": [
    {
     "data": {
      "text/plain": [
       "UPS      16678\n",
       "FEH      13665\n",
       "FXG       1636\n",
       "FEX        182\n",
       "LSO1       135\n",
       "WCU         42\n",
       "UP3         29\n",
       "AZS         19\n",
       "GSC         18\n",
       "FXE         13\n",
       "UP2          8\n",
       "WCP          1\n",
       "UP1          1\n",
       "UPSNS        1\n",
       "SELF         1\n",
       "Name: Shipping Service, dtype: int64"
      ]
     },
     "execution_count": 16,
     "metadata": {},
     "output_type": "execute_result"
    }
   ],
   "source": [
    "df_2020_05['Shipping Service'].value_counts()"
   ]
  },
  {
   "cell_type": "code",
   "execution_count": 17,
   "id": "74be41f6",
   "metadata": {},
   "outputs": [
    {
     "data": {
      "text/plain": [
       "5/8/2020       43\n",
       "5/29/2020      42\n",
       "5/1/2020       39\n",
       "5/22/2020      20\n",
       "5/27/2020      15\n",
       "               ..\n",
       "43970.68016     1\n",
       "43955.60525     1\n",
       "43953.47957     1\n",
       "43954.41743     1\n",
       "43940.85348     1\n",
       "Name: Created Date, Length: 22553, dtype: int64"
      ]
     },
     "execution_count": 17,
     "metadata": {},
     "output_type": "execute_result"
    }
   ],
   "source": [
    "df_2020_05['Created Date'].value_counts()\n",
    "#Ok to have dates from other months- Sometimes people will create an order and hold onto it until an adult is present to sign for delivery."
   ]
  },
  {
   "cell_type": "code",
   "execution_count": 18,
   "id": "34adbd2f",
   "metadata": {},
   "outputs": [
    {
     "data": {
      "text/plain": [
       "7.00     11916\n",
       "21.50     7022\n",
       "41.00     2898\n",
       "14.00     2077\n",
       "20.20     1470\n",
       "39.00     1335\n",
       "10.50     1156\n",
       "9.90       883\n",
       "18.50      673\n",
       "29.00      538\n",
       "26.00      517\n",
       "10.00      468\n",
       "27.00      226\n",
       "20.00      180\n",
       "35.00      176\n",
       "3.35       173\n",
       "32.00      167\n",
       "4.00        70\n",
       "30.00       67\n",
       "19.50       47\n",
       "38.00       47\n",
       "13.50       45\n",
       "20.50       44\n",
       "23.20       33\n",
       "24.00       33\n",
       "33.00       26\n",
       "17.20       26\n",
       "13.00       18\n",
       "11.50       16\n",
       "19.00       12\n",
       "39.50       11\n",
       "36.00       10\n",
       "42.00        8\n",
       "23.00        5\n",
       "19.20        4\n",
       "45.00        3\n",
       "17.50        3\n",
       "28.00        3\n",
       "17.00        3\n",
       "29.20        2\n",
       "15.50        2\n",
       "37.00        2\n",
       "38.20        2\n",
       "2.35         1\n",
       "40.00        1\n",
       "2.00         1\n",
       "9.20         1\n",
       "6.90         1\n",
       "31.00        1\n",
       "5.00         1\n",
       "12.00        1\n",
       "11.00        1\n",
       "75.00        1\n",
       "56.20        1\n",
       "6.00         1\n",
       "Name: Weight, dtype: int64"
      ]
     },
     "execution_count": 18,
     "metadata": {},
     "output_type": "execute_result"
    }
   ],
   "source": [
    "df_2020_05['Weight'].value_counts()"
   ]
  },
  {
   "cell_type": "code",
   "execution_count": 19,
   "id": "73bd62e8",
   "metadata": {},
   "outputs": [
    {
     "data": {
      "text/plain": [
       "1     11607\n",
       "6      8769\n",
       "12     4215\n",
       "3      2540\n",
       "4      2297\n",
       "5       706\n",
       "2       605\n",
       "7       592\n",
       "8       588\n",
       "9       238\n",
       "10      202\n",
       "11       56\n",
       "13        9\n",
       "14        3\n",
       "18        1\n",
       "24        1\n",
       "Name: Item/Bottle Count, dtype: int64"
      ]
     },
     "execution_count": 19,
     "metadata": {},
     "output_type": "execute_result"
    }
   ],
   "source": [
    "df_2020_05['Item/Bottle Count'].value_counts()"
   ]
  },
  {
   "cell_type": "markdown",
   "id": "b28748d1",
   "metadata": {},
   "source": [
    "## Clean the Data"
   ]
  },
  {
   "cell_type": "code",
   "execution_count": 20,
   "id": "ae2074b6",
   "metadata": {},
   "outputs": [
    {
     "data": {
      "text/plain": [
       "Company Name          object\n",
       "Status                object\n",
       "Ship Date             object\n",
       "City                  object\n",
       "State                 object\n",
       "Zip                   object\n",
       "Shipping Service      object\n",
       "Created Date          object\n",
       "Weight               float64\n",
       "Item/Bottle Count    float64\n",
       "dtype: object"
      ]
     },
     "execution_count": 20,
     "metadata": {},
     "output_type": "execute_result"
    }
   ],
   "source": [
    "#Change [\"Item/Bottle Count\"] to float64 type in df_2020_05.\n",
    "df_2020_05[\"Item/Bottle Count\"]=df_2020_05[\"Item/Bottle Count\"].astype(float)\n",
    "df_2020_05.dtypes"
   ]
  },
  {
   "cell_type": "code",
   "execution_count": 21,
   "id": "2de5f1ce",
   "metadata": {},
   "outputs": [
    {
     "data": {
      "text/html": [
       "<div>\n",
       "<style scoped>\n",
       "    .dataframe tbody tr th:only-of-type {\n",
       "        vertical-align: middle;\n",
       "    }\n",
       "\n",
       "    .dataframe tbody tr th {\n",
       "        vertical-align: top;\n",
       "    }\n",
       "\n",
       "    .dataframe thead th {\n",
       "        text-align: right;\n",
       "    }\n",
       "</style>\n",
       "<table border=\"1\" class=\"dataframe\">\n",
       "  <thead>\n",
       "    <tr style=\"text-align: right;\">\n",
       "      <th></th>\n",
       "      <th>Company Name</th>\n",
       "      <th>Ship Date</th>\n",
       "      <th>City</th>\n",
       "      <th>State</th>\n",
       "      <th>Zip</th>\n",
       "      <th>Shipping Service</th>\n",
       "      <th>Created Date</th>\n",
       "      <th>Weight</th>\n",
       "      <th>Item/Bottle Count</th>\n",
       "    </tr>\n",
       "  </thead>\n",
       "  <tbody>\n",
       "    <tr>\n",
       "      <th>0</th>\n",
       "      <td>Ecom1</td>\n",
       "      <td>43952.87139</td>\n",
       "      <td>Edmond</td>\n",
       "      <td>OK</td>\n",
       "      <td>73034</td>\n",
       "      <td>LSO1</td>\n",
       "      <td>43940.85348</td>\n",
       "      <td>10.5</td>\n",
       "      <td>3.0</td>\n",
       "    </tr>\n",
       "    <tr>\n",
       "      <th>1</th>\n",
       "      <td>Ecom1</td>\n",
       "      <td>43952.87149</td>\n",
       "      <td>Snohomish</td>\n",
       "      <td>WA</td>\n",
       "      <td>98296</td>\n",
       "      <td>FEH</td>\n",
       "      <td>43943.52123</td>\n",
       "      <td>20.2</td>\n",
       "      <td>6.0</td>\n",
       "    </tr>\n",
       "    <tr>\n",
       "      <th>2</th>\n",
       "      <td>Ecom1</td>\n",
       "      <td>43952.87149</td>\n",
       "      <td>Denver</td>\n",
       "      <td>CO</td>\n",
       "      <td>80209</td>\n",
       "      <td>UPS</td>\n",
       "      <td>43945.43794</td>\n",
       "      <td>20.2</td>\n",
       "      <td>6.0</td>\n",
       "    </tr>\n",
       "    <tr>\n",
       "      <th>3</th>\n",
       "      <td>Ecom1</td>\n",
       "      <td>43952.87148</td>\n",
       "      <td>San Diego</td>\n",
       "      <td>CA</td>\n",
       "      <td>92115</td>\n",
       "      <td>FXG</td>\n",
       "      <td>43945.60456</td>\n",
       "      <td>10.5</td>\n",
       "      <td>3.0</td>\n",
       "    </tr>\n",
       "    <tr>\n",
       "      <th>4</th>\n",
       "      <td>Ecom1</td>\n",
       "      <td>43952.87148</td>\n",
       "      <td>Seattle</td>\n",
       "      <td>WA</td>\n",
       "      <td>98104</td>\n",
       "      <td>FEH</td>\n",
       "      <td>43947.43795</td>\n",
       "      <td>39.0</td>\n",
       "      <td>12.0</td>\n",
       "    </tr>\n",
       "    <tr>\n",
       "      <th>...</th>\n",
       "      <td>...</td>\n",
       "      <td>...</td>\n",
       "      <td>...</td>\n",
       "      <td>...</td>\n",
       "      <td>...</td>\n",
       "      <td>...</td>\n",
       "      <td>...</td>\n",
       "      <td>...</td>\n",
       "      <td>...</td>\n",
       "    </tr>\n",
       "    <tr>\n",
       "      <th>32424</th>\n",
       "      <td>Winery3</td>\n",
       "      <td>5/27/2020</td>\n",
       "      <td>Napa</td>\n",
       "      <td>CA</td>\n",
       "      <td>94558</td>\n",
       "      <td>WCU</td>\n",
       "      <td>5/27/2020</td>\n",
       "      <td>39.0</td>\n",
       "      <td>12.0</td>\n",
       "    </tr>\n",
       "    <tr>\n",
       "      <th>32425</th>\n",
       "      <td>Winery3</td>\n",
       "      <td>5/27/2020</td>\n",
       "      <td>Napa</td>\n",
       "      <td>CA</td>\n",
       "      <td>94558</td>\n",
       "      <td>WCU</td>\n",
       "      <td>5/27/2020</td>\n",
       "      <td>20.2</td>\n",
       "      <td>6.0</td>\n",
       "    </tr>\n",
       "    <tr>\n",
       "      <th>32426</th>\n",
       "      <td>Winery3</td>\n",
       "      <td>5/27/2020</td>\n",
       "      <td>Napa</td>\n",
       "      <td>CA</td>\n",
       "      <td>94558</td>\n",
       "      <td>WCU</td>\n",
       "      <td>5/27/2020</td>\n",
       "      <td>20.2</td>\n",
       "      <td>6.0</td>\n",
       "    </tr>\n",
       "    <tr>\n",
       "      <th>32427</th>\n",
       "      <td>Winery3</td>\n",
       "      <td>5/27/2020</td>\n",
       "      <td>Napa</td>\n",
       "      <td>CA</td>\n",
       "      <td>94558</td>\n",
       "      <td>WCU</td>\n",
       "      <td>5/27/2020</td>\n",
       "      <td>39.0</td>\n",
       "      <td>12.0</td>\n",
       "    </tr>\n",
       "    <tr>\n",
       "      <th>32428</th>\n",
       "      <td>Winery3</td>\n",
       "      <td>5/27/2020</td>\n",
       "      <td>Napa</td>\n",
       "      <td>CA</td>\n",
       "      <td>94558</td>\n",
       "      <td>WCU</td>\n",
       "      <td>5/27/2020</td>\n",
       "      <td>7.0</td>\n",
       "      <td>2.0</td>\n",
       "    </tr>\n",
       "  </tbody>\n",
       "</table>\n",
       "<p>32429 rows × 9 columns</p>\n",
       "</div>"
      ],
      "text/plain": [
       "      Company Name    Ship Date       City State    Zip Shipping Service  \\\n",
       "0            Ecom1  43952.87139     Edmond    OK  73034             LSO1   \n",
       "1            Ecom1  43952.87149  Snohomish    WA  98296              FEH   \n",
       "2            Ecom1  43952.87149     Denver    CO  80209              UPS   \n",
       "3            Ecom1  43952.87148  San Diego    CA  92115              FXG   \n",
       "4            Ecom1  43952.87148    Seattle    WA  98104              FEH   \n",
       "...            ...          ...        ...   ...    ...              ...   \n",
       "32424      Winery3    5/27/2020       Napa    CA  94558              WCU   \n",
       "32425      Winery3    5/27/2020       Napa    CA  94558              WCU   \n",
       "32426      Winery3    5/27/2020       Napa    CA  94558              WCU   \n",
       "32427      Winery3    5/27/2020       Napa    CA  94558              WCU   \n",
       "32428      Winery3    5/27/2020       Napa    CA  94558              WCU   \n",
       "\n",
       "      Created Date  Weight  Item/Bottle Count  \n",
       "0      43940.85348    10.5                3.0  \n",
       "1      43943.52123    20.2                6.0  \n",
       "2      43945.43794    20.2                6.0  \n",
       "3      43945.60456    10.5                3.0  \n",
       "4      43947.43795    39.0               12.0  \n",
       "...            ...     ...                ...  \n",
       "32424    5/27/2020    39.0               12.0  \n",
       "32425    5/27/2020    20.2                6.0  \n",
       "32426    5/27/2020    20.2                6.0  \n",
       "32427    5/27/2020    39.0               12.0  \n",
       "32428    5/27/2020     7.0                2.0  \n",
       "\n",
       "[32429 rows x 9 columns]"
      ]
     },
     "execution_count": 21,
     "metadata": {},
     "output_type": "execute_result"
    }
   ],
   "source": [
    "#Remove \"Status\" column from df_2020_05.\n",
    "df_2020_05 = df_2020_05.drop('Status', axis=1)\n",
    "df_2020_05"
   ]
  },
  {
   "cell_type": "code",
   "execution_count": 22,
   "id": "0374b7d7",
   "metadata": {},
   "outputs": [],
   "source": [
    "# Drop the NaNs for df_2020_05.\n",
    "df_2020_05 = df_2020_05.dropna()"
   ]
  },
  {
   "cell_type": "markdown",
   "id": "b54ac18d",
   "metadata": {},
   "source": [
    "## Confirm Changes"
   ]
  },
  {
   "cell_type": "code",
   "execution_count": 23,
   "id": "717b65ec",
   "metadata": {},
   "outputs": [
    {
     "data": {
      "text/html": [
       "<div>\n",
       "<style scoped>\n",
       "    .dataframe tbody tr th:only-of-type {\n",
       "        vertical-align: middle;\n",
       "    }\n",
       "\n",
       "    .dataframe tbody tr th {\n",
       "        vertical-align: top;\n",
       "    }\n",
       "\n",
       "    .dataframe thead th {\n",
       "        text-align: right;\n",
       "    }\n",
       "</style>\n",
       "<table border=\"1\" class=\"dataframe\">\n",
       "  <thead>\n",
       "    <tr style=\"text-align: right;\">\n",
       "      <th></th>\n",
       "      <th>Company Name</th>\n",
       "      <th>Ship Date</th>\n",
       "      <th>City</th>\n",
       "      <th>State</th>\n",
       "      <th>Zip</th>\n",
       "      <th>Shipping Service</th>\n",
       "      <th>Created Date</th>\n",
       "      <th>Weight</th>\n",
       "      <th>Item/Bottle Count</th>\n",
       "    </tr>\n",
       "  </thead>\n",
       "  <tbody>\n",
       "    <tr>\n",
       "      <th>15760</th>\n",
       "      <td>Ecom2</td>\n",
       "      <td>43972.75934</td>\n",
       "      <td>Saint James City</td>\n",
       "      <td>FL</td>\n",
       "      <td>33956</td>\n",
       "      <td>FEH</td>\n",
       "      <td>43970.8092</td>\n",
       "      <td>7.0</td>\n",
       "      <td>1.0</td>\n",
       "    </tr>\n",
       "    <tr>\n",
       "      <th>17158</th>\n",
       "      <td>Ecom2</td>\n",
       "      <td>43972.78128</td>\n",
       "      <td>Seattle</td>\n",
       "      <td>WA</td>\n",
       "      <td>98122</td>\n",
       "      <td>UPS</td>\n",
       "      <td>43970.82432</td>\n",
       "      <td>7.0</td>\n",
       "      <td>1.0</td>\n",
       "    </tr>\n",
       "    <tr>\n",
       "      <th>7923</th>\n",
       "      <td>Ecom3</td>\n",
       "      <td>43962.88808</td>\n",
       "      <td>El Dorado Hills</td>\n",
       "      <td>CA</td>\n",
       "      <td>95762</td>\n",
       "      <td>UPS</td>\n",
       "      <td>43962.62523</td>\n",
       "      <td>18.5</td>\n",
       "      <td>5.0</td>\n",
       "    </tr>\n",
       "    <tr>\n",
       "      <th>583</th>\n",
       "      <td>Ecom3</td>\n",
       "      <td>43955.70285</td>\n",
       "      <td>Marblehead</td>\n",
       "      <td>MA</td>\n",
       "      <td>1945</td>\n",
       "      <td>FEH</td>\n",
       "      <td>43953.67771</td>\n",
       "      <td>21.5</td>\n",
       "      <td>6.0</td>\n",
       "    </tr>\n",
       "    <tr>\n",
       "      <th>22296</th>\n",
       "      <td>Ecom2</td>\n",
       "      <td>43972.78031</td>\n",
       "      <td>West Lafayette</td>\n",
       "      <td>IN</td>\n",
       "      <td>47906</td>\n",
       "      <td>FXG</td>\n",
       "      <td>43970.83898</td>\n",
       "      <td>7.0</td>\n",
       "      <td>1.0</td>\n",
       "    </tr>\n",
       "  </tbody>\n",
       "</table>\n",
       "</div>"
      ],
      "text/plain": [
       "      Company Name    Ship Date              City State    Zip  \\\n",
       "15760        Ecom2  43972.75934  Saint James City    FL  33956   \n",
       "17158        Ecom2  43972.78128           Seattle    WA  98122   \n",
       "7923         Ecom3  43962.88808   El Dorado Hills    CA  95762   \n",
       "583          Ecom3  43955.70285        Marblehead    MA   1945   \n",
       "22296        Ecom2  43972.78031    West Lafayette    IN  47906   \n",
       "\n",
       "      Shipping Service Created Date  Weight  Item/Bottle Count  \n",
       "15760              FEH   43970.8092     7.0                1.0  \n",
       "17158              UPS  43970.82432     7.0                1.0  \n",
       "7923               UPS  43962.62523    18.5                5.0  \n",
       "583                FEH  43953.67771    21.5                6.0  \n",
       "22296              FXG  43970.83898     7.0                1.0  "
      ]
     },
     "execution_count": 23,
     "metadata": {},
     "output_type": "execute_result"
    }
   ],
   "source": [
    "#See five random rows of data\n",
    "df_2020_05.sample(n=5)"
   ]
  },
  {
   "cell_type": "code",
   "execution_count": 24,
   "id": "2f59ad5f",
   "metadata": {},
   "outputs": [
    {
     "name": "stdout",
     "output_type": "stream",
     "text": [
      "Number of Rows:  32429\n",
      "Number of Columns:  9\n"
     ]
    }
   ],
   "source": [
    "#Determine total rows for df_2020_05.\n",
    "df_2020_05_rows = len(df_2020_05.axes[0])\n",
    "df_2020_05_cols = len(df_2020_05.axes[1])\n",
    "print(\"Number of Rows: \", df_2020_05_rows)\n",
    "print(\"Number of Columns: \", df_2020_05_cols)"
   ]
  },
  {
   "cell_type": "markdown",
   "id": "625b4837",
   "metadata": {},
   "source": [
    "## Export Cleaned df to .CSV"
   ]
  },
  {
   "cell_type": "code",
   "execution_count": 25,
   "id": "f5a7980c",
   "metadata": {},
   "outputs": [],
   "source": [
    "#Export df_2020_05 to .csv\n",
    "df_2020_05.to_csv('../cleaned_months_2020/Clean_2020_05.csv') "
   ]
  },
  {
   "cell_type": "code",
   "execution_count": null,
   "id": "aafdefb9",
   "metadata": {},
   "outputs": [],
   "source": []
  }
 ],
 "metadata": {
  "kernelspec": {
   "display_name": "Python 3 (ipykernel)",
   "language": "python",
   "name": "python3"
  },
  "language_info": {
   "codemirror_mode": {
    "name": "ipython",
    "version": 3
   },
   "file_extension": ".py",
   "mimetype": "text/x-python",
   "name": "python",
   "nbconvert_exporter": "python",
   "pygments_lexer": "ipython3",
   "version": "3.7.13"
  }
 },
 "nbformat": 4,
 "nbformat_minor": 5
}
