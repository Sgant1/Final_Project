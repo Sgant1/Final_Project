{
 "cells": [
  {
   "cell_type": "code",
   "execution_count": 1,
   "id": "1f30ec89",
   "metadata": {},
   "outputs": [],
   "source": [
    "#Pandas library to create DataFrames\n",
    "import pandas as pd\n",
    "#NumPy library for converting data types\n",
    "import numpy as np"
   ]
  },
  {
   "cell_type": "code",
   "execution_count": 2,
   "id": "7d4569c3",
   "metadata": {},
   "outputs": [],
   "source": [
    "# Files to load\n",
    "load_2020_02 = \"../../2020_Data/2020.02.csv\""
   ]
  },
  {
   "cell_type": "code",
   "execution_count": 3,
   "id": "5bf26e77",
   "metadata": {},
   "outputs": [
    {
     "data": {
      "text/html": [
       "<div>\n",
       "<style scoped>\n",
       "    .dataframe tbody tr th:only-of-type {\n",
       "        vertical-align: middle;\n",
       "    }\n",
       "\n",
       "    .dataframe tbody tr th {\n",
       "        vertical-align: top;\n",
       "    }\n",
       "\n",
       "    .dataframe thead th {\n",
       "        text-align: right;\n",
       "    }\n",
       "</style>\n",
       "<table border=\"1\" class=\"dataframe\">\n",
       "  <thead>\n",
       "    <tr style=\"text-align: right;\">\n",
       "      <th></th>\n",
       "      <th>Company Name</th>\n",
       "      <th>Status</th>\n",
       "      <th>Ship Date</th>\n",
       "      <th>City</th>\n",
       "      <th>State</th>\n",
       "      <th>Zip</th>\n",
       "      <th>Shipping Service</th>\n",
       "      <th>Created Date</th>\n",
       "      <th>Weight</th>\n",
       "      <th>Item/Bottle Count</th>\n",
       "    </tr>\n",
       "  </thead>\n",
       "  <tbody>\n",
       "    <tr>\n",
       "      <th>0</th>\n",
       "      <td>Ecom3</td>\n",
       "      <td>In Transit</td>\n",
       "      <td>2/5/20</td>\n",
       "      <td>Iowa City</td>\n",
       "      <td>IA</td>\n",
       "      <td>52242</td>\n",
       "      <td>FXG</td>\n",
       "      <td>2/5/20</td>\n",
       "      <td>21.5</td>\n",
       "      <td>6</td>\n",
       "    </tr>\n",
       "    <tr>\n",
       "      <th>1</th>\n",
       "      <td>Ecom3</td>\n",
       "      <td>Delivered</td>\n",
       "      <td>2/6/20</td>\n",
       "      <td>MARLBORO</td>\n",
       "      <td>NJ</td>\n",
       "      <td>7746</td>\n",
       "      <td>UPS</td>\n",
       "      <td>2/6/20</td>\n",
       "      <td>41.0</td>\n",
       "      <td>12</td>\n",
       "    </tr>\n",
       "    <tr>\n",
       "      <th>2</th>\n",
       "      <td>Ecom3</td>\n",
       "      <td>Delivered</td>\n",
       "      <td>2/6/20</td>\n",
       "      <td>MARLBORO</td>\n",
       "      <td>NJ</td>\n",
       "      <td>7746</td>\n",
       "      <td>UPS</td>\n",
       "      <td>2/6/20</td>\n",
       "      <td>21.5</td>\n",
       "      <td>6</td>\n",
       "    </tr>\n",
       "    <tr>\n",
       "      <th>3</th>\n",
       "      <td>Ecom3</td>\n",
       "      <td>Delivered</td>\n",
       "      <td>2/4/20</td>\n",
       "      <td>Sacramento</td>\n",
       "      <td>CA</td>\n",
       "      <td>95818</td>\n",
       "      <td>UPS</td>\n",
       "      <td>2/4/20</td>\n",
       "      <td>14.0</td>\n",
       "      <td>4</td>\n",
       "    </tr>\n",
       "    <tr>\n",
       "      <th>4</th>\n",
       "      <td>Ecom3</td>\n",
       "      <td>Delivered</td>\n",
       "      <td>2/5/20</td>\n",
       "      <td>Williamsburg</td>\n",
       "      <td>VA</td>\n",
       "      <td>23185</td>\n",
       "      <td>UPS</td>\n",
       "      <td>2/5/20</td>\n",
       "      <td>21.5</td>\n",
       "      <td>6</td>\n",
       "    </tr>\n",
       "  </tbody>\n",
       "</table>\n",
       "</div>"
      ],
      "text/plain": [
       "  Company Name      Status Ship Date          City State    Zip  \\\n",
       "0        Ecom3  In Transit    2/5/20     Iowa City    IA  52242   \n",
       "1        Ecom3   Delivered    2/6/20      MARLBORO    NJ   7746   \n",
       "2        Ecom3   Delivered    2/6/20      MARLBORO    NJ   7746   \n",
       "3        Ecom3   Delivered    2/4/20    Sacramento    CA  95818   \n",
       "4        Ecom3   Delivered    2/5/20  Williamsburg    VA  23185   \n",
       "\n",
       "  Shipping Service Created Date  Weight  Item/Bottle Count  \n",
       "0              FXG       2/5/20    21.5                  6  \n",
       "1              UPS       2/6/20    41.0                 12  \n",
       "2              UPS       2/6/20    21.5                  6  \n",
       "3              UPS       2/4/20    14.0                  4  \n",
       "4              UPS       2/5/20    21.5                  6  "
      ]
     },
     "execution_count": 3,
     "metadata": {},
     "output_type": "execute_result"
    }
   ],
   "source": [
    "# Read the February CSV into a DataFrame\n",
    "#Had to open each file in excel and save it as a .csv file instead of an .xlsm file in order for the encryption to be read properly.\n",
    "df_2020_02 = pd.read_csv(load_2020_02)\n",
    "df_2020_02.head()"
   ]
  },
  {
   "cell_type": "markdown",
   "id": "175df6a6",
   "metadata": {},
   "source": [
    "## Inspect the Data"
   ]
  },
  {
   "cell_type": "code",
   "execution_count": 4,
   "id": "2cdb2387",
   "metadata": {},
   "outputs": [
    {
     "data": {
      "text/html": [
       "<div>\n",
       "<style scoped>\n",
       "    .dataframe tbody tr th:only-of-type {\n",
       "        vertical-align: middle;\n",
       "    }\n",
       "\n",
       "    .dataframe tbody tr th {\n",
       "        vertical-align: top;\n",
       "    }\n",
       "\n",
       "    .dataframe thead th {\n",
       "        text-align: right;\n",
       "    }\n",
       "</style>\n",
       "<table border=\"1\" class=\"dataframe\">\n",
       "  <thead>\n",
       "    <tr style=\"text-align: right;\">\n",
       "      <th></th>\n",
       "      <th>Company Name</th>\n",
       "      <th>Status</th>\n",
       "      <th>Ship Date</th>\n",
       "      <th>City</th>\n",
       "      <th>State</th>\n",
       "      <th>Zip</th>\n",
       "      <th>Shipping Service</th>\n",
       "      <th>Created Date</th>\n",
       "      <th>Weight</th>\n",
       "      <th>Item/Bottle Count</th>\n",
       "    </tr>\n",
       "  </thead>\n",
       "  <tbody>\n",
       "    <tr>\n",
       "      <th>8427</th>\n",
       "      <td>Ecom1</td>\n",
       "      <td>Shipped</td>\n",
       "      <td>2/28/20</td>\n",
       "      <td>Oklahoma City</td>\n",
       "      <td>OK</td>\n",
       "      <td>73132</td>\n",
       "      <td>LSO1</td>\n",
       "      <td>2/28/20</td>\n",
       "      <td>4.0</td>\n",
       "      <td>1</td>\n",
       "    </tr>\n",
       "    <tr>\n",
       "      <th>5156</th>\n",
       "      <td>Winery1</td>\n",
       "      <td>Carrier Exception</td>\n",
       "      <td>2/14/20</td>\n",
       "      <td>Bethesda</td>\n",
       "      <td>MD</td>\n",
       "      <td>20817</td>\n",
       "      <td>UPS</td>\n",
       "      <td>2/11/20</td>\n",
       "      <td>14.0</td>\n",
       "      <td>4</td>\n",
       "    </tr>\n",
       "    <tr>\n",
       "      <th>750</th>\n",
       "      <td>Ecom3</td>\n",
       "      <td>Delivered</td>\n",
       "      <td>2/6/20</td>\n",
       "      <td>Dover</td>\n",
       "      <td>MA</td>\n",
       "      <td>2030</td>\n",
       "      <td>FEH</td>\n",
       "      <td>2/6/20</td>\n",
       "      <td>29.0</td>\n",
       "      <td>8</td>\n",
       "    </tr>\n",
       "    <tr>\n",
       "      <th>7449</th>\n",
       "      <td>Ecom3</td>\n",
       "      <td>Shipped</td>\n",
       "      <td>2/29/20</td>\n",
       "      <td>Johns Island</td>\n",
       "      <td>SC</td>\n",
       "      <td>29455</td>\n",
       "      <td>UPS</td>\n",
       "      <td>2/29/20</td>\n",
       "      <td>18.5</td>\n",
       "      <td>5</td>\n",
       "    </tr>\n",
       "    <tr>\n",
       "      <th>7663</th>\n",
       "      <td>Ecom3</td>\n",
       "      <td>In Transit</td>\n",
       "      <td>2/28/20</td>\n",
       "      <td>MEMPHIS</td>\n",
       "      <td>TN</td>\n",
       "      <td>38118</td>\n",
       "      <td>UPS</td>\n",
       "      <td>2/28/20</td>\n",
       "      <td>7.0</td>\n",
       "      <td>2</td>\n",
       "    </tr>\n",
       "  </tbody>\n",
       "</table>\n",
       "</div>"
      ],
      "text/plain": [
       "     Company Name             Status Ship Date           City State    Zip  \\\n",
       "8427        Ecom1            Shipped   2/28/20  Oklahoma City    OK  73132   \n",
       "5156      Winery1  Carrier Exception   2/14/20       Bethesda    MD  20817   \n",
       "750         Ecom3          Delivered    2/6/20          Dover    MA   2030   \n",
       "7449        Ecom3            Shipped   2/29/20   Johns Island    SC  29455   \n",
       "7663        Ecom3         In Transit   2/28/20        MEMPHIS    TN  38118   \n",
       "\n",
       "     Shipping Service Created Date  Weight  Item/Bottle Count  \n",
       "8427             LSO1      2/28/20     4.0                  1  \n",
       "5156              UPS      2/11/20    14.0                  4  \n",
       "750               FEH       2/6/20    29.0                  8  \n",
       "7449              UPS      2/29/20    18.5                  5  \n",
       "7663              UPS      2/28/20     7.0                  2  "
      ]
     },
     "execution_count": 4,
     "metadata": {},
     "output_type": "execute_result"
    }
   ],
   "source": [
    "#See five random rows of data\n",
    "df_2020_02.sample(n=5)"
   ]
  },
  {
   "cell_type": "code",
   "execution_count": 5,
   "id": "a7bdb733",
   "metadata": {},
   "outputs": [
    {
     "data": {
      "text/html": [
       "<div>\n",
       "<style scoped>\n",
       "    .dataframe tbody tr th:only-of-type {\n",
       "        vertical-align: middle;\n",
       "    }\n",
       "\n",
       "    .dataframe tbody tr th {\n",
       "        vertical-align: top;\n",
       "    }\n",
       "\n",
       "    .dataframe thead th {\n",
       "        text-align: right;\n",
       "    }\n",
       "</style>\n",
       "<table border=\"1\" class=\"dataframe\">\n",
       "  <thead>\n",
       "    <tr style=\"text-align: right;\">\n",
       "      <th></th>\n",
       "      <th>Company Name</th>\n",
       "      <th>Status</th>\n",
       "      <th>Ship Date</th>\n",
       "      <th>City</th>\n",
       "      <th>State</th>\n",
       "      <th>Zip</th>\n",
       "      <th>Shipping Service</th>\n",
       "      <th>Created Date</th>\n",
       "      <th>Weight</th>\n",
       "      <th>Item/Bottle Count</th>\n",
       "    </tr>\n",
       "  </thead>\n",
       "  <tbody>\n",
       "    <tr>\n",
       "      <th>8462</th>\n",
       "      <td>Ecom1</td>\n",
       "      <td>Delivered</td>\n",
       "      <td>2/24/20</td>\n",
       "      <td>Bossier City</td>\n",
       "      <td>LA</td>\n",
       "      <td>71111</td>\n",
       "      <td>FEH</td>\n",
       "      <td>2/24/20</td>\n",
       "      <td>30.0</td>\n",
       "      <td>9</td>\n",
       "    </tr>\n",
       "    <tr>\n",
       "      <th>8463</th>\n",
       "      <td>Ecom1</td>\n",
       "      <td>Delivered</td>\n",
       "      <td>2/25/20</td>\n",
       "      <td>Atlanta</td>\n",
       "      <td>GA</td>\n",
       "      <td>30340</td>\n",
       "      <td>FEH</td>\n",
       "      <td>2/19/20</td>\n",
       "      <td>20.2</td>\n",
       "      <td>6</td>\n",
       "    </tr>\n",
       "    <tr>\n",
       "      <th>8464</th>\n",
       "      <td>Ecom1</td>\n",
       "      <td>In Transit</td>\n",
       "      <td>2/27/20</td>\n",
       "      <td>St. Louis</td>\n",
       "      <td>MO</td>\n",
       "      <td>63110</td>\n",
       "      <td>FXG</td>\n",
       "      <td>2/27/20</td>\n",
       "      <td>10.5</td>\n",
       "      <td>3</td>\n",
       "    </tr>\n",
       "    <tr>\n",
       "      <th>8465</th>\n",
       "      <td>Ecom1</td>\n",
       "      <td>In Transit</td>\n",
       "      <td>2/27/20</td>\n",
       "      <td>Gresham</td>\n",
       "      <td>OR</td>\n",
       "      <td>97030</td>\n",
       "      <td>FEH</td>\n",
       "      <td>2/25/20</td>\n",
       "      <td>10.5</td>\n",
       "      <td>3</td>\n",
       "    </tr>\n",
       "    <tr>\n",
       "      <th>8466</th>\n",
       "      <td>Ecom1</td>\n",
       "      <td>In Transit</td>\n",
       "      <td>2/27/20</td>\n",
       "      <td>Meeker</td>\n",
       "      <td>CO</td>\n",
       "      <td>81641</td>\n",
       "      <td>FXG</td>\n",
       "      <td>2/26/20</td>\n",
       "      <td>10.5</td>\n",
       "      <td>3</td>\n",
       "    </tr>\n",
       "  </tbody>\n",
       "</table>\n",
       "</div>"
      ],
      "text/plain": [
       "     Company Name      Status Ship Date          City State    Zip  \\\n",
       "8462        Ecom1   Delivered   2/24/20  Bossier City    LA  71111   \n",
       "8463        Ecom1   Delivered   2/25/20       Atlanta    GA  30340   \n",
       "8464        Ecom1  In Transit   2/27/20     St. Louis    MO  63110   \n",
       "8465        Ecom1  In Transit   2/27/20       Gresham    OR  97030   \n",
       "8466        Ecom1  In Transit   2/27/20        Meeker    CO  81641   \n",
       "\n",
       "     Shipping Service Created Date  Weight  Item/Bottle Count  \n",
       "8462              FEH      2/24/20    30.0                  9  \n",
       "8463              FEH      2/19/20    20.2                  6  \n",
       "8464              FXG      2/27/20    10.5                  3  \n",
       "8465              FEH      2/25/20    10.5                  3  \n",
       "8466              FXG      2/26/20    10.5                  3  "
      ]
     },
     "execution_count": 5,
     "metadata": {},
     "output_type": "execute_result"
    }
   ],
   "source": [
    "#See the last rows of data\n",
    "df_2020_02.tail(5)"
   ]
  },
  {
   "cell_type": "code",
   "execution_count": 6,
   "id": "a820ba41",
   "metadata": {},
   "outputs": [
    {
     "data": {
      "text/plain": [
       "Index(['Company Name', 'Status', 'Ship Date', 'City', 'State', 'Zip',\n",
       "       'Shipping Service', 'Created Date', 'Weight', 'Item/Bottle Count'],\n",
       "      dtype='object')"
      ]
     },
     "execution_count": 6,
     "metadata": {},
     "output_type": "execute_result"
    }
   ],
   "source": [
    "df_2020_02.columns"
   ]
  },
  {
   "cell_type": "code",
   "execution_count": 7,
   "id": "7410d9e5",
   "metadata": {},
   "outputs": [
    {
     "name": "stdout",
     "output_type": "stream",
     "text": [
      "Number of Rows:  8467\n",
      "Number of Columns:  10\n"
     ]
    }
   ],
   "source": [
    "#Determine total rows for df_2020_02.\n",
    "df_2020_02_rows = len(df_2020_02.axes[0])\n",
    "df_2020_02_cols = len(df_2020_02.axes[1])\n",
    "print(\"Number of Rows: \", df_2020_02_rows)\n",
    "print(\"Number of Columns: \", df_2020_02_cols)"
   ]
  },
  {
   "cell_type": "code",
   "execution_count": 8,
   "id": "4caf57c3",
   "metadata": {},
   "outputs": [
    {
     "data": {
      "text/plain": [
       "Company Name         0\n",
       "Status               0\n",
       "Ship Date            0\n",
       "City                 0\n",
       "State                0\n",
       "Zip                  0\n",
       "Shipping Service     0\n",
       "Created Date         0\n",
       "Weight               0\n",
       "Item/Bottle Count    0\n",
       "dtype: int64"
      ]
     },
     "execution_count": 8,
     "metadata": {},
     "output_type": "execute_result"
    }
   ],
   "source": [
    "# Determine if there are any missing values in df_2020_02.\n",
    "df_2020_02.isnull().sum()"
   ]
  },
  {
   "cell_type": "code",
   "execution_count": 9,
   "id": "d2ad8510",
   "metadata": {},
   "outputs": [
    {
     "data": {
      "text/plain": [
       "Company Name          object\n",
       "Status                object\n",
       "Ship Date             object\n",
       "City                  object\n",
       "State                 object\n",
       "Zip                   object\n",
       "Shipping Service      object\n",
       "Created Date          object\n",
       "Weight               float64\n",
       "Item/Bottle Count      int64\n",
       "dtype: object"
      ]
     },
     "execution_count": 9,
     "metadata": {},
     "output_type": "execute_result"
    }
   ],
   "source": [
    "# Determine data types for df_2020_02.\n",
    "df_2020_02.dtypes"
   ]
  },
  {
   "cell_type": "code",
   "execution_count": 10,
   "id": "4061fbbf",
   "metadata": {},
   "outputs": [
    {
     "data": {
      "text/plain": [
       "Ecom3      3725\n",
       "Winery1    2585\n",
       "Ecom1      2116\n",
       "Winery2      41\n",
       "Name: Company Name, dtype: int64"
      ]
     },
     "execution_count": 10,
     "metadata": {},
     "output_type": "execute_result"
    }
   ],
   "source": [
    "df_2020_02['Company Name'].value_counts()"
   ]
  },
  {
   "cell_type": "code",
   "execution_count": 11,
   "id": "aac39571",
   "metadata": {},
   "outputs": [
    {
     "data": {
      "text/plain": [
       "2/14/20    2002\n",
       "2/3/20      732\n",
       "2/12/20     670\n",
       "2/24/20     591\n",
       "2/17/20     583\n",
       "2/5/20      397\n",
       "2/28/20     351\n",
       "2/26/20     348\n",
       "2/10/20     345\n",
       "2/21/20     274\n",
       "2/25/20     236\n",
       "2/7/20      235\n",
       "2/11/20     227\n",
       "2/6/20      223\n",
       "2/27/20     216\n",
       "2/20/20     203\n",
       "2/19/20     201\n",
       "2/18/20     155\n",
       "2/29/20     144\n",
       "2/4/20      124\n",
       "2/13/20     105\n",
       "2/2/20      105\n",
       "Name: Ship Date, dtype: int64"
      ]
     },
     "execution_count": 11,
     "metadata": {},
     "output_type": "execute_result"
    }
   ],
   "source": [
    "df_2020_02['Ship Date'].value_counts()"
   ]
  },
  {
   "cell_type": "code",
   "execution_count": 12,
   "id": "ff45ee9d",
   "metadata": {},
   "outputs": [
    {
     "data": {
      "text/plain": [
       "Delivered            4527\n",
       "Shipped              2092\n",
       "In Transit           1674\n",
       "Carrier Exception     142\n",
       "Delivery Attempt       32\n",
       "Name: Status, dtype: int64"
      ]
     },
     "execution_count": 12,
     "metadata": {},
     "output_type": "execute_result"
    }
   ],
   "source": [
    "df_2020_02['Status'].value_counts()"
   ]
  },
  {
   "cell_type": "code",
   "execution_count": 13,
   "id": "ae707cc4",
   "metadata": {},
   "outputs": [
    {
     "data": {
      "text/plain": [
       "New York                245\n",
       "Chicago                 129\n",
       "San Francisco           102\n",
       "Brooklyn                 95\n",
       "Houston                  95\n",
       "                       ... \n",
       "Grosse Pointe Shores      1\n",
       "Lewis Center              1\n",
       "Forestville               1\n",
       "Montgomery Village        1\n",
       "Meeker                    1\n",
       "Name: City, Length: 2811, dtype: int64"
      ]
     },
     "execution_count": 13,
     "metadata": {},
     "output_type": "execute_result"
    }
   ],
   "source": [
    "df_2020_02['City'].value_counts()"
   ]
  },
  {
   "cell_type": "code",
   "execution_count": 14,
   "id": "a8718b4d",
   "metadata": {},
   "outputs": [
    {
     "data": {
      "text/plain": [
       "CA    1205\n",
       "NY     795\n",
       "TX     636\n",
       "FL     626\n",
       "PA     441\n",
       "IL     387\n",
       "NJ     381\n",
       "VA     310\n",
       "GA     274\n",
       "MA     247\n",
       "OH     244\n",
       "CO     239\n",
       "MI     229\n",
       "NC     212\n",
       "AZ     194\n",
       "WA     182\n",
       "MD     169\n",
       "TN     163\n",
       "CT     128\n",
       "IN     126\n",
       "OR     101\n",
       "MO      99\n",
       "LA      94\n",
       "WI      91\n",
       "MN      89\n",
       "SC      83\n",
       "DC      81\n",
       "NV      76\n",
       "KS      66\n",
       "HI      53\n",
       "OK      48\n",
       "IA      44\n",
       "NE      43\n",
       "AR      40\n",
       "ID      33\n",
       "AL      33\n",
       "RI      30\n",
       "NM      28\n",
       "NH      26\n",
       "ME      21\n",
       "MT      20\n",
       "ND      15\n",
       "SD      13\n",
       "DE      12\n",
       "VT      11\n",
       "WY      10\n",
       "WV      10\n",
       "AK       9\n",
       "Name: State, dtype: int64"
      ]
     },
     "execution_count": 14,
     "metadata": {},
     "output_type": "execute_result"
    }
   ],
   "source": [
    "df_2020_02['State'].value_counts()"
   ]
  },
  {
   "cell_type": "code",
   "execution_count": 15,
   "id": "aba1ce28",
   "metadata": {},
   "outputs": [
    {
     "data": {
      "text/plain": [
       "94103    20\n",
       "10022    19\n",
       "10016    19\n",
       "20001    17\n",
       "10019    16\n",
       "         ..\n",
       "59047     1\n",
       "32578     1\n",
       "95965     1\n",
       "53186     1\n",
       "81641     1\n",
       "Name: Zip, Length: 4318, dtype: int64"
      ]
     },
     "execution_count": 15,
     "metadata": {},
     "output_type": "execute_result"
    }
   ],
   "source": [
    "df_2020_02['Zip'].value_counts()"
   ]
  },
  {
   "cell_type": "code",
   "execution_count": 16,
   "id": "85be0dcc",
   "metadata": {},
   "outputs": [
    {
     "data": {
      "text/plain": [
       "UPS     5453\n",
       "FEH     2084\n",
       "FXG      752\n",
       "AZS       81\n",
       "LSO1      34\n",
       "FEX       28\n",
       "UP2       17\n",
       "WCU       15\n",
       "UP1        2\n",
       "FXP        1\n",
       "Name: Shipping Service, dtype: int64"
      ]
     },
     "execution_count": 16,
     "metadata": {},
     "output_type": "execute_result"
    }
   ],
   "source": [
    "df_2020_02['Shipping Service'].value_counts()"
   ]
  },
  {
   "cell_type": "code",
   "execution_count": 17,
   "id": "74be41f6",
   "metadata": {},
   "outputs": [
    {
     "data": {
      "text/plain": [
       "2/11/20     2526\n",
       "2/17/20      378\n",
       "2/3/20       358\n",
       "2/24/20      334\n",
       "2/10/20      314\n",
       "2/21/20      304\n",
       "2/2/20       299\n",
       "2/20/20      293\n",
       "2/6/20       271\n",
       "2/19/20      267\n",
       "2/14/20      233\n",
       "2/26/20      229\n",
       "2/27/20      206\n",
       "2/4/20       200\n",
       "2/18/20      195\n",
       "2/5/20       193\n",
       "2/25/20      184\n",
       "2/7/20       179\n",
       "2/1/20       165\n",
       "2/13/20      146\n",
       "2/22/20      145\n",
       "2/28/20      139\n",
       "2/12/20      124\n",
       "2/29/20      121\n",
       "2/23/20      112\n",
       "1/31/20      106\n",
       "2/16/20       97\n",
       "2/8/20        78\n",
       "2/15/20       73\n",
       "2/9/20        60\n",
       "1/27/20       39\n",
       "1/28/20       35\n",
       "1/29/20       30\n",
       "1/30/20       25\n",
       "1/20/20        4\n",
       "1/22/20        2\n",
       "1/5/20         1\n",
       "1/24/20        1\n",
       "10/11/19       1\n",
       "Name: Created Date, dtype: int64"
      ]
     },
     "execution_count": 17,
     "metadata": {},
     "output_type": "execute_result"
    }
   ],
   "source": [
    "df_2020_02['Created Date'].value_counts()\n",
    "#Ok to have dates from other months- Sometimes people will create an order and hold onto it until an adult is present to sign for delivery."
   ]
  },
  {
   "cell_type": "code",
   "execution_count": 18,
   "id": "34adbd2f",
   "metadata": {},
   "outputs": [
    {
     "data": {
      "text/plain": [
       "14.00    2558\n",
       "21.50    2057\n",
       "10.50    1372\n",
       "20.20     508\n",
       "41.00     457\n",
       "39.00     330\n",
       "7.00      287\n",
       "9.90      234\n",
       "27.00     122\n",
       "18.50      96\n",
       "29.00      91\n",
       "3.35       72\n",
       "35.00      50\n",
       "26.00      42\n",
       "32.00      41\n",
       "17.20      27\n",
       "30.00      23\n",
       "4.00       23\n",
       "39.50      18\n",
       "24.00      16\n",
       "38.00      14\n",
       "33.00      12\n",
       "11.00       5\n",
       "20.00       4\n",
       "36.00       2\n",
       "13.50       2\n",
       "44.00       1\n",
       "33.50       1\n",
       "27.50       1\n",
       "20.50       1\n",
       "Name: Weight, dtype: int64"
      ]
     },
     "execution_count": 18,
     "metadata": {},
     "output_type": "execute_result"
    }
   ],
   "source": [
    "df_2020_02['Weight'].value_counts()"
   ]
  },
  {
   "cell_type": "code",
   "execution_count": 19,
   "id": "73bd62e8",
   "metadata": {},
   "outputs": [
    {
     "data": {
      "text/plain": [
       "6     2570\n",
       "4     2558\n",
       "3     1607\n",
       "12     804\n",
       "2      264\n",
       "8      213\n",
       "1      127\n",
       "5      123\n",
       "9       64\n",
       "10      63\n",
       "7       58\n",
       "11      16\n",
       "Name: Item/Bottle Count, dtype: int64"
      ]
     },
     "execution_count": 19,
     "metadata": {},
     "output_type": "execute_result"
    }
   ],
   "source": [
    "df_2020_02['Item/Bottle Count'].value_counts()"
   ]
  },
  {
   "cell_type": "markdown",
   "id": "b28748d1",
   "metadata": {},
   "source": [
    "## Clean the Data"
   ]
  },
  {
   "cell_type": "code",
   "execution_count": 20,
   "id": "ae2074b6",
   "metadata": {},
   "outputs": [
    {
     "data": {
      "text/plain": [
       "Company Name          object\n",
       "Status                object\n",
       "Ship Date             object\n",
       "City                  object\n",
       "State                 object\n",
       "Zip                   object\n",
       "Shipping Service      object\n",
       "Created Date          object\n",
       "Weight               float64\n",
       "Item/Bottle Count    float64\n",
       "dtype: object"
      ]
     },
     "execution_count": 20,
     "metadata": {},
     "output_type": "execute_result"
    }
   ],
   "source": [
    "#Change [\"Item/Bottle Count\"] to float64 type in df_2020_02.\n",
    "df_2020_02[\"Item/Bottle Count\"]=df_2020_02[\"Item/Bottle Count\"].astype(float)\n",
    "df_2020_02.dtypes"
   ]
  },
  {
   "cell_type": "code",
   "execution_count": 21,
   "id": "2de5f1ce",
   "metadata": {},
   "outputs": [
    {
     "data": {
      "text/html": [
       "<div>\n",
       "<style scoped>\n",
       "    .dataframe tbody tr th:only-of-type {\n",
       "        vertical-align: middle;\n",
       "    }\n",
       "\n",
       "    .dataframe tbody tr th {\n",
       "        vertical-align: top;\n",
       "    }\n",
       "\n",
       "    .dataframe thead th {\n",
       "        text-align: right;\n",
       "    }\n",
       "</style>\n",
       "<table border=\"1\" class=\"dataframe\">\n",
       "  <thead>\n",
       "    <tr style=\"text-align: right;\">\n",
       "      <th></th>\n",
       "      <th>Company Name</th>\n",
       "      <th>Ship Date</th>\n",
       "      <th>City</th>\n",
       "      <th>State</th>\n",
       "      <th>Zip</th>\n",
       "      <th>Shipping Service</th>\n",
       "      <th>Created Date</th>\n",
       "      <th>Weight</th>\n",
       "      <th>Item/Bottle Count</th>\n",
       "    </tr>\n",
       "  </thead>\n",
       "  <tbody>\n",
       "    <tr>\n",
       "      <th>0</th>\n",
       "      <td>Ecom3</td>\n",
       "      <td>2/5/20</td>\n",
       "      <td>Iowa City</td>\n",
       "      <td>IA</td>\n",
       "      <td>52242</td>\n",
       "      <td>FXG</td>\n",
       "      <td>2/5/20</td>\n",
       "      <td>21.5</td>\n",
       "      <td>6.0</td>\n",
       "    </tr>\n",
       "    <tr>\n",
       "      <th>1</th>\n",
       "      <td>Ecom3</td>\n",
       "      <td>2/6/20</td>\n",
       "      <td>MARLBORO</td>\n",
       "      <td>NJ</td>\n",
       "      <td>7746</td>\n",
       "      <td>UPS</td>\n",
       "      <td>2/6/20</td>\n",
       "      <td>41.0</td>\n",
       "      <td>12.0</td>\n",
       "    </tr>\n",
       "    <tr>\n",
       "      <th>2</th>\n",
       "      <td>Ecom3</td>\n",
       "      <td>2/6/20</td>\n",
       "      <td>MARLBORO</td>\n",
       "      <td>NJ</td>\n",
       "      <td>7746</td>\n",
       "      <td>UPS</td>\n",
       "      <td>2/6/20</td>\n",
       "      <td>21.5</td>\n",
       "      <td>6.0</td>\n",
       "    </tr>\n",
       "    <tr>\n",
       "      <th>3</th>\n",
       "      <td>Ecom3</td>\n",
       "      <td>2/4/20</td>\n",
       "      <td>Sacramento</td>\n",
       "      <td>CA</td>\n",
       "      <td>95818</td>\n",
       "      <td>UPS</td>\n",
       "      <td>2/4/20</td>\n",
       "      <td>14.0</td>\n",
       "      <td>4.0</td>\n",
       "    </tr>\n",
       "    <tr>\n",
       "      <th>4</th>\n",
       "      <td>Ecom3</td>\n",
       "      <td>2/5/20</td>\n",
       "      <td>Williamsburg</td>\n",
       "      <td>VA</td>\n",
       "      <td>23185</td>\n",
       "      <td>UPS</td>\n",
       "      <td>2/5/20</td>\n",
       "      <td>21.5</td>\n",
       "      <td>6.0</td>\n",
       "    </tr>\n",
       "    <tr>\n",
       "      <th>...</th>\n",
       "      <td>...</td>\n",
       "      <td>...</td>\n",
       "      <td>...</td>\n",
       "      <td>...</td>\n",
       "      <td>...</td>\n",
       "      <td>...</td>\n",
       "      <td>...</td>\n",
       "      <td>...</td>\n",
       "      <td>...</td>\n",
       "    </tr>\n",
       "    <tr>\n",
       "      <th>8462</th>\n",
       "      <td>Ecom1</td>\n",
       "      <td>2/24/20</td>\n",
       "      <td>Bossier City</td>\n",
       "      <td>LA</td>\n",
       "      <td>71111</td>\n",
       "      <td>FEH</td>\n",
       "      <td>2/24/20</td>\n",
       "      <td>30.0</td>\n",
       "      <td>9.0</td>\n",
       "    </tr>\n",
       "    <tr>\n",
       "      <th>8463</th>\n",
       "      <td>Ecom1</td>\n",
       "      <td>2/25/20</td>\n",
       "      <td>Atlanta</td>\n",
       "      <td>GA</td>\n",
       "      <td>30340</td>\n",
       "      <td>FEH</td>\n",
       "      <td>2/19/20</td>\n",
       "      <td>20.2</td>\n",
       "      <td>6.0</td>\n",
       "    </tr>\n",
       "    <tr>\n",
       "      <th>8464</th>\n",
       "      <td>Ecom1</td>\n",
       "      <td>2/27/20</td>\n",
       "      <td>St. Louis</td>\n",
       "      <td>MO</td>\n",
       "      <td>63110</td>\n",
       "      <td>FXG</td>\n",
       "      <td>2/27/20</td>\n",
       "      <td>10.5</td>\n",
       "      <td>3.0</td>\n",
       "    </tr>\n",
       "    <tr>\n",
       "      <th>8465</th>\n",
       "      <td>Ecom1</td>\n",
       "      <td>2/27/20</td>\n",
       "      <td>Gresham</td>\n",
       "      <td>OR</td>\n",
       "      <td>97030</td>\n",
       "      <td>FEH</td>\n",
       "      <td>2/25/20</td>\n",
       "      <td>10.5</td>\n",
       "      <td>3.0</td>\n",
       "    </tr>\n",
       "    <tr>\n",
       "      <th>8466</th>\n",
       "      <td>Ecom1</td>\n",
       "      <td>2/27/20</td>\n",
       "      <td>Meeker</td>\n",
       "      <td>CO</td>\n",
       "      <td>81641</td>\n",
       "      <td>FXG</td>\n",
       "      <td>2/26/20</td>\n",
       "      <td>10.5</td>\n",
       "      <td>3.0</td>\n",
       "    </tr>\n",
       "  </tbody>\n",
       "</table>\n",
       "<p>8467 rows × 9 columns</p>\n",
       "</div>"
      ],
      "text/plain": [
       "     Company Name Ship Date          City State    Zip Shipping Service  \\\n",
       "0           Ecom3    2/5/20     Iowa City    IA  52242              FXG   \n",
       "1           Ecom3    2/6/20      MARLBORO    NJ   7746              UPS   \n",
       "2           Ecom3    2/6/20      MARLBORO    NJ   7746              UPS   \n",
       "3           Ecom3    2/4/20    Sacramento    CA  95818              UPS   \n",
       "4           Ecom3    2/5/20  Williamsburg    VA  23185              UPS   \n",
       "...           ...       ...           ...   ...    ...              ...   \n",
       "8462        Ecom1   2/24/20  Bossier City    LA  71111              FEH   \n",
       "8463        Ecom1   2/25/20       Atlanta    GA  30340              FEH   \n",
       "8464        Ecom1   2/27/20     St. Louis    MO  63110              FXG   \n",
       "8465        Ecom1   2/27/20       Gresham    OR  97030              FEH   \n",
       "8466        Ecom1   2/27/20        Meeker    CO  81641              FXG   \n",
       "\n",
       "     Created Date  Weight  Item/Bottle Count  \n",
       "0          2/5/20    21.5                6.0  \n",
       "1          2/6/20    41.0               12.0  \n",
       "2          2/6/20    21.5                6.0  \n",
       "3          2/4/20    14.0                4.0  \n",
       "4          2/5/20    21.5                6.0  \n",
       "...           ...     ...                ...  \n",
       "8462      2/24/20    30.0                9.0  \n",
       "8463      2/19/20    20.2                6.0  \n",
       "8464      2/27/20    10.5                3.0  \n",
       "8465      2/25/20    10.5                3.0  \n",
       "8466      2/26/20    10.5                3.0  \n",
       "\n",
       "[8467 rows x 9 columns]"
      ]
     },
     "execution_count": 21,
     "metadata": {},
     "output_type": "execute_result"
    }
   ],
   "source": [
    "#Remove \"Status\" column from df_2020_02.\n",
    "df_2020_02 = df_2020_02.drop('Status', axis=1)\n",
    "df_2020_02"
   ]
  },
  {
   "cell_type": "code",
   "execution_count": 22,
   "id": "0374b7d7",
   "metadata": {},
   "outputs": [],
   "source": [
    "# Drop the NaNs for df_2020_02.\n",
    "df_2020_02 = df_2020_02.dropna()"
   ]
  },
  {
   "cell_type": "markdown",
   "id": "b54ac18d",
   "metadata": {},
   "source": [
    "## Confirm Changes"
   ]
  },
  {
   "cell_type": "code",
   "execution_count": 23,
   "id": "717b65ec",
   "metadata": {},
   "outputs": [
    {
     "data": {
      "text/html": [
       "<div>\n",
       "<style scoped>\n",
       "    .dataframe tbody tr th:only-of-type {\n",
       "        vertical-align: middle;\n",
       "    }\n",
       "\n",
       "    .dataframe tbody tr th {\n",
       "        vertical-align: top;\n",
       "    }\n",
       "\n",
       "    .dataframe thead th {\n",
       "        text-align: right;\n",
       "    }\n",
       "</style>\n",
       "<table border=\"1\" class=\"dataframe\">\n",
       "  <thead>\n",
       "    <tr style=\"text-align: right;\">\n",
       "      <th></th>\n",
       "      <th>Company Name</th>\n",
       "      <th>Ship Date</th>\n",
       "      <th>City</th>\n",
       "      <th>State</th>\n",
       "      <th>Zip</th>\n",
       "      <th>Shipping Service</th>\n",
       "      <th>Created Date</th>\n",
       "      <th>Weight</th>\n",
       "      <th>Item/Bottle Count</th>\n",
       "    </tr>\n",
       "  </thead>\n",
       "  <tbody>\n",
       "    <tr>\n",
       "      <th>7679</th>\n",
       "      <td>Ecom3</td>\n",
       "      <td>2/24/20</td>\n",
       "      <td>Bala Cynwyd</td>\n",
       "      <td>PA</td>\n",
       "      <td>19004</td>\n",
       "      <td>UPS</td>\n",
       "      <td>2/24/20</td>\n",
       "      <td>7.0</td>\n",
       "      <td>2.0</td>\n",
       "    </tr>\n",
       "    <tr>\n",
       "      <th>2042</th>\n",
       "      <td>Ecom3</td>\n",
       "      <td>2/14/20</td>\n",
       "      <td>Niles</td>\n",
       "      <td>MI</td>\n",
       "      <td>49120</td>\n",
       "      <td>UPS</td>\n",
       "      <td>2/14/20</td>\n",
       "      <td>41.0</td>\n",
       "      <td>12.0</td>\n",
       "    </tr>\n",
       "    <tr>\n",
       "      <th>8067</th>\n",
       "      <td>Ecom1</td>\n",
       "      <td>2/24/20</td>\n",
       "      <td>New york</td>\n",
       "      <td>NY</td>\n",
       "      <td>10165</td>\n",
       "      <td>FXG</td>\n",
       "      <td>2/24/20</td>\n",
       "      <td>10.5</td>\n",
       "      <td>3.0</td>\n",
       "    </tr>\n",
       "    <tr>\n",
       "      <th>586</th>\n",
       "      <td>Ecom3</td>\n",
       "      <td>2/3/20</td>\n",
       "      <td>Santa Fe</td>\n",
       "      <td>NM</td>\n",
       "      <td>87505</td>\n",
       "      <td>FEH</td>\n",
       "      <td>2/2/20</td>\n",
       "      <td>21.5</td>\n",
       "      <td>6.0</td>\n",
       "    </tr>\n",
       "    <tr>\n",
       "      <th>1787</th>\n",
       "      <td>Ecom1</td>\n",
       "      <td>2/6/20</td>\n",
       "      <td>CHARLOTTE</td>\n",
       "      <td>NC</td>\n",
       "      <td>28273</td>\n",
       "      <td>FXG</td>\n",
       "      <td>2/6/20</td>\n",
       "      <td>10.5</td>\n",
       "      <td>3.0</td>\n",
       "    </tr>\n",
       "  </tbody>\n",
       "</table>\n",
       "</div>"
      ],
      "text/plain": [
       "     Company Name Ship Date         City State    Zip Shipping Service  \\\n",
       "7679        Ecom3   2/24/20  Bala Cynwyd    PA  19004              UPS   \n",
       "2042        Ecom3   2/14/20        Niles    MI  49120              UPS   \n",
       "8067        Ecom1   2/24/20     New york    NY  10165              FXG   \n",
       "586         Ecom3    2/3/20     Santa Fe    NM  87505              FEH   \n",
       "1787        Ecom1    2/6/20    CHARLOTTE    NC  28273              FXG   \n",
       "\n",
       "     Created Date  Weight  Item/Bottle Count  \n",
       "7679      2/24/20     7.0                2.0  \n",
       "2042      2/14/20    41.0               12.0  \n",
       "8067      2/24/20    10.5                3.0  \n",
       "586        2/2/20    21.5                6.0  \n",
       "1787       2/6/20    10.5                3.0  "
      ]
     },
     "execution_count": 23,
     "metadata": {},
     "output_type": "execute_result"
    }
   ],
   "source": [
    "#See five random rows of data\n",
    "df_2020_02.sample(n=5)"
   ]
  },
  {
   "cell_type": "code",
   "execution_count": 24,
   "id": "2f59ad5f",
   "metadata": {},
   "outputs": [
    {
     "name": "stdout",
     "output_type": "stream",
     "text": [
      "Number of Rows:  8467\n",
      "Number of Columns:  9\n"
     ]
    }
   ],
   "source": [
    "#Determine total rows for df_2020_02.\n",
    "df_2020_02_rows = len(df_2020_02.axes[0])\n",
    "df_2020_02_cols = len(df_2020_02.axes[1])\n",
    "print(\"Number of Rows: \", df_2020_02_rows)\n",
    "print(\"Number of Columns: \", df_2020_02_cols)"
   ]
  },
  {
   "cell_type": "code",
   "execution_count": 25,
   "id": "bdea4521",
   "metadata": {},
   "outputs": [
    {
     "data": {
      "text/plain": [
       "8467"
      ]
     },
     "execution_count": 25,
     "metadata": {},
     "output_type": "execute_result"
    }
   ],
   "source": [
    "df_2020_02.shape[0]"
   ]
  },
  {
   "cell_type": "markdown",
   "id": "625b4837",
   "metadata": {},
   "source": [
    "## Export Cleaned DF to .CSV"
   ]
  },
  {
   "cell_type": "code",
   "execution_count": 26,
   "id": "f5a7980c",
   "metadata": {},
   "outputs": [],
   "source": [
    "#Export df_2020_02 to .csv\n",
    "df_2020_02.to_csv('../cleaned_months_2020/Clean_2020_02.csv') "
   ]
  },
  {
   "cell_type": "code",
   "execution_count": null,
   "id": "aafdefb9",
   "metadata": {},
   "outputs": [],
   "source": []
  }
 ],
 "metadata": {
  "kernelspec": {
   "display_name": "Python 3 (ipykernel)",
   "language": "python",
   "name": "python3"
  },
  "language_info": {
   "codemirror_mode": {
    "name": "ipython",
    "version": 3
   },
   "file_extension": ".py",
   "mimetype": "text/x-python",
   "name": "python",
   "nbconvert_exporter": "python",
   "pygments_lexer": "ipython3",
   "version": "3.7.13"
  }
 },
 "nbformat": 4,
 "nbformat_minor": 5
}
