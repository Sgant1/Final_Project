{
 "cells": [
  {
   "cell_type": "code",
   "execution_count": 1,
   "id": "1f30ec89",
   "metadata": {},
   "outputs": [],
   "source": [
    "#Pandas library to create DataFrames\n",
    "import pandas as pd\n",
    "#NumPy library for converting data types\n",
    "import numpy as np"
   ]
  },
  {
   "cell_type": "code",
   "execution_count": 2,
   "id": "7d4569c3",
   "metadata": {},
   "outputs": [],
   "source": [
    "# Files to load\n",
    "load_2020_12 = \"../../2020_Data/2020.12.csv\""
   ]
  },
  {
   "cell_type": "code",
   "execution_count": 3,
   "id": "5bf26e77",
   "metadata": {},
   "outputs": [
    {
     "data": {
      "text/html": [
       "<div>\n",
       "<style scoped>\n",
       "    .dataframe tbody tr th:only-of-type {\n",
       "        vertical-align: middle;\n",
       "    }\n",
       "\n",
       "    .dataframe tbody tr th {\n",
       "        vertical-align: top;\n",
       "    }\n",
       "\n",
       "    .dataframe thead th {\n",
       "        text-align: right;\n",
       "    }\n",
       "</style>\n",
       "<table border=\"1\" class=\"dataframe\">\n",
       "  <thead>\n",
       "    <tr style=\"text-align: right;\">\n",
       "      <th></th>\n",
       "      <th>Company Name</th>\n",
       "      <th>Status</th>\n",
       "      <th>Ship Date</th>\n",
       "      <th>City</th>\n",
       "      <th>State</th>\n",
       "      <th>Zip</th>\n",
       "      <th>Shipping Service</th>\n",
       "      <th>Created Date</th>\n",
       "      <th>Weight</th>\n",
       "      <th>Item/Bottle Count</th>\n",
       "    </tr>\n",
       "  </thead>\n",
       "  <tbody>\n",
       "    <tr>\n",
       "      <th>0</th>\n",
       "      <td>Ecom3</td>\n",
       "      <td>Delivered</td>\n",
       "      <td>12/1/2020</td>\n",
       "      <td>Paoli</td>\n",
       "      <td>PA</td>\n",
       "      <td>19301</td>\n",
       "      <td>UPS</td>\n",
       "      <td>11/30/2020</td>\n",
       "      <td>21.5</td>\n",
       "      <td>6</td>\n",
       "    </tr>\n",
       "    <tr>\n",
       "      <th>1</th>\n",
       "      <td>Ecom3</td>\n",
       "      <td>In Transit</td>\n",
       "      <td>12/4/2020</td>\n",
       "      <td>Deerfield</td>\n",
       "      <td>IL</td>\n",
       "      <td>60015</td>\n",
       "      <td>UPS</td>\n",
       "      <td>12/3/2020</td>\n",
       "      <td>26.0</td>\n",
       "      <td>7</td>\n",
       "    </tr>\n",
       "    <tr>\n",
       "      <th>2</th>\n",
       "      <td>Ecom3</td>\n",
       "      <td>Delivered</td>\n",
       "      <td>12/2/2020</td>\n",
       "      <td>Lambertville</td>\n",
       "      <td>MI</td>\n",
       "      <td>48144</td>\n",
       "      <td>UPS</td>\n",
       "      <td>12/1/2020</td>\n",
       "      <td>21.5</td>\n",
       "      <td>6</td>\n",
       "    </tr>\n",
       "    <tr>\n",
       "      <th>3</th>\n",
       "      <td>Ecom3</td>\n",
       "      <td>Delivered</td>\n",
       "      <td>12/1/2020</td>\n",
       "      <td>San Jose</td>\n",
       "      <td>CA</td>\n",
       "      <td>95125</td>\n",
       "      <td>UPS</td>\n",
       "      <td>11/28/2020</td>\n",
       "      <td>41.0</td>\n",
       "      <td>12</td>\n",
       "    </tr>\n",
       "    <tr>\n",
       "      <th>4</th>\n",
       "      <td>Ecom3</td>\n",
       "      <td>Delivered</td>\n",
       "      <td>12/1/2020</td>\n",
       "      <td>Belton</td>\n",
       "      <td>SC</td>\n",
       "      <td>29627</td>\n",
       "      <td>UPS</td>\n",
       "      <td>11/29/2020</td>\n",
       "      <td>21.5</td>\n",
       "      <td>6</td>\n",
       "    </tr>\n",
       "  </tbody>\n",
       "</table>\n",
       "</div>"
      ],
      "text/plain": [
       "  Company Name      Status  Ship Date          City State    Zip  \\\n",
       "0        Ecom3   Delivered  12/1/2020         Paoli    PA  19301   \n",
       "1        Ecom3  In Transit  12/4/2020     Deerfield    IL  60015   \n",
       "2        Ecom3   Delivered  12/2/2020  Lambertville    MI  48144   \n",
       "3        Ecom3   Delivered  12/1/2020      San Jose    CA  95125   \n",
       "4        Ecom3   Delivered  12/1/2020        Belton    SC  29627   \n",
       "\n",
       "  Shipping Service Created Date  Weight  Item/Bottle Count  \n",
       "0              UPS   11/30/2020    21.5                  6  \n",
       "1              UPS    12/3/2020    26.0                  7  \n",
       "2              UPS    12/1/2020    21.5                  6  \n",
       "3              UPS   11/28/2020    41.0                 12  \n",
       "4              UPS   11/29/2020    21.5                  6  "
      ]
     },
     "execution_count": 3,
     "metadata": {},
     "output_type": "execute_result"
    }
   ],
   "source": [
    "# Read the December CSV into a DataFrame\n",
    "#Had to open each file in excel and save it as a .csv file instead of an .xlsm file in order for the encryption to be read properly.\n",
    "df_2020_12 = pd.read_csv(load_2020_12)\n",
    "df_2020_12.head()"
   ]
  },
  {
   "cell_type": "markdown",
   "id": "175df6a6",
   "metadata": {},
   "source": [
    "## Inspect the Data"
   ]
  },
  {
   "cell_type": "code",
   "execution_count": 4,
   "id": "2cdb2387",
   "metadata": {},
   "outputs": [
    {
     "data": {
      "text/html": [
       "<div>\n",
       "<style scoped>\n",
       "    .dataframe tbody tr th:only-of-type {\n",
       "        vertical-align: middle;\n",
       "    }\n",
       "\n",
       "    .dataframe tbody tr th {\n",
       "        vertical-align: top;\n",
       "    }\n",
       "\n",
       "    .dataframe thead th {\n",
       "        text-align: right;\n",
       "    }\n",
       "</style>\n",
       "<table border=\"1\" class=\"dataframe\">\n",
       "  <thead>\n",
       "    <tr style=\"text-align: right;\">\n",
       "      <th></th>\n",
       "      <th>Company Name</th>\n",
       "      <th>Status</th>\n",
       "      <th>Ship Date</th>\n",
       "      <th>City</th>\n",
       "      <th>State</th>\n",
       "      <th>Zip</th>\n",
       "      <th>Shipping Service</th>\n",
       "      <th>Created Date</th>\n",
       "      <th>Weight</th>\n",
       "      <th>Item/Bottle Count</th>\n",
       "    </tr>\n",
       "  </thead>\n",
       "  <tbody>\n",
       "    <tr>\n",
       "      <th>14859</th>\n",
       "      <td>Ecom1</td>\n",
       "      <td>Delivered</td>\n",
       "      <td>12/16/2020</td>\n",
       "      <td>Long Grove</td>\n",
       "      <td>IA</td>\n",
       "      <td>52756</td>\n",
       "      <td>FEH</td>\n",
       "      <td>12/15/2020</td>\n",
       "      <td>10.5</td>\n",
       "      <td>3</td>\n",
       "    </tr>\n",
       "    <tr>\n",
       "      <th>17699</th>\n",
       "      <td>Ecom2</td>\n",
       "      <td>Shipped</td>\n",
       "      <td>12/24/2020</td>\n",
       "      <td>Stow</td>\n",
       "      <td>OH</td>\n",
       "      <td>44224</td>\n",
       "      <td>FEH</td>\n",
       "      <td>12/18/2020</td>\n",
       "      <td>7.0</td>\n",
       "      <td>2</td>\n",
       "    </tr>\n",
       "    <tr>\n",
       "      <th>7778</th>\n",
       "      <td>Ecom2</td>\n",
       "      <td>Shipped</td>\n",
       "      <td>12/19/2020</td>\n",
       "      <td>Orchard Park</td>\n",
       "      <td>NY</td>\n",
       "      <td>14127</td>\n",
       "      <td>FEH</td>\n",
       "      <td>12/17/2020</td>\n",
       "      <td>7.0</td>\n",
       "      <td>2</td>\n",
       "    </tr>\n",
       "    <tr>\n",
       "      <th>12231</th>\n",
       "      <td>Ecom3</td>\n",
       "      <td>Delivered</td>\n",
       "      <td>12/15/2020</td>\n",
       "      <td>Killingworth</td>\n",
       "      <td>CT</td>\n",
       "      <td>6419</td>\n",
       "      <td>UPS</td>\n",
       "      <td>12/11/2020</td>\n",
       "      <td>41.0</td>\n",
       "      <td>12</td>\n",
       "    </tr>\n",
       "    <tr>\n",
       "      <th>12958</th>\n",
       "      <td>Ecom3</td>\n",
       "      <td>Delivered</td>\n",
       "      <td>12/14/2020</td>\n",
       "      <td>Carlisle</td>\n",
       "      <td>MA</td>\n",
       "      <td>1741</td>\n",
       "      <td>FEH</td>\n",
       "      <td>12/12/2020</td>\n",
       "      <td>39.0</td>\n",
       "      <td>12</td>\n",
       "    </tr>\n",
       "  </tbody>\n",
       "</table>\n",
       "</div>"
      ],
      "text/plain": [
       "      Company Name     Status   Ship Date          City State    Zip  \\\n",
       "14859        Ecom1  Delivered  12/16/2020    Long Grove    IA  52756   \n",
       "17699        Ecom2    Shipped  12/24/2020          Stow    OH  44224   \n",
       "7778         Ecom2    Shipped  12/19/2020  Orchard Park    NY  14127   \n",
       "12231        Ecom3  Delivered  12/15/2020  Killingworth    CT   6419   \n",
       "12958        Ecom3  Delivered  12/14/2020      Carlisle    MA   1741   \n",
       "\n",
       "      Shipping Service Created Date  Weight  Item/Bottle Count  \n",
       "14859              FEH   12/15/2020    10.5                  3  \n",
       "17699              FEH   12/18/2020     7.0                  2  \n",
       "7778               FEH   12/17/2020     7.0                  2  \n",
       "12231              UPS   12/11/2020    41.0                 12  \n",
       "12958              FEH   12/12/2020    39.0                 12  "
      ]
     },
     "execution_count": 4,
     "metadata": {},
     "output_type": "execute_result"
    }
   ],
   "source": [
    "#See five random rows of data\n",
    "df_2020_12.sample(n=5)"
   ]
  },
  {
   "cell_type": "code",
   "execution_count": 5,
   "id": "a7bdb733",
   "metadata": {},
   "outputs": [
    {
     "data": {
      "text/html": [
       "<div>\n",
       "<style scoped>\n",
       "    .dataframe tbody tr th:only-of-type {\n",
       "        vertical-align: middle;\n",
       "    }\n",
       "\n",
       "    .dataframe tbody tr th {\n",
       "        vertical-align: top;\n",
       "    }\n",
       "\n",
       "    .dataframe thead th {\n",
       "        text-align: right;\n",
       "    }\n",
       "</style>\n",
       "<table border=\"1\" class=\"dataframe\">\n",
       "  <thead>\n",
       "    <tr style=\"text-align: right;\">\n",
       "      <th></th>\n",
       "      <th>Company Name</th>\n",
       "      <th>Status</th>\n",
       "      <th>Ship Date</th>\n",
       "      <th>City</th>\n",
       "      <th>State</th>\n",
       "      <th>Zip</th>\n",
       "      <th>Shipping Service</th>\n",
       "      <th>Created Date</th>\n",
       "      <th>Weight</th>\n",
       "      <th>Item/Bottle Count</th>\n",
       "    </tr>\n",
       "  </thead>\n",
       "  <tbody>\n",
       "    <tr>\n",
       "      <th>34826</th>\n",
       "      <td>Winery3</td>\n",
       "      <td>In Transit</td>\n",
       "      <td>12/29/2020</td>\n",
       "      <td>Aurora</td>\n",
       "      <td>CO</td>\n",
       "      <td>80013</td>\n",
       "      <td>UPS</td>\n",
       "      <td>12/29/2020</td>\n",
       "      <td>21.5</td>\n",
       "      <td>6</td>\n",
       "    </tr>\n",
       "    <tr>\n",
       "      <th>34827</th>\n",
       "      <td>Winery3</td>\n",
       "      <td>Delivered</td>\n",
       "      <td>12/29/2020</td>\n",
       "      <td>Napa</td>\n",
       "      <td>CA</td>\n",
       "      <td>94558</td>\n",
       "      <td>GSC</td>\n",
       "      <td>12/29/2020</td>\n",
       "      <td>9.9</td>\n",
       "      <td>3</td>\n",
       "    </tr>\n",
       "    <tr>\n",
       "      <th>34828</th>\n",
       "      <td>Winery3</td>\n",
       "      <td>In Transit</td>\n",
       "      <td>12/29/2020</td>\n",
       "      <td>Aurora</td>\n",
       "      <td>CO</td>\n",
       "      <td>80014</td>\n",
       "      <td>UPS</td>\n",
       "      <td>12/29/2020</td>\n",
       "      <td>39.0</td>\n",
       "      <td>12</td>\n",
       "    </tr>\n",
       "    <tr>\n",
       "      <th>34829</th>\n",
       "      <td>Winery3</td>\n",
       "      <td>Delivered</td>\n",
       "      <td>12/28/2020</td>\n",
       "      <td>Charlottesville</td>\n",
       "      <td>VA</td>\n",
       "      <td>22901</td>\n",
       "      <td>UPS</td>\n",
       "      <td>12/28/2020</td>\n",
       "      <td>21.5</td>\n",
       "      <td>6</td>\n",
       "    </tr>\n",
       "    <tr>\n",
       "      <th>34830</th>\n",
       "      <td>Winery3</td>\n",
       "      <td>Delivered</td>\n",
       "      <td>12/29/2020</td>\n",
       "      <td>Napa</td>\n",
       "      <td>CA</td>\n",
       "      <td>94558</td>\n",
       "      <td>WCU</td>\n",
       "      <td>12/29/2020</td>\n",
       "      <td>21.5</td>\n",
       "      <td>6</td>\n",
       "    </tr>\n",
       "  </tbody>\n",
       "</table>\n",
       "</div>"
      ],
      "text/plain": [
       "      Company Name      Status   Ship Date             City State    Zip  \\\n",
       "34826      Winery3  In Transit  12/29/2020           Aurora    CO  80013   \n",
       "34827      Winery3   Delivered  12/29/2020             Napa    CA  94558   \n",
       "34828      Winery3  In Transit  12/29/2020           Aurora    CO  80014   \n",
       "34829      Winery3   Delivered  12/28/2020  Charlottesville    VA  22901   \n",
       "34830      Winery3   Delivered  12/29/2020             Napa    CA  94558   \n",
       "\n",
       "      Shipping Service Created Date  Weight  Item/Bottle Count  \n",
       "34826              UPS   12/29/2020    21.5                  6  \n",
       "34827              GSC   12/29/2020     9.9                  3  \n",
       "34828              UPS   12/29/2020    39.0                 12  \n",
       "34829              UPS   12/28/2020    21.5                  6  \n",
       "34830              WCU   12/29/2020    21.5                  6  "
      ]
     },
     "execution_count": 5,
     "metadata": {},
     "output_type": "execute_result"
    }
   ],
   "source": [
    "#See the last rows of data\n",
    "df_2020_12.tail(5)"
   ]
  },
  {
   "cell_type": "code",
   "execution_count": 6,
   "id": "a820ba41",
   "metadata": {},
   "outputs": [
    {
     "data": {
      "text/plain": [
       "Index(['Company Name', 'Status', 'Ship Date', 'City', 'State', 'Zip',\n",
       "       'Shipping Service', 'Created Date', 'Weight', 'Item/Bottle Count'],\n",
       "      dtype='object')"
      ]
     },
     "execution_count": 6,
     "metadata": {},
     "output_type": "execute_result"
    }
   ],
   "source": [
    "df_2020_12.columns"
   ]
  },
  {
   "cell_type": "code",
   "execution_count": 7,
   "id": "7410d9e5",
   "metadata": {},
   "outputs": [
    {
     "name": "stdout",
     "output_type": "stream",
     "text": [
      "Number of Rows:  34831\n",
      "Number of Columns:  10\n"
     ]
    }
   ],
   "source": [
    "#Determine total rows for df_2020_12.\n",
    "df_2020_12_rows = len(df_2020_12.axes[0])\n",
    "df_2020_12_cols = len(df_2020_12.axes[1])\n",
    "print(\"Number of Rows: \", df_2020_12_rows)\n",
    "print(\"Number of Columns: \", df_2020_12_cols)"
   ]
  },
  {
   "cell_type": "code",
   "execution_count": 8,
   "id": "4caf57c3",
   "metadata": {},
   "outputs": [
    {
     "data": {
      "text/plain": [
       "Company Name         0\n",
       "Status               0\n",
       "Ship Date            0\n",
       "City                 0\n",
       "State                0\n",
       "Zip                  0\n",
       "Shipping Service     0\n",
       "Created Date         0\n",
       "Weight               0\n",
       "Item/Bottle Count    0\n",
       "dtype: int64"
      ]
     },
     "execution_count": 8,
     "metadata": {},
     "output_type": "execute_result"
    }
   ],
   "source": [
    "# Determine if there are any missing values in df_2020_12.\n",
    "df_2020_12.isnull().sum()"
   ]
  },
  {
   "cell_type": "code",
   "execution_count": 9,
   "id": "d2ad8510",
   "metadata": {},
   "outputs": [
    {
     "data": {
      "text/plain": [
       "Company Name          object\n",
       "Status                object\n",
       "Ship Date             object\n",
       "City                  object\n",
       "State                 object\n",
       "Zip                   object\n",
       "Shipping Service      object\n",
       "Created Date          object\n",
       "Weight               float64\n",
       "Item/Bottle Count      int64\n",
       "dtype: object"
      ]
     },
     "execution_count": 9,
     "metadata": {},
     "output_type": "execute_result"
    }
   ],
   "source": [
    "# Determine data types for df_2020_12.\n",
    "df_2020_12.dtypes"
   ]
  },
  {
   "cell_type": "code",
   "execution_count": 10,
   "id": "4061fbbf",
   "metadata": {},
   "outputs": [
    {
     "data": {
      "text/plain": [
       "Ecom2      14638\n",
       "Ecom3      10603\n",
       "Ecom1       7876\n",
       "Winery3      985\n",
       "Winery1      684\n",
       "Winery2       45\n",
       "Name: Company Name, dtype: int64"
      ]
     },
     "execution_count": 10,
     "metadata": {},
     "output_type": "execute_result"
    }
   ],
   "source": [
    "df_2020_12['Company Name'].value_counts()"
   ]
  },
  {
   "cell_type": "code",
   "execution_count": 11,
   "id": "aac39571",
   "metadata": {},
   "outputs": [
    {
     "data": {
      "text/plain": [
       "12/23/2020    6624\n",
       "12/19/2020    3405\n",
       "12/21/2020    2785\n",
       "12/29/2020    2725\n",
       "12/24/2020    2194\n",
       "12/14/2020    1648\n",
       "12/28/2020    1415\n",
       "12/18/2020    1173\n",
       "12/4/2020     1173\n",
       "12/30/2020    1150\n",
       "12/22/2020    1147\n",
       "12/15/2020    1079\n",
       "12/9/2020     1027\n",
       "12/7/2020      954\n",
       "12/1/2020      875\n",
       "12/11/2020     782\n",
       "12/16/2020     780\n",
       "12/2/2020      753\n",
       "12/10/2020     745\n",
       "12/3/2020      685\n",
       "12/8/2020      634\n",
       "12/27/2020     343\n",
       "12/13/2020     257\n",
       "12/6/2020      237\n",
       "12/17/2020     214\n",
       "12/31/2020      27\n",
       "Name: Ship Date, dtype: int64"
      ]
     },
     "execution_count": 11,
     "metadata": {},
     "output_type": "execute_result"
    }
   ],
   "source": [
    "df_2020_12['Ship Date'].value_counts()"
   ]
  },
  {
   "cell_type": "code",
   "execution_count": 12,
   "id": "ff45ee9d",
   "metadata": {},
   "outputs": [
    {
     "data": {
      "text/plain": [
       "Delivered            14312\n",
       "Shipped              14279\n",
       "In Transit            5990\n",
       "Delivery Attempt       126\n",
       "Carrier Exception      124\n",
       "Name: Status, dtype: int64"
      ]
     },
     "execution_count": 12,
     "metadata": {},
     "output_type": "execute_result"
    }
   ],
   "source": [
    "df_2020_12['Status'].value_counts()"
   ]
  },
  {
   "cell_type": "code",
   "execution_count": 13,
   "id": "ae707cc4",
   "metadata": {},
   "outputs": [
    {
     "data": {
      "text/plain": [
       "New York    542\n",
       "Chicago     425\n",
       "Brooklyn    293\n",
       "Atlanta     267\n",
       "Houston     237\n",
       "           ... \n",
       "rothsay       1\n",
       "Rothsay       1\n",
       "Endeavor      1\n",
       "highland      1\n",
       "kamuela       1\n",
       "Name: City, Length: 6415, dtype: int64"
      ]
     },
     "execution_count": 13,
     "metadata": {},
     "output_type": "execute_result"
    }
   ],
   "source": [
    "df_2020_12['City'].value_counts()"
   ]
  },
  {
   "cell_type": "code",
   "execution_count": 14,
   "id": "a8718b4d",
   "metadata": {},
   "outputs": [
    {
     "data": {
      "text/plain": [
       "CA    3412\n",
       "NY    3317\n",
       "FL    3293\n",
       "PA    2110\n",
       "TX    2107\n",
       "NJ    1971\n",
       "MA    1494\n",
       "IL    1424\n",
       "VA    1257\n",
       "GA    1076\n",
       "OH    1074\n",
       "MD     999\n",
       "MI     971\n",
       "CO     897\n",
       "NC     879\n",
       "CT     756\n",
       "TN     611\n",
       "WA     581\n",
       "AZ     580\n",
       "WI     547\n",
       "MN     532\n",
       "IN     526\n",
       "SC     465\n",
       "MO     362\n",
       "OR     345\n",
       "LA     247\n",
       "RI     237\n",
       "KS     235\n",
       "DC     220\n",
       "NV     219\n",
       "NH     209\n",
       "HI     191\n",
       "IA     189\n",
       "OK     163\n",
       "NE     155\n",
       "ME     148\n",
       "AR     141\n",
       "NM     134\n",
       "WV     114\n",
       "ID     104\n",
       "MT     104\n",
       "DE     102\n",
       "VT      92\n",
       "ND      63\n",
       "SD      60\n",
       "WY      51\n",
       "AK      33\n",
       "AL      25\n",
       "KY       9\n",
       "Name: State, dtype: int64"
      ]
     },
     "execution_count": 14,
     "metadata": {},
     "output_type": "execute_result"
    }
   ],
   "source": [
    "df_2020_12['State'].value_counts()"
   ]
  },
  {
   "cell_type": "code",
   "execution_count": 15,
   "id": "aba1ce28",
   "metadata": {},
   "outputs": [
    {
     "data": {
      "text/plain": [
       "60614         49\n",
       "94558         45\n",
       "11201         41\n",
       "10019         39\n",
       "7302          38\n",
       "              ..\n",
       "20861          1\n",
       "18328          1\n",
       "44425          1\n",
       "19136-4003     1\n",
       "75251          1\n",
       "Name: Zip, Length: 9366, dtype: int64"
      ]
     },
     "execution_count": 15,
     "metadata": {},
     "output_type": "execute_result"
    }
   ],
   "source": [
    "df_2020_12['Zip'].value_counts()"
   ]
  },
  {
   "cell_type": "code",
   "execution_count": 16,
   "id": "85be0dcc",
   "metadata": {},
   "outputs": [
    {
     "data": {
      "text/plain": [
       "FEH      18710\n",
       "UPS      13819\n",
       "FXG       1714\n",
       "GSC        253\n",
       "FEX        157\n",
       "UP2         61\n",
       "WCU         48\n",
       "AZS         18\n",
       "UP1         17\n",
       "WCP         16\n",
       "UP3          9\n",
       "SELF         7\n",
       "FXE          1\n",
       "UPSNS        1\n",
       "Name: Shipping Service, dtype: int64"
      ]
     },
     "execution_count": 16,
     "metadata": {},
     "output_type": "execute_result"
    }
   ],
   "source": [
    "df_2020_12['Shipping Service'].value_counts()"
   ]
  },
  {
   "cell_type": "code",
   "execution_count": 17,
   "id": "74be41f6",
   "metadata": {},
   "outputs": [
    {
     "data": {
      "text/plain": [
       "12/17/2020    11562\n",
       "12/21/2020     2275\n",
       "12/28/2020     2023\n",
       "12/18/2020     1748\n",
       "12/29/2020     1235\n",
       "12/14/2020     1140\n",
       "12/13/2020      953\n",
       "12/4/2020       938\n",
       "12/8/2020       931\n",
       "12/9/2020       900\n",
       "12/11/2020      784\n",
       "12/2/2020       775\n",
       "12/27/2020      758\n",
       "12/1/2020       721\n",
       "12/16/2020      633\n",
       "11/30/2020      617\n",
       "12/25/2020      550\n",
       "12/10/2020      545\n",
       "12/20/2020      514\n",
       "12/7/2020       500\n",
       "12/23/2020      499\n",
       "12/15/2020      493\n",
       "12/6/2020       466\n",
       "12/22/2020      422\n",
       "12/24/2020      413\n",
       "11/29/2020      412\n",
       "12/12/2020      409\n",
       "12/3/2020       385\n",
       "12/5/2020       258\n",
       "12/19/2020      256\n",
       "12/26/2020      203\n",
       "12/30/2020      164\n",
       "11/28/2020      149\n",
       "11/27/2020      129\n",
       "11/26/2020       24\n",
       "11/24/2020       15\n",
       "11/25/2020       11\n",
       "12/31/2020        7\n",
       "11/23/2020        5\n",
       "11/20/2020        3\n",
       "11/22/2020        3\n",
       "11/16/2020        1\n",
       "10/26/2020        1\n",
       "7/29/2020         1\n",
       "Name: Created Date, dtype: int64"
      ]
     },
     "execution_count": 17,
     "metadata": {},
     "output_type": "execute_result"
    }
   ],
   "source": [
    "df_2020_12['Created Date'].value_counts()\n",
    "#Ok to have dates from other months- Sometimes people will create an order and hold onto it until an adult is present to sign for delivery."
   ]
  },
  {
   "cell_type": "code",
   "execution_count": 18,
   "id": "34adbd2f",
   "metadata": {},
   "outputs": [
    {
     "data": {
      "text/plain": [
       "7.00       15558\n",
       "21.50       5790\n",
       "6.50        3272\n",
       "39.00       2375\n",
       "10.50       2008\n",
       "20.20       1076\n",
       "14.00       1063\n",
       "41.00        904\n",
       "9.90         680\n",
       "3.35         390\n",
       "27.00        332\n",
       "18.50        163\n",
       "29.00        137\n",
       "13.50        126\n",
       "30.00        110\n",
       "24.00        109\n",
       "4.00          93\n",
       "20.50         93\n",
       "32.00         81\n",
       "33.00         78\n",
       "26.00         77\n",
       "35.00         70\n",
       "10.00         59\n",
       "38.00         38\n",
       "12.50         27\n",
       "17.20         22\n",
       "36.00         22\n",
       "37.00         14\n",
       "41.75         13\n",
       "7.50           9\n",
       "19.20          8\n",
       "18.20          3\n",
       "9.50           3\n",
       "3.00           3\n",
       "16.20          2\n",
       "21.00          2\n",
       "13.00          2\n",
       "2.35           2\n",
       "1950.00        2\n",
       "1.00           1\n",
       "45.00          1\n",
       "23.20          1\n",
       "9.00           1\n",
       "22.00          1\n",
       "26.20          1\n",
       "687.00         1\n",
       "11.50          1\n",
       "17.00          1\n",
       "654.00         1\n",
       "17.50          1\n",
       "15.70          1\n",
       "8.50           1\n",
       "25.00          1\n",
       "675.00         1\n",
       "Name: Weight, dtype: int64"
      ]
     },
     "execution_count": 18,
     "metadata": {},
     "output_type": "execute_result"
    }
   ],
   "source": [
    "df_2020_12['Weight'].value_counts()"
   ]
  },
  {
   "cell_type": "code",
   "execution_count": 19,
   "id": "73bd62e8",
   "metadata": {},
   "outputs": [
    {
     "data": {
      "text/plain": [
       "2       15626\n",
       "6        6871\n",
       "1        3913\n",
       "12       3289\n",
       "3        2782\n",
       "4        1185\n",
       "8         352\n",
       "7         195\n",
       "9         192\n",
       "5         190\n",
       "10        148\n",
       "11         33\n",
       "13         25\n",
       "14         16\n",
       "16          2\n",
       "1950        2\n",
       "22          1\n",
       "17          1\n",
       "98          1\n",
       "229         1\n",
       "312         1\n",
       "412         1\n",
       "336         1\n",
       "654         1\n",
       "15          1\n",
       "225         1\n",
       "Name: Item/Bottle Count, dtype: int64"
      ]
     },
     "execution_count": 19,
     "metadata": {},
     "output_type": "execute_result"
    }
   ],
   "source": [
    "df_2020_12['Item/Bottle Count'].value_counts()"
   ]
  },
  {
   "cell_type": "markdown",
   "id": "b28748d1",
   "metadata": {},
   "source": [
    "## Clean the Data"
   ]
  },
  {
   "cell_type": "code",
   "execution_count": 20,
   "id": "ae2074b6",
   "metadata": {},
   "outputs": [
    {
     "data": {
      "text/plain": [
       "Company Name          object\n",
       "Status                object\n",
       "Ship Date             object\n",
       "City                  object\n",
       "State                 object\n",
       "Zip                   object\n",
       "Shipping Service      object\n",
       "Created Date          object\n",
       "Weight               float64\n",
       "Item/Bottle Count    float64\n",
       "dtype: object"
      ]
     },
     "execution_count": 20,
     "metadata": {},
     "output_type": "execute_result"
    }
   ],
   "source": [
    "#Change [\"Item/Bottle Count\"] to float64 type in df_2020_12.\n",
    "df_2020_12[\"Item/Bottle Count\"]=df_2020_12[\"Item/Bottle Count\"].astype(float)\n",
    "df_2020_12.dtypes"
   ]
  },
  {
   "cell_type": "code",
   "execution_count": 21,
   "id": "2de5f1ce",
   "metadata": {},
   "outputs": [
    {
     "data": {
      "text/html": [
       "<div>\n",
       "<style scoped>\n",
       "    .dataframe tbody tr th:only-of-type {\n",
       "        vertical-align: middle;\n",
       "    }\n",
       "\n",
       "    .dataframe tbody tr th {\n",
       "        vertical-align: top;\n",
       "    }\n",
       "\n",
       "    .dataframe thead th {\n",
       "        text-align: right;\n",
       "    }\n",
       "</style>\n",
       "<table border=\"1\" class=\"dataframe\">\n",
       "  <thead>\n",
       "    <tr style=\"text-align: right;\">\n",
       "      <th></th>\n",
       "      <th>Company Name</th>\n",
       "      <th>Ship Date</th>\n",
       "      <th>City</th>\n",
       "      <th>State</th>\n",
       "      <th>Zip</th>\n",
       "      <th>Shipping Service</th>\n",
       "      <th>Created Date</th>\n",
       "      <th>Weight</th>\n",
       "      <th>Item/Bottle Count</th>\n",
       "    </tr>\n",
       "  </thead>\n",
       "  <tbody>\n",
       "    <tr>\n",
       "      <th>0</th>\n",
       "      <td>Ecom3</td>\n",
       "      <td>12/1/2020</td>\n",
       "      <td>Paoli</td>\n",
       "      <td>PA</td>\n",
       "      <td>19301</td>\n",
       "      <td>UPS</td>\n",
       "      <td>11/30/2020</td>\n",
       "      <td>21.5</td>\n",
       "      <td>6.0</td>\n",
       "    </tr>\n",
       "    <tr>\n",
       "      <th>1</th>\n",
       "      <td>Ecom3</td>\n",
       "      <td>12/4/2020</td>\n",
       "      <td>Deerfield</td>\n",
       "      <td>IL</td>\n",
       "      <td>60015</td>\n",
       "      <td>UPS</td>\n",
       "      <td>12/3/2020</td>\n",
       "      <td>26.0</td>\n",
       "      <td>7.0</td>\n",
       "    </tr>\n",
       "    <tr>\n",
       "      <th>2</th>\n",
       "      <td>Ecom3</td>\n",
       "      <td>12/2/2020</td>\n",
       "      <td>Lambertville</td>\n",
       "      <td>MI</td>\n",
       "      <td>48144</td>\n",
       "      <td>UPS</td>\n",
       "      <td>12/1/2020</td>\n",
       "      <td>21.5</td>\n",
       "      <td>6.0</td>\n",
       "    </tr>\n",
       "    <tr>\n",
       "      <th>3</th>\n",
       "      <td>Ecom3</td>\n",
       "      <td>12/1/2020</td>\n",
       "      <td>San Jose</td>\n",
       "      <td>CA</td>\n",
       "      <td>95125</td>\n",
       "      <td>UPS</td>\n",
       "      <td>11/28/2020</td>\n",
       "      <td>41.0</td>\n",
       "      <td>12.0</td>\n",
       "    </tr>\n",
       "    <tr>\n",
       "      <th>4</th>\n",
       "      <td>Ecom3</td>\n",
       "      <td>12/1/2020</td>\n",
       "      <td>Belton</td>\n",
       "      <td>SC</td>\n",
       "      <td>29627</td>\n",
       "      <td>UPS</td>\n",
       "      <td>11/29/2020</td>\n",
       "      <td>21.5</td>\n",
       "      <td>6.0</td>\n",
       "    </tr>\n",
       "    <tr>\n",
       "      <th>...</th>\n",
       "      <td>...</td>\n",
       "      <td>...</td>\n",
       "      <td>...</td>\n",
       "      <td>...</td>\n",
       "      <td>...</td>\n",
       "      <td>...</td>\n",
       "      <td>...</td>\n",
       "      <td>...</td>\n",
       "      <td>...</td>\n",
       "    </tr>\n",
       "    <tr>\n",
       "      <th>34826</th>\n",
       "      <td>Winery3</td>\n",
       "      <td>12/29/2020</td>\n",
       "      <td>Aurora</td>\n",
       "      <td>CO</td>\n",
       "      <td>80013</td>\n",
       "      <td>UPS</td>\n",
       "      <td>12/29/2020</td>\n",
       "      <td>21.5</td>\n",
       "      <td>6.0</td>\n",
       "    </tr>\n",
       "    <tr>\n",
       "      <th>34827</th>\n",
       "      <td>Winery3</td>\n",
       "      <td>12/29/2020</td>\n",
       "      <td>Napa</td>\n",
       "      <td>CA</td>\n",
       "      <td>94558</td>\n",
       "      <td>GSC</td>\n",
       "      <td>12/29/2020</td>\n",
       "      <td>9.9</td>\n",
       "      <td>3.0</td>\n",
       "    </tr>\n",
       "    <tr>\n",
       "      <th>34828</th>\n",
       "      <td>Winery3</td>\n",
       "      <td>12/29/2020</td>\n",
       "      <td>Aurora</td>\n",
       "      <td>CO</td>\n",
       "      <td>80014</td>\n",
       "      <td>UPS</td>\n",
       "      <td>12/29/2020</td>\n",
       "      <td>39.0</td>\n",
       "      <td>12.0</td>\n",
       "    </tr>\n",
       "    <tr>\n",
       "      <th>34829</th>\n",
       "      <td>Winery3</td>\n",
       "      <td>12/28/2020</td>\n",
       "      <td>Charlottesville</td>\n",
       "      <td>VA</td>\n",
       "      <td>22901</td>\n",
       "      <td>UPS</td>\n",
       "      <td>12/28/2020</td>\n",
       "      <td>21.5</td>\n",
       "      <td>6.0</td>\n",
       "    </tr>\n",
       "    <tr>\n",
       "      <th>34830</th>\n",
       "      <td>Winery3</td>\n",
       "      <td>12/29/2020</td>\n",
       "      <td>Napa</td>\n",
       "      <td>CA</td>\n",
       "      <td>94558</td>\n",
       "      <td>WCU</td>\n",
       "      <td>12/29/2020</td>\n",
       "      <td>21.5</td>\n",
       "      <td>6.0</td>\n",
       "    </tr>\n",
       "  </tbody>\n",
       "</table>\n",
       "<p>34831 rows × 9 columns</p>\n",
       "</div>"
      ],
      "text/plain": [
       "      Company Name   Ship Date             City State    Zip Shipping Service  \\\n",
       "0            Ecom3   12/1/2020            Paoli    PA  19301              UPS   \n",
       "1            Ecom3   12/4/2020        Deerfield    IL  60015              UPS   \n",
       "2            Ecom3   12/2/2020     Lambertville    MI  48144              UPS   \n",
       "3            Ecom3   12/1/2020         San Jose    CA  95125              UPS   \n",
       "4            Ecom3   12/1/2020           Belton    SC  29627              UPS   \n",
       "...            ...         ...              ...   ...    ...              ...   \n",
       "34826      Winery3  12/29/2020           Aurora    CO  80013              UPS   \n",
       "34827      Winery3  12/29/2020             Napa    CA  94558              GSC   \n",
       "34828      Winery3  12/29/2020           Aurora    CO  80014              UPS   \n",
       "34829      Winery3  12/28/2020  Charlottesville    VA  22901              UPS   \n",
       "34830      Winery3  12/29/2020             Napa    CA  94558              WCU   \n",
       "\n",
       "      Created Date  Weight  Item/Bottle Count  \n",
       "0       11/30/2020    21.5                6.0  \n",
       "1        12/3/2020    26.0                7.0  \n",
       "2        12/1/2020    21.5                6.0  \n",
       "3       11/28/2020    41.0               12.0  \n",
       "4       11/29/2020    21.5                6.0  \n",
       "...            ...     ...                ...  \n",
       "34826   12/29/2020    21.5                6.0  \n",
       "34827   12/29/2020     9.9                3.0  \n",
       "34828   12/29/2020    39.0               12.0  \n",
       "34829   12/28/2020    21.5                6.0  \n",
       "34830   12/29/2020    21.5                6.0  \n",
       "\n",
       "[34831 rows x 9 columns]"
      ]
     },
     "execution_count": 21,
     "metadata": {},
     "output_type": "execute_result"
    }
   ],
   "source": [
    "#Remove \"Status\" column from df_2020_12.\n",
    "df_2020_12 = df_2020_12.drop('Status', axis=1)\n",
    "df_2020_12"
   ]
  },
  {
   "cell_type": "code",
   "execution_count": 22,
   "id": "0374b7d7",
   "metadata": {},
   "outputs": [],
   "source": [
    "# Drop the NaNs for df_2020_12.\n",
    "df_2020_12 = df_2020_12.dropna()"
   ]
  },
  {
   "cell_type": "markdown",
   "id": "b54ac18d",
   "metadata": {},
   "source": [
    "## Confirm Changes"
   ]
  },
  {
   "cell_type": "code",
   "execution_count": 23,
   "id": "717b65ec",
   "metadata": {},
   "outputs": [
    {
     "data": {
      "text/html": [
       "<div>\n",
       "<style scoped>\n",
       "    .dataframe tbody tr th:only-of-type {\n",
       "        vertical-align: middle;\n",
       "    }\n",
       "\n",
       "    .dataframe tbody tr th {\n",
       "        vertical-align: top;\n",
       "    }\n",
       "\n",
       "    .dataframe thead th {\n",
       "        text-align: right;\n",
       "    }\n",
       "</style>\n",
       "<table border=\"1\" class=\"dataframe\">\n",
       "  <thead>\n",
       "    <tr style=\"text-align: right;\">\n",
       "      <th></th>\n",
       "      <th>Company Name</th>\n",
       "      <th>Ship Date</th>\n",
       "      <th>City</th>\n",
       "      <th>State</th>\n",
       "      <th>Zip</th>\n",
       "      <th>Shipping Service</th>\n",
       "      <th>Created Date</th>\n",
       "      <th>Weight</th>\n",
       "      <th>Item/Bottle Count</th>\n",
       "    </tr>\n",
       "  </thead>\n",
       "  <tbody>\n",
       "    <tr>\n",
       "      <th>28711</th>\n",
       "      <td>Ecom1</td>\n",
       "      <td>12/30/2020</td>\n",
       "      <td>Coral Springs</td>\n",
       "      <td>FL</td>\n",
       "      <td>33071</td>\n",
       "      <td>FEH</td>\n",
       "      <td>12/29/2020</td>\n",
       "      <td>6.5</td>\n",
       "      <td>1.0</td>\n",
       "    </tr>\n",
       "    <tr>\n",
       "      <th>910</th>\n",
       "      <td>Ecom3</td>\n",
       "      <td>12/2/2020</td>\n",
       "      <td>Braintree, MA</td>\n",
       "      <td>MA</td>\n",
       "      <td>2185</td>\n",
       "      <td>FXG</td>\n",
       "      <td>12/2/2020</td>\n",
       "      <td>13.5</td>\n",
       "      <td>2.0</td>\n",
       "    </tr>\n",
       "    <tr>\n",
       "      <th>11834</th>\n",
       "      <td>Ecom3</td>\n",
       "      <td>12/18/2020</td>\n",
       "      <td>Alpharetta</td>\n",
       "      <td>GA</td>\n",
       "      <td>30022</td>\n",
       "      <td>UPS</td>\n",
       "      <td>12/17/2020</td>\n",
       "      <td>41.0</td>\n",
       "      <td>12.0</td>\n",
       "    </tr>\n",
       "    <tr>\n",
       "      <th>18555</th>\n",
       "      <td>Ecom2</td>\n",
       "      <td>12/23/2020</td>\n",
       "      <td>Blairsville</td>\n",
       "      <td>GA</td>\n",
       "      <td>30512</td>\n",
       "      <td>FEH</td>\n",
       "      <td>12/17/2020</td>\n",
       "      <td>7.0</td>\n",
       "      <td>2.0</td>\n",
       "    </tr>\n",
       "    <tr>\n",
       "      <th>11914</th>\n",
       "      <td>Ecom3</td>\n",
       "      <td>12/18/2020</td>\n",
       "      <td>St. Charles</td>\n",
       "      <td>IL</td>\n",
       "      <td>60175</td>\n",
       "      <td>UPS</td>\n",
       "      <td>12/17/2020</td>\n",
       "      <td>21.5</td>\n",
       "      <td>6.0</td>\n",
       "    </tr>\n",
       "  </tbody>\n",
       "</table>\n",
       "</div>"
      ],
      "text/plain": [
       "      Company Name   Ship Date           City State    Zip Shipping Service  \\\n",
       "28711        Ecom1  12/30/2020  Coral Springs    FL  33071              FEH   \n",
       "910          Ecom3   12/2/2020  Braintree, MA    MA   2185              FXG   \n",
       "11834        Ecom3  12/18/2020     Alpharetta    GA  30022              UPS   \n",
       "18555        Ecom2  12/23/2020    Blairsville    GA  30512              FEH   \n",
       "11914        Ecom3  12/18/2020    St. Charles    IL  60175              UPS   \n",
       "\n",
       "      Created Date  Weight  Item/Bottle Count  \n",
       "28711   12/29/2020     6.5                1.0  \n",
       "910      12/2/2020    13.5                2.0  \n",
       "11834   12/17/2020    41.0               12.0  \n",
       "18555   12/17/2020     7.0                2.0  \n",
       "11914   12/17/2020    21.5                6.0  "
      ]
     },
     "execution_count": 23,
     "metadata": {},
     "output_type": "execute_result"
    }
   ],
   "source": [
    "#See five random rows of data\n",
    "df_2020_12.sample(n=5)"
   ]
  },
  {
   "cell_type": "code",
   "execution_count": 24,
   "id": "2f59ad5f",
   "metadata": {},
   "outputs": [
    {
     "name": "stdout",
     "output_type": "stream",
     "text": [
      "Number of Rows:  34831\n",
      "Number of Columns:  9\n"
     ]
    }
   ],
   "source": [
    "#Determine total rows for df_2020_12.\n",
    "df_2020_12_rows = len(df_2020_12.axes[0])\n",
    "df_2020_12_cols = len(df_2020_12.axes[1])\n",
    "print(\"Number of Rows: \", df_2020_12_rows)\n",
    "print(\"Number of Columns: \", df_2020_12_cols)"
   ]
  },
  {
   "cell_type": "markdown",
   "id": "625b4837",
   "metadata": {},
   "source": [
    "## Export Cleaned df to .CSV"
   ]
  },
  {
   "cell_type": "code",
   "execution_count": 25,
   "id": "f5a7980c",
   "metadata": {},
   "outputs": [],
   "source": [
    "#Export df_2020_12 to .csv\n",
    "df_2020_12.to_csv('../cleaned_months_2020/Clean_2020_12.csv') "
   ]
  },
  {
   "cell_type": "code",
   "execution_count": null,
   "id": "aafdefb9",
   "metadata": {},
   "outputs": [],
   "source": []
  }
 ],
 "metadata": {
  "kernelspec": {
   "display_name": "Python 3 (ipykernel)",
   "language": "python",
   "name": "python3"
  },
  "language_info": {
   "codemirror_mode": {
    "name": "ipython",
    "version": 3
   },
   "file_extension": ".py",
   "mimetype": "text/x-python",
   "name": "python",
   "nbconvert_exporter": "python",
   "pygments_lexer": "ipython3",
   "version": "3.7.13"
  }
 },
 "nbformat": 4,
 "nbformat_minor": 5
}
