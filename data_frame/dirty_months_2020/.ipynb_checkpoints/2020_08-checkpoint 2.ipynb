{
 "cells": [
  {
   "cell_type": "code",
   "execution_count": 1,
   "id": "1f30ec89",
   "metadata": {},
   "outputs": [],
   "source": [
    "#Pandas library to create DataFrames\n",
    "import pandas as pd\n",
    "#NumPy library for converting data types\n",
    "import numpy as np"
   ]
  },
  {
   "cell_type": "code",
   "execution_count": 2,
   "id": "7d4569c3",
   "metadata": {},
   "outputs": [],
   "source": [
    "# Files to load\n",
    "load_2020_08 = \"../../2020_Data/2020.08.csv\""
   ]
  },
  {
   "cell_type": "code",
   "execution_count": 3,
   "id": "5bf26e77",
   "metadata": {},
   "outputs": [
    {
     "data": {
      "text/html": [
       "<div>\n",
       "<style scoped>\n",
       "    .dataframe tbody tr th:only-of-type {\n",
       "        vertical-align: middle;\n",
       "    }\n",
       "\n",
       "    .dataframe tbody tr th {\n",
       "        vertical-align: top;\n",
       "    }\n",
       "\n",
       "    .dataframe thead th {\n",
       "        text-align: right;\n",
       "    }\n",
       "</style>\n",
       "<table border=\"1\" class=\"dataframe\">\n",
       "  <thead>\n",
       "    <tr style=\"text-align: right;\">\n",
       "      <th></th>\n",
       "      <th>Company Name</th>\n",
       "      <th>Status</th>\n",
       "      <th>Ship Date</th>\n",
       "      <th>City</th>\n",
       "      <th>State</th>\n",
       "      <th>Zip</th>\n",
       "      <th>Shipping Service</th>\n",
       "      <th>Created Date</th>\n",
       "      <th>Weight</th>\n",
       "      <th>Item/Bottle Count</th>\n",
       "    </tr>\n",
       "  </thead>\n",
       "  <tbody>\n",
       "    <tr>\n",
       "      <th>0</th>\n",
       "      <td>Ecom3</td>\n",
       "      <td>Delivered</td>\n",
       "      <td>8/3/2020</td>\n",
       "      <td>Phoenix</td>\n",
       "      <td>AZ</td>\n",
       "      <td>85016</td>\n",
       "      <td>UPS</td>\n",
       "      <td>7/21/2020</td>\n",
       "      <td>41.0</td>\n",
       "      <td>12</td>\n",
       "    </tr>\n",
       "    <tr>\n",
       "      <th>1</th>\n",
       "      <td>Ecom3</td>\n",
       "      <td>Shipped</td>\n",
       "      <td>8/3/2020</td>\n",
       "      <td>San Francisco</td>\n",
       "      <td>CA</td>\n",
       "      <td>94118</td>\n",
       "      <td>UPS</td>\n",
       "      <td>7/29/2020</td>\n",
       "      <td>21.5</td>\n",
       "      <td>6</td>\n",
       "    </tr>\n",
       "    <tr>\n",
       "      <th>2</th>\n",
       "      <td>Ecom3</td>\n",
       "      <td>Delivered</td>\n",
       "      <td>8/3/2020</td>\n",
       "      <td>La Porte</td>\n",
       "      <td>TX</td>\n",
       "      <td>77571</td>\n",
       "      <td>FEX</td>\n",
       "      <td>7/29/2020</td>\n",
       "      <td>29.0</td>\n",
       "      <td>8</td>\n",
       "    </tr>\n",
       "    <tr>\n",
       "      <th>3</th>\n",
       "      <td>Ecom3</td>\n",
       "      <td>Delivered</td>\n",
       "      <td>8/3/2020</td>\n",
       "      <td>Ketchum</td>\n",
       "      <td>ID</td>\n",
       "      <td>83340</td>\n",
       "      <td>UPS</td>\n",
       "      <td>7/29/2020</td>\n",
       "      <td>21.5</td>\n",
       "      <td>6</td>\n",
       "    </tr>\n",
       "    <tr>\n",
       "      <th>4</th>\n",
       "      <td>Ecom3</td>\n",
       "      <td>Delivered</td>\n",
       "      <td>8/3/2020</td>\n",
       "      <td>Houston</td>\n",
       "      <td>TX</td>\n",
       "      <td>77057</td>\n",
       "      <td>FEX</td>\n",
       "      <td>7/29/2020</td>\n",
       "      <td>21.5</td>\n",
       "      <td>6</td>\n",
       "    </tr>\n",
       "  </tbody>\n",
       "</table>\n",
       "</div>"
      ],
      "text/plain": [
       "  Company Name     Status Ship Date           City State    Zip  \\\n",
       "0        Ecom3  Delivered  8/3/2020        Phoenix    AZ  85016   \n",
       "1        Ecom3    Shipped  8/3/2020  San Francisco    CA  94118   \n",
       "2        Ecom3  Delivered  8/3/2020       La Porte    TX  77571   \n",
       "3        Ecom3  Delivered  8/3/2020        Ketchum    ID  83340   \n",
       "4        Ecom3  Delivered  8/3/2020        Houston    TX  77057   \n",
       "\n",
       "  Shipping Service Created Date  Weight  Item/Bottle Count  \n",
       "0              UPS    7/21/2020    41.0                 12  \n",
       "1              UPS    7/29/2020    21.5                  6  \n",
       "2              FEX    7/29/2020    29.0                  8  \n",
       "3              UPS    7/29/2020    21.5                  6  \n",
       "4              FEX    7/29/2020    21.5                  6  "
      ]
     },
     "execution_count": 3,
     "metadata": {},
     "output_type": "execute_result"
    }
   ],
   "source": [
    "# Read the August CSV into a DataFrame\n",
    "#Had to open each file in excel and save it as a .csv file instead of an .xlsm file in order for the encryption to be read properly.\n",
    "df_2020_08 = pd.read_csv(load_2020_08)\n",
    "df_2020_08.head()"
   ]
  },
  {
   "cell_type": "markdown",
   "id": "175df6a6",
   "metadata": {},
   "source": [
    "## Inspect the Data"
   ]
  },
  {
   "cell_type": "code",
   "execution_count": 4,
   "id": "2cdb2387",
   "metadata": {},
   "outputs": [
    {
     "data": {
      "text/html": [
       "<div>\n",
       "<style scoped>\n",
       "    .dataframe tbody tr th:only-of-type {\n",
       "        vertical-align: middle;\n",
       "    }\n",
       "\n",
       "    .dataframe tbody tr th {\n",
       "        vertical-align: top;\n",
       "    }\n",
       "\n",
       "    .dataframe thead th {\n",
       "        text-align: right;\n",
       "    }\n",
       "</style>\n",
       "<table border=\"1\" class=\"dataframe\">\n",
       "  <thead>\n",
       "    <tr style=\"text-align: right;\">\n",
       "      <th></th>\n",
       "      <th>Company Name</th>\n",
       "      <th>Status</th>\n",
       "      <th>Ship Date</th>\n",
       "      <th>City</th>\n",
       "      <th>State</th>\n",
       "      <th>Zip</th>\n",
       "      <th>Shipping Service</th>\n",
       "      <th>Created Date</th>\n",
       "      <th>Weight</th>\n",
       "      <th>Item/Bottle Count</th>\n",
       "    </tr>\n",
       "  </thead>\n",
       "  <tbody>\n",
       "    <tr>\n",
       "      <th>16286</th>\n",
       "      <td>Ecom3</td>\n",
       "      <td>Delivered</td>\n",
       "      <td>8/24/2020</td>\n",
       "      <td>CORAL GABLES</td>\n",
       "      <td>FL</td>\n",
       "      <td>33134</td>\n",
       "      <td>UPS</td>\n",
       "      <td>8/23/2020</td>\n",
       "      <td>9.9</td>\n",
       "      <td>3</td>\n",
       "    </tr>\n",
       "    <tr>\n",
       "      <th>15813</th>\n",
       "      <td>Ecom2</td>\n",
       "      <td>In Transit</td>\n",
       "      <td>8/21/2020</td>\n",
       "      <td>Leesburg</td>\n",
       "      <td>VA</td>\n",
       "      <td>20176</td>\n",
       "      <td>FEH</td>\n",
       "      <td>8/19/2020</td>\n",
       "      <td>7.0</td>\n",
       "      <td>1</td>\n",
       "    </tr>\n",
       "    <tr>\n",
       "      <th>9163</th>\n",
       "      <td>Ecom3</td>\n",
       "      <td>Delivered</td>\n",
       "      <td>8/20/2020</td>\n",
       "      <td>Southampton</td>\n",
       "      <td>NY</td>\n",
       "      <td>11968</td>\n",
       "      <td>FEH</td>\n",
       "      <td>8/19/2020</td>\n",
       "      <td>9.9</td>\n",
       "      <td>3</td>\n",
       "    </tr>\n",
       "    <tr>\n",
       "      <th>7741</th>\n",
       "      <td>Ecom3</td>\n",
       "      <td>Delivered</td>\n",
       "      <td>8/18/2020</td>\n",
       "      <td>KNOXVILLE</td>\n",
       "      <td>TN</td>\n",
       "      <td>37919-9331</td>\n",
       "      <td>FEX</td>\n",
       "      <td>8/17/2020</td>\n",
       "      <td>29.0</td>\n",
       "      <td>8</td>\n",
       "    </tr>\n",
       "    <tr>\n",
       "      <th>3153</th>\n",
       "      <td>Ecom3</td>\n",
       "      <td>Delivered</td>\n",
       "      <td>8/10/2020</td>\n",
       "      <td>East Aurora</td>\n",
       "      <td>NY</td>\n",
       "      <td>14052</td>\n",
       "      <td>FEH</td>\n",
       "      <td>8/8/2020</td>\n",
       "      <td>14.0</td>\n",
       "      <td>4</td>\n",
       "    </tr>\n",
       "  </tbody>\n",
       "</table>\n",
       "</div>"
      ],
      "text/plain": [
       "      Company Name      Status  Ship Date          City State         Zip  \\\n",
       "16286        Ecom3   Delivered  8/24/2020  CORAL GABLES    FL       33134   \n",
       "15813        Ecom2  In Transit  8/21/2020      Leesburg    VA       20176   \n",
       "9163         Ecom3   Delivered  8/20/2020   Southampton    NY       11968   \n",
       "7741         Ecom3   Delivered  8/18/2020     KNOXVILLE    TN  37919-9331   \n",
       "3153         Ecom3   Delivered  8/10/2020   East Aurora    NY       14052   \n",
       "\n",
       "      Shipping Service Created Date  Weight  Item/Bottle Count  \n",
       "16286              UPS    8/23/2020     9.9                  3  \n",
       "15813              FEH    8/19/2020     7.0                  1  \n",
       "9163               FEH    8/19/2020     9.9                  3  \n",
       "7741               FEX    8/17/2020    29.0                  8  \n",
       "3153               FEH     8/8/2020    14.0                  4  "
      ]
     },
     "execution_count": 4,
     "metadata": {},
     "output_type": "execute_result"
    }
   ],
   "source": [
    "#See five random rows of data\n",
    "df_2020_08.sample(n=5)"
   ]
  },
  {
   "cell_type": "code",
   "execution_count": 5,
   "id": "a7bdb733",
   "metadata": {},
   "outputs": [
    {
     "data": {
      "text/html": [
       "<div>\n",
       "<style scoped>\n",
       "    .dataframe tbody tr th:only-of-type {\n",
       "        vertical-align: middle;\n",
       "    }\n",
       "\n",
       "    .dataframe tbody tr th {\n",
       "        vertical-align: top;\n",
       "    }\n",
       "\n",
       "    .dataframe thead th {\n",
       "        text-align: right;\n",
       "    }\n",
       "</style>\n",
       "<table border=\"1\" class=\"dataframe\">\n",
       "  <thead>\n",
       "    <tr style=\"text-align: right;\">\n",
       "      <th></th>\n",
       "      <th>Company Name</th>\n",
       "      <th>Status</th>\n",
       "      <th>Ship Date</th>\n",
       "      <th>City</th>\n",
       "      <th>State</th>\n",
       "      <th>Zip</th>\n",
       "      <th>Shipping Service</th>\n",
       "      <th>Created Date</th>\n",
       "      <th>Weight</th>\n",
       "      <th>Item/Bottle Count</th>\n",
       "    </tr>\n",
       "  </thead>\n",
       "  <tbody>\n",
       "    <tr>\n",
       "      <th>20183</th>\n",
       "      <td>Winery3</td>\n",
       "      <td>Delivered</td>\n",
       "      <td>8/31/2020</td>\n",
       "      <td>Santa Clara</td>\n",
       "      <td>CA</td>\n",
       "      <td>91387</td>\n",
       "      <td>GSC</td>\n",
       "      <td>8/31/2020</td>\n",
       "      <td>21.5</td>\n",
       "      <td>6</td>\n",
       "    </tr>\n",
       "    <tr>\n",
       "      <th>20184</th>\n",
       "      <td>Winery3</td>\n",
       "      <td>Delivered</td>\n",
       "      <td>8/31/2020</td>\n",
       "      <td>Redwood City</td>\n",
       "      <td>CA</td>\n",
       "      <td>94065</td>\n",
       "      <td>GSC</td>\n",
       "      <td>8/31/2020</td>\n",
       "      <td>21.5</td>\n",
       "      <td>6</td>\n",
       "    </tr>\n",
       "    <tr>\n",
       "      <th>20185</th>\n",
       "      <td>Winery3</td>\n",
       "      <td>Shipped</td>\n",
       "      <td>8/31/2020</td>\n",
       "      <td>San Jose</td>\n",
       "      <td>CA</td>\n",
       "      <td>95134</td>\n",
       "      <td>GSC</td>\n",
       "      <td>8/31/2020</td>\n",
       "      <td>21.5</td>\n",
       "      <td>6</td>\n",
       "    </tr>\n",
       "    <tr>\n",
       "      <th>20186</th>\n",
       "      <td>Winery3</td>\n",
       "      <td>Delivered</td>\n",
       "      <td>8/31/2020</td>\n",
       "      <td>San Diego</td>\n",
       "      <td>CA</td>\n",
       "      <td>92128</td>\n",
       "      <td>GSC</td>\n",
       "      <td>8/31/2020</td>\n",
       "      <td>21.5</td>\n",
       "      <td>6</td>\n",
       "    </tr>\n",
       "    <tr>\n",
       "      <th>20187</th>\n",
       "      <td>Winery3</td>\n",
       "      <td>NaN</td>\n",
       "      <td>8/31/2020</td>\n",
       "      <td>Sunnyvale</td>\n",
       "      <td>CA</td>\n",
       "      <td>94086</td>\n",
       "      <td>GSC</td>\n",
       "      <td>8/31/2020</td>\n",
       "      <td>21.5</td>\n",
       "      <td>6</td>\n",
       "    </tr>\n",
       "  </tbody>\n",
       "</table>\n",
       "</div>"
      ],
      "text/plain": [
       "      Company Name     Status  Ship Date          City State    Zip  \\\n",
       "20183      Winery3  Delivered  8/31/2020   Santa Clara    CA  91387   \n",
       "20184      Winery3  Delivered  8/31/2020  Redwood City    CA  94065   \n",
       "20185      Winery3    Shipped  8/31/2020      San Jose    CA  95134   \n",
       "20186      Winery3  Delivered  8/31/2020     San Diego    CA  92128   \n",
       "20187      Winery3        NaN  8/31/2020     Sunnyvale    CA  94086   \n",
       "\n",
       "      Shipping Service Created Date  Weight  Item/Bottle Count  \n",
       "20183              GSC    8/31/2020    21.5                  6  \n",
       "20184              GSC    8/31/2020    21.5                  6  \n",
       "20185              GSC    8/31/2020    21.5                  6  \n",
       "20186              GSC    8/31/2020    21.5                  6  \n",
       "20187              GSC    8/31/2020    21.5                  6  "
      ]
     },
     "execution_count": 5,
     "metadata": {},
     "output_type": "execute_result"
    }
   ],
   "source": [
    "#See the last rows of data\n",
    "df_2020_08.tail(5)"
   ]
  },
  {
   "cell_type": "code",
   "execution_count": 6,
   "id": "a820ba41",
   "metadata": {},
   "outputs": [
    {
     "data": {
      "text/plain": [
       "Index(['Company Name', 'Status', 'Ship Date', 'City', 'State', 'Zip',\n",
       "       'Shipping Service', 'Created Date', 'Weight', 'Item/Bottle Count'],\n",
       "      dtype='object')"
      ]
     },
     "execution_count": 6,
     "metadata": {},
     "output_type": "execute_result"
    }
   ],
   "source": [
    "df_2020_08.columns"
   ]
  },
  {
   "cell_type": "code",
   "execution_count": 7,
   "id": "7410d9e5",
   "metadata": {},
   "outputs": [
    {
     "name": "stdout",
     "output_type": "stream",
     "text": [
      "Number of Rows:  20188\n",
      "Number of Columns:  10\n"
     ]
    }
   ],
   "source": [
    "#Determine total rows for df_2020_08.\n",
    "df_2020_08_rows = len(df_2020_08.axes[0])\n",
    "df_2020_08_cols = len(df_2020_08.axes[1])\n",
    "print(\"Number of Rows: \", df_2020_08_rows)\n",
    "print(\"Number of Columns: \", df_2020_08_cols)"
   ]
  },
  {
   "cell_type": "code",
   "execution_count": 8,
   "id": "4caf57c3",
   "metadata": {},
   "outputs": [
    {
     "data": {
      "text/plain": [
       "Company Name         0\n",
       "Status               1\n",
       "Ship Date            0\n",
       "City                 0\n",
       "State                0\n",
       "Zip                  0\n",
       "Shipping Service     0\n",
       "Created Date         0\n",
       "Weight               0\n",
       "Item/Bottle Count    0\n",
       "dtype: int64"
      ]
     },
     "execution_count": 8,
     "metadata": {},
     "output_type": "execute_result"
    }
   ],
   "source": [
    "# Determine if there are any missing values in df_2020_08.\n",
    "df_2020_08.isnull().sum()"
   ]
  },
  {
   "cell_type": "code",
   "execution_count": 9,
   "id": "d2ad8510",
   "metadata": {},
   "outputs": [
    {
     "data": {
      "text/plain": [
       "Company Name          object\n",
       "Status                object\n",
       "Ship Date             object\n",
       "City                  object\n",
       "State                 object\n",
       "Zip                   object\n",
       "Shipping Service      object\n",
       "Created Date          object\n",
       "Weight               float64\n",
       "Item/Bottle Count      int64\n",
       "dtype: object"
      ]
     },
     "execution_count": 9,
     "metadata": {},
     "output_type": "execute_result"
    }
   ],
   "source": [
    "# Determine data types for df_2020_08.\n",
    "df_2020_08.dtypes"
   ]
  },
  {
   "cell_type": "code",
   "execution_count": 10,
   "id": "4061fbbf",
   "metadata": {},
   "outputs": [
    {
     "data": {
      "text/plain": [
       "Ecom3      10036\n",
       "Ecom2       6362\n",
       "Ecom1       3509\n",
       "Winery1      208\n",
       "Winery3       59\n",
       "Winery2       14\n",
       "Name: Company Name, dtype: int64"
      ]
     },
     "execution_count": 10,
     "metadata": {},
     "output_type": "execute_result"
    }
   ],
   "source": [
    "df_2020_08['Company Name'].value_counts()"
   ]
  },
  {
   "cell_type": "code",
   "execution_count": 11,
   "id": "aac39571",
   "metadata": {},
   "outputs": [
    {
     "data": {
      "text/plain": [
       "8/21/2020    3855\n",
       "8/20/2020    3021\n",
       "8/3/2020     1205\n",
       "8/10/2020    1136\n",
       "8/31/2020    1064\n",
       "8/17/2020    1030\n",
       "8/12/2020    1015\n",
       "8/24/2020     919\n",
       "8/11/2020     840\n",
       "8/4/2020      784\n",
       "8/25/2020     713\n",
       "8/18/2020     689\n",
       "8/19/2020     577\n",
       "8/5/2020      485\n",
       "8/26/2020     463\n",
       "8/30/2020     387\n",
       "8/13/2020     363\n",
       "8/7/2020      311\n",
       "8/6/2020      286\n",
       "8/14/2020     285\n",
       "8/27/2020     271\n",
       "8/28/2020     251\n",
       "8/23/2020     238\n",
       "Name: Ship Date, dtype: int64"
      ]
     },
     "execution_count": 11,
     "metadata": {},
     "output_type": "execute_result"
    }
   ],
   "source": [
    "df_2020_08['Ship Date'].value_counts()"
   ]
  },
  {
   "cell_type": "code",
   "execution_count": 12,
   "id": "ff45ee9d",
   "metadata": {},
   "outputs": [
    {
     "data": {
      "text/plain": [
       "Delivered            10731\n",
       "In Transit            8466\n",
       "Shipped                797\n",
       "Carrier Exception      142\n",
       "Delivery Attempt        51\n",
       "Name: Status, dtype: int64"
      ]
     },
     "execution_count": 12,
     "metadata": {},
     "output_type": "execute_result"
    }
   ],
   "source": [
    "df_2020_08['Status'].value_counts()"
   ]
  },
  {
   "cell_type": "code",
   "execution_count": 13,
   "id": "ae707cc4",
   "metadata": {},
   "outputs": [
    {
     "data": {
      "text/plain": [
       "New York              335\n",
       "Chicago               286\n",
       "Philadelphia          169\n",
       "Los Angeles           149\n",
       "Brooklyn              144\n",
       "                     ... \n",
       "Upper saddle river      1\n",
       "Rensselaer              1\n",
       "WILLIAMSBURG            1\n",
       "Feasterville            1\n",
       "berwick                 1\n",
       "Name: City, Length: 5073, dtype: int64"
      ]
     },
     "execution_count": 13,
     "metadata": {},
     "output_type": "execute_result"
    }
   ],
   "source": [
    "df_2020_08['City'].value_counts()"
   ]
  },
  {
   "cell_type": "code",
   "execution_count": 14,
   "id": "a8718b4d",
   "metadata": {},
   "outputs": [
    {
     "data": {
      "text/plain": [
       "CA    2141\n",
       "NY    2023\n",
       "PA    1584\n",
       "NJ    1219\n",
       "FL    1191\n",
       "IL     969\n",
       "TX     856\n",
       "MA     855\n",
       "VA     831\n",
       "MI     743\n",
       "OH     727\n",
       "NC     681\n",
       "MD     632\n",
       "GA     531\n",
       "CT     420\n",
       "WA     395\n",
       "CO     382\n",
       "IN     337\n",
       "WI     309\n",
       "MN     306\n",
       "MO     274\n",
       "TN     263\n",
       "SC     214\n",
       "OR     179\n",
       "AZ     178\n",
       "HI     169\n",
       "RI     152\n",
       "NH     149\n",
       "LA     145\n",
       "NE     143\n",
       "DC     138\n",
       "IA     117\n",
       "OK     102\n",
       "KS     101\n",
       "ME      97\n",
       "AR      84\n",
       "NV      83\n",
       "WV      70\n",
       "NM      56\n",
       "DE      56\n",
       "ID      48\n",
       "VT      48\n",
       "MT      43\n",
       "WY      39\n",
       "AK      37\n",
       "ND      34\n",
       "SD      24\n",
       "AL      13\n",
       "Name: State, dtype: int64"
      ]
     },
     "execution_count": 14,
     "metadata": {},
     "output_type": "execute_result"
    }
   ],
   "source": [
    "df_2020_08['State'].value_counts()"
   ]
  },
  {
   "cell_type": "code",
   "execution_count": 15,
   "id": "aba1ce28",
   "metadata": {},
   "outputs": [
    {
     "data": {
      "text/plain": [
       "7030          28\n",
       "10019         27\n",
       "11201         26\n",
       "96813         26\n",
       "19103         26\n",
       "              ..\n",
       "11962          1\n",
       "06762-1515     1\n",
       "46304          1\n",
       "37409          1\n",
       "70342          1\n",
       "Name: Zip, Length: 7261, dtype: int64"
      ]
     },
     "execution_count": 15,
     "metadata": {},
     "output_type": "execute_result"
    }
   ],
   "source": [
    "df_2020_08['Zip'].value_counts()"
   ]
  },
  {
   "cell_type": "code",
   "execution_count": 16,
   "id": "85be0dcc",
   "metadata": {},
   "outputs": [
    {
     "data": {
      "text/plain": [
       "UPS      9886\n",
       "FEH      8444\n",
       "FXG      1009\n",
       "FEX       768\n",
       "GSC        38\n",
       "UP2        20\n",
       "UP3         9\n",
       "UP1         6\n",
       "AZS         5\n",
       "FXP         1\n",
       "azs         1\n",
       "UPSNS       1\n",
       "Name: Shipping Service, dtype: int64"
      ]
     },
     "execution_count": 16,
     "metadata": {},
     "output_type": "execute_result"
    }
   ],
   "source": [
    "df_2020_08['Shipping Service'].value_counts()"
   ]
  },
  {
   "cell_type": "code",
   "execution_count": 17,
   "id": "74be41f6",
   "metadata": {},
   "outputs": [
    {
     "data": {
      "text/plain": [
       "8/19/2020    6939\n",
       "8/11/2020     798\n",
       "8/8/2020      789\n",
       "8/9/2020      648\n",
       "8/16/2020     625\n",
       "8/21/2020     562\n",
       "8/2/2020      560\n",
       "8/12/2020     544\n",
       "7/31/2020     528\n",
       "8/18/2020     495\n",
       "8/29/2020     478\n",
       "8/17/2020     458\n",
       "8/20/2020     445\n",
       "8/3/2020      432\n",
       "8/4/2020      429\n",
       "8/23/2020     429\n",
       "8/26/2020     425\n",
       "8/25/2020     416\n",
       "8/10/2020     408\n",
       "8/5/2020      386\n",
       "8/24/2020     348\n",
       "8/27/2020     346\n",
       "8/30/2020     314\n",
       "8/7/2020      303\n",
       "8/6/2020      300\n",
       "8/13/2020     287\n",
       "8/14/2020     281\n",
       "8/1/2020      267\n",
       "8/28/2020     249\n",
       "8/31/2020     233\n",
       "8/22/2020     210\n",
       "8/15/2020     145\n",
       "7/30/2020      77\n",
       "7/29/2020      18\n",
       "7/28/2020       8\n",
       "7/24/2020       2\n",
       "7/27/2020       2\n",
       "2/24/2020       1\n",
       "7/26/2020       1\n",
       "7/17/2020       1\n",
       "7/21/2020       1\n",
       "Name: Created Date, dtype: int64"
      ]
     },
     "execution_count": 17,
     "metadata": {},
     "output_type": "execute_result"
    }
   ],
   "source": [
    "df_2020_08['Created Date'].value_counts()\n",
    "#Ok to have dates from other months- Sometimes people will create an order and hold onto it until an adult is present to sign for delivery."
   ]
  },
  {
   "cell_type": "code",
   "execution_count": 18,
   "id": "34adbd2f",
   "metadata": {},
   "outputs": [
    {
     "data": {
      "text/plain": [
       "7.00     6784\n",
       "21.50    5659\n",
       "10.50    1791\n",
       "41.00    1744\n",
       "20.20     850\n",
       "14.00     828\n",
       "39.00     630\n",
       "9.90      438\n",
       "29.00     323\n",
       "18.50     251\n",
       "35.00     135\n",
       "26.00     128\n",
       "32.00     123\n",
       "3.35      110\n",
       "38.00      61\n",
       "27.00      40\n",
       "7.50       40\n",
       "19.20      30\n",
       "4.00       28\n",
       "20.00      26\n",
       "30.00      22\n",
       "10.00      21\n",
       "24.00      21\n",
       "37.00      16\n",
       "13.50      15\n",
       "33.00      14\n",
       "17.20      11\n",
       "14.20       8\n",
       "36.00       8\n",
       "18.20       5\n",
       "23.00       4\n",
       "9.50        4\n",
       "20.50       3\n",
       "3.00        3\n",
       "16.20       2\n",
       "11.50       2\n",
       "21.00       2\n",
       "40.00       1\n",
       "11.00       1\n",
       "6.90        1\n",
       "22.00       1\n",
       "5.00        1\n",
       "8.00        1\n",
       "13.00       1\n",
       "36.50       1\n",
       "Name: Weight, dtype: int64"
      ]
     },
     "execution_count": 18,
     "metadata": {},
     "output_type": "execute_result"
    }
   ],
   "source": [
    "df_2020_08['Weight'].value_counts()"
   ]
  },
  {
   "cell_type": "code",
   "execution_count": 19,
   "id": "73bd62e8",
   "metadata": {},
   "outputs": [
    {
     "data": {
      "text/plain": [
       "6     6553\n",
       "1     6545\n",
       "12    2389\n",
       "3     2250\n",
       "4      847\n",
       "2      421\n",
       "8      354\n",
       "5      262\n",
       "7      179\n",
       "10     148\n",
       "9      146\n",
       "11      38\n",
       "13      25\n",
       "14      17\n",
       "15       7\n",
       "16       3\n",
       "24       2\n",
       "18       1\n",
       "22       1\n",
       "Name: Item/Bottle Count, dtype: int64"
      ]
     },
     "execution_count": 19,
     "metadata": {},
     "output_type": "execute_result"
    }
   ],
   "source": [
    "df_2020_08['Item/Bottle Count'].value_counts()"
   ]
  },
  {
   "cell_type": "markdown",
   "id": "b28748d1",
   "metadata": {},
   "source": [
    "## Clean the Data"
   ]
  },
  {
   "cell_type": "code",
   "execution_count": 20,
   "id": "ae2074b6",
   "metadata": {},
   "outputs": [],
   "source": [
    "#Change dtypes if necessary"
   ]
  },
  {
   "cell_type": "code",
   "execution_count": 21,
   "id": "2de5f1ce",
   "metadata": {},
   "outputs": [
    {
     "data": {
      "text/html": [
       "<div>\n",
       "<style scoped>\n",
       "    .dataframe tbody tr th:only-of-type {\n",
       "        vertical-align: middle;\n",
       "    }\n",
       "\n",
       "    .dataframe tbody tr th {\n",
       "        vertical-align: top;\n",
       "    }\n",
       "\n",
       "    .dataframe thead th {\n",
       "        text-align: right;\n",
       "    }\n",
       "</style>\n",
       "<table border=\"1\" class=\"dataframe\">\n",
       "  <thead>\n",
       "    <tr style=\"text-align: right;\">\n",
       "      <th></th>\n",
       "      <th>Company Name</th>\n",
       "      <th>Ship Date</th>\n",
       "      <th>City</th>\n",
       "      <th>State</th>\n",
       "      <th>Zip</th>\n",
       "      <th>Shipping Service</th>\n",
       "      <th>Created Date</th>\n",
       "      <th>Weight</th>\n",
       "      <th>Item/Bottle Count</th>\n",
       "    </tr>\n",
       "  </thead>\n",
       "  <tbody>\n",
       "    <tr>\n",
       "      <th>0</th>\n",
       "      <td>Ecom3</td>\n",
       "      <td>8/3/2020</td>\n",
       "      <td>Phoenix</td>\n",
       "      <td>AZ</td>\n",
       "      <td>85016</td>\n",
       "      <td>UPS</td>\n",
       "      <td>7/21/2020</td>\n",
       "      <td>41.0</td>\n",
       "      <td>12</td>\n",
       "    </tr>\n",
       "    <tr>\n",
       "      <th>1</th>\n",
       "      <td>Ecom3</td>\n",
       "      <td>8/3/2020</td>\n",
       "      <td>San Francisco</td>\n",
       "      <td>CA</td>\n",
       "      <td>94118</td>\n",
       "      <td>UPS</td>\n",
       "      <td>7/29/2020</td>\n",
       "      <td>21.5</td>\n",
       "      <td>6</td>\n",
       "    </tr>\n",
       "    <tr>\n",
       "      <th>2</th>\n",
       "      <td>Ecom3</td>\n",
       "      <td>8/3/2020</td>\n",
       "      <td>La Porte</td>\n",
       "      <td>TX</td>\n",
       "      <td>77571</td>\n",
       "      <td>FEX</td>\n",
       "      <td>7/29/2020</td>\n",
       "      <td>29.0</td>\n",
       "      <td>8</td>\n",
       "    </tr>\n",
       "    <tr>\n",
       "      <th>3</th>\n",
       "      <td>Ecom3</td>\n",
       "      <td>8/3/2020</td>\n",
       "      <td>Ketchum</td>\n",
       "      <td>ID</td>\n",
       "      <td>83340</td>\n",
       "      <td>UPS</td>\n",
       "      <td>7/29/2020</td>\n",
       "      <td>21.5</td>\n",
       "      <td>6</td>\n",
       "    </tr>\n",
       "    <tr>\n",
       "      <th>4</th>\n",
       "      <td>Ecom3</td>\n",
       "      <td>8/3/2020</td>\n",
       "      <td>Houston</td>\n",
       "      <td>TX</td>\n",
       "      <td>77057</td>\n",
       "      <td>FEX</td>\n",
       "      <td>7/29/2020</td>\n",
       "      <td>21.5</td>\n",
       "      <td>6</td>\n",
       "    </tr>\n",
       "    <tr>\n",
       "      <th>...</th>\n",
       "      <td>...</td>\n",
       "      <td>...</td>\n",
       "      <td>...</td>\n",
       "      <td>...</td>\n",
       "      <td>...</td>\n",
       "      <td>...</td>\n",
       "      <td>...</td>\n",
       "      <td>...</td>\n",
       "      <td>...</td>\n",
       "    </tr>\n",
       "    <tr>\n",
       "      <th>20183</th>\n",
       "      <td>Winery3</td>\n",
       "      <td>8/31/2020</td>\n",
       "      <td>Santa Clara</td>\n",
       "      <td>CA</td>\n",
       "      <td>91387</td>\n",
       "      <td>GSC</td>\n",
       "      <td>8/31/2020</td>\n",
       "      <td>21.5</td>\n",
       "      <td>6</td>\n",
       "    </tr>\n",
       "    <tr>\n",
       "      <th>20184</th>\n",
       "      <td>Winery3</td>\n",
       "      <td>8/31/2020</td>\n",
       "      <td>Redwood City</td>\n",
       "      <td>CA</td>\n",
       "      <td>94065</td>\n",
       "      <td>GSC</td>\n",
       "      <td>8/31/2020</td>\n",
       "      <td>21.5</td>\n",
       "      <td>6</td>\n",
       "    </tr>\n",
       "    <tr>\n",
       "      <th>20185</th>\n",
       "      <td>Winery3</td>\n",
       "      <td>8/31/2020</td>\n",
       "      <td>San Jose</td>\n",
       "      <td>CA</td>\n",
       "      <td>95134</td>\n",
       "      <td>GSC</td>\n",
       "      <td>8/31/2020</td>\n",
       "      <td>21.5</td>\n",
       "      <td>6</td>\n",
       "    </tr>\n",
       "    <tr>\n",
       "      <th>20186</th>\n",
       "      <td>Winery3</td>\n",
       "      <td>8/31/2020</td>\n",
       "      <td>San Diego</td>\n",
       "      <td>CA</td>\n",
       "      <td>92128</td>\n",
       "      <td>GSC</td>\n",
       "      <td>8/31/2020</td>\n",
       "      <td>21.5</td>\n",
       "      <td>6</td>\n",
       "    </tr>\n",
       "    <tr>\n",
       "      <th>20187</th>\n",
       "      <td>Winery3</td>\n",
       "      <td>8/31/2020</td>\n",
       "      <td>Sunnyvale</td>\n",
       "      <td>CA</td>\n",
       "      <td>94086</td>\n",
       "      <td>GSC</td>\n",
       "      <td>8/31/2020</td>\n",
       "      <td>21.5</td>\n",
       "      <td>6</td>\n",
       "    </tr>\n",
       "  </tbody>\n",
       "</table>\n",
       "<p>20188 rows × 9 columns</p>\n",
       "</div>"
      ],
      "text/plain": [
       "      Company Name  Ship Date           City State    Zip Shipping Service  \\\n",
       "0            Ecom3   8/3/2020        Phoenix    AZ  85016              UPS   \n",
       "1            Ecom3   8/3/2020  San Francisco    CA  94118              UPS   \n",
       "2            Ecom3   8/3/2020       La Porte    TX  77571              FEX   \n",
       "3            Ecom3   8/3/2020        Ketchum    ID  83340              UPS   \n",
       "4            Ecom3   8/3/2020        Houston    TX  77057              FEX   \n",
       "...            ...        ...            ...   ...    ...              ...   \n",
       "20183      Winery3  8/31/2020    Santa Clara    CA  91387              GSC   \n",
       "20184      Winery3  8/31/2020   Redwood City    CA  94065              GSC   \n",
       "20185      Winery3  8/31/2020       San Jose    CA  95134              GSC   \n",
       "20186      Winery3  8/31/2020      San Diego    CA  92128              GSC   \n",
       "20187      Winery3  8/31/2020      Sunnyvale    CA  94086              GSC   \n",
       "\n",
       "      Created Date  Weight  Item/Bottle Count  \n",
       "0        7/21/2020    41.0                 12  \n",
       "1        7/29/2020    21.5                  6  \n",
       "2        7/29/2020    29.0                  8  \n",
       "3        7/29/2020    21.5                  6  \n",
       "4        7/29/2020    21.5                  6  \n",
       "...            ...     ...                ...  \n",
       "20183    8/31/2020    21.5                  6  \n",
       "20184    8/31/2020    21.5                  6  \n",
       "20185    8/31/2020    21.5                  6  \n",
       "20186    8/31/2020    21.5                  6  \n",
       "20187    8/31/2020    21.5                  6  \n",
       "\n",
       "[20188 rows x 9 columns]"
      ]
     },
     "execution_count": 21,
     "metadata": {},
     "output_type": "execute_result"
    }
   ],
   "source": [
    "#Remove \"Status\" column from df_2020_08.\n",
    "df_2020_08 = df_2020_08.drop('Status', axis=1)\n",
    "df_2020_08"
   ]
  },
  {
   "cell_type": "code",
   "execution_count": 22,
   "id": "0374b7d7",
   "metadata": {},
   "outputs": [],
   "source": [
    "# Drop the NaNs for df_2020_08.\n",
    "df_2020_08 = df_2020_08.dropna()"
   ]
  },
  {
   "cell_type": "markdown",
   "id": "b54ac18d",
   "metadata": {},
   "source": [
    "## Confirm Changes"
   ]
  },
  {
   "cell_type": "code",
   "execution_count": 23,
   "id": "717b65ec",
   "metadata": {},
   "outputs": [
    {
     "data": {
      "text/html": [
       "<div>\n",
       "<style scoped>\n",
       "    .dataframe tbody tr th:only-of-type {\n",
       "        vertical-align: middle;\n",
       "    }\n",
       "\n",
       "    .dataframe tbody tr th {\n",
       "        vertical-align: top;\n",
       "    }\n",
       "\n",
       "    .dataframe thead th {\n",
       "        text-align: right;\n",
       "    }\n",
       "</style>\n",
       "<table border=\"1\" class=\"dataframe\">\n",
       "  <thead>\n",
       "    <tr style=\"text-align: right;\">\n",
       "      <th></th>\n",
       "      <th>Company Name</th>\n",
       "      <th>Ship Date</th>\n",
       "      <th>City</th>\n",
       "      <th>State</th>\n",
       "      <th>Zip</th>\n",
       "      <th>Shipping Service</th>\n",
       "      <th>Created Date</th>\n",
       "      <th>Weight</th>\n",
       "      <th>Item/Bottle Count</th>\n",
       "    </tr>\n",
       "  </thead>\n",
       "  <tbody>\n",
       "    <tr>\n",
       "      <th>18434</th>\n",
       "      <td>Ecom3</td>\n",
       "      <td>8/27/2020</td>\n",
       "      <td>Burlingame</td>\n",
       "      <td>CA</td>\n",
       "      <td>94010</td>\n",
       "      <td>UPS</td>\n",
       "      <td>8/27/2020</td>\n",
       "      <td>21.5</td>\n",
       "      <td>6</td>\n",
       "    </tr>\n",
       "    <tr>\n",
       "      <th>5925</th>\n",
       "      <td>Ecom3</td>\n",
       "      <td>8/12/2020</td>\n",
       "      <td>Jersey City</td>\n",
       "      <td>NJ</td>\n",
       "      <td>7310</td>\n",
       "      <td>UPS</td>\n",
       "      <td>8/11/2020</td>\n",
       "      <td>21.5</td>\n",
       "      <td>6</td>\n",
       "    </tr>\n",
       "    <tr>\n",
       "      <th>13064</th>\n",
       "      <td>Ecom2</td>\n",
       "      <td>8/21/2020</td>\n",
       "      <td>Beckley</td>\n",
       "      <td>WV</td>\n",
       "      <td>25801</td>\n",
       "      <td>FEH</td>\n",
       "      <td>8/19/2020</td>\n",
       "      <td>7.0</td>\n",
       "      <td>1</td>\n",
       "    </tr>\n",
       "    <tr>\n",
       "      <th>19345</th>\n",
       "      <td>Ecom3</td>\n",
       "      <td>8/31/2020</td>\n",
       "      <td>San Antonio</td>\n",
       "      <td>TX</td>\n",
       "      <td>78240</td>\n",
       "      <td>FEX</td>\n",
       "      <td>8/30/2020</td>\n",
       "      <td>41.0</td>\n",
       "      <td>12</td>\n",
       "    </tr>\n",
       "    <tr>\n",
       "      <th>1615</th>\n",
       "      <td>Ecom1</td>\n",
       "      <td>8/4/2020</td>\n",
       "      <td>Bronx</td>\n",
       "      <td>NY</td>\n",
       "      <td>10463</td>\n",
       "      <td>FEH</td>\n",
       "      <td>7/31/2020</td>\n",
       "      <td>39.0</td>\n",
       "      <td>12</td>\n",
       "    </tr>\n",
       "  </tbody>\n",
       "</table>\n",
       "</div>"
      ],
      "text/plain": [
       "      Company Name  Ship Date         City State    Zip Shipping Service  \\\n",
       "18434        Ecom3  8/27/2020   Burlingame    CA  94010              UPS   \n",
       "5925         Ecom3  8/12/2020  Jersey City    NJ   7310              UPS   \n",
       "13064        Ecom2  8/21/2020      Beckley    WV  25801              FEH   \n",
       "19345        Ecom3  8/31/2020  San Antonio    TX  78240              FEX   \n",
       "1615         Ecom1   8/4/2020        Bronx    NY  10463              FEH   \n",
       "\n",
       "      Created Date  Weight  Item/Bottle Count  \n",
       "18434    8/27/2020    21.5                  6  \n",
       "5925     8/11/2020    21.5                  6  \n",
       "13064    8/19/2020     7.0                  1  \n",
       "19345    8/30/2020    41.0                 12  \n",
       "1615     7/31/2020    39.0                 12  "
      ]
     },
     "execution_count": 23,
     "metadata": {},
     "output_type": "execute_result"
    }
   ],
   "source": [
    "#See five random rows of data\n",
    "df_2020_08.sample(n=5)"
   ]
  },
  {
   "cell_type": "code",
   "execution_count": 24,
   "id": "2f59ad5f",
   "metadata": {},
   "outputs": [
    {
     "name": "stdout",
     "output_type": "stream",
     "text": [
      "Number of Rows:  20188\n",
      "Number of Columns:  9\n"
     ]
    }
   ],
   "source": [
    "#Determine total rows for df_2020_08.\n",
    "df_2020_08_rows = len(df_2020_08.axes[0])\n",
    "df_2020_08_cols = len(df_2020_08.axes[1])\n",
    "print(\"Number of Rows: \", df_2020_08_rows)\n",
    "print(\"Number of Columns: \", df_2020_08_cols)"
   ]
  },
  {
   "cell_type": "markdown",
   "id": "625b4837",
   "metadata": {},
   "source": [
    "## Export Cleaned df to .CSV"
   ]
  },
  {
   "cell_type": "code",
   "execution_count": 25,
   "id": "f5a7980c",
   "metadata": {},
   "outputs": [],
   "source": [
    "#Export df_2020_08 to .csv\n",
    "df_2020_08.to_csv('../cleaned_months_2020/Clean_2020_08.csv') "
   ]
  },
  {
   "cell_type": "code",
   "execution_count": null,
   "id": "aafdefb9",
   "metadata": {},
   "outputs": [],
   "source": []
  }
 ],
 "metadata": {
  "kernelspec": {
   "display_name": "Python 3 (ipykernel)",
   "language": "python",
   "name": "python3"
  },
  "language_info": {
   "codemirror_mode": {
    "name": "ipython",
    "version": 3
   },
   "file_extension": ".py",
   "mimetype": "text/x-python",
   "name": "python",
   "nbconvert_exporter": "python",
   "pygments_lexer": "ipython3",
   "version": "3.7.13"
  }
 },
 "nbformat": 4,
 "nbformat_minor": 5
}
