{
 "cells": [
  {
   "cell_type": "code",
   "execution_count": 1,
   "id": "1f30ec89",
   "metadata": {},
   "outputs": [],
   "source": [
    "#Pandas library to create DataFrames\n",
    "import pandas as pd\n",
    "#NumPy library for converting data types\n",
    "import numpy as np"
   ]
  },
  {
   "cell_type": "code",
   "execution_count": 2,
   "id": "7d4569c3",
   "metadata": {},
   "outputs": [],
   "source": [
    "# Files to load\n",
    "load_2020_07 = \"../../2020_Data/2020.07.csv\""
   ]
  },
  {
   "cell_type": "code",
   "execution_count": 3,
   "id": "5bf26e77",
   "metadata": {},
   "outputs": [
    {
     "data": {
      "text/html": [
       "<div>\n",
       "<style scoped>\n",
       "    .dataframe tbody tr th:only-of-type {\n",
       "        vertical-align: middle;\n",
       "    }\n",
       "\n",
       "    .dataframe tbody tr th {\n",
       "        vertical-align: top;\n",
       "    }\n",
       "\n",
       "    .dataframe thead th {\n",
       "        text-align: right;\n",
       "    }\n",
       "</style>\n",
       "<table border=\"1\" class=\"dataframe\">\n",
       "  <thead>\n",
       "    <tr style=\"text-align: right;\">\n",
       "      <th></th>\n",
       "      <th>Company Name</th>\n",
       "      <th>Status</th>\n",
       "      <th>Ship Date</th>\n",
       "      <th>City</th>\n",
       "      <th>State</th>\n",
       "      <th>Zip</th>\n",
       "      <th>Shipping Service</th>\n",
       "      <th>Created Date</th>\n",
       "      <th>Weight</th>\n",
       "      <th>Item/Bottle Count</th>\n",
       "    </tr>\n",
       "  </thead>\n",
       "  <tbody>\n",
       "    <tr>\n",
       "      <th>0</th>\n",
       "      <td>Ecom2</td>\n",
       "      <td>NaN</td>\n",
       "      <td>7/1/20</td>\n",
       "      <td>Keysville</td>\n",
       "      <td>VA</td>\n",
       "      <td>23947</td>\n",
       "      <td>FEH</td>\n",
       "      <td>6/30/20</td>\n",
       "      <td>7.0</td>\n",
       "      <td>1</td>\n",
       "    </tr>\n",
       "    <tr>\n",
       "      <th>1</th>\n",
       "      <td>Ecom2</td>\n",
       "      <td>NaN</td>\n",
       "      <td>7/1/20</td>\n",
       "      <td>Jacksonville</td>\n",
       "      <td>FL</td>\n",
       "      <td>32259</td>\n",
       "      <td>FEH</td>\n",
       "      <td>6/30/20</td>\n",
       "      <td>7.0</td>\n",
       "      <td>1</td>\n",
       "    </tr>\n",
       "    <tr>\n",
       "      <th>2</th>\n",
       "      <td>Ecom2</td>\n",
       "      <td>NaN</td>\n",
       "      <td>7/1/20</td>\n",
       "      <td>Quakertown</td>\n",
       "      <td>PA</td>\n",
       "      <td>18951</td>\n",
       "      <td>UPS</td>\n",
       "      <td>6/30/20</td>\n",
       "      <td>7.0</td>\n",
       "      <td>1</td>\n",
       "    </tr>\n",
       "    <tr>\n",
       "      <th>3</th>\n",
       "      <td>Ecom2</td>\n",
       "      <td>NaN</td>\n",
       "      <td>7/1/20</td>\n",
       "      <td>Thousand Oaks</td>\n",
       "      <td>CA</td>\n",
       "      <td>91362</td>\n",
       "      <td>UPS</td>\n",
       "      <td>6/30/20</td>\n",
       "      <td>7.0</td>\n",
       "      <td>1</td>\n",
       "    </tr>\n",
       "    <tr>\n",
       "      <th>4</th>\n",
       "      <td>Winery2</td>\n",
       "      <td>NaN</td>\n",
       "      <td>7/2/20</td>\n",
       "      <td>Aiken</td>\n",
       "      <td>SC</td>\n",
       "      <td>29803</td>\n",
       "      <td>UPS</td>\n",
       "      <td>6/30/20</td>\n",
       "      <td>39.0</td>\n",
       "      <td>12</td>\n",
       "    </tr>\n",
       "  </tbody>\n",
       "</table>\n",
       "</div>"
      ],
      "text/plain": [
       "  Company Name  Status Ship Date           City State    Zip Shipping Service  \\\n",
       "0        Ecom2     NaN    7/1/20      Keysville    VA  23947              FEH   \n",
       "1        Ecom2     NaN    7/1/20   Jacksonville    FL  32259              FEH   \n",
       "2        Ecom2     NaN    7/1/20     Quakertown    PA  18951              UPS   \n",
       "3        Ecom2     NaN    7/1/20  Thousand Oaks    CA  91362              UPS   \n",
       "4      Winery2     NaN    7/2/20          Aiken    SC  29803              UPS   \n",
       "\n",
       "  Created Date  Weight  Item/Bottle Count  \n",
       "0      6/30/20     7.0                  1  \n",
       "1      6/30/20     7.0                  1  \n",
       "2      6/30/20     7.0                  1  \n",
       "3      6/30/20     7.0                  1  \n",
       "4      6/30/20    39.0                 12  "
      ]
     },
     "execution_count": 3,
     "metadata": {},
     "output_type": "execute_result"
    }
   ],
   "source": [
    "# Read the July CSV into a DataFrame\n",
    "#Had to open each file in excel and save it as a .csv file instead of an .xlsm file in order for the encryption to be read properly.\n",
    "df_2020_07 = pd.read_csv(load_2020_07)\n",
    "df_2020_07.head()"
   ]
  },
  {
   "cell_type": "markdown",
   "id": "175df6a6",
   "metadata": {},
   "source": [
    "## Inspect the Data"
   ]
  },
  {
   "cell_type": "code",
   "execution_count": 4,
   "id": "2cdb2387",
   "metadata": {},
   "outputs": [
    {
     "data": {
      "text/html": [
       "<div>\n",
       "<style scoped>\n",
       "    .dataframe tbody tr th:only-of-type {\n",
       "        vertical-align: middle;\n",
       "    }\n",
       "\n",
       "    .dataframe tbody tr th {\n",
       "        vertical-align: top;\n",
       "    }\n",
       "\n",
       "    .dataframe thead th {\n",
       "        text-align: right;\n",
       "    }\n",
       "</style>\n",
       "<table border=\"1\" class=\"dataframe\">\n",
       "  <thead>\n",
       "    <tr style=\"text-align: right;\">\n",
       "      <th></th>\n",
       "      <th>Company Name</th>\n",
       "      <th>Status</th>\n",
       "      <th>Ship Date</th>\n",
       "      <th>City</th>\n",
       "      <th>State</th>\n",
       "      <th>Zip</th>\n",
       "      <th>Shipping Service</th>\n",
       "      <th>Created Date</th>\n",
       "      <th>Weight</th>\n",
       "      <th>Item/Bottle Count</th>\n",
       "    </tr>\n",
       "  </thead>\n",
       "  <tbody>\n",
       "    <tr>\n",
       "      <th>6970</th>\n",
       "      <td>Ecom3</td>\n",
       "      <td>NaN</td>\n",
       "      <td>7/13/20</td>\n",
       "      <td>Conshohocken</td>\n",
       "      <td>PA</td>\n",
       "      <td>19428</td>\n",
       "      <td>UPS</td>\n",
       "      <td>7/10/20</td>\n",
       "      <td>41.0</td>\n",
       "      <td>12</td>\n",
       "    </tr>\n",
       "    <tr>\n",
       "      <th>8048</th>\n",
       "      <td>Ecom1</td>\n",
       "      <td>NaN</td>\n",
       "      <td>7/23/20</td>\n",
       "      <td>Grove City</td>\n",
       "      <td>OH</td>\n",
       "      <td>43123</td>\n",
       "      <td>FEH</td>\n",
       "      <td>7/23/20</td>\n",
       "      <td>10.5</td>\n",
       "      <td>3</td>\n",
       "    </tr>\n",
       "    <tr>\n",
       "      <th>8574</th>\n",
       "      <td>Winery1</td>\n",
       "      <td>NaN</td>\n",
       "      <td>7/24/20</td>\n",
       "      <td>Napa</td>\n",
       "      <td>CA</td>\n",
       "      <td>94558</td>\n",
       "      <td>WCU</td>\n",
       "      <td>7/24/20</td>\n",
       "      <td>39.0</td>\n",
       "      <td>12</td>\n",
       "    </tr>\n",
       "    <tr>\n",
       "      <th>10667</th>\n",
       "      <td>Ecom2</td>\n",
       "      <td>NaN</td>\n",
       "      <td>7/22/20</td>\n",
       "      <td>Schenectady</td>\n",
       "      <td>NY</td>\n",
       "      <td>12305</td>\n",
       "      <td>FEH</td>\n",
       "      <td>7/20/20</td>\n",
       "      <td>7.0</td>\n",
       "      <td>1</td>\n",
       "    </tr>\n",
       "    <tr>\n",
       "      <th>617</th>\n",
       "      <td>Ecom3</td>\n",
       "      <td>NaN</td>\n",
       "      <td>7/1/20</td>\n",
       "      <td>Atlanta</td>\n",
       "      <td>GA</td>\n",
       "      <td>30339</td>\n",
       "      <td>UPS</td>\n",
       "      <td>6/30/20</td>\n",
       "      <td>14.0</td>\n",
       "      <td>4</td>\n",
       "    </tr>\n",
       "  </tbody>\n",
       "</table>\n",
       "</div>"
      ],
      "text/plain": [
       "      Company Name  Status Ship Date          City State    Zip  \\\n",
       "6970         Ecom3     NaN   7/13/20  Conshohocken    PA  19428   \n",
       "8048         Ecom1     NaN   7/23/20    Grove City    OH  43123   \n",
       "8574       Winery1     NaN   7/24/20          Napa    CA  94558   \n",
       "10667        Ecom2     NaN   7/22/20   Schenectady    NY  12305   \n",
       "617          Ecom3     NaN    7/1/20       Atlanta    GA  30339   \n",
       "\n",
       "      Shipping Service Created Date  Weight  Item/Bottle Count  \n",
       "6970               UPS      7/10/20    41.0                 12  \n",
       "8048               FEH      7/23/20    10.5                  3  \n",
       "8574               WCU      7/24/20    39.0                 12  \n",
       "10667              FEH      7/20/20     7.0                  1  \n",
       "617                UPS      6/30/20    14.0                  4  "
      ]
     },
     "execution_count": 4,
     "metadata": {},
     "output_type": "execute_result"
    }
   ],
   "source": [
    "#See five random rows of data\n",
    "df_2020_07.sample(n=5)"
   ]
  },
  {
   "cell_type": "code",
   "execution_count": 5,
   "id": "a7bdb733",
   "metadata": {},
   "outputs": [
    {
     "data": {
      "text/html": [
       "<div>\n",
       "<style scoped>\n",
       "    .dataframe tbody tr th:only-of-type {\n",
       "        vertical-align: middle;\n",
       "    }\n",
       "\n",
       "    .dataframe tbody tr th {\n",
       "        vertical-align: top;\n",
       "    }\n",
       "\n",
       "    .dataframe thead th {\n",
       "        text-align: right;\n",
       "    }\n",
       "</style>\n",
       "<table border=\"1\" class=\"dataframe\">\n",
       "  <thead>\n",
       "    <tr style=\"text-align: right;\">\n",
       "      <th></th>\n",
       "      <th>Company Name</th>\n",
       "      <th>Status</th>\n",
       "      <th>Ship Date</th>\n",
       "      <th>City</th>\n",
       "      <th>State</th>\n",
       "      <th>Zip</th>\n",
       "      <th>Shipping Service</th>\n",
       "      <th>Created Date</th>\n",
       "      <th>Weight</th>\n",
       "      <th>Item/Bottle Count</th>\n",
       "    </tr>\n",
       "  </thead>\n",
       "  <tbody>\n",
       "    <tr>\n",
       "      <th>19486</th>\n",
       "      <td>Winery3</td>\n",
       "      <td>NaN</td>\n",
       "      <td>7/29/20</td>\n",
       "      <td>Napa</td>\n",
       "      <td>CA</td>\n",
       "      <td>94558</td>\n",
       "      <td>WCU</td>\n",
       "      <td>7/29/20</td>\n",
       "      <td>21.5</td>\n",
       "      <td>6</td>\n",
       "    </tr>\n",
       "    <tr>\n",
       "      <th>19487</th>\n",
       "      <td>Winery3</td>\n",
       "      <td>NaN</td>\n",
       "      <td>7/29/20</td>\n",
       "      <td>Napa</td>\n",
       "      <td>CA</td>\n",
       "      <td>94558</td>\n",
       "      <td>WCU</td>\n",
       "      <td>7/29/20</td>\n",
       "      <td>29.0</td>\n",
       "      <td>8</td>\n",
       "    </tr>\n",
       "    <tr>\n",
       "      <th>19488</th>\n",
       "      <td>Winery3</td>\n",
       "      <td>NaN</td>\n",
       "      <td>7/29/20</td>\n",
       "      <td>Napa</td>\n",
       "      <td>CA</td>\n",
       "      <td>94558</td>\n",
       "      <td>WCU</td>\n",
       "      <td>7/29/20</td>\n",
       "      <td>21.5</td>\n",
       "      <td>6</td>\n",
       "    </tr>\n",
       "    <tr>\n",
       "      <th>19489</th>\n",
       "      <td>Winery3</td>\n",
       "      <td>NaN</td>\n",
       "      <td>7/29/20</td>\n",
       "      <td>Napa</td>\n",
       "      <td>CA</td>\n",
       "      <td>94558</td>\n",
       "      <td>WCU</td>\n",
       "      <td>7/29/20</td>\n",
       "      <td>35.0</td>\n",
       "      <td>10</td>\n",
       "    </tr>\n",
       "    <tr>\n",
       "      <th>19490</th>\n",
       "      <td>Winery3</td>\n",
       "      <td>NaN</td>\n",
       "      <td>7/29/20</td>\n",
       "      <td>Napa</td>\n",
       "      <td>CA</td>\n",
       "      <td>94558</td>\n",
       "      <td>WCU</td>\n",
       "      <td>7/29/20</td>\n",
       "      <td>21.5</td>\n",
       "      <td>6</td>\n",
       "    </tr>\n",
       "  </tbody>\n",
       "</table>\n",
       "</div>"
      ],
      "text/plain": [
       "      Company Name  Status Ship Date  City State    Zip Shipping Service  \\\n",
       "19486      Winery3     NaN   7/29/20  Napa    CA  94558              WCU   \n",
       "19487      Winery3     NaN   7/29/20  Napa    CA  94558              WCU   \n",
       "19488      Winery3     NaN   7/29/20  Napa    CA  94558              WCU   \n",
       "19489      Winery3     NaN   7/29/20  Napa    CA  94558              WCU   \n",
       "19490      Winery3     NaN   7/29/20  Napa    CA  94558              WCU   \n",
       "\n",
       "      Created Date  Weight  Item/Bottle Count  \n",
       "19486      7/29/20    21.5                  6  \n",
       "19487      7/29/20    29.0                  8  \n",
       "19488      7/29/20    21.5                  6  \n",
       "19489      7/29/20    35.0                 10  \n",
       "19490      7/29/20    21.5                  6  "
      ]
     },
     "execution_count": 5,
     "metadata": {},
     "output_type": "execute_result"
    }
   ],
   "source": [
    "#See the last rows of data\n",
    "df_2020_07.tail(5)"
   ]
  },
  {
   "cell_type": "code",
   "execution_count": 6,
   "id": "a820ba41",
   "metadata": {},
   "outputs": [
    {
     "data": {
      "text/plain": [
       "Index(['Company Name', 'Status', 'Ship Date', 'City', 'State', 'Zip',\n",
       "       'Shipping Service', 'Created Date', 'Weight', 'Item/Bottle Count'],\n",
       "      dtype='object')"
      ]
     },
     "execution_count": 6,
     "metadata": {},
     "output_type": "execute_result"
    }
   ],
   "source": [
    "df_2020_07.columns"
   ]
  },
  {
   "cell_type": "code",
   "execution_count": 7,
   "id": "7410d9e5",
   "metadata": {},
   "outputs": [
    {
     "name": "stdout",
     "output_type": "stream",
     "text": [
      "Number of Rows:  19491\n",
      "Number of Columns:  10\n"
     ]
    }
   ],
   "source": [
    "#Determine total rows for df_2020_07.\n",
    "df_2020_07_rows = len(df_2020_07.axes[0])\n",
    "df_2020_07_cols = len(df_2020_07.axes[1])\n",
    "print(\"Number of Rows: \", df_2020_07_rows)\n",
    "print(\"Number of Columns: \", df_2020_07_cols)"
   ]
  },
  {
   "cell_type": "code",
   "execution_count": 8,
   "id": "4caf57c3",
   "metadata": {},
   "outputs": [
    {
     "data": {
      "text/plain": [
       "Company Name             0\n",
       "Status               19491\n",
       "Ship Date                0\n",
       "City                     0\n",
       "State                    0\n",
       "Zip                      0\n",
       "Shipping Service         0\n",
       "Created Date             0\n",
       "Weight                   0\n",
       "Item/Bottle Count        0\n",
       "dtype: int64"
      ]
     },
     "execution_count": 8,
     "metadata": {},
     "output_type": "execute_result"
    }
   ],
   "source": [
    "# Determine if there are any missing values in df_2020_07.\n",
    "df_2020_07.isnull().sum()"
   ]
  },
  {
   "cell_type": "code",
   "execution_count": 9,
   "id": "d2ad8510",
   "metadata": {},
   "outputs": [
    {
     "data": {
      "text/plain": [
       "Company Name          object\n",
       "Status               float64\n",
       "Ship Date             object\n",
       "City                  object\n",
       "State                 object\n",
       "Zip                   object\n",
       "Shipping Service      object\n",
       "Created Date          object\n",
       "Weight               float64\n",
       "Item/Bottle Count      int64\n",
       "dtype: object"
      ]
     },
     "execution_count": 9,
     "metadata": {},
     "output_type": "execute_result"
    }
   ],
   "source": [
    "# Determine data types for df_2020_07.\n",
    "df_2020_07.dtypes"
   ]
  },
  {
   "cell_type": "code",
   "execution_count": 10,
   "id": "4061fbbf",
   "metadata": {},
   "outputs": [
    {
     "data": {
      "text/plain": [
       "Ecom3      10176\n",
       "Ecom2       5395\n",
       "Ecom1       3483\n",
       "Winery1      306\n",
       "Winery3      101\n",
       "Winery2       30\n",
       "Name: Company Name, dtype: int64"
      ]
     },
     "execution_count": 10,
     "metadata": {},
     "output_type": "execute_result"
    }
   ],
   "source": [
    "df_2020_07['Company Name'].value_counts()"
   ]
  },
  {
   "cell_type": "code",
   "execution_count": 11,
   "id": "aac39571",
   "metadata": {},
   "outputs": [
    {
     "data": {
      "text/plain": [
       "7/22/20    4147\n",
       "7/23/20    2222\n",
       "7/6/20     1239\n",
       "7/28/20    1064\n",
       "7/20/20    1025\n",
       "7/7/20      999\n",
       "7/13/20     960\n",
       "7/8/20      797\n",
       "7/21/20     733\n",
       "7/14/20     715\n",
       "7/29/20     666\n",
       "7/27/20     649\n",
       "7/1/20      554\n",
       "7/2/20      516\n",
       "7/16/20     464\n",
       "7/31/20     454\n",
       "7/30/20     453\n",
       "7/17/20     430\n",
       "7/10/20     392\n",
       "7/24/20     362\n",
       "7/15/20     330\n",
       "7/9/20      316\n",
       "7/25/20       4\n",
       "Name: Ship Date, dtype: int64"
      ]
     },
     "execution_count": 11,
     "metadata": {},
     "output_type": "execute_result"
    }
   ],
   "source": [
    "df_2020_07['Ship Date'].value_counts()"
   ]
  },
  {
   "cell_type": "code",
   "execution_count": 12,
   "id": "ff45ee9d",
   "metadata": {},
   "outputs": [
    {
     "data": {
      "text/plain": [
       "Series([], Name: Status, dtype: int64)"
      ]
     },
     "execution_count": 12,
     "metadata": {},
     "output_type": "execute_result"
    }
   ],
   "source": [
    "df_2020_07['Status'].value_counts()"
   ]
  },
  {
   "cell_type": "code",
   "execution_count": 13,
   "id": "ae707cc4",
   "metadata": {},
   "outputs": [
    {
     "data": {
      "text/plain": [
       "New York            349\n",
       "Chicago             303\n",
       "Brooklyn            179\n",
       "Los Angeles         123\n",
       "Philadelphia        122\n",
       "                   ... \n",
       "Eastman               1\n",
       "Leonard               1\n",
       "Longport              1\n",
       "huntington beach      1\n",
       "Golf                  1\n",
       "Name: City, Length: 5060, dtype: int64"
      ]
     },
     "execution_count": 13,
     "metadata": {},
     "output_type": "execute_result"
    }
   ],
   "source": [
    "df_2020_07['City'].value_counts()"
   ]
  },
  {
   "cell_type": "code",
   "execution_count": 14,
   "id": "a8718b4d",
   "metadata": {},
   "outputs": [
    {
     "data": {
      "text/plain": [
       "NY    2219\n",
       "CA    2170\n",
       "NJ    1329\n",
       "FL    1186\n",
       "PA    1147\n",
       "IL    1037\n",
       "MA     874\n",
       "TX     825\n",
       "OH     790\n",
       "MI     734\n",
       "VA     611\n",
       "CT     463\n",
       "GA     458\n",
       "MD     452\n",
       "NC     394\n",
       "CO     388\n",
       "IN     367\n",
       "WA     327\n",
       "WI     321\n",
       "MN     307\n",
       "TN     298\n",
       "MO     281\n",
       "LA     210\n",
       "OR     204\n",
       "AZ     198\n",
       "SC     184\n",
       "RI     173\n",
       "NH     154\n",
       "HI     136\n",
       "ME     128\n",
       "IA     127\n",
       "OK     115\n",
       "DC     103\n",
       "AR      89\n",
       "KS      87\n",
       "NE      78\n",
       "VT      73\n",
       "NV      72\n",
       "NM      65\n",
       "ID      52\n",
       "DE      51\n",
       "MT      43\n",
       "ND      39\n",
       "WV      37\n",
       "WY      28\n",
       "SD      27\n",
       "AK      24\n",
       "AL      16\n",
       "Name: State, dtype: int64"
      ]
     },
     "execution_count": 14,
     "metadata": {},
     "output_type": "execute_result"
    }
   ],
   "source": [
    "df_2020_07['State'].value_counts()"
   ]
  },
  {
   "cell_type": "code",
   "execution_count": 15,
   "id": "aba1ce28",
   "metadata": {},
   "outputs": [
    {
     "data": {
      "text/plain": [
       "94558    63\n",
       "10019    34\n",
       "7030     28\n",
       "10022    28\n",
       "60610    27\n",
       "         ..\n",
       "20602     1\n",
       "37013     1\n",
       "27591     1\n",
       "59802     1\n",
       "60029     1\n",
       "Name: Zip, Length: 7053, dtype: int64"
      ]
     },
     "execution_count": 15,
     "metadata": {},
     "output_type": "execute_result"
    }
   ],
   "source": [
    "df_2020_07['Zip'].value_counts()"
   ]
  },
  {
   "cell_type": "code",
   "execution_count": 16,
   "id": "85be0dcc",
   "metadata": {},
   "outputs": [
    {
     "data": {
      "text/plain": [
       "UPS      9904\n",
       "FEH      8123\n",
       "FXG      1055\n",
       "FEX       228\n",
       "WCU        52\n",
       "UP3        45\n",
       "GSC        32\n",
       "UP2        29\n",
       "LSO1       13\n",
       "AZS         4\n",
       "FXP         2\n",
       "SELF        2\n",
       "UP1         1\n",
       "UPSNS       1\n",
       "Name: Shipping Service, dtype: int64"
      ]
     },
     "execution_count": 16,
     "metadata": {},
     "output_type": "execute_result"
    }
   ],
   "source": [
    "df_2020_07['Shipping Service'].value_counts()"
   ]
  },
  {
   "cell_type": "code",
   "execution_count": 17,
   "id": "74be41f6",
   "metadata": {},
   "outputs": [
    {
     "data": {
      "text/plain": [
       "7/20/20     4034\n",
       "7/21/20     2467\n",
       "7/5/20       816\n",
       "7/16/20      652\n",
       "7/10/20      621\n",
       "7/22/20      617\n",
       "7/12/20      556\n",
       "7/2/20       535\n",
       "7/27/20      528\n",
       "7/1/20       523\n",
       "7/6/20       492\n",
       "7/28/20      467\n",
       "7/8/20       453\n",
       "7/26/20      443\n",
       "7/3/20       434\n",
       "7/29/20      432\n",
       "7/25/20      432\n",
       "7/30/20      419\n",
       "7/7/20       398\n",
       "7/19/20      394\n",
       "7/24/20      376\n",
       "7/15/20      375\n",
       "6/30/20      352\n",
       "7/17/20      348\n",
       "7/9/20       340\n",
       "7/23/20      335\n",
       "7/14/20      300\n",
       "7/13/20      299\n",
       "7/4/20       277\n",
       "7/11/20      256\n",
       "7/31/20      225\n",
       "7/18/20      220\n",
       "6/28/20       24\n",
       "6/29/20       17\n",
       "6/26/20       12\n",
       "6/23/20        7\n",
       "4/22/20        4\n",
       "6/21/20        3\n",
       "6/22/20        3\n",
       "4/15/20        2\n",
       "10/29/19       1\n",
       "6/25/20        1\n",
       "6/27/20        1\n",
       "Name: Created Date, dtype: int64"
      ]
     },
     "execution_count": 17,
     "metadata": {},
     "output_type": "execute_result"
    }
   ],
   "source": [
    "df_2020_07['Created Date'].value_counts()"
   ]
  },
  {
   "cell_type": "code",
   "execution_count": 18,
   "id": "34adbd2f",
   "metadata": {},
   "outputs": [
    {
     "data": {
      "text/plain": [
       "21.5    6133\n",
       "7.0     5690\n",
       "41.0    2016\n",
       "39.0     961\n",
       "10.5     939\n",
       "        ... \n",
       "21.0       1\n",
       "16.5       1\n",
       "26.2       1\n",
       "15.0       1\n",
       "25.0       1\n",
       "Name: Weight, Length: 64, dtype: int64"
      ]
     },
     "execution_count": 18,
     "metadata": {},
     "output_type": "execute_result"
    }
   ],
   "source": [
    "df_2020_07['Weight'].value_counts()"
   ]
  },
  {
   "cell_type": "code",
   "execution_count": 19,
   "id": "73bd62e8",
   "metadata": {},
   "outputs": [
    {
     "data": {
      "text/plain": [
       "6     6926\n",
       "1     5600\n",
       "12    2971\n",
       "3     1699\n",
       "4      587\n",
       "8      469\n",
       "2      299\n",
       "7      270\n",
       "5      218\n",
       "10     168\n",
       "9      167\n",
       "11      48\n",
       "13      26\n",
       "14      22\n",
       "15      10\n",
       "17       3\n",
       "16       3\n",
       "24       3\n",
       "21       1\n",
       "18       1\n",
       "Name: Item/Bottle Count, dtype: int64"
      ]
     },
     "execution_count": 19,
     "metadata": {},
     "output_type": "execute_result"
    }
   ],
   "source": [
    "df_2020_07['Item/Bottle Count'].value_counts()"
   ]
  },
  {
   "cell_type": "markdown",
   "id": "b28748d1",
   "metadata": {},
   "source": [
    "## Clean the Data"
   ]
  },
  {
   "cell_type": "code",
   "execution_count": 20,
   "id": "ae2074b6",
   "metadata": {},
   "outputs": [
    {
     "data": {
      "text/plain": [
       "Company Name          object\n",
       "Status               float64\n",
       "Ship Date             object\n",
       "City                  object\n",
       "State                 object\n",
       "Zip                   object\n",
       "Shipping Service      object\n",
       "Created Date          object\n",
       "Weight               float64\n",
       "Item/Bottle Count    float64\n",
       "dtype: object"
      ]
     },
     "execution_count": 20,
     "metadata": {},
     "output_type": "execute_result"
    }
   ],
   "source": [
    "#Change [\"Item/Bottle Count\"] to float64 type in df_2020_07.\n",
    "df_2020_07[\"Item/Bottle Count\"]=df_2020_07[\"Item/Bottle Count\"].astype(float)\n",
    "df_2020_07.dtypes"
   ]
  },
  {
   "cell_type": "code",
   "execution_count": 21,
   "id": "2de5f1ce",
   "metadata": {},
   "outputs": [
    {
     "data": {
      "text/html": [
       "<div>\n",
       "<style scoped>\n",
       "    .dataframe tbody tr th:only-of-type {\n",
       "        vertical-align: middle;\n",
       "    }\n",
       "\n",
       "    .dataframe tbody tr th {\n",
       "        vertical-align: top;\n",
       "    }\n",
       "\n",
       "    .dataframe thead th {\n",
       "        text-align: right;\n",
       "    }\n",
       "</style>\n",
       "<table border=\"1\" class=\"dataframe\">\n",
       "  <thead>\n",
       "    <tr style=\"text-align: right;\">\n",
       "      <th></th>\n",
       "      <th>Company Name</th>\n",
       "      <th>Ship Date</th>\n",
       "      <th>City</th>\n",
       "      <th>State</th>\n",
       "      <th>Zip</th>\n",
       "      <th>Shipping Service</th>\n",
       "      <th>Created Date</th>\n",
       "      <th>Weight</th>\n",
       "      <th>Item/Bottle Count</th>\n",
       "    </tr>\n",
       "  </thead>\n",
       "  <tbody>\n",
       "    <tr>\n",
       "      <th>0</th>\n",
       "      <td>Ecom2</td>\n",
       "      <td>7/1/20</td>\n",
       "      <td>Keysville</td>\n",
       "      <td>VA</td>\n",
       "      <td>23947</td>\n",
       "      <td>FEH</td>\n",
       "      <td>6/30/20</td>\n",
       "      <td>7.0</td>\n",
       "      <td>1.0</td>\n",
       "    </tr>\n",
       "    <tr>\n",
       "      <th>1</th>\n",
       "      <td>Ecom2</td>\n",
       "      <td>7/1/20</td>\n",
       "      <td>Jacksonville</td>\n",
       "      <td>FL</td>\n",
       "      <td>32259</td>\n",
       "      <td>FEH</td>\n",
       "      <td>6/30/20</td>\n",
       "      <td>7.0</td>\n",
       "      <td>1.0</td>\n",
       "    </tr>\n",
       "    <tr>\n",
       "      <th>2</th>\n",
       "      <td>Ecom2</td>\n",
       "      <td>7/1/20</td>\n",
       "      <td>Quakertown</td>\n",
       "      <td>PA</td>\n",
       "      <td>18951</td>\n",
       "      <td>UPS</td>\n",
       "      <td>6/30/20</td>\n",
       "      <td>7.0</td>\n",
       "      <td>1.0</td>\n",
       "    </tr>\n",
       "    <tr>\n",
       "      <th>3</th>\n",
       "      <td>Ecom2</td>\n",
       "      <td>7/1/20</td>\n",
       "      <td>Thousand Oaks</td>\n",
       "      <td>CA</td>\n",
       "      <td>91362</td>\n",
       "      <td>UPS</td>\n",
       "      <td>6/30/20</td>\n",
       "      <td>7.0</td>\n",
       "      <td>1.0</td>\n",
       "    </tr>\n",
       "    <tr>\n",
       "      <th>4</th>\n",
       "      <td>Winery2</td>\n",
       "      <td>7/2/20</td>\n",
       "      <td>Aiken</td>\n",
       "      <td>SC</td>\n",
       "      <td>29803</td>\n",
       "      <td>UPS</td>\n",
       "      <td>6/30/20</td>\n",
       "      <td>39.0</td>\n",
       "      <td>12.0</td>\n",
       "    </tr>\n",
       "    <tr>\n",
       "      <th>...</th>\n",
       "      <td>...</td>\n",
       "      <td>...</td>\n",
       "      <td>...</td>\n",
       "      <td>...</td>\n",
       "      <td>...</td>\n",
       "      <td>...</td>\n",
       "      <td>...</td>\n",
       "      <td>...</td>\n",
       "      <td>...</td>\n",
       "    </tr>\n",
       "    <tr>\n",
       "      <th>19486</th>\n",
       "      <td>Winery3</td>\n",
       "      <td>7/29/20</td>\n",
       "      <td>Napa</td>\n",
       "      <td>CA</td>\n",
       "      <td>94558</td>\n",
       "      <td>WCU</td>\n",
       "      <td>7/29/20</td>\n",
       "      <td>21.5</td>\n",
       "      <td>6.0</td>\n",
       "    </tr>\n",
       "    <tr>\n",
       "      <th>19487</th>\n",
       "      <td>Winery3</td>\n",
       "      <td>7/29/20</td>\n",
       "      <td>Napa</td>\n",
       "      <td>CA</td>\n",
       "      <td>94558</td>\n",
       "      <td>WCU</td>\n",
       "      <td>7/29/20</td>\n",
       "      <td>29.0</td>\n",
       "      <td>8.0</td>\n",
       "    </tr>\n",
       "    <tr>\n",
       "      <th>19488</th>\n",
       "      <td>Winery3</td>\n",
       "      <td>7/29/20</td>\n",
       "      <td>Napa</td>\n",
       "      <td>CA</td>\n",
       "      <td>94558</td>\n",
       "      <td>WCU</td>\n",
       "      <td>7/29/20</td>\n",
       "      <td>21.5</td>\n",
       "      <td>6.0</td>\n",
       "    </tr>\n",
       "    <tr>\n",
       "      <th>19489</th>\n",
       "      <td>Winery3</td>\n",
       "      <td>7/29/20</td>\n",
       "      <td>Napa</td>\n",
       "      <td>CA</td>\n",
       "      <td>94558</td>\n",
       "      <td>WCU</td>\n",
       "      <td>7/29/20</td>\n",
       "      <td>35.0</td>\n",
       "      <td>10.0</td>\n",
       "    </tr>\n",
       "    <tr>\n",
       "      <th>19490</th>\n",
       "      <td>Winery3</td>\n",
       "      <td>7/29/20</td>\n",
       "      <td>Napa</td>\n",
       "      <td>CA</td>\n",
       "      <td>94558</td>\n",
       "      <td>WCU</td>\n",
       "      <td>7/29/20</td>\n",
       "      <td>21.5</td>\n",
       "      <td>6.0</td>\n",
       "    </tr>\n",
       "  </tbody>\n",
       "</table>\n",
       "<p>19491 rows × 9 columns</p>\n",
       "</div>"
      ],
      "text/plain": [
       "      Company Name Ship Date           City State    Zip Shipping Service  \\\n",
       "0            Ecom2    7/1/20      Keysville    VA  23947              FEH   \n",
       "1            Ecom2    7/1/20   Jacksonville    FL  32259              FEH   \n",
       "2            Ecom2    7/1/20     Quakertown    PA  18951              UPS   \n",
       "3            Ecom2    7/1/20  Thousand Oaks    CA  91362              UPS   \n",
       "4          Winery2    7/2/20          Aiken    SC  29803              UPS   \n",
       "...            ...       ...            ...   ...    ...              ...   \n",
       "19486      Winery3   7/29/20           Napa    CA  94558              WCU   \n",
       "19487      Winery3   7/29/20           Napa    CA  94558              WCU   \n",
       "19488      Winery3   7/29/20           Napa    CA  94558              WCU   \n",
       "19489      Winery3   7/29/20           Napa    CA  94558              WCU   \n",
       "19490      Winery3   7/29/20           Napa    CA  94558              WCU   \n",
       "\n",
       "      Created Date  Weight  Item/Bottle Count  \n",
       "0          6/30/20     7.0                1.0  \n",
       "1          6/30/20     7.0                1.0  \n",
       "2          6/30/20     7.0                1.0  \n",
       "3          6/30/20     7.0                1.0  \n",
       "4          6/30/20    39.0               12.0  \n",
       "...            ...     ...                ...  \n",
       "19486      7/29/20    21.5                6.0  \n",
       "19487      7/29/20    29.0                8.0  \n",
       "19488      7/29/20    21.5                6.0  \n",
       "19489      7/29/20    35.0               10.0  \n",
       "19490      7/29/20    21.5                6.0  \n",
       "\n",
       "[19491 rows x 9 columns]"
      ]
     },
     "execution_count": 21,
     "metadata": {},
     "output_type": "execute_result"
    }
   ],
   "source": [
    "#Remove \"Status\" column from df_2020_07.\n",
    "df_2020_07 = df_2020_07.drop('Status', axis=1)\n",
    "df_2020_07"
   ]
  },
  {
   "cell_type": "code",
   "execution_count": 22,
   "id": "0374b7d7",
   "metadata": {},
   "outputs": [],
   "source": [
    "# Drop the NaNs for df_2020_07.\n",
    "df_2020_07 = df_2020_07.dropna()"
   ]
  },
  {
   "cell_type": "code",
   "execution_count": null,
   "id": "713d86fa",
   "metadata": {},
   "outputs": [],
   "source": [
    "df_2020_07=df_2020_07.reset_index()\n",
    "df_2020_07"
   ]
  },
  {
   "cell_type": "markdown",
   "id": "b54ac18d",
   "metadata": {},
   "source": [
    "## Confirm Changes"
   ]
  },
  {
   "cell_type": "code",
   "execution_count": 23,
   "id": "717b65ec",
   "metadata": {},
   "outputs": [
    {
     "data": {
      "text/html": [
       "<div>\n",
       "<style scoped>\n",
       "    .dataframe tbody tr th:only-of-type {\n",
       "        vertical-align: middle;\n",
       "    }\n",
       "\n",
       "    .dataframe tbody tr th {\n",
       "        vertical-align: top;\n",
       "    }\n",
       "\n",
       "    .dataframe thead th {\n",
       "        text-align: right;\n",
       "    }\n",
       "</style>\n",
       "<table border=\"1\" class=\"dataframe\">\n",
       "  <thead>\n",
       "    <tr style=\"text-align: right;\">\n",
       "      <th></th>\n",
       "      <th>Company Name</th>\n",
       "      <th>Ship Date</th>\n",
       "      <th>City</th>\n",
       "      <th>State</th>\n",
       "      <th>Zip</th>\n",
       "      <th>Shipping Service</th>\n",
       "      <th>Created Date</th>\n",
       "      <th>Weight</th>\n",
       "      <th>Item/Bottle Count</th>\n",
       "    </tr>\n",
       "  </thead>\n",
       "  <tbody>\n",
       "    <tr>\n",
       "      <th>13657</th>\n",
       "      <td>Ecom2</td>\n",
       "      <td>7/22/20</td>\n",
       "      <td>Midland</td>\n",
       "      <td>MI</td>\n",
       "      <td>48642</td>\n",
       "      <td>FEH</td>\n",
       "      <td>7/20/20</td>\n",
       "      <td>7.0</td>\n",
       "      <td>1.0</td>\n",
       "    </tr>\n",
       "    <tr>\n",
       "      <th>13028</th>\n",
       "      <td>Ecom2</td>\n",
       "      <td>7/22/20</td>\n",
       "      <td>Ringwood</td>\n",
       "      <td>NJ</td>\n",
       "      <td>7456</td>\n",
       "      <td>FEH</td>\n",
       "      <td>7/20/20</td>\n",
       "      <td>7.0</td>\n",
       "      <td>1.0</td>\n",
       "    </tr>\n",
       "    <tr>\n",
       "      <th>5277</th>\n",
       "      <td>Winery1</td>\n",
       "      <td>7/17/20</td>\n",
       "      <td>Matthews</td>\n",
       "      <td>NC</td>\n",
       "      <td>28105</td>\n",
       "      <td>UPS</td>\n",
       "      <td>7/14/20</td>\n",
       "      <td>20.2</td>\n",
       "      <td>6.0</td>\n",
       "    </tr>\n",
       "    <tr>\n",
       "      <th>12043</th>\n",
       "      <td>Ecom2</td>\n",
       "      <td>7/22/20</td>\n",
       "      <td>Bellevue</td>\n",
       "      <td>WA</td>\n",
       "      <td>98005</td>\n",
       "      <td>UPS</td>\n",
       "      <td>7/20/20</td>\n",
       "      <td>7.0</td>\n",
       "      <td>1.0</td>\n",
       "    </tr>\n",
       "    <tr>\n",
       "      <th>269</th>\n",
       "      <td>Ecom3</td>\n",
       "      <td>7/2/20</td>\n",
       "      <td>Johnstown</td>\n",
       "      <td>PA</td>\n",
       "      <td>15904</td>\n",
       "      <td>UPS</td>\n",
       "      <td>7/1/20</td>\n",
       "      <td>21.5</td>\n",
       "      <td>6.0</td>\n",
       "    </tr>\n",
       "  </tbody>\n",
       "</table>\n",
       "</div>"
      ],
      "text/plain": [
       "      Company Name Ship Date       City State    Zip Shipping Service  \\\n",
       "13657        Ecom2   7/22/20    Midland    MI  48642              FEH   \n",
       "13028        Ecom2   7/22/20   Ringwood    NJ   7456              FEH   \n",
       "5277       Winery1   7/17/20   Matthews    NC  28105              UPS   \n",
       "12043        Ecom2   7/22/20   Bellevue    WA  98005              UPS   \n",
       "269          Ecom3    7/2/20  Johnstown    PA  15904              UPS   \n",
       "\n",
       "      Created Date  Weight  Item/Bottle Count  \n",
       "13657      7/20/20     7.0                1.0  \n",
       "13028      7/20/20     7.0                1.0  \n",
       "5277       7/14/20    20.2                6.0  \n",
       "12043      7/20/20     7.0                1.0  \n",
       "269         7/1/20    21.5                6.0  "
      ]
     },
     "execution_count": 23,
     "metadata": {},
     "output_type": "execute_result"
    }
   ],
   "source": [
    "#See five random rows of data\n",
    "df_2020_07.sample(n=5)"
   ]
  },
  {
   "cell_type": "code",
   "execution_count": 24,
   "id": "2f59ad5f",
   "metadata": {},
   "outputs": [
    {
     "name": "stdout",
     "output_type": "stream",
     "text": [
      "Number of Rows:  19491\n",
      "Number of Columns:  9\n"
     ]
    }
   ],
   "source": [
    "#Determine total rows for df_2020_07.\n",
    "df_2020_07_rows = len(df_2020_07.axes[0])\n",
    "df_2020_07_cols = len(df_2020_07.axes[1])\n",
    "print(\"Number of Rows: \", df_2020_07_rows)\n",
    "print(\"Number of Columns: \", df_2020_07_cols)"
   ]
  },
  {
   "cell_type": "markdown",
   "id": "625b4837",
   "metadata": {},
   "source": [
    "## Export Cleaned df to .CSV"
   ]
  },
  {
   "cell_type": "code",
   "execution_count": 25,
   "id": "f5a7980c",
   "metadata": {},
   "outputs": [],
   "source": [
    "#Export df_2020_07 to .csv\n",
    "df_2020_07.to_csv('../cleaned_months_2020/Clean_2020_07.csv') "
   ]
  },
  {
   "cell_type": "code",
   "execution_count": null,
   "id": "aafdefb9",
   "metadata": {},
   "outputs": [],
   "source": []
  }
 ],
 "metadata": {
  "kernelspec": {
   "display_name": "Python 3 (ipykernel)",
   "language": "python",
   "name": "python3"
  },
  "language_info": {
   "codemirror_mode": {
    "name": "ipython",
    "version": 3
   },
   "file_extension": ".py",
   "mimetype": "text/x-python",
   "name": "python",
   "nbconvert_exporter": "python",
   "pygments_lexer": "ipython3",
   "version": "3.7.13"
  }
 },
 "nbformat": 4,
 "nbformat_minor": 5
}
