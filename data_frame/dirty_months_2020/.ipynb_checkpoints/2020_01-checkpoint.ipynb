{
 "cells": [
  {
   "cell_type": "code",
   "execution_count": 1,
   "id": "0ee3ff94",
   "metadata": {},
   "outputs": [],
   "source": [
    "#Pandas library to create DataFrames\n",
    "import pandas as pd\n",
    "#NumPy library for converting data types\n",
    "import numpy as np"
   ]
  },
  {
   "cell_type": "code",
   "execution_count": 4,
   "id": "43de2e17",
   "metadata": {},
   "outputs": [],
   "source": [
    "# Files to load\n",
    "load_2020_01 = \"../2020_Data/2020.01_utf-8.csv\""
   ]
  },
  {
   "cell_type": "code",
   "execution_count": 5,
   "id": "0006005e",
   "metadata": {},
   "outputs": [
    {
     "data": {
      "text/html": [
       "<div>\n",
       "<style scoped>\n",
       "    .dataframe tbody tr th:only-of-type {\n",
       "        vertical-align: middle;\n",
       "    }\n",
       "\n",
       "    .dataframe tbody tr th {\n",
       "        vertical-align: top;\n",
       "    }\n",
       "\n",
       "    .dataframe thead th {\n",
       "        text-align: right;\n",
       "    }\n",
       "</style>\n",
       "<table border=\"1\" class=\"dataframe\">\n",
       "  <thead>\n",
       "    <tr style=\"text-align: right;\">\n",
       "      <th></th>\n",
       "      <th>Company Name</th>\n",
       "      <th>Status</th>\n",
       "      <th>Ship Date</th>\n",
       "      <th>City</th>\n",
       "      <th>State</th>\n",
       "      <th>Zip</th>\n",
       "      <th>Shipping Service</th>\n",
       "      <th>Created Date</th>\n",
       "      <th>Weight</th>\n",
       "      <th>Item/Bottle Count</th>\n",
       "    </tr>\n",
       "  </thead>\n",
       "  <tbody>\n",
       "    <tr>\n",
       "      <th>0</th>\n",
       "      <td>Ecom3</td>\n",
       "      <td>In Transit</td>\n",
       "      <td>1/2/20</td>\n",
       "      <td>Plantation</td>\n",
       "      <td>FL</td>\n",
       "      <td>33325</td>\n",
       "      <td>UPS</td>\n",
       "      <td>1/1/20</td>\n",
       "      <td>9.9</td>\n",
       "      <td>3.0</td>\n",
       "    </tr>\n",
       "    <tr>\n",
       "      <th>1</th>\n",
       "      <td>Ecom3</td>\n",
       "      <td>Carrier Exception</td>\n",
       "      <td>1/2/20</td>\n",
       "      <td>Lafayette</td>\n",
       "      <td>CA</td>\n",
       "      <td>94549</td>\n",
       "      <td>UPS</td>\n",
       "      <td>12/31/19</td>\n",
       "      <td>35.0</td>\n",
       "      <td>10.0</td>\n",
       "    </tr>\n",
       "    <tr>\n",
       "      <th>2</th>\n",
       "      <td>Ecom3</td>\n",
       "      <td>Delivered</td>\n",
       "      <td>1/2/20</td>\n",
       "      <td>New York</td>\n",
       "      <td>NY</td>\n",
       "      <td>10022</td>\n",
       "      <td>FEH</td>\n",
       "      <td>1/1/20</td>\n",
       "      <td>29.0</td>\n",
       "      <td>8.0</td>\n",
       "    </tr>\n",
       "    <tr>\n",
       "      <th>3</th>\n",
       "      <td>Ecom3</td>\n",
       "      <td>Delivered</td>\n",
       "      <td>1/3/20</td>\n",
       "      <td>New York</td>\n",
       "      <td>NY</td>\n",
       "      <td>10006</td>\n",
       "      <td>FEH</td>\n",
       "      <td>1/2/20</td>\n",
       "      <td>21.5</td>\n",
       "      <td>6.0</td>\n",
       "    </tr>\n",
       "    <tr>\n",
       "      <th>4</th>\n",
       "      <td>Ecom3</td>\n",
       "      <td>In Transit</td>\n",
       "      <td>1/2/20</td>\n",
       "      <td>Walkersville</td>\n",
       "      <td>MD</td>\n",
       "      <td>21793</td>\n",
       "      <td>FXG</td>\n",
       "      <td>12/31/19</td>\n",
       "      <td>41.0</td>\n",
       "      <td>12.0</td>\n",
       "    </tr>\n",
       "  </tbody>\n",
       "</table>\n",
       "</div>"
      ],
      "text/plain": [
       "  Company Name             Status Ship Date          City State    Zip  \\\n",
       "0        Ecom3         In Transit    1/2/20    Plantation    FL  33325   \n",
       "1        Ecom3  Carrier Exception    1/2/20     Lafayette    CA  94549   \n",
       "2        Ecom3          Delivered    1/2/20      New York    NY  10022   \n",
       "3        Ecom3          Delivered    1/3/20      New York    NY  10006   \n",
       "4        Ecom3         In Transit    1/2/20  Walkersville    MD  21793   \n",
       "\n",
       "  Shipping Service Created Date  Weight  Item/Bottle Count  \n",
       "0              UPS       1/1/20     9.9                3.0  \n",
       "1              UPS     12/31/19    35.0               10.0  \n",
       "2              FEH       1/1/20    29.0                8.0  \n",
       "3              FEH       1/2/20    21.5                6.0  \n",
       "4              FXG     12/31/19    41.0               12.0  "
      ]
     },
     "execution_count": 5,
     "metadata": {},
     "output_type": "execute_result"
    }
   ],
   "source": [
    "# Read the January CSV into a DataFrame\n",
    "#Had to open each file in excel and save it as a .csv file instead of an .xlsm file in order for the encryption to be read properly.\n",
    "df_2020_01 = pd.read_csv(load_2020_01, encoding =\"utf8\")\n",
    "df_2020_01.head()"
   ]
  },
  {
   "cell_type": "markdown",
   "id": "83dcaaf9",
   "metadata": {},
   "source": [
    "## Inspect the Data"
   ]
  },
  {
   "cell_type": "code",
   "execution_count": 6,
   "id": "57327ad0",
   "metadata": {},
   "outputs": [
    {
     "data": {
      "text/html": [
       "<div>\n",
       "<style scoped>\n",
       "    .dataframe tbody tr th:only-of-type {\n",
       "        vertical-align: middle;\n",
       "    }\n",
       "\n",
       "    .dataframe tbody tr th {\n",
       "        vertical-align: top;\n",
       "    }\n",
       "\n",
       "    .dataframe thead th {\n",
       "        text-align: right;\n",
       "    }\n",
       "</style>\n",
       "<table border=\"1\" class=\"dataframe\">\n",
       "  <thead>\n",
       "    <tr style=\"text-align: right;\">\n",
       "      <th></th>\n",
       "      <th>Company Name</th>\n",
       "      <th>Status</th>\n",
       "      <th>Ship Date</th>\n",
       "      <th>City</th>\n",
       "      <th>State</th>\n",
       "      <th>Zip</th>\n",
       "      <th>Shipping Service</th>\n",
       "      <th>Created Date</th>\n",
       "      <th>Weight</th>\n",
       "      <th>Item/Bottle Count</th>\n",
       "    </tr>\n",
       "  </thead>\n",
       "  <tbody>\n",
       "    <tr>\n",
       "      <th>9119</th>\n",
       "      <td>Ecom2</td>\n",
       "      <td>Manifest</td>\n",
       "      <td>1/23/20</td>\n",
       "      <td>Renton</td>\n",
       "      <td>WA</td>\n",
       "      <td>98058</td>\n",
       "      <td>UPS</td>\n",
       "      <td>NaN</td>\n",
       "      <td>NaN</td>\n",
       "      <td>NaN</td>\n",
       "    </tr>\n",
       "    <tr>\n",
       "      <th>8294</th>\n",
       "      <td>Ecom2</td>\n",
       "      <td>Manifest</td>\n",
       "      <td>1/23/20</td>\n",
       "      <td>Warren</td>\n",
       "      <td>PA</td>\n",
       "      <td>16365</td>\n",
       "      <td>UPS</td>\n",
       "      <td>NaN</td>\n",
       "      <td>NaN</td>\n",
       "      <td>NaN</td>\n",
       "    </tr>\n",
       "    <tr>\n",
       "      <th>13570</th>\n",
       "      <td>Ecom2</td>\n",
       "      <td>Manifest</td>\n",
       "      <td>1/23/20</td>\n",
       "      <td>Sullivan</td>\n",
       "      <td>IL</td>\n",
       "      <td>61951</td>\n",
       "      <td>FXG</td>\n",
       "      <td>NaN</td>\n",
       "      <td>NaN</td>\n",
       "      <td>NaN</td>\n",
       "    </tr>\n",
       "    <tr>\n",
       "      <th>833</th>\n",
       "      <td>Ecom3</td>\n",
       "      <td>In Transit</td>\n",
       "      <td>1/10/20</td>\n",
       "      <td>Falls Church</td>\n",
       "      <td>VA</td>\n",
       "      <td>22043</td>\n",
       "      <td>UPS</td>\n",
       "      <td>1/10/20</td>\n",
       "      <td>21.5</td>\n",
       "      <td>6.0</td>\n",
       "    </tr>\n",
       "    <tr>\n",
       "      <th>8642</th>\n",
       "      <td>Ecom2</td>\n",
       "      <td>Manifest</td>\n",
       "      <td>1/23/20</td>\n",
       "      <td>Centennial</td>\n",
       "      <td>CO</td>\n",
       "      <td>80122</td>\n",
       "      <td>UPS</td>\n",
       "      <td>NaN</td>\n",
       "      <td>NaN</td>\n",
       "      <td>NaN</td>\n",
       "    </tr>\n",
       "  </tbody>\n",
       "</table>\n",
       "</div>"
      ],
      "text/plain": [
       "      Company Name      Status Ship Date          City State    Zip  \\\n",
       "9119         Ecom2    Manifest   1/23/20        Renton    WA  98058   \n",
       "8294         Ecom2    Manifest   1/23/20        Warren    PA  16365   \n",
       "13570        Ecom2    Manifest   1/23/20      Sullivan    IL  61951   \n",
       "833          Ecom3  In Transit   1/10/20  Falls Church    VA  22043   \n",
       "8642         Ecom2    Manifest   1/23/20    Centennial    CO  80122   \n",
       "\n",
       "      Shipping Service Created Date  Weight  Item/Bottle Count  \n",
       "9119               UPS          NaN     NaN                NaN  \n",
       "8294               UPS          NaN     NaN                NaN  \n",
       "13570              FXG          NaN     NaN                NaN  \n",
       "833                UPS      1/10/20    21.5                6.0  \n",
       "8642               UPS          NaN     NaN                NaN  "
      ]
     },
     "execution_count": 6,
     "metadata": {},
     "output_type": "execute_result"
    }
   ],
   "source": [
    "#See five random rows of data\n",
    "df_2020_01.sample(n=5)"
   ]
  },
  {
   "cell_type": "code",
   "execution_count": 7,
   "id": "bc4ba2a9",
   "metadata": {},
   "outputs": [
    {
     "data": {
      "text/html": [
       "<div>\n",
       "<style scoped>\n",
       "    .dataframe tbody tr th:only-of-type {\n",
       "        vertical-align: middle;\n",
       "    }\n",
       "\n",
       "    .dataframe tbody tr th {\n",
       "        vertical-align: top;\n",
       "    }\n",
       "\n",
       "    .dataframe thead th {\n",
       "        text-align: right;\n",
       "    }\n",
       "</style>\n",
       "<table border=\"1\" class=\"dataframe\">\n",
       "  <thead>\n",
       "    <tr style=\"text-align: right;\">\n",
       "      <th></th>\n",
       "      <th>Company Name</th>\n",
       "      <th>Status</th>\n",
       "      <th>Ship Date</th>\n",
       "      <th>City</th>\n",
       "      <th>State</th>\n",
       "      <th>Zip</th>\n",
       "      <th>Shipping Service</th>\n",
       "      <th>Created Date</th>\n",
       "      <th>Weight</th>\n",
       "      <th>Item/Bottle Count</th>\n",
       "    </tr>\n",
       "  </thead>\n",
       "  <tbody>\n",
       "    <tr>\n",
       "      <th>16992</th>\n",
       "      <td>Winery3</td>\n",
       "      <td>Delivered</td>\n",
       "      <td>1/27/20</td>\n",
       "      <td>Jersey City</td>\n",
       "      <td>NJ</td>\n",
       "      <td>7302</td>\n",
       "      <td>UPS</td>\n",
       "      <td>1/27/20</td>\n",
       "      <td>10.5</td>\n",
       "      <td>3.0</td>\n",
       "    </tr>\n",
       "    <tr>\n",
       "      <th>16993</th>\n",
       "      <td>Winery3</td>\n",
       "      <td>Delivered</td>\n",
       "      <td>1/31/20</td>\n",
       "      <td>Corrales</td>\n",
       "      <td>NM</td>\n",
       "      <td>87048</td>\n",
       "      <td>UPS</td>\n",
       "      <td>1/31/20</td>\n",
       "      <td>10.5</td>\n",
       "      <td>3.0</td>\n",
       "    </tr>\n",
       "    <tr>\n",
       "      <th>16994</th>\n",
       "      <td>Winery3</td>\n",
       "      <td>In Transit</td>\n",
       "      <td>1/31/20</td>\n",
       "      <td>Scarborough</td>\n",
       "      <td>NY</td>\n",
       "      <td>10510</td>\n",
       "      <td>UPS</td>\n",
       "      <td>1/31/20</td>\n",
       "      <td>30.0</td>\n",
       "      <td>9.0</td>\n",
       "    </tr>\n",
       "    <tr>\n",
       "      <th>16995</th>\n",
       "      <td>Winery3</td>\n",
       "      <td>In Transit</td>\n",
       "      <td>1/31/20</td>\n",
       "      <td>Scarborough</td>\n",
       "      <td>NY</td>\n",
       "      <td>10510</td>\n",
       "      <td>UPS</td>\n",
       "      <td>1/31/20</td>\n",
       "      <td>39.0</td>\n",
       "      <td>12.0</td>\n",
       "    </tr>\n",
       "    <tr>\n",
       "      <th>16996</th>\n",
       "      <td>Winery3</td>\n",
       "      <td>Delivered</td>\n",
       "      <td>1/27/20</td>\n",
       "      <td>Napa</td>\n",
       "      <td>CA</td>\n",
       "      <td>94558</td>\n",
       "      <td>WCU</td>\n",
       "      <td>1/27/20</td>\n",
       "      <td>20.2</td>\n",
       "      <td>6.0</td>\n",
       "    </tr>\n",
       "  </tbody>\n",
       "</table>\n",
       "</div>"
      ],
      "text/plain": [
       "      Company Name      Status Ship Date         City State    Zip  \\\n",
       "16992      Winery3   Delivered   1/27/20  Jersey City    NJ   7302   \n",
       "16993      Winery3   Delivered   1/31/20     Corrales    NM  87048   \n",
       "16994      Winery3  In Transit   1/31/20  Scarborough    NY  10510   \n",
       "16995      Winery3  In Transit   1/31/20  Scarborough    NY  10510   \n",
       "16996      Winery3   Delivered   1/27/20         Napa    CA  94558   \n",
       "\n",
       "      Shipping Service Created Date  Weight  Item/Bottle Count  \n",
       "16992              UPS      1/27/20    10.5                3.0  \n",
       "16993              UPS      1/31/20    10.5                3.0  \n",
       "16994              UPS      1/31/20    30.0                9.0  \n",
       "16995              UPS      1/31/20    39.0               12.0  \n",
       "16996              WCU      1/27/20    20.2                6.0  "
      ]
     },
     "execution_count": 7,
     "metadata": {},
     "output_type": "execute_result"
    }
   ],
   "source": [
    "#See the last rows of data\n",
    "df_2020_01.tail(5)"
   ]
  },
  {
   "cell_type": "code",
   "execution_count": 8,
   "id": "d7373d6d",
   "metadata": {},
   "outputs": [
    {
     "data": {
      "text/plain": [
       "Index(['Company Name', 'Status', 'Ship Date', 'City', 'State', 'Zip',\n",
       "       'Shipping Service', 'Created Date', 'Weight', 'Item/Bottle Count'],\n",
       "      dtype='object')"
      ]
     },
     "execution_count": 8,
     "metadata": {},
     "output_type": "execute_result"
    }
   ],
   "source": [
    "df_2020_01.columns"
   ]
  },
  {
   "cell_type": "code",
   "execution_count": 9,
   "id": "b8417480",
   "metadata": {},
   "outputs": [
    {
     "name": "stdout",
     "output_type": "stream",
     "text": [
      "Number of Rows:  16997\n",
      "Number of Columns:  10\n"
     ]
    }
   ],
   "source": [
    "#Determine total rows for df_2020_01.\n",
    "df_2020_01_rows = len(df_2020_01.axes[0])\n",
    "df_2020_01_cols = len(df_2020_01.axes[1])\n",
    "print(\"Number of Rows: \", df_2020_01_rows)\n",
    "print(\"Number of Columns: \", df_2020_01_cols)"
   ]
  },
  {
   "cell_type": "code",
   "execution_count": 10,
   "id": "dee72ae5",
   "metadata": {},
   "outputs": [
    {
     "data": {
      "text/plain": [
       "Company Name            0\n",
       "Status                  0\n",
       "Ship Date               0\n",
       "City                    0\n",
       "State                   0\n",
       "Zip                     0\n",
       "Shipping Service        0\n",
       "Created Date         9275\n",
       "Weight               9275\n",
       "Item/Bottle Count    9275\n",
       "dtype: int64"
      ]
     },
     "execution_count": 10,
     "metadata": {},
     "output_type": "execute_result"
    }
   ],
   "source": [
    "# Determine if there are any missing values in df_2020_01.\n",
    "df_2020_01.isnull().sum()\n",
    "#All of Winery3 has null values and will be deleted when Nan's get removed. Waiting to get updated data."
   ]
  },
  {
   "cell_type": "code",
   "execution_count": 11,
   "id": "e4aa45ce",
   "metadata": {},
   "outputs": [
    {
     "data": {
      "text/plain": [
       "Company Name          object\n",
       "Status                object\n",
       "Ship Date             object\n",
       "City                  object\n",
       "State                 object\n",
       "Zip                   object\n",
       "Shipping Service      object\n",
       "Created Date          object\n",
       "Weight               float64\n",
       "Item/Bottle Count    float64\n",
       "dtype: object"
      ]
     },
     "execution_count": 11,
     "metadata": {},
     "output_type": "execute_result"
    }
   ],
   "source": [
    "# Determine data types for df_2020_01.\n",
    "df_2020_01.dtypes"
   ]
  },
  {
   "cell_type": "code",
   "execution_count": 12,
   "id": "ce126503",
   "metadata": {},
   "outputs": [
    {
     "data": {
      "text/plain": [
       "Ecom2      9275\n",
       "Ecom3      5210\n",
       "Ecom1      2230\n",
       "Winery1     203\n",
       "Winery3      42\n",
       "Winery2      37\n",
       "Name: Company Name, dtype: int64"
      ]
     },
     "execution_count": 12,
     "metadata": {},
     "output_type": "execute_result"
    }
   ],
   "source": [
    "df_2020_01['Company Name'].value_counts()"
   ]
  },
  {
   "cell_type": "code",
   "execution_count": 13,
   "id": "0a521509",
   "metadata": {},
   "outputs": [
    {
     "data": {
      "text/plain": [
       "1/23/20    8950\n",
       "1/13/20     858\n",
       "1/6/20      846\n",
       "1/24/20     754\n",
       "1/2/20      652\n",
       "1/20/20     643\n",
       "1/27/20     525\n",
       "1/21/20     356\n",
       "1/22/20     355\n",
       "1/7/20      343\n",
       "1/17/20     306\n",
       "1/15/20     271\n",
       "1/28/20     251\n",
       "1/9/20      248\n",
       "1/14/20     234\n",
       "1/30/20     216\n",
       "1/3/20      209\n",
       "1/31/20     198\n",
       "1/8/20      194\n",
       "1/29/20     191\n",
       "1/16/20     162\n",
       "1/10/20     153\n",
       "1/11/20      56\n",
       "1/25/20      26\n",
       "Name: Ship Date, dtype: int64"
      ]
     },
     "execution_count": 13,
     "metadata": {},
     "output_type": "execute_result"
    }
   ],
   "source": [
    "df_2020_01['Ship Date'].value_counts()"
   ]
  },
  {
   "cell_type": "code",
   "execution_count": 14,
   "id": "b8789edb",
   "metadata": {},
   "outputs": [
    {
     "data": {
      "text/plain": [
       "Manifest             9255\n",
       "Delivered            5203\n",
       "In Transit           2218\n",
       "Shipped               166\n",
       "Carrier Exception     108\n",
       "Delivery Attempt       44\n",
       "Exception               3\n",
       "Name: Status, dtype: int64"
      ]
     },
     "execution_count": 14,
     "metadata": {},
     "output_type": "execute_result"
    }
   ],
   "source": [
    "df_2020_01['Status'].value_counts()"
   ]
  },
  {
   "cell_type": "code",
   "execution_count": 15,
   "id": "5c24a22b",
   "metadata": {},
   "outputs": [
    {
     "data": {
      "text/plain": [
       "New York          483\n",
       "Chicago           236\n",
       "Brooklyn          179\n",
       "Washington        132\n",
       "Houston           127\n",
       "                 ... \n",
       "Kannapolis          1\n",
       "Hollister           1\n",
       "Moultonborough      1\n",
       "Brooklyn Hgts       1\n",
       "Fayette             1\n",
       "Name: City, Length: 4531, dtype: int64"
      ]
     },
     "execution_count": 15,
     "metadata": {},
     "output_type": "execute_result"
    }
   ],
   "source": [
    "df_2020_01['City'].value_counts()"
   ]
  },
  {
   "cell_type": "code",
   "execution_count": 16,
   "id": "50ee4539",
   "metadata": {},
   "outputs": [
    {
     "data": {
      "text/plain": [
       "NY    2048\n",
       "CA    1505\n",
       "FL    1371\n",
       "PA    1053\n",
       "TX    1040\n",
       "NJ     942\n",
       "IL     800\n",
       "MA     644\n",
       "OH     632\n",
       "VA     630\n",
       "GA     549\n",
       "MD     475\n",
       "NC     449\n",
       "CO     423\n",
       "AZ     350\n",
       "CT     344\n",
       "WA     280\n",
       "IN     270\n",
       "TN     262\n",
       "SC     250\n",
       "MN     248\n",
       "MO     221\n",
       "WI     199\n",
       "MI     186\n",
       "LA     167\n",
       "OR     166\n",
       "DC     127\n",
       "KS     127\n",
       "NH     112\n",
       "RI      94\n",
       "NE      93\n",
       "IA      92\n",
       "OK      85\n",
       "NV      85\n",
       "HI      76\n",
       "NM      70\n",
       "AR      68\n",
       "AL      62\n",
       "ME      58\n",
       "ID      52\n",
       "MT      49\n",
       "DE      46\n",
       "WV      43\n",
       "VT      41\n",
       "ND      35\n",
       "WY      30\n",
       "SD      27\n",
       "AK      21\n",
       "Name: State, dtype: int64"
      ]
     },
     "execution_count": 16,
     "metadata": {},
     "output_type": "execute_result"
    }
   ],
   "source": [
    "df_2020_01['State'].value_counts()"
   ]
  },
  {
   "cell_type": "code",
   "execution_count": 17,
   "id": "6a27c6dd",
   "metadata": {},
   "outputs": [
    {
     "data": {
      "text/plain": [
       "10019         40\n",
       "10016         35\n",
       "11201         31\n",
       "10022         30\n",
       "10011         29\n",
       "              ..\n",
       "73003          1\n",
       "97402          1\n",
       "59803          1\n",
       "10021-2436     1\n",
       "33325          1\n",
       "Name: Zip, Length: 7034, dtype: int64"
      ]
     },
     "execution_count": 17,
     "metadata": {},
     "output_type": "execute_result"
    }
   ],
   "source": [
    "df_2020_01['Zip'].value_counts()"
   ]
  },
  {
   "cell_type": "code",
   "execution_count": 18,
   "id": "93a3d82a",
   "metadata": {},
   "outputs": [
    {
     "data": {
      "text/plain": [
       "FEH     7645\n",
       "UPS     6868\n",
       "FXG     1710\n",
       "LSO      620\n",
       "FEX       61\n",
       "UP2       30\n",
       "LSO1      30\n",
       "WCU       26\n",
       "GSC        3\n",
       "Fxg        1\n",
       "AZS        1\n",
       "UP1        1\n",
       "WCP        1\n",
       "Name: Shipping Service, dtype: int64"
      ]
     },
     "execution_count": 18,
     "metadata": {},
     "output_type": "execute_result"
    }
   ],
   "source": [
    "df_2020_01['Shipping Service'].value_counts()"
   ]
  },
  {
   "cell_type": "code",
   "execution_count": 19,
   "id": "f31c6641",
   "metadata": {},
   "outputs": [
    {
     "data": {
      "text/plain": [
       "1/27/20     436\n",
       "1/20/20     399\n",
       "1/6/20      393\n",
       "1/13/20     353\n",
       "1/14/20     315\n",
       "           ... \n",
       "10/1/19       1\n",
       "9/29/19       1\n",
       "11/9/19       1\n",
       "12/21/19      1\n",
       "6/17/19       1\n",
       "Name: Created Date, Length: 67, dtype: int64"
      ]
     },
     "execution_count": 19,
     "metadata": {},
     "output_type": "execute_result"
    }
   ],
   "source": [
    "df_2020_01['Created Date'].value_counts()\n",
    "#Ok to have dates from other months- Sometimes people will create an order and hold onto it until an adult is present to sign for delivery."
   ]
  },
  {
   "cell_type": "code",
   "execution_count": 20,
   "id": "8ebe2d26",
   "metadata": {},
   "outputs": [
    {
     "data": {
      "text/plain": [
       "21.50    2787\n",
       "10.50    1387\n",
       "41.00     763\n",
       "20.20     544\n",
       "14.00     481\n",
       "7.00      420\n",
       "9.90      310\n",
       "39.00     309\n",
       "29.00     147\n",
       "3.35      123\n",
       "18.50     111\n",
       "35.00      78\n",
       "26.00      77\n",
       "32.00      71\n",
       "38.00      25\n",
       "30.00      12\n",
       "24.00       9\n",
       "4.00        9\n",
       "17.20       8\n",
       "20.00       7\n",
       "33.00       6\n",
       "6.20        6\n",
       "39.50       5\n",
       "11.00       5\n",
       "1.85        3\n",
       "12.50       3\n",
       "17.00       3\n",
       "13.50       3\n",
       "27.00       3\n",
       "36.00       2\n",
       "45.00       1\n",
       "19.50       1\n",
       "15.00       1\n",
       "9.00        1\n",
       "20.50       1\n",
       "Name: Weight, dtype: int64"
      ]
     },
     "execution_count": 20,
     "metadata": {},
     "output_type": "execute_result"
    }
   ],
   "source": [
    "df_2020_01['Weight'].value_counts()"
   ]
  },
  {
   "cell_type": "code",
   "execution_count": 21,
   "id": "356cd94a",
   "metadata": {},
   "outputs": [
    {
     "data": {
      "text/plain": [
       "6.0     3343\n",
       "3.0     1695\n",
       "12.0    1076\n",
       "4.0      481\n",
       "2.0      313\n",
       "1.0      262\n",
       "8.0      150\n",
       "5.0      121\n",
       "7.0       86\n",
       "10.0      84\n",
       "9.0       83\n",
       "11.0      27\n",
       "14.0       1\n",
       "Name: Item/Bottle Count, dtype: int64"
      ]
     },
     "execution_count": 21,
     "metadata": {},
     "output_type": "execute_result"
    }
   ],
   "source": [
    "df_2020_01['Item/Bottle Count'].value_counts()"
   ]
  },
  {
   "cell_type": "markdown",
   "id": "68f6fedc",
   "metadata": {},
   "source": [
    "## Clean the Data"
   ]
  },
  {
   "cell_type": "code",
   "execution_count": 22,
   "id": "7344c4a2",
   "metadata": {},
   "outputs": [],
   "source": [
    "#Change dtypes if necessary"
   ]
  },
  {
   "cell_type": "code",
   "execution_count": 23,
   "id": "02ffce8c",
   "metadata": {},
   "outputs": [
    {
     "data": {
      "text/html": [
       "<div>\n",
       "<style scoped>\n",
       "    .dataframe tbody tr th:only-of-type {\n",
       "        vertical-align: middle;\n",
       "    }\n",
       "\n",
       "    .dataframe tbody tr th {\n",
       "        vertical-align: top;\n",
       "    }\n",
       "\n",
       "    .dataframe thead th {\n",
       "        text-align: right;\n",
       "    }\n",
       "</style>\n",
       "<table border=\"1\" class=\"dataframe\">\n",
       "  <thead>\n",
       "    <tr style=\"text-align: right;\">\n",
       "      <th></th>\n",
       "      <th>Company Name</th>\n",
       "      <th>Ship Date</th>\n",
       "      <th>City</th>\n",
       "      <th>State</th>\n",
       "      <th>Zip</th>\n",
       "      <th>Shipping Service</th>\n",
       "      <th>Created Date</th>\n",
       "      <th>Weight</th>\n",
       "      <th>Item/Bottle Count</th>\n",
       "    </tr>\n",
       "  </thead>\n",
       "  <tbody>\n",
       "    <tr>\n",
       "      <th>0</th>\n",
       "      <td>Ecom3</td>\n",
       "      <td>1/2/20</td>\n",
       "      <td>Plantation</td>\n",
       "      <td>FL</td>\n",
       "      <td>33325</td>\n",
       "      <td>UPS</td>\n",
       "      <td>1/1/20</td>\n",
       "      <td>9.9</td>\n",
       "      <td>3.0</td>\n",
       "    </tr>\n",
       "    <tr>\n",
       "      <th>1</th>\n",
       "      <td>Ecom3</td>\n",
       "      <td>1/2/20</td>\n",
       "      <td>Lafayette</td>\n",
       "      <td>CA</td>\n",
       "      <td>94549</td>\n",
       "      <td>UPS</td>\n",
       "      <td>12/31/19</td>\n",
       "      <td>35.0</td>\n",
       "      <td>10.0</td>\n",
       "    </tr>\n",
       "    <tr>\n",
       "      <th>2</th>\n",
       "      <td>Ecom3</td>\n",
       "      <td>1/2/20</td>\n",
       "      <td>New York</td>\n",
       "      <td>NY</td>\n",
       "      <td>10022</td>\n",
       "      <td>FEH</td>\n",
       "      <td>1/1/20</td>\n",
       "      <td>29.0</td>\n",
       "      <td>8.0</td>\n",
       "    </tr>\n",
       "    <tr>\n",
       "      <th>3</th>\n",
       "      <td>Ecom3</td>\n",
       "      <td>1/3/20</td>\n",
       "      <td>New York</td>\n",
       "      <td>NY</td>\n",
       "      <td>10006</td>\n",
       "      <td>FEH</td>\n",
       "      <td>1/2/20</td>\n",
       "      <td>21.5</td>\n",
       "      <td>6.0</td>\n",
       "    </tr>\n",
       "    <tr>\n",
       "      <th>4</th>\n",
       "      <td>Ecom3</td>\n",
       "      <td>1/2/20</td>\n",
       "      <td>Walkersville</td>\n",
       "      <td>MD</td>\n",
       "      <td>21793</td>\n",
       "      <td>FXG</td>\n",
       "      <td>12/31/19</td>\n",
       "      <td>41.0</td>\n",
       "      <td>12.0</td>\n",
       "    </tr>\n",
       "    <tr>\n",
       "      <th>...</th>\n",
       "      <td>...</td>\n",
       "      <td>...</td>\n",
       "      <td>...</td>\n",
       "      <td>...</td>\n",
       "      <td>...</td>\n",
       "      <td>...</td>\n",
       "      <td>...</td>\n",
       "      <td>...</td>\n",
       "      <td>...</td>\n",
       "    </tr>\n",
       "    <tr>\n",
       "      <th>16992</th>\n",
       "      <td>Winery3</td>\n",
       "      <td>1/27/20</td>\n",
       "      <td>Jersey City</td>\n",
       "      <td>NJ</td>\n",
       "      <td>7302</td>\n",
       "      <td>UPS</td>\n",
       "      <td>1/27/20</td>\n",
       "      <td>10.5</td>\n",
       "      <td>3.0</td>\n",
       "    </tr>\n",
       "    <tr>\n",
       "      <th>16993</th>\n",
       "      <td>Winery3</td>\n",
       "      <td>1/31/20</td>\n",
       "      <td>Corrales</td>\n",
       "      <td>NM</td>\n",
       "      <td>87048</td>\n",
       "      <td>UPS</td>\n",
       "      <td>1/31/20</td>\n",
       "      <td>10.5</td>\n",
       "      <td>3.0</td>\n",
       "    </tr>\n",
       "    <tr>\n",
       "      <th>16994</th>\n",
       "      <td>Winery3</td>\n",
       "      <td>1/31/20</td>\n",
       "      <td>Scarborough</td>\n",
       "      <td>NY</td>\n",
       "      <td>10510</td>\n",
       "      <td>UPS</td>\n",
       "      <td>1/31/20</td>\n",
       "      <td>30.0</td>\n",
       "      <td>9.0</td>\n",
       "    </tr>\n",
       "    <tr>\n",
       "      <th>16995</th>\n",
       "      <td>Winery3</td>\n",
       "      <td>1/31/20</td>\n",
       "      <td>Scarborough</td>\n",
       "      <td>NY</td>\n",
       "      <td>10510</td>\n",
       "      <td>UPS</td>\n",
       "      <td>1/31/20</td>\n",
       "      <td>39.0</td>\n",
       "      <td>12.0</td>\n",
       "    </tr>\n",
       "    <tr>\n",
       "      <th>16996</th>\n",
       "      <td>Winery3</td>\n",
       "      <td>1/27/20</td>\n",
       "      <td>Napa</td>\n",
       "      <td>CA</td>\n",
       "      <td>94558</td>\n",
       "      <td>WCU</td>\n",
       "      <td>1/27/20</td>\n",
       "      <td>20.2</td>\n",
       "      <td>6.0</td>\n",
       "    </tr>\n",
       "  </tbody>\n",
       "</table>\n",
       "<p>16997 rows × 9 columns</p>\n",
       "</div>"
      ],
      "text/plain": [
       "      Company Name Ship Date          City State    Zip Shipping Service  \\\n",
       "0            Ecom3    1/2/20    Plantation    FL  33325              UPS   \n",
       "1            Ecom3    1/2/20     Lafayette    CA  94549              UPS   \n",
       "2            Ecom3    1/2/20      New York    NY  10022              FEH   \n",
       "3            Ecom3    1/3/20      New York    NY  10006              FEH   \n",
       "4            Ecom3    1/2/20  Walkersville    MD  21793              FXG   \n",
       "...            ...       ...           ...   ...    ...              ...   \n",
       "16992      Winery3   1/27/20   Jersey City    NJ   7302              UPS   \n",
       "16993      Winery3   1/31/20      Corrales    NM  87048              UPS   \n",
       "16994      Winery3   1/31/20   Scarborough    NY  10510              UPS   \n",
       "16995      Winery3   1/31/20   Scarborough    NY  10510              UPS   \n",
       "16996      Winery3   1/27/20          Napa    CA  94558              WCU   \n",
       "\n",
       "      Created Date  Weight  Item/Bottle Count  \n",
       "0           1/1/20     9.9                3.0  \n",
       "1         12/31/19    35.0               10.0  \n",
       "2           1/1/20    29.0                8.0  \n",
       "3           1/2/20    21.5                6.0  \n",
       "4         12/31/19    41.0               12.0  \n",
       "...            ...     ...                ...  \n",
       "16992      1/27/20    10.5                3.0  \n",
       "16993      1/31/20    10.5                3.0  \n",
       "16994      1/31/20    30.0                9.0  \n",
       "16995      1/31/20    39.0               12.0  \n",
       "16996      1/27/20    20.2                6.0  \n",
       "\n",
       "[16997 rows x 9 columns]"
      ]
     },
     "execution_count": 23,
     "metadata": {},
     "output_type": "execute_result"
    }
   ],
   "source": [
    "#Remove \"Status\" column from df_2020_01.\n",
    "df_2020_01 = df_2020_01.drop('Status', axis=1)\n",
    "df_2020_01"
   ]
  },
  {
   "cell_type": "code",
   "execution_count": 24,
   "id": "bbb59fc5",
   "metadata": {},
   "outputs": [],
   "source": [
    "# Drop the NaNs for df_2020_01.\n",
    "df_2020_01 = df_2020_01.dropna()"
   ]
  },
  {
   "cell_type": "markdown",
   "id": "946b6578",
   "metadata": {},
   "source": [
    "## Confirm Changes"
   ]
  },
  {
   "cell_type": "code",
   "execution_count": 25,
   "id": "24f52aa4",
   "metadata": {},
   "outputs": [
    {
     "data": {
      "text/html": [
       "<div>\n",
       "<style scoped>\n",
       "    .dataframe tbody tr th:only-of-type {\n",
       "        vertical-align: middle;\n",
       "    }\n",
       "\n",
       "    .dataframe tbody tr th {\n",
       "        vertical-align: top;\n",
       "    }\n",
       "\n",
       "    .dataframe thead th {\n",
       "        text-align: right;\n",
       "    }\n",
       "</style>\n",
       "<table border=\"1\" class=\"dataframe\">\n",
       "  <thead>\n",
       "    <tr style=\"text-align: right;\">\n",
       "      <th></th>\n",
       "      <th>Company Name</th>\n",
       "      <th>Ship Date</th>\n",
       "      <th>City</th>\n",
       "      <th>State</th>\n",
       "      <th>Zip</th>\n",
       "      <th>Shipping Service</th>\n",
       "      <th>Created Date</th>\n",
       "      <th>Weight</th>\n",
       "      <th>Item/Bottle Count</th>\n",
       "    </tr>\n",
       "  </thead>\n",
       "  <tbody>\n",
       "    <tr>\n",
       "      <th>2649</th>\n",
       "      <td>Ecom3</td>\n",
       "      <td>1/13/20</td>\n",
       "      <td>Birmingham</td>\n",
       "      <td>MI</td>\n",
       "      <td>48009</td>\n",
       "      <td>UPS</td>\n",
       "      <td>1/13/20</td>\n",
       "      <td>41.00</td>\n",
       "      <td>12.0</td>\n",
       "    </tr>\n",
       "    <tr>\n",
       "      <th>140</th>\n",
       "      <td>Ecom3</td>\n",
       "      <td>1/2/20</td>\n",
       "      <td>ENGLEWOOD CLIFFS</td>\n",
       "      <td>NJ</td>\n",
       "      <td>7632</td>\n",
       "      <td>FEH</td>\n",
       "      <td>1/1/20</td>\n",
       "      <td>21.50</td>\n",
       "      <td>6.0</td>\n",
       "    </tr>\n",
       "    <tr>\n",
       "      <th>13770</th>\n",
       "      <td>Ecom3</td>\n",
       "      <td>1/30/20</td>\n",
       "      <td>New York</td>\n",
       "      <td>NY</td>\n",
       "      <td>10069</td>\n",
       "      <td>FEH</td>\n",
       "      <td>1/30/20</td>\n",
       "      <td>3.35</td>\n",
       "      <td>1.0</td>\n",
       "    </tr>\n",
       "    <tr>\n",
       "      <th>2253</th>\n",
       "      <td>Ecom3</td>\n",
       "      <td>1/16/20</td>\n",
       "      <td>San Jose</td>\n",
       "      <td>CA</td>\n",
       "      <td>95138</td>\n",
       "      <td>UPS</td>\n",
       "      <td>1/15/20</td>\n",
       "      <td>21.50</td>\n",
       "      <td>6.0</td>\n",
       "    </tr>\n",
       "    <tr>\n",
       "      <th>3365</th>\n",
       "      <td>Ecom3</td>\n",
       "      <td>1/20/20</td>\n",
       "      <td>GWYNN</td>\n",
       "      <td>VA</td>\n",
       "      <td>23066</td>\n",
       "      <td>UPS</td>\n",
       "      <td>1/18/20</td>\n",
       "      <td>21.50</td>\n",
       "      <td>6.0</td>\n",
       "    </tr>\n",
       "  </tbody>\n",
       "</table>\n",
       "</div>"
      ],
      "text/plain": [
       "      Company Name Ship Date              City State    Zip Shipping Service  \\\n",
       "2649         Ecom3   1/13/20        Birmingham    MI  48009              UPS   \n",
       "140          Ecom3    1/2/20  ENGLEWOOD CLIFFS    NJ   7632              FEH   \n",
       "13770        Ecom3   1/30/20          New York    NY  10069              FEH   \n",
       "2253         Ecom3   1/16/20          San Jose    CA  95138              UPS   \n",
       "3365         Ecom3   1/20/20             GWYNN    VA  23066              UPS   \n",
       "\n",
       "      Created Date  Weight  Item/Bottle Count  \n",
       "2649       1/13/20   41.00               12.0  \n",
       "140         1/1/20   21.50                6.0  \n",
       "13770      1/30/20    3.35                1.0  \n",
       "2253       1/15/20   21.50                6.0  \n",
       "3365       1/18/20   21.50                6.0  "
      ]
     },
     "execution_count": 25,
     "metadata": {},
     "output_type": "execute_result"
    }
   ],
   "source": [
    "#See five random rows of data\n",
    "df_2020_01.sample(n=5)"
   ]
  },
  {
   "cell_type": "code",
   "execution_count": 26,
   "id": "a61f9697",
   "metadata": {},
   "outputs": [
    {
     "name": "stdout",
     "output_type": "stream",
     "text": [
      "Number of Rows:  7722\n",
      "Number of Columns:  9\n"
     ]
    }
   ],
   "source": [
    "#Determine total rows for df_2020_01.\n",
    "df_2020_01_rows = len(df_2020_01.axes[0])\n",
    "df_2020_01_cols = len(df_2020_01.axes[1])\n",
    "print(\"Number of Rows: \", df_2020_01_rows)\n",
    "print(\"Number of Columns: \", df_2020_01_cols)"
   ]
  },
  {
   "cell_type": "code",
   "execution_count": 28,
   "id": "5baf6d0d",
   "metadata": {},
   "outputs": [
    {
     "data": {
      "text/plain": [
       "Ecom3      5210\n",
       "Ecom1      2230\n",
       "Winery1     203\n",
       "Winery3      42\n",
       "Winery2      37\n",
       "Name: Company Name, dtype: int64"
      ]
     },
     "execution_count": 28,
     "metadata": {},
     "output_type": "execute_result"
    }
   ],
   "source": [
    "df_2020_01['Company Name'].value_counts()\n",
    "#Checking to make sure Winery3 is included."
   ]
  },
  {
   "cell_type": "markdown",
   "id": "d997584e",
   "metadata": {},
   "source": [
    "## Export Cleaned df to .CSV"
   ]
  },
  {
   "cell_type": "code",
   "execution_count": 29,
   "id": "84bc21fc",
   "metadata": {},
   "outputs": [],
   "source": [
    "#Export df_2020_01 to .csv\n",
    "df_2020_01.to_csv('../cleaned_months_2020/Clean_2020_01.csv') "
   ]
  },
  {
   "cell_type": "code",
   "execution_count": null,
   "id": "22eef17a",
   "metadata": {},
   "outputs": [],
   "source": []
  }
 ],
 "metadata": {
  "kernelspec": {
   "display_name": "Python 3 (ipykernel)",
   "language": "python",
   "name": "python3"
  },
  "language_info": {
   "codemirror_mode": {
    "name": "ipython",
    "version": 3
   },
   "file_extension": ".py",
   "mimetype": "text/x-python",
   "name": "python",
   "nbconvert_exporter": "python",
   "pygments_lexer": "ipython3",
   "version": "3.7.13"
  }
 },
 "nbformat": 4,
 "nbformat_minor": 5
}
