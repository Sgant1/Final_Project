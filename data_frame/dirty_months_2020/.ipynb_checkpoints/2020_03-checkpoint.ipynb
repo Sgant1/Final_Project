{
 "cells": [
  {
   "cell_type": "code",
   "execution_count": 1,
   "id": "1f30ec89",
   "metadata": {},
   "outputs": [],
   "source": [
    "#Pandas library to create DataFrames\n",
    "import pandas as pd\n",
    "#NumPy library for converting data types\n",
    "import numpy as np"
   ]
  },
  {
   "cell_type": "code",
   "execution_count": 2,
   "id": "7d4569c3",
   "metadata": {},
   "outputs": [],
   "source": [
    "# Files to load\n",
    "load_2020_03 = \"../../2020_Data/2020.03.csv\""
   ]
  },
  {
   "cell_type": "code",
   "execution_count": 3,
   "id": "5bf26e77",
   "metadata": {},
   "outputs": [
    {
     "data": {
      "text/html": [
       "<div>\n",
       "<style scoped>\n",
       "    .dataframe tbody tr th:only-of-type {\n",
       "        vertical-align: middle;\n",
       "    }\n",
       "\n",
       "    .dataframe tbody tr th {\n",
       "        vertical-align: top;\n",
       "    }\n",
       "\n",
       "    .dataframe thead th {\n",
       "        text-align: right;\n",
       "    }\n",
       "</style>\n",
       "<table border=\"1\" class=\"dataframe\">\n",
       "  <thead>\n",
       "    <tr style=\"text-align: right;\">\n",
       "      <th></th>\n",
       "      <th>Company Name</th>\n",
       "      <th>Status</th>\n",
       "      <th>Ship Date</th>\n",
       "      <th>City</th>\n",
       "      <th>State</th>\n",
       "      <th>Zip</th>\n",
       "      <th>Shipping Service</th>\n",
       "      <th>Created Date</th>\n",
       "      <th>Weight</th>\n",
       "      <th>Item/Bottle Count</th>\n",
       "    </tr>\n",
       "  </thead>\n",
       "  <tbody>\n",
       "    <tr>\n",
       "      <th>0</th>\n",
       "      <td>Ecom3</td>\n",
       "      <td>In Transit</td>\n",
       "      <td>3/4/20</td>\n",
       "      <td>Frisco</td>\n",
       "      <td>TX</td>\n",
       "      <td>75036</td>\n",
       "      <td>UPS</td>\n",
       "      <td>3/4/20</td>\n",
       "      <td>21.5</td>\n",
       "      <td>6</td>\n",
       "    </tr>\n",
       "    <tr>\n",
       "      <th>1</th>\n",
       "      <td>Ecom3</td>\n",
       "      <td>Delivered</td>\n",
       "      <td>3/2/20</td>\n",
       "      <td>Montclair</td>\n",
       "      <td>NJ</td>\n",
       "      <td>7043</td>\n",
       "      <td>UPS</td>\n",
       "      <td>2/29/20</td>\n",
       "      <td>21.5</td>\n",
       "      <td>6</td>\n",
       "    </tr>\n",
       "    <tr>\n",
       "      <th>2</th>\n",
       "      <td>Ecom3</td>\n",
       "      <td>Delivered</td>\n",
       "      <td>3/3/20</td>\n",
       "      <td>SILVER SPRING</td>\n",
       "      <td>MD</td>\n",
       "      <td>20901-3101</td>\n",
       "      <td>FEH</td>\n",
       "      <td>3/1/20</td>\n",
       "      <td>41.0</td>\n",
       "      <td>12</td>\n",
       "    </tr>\n",
       "    <tr>\n",
       "      <th>3</th>\n",
       "      <td>Ecom3</td>\n",
       "      <td>Delivered</td>\n",
       "      <td>3/2/20</td>\n",
       "      <td>Montclair</td>\n",
       "      <td>NJ</td>\n",
       "      <td>7043</td>\n",
       "      <td>UPS</td>\n",
       "      <td>2/29/20</td>\n",
       "      <td>29.0</td>\n",
       "      <td>8</td>\n",
       "    </tr>\n",
       "    <tr>\n",
       "      <th>4</th>\n",
       "      <td>Ecom3</td>\n",
       "      <td>In Transit</td>\n",
       "      <td>3/3/20</td>\n",
       "      <td>Spring Lake</td>\n",
       "      <td>MI</td>\n",
       "      <td>49456</td>\n",
       "      <td>UPS</td>\n",
       "      <td>3/3/20</td>\n",
       "      <td>7.0</td>\n",
       "      <td>2</td>\n",
       "    </tr>\n",
       "  </tbody>\n",
       "</table>\n",
       "</div>"
      ],
      "text/plain": [
       "  Company Name      Status Ship Date           City State         Zip  \\\n",
       "0        Ecom3  In Transit    3/4/20         Frisco    TX       75036   \n",
       "1        Ecom3   Delivered    3/2/20      Montclair    NJ        7043   \n",
       "2        Ecom3   Delivered    3/3/20  SILVER SPRING    MD  20901-3101   \n",
       "3        Ecom3   Delivered    3/2/20      Montclair    NJ        7043   \n",
       "4        Ecom3  In Transit    3/3/20    Spring Lake    MI       49456   \n",
       "\n",
       "  Shipping Service Created Date  Weight Item/Bottle Count  \n",
       "0              UPS       3/4/20    21.5                 6  \n",
       "1              UPS      2/29/20    21.5                 6  \n",
       "2              FEH       3/1/20    41.0                12  \n",
       "3              UPS      2/29/20    29.0                 8  \n",
       "4              UPS       3/3/20     7.0                 2  "
      ]
     },
     "execution_count": 3,
     "metadata": {},
     "output_type": "execute_result"
    }
   ],
   "source": [
    "# Read the March CSV into a DataFrame\n",
    "#Had to open each file in excel and save it as a .csv file instead of an .xlsm file in order for the encryption to be read properly.\n",
    "df_2020_03 = pd.read_csv(load_2020_03)\n",
    "df_2020_03.head()"
   ]
  },
  {
   "cell_type": "markdown",
   "id": "175df6a6",
   "metadata": {},
   "source": [
    "## Inspect the Data"
   ]
  },
  {
   "cell_type": "code",
   "execution_count": 4,
   "id": "2cdb2387",
   "metadata": {},
   "outputs": [
    {
     "data": {
      "text/html": [
       "<div>\n",
       "<style scoped>\n",
       "    .dataframe tbody tr th:only-of-type {\n",
       "        vertical-align: middle;\n",
       "    }\n",
       "\n",
       "    .dataframe tbody tr th {\n",
       "        vertical-align: top;\n",
       "    }\n",
       "\n",
       "    .dataframe thead th {\n",
       "        text-align: right;\n",
       "    }\n",
       "</style>\n",
       "<table border=\"1\" class=\"dataframe\">\n",
       "  <thead>\n",
       "    <tr style=\"text-align: right;\">\n",
       "      <th></th>\n",
       "      <th>Company Name</th>\n",
       "      <th>Status</th>\n",
       "      <th>Ship Date</th>\n",
       "      <th>City</th>\n",
       "      <th>State</th>\n",
       "      <th>Zip</th>\n",
       "      <th>Shipping Service</th>\n",
       "      <th>Created Date</th>\n",
       "      <th>Weight</th>\n",
       "      <th>Item/Bottle Count</th>\n",
       "    </tr>\n",
       "  </thead>\n",
       "  <tbody>\n",
       "    <tr>\n",
       "      <th>11658</th>\n",
       "      <td>Ecom3</td>\n",
       "      <td>In Transit</td>\n",
       "      <td>3/30/20</td>\n",
       "      <td>RIDGEWOOD</td>\n",
       "      <td>NJ</td>\n",
       "      <td>07450-1009</td>\n",
       "      <td>UPS</td>\n",
       "      <td>3/27/20</td>\n",
       "      <td>21.5</td>\n",
       "      <td>6</td>\n",
       "    </tr>\n",
       "    <tr>\n",
       "      <th>431</th>\n",
       "      <td>Ecom3</td>\n",
       "      <td>Delivered</td>\n",
       "      <td>3/2/20</td>\n",
       "      <td>Napa</td>\n",
       "      <td>CA</td>\n",
       "      <td>94558</td>\n",
       "      <td>UPS</td>\n",
       "      <td>3/1/20</td>\n",
       "      <td>21.5</td>\n",
       "      <td>6</td>\n",
       "    </tr>\n",
       "    <tr>\n",
       "      <th>1457</th>\n",
       "      <td>Ecom1</td>\n",
       "      <td>Shipped</td>\n",
       "      <td>3/5/20</td>\n",
       "      <td>Alabaster</td>\n",
       "      <td>AL</td>\n",
       "      <td>35007</td>\n",
       "      <td>LSO1</td>\n",
       "      <td>3/4/20</td>\n",
       "      <td>39.0</td>\n",
       "      <td>12</td>\n",
       "    </tr>\n",
       "    <tr>\n",
       "      <th>6541</th>\n",
       "      <td>Ecom1</td>\n",
       "      <td>Delivered</td>\n",
       "      <td>3/16/20</td>\n",
       "      <td>Santa Rosa</td>\n",
       "      <td>NM</td>\n",
       "      <td>88435</td>\n",
       "      <td>FXG</td>\n",
       "      <td>3/16/20</td>\n",
       "      <td>10.5</td>\n",
       "      <td>3</td>\n",
       "    </tr>\n",
       "    <tr>\n",
       "      <th>303</th>\n",
       "      <td>Ecom3</td>\n",
       "      <td>Delivered</td>\n",
       "      <td>3/2/20</td>\n",
       "      <td>Lake Bluff</td>\n",
       "      <td>IL</td>\n",
       "      <td>60044</td>\n",
       "      <td>UPS</td>\n",
       "      <td>3/1/20</td>\n",
       "      <td>21.5</td>\n",
       "      <td>6</td>\n",
       "    </tr>\n",
       "  </tbody>\n",
       "</table>\n",
       "</div>"
      ],
      "text/plain": [
       "      Company Name      Status Ship Date        City State         Zip  \\\n",
       "11658        Ecom3  In Transit   3/30/20   RIDGEWOOD    NJ  07450-1009   \n",
       "431          Ecom3   Delivered    3/2/20        Napa    CA       94558   \n",
       "1457         Ecom1     Shipped    3/5/20   Alabaster    AL       35007   \n",
       "6541         Ecom1   Delivered   3/16/20  Santa Rosa    NM       88435   \n",
       "303          Ecom3   Delivered    3/2/20  Lake Bluff    IL       60044   \n",
       "\n",
       "      Shipping Service Created Date  Weight Item/Bottle Count  \n",
       "11658              UPS      3/27/20    21.5                 6  \n",
       "431                UPS       3/1/20    21.5                 6  \n",
       "1457              LSO1       3/4/20    39.0                12  \n",
       "6541               FXG      3/16/20    10.5                 3  \n",
       "303                UPS       3/1/20    21.5                 6  "
      ]
     },
     "execution_count": 4,
     "metadata": {},
     "output_type": "execute_result"
    }
   ],
   "source": [
    "#See five random rows of data\n",
    "df_2020_03.sample(n=5)"
   ]
  },
  {
   "cell_type": "code",
   "execution_count": 5,
   "id": "a7bdb733",
   "metadata": {},
   "outputs": [
    {
     "data": {
      "text/html": [
       "<div>\n",
       "<style scoped>\n",
       "    .dataframe tbody tr th:only-of-type {\n",
       "        vertical-align: middle;\n",
       "    }\n",
       "\n",
       "    .dataframe tbody tr th {\n",
       "        vertical-align: top;\n",
       "    }\n",
       "\n",
       "    .dataframe thead th {\n",
       "        text-align: right;\n",
       "    }\n",
       "</style>\n",
       "<table border=\"1\" class=\"dataframe\">\n",
       "  <thead>\n",
       "    <tr style=\"text-align: right;\">\n",
       "      <th></th>\n",
       "      <th>Company Name</th>\n",
       "      <th>Status</th>\n",
       "      <th>Ship Date</th>\n",
       "      <th>City</th>\n",
       "      <th>State</th>\n",
       "      <th>Zip</th>\n",
       "      <th>Shipping Service</th>\n",
       "      <th>Created Date</th>\n",
       "      <th>Weight</th>\n",
       "      <th>Item/Bottle Count</th>\n",
       "    </tr>\n",
       "  </thead>\n",
       "  <tbody>\n",
       "    <tr>\n",
       "      <th>12278</th>\n",
       "      <td>Ecom1</td>\n",
       "      <td>Delivered</td>\n",
       "      <td>3/30/20</td>\n",
       "      <td>Flagstaff</td>\n",
       "      <td>AZ</td>\n",
       "      <td>86001</td>\n",
       "      <td>FEH</td>\n",
       "      <td>3/27/20</td>\n",
       "      <td>20.2</td>\n",
       "      <td>6</td>\n",
       "    </tr>\n",
       "    <tr>\n",
       "      <th>12279</th>\n",
       "      <td>Winery1</td>\n",
       "      <td>Delivered</td>\n",
       "      <td>3/31/20</td>\n",
       "      <td>Tiburon</td>\n",
       "      <td>CA</td>\n",
       "      <td>94920</td>\n",
       "      <td>UPS</td>\n",
       "      <td>3/31/20</td>\n",
       "      <td>20.2</td>\n",
       "      <td>6</td>\n",
       "    </tr>\n",
       "    <tr>\n",
       "      <th>12280</th>\n",
       "      <td>Ecom1</td>\n",
       "      <td>Delivered</td>\n",
       "      <td>3/30/20</td>\n",
       "      <td>North Eastham</td>\n",
       "      <td>MA</td>\n",
       "      <td>2651</td>\n",
       "      <td>FEH</td>\n",
       "      <td>3/30/20</td>\n",
       "      <td>39.0</td>\n",
       "      <td>12</td>\n",
       "    </tr>\n",
       "    <tr>\n",
       "      <th>12281</th>\n",
       "      <td>Ecom1</td>\n",
       "      <td>Delivered</td>\n",
       "      <td>3/30/20</td>\n",
       "      <td>Decatur</td>\n",
       "      <td>GA</td>\n",
       "      <td>30033</td>\n",
       "      <td>FEH</td>\n",
       "      <td>3/27/20</td>\n",
       "      <td>20.2</td>\n",
       "      <td>6</td>\n",
       "    </tr>\n",
       "    <tr>\n",
       "      <th>12282</th>\n",
       "      <td>Ecom1</td>\n",
       "      <td>Delivered</td>\n",
       "      <td>3/31/20</td>\n",
       "      <td>las vegas</td>\n",
       "      <td>NV</td>\n",
       "      <td>89169</td>\n",
       "      <td>FEH</td>\n",
       "      <td>3/29/20</td>\n",
       "      <td>10.5</td>\n",
       "      <td>3</td>\n",
       "    </tr>\n",
       "  </tbody>\n",
       "</table>\n",
       "</div>"
      ],
      "text/plain": [
       "      Company Name     Status Ship Date           City State    Zip  \\\n",
       "12278        Ecom1  Delivered   3/30/20      Flagstaff    AZ  86001   \n",
       "12279      Winery1  Delivered   3/31/20        Tiburon    CA  94920   \n",
       "12280        Ecom1  Delivered   3/30/20  North Eastham    MA   2651   \n",
       "12281        Ecom1  Delivered   3/30/20        Decatur    GA  30033   \n",
       "12282        Ecom1  Delivered   3/31/20      las vegas    NV  89169   \n",
       "\n",
       "      Shipping Service Created Date  Weight Item/Bottle Count  \n",
       "12278              FEH      3/27/20    20.2                 6  \n",
       "12279              UPS      3/31/20    20.2                 6  \n",
       "12280              FEH      3/30/20    39.0                12  \n",
       "12281              FEH      3/27/20    20.2                 6  \n",
       "12282              FEH      3/29/20    10.5                 3  "
      ]
     },
     "execution_count": 5,
     "metadata": {},
     "output_type": "execute_result"
    }
   ],
   "source": [
    "#See the last rows of data\n",
    "df_2020_03.tail(5)"
   ]
  },
  {
   "cell_type": "code",
   "execution_count": 6,
   "id": "a820ba41",
   "metadata": {},
   "outputs": [
    {
     "data": {
      "text/plain": [
       "Index(['Company Name', 'Status', 'Ship Date', 'City', 'State', 'Zip',\n",
       "       'Shipping Service', 'Created Date', 'Weight', 'Item/Bottle Count'],\n",
       "      dtype='object')"
      ]
     },
     "execution_count": 6,
     "metadata": {},
     "output_type": "execute_result"
    }
   ],
   "source": [
    "df_2020_03.columns"
   ]
  },
  {
   "cell_type": "code",
   "execution_count": 7,
   "id": "7410d9e5",
   "metadata": {},
   "outputs": [
    {
     "name": "stdout",
     "output_type": "stream",
     "text": [
      "Number of Rows:  12283\n",
      "Number of Columns:  10\n"
     ]
    }
   ],
   "source": [
    "#Determine total rows for df_2020_03.\n",
    "df_2020_03_rows = len(df_2020_03.axes[0])\n",
    "df_2020_03_cols = len(df_2020_03.axes[1])\n",
    "print(\"Number of Rows: \", df_2020_03_rows)\n",
    "print(\"Number of Columns: \", df_2020_03_cols)"
   ]
  },
  {
   "cell_type": "code",
   "execution_count": 8,
   "id": "4caf57c3",
   "metadata": {},
   "outputs": [
    {
     "data": {
      "text/plain": [
       "Company Name         0\n",
       "Status               0\n",
       "Ship Date            0\n",
       "City                 0\n",
       "State                0\n",
       "Zip                  0\n",
       "Shipping Service     0\n",
       "Created Date         0\n",
       "Weight               0\n",
       "Item/Bottle Count    0\n",
       "dtype: int64"
      ]
     },
     "execution_count": 8,
     "metadata": {},
     "output_type": "execute_result"
    }
   ],
   "source": [
    "# Determine if there are any missing values in df_2020_03.\n",
    "#Missing 55% of values from Created Date, Weight, Item/Bottle Count columns.\n",
    "df_2020_03.isnull().sum()"
   ]
  },
  {
   "cell_type": "code",
   "execution_count": 9,
   "id": "d2ad8510",
   "metadata": {},
   "outputs": [
    {
     "data": {
      "text/plain": [
       "Company Name          object\n",
       "Status                object\n",
       "Ship Date             object\n",
       "City                  object\n",
       "State                 object\n",
       "Zip                   object\n",
       "Shipping Service      object\n",
       "Created Date          object\n",
       "Weight               float64\n",
       "Item/Bottle Count     object\n",
       "dtype: object"
      ]
     },
     "execution_count": 9,
     "metadata": {},
     "output_type": "execute_result"
    }
   ],
   "source": [
    "# Determine data types for df_2020_03.\n",
    "df_2020_03.dtypes"
   ]
  },
  {
   "cell_type": "code",
   "execution_count": 10,
   "id": "4061fbbf",
   "metadata": {},
   "outputs": [
    {
     "data": {
      "text/plain": [
       "Ecom3      8868\n",
       "Ecom1      2788\n",
       "Winery1     597\n",
       "Winery2      30\n",
       "Name: Company Name, dtype: int64"
      ]
     },
     "execution_count": 10,
     "metadata": {},
     "output_type": "execute_result"
    }
   ],
   "source": [
    "df_2020_03['Company Name'].value_counts()"
   ]
  },
  {
   "cell_type": "code",
   "execution_count": 11,
   "id": "aac39571",
   "metadata": {},
   "outputs": [
    {
     "data": {
      "text/plain": [
       "3/30/20    1060\n",
       "3/16/20     993\n",
       "3/26/20     955\n",
       "3/31/20     950\n",
       "3/20/20     704\n",
       "3/9/20      685\n",
       "3/17/20     682\n",
       "3/27/20     666\n",
       "3/13/20     609\n",
       "3/11/20     581\n",
       "3/25/20     554\n",
       "3/2/20      521\n",
       "3/23/20     486\n",
       "3/24/20     478\n",
       "3/18/20     432\n",
       "3/4/20      420\n",
       "3/12/20     339\n",
       "3/3/20      285\n",
       "3/19/20     274\n",
       "3/10/20     256\n",
       "3/6/20      234\n",
       "3/5/20      119\n",
       "Name: Ship Date, dtype: int64"
      ]
     },
     "execution_count": 11,
     "metadata": {},
     "output_type": "execute_result"
    }
   ],
   "source": [
    "df_2020_03['Ship Date'].value_counts()"
   ]
  },
  {
   "cell_type": "code",
   "execution_count": 12,
   "id": "ff45ee9d",
   "metadata": {},
   "outputs": [
    {
     "data": {
      "text/plain": [
       "Delivered            7063\n",
       "In Transit           4502\n",
       "Shipped               533\n",
       "Carrier Exception     116\n",
       "Delivery Attempt       69\n",
       "Name: Status, dtype: int64"
      ]
     },
     "execution_count": 12,
     "metadata": {},
     "output_type": "execute_result"
    }
   ],
   "source": [
    "df_2020_03['Status'].value_counts()"
   ]
  },
  {
   "cell_type": "code",
   "execution_count": 13,
   "id": "ae707cc4",
   "metadata": {},
   "outputs": [
    {
     "data": {
      "text/plain": [
       "New York         310\n",
       "Chicago          177\n",
       "Brooklyn         128\n",
       "Houston          116\n",
       "Washington        95\n",
       "                ... \n",
       "Sewickley, PA      1\n",
       "nokomis            1\n",
       "NEW HUDSON         1\n",
       "Honor              1\n",
       "North Eastham      1\n",
       "Name: City, Length: 3759, dtype: int64"
      ]
     },
     "execution_count": 13,
     "metadata": {},
     "output_type": "execute_result"
    }
   ],
   "source": [
    "df_2020_03['City'].value_counts()"
   ]
  },
  {
   "cell_type": "code",
   "execution_count": 14,
   "id": "a8718b4d",
   "metadata": {},
   "outputs": [
    {
     "data": {
      "text/plain": [
       "CA    1446\n",
       "NY    1278\n",
       "FL    1028\n",
       "PA     883\n",
       "TX     832\n",
       "NJ     604\n",
       "IL     569\n",
       "MA     420\n",
       "OH     384\n",
       "VA     384\n",
       "MI     357\n",
       "GA     346\n",
       "NC     297\n",
       "CO     297\n",
       "MD     290\n",
       "AZ     228\n",
       "CT     210\n",
       "TN     209\n",
       "WA     204\n",
       "IN     177\n",
       "MN     168\n",
       "SC     164\n",
       "MO     157\n",
       "OR     131\n",
       "WI     126\n",
       "DC     111\n",
       "LA     110\n",
       "KS      82\n",
       "HI      82\n",
       "NV      79\n",
       "RI      68\n",
       "AR      66\n",
       "NH      64\n",
       "IA      64\n",
       "NE      53\n",
       "NM      52\n",
       "ME      41\n",
       "ID      36\n",
       "WV      31\n",
       "VT      29\n",
       "MT      25\n",
       "AL      19\n",
       "OK      18\n",
       "SD      17\n",
       "ND      17\n",
       "WY      16\n",
       "AK      12\n",
       "DE       2\n",
       "Name: State, dtype: int64"
      ]
     },
     "execution_count": 14,
     "metadata": {},
     "output_type": "execute_result"
    }
   ],
   "source": [
    "df_2020_03['State'].value_counts()"
   ]
  },
  {
   "cell_type": "code",
   "execution_count": 15,
   "id": "aba1ce28",
   "metadata": {},
   "outputs": [
    {
     "data": {
      "text/plain": [
       "10019         28\n",
       "19103         27\n",
       "10022         24\n",
       "10024         21\n",
       "33149         21\n",
       "              ..\n",
       "77064-7075     1\n",
       "85284          1\n",
       "18091          1\n",
       "90064-4819     1\n",
       "2651           1\n",
       "Name: Zip, Length: 5325, dtype: int64"
      ]
     },
     "execution_count": 15,
     "metadata": {},
     "output_type": "execute_result"
    }
   ],
   "source": [
    "df_2020_03['Zip'].value_counts()"
   ]
  },
  {
   "cell_type": "code",
   "execution_count": 16,
   "id": "85be0dcc",
   "metadata": {},
   "outputs": [
    {
     "data": {
      "text/plain": [
       "UPS     7701\n",
       "FEH     3519\n",
       "FXG      883\n",
       "FEX      124\n",
       "LSO1      26\n",
       "WCU        9\n",
       "AZS        8\n",
       "UP2        7\n",
       "UP3        3\n",
       "UP1        2\n",
       "WCP        1\n",
       "Name: Shipping Service, dtype: int64"
      ]
     },
     "execution_count": 16,
     "metadata": {},
     "output_type": "execute_result"
    }
   ],
   "source": [
    "df_2020_03['Shipping Service'].value_counts()"
   ]
  },
  {
   "cell_type": "code",
   "execution_count": 17,
   "id": "74be41f6",
   "metadata": {},
   "outputs": [
    {
     "data": {
      "text/plain": [
       "3/25/20    834\n",
       "3/10/20    808\n",
       "3/17/20    707\n",
       "3/26/20    667\n",
       "3/23/20    640\n",
       "3/16/20    591\n",
       "3/27/20    581\n",
       "3/13/20    510\n",
       "3/20/20    494\n",
       "3/18/20    480\n",
       "3/30/20    413\n",
       "3/24/20    392\n",
       "3/28/20    391\n",
       "3/2/20     382\n",
       "3/11/20    367\n",
       "3/3/20     354\n",
       "3/19/20    347\n",
       "3/9/20     333\n",
       "3/15/20    284\n",
       "3/6/20     282\n",
       "3/14/20    275\n",
       "3/22/20    274\n",
       "3/12/20    213\n",
       "3/21/20    210\n",
       "3/8/20     205\n",
       "3/4/20     202\n",
       "2/29/20    194\n",
       "3/7/20     175\n",
       "3/5/20     163\n",
       "3/29/20    145\n",
       "3/1/20     104\n",
       "2/28/20     94\n",
       "3/31/20     74\n",
       "2/27/20     58\n",
       "2/24/20     21\n",
       "2/26/20     13\n",
       "2/25/20      4\n",
       "2/7/20       1\n",
       "2/5/20       1\n",
       "Name: Created Date, dtype: int64"
      ]
     },
     "execution_count": 17,
     "metadata": {},
     "output_type": "execute_result"
    }
   ],
   "source": [
    "df_2020_03['Created Date'].value_counts()"
   ]
  },
  {
   "cell_type": "code",
   "execution_count": 18,
   "id": "34adbd2f",
   "metadata": {},
   "outputs": [
    {
     "data": {
      "text/plain": [
       "21.50      5116\n",
       "10.50      1478\n",
       "41.00      1289\n",
       "14.00       843\n",
       "39.00       826\n",
       "20.20       753\n",
       "7.00        453\n",
       "9.90        433\n",
       "29.00       235\n",
       "18.50       173\n",
       "3.35        129\n",
       "26.00       102\n",
       "4.00        100\n",
       "35.00       100\n",
       "32.00        97\n",
       "10.00        25\n",
       "27.00        23\n",
       "38.00        22\n",
       "30.00        16\n",
       "17.20        13\n",
       "24.00        13\n",
       "33.00         8\n",
       "36.00         8\n",
       "19.00         6\n",
       "19.50         5\n",
       "13.50         4\n",
       "2057.00       2\n",
       "29.20         1\n",
       "38.20         1\n",
       "869.00        1\n",
       "1.85          1\n",
       "42.00         1\n",
       "45.00         1\n",
       "20.00         1\n",
       "17.00         1\n",
       "20.50         1\n",
       "39.50         1\n",
       "23.20         1\n",
       "Name: Weight, dtype: int64"
      ]
     },
     "execution_count": 18,
     "metadata": {},
     "output_type": "execute_result"
    }
   ],
   "source": [
    "df_2020_03['Weight'].value_counts()"
   ]
  },
  {
   "cell_type": "code",
   "execution_count": 19,
   "id": "73bd62e8",
   "metadata": {},
   "outputs": [
    {
     "data": {
      "text/plain": [
       "6      5881\n",
       "12     2117\n",
       "3      1936\n",
       "4       843\n",
       "2       438\n",
       "8       258\n",
       "1       250\n",
       "5       186\n",
       "7       116\n",
       "9       114\n",
       "10      108\n",
       "11       30\n",
       "672       2\n",
       ",         1\n",
       "14        1\n",
       "13        1\n",
       "276       1\n",
       "Name: Item/Bottle Count, dtype: int64"
      ]
     },
     "execution_count": 19,
     "metadata": {},
     "output_type": "execute_result"
    }
   ],
   "source": [
    "df_2020_03['Item/Bottle Count'].value_counts()"
   ]
  },
  {
   "cell_type": "markdown",
   "id": "b28748d1",
   "metadata": {},
   "source": [
    "## Clean the Data"
   ]
  },
  {
   "cell_type": "code",
   "execution_count": 20,
   "id": "ae2074b6",
   "metadata": {},
   "outputs": [],
   "source": [
    "#Change [\"Item/Bottle Count\"] to float64 type in df_2020_03.\n",
    "#have to add errors=coerce for it to change the string to float and skip the error cells.\n",
    "df_2020_03[\"Item/Bottle Count\"]=pd.to_numeric(df_2020_03[\"Item/Bottle Count\"], errors='coerce')"
   ]
  },
  {
   "cell_type": "code",
   "execution_count": 21,
   "id": "cbbf5f2e",
   "metadata": {},
   "outputs": [],
   "source": [
    "#Had to change the string to a float64 in the previous cell which threw an error, added errors= coerce which made it change the error cells to Nan values. Now I will change the Nan values to 0.\n",
    "df_2020_03=df_2020_03.replace(np.nan,0,regex=True)"
   ]
  },
  {
   "cell_type": "code",
   "execution_count": 22,
   "id": "2de5f1ce",
   "metadata": {},
   "outputs": [
    {
     "data": {
      "text/html": [
       "<div>\n",
       "<style scoped>\n",
       "    .dataframe tbody tr th:only-of-type {\n",
       "        vertical-align: middle;\n",
       "    }\n",
       "\n",
       "    .dataframe tbody tr th {\n",
       "        vertical-align: top;\n",
       "    }\n",
       "\n",
       "    .dataframe thead th {\n",
       "        text-align: right;\n",
       "    }\n",
       "</style>\n",
       "<table border=\"1\" class=\"dataframe\">\n",
       "  <thead>\n",
       "    <tr style=\"text-align: right;\">\n",
       "      <th></th>\n",
       "      <th>Company Name</th>\n",
       "      <th>Ship Date</th>\n",
       "      <th>City</th>\n",
       "      <th>State</th>\n",
       "      <th>Zip</th>\n",
       "      <th>Shipping Service</th>\n",
       "      <th>Created Date</th>\n",
       "      <th>Weight</th>\n",
       "      <th>Item/Bottle Count</th>\n",
       "    </tr>\n",
       "  </thead>\n",
       "  <tbody>\n",
       "    <tr>\n",
       "      <th>0</th>\n",
       "      <td>Ecom3</td>\n",
       "      <td>3/4/20</td>\n",
       "      <td>Frisco</td>\n",
       "      <td>TX</td>\n",
       "      <td>75036</td>\n",
       "      <td>UPS</td>\n",
       "      <td>3/4/20</td>\n",
       "      <td>21.5</td>\n",
       "      <td>6.0</td>\n",
       "    </tr>\n",
       "    <tr>\n",
       "      <th>1</th>\n",
       "      <td>Ecom3</td>\n",
       "      <td>3/2/20</td>\n",
       "      <td>Montclair</td>\n",
       "      <td>NJ</td>\n",
       "      <td>7043</td>\n",
       "      <td>UPS</td>\n",
       "      <td>2/29/20</td>\n",
       "      <td>21.5</td>\n",
       "      <td>6.0</td>\n",
       "    </tr>\n",
       "    <tr>\n",
       "      <th>2</th>\n",
       "      <td>Ecom3</td>\n",
       "      <td>3/3/20</td>\n",
       "      <td>SILVER SPRING</td>\n",
       "      <td>MD</td>\n",
       "      <td>20901-3101</td>\n",
       "      <td>FEH</td>\n",
       "      <td>3/1/20</td>\n",
       "      <td>41.0</td>\n",
       "      <td>12.0</td>\n",
       "    </tr>\n",
       "    <tr>\n",
       "      <th>3</th>\n",
       "      <td>Ecom3</td>\n",
       "      <td>3/2/20</td>\n",
       "      <td>Montclair</td>\n",
       "      <td>NJ</td>\n",
       "      <td>7043</td>\n",
       "      <td>UPS</td>\n",
       "      <td>2/29/20</td>\n",
       "      <td>29.0</td>\n",
       "      <td>8.0</td>\n",
       "    </tr>\n",
       "    <tr>\n",
       "      <th>4</th>\n",
       "      <td>Ecom3</td>\n",
       "      <td>3/3/20</td>\n",
       "      <td>Spring Lake</td>\n",
       "      <td>MI</td>\n",
       "      <td>49456</td>\n",
       "      <td>UPS</td>\n",
       "      <td>3/3/20</td>\n",
       "      <td>7.0</td>\n",
       "      <td>2.0</td>\n",
       "    </tr>\n",
       "    <tr>\n",
       "      <th>...</th>\n",
       "      <td>...</td>\n",
       "      <td>...</td>\n",
       "      <td>...</td>\n",
       "      <td>...</td>\n",
       "      <td>...</td>\n",
       "      <td>...</td>\n",
       "      <td>...</td>\n",
       "      <td>...</td>\n",
       "      <td>...</td>\n",
       "    </tr>\n",
       "    <tr>\n",
       "      <th>12278</th>\n",
       "      <td>Ecom1</td>\n",
       "      <td>3/30/20</td>\n",
       "      <td>Flagstaff</td>\n",
       "      <td>AZ</td>\n",
       "      <td>86001</td>\n",
       "      <td>FEH</td>\n",
       "      <td>3/27/20</td>\n",
       "      <td>20.2</td>\n",
       "      <td>6.0</td>\n",
       "    </tr>\n",
       "    <tr>\n",
       "      <th>12279</th>\n",
       "      <td>Winery1</td>\n",
       "      <td>3/31/20</td>\n",
       "      <td>Tiburon</td>\n",
       "      <td>CA</td>\n",
       "      <td>94920</td>\n",
       "      <td>UPS</td>\n",
       "      <td>3/31/20</td>\n",
       "      <td>20.2</td>\n",
       "      <td>6.0</td>\n",
       "    </tr>\n",
       "    <tr>\n",
       "      <th>12280</th>\n",
       "      <td>Ecom1</td>\n",
       "      <td>3/30/20</td>\n",
       "      <td>North Eastham</td>\n",
       "      <td>MA</td>\n",
       "      <td>2651</td>\n",
       "      <td>FEH</td>\n",
       "      <td>3/30/20</td>\n",
       "      <td>39.0</td>\n",
       "      <td>12.0</td>\n",
       "    </tr>\n",
       "    <tr>\n",
       "      <th>12281</th>\n",
       "      <td>Ecom1</td>\n",
       "      <td>3/30/20</td>\n",
       "      <td>Decatur</td>\n",
       "      <td>GA</td>\n",
       "      <td>30033</td>\n",
       "      <td>FEH</td>\n",
       "      <td>3/27/20</td>\n",
       "      <td>20.2</td>\n",
       "      <td>6.0</td>\n",
       "    </tr>\n",
       "    <tr>\n",
       "      <th>12282</th>\n",
       "      <td>Ecom1</td>\n",
       "      <td>3/31/20</td>\n",
       "      <td>las vegas</td>\n",
       "      <td>NV</td>\n",
       "      <td>89169</td>\n",
       "      <td>FEH</td>\n",
       "      <td>3/29/20</td>\n",
       "      <td>10.5</td>\n",
       "      <td>3.0</td>\n",
       "    </tr>\n",
       "  </tbody>\n",
       "</table>\n",
       "<p>12283 rows × 9 columns</p>\n",
       "</div>"
      ],
      "text/plain": [
       "      Company Name Ship Date           City State         Zip  \\\n",
       "0            Ecom3    3/4/20         Frisco    TX       75036   \n",
       "1            Ecom3    3/2/20      Montclair    NJ        7043   \n",
       "2            Ecom3    3/3/20  SILVER SPRING    MD  20901-3101   \n",
       "3            Ecom3    3/2/20      Montclair    NJ        7043   \n",
       "4            Ecom3    3/3/20    Spring Lake    MI       49456   \n",
       "...            ...       ...            ...   ...         ...   \n",
       "12278        Ecom1   3/30/20      Flagstaff    AZ       86001   \n",
       "12279      Winery1   3/31/20        Tiburon    CA       94920   \n",
       "12280        Ecom1   3/30/20  North Eastham    MA        2651   \n",
       "12281        Ecom1   3/30/20        Decatur    GA       30033   \n",
       "12282        Ecom1   3/31/20      las vegas    NV       89169   \n",
       "\n",
       "      Shipping Service Created Date  Weight  Item/Bottle Count  \n",
       "0                  UPS       3/4/20    21.5                6.0  \n",
       "1                  UPS      2/29/20    21.5                6.0  \n",
       "2                  FEH       3/1/20    41.0               12.0  \n",
       "3                  UPS      2/29/20    29.0                8.0  \n",
       "4                  UPS       3/3/20     7.0                2.0  \n",
       "...                ...          ...     ...                ...  \n",
       "12278              FEH      3/27/20    20.2                6.0  \n",
       "12279              UPS      3/31/20    20.2                6.0  \n",
       "12280              FEH      3/30/20    39.0               12.0  \n",
       "12281              FEH      3/27/20    20.2                6.0  \n",
       "12282              FEH      3/29/20    10.5                3.0  \n",
       "\n",
       "[12283 rows x 9 columns]"
      ]
     },
     "execution_count": 22,
     "metadata": {},
     "output_type": "execute_result"
    }
   ],
   "source": [
    "#Remove \"Status\" column from df_2020_03.\n",
    "df_2020_03 = df_2020_03.drop('Status', axis=1)\n",
    "df_2020_03"
   ]
  },
  {
   "cell_type": "code",
   "execution_count": 23,
   "id": "0374b7d7",
   "metadata": {},
   "outputs": [],
   "source": [
    "# Drop the NaNs for df_2020_03.\n",
    "df_2020_03 = df_2020_03.dropna()"
   ]
  },
  {
   "cell_type": "markdown",
   "id": "b54ac18d",
   "metadata": {},
   "source": [
    "## Confirm Changes"
   ]
  },
  {
   "cell_type": "code",
   "execution_count": 24,
   "id": "717b65ec",
   "metadata": {},
   "outputs": [
    {
     "data": {
      "text/html": [
       "<div>\n",
       "<style scoped>\n",
       "    .dataframe tbody tr th:only-of-type {\n",
       "        vertical-align: middle;\n",
       "    }\n",
       "\n",
       "    .dataframe tbody tr th {\n",
       "        vertical-align: top;\n",
       "    }\n",
       "\n",
       "    .dataframe thead th {\n",
       "        text-align: right;\n",
       "    }\n",
       "</style>\n",
       "<table border=\"1\" class=\"dataframe\">\n",
       "  <thead>\n",
       "    <tr style=\"text-align: right;\">\n",
       "      <th></th>\n",
       "      <th>Company Name</th>\n",
       "      <th>Ship Date</th>\n",
       "      <th>City</th>\n",
       "      <th>State</th>\n",
       "      <th>Zip</th>\n",
       "      <th>Shipping Service</th>\n",
       "      <th>Created Date</th>\n",
       "      <th>Weight</th>\n",
       "      <th>Item/Bottle Count</th>\n",
       "    </tr>\n",
       "  </thead>\n",
       "  <tbody>\n",
       "    <tr>\n",
       "      <th>10117</th>\n",
       "      <td>Ecom1</td>\n",
       "      <td>3/24/20</td>\n",
       "      <td>Clinton</td>\n",
       "      <td>CT</td>\n",
       "      <td>6413</td>\n",
       "      <td>FEH</td>\n",
       "      <td>3/20/20</td>\n",
       "      <td>10.5</td>\n",
       "      <td>3.0</td>\n",
       "    </tr>\n",
       "    <tr>\n",
       "      <th>3999</th>\n",
       "      <td>Ecom1</td>\n",
       "      <td>3/10/20</td>\n",
       "      <td>Fairfield</td>\n",
       "      <td>NJ</td>\n",
       "      <td>7004</td>\n",
       "      <td>FXG</td>\n",
       "      <td>3/10/20</td>\n",
       "      <td>10.5</td>\n",
       "      <td>3.0</td>\n",
       "    </tr>\n",
       "    <tr>\n",
       "      <th>7880</th>\n",
       "      <td>Ecom3</td>\n",
       "      <td>3/26/20</td>\n",
       "      <td>Ridgecrest</td>\n",
       "      <td>CA</td>\n",
       "      <td>93555</td>\n",
       "      <td>UPS</td>\n",
       "      <td>3/26/20</td>\n",
       "      <td>21.5</td>\n",
       "      <td>6.0</td>\n",
       "    </tr>\n",
       "    <tr>\n",
       "      <th>8961</th>\n",
       "      <td>Ecom3</td>\n",
       "      <td>3/26/20</td>\n",
       "      <td>Fairway</td>\n",
       "      <td>KS</td>\n",
       "      <td>66205</td>\n",
       "      <td>UPS</td>\n",
       "      <td>3/24/20</td>\n",
       "      <td>41.0</td>\n",
       "      <td>12.0</td>\n",
       "    </tr>\n",
       "    <tr>\n",
       "      <th>10469</th>\n",
       "      <td>Ecom3</td>\n",
       "      <td>3/30/20</td>\n",
       "      <td>Doylestown</td>\n",
       "      <td>PA</td>\n",
       "      <td>18901</td>\n",
       "      <td>UPS</td>\n",
       "      <td>3/27/20</td>\n",
       "      <td>21.5</td>\n",
       "      <td>6.0</td>\n",
       "    </tr>\n",
       "  </tbody>\n",
       "</table>\n",
       "</div>"
      ],
      "text/plain": [
       "      Company Name Ship Date        City State    Zip Shipping Service  \\\n",
       "10117        Ecom1   3/24/20     Clinton    CT   6413              FEH   \n",
       "3999         Ecom1   3/10/20   Fairfield    NJ   7004              FXG   \n",
       "7880         Ecom3   3/26/20  Ridgecrest    CA  93555              UPS   \n",
       "8961         Ecom3   3/26/20     Fairway    KS  66205              UPS   \n",
       "10469        Ecom3   3/30/20  Doylestown    PA  18901              UPS   \n",
       "\n",
       "      Created Date  Weight  Item/Bottle Count  \n",
       "10117      3/20/20    10.5                3.0  \n",
       "3999       3/10/20    10.5                3.0  \n",
       "7880       3/26/20    21.5                6.0  \n",
       "8961       3/24/20    41.0               12.0  \n",
       "10469      3/27/20    21.5                6.0  "
      ]
     },
     "execution_count": 24,
     "metadata": {},
     "output_type": "execute_result"
    }
   ],
   "source": [
    "#See five random rows of data\n",
    "df_2020_03.sample(n=5)"
   ]
  },
  {
   "cell_type": "code",
   "execution_count": 25,
   "id": "2f59ad5f",
   "metadata": {},
   "outputs": [
    {
     "name": "stdout",
     "output_type": "stream",
     "text": [
      "Number of Rows:  12283\n",
      "Number of Columns:  9\n"
     ]
    }
   ],
   "source": [
    "#Determine total rows for df_2020_03.\n",
    "df_2020_03_rows = len(df_2020_03.axes[0])\n",
    "df_2020_03_cols = len(df_2020_03.axes[1])\n",
    "print(\"Number of Rows: \", df_2020_03_rows)\n",
    "print(\"Number of Columns: \", df_2020_03_cols)"
   ]
  },
  {
   "cell_type": "markdown",
   "id": "625b4837",
   "metadata": {},
   "source": [
    "## Export Cleaned DF to .CSV"
   ]
  },
  {
   "cell_type": "code",
   "execution_count": 31,
   "id": "f5a7980c",
   "metadata": {},
   "outputs": [],
   "source": [
    "#Export df_2020_03 to .csv\n",
    "df_2020_03.to_csv('../cleaned_months_2020/Clean_2020_03.csv') "
   ]
  },
  {
   "cell_type": "code",
   "execution_count": null,
   "id": "aafdefb9",
   "metadata": {},
   "outputs": [],
   "source": []
  }
 ],
 "metadata": {
  "kernelspec": {
   "display_name": "Python 3 (ipykernel)",
   "language": "python",
   "name": "python3"
  },
  "language_info": {
   "codemirror_mode": {
    "name": "ipython",
    "version": 3
   },
   "file_extension": ".py",
   "mimetype": "text/x-python",
   "name": "python",
   "nbconvert_exporter": "python",
   "pygments_lexer": "ipython3",
   "version": "3.7.13"
  }
 },
 "nbformat": 4,
 "nbformat_minor": 5
}
