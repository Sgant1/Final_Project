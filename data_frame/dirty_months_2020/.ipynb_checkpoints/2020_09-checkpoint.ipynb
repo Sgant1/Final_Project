{
 "cells": [
  {
   "cell_type": "code",
   "execution_count": 1,
   "id": "1f30ec89",
   "metadata": {},
   "outputs": [],
   "source": [
    "#Pandas library to create DataFrames\n",
    "import pandas as pd\n",
    "#NumPy library for converting data types\n",
    "import numpy as np"
   ]
  },
  {
   "cell_type": "code",
   "execution_count": 2,
   "id": "7d4569c3",
   "metadata": {},
   "outputs": [],
   "source": [
    "# Files to load\n",
    "load_2020_09 = \"../../2020_Data/2020.09.csv\""
   ]
  },
  {
   "cell_type": "code",
   "execution_count": 3,
   "id": "5bf26e77",
   "metadata": {},
   "outputs": [
    {
     "data": {
      "text/html": [
       "<div>\n",
       "<style scoped>\n",
       "    .dataframe tbody tr th:only-of-type {\n",
       "        vertical-align: middle;\n",
       "    }\n",
       "\n",
       "    .dataframe tbody tr th {\n",
       "        vertical-align: top;\n",
       "    }\n",
       "\n",
       "    .dataframe thead th {\n",
       "        text-align: right;\n",
       "    }\n",
       "</style>\n",
       "<table border=\"1\" class=\"dataframe\">\n",
       "  <thead>\n",
       "    <tr style=\"text-align: right;\">\n",
       "      <th></th>\n",
       "      <th>Company Name</th>\n",
       "      <th>Status</th>\n",
       "      <th>Ship Date</th>\n",
       "      <th>City</th>\n",
       "      <th>State</th>\n",
       "      <th>Zip</th>\n",
       "      <th>Shipping Service</th>\n",
       "      <th>Created Date</th>\n",
       "      <th>Weight</th>\n",
       "      <th>Item/Bottle Count</th>\n",
       "    </tr>\n",
       "  </thead>\n",
       "  <tbody>\n",
       "    <tr>\n",
       "      <th>0</th>\n",
       "      <td>Ecom1</td>\n",
       "      <td>Delivered</td>\n",
       "      <td>9/1/20</td>\n",
       "      <td>Seattle</td>\n",
       "      <td>WA</td>\n",
       "      <td>98115</td>\n",
       "      <td>FEH</td>\n",
       "      <td>8/25/20</td>\n",
       "      <td>20.2</td>\n",
       "      <td>6</td>\n",
       "    </tr>\n",
       "    <tr>\n",
       "      <th>1</th>\n",
       "      <td>Ecom1</td>\n",
       "      <td>Delivered</td>\n",
       "      <td>9/1/20</td>\n",
       "      <td>Rochester</td>\n",
       "      <td>NY</td>\n",
       "      <td>14610</td>\n",
       "      <td>FEH</td>\n",
       "      <td>8/28/20</td>\n",
       "      <td>20.2</td>\n",
       "      <td>6</td>\n",
       "    </tr>\n",
       "    <tr>\n",
       "      <th>2</th>\n",
       "      <td>Ecom1</td>\n",
       "      <td>Carrier Exception</td>\n",
       "      <td>9/1/20</td>\n",
       "      <td>Chicago</td>\n",
       "      <td>IL</td>\n",
       "      <td>60625</td>\n",
       "      <td>FEH</td>\n",
       "      <td>8/28/20</td>\n",
       "      <td>20.2</td>\n",
       "      <td>6</td>\n",
       "    </tr>\n",
       "    <tr>\n",
       "      <th>3</th>\n",
       "      <td>Ecom1</td>\n",
       "      <td>Delivered</td>\n",
       "      <td>9/1/20</td>\n",
       "      <td>Paradise Valley</td>\n",
       "      <td>AZ</td>\n",
       "      <td>85253</td>\n",
       "      <td>FEH</td>\n",
       "      <td>8/28/20</td>\n",
       "      <td>10.5</td>\n",
       "      <td>3</td>\n",
       "    </tr>\n",
       "    <tr>\n",
       "      <th>4</th>\n",
       "      <td>Ecom1</td>\n",
       "      <td>Delivered</td>\n",
       "      <td>9/1/20</td>\n",
       "      <td>Jersey City</td>\n",
       "      <td>NJ</td>\n",
       "      <td>7302</td>\n",
       "      <td>FEH</td>\n",
       "      <td>8/28/20</td>\n",
       "      <td>20.2</td>\n",
       "      <td>6</td>\n",
       "    </tr>\n",
       "  </tbody>\n",
       "</table>\n",
       "</div>"
      ],
      "text/plain": [
       "  Company Name             Status Ship Date             City State    Zip  \\\n",
       "0        Ecom1          Delivered    9/1/20          Seattle    WA  98115   \n",
       "1        Ecom1          Delivered    9/1/20        Rochester    NY  14610   \n",
       "2        Ecom1  Carrier Exception    9/1/20          Chicago    IL  60625   \n",
       "3        Ecom1          Delivered    9/1/20  Paradise Valley    AZ  85253   \n",
       "4        Ecom1          Delivered    9/1/20      Jersey City    NJ   7302   \n",
       "\n",
       "  Shipping Service Created Date  Weight  Item/Bottle Count  \n",
       "0              FEH      8/25/20    20.2                  6  \n",
       "1              FEH      8/28/20    20.2                  6  \n",
       "2              FEH      8/28/20    20.2                  6  \n",
       "3              FEH      8/28/20    10.5                  3  \n",
       "4              FEH      8/28/20    20.2                  6  "
      ]
     },
     "execution_count": 3,
     "metadata": {},
     "output_type": "execute_result"
    }
   ],
   "source": [
    "# Read the September CSV into a DataFrame\n",
    "#Had to open each file in excel and save it as a .csv file instead of an .xlsm file in order for the encryption to be read properly.\n",
    "df_2020_09 = pd.read_csv(load_2020_09)\n",
    "df_2020_09.head()"
   ]
  },
  {
   "cell_type": "markdown",
   "id": "175df6a6",
   "metadata": {},
   "source": [
    "## Inspect the Data"
   ]
  },
  {
   "cell_type": "code",
   "execution_count": 4,
   "id": "2cdb2387",
   "metadata": {},
   "outputs": [
    {
     "data": {
      "text/html": [
       "<div>\n",
       "<style scoped>\n",
       "    .dataframe tbody tr th:only-of-type {\n",
       "        vertical-align: middle;\n",
       "    }\n",
       "\n",
       "    .dataframe tbody tr th {\n",
       "        vertical-align: top;\n",
       "    }\n",
       "\n",
       "    .dataframe thead th {\n",
       "        text-align: right;\n",
       "    }\n",
       "</style>\n",
       "<table border=\"1\" class=\"dataframe\">\n",
       "  <thead>\n",
       "    <tr style=\"text-align: right;\">\n",
       "      <th></th>\n",
       "      <th>Company Name</th>\n",
       "      <th>Status</th>\n",
       "      <th>Ship Date</th>\n",
       "      <th>City</th>\n",
       "      <th>State</th>\n",
       "      <th>Zip</th>\n",
       "      <th>Shipping Service</th>\n",
       "      <th>Created Date</th>\n",
       "      <th>Weight</th>\n",
       "      <th>Item/Bottle Count</th>\n",
       "    </tr>\n",
       "  </thead>\n",
       "  <tbody>\n",
       "    <tr>\n",
       "      <th>8326</th>\n",
       "      <td>Ecom3</td>\n",
       "      <td>Delivered</td>\n",
       "      <td>9/17/20</td>\n",
       "      <td>Potomac</td>\n",
       "      <td>MD</td>\n",
       "      <td>20854</td>\n",
       "      <td>FEH</td>\n",
       "      <td>9/17/20</td>\n",
       "      <td>21.5</td>\n",
       "      <td>6</td>\n",
       "    </tr>\n",
       "    <tr>\n",
       "      <th>18531</th>\n",
       "      <td>Ecom3</td>\n",
       "      <td>Delivered</td>\n",
       "      <td>9/23/20</td>\n",
       "      <td>Issaquah</td>\n",
       "      <td>WA</td>\n",
       "      <td>98029</td>\n",
       "      <td>UPS</td>\n",
       "      <td>9/22/20</td>\n",
       "      <td>21.5</td>\n",
       "      <td>6</td>\n",
       "    </tr>\n",
       "    <tr>\n",
       "      <th>18057</th>\n",
       "      <td>Ecom2</td>\n",
       "      <td>In Transit</td>\n",
       "      <td>9/23/20</td>\n",
       "      <td>Valparaiso</td>\n",
       "      <td>IN</td>\n",
       "      <td>46385</td>\n",
       "      <td>FEH</td>\n",
       "      <td>9/20/20</td>\n",
       "      <td>7.0</td>\n",
       "      <td>1</td>\n",
       "    </tr>\n",
       "    <tr>\n",
       "      <th>21278</th>\n",
       "      <td>Ecom3</td>\n",
       "      <td>Delivered</td>\n",
       "      <td>9/30/20</td>\n",
       "      <td>Millbrae</td>\n",
       "      <td>CA</td>\n",
       "      <td>94030</td>\n",
       "      <td>UPS</td>\n",
       "      <td>9/28/20</td>\n",
       "      <td>9.9</td>\n",
       "      <td>3</td>\n",
       "    </tr>\n",
       "    <tr>\n",
       "      <th>1573</th>\n",
       "      <td>Ecom3</td>\n",
       "      <td>Delivered</td>\n",
       "      <td>9/1/20</td>\n",
       "      <td>Norfolk</td>\n",
       "      <td>VA</td>\n",
       "      <td>23503-1419</td>\n",
       "      <td>UPS</td>\n",
       "      <td>9/1/20</td>\n",
       "      <td>21.5</td>\n",
       "      <td>6</td>\n",
       "    </tr>\n",
       "  </tbody>\n",
       "</table>\n",
       "</div>"
      ],
      "text/plain": [
       "      Company Name      Status Ship Date        City State         Zip  \\\n",
       "8326         Ecom3   Delivered   9/17/20     Potomac    MD       20854   \n",
       "18531        Ecom3   Delivered   9/23/20    Issaquah    WA       98029   \n",
       "18057        Ecom2  In Transit   9/23/20  Valparaiso    IN       46385   \n",
       "21278        Ecom3   Delivered   9/30/20    Millbrae    CA       94030   \n",
       "1573         Ecom3   Delivered    9/1/20     Norfolk    VA  23503-1419   \n",
       "\n",
       "      Shipping Service Created Date  Weight  Item/Bottle Count  \n",
       "8326               FEH      9/17/20    21.5                  6  \n",
       "18531              UPS      9/22/20    21.5                  6  \n",
       "18057              FEH      9/20/20     7.0                  1  \n",
       "21278              UPS      9/28/20     9.9                  3  \n",
       "1573               UPS       9/1/20    21.5                  6  "
      ]
     },
     "execution_count": 4,
     "metadata": {},
     "output_type": "execute_result"
    }
   ],
   "source": [
    "#See five random rows of data\n",
    "df_2020_09.sample(n=5)"
   ]
  },
  {
   "cell_type": "code",
   "execution_count": 5,
   "id": "a7bdb733",
   "metadata": {},
   "outputs": [
    {
     "data": {
      "text/html": [
       "<div>\n",
       "<style scoped>\n",
       "    .dataframe tbody tr th:only-of-type {\n",
       "        vertical-align: middle;\n",
       "    }\n",
       "\n",
       "    .dataframe tbody tr th {\n",
       "        vertical-align: top;\n",
       "    }\n",
       "\n",
       "    .dataframe thead th {\n",
       "        text-align: right;\n",
       "    }\n",
       "</style>\n",
       "<table border=\"1\" class=\"dataframe\">\n",
       "  <thead>\n",
       "    <tr style=\"text-align: right;\">\n",
       "      <th></th>\n",
       "      <th>Company Name</th>\n",
       "      <th>Status</th>\n",
       "      <th>Ship Date</th>\n",
       "      <th>City</th>\n",
       "      <th>State</th>\n",
       "      <th>Zip</th>\n",
       "      <th>Shipping Service</th>\n",
       "      <th>Created Date</th>\n",
       "      <th>Weight</th>\n",
       "      <th>Item/Bottle Count</th>\n",
       "    </tr>\n",
       "  </thead>\n",
       "  <tbody>\n",
       "    <tr>\n",
       "      <th>22272</th>\n",
       "      <td>Ecom3</td>\n",
       "      <td>In Transit</td>\n",
       "      <td>9/28/20</td>\n",
       "      <td>Cumming</td>\n",
       "      <td>GA</td>\n",
       "      <td>30041</td>\n",
       "      <td>UPS</td>\n",
       "      <td>9/26/20</td>\n",
       "      <td>3.35</td>\n",
       "      <td>1</td>\n",
       "    </tr>\n",
       "    <tr>\n",
       "      <th>22273</th>\n",
       "      <td>Ecom3</td>\n",
       "      <td>Delivered</td>\n",
       "      <td>9/28/20</td>\n",
       "      <td>Palm City</td>\n",
       "      <td>FL</td>\n",
       "      <td>34990</td>\n",
       "      <td>UPS</td>\n",
       "      <td>9/26/20</td>\n",
       "      <td>21.50</td>\n",
       "      <td>6</td>\n",
       "    </tr>\n",
       "    <tr>\n",
       "      <th>22274</th>\n",
       "      <td>Ecom3</td>\n",
       "      <td>In Transit</td>\n",
       "      <td>9/30/20</td>\n",
       "      <td>manhattan beach</td>\n",
       "      <td>CA</td>\n",
       "      <td>90266</td>\n",
       "      <td>UPS</td>\n",
       "      <td>9/28/20</td>\n",
       "      <td>21.50</td>\n",
       "      <td>6</td>\n",
       "    </tr>\n",
       "    <tr>\n",
       "      <th>22275</th>\n",
       "      <td>Ecom3</td>\n",
       "      <td>Delivered</td>\n",
       "      <td>9/28/20</td>\n",
       "      <td>Smithtown</td>\n",
       "      <td>NY</td>\n",
       "      <td>11787</td>\n",
       "      <td>FEH</td>\n",
       "      <td>9/25/20</td>\n",
       "      <td>21.50</td>\n",
       "      <td>6</td>\n",
       "    </tr>\n",
       "    <tr>\n",
       "      <th>22276</th>\n",
       "      <td>Ecom3</td>\n",
       "      <td>Delivered</td>\n",
       "      <td>9/28/20</td>\n",
       "      <td>Glendale</td>\n",
       "      <td>CA</td>\n",
       "      <td>91210</td>\n",
       "      <td>UPS</td>\n",
       "      <td>9/25/20</td>\n",
       "      <td>21.50</td>\n",
       "      <td>6</td>\n",
       "    </tr>\n",
       "  </tbody>\n",
       "</table>\n",
       "</div>"
      ],
      "text/plain": [
       "      Company Name      Status Ship Date             City State    Zip  \\\n",
       "22272        Ecom3  In Transit   9/28/20          Cumming    GA  30041   \n",
       "22273        Ecom3   Delivered   9/28/20        Palm City    FL  34990   \n",
       "22274        Ecom3  In Transit   9/30/20  manhattan beach    CA  90266   \n",
       "22275        Ecom3   Delivered   9/28/20        Smithtown    NY  11787   \n",
       "22276        Ecom3   Delivered   9/28/20         Glendale    CA  91210   \n",
       "\n",
       "      Shipping Service Created Date  Weight  Item/Bottle Count  \n",
       "22272              UPS      9/26/20    3.35                  1  \n",
       "22273              UPS      9/26/20   21.50                  6  \n",
       "22274              UPS      9/28/20   21.50                  6  \n",
       "22275              FEH      9/25/20   21.50                  6  \n",
       "22276              UPS      9/25/20   21.50                  6  "
      ]
     },
     "execution_count": 5,
     "metadata": {},
     "output_type": "execute_result"
    }
   ],
   "source": [
    "#See the last rows of data\n",
    "df_2020_09.tail(5)"
   ]
  },
  {
   "cell_type": "code",
   "execution_count": 6,
   "id": "a820ba41",
   "metadata": {},
   "outputs": [
    {
     "data": {
      "text/plain": [
       "Index(['Company Name', 'Status', 'Ship Date', 'City', 'State', 'Zip',\n",
       "       'Shipping Service', 'Created Date', 'Weight', 'Item/Bottle Count'],\n",
       "      dtype='object')"
      ]
     },
     "execution_count": 6,
     "metadata": {},
     "output_type": "execute_result"
    }
   ],
   "source": [
    "df_2020_09.columns"
   ]
  },
  {
   "cell_type": "code",
   "execution_count": 7,
   "id": "7410d9e5",
   "metadata": {},
   "outputs": [
    {
     "name": "stdout",
     "output_type": "stream",
     "text": [
      "Number of Rows:  22277\n",
      "Number of Columns:  10\n"
     ]
    }
   ],
   "source": [
    "#Determine total rows for df_2020_09.\n",
    "df_2020_09_rows = len(df_2020_09.axes[0])\n",
    "df_2020_09_cols = len(df_2020_09.axes[1])\n",
    "print(\"Number of Rows: \", df_2020_09_rows)\n",
    "print(\"Number of Columns: \", df_2020_09_cols)"
   ]
  },
  {
   "cell_type": "code",
   "execution_count": 8,
   "id": "4caf57c3",
   "metadata": {},
   "outputs": [
    {
     "data": {
      "text/plain": [
       "Company Name         0\n",
       "Status               0\n",
       "Ship Date            0\n",
       "City                 0\n",
       "State                0\n",
       "Zip                  0\n",
       "Shipping Service     0\n",
       "Created Date         0\n",
       "Weight               0\n",
       "Item/Bottle Count    0\n",
       "dtype: int64"
      ]
     },
     "execution_count": 8,
     "metadata": {},
     "output_type": "execute_result"
    }
   ],
   "source": [
    "# Determine if there are any missing values in df_2020_09.\n",
    "df_2020_09.isnull().sum()"
   ]
  },
  {
   "cell_type": "code",
   "execution_count": 9,
   "id": "d2ad8510",
   "metadata": {},
   "outputs": [
    {
     "data": {
      "text/plain": [
       "Company Name          object\n",
       "Status                object\n",
       "Ship Date             object\n",
       "City                  object\n",
       "State                 object\n",
       "Zip                   object\n",
       "Shipping Service      object\n",
       "Created Date          object\n",
       "Weight               float64\n",
       "Item/Bottle Count      int64\n",
       "dtype: object"
      ]
     },
     "execution_count": 9,
     "metadata": {},
     "output_type": "execute_result"
    }
   ],
   "source": [
    "# Determine data types for df_2020_09.\n",
    "df_2020_09.dtypes"
   ]
  },
  {
   "cell_type": "code",
   "execution_count": 10,
   "id": "4061fbbf",
   "metadata": {},
   "outputs": [
    {
     "data": {
      "text/plain": [
       "Ecom3      8812\n",
       "Ecom2      7335\n",
       "Ecom1      3233\n",
       "Winery1    2845\n",
       "Winery2      52\n",
       "Name: Company Name, dtype: int64"
      ]
     },
     "execution_count": 10,
     "metadata": {},
     "output_type": "execute_result"
    }
   ],
   "source": [
    "df_2020_09['Company Name'].value_counts()"
   ]
  },
  {
   "cell_type": "code",
   "execution_count": 11,
   "id": "aac39571",
   "metadata": {},
   "outputs": [
    {
     "data": {
      "text/plain": [
       "9/23/20    4939\n",
       "9/22/20    3538\n",
       "9/18/20    2466\n",
       "9/16/20    1170\n",
       "9/21/20    1059\n",
       "9/14/20     939\n",
       "9/8/20      837\n",
       "9/28/20     823\n",
       "9/15/20     649\n",
       "9/7/20      630\n",
       "9/9/20      613\n",
       "9/1/20      602\n",
       "9/29/20     557\n",
       "9/25/20     531\n",
       "9/2/20      451\n",
       "9/3/20      392\n",
       "9/4/20      390\n",
       "9/30/20     386\n",
       "9/11/20     378\n",
       "9/17/20     344\n",
       "9/24/20     315\n",
       "9/10/20     268\n",
       "Name: Ship Date, dtype: int64"
      ]
     },
     "execution_count": 11,
     "metadata": {},
     "output_type": "execute_result"
    }
   ],
   "source": [
    "df_2020_09['Ship Date'].value_counts()"
   ]
  },
  {
   "cell_type": "code",
   "execution_count": 12,
   "id": "ff45ee9d",
   "metadata": {},
   "outputs": [
    {
     "data": {
      "text/plain": [
       "Delivered            11729\n",
       "In Transit            8068\n",
       "Shipped               2175\n",
       "Carrier Exception      192\n",
       "Delivery Attempt       113\n",
       "Name: Status, dtype: int64"
      ]
     },
     "execution_count": 12,
     "metadata": {},
     "output_type": "execute_result"
    }
   ],
   "source": [
    "df_2020_09['Status'].value_counts()"
   ]
  },
  {
   "cell_type": "code",
   "execution_count": 13,
   "id": "ae707cc4",
   "metadata": {},
   "outputs": [
    {
     "data": {
      "text/plain": [
       "New York           386\n",
       "Chicago            263\n",
       "Atlanta            178\n",
       "Brooklyn           178\n",
       "Houston            175\n",
       "                  ... \n",
       "South Fork           1\n",
       "Getzville            1\n",
       "Broadview            1\n",
       "Silverton            1\n",
       "manhattan beach      1\n",
       "Name: City, Length: 5218, dtype: int64"
      ]
     },
     "execution_count": 13,
     "metadata": {},
     "output_type": "execute_result"
    }
   ],
   "source": [
    "df_2020_09['City'].value_counts()"
   ]
  },
  {
   "cell_type": "code",
   "execution_count": 14,
   "id": "a8718b4d",
   "metadata": {},
   "outputs": [
    {
     "data": {
      "text/plain": [
       "CA    2099\n",
       "NY    1987\n",
       "FL    1755\n",
       "TX    1568\n",
       "PA    1392\n",
       "NJ    1149\n",
       "IL     992\n",
       "MA     817\n",
       "GA     808\n",
       "OH     738\n",
       "VA     718\n",
       "MI     664\n",
       "CO     661\n",
       "NC     595\n",
       "MD     536\n",
       "TN     465\n",
       "CT     425\n",
       "WA     407\n",
       "AZ     384\n",
       "IN     359\n",
       "SC     344\n",
       "MN     339\n",
       "WI     288\n",
       "MO     248\n",
       "OR     205\n",
       "LA     194\n",
       "OK     190\n",
       "NV     177\n",
       "KS     175\n",
       "DC     167\n",
       "HI     137\n",
       "IA     136\n",
       "NH     128\n",
       "RI     124\n",
       "AR     110\n",
       "ME     104\n",
       "ID     102\n",
       "NM      97\n",
       "NE      94\n",
       "VT      75\n",
       "DE      65\n",
       "WV      59\n",
       "MT      52\n",
       "AK      35\n",
       "AL      33\n",
       "WY      27\n",
       "SD      27\n",
       "ND      26\n",
       "Name: State, dtype: int64"
      ]
     },
     "execution_count": 14,
     "metadata": {},
     "output_type": "execute_result"
    }
   ],
   "source": [
    "df_2020_09['State'].value_counts()"
   ]
  },
  {
   "cell_type": "code",
   "execution_count": 15,
   "id": "aba1ce28",
   "metadata": {},
   "outputs": [
    {
     "data": {
      "text/plain": [
       "11201    37\n",
       "60618    33\n",
       "10019    31\n",
       "10011    30\n",
       "37205    26\n",
       "         ..\n",
       "70114     1\n",
       "23227     1\n",
       "17740     1\n",
       "7850      1\n",
       "91210     1\n",
       "Name: Zip, Length: 7628, dtype: int64"
      ]
     },
     "execution_count": 15,
     "metadata": {},
     "output_type": "execute_result"
    }
   ],
   "source": [
    "df_2020_09['Zip'].value_counts()"
   ]
  },
  {
   "cell_type": "code",
   "execution_count": 16,
   "id": "85be0dcc",
   "metadata": {},
   "outputs": [
    {
     "data": {
      "text/plain": [
       "UPS    11741\n",
       "FEH     9016\n",
       "FXG     1188\n",
       "FEX      183\n",
       "AZS       82\n",
       "UP2       42\n",
       "WCU       11\n",
       "UP1        5\n",
       "GSC        5\n",
       "UP3        4\n",
       "Name: Shipping Service, dtype: int64"
      ]
     },
     "execution_count": 16,
     "metadata": {},
     "output_type": "execute_result"
    }
   ],
   "source": [
    "df_2020_09['Shipping Service'].value_counts()"
   ]
  },
  {
   "cell_type": "code",
   "execution_count": 17,
   "id": "74be41f6",
   "metadata": {},
   "outputs": [
    {
     "data": {
      "text/plain": [
       "9/20/20    7839\n",
       "9/15/20    2749\n",
       "9/7/20      866\n",
       "9/1/20      656\n",
       "9/22/20     605\n",
       "9/28/20     554\n",
       "9/6/20      518\n",
       "9/18/20     510\n",
       "9/14/20     509\n",
       "9/16/20     492\n",
       "9/12/20     479\n",
       "9/17/20     473\n",
       "9/2/20      431\n",
       "9/23/20     428\n",
       "9/13/20     408\n",
       "9/8/20      384\n",
       "9/21/20     341\n",
       "9/4/20      328\n",
       "9/24/20     324\n",
       "9/25/20     322\n",
       "9/11/20     315\n",
       "9/26/20     315\n",
       "9/19/20     310\n",
       "9/27/20     306\n",
       "9/29/20     289\n",
       "9/5/20      286\n",
       "9/3/20      270\n",
       "9/9/20      263\n",
       "9/10/20     245\n",
       "8/31/20     228\n",
       "9/30/20      68\n",
       "8/29/20      41\n",
       "8/30/20      36\n",
       "8/28/20      28\n",
       "8/24/20      24\n",
       "8/25/20      17\n",
       "8/27/20      11\n",
       "8/26/20       2\n",
       "8/22/20       2\n",
       "8/20/20       2\n",
       "7/13/20       2\n",
       "8/13/20       1\n",
       "Name: Created Date, dtype: int64"
      ]
     },
     "execution_count": 17,
     "metadata": {},
     "output_type": "execute_result"
    }
   ],
   "source": [
    "df_2020_09['Created Date'].value_counts()\n",
    "#Ok to have dates from other months- Sometimes people will create an order and hold onto it until an adult is present to sign for delivery."
   ]
  },
  {
   "cell_type": "code",
   "execution_count": 18,
   "id": "34adbd2f",
   "metadata": {},
   "outputs": [
    {
     "data": {
      "text/plain": [
       "7.00     7786\n",
       "21.50    4833\n",
       "14.00    2716\n",
       "41.00    1520\n",
       "10.50    1507\n",
       "39.00    1034\n",
       "20.20     944\n",
       "9.90      438\n",
       "18.50     244\n",
       "29.00     243\n",
       "27.00     164\n",
       "32.00     130\n",
       "38.00     119\n",
       "26.00     118\n",
       "35.00     115\n",
       "3.35      100\n",
       "24.00      35\n",
       "17.20      31\n",
       "4.00       30\n",
       "30.00      26\n",
       "33.00      24\n",
       "19.20      20\n",
       "20.50      16\n",
       "7.50       15\n",
       "37.00      12\n",
       "9.50       10\n",
       "13.50       7\n",
       "36.00       7\n",
       "5.00        6\n",
       "18.20       4\n",
       "17.00       4\n",
       "3.00        3\n",
       "14.20       3\n",
       "25.00       2\n",
       "23.00       2\n",
       "16.20       2\n",
       "8.50        2\n",
       "44.00       1\n",
       "31.00       1\n",
       "15.20       1\n",
       "22.00       1\n",
       "13.00       1\n",
       "Name: Weight, dtype: int64"
      ]
     },
     "execution_count": 18,
     "metadata": {},
     "output_type": "execute_result"
    }
   ],
   "source": [
    "df_2020_09['Weight'].value_counts()"
   ]
  },
  {
   "cell_type": "code",
   "execution_count": 19,
   "id": "73bd62e8",
   "metadata": {},
   "outputs": [
    {
     "data": {
      "text/plain": [
       "1     7483\n",
       "6     5793\n",
       "4     2742\n",
       "12    2556\n",
       "3     1961\n",
       "2      449\n",
       "8      399\n",
       "5      275\n",
       "7      174\n",
       "9      158\n",
       "10     136\n",
       "13      86\n",
       "11      40\n",
       "14      13\n",
       "18       4\n",
       "24       4\n",
       "15       2\n",
       "20       1\n",
       "16       1\n",
       "Name: Item/Bottle Count, dtype: int64"
      ]
     },
     "execution_count": 19,
     "metadata": {},
     "output_type": "execute_result"
    }
   ],
   "source": [
    "df_2020_09['Item/Bottle Count'].value_counts()"
   ]
  },
  {
   "cell_type": "markdown",
   "id": "b28748d1",
   "metadata": {},
   "source": [
    "## Clean the Data"
   ]
  },
  {
   "cell_type": "code",
   "execution_count": 20,
   "id": "ae2074b6",
   "metadata": {},
   "outputs": [
    {
     "data": {
      "text/plain": [
       "Company Name          object\n",
       "Status                object\n",
       "Ship Date             object\n",
       "City                  object\n",
       "State                 object\n",
       "Zip                   object\n",
       "Shipping Service      object\n",
       "Created Date          object\n",
       "Weight               float64\n",
       "Item/Bottle Count    float64\n",
       "dtype: object"
      ]
     },
     "execution_count": 20,
     "metadata": {},
     "output_type": "execute_result"
    }
   ],
   "source": [
    "#Change [\"Item/Bottle Count\"] to float64 type in df_2020_09.\n",
    "df_2020_09[\"Item/Bottle Count\"]=df_2020_09[\"Item/Bottle Count\"].astype(float)\n",
    "df_2020_09.dtypes"
   ]
  },
  {
   "cell_type": "code",
   "execution_count": 21,
   "id": "2de5f1ce",
   "metadata": {},
   "outputs": [
    {
     "data": {
      "text/html": [
       "<div>\n",
       "<style scoped>\n",
       "    .dataframe tbody tr th:only-of-type {\n",
       "        vertical-align: middle;\n",
       "    }\n",
       "\n",
       "    .dataframe tbody tr th {\n",
       "        vertical-align: top;\n",
       "    }\n",
       "\n",
       "    .dataframe thead th {\n",
       "        text-align: right;\n",
       "    }\n",
       "</style>\n",
       "<table border=\"1\" class=\"dataframe\">\n",
       "  <thead>\n",
       "    <tr style=\"text-align: right;\">\n",
       "      <th></th>\n",
       "      <th>Company Name</th>\n",
       "      <th>Ship Date</th>\n",
       "      <th>City</th>\n",
       "      <th>State</th>\n",
       "      <th>Zip</th>\n",
       "      <th>Shipping Service</th>\n",
       "      <th>Created Date</th>\n",
       "      <th>Weight</th>\n",
       "      <th>Item/Bottle Count</th>\n",
       "    </tr>\n",
       "  </thead>\n",
       "  <tbody>\n",
       "    <tr>\n",
       "      <th>0</th>\n",
       "      <td>Ecom1</td>\n",
       "      <td>9/1/20</td>\n",
       "      <td>Seattle</td>\n",
       "      <td>WA</td>\n",
       "      <td>98115</td>\n",
       "      <td>FEH</td>\n",
       "      <td>8/25/20</td>\n",
       "      <td>20.20</td>\n",
       "      <td>6.0</td>\n",
       "    </tr>\n",
       "    <tr>\n",
       "      <th>1</th>\n",
       "      <td>Ecom1</td>\n",
       "      <td>9/1/20</td>\n",
       "      <td>Rochester</td>\n",
       "      <td>NY</td>\n",
       "      <td>14610</td>\n",
       "      <td>FEH</td>\n",
       "      <td>8/28/20</td>\n",
       "      <td>20.20</td>\n",
       "      <td>6.0</td>\n",
       "    </tr>\n",
       "    <tr>\n",
       "      <th>2</th>\n",
       "      <td>Ecom1</td>\n",
       "      <td>9/1/20</td>\n",
       "      <td>Chicago</td>\n",
       "      <td>IL</td>\n",
       "      <td>60625</td>\n",
       "      <td>FEH</td>\n",
       "      <td>8/28/20</td>\n",
       "      <td>20.20</td>\n",
       "      <td>6.0</td>\n",
       "    </tr>\n",
       "    <tr>\n",
       "      <th>3</th>\n",
       "      <td>Ecom1</td>\n",
       "      <td>9/1/20</td>\n",
       "      <td>Paradise Valley</td>\n",
       "      <td>AZ</td>\n",
       "      <td>85253</td>\n",
       "      <td>FEH</td>\n",
       "      <td>8/28/20</td>\n",
       "      <td>10.50</td>\n",
       "      <td>3.0</td>\n",
       "    </tr>\n",
       "    <tr>\n",
       "      <th>4</th>\n",
       "      <td>Ecom1</td>\n",
       "      <td>9/1/20</td>\n",
       "      <td>Jersey City</td>\n",
       "      <td>NJ</td>\n",
       "      <td>7302</td>\n",
       "      <td>FEH</td>\n",
       "      <td>8/28/20</td>\n",
       "      <td>20.20</td>\n",
       "      <td>6.0</td>\n",
       "    </tr>\n",
       "    <tr>\n",
       "      <th>...</th>\n",
       "      <td>...</td>\n",
       "      <td>...</td>\n",
       "      <td>...</td>\n",
       "      <td>...</td>\n",
       "      <td>...</td>\n",
       "      <td>...</td>\n",
       "      <td>...</td>\n",
       "      <td>...</td>\n",
       "      <td>...</td>\n",
       "    </tr>\n",
       "    <tr>\n",
       "      <th>22272</th>\n",
       "      <td>Ecom3</td>\n",
       "      <td>9/28/20</td>\n",
       "      <td>Cumming</td>\n",
       "      <td>GA</td>\n",
       "      <td>30041</td>\n",
       "      <td>UPS</td>\n",
       "      <td>9/26/20</td>\n",
       "      <td>3.35</td>\n",
       "      <td>1.0</td>\n",
       "    </tr>\n",
       "    <tr>\n",
       "      <th>22273</th>\n",
       "      <td>Ecom3</td>\n",
       "      <td>9/28/20</td>\n",
       "      <td>Palm City</td>\n",
       "      <td>FL</td>\n",
       "      <td>34990</td>\n",
       "      <td>UPS</td>\n",
       "      <td>9/26/20</td>\n",
       "      <td>21.50</td>\n",
       "      <td>6.0</td>\n",
       "    </tr>\n",
       "    <tr>\n",
       "      <th>22274</th>\n",
       "      <td>Ecom3</td>\n",
       "      <td>9/30/20</td>\n",
       "      <td>manhattan beach</td>\n",
       "      <td>CA</td>\n",
       "      <td>90266</td>\n",
       "      <td>UPS</td>\n",
       "      <td>9/28/20</td>\n",
       "      <td>21.50</td>\n",
       "      <td>6.0</td>\n",
       "    </tr>\n",
       "    <tr>\n",
       "      <th>22275</th>\n",
       "      <td>Ecom3</td>\n",
       "      <td>9/28/20</td>\n",
       "      <td>Smithtown</td>\n",
       "      <td>NY</td>\n",
       "      <td>11787</td>\n",
       "      <td>FEH</td>\n",
       "      <td>9/25/20</td>\n",
       "      <td>21.50</td>\n",
       "      <td>6.0</td>\n",
       "    </tr>\n",
       "    <tr>\n",
       "      <th>22276</th>\n",
       "      <td>Ecom3</td>\n",
       "      <td>9/28/20</td>\n",
       "      <td>Glendale</td>\n",
       "      <td>CA</td>\n",
       "      <td>91210</td>\n",
       "      <td>UPS</td>\n",
       "      <td>9/25/20</td>\n",
       "      <td>21.50</td>\n",
       "      <td>6.0</td>\n",
       "    </tr>\n",
       "  </tbody>\n",
       "</table>\n",
       "<p>22277 rows × 9 columns</p>\n",
       "</div>"
      ],
      "text/plain": [
       "      Company Name Ship Date             City State    Zip Shipping Service  \\\n",
       "0            Ecom1    9/1/20          Seattle    WA  98115              FEH   \n",
       "1            Ecom1    9/1/20        Rochester    NY  14610              FEH   \n",
       "2            Ecom1    9/1/20          Chicago    IL  60625              FEH   \n",
       "3            Ecom1    9/1/20  Paradise Valley    AZ  85253              FEH   \n",
       "4            Ecom1    9/1/20      Jersey City    NJ   7302              FEH   \n",
       "...            ...       ...              ...   ...    ...              ...   \n",
       "22272        Ecom3   9/28/20          Cumming    GA  30041              UPS   \n",
       "22273        Ecom3   9/28/20        Palm City    FL  34990              UPS   \n",
       "22274        Ecom3   9/30/20  manhattan beach    CA  90266              UPS   \n",
       "22275        Ecom3   9/28/20        Smithtown    NY  11787              FEH   \n",
       "22276        Ecom3   9/28/20         Glendale    CA  91210              UPS   \n",
       "\n",
       "      Created Date  Weight  Item/Bottle Count  \n",
       "0          8/25/20   20.20                6.0  \n",
       "1          8/28/20   20.20                6.0  \n",
       "2          8/28/20   20.20                6.0  \n",
       "3          8/28/20   10.50                3.0  \n",
       "4          8/28/20   20.20                6.0  \n",
       "...            ...     ...                ...  \n",
       "22272      9/26/20    3.35                1.0  \n",
       "22273      9/26/20   21.50                6.0  \n",
       "22274      9/28/20   21.50                6.0  \n",
       "22275      9/25/20   21.50                6.0  \n",
       "22276      9/25/20   21.50                6.0  \n",
       "\n",
       "[22277 rows x 9 columns]"
      ]
     },
     "execution_count": 21,
     "metadata": {},
     "output_type": "execute_result"
    }
   ],
   "source": [
    "#Remove \"Status\" column from df_2020_09.\n",
    "df_2020_09 = df_2020_09.drop('Status', axis=1)\n",
    "df_2020_09"
   ]
  },
  {
   "cell_type": "code",
   "execution_count": 22,
   "id": "0374b7d7",
   "metadata": {},
   "outputs": [],
   "source": [
    "# Drop the NaNs for df_2020_09.\n",
    "df_2020_09 = df_2020_09.dropna()"
   ]
  },
  {
   "cell_type": "markdown",
   "id": "b54ac18d",
   "metadata": {},
   "source": [
    "## Confirm Changes"
   ]
  },
  {
   "cell_type": "code",
   "execution_count": 23,
   "id": "717b65ec",
   "metadata": {},
   "outputs": [
    {
     "data": {
      "text/html": [
       "<div>\n",
       "<style scoped>\n",
       "    .dataframe tbody tr th:only-of-type {\n",
       "        vertical-align: middle;\n",
       "    }\n",
       "\n",
       "    .dataframe tbody tr th {\n",
       "        vertical-align: top;\n",
       "    }\n",
       "\n",
       "    .dataframe thead th {\n",
       "        text-align: right;\n",
       "    }\n",
       "</style>\n",
       "<table border=\"1\" class=\"dataframe\">\n",
       "  <thead>\n",
       "    <tr style=\"text-align: right;\">\n",
       "      <th></th>\n",
       "      <th>Company Name</th>\n",
       "      <th>Ship Date</th>\n",
       "      <th>City</th>\n",
       "      <th>State</th>\n",
       "      <th>Zip</th>\n",
       "      <th>Shipping Service</th>\n",
       "      <th>Created Date</th>\n",
       "      <th>Weight</th>\n",
       "      <th>Item/Bottle Count</th>\n",
       "    </tr>\n",
       "  </thead>\n",
       "  <tbody>\n",
       "    <tr>\n",
       "      <th>13819</th>\n",
       "      <td>Ecom2</td>\n",
       "      <td>9/22/20</td>\n",
       "      <td>Las Vegas</td>\n",
       "      <td>NV</td>\n",
       "      <td>89117</td>\n",
       "      <td>FEH</td>\n",
       "      <td>9/20/20</td>\n",
       "      <td>7.0</td>\n",
       "      <td>1.0</td>\n",
       "    </tr>\n",
       "    <tr>\n",
       "      <th>16823</th>\n",
       "      <td>Ecom2</td>\n",
       "      <td>9/23/20</td>\n",
       "      <td>Atlanta</td>\n",
       "      <td>GA</td>\n",
       "      <td>30342</td>\n",
       "      <td>FEH</td>\n",
       "      <td>9/20/20</td>\n",
       "      <td>7.0</td>\n",
       "      <td>1.0</td>\n",
       "    </tr>\n",
       "    <tr>\n",
       "      <th>2657</th>\n",
       "      <td>Ecom3</td>\n",
       "      <td>9/8/20</td>\n",
       "      <td>La Crescenta</td>\n",
       "      <td>CA</td>\n",
       "      <td>91214</td>\n",
       "      <td>UPS</td>\n",
       "      <td>9/6/20</td>\n",
       "      <td>29.0</td>\n",
       "      <td>8.0</td>\n",
       "    </tr>\n",
       "    <tr>\n",
       "      <th>5674</th>\n",
       "      <td>Winery1</td>\n",
       "      <td>9/18/20</td>\n",
       "      <td>Shrewsbury</td>\n",
       "      <td>MA</td>\n",
       "      <td>1545</td>\n",
       "      <td>UPS</td>\n",
       "      <td>9/15/20</td>\n",
       "      <td>14.0</td>\n",
       "      <td>4.0</td>\n",
       "    </tr>\n",
       "    <tr>\n",
       "      <th>5893</th>\n",
       "      <td>Winery1</td>\n",
       "      <td>9/18/20</td>\n",
       "      <td>FOND DU LAC</td>\n",
       "      <td>WI</td>\n",
       "      <td>54937</td>\n",
       "      <td>UPS</td>\n",
       "      <td>9/15/20</td>\n",
       "      <td>14.0</td>\n",
       "      <td>4.0</td>\n",
       "    </tr>\n",
       "  </tbody>\n",
       "</table>\n",
       "</div>"
      ],
      "text/plain": [
       "      Company Name Ship Date          City State    Zip Shipping Service  \\\n",
       "13819        Ecom2   9/22/20     Las Vegas    NV  89117              FEH   \n",
       "16823        Ecom2   9/23/20       Atlanta    GA  30342              FEH   \n",
       "2657         Ecom3    9/8/20  La Crescenta    CA  91214              UPS   \n",
       "5674       Winery1   9/18/20    Shrewsbury    MA   1545              UPS   \n",
       "5893       Winery1   9/18/20   FOND DU LAC    WI  54937              UPS   \n",
       "\n",
       "      Created Date  Weight  Item/Bottle Count  \n",
       "13819      9/20/20     7.0                1.0  \n",
       "16823      9/20/20     7.0                1.0  \n",
       "2657        9/6/20    29.0                8.0  \n",
       "5674       9/15/20    14.0                4.0  \n",
       "5893       9/15/20    14.0                4.0  "
      ]
     },
     "execution_count": 23,
     "metadata": {},
     "output_type": "execute_result"
    }
   ],
   "source": [
    "#See five random rows of data\n",
    "df_2020_09.sample(n=5)"
   ]
  },
  {
   "cell_type": "code",
   "execution_count": 24,
   "id": "2f59ad5f",
   "metadata": {},
   "outputs": [
    {
     "name": "stdout",
     "output_type": "stream",
     "text": [
      "Number of Rows:  22277\n",
      "Number of Columns:  9\n"
     ]
    }
   ],
   "source": [
    "#Determine total rows for df_2020_09.\n",
    "df_2020_09_rows = len(df_2020_09.axes[0])\n",
    "df_2020_09_cols = len(df_2020_09.axes[1])\n",
    "print(\"Number of Rows: \", df_2020_09_rows)\n",
    "print(\"Number of Columns: \", df_2020_09_cols)"
   ]
  },
  {
   "cell_type": "markdown",
   "id": "625b4837",
   "metadata": {},
   "source": [
    "## Export Cleaned df to .CSV"
   ]
  },
  {
   "cell_type": "code",
   "execution_count": 25,
   "id": "f5a7980c",
   "metadata": {},
   "outputs": [],
   "source": [
    "#Export df_2020_09 to .csv\n",
    "df_2020_09.to_csv('../cleaned_months_2020/Clean_2020_09.csv') "
   ]
  },
  {
   "cell_type": "code",
   "execution_count": null,
   "id": "aafdefb9",
   "metadata": {},
   "outputs": [],
   "source": []
  }
 ],
 "metadata": {
  "kernelspec": {
   "display_name": "Python 3 (ipykernel)",
   "language": "python",
   "name": "python3"
  },
  "language_info": {
   "codemirror_mode": {
    "name": "ipython",
    "version": 3
   },
   "file_extension": ".py",
   "mimetype": "text/x-python",
   "name": "python",
   "nbconvert_exporter": "python",
   "pygments_lexer": "ipython3",
   "version": "3.7.13"
  }
 },
 "nbformat": 4,
 "nbformat_minor": 5
}
