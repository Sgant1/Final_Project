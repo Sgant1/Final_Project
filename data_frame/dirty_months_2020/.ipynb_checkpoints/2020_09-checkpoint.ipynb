{
 "cells": [
  {
   "cell_type": "code",
   "execution_count": 1,
   "id": "1f30ec89",
   "metadata": {},
   "outputs": [],
   "source": [
    "#Pandas library to create DataFrames\n",
    "import pandas as pd\n",
    "#NumPy library for converting data types\n",
    "import numpy as np"
   ]
  },
  {
   "cell_type": "code",
   "execution_count": 2,
   "id": "7d4569c3",
   "metadata": {},
   "outputs": [],
   "source": [
    "# Files to load\n",
    "load_2020_09 = \"../../2020_Data/2020.09.csv\""
   ]
  },
  {
   "cell_type": "code",
   "execution_count": 3,
   "id": "5bf26e77",
   "metadata": {},
   "outputs": [
    {
     "data": {
      "text/html": [
       "<div>\n",
       "<style scoped>\n",
       "    .dataframe tbody tr th:only-of-type {\n",
       "        vertical-align: middle;\n",
       "    }\n",
       "\n",
       "    .dataframe tbody tr th {\n",
       "        vertical-align: top;\n",
       "    }\n",
       "\n",
       "    .dataframe thead th {\n",
       "        text-align: right;\n",
       "    }\n",
       "</style>\n",
       "<table border=\"1\" class=\"dataframe\">\n",
       "  <thead>\n",
       "    <tr style=\"text-align: right;\">\n",
       "      <th></th>\n",
       "      <th>Company Name</th>\n",
       "      <th>Status</th>\n",
       "      <th>Ship Date</th>\n",
       "      <th>City</th>\n",
       "      <th>State</th>\n",
       "      <th>Zip</th>\n",
       "      <th>Shipping Service</th>\n",
       "      <th>Created Date</th>\n",
       "      <th>Weight</th>\n",
       "      <th>Item/Bottle Count</th>\n",
       "    </tr>\n",
       "  </thead>\n",
       "  <tbody>\n",
       "    <tr>\n",
       "      <th>0</th>\n",
       "      <td>Ecom1</td>\n",
       "      <td>Delivered</td>\n",
       "      <td>9/1/2020</td>\n",
       "      <td>Seattle</td>\n",
       "      <td>WA</td>\n",
       "      <td>98115</td>\n",
       "      <td>FEH</td>\n",
       "      <td>8/25/2020</td>\n",
       "      <td>20.2</td>\n",
       "      <td>6</td>\n",
       "    </tr>\n",
       "    <tr>\n",
       "      <th>1</th>\n",
       "      <td>Ecom1</td>\n",
       "      <td>Delivered</td>\n",
       "      <td>9/1/2020</td>\n",
       "      <td>Rochester</td>\n",
       "      <td>NY</td>\n",
       "      <td>14610</td>\n",
       "      <td>FEH</td>\n",
       "      <td>8/28/2020</td>\n",
       "      <td>20.2</td>\n",
       "      <td>6</td>\n",
       "    </tr>\n",
       "    <tr>\n",
       "      <th>2</th>\n",
       "      <td>Ecom1</td>\n",
       "      <td>Carrier Exception</td>\n",
       "      <td>9/1/2020</td>\n",
       "      <td>Chicago</td>\n",
       "      <td>IL</td>\n",
       "      <td>60625</td>\n",
       "      <td>FEH</td>\n",
       "      <td>8/28/2020</td>\n",
       "      <td>20.2</td>\n",
       "      <td>6</td>\n",
       "    </tr>\n",
       "    <tr>\n",
       "      <th>3</th>\n",
       "      <td>Ecom1</td>\n",
       "      <td>Delivered</td>\n",
       "      <td>9/1/2020</td>\n",
       "      <td>Paradise Valley</td>\n",
       "      <td>AZ</td>\n",
       "      <td>85253</td>\n",
       "      <td>FEH</td>\n",
       "      <td>8/28/2020</td>\n",
       "      <td>10.5</td>\n",
       "      <td>3</td>\n",
       "    </tr>\n",
       "    <tr>\n",
       "      <th>4</th>\n",
       "      <td>Ecom1</td>\n",
       "      <td>Delivered</td>\n",
       "      <td>9/1/2020</td>\n",
       "      <td>Jersey City</td>\n",
       "      <td>NJ</td>\n",
       "      <td>7302</td>\n",
       "      <td>FEH</td>\n",
       "      <td>8/28/2020</td>\n",
       "      <td>20.2</td>\n",
       "      <td>6</td>\n",
       "    </tr>\n",
       "  </tbody>\n",
       "</table>\n",
       "</div>"
      ],
      "text/plain": [
       "  Company Name             Status Ship Date             City State    Zip  \\\n",
       "0        Ecom1          Delivered  9/1/2020          Seattle    WA  98115   \n",
       "1        Ecom1          Delivered  9/1/2020        Rochester    NY  14610   \n",
       "2        Ecom1  Carrier Exception  9/1/2020          Chicago    IL  60625   \n",
       "3        Ecom1          Delivered  9/1/2020  Paradise Valley    AZ  85253   \n",
       "4        Ecom1          Delivered  9/1/2020      Jersey City    NJ   7302   \n",
       "\n",
       "  Shipping Service Created Date  Weight  Item/Bottle Count  \n",
       "0              FEH    8/25/2020    20.2                  6  \n",
       "1              FEH    8/28/2020    20.2                  6  \n",
       "2              FEH    8/28/2020    20.2                  6  \n",
       "3              FEH    8/28/2020    10.5                  3  \n",
       "4              FEH    8/28/2020    20.2                  6  "
      ]
     },
     "execution_count": 3,
     "metadata": {},
     "output_type": "execute_result"
    }
   ],
   "source": [
    "# Read the September CSV into a DataFrame\n",
    "#Had to open each file in excel and save it as a .csv file instead of an .xlsm file in order for the encryption to be read properly.\n",
    "df_2020_09 = pd.read_csv(load_2020_09)\n",
    "df_2020_09.head()"
   ]
  },
  {
   "cell_type": "markdown",
   "id": "175df6a6",
   "metadata": {},
   "source": [
    "## Inspect the Data"
   ]
  },
  {
   "cell_type": "code",
   "execution_count": 4,
   "id": "2cdb2387",
   "metadata": {},
   "outputs": [
    {
     "data": {
      "text/html": [
       "<div>\n",
       "<style scoped>\n",
       "    .dataframe tbody tr th:only-of-type {\n",
       "        vertical-align: middle;\n",
       "    }\n",
       "\n",
       "    .dataframe tbody tr th {\n",
       "        vertical-align: top;\n",
       "    }\n",
       "\n",
       "    .dataframe thead th {\n",
       "        text-align: right;\n",
       "    }\n",
       "</style>\n",
       "<table border=\"1\" class=\"dataframe\">\n",
       "  <thead>\n",
       "    <tr style=\"text-align: right;\">\n",
       "      <th></th>\n",
       "      <th>Company Name</th>\n",
       "      <th>Status</th>\n",
       "      <th>Ship Date</th>\n",
       "      <th>City</th>\n",
       "      <th>State</th>\n",
       "      <th>Zip</th>\n",
       "      <th>Shipping Service</th>\n",
       "      <th>Created Date</th>\n",
       "      <th>Weight</th>\n",
       "      <th>Item/Bottle Count</th>\n",
       "    </tr>\n",
       "  </thead>\n",
       "  <tbody>\n",
       "    <tr>\n",
       "      <th>11379</th>\n",
       "      <td>Ecom2</td>\n",
       "      <td>In Transit</td>\n",
       "      <td>9/23/2020</td>\n",
       "      <td>Bristow</td>\n",
       "      <td>VA</td>\n",
       "      <td>20136</td>\n",
       "      <td>FEH</td>\n",
       "      <td>9/20/2020</td>\n",
       "      <td>7.0</td>\n",
       "      <td>1</td>\n",
       "    </tr>\n",
       "    <tr>\n",
       "      <th>6188</th>\n",
       "      <td>Winery1</td>\n",
       "      <td>Delivered</td>\n",
       "      <td>9/16/2020</td>\n",
       "      <td>Sherman Oaks</td>\n",
       "      <td>CA</td>\n",
       "      <td>91403</td>\n",
       "      <td>UPS</td>\n",
       "      <td>9/15/2020</td>\n",
       "      <td>14.0</td>\n",
       "      <td>4</td>\n",
       "    </tr>\n",
       "    <tr>\n",
       "      <th>7017</th>\n",
       "      <td>Winery1</td>\n",
       "      <td>In Transit</td>\n",
       "      <td>9/18/2020</td>\n",
       "      <td>Kansas City</td>\n",
       "      <td>MO</td>\n",
       "      <td>64106</td>\n",
       "      <td>UPS</td>\n",
       "      <td>9/15/2020</td>\n",
       "      <td>14.0</td>\n",
       "      <td>4</td>\n",
       "    </tr>\n",
       "    <tr>\n",
       "      <th>12789</th>\n",
       "      <td>Ecom2</td>\n",
       "      <td>In Transit</td>\n",
       "      <td>9/23/2020</td>\n",
       "      <td>Pensacola</td>\n",
       "      <td>FL</td>\n",
       "      <td>32505</td>\n",
       "      <td>FEH</td>\n",
       "      <td>9/20/2020</td>\n",
       "      <td>7.0</td>\n",
       "      <td>1</td>\n",
       "    </tr>\n",
       "    <tr>\n",
       "      <th>5013</th>\n",
       "      <td>Winery1</td>\n",
       "      <td>Shipped</td>\n",
       "      <td>9/18/2020</td>\n",
       "      <td>Greenwood Village</td>\n",
       "      <td>CO</td>\n",
       "      <td>80111</td>\n",
       "      <td>UPS</td>\n",
       "      <td>9/14/2020</td>\n",
       "      <td>39.0</td>\n",
       "      <td>12</td>\n",
       "    </tr>\n",
       "  </tbody>\n",
       "</table>\n",
       "</div>"
      ],
      "text/plain": [
       "      Company Name      Status  Ship Date               City State    Zip  \\\n",
       "11379        Ecom2  In Transit  9/23/2020            Bristow    VA  20136   \n",
       "6188       Winery1   Delivered  9/16/2020       Sherman Oaks    CA  91403   \n",
       "7017       Winery1  In Transit  9/18/2020        Kansas City    MO  64106   \n",
       "12789        Ecom2  In Transit  9/23/2020          Pensacola    FL  32505   \n",
       "5013       Winery1     Shipped  9/18/2020  Greenwood Village    CO  80111   \n",
       "\n",
       "      Shipping Service Created Date  Weight  Item/Bottle Count  \n",
       "11379              FEH    9/20/2020     7.0                  1  \n",
       "6188               UPS    9/15/2020    14.0                  4  \n",
       "7017               UPS    9/15/2020    14.0                  4  \n",
       "12789              FEH    9/20/2020     7.0                  1  \n",
       "5013               UPS    9/14/2020    39.0                 12  "
      ]
     },
     "execution_count": 4,
     "metadata": {},
     "output_type": "execute_result"
    }
   ],
   "source": [
    "#See five random rows of data\n",
    "df_2020_09.sample(n=5)"
   ]
  },
  {
   "cell_type": "code",
   "execution_count": 5,
   "id": "a7bdb733",
   "metadata": {},
   "outputs": [
    {
     "data": {
      "text/html": [
       "<div>\n",
       "<style scoped>\n",
       "    .dataframe tbody tr th:only-of-type {\n",
       "        vertical-align: middle;\n",
       "    }\n",
       "\n",
       "    .dataframe tbody tr th {\n",
       "        vertical-align: top;\n",
       "    }\n",
       "\n",
       "    .dataframe thead th {\n",
       "        text-align: right;\n",
       "    }\n",
       "</style>\n",
       "<table border=\"1\" class=\"dataframe\">\n",
       "  <thead>\n",
       "    <tr style=\"text-align: right;\">\n",
       "      <th></th>\n",
       "      <th>Company Name</th>\n",
       "      <th>Status</th>\n",
       "      <th>Ship Date</th>\n",
       "      <th>City</th>\n",
       "      <th>State</th>\n",
       "      <th>Zip</th>\n",
       "      <th>Shipping Service</th>\n",
       "      <th>Created Date</th>\n",
       "      <th>Weight</th>\n",
       "      <th>Item/Bottle Count</th>\n",
       "    </tr>\n",
       "  </thead>\n",
       "  <tbody>\n",
       "    <tr>\n",
       "      <th>22439</th>\n",
       "      <td>Winery3</td>\n",
       "      <td>Delivered</td>\n",
       "      <td>9/28/2020</td>\n",
       "      <td>LOS ANGELES</td>\n",
       "      <td>CA</td>\n",
       "      <td>90064</td>\n",
       "      <td>GSC</td>\n",
       "      <td>9/28/2020</td>\n",
       "      <td>10.5</td>\n",
       "      <td>3</td>\n",
       "    </tr>\n",
       "    <tr>\n",
       "      <th>22440</th>\n",
       "      <td>Winery3</td>\n",
       "      <td>Delivered</td>\n",
       "      <td>9/28/2020</td>\n",
       "      <td>SEATTLE</td>\n",
       "      <td>WA</td>\n",
       "      <td>98199</td>\n",
       "      <td>UPS</td>\n",
       "      <td>9/28/2020</td>\n",
       "      <td>20.2</td>\n",
       "      <td>6</td>\n",
       "    </tr>\n",
       "    <tr>\n",
       "      <th>22441</th>\n",
       "      <td>Winery3</td>\n",
       "      <td>Delivered</td>\n",
       "      <td>9/28/2020</td>\n",
       "      <td>Boise</td>\n",
       "      <td>ID</td>\n",
       "      <td>83712</td>\n",
       "      <td>UPS</td>\n",
       "      <td>9/28/2020</td>\n",
       "      <td>10.5</td>\n",
       "      <td>3</td>\n",
       "    </tr>\n",
       "    <tr>\n",
       "      <th>22442</th>\n",
       "      <td>Winery3</td>\n",
       "      <td>Delivered</td>\n",
       "      <td>9/28/2020</td>\n",
       "      <td>Los Angeles</td>\n",
       "      <td>CA</td>\n",
       "      <td>90039</td>\n",
       "      <td>GSC</td>\n",
       "      <td>9/28/2020</td>\n",
       "      <td>10.5</td>\n",
       "      <td>3</td>\n",
       "    </tr>\n",
       "    <tr>\n",
       "      <th>22443</th>\n",
       "      <td>Winery3</td>\n",
       "      <td>Delivered</td>\n",
       "      <td>9/28/2020</td>\n",
       "      <td>Bakersfield</td>\n",
       "      <td>CA</td>\n",
       "      <td>93311</td>\n",
       "      <td>GSC</td>\n",
       "      <td>9/28/2020</td>\n",
       "      <td>10.5</td>\n",
       "      <td>3</td>\n",
       "    </tr>\n",
       "  </tbody>\n",
       "</table>\n",
       "</div>"
      ],
      "text/plain": [
       "      Company Name     Status  Ship Date         City State    Zip  \\\n",
       "22439      Winery3  Delivered  9/28/2020  LOS ANGELES    CA  90064   \n",
       "22440      Winery3  Delivered  9/28/2020      SEATTLE    WA  98199   \n",
       "22441      Winery3  Delivered  9/28/2020        Boise    ID  83712   \n",
       "22442      Winery3  Delivered  9/28/2020  Los Angeles    CA  90039   \n",
       "22443      Winery3  Delivered  9/28/2020  Bakersfield    CA  93311   \n",
       "\n",
       "      Shipping Service Created Date  Weight  Item/Bottle Count  \n",
       "22439              GSC    9/28/2020    10.5                  3  \n",
       "22440              UPS    9/28/2020    20.2                  6  \n",
       "22441              UPS    9/28/2020    10.5                  3  \n",
       "22442              GSC    9/28/2020    10.5                  3  \n",
       "22443              GSC    9/28/2020    10.5                  3  "
      ]
     },
     "execution_count": 5,
     "metadata": {},
     "output_type": "execute_result"
    }
   ],
   "source": [
    "#See the last rows of data\n",
    "df_2020_09.tail(5)"
   ]
  },
  {
   "cell_type": "code",
   "execution_count": 6,
   "id": "a820ba41",
   "metadata": {},
   "outputs": [
    {
     "data": {
      "text/plain": [
       "Index(['Company Name', 'Status', 'Ship Date', 'City', 'State', 'Zip',\n",
       "       'Shipping Service', 'Created Date', 'Weight', 'Item/Bottle Count'],\n",
       "      dtype='object')"
      ]
     },
     "execution_count": 6,
     "metadata": {},
     "output_type": "execute_result"
    }
   ],
   "source": [
    "df_2020_09.columns"
   ]
  },
  {
   "cell_type": "code",
   "execution_count": 7,
   "id": "7410d9e5",
   "metadata": {},
   "outputs": [
    {
     "name": "stdout",
     "output_type": "stream",
     "text": [
      "Number of Rows:  22444\n",
      "Number of Columns:  10\n"
     ]
    }
   ],
   "source": [
    "#Determine total rows for df_2020_09.\n",
    "df_2020_09_rows = len(df_2020_09.axes[0])\n",
    "df_2020_09_cols = len(df_2020_09.axes[1])\n",
    "print(\"Number of Rows: \", df_2020_09_rows)\n",
    "print(\"Number of Columns: \", df_2020_09_cols)"
   ]
  },
  {
   "cell_type": "code",
   "execution_count": 8,
   "id": "4caf57c3",
   "metadata": {},
   "outputs": [
    {
     "data": {
      "text/plain": [
       "Company Name         0\n",
       "Status               0\n",
       "Ship Date            0\n",
       "City                 0\n",
       "State                0\n",
       "Zip                  0\n",
       "Shipping Service     0\n",
       "Created Date         0\n",
       "Weight               0\n",
       "Item/Bottle Count    0\n",
       "dtype: int64"
      ]
     },
     "execution_count": 8,
     "metadata": {},
     "output_type": "execute_result"
    }
   ],
   "source": [
    "# Determine if there are any missing values in df_2020_09.\n",
    "df_2020_09.isnull().sum()"
   ]
  },
  {
   "cell_type": "code",
   "execution_count": 9,
   "id": "d2ad8510",
   "metadata": {},
   "outputs": [
    {
     "data": {
      "text/plain": [
       "Company Name          object\n",
       "Status                object\n",
       "Ship Date             object\n",
       "City                  object\n",
       "State                 object\n",
       "Zip                   object\n",
       "Shipping Service      object\n",
       "Created Date          object\n",
       "Weight               float64\n",
       "Item/Bottle Count      int64\n",
       "dtype: object"
      ]
     },
     "execution_count": 9,
     "metadata": {},
     "output_type": "execute_result"
    }
   ],
   "source": [
    "# Determine data types for df_2020_09.\n",
    "df_2020_09.dtypes"
   ]
  },
  {
   "cell_type": "code",
   "execution_count": 10,
   "id": "4061fbbf",
   "metadata": {},
   "outputs": [
    {
     "data": {
      "text/plain": [
       "Ecom3      8812\n",
       "Ecom2      7335\n",
       "Ecom1      3233\n",
       "Winery1    2845\n",
       "Winery3     167\n",
       "Winery2      52\n",
       "Name: Company Name, dtype: int64"
      ]
     },
     "execution_count": 10,
     "metadata": {},
     "output_type": "execute_result"
    }
   ],
   "source": [
    "df_2020_09['Company Name'].value_counts()"
   ]
  },
  {
   "cell_type": "code",
   "execution_count": 11,
   "id": "aac39571",
   "metadata": {},
   "outputs": [
    {
     "data": {
      "text/plain": [
       "9/23/2020    4939\n",
       "9/22/2020    3539\n",
       "9/18/2020    2469\n",
       "9/16/2020    1171\n",
       "9/21/2020    1060\n",
       "9/14/2020     945\n",
       "9/8/2020      847\n",
       "9/28/2020     832\n",
       "9/15/2020     650\n",
       "9/7/2020      630\n",
       "9/9/2020      617\n",
       "9/1/2020      603\n",
       "9/29/2020     557\n",
       "9/25/2020     554\n",
       "9/2/2020      451\n",
       "9/11/2020     422\n",
       "9/3/2020      394\n",
       "9/4/2020      390\n",
       "9/30/2020     386\n",
       "9/17/2020     344\n",
       "9/10/2020     329\n",
       "9/24/2020     315\n",
       "Name: Ship Date, dtype: int64"
      ]
     },
     "execution_count": 11,
     "metadata": {},
     "output_type": "execute_result"
    }
   ],
   "source": [
    "df_2020_09['Ship Date'].value_counts()"
   ]
  },
  {
   "cell_type": "code",
   "execution_count": 12,
   "id": "ff45ee9d",
   "metadata": {},
   "outputs": [
    {
     "data": {
      "text/plain": [
       "Delivered            11871\n",
       "In Transit            8090\n",
       "Shipped               2175\n",
       "Carrier Exception      193\n",
       "Delivery Attempt       115\n",
       "Name: Status, dtype: int64"
      ]
     },
     "execution_count": 12,
     "metadata": {},
     "output_type": "execute_result"
    }
   ],
   "source": [
    "df_2020_09['Status'].value_counts()"
   ]
  },
  {
   "cell_type": "code",
   "execution_count": 13,
   "id": "ae707cc4",
   "metadata": {},
   "outputs": [
    {
     "data": {
      "text/plain": [
       "New York         387\n",
       "Chicago          265\n",
       "Brooklyn         179\n",
       "Atlanta          179\n",
       "Houston          175\n",
       "                ... \n",
       "BREAUX BRIDGE      1\n",
       "Killingworth       1\n",
       "PLEASANTVILLE      1\n",
       "eagan              1\n",
       "Franconia          1\n",
       "Name: City, Length: 5239, dtype: int64"
      ]
     },
     "execution_count": 13,
     "metadata": {},
     "output_type": "execute_result"
    }
   ],
   "source": [
    "df_2020_09['City'].value_counts()"
   ]
  },
  {
   "cell_type": "code",
   "execution_count": 14,
   "id": "a8718b4d",
   "metadata": {},
   "outputs": [
    {
     "data": {
      "text/plain": [
       "CA    2178\n",
       "NY    1993\n",
       "FL    1761\n",
       "TX    1572\n",
       "PA    1394\n",
       "NJ    1154\n",
       "IL     996\n",
       "MA     825\n",
       "GA     811\n",
       "OH     740\n",
       "VA     721\n",
       "MI     665\n",
       "CO     664\n",
       "NC     600\n",
       "MD     538\n",
       "TN     465\n",
       "CT     426\n",
       "WA     409\n",
       "AZ     403\n",
       "IN     360\n",
       "SC     344\n",
       "MN     341\n",
       "WI     289\n",
       "MO     251\n",
       "OR     205\n",
       "LA     194\n",
       "OK     190\n",
       "NV     178\n",
       "KS     175\n",
       "DC     167\n",
       "HI     137\n",
       "IA     136\n",
       "NH     129\n",
       "RI     124\n",
       "AR     110\n",
       "ME     105\n",
       "ID     103\n",
       "NM      97\n",
       "NE      94\n",
       "VT      75\n",
       "DE      65\n",
       "WV      59\n",
       "MT      52\n",
       "AK      35\n",
       "AL      34\n",
       "WY      27\n",
       "SD      27\n",
       "ND      26\n",
       "Name: State, dtype: int64"
      ]
     },
     "execution_count": 14,
     "metadata": {},
     "output_type": "execute_result"
    }
   ],
   "source": [
    "df_2020_09['State'].value_counts()"
   ]
  },
  {
   "cell_type": "code",
   "execution_count": 15,
   "id": "aba1ce28",
   "metadata": {},
   "outputs": [
    {
     "data": {
      "text/plain": [
       "11201    37\n",
       "60618    33\n",
       "10019    31\n",
       "10011    30\n",
       "37205    26\n",
       "         ..\n",
       "23503     1\n",
       "45238     1\n",
       "32958     1\n",
       "85929     1\n",
       "3580      1\n",
       "Name: Zip, Length: 7643, dtype: int64"
      ]
     },
     "execution_count": 15,
     "metadata": {},
     "output_type": "execute_result"
    }
   ],
   "source": [
    "df_2020_09['Zip'].value_counts()"
   ]
  },
  {
   "cell_type": "code",
   "execution_count": 16,
   "id": "85be0dcc",
   "metadata": {},
   "outputs": [
    {
     "data": {
      "text/plain": [
       "UPS     11804\n",
       "FEH      9016\n",
       "FXG      1190\n",
       "FEX       183\n",
       "GSC        84\n",
       "AZS        82\n",
       "UP2        45\n",
       "SELF       19\n",
       "WCU        11\n",
       "UP1         5\n",
       "UP3         5\n",
       "Name: Shipping Service, dtype: int64"
      ]
     },
     "execution_count": 16,
     "metadata": {},
     "output_type": "execute_result"
    }
   ],
   "source": [
    "df_2020_09['Shipping Service'].value_counts()"
   ]
  },
  {
   "cell_type": "code",
   "execution_count": 17,
   "id": "74be41f6",
   "metadata": {},
   "outputs": [
    {
     "data": {
      "text/plain": [
       "9/20/2020    7839\n",
       "9/15/2020    2750\n",
       "9/7/2020      866\n",
       "9/1/2020      657\n",
       "9/22/2020     606\n",
       "9/28/2020     563\n",
       "9/6/2020      518\n",
       "9/14/2020     515\n",
       "9/18/2020     513\n",
       "9/16/2020     493\n",
       "9/12/2020     479\n",
       "9/17/2020     473\n",
       "9/2/2020      431\n",
       "9/23/2020     428\n",
       "9/13/2020     408\n",
       "9/8/2020      394\n",
       "9/11/2020     359\n",
       "9/25/2020     345\n",
       "9/21/2020     342\n",
       "9/4/2020      328\n",
       "9/24/2020     324\n",
       "9/26/2020     315\n",
       "9/19/2020     310\n",
       "9/10/2020     306\n",
       "9/27/2020     306\n",
       "9/29/2020     289\n",
       "9/5/2020      286\n",
       "9/3/2020      272\n",
       "9/9/2020      267\n",
       "8/31/2020     228\n",
       "9/30/2020      68\n",
       "8/29/2020      41\n",
       "8/30/2020      36\n",
       "8/28/2020      28\n",
       "8/24/2020      24\n",
       "8/25/2020      17\n",
       "8/27/2020      11\n",
       "8/26/2020       2\n",
       "8/22/2020       2\n",
       "8/20/2020       2\n",
       "7/13/2020       2\n",
       "8/13/2020       1\n",
       "Name: Created Date, dtype: int64"
      ]
     },
     "execution_count": 17,
     "metadata": {},
     "output_type": "execute_result"
    }
   ],
   "source": [
    "df_2020_09['Created Date'].value_counts()\n",
    "#Ok to have dates from other months- Sometimes people will create an order and hold onto it until an adult is present to sign for delivery."
   ]
  },
  {
   "cell_type": "code",
   "execution_count": 18,
   "id": "34adbd2f",
   "metadata": {},
   "outputs": [
    {
     "data": {
      "text/plain": [
       "7.00     7786\n",
       "21.50    4833\n",
       "14.00    2718\n",
       "10.50    1603\n",
       "41.00    1520\n",
       "39.00    1042\n",
       "20.20     999\n",
       "9.90      438\n",
       "18.50     244\n",
       "29.00     243\n",
       "27.00     164\n",
       "32.00     130\n",
       "38.00     119\n",
       "26.00     118\n",
       "35.00     115\n",
       "3.35      100\n",
       "24.00      38\n",
       "17.20      31\n",
       "4.00       30\n",
       "30.00      26\n",
       "33.00      24\n",
       "19.20      21\n",
       "20.50      16\n",
       "7.50       15\n",
       "37.00      12\n",
       "9.50       11\n",
       "36.00       8\n",
       "13.50       7\n",
       "5.00        6\n",
       "18.20       4\n",
       "17.00       4\n",
       "3.00        3\n",
       "14.20       3\n",
       "25.00       2\n",
       "23.00       2\n",
       "16.20       2\n",
       "8.50        2\n",
       "44.00       1\n",
       "31.00       1\n",
       "15.20       1\n",
       "22.00       1\n",
       "13.00       1\n",
       "Name: Weight, dtype: int64"
      ]
     },
     "execution_count": 18,
     "metadata": {},
     "output_type": "execute_result"
    }
   ],
   "source": [
    "df_2020_09['Weight'].value_counts()"
   ]
  },
  {
   "cell_type": "code",
   "execution_count": 19,
   "id": "73bd62e8",
   "metadata": {},
   "outputs": [
    {
     "data": {
      "text/plain": [
       "1     7483\n",
       "6     5848\n",
       "4     2745\n",
       "12    2564\n",
       "3     2057\n",
       "2      449\n",
       "8      399\n",
       "5      275\n",
       "7      178\n",
       "9      158\n",
       "10     136\n",
       "13      86\n",
       "11      41\n",
       "14      13\n",
       "18       4\n",
       "24       4\n",
       "15       2\n",
       "20       1\n",
       "16       1\n",
       "Name: Item/Bottle Count, dtype: int64"
      ]
     },
     "execution_count": 19,
     "metadata": {},
     "output_type": "execute_result"
    }
   ],
   "source": [
    "df_2020_09['Item/Bottle Count'].value_counts()"
   ]
  },
  {
   "cell_type": "markdown",
   "id": "b28748d1",
   "metadata": {},
   "source": [
    "## Clean the Data"
   ]
  },
  {
   "cell_type": "code",
   "execution_count": 20,
   "id": "ae2074b6",
   "metadata": {},
   "outputs": [
    {
     "data": {
      "text/plain": [
       "Company Name          object\n",
       "Status                object\n",
       "Ship Date             object\n",
       "City                  object\n",
       "State                 object\n",
       "Zip                   object\n",
       "Shipping Service      object\n",
       "Created Date          object\n",
       "Weight               float64\n",
       "Item/Bottle Count    float64\n",
       "dtype: object"
      ]
     },
     "execution_count": 20,
     "metadata": {},
     "output_type": "execute_result"
    }
   ],
   "source": [
    "#Change [\"Item/Bottle Count\"] to float64 type in df_2020_09.\n",
    "df_2020_09[\"Item/Bottle Count\"]=df_2020_09[\"Item/Bottle Count\"].astype(float)\n",
    "df_2020_09.dtypes"
   ]
  },
  {
   "cell_type": "code",
   "execution_count": 21,
   "id": "2de5f1ce",
   "metadata": {},
   "outputs": [
    {
     "data": {
      "text/html": [
       "<div>\n",
       "<style scoped>\n",
       "    .dataframe tbody tr th:only-of-type {\n",
       "        vertical-align: middle;\n",
       "    }\n",
       "\n",
       "    .dataframe tbody tr th {\n",
       "        vertical-align: top;\n",
       "    }\n",
       "\n",
       "    .dataframe thead th {\n",
       "        text-align: right;\n",
       "    }\n",
       "</style>\n",
       "<table border=\"1\" class=\"dataframe\">\n",
       "  <thead>\n",
       "    <tr style=\"text-align: right;\">\n",
       "      <th></th>\n",
       "      <th>Company Name</th>\n",
       "      <th>Ship Date</th>\n",
       "      <th>City</th>\n",
       "      <th>State</th>\n",
       "      <th>Zip</th>\n",
       "      <th>Shipping Service</th>\n",
       "      <th>Created Date</th>\n",
       "      <th>Weight</th>\n",
       "      <th>Item/Bottle Count</th>\n",
       "    </tr>\n",
       "  </thead>\n",
       "  <tbody>\n",
       "    <tr>\n",
       "      <th>0</th>\n",
       "      <td>Ecom1</td>\n",
       "      <td>9/1/2020</td>\n",
       "      <td>Seattle</td>\n",
       "      <td>WA</td>\n",
       "      <td>98115</td>\n",
       "      <td>FEH</td>\n",
       "      <td>8/25/2020</td>\n",
       "      <td>20.2</td>\n",
       "      <td>6.0</td>\n",
       "    </tr>\n",
       "    <tr>\n",
       "      <th>1</th>\n",
       "      <td>Ecom1</td>\n",
       "      <td>9/1/2020</td>\n",
       "      <td>Rochester</td>\n",
       "      <td>NY</td>\n",
       "      <td>14610</td>\n",
       "      <td>FEH</td>\n",
       "      <td>8/28/2020</td>\n",
       "      <td>20.2</td>\n",
       "      <td>6.0</td>\n",
       "    </tr>\n",
       "    <tr>\n",
       "      <th>2</th>\n",
       "      <td>Ecom1</td>\n",
       "      <td>9/1/2020</td>\n",
       "      <td>Chicago</td>\n",
       "      <td>IL</td>\n",
       "      <td>60625</td>\n",
       "      <td>FEH</td>\n",
       "      <td>8/28/2020</td>\n",
       "      <td>20.2</td>\n",
       "      <td>6.0</td>\n",
       "    </tr>\n",
       "    <tr>\n",
       "      <th>3</th>\n",
       "      <td>Ecom1</td>\n",
       "      <td>9/1/2020</td>\n",
       "      <td>Paradise Valley</td>\n",
       "      <td>AZ</td>\n",
       "      <td>85253</td>\n",
       "      <td>FEH</td>\n",
       "      <td>8/28/2020</td>\n",
       "      <td>10.5</td>\n",
       "      <td>3.0</td>\n",
       "    </tr>\n",
       "    <tr>\n",
       "      <th>4</th>\n",
       "      <td>Ecom1</td>\n",
       "      <td>9/1/2020</td>\n",
       "      <td>Jersey City</td>\n",
       "      <td>NJ</td>\n",
       "      <td>7302</td>\n",
       "      <td>FEH</td>\n",
       "      <td>8/28/2020</td>\n",
       "      <td>20.2</td>\n",
       "      <td>6.0</td>\n",
       "    </tr>\n",
       "    <tr>\n",
       "      <th>...</th>\n",
       "      <td>...</td>\n",
       "      <td>...</td>\n",
       "      <td>...</td>\n",
       "      <td>...</td>\n",
       "      <td>...</td>\n",
       "      <td>...</td>\n",
       "      <td>...</td>\n",
       "      <td>...</td>\n",
       "      <td>...</td>\n",
       "    </tr>\n",
       "    <tr>\n",
       "      <th>22439</th>\n",
       "      <td>Winery3</td>\n",
       "      <td>9/28/2020</td>\n",
       "      <td>LOS ANGELES</td>\n",
       "      <td>CA</td>\n",
       "      <td>90064</td>\n",
       "      <td>GSC</td>\n",
       "      <td>9/28/2020</td>\n",
       "      <td>10.5</td>\n",
       "      <td>3.0</td>\n",
       "    </tr>\n",
       "    <tr>\n",
       "      <th>22440</th>\n",
       "      <td>Winery3</td>\n",
       "      <td>9/28/2020</td>\n",
       "      <td>SEATTLE</td>\n",
       "      <td>WA</td>\n",
       "      <td>98199</td>\n",
       "      <td>UPS</td>\n",
       "      <td>9/28/2020</td>\n",
       "      <td>20.2</td>\n",
       "      <td>6.0</td>\n",
       "    </tr>\n",
       "    <tr>\n",
       "      <th>22441</th>\n",
       "      <td>Winery3</td>\n",
       "      <td>9/28/2020</td>\n",
       "      <td>Boise</td>\n",
       "      <td>ID</td>\n",
       "      <td>83712</td>\n",
       "      <td>UPS</td>\n",
       "      <td>9/28/2020</td>\n",
       "      <td>10.5</td>\n",
       "      <td>3.0</td>\n",
       "    </tr>\n",
       "    <tr>\n",
       "      <th>22442</th>\n",
       "      <td>Winery3</td>\n",
       "      <td>9/28/2020</td>\n",
       "      <td>Los Angeles</td>\n",
       "      <td>CA</td>\n",
       "      <td>90039</td>\n",
       "      <td>GSC</td>\n",
       "      <td>9/28/2020</td>\n",
       "      <td>10.5</td>\n",
       "      <td>3.0</td>\n",
       "    </tr>\n",
       "    <tr>\n",
       "      <th>22443</th>\n",
       "      <td>Winery3</td>\n",
       "      <td>9/28/2020</td>\n",
       "      <td>Bakersfield</td>\n",
       "      <td>CA</td>\n",
       "      <td>93311</td>\n",
       "      <td>GSC</td>\n",
       "      <td>9/28/2020</td>\n",
       "      <td>10.5</td>\n",
       "      <td>3.0</td>\n",
       "    </tr>\n",
       "  </tbody>\n",
       "</table>\n",
       "<p>22444 rows × 9 columns</p>\n",
       "</div>"
      ],
      "text/plain": [
       "      Company Name  Ship Date             City State    Zip Shipping Service  \\\n",
       "0            Ecom1   9/1/2020          Seattle    WA  98115              FEH   \n",
       "1            Ecom1   9/1/2020        Rochester    NY  14610              FEH   \n",
       "2            Ecom1   9/1/2020          Chicago    IL  60625              FEH   \n",
       "3            Ecom1   9/1/2020  Paradise Valley    AZ  85253              FEH   \n",
       "4            Ecom1   9/1/2020      Jersey City    NJ   7302              FEH   \n",
       "...            ...        ...              ...   ...    ...              ...   \n",
       "22439      Winery3  9/28/2020      LOS ANGELES    CA  90064              GSC   \n",
       "22440      Winery3  9/28/2020          SEATTLE    WA  98199              UPS   \n",
       "22441      Winery3  9/28/2020            Boise    ID  83712              UPS   \n",
       "22442      Winery3  9/28/2020      Los Angeles    CA  90039              GSC   \n",
       "22443      Winery3  9/28/2020      Bakersfield    CA  93311              GSC   \n",
       "\n",
       "      Created Date  Weight  Item/Bottle Count  \n",
       "0        8/25/2020    20.2                6.0  \n",
       "1        8/28/2020    20.2                6.0  \n",
       "2        8/28/2020    20.2                6.0  \n",
       "3        8/28/2020    10.5                3.0  \n",
       "4        8/28/2020    20.2                6.0  \n",
       "...            ...     ...                ...  \n",
       "22439    9/28/2020    10.5                3.0  \n",
       "22440    9/28/2020    20.2                6.0  \n",
       "22441    9/28/2020    10.5                3.0  \n",
       "22442    9/28/2020    10.5                3.0  \n",
       "22443    9/28/2020    10.5                3.0  \n",
       "\n",
       "[22444 rows x 9 columns]"
      ]
     },
     "execution_count": 21,
     "metadata": {},
     "output_type": "execute_result"
    }
   ],
   "source": [
    "#Remove \"Status\" column from df_2020_09.\n",
    "df_2020_09 = df_2020_09.drop('Status', axis=1)\n",
    "df_2020_09"
   ]
  },
  {
   "cell_type": "code",
   "execution_count": 22,
   "id": "0374b7d7",
   "metadata": {},
   "outputs": [],
   "source": [
    "# Drop the NaNs for df_2020_09.\n",
    "df_2020_09 = df_2020_09.dropna()"
   ]
  },
  {
   "cell_type": "code",
   "execution_count": null,
   "id": "5fd5e6b8",
   "metadata": {},
   "outputs": [],
   "source": [
    "df_2020_09=df_2020_09.reset_index()\n",
    "df_2020_09"
   ]
  },
  {
   "cell_type": "markdown",
   "id": "b54ac18d",
   "metadata": {},
   "source": [
    "## Confirm Changes"
   ]
  },
  {
   "cell_type": "code",
   "execution_count": 23,
   "id": "717b65ec",
   "metadata": {},
   "outputs": [
    {
     "data": {
      "text/html": [
       "<div>\n",
       "<style scoped>\n",
       "    .dataframe tbody tr th:only-of-type {\n",
       "        vertical-align: middle;\n",
       "    }\n",
       "\n",
       "    .dataframe tbody tr th {\n",
       "        vertical-align: top;\n",
       "    }\n",
       "\n",
       "    .dataframe thead th {\n",
       "        text-align: right;\n",
       "    }\n",
       "</style>\n",
       "<table border=\"1\" class=\"dataframe\">\n",
       "  <thead>\n",
       "    <tr style=\"text-align: right;\">\n",
       "      <th></th>\n",
       "      <th>Company Name</th>\n",
       "      <th>Ship Date</th>\n",
       "      <th>City</th>\n",
       "      <th>State</th>\n",
       "      <th>Zip</th>\n",
       "      <th>Shipping Service</th>\n",
       "      <th>Created Date</th>\n",
       "      <th>Weight</th>\n",
       "      <th>Item/Bottle Count</th>\n",
       "    </tr>\n",
       "  </thead>\n",
       "  <tbody>\n",
       "    <tr>\n",
       "      <th>5951</th>\n",
       "      <td>Winery1</td>\n",
       "      <td>9/18/2020</td>\n",
       "      <td>Corcoran</td>\n",
       "      <td>MN</td>\n",
       "      <td>55340</td>\n",
       "      <td>UPS</td>\n",
       "      <td>9/15/2020</td>\n",
       "      <td>14.0</td>\n",
       "      <td>4.0</td>\n",
       "    </tr>\n",
       "    <tr>\n",
       "      <th>7451</th>\n",
       "      <td>Ecom1</td>\n",
       "      <td>9/14/2020</td>\n",
       "      <td>Cedar Rapids</td>\n",
       "      <td>IA</td>\n",
       "      <td>52403</td>\n",
       "      <td>FEH</td>\n",
       "      <td>9/13/2020</td>\n",
       "      <td>20.2</td>\n",
       "      <td>6.0</td>\n",
       "    </tr>\n",
       "    <tr>\n",
       "      <th>22058</th>\n",
       "      <td>Ecom3</td>\n",
       "      <td>9/28/2020</td>\n",
       "      <td>Kenner</td>\n",
       "      <td>LA</td>\n",
       "      <td>70065</td>\n",
       "      <td>UPS</td>\n",
       "      <td>9/27/2020</td>\n",
       "      <td>21.5</td>\n",
       "      <td>6.0</td>\n",
       "    </tr>\n",
       "    <tr>\n",
       "      <th>4831</th>\n",
       "      <td>Ecom1</td>\n",
       "      <td>9/16/2020</td>\n",
       "      <td>Rocky Mount</td>\n",
       "      <td>NC</td>\n",
       "      <td>27803</td>\n",
       "      <td>FEH</td>\n",
       "      <td>9/16/2020</td>\n",
       "      <td>20.2</td>\n",
       "      <td>6.0</td>\n",
       "    </tr>\n",
       "    <tr>\n",
       "      <th>19200</th>\n",
       "      <td>Ecom3</td>\n",
       "      <td>9/22/2020</td>\n",
       "      <td>Greenwood Village</td>\n",
       "      <td>CO</td>\n",
       "      <td>80111</td>\n",
       "      <td>UPS</td>\n",
       "      <td>9/22/2020</td>\n",
       "      <td>41.0</td>\n",
       "      <td>12.0</td>\n",
       "    </tr>\n",
       "  </tbody>\n",
       "</table>\n",
       "</div>"
      ],
      "text/plain": [
       "      Company Name  Ship Date               City State    Zip  \\\n",
       "5951       Winery1  9/18/2020           Corcoran    MN  55340   \n",
       "7451         Ecom1  9/14/2020       Cedar Rapids    IA  52403   \n",
       "22058        Ecom3  9/28/2020             Kenner    LA  70065   \n",
       "4831         Ecom1  9/16/2020        Rocky Mount    NC  27803   \n",
       "19200        Ecom3  9/22/2020  Greenwood Village    CO  80111   \n",
       "\n",
       "      Shipping Service Created Date  Weight  Item/Bottle Count  \n",
       "5951               UPS    9/15/2020    14.0                4.0  \n",
       "7451               FEH    9/13/2020    20.2                6.0  \n",
       "22058              UPS    9/27/2020    21.5                6.0  \n",
       "4831               FEH    9/16/2020    20.2                6.0  \n",
       "19200              UPS    9/22/2020    41.0               12.0  "
      ]
     },
     "execution_count": 23,
     "metadata": {},
     "output_type": "execute_result"
    }
   ],
   "source": [
    "#See five random rows of data\n",
    "df_2020_09.sample(n=5)"
   ]
  },
  {
   "cell_type": "code",
   "execution_count": 24,
   "id": "2f59ad5f",
   "metadata": {},
   "outputs": [
    {
     "name": "stdout",
     "output_type": "stream",
     "text": [
      "Number of Rows:  22444\n",
      "Number of Columns:  9\n"
     ]
    }
   ],
   "source": [
    "#Determine total rows for df_2020_09.\n",
    "df_2020_09_rows = len(df_2020_09.axes[0])\n",
    "df_2020_09_cols = len(df_2020_09.axes[1])\n",
    "print(\"Number of Rows: \", df_2020_09_rows)\n",
    "print(\"Number of Columns: \", df_2020_09_cols)"
   ]
  },
  {
   "cell_type": "markdown",
   "id": "625b4837",
   "metadata": {},
   "source": [
    "## Export Cleaned df to .CSV"
   ]
  },
  {
   "cell_type": "code",
   "execution_count": 25,
   "id": "f5a7980c",
   "metadata": {},
   "outputs": [],
   "source": [
    "#Export df_2020_09 to .csv\n",
    "df_2020_09.to_csv('../cleaned_months_2020/Clean_2020_09.csv') "
   ]
  },
  {
   "cell_type": "code",
   "execution_count": null,
   "id": "aafdefb9",
   "metadata": {},
   "outputs": [],
   "source": []
  }
 ],
 "metadata": {
  "kernelspec": {
   "display_name": "Python 3 (ipykernel)",
   "language": "python",
   "name": "python3"
  },
  "language_info": {
   "codemirror_mode": {
    "name": "ipython",
    "version": 3
   },
   "file_extension": ".py",
   "mimetype": "text/x-python",
   "name": "python",
   "nbconvert_exporter": "python",
   "pygments_lexer": "ipython3",
   "version": "3.7.13"
  }
 },
 "nbformat": 4,
 "nbformat_minor": 5
}
