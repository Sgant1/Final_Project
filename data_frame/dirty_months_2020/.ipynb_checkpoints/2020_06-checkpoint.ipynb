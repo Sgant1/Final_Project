{
 "cells": [
  {
   "cell_type": "code",
   "execution_count": 1,
   "id": "1f30ec89",
   "metadata": {},
   "outputs": [],
   "source": [
    "#Pandas library to create DataFrames\n",
    "import pandas as pd\n",
    "#NumPy library for converting data types\n",
    "import numpy as np"
   ]
  },
  {
   "cell_type": "code",
   "execution_count": 2,
   "id": "7d4569c3",
   "metadata": {},
   "outputs": [],
   "source": [
    "# Files to load\n",
    "load_2020_06 = \"../../2020_Data/2020.06.csv\""
   ]
  },
  {
   "cell_type": "code",
   "execution_count": 3,
   "id": "5bf26e77",
   "metadata": {},
   "outputs": [
    {
     "data": {
      "text/html": [
       "<div>\n",
       "<style scoped>\n",
       "    .dataframe tbody tr th:only-of-type {\n",
       "        vertical-align: middle;\n",
       "    }\n",
       "\n",
       "    .dataframe tbody tr th {\n",
       "        vertical-align: top;\n",
       "    }\n",
       "\n",
       "    .dataframe thead th {\n",
       "        text-align: right;\n",
       "    }\n",
       "</style>\n",
       "<table border=\"1\" class=\"dataframe\">\n",
       "  <thead>\n",
       "    <tr style=\"text-align: right;\">\n",
       "      <th></th>\n",
       "      <th>Company Name</th>\n",
       "      <th>Status</th>\n",
       "      <th>Ship Date</th>\n",
       "      <th>City</th>\n",
       "      <th>State</th>\n",
       "      <th>Zip</th>\n",
       "      <th>Shipping Service</th>\n",
       "      <th>Created Date</th>\n",
       "      <th>Weight</th>\n",
       "      <th>Item/Bottle Count</th>\n",
       "    </tr>\n",
       "  </thead>\n",
       "  <tbody>\n",
       "    <tr>\n",
       "      <th>0</th>\n",
       "      <td>Ecom1</td>\n",
       "      <td>Delivered</td>\n",
       "      <td>6/2/2020</td>\n",
       "      <td>Denver</td>\n",
       "      <td>CO</td>\n",
       "      <td>80220</td>\n",
       "      <td>FEH</td>\n",
       "      <td>6/1/2020</td>\n",
       "      <td>20.2</td>\n",
       "      <td>6</td>\n",
       "    </tr>\n",
       "    <tr>\n",
       "      <th>1</th>\n",
       "      <td>Ecom1</td>\n",
       "      <td>Delivered</td>\n",
       "      <td>6/2/2020</td>\n",
       "      <td>Baltimore</td>\n",
       "      <td>MD</td>\n",
       "      <td>21214</td>\n",
       "      <td>FEH</td>\n",
       "      <td>5/22/2020</td>\n",
       "      <td>39.0</td>\n",
       "      <td>12</td>\n",
       "    </tr>\n",
       "    <tr>\n",
       "      <th>2</th>\n",
       "      <td>Ecom1</td>\n",
       "      <td>Delivered</td>\n",
       "      <td>6/2/2020</td>\n",
       "      <td>Baltimore</td>\n",
       "      <td>MD</td>\n",
       "      <td>21214</td>\n",
       "      <td>FEH</td>\n",
       "      <td>5/22/2020</td>\n",
       "      <td>20.2</td>\n",
       "      <td>6</td>\n",
       "    </tr>\n",
       "    <tr>\n",
       "      <th>3</th>\n",
       "      <td>Ecom1</td>\n",
       "      <td>Delivered</td>\n",
       "      <td>6/3/2020</td>\n",
       "      <td>Temecula</td>\n",
       "      <td>CA</td>\n",
       "      <td>92591</td>\n",
       "      <td>FEH</td>\n",
       "      <td>5/27/2020</td>\n",
       "      <td>10.5</td>\n",
       "      <td>3</td>\n",
       "    </tr>\n",
       "    <tr>\n",
       "      <th>4</th>\n",
       "      <td>Ecom1</td>\n",
       "      <td>Delivered</td>\n",
       "      <td>6/3/2020</td>\n",
       "      <td>Highlands Ranch</td>\n",
       "      <td>CO</td>\n",
       "      <td>80130</td>\n",
       "      <td>FEH</td>\n",
       "      <td>5/27/2020</td>\n",
       "      <td>10.5</td>\n",
       "      <td>3</td>\n",
       "    </tr>\n",
       "  </tbody>\n",
       "</table>\n",
       "</div>"
      ],
      "text/plain": [
       "  Company Name     Status Ship Date             City State    Zip  \\\n",
       "0        Ecom1  Delivered  6/2/2020           Denver    CO  80220   \n",
       "1        Ecom1  Delivered  6/2/2020        Baltimore    MD  21214   \n",
       "2        Ecom1  Delivered  6/2/2020        Baltimore    MD  21214   \n",
       "3        Ecom1  Delivered  6/3/2020         Temecula    CA  92591   \n",
       "4        Ecom1  Delivered  6/3/2020  Highlands Ranch    CO  80130   \n",
       "\n",
       "  Shipping Service Created Date  Weight  Item/Bottle Count  \n",
       "0              FEH     6/1/2020    20.2                  6  \n",
       "1              FEH    5/22/2020    39.0                 12  \n",
       "2              FEH    5/22/2020    20.2                  6  \n",
       "3              FEH    5/27/2020    10.5                  3  \n",
       "4              FEH    5/27/2020    10.5                  3  "
      ]
     },
     "execution_count": 3,
     "metadata": {},
     "output_type": "execute_result"
    }
   ],
   "source": [
    "# Read the June CSV into a DataFrame\n",
    "#Had to open each file in excel and save it as a .csv file instead of an .xlsm file in order for the encryption to be read properly.\n",
    "df_2020_06 = pd.read_csv(load_2020_06)\n",
    "df_2020_06.head()"
   ]
  },
  {
   "cell_type": "markdown",
   "id": "175df6a6",
   "metadata": {},
   "source": [
    "## Inspect the Data"
   ]
  },
  {
   "cell_type": "code",
   "execution_count": 4,
   "id": "2cdb2387",
   "metadata": {},
   "outputs": [
    {
     "data": {
      "text/html": [
       "<div>\n",
       "<style scoped>\n",
       "    .dataframe tbody tr th:only-of-type {\n",
       "        vertical-align: middle;\n",
       "    }\n",
       "\n",
       "    .dataframe tbody tr th {\n",
       "        vertical-align: top;\n",
       "    }\n",
       "\n",
       "    .dataframe thead th {\n",
       "        text-align: right;\n",
       "    }\n",
       "</style>\n",
       "<table border=\"1\" class=\"dataframe\">\n",
       "  <thead>\n",
       "    <tr style=\"text-align: right;\">\n",
       "      <th></th>\n",
       "      <th>Company Name</th>\n",
       "      <th>Status</th>\n",
       "      <th>Ship Date</th>\n",
       "      <th>City</th>\n",
       "      <th>State</th>\n",
       "      <th>Zip</th>\n",
       "      <th>Shipping Service</th>\n",
       "      <th>Created Date</th>\n",
       "      <th>Weight</th>\n",
       "      <th>Item/Bottle Count</th>\n",
       "    </tr>\n",
       "  </thead>\n",
       "  <tbody>\n",
       "    <tr>\n",
       "      <th>15916</th>\n",
       "      <td>Ecom1</td>\n",
       "      <td>Shipped</td>\n",
       "      <td>6/23/2020</td>\n",
       "      <td>Gainesville</td>\n",
       "      <td>GA</td>\n",
       "      <td>30506</td>\n",
       "      <td>FEH</td>\n",
       "      <td>6/22/2020</td>\n",
       "      <td>39.0</td>\n",
       "      <td>12</td>\n",
       "    </tr>\n",
       "    <tr>\n",
       "      <th>15827</th>\n",
       "      <td>Ecom1</td>\n",
       "      <td>Shipped</td>\n",
       "      <td>6/23/2020</td>\n",
       "      <td>Sherman oaks</td>\n",
       "      <td>CA</td>\n",
       "      <td>91403</td>\n",
       "      <td>FXG</td>\n",
       "      <td>6/21/2020</td>\n",
       "      <td>10.5</td>\n",
       "      <td>3</td>\n",
       "    </tr>\n",
       "    <tr>\n",
       "      <th>4674</th>\n",
       "      <td>Ecom3</td>\n",
       "      <td>Delivered</td>\n",
       "      <td>6/8/2020</td>\n",
       "      <td>San Antonio</td>\n",
       "      <td>TX</td>\n",
       "      <td>78232</td>\n",
       "      <td>UPS</td>\n",
       "      <td>6/4/2020</td>\n",
       "      <td>21.5</td>\n",
       "      <td>6</td>\n",
       "    </tr>\n",
       "    <tr>\n",
       "      <th>8378</th>\n",
       "      <td>Ecom2</td>\n",
       "      <td>Shipped</td>\n",
       "      <td>6/19/2020</td>\n",
       "      <td>Apollo Beach</td>\n",
       "      <td>FL</td>\n",
       "      <td>33572</td>\n",
       "      <td>FEH</td>\n",
       "      <td>6/19/2020</td>\n",
       "      <td>7.0</td>\n",
       "      <td>1</td>\n",
       "    </tr>\n",
       "    <tr>\n",
       "      <th>15531</th>\n",
       "      <td>Ecom3</td>\n",
       "      <td>Delivered</td>\n",
       "      <td>6/15/2020</td>\n",
       "      <td>Pullman</td>\n",
       "      <td>WA</td>\n",
       "      <td>99163</td>\n",
       "      <td>UPS</td>\n",
       "      <td>6/14/2020</td>\n",
       "      <td>9.9</td>\n",
       "      <td>3</td>\n",
       "    </tr>\n",
       "  </tbody>\n",
       "</table>\n",
       "</div>"
      ],
      "text/plain": [
       "      Company Name     Status  Ship Date          City State    Zip  \\\n",
       "15916        Ecom1    Shipped  6/23/2020   Gainesville    GA  30506   \n",
       "15827        Ecom1    Shipped  6/23/2020  Sherman oaks    CA  91403   \n",
       "4674         Ecom3  Delivered   6/8/2020   San Antonio    TX  78232   \n",
       "8378         Ecom2    Shipped  6/19/2020  Apollo Beach    FL  33572   \n",
       "15531        Ecom3  Delivered  6/15/2020       Pullman    WA  99163   \n",
       "\n",
       "      Shipping Service Created Date  Weight  Item/Bottle Count  \n",
       "15916              FEH    6/22/2020    39.0                 12  \n",
       "15827              FXG    6/21/2020    10.5                  3  \n",
       "4674               UPS     6/4/2020    21.5                  6  \n",
       "8378               FEH    6/19/2020     7.0                  1  \n",
       "15531              UPS    6/14/2020     9.9                  3  "
      ]
     },
     "execution_count": 4,
     "metadata": {},
     "output_type": "execute_result"
    }
   ],
   "source": [
    "#See five random rows of data\n",
    "df_2020_06.sample(n=5)"
   ]
  },
  {
   "cell_type": "code",
   "execution_count": 5,
   "id": "a7bdb733",
   "metadata": {},
   "outputs": [
    {
     "data": {
      "text/html": [
       "<div>\n",
       "<style scoped>\n",
       "    .dataframe tbody tr th:only-of-type {\n",
       "        vertical-align: middle;\n",
       "    }\n",
       "\n",
       "    .dataframe tbody tr th {\n",
       "        vertical-align: top;\n",
       "    }\n",
       "\n",
       "    .dataframe thead th {\n",
       "        text-align: right;\n",
       "    }\n",
       "</style>\n",
       "<table border=\"1\" class=\"dataframe\">\n",
       "  <thead>\n",
       "    <tr style=\"text-align: right;\">\n",
       "      <th></th>\n",
       "      <th>Company Name</th>\n",
       "      <th>Status</th>\n",
       "      <th>Ship Date</th>\n",
       "      <th>City</th>\n",
       "      <th>State</th>\n",
       "      <th>Zip</th>\n",
       "      <th>Shipping Service</th>\n",
       "      <th>Created Date</th>\n",
       "      <th>Weight</th>\n",
       "      <th>Item/Bottle Count</th>\n",
       "    </tr>\n",
       "  </thead>\n",
       "  <tbody>\n",
       "    <tr>\n",
       "      <th>19451</th>\n",
       "      <td>Winery3</td>\n",
       "      <td>Delivered</td>\n",
       "      <td>6/26/2020</td>\n",
       "      <td>Sparks Glencoe</td>\n",
       "      <td>MD</td>\n",
       "      <td>21152</td>\n",
       "      <td>UPS</td>\n",
       "      <td>6/26/2020</td>\n",
       "      <td>10.0</td>\n",
       "      <td>3</td>\n",
       "    </tr>\n",
       "    <tr>\n",
       "      <th>19452</th>\n",
       "      <td>Winery3</td>\n",
       "      <td>Delivered</td>\n",
       "      <td>6/26/2020</td>\n",
       "      <td>New York</td>\n",
       "      <td>NY</td>\n",
       "      <td>10023</td>\n",
       "      <td>UPS</td>\n",
       "      <td>6/26/2020</td>\n",
       "      <td>19.5</td>\n",
       "      <td>6</td>\n",
       "    </tr>\n",
       "    <tr>\n",
       "      <th>19453</th>\n",
       "      <td>Winery3</td>\n",
       "      <td>Delivered</td>\n",
       "      <td>6/26/2020</td>\n",
       "      <td>Fairfax</td>\n",
       "      <td>VA</td>\n",
       "      <td>22030</td>\n",
       "      <td>UPS</td>\n",
       "      <td>6/26/2020</td>\n",
       "      <td>20.2</td>\n",
       "      <td>6</td>\n",
       "    </tr>\n",
       "    <tr>\n",
       "      <th>19454</th>\n",
       "      <td>Winery3</td>\n",
       "      <td>Delivered</td>\n",
       "      <td>7/2/2020</td>\n",
       "      <td>China Grove</td>\n",
       "      <td>NC</td>\n",
       "      <td>28023</td>\n",
       "      <td>UPS</td>\n",
       "      <td>7/2/2020</td>\n",
       "      <td>10.5</td>\n",
       "      <td>3</td>\n",
       "    </tr>\n",
       "    <tr>\n",
       "      <th>19455</th>\n",
       "      <td>Winery3</td>\n",
       "      <td>Delivered</td>\n",
       "      <td>7/2/2020</td>\n",
       "      <td>San Clemente</td>\n",
       "      <td>CA</td>\n",
       "      <td>92672</td>\n",
       "      <td>GSC</td>\n",
       "      <td>7/2/2020</td>\n",
       "      <td>10.5</td>\n",
       "      <td>3</td>\n",
       "    </tr>\n",
       "  </tbody>\n",
       "</table>\n",
       "</div>"
      ],
      "text/plain": [
       "      Company Name     Status  Ship Date            City State    Zip  \\\n",
       "19451      Winery3  Delivered  6/26/2020  Sparks Glencoe    MD  21152   \n",
       "19452      Winery3  Delivered  6/26/2020        New York    NY  10023   \n",
       "19453      Winery3  Delivered  6/26/2020         Fairfax    VA  22030   \n",
       "19454      Winery3  Delivered   7/2/2020     China Grove    NC  28023   \n",
       "19455      Winery3  Delivered   7/2/2020    San Clemente    CA  92672   \n",
       "\n",
       "      Shipping Service Created Date  Weight  Item/Bottle Count  \n",
       "19451              UPS    6/26/2020    10.0                  3  \n",
       "19452              UPS    6/26/2020    19.5                  6  \n",
       "19453              UPS    6/26/2020    20.2                  6  \n",
       "19454              UPS     7/2/2020    10.5                  3  \n",
       "19455              GSC     7/2/2020    10.5                  3  "
      ]
     },
     "execution_count": 5,
     "metadata": {},
     "output_type": "execute_result"
    }
   ],
   "source": [
    "#See the last rows of data\n",
    "df_2020_06.tail(5)"
   ]
  },
  {
   "cell_type": "code",
   "execution_count": 6,
   "id": "a820ba41",
   "metadata": {},
   "outputs": [
    {
     "data": {
      "text/plain": [
       "Index(['Company Name', 'Status', 'Ship Date', 'City', 'State', 'Zip',\n",
       "       'Shipping Service', 'Created Date', 'Weight', 'Item/Bottle Count'],\n",
       "      dtype='object')"
      ]
     },
     "execution_count": 6,
     "metadata": {},
     "output_type": "execute_result"
    }
   ],
   "source": [
    "df_2020_06.columns"
   ]
  },
  {
   "cell_type": "code",
   "execution_count": 7,
   "id": "7410d9e5",
   "metadata": {},
   "outputs": [
    {
     "name": "stdout",
     "output_type": "stream",
     "text": [
      "Number of Rows:  19456\n",
      "Number of Columns:  10\n"
     ]
    }
   ],
   "source": [
    "#Determine total rows for df_2020_06.\n",
    "df_2020_06_rows = len(df_2020_06.axes[0])\n",
    "df_2020_06_cols = len(df_2020_06.axes[1])\n",
    "print(\"Number of Rows: \", df_2020_06_rows)\n",
    "print(\"Number of Columns: \", df_2020_06_cols)"
   ]
  },
  {
   "cell_type": "code",
   "execution_count": 8,
   "id": "4caf57c3",
   "metadata": {},
   "outputs": [
    {
     "data": {
      "text/plain": [
       "Company Name         0\n",
       "Status               0\n",
       "Ship Date            0\n",
       "City                 0\n",
       "State                0\n",
       "Zip                  0\n",
       "Shipping Service     0\n",
       "Created Date         0\n",
       "Weight               0\n",
       "Item/Bottle Count    0\n",
       "dtype: int64"
      ]
     },
     "execution_count": 8,
     "metadata": {},
     "output_type": "execute_result"
    }
   ],
   "source": [
    "# Determine if there are any missing values in df_2020_06.\n",
    "df_2020_06.isnull().sum()"
   ]
  },
  {
   "cell_type": "code",
   "execution_count": 9,
   "id": "d2ad8510",
   "metadata": {},
   "outputs": [
    {
     "data": {
      "text/plain": [
       "Company Name          object\n",
       "Status                object\n",
       "Ship Date             object\n",
       "City                  object\n",
       "State                 object\n",
       "Zip                   object\n",
       "Shipping Service      object\n",
       "Created Date          object\n",
       "Weight               float64\n",
       "Item/Bottle Count      int64\n",
       "dtype: object"
      ]
     },
     "execution_count": 9,
     "metadata": {},
     "output_type": "execute_result"
    }
   ],
   "source": [
    "# Determine data types for df_2020_06.\n",
    "df_2020_06.dtypes"
   ]
  },
  {
   "cell_type": "code",
   "execution_count": 10,
   "id": "4061fbbf",
   "metadata": {},
   "outputs": [
    {
     "data": {
      "text/plain": [
       "Ecom3      8090\n",
       "Ecom2      7106\n",
       "Ecom1      3772\n",
       "Winery1     386\n",
       "Winery3      67\n",
       "Winery2      35\n",
       "Name: Company Name, dtype: int64"
      ]
     },
     "execution_count": 10,
     "metadata": {},
     "output_type": "execute_result"
    }
   ],
   "source": [
    "df_2020_06['Company Name'].value_counts()"
   ]
  },
  {
   "cell_type": "code",
   "execution_count": 11,
   "id": "aac39571",
   "metadata": {},
   "outputs": [
    {
     "data": {
      "text/plain": [
       "6/19/2020    7164\n",
       "6/15/2020    1468\n",
       "6/1/2020     1245\n",
       "6/22/2020    1156\n",
       "6/10/2020    1141\n",
       "6/8/2020     1082\n",
       "6/23/2020     714\n",
       "6/17/2020     676\n",
       "6/3/2020      578\n",
       "6/2/2020      562\n",
       "7/1/2020      554\n",
       "7/2/2020      516\n",
       "6/24/2020     459\n",
       "6/18/2020     365\n",
       "6/16/2020     341\n",
       "6/4/2020      251\n",
       "6/5/2020      209\n",
       "6/26/2020     207\n",
       "6/11/2020     201\n",
       "6/9/2020      154\n",
       "6/12/2020     151\n",
       "6/13/2020     131\n",
       "6/25/2020     131\n",
       "Name: Ship Date, dtype: int64"
      ]
     },
     "execution_count": 11,
     "metadata": {},
     "output_type": "execute_result"
    }
   ],
   "source": [
    "df_2020_06['Ship Date'].value_counts()"
   ]
  },
  {
   "cell_type": "code",
   "execution_count": 12,
   "id": "ff45ee9d",
   "metadata": {},
   "outputs": [
    {
     "data": {
      "text/plain": [
       "Shipped              10017\n",
       "Delivered             7777\n",
       "In Transit            1548\n",
       "Carrier Exception       94\n",
       "Delivery Attempt        20\n",
       "Name: Status, dtype: int64"
      ]
     },
     "execution_count": 12,
     "metadata": {},
     "output_type": "execute_result"
    }
   ],
   "source": [
    "df_2020_06['Status'].value_counts()"
   ]
  },
  {
   "cell_type": "code",
   "execution_count": 13,
   "id": "ae707cc4",
   "metadata": {},
   "outputs": [
    {
     "data": {
      "text/plain": [
       "New York          307\n",
       "Chicago           253\n",
       "Brooklyn          171\n",
       "Philadelphia      160\n",
       "Washington        142\n",
       "                 ... \n",
       "Poquoson            1\n",
       "Niskayuna           1\n",
       "Spotswood           1\n",
       "West Henrietta      1\n",
       "China Grove         1\n",
       "Name: City, Length: 5083, dtype: int64"
      ]
     },
     "execution_count": 13,
     "metadata": {},
     "output_type": "execute_result"
    }
   ],
   "source": [
    "df_2020_06['City'].value_counts()"
   ]
  },
  {
   "cell_type": "code",
   "execution_count": 14,
   "id": "a8718b4d",
   "metadata": {},
   "outputs": [
    {
     "data": {
      "text/plain": [
       "NY    2051\n",
       "CA    1819\n",
       "PA    1472\n",
       "FL    1453\n",
       "NJ    1121\n",
       "TX    1038\n",
       "IL     903\n",
       "MA     785\n",
       "VA     670\n",
       "OH     664\n",
       "MI     663\n",
       "GA     614\n",
       "MD     542\n",
       "NC     513\n",
       "CO     485\n",
       "CT     383\n",
       "WA     345\n",
       "IN     307\n",
       "TN     305\n",
       "AZ     271\n",
       "MN     265\n",
       "SC     249\n",
       "MO     249\n",
       "WI     240\n",
       "OR     174\n",
       "LA     173\n",
       "DC     141\n",
       "NH     141\n",
       "RI     134\n",
       "NV     120\n",
       "IA     113\n",
       "NE     110\n",
       "KS     109\n",
       "HI     105\n",
       "ME      91\n",
       "OK      90\n",
       "NM      74\n",
       "AR      69\n",
       "VT      57\n",
       "ID      57\n",
       "WV      56\n",
       "DE      54\n",
       "MT      42\n",
       "AK      40\n",
       "WY      29\n",
       "ND      26\n",
       "AL      22\n",
       "SD      22\n",
       "Name: State, dtype: int64"
      ]
     },
     "execution_count": 14,
     "metadata": {},
     "output_type": "execute_result"
    }
   ],
   "source": [
    "df_2020_06['State'].value_counts()"
   ]
  },
  {
   "cell_type": "code",
   "execution_count": 15,
   "id": "aba1ce28",
   "metadata": {},
   "outputs": [
    {
     "data": {
      "text/plain": [
       "33149    34\n",
       "10019    31\n",
       "60618    29\n",
       "60657    28\n",
       "19103    24\n",
       "         ..\n",
       "32310     1\n",
       "53916     1\n",
       "33776     1\n",
       "31326     1\n",
       "28023     1\n",
       "Name: Zip, Length: 7233, dtype: int64"
      ]
     },
     "execution_count": 15,
     "metadata": {},
     "output_type": "execute_result"
    }
   ],
   "source": [
    "df_2020_06['Zip'].value_counts()"
   ]
  },
  {
   "cell_type": "code",
   "execution_count": 16,
   "id": "85be0dcc",
   "metadata": {},
   "outputs": [
    {
     "data": {
      "text/plain": [
       "FEH     9136\n",
       "UPS     8893\n",
       "FXG     1048\n",
       "FEX      267\n",
       "UP2       28\n",
       "LSO1      23\n",
       "FXO       22\n",
       "GSC       14\n",
       "AZS       10\n",
       "UP3        7\n",
       "WCU        4\n",
       "UP1        3\n",
       "UPS7       1\n",
       "Name: Shipping Service, dtype: int64"
      ]
     },
     "execution_count": 16,
     "metadata": {},
     "output_type": "execute_result"
    }
   ],
   "source": [
    "df_2020_06['Shipping Service'].value_counts()"
   ]
  },
  {
   "cell_type": "code",
   "execution_count": 17,
   "id": "74be41f6",
   "metadata": {},
   "outputs": [
    {
     "data": {
      "text/plain": [
       "6/18/2020    4606\n",
       "6/19/2020    3016\n",
       "6/4/2020      668\n",
       "6/3/2020      657\n",
       "6/5/2020      575\n",
       "6/1/2020      564\n",
       "6/17/2020     559\n",
       "6/7/2020      538\n",
       "6/12/2020     525\n",
       "6/16/2020     513\n",
       "6/2/2020      510\n",
       "6/21/2020     474\n",
       "6/22/2020     458\n",
       "7/1/2020      458\n",
       "6/24/2020     384\n",
       "6/14/2020     382\n",
       "5/31/2020     373\n",
       "6/11/2020     372\n",
       "6/9/2020      344\n",
       "6/15/2020     341\n",
       "5/30/2020     329\n",
       "6/10/2020     323\n",
       "6/23/2020     322\n",
       "6/30/2020     317\n",
       "5/29/2020     296\n",
       "6/20/2020     241\n",
       "7/2/2020      223\n",
       "6/13/2020     218\n",
       "6/6/2020      217\n",
       "6/8/2020      207\n",
       "6/25/2020     103\n",
       "6/26/2020     101\n",
       "5/28/2020      41\n",
       "5/26/2020      40\n",
       "5/27/2020      35\n",
       "6/28/2020      23\n",
       "5/22/2020      23\n",
       "6/29/2020      17\n",
       "5/25/2020      14\n",
       "5/12/2020       9\n",
       "5/23/2020       6\n",
       "5/16/2020       5\n",
       "4/22/2020       4\n",
       "5/20/2020       4\n",
       "5/17/2020       3\n",
       "5/13/2020       3\n",
       "5/24/2020       3\n",
       "5/9/2020        2\n",
       "5/21/2020       2\n",
       "4/15/2020       2\n",
       "5/7/2020        1\n",
       "3/31/2020       1\n",
       "12/3/2019       1\n",
       "5/18/2020       1\n",
       "5/19/2020       1\n",
       "5/15/2020       1\n",
       "Name: Created Date, dtype: int64"
      ]
     },
     "execution_count": 17,
     "metadata": {},
     "output_type": "execute_result"
    }
   ],
   "source": [
    "df_2020_06['Created Date'].value_counts()\n",
    "#Ok to have dates from other months- Sometimes people will create an order and hold onto it until an adult is present to sign for delivery."
   ]
  },
  {
   "cell_type": "code",
   "execution_count": 18,
   "id": "34adbd2f",
   "metadata": {},
   "outputs": [
    {
     "data": {
      "text/plain": [
       "7.00     7427\n",
       "21.50    3856\n",
       "41.00    1356\n",
       "10.50    1278\n",
       "20.20    1215\n",
       "14.00    1036\n",
       "39.00     937\n",
       "9.90      480\n",
       "18.50     338\n",
       "29.00     268\n",
       "26.00     162\n",
       "10.00     146\n",
       "35.00     115\n",
       "27.00     111\n",
       "32.00     106\n",
       "3.35       93\n",
       "19.20      85\n",
       "4.00       47\n",
       "30.00      43\n",
       "24.00      42\n",
       "13.50      37\n",
       "19.00      37\n",
       "38.00      36\n",
       "20.50      28\n",
       "9.50       25\n",
       "37.00      22\n",
       "17.20      16\n",
       "11.50      15\n",
       "19.50      14\n",
       "20.00      14\n",
       "33.00      10\n",
       "36.00       8\n",
       "18.20       6\n",
       "13.00       6\n",
       "23.00       4\n",
       "13.20       4\n",
       "28.00       3\n",
       "2.00        3\n",
       "31.20       3\n",
       "6.00        2\n",
       "34.00       2\n",
       "22.20       2\n",
       "40.00       2\n",
       "14.20       1\n",
       "22.00       1\n",
       "42.00       1\n",
       "17.00       1\n",
       "5.00        1\n",
       "7.50        1\n",
       "29.20       1\n",
       "2.35        1\n",
       "12.20       1\n",
       "31.00       1\n",
       "16.20       1\n",
       "1.85        1\n",
       "3.00        1\n",
       "17.50       1\n",
       "8.20        1\n",
       "21.00       1\n",
       "Name: Weight, dtype: int64"
      ]
     },
     "execution_count": 18,
     "metadata": {},
     "output_type": "execute_result"
    }
   ],
   "source": [
    "df_2020_06['Weight'].value_counts()"
   ]
  },
  {
   "cell_type": "code",
   "execution_count": 19,
   "id": "73bd62e8",
   "metadata": {},
   "outputs": [
    {
     "data": {
      "text/plain": [
       "1     7285\n",
       "6     5058\n",
       "12    2299\n",
       "3     1885\n",
       "4     1202\n",
       "5      358\n",
       "8      344\n",
       "2      339\n",
       "7      326\n",
       "9      150\n",
       "10     126\n",
       "11      33\n",
       "14      23\n",
       "13      17\n",
       "24       3\n",
       "16       3\n",
       "15       3\n",
       "17       2\n",
       "Name: Item/Bottle Count, dtype: int64"
      ]
     },
     "execution_count": 19,
     "metadata": {},
     "output_type": "execute_result"
    }
   ],
   "source": [
    "df_2020_06['Item/Bottle Count'].value_counts()"
   ]
  },
  {
   "cell_type": "markdown",
   "id": "b28748d1",
   "metadata": {},
   "source": [
    "## Clean the Data"
   ]
  },
  {
   "cell_type": "code",
   "execution_count": 20,
   "id": "ae2074b6",
   "metadata": {},
   "outputs": [
    {
     "data": {
      "text/plain": [
       "Company Name          object\n",
       "Status                object\n",
       "Ship Date             object\n",
       "City                  object\n",
       "State                 object\n",
       "Zip                   object\n",
       "Shipping Service      object\n",
       "Created Date          object\n",
       "Weight               float64\n",
       "Item/Bottle Count    float64\n",
       "dtype: object"
      ]
     },
     "execution_count": 20,
     "metadata": {},
     "output_type": "execute_result"
    }
   ],
   "source": [
    "#Change [\"Item/Bottle Count\"] to float64 type in df_2020_06.\n",
    "df_2020_06[\"Item/Bottle Count\"]=df_2020_06[\"Item/Bottle Count\"].astype(float)\n",
    "df_2020_06.dtypes"
   ]
  },
  {
   "cell_type": "code",
   "execution_count": 21,
   "id": "2de5f1ce",
   "metadata": {},
   "outputs": [
    {
     "data": {
      "text/html": [
       "<div>\n",
       "<style scoped>\n",
       "    .dataframe tbody tr th:only-of-type {\n",
       "        vertical-align: middle;\n",
       "    }\n",
       "\n",
       "    .dataframe tbody tr th {\n",
       "        vertical-align: top;\n",
       "    }\n",
       "\n",
       "    .dataframe thead th {\n",
       "        text-align: right;\n",
       "    }\n",
       "</style>\n",
       "<table border=\"1\" class=\"dataframe\">\n",
       "  <thead>\n",
       "    <tr style=\"text-align: right;\">\n",
       "      <th></th>\n",
       "      <th>Company Name</th>\n",
       "      <th>Ship Date</th>\n",
       "      <th>City</th>\n",
       "      <th>State</th>\n",
       "      <th>Zip</th>\n",
       "      <th>Shipping Service</th>\n",
       "      <th>Created Date</th>\n",
       "      <th>Weight</th>\n",
       "      <th>Item/Bottle Count</th>\n",
       "    </tr>\n",
       "  </thead>\n",
       "  <tbody>\n",
       "    <tr>\n",
       "      <th>0</th>\n",
       "      <td>Ecom1</td>\n",
       "      <td>6/2/2020</td>\n",
       "      <td>Denver</td>\n",
       "      <td>CO</td>\n",
       "      <td>80220</td>\n",
       "      <td>FEH</td>\n",
       "      <td>6/1/2020</td>\n",
       "      <td>20.2</td>\n",
       "      <td>6.0</td>\n",
       "    </tr>\n",
       "    <tr>\n",
       "      <th>1</th>\n",
       "      <td>Ecom1</td>\n",
       "      <td>6/2/2020</td>\n",
       "      <td>Baltimore</td>\n",
       "      <td>MD</td>\n",
       "      <td>21214</td>\n",
       "      <td>FEH</td>\n",
       "      <td>5/22/2020</td>\n",
       "      <td>39.0</td>\n",
       "      <td>12.0</td>\n",
       "    </tr>\n",
       "    <tr>\n",
       "      <th>2</th>\n",
       "      <td>Ecom1</td>\n",
       "      <td>6/2/2020</td>\n",
       "      <td>Baltimore</td>\n",
       "      <td>MD</td>\n",
       "      <td>21214</td>\n",
       "      <td>FEH</td>\n",
       "      <td>5/22/2020</td>\n",
       "      <td>20.2</td>\n",
       "      <td>6.0</td>\n",
       "    </tr>\n",
       "    <tr>\n",
       "      <th>3</th>\n",
       "      <td>Ecom1</td>\n",
       "      <td>6/3/2020</td>\n",
       "      <td>Temecula</td>\n",
       "      <td>CA</td>\n",
       "      <td>92591</td>\n",
       "      <td>FEH</td>\n",
       "      <td>5/27/2020</td>\n",
       "      <td>10.5</td>\n",
       "      <td>3.0</td>\n",
       "    </tr>\n",
       "    <tr>\n",
       "      <th>4</th>\n",
       "      <td>Ecom1</td>\n",
       "      <td>6/3/2020</td>\n",
       "      <td>Highlands Ranch</td>\n",
       "      <td>CO</td>\n",
       "      <td>80130</td>\n",
       "      <td>FEH</td>\n",
       "      <td>5/27/2020</td>\n",
       "      <td>10.5</td>\n",
       "      <td>3.0</td>\n",
       "    </tr>\n",
       "    <tr>\n",
       "      <th>...</th>\n",
       "      <td>...</td>\n",
       "      <td>...</td>\n",
       "      <td>...</td>\n",
       "      <td>...</td>\n",
       "      <td>...</td>\n",
       "      <td>...</td>\n",
       "      <td>...</td>\n",
       "      <td>...</td>\n",
       "      <td>...</td>\n",
       "    </tr>\n",
       "    <tr>\n",
       "      <th>19451</th>\n",
       "      <td>Winery3</td>\n",
       "      <td>6/26/2020</td>\n",
       "      <td>Sparks Glencoe</td>\n",
       "      <td>MD</td>\n",
       "      <td>21152</td>\n",
       "      <td>UPS</td>\n",
       "      <td>6/26/2020</td>\n",
       "      <td>10.0</td>\n",
       "      <td>3.0</td>\n",
       "    </tr>\n",
       "    <tr>\n",
       "      <th>19452</th>\n",
       "      <td>Winery3</td>\n",
       "      <td>6/26/2020</td>\n",
       "      <td>New York</td>\n",
       "      <td>NY</td>\n",
       "      <td>10023</td>\n",
       "      <td>UPS</td>\n",
       "      <td>6/26/2020</td>\n",
       "      <td>19.5</td>\n",
       "      <td>6.0</td>\n",
       "    </tr>\n",
       "    <tr>\n",
       "      <th>19453</th>\n",
       "      <td>Winery3</td>\n",
       "      <td>6/26/2020</td>\n",
       "      <td>Fairfax</td>\n",
       "      <td>VA</td>\n",
       "      <td>22030</td>\n",
       "      <td>UPS</td>\n",
       "      <td>6/26/2020</td>\n",
       "      <td>20.2</td>\n",
       "      <td>6.0</td>\n",
       "    </tr>\n",
       "    <tr>\n",
       "      <th>19454</th>\n",
       "      <td>Winery3</td>\n",
       "      <td>7/2/2020</td>\n",
       "      <td>China Grove</td>\n",
       "      <td>NC</td>\n",
       "      <td>28023</td>\n",
       "      <td>UPS</td>\n",
       "      <td>7/2/2020</td>\n",
       "      <td>10.5</td>\n",
       "      <td>3.0</td>\n",
       "    </tr>\n",
       "    <tr>\n",
       "      <th>19455</th>\n",
       "      <td>Winery3</td>\n",
       "      <td>7/2/2020</td>\n",
       "      <td>San Clemente</td>\n",
       "      <td>CA</td>\n",
       "      <td>92672</td>\n",
       "      <td>GSC</td>\n",
       "      <td>7/2/2020</td>\n",
       "      <td>10.5</td>\n",
       "      <td>3.0</td>\n",
       "    </tr>\n",
       "  </tbody>\n",
       "</table>\n",
       "<p>19456 rows × 9 columns</p>\n",
       "</div>"
      ],
      "text/plain": [
       "      Company Name  Ship Date             City State    Zip Shipping Service  \\\n",
       "0            Ecom1   6/2/2020           Denver    CO  80220              FEH   \n",
       "1            Ecom1   6/2/2020        Baltimore    MD  21214              FEH   \n",
       "2            Ecom1   6/2/2020        Baltimore    MD  21214              FEH   \n",
       "3            Ecom1   6/3/2020         Temecula    CA  92591              FEH   \n",
       "4            Ecom1   6/3/2020  Highlands Ranch    CO  80130              FEH   \n",
       "...            ...        ...              ...   ...    ...              ...   \n",
       "19451      Winery3  6/26/2020   Sparks Glencoe    MD  21152              UPS   \n",
       "19452      Winery3  6/26/2020         New York    NY  10023              UPS   \n",
       "19453      Winery3  6/26/2020          Fairfax    VA  22030              UPS   \n",
       "19454      Winery3   7/2/2020      China Grove    NC  28023              UPS   \n",
       "19455      Winery3   7/2/2020     San Clemente    CA  92672              GSC   \n",
       "\n",
       "      Created Date  Weight  Item/Bottle Count  \n",
       "0         6/1/2020    20.2                6.0  \n",
       "1        5/22/2020    39.0               12.0  \n",
       "2        5/22/2020    20.2                6.0  \n",
       "3        5/27/2020    10.5                3.0  \n",
       "4        5/27/2020    10.5                3.0  \n",
       "...            ...     ...                ...  \n",
       "19451    6/26/2020    10.0                3.0  \n",
       "19452    6/26/2020    19.5                6.0  \n",
       "19453    6/26/2020    20.2                6.0  \n",
       "19454     7/2/2020    10.5                3.0  \n",
       "19455     7/2/2020    10.5                3.0  \n",
       "\n",
       "[19456 rows x 9 columns]"
      ]
     },
     "execution_count": 21,
     "metadata": {},
     "output_type": "execute_result"
    }
   ],
   "source": [
    "#Remove \"Status\" column from df_2020_06.\n",
    "df_2020_06 = df_2020_06.drop('Status', axis=1)\n",
    "df_2020_06"
   ]
  },
  {
   "cell_type": "code",
   "execution_count": 22,
   "id": "0374b7d7",
   "metadata": {},
   "outputs": [],
   "source": [
    "# Drop the NaNs for df_2020_06.\n",
    "df_2020_06 = df_2020_06.dropna()"
   ]
  },
  {
   "cell_type": "code",
   "execution_count": null,
   "id": "2baef917",
   "metadata": {},
   "outputs": [],
   "source": [
    "df_2020_06=df_2020_06.reset_index()\n",
    "df_2020_06"
   ]
  },
  {
   "cell_type": "markdown",
   "id": "b54ac18d",
   "metadata": {},
   "source": [
    "## Confirm Changes"
   ]
  },
  {
   "cell_type": "code",
   "execution_count": 23,
   "id": "717b65ec",
   "metadata": {},
   "outputs": [
    {
     "data": {
      "text/html": [
       "<div>\n",
       "<style scoped>\n",
       "    .dataframe tbody tr th:only-of-type {\n",
       "        vertical-align: middle;\n",
       "    }\n",
       "\n",
       "    .dataframe tbody tr th {\n",
       "        vertical-align: top;\n",
       "    }\n",
       "\n",
       "    .dataframe thead th {\n",
       "        text-align: right;\n",
       "    }\n",
       "</style>\n",
       "<table border=\"1\" class=\"dataframe\">\n",
       "  <thead>\n",
       "    <tr style=\"text-align: right;\">\n",
       "      <th></th>\n",
       "      <th>Company Name</th>\n",
       "      <th>Ship Date</th>\n",
       "      <th>City</th>\n",
       "      <th>State</th>\n",
       "      <th>Zip</th>\n",
       "      <th>Shipping Service</th>\n",
       "      <th>Created Date</th>\n",
       "      <th>Weight</th>\n",
       "      <th>Item/Bottle Count</th>\n",
       "    </tr>\n",
       "  </thead>\n",
       "  <tbody>\n",
       "    <tr>\n",
       "      <th>15365</th>\n",
       "      <td>Ecom3</td>\n",
       "      <td>6/17/2020</td>\n",
       "      <td>Glen Mills</td>\n",
       "      <td>PA</td>\n",
       "      <td>19342</td>\n",
       "      <td>UPS</td>\n",
       "      <td>6/16/2020</td>\n",
       "      <td>21.5</td>\n",
       "      <td>6.0</td>\n",
       "    </tr>\n",
       "    <tr>\n",
       "      <th>7766</th>\n",
       "      <td>Ecom2</td>\n",
       "      <td>6/19/2020</td>\n",
       "      <td>Montgomery</td>\n",
       "      <td>TX</td>\n",
       "      <td>77316</td>\n",
       "      <td>FEH</td>\n",
       "      <td>6/19/2020</td>\n",
       "      <td>7.0</td>\n",
       "      <td>1.0</td>\n",
       "    </tr>\n",
       "    <tr>\n",
       "      <th>18180</th>\n",
       "      <td>Ecom3</td>\n",
       "      <td>6/22/2020</td>\n",
       "      <td>Midlothian</td>\n",
       "      <td>VA</td>\n",
       "      <td>23113</td>\n",
       "      <td>UPS</td>\n",
       "      <td>6/18/2020</td>\n",
       "      <td>21.5</td>\n",
       "      <td>6.0</td>\n",
       "    </tr>\n",
       "    <tr>\n",
       "      <th>1935</th>\n",
       "      <td>Ecom3</td>\n",
       "      <td>6/1/2020</td>\n",
       "      <td>Richmond</td>\n",
       "      <td>VA</td>\n",
       "      <td>23221</td>\n",
       "      <td>UPS</td>\n",
       "      <td>5/30/2020</td>\n",
       "      <td>14.0</td>\n",
       "      <td>4.0</td>\n",
       "    </tr>\n",
       "    <tr>\n",
       "      <th>16016</th>\n",
       "      <td>Ecom1</td>\n",
       "      <td>6/24/2020</td>\n",
       "      <td>Marietta</td>\n",
       "      <td>GA</td>\n",
       "      <td>30062</td>\n",
       "      <td>FEH</td>\n",
       "      <td>6/24/2020</td>\n",
       "      <td>20.2</td>\n",
       "      <td>6.0</td>\n",
       "    </tr>\n",
       "  </tbody>\n",
       "</table>\n",
       "</div>"
      ],
      "text/plain": [
       "      Company Name  Ship Date        City State    Zip Shipping Service  \\\n",
       "15365        Ecom3  6/17/2020  Glen Mills    PA  19342              UPS   \n",
       "7766         Ecom2  6/19/2020  Montgomery    TX  77316              FEH   \n",
       "18180        Ecom3  6/22/2020  Midlothian    VA  23113              UPS   \n",
       "1935         Ecom3   6/1/2020    Richmond    VA  23221              UPS   \n",
       "16016        Ecom1  6/24/2020    Marietta    GA  30062              FEH   \n",
       "\n",
       "      Created Date  Weight  Item/Bottle Count  \n",
       "15365    6/16/2020    21.5                6.0  \n",
       "7766     6/19/2020     7.0                1.0  \n",
       "18180    6/18/2020    21.5                6.0  \n",
       "1935     5/30/2020    14.0                4.0  \n",
       "16016    6/24/2020    20.2                6.0  "
      ]
     },
     "execution_count": 23,
     "metadata": {},
     "output_type": "execute_result"
    }
   ],
   "source": [
    "#See five random rows of data\n",
    "df_2020_06.sample(n=5)"
   ]
  },
  {
   "cell_type": "code",
   "execution_count": 24,
   "id": "2f59ad5f",
   "metadata": {},
   "outputs": [
    {
     "name": "stdout",
     "output_type": "stream",
     "text": [
      "Number of Rows:  19456\n",
      "Number of Columns:  9\n"
     ]
    }
   ],
   "source": [
    "#Determine total rows for df_2020_06.\n",
    "df_2020_06_rows = len(df_2020_06.axes[0])\n",
    "df_2020_06_cols = len(df_2020_06.axes[1])\n",
    "print(\"Number of Rows: \", df_2020_06_rows)\n",
    "print(\"Number of Columns: \", df_2020_06_cols)"
   ]
  },
  {
   "cell_type": "markdown",
   "id": "625b4837",
   "metadata": {},
   "source": [
    "## Export Cleaned df to .CSV"
   ]
  },
  {
   "cell_type": "code",
   "execution_count": 25,
   "id": "f5a7980c",
   "metadata": {},
   "outputs": [],
   "source": [
    "#Export df_2020_06 to .csv\n",
    "df_2020_06.to_csv('../cleaned_months_2020/Clean_2020_06.csv') "
   ]
  },
  {
   "cell_type": "code",
   "execution_count": null,
   "id": "aafdefb9",
   "metadata": {},
   "outputs": [],
   "source": []
  }
 ],
 "metadata": {
  "kernelspec": {
   "display_name": "Python 3 (ipykernel)",
   "language": "python",
   "name": "python3"
  },
  "language_info": {
   "codemirror_mode": {
    "name": "ipython",
    "version": 3
   },
   "file_extension": ".py",
   "mimetype": "text/x-python",
   "name": "python",
   "nbconvert_exporter": "python",
   "pygments_lexer": "ipython3",
   "version": "3.7.13"
  }
 },
 "nbformat": 4,
 "nbformat_minor": 5
}
