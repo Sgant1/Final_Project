{
 "cells": [
  {
   "cell_type": "code",
   "execution_count": 1,
   "id": "1f30ec89",
   "metadata": {},
   "outputs": [],
   "source": [
    "#Pandas library to create DataFrames\n",
    "import pandas as pd\n",
    "#NumPy library for converting data types\n",
    "import numpy as np"
   ]
  },
  {
   "cell_type": "code",
   "execution_count": 2,
   "id": "7d4569c3",
   "metadata": {},
   "outputs": [],
   "source": [
    "# Files to load\n",
    "load_2020_11 = \"../../2020_Data/2020.11.csv\""
   ]
  },
  {
   "cell_type": "code",
   "execution_count": 3,
   "id": "5bf26e77",
   "metadata": {},
   "outputs": [
    {
     "data": {
      "text/html": [
       "<div>\n",
       "<style scoped>\n",
       "    .dataframe tbody tr th:only-of-type {\n",
       "        vertical-align: middle;\n",
       "    }\n",
       "\n",
       "    .dataframe tbody tr th {\n",
       "        vertical-align: top;\n",
       "    }\n",
       "\n",
       "    .dataframe thead th {\n",
       "        text-align: right;\n",
       "    }\n",
       "</style>\n",
       "<table border=\"1\" class=\"dataframe\">\n",
       "  <thead>\n",
       "    <tr style=\"text-align: right;\">\n",
       "      <th></th>\n",
       "      <th>Company Name</th>\n",
       "      <th>Status</th>\n",
       "      <th>Ship Date</th>\n",
       "      <th>City</th>\n",
       "      <th>State</th>\n",
       "      <th>Zip</th>\n",
       "      <th>Shipping Service</th>\n",
       "      <th>Created Date</th>\n",
       "      <th>Weight</th>\n",
       "      <th>Item/Bottle Count</th>\n",
       "    </tr>\n",
       "  </thead>\n",
       "  <tbody>\n",
       "    <tr>\n",
       "      <th>0</th>\n",
       "      <td>WAN</td>\n",
       "      <td>Delivered</td>\n",
       "      <td>11/2/20</td>\n",
       "      <td>Topanga</td>\n",
       "      <td>CA</td>\n",
       "      <td>90290</td>\n",
       "      <td>FEH</td>\n",
       "      <td>10/30/20</td>\n",
       "      <td>6.5</td>\n",
       "      <td>1</td>\n",
       "    </tr>\n",
       "    <tr>\n",
       "      <th>1</th>\n",
       "      <td>WAN</td>\n",
       "      <td>Delivered</td>\n",
       "      <td>11/2/20</td>\n",
       "      <td>Los Angeles</td>\n",
       "      <td>CA</td>\n",
       "      <td>90012</td>\n",
       "      <td>FEH</td>\n",
       "      <td>10/30/20</td>\n",
       "      <td>6.5</td>\n",
       "      <td>1</td>\n",
       "    </tr>\n",
       "    <tr>\n",
       "      <th>2</th>\n",
       "      <td>WAN</td>\n",
       "      <td>Delivered</td>\n",
       "      <td>11/2/20</td>\n",
       "      <td>La Verne</td>\n",
       "      <td>CA</td>\n",
       "      <td>91750</td>\n",
       "      <td>FEH</td>\n",
       "      <td>10/30/20</td>\n",
       "      <td>6.5</td>\n",
       "      <td>1</td>\n",
       "    </tr>\n",
       "    <tr>\n",
       "      <th>3</th>\n",
       "      <td>WAN</td>\n",
       "      <td>Delivered</td>\n",
       "      <td>11/2/20</td>\n",
       "      <td>Lancaster</td>\n",
       "      <td>CA</td>\n",
       "      <td>93536</td>\n",
       "      <td>FEH</td>\n",
       "      <td>10/30/20</td>\n",
       "      <td>6.5</td>\n",
       "      <td>1</td>\n",
       "    </tr>\n",
       "    <tr>\n",
       "      <th>4</th>\n",
       "      <td>WAN</td>\n",
       "      <td>Delivered</td>\n",
       "      <td>11/2/20</td>\n",
       "      <td>Reseda</td>\n",
       "      <td>CA</td>\n",
       "      <td>91335</td>\n",
       "      <td>FEH</td>\n",
       "      <td>10/30/20</td>\n",
       "      <td>6.5</td>\n",
       "      <td>1</td>\n",
       "    </tr>\n",
       "  </tbody>\n",
       "</table>\n",
       "</div>"
      ],
      "text/plain": [
       "  Company Name     Status Ship Date         City State    Zip  \\\n",
       "0          WAN  Delivered   11/2/20      Topanga    CA  90290   \n",
       "1          WAN  Delivered   11/2/20  Los Angeles    CA  90012   \n",
       "2          WAN  Delivered   11/2/20     La Verne    CA  91750   \n",
       "3          WAN  Delivered   11/2/20    Lancaster    CA  93536   \n",
       "4          WAN  Delivered   11/2/20       Reseda    CA  91335   \n",
       "\n",
       "  Shipping Service Created Date  Weight  Item/Bottle Count  \n",
       "0              FEH     10/30/20     6.5                  1  \n",
       "1              FEH     10/30/20     6.5                  1  \n",
       "2              FEH     10/30/20     6.5                  1  \n",
       "3              FEH     10/30/20     6.5                  1  \n",
       "4              FEH     10/30/20     6.5                  1  "
      ]
     },
     "execution_count": 3,
     "metadata": {},
     "output_type": "execute_result"
    }
   ],
   "source": [
    "# Read the November CSV into a DataFrame\n",
    "#Had to open each file in excel and save it as a .csv file instead of an .xlsm file in order for the encryption to be read properly.\n",
    "df_2020_11 = pd.read_csv(load_2020_11)\n",
    "df_2020_11.head()"
   ]
  },
  {
   "cell_type": "markdown",
   "id": "175df6a6",
   "metadata": {},
   "source": [
    "## Inspect the Data"
   ]
  },
  {
   "cell_type": "code",
   "execution_count": 4,
   "id": "2cdb2387",
   "metadata": {},
   "outputs": [
    {
     "data": {
      "text/html": [
       "<div>\n",
       "<style scoped>\n",
       "    .dataframe tbody tr th:only-of-type {\n",
       "        vertical-align: middle;\n",
       "    }\n",
       "\n",
       "    .dataframe tbody tr th {\n",
       "        vertical-align: top;\n",
       "    }\n",
       "\n",
       "    .dataframe thead th {\n",
       "        text-align: right;\n",
       "    }\n",
       "</style>\n",
       "<table border=\"1\" class=\"dataframe\">\n",
       "  <thead>\n",
       "    <tr style=\"text-align: right;\">\n",
       "      <th></th>\n",
       "      <th>Company Name</th>\n",
       "      <th>Status</th>\n",
       "      <th>Ship Date</th>\n",
       "      <th>City</th>\n",
       "      <th>State</th>\n",
       "      <th>Zip</th>\n",
       "      <th>Shipping Service</th>\n",
       "      <th>Created Date</th>\n",
       "      <th>Weight</th>\n",
       "      <th>Item/Bottle Count</th>\n",
       "    </tr>\n",
       "  </thead>\n",
       "  <tbody>\n",
       "    <tr>\n",
       "      <th>7617</th>\n",
       "      <td>SBG</td>\n",
       "      <td>Delivered</td>\n",
       "      <td>11/9/20</td>\n",
       "      <td>New Braunfels</td>\n",
       "      <td>TX</td>\n",
       "      <td>78132</td>\n",
       "      <td>UPS</td>\n",
       "      <td>11/7/20</td>\n",
       "      <td>21.5</td>\n",
       "      <td>6</td>\n",
       "    </tr>\n",
       "    <tr>\n",
       "      <th>19062</th>\n",
       "      <td>SBG</td>\n",
       "      <td>Delivered</td>\n",
       "      <td>11/24/20</td>\n",
       "      <td>Rocklin</td>\n",
       "      <td>CA</td>\n",
       "      <td>95677</td>\n",
       "      <td>UPS</td>\n",
       "      <td>11/23/20</td>\n",
       "      <td>9.9</td>\n",
       "      <td>3</td>\n",
       "    </tr>\n",
       "    <tr>\n",
       "      <th>15942</th>\n",
       "      <td>Amazing Clubs</td>\n",
       "      <td>Delivered</td>\n",
       "      <td>11/20/20</td>\n",
       "      <td>Simi Valley</td>\n",
       "      <td>CA</td>\n",
       "      <td>93063</td>\n",
       "      <td>UPS</td>\n",
       "      <td>11/18/20</td>\n",
       "      <td>7.0</td>\n",
       "      <td>2</td>\n",
       "    </tr>\n",
       "    <tr>\n",
       "      <th>7337</th>\n",
       "      <td>SBG</td>\n",
       "      <td>In Transit</td>\n",
       "      <td>11/13/20</td>\n",
       "      <td>Naperville</td>\n",
       "      <td>IL</td>\n",
       "      <td>60565</td>\n",
       "      <td>UPS</td>\n",
       "      <td>11/12/20</td>\n",
       "      <td>38.0</td>\n",
       "      <td>11</td>\n",
       "    </tr>\n",
       "    <tr>\n",
       "      <th>11377</th>\n",
       "      <td>Amazing Clubs</td>\n",
       "      <td>Delivered</td>\n",
       "      <td>11/19/20</td>\n",
       "      <td>Vernon</td>\n",
       "      <td>TX</td>\n",
       "      <td>76384</td>\n",
       "      <td>FEH</td>\n",
       "      <td>11/18/20</td>\n",
       "      <td>7.0</td>\n",
       "      <td>2</td>\n",
       "    </tr>\n",
       "  </tbody>\n",
       "</table>\n",
       "</div>"
      ],
      "text/plain": [
       "        Company Name      Status Ship Date           City State    Zip  \\\n",
       "7617             SBG   Delivered   11/9/20  New Braunfels    TX  78132   \n",
       "19062            SBG   Delivered  11/24/20        Rocklin    CA  95677   \n",
       "15942  Amazing Clubs   Delivered  11/20/20    Simi Valley    CA  93063   \n",
       "7337             SBG  In Transit  11/13/20     Naperville    IL  60565   \n",
       "11377  Amazing Clubs   Delivered  11/19/20         Vernon    TX  76384   \n",
       "\n",
       "      Shipping Service Created Date  Weight  Item/Bottle Count  \n",
       "7617               UPS      11/7/20    21.5                  6  \n",
       "19062              UPS     11/23/20     9.9                  3  \n",
       "15942              UPS     11/18/20     7.0                  2  \n",
       "7337               UPS     11/12/20    38.0                 11  \n",
       "11377              FEH     11/18/20     7.0                  2  "
      ]
     },
     "execution_count": 4,
     "metadata": {},
     "output_type": "execute_result"
    }
   ],
   "source": [
    "#See five random rows of data\n",
    "df_2020_11.sample(n=5)"
   ]
  },
  {
   "cell_type": "code",
   "execution_count": 5,
   "id": "a7bdb733",
   "metadata": {},
   "outputs": [
    {
     "data": {
      "text/html": [
       "<div>\n",
       "<style scoped>\n",
       "    .dataframe tbody tr th:only-of-type {\n",
       "        vertical-align: middle;\n",
       "    }\n",
       "\n",
       "    .dataframe tbody tr th {\n",
       "        vertical-align: top;\n",
       "    }\n",
       "\n",
       "    .dataframe thead th {\n",
       "        text-align: right;\n",
       "    }\n",
       "</style>\n",
       "<table border=\"1\" class=\"dataframe\">\n",
       "  <thead>\n",
       "    <tr style=\"text-align: right;\">\n",
       "      <th></th>\n",
       "      <th>Company Name</th>\n",
       "      <th>Status</th>\n",
       "      <th>Ship Date</th>\n",
       "      <th>City</th>\n",
       "      <th>State</th>\n",
       "      <th>Zip</th>\n",
       "      <th>Shipping Service</th>\n",
       "      <th>Created Date</th>\n",
       "      <th>Weight</th>\n",
       "      <th>Item/Bottle Count</th>\n",
       "    </tr>\n",
       "  </thead>\n",
       "  <tbody>\n",
       "    <tr>\n",
       "      <th>22806</th>\n",
       "      <td>SBG</td>\n",
       "      <td>In Transit</td>\n",
       "      <td>11/30/20</td>\n",
       "      <td>West Newbury</td>\n",
       "      <td>MA</td>\n",
       "      <td>1985</td>\n",
       "      <td>FEH</td>\n",
       "      <td>11/28/20</td>\n",
       "      <td>26.0</td>\n",
       "      <td>7</td>\n",
       "    </tr>\n",
       "    <tr>\n",
       "      <th>22807</th>\n",
       "      <td>SBG</td>\n",
       "      <td>Shipped</td>\n",
       "      <td>11/30/20</td>\n",
       "      <td>Brooklyn</td>\n",
       "      <td>NY</td>\n",
       "      <td>11222</td>\n",
       "      <td>FXG</td>\n",
       "      <td>11/28/20</td>\n",
       "      <td>21.5</td>\n",
       "      <td>6</td>\n",
       "    </tr>\n",
       "    <tr>\n",
       "      <th>22808</th>\n",
       "      <td>SBG</td>\n",
       "      <td>Shipped</td>\n",
       "      <td>11/30/20</td>\n",
       "      <td>San Diego</td>\n",
       "      <td>CA</td>\n",
       "      <td>92130</td>\n",
       "      <td>UPS</td>\n",
       "      <td>11/27/20</td>\n",
       "      <td>39.0</td>\n",
       "      <td>12</td>\n",
       "    </tr>\n",
       "    <tr>\n",
       "      <th>22809</th>\n",
       "      <td>SBG</td>\n",
       "      <td>Shipped</td>\n",
       "      <td>11/30/20</td>\n",
       "      <td>San Diego</td>\n",
       "      <td>CA</td>\n",
       "      <td>92130</td>\n",
       "      <td>UPS</td>\n",
       "      <td>11/27/20</td>\n",
       "      <td>21.5</td>\n",
       "      <td>6</td>\n",
       "    </tr>\n",
       "    <tr>\n",
       "      <th>22810</th>\n",
       "      <td>SBG</td>\n",
       "      <td>In Transit</td>\n",
       "      <td>11/30/20</td>\n",
       "      <td>Chagrin Falls</td>\n",
       "      <td>OH</td>\n",
       "      <td>44023</td>\n",
       "      <td>UPS</td>\n",
       "      <td>11/28/20</td>\n",
       "      <td>21.5</td>\n",
       "      <td>6</td>\n",
       "    </tr>\n",
       "  </tbody>\n",
       "</table>\n",
       "</div>"
      ],
      "text/plain": [
       "      Company Name      Status Ship Date           City State    Zip  \\\n",
       "22806          SBG  In Transit  11/30/20   West Newbury    MA   1985   \n",
       "22807          SBG     Shipped  11/30/20       Brooklyn    NY  11222   \n",
       "22808          SBG     Shipped  11/30/20      San Diego    CA  92130   \n",
       "22809          SBG     Shipped  11/30/20      San Diego    CA  92130   \n",
       "22810          SBG  In Transit  11/30/20  Chagrin Falls    OH  44023   \n",
       "\n",
       "      Shipping Service Created Date  Weight  Item/Bottle Count  \n",
       "22806              FEH     11/28/20    26.0                  7  \n",
       "22807              FXG     11/28/20    21.5                  6  \n",
       "22808              UPS     11/27/20    39.0                 12  \n",
       "22809              UPS     11/27/20    21.5                  6  \n",
       "22810              UPS     11/28/20    21.5                  6  "
      ]
     },
     "execution_count": 5,
     "metadata": {},
     "output_type": "execute_result"
    }
   ],
   "source": [
    "#See the last rows of data\n",
    "df_2020_11.tail(5)"
   ]
  },
  {
   "cell_type": "code",
   "execution_count": 6,
   "id": "a820ba41",
   "metadata": {},
   "outputs": [
    {
     "data": {
      "text/plain": [
       "Index(['Company Name', 'Status', 'Ship Date', 'City', 'State', 'Zip',\n",
       "       'Shipping Service', 'Created Date', 'Weight', 'Item/Bottle Count'],\n",
       "      dtype='object')"
      ]
     },
     "execution_count": 6,
     "metadata": {},
     "output_type": "execute_result"
    }
   ],
   "source": [
    "df_2020_11.columns"
   ]
  },
  {
   "cell_type": "code",
   "execution_count": 7,
   "id": "7410d9e5",
   "metadata": {},
   "outputs": [
    {
     "name": "stdout",
     "output_type": "stream",
     "text": [
      "Number of Rows:  22811\n",
      "Number of Columns:  10\n"
     ]
    }
   ],
   "source": [
    "#Determine total rows for df_2020_11.\n",
    "df_2020_11_rows = len(df_2020_11.axes[0])\n",
    "df_2020_11_cols = len(df_2020_11.axes[1])\n",
    "print(\"Number of Rows: \", df_2020_11_rows)\n",
    "print(\"Number of Columns: \", df_2020_11_cols)"
   ]
  },
  {
   "cell_type": "code",
   "execution_count": 8,
   "id": "4caf57c3",
   "metadata": {},
   "outputs": [
    {
     "data": {
      "text/plain": [
       "Company Name         0\n",
       "Status               0\n",
       "Ship Date            0\n",
       "City                 0\n",
       "State                0\n",
       "Zip                  0\n",
       "Shipping Service     0\n",
       "Created Date         0\n",
       "Weight               0\n",
       "Item/Bottle Count    0\n",
       "dtype: int64"
      ]
     },
     "execution_count": 8,
     "metadata": {},
     "output_type": "execute_result"
    }
   ],
   "source": [
    "# Determine if there are any missing values in df_2020_11.\n",
    "df_2020_11.isnull().sum()"
   ]
  },
  {
   "cell_type": "code",
   "execution_count": 9,
   "id": "d2ad8510",
   "metadata": {},
   "outputs": [
    {
     "data": {
      "text/plain": [
       "Company Name          object\n",
       "Status                object\n",
       "Ship Date             object\n",
       "City                  object\n",
       "State                 object\n",
       "Zip                   object\n",
       "Shipping Service      object\n",
       "Created Date          object\n",
       "Weight               float64\n",
       "Item/Bottle Count      int64\n",
       "dtype: object"
      ]
     },
     "execution_count": 9,
     "metadata": {},
     "output_type": "execute_result"
    }
   ],
   "source": [
    "# Determine data types for df_2020_11.\n",
    "df_2020_11.dtypes"
   ]
  },
  {
   "cell_type": "code",
   "execution_count": 10,
   "id": "4061fbbf",
   "metadata": {},
   "outputs": [
    {
     "data": {
      "text/plain": [
       "SBG              8888\n",
       "Amazing Clubs    7206\n",
       "WAN              3485\n",
       "RBV              3051\n",
       "HFV               181\n",
       "Name: Company Name, dtype: int64"
      ]
     },
     "execution_count": 10,
     "metadata": {},
     "output_type": "execute_result"
    }
   ],
   "source": [
    "df_2020_11['Company Name'].value_counts()"
   ]
  },
  {
   "cell_type": "code",
   "execution_count": 11,
   "id": "aac39571",
   "metadata": {},
   "outputs": [
    {
     "data": {
      "text/plain": [
       "11/19/20    5210\n",
       "11/6/20     2491\n",
       "11/20/20    1709\n",
       "11/30/20    1525\n",
       "11/9/20     1505\n",
       "11/18/20    1458\n",
       "11/23/20    1166\n",
       "11/2/20      949\n",
       "11/27/20     915\n",
       "11/24/20     863\n",
       "11/17/20     745\n",
       "11/11/20     642\n",
       "11/16/20     588\n",
       "11/25/20     582\n",
       "11/3/20      478\n",
       "11/10/20     454\n",
       "11/13/20     371\n",
       "11/12/20     347\n",
       "11/5/20      325\n",
       "11/4/20      278\n",
       "11/15/20     174\n",
       "11/28/20      36\n",
       "Name: Ship Date, dtype: int64"
      ]
     },
     "execution_count": 11,
     "metadata": {},
     "output_type": "execute_result"
    }
   ],
   "source": [
    "df_2020_11['Ship Date'].value_counts()"
   ]
  },
  {
   "cell_type": "code",
   "execution_count": 12,
   "id": "ff45ee9d",
   "metadata": {},
   "outputs": [
    {
     "data": {
      "text/plain": [
       "Delivered            10505\n",
       "In Transit            8599\n",
       "Shipped               3426\n",
       "Carrier Exception      149\n",
       "Delivery Attempt       132\n",
       "Name: Status, dtype: int64"
      ]
     },
     "execution_count": 12,
     "metadata": {},
     "output_type": "execute_result"
    }
   ],
   "source": [
    "df_2020_11['Status'].value_counts()"
   ]
  },
  {
   "cell_type": "code",
   "execution_count": 13,
   "id": "ae707cc4",
   "metadata": {},
   "outputs": [
    {
     "data": {
      "text/plain": [
       "New York             473\n",
       "Chicago              279\n",
       "Brooklyn             201\n",
       "Washington           183\n",
       "Houston              169\n",
       "                    ... \n",
       "Transfer               1\n",
       "West Fargo             1\n",
       "Mustang                1\n",
       "Yountville             1\n",
       "South Glens Falls      1\n",
       "Name: City, Length: 5249, dtype: int64"
      ]
     },
     "execution_count": 13,
     "metadata": {},
     "output_type": "execute_result"
    }
   ],
   "source": [
    "df_2020_11['City'].value_counts()"
   ]
  },
  {
   "cell_type": "code",
   "execution_count": 14,
   "id": "a8718b4d",
   "metadata": {},
   "outputs": [
    {
     "data": {
      "text/plain": [
       "CA    2462\n",
       "NY    2263\n",
       "PA    1492\n",
       "FL    1477\n",
       "TX    1366\n",
       "NJ    1197\n",
       "IL    1065\n",
       "MA     855\n",
       "VA     791\n",
       "OH     767\n",
       "MI     683\n",
       "GA     675\n",
       "CO     611\n",
       "MD     603\n",
       "NC     575\n",
       "TN     467\n",
       "WA     455\n",
       "CT     447\n",
       "AZ     395\n",
       "MN     365\n",
       "IN     354\n",
       "WI     335\n",
       "SC     280\n",
       "MO     275\n",
       "OR     273\n",
       "DC     178\n",
       "KS     175\n",
       "NV     159\n",
       "LA     159\n",
       "HI     156\n",
       "RI     155\n",
       "NH     150\n",
       "OK     142\n",
       "IA     130\n",
       "NE     109\n",
       "ME     103\n",
       "AR      80\n",
       "MT      75\n",
       "NM      74\n",
       "DE      73\n",
       "ID      72\n",
       "WV      56\n",
       "VT      50\n",
       "AK      44\n",
       "SD      40\n",
       "ND      37\n",
       "WY      34\n",
       "AL      32\n",
       "Name: State, dtype: int64"
      ]
     },
     "execution_count": 14,
     "metadata": {},
     "output_type": "execute_result"
    }
   ],
   "source": [
    "df_2020_11['State'].value_counts()"
   ]
  },
  {
   "cell_type": "code",
   "execution_count": 15,
   "id": "aba1ce28",
   "metadata": {},
   "outputs": [
    {
     "data": {
      "text/plain": [
       "7030          43\n",
       "11201         37\n",
       "10022         36\n",
       "60614         34\n",
       "94558         33\n",
       "              ..\n",
       "88030          1\n",
       "98446          1\n",
       "97003-4303     1\n",
       "3907           1\n",
       "12803          1\n",
       "Name: Zip, Length: 7741, dtype: int64"
      ]
     },
     "execution_count": 15,
     "metadata": {},
     "output_type": "execute_result"
    }
   ],
   "source": [
    "df_2020_11['Zip'].value_counts()"
   ]
  },
  {
   "cell_type": "code",
   "execution_count": 16,
   "id": "85be0dcc",
   "metadata": {},
   "outputs": [
    {
     "data": {
      "text/plain": [
       "UPS    12069\n",
       "FEH     9272\n",
       "FXG     1125\n",
       "AZS       94\n",
       "UP3       86\n",
       "FEX       59\n",
       "WCU       29\n",
       "WCP       28\n",
       "UP2       22\n",
       "FXE       19\n",
       "GSC        3\n",
       "UP1        3\n",
       "FXP        2\n",
       "Name: Shipping Service, dtype: int64"
      ]
     },
     "execution_count": 16,
     "metadata": {},
     "output_type": "execute_result"
    }
   ],
   "source": [
    "df_2020_11['Shipping Service'].value_counts()"
   ]
  },
  {
   "cell_type": "code",
   "execution_count": 17,
   "id": "74be41f6",
   "metadata": {},
   "outputs": [
    {
     "data": {
      "text/plain": [
       "11/18/20    6523\n",
       "11/3/20     2992\n",
       "11/17/20    1522\n",
       "11/23/20     911\n",
       "11/27/20     694\n",
       "11/24/20     692\n",
       "11/10/20     528\n",
       "11/29/20     510\n",
       "11/26/20     507\n",
       "11/11/20     489\n",
       "11/6/20      469\n",
       "11/16/20     460\n",
       "11/15/20     459\n",
       "11/20/20     446\n",
       "11/9/20      440\n",
       "11/22/20     426\n",
       "11/8/20      426\n",
       "11/1/20      412\n",
       "11/2/20      408\n",
       "11/25/20     401\n",
       "11/13/20     362\n",
       "11/28/20     349\n",
       "11/12/20     305\n",
       "11/4/20      299\n",
       "11/19/20     290\n",
       "11/5/20      279\n",
       "11/21/20     256\n",
       "10/30/20     218\n",
       "10/31/20     176\n",
       "11/7/20      169\n",
       "11/14/20     156\n",
       "10/26/20     119\n",
       "11/30/20      74\n",
       "10/27/20      11\n",
       "10/29/20       7\n",
       "9/30/20        5\n",
       "10/28/20       4\n",
       "9/2/20         4\n",
       "10/20/20       2\n",
       "10/13/20       2\n",
       "9/15/20        1\n",
       "10/14/20       1\n",
       "10/6/20        1\n",
       "9/21/20        1\n",
       "10/7/20        1\n",
       "10/12/20       1\n",
       "9/10/20        1\n",
       "10/16/20       1\n",
       "10/24/20       1\n",
       "Name: Created Date, dtype: int64"
      ]
     },
     "execution_count": 17,
     "metadata": {},
     "output_type": "execute_result"
    }
   ],
   "source": [
    "df_2020_11['Created Date'].value_counts()\n",
    "#Ok to have dates from other months- Sometimes people will create an order and hold onto it until an adult is present to sign for delivery."
   ]
  },
  {
   "cell_type": "code",
   "execution_count": 18,
   "id": "34adbd2f",
   "metadata": {},
   "outputs": [
    {
     "data": {
      "text/plain": [
       "7.00       7779\n",
       "21.50      4455\n",
       "14.00      2806\n",
       "10.50      1466\n",
       "41.00      1251\n",
       "39.00      1118\n",
       "20.20       843\n",
       "6.50        568\n",
       "9.90        502\n",
       "4.00        343\n",
       "27.00       260\n",
       "29.00       225\n",
       "18.50       214\n",
       "3.35        145\n",
       "26.00       123\n",
       "32.00       109\n",
       "35.00       108\n",
       "24.00        74\n",
       "30.00        73\n",
       "10.00        59\n",
       "33.00        54\n",
       "38.00        49\n",
       "17.20        46\n",
       "12.50        26\n",
       "7.50         20\n",
       "36.00        17\n",
       "13.50        16\n",
       "9.00         15\n",
       "17.00         9\n",
       "19.20         8\n",
       "37.00         4\n",
       "26.50         4\n",
       "3.00          3\n",
       "20.50         3\n",
       "17.50         3\n",
       "11.50         2\n",
       "2016.00       2\n",
       "14.20         1\n",
       "13.00         1\n",
       "28.50         1\n",
       "384.00        1\n",
       "720.00        1\n",
       "21.00         1\n",
       "15.20         1\n",
       "5.40          1\n",
       "1.85          1\n",
       "Name: Weight, dtype: int64"
      ]
     },
     "execution_count": 18,
     "metadata": {},
     "output_type": "execute_result"
    }
   ],
   "source": [
    "df_2020_11['Weight'].value_counts()"
   ]
  },
  {
   "cell_type": "code",
   "execution_count": 19,
   "id": "73bd62e8",
   "metadata": {},
   "outputs": [
    {
     "data": {
      "text/plain": [
       "2       7798\n",
       "6       5304\n",
       "4       2815\n",
       "12      2369\n",
       "3       1977\n",
       "1       1185\n",
       "8        472\n",
       "5        261\n",
       "7        206\n",
       "9        184\n",
       "10       164\n",
       "11        50\n",
       "13        14\n",
       "14         4\n",
       "2072       1\n",
       "128        1\n",
       "2272       1\n",
       "24         1\n",
       "18         1\n",
       "252        1\n",
       "240        1\n",
       "15         1\n",
       "Name: Item/Bottle Count, dtype: int64"
      ]
     },
     "execution_count": 19,
     "metadata": {},
     "output_type": "execute_result"
    }
   ],
   "source": [
    "df_2020_11['Item/Bottle Count'].value_counts()"
   ]
  },
  {
   "cell_type": "markdown",
   "id": "b28748d1",
   "metadata": {},
   "source": [
    "## Clean the Data"
   ]
  },
  {
   "cell_type": "code",
   "execution_count": 20,
   "id": "ae2074b6",
   "metadata": {},
   "outputs": [
    {
     "data": {
      "text/plain": [
       "Company Name          object\n",
       "Status                object\n",
       "Ship Date             object\n",
       "City                  object\n",
       "State                 object\n",
       "Zip                   object\n",
       "Shipping Service      object\n",
       "Created Date          object\n",
       "Weight               float64\n",
       "Item/Bottle Count    float64\n",
       "dtype: object"
      ]
     },
     "execution_count": 20,
     "metadata": {},
     "output_type": "execute_result"
    }
   ],
   "source": [
    "#Change [\"Item/Bottle Count\"] to float64 type in df_2020_11.\n",
    "df_2020_11[\"Item/Bottle Count\"]=df_2020_11[\"Item/Bottle Count\"].astype(float)\n",
    "df_2020_11.dtypes"
   ]
  },
  {
   "cell_type": "code",
   "execution_count": 21,
   "id": "2de5f1ce",
   "metadata": {},
   "outputs": [
    {
     "data": {
      "text/html": [
       "<div>\n",
       "<style scoped>\n",
       "    .dataframe tbody tr th:only-of-type {\n",
       "        vertical-align: middle;\n",
       "    }\n",
       "\n",
       "    .dataframe tbody tr th {\n",
       "        vertical-align: top;\n",
       "    }\n",
       "\n",
       "    .dataframe thead th {\n",
       "        text-align: right;\n",
       "    }\n",
       "</style>\n",
       "<table border=\"1\" class=\"dataframe\">\n",
       "  <thead>\n",
       "    <tr style=\"text-align: right;\">\n",
       "      <th></th>\n",
       "      <th>Company Name</th>\n",
       "      <th>Ship Date</th>\n",
       "      <th>City</th>\n",
       "      <th>State</th>\n",
       "      <th>Zip</th>\n",
       "      <th>Shipping Service</th>\n",
       "      <th>Created Date</th>\n",
       "      <th>Weight</th>\n",
       "      <th>Item/Bottle Count</th>\n",
       "    </tr>\n",
       "  </thead>\n",
       "  <tbody>\n",
       "    <tr>\n",
       "      <th>0</th>\n",
       "      <td>WAN</td>\n",
       "      <td>11/2/20</td>\n",
       "      <td>Topanga</td>\n",
       "      <td>CA</td>\n",
       "      <td>90290</td>\n",
       "      <td>FEH</td>\n",
       "      <td>10/30/20</td>\n",
       "      <td>6.5</td>\n",
       "      <td>1.0</td>\n",
       "    </tr>\n",
       "    <tr>\n",
       "      <th>1</th>\n",
       "      <td>WAN</td>\n",
       "      <td>11/2/20</td>\n",
       "      <td>Los Angeles</td>\n",
       "      <td>CA</td>\n",
       "      <td>90012</td>\n",
       "      <td>FEH</td>\n",
       "      <td>10/30/20</td>\n",
       "      <td>6.5</td>\n",
       "      <td>1.0</td>\n",
       "    </tr>\n",
       "    <tr>\n",
       "      <th>2</th>\n",
       "      <td>WAN</td>\n",
       "      <td>11/2/20</td>\n",
       "      <td>La Verne</td>\n",
       "      <td>CA</td>\n",
       "      <td>91750</td>\n",
       "      <td>FEH</td>\n",
       "      <td>10/30/20</td>\n",
       "      <td>6.5</td>\n",
       "      <td>1.0</td>\n",
       "    </tr>\n",
       "    <tr>\n",
       "      <th>3</th>\n",
       "      <td>WAN</td>\n",
       "      <td>11/2/20</td>\n",
       "      <td>Lancaster</td>\n",
       "      <td>CA</td>\n",
       "      <td>93536</td>\n",
       "      <td>FEH</td>\n",
       "      <td>10/30/20</td>\n",
       "      <td>6.5</td>\n",
       "      <td>1.0</td>\n",
       "    </tr>\n",
       "    <tr>\n",
       "      <th>4</th>\n",
       "      <td>WAN</td>\n",
       "      <td>11/2/20</td>\n",
       "      <td>Reseda</td>\n",
       "      <td>CA</td>\n",
       "      <td>91335</td>\n",
       "      <td>FEH</td>\n",
       "      <td>10/30/20</td>\n",
       "      <td>6.5</td>\n",
       "      <td>1.0</td>\n",
       "    </tr>\n",
       "    <tr>\n",
       "      <th>...</th>\n",
       "      <td>...</td>\n",
       "      <td>...</td>\n",
       "      <td>...</td>\n",
       "      <td>...</td>\n",
       "      <td>...</td>\n",
       "      <td>...</td>\n",
       "      <td>...</td>\n",
       "      <td>...</td>\n",
       "      <td>...</td>\n",
       "    </tr>\n",
       "    <tr>\n",
       "      <th>22806</th>\n",
       "      <td>SBG</td>\n",
       "      <td>11/30/20</td>\n",
       "      <td>West Newbury</td>\n",
       "      <td>MA</td>\n",
       "      <td>1985</td>\n",
       "      <td>FEH</td>\n",
       "      <td>11/28/20</td>\n",
       "      <td>26.0</td>\n",
       "      <td>7.0</td>\n",
       "    </tr>\n",
       "    <tr>\n",
       "      <th>22807</th>\n",
       "      <td>SBG</td>\n",
       "      <td>11/30/20</td>\n",
       "      <td>Brooklyn</td>\n",
       "      <td>NY</td>\n",
       "      <td>11222</td>\n",
       "      <td>FXG</td>\n",
       "      <td>11/28/20</td>\n",
       "      <td>21.5</td>\n",
       "      <td>6.0</td>\n",
       "    </tr>\n",
       "    <tr>\n",
       "      <th>22808</th>\n",
       "      <td>SBG</td>\n",
       "      <td>11/30/20</td>\n",
       "      <td>San Diego</td>\n",
       "      <td>CA</td>\n",
       "      <td>92130</td>\n",
       "      <td>UPS</td>\n",
       "      <td>11/27/20</td>\n",
       "      <td>39.0</td>\n",
       "      <td>12.0</td>\n",
       "    </tr>\n",
       "    <tr>\n",
       "      <th>22809</th>\n",
       "      <td>SBG</td>\n",
       "      <td>11/30/20</td>\n",
       "      <td>San Diego</td>\n",
       "      <td>CA</td>\n",
       "      <td>92130</td>\n",
       "      <td>UPS</td>\n",
       "      <td>11/27/20</td>\n",
       "      <td>21.5</td>\n",
       "      <td>6.0</td>\n",
       "    </tr>\n",
       "    <tr>\n",
       "      <th>22810</th>\n",
       "      <td>SBG</td>\n",
       "      <td>11/30/20</td>\n",
       "      <td>Chagrin Falls</td>\n",
       "      <td>OH</td>\n",
       "      <td>44023</td>\n",
       "      <td>UPS</td>\n",
       "      <td>11/28/20</td>\n",
       "      <td>21.5</td>\n",
       "      <td>6.0</td>\n",
       "    </tr>\n",
       "  </tbody>\n",
       "</table>\n",
       "<p>22811 rows × 9 columns</p>\n",
       "</div>"
      ],
      "text/plain": [
       "      Company Name Ship Date           City State    Zip Shipping Service  \\\n",
       "0              WAN   11/2/20        Topanga    CA  90290              FEH   \n",
       "1              WAN   11/2/20    Los Angeles    CA  90012              FEH   \n",
       "2              WAN   11/2/20       La Verne    CA  91750              FEH   \n",
       "3              WAN   11/2/20      Lancaster    CA  93536              FEH   \n",
       "4              WAN   11/2/20         Reseda    CA  91335              FEH   \n",
       "...            ...       ...            ...   ...    ...              ...   \n",
       "22806          SBG  11/30/20   West Newbury    MA   1985              FEH   \n",
       "22807          SBG  11/30/20       Brooklyn    NY  11222              FXG   \n",
       "22808          SBG  11/30/20      San Diego    CA  92130              UPS   \n",
       "22809          SBG  11/30/20      San Diego    CA  92130              UPS   \n",
       "22810          SBG  11/30/20  Chagrin Falls    OH  44023              UPS   \n",
       "\n",
       "      Created Date  Weight  Item/Bottle Count  \n",
       "0         10/30/20     6.5                1.0  \n",
       "1         10/30/20     6.5                1.0  \n",
       "2         10/30/20     6.5                1.0  \n",
       "3         10/30/20     6.5                1.0  \n",
       "4         10/30/20     6.5                1.0  \n",
       "...            ...     ...                ...  \n",
       "22806     11/28/20    26.0                7.0  \n",
       "22807     11/28/20    21.5                6.0  \n",
       "22808     11/27/20    39.0               12.0  \n",
       "22809     11/27/20    21.5                6.0  \n",
       "22810     11/28/20    21.5                6.0  \n",
       "\n",
       "[22811 rows x 9 columns]"
      ]
     },
     "execution_count": 21,
     "metadata": {},
     "output_type": "execute_result"
    }
   ],
   "source": [
    "#Remove \"Status\" column from df_2020_11.\n",
    "df_2020_11 = df_2020_11.drop('Status', axis=1)\n",
    "df_2020_11"
   ]
  },
  {
   "cell_type": "code",
   "execution_count": 22,
   "id": "0374b7d7",
   "metadata": {},
   "outputs": [],
   "source": [
    "# Drop the NaNs for df_2020_11.\n",
    "df_2020_11 = df_2020_11.dropna()"
   ]
  },
  {
   "cell_type": "markdown",
   "id": "b54ac18d",
   "metadata": {},
   "source": [
    "## Confirm Changes"
   ]
  },
  {
   "cell_type": "code",
   "execution_count": 23,
   "id": "717b65ec",
   "metadata": {},
   "outputs": [
    {
     "data": {
      "text/html": [
       "<div>\n",
       "<style scoped>\n",
       "    .dataframe tbody tr th:only-of-type {\n",
       "        vertical-align: middle;\n",
       "    }\n",
       "\n",
       "    .dataframe tbody tr th {\n",
       "        vertical-align: top;\n",
       "    }\n",
       "\n",
       "    .dataframe thead th {\n",
       "        text-align: right;\n",
       "    }\n",
       "</style>\n",
       "<table border=\"1\" class=\"dataframe\">\n",
       "  <thead>\n",
       "    <tr style=\"text-align: right;\">\n",
       "      <th></th>\n",
       "      <th>Company Name</th>\n",
       "      <th>Ship Date</th>\n",
       "      <th>City</th>\n",
       "      <th>State</th>\n",
       "      <th>Zip</th>\n",
       "      <th>Shipping Service</th>\n",
       "      <th>Created Date</th>\n",
       "      <th>Weight</th>\n",
       "      <th>Item/Bottle Count</th>\n",
       "    </tr>\n",
       "  </thead>\n",
       "  <tbody>\n",
       "    <tr>\n",
       "      <th>9489</th>\n",
       "      <td>Amazing Clubs</td>\n",
       "      <td>11/18/20</td>\n",
       "      <td>Newton</td>\n",
       "      <td>NJ</td>\n",
       "      <td>7860</td>\n",
       "      <td>FEH</td>\n",
       "      <td>11/17/20</td>\n",
       "      <td>7.0</td>\n",
       "      <td>2.0</td>\n",
       "    </tr>\n",
       "    <tr>\n",
       "      <th>22687</th>\n",
       "      <td>SBG</td>\n",
       "      <td>11/30/20</td>\n",
       "      <td>San Diego</td>\n",
       "      <td>CA</td>\n",
       "      <td>92103</td>\n",
       "      <td>UPS</td>\n",
       "      <td>11/28/20</td>\n",
       "      <td>39.0</td>\n",
       "      <td>12.0</td>\n",
       "    </tr>\n",
       "    <tr>\n",
       "      <th>1130</th>\n",
       "      <td>RBV</td>\n",
       "      <td>11/6/20</td>\n",
       "      <td>St Louis</td>\n",
       "      <td>MO</td>\n",
       "      <td>63123</td>\n",
       "      <td>UPS</td>\n",
       "      <td>11/3/20</td>\n",
       "      <td>14.0</td>\n",
       "      <td>4.0</td>\n",
       "    </tr>\n",
       "    <tr>\n",
       "      <th>13786</th>\n",
       "      <td>Amazing Clubs</td>\n",
       "      <td>11/20/20</td>\n",
       "      <td>Sacramento</td>\n",
       "      <td>CA</td>\n",
       "      <td>95817</td>\n",
       "      <td>UPS</td>\n",
       "      <td>11/18/20</td>\n",
       "      <td>7.0</td>\n",
       "      <td>2.0</td>\n",
       "    </tr>\n",
       "    <tr>\n",
       "      <th>21575</th>\n",
       "      <td>WAN</td>\n",
       "      <td>11/30/20</td>\n",
       "      <td>Philadelphia</td>\n",
       "      <td>PA</td>\n",
       "      <td>19139</td>\n",
       "      <td>FEH</td>\n",
       "      <td>11/30/20</td>\n",
       "      <td>20.2</td>\n",
       "      <td>6.0</td>\n",
       "    </tr>\n",
       "  </tbody>\n",
       "</table>\n",
       "</div>"
      ],
      "text/plain": [
       "        Company Name Ship Date          City State    Zip Shipping Service  \\\n",
       "9489   Amazing Clubs  11/18/20        Newton    NJ   7860              FEH   \n",
       "22687            SBG  11/30/20     San Diego    CA  92103              UPS   \n",
       "1130             RBV   11/6/20      St Louis    MO  63123              UPS   \n",
       "13786  Amazing Clubs  11/20/20    Sacramento    CA  95817              UPS   \n",
       "21575            WAN  11/30/20  Philadelphia    PA  19139              FEH   \n",
       "\n",
       "      Created Date  Weight  Item/Bottle Count  \n",
       "9489      11/17/20     7.0                2.0  \n",
       "22687     11/28/20    39.0               12.0  \n",
       "1130       11/3/20    14.0                4.0  \n",
       "13786     11/18/20     7.0                2.0  \n",
       "21575     11/30/20    20.2                6.0  "
      ]
     },
     "execution_count": 23,
     "metadata": {},
     "output_type": "execute_result"
    }
   ],
   "source": [
    "#See five random rows of data\n",
    "df_2020_11.sample(n=5)"
   ]
  },
  {
   "cell_type": "code",
   "execution_count": 24,
   "id": "2f59ad5f",
   "metadata": {},
   "outputs": [
    {
     "name": "stdout",
     "output_type": "stream",
     "text": [
      "Number of Rows:  22811\n",
      "Number of Columns:  9\n"
     ]
    }
   ],
   "source": [
    "#Determine total rows for df_2020_11.\n",
    "df_2020_11_rows = len(df_2020_11.axes[0])\n",
    "df_2020_11_cols = len(df_2020_11.axes[1])\n",
    "print(\"Number of Rows: \", df_2020_11_rows)\n",
    "print(\"Number of Columns: \", df_2020_11_cols)"
   ]
  },
  {
   "cell_type": "markdown",
   "id": "625b4837",
   "metadata": {},
   "source": [
    "## Export Cleaned df to .CSV"
   ]
  },
  {
   "cell_type": "code",
   "execution_count": 25,
   "id": "f5a7980c",
   "metadata": {},
   "outputs": [],
   "source": [
    "#Export df_2020_11 to .csv\n",
    "df_2020_11.to_csv('../cleaned_months_2020/Clean_2020_11.csv') "
   ]
  },
  {
   "cell_type": "code",
   "execution_count": null,
   "id": "aafdefb9",
   "metadata": {},
   "outputs": [],
   "source": []
  }
 ],
 "metadata": {
  "kernelspec": {
   "display_name": "Python 3 (ipykernel)",
   "language": "python",
   "name": "python3"
  },
  "language_info": {
   "codemirror_mode": {
    "name": "ipython",
    "version": 3
   },
   "file_extension": ".py",
   "mimetype": "text/x-python",
   "name": "python",
   "nbconvert_exporter": "python",
   "pygments_lexer": "ipython3",
   "version": "3.7.13"
  }
 },
 "nbformat": 4,
 "nbformat_minor": 5
}
