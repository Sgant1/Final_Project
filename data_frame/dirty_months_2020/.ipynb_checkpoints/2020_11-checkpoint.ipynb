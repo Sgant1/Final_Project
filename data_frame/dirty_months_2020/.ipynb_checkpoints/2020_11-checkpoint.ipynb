{
 "cells": [
  {
   "cell_type": "code",
   "execution_count": 1,
   "id": "1f30ec89",
   "metadata": {},
   "outputs": [],
   "source": [
    "#Pandas library to create DataFrames\n",
    "import pandas as pd\n",
    "#NumPy library for converting data types\n",
    "import numpy as np"
   ]
  },
  {
   "cell_type": "code",
   "execution_count": 6,
   "id": "7d4569c3",
   "metadata": {},
   "outputs": [],
   "source": [
    "# Files to load\n",
    "load_2020_11 = \"../2020_Data/2020.11_utf-8.csv\""
   ]
  },
  {
   "cell_type": "code",
   "execution_count": 7,
   "id": "5bf26e77",
   "metadata": {},
   "outputs": [
    {
     "data": {
      "text/html": [
       "<div>\n",
       "<style scoped>\n",
       "    .dataframe tbody tr th:only-of-type {\n",
       "        vertical-align: middle;\n",
       "    }\n",
       "\n",
       "    .dataframe tbody tr th {\n",
       "        vertical-align: top;\n",
       "    }\n",
       "\n",
       "    .dataframe thead th {\n",
       "        text-align: right;\n",
       "    }\n",
       "</style>\n",
       "<table border=\"1\" class=\"dataframe\">\n",
       "  <thead>\n",
       "    <tr style=\"text-align: right;\">\n",
       "      <th></th>\n",
       "      <th>Company Name</th>\n",
       "      <th>Status</th>\n",
       "      <th>Ship Date</th>\n",
       "      <th>City</th>\n",
       "      <th>State</th>\n",
       "      <th>Zip</th>\n",
       "      <th>Shipping Service</th>\n",
       "      <th>Created Date</th>\n",
       "      <th>Weight</th>\n",
       "      <th>Item/Bottle Count</th>\n",
       "    </tr>\n",
       "  </thead>\n",
       "  <tbody>\n",
       "    <tr>\n",
       "      <th>0</th>\n",
       "      <td>Ecom1</td>\n",
       "      <td>Delivered</td>\n",
       "      <td>11/2/20</td>\n",
       "      <td>Topanga</td>\n",
       "      <td>CA</td>\n",
       "      <td>90290</td>\n",
       "      <td>FEH</td>\n",
       "      <td>10/30/20</td>\n",
       "      <td>6.5</td>\n",
       "      <td>1</td>\n",
       "    </tr>\n",
       "    <tr>\n",
       "      <th>1</th>\n",
       "      <td>Ecom1</td>\n",
       "      <td>Delivered</td>\n",
       "      <td>11/2/20</td>\n",
       "      <td>Los Angeles</td>\n",
       "      <td>CA</td>\n",
       "      <td>90012</td>\n",
       "      <td>FEH</td>\n",
       "      <td>10/30/20</td>\n",
       "      <td>6.5</td>\n",
       "      <td>1</td>\n",
       "    </tr>\n",
       "    <tr>\n",
       "      <th>2</th>\n",
       "      <td>Ecom1</td>\n",
       "      <td>Delivered</td>\n",
       "      <td>11/2/20</td>\n",
       "      <td>La Verne</td>\n",
       "      <td>CA</td>\n",
       "      <td>91750</td>\n",
       "      <td>FEH</td>\n",
       "      <td>10/30/20</td>\n",
       "      <td>6.5</td>\n",
       "      <td>1</td>\n",
       "    </tr>\n",
       "    <tr>\n",
       "      <th>3</th>\n",
       "      <td>Ecom1</td>\n",
       "      <td>Delivered</td>\n",
       "      <td>11/2/20</td>\n",
       "      <td>Lancaster</td>\n",
       "      <td>CA</td>\n",
       "      <td>93536</td>\n",
       "      <td>FEH</td>\n",
       "      <td>10/30/20</td>\n",
       "      <td>6.5</td>\n",
       "      <td>1</td>\n",
       "    </tr>\n",
       "    <tr>\n",
       "      <th>4</th>\n",
       "      <td>Ecom1</td>\n",
       "      <td>Delivered</td>\n",
       "      <td>11/2/20</td>\n",
       "      <td>Reseda</td>\n",
       "      <td>CA</td>\n",
       "      <td>91335</td>\n",
       "      <td>FEH</td>\n",
       "      <td>10/30/20</td>\n",
       "      <td>6.5</td>\n",
       "      <td>1</td>\n",
       "    </tr>\n",
       "  </tbody>\n",
       "</table>\n",
       "</div>"
      ],
      "text/plain": [
       "  Company Name     Status Ship Date         City State    Zip  \\\n",
       "0        Ecom1  Delivered   11/2/20      Topanga    CA  90290   \n",
       "1        Ecom1  Delivered   11/2/20  Los Angeles    CA  90012   \n",
       "2        Ecom1  Delivered   11/2/20     La Verne    CA  91750   \n",
       "3        Ecom1  Delivered   11/2/20    Lancaster    CA  93536   \n",
       "4        Ecom1  Delivered   11/2/20       Reseda    CA  91335   \n",
       "\n",
       "  Shipping Service Created Date  Weight  Item/Bottle Count  \n",
       "0              FEH     10/30/20     6.5                  1  \n",
       "1              FEH     10/30/20     6.5                  1  \n",
       "2              FEH     10/30/20     6.5                  1  \n",
       "3              FEH     10/30/20     6.5                  1  \n",
       "4              FEH     10/30/20     6.5                  1  "
      ]
     },
     "execution_count": 7,
     "metadata": {},
     "output_type": "execute_result"
    }
   ],
   "source": [
    "# Read the November CSV into a DataFrame\n",
    "#Had to open each file in excel and save it as a .csv file instead of an .xlsm file in order for the encryption to be read properly.\n",
    "df_2020_11 = pd.read_csv(load_2020_11)\n",
    "df_2020_11.head()"
   ]
  },
  {
   "cell_type": "markdown",
   "id": "175df6a6",
   "metadata": {},
   "source": [
    "## Inspect the Data"
   ]
  },
  {
   "cell_type": "code",
   "execution_count": 8,
   "id": "2cdb2387",
   "metadata": {},
   "outputs": [
    {
     "data": {
      "text/html": [
       "<div>\n",
       "<style scoped>\n",
       "    .dataframe tbody tr th:only-of-type {\n",
       "        vertical-align: middle;\n",
       "    }\n",
       "\n",
       "    .dataframe tbody tr th {\n",
       "        vertical-align: top;\n",
       "    }\n",
       "\n",
       "    .dataframe thead th {\n",
       "        text-align: right;\n",
       "    }\n",
       "</style>\n",
       "<table border=\"1\" class=\"dataframe\">\n",
       "  <thead>\n",
       "    <tr style=\"text-align: right;\">\n",
       "      <th></th>\n",
       "      <th>Company Name</th>\n",
       "      <th>Status</th>\n",
       "      <th>Ship Date</th>\n",
       "      <th>City</th>\n",
       "      <th>State</th>\n",
       "      <th>Zip</th>\n",
       "      <th>Shipping Service</th>\n",
       "      <th>Created Date</th>\n",
       "      <th>Weight</th>\n",
       "      <th>Item/Bottle Count</th>\n",
       "    </tr>\n",
       "  </thead>\n",
       "  <tbody>\n",
       "    <tr>\n",
       "      <th>4600</th>\n",
       "      <td>Ecom1</td>\n",
       "      <td>Delivered</td>\n",
       "      <td>11/9/20</td>\n",
       "      <td>Rochester</td>\n",
       "      <td>NY</td>\n",
       "      <td>14617</td>\n",
       "      <td>FEH</td>\n",
       "      <td>11/8/20</td>\n",
       "      <td>10.5</td>\n",
       "      <td>3</td>\n",
       "    </tr>\n",
       "    <tr>\n",
       "      <th>14097</th>\n",
       "      <td>Ecom2</td>\n",
       "      <td>Shipped</td>\n",
       "      <td>11/19/20</td>\n",
       "      <td>Charlotte</td>\n",
       "      <td>NC</td>\n",
       "      <td>28205</td>\n",
       "      <td>FEH</td>\n",
       "      <td>11/18/20</td>\n",
       "      <td>7.0</td>\n",
       "      <td>2</td>\n",
       "    </tr>\n",
       "    <tr>\n",
       "      <th>11398</th>\n",
       "      <td>Ecom2</td>\n",
       "      <td>Shipped</td>\n",
       "      <td>11/19/20</td>\n",
       "      <td>Washington</td>\n",
       "      <td>DC</td>\n",
       "      <td>20009</td>\n",
       "      <td>FEH</td>\n",
       "      <td>11/18/20</td>\n",
       "      <td>7.0</td>\n",
       "      <td>2</td>\n",
       "    </tr>\n",
       "    <tr>\n",
       "      <th>560</th>\n",
       "      <td>Winery2</td>\n",
       "      <td>Delivered</td>\n",
       "      <td>11/3/20</td>\n",
       "      <td>Sugar Land</td>\n",
       "      <td>TX</td>\n",
       "      <td>77478</td>\n",
       "      <td>UP2</td>\n",
       "      <td>11/2/20</td>\n",
       "      <td>10.5</td>\n",
       "      <td>3</td>\n",
       "    </tr>\n",
       "    <tr>\n",
       "      <th>11158</th>\n",
       "      <td>Ecom2</td>\n",
       "      <td>Delivered</td>\n",
       "      <td>11/19/20</td>\n",
       "      <td>Pasadena</td>\n",
       "      <td>CA</td>\n",
       "      <td>91106</td>\n",
       "      <td>UPS</td>\n",
       "      <td>11/18/20</td>\n",
       "      <td>7.0</td>\n",
       "      <td>2</td>\n",
       "    </tr>\n",
       "  </tbody>\n",
       "</table>\n",
       "</div>"
      ],
      "text/plain": [
       "      Company Name     Status Ship Date        City State    Zip  \\\n",
       "4600         Ecom1  Delivered   11/9/20   Rochester    NY  14617   \n",
       "14097        Ecom2    Shipped  11/19/20   Charlotte    NC  28205   \n",
       "11398        Ecom2    Shipped  11/19/20  Washington    DC  20009   \n",
       "560        Winery2  Delivered   11/3/20  Sugar Land    TX  77478   \n",
       "11158        Ecom2  Delivered  11/19/20    Pasadena    CA  91106   \n",
       "\n",
       "      Shipping Service Created Date  Weight  Item/Bottle Count  \n",
       "4600               FEH      11/8/20    10.5                  3  \n",
       "14097              FEH     11/18/20     7.0                  2  \n",
       "11398              FEH     11/18/20     7.0                  2  \n",
       "560                UP2      11/2/20    10.5                  3  \n",
       "11158              UPS     11/18/20     7.0                  2  "
      ]
     },
     "execution_count": 8,
     "metadata": {},
     "output_type": "execute_result"
    }
   ],
   "source": [
    "#See five random rows of data\n",
    "df_2020_11.sample(n=5)"
   ]
  },
  {
   "cell_type": "code",
   "execution_count": 9,
   "id": "a7bdb733",
   "metadata": {},
   "outputs": [
    {
     "data": {
      "text/html": [
       "<div>\n",
       "<style scoped>\n",
       "    .dataframe tbody tr th:only-of-type {\n",
       "        vertical-align: middle;\n",
       "    }\n",
       "\n",
       "    .dataframe tbody tr th {\n",
       "        vertical-align: top;\n",
       "    }\n",
       "\n",
       "    .dataframe thead th {\n",
       "        text-align: right;\n",
       "    }\n",
       "</style>\n",
       "<table border=\"1\" class=\"dataframe\">\n",
       "  <thead>\n",
       "    <tr style=\"text-align: right;\">\n",
       "      <th></th>\n",
       "      <th>Company Name</th>\n",
       "      <th>Status</th>\n",
       "      <th>Ship Date</th>\n",
       "      <th>City</th>\n",
       "      <th>State</th>\n",
       "      <th>Zip</th>\n",
       "      <th>Shipping Service</th>\n",
       "      <th>Created Date</th>\n",
       "      <th>Weight</th>\n",
       "      <th>Item/Bottle Count</th>\n",
       "    </tr>\n",
       "  </thead>\n",
       "  <tbody>\n",
       "    <tr>\n",
       "      <th>22935</th>\n",
       "      <td>Winery3</td>\n",
       "      <td>Delivered</td>\n",
       "      <td>11/30/20</td>\n",
       "      <td>Morgantown</td>\n",
       "      <td>WV</td>\n",
       "      <td>26501</td>\n",
       "      <td>UPS</td>\n",
       "      <td>11/30/20</td>\n",
       "      <td>21.5</td>\n",
       "      <td>6</td>\n",
       "    </tr>\n",
       "    <tr>\n",
       "      <th>22936</th>\n",
       "      <td>Winery3</td>\n",
       "      <td>Delivered</td>\n",
       "      <td>11/30/20</td>\n",
       "      <td>Keller</td>\n",
       "      <td>TX</td>\n",
       "      <td>76248</td>\n",
       "      <td>UPS</td>\n",
       "      <td>11/30/20</td>\n",
       "      <td>4.0</td>\n",
       "      <td>1</td>\n",
       "    </tr>\n",
       "    <tr>\n",
       "      <th>22937</th>\n",
       "      <td>Winery3</td>\n",
       "      <td>Delivered</td>\n",
       "      <td>11/30/20</td>\n",
       "      <td>Quincy</td>\n",
       "      <td>MA</td>\n",
       "      <td>2169</td>\n",
       "      <td>UPS</td>\n",
       "      <td>11/30/20</td>\n",
       "      <td>21.5</td>\n",
       "      <td>6</td>\n",
       "    </tr>\n",
       "    <tr>\n",
       "      <th>22938</th>\n",
       "      <td>Winery3</td>\n",
       "      <td>Delivered</td>\n",
       "      <td>11/30/20</td>\n",
       "      <td>Union City</td>\n",
       "      <td>CA</td>\n",
       "      <td>94587</td>\n",
       "      <td>GSC</td>\n",
       "      <td>11/30/20</td>\n",
       "      <td>21.5</td>\n",
       "      <td>6</td>\n",
       "    </tr>\n",
       "    <tr>\n",
       "      <th>22939</th>\n",
       "      <td>Winery3</td>\n",
       "      <td>Delivered</td>\n",
       "      <td>11/30/20</td>\n",
       "      <td>Branson</td>\n",
       "      <td>MO</td>\n",
       "      <td>65616</td>\n",
       "      <td>UPS</td>\n",
       "      <td>11/30/20</td>\n",
       "      <td>21.5</td>\n",
       "      <td>6</td>\n",
       "    </tr>\n",
       "  </tbody>\n",
       "</table>\n",
       "</div>"
      ],
      "text/plain": [
       "      Company Name     Status Ship Date        City State    Zip  \\\n",
       "22935      Winery3  Delivered  11/30/20  Morgantown    WV  26501   \n",
       "22936      Winery3  Delivered  11/30/20      Keller    TX  76248   \n",
       "22937      Winery3  Delivered  11/30/20      Quincy    MA   2169   \n",
       "22938      Winery3  Delivered  11/30/20  Union City    CA  94587   \n",
       "22939      Winery3  Delivered  11/30/20     Branson    MO  65616   \n",
       "\n",
       "      Shipping Service Created Date  Weight  Item/Bottle Count  \n",
       "22935              UPS     11/30/20    21.5                  6  \n",
       "22936              UPS     11/30/20     4.0                  1  \n",
       "22937              UPS     11/30/20    21.5                  6  \n",
       "22938              GSC     11/30/20    21.5                  6  \n",
       "22939              UPS     11/30/20    21.5                  6  "
      ]
     },
     "execution_count": 9,
     "metadata": {},
     "output_type": "execute_result"
    }
   ],
   "source": [
    "#See the last rows of data\n",
    "df_2020_11.tail(5)"
   ]
  },
  {
   "cell_type": "code",
   "execution_count": 10,
   "id": "a820ba41",
   "metadata": {},
   "outputs": [
    {
     "data": {
      "text/plain": [
       "Index(['Company Name', 'Status', 'Ship Date', 'City', 'State', 'Zip',\n",
       "       'Shipping Service', 'Created Date', 'Weight', 'Item/Bottle Count'],\n",
       "      dtype='object')"
      ]
     },
     "execution_count": 10,
     "metadata": {},
     "output_type": "execute_result"
    }
   ],
   "source": [
    "df_2020_11.columns"
   ]
  },
  {
   "cell_type": "code",
   "execution_count": 11,
   "id": "7410d9e5",
   "metadata": {},
   "outputs": [
    {
     "name": "stdout",
     "output_type": "stream",
     "text": [
      "Number of Rows:  22940\n",
      "Number of Columns:  10\n"
     ]
    }
   ],
   "source": [
    "#Determine total rows for df_2020_11.\n",
    "df_2020_11_rows = len(df_2020_11.axes[0])\n",
    "df_2020_11_cols = len(df_2020_11.axes[1])\n",
    "print(\"Number of Rows: \", df_2020_11_rows)\n",
    "print(\"Number of Columns: \", df_2020_11_cols)"
   ]
  },
  {
   "cell_type": "code",
   "execution_count": 12,
   "id": "4caf57c3",
   "metadata": {},
   "outputs": [
    {
     "data": {
      "text/plain": [
       "Company Name         0\n",
       "Status               0\n",
       "Ship Date            0\n",
       "City                 0\n",
       "State                0\n",
       "Zip                  0\n",
       "Shipping Service     0\n",
       "Created Date         0\n",
       "Weight               0\n",
       "Item/Bottle Count    0\n",
       "dtype: int64"
      ]
     },
     "execution_count": 12,
     "metadata": {},
     "output_type": "execute_result"
    }
   ],
   "source": [
    "# Determine if there are any missing values in df_2020_11.\n",
    "df_2020_11.isnull().sum()"
   ]
  },
  {
   "cell_type": "code",
   "execution_count": 13,
   "id": "d2ad8510",
   "metadata": {},
   "outputs": [
    {
     "data": {
      "text/plain": [
       "Company Name          object\n",
       "Status                object\n",
       "Ship Date             object\n",
       "City                  object\n",
       "State                 object\n",
       "Zip                   object\n",
       "Shipping Service      object\n",
       "Created Date          object\n",
       "Weight               float64\n",
       "Item/Bottle Count      int64\n",
       "dtype: object"
      ]
     },
     "execution_count": 13,
     "metadata": {},
     "output_type": "execute_result"
    }
   ],
   "source": [
    "# Determine data types for df_2020_11.\n",
    "df_2020_11.dtypes"
   ]
  },
  {
   "cell_type": "code",
   "execution_count": 14,
   "id": "4061fbbf",
   "metadata": {},
   "outputs": [
    {
     "data": {
      "text/plain": [
       "Ecom3      8888\n",
       "Ecom2      7206\n",
       "Ecom1      3485\n",
       "Winery1    3051\n",
       "Winery2     181\n",
       "Winery3     129\n",
       "Name: Company Name, dtype: int64"
      ]
     },
     "execution_count": 14,
     "metadata": {},
     "output_type": "execute_result"
    }
   ],
   "source": [
    "df_2020_11['Company Name'].value_counts()"
   ]
  },
  {
   "cell_type": "code",
   "execution_count": 15,
   "id": "aac39571",
   "metadata": {},
   "outputs": [
    {
     "data": {
      "text/plain": [
       "11/19/20    5210\n",
       "11/6/20     2502\n",
       "11/20/20    1709\n",
       "11/30/20    1543\n",
       "11/9/20     1514\n",
       "11/18/20    1460\n",
       "11/23/20    1182\n",
       "11/2/20      955\n",
       "11/27/20     915\n",
       "11/24/20     863\n",
       "11/17/20     748\n",
       "11/11/20     642\n",
       "11/16/20     599\n",
       "11/25/20     583\n",
       "11/3/20      490\n",
       "11/10/20     460\n",
       "11/13/20     402\n",
       "11/12/20     348\n",
       "11/5/20      325\n",
       "11/4/20      280\n",
       "11/15/20     174\n",
       "11/28/20      36\n",
       "Name: Ship Date, dtype: int64"
      ]
     },
     "execution_count": 15,
     "metadata": {},
     "output_type": "execute_result"
    }
   ],
   "source": [
    "df_2020_11['Ship Date'].value_counts()"
   ]
  },
  {
   "cell_type": "code",
   "execution_count": 16,
   "id": "ff45ee9d",
   "metadata": {},
   "outputs": [
    {
     "data": {
      "text/plain": [
       "Delivered            10611\n",
       "In Transit            8616\n",
       "Shipped               3428\n",
       "Carrier Exception      153\n",
       "Delivery Attempt       132\n",
       "Name: Status, dtype: int64"
      ]
     },
     "execution_count": 16,
     "metadata": {},
     "output_type": "execute_result"
    }
   ],
   "source": [
    "df_2020_11['Status'].value_counts()"
   ]
  },
  {
   "cell_type": "code",
   "execution_count": 17,
   "id": "ae707cc4",
   "metadata": {},
   "outputs": [
    {
     "data": {
      "text/plain": [
       "New York         473\n",
       "Chicago          279\n",
       "Brooklyn         202\n",
       "Washington       183\n",
       "Houston          169\n",
       "                ... \n",
       "Endicott           1\n",
       "Gypsum             1\n",
       "Lower Gwynedd      1\n",
       "Trent Woods        1\n",
       "Murphysboro        1\n",
       "Name: City, Length: 5260, dtype: int64"
      ]
     },
     "execution_count": 17,
     "metadata": {},
     "output_type": "execute_result"
    }
   ],
   "source": [
    "df_2020_11['City'].value_counts()"
   ]
  },
  {
   "cell_type": "code",
   "execution_count": 18,
   "id": "a8718b4d",
   "metadata": {},
   "outputs": [
    {
     "data": {
      "text/plain": [
       "CA    2500\n",
       "NY    2268\n",
       "PA    1496\n",
       "FL    1485\n",
       "TX    1375\n",
       "NJ    1199\n",
       "IL    1071\n",
       "MA     857\n",
       "VA     791\n",
       "OH     772\n",
       "MI     686\n",
       "GA     679\n",
       "CO     617\n",
       "MD     607\n",
       "NC     580\n",
       "TN     471\n",
       "WA     455\n",
       "CT     449\n",
       "AZ     395\n",
       "MN     365\n",
       "IN     359\n",
       "WI     336\n",
       "SC     281\n",
       "MO     276\n",
       "OR     273\n",
       "DC     178\n",
       "KS     177\n",
       "NV     163\n",
       "LA     159\n",
       "HI     156\n",
       "RI     156\n",
       "NH     150\n",
       "OK     143\n",
       "IA     133\n",
       "NE     110\n",
       "ME     103\n",
       "AR      80\n",
       "MT      75\n",
       "NM      74\n",
       "DE      73\n",
       "ID      72\n",
       "WV      57\n",
       "VT      50\n",
       "AK      44\n",
       "SD      40\n",
       "ND      37\n",
       "WY      34\n",
       "AL      32\n",
       "MS       1\n",
       "Name: State, dtype: int64"
      ]
     },
     "execution_count": 18,
     "metadata": {},
     "output_type": "execute_result"
    }
   ],
   "source": [
    "df_2020_11['State'].value_counts()"
   ]
  },
  {
   "cell_type": "code",
   "execution_count": 19,
   "id": "aba1ce28",
   "metadata": {},
   "outputs": [
    {
     "data": {
      "text/plain": [
       "94558    45\n",
       "7030     44\n",
       "11201    38\n",
       "10022    36\n",
       "60614    34\n",
       "         ..\n",
       "55339     1\n",
       "30213     1\n",
       "54983     1\n",
       "4011      1\n",
       "26501     1\n",
       "Name: Zip, Length: 7760, dtype: int64"
      ]
     },
     "execution_count": 19,
     "metadata": {},
     "output_type": "execute_result"
    }
   ],
   "source": [
    "df_2020_11['Zip'].value_counts()"
   ]
  },
  {
   "cell_type": "code",
   "execution_count": 20,
   "id": "85be0dcc",
   "metadata": {},
   "outputs": [
    {
     "data": {
      "text/plain": [
       "UPS      12153\n",
       "FEH       9272\n",
       "FXG       1129\n",
       "AZS         94\n",
       "UP3         87\n",
       "FEX         59\n",
       "WCU         39\n",
       "GSC         29\n",
       "WCP         28\n",
       "UP2         22\n",
       "FXE         19\n",
       "UP1          5\n",
       "FXP          2\n",
       "UPSNS        2\n",
       "Name: Shipping Service, dtype: int64"
      ]
     },
     "execution_count": 20,
     "metadata": {},
     "output_type": "execute_result"
    }
   ],
   "source": [
    "df_2020_11['Shipping Service'].value_counts()"
   ]
  },
  {
   "cell_type": "code",
   "execution_count": 21,
   "id": "74be41f6",
   "metadata": {},
   "outputs": [
    {
     "data": {
      "text/plain": [
       "11/18/20    6525\n",
       "11/3/20     3004\n",
       "11/17/20    1525\n",
       "11/23/20     927\n",
       "11/27/20     694\n",
       "11/24/20     692\n",
       "11/10/20     534\n",
       "11/29/20     510\n",
       "11/26/20     507\n",
       "11/11/20     489\n",
       "11/6/20      480\n",
       "11/16/20     471\n",
       "11/15/20     459\n",
       "11/9/20      449\n",
       "11/20/20     446\n",
       "11/22/20     426\n",
       "11/8/20      426\n",
       "11/2/20      414\n",
       "11/1/20      412\n",
       "11/25/20     402\n",
       "11/13/20     393\n",
       "11/28/20     349\n",
       "11/12/20     306\n",
       "11/4/20      301\n",
       "11/19/20     290\n",
       "11/5/20      279\n",
       "11/21/20     256\n",
       "10/30/20     218\n",
       "10/31/20     176\n",
       "11/7/20      169\n",
       "11/14/20     156\n",
       "10/26/20     119\n",
       "11/30/20      92\n",
       "10/27/20      11\n",
       "10/29/20       7\n",
       "9/30/20        5\n",
       "10/28/20       4\n",
       "9/2/20         4\n",
       "10/20/20       2\n",
       "10/13/20       2\n",
       "9/15/20        1\n",
       "10/14/20       1\n",
       "10/6/20        1\n",
       "9/21/20        1\n",
       "10/7/20        1\n",
       "10/12/20       1\n",
       "9/10/20        1\n",
       "10/16/20       1\n",
       "10/24/20       1\n",
       "Name: Created Date, dtype: int64"
      ]
     },
     "execution_count": 21,
     "metadata": {},
     "output_type": "execute_result"
    }
   ],
   "source": [
    "df_2020_11['Created Date'].value_counts()\n",
    "#Ok to have dates from other months- Sometimes people will create an order and hold onto it until an adult is present to sign for delivery."
   ]
  },
  {
   "cell_type": "code",
   "execution_count": 22,
   "id": "34adbd2f",
   "metadata": {},
   "outputs": [
    {
     "data": {
      "text/plain": [
       "7.00       7787\n",
       "21.50      4523\n",
       "14.00      2813\n",
       "10.50      1466\n",
       "41.00      1276\n",
       "39.00      1118\n",
       "20.20       843\n",
       "6.50        568\n",
       "9.90        506\n",
       "4.00        345\n",
       "27.00       260\n",
       "29.00       227\n",
       "18.50       219\n",
       "3.35        149\n",
       "26.00       124\n",
       "35.00       111\n",
       "32.00       109\n",
       "24.00        74\n",
       "30.00        73\n",
       "10.00        59\n",
       "33.00        54\n",
       "38.00        49\n",
       "17.20        46\n",
       "12.50        26\n",
       "7.50         20\n",
       "36.00        17\n",
       "13.50        16\n",
       "9.00         15\n",
       "17.00         9\n",
       "19.20         8\n",
       "37.00         4\n",
       "26.50         4\n",
       "3.00          3\n",
       "20.50         3\n",
       "17.50         3\n",
       "11.50         2\n",
       "2016.00       2\n",
       "14.20         1\n",
       "13.00         1\n",
       "28.50         1\n",
       "384.00        1\n",
       "720.00        1\n",
       "21.00         1\n",
       "15.20         1\n",
       "5.40          1\n",
       "1.85          1\n",
       "Name: Weight, dtype: int64"
      ]
     },
     "execution_count": 22,
     "metadata": {},
     "output_type": "execute_result"
    }
   ],
   "source": [
    "df_2020_11['Weight'].value_counts()"
   ]
  },
  {
   "cell_type": "code",
   "execution_count": 23,
   "id": "73bd62e8",
   "metadata": {},
   "outputs": [
    {
     "data": {
      "text/plain": [
       "2       7804\n",
       "6       5372\n",
       "4       2822\n",
       "12      2394\n",
       "3       1981\n",
       "1       1193\n",
       "8        474\n",
       "5        266\n",
       "7        207\n",
       "9        184\n",
       "10       167\n",
       "11        50\n",
       "13        14\n",
       "14         4\n",
       "2072       1\n",
       "128        1\n",
       "2272       1\n",
       "24         1\n",
       "18         1\n",
       "252        1\n",
       "240        1\n",
       "15         1\n",
       "Name: Item/Bottle Count, dtype: int64"
      ]
     },
     "execution_count": 23,
     "metadata": {},
     "output_type": "execute_result"
    }
   ],
   "source": [
    "df_2020_11['Item/Bottle Count'].value_counts()"
   ]
  },
  {
   "cell_type": "markdown",
   "id": "b28748d1",
   "metadata": {},
   "source": [
    "## Clean the Data"
   ]
  },
  {
   "cell_type": "code",
   "execution_count": 24,
   "id": "ae2074b6",
   "metadata": {},
   "outputs": [
    {
     "data": {
      "text/plain": [
       "Company Name          object\n",
       "Status                object\n",
       "Ship Date             object\n",
       "City                  object\n",
       "State                 object\n",
       "Zip                   object\n",
       "Shipping Service      object\n",
       "Created Date          object\n",
       "Weight               float64\n",
       "Item/Bottle Count    float64\n",
       "dtype: object"
      ]
     },
     "execution_count": 24,
     "metadata": {},
     "output_type": "execute_result"
    }
   ],
   "source": [
    "#Change [\"Item/Bottle Count\"] to float64 type in df_2020_11.\n",
    "df_2020_11[\"Item/Bottle Count\"]=df_2020_11[\"Item/Bottle Count\"].astype(float)\n",
    "df_2020_11.dtypes"
   ]
  },
  {
   "cell_type": "code",
   "execution_count": 25,
   "id": "2de5f1ce",
   "metadata": {},
   "outputs": [
    {
     "data": {
      "text/html": [
       "<div>\n",
       "<style scoped>\n",
       "    .dataframe tbody tr th:only-of-type {\n",
       "        vertical-align: middle;\n",
       "    }\n",
       "\n",
       "    .dataframe tbody tr th {\n",
       "        vertical-align: top;\n",
       "    }\n",
       "\n",
       "    .dataframe thead th {\n",
       "        text-align: right;\n",
       "    }\n",
       "</style>\n",
       "<table border=\"1\" class=\"dataframe\">\n",
       "  <thead>\n",
       "    <tr style=\"text-align: right;\">\n",
       "      <th></th>\n",
       "      <th>Company Name</th>\n",
       "      <th>Ship Date</th>\n",
       "      <th>City</th>\n",
       "      <th>State</th>\n",
       "      <th>Zip</th>\n",
       "      <th>Shipping Service</th>\n",
       "      <th>Created Date</th>\n",
       "      <th>Weight</th>\n",
       "      <th>Item/Bottle Count</th>\n",
       "    </tr>\n",
       "  </thead>\n",
       "  <tbody>\n",
       "    <tr>\n",
       "      <th>0</th>\n",
       "      <td>Ecom1</td>\n",
       "      <td>11/2/20</td>\n",
       "      <td>Topanga</td>\n",
       "      <td>CA</td>\n",
       "      <td>90290</td>\n",
       "      <td>FEH</td>\n",
       "      <td>10/30/20</td>\n",
       "      <td>6.5</td>\n",
       "      <td>1.0</td>\n",
       "    </tr>\n",
       "    <tr>\n",
       "      <th>1</th>\n",
       "      <td>Ecom1</td>\n",
       "      <td>11/2/20</td>\n",
       "      <td>Los Angeles</td>\n",
       "      <td>CA</td>\n",
       "      <td>90012</td>\n",
       "      <td>FEH</td>\n",
       "      <td>10/30/20</td>\n",
       "      <td>6.5</td>\n",
       "      <td>1.0</td>\n",
       "    </tr>\n",
       "    <tr>\n",
       "      <th>2</th>\n",
       "      <td>Ecom1</td>\n",
       "      <td>11/2/20</td>\n",
       "      <td>La Verne</td>\n",
       "      <td>CA</td>\n",
       "      <td>91750</td>\n",
       "      <td>FEH</td>\n",
       "      <td>10/30/20</td>\n",
       "      <td>6.5</td>\n",
       "      <td>1.0</td>\n",
       "    </tr>\n",
       "    <tr>\n",
       "      <th>3</th>\n",
       "      <td>Ecom1</td>\n",
       "      <td>11/2/20</td>\n",
       "      <td>Lancaster</td>\n",
       "      <td>CA</td>\n",
       "      <td>93536</td>\n",
       "      <td>FEH</td>\n",
       "      <td>10/30/20</td>\n",
       "      <td>6.5</td>\n",
       "      <td>1.0</td>\n",
       "    </tr>\n",
       "    <tr>\n",
       "      <th>4</th>\n",
       "      <td>Ecom1</td>\n",
       "      <td>11/2/20</td>\n",
       "      <td>Reseda</td>\n",
       "      <td>CA</td>\n",
       "      <td>91335</td>\n",
       "      <td>FEH</td>\n",
       "      <td>10/30/20</td>\n",
       "      <td>6.5</td>\n",
       "      <td>1.0</td>\n",
       "    </tr>\n",
       "    <tr>\n",
       "      <th>...</th>\n",
       "      <td>...</td>\n",
       "      <td>...</td>\n",
       "      <td>...</td>\n",
       "      <td>...</td>\n",
       "      <td>...</td>\n",
       "      <td>...</td>\n",
       "      <td>...</td>\n",
       "      <td>...</td>\n",
       "      <td>...</td>\n",
       "    </tr>\n",
       "    <tr>\n",
       "      <th>22935</th>\n",
       "      <td>Winery3</td>\n",
       "      <td>11/30/20</td>\n",
       "      <td>Morgantown</td>\n",
       "      <td>WV</td>\n",
       "      <td>26501</td>\n",
       "      <td>UPS</td>\n",
       "      <td>11/30/20</td>\n",
       "      <td>21.5</td>\n",
       "      <td>6.0</td>\n",
       "    </tr>\n",
       "    <tr>\n",
       "      <th>22936</th>\n",
       "      <td>Winery3</td>\n",
       "      <td>11/30/20</td>\n",
       "      <td>Keller</td>\n",
       "      <td>TX</td>\n",
       "      <td>76248</td>\n",
       "      <td>UPS</td>\n",
       "      <td>11/30/20</td>\n",
       "      <td>4.0</td>\n",
       "      <td>1.0</td>\n",
       "    </tr>\n",
       "    <tr>\n",
       "      <th>22937</th>\n",
       "      <td>Winery3</td>\n",
       "      <td>11/30/20</td>\n",
       "      <td>Quincy</td>\n",
       "      <td>MA</td>\n",
       "      <td>2169</td>\n",
       "      <td>UPS</td>\n",
       "      <td>11/30/20</td>\n",
       "      <td>21.5</td>\n",
       "      <td>6.0</td>\n",
       "    </tr>\n",
       "    <tr>\n",
       "      <th>22938</th>\n",
       "      <td>Winery3</td>\n",
       "      <td>11/30/20</td>\n",
       "      <td>Union City</td>\n",
       "      <td>CA</td>\n",
       "      <td>94587</td>\n",
       "      <td>GSC</td>\n",
       "      <td>11/30/20</td>\n",
       "      <td>21.5</td>\n",
       "      <td>6.0</td>\n",
       "    </tr>\n",
       "    <tr>\n",
       "      <th>22939</th>\n",
       "      <td>Winery3</td>\n",
       "      <td>11/30/20</td>\n",
       "      <td>Branson</td>\n",
       "      <td>MO</td>\n",
       "      <td>65616</td>\n",
       "      <td>UPS</td>\n",
       "      <td>11/30/20</td>\n",
       "      <td>21.5</td>\n",
       "      <td>6.0</td>\n",
       "    </tr>\n",
       "  </tbody>\n",
       "</table>\n",
       "<p>22940 rows × 9 columns</p>\n",
       "</div>"
      ],
      "text/plain": [
       "      Company Name Ship Date         City State    Zip Shipping Service  \\\n",
       "0            Ecom1   11/2/20      Topanga    CA  90290              FEH   \n",
       "1            Ecom1   11/2/20  Los Angeles    CA  90012              FEH   \n",
       "2            Ecom1   11/2/20     La Verne    CA  91750              FEH   \n",
       "3            Ecom1   11/2/20    Lancaster    CA  93536              FEH   \n",
       "4            Ecom1   11/2/20       Reseda    CA  91335              FEH   \n",
       "...            ...       ...          ...   ...    ...              ...   \n",
       "22935      Winery3  11/30/20   Morgantown    WV  26501              UPS   \n",
       "22936      Winery3  11/30/20       Keller    TX  76248              UPS   \n",
       "22937      Winery3  11/30/20       Quincy    MA   2169              UPS   \n",
       "22938      Winery3  11/30/20   Union City    CA  94587              GSC   \n",
       "22939      Winery3  11/30/20      Branson    MO  65616              UPS   \n",
       "\n",
       "      Created Date  Weight  Item/Bottle Count  \n",
       "0         10/30/20     6.5                1.0  \n",
       "1         10/30/20     6.5                1.0  \n",
       "2         10/30/20     6.5                1.0  \n",
       "3         10/30/20     6.5                1.0  \n",
       "4         10/30/20     6.5                1.0  \n",
       "...            ...     ...                ...  \n",
       "22935     11/30/20    21.5                6.0  \n",
       "22936     11/30/20     4.0                1.0  \n",
       "22937     11/30/20    21.5                6.0  \n",
       "22938     11/30/20    21.5                6.0  \n",
       "22939     11/30/20    21.5                6.0  \n",
       "\n",
       "[22940 rows x 9 columns]"
      ]
     },
     "execution_count": 25,
     "metadata": {},
     "output_type": "execute_result"
    }
   ],
   "source": [
    "#Remove \"Status\" column from df_2020_11.\n",
    "df_2020_11 = df_2020_11.drop('Status', axis=1)\n",
    "df_2020_11"
   ]
  },
  {
   "cell_type": "code",
   "execution_count": 26,
   "id": "0374b7d7",
   "metadata": {},
   "outputs": [],
   "source": [
    "# Drop the NaNs for df_2020_11.\n",
    "df_2020_11 = df_2020_11.dropna()"
   ]
  },
  {
   "cell_type": "markdown",
   "id": "b54ac18d",
   "metadata": {},
   "source": [
    "## Confirm Changes"
   ]
  },
  {
   "cell_type": "code",
   "execution_count": 27,
   "id": "717b65ec",
   "metadata": {},
   "outputs": [
    {
     "data": {
      "text/html": [
       "<div>\n",
       "<style scoped>\n",
       "    .dataframe tbody tr th:only-of-type {\n",
       "        vertical-align: middle;\n",
       "    }\n",
       "\n",
       "    .dataframe tbody tr th {\n",
       "        vertical-align: top;\n",
       "    }\n",
       "\n",
       "    .dataframe thead th {\n",
       "        text-align: right;\n",
       "    }\n",
       "</style>\n",
       "<table border=\"1\" class=\"dataframe\">\n",
       "  <thead>\n",
       "    <tr style=\"text-align: right;\">\n",
       "      <th></th>\n",
       "      <th>Company Name</th>\n",
       "      <th>Ship Date</th>\n",
       "      <th>City</th>\n",
       "      <th>State</th>\n",
       "      <th>Zip</th>\n",
       "      <th>Shipping Service</th>\n",
       "      <th>Created Date</th>\n",
       "      <th>Weight</th>\n",
       "      <th>Item/Bottle Count</th>\n",
       "    </tr>\n",
       "  </thead>\n",
       "  <tbody>\n",
       "    <tr>\n",
       "      <th>16482</th>\n",
       "      <td>Ecom3</td>\n",
       "      <td>11/20/20</td>\n",
       "      <td>Stamford</td>\n",
       "      <td>CT</td>\n",
       "      <td>6905</td>\n",
       "      <td>UPS</td>\n",
       "      <td>11/19/20</td>\n",
       "      <td>27.0</td>\n",
       "      <td>8.0</td>\n",
       "    </tr>\n",
       "    <tr>\n",
       "      <th>13729</th>\n",
       "      <td>Ecom2</td>\n",
       "      <td>11/20/20</td>\n",
       "      <td>North Easton</td>\n",
       "      <td>MA</td>\n",
       "      <td>2356</td>\n",
       "      <td>UPS</td>\n",
       "      <td>11/18/20</td>\n",
       "      <td>7.0</td>\n",
       "      <td>2.0</td>\n",
       "    </tr>\n",
       "    <tr>\n",
       "      <th>22419</th>\n",
       "      <td>Ecom3</td>\n",
       "      <td>11/30/20</td>\n",
       "      <td>Haverstraw</td>\n",
       "      <td>NY</td>\n",
       "      <td>10927</td>\n",
       "      <td>FEH</td>\n",
       "      <td>11/29/20</td>\n",
       "      <td>32.0</td>\n",
       "      <td>9.0</td>\n",
       "    </tr>\n",
       "    <tr>\n",
       "      <th>5754</th>\n",
       "      <td>Ecom1</td>\n",
       "      <td>11/9/20</td>\n",
       "      <td>Yaphank</td>\n",
       "      <td>NY</td>\n",
       "      <td>11980</td>\n",
       "      <td>FEH</td>\n",
       "      <td>11/8/20</td>\n",
       "      <td>10.5</td>\n",
       "      <td>3.0</td>\n",
       "    </tr>\n",
       "    <tr>\n",
       "      <th>10792</th>\n",
       "      <td>Ecom2</td>\n",
       "      <td>11/19/20</td>\n",
       "      <td>Trumbull</td>\n",
       "      <td>CT</td>\n",
       "      <td>6611</td>\n",
       "      <td>FEH</td>\n",
       "      <td>11/18/20</td>\n",
       "      <td>7.0</td>\n",
       "      <td>2.0</td>\n",
       "    </tr>\n",
       "  </tbody>\n",
       "</table>\n",
       "</div>"
      ],
      "text/plain": [
       "      Company Name Ship Date          City State    Zip Shipping Service  \\\n",
       "16482        Ecom3  11/20/20      Stamford    CT   6905              UPS   \n",
       "13729        Ecom2  11/20/20  North Easton    MA   2356              UPS   \n",
       "22419        Ecom3  11/30/20    Haverstraw    NY  10927              FEH   \n",
       "5754         Ecom1   11/9/20       Yaphank    NY  11980              FEH   \n",
       "10792        Ecom2  11/19/20      Trumbull    CT   6611              FEH   \n",
       "\n",
       "      Created Date  Weight  Item/Bottle Count  \n",
       "16482     11/19/20    27.0                8.0  \n",
       "13729     11/18/20     7.0                2.0  \n",
       "22419     11/29/20    32.0                9.0  \n",
       "5754       11/8/20    10.5                3.0  \n",
       "10792     11/18/20     7.0                2.0  "
      ]
     },
     "execution_count": 27,
     "metadata": {},
     "output_type": "execute_result"
    }
   ],
   "source": [
    "#See five random rows of data\n",
    "df_2020_11.sample(n=5)"
   ]
  },
  {
   "cell_type": "code",
   "execution_count": 28,
   "id": "2f59ad5f",
   "metadata": {},
   "outputs": [
    {
     "name": "stdout",
     "output_type": "stream",
     "text": [
      "Number of Rows:  22940\n",
      "Number of Columns:  9\n"
     ]
    }
   ],
   "source": [
    "#Determine total rows for df_2020_11.\n",
    "df_2020_11_rows = len(df_2020_11.axes[0])\n",
    "df_2020_11_cols = len(df_2020_11.axes[1])\n",
    "print(\"Number of Rows: \", df_2020_11_rows)\n",
    "print(\"Number of Columns: \", df_2020_11_cols)"
   ]
  },
  {
   "cell_type": "markdown",
   "id": "625b4837",
   "metadata": {},
   "source": [
    "## Export Cleaned df to .CSV"
   ]
  },
  {
   "cell_type": "code",
   "execution_count": 29,
   "id": "f5a7980c",
   "metadata": {},
   "outputs": [],
   "source": [
    "#Export df_2020_11 to .csv\n",
    "df_2020_11.to_csv('../cleaned_months_2020/Clean_2020_11.csv') "
   ]
  },
  {
   "cell_type": "code",
   "execution_count": null,
   "id": "aafdefb9",
   "metadata": {},
   "outputs": [],
   "source": []
  }
 ],
 "metadata": {
  "kernelspec": {
   "display_name": "Python 3 (ipykernel)",
   "language": "python",
   "name": "python3"
  },
  "language_info": {
   "codemirror_mode": {
    "name": "ipython",
    "version": 3
   },
   "file_extension": ".py",
   "mimetype": "text/x-python",
   "name": "python",
   "nbconvert_exporter": "python",
   "pygments_lexer": "ipython3",
   "version": "3.7.13"
  }
 },
 "nbformat": 4,
 "nbformat_minor": 5
}
