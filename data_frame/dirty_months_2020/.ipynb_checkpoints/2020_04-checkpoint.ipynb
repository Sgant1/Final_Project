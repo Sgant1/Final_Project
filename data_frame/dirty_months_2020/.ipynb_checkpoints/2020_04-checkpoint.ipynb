{
 "cells": [
  {
   "cell_type": "code",
   "execution_count": 1,
   "id": "1f30ec89",
   "metadata": {},
   "outputs": [],
   "source": [
    "#Pandas library to create DataFrames\n",
    "import pandas as pd\n",
    "#NumPy library for converting data types\n",
    "import numpy as np"
   ]
  },
  {
   "cell_type": "code",
   "execution_count": 4,
   "id": "7d4569c3",
   "metadata": {},
   "outputs": [],
   "source": [
    "# Files to load\n",
    "load_2020_04 = \"../../2020_Data/2020.04copy.csv\""
   ]
  },
  {
   "cell_type": "code",
   "execution_count": 5,
   "id": "5bf26e77",
   "metadata": {},
   "outputs": [
    {
     "data": {
      "text/html": [
       "<div>\n",
       "<style scoped>\n",
       "    .dataframe tbody tr th:only-of-type {\n",
       "        vertical-align: middle;\n",
       "    }\n",
       "\n",
       "    .dataframe tbody tr th {\n",
       "        vertical-align: top;\n",
       "    }\n",
       "\n",
       "    .dataframe thead th {\n",
       "        text-align: right;\n",
       "    }\n",
       "</style>\n",
       "<table border=\"1\" class=\"dataframe\">\n",
       "  <thead>\n",
       "    <tr style=\"text-align: right;\">\n",
       "      <th></th>\n",
       "      <th>Company Name</th>\n",
       "      <th>Status</th>\n",
       "      <th>Ship Date</th>\n",
       "      <th>City</th>\n",
       "      <th>State</th>\n",
       "      <th>Zip</th>\n",
       "      <th>Shipping Service</th>\n",
       "      <th>Created Date</th>\n",
       "      <th>Weight</th>\n",
       "      <th>Item/Bottle Count</th>\n",
       "    </tr>\n",
       "  </thead>\n",
       "  <tbody>\n",
       "    <tr>\n",
       "      <th>0</th>\n",
       "      <td>Ecom3</td>\n",
       "      <td>In Transit</td>\n",
       "      <td>4/2/20</td>\n",
       "      <td>Marco Island</td>\n",
       "      <td>FL</td>\n",
       "      <td>34145</td>\n",
       "      <td>UPS</td>\n",
       "      <td>4/1/20</td>\n",
       "      <td>21.5</td>\n",
       "      <td>6.0</td>\n",
       "    </tr>\n",
       "    <tr>\n",
       "      <th>1</th>\n",
       "      <td>Ecom3</td>\n",
       "      <td>Delivered</td>\n",
       "      <td>4/1/20</td>\n",
       "      <td>Dana Point</td>\n",
       "      <td>CA</td>\n",
       "      <td>92629</td>\n",
       "      <td>UPS</td>\n",
       "      <td>4/1/20</td>\n",
       "      <td>18.5</td>\n",
       "      <td>5.0</td>\n",
       "    </tr>\n",
       "    <tr>\n",
       "      <th>2</th>\n",
       "      <td>Ecom3</td>\n",
       "      <td>In Transit</td>\n",
       "      <td>4/2/20</td>\n",
       "      <td>Port Orange</td>\n",
       "      <td>FL</td>\n",
       "      <td>32127</td>\n",
       "      <td>UPS</td>\n",
       "      <td>4/2/20</td>\n",
       "      <td>9.9</td>\n",
       "      <td>3.0</td>\n",
       "    </tr>\n",
       "    <tr>\n",
       "      <th>3</th>\n",
       "      <td>Ecom3</td>\n",
       "      <td>Delivered</td>\n",
       "      <td>4/3/20</td>\n",
       "      <td>Glen Mills</td>\n",
       "      <td>PA</td>\n",
       "      <td>19342</td>\n",
       "      <td>UPS</td>\n",
       "      <td>4/2/20</td>\n",
       "      <td>41.0</td>\n",
       "      <td>12.0</td>\n",
       "    </tr>\n",
       "    <tr>\n",
       "      <th>4</th>\n",
       "      <td>Ecom3</td>\n",
       "      <td>Delivered</td>\n",
       "      <td>4/1/20</td>\n",
       "      <td>San Diego</td>\n",
       "      <td>CA</td>\n",
       "      <td>92130</td>\n",
       "      <td>UPS</td>\n",
       "      <td>4/1/20</td>\n",
       "      <td>21.5</td>\n",
       "      <td>6.0</td>\n",
       "    </tr>\n",
       "  </tbody>\n",
       "</table>\n",
       "</div>"
      ],
      "text/plain": [
       "  Company Name      Status Ship Date          City State    Zip  \\\n",
       "0        Ecom3  In Transit    4/2/20  Marco Island    FL  34145   \n",
       "1        Ecom3   Delivered    4/1/20    Dana Point    CA  92629   \n",
       "2        Ecom3  In Transit    4/2/20   Port Orange    FL  32127   \n",
       "3        Ecom3   Delivered    4/3/20    Glen Mills    PA  19342   \n",
       "4        Ecom3   Delivered    4/1/20     San Diego    CA  92130   \n",
       "\n",
       "  Shipping Service Created Date  Weight  Item/Bottle Count  \n",
       "0              UPS       4/1/20    21.5                6.0  \n",
       "1              UPS       4/1/20    18.5                5.0  \n",
       "2              UPS       4/2/20     9.9                3.0  \n",
       "3              UPS       4/2/20    41.0               12.0  \n",
       "4              UPS       4/1/20    21.5                6.0  "
      ]
     },
     "execution_count": 5,
     "metadata": {},
     "output_type": "execute_result"
    }
   ],
   "source": [
    "# Read the April CSV into a DataFrame\n",
    "#Had to open each file in excel and save it as a .csv file instead of an .xlsm file in order for the encryption to be read properly.\n",
    "df_2020_04 = pd.read_csv(load_2020_04)\n",
    "df_2020_04.head()"
   ]
  },
  {
   "cell_type": "markdown",
   "id": "175df6a6",
   "metadata": {},
   "source": [
    "## Inspect the Data"
   ]
  },
  {
   "cell_type": "code",
   "execution_count": 6,
   "id": "2cdb2387",
   "metadata": {},
   "outputs": [
    {
     "data": {
      "text/html": [
       "<div>\n",
       "<style scoped>\n",
       "    .dataframe tbody tr th:only-of-type {\n",
       "        vertical-align: middle;\n",
       "    }\n",
       "\n",
       "    .dataframe tbody tr th {\n",
       "        vertical-align: top;\n",
       "    }\n",
       "\n",
       "    .dataframe thead th {\n",
       "        text-align: right;\n",
       "    }\n",
       "</style>\n",
       "<table border=\"1\" class=\"dataframe\">\n",
       "  <thead>\n",
       "    <tr style=\"text-align: right;\">\n",
       "      <th></th>\n",
       "      <th>Company Name</th>\n",
       "      <th>Status</th>\n",
       "      <th>Ship Date</th>\n",
       "      <th>City</th>\n",
       "      <th>State</th>\n",
       "      <th>Zip</th>\n",
       "      <th>Shipping Service</th>\n",
       "      <th>Created Date</th>\n",
       "      <th>Weight</th>\n",
       "      <th>Item/Bottle Count</th>\n",
       "    </tr>\n",
       "  </thead>\n",
       "  <tbody>\n",
       "    <tr>\n",
       "      <th>13616</th>\n",
       "      <td>Ecom2</td>\n",
       "      <td>Shipped</td>\n",
       "      <td>4/24/20</td>\n",
       "      <td>Austin</td>\n",
       "      <td>TX</td>\n",
       "      <td>78702</td>\n",
       "      <td>LSO1</td>\n",
       "      <td>4/23/20</td>\n",
       "      <td>7.0</td>\n",
       "      <td>1.0</td>\n",
       "    </tr>\n",
       "    <tr>\n",
       "      <th>7619</th>\n",
       "      <td>Winery1</td>\n",
       "      <td>Delivered</td>\n",
       "      <td>4/15/20</td>\n",
       "      <td>San Diego</td>\n",
       "      <td>CA</td>\n",
       "      <td>92106</td>\n",
       "      <td>UPS</td>\n",
       "      <td>NaN</td>\n",
       "      <td>NaN</td>\n",
       "      <td>NaN</td>\n",
       "    </tr>\n",
       "    <tr>\n",
       "      <th>9731</th>\n",
       "      <td>Ecom1</td>\n",
       "      <td>In Transit</td>\n",
       "      <td>4/17/20</td>\n",
       "      <td>Mars</td>\n",
       "      <td>PA</td>\n",
       "      <td>16046</td>\n",
       "      <td>FXG</td>\n",
       "      <td>NaN</td>\n",
       "      <td>NaN</td>\n",
       "      <td>NaN</td>\n",
       "    </tr>\n",
       "    <tr>\n",
       "      <th>8855</th>\n",
       "      <td>Winery1</td>\n",
       "      <td>Shipped</td>\n",
       "      <td>4/17/20</td>\n",
       "      <td>Phoenix</td>\n",
       "      <td>AZ</td>\n",
       "      <td>85016</td>\n",
       "      <td>AZS</td>\n",
       "      <td>NaN</td>\n",
       "      <td>NaN</td>\n",
       "      <td>NaN</td>\n",
       "    </tr>\n",
       "    <tr>\n",
       "      <th>17587</th>\n",
       "      <td>Ecom1</td>\n",
       "      <td>Delivered</td>\n",
       "      <td>4/30/20</td>\n",
       "      <td>Los Angeles</td>\n",
       "      <td>CA</td>\n",
       "      <td>90015</td>\n",
       "      <td>FEH</td>\n",
       "      <td>4/22/20</td>\n",
       "      <td>20.2</td>\n",
       "      <td>6.0</td>\n",
       "    </tr>\n",
       "  </tbody>\n",
       "</table>\n",
       "</div>"
      ],
      "text/plain": [
       "      Company Name      Status Ship Date         City State    Zip  \\\n",
       "13616        Ecom2     Shipped   4/24/20       Austin    TX  78702   \n",
       "7619       Winery1   Delivered   4/15/20    San Diego    CA  92106   \n",
       "9731         Ecom1  In Transit   4/17/20         Mars    PA  16046   \n",
       "8855       Winery1     Shipped   4/17/20      Phoenix    AZ  85016   \n",
       "17587        Ecom1   Delivered   4/30/20  Los Angeles    CA  90015   \n",
       "\n",
       "      Shipping Service Created Date  Weight  Item/Bottle Count  \n",
       "13616             LSO1      4/23/20     7.0                1.0  \n",
       "7619               UPS          NaN     NaN                NaN  \n",
       "9731               FXG          NaN     NaN                NaN  \n",
       "8855               AZS          NaN     NaN                NaN  \n",
       "17587              FEH      4/22/20    20.2                6.0  "
      ]
     },
     "execution_count": 6,
     "metadata": {},
     "output_type": "execute_result"
    }
   ],
   "source": [
    "#See five random rows of data\n",
    "df_2020_04.sample(n=5)"
   ]
  },
  {
   "cell_type": "code",
   "execution_count": 7,
   "id": "a7bdb733",
   "metadata": {},
   "outputs": [
    {
     "data": {
      "text/html": [
       "<div>\n",
       "<style scoped>\n",
       "    .dataframe tbody tr th:only-of-type {\n",
       "        vertical-align: middle;\n",
       "    }\n",
       "\n",
       "    .dataframe tbody tr th {\n",
       "        vertical-align: top;\n",
       "    }\n",
       "\n",
       "    .dataframe thead th {\n",
       "        text-align: right;\n",
       "    }\n",
       "</style>\n",
       "<table border=\"1\" class=\"dataframe\">\n",
       "  <thead>\n",
       "    <tr style=\"text-align: right;\">\n",
       "      <th></th>\n",
       "      <th>Company Name</th>\n",
       "      <th>Status</th>\n",
       "      <th>Ship Date</th>\n",
       "      <th>City</th>\n",
       "      <th>State</th>\n",
       "      <th>Zip</th>\n",
       "      <th>Shipping Service</th>\n",
       "      <th>Created Date</th>\n",
       "      <th>Weight</th>\n",
       "      <th>Item/Bottle Count</th>\n",
       "    </tr>\n",
       "  </thead>\n",
       "  <tbody>\n",
       "    <tr>\n",
       "      <th>21293</th>\n",
       "      <td>Winery3</td>\n",
       "      <td>Delivered</td>\n",
       "      <td>4/27/20</td>\n",
       "      <td>Pacifica</td>\n",
       "      <td>CA</td>\n",
       "      <td>94044</td>\n",
       "      <td>GSC</td>\n",
       "      <td>4/27/20</td>\n",
       "      <td>14.0</td>\n",
       "      <td>4.0</td>\n",
       "    </tr>\n",
       "    <tr>\n",
       "      <th>21294</th>\n",
       "      <td>Winery3</td>\n",
       "      <td>In Transit</td>\n",
       "      <td>4/27/20</td>\n",
       "      <td>Pacifica</td>\n",
       "      <td>CA</td>\n",
       "      <td>94044</td>\n",
       "      <td>GSC</td>\n",
       "      <td>4/27/20</td>\n",
       "      <td>7.0</td>\n",
       "      <td>2.0</td>\n",
       "    </tr>\n",
       "    <tr>\n",
       "      <th>21295</th>\n",
       "      <td>Winery3</td>\n",
       "      <td>In Transit</td>\n",
       "      <td>4/28/20</td>\n",
       "      <td>Gardena</td>\n",
       "      <td>CA</td>\n",
       "      <td>90249</td>\n",
       "      <td>GSC</td>\n",
       "      <td>4/28/20</td>\n",
       "      <td>21.5</td>\n",
       "      <td>6.0</td>\n",
       "    </tr>\n",
       "    <tr>\n",
       "      <th>21296</th>\n",
       "      <td>Winery3</td>\n",
       "      <td>In Transit</td>\n",
       "      <td>4/29/20</td>\n",
       "      <td>Durham</td>\n",
       "      <td>CA</td>\n",
       "      <td>95938</td>\n",
       "      <td>GSC</td>\n",
       "      <td>4/29/20</td>\n",
       "      <td>21.5</td>\n",
       "      <td>6.0</td>\n",
       "    </tr>\n",
       "    <tr>\n",
       "      <th>21297</th>\n",
       "      <td>Winery3</td>\n",
       "      <td>In Transit</td>\n",
       "      <td>4/30/20</td>\n",
       "      <td>Tulsa</td>\n",
       "      <td>OK</td>\n",
       "      <td>74104</td>\n",
       "      <td>UPS</td>\n",
       "      <td>4/30/20</td>\n",
       "      <td>41.0</td>\n",
       "      <td>12.0</td>\n",
       "    </tr>\n",
       "  </tbody>\n",
       "</table>\n",
       "</div>"
      ],
      "text/plain": [
       "      Company Name      Status Ship Date      City State    Zip  \\\n",
       "21293      Winery3   Delivered   4/27/20  Pacifica    CA  94044   \n",
       "21294      Winery3  In Transit   4/27/20  Pacifica    CA  94044   \n",
       "21295      Winery3  In Transit   4/28/20   Gardena    CA  90249   \n",
       "21296      Winery3  In Transit   4/29/20    Durham    CA  95938   \n",
       "21297      Winery3  In Transit   4/30/20     Tulsa    OK  74104   \n",
       "\n",
       "      Shipping Service Created Date  Weight  Item/Bottle Count  \n",
       "21293              GSC      4/27/20    14.0                4.0  \n",
       "21294              GSC      4/27/20     7.0                2.0  \n",
       "21295              GSC      4/28/20    21.5                6.0  \n",
       "21296              GSC      4/29/20    21.5                6.0  \n",
       "21297              UPS      4/30/20    41.0               12.0  "
      ]
     },
     "execution_count": 7,
     "metadata": {},
     "output_type": "execute_result"
    }
   ],
   "source": [
    "#See the last rows of data\n",
    "df_2020_04.tail(5)"
   ]
  },
  {
   "cell_type": "code",
   "execution_count": 8,
   "id": "a820ba41",
   "metadata": {},
   "outputs": [
    {
     "data": {
      "text/plain": [
       "Index(['Company Name', 'Status', 'Ship Date', 'City', 'State', 'Zip',\n",
       "       'Shipping Service', 'Created Date', 'Weight', 'Item/Bottle Count'],\n",
       "      dtype='object')"
      ]
     },
     "execution_count": 8,
     "metadata": {},
     "output_type": "execute_result"
    }
   ],
   "source": [
    "df_2020_04.columns"
   ]
  },
  {
   "cell_type": "code",
   "execution_count": 9,
   "id": "7410d9e5",
   "metadata": {},
   "outputs": [
    {
     "name": "stdout",
     "output_type": "stream",
     "text": [
      "Number of Rows:  21298\n",
      "Number of Columns:  10\n"
     ]
    }
   ],
   "source": [
    "#Determine total rows for df_2020_04.\n",
    "df_2020_04_rows = len(df_2020_04.axes[0])\n",
    "df_2020_04_cols = len(df_2020_04.axes[1])\n",
    "print(\"Number of Rows: \", df_2020_04_rows)\n",
    "print(\"Number of Columns: \", df_2020_04_cols)"
   ]
  },
  {
   "cell_type": "code",
   "execution_count": 10,
   "id": "4caf57c3",
   "metadata": {},
   "outputs": [
    {
     "data": {
      "text/plain": [
       "Company Name            0\n",
       "Status                  0\n",
       "Ship Date               0\n",
       "City                    0\n",
       "State                   0\n",
       "Zip                     0\n",
       "Shipping Service        0\n",
       "Created Date         6439\n",
       "Weight               6439\n",
       "Item/Bottle Count    6439\n",
       "dtype: int64"
      ]
     },
     "execution_count": 10,
     "metadata": {},
     "output_type": "execute_result"
    }
   ],
   "source": [
    "# Determine if there are any missing values in df_2020_04.\n",
    "df_2020_04.isnull().sum()"
   ]
  },
  {
   "cell_type": "code",
   "execution_count": 11,
   "id": "d2ad8510",
   "metadata": {},
   "outputs": [
    {
     "data": {
      "text/plain": [
       "Company Name          object\n",
       "Status                object\n",
       "Ship Date             object\n",
       "City                  object\n",
       "State                 object\n",
       "Zip                   object\n",
       "Shipping Service      object\n",
       "Created Date          object\n",
       "Weight               float64\n",
       "Item/Bottle Count    float64\n",
       "dtype: object"
      ]
     },
     "execution_count": 11,
     "metadata": {},
     "output_type": "execute_result"
    }
   ],
   "source": [
    "# Determine data types for df_2020_04.\n",
    "df_2020_04.dtypes"
   ]
  },
  {
   "cell_type": "code",
   "execution_count": 12,
   "id": "4061fbbf",
   "metadata": {},
   "outputs": [
    {
     "data": {
      "text/plain": [
       "Ecom3      9977\n",
       "Ecom1      5165\n",
       "Winery1    2645\n",
       "Ecom2      2289\n",
       "Winery2     728\n",
       "Winery3     494\n",
       "Name: Company Name, dtype: int64"
      ]
     },
     "execution_count": 12,
     "metadata": {},
     "output_type": "execute_result"
    }
   ],
   "source": [
    "df_2020_04['Company Name'].value_counts()"
   ]
  },
  {
   "cell_type": "code",
   "execution_count": 13,
   "id": "aac39571",
   "metadata": {},
   "outputs": [
    {
     "data": {
      "text/plain": [
       "4/17/20    3001\n",
       "4/24/20    2125\n",
       "4/15/20    1321\n",
       "4/13/20    1270\n",
       "4/20/20    1134\n",
       "4/27/20    1061\n",
       "4/10/20    1015\n",
       "4/6/20     1006\n",
       "4/29/20     987\n",
       "4/23/20     960\n",
       "4/7/20      885\n",
       "4/1/20      871\n",
       "4/28/20     777\n",
       "4/3/20      674\n",
       "4/22/20     671\n",
       "4/8/20      612\n",
       "4/9/20      572\n",
       "4/14/20     549\n",
       "4/21/20     484\n",
       "4/16/20     429\n",
       "4/30/20     412\n",
       "4/11/20     247\n",
       "4/2/20      235\n",
       "Name: Ship Date, dtype: int64"
      ]
     },
     "execution_count": 13,
     "metadata": {},
     "output_type": "execute_result"
    }
   ],
   "source": [
    "df_2020_04['Ship Date'].value_counts()"
   ]
  },
  {
   "cell_type": "code",
   "execution_count": 14,
   "id": "ff45ee9d",
   "metadata": {},
   "outputs": [
    {
     "data": {
      "text/plain": [
       "Delivered            11282\n",
       "In Transit            5867\n",
       "Shipped               3535\n",
       "Carrier Exception      495\n",
       "Delivery Attempt       119\n",
       "Name: Status, dtype: int64"
      ]
     },
     "execution_count": 14,
     "metadata": {},
     "output_type": "execute_result"
    }
   ],
   "source": [
    "df_2020_04['Status'].value_counts()"
   ]
  },
  {
   "cell_type": "code",
   "execution_count": 15,
   "id": "ae707cc4",
   "metadata": {},
   "outputs": [
    {
     "data": {
      "text/plain": [
       "New York         438\n",
       "Chicago          312\n",
       "Philadelphia     238\n",
       "Brooklyn         206\n",
       "Pittsburgh       201\n",
       "                ... \n",
       "Minooka            1\n",
       "Watervliet         1\n",
       "Norway             1\n",
       "Dundee             1\n",
       "Saint charles      1\n",
       "Name: City, Length: 5128, dtype: int64"
      ]
     },
     "execution_count": 15,
     "metadata": {},
     "output_type": "execute_result"
    }
   ],
   "source": [
    "df_2020_04['City'].value_counts()"
   ]
  },
  {
   "cell_type": "code",
   "execution_count": 16,
   "id": "a8718b4d",
   "metadata": {},
   "outputs": [
    {
     "data": {
      "text/plain": [
       "CA    2400\n",
       "NY    2157\n",
       "PA    2013\n",
       "FL    1412\n",
       "TX    1357\n",
       "NJ    1106\n",
       "IL    1003\n",
       "MA     802\n",
       "MI     692\n",
       "OH     669\n",
       "VA     592\n",
       "GA     581\n",
       "CO     517\n",
       "NC     510\n",
       "MD     495\n",
       "WA     390\n",
       "CT     389\n",
       "TN     383\n",
       "AZ     355\n",
       "IN     311\n",
       "WI     276\n",
       "MN     255\n",
       "MO     237\n",
       "SC     233\n",
       "LA     219\n",
       "OR     196\n",
       "DC     172\n",
       "NV     141\n",
       "RI     137\n",
       "HI     117\n",
       "KS     114\n",
       "IA     108\n",
       "AR     108\n",
       "NH     106\n",
       "NE      92\n",
       "ME      79\n",
       "NM      76\n",
       "OK      75\n",
       "AL      73\n",
       "ID      64\n",
       "WV      52\n",
       "VT      47\n",
       "MT      45\n",
       "AK      38\n",
       "ND      29\n",
       "SD      28\n",
       "WY      24\n",
       "DE      22\n",
       "Va       1\n",
       "Name: State, dtype: int64"
      ]
     },
     "execution_count": 16,
     "metadata": {},
     "output_type": "execute_result"
    }
   ],
   "source": [
    "df_2020_04['State'].value_counts()"
   ]
  },
  {
   "cell_type": "code",
   "execution_count": 17,
   "id": "aba1ce28",
   "metadata": {},
   "outputs": [
    {
     "data": {
      "text/plain": [
       "19103         42\n",
       "10019         41\n",
       "10011         37\n",
       "94558         34\n",
       "10128         33\n",
       "              ..\n",
       "92780          1\n",
       "62258-1339     1\n",
       "71360          1\n",
       "68164          1\n",
       "50240          1\n",
       "Name: Zip, Length: 7346, dtype: int64"
      ]
     },
     "execution_count": 17,
     "metadata": {},
     "output_type": "execute_result"
    }
   ],
   "source": [
    "df_2020_04['Zip'].value_counts()"
   ]
  },
  {
   "cell_type": "code",
   "execution_count": 18,
   "id": "85be0dcc",
   "metadata": {},
   "outputs": [
    {
     "data": {
      "text/plain": [
       "UPS     12145\n",
       "FEH      7477\n",
       "FXG      1071\n",
       "LSO1      206\n",
       "FEX       117\n",
       "GSC        95\n",
       "AZS        80\n",
       "WCU        40\n",
       "UP2        24\n",
       "FXE        21\n",
       "UP3        10\n",
       "UP1         4\n",
       "SELF        4\n",
       "WCP         2\n",
       "FXP         2\n",
       "Name: Shipping Service, dtype: int64"
      ]
     },
     "execution_count": 18,
     "metadata": {},
     "output_type": "execute_result"
    }
   ],
   "source": [
    "df_2020_04['Shipping Service'].value_counts()"
   ]
  },
  {
   "cell_type": "code",
   "execution_count": 19,
   "id": "74be41f6",
   "metadata": {},
   "outputs": [
    {
     "data": {
      "text/plain": [
       "4/23/20    2505\n",
       "4/27/20     817\n",
       "4/6/20      763\n",
       "4/28/20     707\n",
       "4/20/20     684\n",
       "4/26/20     665\n",
       "4/10/20     635\n",
       "4/2/20      563\n",
       "4/24/20     526\n",
       "4/19/20     492\n",
       "4/3/20      488\n",
       "4/17/20     485\n",
       "4/4/20      468\n",
       "4/1/20      449\n",
       "4/7/20      412\n",
       "4/21/20     409\n",
       "3/31/20     402\n",
       "4/9/20      396\n",
       "3/30/20     354\n",
       "4/8/20      339\n",
       "4/22/20     311\n",
       "4/18/20     301\n",
       "3/27/20     249\n",
       "4/25/20     230\n",
       "4/29/20     221\n",
       "4/5/20      201\n",
       "3/28/20     148\n",
       "4/13/20     119\n",
       "4/15/20     117\n",
       "3/29/20     113\n",
       "3/26/20      79\n",
       "4/30/20      62\n",
       "3/25/20      45\n",
       "4/11/20      22\n",
       "4/16/20      20\n",
       "4/14/20      14\n",
       "3/17/20      13\n",
       "3/12/20      10\n",
       "3/23/20       4\n",
       "3/14/20       4\n",
       "4/12/20       4\n",
       "3/13/20       3\n",
       "3/24/20       3\n",
       "3/16/20       2\n",
       "3/18/20       1\n",
       "3/15/20       1\n",
       "2/21/20       1\n",
       "2/11/20       1\n",
       "3/20/20       1\n",
       "Name: Created Date, dtype: int64"
      ]
     },
     "execution_count": 19,
     "metadata": {},
     "output_type": "execute_result"
    }
   ],
   "source": [
    "df_2020_04['Created Date'].value_counts()\n",
    "#Ok to have dates from other months- Sometimes people will create an order and hold onto it until an adult is present to sign for delivery."
   ]
  },
  {
   "cell_type": "code",
   "execution_count": 20,
   "id": "34adbd2f",
   "metadata": {},
   "outputs": [
    {
     "data": {
      "text/plain": [
       "21.50    3320\n",
       "7.00     3011\n",
       "14.00    1256\n",
       "20.20    1220\n",
       "39.00    1181\n",
       "10.50    1174\n",
       "41.00    1007\n",
       "9.90      749\n",
       "10.00     326\n",
       "18.50     307\n",
       "29.00     256\n",
       "3.35      208\n",
       "26.00     193\n",
       "20.00     168\n",
       "32.00     109\n",
       "35.00     101\n",
       "27.00      35\n",
       "4.00       34\n",
       "24.00      34\n",
       "30.00      34\n",
       "19.00      32\n",
       "38.00      26\n",
       "17.20      20\n",
       "33.00      14\n",
       "19.50      10\n",
       "23.20       9\n",
       "26.20       5\n",
       "13.50       5\n",
       "48.00       3\n",
       "13.00       3\n",
       "45.00       3\n",
       "38.20       2\n",
       "20.50       1\n",
       "39.50       1\n",
       "42.00       1\n",
       "29.20       1\n",
       "Name: Weight, dtype: int64"
      ]
     },
     "execution_count": 20,
     "metadata": {},
     "output_type": "execute_result"
    }
   ],
   "source": [
    "df_2020_04['Weight'].value_counts()"
   ]
  },
  {
   "cell_type": "code",
   "execution_count": 21,
   "id": "73bd62e8",
   "metadata": {},
   "outputs": [
    {
     "data": {
      "text/plain": [
       "6.0     4750\n",
       "1.0     2534\n",
       "3.0     2249\n",
       "12.0    2191\n",
       "4.0     1266\n",
       "2.0      721\n",
       "5.0      327\n",
       "8.0      293\n",
       "7.0      236\n",
       "9.0      144\n",
       "10.0     115\n",
       "11.0      26\n",
       "15.0       3\n",
       "14.0       3\n",
       "13.0       1\n",
       "Name: Item/Bottle Count, dtype: int64"
      ]
     },
     "execution_count": 21,
     "metadata": {},
     "output_type": "execute_result"
    }
   ],
   "source": [
    "df_2020_04['Item/Bottle Count'].value_counts()"
   ]
  },
  {
   "cell_type": "markdown",
   "id": "b28748d1",
   "metadata": {},
   "source": [
    "## Clean the Data"
   ]
  },
  {
   "cell_type": "code",
   "execution_count": 22,
   "id": "2de5f1ce",
   "metadata": {},
   "outputs": [
    {
     "data": {
      "text/html": [
       "<div>\n",
       "<style scoped>\n",
       "    .dataframe tbody tr th:only-of-type {\n",
       "        vertical-align: middle;\n",
       "    }\n",
       "\n",
       "    .dataframe tbody tr th {\n",
       "        vertical-align: top;\n",
       "    }\n",
       "\n",
       "    .dataframe thead th {\n",
       "        text-align: right;\n",
       "    }\n",
       "</style>\n",
       "<table border=\"1\" class=\"dataframe\">\n",
       "  <thead>\n",
       "    <tr style=\"text-align: right;\">\n",
       "      <th></th>\n",
       "      <th>Company Name</th>\n",
       "      <th>Ship Date</th>\n",
       "      <th>City</th>\n",
       "      <th>State</th>\n",
       "      <th>Zip</th>\n",
       "      <th>Shipping Service</th>\n",
       "      <th>Created Date</th>\n",
       "      <th>Weight</th>\n",
       "      <th>Item/Bottle Count</th>\n",
       "    </tr>\n",
       "  </thead>\n",
       "  <tbody>\n",
       "    <tr>\n",
       "      <th>0</th>\n",
       "      <td>Ecom3</td>\n",
       "      <td>4/2/20</td>\n",
       "      <td>Marco Island</td>\n",
       "      <td>FL</td>\n",
       "      <td>34145</td>\n",
       "      <td>UPS</td>\n",
       "      <td>4/1/20</td>\n",
       "      <td>21.5</td>\n",
       "      <td>6.0</td>\n",
       "    </tr>\n",
       "    <tr>\n",
       "      <th>1</th>\n",
       "      <td>Ecom3</td>\n",
       "      <td>4/1/20</td>\n",
       "      <td>Dana Point</td>\n",
       "      <td>CA</td>\n",
       "      <td>92629</td>\n",
       "      <td>UPS</td>\n",
       "      <td>4/1/20</td>\n",
       "      <td>18.5</td>\n",
       "      <td>5.0</td>\n",
       "    </tr>\n",
       "    <tr>\n",
       "      <th>2</th>\n",
       "      <td>Ecom3</td>\n",
       "      <td>4/2/20</td>\n",
       "      <td>Port Orange</td>\n",
       "      <td>FL</td>\n",
       "      <td>32127</td>\n",
       "      <td>UPS</td>\n",
       "      <td>4/2/20</td>\n",
       "      <td>9.9</td>\n",
       "      <td>3.0</td>\n",
       "    </tr>\n",
       "    <tr>\n",
       "      <th>3</th>\n",
       "      <td>Ecom3</td>\n",
       "      <td>4/3/20</td>\n",
       "      <td>Glen Mills</td>\n",
       "      <td>PA</td>\n",
       "      <td>19342</td>\n",
       "      <td>UPS</td>\n",
       "      <td>4/2/20</td>\n",
       "      <td>41.0</td>\n",
       "      <td>12.0</td>\n",
       "    </tr>\n",
       "    <tr>\n",
       "      <th>4</th>\n",
       "      <td>Ecom3</td>\n",
       "      <td>4/1/20</td>\n",
       "      <td>San Diego</td>\n",
       "      <td>CA</td>\n",
       "      <td>92130</td>\n",
       "      <td>UPS</td>\n",
       "      <td>4/1/20</td>\n",
       "      <td>21.5</td>\n",
       "      <td>6.0</td>\n",
       "    </tr>\n",
       "    <tr>\n",
       "      <th>...</th>\n",
       "      <td>...</td>\n",
       "      <td>...</td>\n",
       "      <td>...</td>\n",
       "      <td>...</td>\n",
       "      <td>...</td>\n",
       "      <td>...</td>\n",
       "      <td>...</td>\n",
       "      <td>...</td>\n",
       "      <td>...</td>\n",
       "    </tr>\n",
       "    <tr>\n",
       "      <th>21293</th>\n",
       "      <td>Winery3</td>\n",
       "      <td>4/27/20</td>\n",
       "      <td>Pacifica</td>\n",
       "      <td>CA</td>\n",
       "      <td>94044</td>\n",
       "      <td>GSC</td>\n",
       "      <td>4/27/20</td>\n",
       "      <td>14.0</td>\n",
       "      <td>4.0</td>\n",
       "    </tr>\n",
       "    <tr>\n",
       "      <th>21294</th>\n",
       "      <td>Winery3</td>\n",
       "      <td>4/27/20</td>\n",
       "      <td>Pacifica</td>\n",
       "      <td>CA</td>\n",
       "      <td>94044</td>\n",
       "      <td>GSC</td>\n",
       "      <td>4/27/20</td>\n",
       "      <td>7.0</td>\n",
       "      <td>2.0</td>\n",
       "    </tr>\n",
       "    <tr>\n",
       "      <th>21295</th>\n",
       "      <td>Winery3</td>\n",
       "      <td>4/28/20</td>\n",
       "      <td>Gardena</td>\n",
       "      <td>CA</td>\n",
       "      <td>90249</td>\n",
       "      <td>GSC</td>\n",
       "      <td>4/28/20</td>\n",
       "      <td>21.5</td>\n",
       "      <td>6.0</td>\n",
       "    </tr>\n",
       "    <tr>\n",
       "      <th>21296</th>\n",
       "      <td>Winery3</td>\n",
       "      <td>4/29/20</td>\n",
       "      <td>Durham</td>\n",
       "      <td>CA</td>\n",
       "      <td>95938</td>\n",
       "      <td>GSC</td>\n",
       "      <td>4/29/20</td>\n",
       "      <td>21.5</td>\n",
       "      <td>6.0</td>\n",
       "    </tr>\n",
       "    <tr>\n",
       "      <th>21297</th>\n",
       "      <td>Winery3</td>\n",
       "      <td>4/30/20</td>\n",
       "      <td>Tulsa</td>\n",
       "      <td>OK</td>\n",
       "      <td>74104</td>\n",
       "      <td>UPS</td>\n",
       "      <td>4/30/20</td>\n",
       "      <td>41.0</td>\n",
       "      <td>12.0</td>\n",
       "    </tr>\n",
       "  </tbody>\n",
       "</table>\n",
       "<p>21298 rows × 9 columns</p>\n",
       "</div>"
      ],
      "text/plain": [
       "      Company Name Ship Date          City State    Zip Shipping Service  \\\n",
       "0            Ecom3    4/2/20  Marco Island    FL  34145              UPS   \n",
       "1            Ecom3    4/1/20    Dana Point    CA  92629              UPS   \n",
       "2            Ecom3    4/2/20   Port Orange    FL  32127              UPS   \n",
       "3            Ecom3    4/3/20    Glen Mills    PA  19342              UPS   \n",
       "4            Ecom3    4/1/20     San Diego    CA  92130              UPS   \n",
       "...            ...       ...           ...   ...    ...              ...   \n",
       "21293      Winery3   4/27/20      Pacifica    CA  94044              GSC   \n",
       "21294      Winery3   4/27/20      Pacifica    CA  94044              GSC   \n",
       "21295      Winery3   4/28/20       Gardena    CA  90249              GSC   \n",
       "21296      Winery3   4/29/20        Durham    CA  95938              GSC   \n",
       "21297      Winery3   4/30/20         Tulsa    OK  74104              UPS   \n",
       "\n",
       "      Created Date  Weight  Item/Bottle Count  \n",
       "0           4/1/20    21.5                6.0  \n",
       "1           4/1/20    18.5                5.0  \n",
       "2           4/2/20     9.9                3.0  \n",
       "3           4/2/20    41.0               12.0  \n",
       "4           4/1/20    21.5                6.0  \n",
       "...            ...     ...                ...  \n",
       "21293      4/27/20    14.0                4.0  \n",
       "21294      4/27/20     7.0                2.0  \n",
       "21295      4/28/20    21.5                6.0  \n",
       "21296      4/29/20    21.5                6.0  \n",
       "21297      4/30/20    41.0               12.0  \n",
       "\n",
       "[21298 rows x 9 columns]"
      ]
     },
     "execution_count": 22,
     "metadata": {},
     "output_type": "execute_result"
    }
   ],
   "source": [
    "#Remove \"Status\" column from df_2020_04.\n",
    "df_2020_04 = df_2020_04.drop('Status', axis=1)\n",
    "df_2020_04"
   ]
  },
  {
   "cell_type": "code",
   "execution_count": 23,
   "id": "0374b7d7",
   "metadata": {},
   "outputs": [],
   "source": [
    "# Drop the NaNs for df_2020_04.\n",
    "df_2020_04 = df_2020_04.dropna()"
   ]
  },
  {
   "cell_type": "code",
   "execution_count": null,
   "id": "623dd88f",
   "metadata": {},
   "outputs": [],
   "source": [
    "df_2020_04=df_2020_04.reset_index()\n",
    "df_2020_04"
   ]
  },
  {
   "cell_type": "markdown",
   "id": "b54ac18d",
   "metadata": {},
   "source": [
    "## Confirm Changes"
   ]
  },
  {
   "cell_type": "code",
   "execution_count": 24,
   "id": "717b65ec",
   "metadata": {},
   "outputs": [
    {
     "data": {
      "text/html": [
       "<div>\n",
       "<style scoped>\n",
       "    .dataframe tbody tr th:only-of-type {\n",
       "        vertical-align: middle;\n",
       "    }\n",
       "\n",
       "    .dataframe tbody tr th {\n",
       "        vertical-align: top;\n",
       "    }\n",
       "\n",
       "    .dataframe thead th {\n",
       "        text-align: right;\n",
       "    }\n",
       "</style>\n",
       "<table border=\"1\" class=\"dataframe\">\n",
       "  <thead>\n",
       "    <tr style=\"text-align: right;\">\n",
       "      <th></th>\n",
       "      <th>Company Name</th>\n",
       "      <th>Ship Date</th>\n",
       "      <th>City</th>\n",
       "      <th>State</th>\n",
       "      <th>Zip</th>\n",
       "      <th>Shipping Service</th>\n",
       "      <th>Created Date</th>\n",
       "      <th>Weight</th>\n",
       "      <th>Item/Bottle Count</th>\n",
       "    </tr>\n",
       "  </thead>\n",
       "  <tbody>\n",
       "    <tr>\n",
       "      <th>20092</th>\n",
       "      <td>Ecom3</td>\n",
       "      <td>4/30/20</td>\n",
       "      <td>Boca Raton</td>\n",
       "      <td>FL</td>\n",
       "      <td>33434</td>\n",
       "      <td>UPS</td>\n",
       "      <td>4/28/20</td>\n",
       "      <td>21.5</td>\n",
       "      <td>6.0</td>\n",
       "    </tr>\n",
       "    <tr>\n",
       "      <th>14315</th>\n",
       "      <td>Ecom2</td>\n",
       "      <td>4/24/20</td>\n",
       "      <td>Holland</td>\n",
       "      <td>PA</td>\n",
       "      <td>18966</td>\n",
       "      <td>UPS</td>\n",
       "      <td>4/23/20</td>\n",
       "      <td>7.0</td>\n",
       "      <td>1.0</td>\n",
       "    </tr>\n",
       "    <tr>\n",
       "      <th>13279</th>\n",
       "      <td>Ecom1</td>\n",
       "      <td>4/23/20</td>\n",
       "      <td>Randolph</td>\n",
       "      <td>NJ</td>\n",
       "      <td>7869</td>\n",
       "      <td>FEH</td>\n",
       "      <td>4/22/20</td>\n",
       "      <td>4.0</td>\n",
       "      <td>1.0</td>\n",
       "    </tr>\n",
       "    <tr>\n",
       "      <th>15280</th>\n",
       "      <td>Ecom2</td>\n",
       "      <td>4/24/20</td>\n",
       "      <td>Long Branch</td>\n",
       "      <td>NJ</td>\n",
       "      <td>7740</td>\n",
       "      <td>FEH</td>\n",
       "      <td>4/23/20</td>\n",
       "      <td>7.0</td>\n",
       "      <td>1.0</td>\n",
       "    </tr>\n",
       "    <tr>\n",
       "      <th>17759</th>\n",
       "      <td>Ecom1</td>\n",
       "      <td>4/27/20</td>\n",
       "      <td>PHOENIX</td>\n",
       "      <td>AZ</td>\n",
       "      <td>85009</td>\n",
       "      <td>FXG</td>\n",
       "      <td>4/26/20</td>\n",
       "      <td>10.5</td>\n",
       "      <td>3.0</td>\n",
       "    </tr>\n",
       "  </tbody>\n",
       "</table>\n",
       "</div>"
      ],
      "text/plain": [
       "      Company Name Ship Date         City State    Zip Shipping Service  \\\n",
       "20092        Ecom3   4/30/20   Boca Raton    FL  33434              UPS   \n",
       "14315        Ecom2   4/24/20      Holland    PA  18966              UPS   \n",
       "13279        Ecom1   4/23/20     Randolph    NJ   7869              FEH   \n",
       "15280        Ecom2   4/24/20  Long Branch    NJ   7740              FEH   \n",
       "17759        Ecom1   4/27/20      PHOENIX    AZ  85009              FXG   \n",
       "\n",
       "      Created Date  Weight  Item/Bottle Count  \n",
       "20092      4/28/20    21.5                6.0  \n",
       "14315      4/23/20     7.0                1.0  \n",
       "13279      4/22/20     4.0                1.0  \n",
       "15280      4/23/20     7.0                1.0  \n",
       "17759      4/26/20    10.5                3.0  "
      ]
     },
     "execution_count": 24,
     "metadata": {},
     "output_type": "execute_result"
    }
   ],
   "source": [
    "#See five random rows of data\n",
    "df_2020_04.sample(n=5)"
   ]
  },
  {
   "cell_type": "code",
   "execution_count": 25,
   "id": "2f59ad5f",
   "metadata": {},
   "outputs": [
    {
     "name": "stdout",
     "output_type": "stream",
     "text": [
      "Number of Rows:  14859\n",
      "Number of Columns:  9\n"
     ]
    }
   ],
   "source": [
    "#Determine total rows for df_2020_04.\n",
    "df_2020_04_rows = len(df_2020_04.axes[0])\n",
    "df_2020_04_cols = len(df_2020_04.axes[1])\n",
    "print(\"Number of Rows: \", df_2020_04_rows)\n",
    "print(\"Number of Columns: \", df_2020_04_cols)"
   ]
  },
  {
   "cell_type": "markdown",
   "id": "625b4837",
   "metadata": {},
   "source": [
    "## Export Cleaned df to .CSV"
   ]
  },
  {
   "cell_type": "code",
   "execution_count": 26,
   "id": "f5a7980c",
   "metadata": {},
   "outputs": [],
   "source": [
    "#Export df_2020_04 to .csv\n",
    "df_2020_04.to_csv('../cleaned_months_2020/Clean_2020_04.csv') "
   ]
  },
  {
   "cell_type": "code",
   "execution_count": null,
   "id": "aafdefb9",
   "metadata": {},
   "outputs": [],
   "source": []
  }
 ],
 "metadata": {
  "kernelspec": {
   "display_name": "Python 3 (ipykernel)",
   "language": "python",
   "name": "python3"
  },
  "language_info": {
   "codemirror_mode": {
    "name": "ipython",
    "version": 3
   },
   "file_extension": ".py",
   "mimetype": "text/x-python",
   "name": "python",
   "nbconvert_exporter": "python",
   "pygments_lexer": "ipython3",
   "version": "3.7.13"
  }
 },
 "nbformat": 4,
 "nbformat_minor": 5
}
