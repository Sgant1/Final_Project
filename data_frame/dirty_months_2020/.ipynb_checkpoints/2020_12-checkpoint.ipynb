{
 "cells": [
  {
   "cell_type": "code",
   "execution_count": 1,
   "id": "1f30ec89",
   "metadata": {},
   "outputs": [],
   "source": [
    "#Pandas library to create DataFrames\n",
    "import pandas as pd\n",
    "#NumPy library for converting data types\n",
    "import numpy as np\n",
    "#import os"
   ]
  },
  {
   "cell_type": "code",
   "execution_count": 2,
   "id": "7d4569c3",
   "metadata": {},
   "outputs": [],
   "source": [
    "# Files to load\n",
    "load_2020_01 = \"../2020_Data/2020.01.csv\""
   ]
  },
  {
   "cell_type": "code",
   "execution_count": 3,
   "id": "5bf26e77",
   "metadata": {},
   "outputs": [],
   "source": [
    "# Read the January CSV into a DataFrame\n",
    "#Had to open each file in excel and save it as a .csv file instead of an .xlsm file in order for the encryption to be read properly.\n",
    "df_2020_01 = pd.read_csv(load_2020_01)\n",
    "#df_2020_01.head()"
   ]
  },
  {
   "cell_type": "markdown",
   "id": "175df6a6",
   "metadata": {},
   "source": [
    "## Inspect the Data"
   ]
  },
  {
   "cell_type": "code",
   "execution_count": 4,
   "id": "2cdb2387",
   "metadata": {},
   "outputs": [
    {
     "data": {
      "text/html": [
       "<div>\n",
       "<style scoped>\n",
       "    .dataframe tbody tr th:only-of-type {\n",
       "        vertical-align: middle;\n",
       "    }\n",
       "\n",
       "    .dataframe tbody tr th {\n",
       "        vertical-align: top;\n",
       "    }\n",
       "\n",
       "    .dataframe thead th {\n",
       "        text-align: right;\n",
       "    }\n",
       "</style>\n",
       "<table border=\"1\" class=\"dataframe\">\n",
       "  <thead>\n",
       "    <tr style=\"text-align: right;\">\n",
       "      <th></th>\n",
       "      <th>Company Name</th>\n",
       "      <th>Status</th>\n",
       "      <th>Ship Date</th>\n",
       "      <th>City</th>\n",
       "      <th>State</th>\n",
       "      <th>Zip</th>\n",
       "      <th>Shipping Service</th>\n",
       "      <th>Created Date</th>\n",
       "      <th>Weight</th>\n",
       "      <th>Item/Bottle Count</th>\n",
       "    </tr>\n",
       "  </thead>\n",
       "  <tbody>\n",
       "    <tr>\n",
       "      <th>1080</th>\n",
       "      <td>Ecom3</td>\n",
       "      <td>Delivered</td>\n",
       "      <td>1/6/20</td>\n",
       "      <td>COLLINGSWOOD</td>\n",
       "      <td>NJ</td>\n",
       "      <td>08108-3040</td>\n",
       "      <td>UPS</td>\n",
       "      <td>1/3/20</td>\n",
       "      <td>21.5</td>\n",
       "      <td>6.0</td>\n",
       "    </tr>\n",
       "    <tr>\n",
       "      <th>8177</th>\n",
       "      <td>Ecom2</td>\n",
       "      <td>Manifest</td>\n",
       "      <td>1/23/20</td>\n",
       "      <td>Missoula</td>\n",
       "      <td>MT</td>\n",
       "      <td>59803</td>\n",
       "      <td>UPS</td>\n",
       "      <td>NaN</td>\n",
       "      <td>NaN</td>\n",
       "      <td>NaN</td>\n",
       "    </tr>\n",
       "    <tr>\n",
       "      <th>13149</th>\n",
       "      <td>Ecom2</td>\n",
       "      <td>Manifest</td>\n",
       "      <td>1/23/20</td>\n",
       "      <td>Mustang</td>\n",
       "      <td>OK</td>\n",
       "      <td>73064</td>\n",
       "      <td>UPS</td>\n",
       "      <td>NaN</td>\n",
       "      <td>NaN</td>\n",
       "      <td>NaN</td>\n",
       "    </tr>\n",
       "    <tr>\n",
       "      <th>11343</th>\n",
       "      <td>Ecom2</td>\n",
       "      <td>Manifest</td>\n",
       "      <td>1/24/20</td>\n",
       "      <td>Birmingham</td>\n",
       "      <td>AL</td>\n",
       "      <td>35243</td>\n",
       "      <td>LSO</td>\n",
       "      <td>NaN</td>\n",
       "      <td>NaN</td>\n",
       "      <td>NaN</td>\n",
       "    </tr>\n",
       "    <tr>\n",
       "      <th>15184</th>\n",
       "      <td>Ecom1</td>\n",
       "      <td>Delivered</td>\n",
       "      <td>1/6/20</td>\n",
       "      <td>Clarksville</td>\n",
       "      <td>MD</td>\n",
       "      <td>21029</td>\n",
       "      <td>FEH</td>\n",
       "      <td>1/3/20</td>\n",
       "      <td>39.0</td>\n",
       "      <td>12.0</td>\n",
       "    </tr>\n",
       "  </tbody>\n",
       "</table>\n",
       "</div>"
      ],
      "text/plain": [
       "      Company Name     Status Ship Date          City State         Zip  \\\n",
       "1080         Ecom3  Delivered    1/6/20  COLLINGSWOOD    NJ  08108-3040   \n",
       "8177         Ecom2   Manifest   1/23/20      Missoula    MT       59803   \n",
       "13149        Ecom2   Manifest   1/23/20       Mustang    OK       73064   \n",
       "11343        Ecom2   Manifest   1/24/20    Birmingham    AL       35243   \n",
       "15184        Ecom1  Delivered    1/6/20   Clarksville    MD       21029   \n",
       "\n",
       "      Shipping Service Created Date  Weight  Item/Bottle Count  \n",
       "1080               UPS       1/3/20    21.5                6.0  \n",
       "8177               UPS          NaN     NaN                NaN  \n",
       "13149              UPS          NaN     NaN                NaN  \n",
       "11343              LSO          NaN     NaN                NaN  \n",
       "15184              FEH       1/3/20    39.0               12.0  "
      ]
     },
     "execution_count": 4,
     "metadata": {},
     "output_type": "execute_result"
    }
   ],
   "source": [
    "#See five random rows of data\n",
    "df_2020_01.sample(n=5)"
   ]
  },
  {
   "cell_type": "code",
   "execution_count": 5,
   "id": "a7bdb733",
   "metadata": {},
   "outputs": [
    {
     "data": {
      "text/html": [
       "<div>\n",
       "<style scoped>\n",
       "    .dataframe tbody tr th:only-of-type {\n",
       "        vertical-align: middle;\n",
       "    }\n",
       "\n",
       "    .dataframe tbody tr th {\n",
       "        vertical-align: top;\n",
       "    }\n",
       "\n",
       "    .dataframe thead th {\n",
       "        text-align: right;\n",
       "    }\n",
       "</style>\n",
       "<table border=\"1\" class=\"dataframe\">\n",
       "  <thead>\n",
       "    <tr style=\"text-align: right;\">\n",
       "      <th></th>\n",
       "      <th>Company Name</th>\n",
       "      <th>Status</th>\n",
       "      <th>Ship Date</th>\n",
       "      <th>City</th>\n",
       "      <th>State</th>\n",
       "      <th>Zip</th>\n",
       "      <th>Shipping Service</th>\n",
       "      <th>Created Date</th>\n",
       "      <th>Weight</th>\n",
       "      <th>Item/Bottle Count</th>\n",
       "    </tr>\n",
       "  </thead>\n",
       "  <tbody>\n",
       "    <tr>\n",
       "      <th>16950</th>\n",
       "      <td>Ecom1</td>\n",
       "      <td>Delivered</td>\n",
       "      <td>1/27/20</td>\n",
       "      <td>Escondido</td>\n",
       "      <td>CA</td>\n",
       "      <td>92025</td>\n",
       "      <td>FEH</td>\n",
       "      <td>1/27/20</td>\n",
       "      <td>20.2</td>\n",
       "      <td>6.0</td>\n",
       "    </tr>\n",
       "    <tr>\n",
       "      <th>16951</th>\n",
       "      <td>Ecom1</td>\n",
       "      <td>In Transit</td>\n",
       "      <td>1/30/20</td>\n",
       "      <td>NY</td>\n",
       "      <td>NY</td>\n",
       "      <td>10010</td>\n",
       "      <td>FXG</td>\n",
       "      <td>1/29/20</td>\n",
       "      <td>10.5</td>\n",
       "      <td>3.0</td>\n",
       "    </tr>\n",
       "    <tr>\n",
       "      <th>16952</th>\n",
       "      <td>Ecom1</td>\n",
       "      <td>In Transit</td>\n",
       "      <td>1/27/20</td>\n",
       "      <td>Chicago</td>\n",
       "      <td>IL</td>\n",
       "      <td>60626</td>\n",
       "      <td>FEH</td>\n",
       "      <td>1/27/20</td>\n",
       "      <td>10.5</td>\n",
       "      <td>3.0</td>\n",
       "    </tr>\n",
       "    <tr>\n",
       "      <th>16953</th>\n",
       "      <td>Ecom1</td>\n",
       "      <td>Delivered</td>\n",
       "      <td>1/28/20</td>\n",
       "      <td>OREGON</td>\n",
       "      <td>WI</td>\n",
       "      <td>53575</td>\n",
       "      <td>FEH</td>\n",
       "      <td>1/27/20</td>\n",
       "      <td>10.5</td>\n",
       "      <td>3.0</td>\n",
       "    </tr>\n",
       "    <tr>\n",
       "      <th>16954</th>\n",
       "      <td>Ecom1</td>\n",
       "      <td>Delivered</td>\n",
       "      <td>1/27/20</td>\n",
       "      <td>Kirkwood</td>\n",
       "      <td>MO</td>\n",
       "      <td>63122</td>\n",
       "      <td>FEH</td>\n",
       "      <td>1/27/20</td>\n",
       "      <td>10.5</td>\n",
       "      <td>3.0</td>\n",
       "    </tr>\n",
       "  </tbody>\n",
       "</table>\n",
       "</div>"
      ],
      "text/plain": [
       "      Company Name      Status Ship Date       City State    Zip  \\\n",
       "16950        Ecom1   Delivered   1/27/20  Escondido    CA  92025   \n",
       "16951        Ecom1  In Transit   1/30/20         NY    NY  10010   \n",
       "16952        Ecom1  In Transit   1/27/20    Chicago    IL  60626   \n",
       "16953        Ecom1   Delivered   1/28/20     OREGON    WI  53575   \n",
       "16954        Ecom1   Delivered   1/27/20   Kirkwood    MO  63122   \n",
       "\n",
       "      Shipping Service Created Date  Weight  Item/Bottle Count  \n",
       "16950              FEH      1/27/20    20.2                6.0  \n",
       "16951              FXG      1/29/20    10.5                3.0  \n",
       "16952              FEH      1/27/20    10.5                3.0  \n",
       "16953              FEH      1/27/20    10.5                3.0  \n",
       "16954              FEH      1/27/20    10.5                3.0  "
      ]
     },
     "execution_count": 5,
     "metadata": {},
     "output_type": "execute_result"
    }
   ],
   "source": [
    "#See the last rows of data\n",
    "df_2020_01.tail(5)"
   ]
  },
  {
   "cell_type": "code",
   "execution_count": 6,
   "id": "a820ba41",
   "metadata": {},
   "outputs": [
    {
     "data": {
      "text/plain": [
       "Index(['Company Name', 'Status', 'Ship Date', 'City', 'State', 'Zip',\n",
       "       'Shipping Service', 'Created Date', 'Weight', 'Item/Bottle Count'],\n",
       "      dtype='object')"
      ]
     },
     "execution_count": 6,
     "metadata": {},
     "output_type": "execute_result"
    }
   ],
   "source": [
    "df_2020_01.columns"
   ]
  },
  {
   "cell_type": "code",
   "execution_count": 7,
   "id": "7410d9e5",
   "metadata": {},
   "outputs": [
    {
     "name": "stdout",
     "output_type": "stream",
     "text": [
      "Number of Rows:  16955\n",
      "Number of Columns:  10\n"
     ]
    }
   ],
   "source": [
    "#Determine total rows for df_2020_01.\n",
    "df_2020_01_rows = len(df_2020_01.axes[0])\n",
    "df_2020_01_cols = len(df_2020_01.axes[1])\n",
    "print(\"Number of Rows: \", df_2020_01_rows)\n",
    "print(\"Number of Columns: \", df_2020_01_cols)"
   ]
  },
  {
   "cell_type": "code",
   "execution_count": 8,
   "id": "4caf57c3",
   "metadata": {},
   "outputs": [
    {
     "data": {
      "text/plain": [
       "Company Name            0\n",
       "Status                  0\n",
       "Ship Date               0\n",
       "City                    0\n",
       "State                   0\n",
       "Zip                     0\n",
       "Shipping Service        0\n",
       "Created Date         9275\n",
       "Weight               9275\n",
       "Item/Bottle Count    9275\n",
       "dtype: int64"
      ]
     },
     "execution_count": 8,
     "metadata": {},
     "output_type": "execute_result"
    }
   ],
   "source": [
    "# Determine if there are any missing values in df_2020_01.\n",
    "#Missing 55% of values from Created Date, Weight, Item/Bottle Count columns.\n",
    "df_2020_01.isnull().sum()"
   ]
  },
  {
   "cell_type": "code",
   "execution_count": 9,
   "id": "d2ad8510",
   "metadata": {},
   "outputs": [
    {
     "data": {
      "text/plain": [
       "Company Name          object\n",
       "Status                object\n",
       "Ship Date             object\n",
       "City                  object\n",
       "State                 object\n",
       "Zip                   object\n",
       "Shipping Service      object\n",
       "Created Date          object\n",
       "Weight               float64\n",
       "Item/Bottle Count    float64\n",
       "dtype: object"
      ]
     },
     "execution_count": 9,
     "metadata": {},
     "output_type": "execute_result"
    }
   ],
   "source": [
    "# Determine data types for df_2020_01.\n",
    "df_2020_01.dtypes"
   ]
  },
  {
   "cell_type": "code",
   "execution_count": 10,
   "id": "4061fbbf",
   "metadata": {},
   "outputs": [
    {
     "data": {
      "text/plain": [
       "Ecom2      9275\n",
       "Ecom3      5210\n",
       "Ecom1      2230\n",
       "Winery1     203\n",
       "Winery2      37\n",
       "Name: Company Name, dtype: int64"
      ]
     },
     "execution_count": 10,
     "metadata": {},
     "output_type": "execute_result"
    }
   ],
   "source": [
    "df_2020_01['Company Name'].value_counts()"
   ]
  },
  {
   "cell_type": "code",
   "execution_count": 11,
   "id": "aac39571",
   "metadata": {},
   "outputs": [
    {
     "data": {
      "text/plain": [
       "1/23/20    8939\n",
       "1/13/20     858\n",
       "1/6/20      838\n",
       "1/24/20     753\n",
       "1/2/20      652\n",
       "1/20/20     640\n",
       "1/27/20     522\n",
       "1/21/20     356\n",
       "1/22/20     346\n",
       "1/7/20      343\n",
       "1/17/20     303\n",
       "1/15/20     270\n",
       "1/28/20     251\n",
       "1/9/20      248\n",
       "1/14/20     234\n",
       "1/30/20     216\n",
       "1/3/20      209\n",
       "1/31/20     195\n",
       "1/8/20      194\n",
       "1/29/20     191\n",
       "1/16/20     162\n",
       "1/10/20     153\n",
       "1/11/20      56\n",
       "1/25/20      26\n",
       "Name: Ship Date, dtype: int64"
      ]
     },
     "execution_count": 11,
     "metadata": {},
     "output_type": "execute_result"
    }
   ],
   "source": [
    "df_2020_01['Ship Date'].value_counts()"
   ]
  },
  {
   "cell_type": "code",
   "execution_count": 12,
   "id": "ff45ee9d",
   "metadata": {},
   "outputs": [
    {
     "data": {
      "text/plain": [
       "Manifest             9255\n",
       "Delivered            5173\n",
       "In Transit           2206\n",
       "Shipped               166\n",
       "Carrier Exception     108\n",
       "Delivery Attempt       44\n",
       "Exception               3\n",
       "Name: Status, dtype: int64"
      ]
     },
     "execution_count": 12,
     "metadata": {},
     "output_type": "execute_result"
    }
   ],
   "source": [
    "df_2020_01['Status'].value_counts()"
   ]
  },
  {
   "cell_type": "code",
   "execution_count": 13,
   "id": "ae707cc4",
   "metadata": {},
   "outputs": [
    {
     "data": {
      "text/plain": [
       "New York      483\n",
       "Chicago       236\n",
       "Brooklyn      179\n",
       "Washington    132\n",
       "Houston       127\n",
       "             ... \n",
       "Succasunna      1\n",
       "Bear            1\n",
       "Ellijay         1\n",
       "Fraser          1\n",
       "OREGON          1\n",
       "Name: City, Length: 4527, dtype: int64"
      ]
     },
     "execution_count": 13,
     "metadata": {},
     "output_type": "execute_result"
    }
   ],
   "source": [
    "df_2020_01['City'].value_counts()"
   ]
  },
  {
   "cell_type": "code",
   "execution_count": 14,
   "id": "a8718b4d",
   "metadata": {},
   "outputs": [
    {
     "data": {
      "text/plain": [
       "NY    2046\n",
       "CA    1479\n",
       "FL    1363\n",
       "PA    1053\n",
       "TX    1039\n",
       "NJ     941\n",
       "IL     800\n",
       "MA     644\n",
       "OH     632\n",
       "VA     630\n",
       "GA     549\n",
       "MD     475\n",
       "NC     449\n",
       "CO     423\n",
       "AZ     350\n",
       "CT     344\n",
       "WA     280\n",
       "IN     270\n",
       "TN     262\n",
       "SC     250\n",
       "MN     247\n",
       "MO     221\n",
       "WI     199\n",
       "MI     186\n",
       "LA     167\n",
       "OR     166\n",
       "DC     127\n",
       "KS     127\n",
       "NH     112\n",
       "RI      94\n",
       "NE      93\n",
       "IA      92\n",
       "NV      85\n",
       "OK      84\n",
       "HI      76\n",
       "NM      69\n",
       "AR      68\n",
       "AL      61\n",
       "ME      58\n",
       "ID      52\n",
       "MT      49\n",
       "DE      46\n",
       "WV      43\n",
       "VT      41\n",
       "ND      35\n",
       "WY      30\n",
       "SD      27\n",
       "AK      21\n",
       "Name: State, dtype: int64"
      ]
     },
     "execution_count": 14,
     "metadata": {},
     "output_type": "execute_result"
    }
   ],
   "source": [
    "df_2020_01['State'].value_counts()"
   ]
  },
  {
   "cell_type": "code",
   "execution_count": 15,
   "id": "aba1ce28",
   "metadata": {},
   "outputs": [
    {
     "data": {
      "text/plain": [
       "10019    40\n",
       "10016    35\n",
       "11201    31\n",
       "10022    30\n",
       "10011    29\n",
       "         ..\n",
       "88101     1\n",
       "60191     1\n",
       "85042     1\n",
       "97424     1\n",
       "47408     1\n",
       "Name: Zip, Length: 7028, dtype: int64"
      ]
     },
     "execution_count": 15,
     "metadata": {},
     "output_type": "execute_result"
    }
   ],
   "source": [
    "df_2020_01['Zip'].value_counts()"
   ]
  },
  {
   "cell_type": "code",
   "execution_count": 16,
   "id": "85be0dcc",
   "metadata": {},
   "outputs": [
    {
     "data": {
      "text/plain": [
       "FEH     7645\n",
       "UPS     6853\n",
       "FXG     1709\n",
       "LSO      620\n",
       "FEX       61\n",
       "UP2       30\n",
       "LSO1      30\n",
       "WCU        3\n",
       "Fxg        1\n",
       "AZS        1\n",
       "UP1        1\n",
       "WCP        1\n",
       "Name: Shipping Service, dtype: int64"
      ]
     },
     "execution_count": 16,
     "metadata": {},
     "output_type": "execute_result"
    }
   ],
   "source": [
    "df_2020_01['Shipping Service'].value_counts()"
   ]
  },
  {
   "cell_type": "code",
   "execution_count": 17,
   "id": "74be41f6",
   "metadata": {},
   "outputs": [
    {
     "data": {
      "text/plain": [
       "1/27/20     433\n",
       "1/20/20     396\n",
       "1/6/20      385\n",
       "1/13/20     353\n",
       "1/14/20     315\n",
       "           ... \n",
       "10/1/19       1\n",
       "9/29/19       1\n",
       "11/9/19       1\n",
       "12/21/19      1\n",
       "6/17/19       1\n",
       "Name: Created Date, Length: 67, dtype: int64"
      ]
     },
     "execution_count": 17,
     "metadata": {},
     "output_type": "execute_result"
    }
   ],
   "source": [
    "df_2020_01['Created Date'].value_counts()"
   ]
  },
  {
   "cell_type": "code",
   "execution_count": 18,
   "id": "34adbd2f",
   "metadata": {},
   "outputs": [
    {
     "data": {
      "text/plain": [
       "21.50    2787\n",
       "10.50    1362\n",
       "41.00     763\n",
       "20.20     538\n",
       "14.00     481\n",
       "7.00      420\n",
       "9.90      310\n",
       "39.00     299\n",
       "29.00     147\n",
       "3.35      123\n",
       "18.50     111\n",
       "35.00      78\n",
       "26.00      77\n",
       "32.00      71\n",
       "38.00      25\n",
       "30.00      11\n",
       "24.00       9\n",
       "4.00        9\n",
       "17.20       8\n",
       "20.00       7\n",
       "33.00       6\n",
       "6.20        6\n",
       "39.50       5\n",
       "11.00       5\n",
       "1.85        3\n",
       "12.50       3\n",
       "17.00       3\n",
       "13.50       3\n",
       "27.00       3\n",
       "36.00       2\n",
       "45.00       1\n",
       "19.50       1\n",
       "15.00       1\n",
       "9.00        1\n",
       "20.50       1\n",
       "Name: Weight, dtype: int64"
      ]
     },
     "execution_count": 18,
     "metadata": {},
     "output_type": "execute_result"
    }
   ],
   "source": [
    "df_2020_01['Weight'].value_counts()"
   ]
  },
  {
   "cell_type": "code",
   "execution_count": 19,
   "id": "73bd62e8",
   "metadata": {},
   "outputs": [
    {
     "data": {
      "text/plain": [
       "6.0     3337\n",
       "3.0     1670\n",
       "12.0    1066\n",
       "4.0      481\n",
       "2.0      313\n",
       "1.0      262\n",
       "8.0      150\n",
       "5.0      121\n",
       "7.0       86\n",
       "10.0      84\n",
       "9.0       82\n",
       "11.0      27\n",
       "14.0       1\n",
       "Name: Item/Bottle Count, dtype: int64"
      ]
     },
     "execution_count": 19,
     "metadata": {},
     "output_type": "execute_result"
    }
   ],
   "source": [
    "df_2020_01['Item/Bottle Count'].value_counts()"
   ]
  },
  {
   "cell_type": "markdown",
   "id": "b28748d1",
   "metadata": {},
   "source": [
    "## Clean the Data"
   ]
  },
  {
   "cell_type": "code",
   "execution_count": 20,
   "id": "ae2074b6",
   "metadata": {},
   "outputs": [],
   "source": [
    "#Change dtypes if necessary"
   ]
  },
  {
   "cell_type": "code",
   "execution_count": 21,
   "id": "2de5f1ce",
   "metadata": {},
   "outputs": [
    {
     "data": {
      "text/html": [
       "<div>\n",
       "<style scoped>\n",
       "    .dataframe tbody tr th:only-of-type {\n",
       "        vertical-align: middle;\n",
       "    }\n",
       "\n",
       "    .dataframe tbody tr th {\n",
       "        vertical-align: top;\n",
       "    }\n",
       "\n",
       "    .dataframe thead th {\n",
       "        text-align: right;\n",
       "    }\n",
       "</style>\n",
       "<table border=\"1\" class=\"dataframe\">\n",
       "  <thead>\n",
       "    <tr style=\"text-align: right;\">\n",
       "      <th></th>\n",
       "      <th>Company Name</th>\n",
       "      <th>Ship Date</th>\n",
       "      <th>City</th>\n",
       "      <th>State</th>\n",
       "      <th>Zip</th>\n",
       "      <th>Shipping Service</th>\n",
       "      <th>Created Date</th>\n",
       "      <th>Weight</th>\n",
       "      <th>Item/Bottle Count</th>\n",
       "    </tr>\n",
       "  </thead>\n",
       "  <tbody>\n",
       "    <tr>\n",
       "      <th>0</th>\n",
       "      <td>Ecom3</td>\n",
       "      <td>1/2/20</td>\n",
       "      <td>Plantation</td>\n",
       "      <td>FL</td>\n",
       "      <td>33325</td>\n",
       "      <td>UPS</td>\n",
       "      <td>1/1/20</td>\n",
       "      <td>9.9</td>\n",
       "      <td>3.0</td>\n",
       "    </tr>\n",
       "    <tr>\n",
       "      <th>1</th>\n",
       "      <td>Ecom3</td>\n",
       "      <td>1/2/20</td>\n",
       "      <td>Lafayette</td>\n",
       "      <td>CA</td>\n",
       "      <td>94549</td>\n",
       "      <td>UPS</td>\n",
       "      <td>12/31/19</td>\n",
       "      <td>35.0</td>\n",
       "      <td>10.0</td>\n",
       "    </tr>\n",
       "    <tr>\n",
       "      <th>2</th>\n",
       "      <td>Ecom3</td>\n",
       "      <td>1/2/20</td>\n",
       "      <td>New York</td>\n",
       "      <td>NY</td>\n",
       "      <td>10022</td>\n",
       "      <td>FEH</td>\n",
       "      <td>1/1/20</td>\n",
       "      <td>29.0</td>\n",
       "      <td>8.0</td>\n",
       "    </tr>\n",
       "    <tr>\n",
       "      <th>3</th>\n",
       "      <td>Ecom3</td>\n",
       "      <td>1/3/20</td>\n",
       "      <td>New York</td>\n",
       "      <td>NY</td>\n",
       "      <td>10006</td>\n",
       "      <td>FEH</td>\n",
       "      <td>1/2/20</td>\n",
       "      <td>21.5</td>\n",
       "      <td>6.0</td>\n",
       "    </tr>\n",
       "    <tr>\n",
       "      <th>4</th>\n",
       "      <td>Ecom3</td>\n",
       "      <td>1/2/20</td>\n",
       "      <td>Walkersville</td>\n",
       "      <td>MD</td>\n",
       "      <td>21793</td>\n",
       "      <td>FXG</td>\n",
       "      <td>12/31/19</td>\n",
       "      <td>41.0</td>\n",
       "      <td>12.0</td>\n",
       "    </tr>\n",
       "    <tr>\n",
       "      <th>...</th>\n",
       "      <td>...</td>\n",
       "      <td>...</td>\n",
       "      <td>...</td>\n",
       "      <td>...</td>\n",
       "      <td>...</td>\n",
       "      <td>...</td>\n",
       "      <td>...</td>\n",
       "      <td>...</td>\n",
       "      <td>...</td>\n",
       "    </tr>\n",
       "    <tr>\n",
       "      <th>16950</th>\n",
       "      <td>Ecom1</td>\n",
       "      <td>1/27/20</td>\n",
       "      <td>Escondido</td>\n",
       "      <td>CA</td>\n",
       "      <td>92025</td>\n",
       "      <td>FEH</td>\n",
       "      <td>1/27/20</td>\n",
       "      <td>20.2</td>\n",
       "      <td>6.0</td>\n",
       "    </tr>\n",
       "    <tr>\n",
       "      <th>16951</th>\n",
       "      <td>Ecom1</td>\n",
       "      <td>1/30/20</td>\n",
       "      <td>NY</td>\n",
       "      <td>NY</td>\n",
       "      <td>10010</td>\n",
       "      <td>FXG</td>\n",
       "      <td>1/29/20</td>\n",
       "      <td>10.5</td>\n",
       "      <td>3.0</td>\n",
       "    </tr>\n",
       "    <tr>\n",
       "      <th>16952</th>\n",
       "      <td>Ecom1</td>\n",
       "      <td>1/27/20</td>\n",
       "      <td>Chicago</td>\n",
       "      <td>IL</td>\n",
       "      <td>60626</td>\n",
       "      <td>FEH</td>\n",
       "      <td>1/27/20</td>\n",
       "      <td>10.5</td>\n",
       "      <td>3.0</td>\n",
       "    </tr>\n",
       "    <tr>\n",
       "      <th>16953</th>\n",
       "      <td>Ecom1</td>\n",
       "      <td>1/28/20</td>\n",
       "      <td>OREGON</td>\n",
       "      <td>WI</td>\n",
       "      <td>53575</td>\n",
       "      <td>FEH</td>\n",
       "      <td>1/27/20</td>\n",
       "      <td>10.5</td>\n",
       "      <td>3.0</td>\n",
       "    </tr>\n",
       "    <tr>\n",
       "      <th>16954</th>\n",
       "      <td>Ecom1</td>\n",
       "      <td>1/27/20</td>\n",
       "      <td>Kirkwood</td>\n",
       "      <td>MO</td>\n",
       "      <td>63122</td>\n",
       "      <td>FEH</td>\n",
       "      <td>1/27/20</td>\n",
       "      <td>10.5</td>\n",
       "      <td>3.0</td>\n",
       "    </tr>\n",
       "  </tbody>\n",
       "</table>\n",
       "<p>16955 rows × 9 columns</p>\n",
       "</div>"
      ],
      "text/plain": [
       "      Company Name Ship Date          City State    Zip Shipping Service  \\\n",
       "0            Ecom3    1/2/20    Plantation    FL  33325              UPS   \n",
       "1            Ecom3    1/2/20     Lafayette    CA  94549              UPS   \n",
       "2            Ecom3    1/2/20      New York    NY  10022              FEH   \n",
       "3            Ecom3    1/3/20      New York    NY  10006              FEH   \n",
       "4            Ecom3    1/2/20  Walkersville    MD  21793              FXG   \n",
       "...            ...       ...           ...   ...    ...              ...   \n",
       "16950        Ecom1   1/27/20     Escondido    CA  92025              FEH   \n",
       "16951        Ecom1   1/30/20            NY    NY  10010              FXG   \n",
       "16952        Ecom1   1/27/20       Chicago    IL  60626              FEH   \n",
       "16953        Ecom1   1/28/20        OREGON    WI  53575              FEH   \n",
       "16954        Ecom1   1/27/20      Kirkwood    MO  63122              FEH   \n",
       "\n",
       "      Created Date  Weight  Item/Bottle Count  \n",
       "0           1/1/20     9.9                3.0  \n",
       "1         12/31/19    35.0               10.0  \n",
       "2           1/1/20    29.0                8.0  \n",
       "3           1/2/20    21.5                6.0  \n",
       "4         12/31/19    41.0               12.0  \n",
       "...            ...     ...                ...  \n",
       "16950      1/27/20    20.2                6.0  \n",
       "16951      1/29/20    10.5                3.0  \n",
       "16952      1/27/20    10.5                3.0  \n",
       "16953      1/27/20    10.5                3.0  \n",
       "16954      1/27/20    10.5                3.0  \n",
       "\n",
       "[16955 rows x 9 columns]"
      ]
     },
     "execution_count": 21,
     "metadata": {},
     "output_type": "execute_result"
    }
   ],
   "source": [
    "#Remove \"Status\" column from df_2020_01.\n",
    "df_2020_01 = df_2020_01.drop('Status', axis=1)\n",
    "df_2020_01"
   ]
  },
  {
   "cell_type": "code",
   "execution_count": 25,
   "id": "0374b7d7",
   "metadata": {},
   "outputs": [],
   "source": [
    "# Drop the NaNs for df_2020_01.\n",
    "df_2020_01 = df_2020_01.dropna()"
   ]
  },
  {
   "cell_type": "markdown",
   "id": "b54ac18d",
   "metadata": {},
   "source": [
    "## Confirm Changes"
   ]
  },
  {
   "cell_type": "code",
   "execution_count": 26,
   "id": "717b65ec",
   "metadata": {},
   "outputs": [
    {
     "data": {
      "text/html": [
       "<div>\n",
       "<style scoped>\n",
       "    .dataframe tbody tr th:only-of-type {\n",
       "        vertical-align: middle;\n",
       "    }\n",
       "\n",
       "    .dataframe tbody tr th {\n",
       "        vertical-align: top;\n",
       "    }\n",
       "\n",
       "    .dataframe thead th {\n",
       "        text-align: right;\n",
       "    }\n",
       "</style>\n",
       "<table border=\"1\" class=\"dataframe\">\n",
       "  <thead>\n",
       "    <tr style=\"text-align: right;\">\n",
       "      <th></th>\n",
       "      <th>Company Name</th>\n",
       "      <th>Ship Date</th>\n",
       "      <th>City</th>\n",
       "      <th>State</th>\n",
       "      <th>Zip</th>\n",
       "      <th>Shipping Service</th>\n",
       "      <th>Created Date</th>\n",
       "      <th>Weight</th>\n",
       "      <th>Item/Bottle Count</th>\n",
       "    </tr>\n",
       "  </thead>\n",
       "  <tbody>\n",
       "    <tr>\n",
       "      <th>1660</th>\n",
       "      <td>Ecom3</td>\n",
       "      <td>1/6/20</td>\n",
       "      <td>Fort Worth</td>\n",
       "      <td>TX</td>\n",
       "      <td>76102</td>\n",
       "      <td>UPS</td>\n",
       "      <td>1/4/20</td>\n",
       "      <td>21.5</td>\n",
       "      <td>6.0</td>\n",
       "    </tr>\n",
       "    <tr>\n",
       "      <th>3650</th>\n",
       "      <td>Ecom3</td>\n",
       "      <td>1/20/20</td>\n",
       "      <td>Thomaston</td>\n",
       "      <td>GA</td>\n",
       "      <td>30286</td>\n",
       "      <td>UPS</td>\n",
       "      <td>1/17/20</td>\n",
       "      <td>21.5</td>\n",
       "      <td>6.0</td>\n",
       "    </tr>\n",
       "    <tr>\n",
       "      <th>973</th>\n",
       "      <td>Ecom3</td>\n",
       "      <td>1/8/20</td>\n",
       "      <td>New York</td>\n",
       "      <td>NY</td>\n",
       "      <td>10036</td>\n",
       "      <td>FEH</td>\n",
       "      <td>1/3/20</td>\n",
       "      <td>14.0</td>\n",
       "      <td>4.0</td>\n",
       "    </tr>\n",
       "    <tr>\n",
       "      <th>16489</th>\n",
       "      <td>Ecom1</td>\n",
       "      <td>1/29/20</td>\n",
       "      <td>Belgrade</td>\n",
       "      <td>MT</td>\n",
       "      <td>59714</td>\n",
       "      <td>FEH</td>\n",
       "      <td>1/24/20</td>\n",
       "      <td>10.5</td>\n",
       "      <td>3.0</td>\n",
       "    </tr>\n",
       "    <tr>\n",
       "      <th>13696</th>\n",
       "      <td>Ecom3</td>\n",
       "      <td>1/27/20</td>\n",
       "      <td>New York</td>\n",
       "      <td>NY</td>\n",
       "      <td>10024</td>\n",
       "      <td>FEH</td>\n",
       "      <td>1/24/20</td>\n",
       "      <td>21.5</td>\n",
       "      <td>6.0</td>\n",
       "    </tr>\n",
       "  </tbody>\n",
       "</table>\n",
       "</div>"
      ],
      "text/plain": [
       "      Company Name Ship Date        City State    Zip Shipping Service  \\\n",
       "1660         Ecom3    1/6/20  Fort Worth    TX  76102              UPS   \n",
       "3650         Ecom3   1/20/20   Thomaston    GA  30286              UPS   \n",
       "973          Ecom3    1/8/20    New York    NY  10036              FEH   \n",
       "16489        Ecom1   1/29/20    Belgrade    MT  59714              FEH   \n",
       "13696        Ecom3   1/27/20    New York    NY  10024              FEH   \n",
       "\n",
       "      Created Date  Weight  Item/Bottle Count  \n",
       "1660        1/4/20    21.5                6.0  \n",
       "3650       1/17/20    21.5                6.0  \n",
       "973         1/3/20    14.0                4.0  \n",
       "16489      1/24/20    10.5                3.0  \n",
       "13696      1/24/20    21.5                6.0  "
      ]
     },
     "execution_count": 26,
     "metadata": {},
     "output_type": "execute_result"
    }
   ],
   "source": [
    "#See five random rows of data\n",
    "df_2020_01.sample(n=5)"
   ]
  },
  {
   "cell_type": "code",
   "execution_count": 27,
   "id": "2f59ad5f",
   "metadata": {},
   "outputs": [
    {
     "name": "stdout",
     "output_type": "stream",
     "text": [
      "Number of Rows:  7680\n",
      "Number of Columns:  9\n"
     ]
    }
   ],
   "source": [
    "#Determine total rows for df_2020_01.\n",
    "df_2020_01_rows = len(df_2020_01.axes[0])\n",
    "df_2020_01_cols = len(df_2020_01.axes[1])\n",
    "print(\"Number of Rows: \", df_2020_01_rows)\n",
    "print(\"Number of Columns: \", df_2020_01_cols)"
   ]
  },
  {
   "cell_type": "markdown",
   "id": "625b4837",
   "metadata": {},
   "source": [
    "## Export Cleaned df to .CSV"
   ]
  },
  {
   "cell_type": "code",
   "execution_count": 31,
   "id": "f5a7980c",
   "metadata": {},
   "outputs": [],
   "source": [
    "#Export df_2020_01 to .csv\n",
    "df_2020_01.to_csv('../data_frame/cleaned_months/Clean_2020_01.csv') "
   ]
  },
  {
   "cell_type": "code",
   "execution_count": null,
   "id": "aafdefb9",
   "metadata": {},
   "outputs": [],
   "source": []
  }
 ],
 "metadata": {
  "kernelspec": {
   "display_name": "Python 3 (ipykernel)",
   "language": "python",
   "name": "python3"
  },
  "language_info": {
   "codemirror_mode": {
    "name": "ipython",
    "version": 3
   },
   "file_extension": ".py",
   "mimetype": "text/x-python",
   "name": "python",
   "nbconvert_exporter": "python",
   "pygments_lexer": "ipython3",
   "version": "3.7.13"
  }
 },
 "nbformat": 4,
 "nbformat_minor": 5
}
