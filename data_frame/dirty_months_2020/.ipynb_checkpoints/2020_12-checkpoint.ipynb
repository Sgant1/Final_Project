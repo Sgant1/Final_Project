{
 "cells": [
  {
   "cell_type": "code",
   "execution_count": 1,
   "id": "1f30ec89",
   "metadata": {},
   "outputs": [],
   "source": [
    "#Pandas library to create DataFrames\n",
    "import pandas as pd\n",
    "#NumPy library for converting data types\n",
    "import numpy as np"
   ]
  },
  {
   "cell_type": "code",
   "execution_count": 2,
   "id": "7d4569c3",
   "metadata": {},
   "outputs": [],
   "source": [
    "# Files to load\n",
    "load_2020_12 = \"../../2020_Data/2020.12.csv\""
   ]
  },
  {
   "cell_type": "code",
   "execution_count": 3,
   "id": "5bf26e77",
   "metadata": {},
   "outputs": [
    {
     "data": {
      "text/html": [
       "<div>\n",
       "<style scoped>\n",
       "    .dataframe tbody tr th:only-of-type {\n",
       "        vertical-align: middle;\n",
       "    }\n",
       "\n",
       "    .dataframe tbody tr th {\n",
       "        vertical-align: top;\n",
       "    }\n",
       "\n",
       "    .dataframe thead th {\n",
       "        text-align: right;\n",
       "    }\n",
       "</style>\n",
       "<table border=\"1\" class=\"dataframe\">\n",
       "  <thead>\n",
       "    <tr style=\"text-align: right;\">\n",
       "      <th></th>\n",
       "      <th>Company Name</th>\n",
       "      <th>Status</th>\n",
       "      <th>Ship Date</th>\n",
       "      <th>City</th>\n",
       "      <th>State</th>\n",
       "      <th>Zip</th>\n",
       "      <th>Shipping Service</th>\n",
       "      <th>Created Date</th>\n",
       "      <th>Weight</th>\n",
       "      <th>Item/Bottle Count</th>\n",
       "    </tr>\n",
       "  </thead>\n",
       "  <tbody>\n",
       "    <tr>\n",
       "      <th>0</th>\n",
       "      <td>Ecom3</td>\n",
       "      <td>Delivered</td>\n",
       "      <td>12/1/20</td>\n",
       "      <td>Paoli</td>\n",
       "      <td>PA</td>\n",
       "      <td>19301</td>\n",
       "      <td>UPS</td>\n",
       "      <td>11/30/20</td>\n",
       "      <td>21.5</td>\n",
       "      <td>6</td>\n",
       "    </tr>\n",
       "    <tr>\n",
       "      <th>1</th>\n",
       "      <td>Ecom3</td>\n",
       "      <td>In Transit</td>\n",
       "      <td>12/4/20</td>\n",
       "      <td>Deerfield</td>\n",
       "      <td>IL</td>\n",
       "      <td>60015</td>\n",
       "      <td>UPS</td>\n",
       "      <td>12/3/20</td>\n",
       "      <td>26.0</td>\n",
       "      <td>7</td>\n",
       "    </tr>\n",
       "    <tr>\n",
       "      <th>2</th>\n",
       "      <td>Ecom3</td>\n",
       "      <td>Delivered</td>\n",
       "      <td>12/2/20</td>\n",
       "      <td>Lambertville</td>\n",
       "      <td>MI</td>\n",
       "      <td>48144</td>\n",
       "      <td>UPS</td>\n",
       "      <td>12/1/20</td>\n",
       "      <td>21.5</td>\n",
       "      <td>6</td>\n",
       "    </tr>\n",
       "    <tr>\n",
       "      <th>3</th>\n",
       "      <td>Ecom3</td>\n",
       "      <td>Delivered</td>\n",
       "      <td>12/1/20</td>\n",
       "      <td>San Jose</td>\n",
       "      <td>CA</td>\n",
       "      <td>95125</td>\n",
       "      <td>UPS</td>\n",
       "      <td>11/28/20</td>\n",
       "      <td>41.0</td>\n",
       "      <td>12</td>\n",
       "    </tr>\n",
       "    <tr>\n",
       "      <th>4</th>\n",
       "      <td>Ecom3</td>\n",
       "      <td>Delivered</td>\n",
       "      <td>12/1/20</td>\n",
       "      <td>Belton</td>\n",
       "      <td>SC</td>\n",
       "      <td>29627</td>\n",
       "      <td>UPS</td>\n",
       "      <td>11/29/20</td>\n",
       "      <td>21.5</td>\n",
       "      <td>6</td>\n",
       "    </tr>\n",
       "  </tbody>\n",
       "</table>\n",
       "</div>"
      ],
      "text/plain": [
       "  Company Name      Status Ship Date          City State    Zip  \\\n",
       "0        Ecom3   Delivered   12/1/20         Paoli    PA  19301   \n",
       "1        Ecom3  In Transit   12/4/20     Deerfield    IL  60015   \n",
       "2        Ecom3   Delivered   12/2/20  Lambertville    MI  48144   \n",
       "3        Ecom3   Delivered   12/1/20      San Jose    CA  95125   \n",
       "4        Ecom3   Delivered   12/1/20        Belton    SC  29627   \n",
       "\n",
       "  Shipping Service Created Date  Weight  Item/Bottle Count  \n",
       "0              UPS     11/30/20    21.5                  6  \n",
       "1              UPS      12/3/20    26.0                  7  \n",
       "2              UPS      12/1/20    21.5                  6  \n",
       "3              UPS     11/28/20    41.0                 12  \n",
       "4              UPS     11/29/20    21.5                  6  "
      ]
     },
     "execution_count": 3,
     "metadata": {},
     "output_type": "execute_result"
    }
   ],
   "source": [
    "# Read the December CSV into a DataFrame\n",
    "#Had to open each file in excel and save it as a .csv file instead of an .xlsm file in order for the encryption to be read properly.\n",
    "df_2020_12 = pd.read_csv(load_2020_12)\n",
    "df_2020_12.head()"
   ]
  },
  {
   "cell_type": "markdown",
   "id": "175df6a6",
   "metadata": {},
   "source": [
    "## Inspect the Data"
   ]
  },
  {
   "cell_type": "code",
   "execution_count": 4,
   "id": "2cdb2387",
   "metadata": {},
   "outputs": [
    {
     "data": {
      "text/html": [
       "<div>\n",
       "<style scoped>\n",
       "    .dataframe tbody tr th:only-of-type {\n",
       "        vertical-align: middle;\n",
       "    }\n",
       "\n",
       "    .dataframe tbody tr th {\n",
       "        vertical-align: top;\n",
       "    }\n",
       "\n",
       "    .dataframe thead th {\n",
       "        text-align: right;\n",
       "    }\n",
       "</style>\n",
       "<table border=\"1\" class=\"dataframe\">\n",
       "  <thead>\n",
       "    <tr style=\"text-align: right;\">\n",
       "      <th></th>\n",
       "      <th>Company Name</th>\n",
       "      <th>Status</th>\n",
       "      <th>Ship Date</th>\n",
       "      <th>City</th>\n",
       "      <th>State</th>\n",
       "      <th>Zip</th>\n",
       "      <th>Shipping Service</th>\n",
       "      <th>Created Date</th>\n",
       "      <th>Weight</th>\n",
       "      <th>Item/Bottle Count</th>\n",
       "    </tr>\n",
       "  </thead>\n",
       "  <tbody>\n",
       "    <tr>\n",
       "      <th>10468</th>\n",
       "      <td>Ecom2</td>\n",
       "      <td>Shipped</td>\n",
       "      <td>12/19/20</td>\n",
       "      <td>Los Angeles</td>\n",
       "      <td>CA</td>\n",
       "      <td>90064</td>\n",
       "      <td>UPS</td>\n",
       "      <td>12/17/20</td>\n",
       "      <td>7.0</td>\n",
       "      <td>2</td>\n",
       "    </tr>\n",
       "    <tr>\n",
       "      <th>31250</th>\n",
       "      <td>Ecom2</td>\n",
       "      <td>In Transit</td>\n",
       "      <td>12/29/20</td>\n",
       "      <td>Waretown</td>\n",
       "      <td>NJ</td>\n",
       "      <td>8758</td>\n",
       "      <td>FEH</td>\n",
       "      <td>12/28/20</td>\n",
       "      <td>7.0</td>\n",
       "      <td>2</td>\n",
       "    </tr>\n",
       "    <tr>\n",
       "      <th>13429</th>\n",
       "      <td>Ecom3</td>\n",
       "      <td>Delivered</td>\n",
       "      <td>12/14/20</td>\n",
       "      <td>Miami Shores</td>\n",
       "      <td>FL</td>\n",
       "      <td>33138</td>\n",
       "      <td>UPS</td>\n",
       "      <td>12/13/20</td>\n",
       "      <td>9.9</td>\n",
       "      <td>3</td>\n",
       "    </tr>\n",
       "    <tr>\n",
       "      <th>32089</th>\n",
       "      <td>Ecom3</td>\n",
       "      <td>Delivered</td>\n",
       "      <td>12/27/20</td>\n",
       "      <td>Gibbsboro</td>\n",
       "      <td>NJ</td>\n",
       "      <td>8026</td>\n",
       "      <td>UPS</td>\n",
       "      <td>12/23/20</td>\n",
       "      <td>21.5</td>\n",
       "      <td>6</td>\n",
       "    </tr>\n",
       "    <tr>\n",
       "      <th>15055</th>\n",
       "      <td>Ecom1</td>\n",
       "      <td>Delivered</td>\n",
       "      <td>12/18/20</td>\n",
       "      <td>Middletown</td>\n",
       "      <td>NY</td>\n",
       "      <td>10940</td>\n",
       "      <td>FEH</td>\n",
       "      <td>12/16/20</td>\n",
       "      <td>6.5</td>\n",
       "      <td>1</td>\n",
       "    </tr>\n",
       "  </tbody>\n",
       "</table>\n",
       "</div>"
      ],
      "text/plain": [
       "      Company Name      Status Ship Date          City State    Zip  \\\n",
       "10468        Ecom2     Shipped  12/19/20   Los Angeles    CA  90064   \n",
       "31250        Ecom2  In Transit  12/29/20      Waretown    NJ   8758   \n",
       "13429        Ecom3   Delivered  12/14/20  Miami Shores    FL  33138   \n",
       "32089        Ecom3   Delivered  12/27/20     Gibbsboro    NJ   8026   \n",
       "15055        Ecom1   Delivered  12/18/20    Middletown    NY  10940   \n",
       "\n",
       "      Shipping Service Created Date  Weight  Item/Bottle Count  \n",
       "10468              UPS     12/17/20     7.0                  2  \n",
       "31250              FEH     12/28/20     7.0                  2  \n",
       "13429              UPS     12/13/20     9.9                  3  \n",
       "32089              UPS     12/23/20    21.5                  6  \n",
       "15055              FEH     12/16/20     6.5                  1  "
      ]
     },
     "execution_count": 4,
     "metadata": {},
     "output_type": "execute_result"
    }
   ],
   "source": [
    "#See five random rows of data\n",
    "df_2020_12.sample(n=5)"
   ]
  },
  {
   "cell_type": "code",
   "execution_count": 5,
   "id": "a7bdb733",
   "metadata": {},
   "outputs": [
    {
     "data": {
      "text/html": [
       "<div>\n",
       "<style scoped>\n",
       "    .dataframe tbody tr th:only-of-type {\n",
       "        vertical-align: middle;\n",
       "    }\n",
       "\n",
       "    .dataframe tbody tr th {\n",
       "        vertical-align: top;\n",
       "    }\n",
       "\n",
       "    .dataframe thead th {\n",
       "        text-align: right;\n",
       "    }\n",
       "</style>\n",
       "<table border=\"1\" class=\"dataframe\">\n",
       "  <thead>\n",
       "    <tr style=\"text-align: right;\">\n",
       "      <th></th>\n",
       "      <th>Company Name</th>\n",
       "      <th>Status</th>\n",
       "      <th>Ship Date</th>\n",
       "      <th>City</th>\n",
       "      <th>State</th>\n",
       "      <th>Zip</th>\n",
       "      <th>Shipping Service</th>\n",
       "      <th>Created Date</th>\n",
       "      <th>Weight</th>\n",
       "      <th>Item/Bottle Count</th>\n",
       "    </tr>\n",
       "  </thead>\n",
       "  <tbody>\n",
       "    <tr>\n",
       "      <th>33841</th>\n",
       "      <td>Ecom3</td>\n",
       "      <td>In Transit</td>\n",
       "      <td>12/30/20</td>\n",
       "      <td>HONOLULU</td>\n",
       "      <td>HI</td>\n",
       "      <td>96821</td>\n",
       "      <td>UPS</td>\n",
       "      <td>12/29/20</td>\n",
       "      <td>33.0</td>\n",
       "      <td>10</td>\n",
       "    </tr>\n",
       "    <tr>\n",
       "      <th>33842</th>\n",
       "      <td>Ecom3</td>\n",
       "      <td>Delivered</td>\n",
       "      <td>12/28/20</td>\n",
       "      <td>Brighton</td>\n",
       "      <td>MI</td>\n",
       "      <td>48116</td>\n",
       "      <td>UPS</td>\n",
       "      <td>12/25/20</td>\n",
       "      <td>27.0</td>\n",
       "      <td>8</td>\n",
       "    </tr>\n",
       "    <tr>\n",
       "      <th>33843</th>\n",
       "      <td>Ecom3</td>\n",
       "      <td>In Transit</td>\n",
       "      <td>12/29/20</td>\n",
       "      <td>Brighton</td>\n",
       "      <td>MI</td>\n",
       "      <td>48116</td>\n",
       "      <td>UPS</td>\n",
       "      <td>12/25/20</td>\n",
       "      <td>7.0</td>\n",
       "      <td>1</td>\n",
       "    </tr>\n",
       "    <tr>\n",
       "      <th>33844</th>\n",
       "      <td>Ecom3</td>\n",
       "      <td>In Transit</td>\n",
       "      <td>12/30/20</td>\n",
       "      <td>Vacaville</td>\n",
       "      <td>CA</td>\n",
       "      <td>95687</td>\n",
       "      <td>UPS</td>\n",
       "      <td>12/29/20</td>\n",
       "      <td>21.5</td>\n",
       "      <td>6</td>\n",
       "    </tr>\n",
       "    <tr>\n",
       "      <th>33845</th>\n",
       "      <td>Ecom3</td>\n",
       "      <td>In Transit</td>\n",
       "      <td>12/29/20</td>\n",
       "      <td>Raleigh</td>\n",
       "      <td>NC</td>\n",
       "      <td>27606</td>\n",
       "      <td>UPS</td>\n",
       "      <td>12/27/20</td>\n",
       "      <td>9.9</td>\n",
       "      <td>3</td>\n",
       "    </tr>\n",
       "  </tbody>\n",
       "</table>\n",
       "</div>"
      ],
      "text/plain": [
       "      Company Name      Status Ship Date       City State    Zip  \\\n",
       "33841        Ecom3  In Transit  12/30/20   HONOLULU    HI  96821   \n",
       "33842        Ecom3   Delivered  12/28/20   Brighton    MI  48116   \n",
       "33843        Ecom3  In Transit  12/29/20   Brighton    MI  48116   \n",
       "33844        Ecom3  In Transit  12/30/20  Vacaville    CA  95687   \n",
       "33845        Ecom3  In Transit  12/29/20    Raleigh    NC  27606   \n",
       "\n",
       "      Shipping Service Created Date  Weight  Item/Bottle Count  \n",
       "33841              UPS     12/29/20    33.0                 10  \n",
       "33842              UPS     12/25/20    27.0                  8  \n",
       "33843              UPS     12/25/20     7.0                  1  \n",
       "33844              UPS     12/29/20    21.5                  6  \n",
       "33845              UPS     12/27/20     9.9                  3  "
      ]
     },
     "execution_count": 5,
     "metadata": {},
     "output_type": "execute_result"
    }
   ],
   "source": [
    "#See the last rows of data\n",
    "df_2020_12.tail(5)"
   ]
  },
  {
   "cell_type": "code",
   "execution_count": 6,
   "id": "a820ba41",
   "metadata": {},
   "outputs": [
    {
     "data": {
      "text/plain": [
       "Index(['Company Name', 'Status', 'Ship Date', 'City', 'State', 'Zip',\n",
       "       'Shipping Service', 'Created Date', 'Weight', 'Item/Bottle Count'],\n",
       "      dtype='object')"
      ]
     },
     "execution_count": 6,
     "metadata": {},
     "output_type": "execute_result"
    }
   ],
   "source": [
    "df_2020_12.columns"
   ]
  },
  {
   "cell_type": "code",
   "execution_count": 7,
   "id": "7410d9e5",
   "metadata": {},
   "outputs": [
    {
     "name": "stdout",
     "output_type": "stream",
     "text": [
      "Number of Rows:  33846\n",
      "Number of Columns:  10\n"
     ]
    }
   ],
   "source": [
    "#Determine total rows for df_2020_12.\n",
    "df_2020_12_rows = len(df_2020_12.axes[0])\n",
    "df_2020_12_cols = len(df_2020_12.axes[1])\n",
    "print(\"Number of Rows: \", df_2020_12_rows)\n",
    "print(\"Number of Columns: \", df_2020_12_cols)"
   ]
  },
  {
   "cell_type": "code",
   "execution_count": 8,
   "id": "4caf57c3",
   "metadata": {},
   "outputs": [
    {
     "data": {
      "text/plain": [
       "Company Name         0\n",
       "Status               0\n",
       "Ship Date            0\n",
       "City                 0\n",
       "State                0\n",
       "Zip                  0\n",
       "Shipping Service     0\n",
       "Created Date         0\n",
       "Weight               0\n",
       "Item/Bottle Count    0\n",
       "dtype: int64"
      ]
     },
     "execution_count": 8,
     "metadata": {},
     "output_type": "execute_result"
    }
   ],
   "source": [
    "# Determine if there are any missing values in df_2020_12.\n",
    "df_2020_12.isnull().sum()"
   ]
  },
  {
   "cell_type": "code",
   "execution_count": 9,
   "id": "d2ad8510",
   "metadata": {},
   "outputs": [
    {
     "data": {
      "text/plain": [
       "Company Name          object\n",
       "Status                object\n",
       "Ship Date             object\n",
       "City                  object\n",
       "State                 object\n",
       "Zip                   object\n",
       "Shipping Service      object\n",
       "Created Date          object\n",
       "Weight               float64\n",
       "Item/Bottle Count      int64\n",
       "dtype: object"
      ]
     },
     "execution_count": 9,
     "metadata": {},
     "output_type": "execute_result"
    }
   ],
   "source": [
    "# Determine data types for df_2020_12.\n",
    "df_2020_12.dtypes"
   ]
  },
  {
   "cell_type": "code",
   "execution_count": 10,
   "id": "4061fbbf",
   "metadata": {},
   "outputs": [
    {
     "data": {
      "text/plain": [
       "Ecom2      14638\n",
       "Ecom3      10603\n",
       "Ecom1       7876\n",
       "Winery1      684\n",
       "Winery2       45\n",
       "Name: Company Name, dtype: int64"
      ]
     },
     "execution_count": 10,
     "metadata": {},
     "output_type": "execute_result"
    }
   ],
   "source": [
    "df_2020_12['Company Name'].value_counts()"
   ]
  },
  {
   "cell_type": "code",
   "execution_count": 11,
   "id": "aac39571",
   "metadata": {},
   "outputs": [
    {
     "data": {
      "text/plain": [
       "12/23/20    6623\n",
       "12/19/20    3405\n",
       "12/21/20    2731\n",
       "12/29/20    2721\n",
       "12/24/20    2194\n",
       "12/14/20    1425\n",
       "12/28/20    1411\n",
       "12/18/20    1166\n",
       "12/30/20    1150\n",
       "12/22/20    1143\n",
       "12/15/20    1066\n",
       "12/9/20      942\n",
       "12/1/20      873\n",
       "12/7/20      841\n",
       "12/4/20      816\n",
       "12/16/20     768\n",
       "12/2/20      752\n",
       "12/11/20     746\n",
       "12/10/20     703\n",
       "12/3/20      684\n",
       "12/8/20      624\n",
       "12/27/20     343\n",
       "12/13/20     257\n",
       "12/6/20      237\n",
       "12/17/20     198\n",
       "12/31/20      27\n",
       "Name: Ship Date, dtype: int64"
      ]
     },
     "execution_count": 11,
     "metadata": {},
     "output_type": "execute_result"
    }
   ],
   "source": [
    "df_2020_12['Ship Date'].value_counts()"
   ]
  },
  {
   "cell_type": "code",
   "execution_count": 12,
   "id": "ff45ee9d",
   "metadata": {},
   "outputs": [
    {
     "data": {
      "text/plain": [
       "Shipped              14279\n",
       "Delivered            13566\n",
       "In Transit            5758\n",
       "Delivery Attempt       126\n",
       "Carrier Exception      117\n",
       "Name: Status, dtype: int64"
      ]
     },
     "execution_count": 12,
     "metadata": {},
     "output_type": "execute_result"
    }
   ],
   "source": [
    "df_2020_12['Status'].value_counts()"
   ]
  },
  {
   "cell_type": "code",
   "execution_count": 13,
   "id": "ae707cc4",
   "metadata": {},
   "outputs": [
    {
     "data": {
      "text/plain": [
       "New York           533\n",
       "Chicago            411\n",
       "Brooklyn           292\n",
       "Atlanta            258\n",
       "Philadelphia       237\n",
       "                  ... \n",
       "Rio Vista            1\n",
       "PARADISE VALLEY      1\n",
       "WILLIAMSTOWN         1\n",
       "PAWLING              1\n",
       "Urich                1\n",
       "Name: City, Length: 6344, dtype: int64"
      ]
     },
     "execution_count": 13,
     "metadata": {},
     "output_type": "execute_result"
    }
   ],
   "source": [
    "df_2020_12['City'].value_counts()"
   ]
  },
  {
   "cell_type": "code",
   "execution_count": 14,
   "id": "a8718b4d",
   "metadata": {},
   "outputs": [
    {
     "data": {
      "text/plain": [
       "NY    3284\n",
       "FL    3249\n",
       "CA    3122\n",
       "PA    2083\n",
       "TX    2009\n",
       "NJ    1952\n",
       "MA    1482\n",
       "IL    1390\n",
       "VA    1241\n",
       "GA    1059\n",
       "OH    1003\n",
       "MD     985\n",
       "MI     951\n",
       "NC     856\n",
       "CO     854\n",
       "CT     741\n",
       "TN     596\n",
       "WA     579\n",
       "AZ     570\n",
       "WI     529\n",
       "IN     517\n",
       "MN     512\n",
       "SC     460\n",
       "OR     338\n",
       "MO     336\n",
       "RI     235\n",
       "KS     234\n",
       "LA     232\n",
       "DC     220\n",
       "NV     208\n",
       "NH     202\n",
       "HI     189\n",
       "IA     187\n",
       "OK     154\n",
       "NE     151\n",
       "ME     148\n",
       "AR     139\n",
       "NM     129\n",
       "WV     111\n",
       "ID     103\n",
       "MT     102\n",
       "DE     101\n",
       "VT      91\n",
       "SD      57\n",
       "ND      55\n",
       "WY      51\n",
       "AK      33\n",
       "AL      16\n",
       "Name: State, dtype: int64"
      ]
     },
     "execution_count": 14,
     "metadata": {},
     "output_type": "execute_result"
    }
   ],
   "source": [
    "df_2020_12['State'].value_counts()"
   ]
  },
  {
   "cell_type": "code",
   "execution_count": 15,
   "id": "aba1ce28",
   "metadata": {},
   "outputs": [
    {
     "data": {
      "text/plain": [
       "60614         49\n",
       "11201         41\n",
       "10019         39\n",
       "20002         38\n",
       "7302          38\n",
       "              ..\n",
       "26062          1\n",
       "29626          1\n",
       "92109-1203     1\n",
       "75117          1\n",
       "64788          1\n",
       "Name: Zip, Length: 9259, dtype: int64"
      ]
     },
     "execution_count": 15,
     "metadata": {},
     "output_type": "execute_result"
    }
   ],
   "source": [
    "df_2020_12['Zip'].value_counts()"
   ]
  },
  {
   "cell_type": "code",
   "execution_count": 16,
   "id": "85be0dcc",
   "metadata": {},
   "outputs": [
    {
     "data": {
      "text/plain": [
       "FEH    18710\n",
       "UPS    13174\n",
       "FXG     1701\n",
       "FEX      153\n",
       "WCU       41\n",
       "AZS       18\n",
       "WCP       16\n",
       "UP1       15\n",
       "UP2       10\n",
       "UP3        7\n",
       "FXE        1\n",
       "Name: Shipping Service, dtype: int64"
      ]
     },
     "execution_count": 16,
     "metadata": {},
     "output_type": "execute_result"
    }
   ],
   "source": [
    "df_2020_12['Shipping Service'].value_counts()"
   ]
  },
  {
   "cell_type": "code",
   "execution_count": 17,
   "id": "74be41f6",
   "metadata": {},
   "outputs": [
    {
     "data": {
      "text/plain": [
       "12/17/20    11546\n",
       "12/21/20     2221\n",
       "12/28/20     2019\n",
       "12/18/20     1741\n",
       "12/29/20     1231\n",
       "12/13/20      953\n",
       "12/8/20       921\n",
       "12/14/20      917\n",
       "12/9/20       815\n",
       "12/2/20       774\n",
       "12/27/20      758\n",
       "12/11/20      748\n",
       "12/1/20       719\n",
       "12/16/20      621\n",
       "11/30/20      617\n",
       "12/4/20       581\n",
       "12/25/20      550\n",
       "12/20/20      514\n",
       "12/10/20      503\n",
       "12/23/20      498\n",
       "12/15/20      480\n",
       "12/6/20       466\n",
       "12/22/20      418\n",
       "12/24/20      413\n",
       "11/29/20      412\n",
       "12/12/20      409\n",
       "12/7/20       387\n",
       "12/3/20       384\n",
       "12/5/20       258\n",
       "12/19/20      256\n",
       "12/26/20      203\n",
       "12/30/20      164\n",
       "11/28/20      149\n",
       "11/27/20      129\n",
       "11/26/20       24\n",
       "11/24/20       15\n",
       "11/25/20       11\n",
       "12/31/20        7\n",
       "11/23/20        5\n",
       "11/20/20        3\n",
       "11/22/20        3\n",
       "11/16/20        1\n",
       "10/26/20        1\n",
       "7/29/20         1\n",
       "Name: Created Date, dtype: int64"
      ]
     },
     "execution_count": 17,
     "metadata": {},
     "output_type": "execute_result"
    }
   ],
   "source": [
    "df_2020_12['Created Date'].value_counts()\n",
    "#Ok to have dates from other months- Sometimes people will create an order and hold onto it until an adult is present to sign for delivery."
   ]
  },
  {
   "cell_type": "code",
   "execution_count": 18,
   "id": "34adbd2f",
   "metadata": {},
   "outputs": [
    {
     "data": {
      "text/plain": [
       "7.00       15463\n",
       "21.50       5292\n",
       "6.50        3272\n",
       "39.00       2295\n",
       "10.50       2008\n",
       "20.20       1076\n",
       "14.00       1005\n",
       "41.00        826\n",
       "9.90         621\n",
       "3.35         344\n",
       "27.00        318\n",
       "18.50        147\n",
       "29.00        126\n",
       "13.50        125\n",
       "30.00        104\n",
       "24.00        102\n",
       "4.00          93\n",
       "20.50         93\n",
       "32.00         78\n",
       "33.00         77\n",
       "26.00         73\n",
       "35.00         65\n",
       "10.00         59\n",
       "38.00         37\n",
       "12.50         27\n",
       "17.20         22\n",
       "36.00         22\n",
       "37.00         14\n",
       "41.75         12\n",
       "7.50           9\n",
       "19.20          8\n",
       "9.50           3\n",
       "3.00           3\n",
       "18.20          3\n",
       "16.20          2\n",
       "21.00          2\n",
       "13.00          2\n",
       "1950.00        2\n",
       "45.00          1\n",
       "1.00           1\n",
       "23.20          1\n",
       "2.35           1\n",
       "9.00           1\n",
       "22.00          1\n",
       "26.20          1\n",
       "687.00         1\n",
       "11.50          1\n",
       "17.00          1\n",
       "654.00         1\n",
       "17.50          1\n",
       "15.70          1\n",
       "8.50           1\n",
       "25.00          1\n",
       "675.00         1\n",
       "Name: Weight, dtype: int64"
      ]
     },
     "execution_count": 18,
     "metadata": {},
     "output_type": "execute_result"
    }
   ],
   "source": [
    "df_2020_12['Weight'].value_counts()"
   ]
  },
  {
   "cell_type": "code",
   "execution_count": 19,
   "id": "73bd62e8",
   "metadata": {},
   "outputs": [
    {
     "data": {
      "text/plain": [
       "2       15532\n",
       "6        6373\n",
       "1        3864\n",
       "12       3130\n",
       "3        2723\n",
       "4        1124\n",
       "8         330\n",
       "7         184\n",
       "9         183\n",
       "5         174\n",
       "10        142\n",
       "11         32\n",
       "13         25\n",
       "14         16\n",
       "16          2\n",
       "1950        2\n",
       "22          1\n",
       "17          1\n",
       "98          1\n",
       "229         1\n",
       "312         1\n",
       "412         1\n",
       "336         1\n",
       "654         1\n",
       "15          1\n",
       "225         1\n",
       "Name: Item/Bottle Count, dtype: int64"
      ]
     },
     "execution_count": 19,
     "metadata": {},
     "output_type": "execute_result"
    }
   ],
   "source": [
    "df_2020_12['Item/Bottle Count'].value_counts()"
   ]
  },
  {
   "cell_type": "markdown",
   "id": "b28748d1",
   "metadata": {},
   "source": [
    "## Clean the Data"
   ]
  },
  {
   "cell_type": "code",
   "execution_count": 20,
   "id": "ae2074b6",
   "metadata": {},
   "outputs": [
    {
     "data": {
      "text/plain": [
       "Company Name          object\n",
       "Status                object\n",
       "Ship Date             object\n",
       "City                  object\n",
       "State                 object\n",
       "Zip                   object\n",
       "Shipping Service      object\n",
       "Created Date          object\n",
       "Weight               float64\n",
       "Item/Bottle Count    float64\n",
       "dtype: object"
      ]
     },
     "execution_count": 20,
     "metadata": {},
     "output_type": "execute_result"
    }
   ],
   "source": [
    "#Change [\"Item/Bottle Count\"] to float64 type in df_2020_12.\n",
    "df_2020_12[\"Item/Bottle Count\"]=df_2020_12[\"Item/Bottle Count\"].astype(float)\n",
    "df_2020_12.dtypes"
   ]
  },
  {
   "cell_type": "code",
   "execution_count": 21,
   "id": "2de5f1ce",
   "metadata": {},
   "outputs": [
    {
     "data": {
      "text/html": [
       "<div>\n",
       "<style scoped>\n",
       "    .dataframe tbody tr th:only-of-type {\n",
       "        vertical-align: middle;\n",
       "    }\n",
       "\n",
       "    .dataframe tbody tr th {\n",
       "        vertical-align: top;\n",
       "    }\n",
       "\n",
       "    .dataframe thead th {\n",
       "        text-align: right;\n",
       "    }\n",
       "</style>\n",
       "<table border=\"1\" class=\"dataframe\">\n",
       "  <thead>\n",
       "    <tr style=\"text-align: right;\">\n",
       "      <th></th>\n",
       "      <th>Company Name</th>\n",
       "      <th>Ship Date</th>\n",
       "      <th>City</th>\n",
       "      <th>State</th>\n",
       "      <th>Zip</th>\n",
       "      <th>Shipping Service</th>\n",
       "      <th>Created Date</th>\n",
       "      <th>Weight</th>\n",
       "      <th>Item/Bottle Count</th>\n",
       "    </tr>\n",
       "  </thead>\n",
       "  <tbody>\n",
       "    <tr>\n",
       "      <th>0</th>\n",
       "      <td>Ecom3</td>\n",
       "      <td>12/1/20</td>\n",
       "      <td>Paoli</td>\n",
       "      <td>PA</td>\n",
       "      <td>19301</td>\n",
       "      <td>UPS</td>\n",
       "      <td>11/30/20</td>\n",
       "      <td>21.5</td>\n",
       "      <td>6.0</td>\n",
       "    </tr>\n",
       "    <tr>\n",
       "      <th>1</th>\n",
       "      <td>Ecom3</td>\n",
       "      <td>12/4/20</td>\n",
       "      <td>Deerfield</td>\n",
       "      <td>IL</td>\n",
       "      <td>60015</td>\n",
       "      <td>UPS</td>\n",
       "      <td>12/3/20</td>\n",
       "      <td>26.0</td>\n",
       "      <td>7.0</td>\n",
       "    </tr>\n",
       "    <tr>\n",
       "      <th>2</th>\n",
       "      <td>Ecom3</td>\n",
       "      <td>12/2/20</td>\n",
       "      <td>Lambertville</td>\n",
       "      <td>MI</td>\n",
       "      <td>48144</td>\n",
       "      <td>UPS</td>\n",
       "      <td>12/1/20</td>\n",
       "      <td>21.5</td>\n",
       "      <td>6.0</td>\n",
       "    </tr>\n",
       "    <tr>\n",
       "      <th>3</th>\n",
       "      <td>Ecom3</td>\n",
       "      <td>12/1/20</td>\n",
       "      <td>San Jose</td>\n",
       "      <td>CA</td>\n",
       "      <td>95125</td>\n",
       "      <td>UPS</td>\n",
       "      <td>11/28/20</td>\n",
       "      <td>41.0</td>\n",
       "      <td>12.0</td>\n",
       "    </tr>\n",
       "    <tr>\n",
       "      <th>4</th>\n",
       "      <td>Ecom3</td>\n",
       "      <td>12/1/20</td>\n",
       "      <td>Belton</td>\n",
       "      <td>SC</td>\n",
       "      <td>29627</td>\n",
       "      <td>UPS</td>\n",
       "      <td>11/29/20</td>\n",
       "      <td>21.5</td>\n",
       "      <td>6.0</td>\n",
       "    </tr>\n",
       "    <tr>\n",
       "      <th>...</th>\n",
       "      <td>...</td>\n",
       "      <td>...</td>\n",
       "      <td>...</td>\n",
       "      <td>...</td>\n",
       "      <td>...</td>\n",
       "      <td>...</td>\n",
       "      <td>...</td>\n",
       "      <td>...</td>\n",
       "      <td>...</td>\n",
       "    </tr>\n",
       "    <tr>\n",
       "      <th>33841</th>\n",
       "      <td>Ecom3</td>\n",
       "      <td>12/30/20</td>\n",
       "      <td>HONOLULU</td>\n",
       "      <td>HI</td>\n",
       "      <td>96821</td>\n",
       "      <td>UPS</td>\n",
       "      <td>12/29/20</td>\n",
       "      <td>33.0</td>\n",
       "      <td>10.0</td>\n",
       "    </tr>\n",
       "    <tr>\n",
       "      <th>33842</th>\n",
       "      <td>Ecom3</td>\n",
       "      <td>12/28/20</td>\n",
       "      <td>Brighton</td>\n",
       "      <td>MI</td>\n",
       "      <td>48116</td>\n",
       "      <td>UPS</td>\n",
       "      <td>12/25/20</td>\n",
       "      <td>27.0</td>\n",
       "      <td>8.0</td>\n",
       "    </tr>\n",
       "    <tr>\n",
       "      <th>33843</th>\n",
       "      <td>Ecom3</td>\n",
       "      <td>12/29/20</td>\n",
       "      <td>Brighton</td>\n",
       "      <td>MI</td>\n",
       "      <td>48116</td>\n",
       "      <td>UPS</td>\n",
       "      <td>12/25/20</td>\n",
       "      <td>7.0</td>\n",
       "      <td>1.0</td>\n",
       "    </tr>\n",
       "    <tr>\n",
       "      <th>33844</th>\n",
       "      <td>Ecom3</td>\n",
       "      <td>12/30/20</td>\n",
       "      <td>Vacaville</td>\n",
       "      <td>CA</td>\n",
       "      <td>95687</td>\n",
       "      <td>UPS</td>\n",
       "      <td>12/29/20</td>\n",
       "      <td>21.5</td>\n",
       "      <td>6.0</td>\n",
       "    </tr>\n",
       "    <tr>\n",
       "      <th>33845</th>\n",
       "      <td>Ecom3</td>\n",
       "      <td>12/29/20</td>\n",
       "      <td>Raleigh</td>\n",
       "      <td>NC</td>\n",
       "      <td>27606</td>\n",
       "      <td>UPS</td>\n",
       "      <td>12/27/20</td>\n",
       "      <td>9.9</td>\n",
       "      <td>3.0</td>\n",
       "    </tr>\n",
       "  </tbody>\n",
       "</table>\n",
       "<p>33846 rows × 9 columns</p>\n",
       "</div>"
      ],
      "text/plain": [
       "      Company Name Ship Date          City State    Zip Shipping Service  \\\n",
       "0            Ecom3   12/1/20         Paoli    PA  19301              UPS   \n",
       "1            Ecom3   12/4/20     Deerfield    IL  60015              UPS   \n",
       "2            Ecom3   12/2/20  Lambertville    MI  48144              UPS   \n",
       "3            Ecom3   12/1/20      San Jose    CA  95125              UPS   \n",
       "4            Ecom3   12/1/20        Belton    SC  29627              UPS   \n",
       "...            ...       ...           ...   ...    ...              ...   \n",
       "33841        Ecom3  12/30/20      HONOLULU    HI  96821              UPS   \n",
       "33842        Ecom3  12/28/20      Brighton    MI  48116              UPS   \n",
       "33843        Ecom3  12/29/20      Brighton    MI  48116              UPS   \n",
       "33844        Ecom3  12/30/20     Vacaville    CA  95687              UPS   \n",
       "33845        Ecom3  12/29/20       Raleigh    NC  27606              UPS   \n",
       "\n",
       "      Created Date  Weight  Item/Bottle Count  \n",
       "0         11/30/20    21.5                6.0  \n",
       "1          12/3/20    26.0                7.0  \n",
       "2          12/1/20    21.5                6.0  \n",
       "3         11/28/20    41.0               12.0  \n",
       "4         11/29/20    21.5                6.0  \n",
       "...            ...     ...                ...  \n",
       "33841     12/29/20    33.0               10.0  \n",
       "33842     12/25/20    27.0                8.0  \n",
       "33843     12/25/20     7.0                1.0  \n",
       "33844     12/29/20    21.5                6.0  \n",
       "33845     12/27/20     9.9                3.0  \n",
       "\n",
       "[33846 rows x 9 columns]"
      ]
     },
     "execution_count": 21,
     "metadata": {},
     "output_type": "execute_result"
    }
   ],
   "source": [
    "#Remove \"Status\" column from df_2020_12.\n",
    "df_2020_12 = df_2020_12.drop('Status', axis=1)\n",
    "df_2020_12"
   ]
  },
  {
   "cell_type": "code",
   "execution_count": 22,
   "id": "0374b7d7",
   "metadata": {},
   "outputs": [],
   "source": [
    "# Drop the NaNs for df_2020_12.\n",
    "df_2020_12 = df_2020_12.dropna()"
   ]
  },
  {
   "cell_type": "markdown",
   "id": "b54ac18d",
   "metadata": {},
   "source": [
    "## Confirm Changes"
   ]
  },
  {
   "cell_type": "code",
   "execution_count": 23,
   "id": "717b65ec",
   "metadata": {},
   "outputs": [
    {
     "data": {
      "text/html": [
       "<div>\n",
       "<style scoped>\n",
       "    .dataframe tbody tr th:only-of-type {\n",
       "        vertical-align: middle;\n",
       "    }\n",
       "\n",
       "    .dataframe tbody tr th {\n",
       "        vertical-align: top;\n",
       "    }\n",
       "\n",
       "    .dataframe thead th {\n",
       "        text-align: right;\n",
       "    }\n",
       "</style>\n",
       "<table border=\"1\" class=\"dataframe\">\n",
       "  <thead>\n",
       "    <tr style=\"text-align: right;\">\n",
       "      <th></th>\n",
       "      <th>Company Name</th>\n",
       "      <th>Ship Date</th>\n",
       "      <th>City</th>\n",
       "      <th>State</th>\n",
       "      <th>Zip</th>\n",
       "      <th>Shipping Service</th>\n",
       "      <th>Created Date</th>\n",
       "      <th>Weight</th>\n",
       "      <th>Item/Bottle Count</th>\n",
       "    </tr>\n",
       "  </thead>\n",
       "  <tbody>\n",
       "    <tr>\n",
       "      <th>26678</th>\n",
       "      <td>Ecom2</td>\n",
       "      <td>12/23/20</td>\n",
       "      <td>Dansville</td>\n",
       "      <td>MI</td>\n",
       "      <td>48819</td>\n",
       "      <td>FEH</td>\n",
       "      <td>12/21/20</td>\n",
       "      <td>7.0</td>\n",
       "      <td>2.0</td>\n",
       "    </tr>\n",
       "    <tr>\n",
       "      <th>13142</th>\n",
       "      <td>Ecom3</td>\n",
       "      <td>12/18/20</td>\n",
       "      <td>Columbus</td>\n",
       "      <td>OH</td>\n",
       "      <td>43235</td>\n",
       "      <td>UPS</td>\n",
       "      <td>12/18/20</td>\n",
       "      <td>21.5</td>\n",
       "      <td>6.0</td>\n",
       "    </tr>\n",
       "    <tr>\n",
       "      <th>9409</th>\n",
       "      <td>Ecom2</td>\n",
       "      <td>12/19/20</td>\n",
       "      <td>Wells</td>\n",
       "      <td>ME</td>\n",
       "      <td>4090</td>\n",
       "      <td>FXG</td>\n",
       "      <td>12/17/20</td>\n",
       "      <td>7.0</td>\n",
       "      <td>2.0</td>\n",
       "    </tr>\n",
       "    <tr>\n",
       "      <th>5202</th>\n",
       "      <td>Ecom1</td>\n",
       "      <td>12/8/20</td>\n",
       "      <td>Escalon</td>\n",
       "      <td>CA</td>\n",
       "      <td>95320</td>\n",
       "      <td>FEH</td>\n",
       "      <td>12/4/20</td>\n",
       "      <td>6.5</td>\n",
       "      <td>1.0</td>\n",
       "    </tr>\n",
       "    <tr>\n",
       "      <th>16992</th>\n",
       "      <td>Ecom1</td>\n",
       "      <td>12/23/20</td>\n",
       "      <td>Essex Fells</td>\n",
       "      <td>NJ</td>\n",
       "      <td>7021</td>\n",
       "      <td>FEH</td>\n",
       "      <td>12/22/20</td>\n",
       "      <td>39.0</td>\n",
       "      <td>12.0</td>\n",
       "    </tr>\n",
       "  </tbody>\n",
       "</table>\n",
       "</div>"
      ],
      "text/plain": [
       "      Company Name Ship Date         City State    Zip Shipping Service  \\\n",
       "26678        Ecom2  12/23/20    Dansville    MI  48819              FEH   \n",
       "13142        Ecom3  12/18/20     Columbus    OH  43235              UPS   \n",
       "9409         Ecom2  12/19/20        Wells    ME   4090              FXG   \n",
       "5202         Ecom1   12/8/20      Escalon    CA  95320              FEH   \n",
       "16992        Ecom1  12/23/20  Essex Fells    NJ   7021              FEH   \n",
       "\n",
       "      Created Date  Weight  Item/Bottle Count  \n",
       "26678     12/21/20     7.0                2.0  \n",
       "13142     12/18/20    21.5                6.0  \n",
       "9409      12/17/20     7.0                2.0  \n",
       "5202       12/4/20     6.5                1.0  \n",
       "16992     12/22/20    39.0               12.0  "
      ]
     },
     "execution_count": 23,
     "metadata": {},
     "output_type": "execute_result"
    }
   ],
   "source": [
    "#See five random rows of data\n",
    "df_2020_12.sample(n=5)"
   ]
  },
  {
   "cell_type": "code",
   "execution_count": 24,
   "id": "2f59ad5f",
   "metadata": {},
   "outputs": [
    {
     "name": "stdout",
     "output_type": "stream",
     "text": [
      "Number of Rows:  33846\n",
      "Number of Columns:  9\n"
     ]
    }
   ],
   "source": [
    "#Determine total rows for df_2020_12.\n",
    "df_2020_12_rows = len(df_2020_12.axes[0])\n",
    "df_2020_12_cols = len(df_2020_12.axes[1])\n",
    "print(\"Number of Rows: \", df_2020_12_rows)\n",
    "print(\"Number of Columns: \", df_2020_12_cols)"
   ]
  },
  {
   "cell_type": "markdown",
   "id": "625b4837",
   "metadata": {},
   "source": [
    "## Export Cleaned df to .CSV"
   ]
  },
  {
   "cell_type": "code",
   "execution_count": 25,
   "id": "f5a7980c",
   "metadata": {},
   "outputs": [],
   "source": [
    "#Export df_2020_12 to .csv\n",
    "df_2020_12.to_csv('../cleaned_months_2020/Clean_2020_12.csv') "
   ]
  },
  {
   "cell_type": "code",
   "execution_count": null,
   "id": "aafdefb9",
   "metadata": {},
   "outputs": [],
   "source": []
  }
 ],
 "metadata": {
  "kernelspec": {
   "display_name": "Python 3 (ipykernel)",
   "language": "python",
   "name": "python3"
  },
  "language_info": {
   "codemirror_mode": {
    "name": "ipython",
    "version": 3
   },
   "file_extension": ".py",
   "mimetype": "text/x-python",
   "name": "python",
   "nbconvert_exporter": "python",
   "pygments_lexer": "ipython3",
   "version": "3.7.13"
  }
 },
 "nbformat": 4,
 "nbformat_minor": 5
}
