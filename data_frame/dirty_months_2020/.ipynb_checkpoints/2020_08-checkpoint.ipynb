{
 "cells": [
  {
   "cell_type": "code",
   "execution_count": 1,
   "id": "1f30ec89",
   "metadata": {},
   "outputs": [],
   "source": [
    "#Pandas library to create DataFrames\n",
    "import pandas as pd\n",
    "#NumPy library for converting data types\n",
    "import numpy as np"
   ]
  },
  {
   "cell_type": "code",
   "execution_count": 2,
   "id": "7d4569c3",
   "metadata": {},
   "outputs": [],
   "source": [
    "# Files to load\n",
    "load_2020_08 = \"../../2020_Data/2020.08.csv\""
   ]
  },
  {
   "cell_type": "code",
   "execution_count": 3,
   "id": "5bf26e77",
   "metadata": {},
   "outputs": [
    {
     "data": {
      "text/html": [
       "<div>\n",
       "<style scoped>\n",
       "    .dataframe tbody tr th:only-of-type {\n",
       "        vertical-align: middle;\n",
       "    }\n",
       "\n",
       "    .dataframe tbody tr th {\n",
       "        vertical-align: top;\n",
       "    }\n",
       "\n",
       "    .dataframe thead th {\n",
       "        text-align: right;\n",
       "    }\n",
       "</style>\n",
       "<table border=\"1\" class=\"dataframe\">\n",
       "  <thead>\n",
       "    <tr style=\"text-align: right;\">\n",
       "      <th></th>\n",
       "      <th>Company Name</th>\n",
       "      <th>Status</th>\n",
       "      <th>Ship Date</th>\n",
       "      <th>City</th>\n",
       "      <th>State</th>\n",
       "      <th>Zip</th>\n",
       "      <th>Shipping Service</th>\n",
       "      <th>Created Date</th>\n",
       "      <th>Weight</th>\n",
       "      <th>Item/Bottle Count</th>\n",
       "    </tr>\n",
       "  </thead>\n",
       "  <tbody>\n",
       "    <tr>\n",
       "      <th>0</th>\n",
       "      <td>Ecom3</td>\n",
       "      <td>Delivered</td>\n",
       "      <td>8/3/20</td>\n",
       "      <td>Phoenix</td>\n",
       "      <td>AZ</td>\n",
       "      <td>85016</td>\n",
       "      <td>UPS</td>\n",
       "      <td>7/21/20</td>\n",
       "      <td>41.0</td>\n",
       "      <td>12</td>\n",
       "    </tr>\n",
       "    <tr>\n",
       "      <th>1</th>\n",
       "      <td>Ecom3</td>\n",
       "      <td>Shipped</td>\n",
       "      <td>8/3/20</td>\n",
       "      <td>San Francisco</td>\n",
       "      <td>CA</td>\n",
       "      <td>94118</td>\n",
       "      <td>UPS</td>\n",
       "      <td>7/29/20</td>\n",
       "      <td>21.5</td>\n",
       "      <td>6</td>\n",
       "    </tr>\n",
       "    <tr>\n",
       "      <th>2</th>\n",
       "      <td>Ecom3</td>\n",
       "      <td>Delivered</td>\n",
       "      <td>8/3/20</td>\n",
       "      <td>La Porte</td>\n",
       "      <td>TX</td>\n",
       "      <td>77571</td>\n",
       "      <td>FEX</td>\n",
       "      <td>7/29/20</td>\n",
       "      <td>29.0</td>\n",
       "      <td>8</td>\n",
       "    </tr>\n",
       "    <tr>\n",
       "      <th>3</th>\n",
       "      <td>Ecom3</td>\n",
       "      <td>Delivered</td>\n",
       "      <td>8/3/20</td>\n",
       "      <td>Ketchum</td>\n",
       "      <td>ID</td>\n",
       "      <td>83340</td>\n",
       "      <td>UPS</td>\n",
       "      <td>7/29/20</td>\n",
       "      <td>21.5</td>\n",
       "      <td>6</td>\n",
       "    </tr>\n",
       "    <tr>\n",
       "      <th>4</th>\n",
       "      <td>Ecom3</td>\n",
       "      <td>Delivered</td>\n",
       "      <td>8/3/20</td>\n",
       "      <td>Houston</td>\n",
       "      <td>TX</td>\n",
       "      <td>77057</td>\n",
       "      <td>FEX</td>\n",
       "      <td>7/29/20</td>\n",
       "      <td>21.5</td>\n",
       "      <td>6</td>\n",
       "    </tr>\n",
       "  </tbody>\n",
       "</table>\n",
       "</div>"
      ],
      "text/plain": [
       "  Company Name     Status Ship Date           City State    Zip  \\\n",
       "0        Ecom3  Delivered    8/3/20        Phoenix    AZ  85016   \n",
       "1        Ecom3    Shipped    8/3/20  San Francisco    CA  94118   \n",
       "2        Ecom3  Delivered    8/3/20       La Porte    TX  77571   \n",
       "3        Ecom3  Delivered    8/3/20        Ketchum    ID  83340   \n",
       "4        Ecom3  Delivered    8/3/20        Houston    TX  77057   \n",
       "\n",
       "  Shipping Service Created Date  Weight  Item/Bottle Count  \n",
       "0              UPS      7/21/20    41.0                 12  \n",
       "1              UPS      7/29/20    21.5                  6  \n",
       "2              FEX      7/29/20    29.0                  8  \n",
       "3              UPS      7/29/20    21.5                  6  \n",
       "4              FEX      7/29/20    21.5                  6  "
      ]
     },
     "execution_count": 3,
     "metadata": {},
     "output_type": "execute_result"
    }
   ],
   "source": [
    "# Read the August CSV into a DataFrame\n",
    "#Had to open each file in excel and save it as a .csv file instead of an .xlsm file in order for the encryption to be read properly.\n",
    "df_2020_08 = pd.read_csv(load_2020_08)\n",
    "df_2020_08.head()"
   ]
  },
  {
   "cell_type": "markdown",
   "id": "175df6a6",
   "metadata": {},
   "source": [
    "## Inspect the Data"
   ]
  },
  {
   "cell_type": "code",
   "execution_count": 4,
   "id": "2cdb2387",
   "metadata": {},
   "outputs": [
    {
     "data": {
      "text/html": [
       "<div>\n",
       "<style scoped>\n",
       "    .dataframe tbody tr th:only-of-type {\n",
       "        vertical-align: middle;\n",
       "    }\n",
       "\n",
       "    .dataframe tbody tr th {\n",
       "        vertical-align: top;\n",
       "    }\n",
       "\n",
       "    .dataframe thead th {\n",
       "        text-align: right;\n",
       "    }\n",
       "</style>\n",
       "<table border=\"1\" class=\"dataframe\">\n",
       "  <thead>\n",
       "    <tr style=\"text-align: right;\">\n",
       "      <th></th>\n",
       "      <th>Company Name</th>\n",
       "      <th>Status</th>\n",
       "      <th>Ship Date</th>\n",
       "      <th>City</th>\n",
       "      <th>State</th>\n",
       "      <th>Zip</th>\n",
       "      <th>Shipping Service</th>\n",
       "      <th>Created Date</th>\n",
       "      <th>Weight</th>\n",
       "      <th>Item/Bottle Count</th>\n",
       "    </tr>\n",
       "  </thead>\n",
       "  <tbody>\n",
       "    <tr>\n",
       "      <th>10298</th>\n",
       "      <td>Ecom2</td>\n",
       "      <td>In Transit</td>\n",
       "      <td>8/20/20</td>\n",
       "      <td>Scottsville</td>\n",
       "      <td>NY</td>\n",
       "      <td>14546</td>\n",
       "      <td>FEH</td>\n",
       "      <td>8/19/20</td>\n",
       "      <td>7.0</td>\n",
       "      <td>1</td>\n",
       "    </tr>\n",
       "    <tr>\n",
       "      <th>8242</th>\n",
       "      <td>Ecom3</td>\n",
       "      <td>Delivered</td>\n",
       "      <td>8/18/20</td>\n",
       "      <td>Honeoye Falls</td>\n",
       "      <td>NY</td>\n",
       "      <td>14472</td>\n",
       "      <td>FEH</td>\n",
       "      <td>8/17/20</td>\n",
       "      <td>21.5</td>\n",
       "      <td>6</td>\n",
       "    </tr>\n",
       "    <tr>\n",
       "      <th>7475</th>\n",
       "      <td>Ecom3</td>\n",
       "      <td>Delivered</td>\n",
       "      <td>8/17/20</td>\n",
       "      <td>Byron</td>\n",
       "      <td>MN</td>\n",
       "      <td>55920</td>\n",
       "      <td>UPS</td>\n",
       "      <td>8/17/20</td>\n",
       "      <td>41.0</td>\n",
       "      <td>12</td>\n",
       "    </tr>\n",
       "    <tr>\n",
       "      <th>11482</th>\n",
       "      <td>Ecom2</td>\n",
       "      <td>In Transit</td>\n",
       "      <td>8/20/20</td>\n",
       "      <td>Green Brook</td>\n",
       "      <td>NJ</td>\n",
       "      <td>8812</td>\n",
       "      <td>FEH</td>\n",
       "      <td>8/19/20</td>\n",
       "      <td>7.0</td>\n",
       "      <td>1</td>\n",
       "    </tr>\n",
       "    <tr>\n",
       "      <th>11468</th>\n",
       "      <td>Ecom2</td>\n",
       "      <td>In Transit</td>\n",
       "      <td>8/20/20</td>\n",
       "      <td>Toms River</td>\n",
       "      <td>NJ</td>\n",
       "      <td>8757</td>\n",
       "      <td>FEH</td>\n",
       "      <td>8/19/20</td>\n",
       "      <td>7.0</td>\n",
       "      <td>1</td>\n",
       "    </tr>\n",
       "  </tbody>\n",
       "</table>\n",
       "</div>"
      ],
      "text/plain": [
       "      Company Name      Status Ship Date           City State    Zip  \\\n",
       "10298        Ecom2  In Transit   8/20/20    Scottsville    NY  14546   \n",
       "8242         Ecom3   Delivered   8/18/20  Honeoye Falls    NY  14472   \n",
       "7475         Ecom3   Delivered   8/17/20          Byron    MN  55920   \n",
       "11482        Ecom2  In Transit   8/20/20    Green Brook    NJ   8812   \n",
       "11468        Ecom2  In Transit   8/20/20     Toms River    NJ   8757   \n",
       "\n",
       "      Shipping Service Created Date  Weight  Item/Bottle Count  \n",
       "10298              FEH      8/19/20     7.0                  1  \n",
       "8242               FEH      8/17/20    21.5                  6  \n",
       "7475               UPS      8/17/20    41.0                 12  \n",
       "11482              FEH      8/19/20     7.0                  1  \n",
       "11468              FEH      8/19/20     7.0                  1  "
      ]
     },
     "execution_count": 4,
     "metadata": {},
     "output_type": "execute_result"
    }
   ],
   "source": [
    "#See five random rows of data\n",
    "df_2020_08.sample(n=5)"
   ]
  },
  {
   "cell_type": "code",
   "execution_count": 5,
   "id": "a7bdb733",
   "metadata": {},
   "outputs": [
    {
     "data": {
      "text/html": [
       "<div>\n",
       "<style scoped>\n",
       "    .dataframe tbody tr th:only-of-type {\n",
       "        vertical-align: middle;\n",
       "    }\n",
       "\n",
       "    .dataframe tbody tr th {\n",
       "        vertical-align: top;\n",
       "    }\n",
       "\n",
       "    .dataframe thead th {\n",
       "        text-align: right;\n",
       "    }\n",
       "</style>\n",
       "<table border=\"1\" class=\"dataframe\">\n",
       "  <thead>\n",
       "    <tr style=\"text-align: right;\">\n",
       "      <th></th>\n",
       "      <th>Company Name</th>\n",
       "      <th>Status</th>\n",
       "      <th>Ship Date</th>\n",
       "      <th>City</th>\n",
       "      <th>State</th>\n",
       "      <th>Zip</th>\n",
       "      <th>Shipping Service</th>\n",
       "      <th>Created Date</th>\n",
       "      <th>Weight</th>\n",
       "      <th>Item/Bottle Count</th>\n",
       "    </tr>\n",
       "  </thead>\n",
       "  <tbody>\n",
       "    <tr>\n",
       "      <th>20124</th>\n",
       "      <td>Ecom3</td>\n",
       "      <td>In Transit</td>\n",
       "      <td>8/31/20</td>\n",
       "      <td>PITTSBURGH</td>\n",
       "      <td>PA</td>\n",
       "      <td>15238</td>\n",
       "      <td>UPS</td>\n",
       "      <td>8/31/20</td>\n",
       "      <td>9.9</td>\n",
       "      <td>3</td>\n",
       "    </tr>\n",
       "    <tr>\n",
       "      <th>20125</th>\n",
       "      <td>Ecom3</td>\n",
       "      <td>In Transit</td>\n",
       "      <td>8/31/20</td>\n",
       "      <td>Honolulu</td>\n",
       "      <td>HI</td>\n",
       "      <td>96821</td>\n",
       "      <td>UPS</td>\n",
       "      <td>8/31/20</td>\n",
       "      <td>41.0</td>\n",
       "      <td>12</td>\n",
       "    </tr>\n",
       "    <tr>\n",
       "      <th>20126</th>\n",
       "      <td>Ecom3</td>\n",
       "      <td>In Transit</td>\n",
       "      <td>8/31/20</td>\n",
       "      <td>San Francisco</td>\n",
       "      <td>CA</td>\n",
       "      <td>94109</td>\n",
       "      <td>UPS</td>\n",
       "      <td>8/30/20</td>\n",
       "      <td>21.5</td>\n",
       "      <td>6</td>\n",
       "    </tr>\n",
       "    <tr>\n",
       "      <th>20127</th>\n",
       "      <td>Ecom3</td>\n",
       "      <td>In Transit</td>\n",
       "      <td>8/31/20</td>\n",
       "      <td>Seattle</td>\n",
       "      <td>WA</td>\n",
       "      <td>98112</td>\n",
       "      <td>UPS</td>\n",
       "      <td>8/31/20</td>\n",
       "      <td>41.0</td>\n",
       "      <td>12</td>\n",
       "    </tr>\n",
       "    <tr>\n",
       "      <th>20128</th>\n",
       "      <td>Ecom3</td>\n",
       "      <td>In Transit</td>\n",
       "      <td>8/31/20</td>\n",
       "      <td>Los Gatos</td>\n",
       "      <td>CA</td>\n",
       "      <td>95032</td>\n",
       "      <td>UPS</td>\n",
       "      <td>8/31/20</td>\n",
       "      <td>41.0</td>\n",
       "      <td>12</td>\n",
       "    </tr>\n",
       "  </tbody>\n",
       "</table>\n",
       "</div>"
      ],
      "text/plain": [
       "      Company Name      Status Ship Date           City State    Zip  \\\n",
       "20124        Ecom3  In Transit   8/31/20     PITTSBURGH    PA  15238   \n",
       "20125        Ecom3  In Transit   8/31/20       Honolulu    HI  96821   \n",
       "20126        Ecom3  In Transit   8/31/20  San Francisco    CA  94109   \n",
       "20127        Ecom3  In Transit   8/31/20        Seattle    WA  98112   \n",
       "20128        Ecom3  In Transit   8/31/20      Los Gatos    CA  95032   \n",
       "\n",
       "      Shipping Service Created Date  Weight  Item/Bottle Count  \n",
       "20124              UPS      8/31/20     9.9                  3  \n",
       "20125              UPS      8/31/20    41.0                 12  \n",
       "20126              UPS      8/30/20    21.5                  6  \n",
       "20127              UPS      8/31/20    41.0                 12  \n",
       "20128              UPS      8/31/20    41.0                 12  "
      ]
     },
     "execution_count": 5,
     "metadata": {},
     "output_type": "execute_result"
    }
   ],
   "source": [
    "#See the last rows of data\n",
    "df_2020_08.tail(5)"
   ]
  },
  {
   "cell_type": "code",
   "execution_count": 6,
   "id": "a820ba41",
   "metadata": {},
   "outputs": [
    {
     "data": {
      "text/plain": [
       "Index(['Company Name', 'Status', 'Ship Date', 'City', 'State', 'Zip',\n",
       "       'Shipping Service', 'Created Date', 'Weight', 'Item/Bottle Count'],\n",
       "      dtype='object')"
      ]
     },
     "execution_count": 6,
     "metadata": {},
     "output_type": "execute_result"
    }
   ],
   "source": [
    "df_2020_08.columns"
   ]
  },
  {
   "cell_type": "code",
   "execution_count": 7,
   "id": "7410d9e5",
   "metadata": {},
   "outputs": [
    {
     "name": "stdout",
     "output_type": "stream",
     "text": [
      "Number of Rows:  20129\n",
      "Number of Columns:  10\n"
     ]
    }
   ],
   "source": [
    "#Determine total rows for df_2020_08.\n",
    "df_2020_08_rows = len(df_2020_08.axes[0])\n",
    "df_2020_08_cols = len(df_2020_08.axes[1])\n",
    "print(\"Number of Rows: \", df_2020_08_rows)\n",
    "print(\"Number of Columns: \", df_2020_08_cols)"
   ]
  },
  {
   "cell_type": "code",
   "execution_count": 8,
   "id": "4caf57c3",
   "metadata": {},
   "outputs": [
    {
     "data": {
      "text/plain": [
       "Company Name         0\n",
       "Status               0\n",
       "Ship Date            0\n",
       "City                 0\n",
       "State                0\n",
       "Zip                  0\n",
       "Shipping Service     0\n",
       "Created Date         0\n",
       "Weight               0\n",
       "Item/Bottle Count    0\n",
       "dtype: int64"
      ]
     },
     "execution_count": 8,
     "metadata": {},
     "output_type": "execute_result"
    }
   ],
   "source": [
    "# Determine if there are any missing values in df_2020_08.\n",
    "df_2020_08.isnull().sum()"
   ]
  },
  {
   "cell_type": "code",
   "execution_count": 9,
   "id": "d2ad8510",
   "metadata": {},
   "outputs": [
    {
     "data": {
      "text/plain": [
       "Company Name          object\n",
       "Status                object\n",
       "Ship Date             object\n",
       "City                  object\n",
       "State                 object\n",
       "Zip                   object\n",
       "Shipping Service      object\n",
       "Created Date          object\n",
       "Weight               float64\n",
       "Item/Bottle Count      int64\n",
       "dtype: object"
      ]
     },
     "execution_count": 9,
     "metadata": {},
     "output_type": "execute_result"
    }
   ],
   "source": [
    "# Determine data types for df_2020_08.\n",
    "df_2020_08.dtypes"
   ]
  },
  {
   "cell_type": "code",
   "execution_count": 10,
   "id": "4061fbbf",
   "metadata": {},
   "outputs": [
    {
     "data": {
      "text/plain": [
       "Ecom3      10036\n",
       "Ecom2       6362\n",
       "Ecom1       3509\n",
       "Winery1      208\n",
       "Winery2       14\n",
       "Name: Company Name, dtype: int64"
      ]
     },
     "execution_count": 10,
     "metadata": {},
     "output_type": "execute_result"
    }
   ],
   "source": [
    "df_2020_08['Company Name'].value_counts()"
   ]
  },
  {
   "cell_type": "code",
   "execution_count": 11,
   "id": "aac39571",
   "metadata": {},
   "outputs": [
    {
     "data": {
      "text/plain": [
       "8/21/20    3855\n",
       "8/20/20    3017\n",
       "8/3/20     1196\n",
       "8/10/20    1136\n",
       "8/31/20    1055\n",
       "8/17/20    1021\n",
       "8/12/20    1015\n",
       "8/24/20     918\n",
       "8/11/20     840\n",
       "8/4/20      784\n",
       "8/25/20     698\n",
       "8/18/20     689\n",
       "8/19/20     576\n",
       "8/5/20      483\n",
       "8/26/20     454\n",
       "8/30/20     387\n",
       "8/13/20     363\n",
       "8/7/20      311\n",
       "8/6/20      286\n",
       "8/14/20     285\n",
       "8/27/20     271\n",
       "8/28/20     251\n",
       "8/23/20     238\n",
       "Name: Ship Date, dtype: int64"
      ]
     },
     "execution_count": 11,
     "metadata": {},
     "output_type": "execute_result"
    }
   ],
   "source": [
    "df_2020_08['Ship Date'].value_counts()"
   ]
  },
  {
   "cell_type": "code",
   "execution_count": 12,
   "id": "ff45ee9d",
   "metadata": {},
   "outputs": [
    {
     "data": {
      "text/plain": [
       "Delivered            10682\n",
       "In Transit            8466\n",
       "Shipped                789\n",
       "Carrier Exception      141\n",
       "Delivery Attempt        51\n",
       "Name: Status, dtype: int64"
      ]
     },
     "execution_count": 12,
     "metadata": {},
     "output_type": "execute_result"
    }
   ],
   "source": [
    "df_2020_08['Status'].value_counts()"
   ]
  },
  {
   "cell_type": "code",
   "execution_count": 13,
   "id": "ae707cc4",
   "metadata": {},
   "outputs": [
    {
     "data": {
      "text/plain": [
       "New York              334\n",
       "Chicago               286\n",
       "Philadelphia          169\n",
       "Los Angeles           148\n",
       "Brooklyn              144\n",
       "                     ... \n",
       "Monroe, LA              1\n",
       "Oak Harbor              1\n",
       "Dunkirk                 1\n",
       "Upper saddle river      1\n",
       "Los Angeles, CA         1\n",
       "Name: City, Length: 5066, dtype: int64"
      ]
     },
     "execution_count": 13,
     "metadata": {},
     "output_type": "execute_result"
    }
   ],
   "source": [
    "df_2020_08['City'].value_counts()"
   ]
  },
  {
   "cell_type": "code",
   "execution_count": 14,
   "id": "a8718b4d",
   "metadata": {},
   "outputs": [
    {
     "data": {
      "text/plain": [
       "CA    2108\n",
       "NY    2021\n",
       "PA    1584\n",
       "NJ    1219\n",
       "FL    1189\n",
       "IL     969\n",
       "TX     852\n",
       "MA     848\n",
       "VA     831\n",
       "MI     743\n",
       "OH     726\n",
       "NC     681\n",
       "MD     631\n",
       "GA     531\n",
       "CT     420\n",
       "WA     395\n",
       "CO     381\n",
       "IN     337\n",
       "WI     309\n",
       "MN     305\n",
       "MO     270\n",
       "TN     263\n",
       "SC     214\n",
       "OR     179\n",
       "AZ     178\n",
       "HI     169\n",
       "RI     152\n",
       "NH     149\n",
       "LA     144\n",
       "NE     142\n",
       "DC     138\n",
       "IA     117\n",
       "OK     102\n",
       "KS     101\n",
       "ME      97\n",
       "AR      84\n",
       "NV      83\n",
       "WV      70\n",
       "NM      56\n",
       "DE      56\n",
       "ID      48\n",
       "VT      48\n",
       "MT      43\n",
       "WY      39\n",
       "AK      36\n",
       "ND      34\n",
       "SD      24\n",
       "AL      13\n",
       "Name: State, dtype: int64"
      ]
     },
     "execution_count": 14,
     "metadata": {},
     "output_type": "execute_result"
    }
   ],
   "source": [
    "df_2020_08['State'].value_counts()"
   ]
  },
  {
   "cell_type": "code",
   "execution_count": 15,
   "id": "aba1ce28",
   "metadata": {},
   "outputs": [
    {
     "data": {
      "text/plain": [
       "7030     28\n",
       "10019    27\n",
       "11201    26\n",
       "19103    26\n",
       "60618    26\n",
       "         ..\n",
       "54201     1\n",
       "85374     1\n",
       "4915      1\n",
       "14006     1\n",
       "75072     1\n",
       "Name: Zip, Length: 7259, dtype: int64"
      ]
     },
     "execution_count": 15,
     "metadata": {},
     "output_type": "execute_result"
    }
   ],
   "source": [
    "df_2020_08['Zip'].value_counts()"
   ]
  },
  {
   "cell_type": "code",
   "execution_count": 16,
   "id": "85be0dcc",
   "metadata": {},
   "outputs": [
    {
     "data": {
      "text/plain": [
       "UPS    9866\n",
       "FEH    8444\n",
       "FXG    1009\n",
       "FEX     768\n",
       "UP2      16\n",
       "UP3       9\n",
       "GSC       5\n",
       "AZS       5\n",
       "UP1       5\n",
       "FXP       1\n",
       "azs       1\n",
       "Name: Shipping Service, dtype: int64"
      ]
     },
     "execution_count": 16,
     "metadata": {},
     "output_type": "execute_result"
    }
   ],
   "source": [
    "df_2020_08['Shipping Service'].value_counts()"
   ]
  },
  {
   "cell_type": "code",
   "execution_count": 17,
   "id": "74be41f6",
   "metadata": {},
   "outputs": [
    {
     "data": {
      "text/plain": [
       "8/19/20    6938\n",
       "8/11/20     798\n",
       "8/8/20      789\n",
       "8/9/20      648\n",
       "8/16/20     625\n",
       "8/21/20     562\n",
       "8/2/20      560\n",
       "8/12/20     544\n",
       "7/31/20     528\n",
       "8/18/20     495\n",
       "8/29/20     478\n",
       "8/17/20     449\n",
       "8/20/20     441\n",
       "8/4/20      429\n",
       "8/23/20     429\n",
       "8/3/20      423\n",
       "8/26/20     416\n",
       "8/10/20     408\n",
       "8/25/20     401\n",
       "8/5/20      384\n",
       "8/24/20     347\n",
       "8/27/20     346\n",
       "8/30/20     314\n",
       "8/7/20      303\n",
       "8/6/20      300\n",
       "8/13/20     287\n",
       "8/14/20     281\n",
       "8/1/20      267\n",
       "8/28/20     249\n",
       "8/31/20     224\n",
       "8/22/20     210\n",
       "8/15/20     145\n",
       "7/30/20      77\n",
       "7/29/20      18\n",
       "7/28/20       8\n",
       "7/24/20       2\n",
       "7/27/20       2\n",
       "2/24/20       1\n",
       "7/26/20       1\n",
       "7/17/20       1\n",
       "7/21/20       1\n",
       "Name: Created Date, dtype: int64"
      ]
     },
     "execution_count": 17,
     "metadata": {},
     "output_type": "execute_result"
    }
   ],
   "source": [
    "df_2020_08['Created Date'].value_counts()\n",
    "#Ok to have dates from other months- Sometimes people will create an order and hold onto it until an adult is present to sign for delivery."
   ]
  },
  {
   "cell_type": "code",
   "execution_count": 18,
   "id": "34adbd2f",
   "metadata": {},
   "outputs": [
    {
     "data": {
      "text/plain": [
       "7.00     6781\n",
       "21.50    5623\n",
       "10.50    1791\n",
       "41.00    1736\n",
       "20.20     850\n",
       "14.00     824\n",
       "39.00     630\n",
       "9.90      436\n",
       "29.00     320\n",
       "18.50     250\n",
       "35.00     134\n",
       "26.00     128\n",
       "32.00     123\n",
       "3.35      109\n",
       "38.00      61\n",
       "27.00      40\n",
       "7.50       40\n",
       "19.20      30\n",
       "4.00       28\n",
       "20.00      26\n",
       "30.00      22\n",
       "10.00      21\n",
       "24.00      21\n",
       "37.00      16\n",
       "13.50      15\n",
       "33.00      14\n",
       "17.20      11\n",
       "14.20       8\n",
       "36.00       8\n",
       "18.20       5\n",
       "23.00       4\n",
       "9.50        4\n",
       "20.50       3\n",
       "3.00        3\n",
       "16.20       2\n",
       "11.50       2\n",
       "21.00       2\n",
       "40.00       1\n",
       "11.00       1\n",
       "6.90        1\n",
       "22.00       1\n",
       "5.00        1\n",
       "8.00        1\n",
       "13.00       1\n",
       "36.50       1\n",
       "Name: Weight, dtype: int64"
      ]
     },
     "execution_count": 18,
     "metadata": {},
     "output_type": "execute_result"
    }
   ],
   "source": [
    "df_2020_08['Weight'].value_counts()"
   ]
  },
  {
   "cell_type": "code",
   "execution_count": 19,
   "id": "73bd62e8",
   "metadata": {},
   "outputs": [
    {
     "data": {
      "text/plain": [
       "1     6544\n",
       "6     6517\n",
       "12    2381\n",
       "3     2248\n",
       "4      843\n",
       "2      418\n",
       "8      351\n",
       "5      261\n",
       "7      179\n",
       "10     147\n",
       "9      146\n",
       "11      38\n",
       "13      25\n",
       "14      17\n",
       "15       7\n",
       "16       3\n",
       "24       2\n",
       "18       1\n",
       "22       1\n",
       "Name: Item/Bottle Count, dtype: int64"
      ]
     },
     "execution_count": 19,
     "metadata": {},
     "output_type": "execute_result"
    }
   ],
   "source": [
    "df_2020_08['Item/Bottle Count'].value_counts()"
   ]
  },
  {
   "cell_type": "markdown",
   "id": "b28748d1",
   "metadata": {},
   "source": [
    "## Clean the Data"
   ]
  },
  {
   "cell_type": "code",
   "execution_count": 20,
   "id": "ae2074b6",
   "metadata": {},
   "outputs": [],
   "source": [
    "#Change dtypes if necessary"
   ]
  },
  {
   "cell_type": "code",
   "execution_count": 21,
   "id": "2de5f1ce",
   "metadata": {},
   "outputs": [
    {
     "data": {
      "text/html": [
       "<div>\n",
       "<style scoped>\n",
       "    .dataframe tbody tr th:only-of-type {\n",
       "        vertical-align: middle;\n",
       "    }\n",
       "\n",
       "    .dataframe tbody tr th {\n",
       "        vertical-align: top;\n",
       "    }\n",
       "\n",
       "    .dataframe thead th {\n",
       "        text-align: right;\n",
       "    }\n",
       "</style>\n",
       "<table border=\"1\" class=\"dataframe\">\n",
       "  <thead>\n",
       "    <tr style=\"text-align: right;\">\n",
       "      <th></th>\n",
       "      <th>Company Name</th>\n",
       "      <th>Ship Date</th>\n",
       "      <th>City</th>\n",
       "      <th>State</th>\n",
       "      <th>Zip</th>\n",
       "      <th>Shipping Service</th>\n",
       "      <th>Created Date</th>\n",
       "      <th>Weight</th>\n",
       "      <th>Item/Bottle Count</th>\n",
       "    </tr>\n",
       "  </thead>\n",
       "  <tbody>\n",
       "    <tr>\n",
       "      <th>0</th>\n",
       "      <td>Ecom3</td>\n",
       "      <td>8/3/20</td>\n",
       "      <td>Phoenix</td>\n",
       "      <td>AZ</td>\n",
       "      <td>85016</td>\n",
       "      <td>UPS</td>\n",
       "      <td>7/21/20</td>\n",
       "      <td>41.0</td>\n",
       "      <td>12</td>\n",
       "    </tr>\n",
       "    <tr>\n",
       "      <th>1</th>\n",
       "      <td>Ecom3</td>\n",
       "      <td>8/3/20</td>\n",
       "      <td>San Francisco</td>\n",
       "      <td>CA</td>\n",
       "      <td>94118</td>\n",
       "      <td>UPS</td>\n",
       "      <td>7/29/20</td>\n",
       "      <td>21.5</td>\n",
       "      <td>6</td>\n",
       "    </tr>\n",
       "    <tr>\n",
       "      <th>2</th>\n",
       "      <td>Ecom3</td>\n",
       "      <td>8/3/20</td>\n",
       "      <td>La Porte</td>\n",
       "      <td>TX</td>\n",
       "      <td>77571</td>\n",
       "      <td>FEX</td>\n",
       "      <td>7/29/20</td>\n",
       "      <td>29.0</td>\n",
       "      <td>8</td>\n",
       "    </tr>\n",
       "    <tr>\n",
       "      <th>3</th>\n",
       "      <td>Ecom3</td>\n",
       "      <td>8/3/20</td>\n",
       "      <td>Ketchum</td>\n",
       "      <td>ID</td>\n",
       "      <td>83340</td>\n",
       "      <td>UPS</td>\n",
       "      <td>7/29/20</td>\n",
       "      <td>21.5</td>\n",
       "      <td>6</td>\n",
       "    </tr>\n",
       "    <tr>\n",
       "      <th>4</th>\n",
       "      <td>Ecom3</td>\n",
       "      <td>8/3/20</td>\n",
       "      <td>Houston</td>\n",
       "      <td>TX</td>\n",
       "      <td>77057</td>\n",
       "      <td>FEX</td>\n",
       "      <td>7/29/20</td>\n",
       "      <td>21.5</td>\n",
       "      <td>6</td>\n",
       "    </tr>\n",
       "    <tr>\n",
       "      <th>...</th>\n",
       "      <td>...</td>\n",
       "      <td>...</td>\n",
       "      <td>...</td>\n",
       "      <td>...</td>\n",
       "      <td>...</td>\n",
       "      <td>...</td>\n",
       "      <td>...</td>\n",
       "      <td>...</td>\n",
       "      <td>...</td>\n",
       "    </tr>\n",
       "    <tr>\n",
       "      <th>20124</th>\n",
       "      <td>Ecom3</td>\n",
       "      <td>8/31/20</td>\n",
       "      <td>PITTSBURGH</td>\n",
       "      <td>PA</td>\n",
       "      <td>15238</td>\n",
       "      <td>UPS</td>\n",
       "      <td>8/31/20</td>\n",
       "      <td>9.9</td>\n",
       "      <td>3</td>\n",
       "    </tr>\n",
       "    <tr>\n",
       "      <th>20125</th>\n",
       "      <td>Ecom3</td>\n",
       "      <td>8/31/20</td>\n",
       "      <td>Honolulu</td>\n",
       "      <td>HI</td>\n",
       "      <td>96821</td>\n",
       "      <td>UPS</td>\n",
       "      <td>8/31/20</td>\n",
       "      <td>41.0</td>\n",
       "      <td>12</td>\n",
       "    </tr>\n",
       "    <tr>\n",
       "      <th>20126</th>\n",
       "      <td>Ecom3</td>\n",
       "      <td>8/31/20</td>\n",
       "      <td>San Francisco</td>\n",
       "      <td>CA</td>\n",
       "      <td>94109</td>\n",
       "      <td>UPS</td>\n",
       "      <td>8/30/20</td>\n",
       "      <td>21.5</td>\n",
       "      <td>6</td>\n",
       "    </tr>\n",
       "    <tr>\n",
       "      <th>20127</th>\n",
       "      <td>Ecom3</td>\n",
       "      <td>8/31/20</td>\n",
       "      <td>Seattle</td>\n",
       "      <td>WA</td>\n",
       "      <td>98112</td>\n",
       "      <td>UPS</td>\n",
       "      <td>8/31/20</td>\n",
       "      <td>41.0</td>\n",
       "      <td>12</td>\n",
       "    </tr>\n",
       "    <tr>\n",
       "      <th>20128</th>\n",
       "      <td>Ecom3</td>\n",
       "      <td>8/31/20</td>\n",
       "      <td>Los Gatos</td>\n",
       "      <td>CA</td>\n",
       "      <td>95032</td>\n",
       "      <td>UPS</td>\n",
       "      <td>8/31/20</td>\n",
       "      <td>41.0</td>\n",
       "      <td>12</td>\n",
       "    </tr>\n",
       "  </tbody>\n",
       "</table>\n",
       "<p>20129 rows × 9 columns</p>\n",
       "</div>"
      ],
      "text/plain": [
       "      Company Name Ship Date           City State    Zip Shipping Service  \\\n",
       "0            Ecom3    8/3/20        Phoenix    AZ  85016              UPS   \n",
       "1            Ecom3    8/3/20  San Francisco    CA  94118              UPS   \n",
       "2            Ecom3    8/3/20       La Porte    TX  77571              FEX   \n",
       "3            Ecom3    8/3/20        Ketchum    ID  83340              UPS   \n",
       "4            Ecom3    8/3/20        Houston    TX  77057              FEX   \n",
       "...            ...       ...            ...   ...    ...              ...   \n",
       "20124        Ecom3   8/31/20     PITTSBURGH    PA  15238              UPS   \n",
       "20125        Ecom3   8/31/20       Honolulu    HI  96821              UPS   \n",
       "20126        Ecom3   8/31/20  San Francisco    CA  94109              UPS   \n",
       "20127        Ecom3   8/31/20        Seattle    WA  98112              UPS   \n",
       "20128        Ecom3   8/31/20      Los Gatos    CA  95032              UPS   \n",
       "\n",
       "      Created Date  Weight  Item/Bottle Count  \n",
       "0          7/21/20    41.0                 12  \n",
       "1          7/29/20    21.5                  6  \n",
       "2          7/29/20    29.0                  8  \n",
       "3          7/29/20    21.5                  6  \n",
       "4          7/29/20    21.5                  6  \n",
       "...            ...     ...                ...  \n",
       "20124      8/31/20     9.9                  3  \n",
       "20125      8/31/20    41.0                 12  \n",
       "20126      8/30/20    21.5                  6  \n",
       "20127      8/31/20    41.0                 12  \n",
       "20128      8/31/20    41.0                 12  \n",
       "\n",
       "[20129 rows x 9 columns]"
      ]
     },
     "execution_count": 21,
     "metadata": {},
     "output_type": "execute_result"
    }
   ],
   "source": [
    "#Remove \"Status\" column from df_2020_08.\n",
    "df_2020_08 = df_2020_08.drop('Status', axis=1)\n",
    "df_2020_08"
   ]
  },
  {
   "cell_type": "code",
   "execution_count": 22,
   "id": "0374b7d7",
   "metadata": {},
   "outputs": [],
   "source": [
    "# Drop the NaNs for df_2020_08.\n",
    "df_2020_08 = df_2020_08.dropna()"
   ]
  },
  {
   "cell_type": "markdown",
   "id": "b54ac18d",
   "metadata": {},
   "source": [
    "## Confirm Changes"
   ]
  },
  {
   "cell_type": "code",
   "execution_count": 23,
   "id": "717b65ec",
   "metadata": {},
   "outputs": [
    {
     "data": {
      "text/html": [
       "<div>\n",
       "<style scoped>\n",
       "    .dataframe tbody tr th:only-of-type {\n",
       "        vertical-align: middle;\n",
       "    }\n",
       "\n",
       "    .dataframe tbody tr th {\n",
       "        vertical-align: top;\n",
       "    }\n",
       "\n",
       "    .dataframe thead th {\n",
       "        text-align: right;\n",
       "    }\n",
       "</style>\n",
       "<table border=\"1\" class=\"dataframe\">\n",
       "  <thead>\n",
       "    <tr style=\"text-align: right;\">\n",
       "      <th></th>\n",
       "      <th>Company Name</th>\n",
       "      <th>Ship Date</th>\n",
       "      <th>City</th>\n",
       "      <th>State</th>\n",
       "      <th>Zip</th>\n",
       "      <th>Shipping Service</th>\n",
       "      <th>Created Date</th>\n",
       "      <th>Weight</th>\n",
       "      <th>Item/Bottle Count</th>\n",
       "    </tr>\n",
       "  </thead>\n",
       "  <tbody>\n",
       "    <tr>\n",
       "      <th>7412</th>\n",
       "      <td>Ecom3</td>\n",
       "      <td>8/17/20</td>\n",
       "      <td>Ringoes</td>\n",
       "      <td>NJ</td>\n",
       "      <td>8551</td>\n",
       "      <td>UPS</td>\n",
       "      <td>8/16/20</td>\n",
       "      <td>21.5</td>\n",
       "      <td>6</td>\n",
       "    </tr>\n",
       "    <tr>\n",
       "      <th>7715</th>\n",
       "      <td>Ecom3</td>\n",
       "      <td>8/17/20</td>\n",
       "      <td>Prosper</td>\n",
       "      <td>TX</td>\n",
       "      <td>75078</td>\n",
       "      <td>FEX</td>\n",
       "      <td>8/17/20</td>\n",
       "      <td>9.9</td>\n",
       "      <td>3</td>\n",
       "    </tr>\n",
       "    <tr>\n",
       "      <th>583</th>\n",
       "      <td>Ecom1</td>\n",
       "      <td>8/3/20</td>\n",
       "      <td>sherrills ford</td>\n",
       "      <td>NC</td>\n",
       "      <td>28673</td>\n",
       "      <td>FEH</td>\n",
       "      <td>8/2/20</td>\n",
       "      <td>39.0</td>\n",
       "      <td>12</td>\n",
       "    </tr>\n",
       "    <tr>\n",
       "      <th>2174</th>\n",
       "      <td>Ecom1</td>\n",
       "      <td>8/5/20</td>\n",
       "      <td>New York</td>\n",
       "      <td>NY</td>\n",
       "      <td>10011</td>\n",
       "      <td>FEH</td>\n",
       "      <td>8/4/20</td>\n",
       "      <td>10.5</td>\n",
       "      <td>3</td>\n",
       "    </tr>\n",
       "    <tr>\n",
       "      <th>3478</th>\n",
       "      <td>Ecom1</td>\n",
       "      <td>8/10/20</td>\n",
       "      <td>Doylestown</td>\n",
       "      <td>PA</td>\n",
       "      <td>18901</td>\n",
       "      <td>FEH</td>\n",
       "      <td>8/9/20</td>\n",
       "      <td>39.0</td>\n",
       "      <td>12</td>\n",
       "    </tr>\n",
       "  </tbody>\n",
       "</table>\n",
       "</div>"
      ],
      "text/plain": [
       "     Company Name Ship Date            City State    Zip Shipping Service  \\\n",
       "7412        Ecom3   8/17/20         Ringoes    NJ   8551              UPS   \n",
       "7715        Ecom3   8/17/20         Prosper    TX  75078              FEX   \n",
       "583         Ecom1    8/3/20  sherrills ford    NC  28673              FEH   \n",
       "2174        Ecom1    8/5/20        New York    NY  10011              FEH   \n",
       "3478        Ecom1   8/10/20      Doylestown    PA  18901              FEH   \n",
       "\n",
       "     Created Date  Weight  Item/Bottle Count  \n",
       "7412      8/16/20    21.5                  6  \n",
       "7715      8/17/20     9.9                  3  \n",
       "583        8/2/20    39.0                 12  \n",
       "2174       8/4/20    10.5                  3  \n",
       "3478       8/9/20    39.0                 12  "
      ]
     },
     "execution_count": 23,
     "metadata": {},
     "output_type": "execute_result"
    }
   ],
   "source": [
    "#See five random rows of data\n",
    "df_2020_08.sample(n=5)"
   ]
  },
  {
   "cell_type": "code",
   "execution_count": 24,
   "id": "2f59ad5f",
   "metadata": {},
   "outputs": [
    {
     "name": "stdout",
     "output_type": "stream",
     "text": [
      "Number of Rows:  20129\n",
      "Number of Columns:  9\n"
     ]
    }
   ],
   "source": [
    "#Determine total rows for df_2020_08.\n",
    "df_2020_08_rows = len(df_2020_08.axes[0])\n",
    "df_2020_08_cols = len(df_2020_08.axes[1])\n",
    "print(\"Number of Rows: \", df_2020_08_rows)\n",
    "print(\"Number of Columns: \", df_2020_08_cols)"
   ]
  },
  {
   "cell_type": "markdown",
   "id": "625b4837",
   "metadata": {},
   "source": [
    "## Export Cleaned df to .CSV"
   ]
  },
  {
   "cell_type": "code",
   "execution_count": 25,
   "id": "f5a7980c",
   "metadata": {},
   "outputs": [],
   "source": [
    "#Export df_2020_08 to .csv\n",
    "df_2020_08.to_csv('../cleaned_months_2020/Clean_2020_08.csv') "
   ]
  },
  {
   "cell_type": "code",
   "execution_count": null,
   "id": "aafdefb9",
   "metadata": {},
   "outputs": [],
   "source": []
  }
 ],
 "metadata": {
  "kernelspec": {
   "display_name": "Python 3 (ipykernel)",
   "language": "python",
   "name": "python3"
  },
  "language_info": {
   "codemirror_mode": {
    "name": "ipython",
    "version": 3
   },
   "file_extension": ".py",
   "mimetype": "text/x-python",
   "name": "python",
   "nbconvert_exporter": "python",
   "pygments_lexer": "ipython3",
   "version": "3.7.13"
  }
 },
 "nbformat": 4,
 "nbformat_minor": 5
}
