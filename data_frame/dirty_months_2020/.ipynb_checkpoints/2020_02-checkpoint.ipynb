{
 "cells": [
  {
   "cell_type": "code",
   "execution_count": 1,
   "id": "1f30ec89",
   "metadata": {},
   "outputs": [],
   "source": [
    "#Pandas library to create DataFrames\n",
    "import pandas as pd\n",
    "#NumPy library for converting data types\n",
    "import numpy as np"
   ]
  },
  {
   "cell_type": "code",
   "execution_count": 6,
   "id": "7d4569c3",
   "metadata": {},
   "outputs": [],
   "source": [
    "# Files to load\n",
    "load_2020_02 = \"../2020_Data/2020.02_utf-8.csv\""
   ]
  },
  {
   "cell_type": "code",
   "execution_count": 7,
   "id": "5bf26e77",
   "metadata": {},
   "outputs": [
    {
     "data": {
      "text/html": [
       "<div>\n",
       "<style scoped>\n",
       "    .dataframe tbody tr th:only-of-type {\n",
       "        vertical-align: middle;\n",
       "    }\n",
       "\n",
       "    .dataframe tbody tr th {\n",
       "        vertical-align: top;\n",
       "    }\n",
       "\n",
       "    .dataframe thead th {\n",
       "        text-align: right;\n",
       "    }\n",
       "</style>\n",
       "<table border=\"1\" class=\"dataframe\">\n",
       "  <thead>\n",
       "    <tr style=\"text-align: right;\">\n",
       "      <th></th>\n",
       "      <th>Company Name</th>\n",
       "      <th>Status</th>\n",
       "      <th>Ship Date</th>\n",
       "      <th>City</th>\n",
       "      <th>State</th>\n",
       "      <th>Zip</th>\n",
       "      <th>Shipping Service</th>\n",
       "      <th>Created Date</th>\n",
       "      <th>Weight</th>\n",
       "      <th>Item/Bottle Count</th>\n",
       "    </tr>\n",
       "  </thead>\n",
       "  <tbody>\n",
       "    <tr>\n",
       "      <th>0</th>\n",
       "      <td>Ecom3</td>\n",
       "      <td>In Transit</td>\n",
       "      <td>2/5/20</td>\n",
       "      <td>Iowa City</td>\n",
       "      <td>IA</td>\n",
       "      <td>52242</td>\n",
       "      <td>FXG</td>\n",
       "      <td>2/5/20</td>\n",
       "      <td>21.5</td>\n",
       "      <td>6</td>\n",
       "    </tr>\n",
       "    <tr>\n",
       "      <th>1</th>\n",
       "      <td>Ecom3</td>\n",
       "      <td>Delivered</td>\n",
       "      <td>2/6/20</td>\n",
       "      <td>MARLBORO</td>\n",
       "      <td>NJ</td>\n",
       "      <td>7746</td>\n",
       "      <td>UPS</td>\n",
       "      <td>2/6/20</td>\n",
       "      <td>41.0</td>\n",
       "      <td>12</td>\n",
       "    </tr>\n",
       "    <tr>\n",
       "      <th>2</th>\n",
       "      <td>Ecom3</td>\n",
       "      <td>Delivered</td>\n",
       "      <td>2/6/20</td>\n",
       "      <td>MARLBORO</td>\n",
       "      <td>NJ</td>\n",
       "      <td>7746</td>\n",
       "      <td>UPS</td>\n",
       "      <td>2/6/20</td>\n",
       "      <td>21.5</td>\n",
       "      <td>6</td>\n",
       "    </tr>\n",
       "    <tr>\n",
       "      <th>3</th>\n",
       "      <td>Ecom3</td>\n",
       "      <td>Delivered</td>\n",
       "      <td>2/4/20</td>\n",
       "      <td>Sacramento</td>\n",
       "      <td>CA</td>\n",
       "      <td>95818</td>\n",
       "      <td>UPS</td>\n",
       "      <td>2/4/20</td>\n",
       "      <td>14.0</td>\n",
       "      <td>4</td>\n",
       "    </tr>\n",
       "    <tr>\n",
       "      <th>4</th>\n",
       "      <td>Ecom3</td>\n",
       "      <td>Delivered</td>\n",
       "      <td>2/5/20</td>\n",
       "      <td>Williamsburg</td>\n",
       "      <td>VA</td>\n",
       "      <td>23185</td>\n",
       "      <td>UPS</td>\n",
       "      <td>2/5/20</td>\n",
       "      <td>21.5</td>\n",
       "      <td>6</td>\n",
       "    </tr>\n",
       "  </tbody>\n",
       "</table>\n",
       "</div>"
      ],
      "text/plain": [
       "  Company Name      Status Ship Date          City State    Zip  \\\n",
       "0        Ecom3  In Transit    2/5/20     Iowa City    IA  52242   \n",
       "1        Ecom3   Delivered    2/6/20      MARLBORO    NJ   7746   \n",
       "2        Ecom3   Delivered    2/6/20      MARLBORO    NJ   7746   \n",
       "3        Ecom3   Delivered    2/4/20    Sacramento    CA  95818   \n",
       "4        Ecom3   Delivered    2/5/20  Williamsburg    VA  23185   \n",
       "\n",
       "  Shipping Service Created Date  Weight  Item/Bottle Count  \n",
       "0              FXG       2/5/20    21.5                  6  \n",
       "1              UPS       2/6/20    41.0                 12  \n",
       "2              UPS       2/6/20    21.5                  6  \n",
       "3              UPS       2/4/20    14.0                  4  \n",
       "4              UPS       2/5/20    21.5                  6  "
      ]
     },
     "execution_count": 7,
     "metadata": {},
     "output_type": "execute_result"
    }
   ],
   "source": [
    "# Read the February CSV into a DataFrame\n",
    "#Had to open each file in excel and save it as a .csv file instead of an .xlsm file in order for the encryption to be read properly.\n",
    "df_2020_02 = pd.read_csv(load_2020_02)\n",
    "df_2020_02.head()"
   ]
  },
  {
   "cell_type": "markdown",
   "id": "175df6a6",
   "metadata": {},
   "source": [
    "## Inspect the Data"
   ]
  },
  {
   "cell_type": "code",
   "execution_count": 8,
   "id": "2cdb2387",
   "metadata": {},
   "outputs": [
    {
     "data": {
      "text/html": [
       "<div>\n",
       "<style scoped>\n",
       "    .dataframe tbody tr th:only-of-type {\n",
       "        vertical-align: middle;\n",
       "    }\n",
       "\n",
       "    .dataframe tbody tr th {\n",
       "        vertical-align: top;\n",
       "    }\n",
       "\n",
       "    .dataframe thead th {\n",
       "        text-align: right;\n",
       "    }\n",
       "</style>\n",
       "<table border=\"1\" class=\"dataframe\">\n",
       "  <thead>\n",
       "    <tr style=\"text-align: right;\">\n",
       "      <th></th>\n",
       "      <th>Company Name</th>\n",
       "      <th>Status</th>\n",
       "      <th>Ship Date</th>\n",
       "      <th>City</th>\n",
       "      <th>State</th>\n",
       "      <th>Zip</th>\n",
       "      <th>Shipping Service</th>\n",
       "      <th>Created Date</th>\n",
       "      <th>Weight</th>\n",
       "      <th>Item/Bottle Count</th>\n",
       "    </tr>\n",
       "  </thead>\n",
       "  <tbody>\n",
       "    <tr>\n",
       "      <th>4553</th>\n",
       "      <td>Winery1</td>\n",
       "      <td>Shipped</td>\n",
       "      <td>2/14/20</td>\n",
       "      <td>Canton</td>\n",
       "      <td>MI</td>\n",
       "      <td>48187</td>\n",
       "      <td>UPS</td>\n",
       "      <td>2/11/20</td>\n",
       "      <td>14.0</td>\n",
       "      <td>4</td>\n",
       "    </tr>\n",
       "    <tr>\n",
       "      <th>89</th>\n",
       "      <td>Ecom3</td>\n",
       "      <td>Delivered</td>\n",
       "      <td>2/3/20</td>\n",
       "      <td>Napa</td>\n",
       "      <td>CA</td>\n",
       "      <td>94559</td>\n",
       "      <td>UPS</td>\n",
       "      <td>2/1/20</td>\n",
       "      <td>9.9</td>\n",
       "      <td>3</td>\n",
       "    </tr>\n",
       "    <tr>\n",
       "      <th>8354</th>\n",
       "      <td>Ecom1</td>\n",
       "      <td>Delivered</td>\n",
       "      <td>2/25/20</td>\n",
       "      <td>Baltimore</td>\n",
       "      <td>MD</td>\n",
       "      <td>21215</td>\n",
       "      <td>FEH</td>\n",
       "      <td>2/21/20</td>\n",
       "      <td>10.5</td>\n",
       "      <td>3</td>\n",
       "    </tr>\n",
       "    <tr>\n",
       "      <th>1898</th>\n",
       "      <td>Ecom3</td>\n",
       "      <td>Delivered</td>\n",
       "      <td>2/13/20</td>\n",
       "      <td>Hudson</td>\n",
       "      <td>OH</td>\n",
       "      <td>44236</td>\n",
       "      <td>UPS</td>\n",
       "      <td>2/12/20</td>\n",
       "      <td>41.0</td>\n",
       "      <td>12</td>\n",
       "    </tr>\n",
       "    <tr>\n",
       "      <th>4179</th>\n",
       "      <td>Winery1</td>\n",
       "      <td>Delivered</td>\n",
       "      <td>2/12/20</td>\n",
       "      <td>Seattle</td>\n",
       "      <td>WA</td>\n",
       "      <td>98168</td>\n",
       "      <td>UPS</td>\n",
       "      <td>2/11/20</td>\n",
       "      <td>14.0</td>\n",
       "      <td>4</td>\n",
       "    </tr>\n",
       "  </tbody>\n",
       "</table>\n",
       "</div>"
      ],
      "text/plain": [
       "     Company Name     Status Ship Date       City State    Zip  \\\n",
       "4553      Winery1    Shipped   2/14/20     Canton    MI  48187   \n",
       "89          Ecom3  Delivered    2/3/20       Napa    CA  94559   \n",
       "8354        Ecom1  Delivered   2/25/20  Baltimore    MD  21215   \n",
       "1898        Ecom3  Delivered   2/13/20     Hudson    OH  44236   \n",
       "4179      Winery1  Delivered   2/12/20    Seattle    WA  98168   \n",
       "\n",
       "     Shipping Service Created Date  Weight  Item/Bottle Count  \n",
       "4553              UPS      2/11/20    14.0                  4  \n",
       "89                UPS       2/1/20     9.9                  3  \n",
       "8354              FEH      2/21/20    10.5                  3  \n",
       "1898              UPS      2/12/20    41.0                 12  \n",
       "4179              UPS      2/11/20    14.0                  4  "
      ]
     },
     "execution_count": 8,
     "metadata": {},
     "output_type": "execute_result"
    }
   ],
   "source": [
    "#See five random rows of data\n",
    "df_2020_02.sample(n=5)"
   ]
  },
  {
   "cell_type": "code",
   "execution_count": 9,
   "id": "a7bdb733",
   "metadata": {},
   "outputs": [
    {
     "data": {
      "text/html": [
       "<div>\n",
       "<style scoped>\n",
       "    .dataframe tbody tr th:only-of-type {\n",
       "        vertical-align: middle;\n",
       "    }\n",
       "\n",
       "    .dataframe tbody tr th {\n",
       "        vertical-align: top;\n",
       "    }\n",
       "\n",
       "    .dataframe thead th {\n",
       "        text-align: right;\n",
       "    }\n",
       "</style>\n",
       "<table border=\"1\" class=\"dataframe\">\n",
       "  <thead>\n",
       "    <tr style=\"text-align: right;\">\n",
       "      <th></th>\n",
       "      <th>Company Name</th>\n",
       "      <th>Status</th>\n",
       "      <th>Ship Date</th>\n",
       "      <th>City</th>\n",
       "      <th>State</th>\n",
       "      <th>Zip</th>\n",
       "      <th>Shipping Service</th>\n",
       "      <th>Created Date</th>\n",
       "      <th>Weight</th>\n",
       "      <th>Item/Bottle Count</th>\n",
       "    </tr>\n",
       "  </thead>\n",
       "  <tbody>\n",
       "    <tr>\n",
       "      <th>8901</th>\n",
       "      <td>Winery3</td>\n",
       "      <td>Shipped</td>\n",
       "      <td>2/28/20</td>\n",
       "      <td>Novelty</td>\n",
       "      <td>OH</td>\n",
       "      <td>44072</td>\n",
       "      <td>UPS</td>\n",
       "      <td>2/28/20</td>\n",
       "      <td>14.0</td>\n",
       "      <td>4</td>\n",
       "    </tr>\n",
       "    <tr>\n",
       "      <th>8902</th>\n",
       "      <td>Winery3</td>\n",
       "      <td>Shipped</td>\n",
       "      <td>2/28/20</td>\n",
       "      <td>Niles</td>\n",
       "      <td>OH</td>\n",
       "      <td>44446</td>\n",
       "      <td>UPS</td>\n",
       "      <td>2/28/20</td>\n",
       "      <td>14.0</td>\n",
       "      <td>4</td>\n",
       "    </tr>\n",
       "    <tr>\n",
       "      <th>8903</th>\n",
       "      <td>Winery3</td>\n",
       "      <td>Shipped</td>\n",
       "      <td>2/28/20</td>\n",
       "      <td>Cornelius</td>\n",
       "      <td>NC</td>\n",
       "      <td>28031</td>\n",
       "      <td>UPS</td>\n",
       "      <td>2/28/20</td>\n",
       "      <td>14.0</td>\n",
       "      <td>4</td>\n",
       "    </tr>\n",
       "    <tr>\n",
       "      <th>8904</th>\n",
       "      <td>Winery3</td>\n",
       "      <td>Shipped</td>\n",
       "      <td>2/28/20</td>\n",
       "      <td>Napa</td>\n",
       "      <td>CA</td>\n",
       "      <td>94558</td>\n",
       "      <td>WCU</td>\n",
       "      <td>2/28/20</td>\n",
       "      <td>14.0</td>\n",
       "      <td>4</td>\n",
       "    </tr>\n",
       "    <tr>\n",
       "      <th>8905</th>\n",
       "      <td>Winery3</td>\n",
       "      <td>Shipped</td>\n",
       "      <td>2/28/20</td>\n",
       "      <td>Napa</td>\n",
       "      <td>CA</td>\n",
       "      <td>94558</td>\n",
       "      <td>WCU</td>\n",
       "      <td>2/28/20</td>\n",
       "      <td>14.0</td>\n",
       "      <td>4</td>\n",
       "    </tr>\n",
       "  </tbody>\n",
       "</table>\n",
       "</div>"
      ],
      "text/plain": [
       "     Company Name   Status Ship Date       City State    Zip Shipping Service  \\\n",
       "8901      Winery3  Shipped   2/28/20    Novelty    OH  44072              UPS   \n",
       "8902      Winery3  Shipped   2/28/20      Niles    OH  44446              UPS   \n",
       "8903      Winery3  Shipped   2/28/20  Cornelius    NC  28031              UPS   \n",
       "8904      Winery3  Shipped   2/28/20       Napa    CA  94558              WCU   \n",
       "8905      Winery3  Shipped   2/28/20       Napa    CA  94558              WCU   \n",
       "\n",
       "     Created Date  Weight  Item/Bottle Count  \n",
       "8901      2/28/20    14.0                  4  \n",
       "8902      2/28/20    14.0                  4  \n",
       "8903      2/28/20    14.0                  4  \n",
       "8904      2/28/20    14.0                  4  \n",
       "8905      2/28/20    14.0                  4  "
      ]
     },
     "execution_count": 9,
     "metadata": {},
     "output_type": "execute_result"
    }
   ],
   "source": [
    "#See the last rows of data\n",
    "df_2020_02.tail(5)"
   ]
  },
  {
   "cell_type": "code",
   "execution_count": 10,
   "id": "a820ba41",
   "metadata": {},
   "outputs": [
    {
     "data": {
      "text/plain": [
       "Index(['Company Name', 'Status', 'Ship Date', 'City', 'State', 'Zip',\n",
       "       'Shipping Service', 'Created Date', 'Weight', 'Item/Bottle Count'],\n",
       "      dtype='object')"
      ]
     },
     "execution_count": 10,
     "metadata": {},
     "output_type": "execute_result"
    }
   ],
   "source": [
    "df_2020_02.columns"
   ]
  },
  {
   "cell_type": "code",
   "execution_count": 11,
   "id": "7410d9e5",
   "metadata": {},
   "outputs": [
    {
     "name": "stdout",
     "output_type": "stream",
     "text": [
      "Number of Rows:  8906\n",
      "Number of Columns:  10\n"
     ]
    }
   ],
   "source": [
    "#Determine total rows for df_2020_02.\n",
    "df_2020_02_rows = len(df_2020_02.axes[0])\n",
    "df_2020_02_cols = len(df_2020_02.axes[1])\n",
    "print(\"Number of Rows: \", df_2020_02_rows)\n",
    "print(\"Number of Columns: \", df_2020_02_cols)"
   ]
  },
  {
   "cell_type": "code",
   "execution_count": 12,
   "id": "4caf57c3",
   "metadata": {},
   "outputs": [
    {
     "data": {
      "text/plain": [
       "Company Name         0\n",
       "Status               0\n",
       "Ship Date            0\n",
       "City                 0\n",
       "State                0\n",
       "Zip                  0\n",
       "Shipping Service     0\n",
       "Created Date         0\n",
       "Weight               0\n",
       "Item/Bottle Count    0\n",
       "dtype: int64"
      ]
     },
     "execution_count": 12,
     "metadata": {},
     "output_type": "execute_result"
    }
   ],
   "source": [
    "# Determine if there are any missing values in df_2020_02.\n",
    "df_2020_02.isnull().sum()"
   ]
  },
  {
   "cell_type": "code",
   "execution_count": 13,
   "id": "d2ad8510",
   "metadata": {},
   "outputs": [
    {
     "data": {
      "text/plain": [
       "Company Name          object\n",
       "Status                object\n",
       "Ship Date             object\n",
       "City                  object\n",
       "State                 object\n",
       "Zip                   object\n",
       "Shipping Service      object\n",
       "Created Date          object\n",
       "Weight               float64\n",
       "Item/Bottle Count      int64\n",
       "dtype: object"
      ]
     },
     "execution_count": 13,
     "metadata": {},
     "output_type": "execute_result"
    }
   ],
   "source": [
    "# Determine data types for df_2020_02.\n",
    "df_2020_02.dtypes"
   ]
  },
  {
   "cell_type": "code",
   "execution_count": 14,
   "id": "4061fbbf",
   "metadata": {},
   "outputs": [
    {
     "data": {
      "text/plain": [
       "Ecom3      3725\n",
       "Winery1    2585\n",
       "Ecom1      2116\n",
       "Winery3     439\n",
       "Winery2      41\n",
       "Name: Company Name, dtype: int64"
      ]
     },
     "execution_count": 14,
     "metadata": {},
     "output_type": "execute_result"
    }
   ],
   "source": [
    "df_2020_02['Company Name'].value_counts()\n",
    "#ECOM2 did not ship, instead they held orders in 2020.02.\n",
    "#Waiting for information on Winery3."
   ]
  },
  {
   "cell_type": "code",
   "execution_count": 15,
   "id": "aac39571",
   "metadata": {},
   "outputs": [
    {
     "data": {
      "text/plain": [
       "2/14/20    2004\n",
       "2/3/20      732\n",
       "2/24/20     713\n",
       "2/12/20     673\n",
       "2/17/20     585\n",
       "2/21/20     542\n",
       "2/5/20      404\n",
       "2/28/20     358\n",
       "2/26/20     348\n",
       "2/10/20     348\n",
       "2/25/20     250\n",
       "2/7/20      236\n",
       "2/11/20     230\n",
       "2/6/20      223\n",
       "2/27/20     216\n",
       "2/20/20     203\n",
       "2/19/20     201\n",
       "2/18/20     162\n",
       "2/29/20     144\n",
       "2/4/20      124\n",
       "2/13/20     105\n",
       "2/2/20      105\n",
       "Name: Ship Date, dtype: int64"
      ]
     },
     "execution_count": 15,
     "metadata": {},
     "output_type": "execute_result"
    }
   ],
   "source": [
    "df_2020_02['Ship Date'].value_counts()"
   ]
  },
  {
   "cell_type": "code",
   "execution_count": 16,
   "id": "ff45ee9d",
   "metadata": {},
   "outputs": [
    {
     "data": {
      "text/plain": [
       "Delivered            4813\n",
       "Shipped              2105\n",
       "In Transit           1800\n",
       "Carrier Exception     154\n",
       "Delivery Attempt       34\n",
       "Name: Status, dtype: int64"
      ]
     },
     "execution_count": 16,
     "metadata": {},
     "output_type": "execute_result"
    }
   ],
   "source": [
    "df_2020_02['Status'].value_counts()"
   ]
  },
  {
   "cell_type": "code",
   "execution_count": 17,
   "id": "ae707cc4",
   "metadata": {},
   "outputs": [
    {
     "data": {
      "text/plain": [
       "New York          252\n",
       "Chicago           136\n",
       "San Francisco     107\n",
       "Houston           104\n",
       "Dallas             98\n",
       "                 ... \n",
       "Glencoe             1\n",
       "Hockessin           1\n",
       "Peekskill           1\n",
       "Port Charlotte      1\n",
       "Novelty             1\n",
       "Name: City, Length: 2898, dtype: int64"
      ]
     },
     "execution_count": 17,
     "metadata": {},
     "output_type": "execute_result"
    }
   ],
   "source": [
    "df_2020_02['City'].value_counts()"
   ]
  },
  {
   "cell_type": "code",
   "execution_count": 18,
   "id": "a8718b4d",
   "metadata": {},
   "outputs": [
    {
     "data": {
      "text/plain": [
       "CA    1311\n",
       "NY     812\n",
       "TX     683\n",
       "FL     654\n",
       "PA     449\n",
       "IL     403\n",
       "NJ     393\n",
       "VA     316\n",
       "GA     281\n",
       "OH     274\n",
       "CO     257\n",
       "MA     250\n",
       "MI     239\n",
       "NC     227\n",
       "AZ     202\n",
       "WA     184\n",
       "MD     174\n",
       "TN     172\n",
       "IN     131\n",
       "CT     131\n",
       "MO     107\n",
       "OR     105\n",
       "WI     104\n",
       "LA     102\n",
       "MN      92\n",
       "SC      86\n",
       "DC      81\n",
       "NV      80\n",
       "KS      67\n",
       "OK      53\n",
       "HI      53\n",
       "NE      49\n",
       "IA      47\n",
       "AR      40\n",
       "AL      39\n",
       "ID      34\n",
       "RI      33\n",
       "NM      32\n",
       "NH      28\n",
       "MT      22\n",
       "ME      21\n",
       "ND      21\n",
       "SD      15\n",
       "DE      12\n",
       "VT      11\n",
       "WY      10\n",
       "WV      10\n",
       "AK       9\n",
       "Name: State, dtype: int64"
      ]
     },
     "execution_count": 18,
     "metadata": {},
     "output_type": "execute_result"
    }
   ],
   "source": [
    "df_2020_02['State'].value_counts()"
   ]
  },
  {
   "cell_type": "code",
   "execution_count": 19,
   "id": "aba1ce28",
   "metadata": {},
   "outputs": [
    {
     "data": {
      "text/plain": [
       "94103    20\n",
       "10022    19\n",
       "10016    19\n",
       "20001    17\n",
       "10019    16\n",
       "         ..\n",
       "97267     1\n",
       "17821     1\n",
       "55912     1\n",
       "5251      1\n",
       "44072     1\n",
       "Name: Zip, Length: 4447, dtype: int64"
      ]
     },
     "execution_count": 19,
     "metadata": {},
     "output_type": "execute_result"
    }
   ],
   "source": [
    "df_2020_02['Zip'].value_counts()"
   ]
  },
  {
   "cell_type": "code",
   "execution_count": 20,
   "id": "85be0dcc",
   "metadata": {},
   "outputs": [
    {
     "data": {
      "text/plain": [
       "UPS     5778\n",
       "FEH     2084\n",
       "FXG      768\n",
       "GSC       87\n",
       "AZS       81\n",
       "LSO1      34\n",
       "FEX       28\n",
       "WCU       19\n",
       "UP2       17\n",
       "SELF       7\n",
       "UP1        2\n",
       "FXP        1\n",
       "Name: Shipping Service, dtype: int64"
      ]
     },
     "execution_count": 20,
     "metadata": {},
     "output_type": "execute_result"
    }
   ],
   "source": [
    "df_2020_02['Shipping Service'].value_counts()"
   ]
  },
  {
   "cell_type": "code",
   "execution_count": 21,
   "id": "74be41f6",
   "metadata": {},
   "outputs": [
    {
     "data": {
      "text/plain": [
       "2/11/20     2529\n",
       "2/21/20      572\n",
       "2/24/20      456\n",
       "2/17/20      380\n",
       "2/3/20       358\n",
       "2/10/20      317\n",
       "2/2/20       299\n",
       "2/20/20      293\n",
       "2/6/20       271\n",
       "2/19/20      267\n",
       "2/14/20      235\n",
       "2/26/20      229\n",
       "2/27/20      206\n",
       "2/18/20      202\n",
       "2/5/20       200\n",
       "2/4/20       200\n",
       "2/25/20      198\n",
       "2/7/20       180\n",
       "2/1/20       165\n",
       "2/28/20      146\n",
       "2/13/20      146\n",
       "2/22/20      145\n",
       "2/12/20      127\n",
       "2/29/20      121\n",
       "2/23/20      112\n",
       "1/31/20      106\n",
       "2/16/20       97\n",
       "2/8/20        78\n",
       "2/15/20       73\n",
       "2/9/20        60\n",
       "1/27/20       39\n",
       "1/28/20       35\n",
       "1/29/20       30\n",
       "1/30/20       25\n",
       "1/20/20        4\n",
       "1/22/20        2\n",
       "1/5/20         1\n",
       "1/24/20        1\n",
       "10/11/19       1\n",
       "Name: Created Date, dtype: int64"
      ]
     },
     "execution_count": 21,
     "metadata": {},
     "output_type": "execute_result"
    }
   ],
   "source": [
    "df_2020_02['Created Date'].value_counts()\n",
    "#Ok to have dates from other months- Sometimes people will create an order and hold onto it until an adult is present to sign for delivery."
   ]
  },
  {
   "cell_type": "code",
   "execution_count": 22,
   "id": "34adbd2f",
   "metadata": {},
   "outputs": [
    {
     "data": {
      "text/plain": [
       "14.00    2597\n",
       "21.50    2321\n",
       "10.50    1372\n",
       "20.20     508\n",
       "41.00     507\n",
       "39.00     330\n",
       "7.00      308\n",
       "9.90      248\n",
       "27.00     122\n",
       "18.50     107\n",
       "29.00     106\n",
       "3.35       80\n",
       "35.00      57\n",
       "26.00      47\n",
       "32.00      46\n",
       "17.20      27\n",
       "30.00      23\n",
       "4.00       23\n",
       "39.50      18\n",
       "24.00      16\n",
       "38.00      14\n",
       "33.00      12\n",
       "11.00       5\n",
       "20.00       4\n",
       "36.00       2\n",
       "13.50       2\n",
       "44.00       1\n",
       "33.50       1\n",
       "27.50       1\n",
       "20.50       1\n",
       "Name: Weight, dtype: int64"
      ]
     },
     "execution_count": 22,
     "metadata": {},
     "output_type": "execute_result"
    }
   ],
   "source": [
    "df_2020_02['Weight'].value_counts()"
   ]
  },
  {
   "cell_type": "code",
   "execution_count": 23,
   "id": "73bd62e8",
   "metadata": {},
   "outputs": [
    {
     "data": {
      "text/plain": [
       "6     2834\n",
       "4     2597\n",
       "3     1621\n",
       "12     854\n",
       "2      285\n",
       "8      228\n",
       "1      135\n",
       "5      134\n",
       "10      70\n",
       "9       69\n",
       "7       63\n",
       "11      16\n",
       "Name: Item/Bottle Count, dtype: int64"
      ]
     },
     "execution_count": 23,
     "metadata": {},
     "output_type": "execute_result"
    }
   ],
   "source": [
    "df_2020_02['Item/Bottle Count'].value_counts()"
   ]
  },
  {
   "cell_type": "markdown",
   "id": "b28748d1",
   "metadata": {},
   "source": [
    "## Clean the Data"
   ]
  },
  {
   "cell_type": "code",
   "execution_count": 24,
   "id": "ae2074b6",
   "metadata": {},
   "outputs": [
    {
     "data": {
      "text/plain": [
       "Company Name          object\n",
       "Status                object\n",
       "Ship Date             object\n",
       "City                  object\n",
       "State                 object\n",
       "Zip                   object\n",
       "Shipping Service      object\n",
       "Created Date          object\n",
       "Weight               float64\n",
       "Item/Bottle Count    float64\n",
       "dtype: object"
      ]
     },
     "execution_count": 24,
     "metadata": {},
     "output_type": "execute_result"
    }
   ],
   "source": [
    "#Change [\"Item/Bottle Count\"] to float64 type in df_2020_02.\n",
    "df_2020_02[\"Item/Bottle Count\"]=df_2020_02[\"Item/Bottle Count\"].astype(float)\n",
    "df_2020_02.dtypes"
   ]
  },
  {
   "cell_type": "code",
   "execution_count": 25,
   "id": "2de5f1ce",
   "metadata": {},
   "outputs": [
    {
     "data": {
      "text/html": [
       "<div>\n",
       "<style scoped>\n",
       "    .dataframe tbody tr th:only-of-type {\n",
       "        vertical-align: middle;\n",
       "    }\n",
       "\n",
       "    .dataframe tbody tr th {\n",
       "        vertical-align: top;\n",
       "    }\n",
       "\n",
       "    .dataframe thead th {\n",
       "        text-align: right;\n",
       "    }\n",
       "</style>\n",
       "<table border=\"1\" class=\"dataframe\">\n",
       "  <thead>\n",
       "    <tr style=\"text-align: right;\">\n",
       "      <th></th>\n",
       "      <th>Company Name</th>\n",
       "      <th>Ship Date</th>\n",
       "      <th>City</th>\n",
       "      <th>State</th>\n",
       "      <th>Zip</th>\n",
       "      <th>Shipping Service</th>\n",
       "      <th>Created Date</th>\n",
       "      <th>Weight</th>\n",
       "      <th>Item/Bottle Count</th>\n",
       "    </tr>\n",
       "  </thead>\n",
       "  <tbody>\n",
       "    <tr>\n",
       "      <th>0</th>\n",
       "      <td>Ecom3</td>\n",
       "      <td>2/5/20</td>\n",
       "      <td>Iowa City</td>\n",
       "      <td>IA</td>\n",
       "      <td>52242</td>\n",
       "      <td>FXG</td>\n",
       "      <td>2/5/20</td>\n",
       "      <td>21.5</td>\n",
       "      <td>6.0</td>\n",
       "    </tr>\n",
       "    <tr>\n",
       "      <th>1</th>\n",
       "      <td>Ecom3</td>\n",
       "      <td>2/6/20</td>\n",
       "      <td>MARLBORO</td>\n",
       "      <td>NJ</td>\n",
       "      <td>7746</td>\n",
       "      <td>UPS</td>\n",
       "      <td>2/6/20</td>\n",
       "      <td>41.0</td>\n",
       "      <td>12.0</td>\n",
       "    </tr>\n",
       "    <tr>\n",
       "      <th>2</th>\n",
       "      <td>Ecom3</td>\n",
       "      <td>2/6/20</td>\n",
       "      <td>MARLBORO</td>\n",
       "      <td>NJ</td>\n",
       "      <td>7746</td>\n",
       "      <td>UPS</td>\n",
       "      <td>2/6/20</td>\n",
       "      <td>21.5</td>\n",
       "      <td>6.0</td>\n",
       "    </tr>\n",
       "    <tr>\n",
       "      <th>3</th>\n",
       "      <td>Ecom3</td>\n",
       "      <td>2/4/20</td>\n",
       "      <td>Sacramento</td>\n",
       "      <td>CA</td>\n",
       "      <td>95818</td>\n",
       "      <td>UPS</td>\n",
       "      <td>2/4/20</td>\n",
       "      <td>14.0</td>\n",
       "      <td>4.0</td>\n",
       "    </tr>\n",
       "    <tr>\n",
       "      <th>4</th>\n",
       "      <td>Ecom3</td>\n",
       "      <td>2/5/20</td>\n",
       "      <td>Williamsburg</td>\n",
       "      <td>VA</td>\n",
       "      <td>23185</td>\n",
       "      <td>UPS</td>\n",
       "      <td>2/5/20</td>\n",
       "      <td>21.5</td>\n",
       "      <td>6.0</td>\n",
       "    </tr>\n",
       "    <tr>\n",
       "      <th>...</th>\n",
       "      <td>...</td>\n",
       "      <td>...</td>\n",
       "      <td>...</td>\n",
       "      <td>...</td>\n",
       "      <td>...</td>\n",
       "      <td>...</td>\n",
       "      <td>...</td>\n",
       "      <td>...</td>\n",
       "      <td>...</td>\n",
       "    </tr>\n",
       "    <tr>\n",
       "      <th>8901</th>\n",
       "      <td>Winery3</td>\n",
       "      <td>2/28/20</td>\n",
       "      <td>Novelty</td>\n",
       "      <td>OH</td>\n",
       "      <td>44072</td>\n",
       "      <td>UPS</td>\n",
       "      <td>2/28/20</td>\n",
       "      <td>14.0</td>\n",
       "      <td>4.0</td>\n",
       "    </tr>\n",
       "    <tr>\n",
       "      <th>8902</th>\n",
       "      <td>Winery3</td>\n",
       "      <td>2/28/20</td>\n",
       "      <td>Niles</td>\n",
       "      <td>OH</td>\n",
       "      <td>44446</td>\n",
       "      <td>UPS</td>\n",
       "      <td>2/28/20</td>\n",
       "      <td>14.0</td>\n",
       "      <td>4.0</td>\n",
       "    </tr>\n",
       "    <tr>\n",
       "      <th>8903</th>\n",
       "      <td>Winery3</td>\n",
       "      <td>2/28/20</td>\n",
       "      <td>Cornelius</td>\n",
       "      <td>NC</td>\n",
       "      <td>28031</td>\n",
       "      <td>UPS</td>\n",
       "      <td>2/28/20</td>\n",
       "      <td>14.0</td>\n",
       "      <td>4.0</td>\n",
       "    </tr>\n",
       "    <tr>\n",
       "      <th>8904</th>\n",
       "      <td>Winery3</td>\n",
       "      <td>2/28/20</td>\n",
       "      <td>Napa</td>\n",
       "      <td>CA</td>\n",
       "      <td>94558</td>\n",
       "      <td>WCU</td>\n",
       "      <td>2/28/20</td>\n",
       "      <td>14.0</td>\n",
       "      <td>4.0</td>\n",
       "    </tr>\n",
       "    <tr>\n",
       "      <th>8905</th>\n",
       "      <td>Winery3</td>\n",
       "      <td>2/28/20</td>\n",
       "      <td>Napa</td>\n",
       "      <td>CA</td>\n",
       "      <td>94558</td>\n",
       "      <td>WCU</td>\n",
       "      <td>2/28/20</td>\n",
       "      <td>14.0</td>\n",
       "      <td>4.0</td>\n",
       "    </tr>\n",
       "  </tbody>\n",
       "</table>\n",
       "<p>8906 rows × 9 columns</p>\n",
       "</div>"
      ],
      "text/plain": [
       "     Company Name Ship Date          City State    Zip Shipping Service  \\\n",
       "0           Ecom3    2/5/20     Iowa City    IA  52242              FXG   \n",
       "1           Ecom3    2/6/20      MARLBORO    NJ   7746              UPS   \n",
       "2           Ecom3    2/6/20      MARLBORO    NJ   7746              UPS   \n",
       "3           Ecom3    2/4/20    Sacramento    CA  95818              UPS   \n",
       "4           Ecom3    2/5/20  Williamsburg    VA  23185              UPS   \n",
       "...           ...       ...           ...   ...    ...              ...   \n",
       "8901      Winery3   2/28/20       Novelty    OH  44072              UPS   \n",
       "8902      Winery3   2/28/20         Niles    OH  44446              UPS   \n",
       "8903      Winery3   2/28/20     Cornelius    NC  28031              UPS   \n",
       "8904      Winery3   2/28/20          Napa    CA  94558              WCU   \n",
       "8905      Winery3   2/28/20          Napa    CA  94558              WCU   \n",
       "\n",
       "     Created Date  Weight  Item/Bottle Count  \n",
       "0          2/5/20    21.5                6.0  \n",
       "1          2/6/20    41.0               12.0  \n",
       "2          2/6/20    21.5                6.0  \n",
       "3          2/4/20    14.0                4.0  \n",
       "4          2/5/20    21.5                6.0  \n",
       "...           ...     ...                ...  \n",
       "8901      2/28/20    14.0                4.0  \n",
       "8902      2/28/20    14.0                4.0  \n",
       "8903      2/28/20    14.0                4.0  \n",
       "8904      2/28/20    14.0                4.0  \n",
       "8905      2/28/20    14.0                4.0  \n",
       "\n",
       "[8906 rows x 9 columns]"
      ]
     },
     "execution_count": 25,
     "metadata": {},
     "output_type": "execute_result"
    }
   ],
   "source": [
    "#Remove \"Status\" column from df_2020_02.\n",
    "df_2020_02 = df_2020_02.drop('Status', axis=1)\n",
    "df_2020_02"
   ]
  },
  {
   "cell_type": "code",
   "execution_count": 26,
   "id": "0374b7d7",
   "metadata": {},
   "outputs": [],
   "source": [
    "# Drop the NaNs for df_2020_02.\n",
    "df_2020_02 = df_2020_02.dropna()"
   ]
  },
  {
   "cell_type": "markdown",
   "id": "b54ac18d",
   "metadata": {},
   "source": [
    "## Confirm Changes"
   ]
  },
  {
   "cell_type": "code",
   "execution_count": 27,
   "id": "717b65ec",
   "metadata": {},
   "outputs": [
    {
     "data": {
      "text/html": [
       "<div>\n",
       "<style scoped>\n",
       "    .dataframe tbody tr th:only-of-type {\n",
       "        vertical-align: middle;\n",
       "    }\n",
       "\n",
       "    .dataframe tbody tr th {\n",
       "        vertical-align: top;\n",
       "    }\n",
       "\n",
       "    .dataframe thead th {\n",
       "        text-align: right;\n",
       "    }\n",
       "</style>\n",
       "<table border=\"1\" class=\"dataframe\">\n",
       "  <thead>\n",
       "    <tr style=\"text-align: right;\">\n",
       "      <th></th>\n",
       "      <th>Company Name</th>\n",
       "      <th>Ship Date</th>\n",
       "      <th>City</th>\n",
       "      <th>State</th>\n",
       "      <th>Zip</th>\n",
       "      <th>Shipping Service</th>\n",
       "      <th>Created Date</th>\n",
       "      <th>Weight</th>\n",
       "      <th>Item/Bottle Count</th>\n",
       "    </tr>\n",
       "  </thead>\n",
       "  <tbody>\n",
       "    <tr>\n",
       "      <th>7348</th>\n",
       "      <td>Ecom3</td>\n",
       "      <td>2/29/20</td>\n",
       "      <td>Greensboro</td>\n",
       "      <td>NC</td>\n",
       "      <td>27408</td>\n",
       "      <td>UPS</td>\n",
       "      <td>2/29/20</td>\n",
       "      <td>21.5</td>\n",
       "      <td>6.0</td>\n",
       "    </tr>\n",
       "    <tr>\n",
       "      <th>7771</th>\n",
       "      <td>Ecom3</td>\n",
       "      <td>2/24/20</td>\n",
       "      <td>San Francisco</td>\n",
       "      <td>CA</td>\n",
       "      <td>94158</td>\n",
       "      <td>UPS</td>\n",
       "      <td>2/24/20</td>\n",
       "      <td>7.0</td>\n",
       "      <td>2.0</td>\n",
       "    </tr>\n",
       "    <tr>\n",
       "      <th>1688</th>\n",
       "      <td>Ecom1</td>\n",
       "      <td>2/3/20</td>\n",
       "      <td>Mountain View</td>\n",
       "      <td>CA</td>\n",
       "      <td>94043</td>\n",
       "      <td>FXG</td>\n",
       "      <td>2/3/20</td>\n",
       "      <td>10.5</td>\n",
       "      <td>3.0</td>\n",
       "    </tr>\n",
       "    <tr>\n",
       "      <th>5625</th>\n",
       "      <td>Ecom3</td>\n",
       "      <td>2/17/20</td>\n",
       "      <td>Dobbs Ferry</td>\n",
       "      <td>NY</td>\n",
       "      <td>10522</td>\n",
       "      <td>FEH</td>\n",
       "      <td>2/15/20</td>\n",
       "      <td>7.0</td>\n",
       "      <td>2.0</td>\n",
       "    </tr>\n",
       "    <tr>\n",
       "      <th>922</th>\n",
       "      <td>Ecom3</td>\n",
       "      <td>2/5/20</td>\n",
       "      <td>Ridgewood</td>\n",
       "      <td>NJ</td>\n",
       "      <td>7450</td>\n",
       "      <td>UPS</td>\n",
       "      <td>2/2/20</td>\n",
       "      <td>21.5</td>\n",
       "      <td>6.0</td>\n",
       "    </tr>\n",
       "  </tbody>\n",
       "</table>\n",
       "</div>"
      ],
      "text/plain": [
       "     Company Name Ship Date           City State    Zip Shipping Service  \\\n",
       "7348        Ecom3   2/29/20     Greensboro    NC  27408              UPS   \n",
       "7771        Ecom3   2/24/20  San Francisco    CA  94158              UPS   \n",
       "1688        Ecom1    2/3/20  Mountain View    CA  94043              FXG   \n",
       "5625        Ecom3   2/17/20    Dobbs Ferry    NY  10522              FEH   \n",
       "922         Ecom3    2/5/20      Ridgewood    NJ   7450              UPS   \n",
       "\n",
       "     Created Date  Weight  Item/Bottle Count  \n",
       "7348      2/29/20    21.5                6.0  \n",
       "7771      2/24/20     7.0                2.0  \n",
       "1688       2/3/20    10.5                3.0  \n",
       "5625      2/15/20     7.0                2.0  \n",
       "922        2/2/20    21.5                6.0  "
      ]
     },
     "execution_count": 27,
     "metadata": {},
     "output_type": "execute_result"
    }
   ],
   "source": [
    "#See five random rows of data\n",
    "df_2020_02.sample(n=5)"
   ]
  },
  {
   "cell_type": "code",
   "execution_count": 28,
   "id": "2f59ad5f",
   "metadata": {},
   "outputs": [
    {
     "name": "stdout",
     "output_type": "stream",
     "text": [
      "Number of Rows:  8906\n",
      "Number of Columns:  9\n"
     ]
    }
   ],
   "source": [
    "#Determine total rows for df_2020_02.\n",
    "df_2020_02_rows = len(df_2020_02.axes[0])\n",
    "df_2020_02_cols = len(df_2020_02.axes[1])\n",
    "print(\"Number of Rows: \", df_2020_02_rows)\n",
    "print(\"Number of Columns: \", df_2020_02_cols)"
   ]
  },
  {
   "cell_type": "markdown",
   "id": "625b4837",
   "metadata": {},
   "source": [
    "## Export Cleaned DF to .CSV"
   ]
  },
  {
   "cell_type": "code",
   "execution_count": 29,
   "id": "f5a7980c",
   "metadata": {},
   "outputs": [],
   "source": [
    "#Export df_2020_02 to .csv\n",
    "df_2020_02.to_csv('../cleaned_months_2020/Clean_2020_02.csv') "
   ]
  },
  {
   "cell_type": "code",
   "execution_count": null,
   "id": "aafdefb9",
   "metadata": {},
   "outputs": [],
   "source": []
  }
 ],
 "metadata": {
  "kernelspec": {
   "display_name": "Python 3 (ipykernel)",
   "language": "python",
   "name": "python3"
  },
  "language_info": {
   "codemirror_mode": {
    "name": "ipython",
    "version": 3
   },
   "file_extension": ".py",
   "mimetype": "text/x-python",
   "name": "python",
   "nbconvert_exporter": "python",
   "pygments_lexer": "ipython3",
   "version": "3.7.13"
  }
 },
 "nbformat": 4,
 "nbformat_minor": 5
}
