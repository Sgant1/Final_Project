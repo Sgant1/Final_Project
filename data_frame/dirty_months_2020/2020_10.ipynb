{
 "cells": [
  {
   "cell_type": "code",
   "execution_count": 1,
   "id": "1f30ec89",
   "metadata": {},
   "outputs": [],
   "source": [
    "#Pandas library to create DataFrames\n",
    "import pandas as pd\n",
    "#NumPy library for converting data types\n",
    "import numpy as np"
   ]
  },
  {
   "cell_type": "code",
   "execution_count": 2,
   "id": "7d4569c3",
   "metadata": {},
   "outputs": [],
   "source": [
    "# Files to load\n",
    "load_2020_10 = \"../../2020_Data/2020.10.csv\""
   ]
  },
  {
   "cell_type": "code",
   "execution_count": 3,
   "id": "5bf26e77",
   "metadata": {},
   "outputs": [
    {
     "data": {
      "text/html": [
       "<div>\n",
       "<style scoped>\n",
       "    .dataframe tbody tr th:only-of-type {\n",
       "        vertical-align: middle;\n",
       "    }\n",
       "\n",
       "    .dataframe tbody tr th {\n",
       "        vertical-align: top;\n",
       "    }\n",
       "\n",
       "    .dataframe thead th {\n",
       "        text-align: right;\n",
       "    }\n",
       "</style>\n",
       "<table border=\"1\" class=\"dataframe\">\n",
       "  <thead>\n",
       "    <tr style=\"text-align: right;\">\n",
       "      <th></th>\n",
       "      <th>Company Name</th>\n",
       "      <th>Status</th>\n",
       "      <th>Ship Date</th>\n",
       "      <th>City</th>\n",
       "      <th>State</th>\n",
       "      <th>Zip</th>\n",
       "      <th>Shipping Service</th>\n",
       "      <th>Created Date</th>\n",
       "      <th>Weight</th>\n",
       "      <th>Item/Bottle Count</th>\n",
       "    </tr>\n",
       "  </thead>\n",
       "  <tbody>\n",
       "    <tr>\n",
       "      <th>0</th>\n",
       "      <td>Ecom1</td>\n",
       "      <td>In Transit</td>\n",
       "      <td>10/2/2020</td>\n",
       "      <td>Albuquerque</td>\n",
       "      <td>NM</td>\n",
       "      <td>87111</td>\n",
       "      <td>FEH</td>\n",
       "      <td>9/25/2020</td>\n",
       "      <td>10.5</td>\n",
       "      <td>3</td>\n",
       "    </tr>\n",
       "    <tr>\n",
       "      <th>1</th>\n",
       "      <td>Ecom1</td>\n",
       "      <td>Delivered</td>\n",
       "      <td>10/2/2020</td>\n",
       "      <td>San Francisco</td>\n",
       "      <td>CA</td>\n",
       "      <td>94123</td>\n",
       "      <td>FEH</td>\n",
       "      <td>9/25/2020</td>\n",
       "      <td>10.5</td>\n",
       "      <td>3</td>\n",
       "    </tr>\n",
       "    <tr>\n",
       "      <th>2</th>\n",
       "      <td>Ecom1</td>\n",
       "      <td>Delivered</td>\n",
       "      <td>10/2/2020</td>\n",
       "      <td>Carlsbad</td>\n",
       "      <td>CA</td>\n",
       "      <td>92011</td>\n",
       "      <td>FEH</td>\n",
       "      <td>9/24/2020</td>\n",
       "      <td>10.5</td>\n",
       "      <td>3</td>\n",
       "    </tr>\n",
       "    <tr>\n",
       "      <th>3</th>\n",
       "      <td>Ecom1</td>\n",
       "      <td>Delivered</td>\n",
       "      <td>10/2/2020</td>\n",
       "      <td>Roseville</td>\n",
       "      <td>CA</td>\n",
       "      <td>95747</td>\n",
       "      <td>FEH</td>\n",
       "      <td>9/24/2020</td>\n",
       "      <td>10.5</td>\n",
       "      <td>3</td>\n",
       "    </tr>\n",
       "    <tr>\n",
       "      <th>4</th>\n",
       "      <td>Ecom1</td>\n",
       "      <td>In Transit</td>\n",
       "      <td>10/2/2020</td>\n",
       "      <td>Como</td>\n",
       "      <td>CO</td>\n",
       "      <td>80432</td>\n",
       "      <td>FEH</td>\n",
       "      <td>9/28/2020</td>\n",
       "      <td>18.2</td>\n",
       "      <td>8</td>\n",
       "    </tr>\n",
       "  </tbody>\n",
       "</table>\n",
       "</div>"
      ],
      "text/plain": [
       "  Company Name      Status  Ship Date           City State    Zip  \\\n",
       "0        Ecom1  In Transit  10/2/2020    Albuquerque    NM  87111   \n",
       "1        Ecom1   Delivered  10/2/2020  San Francisco    CA  94123   \n",
       "2        Ecom1   Delivered  10/2/2020       Carlsbad    CA  92011   \n",
       "3        Ecom1   Delivered  10/2/2020      Roseville    CA  95747   \n",
       "4        Ecom1  In Transit  10/2/2020           Como    CO  80432   \n",
       "\n",
       "  Shipping Service Created Date  Weight  Item/Bottle Count  \n",
       "0              FEH    9/25/2020    10.5                  3  \n",
       "1              FEH    9/25/2020    10.5                  3  \n",
       "2              FEH    9/24/2020    10.5                  3  \n",
       "3              FEH    9/24/2020    10.5                  3  \n",
       "4              FEH    9/28/2020    18.2                  8  "
      ]
     },
     "execution_count": 3,
     "metadata": {},
     "output_type": "execute_result"
    }
   ],
   "source": [
    "# Read the October CSV into a DataFrame\n",
    "#Had to open each file in excel and save it as a .csv file instead of an .xlsm file in order for the encryption to be read properly.\n",
    "df_2020_10 = pd.read_csv(load_2020_10)\n",
    "df_2020_10.head()"
   ]
  },
  {
   "cell_type": "markdown",
   "id": "175df6a6",
   "metadata": {},
   "source": [
    "## Inspect the Data"
   ]
  },
  {
   "cell_type": "code",
   "execution_count": 4,
   "id": "2cdb2387",
   "metadata": {},
   "outputs": [
    {
     "data": {
      "text/html": [
       "<div>\n",
       "<style scoped>\n",
       "    .dataframe tbody tr th:only-of-type {\n",
       "        vertical-align: middle;\n",
       "    }\n",
       "\n",
       "    .dataframe tbody tr th {\n",
       "        vertical-align: top;\n",
       "    }\n",
       "\n",
       "    .dataframe thead th {\n",
       "        text-align: right;\n",
       "    }\n",
       "</style>\n",
       "<table border=\"1\" class=\"dataframe\">\n",
       "  <thead>\n",
       "    <tr style=\"text-align: right;\">\n",
       "      <th></th>\n",
       "      <th>Company Name</th>\n",
       "      <th>Status</th>\n",
       "      <th>Ship Date</th>\n",
       "      <th>City</th>\n",
       "      <th>State</th>\n",
       "      <th>Zip</th>\n",
       "      <th>Shipping Service</th>\n",
       "      <th>Created Date</th>\n",
       "      <th>Weight</th>\n",
       "      <th>Item/Bottle Count</th>\n",
       "    </tr>\n",
       "  </thead>\n",
       "  <tbody>\n",
       "    <tr>\n",
       "      <th>1014</th>\n",
       "      <td>Ecom1</td>\n",
       "      <td>Delivered</td>\n",
       "      <td>10/5/2020</td>\n",
       "      <td>Lindsborg</td>\n",
       "      <td>KS</td>\n",
       "      <td>67456</td>\n",
       "      <td>FEH</td>\n",
       "      <td>10/4/2020</td>\n",
       "      <td>10.5</td>\n",
       "      <td>3</td>\n",
       "    </tr>\n",
       "    <tr>\n",
       "      <th>17161</th>\n",
       "      <td>Winery2</td>\n",
       "      <td>Shipped</td>\n",
       "      <td>10/31/2020</td>\n",
       "      <td>Houston</td>\n",
       "      <td>TX</td>\n",
       "      <td>77007</td>\n",
       "      <td>UPS</td>\n",
       "      <td>10/26/2020</td>\n",
       "      <td>20.2</td>\n",
       "      <td>6</td>\n",
       "    </tr>\n",
       "    <tr>\n",
       "      <th>15921</th>\n",
       "      <td>Ecom3</td>\n",
       "      <td>Delivered</td>\n",
       "      <td>10/20/2020</td>\n",
       "      <td>Pooler</td>\n",
       "      <td>GA</td>\n",
       "      <td>31322</td>\n",
       "      <td>UPS</td>\n",
       "      <td>10/19/2020</td>\n",
       "      <td>21.5</td>\n",
       "      <td>6</td>\n",
       "    </tr>\n",
       "    <tr>\n",
       "      <th>14665</th>\n",
       "      <td>Ecom3</td>\n",
       "      <td>Delivered</td>\n",
       "      <td>10/20/2020</td>\n",
       "      <td>Frisco</td>\n",
       "      <td>TX</td>\n",
       "      <td>75036</td>\n",
       "      <td>UPS</td>\n",
       "      <td>10/19/2020</td>\n",
       "      <td>21.5</td>\n",
       "      <td>6</td>\n",
       "    </tr>\n",
       "    <tr>\n",
       "      <th>4463</th>\n",
       "      <td>Ecom3</td>\n",
       "      <td>Delivered</td>\n",
       "      <td>10/12/2020</td>\n",
       "      <td>Kokomo</td>\n",
       "      <td>IN</td>\n",
       "      <td>46902</td>\n",
       "      <td>UPS</td>\n",
       "      <td>10/10/2020</td>\n",
       "      <td>21.5</td>\n",
       "      <td>6</td>\n",
       "    </tr>\n",
       "  </tbody>\n",
       "</table>\n",
       "</div>"
      ],
      "text/plain": [
       "      Company Name     Status   Ship Date       City State    Zip  \\\n",
       "1014         Ecom1  Delivered   10/5/2020  Lindsborg    KS  67456   \n",
       "17161      Winery2    Shipped  10/31/2020    Houston    TX  77007   \n",
       "15921        Ecom3  Delivered  10/20/2020     Pooler    GA  31322   \n",
       "14665        Ecom3  Delivered  10/20/2020     Frisco    TX  75036   \n",
       "4463         Ecom3  Delivered  10/12/2020     Kokomo    IN  46902   \n",
       "\n",
       "      Shipping Service Created Date  Weight  Item/Bottle Count  \n",
       "1014               FEH    10/4/2020    10.5                  3  \n",
       "17161              UPS   10/26/2020    20.2                  6  \n",
       "15921              UPS   10/19/2020    21.5                  6  \n",
       "14665              UPS   10/19/2020    21.5                  6  \n",
       "4463               UPS   10/10/2020    21.5                  6  "
      ]
     },
     "execution_count": 4,
     "metadata": {},
     "output_type": "execute_result"
    }
   ],
   "source": [
    "#See five random rows of data\n",
    "df_2020_10.sample(n=5)"
   ]
  },
  {
   "cell_type": "code",
   "execution_count": 5,
   "id": "a7bdb733",
   "metadata": {},
   "outputs": [
    {
     "data": {
      "text/html": [
       "<div>\n",
       "<style scoped>\n",
       "    .dataframe tbody tr th:only-of-type {\n",
       "        vertical-align: middle;\n",
       "    }\n",
       "\n",
       "    .dataframe tbody tr th {\n",
       "        vertical-align: top;\n",
       "    }\n",
       "\n",
       "    .dataframe thead th {\n",
       "        text-align: right;\n",
       "    }\n",
       "</style>\n",
       "<table border=\"1\" class=\"dataframe\">\n",
       "  <thead>\n",
       "    <tr style=\"text-align: right;\">\n",
       "      <th></th>\n",
       "      <th>Company Name</th>\n",
       "      <th>Status</th>\n",
       "      <th>Ship Date</th>\n",
       "      <th>City</th>\n",
       "      <th>State</th>\n",
       "      <th>Zip</th>\n",
       "      <th>Shipping Service</th>\n",
       "      <th>Created Date</th>\n",
       "      <th>Weight</th>\n",
       "      <th>Item/Bottle Count</th>\n",
       "    </tr>\n",
       "  </thead>\n",
       "  <tbody>\n",
       "    <tr>\n",
       "      <th>20397</th>\n",
       "      <td>Winery3</td>\n",
       "      <td>Shipped</td>\n",
       "      <td>10/30/2020</td>\n",
       "      <td>Novi</td>\n",
       "      <td>MI</td>\n",
       "      <td>48377</td>\n",
       "      <td>UPS</td>\n",
       "      <td>10/30/2020</td>\n",
       "      <td>10.5</td>\n",
       "      <td>3</td>\n",
       "    </tr>\n",
       "    <tr>\n",
       "      <th>20398</th>\n",
       "      <td>Winery3</td>\n",
       "      <td>Shipped</td>\n",
       "      <td>10/27/2020</td>\n",
       "      <td>San Jose</td>\n",
       "      <td>CA</td>\n",
       "      <td>95120</td>\n",
       "      <td>GSC</td>\n",
       "      <td>10/27/2020</td>\n",
       "      <td>10.5</td>\n",
       "      <td>3</td>\n",
       "    </tr>\n",
       "    <tr>\n",
       "      <th>20399</th>\n",
       "      <td>Winery3</td>\n",
       "      <td>Shipped</td>\n",
       "      <td>10/30/2020</td>\n",
       "      <td>Dublin</td>\n",
       "      <td>OH</td>\n",
       "      <td>43017</td>\n",
       "      <td>UPS</td>\n",
       "      <td>10/30/2020</td>\n",
       "      <td>10.5</td>\n",
       "      <td>3</td>\n",
       "    </tr>\n",
       "    <tr>\n",
       "      <th>20400</th>\n",
       "      <td>Winery3</td>\n",
       "      <td>Shipped</td>\n",
       "      <td>10/30/2020</td>\n",
       "      <td>Charlotte</td>\n",
       "      <td>NC</td>\n",
       "      <td>28210</td>\n",
       "      <td>UPS</td>\n",
       "      <td>10/30/2020</td>\n",
       "      <td>10.5</td>\n",
       "      <td>3</td>\n",
       "    </tr>\n",
       "    <tr>\n",
       "      <th>20401</th>\n",
       "      <td>Winery3</td>\n",
       "      <td>Shipped</td>\n",
       "      <td>10/27/2020</td>\n",
       "      <td>Palo Alto</td>\n",
       "      <td>CA</td>\n",
       "      <td>94303</td>\n",
       "      <td>GSC</td>\n",
       "      <td>10/27/2020</td>\n",
       "      <td>20.2</td>\n",
       "      <td>6</td>\n",
       "    </tr>\n",
       "  </tbody>\n",
       "</table>\n",
       "</div>"
      ],
      "text/plain": [
       "      Company Name   Status   Ship Date       City State    Zip  \\\n",
       "20397      Winery3  Shipped  10/30/2020       Novi    MI  48377   \n",
       "20398      Winery3  Shipped  10/27/2020   San Jose    CA  95120   \n",
       "20399      Winery3  Shipped  10/30/2020     Dublin    OH  43017   \n",
       "20400      Winery3  Shipped  10/30/2020  Charlotte    NC  28210   \n",
       "20401      Winery3  Shipped  10/27/2020  Palo Alto    CA  94303   \n",
       "\n",
       "      Shipping Service Created Date  Weight  Item/Bottle Count  \n",
       "20397              UPS   10/30/2020    10.5                  3  \n",
       "20398              GSC   10/27/2020    10.5                  3  \n",
       "20399              UPS   10/30/2020    10.5                  3  \n",
       "20400              UPS   10/30/2020    10.5                  3  \n",
       "20401              GSC   10/27/2020    20.2                  6  "
      ]
     },
     "execution_count": 5,
     "metadata": {},
     "output_type": "execute_result"
    }
   ],
   "source": [
    "#See the last rows of data\n",
    "df_2020_10.tail(5)"
   ]
  },
  {
   "cell_type": "code",
   "execution_count": 6,
   "id": "a820ba41",
   "metadata": {},
   "outputs": [
    {
     "data": {
      "text/plain": [
       "Index(['Company Name', 'Status', 'Ship Date', 'City', 'State', 'Zip',\n",
       "       'Shipping Service', 'Created Date', 'Weight', 'Item/Bottle Count'],\n",
       "      dtype='object')"
      ]
     },
     "execution_count": 6,
     "metadata": {},
     "output_type": "execute_result"
    }
   ],
   "source": [
    "df_2020_10.columns"
   ]
  },
  {
   "cell_type": "code",
   "execution_count": 7,
   "id": "7410d9e5",
   "metadata": {},
   "outputs": [
    {
     "name": "stdout",
     "output_type": "stream",
     "text": [
      "Number of Rows:  20402\n",
      "Number of Columns:  10\n"
     ]
    }
   ],
   "source": [
    "#Determine total rows for df_2020_10.\n",
    "df_2020_10_rows = len(df_2020_10.axes[0])\n",
    "df_2020_10_cols = len(df_2020_10.axes[1])\n",
    "print(\"Number of Rows: \", df_2020_10_rows)\n",
    "print(\"Number of Columns: \", df_2020_10_cols)"
   ]
  },
  {
   "cell_type": "code",
   "execution_count": 8,
   "id": "4caf57c3",
   "metadata": {},
   "outputs": [
    {
     "data": {
      "text/plain": [
       "Company Name         0\n",
       "Status               0\n",
       "Ship Date            0\n",
       "City                 0\n",
       "State                0\n",
       "Zip                  0\n",
       "Shipping Service     0\n",
       "Created Date         0\n",
       "Weight               0\n",
       "Item/Bottle Count    0\n",
       "dtype: int64"
      ]
     },
     "execution_count": 8,
     "metadata": {},
     "output_type": "execute_result"
    }
   ],
   "source": [
    "# Determine if there are any missing values in df_2020_10.\n",
    "df_2020_10.isnull().sum()"
   ]
  },
  {
   "cell_type": "code",
   "execution_count": 9,
   "id": "d2ad8510",
   "metadata": {},
   "outputs": [
    {
     "data": {
      "text/plain": [
       "Company Name          object\n",
       "Status                object\n",
       "Ship Date             object\n",
       "City                  object\n",
       "State                 object\n",
       "Zip                   object\n",
       "Shipping Service      object\n",
       "Created Date          object\n",
       "Weight               float64\n",
       "Item/Bottle Count      int64\n",
       "dtype: object"
      ]
     },
     "execution_count": 9,
     "metadata": {},
     "output_type": "execute_result"
    }
   ],
   "source": [
    "# Determine data types for df_2020_10.\n",
    "df_2020_10.dtypes"
   ]
  },
  {
   "cell_type": "code",
   "execution_count": 10,
   "id": "4061fbbf",
   "metadata": {},
   "outputs": [
    {
     "data": {
      "text/plain": [
       "Ecom3      10233\n",
       "Ecom2       5542\n",
       "Ecom1       2997\n",
       "Winery1      613\n",
       "Winery2      549\n",
       "Winery3      468\n",
       "Name: Company Name, dtype: int64"
      ]
     },
     "execution_count": 10,
     "metadata": {},
     "output_type": "execute_result"
    }
   ],
   "source": [
    "df_2020_10['Company Name'].value_counts()"
   ]
  },
  {
   "cell_type": "code",
   "execution_count": 11,
   "id": "aac39571",
   "metadata": {},
   "outputs": [
    {
     "data": {
      "text/plain": [
       "10/22/2020    3073\n",
       "10/23/2020    2157\n",
       "10/21/2020    2152\n",
       "10/12/2020    1400\n",
       "10/26/2020    1137\n",
       "10/20/2020    1122\n",
       "10/19/2020    1095\n",
       "10/5/2020     1037\n",
       "10/2/2020      771\n",
       "10/13/2020     738\n",
       "10/14/2020     617\n",
       "10/31/2020     563\n",
       "10/16/2020     545\n",
       "10/6/2020      541\n",
       "10/7/2020      525\n",
       "10/27/2020     442\n",
       "10/30/2020     393\n",
       "10/29/2020     375\n",
       "10/9/2020      342\n",
       "10/8/2020      332\n",
       "10/28/2020     325\n",
       "10/1/2020      273\n",
       "10/15/2020     249\n",
       "10/3/2020      197\n",
       "10/4/2020        1\n",
       "Name: Ship Date, dtype: int64"
      ]
     },
     "execution_count": 11,
     "metadata": {},
     "output_type": "execute_result"
    }
   ],
   "source": [
    "df_2020_10['Ship Date'].value_counts()"
   ]
  },
  {
   "cell_type": "code",
   "execution_count": 12,
   "id": "ff45ee9d",
   "metadata": {},
   "outputs": [
    {
     "data": {
      "text/plain": [
       "Delivered            11866\n",
       "In Transit            6708\n",
       "Shipped               1482\n",
       "Carrier Exception      186\n",
       "Delivery Attempt       160\n",
       "Name: Status, dtype: int64"
      ]
     },
     "execution_count": 12,
     "metadata": {},
     "output_type": "execute_result"
    }
   ],
   "source": [
    "df_2020_10['Status'].value_counts()"
   ]
  },
  {
   "cell_type": "code",
   "execution_count": 13,
   "id": "ae707cc4",
   "metadata": {},
   "outputs": [
    {
     "data": {
      "text/plain": [
       "New York          377\n",
       "Chicago           264\n",
       "Brooklyn          168\n",
       "Austin            163\n",
       "Atlanta           159\n",
       "                 ... \n",
       "Coeur D' Alene      1\n",
       "Eastlake            1\n",
       "Mc Dermott          1\n",
       "Newville            1\n",
       "Locust Valley       1\n",
       "Name: City, Length: 4913, dtype: int64"
      ]
     },
     "execution_count": 13,
     "metadata": {},
     "output_type": "execute_result"
    }
   ],
   "source": [
    "df_2020_10['City'].value_counts()"
   ]
  },
  {
   "cell_type": "code",
   "execution_count": 14,
   "id": "a8718b4d",
   "metadata": {},
   "outputs": [
    {
     "data": {
      "text/plain": [
       "NY    2015\n",
       "CA    1851\n",
       "FL    1599\n",
       "PA    1387\n",
       "TX    1377\n",
       "NJ    1092\n",
       "IL     917\n",
       "MA     766\n",
       "VA     750\n",
       "OH     686\n",
       "MI     664\n",
       "GA     616\n",
       "NC     553\n",
       "MD     543\n",
       "CO     504\n",
       "CT     430\n",
       "TN     339\n",
       "WA     338\n",
       "IN     332\n",
       "AZ     315\n",
       "MN     285\n",
       "WI     275\n",
       "SC     269\n",
       "MO     233\n",
       "LA     199\n",
       "OR     188\n",
       "DC     160\n",
       "HI     159\n",
       "KS     154\n",
       "RI     142\n",
       "NV     140\n",
       "OK     122\n",
       "NE     110\n",
       "NH     104\n",
       "IA     102\n",
       "ME      94\n",
       "AR      85\n",
       "NM      80\n",
       "WV      75\n",
       "ID      68\n",
       "VT      54\n",
       "MT      40\n",
       "DE      38\n",
       "WY      33\n",
       "ND      32\n",
       "SD      30\n",
       "AL      29\n",
       "AK      28\n",
       "Name: State, dtype: int64"
      ]
     },
     "execution_count": 14,
     "metadata": {},
     "output_type": "execute_result"
    }
   ],
   "source": [
    "df_2020_10['State'].value_counts()"
   ]
  },
  {
   "cell_type": "code",
   "execution_count": 15,
   "id": "aba1ce28",
   "metadata": {},
   "outputs": [
    {
     "data": {
      "text/plain": [
       "33156         37\n",
       "60614         32\n",
       "11201         30\n",
       "22314         29\n",
       "19087         27\n",
       "              ..\n",
       "33063          1\n",
       "44875          1\n",
       "4666           1\n",
       "76087          1\n",
       "95616-0223     1\n",
       "Name: Zip, Length: 7065, dtype: int64"
      ]
     },
     "execution_count": 15,
     "metadata": {},
     "output_type": "execute_result"
    }
   ],
   "source": [
    "df_2020_10['Zip'].value_counts()"
   ]
  },
  {
   "cell_type": "code",
   "execution_count": 16,
   "id": "85be0dcc",
   "metadata": {},
   "outputs": [
    {
     "data": {
      "text/plain": [
       "UPS      11222\n",
       "FEH       7875\n",
       "FXG       1046\n",
       "FEX        106\n",
       "GSC         78\n",
       "AZS         19\n",
       "UP2         17\n",
       "WCU          9\n",
       "UP1          8\n",
       "UP3          8\n",
       "SELF         8\n",
       "FXP          2\n",
       "WCP          2\n",
       "FXE          1\n",
       "UPSNS        1\n",
       "Name: Shipping Service, dtype: int64"
      ]
     },
     "execution_count": 16,
     "metadata": {},
     "output_type": "execute_result"
    }
   ],
   "source": [
    "df_2020_10['Shipping Service'].value_counts()"
   ]
  },
  {
   "cell_type": "code",
   "execution_count": 17,
   "id": "74be41f6",
   "metadata": {},
   "outputs": [
    {
     "data": {
      "text/plain": [
       "10/20/2020    6025\n",
       "10/26/2020     992\n",
       "10/2/2020      930\n",
       "10/22/2020     766\n",
       "10/18/2020     712\n",
       "10/6/2020      683\n",
       "10/11/2020     670\n",
       "10/10/2020     639\n",
       "10/19/2020     638\n",
       "10/13/2020     605\n",
       "10/17/2020     557\n",
       "10/12/2020     501\n",
       "10/16/2020     478\n",
       "10/9/2020      451\n",
       "10/7/2020      450\n",
       "10/25/2020     433\n",
       "10/27/2020     432\n",
       "10/23/2020     399\n",
       "10/15/2020     371\n",
       "10/5/2020      344\n",
       "10/4/2020      342\n",
       "10/28/2020     334\n",
       "10/21/2020     319\n",
       "10/29/2020     318\n",
       "10/8/2020      313\n",
       "10/1/2020      298\n",
       "10/14/2020     296\n",
       "10/24/2020     266\n",
       "9/29/2020      221\n",
       "10/30/2020     211\n",
       "10/3/2020      209\n",
       "9/30/2020      132\n",
       "9/17/2020       16\n",
       "9/25/2020        7\n",
       "9/28/2020        6\n",
       "8/3/2020         5\n",
       "7/21/2020        4\n",
       "8/13/2020        3\n",
       "8/18/2020        3\n",
       "9/24/2020        3\n",
       "9/23/2020        2\n",
       "9/15/2020        2\n",
       "7/22/2020        2\n",
       "9/1/2020         1\n",
       "7/8/2020         1\n",
       "9/3/2020         1\n",
       "9/7/2020         1\n",
       "8/11/2020        1\n",
       "8/10/2020        1\n",
       "9/27/2020        1\n",
       "8/17/2020        1\n",
       "9/21/2020        1\n",
       "9/14/2020        1\n",
       "9/11/2020        1\n",
       "9/20/2020        1\n",
       "8/4/2020         1\n",
       "8/5/2020         1\n",
       "Name: Created Date, dtype: int64"
      ]
     },
     "execution_count": 17,
     "metadata": {},
     "output_type": "execute_result"
    }
   ],
   "source": [
    "df_2020_10['Created Date'].value_counts()\n",
    "#Ok to have dates from other months- Sometimes people will create an order and hold onto it until an adult is present to sign for delivery."
   ]
  },
  {
   "cell_type": "code",
   "execution_count": 18,
   "id": "34adbd2f",
   "metadata": {},
   "outputs": [
    {
     "data": {
      "text/plain": [
       "7.00     6255\n",
       "21.50    5389\n",
       "41.00    1875\n",
       "10.50    1768\n",
       "39.00    1015\n",
       "20.20    1012\n",
       "14.00    1002\n",
       "9.90      492\n",
       "29.00     325\n",
       "18.50     206\n",
       "26.00     168\n",
       "32.00     162\n",
       "35.00     148\n",
       "3.35      142\n",
       "17.20      85\n",
       "30.00      73\n",
       "27.00      72\n",
       "38.00      49\n",
       "4.00       34\n",
       "13.50      30\n",
       "24.00      23\n",
       "20.50      14\n",
       "33.00      11\n",
       "7.50       10\n",
       "37.00       8\n",
       "36.00       7\n",
       "3.00        5\n",
       "17.00       4\n",
       "19.20       3\n",
       "9.50        3\n",
       "18.20       2\n",
       "22.00       2\n",
       "5.00        1\n",
       "19.00       1\n",
       "12.00       1\n",
       "31.00       1\n",
       "15.50       1\n",
       "13.00       1\n",
       "20.00       1\n",
       "23.00       1\n",
       "Name: Weight, dtype: int64"
      ]
     },
     "execution_count": 18,
     "metadata": {},
     "output_type": "execute_result"
    }
   ],
   "source": [
    "df_2020_10['Weight'].value_counts()"
   ]
  },
  {
   "cell_type": "code",
   "execution_count": 19,
   "id": "73bd62e8",
   "metadata": {},
   "outputs": [
    {
     "data": {
      "text/plain": [
       "6      6421\n",
       "2      5286\n",
       "12     2882\n",
       "3      2274\n",
       "1      1186\n",
       "4      1025\n",
       "8       376\n",
       "5       288\n",
       "9       241\n",
       "7       193\n",
       "10      158\n",
       "11       43\n",
       "13       13\n",
       "14        8\n",
       "15        2\n",
       "18        2\n",
       "24        2\n",
       "16        1\n",
       "132       1\n",
       "Name: Item/Bottle Count, dtype: int64"
      ]
     },
     "execution_count": 19,
     "metadata": {},
     "output_type": "execute_result"
    }
   ],
   "source": [
    "df_2020_10['Item/Bottle Count'].value_counts()"
   ]
  },
  {
   "cell_type": "markdown",
   "id": "b28748d1",
   "metadata": {},
   "source": [
    "## Clean the Data"
   ]
  },
  {
   "cell_type": "code",
   "execution_count": 20,
   "id": "ae2074b6",
   "metadata": {},
   "outputs": [
    {
     "data": {
      "text/plain": [
       "Company Name          object\n",
       "Status                object\n",
       "Ship Date             object\n",
       "City                  object\n",
       "State                 object\n",
       "Zip                   object\n",
       "Shipping Service      object\n",
       "Created Date          object\n",
       "Weight               float64\n",
       "Item/Bottle Count    float64\n",
       "dtype: object"
      ]
     },
     "execution_count": 20,
     "metadata": {},
     "output_type": "execute_result"
    }
   ],
   "source": [
    "#Change [\"Item/Bottle Count\"] to float64 type in df_2020_10.\n",
    "df_2020_10[\"Item/Bottle Count\"]=df_2020_10[\"Item/Bottle Count\"].astype(float)\n",
    "df_2020_10.dtypes"
   ]
  },
  {
   "cell_type": "code",
   "execution_count": 21,
   "id": "2de5f1ce",
   "metadata": {},
   "outputs": [
    {
     "data": {
      "text/html": [
       "<div>\n",
       "<style scoped>\n",
       "    .dataframe tbody tr th:only-of-type {\n",
       "        vertical-align: middle;\n",
       "    }\n",
       "\n",
       "    .dataframe tbody tr th {\n",
       "        vertical-align: top;\n",
       "    }\n",
       "\n",
       "    .dataframe thead th {\n",
       "        text-align: right;\n",
       "    }\n",
       "</style>\n",
       "<table border=\"1\" class=\"dataframe\">\n",
       "  <thead>\n",
       "    <tr style=\"text-align: right;\">\n",
       "      <th></th>\n",
       "      <th>Company Name</th>\n",
       "      <th>Ship Date</th>\n",
       "      <th>City</th>\n",
       "      <th>State</th>\n",
       "      <th>Zip</th>\n",
       "      <th>Shipping Service</th>\n",
       "      <th>Created Date</th>\n",
       "      <th>Weight</th>\n",
       "      <th>Item/Bottle Count</th>\n",
       "    </tr>\n",
       "  </thead>\n",
       "  <tbody>\n",
       "    <tr>\n",
       "      <th>0</th>\n",
       "      <td>Ecom1</td>\n",
       "      <td>10/2/2020</td>\n",
       "      <td>Albuquerque</td>\n",
       "      <td>NM</td>\n",
       "      <td>87111</td>\n",
       "      <td>FEH</td>\n",
       "      <td>9/25/2020</td>\n",
       "      <td>10.5</td>\n",
       "      <td>3.0</td>\n",
       "    </tr>\n",
       "    <tr>\n",
       "      <th>1</th>\n",
       "      <td>Ecom1</td>\n",
       "      <td>10/2/2020</td>\n",
       "      <td>San Francisco</td>\n",
       "      <td>CA</td>\n",
       "      <td>94123</td>\n",
       "      <td>FEH</td>\n",
       "      <td>9/25/2020</td>\n",
       "      <td>10.5</td>\n",
       "      <td>3.0</td>\n",
       "    </tr>\n",
       "    <tr>\n",
       "      <th>2</th>\n",
       "      <td>Ecom1</td>\n",
       "      <td>10/2/2020</td>\n",
       "      <td>Carlsbad</td>\n",
       "      <td>CA</td>\n",
       "      <td>92011</td>\n",
       "      <td>FEH</td>\n",
       "      <td>9/24/2020</td>\n",
       "      <td>10.5</td>\n",
       "      <td>3.0</td>\n",
       "    </tr>\n",
       "    <tr>\n",
       "      <th>3</th>\n",
       "      <td>Ecom1</td>\n",
       "      <td>10/2/2020</td>\n",
       "      <td>Roseville</td>\n",
       "      <td>CA</td>\n",
       "      <td>95747</td>\n",
       "      <td>FEH</td>\n",
       "      <td>9/24/2020</td>\n",
       "      <td>10.5</td>\n",
       "      <td>3.0</td>\n",
       "    </tr>\n",
       "    <tr>\n",
       "      <th>4</th>\n",
       "      <td>Ecom1</td>\n",
       "      <td>10/2/2020</td>\n",
       "      <td>Como</td>\n",
       "      <td>CO</td>\n",
       "      <td>80432</td>\n",
       "      <td>FEH</td>\n",
       "      <td>9/28/2020</td>\n",
       "      <td>18.2</td>\n",
       "      <td>8.0</td>\n",
       "    </tr>\n",
       "    <tr>\n",
       "      <th>...</th>\n",
       "      <td>...</td>\n",
       "      <td>...</td>\n",
       "      <td>...</td>\n",
       "      <td>...</td>\n",
       "      <td>...</td>\n",
       "      <td>...</td>\n",
       "      <td>...</td>\n",
       "      <td>...</td>\n",
       "      <td>...</td>\n",
       "    </tr>\n",
       "    <tr>\n",
       "      <th>20397</th>\n",
       "      <td>Winery3</td>\n",
       "      <td>10/30/2020</td>\n",
       "      <td>Novi</td>\n",
       "      <td>MI</td>\n",
       "      <td>48377</td>\n",
       "      <td>UPS</td>\n",
       "      <td>10/30/2020</td>\n",
       "      <td>10.5</td>\n",
       "      <td>3.0</td>\n",
       "    </tr>\n",
       "    <tr>\n",
       "      <th>20398</th>\n",
       "      <td>Winery3</td>\n",
       "      <td>10/27/2020</td>\n",
       "      <td>San Jose</td>\n",
       "      <td>CA</td>\n",
       "      <td>95120</td>\n",
       "      <td>GSC</td>\n",
       "      <td>10/27/2020</td>\n",
       "      <td>10.5</td>\n",
       "      <td>3.0</td>\n",
       "    </tr>\n",
       "    <tr>\n",
       "      <th>20399</th>\n",
       "      <td>Winery3</td>\n",
       "      <td>10/30/2020</td>\n",
       "      <td>Dublin</td>\n",
       "      <td>OH</td>\n",
       "      <td>43017</td>\n",
       "      <td>UPS</td>\n",
       "      <td>10/30/2020</td>\n",
       "      <td>10.5</td>\n",
       "      <td>3.0</td>\n",
       "    </tr>\n",
       "    <tr>\n",
       "      <th>20400</th>\n",
       "      <td>Winery3</td>\n",
       "      <td>10/30/2020</td>\n",
       "      <td>Charlotte</td>\n",
       "      <td>NC</td>\n",
       "      <td>28210</td>\n",
       "      <td>UPS</td>\n",
       "      <td>10/30/2020</td>\n",
       "      <td>10.5</td>\n",
       "      <td>3.0</td>\n",
       "    </tr>\n",
       "    <tr>\n",
       "      <th>20401</th>\n",
       "      <td>Winery3</td>\n",
       "      <td>10/27/2020</td>\n",
       "      <td>Palo Alto</td>\n",
       "      <td>CA</td>\n",
       "      <td>94303</td>\n",
       "      <td>GSC</td>\n",
       "      <td>10/27/2020</td>\n",
       "      <td>20.2</td>\n",
       "      <td>6.0</td>\n",
       "    </tr>\n",
       "  </tbody>\n",
       "</table>\n",
       "<p>20402 rows × 9 columns</p>\n",
       "</div>"
      ],
      "text/plain": [
       "      Company Name   Ship Date           City State    Zip Shipping Service  \\\n",
       "0            Ecom1   10/2/2020    Albuquerque    NM  87111              FEH   \n",
       "1            Ecom1   10/2/2020  San Francisco    CA  94123              FEH   \n",
       "2            Ecom1   10/2/2020       Carlsbad    CA  92011              FEH   \n",
       "3            Ecom1   10/2/2020      Roseville    CA  95747              FEH   \n",
       "4            Ecom1   10/2/2020           Como    CO  80432              FEH   \n",
       "...            ...         ...            ...   ...    ...              ...   \n",
       "20397      Winery3  10/30/2020           Novi    MI  48377              UPS   \n",
       "20398      Winery3  10/27/2020       San Jose    CA  95120              GSC   \n",
       "20399      Winery3  10/30/2020         Dublin    OH  43017              UPS   \n",
       "20400      Winery3  10/30/2020      Charlotte    NC  28210              UPS   \n",
       "20401      Winery3  10/27/2020      Palo Alto    CA  94303              GSC   \n",
       "\n",
       "      Created Date  Weight  Item/Bottle Count  \n",
       "0        9/25/2020    10.5                3.0  \n",
       "1        9/25/2020    10.5                3.0  \n",
       "2        9/24/2020    10.5                3.0  \n",
       "3        9/24/2020    10.5                3.0  \n",
       "4        9/28/2020    18.2                8.0  \n",
       "...            ...     ...                ...  \n",
       "20397   10/30/2020    10.5                3.0  \n",
       "20398   10/27/2020    10.5                3.0  \n",
       "20399   10/30/2020    10.5                3.0  \n",
       "20400   10/30/2020    10.5                3.0  \n",
       "20401   10/27/2020    20.2                6.0  \n",
       "\n",
       "[20402 rows x 9 columns]"
      ]
     },
     "execution_count": 21,
     "metadata": {},
     "output_type": "execute_result"
    }
   ],
   "source": [
    "#Remove \"Status\" column from df_2020_10.\n",
    "df_2020_10 = df_2020_10.drop('Status', axis=1)\n",
    "df_2020_10"
   ]
  },
  {
   "cell_type": "code",
   "execution_count": 22,
   "id": "0374b7d7",
   "metadata": {},
   "outputs": [],
   "source": [
    "# Drop the NaNs for df_2020_10.\n",
    "df_2020_10 = df_2020_10.dropna()"
   ]
  },
  {
   "cell_type": "code",
   "execution_count": null,
   "id": "3d1cb42a",
   "metadata": {},
   "outputs": [],
   "source": [
    "df_2020_10=df_2020_10.reset_index()\n",
    "df_2020_10"
   ]
  },
  {
   "cell_type": "markdown",
   "id": "b54ac18d",
   "metadata": {},
   "source": [
    "## Confirm Changes"
   ]
  },
  {
   "cell_type": "code",
   "execution_count": 23,
   "id": "717b65ec",
   "metadata": {},
   "outputs": [
    {
     "data": {
      "text/html": [
       "<div>\n",
       "<style scoped>\n",
       "    .dataframe tbody tr th:only-of-type {\n",
       "        vertical-align: middle;\n",
       "    }\n",
       "\n",
       "    .dataframe tbody tr th {\n",
       "        vertical-align: top;\n",
       "    }\n",
       "\n",
       "    .dataframe thead th {\n",
       "        text-align: right;\n",
       "    }\n",
       "</style>\n",
       "<table border=\"1\" class=\"dataframe\">\n",
       "  <thead>\n",
       "    <tr style=\"text-align: right;\">\n",
       "      <th></th>\n",
       "      <th>Company Name</th>\n",
       "      <th>Ship Date</th>\n",
       "      <th>City</th>\n",
       "      <th>State</th>\n",
       "      <th>Zip</th>\n",
       "      <th>Shipping Service</th>\n",
       "      <th>Created Date</th>\n",
       "      <th>Weight</th>\n",
       "      <th>Item/Bottle Count</th>\n",
       "    </tr>\n",
       "  </thead>\n",
       "  <tbody>\n",
       "    <tr>\n",
       "      <th>11422</th>\n",
       "      <td>Ecom2</td>\n",
       "      <td>10/22/2020</td>\n",
       "      <td>Pittsburgh</td>\n",
       "      <td>PA</td>\n",
       "      <td>15241</td>\n",
       "      <td>UPS</td>\n",
       "      <td>10/20/2020</td>\n",
       "      <td>7.0</td>\n",
       "      <td>2.0</td>\n",
       "    </tr>\n",
       "    <tr>\n",
       "      <th>10969</th>\n",
       "      <td>Ecom2</td>\n",
       "      <td>10/23/2020</td>\n",
       "      <td>Bernardsville</td>\n",
       "      <td>NJ</td>\n",
       "      <td>7924</td>\n",
       "      <td>FEH</td>\n",
       "      <td>10/20/2020</td>\n",
       "      <td>7.0</td>\n",
       "      <td>2.0</td>\n",
       "    </tr>\n",
       "    <tr>\n",
       "      <th>12694</th>\n",
       "      <td>Ecom2</td>\n",
       "      <td>10/22/2020</td>\n",
       "      <td>Anacortes</td>\n",
       "      <td>WA</td>\n",
       "      <td>98221</td>\n",
       "      <td>UPS</td>\n",
       "      <td>10/20/2020</td>\n",
       "      <td>7.0</td>\n",
       "      <td>2.0</td>\n",
       "    </tr>\n",
       "    <tr>\n",
       "      <th>9902</th>\n",
       "      <td>Ecom2</td>\n",
       "      <td>10/23/2020</td>\n",
       "      <td>Fort Lupton</td>\n",
       "      <td>CO</td>\n",
       "      <td>80621</td>\n",
       "      <td>UPS</td>\n",
       "      <td>10/20/2020</td>\n",
       "      <td>7.0</td>\n",
       "      <td>2.0</td>\n",
       "    </tr>\n",
       "    <tr>\n",
       "      <th>6380</th>\n",
       "      <td>Ecom3</td>\n",
       "      <td>10/14/2020</td>\n",
       "      <td>Livingston</td>\n",
       "      <td>MT</td>\n",
       "      <td>59047</td>\n",
       "      <td>UPS</td>\n",
       "      <td>10/13/2020</td>\n",
       "      <td>41.0</td>\n",
       "      <td>12.0</td>\n",
       "    </tr>\n",
       "  </tbody>\n",
       "</table>\n",
       "</div>"
      ],
      "text/plain": [
       "      Company Name   Ship Date           City State    Zip Shipping Service  \\\n",
       "11422        Ecom2  10/22/2020     Pittsburgh    PA  15241              UPS   \n",
       "10969        Ecom2  10/23/2020  Bernardsville    NJ   7924              FEH   \n",
       "12694        Ecom2  10/22/2020      Anacortes    WA  98221              UPS   \n",
       "9902         Ecom2  10/23/2020    Fort Lupton    CO  80621              UPS   \n",
       "6380         Ecom3  10/14/2020     Livingston    MT  59047              UPS   \n",
       "\n",
       "      Created Date  Weight  Item/Bottle Count  \n",
       "11422   10/20/2020     7.0                2.0  \n",
       "10969   10/20/2020     7.0                2.0  \n",
       "12694   10/20/2020     7.0                2.0  \n",
       "9902    10/20/2020     7.0                2.0  \n",
       "6380    10/13/2020    41.0               12.0  "
      ]
     },
     "execution_count": 23,
     "metadata": {},
     "output_type": "execute_result"
    }
   ],
   "source": [
    "#See five random rows of data\n",
    "df_2020_10.sample(n=5)"
   ]
  },
  {
   "cell_type": "code",
   "execution_count": 24,
   "id": "2f59ad5f",
   "metadata": {},
   "outputs": [
    {
     "name": "stdout",
     "output_type": "stream",
     "text": [
      "Number of Rows:  20402\n",
      "Number of Columns:  9\n"
     ]
    }
   ],
   "source": [
    "#Determine total rows for df_2020_10.\n",
    "df_2020_10_rows = len(df_2020_10.axes[0])\n",
    "df_2020_10_cols = len(df_2020_10.axes[1])\n",
    "print(\"Number of Rows: \", df_2020_10_rows)\n",
    "print(\"Number of Columns: \", df_2020_10_cols)"
   ]
  },
  {
   "cell_type": "markdown",
   "id": "625b4837",
   "metadata": {},
   "source": [
    "## Export Cleaned df to .CSV"
   ]
  },
  {
   "cell_type": "code",
   "execution_count": 25,
   "id": "f5a7980c",
   "metadata": {},
   "outputs": [],
   "source": [
    "#Export df_2020_10 to .csv\n",
    "df_2020_10.to_csv('../cleaned_months_2020/Clean_2020_10.csv') "
   ]
  },
  {
   "cell_type": "code",
   "execution_count": null,
   "id": "aafdefb9",
   "metadata": {},
   "outputs": [],
   "source": []
  }
 ],
 "metadata": {
  "kernelspec": {
   "display_name": "Python 3 (ipykernel)",
   "language": "python",
   "name": "python3"
  },
  "language_info": {
   "codemirror_mode": {
    "name": "ipython",
    "version": 3
   },
   "file_extension": ".py",
   "mimetype": "text/x-python",
   "name": "python",
   "nbconvert_exporter": "python",
   "pygments_lexer": "ipython3",
   "version": "3.7.13"
  }
 },
 "nbformat": 4,
 "nbformat_minor": 5
}
