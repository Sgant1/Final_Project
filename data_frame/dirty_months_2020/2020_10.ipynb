{
 "cells": [
  {
   "cell_type": "code",
   "execution_count": 1,
   "id": "1f30ec89",
   "metadata": {},
   "outputs": [],
   "source": [
    "#Pandas library to create DataFrames\n",
    "import pandas as pd\n",
    "#NumPy library for converting data types\n",
    "import numpy as np"
   ]
  },
  {
   "cell_type": "code",
   "execution_count": 2,
   "id": "7d4569c3",
   "metadata": {},
   "outputs": [],
   "source": [
    "# Files to load\n",
    "load_2020_10 = \"../../2020_Data/2020.10.csv\""
   ]
  },
  {
   "cell_type": "code",
   "execution_count": 3,
   "id": "5bf26e77",
   "metadata": {},
   "outputs": [
    {
     "data": {
      "text/html": [
       "<div>\n",
       "<style scoped>\n",
       "    .dataframe tbody tr th:only-of-type {\n",
       "        vertical-align: middle;\n",
       "    }\n",
       "\n",
       "    .dataframe tbody tr th {\n",
       "        vertical-align: top;\n",
       "    }\n",
       "\n",
       "    .dataframe thead th {\n",
       "        text-align: right;\n",
       "    }\n",
       "</style>\n",
       "<table border=\"1\" class=\"dataframe\">\n",
       "  <thead>\n",
       "    <tr style=\"text-align: right;\">\n",
       "      <th></th>\n",
       "      <th>Company Name</th>\n",
       "      <th>Status</th>\n",
       "      <th>Ship Date</th>\n",
       "      <th>City</th>\n",
       "      <th>State</th>\n",
       "      <th>Zip</th>\n",
       "      <th>Shipping Service</th>\n",
       "      <th>Created Date</th>\n",
       "      <th>Weight</th>\n",
       "      <th>Item/Bottle Count</th>\n",
       "    </tr>\n",
       "  </thead>\n",
       "  <tbody>\n",
       "    <tr>\n",
       "      <th>0</th>\n",
       "      <td>Ecom1</td>\n",
       "      <td>In Transit</td>\n",
       "      <td>10/2/20</td>\n",
       "      <td>Albuquerque</td>\n",
       "      <td>NM</td>\n",
       "      <td>87111</td>\n",
       "      <td>FEH</td>\n",
       "      <td>9/25/20</td>\n",
       "      <td>10.5</td>\n",
       "      <td>3</td>\n",
       "    </tr>\n",
       "    <tr>\n",
       "      <th>1</th>\n",
       "      <td>Ecom1</td>\n",
       "      <td>Delivered</td>\n",
       "      <td>10/2/20</td>\n",
       "      <td>San Francisco</td>\n",
       "      <td>CA</td>\n",
       "      <td>94123</td>\n",
       "      <td>FEH</td>\n",
       "      <td>9/25/20</td>\n",
       "      <td>10.5</td>\n",
       "      <td>3</td>\n",
       "    </tr>\n",
       "    <tr>\n",
       "      <th>2</th>\n",
       "      <td>Ecom1</td>\n",
       "      <td>Delivered</td>\n",
       "      <td>10/2/20</td>\n",
       "      <td>Carlsbad</td>\n",
       "      <td>CA</td>\n",
       "      <td>92011</td>\n",
       "      <td>FEH</td>\n",
       "      <td>9/24/20</td>\n",
       "      <td>10.5</td>\n",
       "      <td>3</td>\n",
       "    </tr>\n",
       "    <tr>\n",
       "      <th>3</th>\n",
       "      <td>Ecom1</td>\n",
       "      <td>Delivered</td>\n",
       "      <td>10/2/20</td>\n",
       "      <td>Roseville</td>\n",
       "      <td>CA</td>\n",
       "      <td>95747</td>\n",
       "      <td>FEH</td>\n",
       "      <td>9/24/20</td>\n",
       "      <td>10.5</td>\n",
       "      <td>3</td>\n",
       "    </tr>\n",
       "    <tr>\n",
       "      <th>4</th>\n",
       "      <td>Ecom1</td>\n",
       "      <td>In Transit</td>\n",
       "      <td>10/2/20</td>\n",
       "      <td>Como</td>\n",
       "      <td>CO</td>\n",
       "      <td>80432</td>\n",
       "      <td>FEH</td>\n",
       "      <td>9/28/20</td>\n",
       "      <td>18.2</td>\n",
       "      <td>8</td>\n",
       "    </tr>\n",
       "  </tbody>\n",
       "</table>\n",
       "</div>"
      ],
      "text/plain": [
       "  Company Name      Status Ship Date           City State    Zip  \\\n",
       "0        Ecom1  In Transit   10/2/20    Albuquerque    NM  87111   \n",
       "1        Ecom1   Delivered   10/2/20  San Francisco    CA  94123   \n",
       "2        Ecom1   Delivered   10/2/20       Carlsbad    CA  92011   \n",
       "3        Ecom1   Delivered   10/2/20      Roseville    CA  95747   \n",
       "4        Ecom1  In Transit   10/2/20           Como    CO  80432   \n",
       "\n",
       "  Shipping Service Created Date  Weight  Item/Bottle Count  \n",
       "0              FEH      9/25/20    10.5                  3  \n",
       "1              FEH      9/25/20    10.5                  3  \n",
       "2              FEH      9/24/20    10.5                  3  \n",
       "3              FEH      9/24/20    10.5                  3  \n",
       "4              FEH      9/28/20    18.2                  8  "
      ]
     },
     "execution_count": 3,
     "metadata": {},
     "output_type": "execute_result"
    }
   ],
   "source": [
    "# Read the October CSV into a DataFrame\n",
    "#Had to open each file in excel and save it as a .csv file instead of an .xlsm file in order for the encryption to be read properly.\n",
    "df_2020_10 = pd.read_csv(load_2020_10)\n",
    "df_2020_10.head()"
   ]
  },
  {
   "cell_type": "markdown",
   "id": "175df6a6",
   "metadata": {},
   "source": [
    "## Inspect the Data"
   ]
  },
  {
   "cell_type": "code",
   "execution_count": 4,
   "id": "2cdb2387",
   "metadata": {},
   "outputs": [
    {
     "data": {
      "text/html": [
       "<div>\n",
       "<style scoped>\n",
       "    .dataframe tbody tr th:only-of-type {\n",
       "        vertical-align: middle;\n",
       "    }\n",
       "\n",
       "    .dataframe tbody tr th {\n",
       "        vertical-align: top;\n",
       "    }\n",
       "\n",
       "    .dataframe thead th {\n",
       "        text-align: right;\n",
       "    }\n",
       "</style>\n",
       "<table border=\"1\" class=\"dataframe\">\n",
       "  <thead>\n",
       "    <tr style=\"text-align: right;\">\n",
       "      <th></th>\n",
       "      <th>Company Name</th>\n",
       "      <th>Status</th>\n",
       "      <th>Ship Date</th>\n",
       "      <th>City</th>\n",
       "      <th>State</th>\n",
       "      <th>Zip</th>\n",
       "      <th>Shipping Service</th>\n",
       "      <th>Created Date</th>\n",
       "      <th>Weight</th>\n",
       "      <th>Item/Bottle Count</th>\n",
       "    </tr>\n",
       "  </thead>\n",
       "  <tbody>\n",
       "    <tr>\n",
       "      <th>4809</th>\n",
       "      <td>Ecom3</td>\n",
       "      <td>Delivered</td>\n",
       "      <td>10/13/20</td>\n",
       "      <td>Vernon Hills</td>\n",
       "      <td>IL</td>\n",
       "      <td>60061</td>\n",
       "      <td>UPS</td>\n",
       "      <td>10/12/20</td>\n",
       "      <td>14.0</td>\n",
       "      <td>4</td>\n",
       "    </tr>\n",
       "    <tr>\n",
       "      <th>7690</th>\n",
       "      <td>Winery1</td>\n",
       "      <td>Shipped</td>\n",
       "      <td>10/23/20</td>\n",
       "      <td>Houston</td>\n",
       "      <td>TX</td>\n",
       "      <td>77070</td>\n",
       "      <td>UPS</td>\n",
       "      <td>10/21/20</td>\n",
       "      <td>39.0</td>\n",
       "      <td>12</td>\n",
       "    </tr>\n",
       "    <tr>\n",
       "      <th>11785</th>\n",
       "      <td>Ecom2</td>\n",
       "      <td>In Transit</td>\n",
       "      <td>10/22/20</td>\n",
       "      <td>Glenview</td>\n",
       "      <td>IL</td>\n",
       "      <td>60025</td>\n",
       "      <td>FEH</td>\n",
       "      <td>10/20/20</td>\n",
       "      <td>7.0</td>\n",
       "      <td>2</td>\n",
       "    </tr>\n",
       "    <tr>\n",
       "      <th>12505</th>\n",
       "      <td>Ecom2</td>\n",
       "      <td>In Transit</td>\n",
       "      <td>10/21/20</td>\n",
       "      <td>Charlotte</td>\n",
       "      <td>TN</td>\n",
       "      <td>37036</td>\n",
       "      <td>FEH</td>\n",
       "      <td>10/20/20</td>\n",
       "      <td>7.0</td>\n",
       "      <td>2</td>\n",
       "    </tr>\n",
       "    <tr>\n",
       "      <th>9277</th>\n",
       "      <td>Ecom2</td>\n",
       "      <td>In Transit</td>\n",
       "      <td>10/23/20</td>\n",
       "      <td>Weymouth</td>\n",
       "      <td>MA</td>\n",
       "      <td>2190</td>\n",
       "      <td>UPS</td>\n",
       "      <td>10/20/20</td>\n",
       "      <td>7.0</td>\n",
       "      <td>2</td>\n",
       "    </tr>\n",
       "  </tbody>\n",
       "</table>\n",
       "</div>"
      ],
      "text/plain": [
       "      Company Name      Status Ship Date          City State    Zip  \\\n",
       "4809         Ecom3   Delivered  10/13/20  Vernon Hills    IL  60061   \n",
       "7690       Winery1     Shipped  10/23/20       Houston    TX  77070   \n",
       "11785        Ecom2  In Transit  10/22/20      Glenview    IL  60025   \n",
       "12505        Ecom2  In Transit  10/21/20     Charlotte    TN  37036   \n",
       "9277         Ecom2  In Transit  10/23/20      Weymouth    MA   2190   \n",
       "\n",
       "      Shipping Service Created Date  Weight  Item/Bottle Count  \n",
       "4809               UPS     10/12/20    14.0                  4  \n",
       "7690               UPS     10/21/20    39.0                 12  \n",
       "11785              FEH     10/20/20     7.0                  2  \n",
       "12505              FEH     10/20/20     7.0                  2  \n",
       "9277               UPS     10/20/20     7.0                  2  "
      ]
     },
     "execution_count": 4,
     "metadata": {},
     "output_type": "execute_result"
    }
   ],
   "source": [
    "#See five random rows of data\n",
    "df_2020_10.sample(n=5)"
   ]
  },
  {
   "cell_type": "code",
   "execution_count": 5,
   "id": "a7bdb733",
   "metadata": {},
   "outputs": [
    {
     "data": {
      "text/html": [
       "<div>\n",
       "<style scoped>\n",
       "    .dataframe tbody tr th:only-of-type {\n",
       "        vertical-align: middle;\n",
       "    }\n",
       "\n",
       "    .dataframe tbody tr th {\n",
       "        vertical-align: top;\n",
       "    }\n",
       "\n",
       "    .dataframe thead th {\n",
       "        text-align: right;\n",
       "    }\n",
       "</style>\n",
       "<table border=\"1\" class=\"dataframe\">\n",
       "  <thead>\n",
       "    <tr style=\"text-align: right;\">\n",
       "      <th></th>\n",
       "      <th>Company Name</th>\n",
       "      <th>Status</th>\n",
       "      <th>Ship Date</th>\n",
       "      <th>City</th>\n",
       "      <th>State</th>\n",
       "      <th>Zip</th>\n",
       "      <th>Shipping Service</th>\n",
       "      <th>Created Date</th>\n",
       "      <th>Weight</th>\n",
       "      <th>Item/Bottle Count</th>\n",
       "    </tr>\n",
       "  </thead>\n",
       "  <tbody>\n",
       "    <tr>\n",
       "      <th>19929</th>\n",
       "      <td>Ecom3</td>\n",
       "      <td>Delivered</td>\n",
       "      <td>10/26/20</td>\n",
       "      <td>Honolulu</td>\n",
       "      <td>HI</td>\n",
       "      <td>96815</td>\n",
       "      <td>UPS</td>\n",
       "      <td>10/25/20</td>\n",
       "      <td>21.5</td>\n",
       "      <td>6</td>\n",
       "    </tr>\n",
       "    <tr>\n",
       "      <th>19930</th>\n",
       "      <td>Ecom3</td>\n",
       "      <td>Delivered</td>\n",
       "      <td>10/26/20</td>\n",
       "      <td>Temperance</td>\n",
       "      <td>MI</td>\n",
       "      <td>48182</td>\n",
       "      <td>UPS</td>\n",
       "      <td>10/25/20</td>\n",
       "      <td>21.5</td>\n",
       "      <td>6</td>\n",
       "    </tr>\n",
       "    <tr>\n",
       "      <th>19931</th>\n",
       "      <td>Ecom3</td>\n",
       "      <td>In Transit</td>\n",
       "      <td>10/29/20</td>\n",
       "      <td>NAPLES</td>\n",
       "      <td>FL</td>\n",
       "      <td>34103</td>\n",
       "      <td>UPS</td>\n",
       "      <td>10/28/20</td>\n",
       "      <td>21.5</td>\n",
       "      <td>6</td>\n",
       "    </tr>\n",
       "    <tr>\n",
       "      <th>19932</th>\n",
       "      <td>Ecom3</td>\n",
       "      <td>Delivered</td>\n",
       "      <td>10/26/20</td>\n",
       "      <td>Atlanta</td>\n",
       "      <td>GA</td>\n",
       "      <td>30342</td>\n",
       "      <td>UPS</td>\n",
       "      <td>10/25/20</td>\n",
       "      <td>21.5</td>\n",
       "      <td>6</td>\n",
       "    </tr>\n",
       "    <tr>\n",
       "      <th>19933</th>\n",
       "      <td>Ecom3</td>\n",
       "      <td>Delivered</td>\n",
       "      <td>10/27/20</td>\n",
       "      <td>Simi Valley</td>\n",
       "      <td>CA</td>\n",
       "      <td>93063</td>\n",
       "      <td>UPS</td>\n",
       "      <td>10/26/20</td>\n",
       "      <td>21.5</td>\n",
       "      <td>6</td>\n",
       "    </tr>\n",
       "  </tbody>\n",
       "</table>\n",
       "</div>"
      ],
      "text/plain": [
       "      Company Name      Status Ship Date         City State    Zip  \\\n",
       "19929        Ecom3   Delivered  10/26/20     Honolulu    HI  96815   \n",
       "19930        Ecom3   Delivered  10/26/20   Temperance    MI  48182   \n",
       "19931        Ecom3  In Transit  10/29/20       NAPLES    FL  34103   \n",
       "19932        Ecom3   Delivered  10/26/20      Atlanta    GA  30342   \n",
       "19933        Ecom3   Delivered  10/27/20  Simi Valley    CA  93063   \n",
       "\n",
       "      Shipping Service Created Date  Weight  Item/Bottle Count  \n",
       "19929              UPS     10/25/20    21.5                  6  \n",
       "19930              UPS     10/25/20    21.5                  6  \n",
       "19931              UPS     10/28/20    21.5                  6  \n",
       "19932              UPS     10/25/20    21.5                  6  \n",
       "19933              UPS     10/26/20    21.5                  6  "
      ]
     },
     "execution_count": 5,
     "metadata": {},
     "output_type": "execute_result"
    }
   ],
   "source": [
    "#See the last rows of data\n",
    "df_2020_10.tail(5)"
   ]
  },
  {
   "cell_type": "code",
   "execution_count": 6,
   "id": "a820ba41",
   "metadata": {},
   "outputs": [
    {
     "data": {
      "text/plain": [
       "Index(['Company Name', 'Status', 'Ship Date', 'City', 'State', 'Zip',\n",
       "       'Shipping Service', 'Created Date', 'Weight', 'Item/Bottle Count'],\n",
       "      dtype='object')"
      ]
     },
     "execution_count": 6,
     "metadata": {},
     "output_type": "execute_result"
    }
   ],
   "source": [
    "df_2020_10.columns"
   ]
  },
  {
   "cell_type": "code",
   "execution_count": 7,
   "id": "7410d9e5",
   "metadata": {},
   "outputs": [
    {
     "name": "stdout",
     "output_type": "stream",
     "text": [
      "Number of Rows:  19934\n",
      "Number of Columns:  10\n"
     ]
    }
   ],
   "source": [
    "#Determine total rows for df_2020_10.\n",
    "df_2020_10_rows = len(df_2020_10.axes[0])\n",
    "df_2020_10_cols = len(df_2020_10.axes[1])\n",
    "print(\"Number of Rows: \", df_2020_10_rows)\n",
    "print(\"Number of Columns: \", df_2020_10_cols)"
   ]
  },
  {
   "cell_type": "code",
   "execution_count": 8,
   "id": "4caf57c3",
   "metadata": {},
   "outputs": [
    {
     "data": {
      "text/plain": [
       "Company Name         0\n",
       "Status               0\n",
       "Ship Date            0\n",
       "City                 0\n",
       "State                0\n",
       "Zip                  0\n",
       "Shipping Service     0\n",
       "Created Date         0\n",
       "Weight               0\n",
       "Item/Bottle Count    0\n",
       "dtype: int64"
      ]
     },
     "execution_count": 8,
     "metadata": {},
     "output_type": "execute_result"
    }
   ],
   "source": [
    "# Determine if there are any missing values in df_2020_10.\n",
    "df_2020_10.isnull().sum()"
   ]
  },
  {
   "cell_type": "code",
   "execution_count": 9,
   "id": "d2ad8510",
   "metadata": {},
   "outputs": [
    {
     "data": {
      "text/plain": [
       "Company Name          object\n",
       "Status                object\n",
       "Ship Date             object\n",
       "City                  object\n",
       "State                 object\n",
       "Zip                   object\n",
       "Shipping Service      object\n",
       "Created Date          object\n",
       "Weight               float64\n",
       "Item/Bottle Count      int64\n",
       "dtype: object"
      ]
     },
     "execution_count": 9,
     "metadata": {},
     "output_type": "execute_result"
    }
   ],
   "source": [
    "# Determine data types for df_2020_10.\n",
    "df_2020_10.dtypes"
   ]
  },
  {
   "cell_type": "code",
   "execution_count": 10,
   "id": "4061fbbf",
   "metadata": {},
   "outputs": [
    {
     "data": {
      "text/plain": [
       "Ecom3      10233\n",
       "Ecom2       5542\n",
       "Ecom1       2997\n",
       "Winery1      613\n",
       "Winery2      549\n",
       "Name: Company Name, dtype: int64"
      ]
     },
     "execution_count": 10,
     "metadata": {},
     "output_type": "execute_result"
    }
   ],
   "source": [
    "df_2020_10['Company Name'].value_counts()"
   ]
  },
  {
   "cell_type": "code",
   "execution_count": 11,
   "id": "aac39571",
   "metadata": {},
   "outputs": [
    {
     "data": {
      "text/plain": [
       "10/22/20    3071\n",
       "10/21/20    2151\n",
       "10/23/20    2145\n",
       "10/12/20    1399\n",
       "10/26/20    1134\n",
       "10/20/20    1122\n",
       "10/19/20    1092\n",
       "10/5/20      940\n",
       "10/13/20     736\n",
       "10/14/20     615\n",
       "10/31/20     563\n",
       "10/16/20     542\n",
       "10/6/20      538\n",
       "10/7/20      525\n",
       "10/2/20      456\n",
       "10/27/20     437\n",
       "10/30/20     382\n",
       "10/29/20     375\n",
       "10/9/20      341\n",
       "10/8/20      331\n",
       "10/28/20     325\n",
       "10/1/20      272\n",
       "10/15/20     249\n",
       "10/3/20      192\n",
       "10/4/20        1\n",
       "Name: Ship Date, dtype: int64"
      ]
     },
     "execution_count": 11,
     "metadata": {},
     "output_type": "execute_result"
    }
   ],
   "source": [
    "df_2020_10['Ship Date'].value_counts()"
   ]
  },
  {
   "cell_type": "code",
   "execution_count": 12,
   "id": "ff45ee9d",
   "metadata": {},
   "outputs": [
    {
     "data": {
      "text/plain": [
       "Delivered            11776\n",
       "In Transit            6663\n",
       "Shipped               1155\n",
       "Carrier Exception      180\n",
       "Delivery Attempt       160\n",
       "Name: Status, dtype: int64"
      ]
     },
     "execution_count": 12,
     "metadata": {},
     "output_type": "execute_result"
    }
   ],
   "source": [
    "df_2020_10['Status'].value_counts()"
   ]
  },
  {
   "cell_type": "code",
   "execution_count": 13,
   "id": "ae707cc4",
   "metadata": {},
   "outputs": [
    {
     "data": {
      "text/plain": [
       "New York        373\n",
       "Chicago         257\n",
       "Brooklyn        167\n",
       "Austin          160\n",
       "Washington      155\n",
       "               ... \n",
       "Loretto           1\n",
       "Wood Village      1\n",
       "Lee's Summit      1\n",
       "Rankin            1\n",
       "Mitchell          1\n",
       "Name: City, Length: 4863, dtype: int64"
      ]
     },
     "execution_count": 13,
     "metadata": {},
     "output_type": "execute_result"
    }
   ],
   "source": [
    "df_2020_10['City'].value_counts()"
   ]
  },
  {
   "cell_type": "code",
   "execution_count": 14,
   "id": "a8718b4d",
   "metadata": {},
   "outputs": [
    {
     "data": {
      "text/plain": [
       "NY    1997\n",
       "CA    1767\n",
       "FL    1564\n",
       "PA    1376\n",
       "TX    1325\n",
       "NJ    1078\n",
       "IL     899\n",
       "MA     762\n",
       "VA     740\n",
       "OH     658\n",
       "MI     652\n",
       "GA     607\n",
       "NC     536\n",
       "MD     534\n",
       "CO     479\n",
       "CT     424\n",
       "WA     336\n",
       "TN     329\n",
       "IN     327\n",
       "AZ     306\n",
       "MN     283\n",
       "WI     264\n",
       "SC     260\n",
       "MO     226\n",
       "LA     186\n",
       "OR     182\n",
       "DC     160\n",
       "HI     159\n",
       "KS     152\n",
       "RI     140\n",
       "NV     137\n",
       "OK     119\n",
       "NE     105\n",
       "NH     102\n",
       "IA     100\n",
       "ME      94\n",
       "AR      85\n",
       "NM      77\n",
       "WV      75\n",
       "ID      66\n",
       "VT      54\n",
       "DE      38\n",
       "MT      38\n",
       "WY      33\n",
       "SD      28\n",
       "AK      28\n",
       "ND      26\n",
       "AL      21\n",
       "Name: State, dtype: int64"
      ]
     },
     "execution_count": 14,
     "metadata": {},
     "output_type": "execute_result"
    }
   ],
   "source": [
    "df_2020_10['State'].value_counts()"
   ]
  },
  {
   "cell_type": "code",
   "execution_count": 15,
   "id": "aba1ce28",
   "metadata": {},
   "outputs": [
    {
     "data": {
      "text/plain": [
       "33156    35\n",
       "60614    31\n",
       "11201    30\n",
       "22314    29\n",
       "19087    27\n",
       "         ..\n",
       "18235     1\n",
       "16438     1\n",
       "69001     1\n",
       "44278     1\n",
       "57301     1\n",
       "Name: Zip, Length: 6989, dtype: int64"
      ]
     },
     "execution_count": 15,
     "metadata": {},
     "output_type": "execute_result"
    }
   ],
   "source": [
    "df_2020_10['Zip'].value_counts()"
   ]
  },
  {
   "cell_type": "code",
   "execution_count": 16,
   "id": "85be0dcc",
   "metadata": {},
   "outputs": [
    {
     "data": {
      "text/plain": [
       "UPS    10862\n",
       "FEH     7875\n",
       "FXG     1032\n",
       "FEX      106\n",
       "AZS       19\n",
       "UP2       10\n",
       "WCU        9\n",
       "UP1        8\n",
       "UP3        6\n",
       "GSC        2\n",
       "FXP        2\n",
       "WCP        2\n",
       "FXE        1\n",
       "Name: Shipping Service, dtype: int64"
      ]
     },
     "execution_count": 16,
     "metadata": {},
     "output_type": "execute_result"
    }
   ],
   "source": [
    "df_2020_10['Shipping Service'].value_counts()"
   ]
  },
  {
   "cell_type": "code",
   "execution_count": 17,
   "id": "74be41f6",
   "metadata": {},
   "outputs": [
    {
     "data": {
      "text/plain": [
       "10/20/20    6025\n",
       "10/26/20     989\n",
       "10/22/20     764\n",
       "10/18/20     712\n",
       "10/6/20      680\n",
       "10/11/20     670\n",
       "10/10/20     639\n",
       "10/19/20     635\n",
       "10/2/20      615\n",
       "10/13/20     603\n",
       "10/17/20     557\n",
       "10/12/20     500\n",
       "10/16/20     475\n",
       "10/7/20      450\n",
       "10/9/20      450\n",
       "10/25/20     433\n",
       "10/27/20     427\n",
       "10/23/20     387\n",
       "10/15/20     371\n",
       "10/4/20      342\n",
       "10/28/20     334\n",
       "10/21/20     318\n",
       "10/29/20     318\n",
       "10/8/20      312\n",
       "10/1/20      297\n",
       "10/14/20     294\n",
       "10/24/20     266\n",
       "10/5/20      247\n",
       "9/29/20      221\n",
       "10/3/20      204\n",
       "10/30/20     200\n",
       "9/30/20      132\n",
       "9/17/20       16\n",
       "9/25/20        7\n",
       "9/28/20        6\n",
       "8/3/20         5\n",
       "7/21/20        4\n",
       "8/13/20        3\n",
       "8/18/20        3\n",
       "9/24/20        3\n",
       "9/15/20        2\n",
       "9/23/20        2\n",
       "7/22/20        2\n",
       "9/7/20         1\n",
       "9/3/20         1\n",
       "8/11/20        1\n",
       "8/10/20        1\n",
       "7/8/20         1\n",
       "9/14/20        1\n",
       "9/27/20        1\n",
       "9/11/20        1\n",
       "8/4/20         1\n",
       "8/17/20        1\n",
       "9/21/20        1\n",
       "9/1/20         1\n",
       "9/20/20        1\n",
       "8/5/20         1\n",
       "Name: Created Date, dtype: int64"
      ]
     },
     "execution_count": 17,
     "metadata": {},
     "output_type": "execute_result"
    }
   ],
   "source": [
    "df_2020_10['Created Date'].value_counts()\n",
    "#Ok to have dates from other months- Sometimes people will create an order and hold onto it until an adult is present to sign for delivery."
   ]
  },
  {
   "cell_type": "code",
   "execution_count": 18,
   "id": "34adbd2f",
   "metadata": {},
   "outputs": [
    {
     "data": {
      "text/plain": [
       "7.00     6232\n",
       "21.50    5389\n",
       "41.00    1873\n",
       "10.50    1697\n",
       "20.20     979\n",
       "14.00     895\n",
       "39.00     814\n",
       "9.90      492\n",
       "29.00     325\n",
       "18.50     206\n",
       "26.00     168\n",
       "32.00     162\n",
       "35.00     148\n",
       "3.35      142\n",
       "17.20      84\n",
       "30.00      66\n",
       "27.00      60\n",
       "38.00      49\n",
       "4.00       31\n",
       "13.50      27\n",
       "24.00      21\n",
       "20.50      14\n",
       "33.00      10\n",
       "7.50       10\n",
       "37.00       8\n",
       "36.00       7\n",
       "3.00        5\n",
       "9.50        3\n",
       "19.20       3\n",
       "18.20       2\n",
       "22.00       2\n",
       "17.00       2\n",
       "5.00        1\n",
       "19.00       1\n",
       "12.00       1\n",
       "31.00       1\n",
       "15.50       1\n",
       "13.00       1\n",
       "20.00       1\n",
       "23.00       1\n",
       "Name: Weight, dtype: int64"
      ]
     },
     "execution_count": 18,
     "metadata": {},
     "output_type": "execute_result"
    }
   ],
   "source": [
    "df_2020_10['Weight'].value_counts()"
   ]
  },
  {
   "cell_type": "code",
   "execution_count": 19,
   "id": "73bd62e8",
   "metadata": {},
   "outputs": [
    {
     "data": {
      "text/plain": [
       "6      6386\n",
       "2      5264\n",
       "12     2681\n",
       "3      2203\n",
       "1      1176\n",
       "4       917\n",
       "8       366\n",
       "5       287\n",
       "9       234\n",
       "7       191\n",
       "10      157\n",
       "11       43\n",
       "13       13\n",
       "14        8\n",
       "15        2\n",
       "18        2\n",
       "24        2\n",
       "16        1\n",
       "132       1\n",
       "Name: Item/Bottle Count, dtype: int64"
      ]
     },
     "execution_count": 19,
     "metadata": {},
     "output_type": "execute_result"
    }
   ],
   "source": [
    "df_2020_10['Item/Bottle Count'].value_counts()"
   ]
  },
  {
   "cell_type": "markdown",
   "id": "b28748d1",
   "metadata": {},
   "source": [
    "## Clean the Data"
   ]
  },
  {
   "cell_type": "code",
   "execution_count": 20,
   "id": "ae2074b6",
   "metadata": {},
   "outputs": [
    {
     "data": {
      "text/plain": [
       "Company Name          object\n",
       "Status                object\n",
       "Ship Date             object\n",
       "City                  object\n",
       "State                 object\n",
       "Zip                   object\n",
       "Shipping Service      object\n",
       "Created Date          object\n",
       "Weight               float64\n",
       "Item/Bottle Count    float64\n",
       "dtype: object"
      ]
     },
     "execution_count": 20,
     "metadata": {},
     "output_type": "execute_result"
    }
   ],
   "source": [
    "#Change [\"Item/Bottle Count\"] to float64 type in df_2020_10.\n",
    "df_2020_10[\"Item/Bottle Count\"]=df_2020_10[\"Item/Bottle Count\"].astype(float)\n",
    "df_2020_10.dtypes"
   ]
  },
  {
   "cell_type": "code",
   "execution_count": 21,
   "id": "2de5f1ce",
   "metadata": {},
   "outputs": [
    {
     "data": {
      "text/html": [
       "<div>\n",
       "<style scoped>\n",
       "    .dataframe tbody tr th:only-of-type {\n",
       "        vertical-align: middle;\n",
       "    }\n",
       "\n",
       "    .dataframe tbody tr th {\n",
       "        vertical-align: top;\n",
       "    }\n",
       "\n",
       "    .dataframe thead th {\n",
       "        text-align: right;\n",
       "    }\n",
       "</style>\n",
       "<table border=\"1\" class=\"dataframe\">\n",
       "  <thead>\n",
       "    <tr style=\"text-align: right;\">\n",
       "      <th></th>\n",
       "      <th>Company Name</th>\n",
       "      <th>Ship Date</th>\n",
       "      <th>City</th>\n",
       "      <th>State</th>\n",
       "      <th>Zip</th>\n",
       "      <th>Shipping Service</th>\n",
       "      <th>Created Date</th>\n",
       "      <th>Weight</th>\n",
       "      <th>Item/Bottle Count</th>\n",
       "    </tr>\n",
       "  </thead>\n",
       "  <tbody>\n",
       "    <tr>\n",
       "      <th>0</th>\n",
       "      <td>Ecom1</td>\n",
       "      <td>10/2/20</td>\n",
       "      <td>Albuquerque</td>\n",
       "      <td>NM</td>\n",
       "      <td>87111</td>\n",
       "      <td>FEH</td>\n",
       "      <td>9/25/20</td>\n",
       "      <td>10.5</td>\n",
       "      <td>3.0</td>\n",
       "    </tr>\n",
       "    <tr>\n",
       "      <th>1</th>\n",
       "      <td>Ecom1</td>\n",
       "      <td>10/2/20</td>\n",
       "      <td>San Francisco</td>\n",
       "      <td>CA</td>\n",
       "      <td>94123</td>\n",
       "      <td>FEH</td>\n",
       "      <td>9/25/20</td>\n",
       "      <td>10.5</td>\n",
       "      <td>3.0</td>\n",
       "    </tr>\n",
       "    <tr>\n",
       "      <th>2</th>\n",
       "      <td>Ecom1</td>\n",
       "      <td>10/2/20</td>\n",
       "      <td>Carlsbad</td>\n",
       "      <td>CA</td>\n",
       "      <td>92011</td>\n",
       "      <td>FEH</td>\n",
       "      <td>9/24/20</td>\n",
       "      <td>10.5</td>\n",
       "      <td>3.0</td>\n",
       "    </tr>\n",
       "    <tr>\n",
       "      <th>3</th>\n",
       "      <td>Ecom1</td>\n",
       "      <td>10/2/20</td>\n",
       "      <td>Roseville</td>\n",
       "      <td>CA</td>\n",
       "      <td>95747</td>\n",
       "      <td>FEH</td>\n",
       "      <td>9/24/20</td>\n",
       "      <td>10.5</td>\n",
       "      <td>3.0</td>\n",
       "    </tr>\n",
       "    <tr>\n",
       "      <th>4</th>\n",
       "      <td>Ecom1</td>\n",
       "      <td>10/2/20</td>\n",
       "      <td>Como</td>\n",
       "      <td>CO</td>\n",
       "      <td>80432</td>\n",
       "      <td>FEH</td>\n",
       "      <td>9/28/20</td>\n",
       "      <td>18.2</td>\n",
       "      <td>8.0</td>\n",
       "    </tr>\n",
       "    <tr>\n",
       "      <th>...</th>\n",
       "      <td>...</td>\n",
       "      <td>...</td>\n",
       "      <td>...</td>\n",
       "      <td>...</td>\n",
       "      <td>...</td>\n",
       "      <td>...</td>\n",
       "      <td>...</td>\n",
       "      <td>...</td>\n",
       "      <td>...</td>\n",
       "    </tr>\n",
       "    <tr>\n",
       "      <th>19929</th>\n",
       "      <td>Ecom3</td>\n",
       "      <td>10/26/20</td>\n",
       "      <td>Honolulu</td>\n",
       "      <td>HI</td>\n",
       "      <td>96815</td>\n",
       "      <td>UPS</td>\n",
       "      <td>10/25/20</td>\n",
       "      <td>21.5</td>\n",
       "      <td>6.0</td>\n",
       "    </tr>\n",
       "    <tr>\n",
       "      <th>19930</th>\n",
       "      <td>Ecom3</td>\n",
       "      <td>10/26/20</td>\n",
       "      <td>Temperance</td>\n",
       "      <td>MI</td>\n",
       "      <td>48182</td>\n",
       "      <td>UPS</td>\n",
       "      <td>10/25/20</td>\n",
       "      <td>21.5</td>\n",
       "      <td>6.0</td>\n",
       "    </tr>\n",
       "    <tr>\n",
       "      <th>19931</th>\n",
       "      <td>Ecom3</td>\n",
       "      <td>10/29/20</td>\n",
       "      <td>NAPLES</td>\n",
       "      <td>FL</td>\n",
       "      <td>34103</td>\n",
       "      <td>UPS</td>\n",
       "      <td>10/28/20</td>\n",
       "      <td>21.5</td>\n",
       "      <td>6.0</td>\n",
       "    </tr>\n",
       "    <tr>\n",
       "      <th>19932</th>\n",
       "      <td>Ecom3</td>\n",
       "      <td>10/26/20</td>\n",
       "      <td>Atlanta</td>\n",
       "      <td>GA</td>\n",
       "      <td>30342</td>\n",
       "      <td>UPS</td>\n",
       "      <td>10/25/20</td>\n",
       "      <td>21.5</td>\n",
       "      <td>6.0</td>\n",
       "    </tr>\n",
       "    <tr>\n",
       "      <th>19933</th>\n",
       "      <td>Ecom3</td>\n",
       "      <td>10/27/20</td>\n",
       "      <td>Simi Valley</td>\n",
       "      <td>CA</td>\n",
       "      <td>93063</td>\n",
       "      <td>UPS</td>\n",
       "      <td>10/26/20</td>\n",
       "      <td>21.5</td>\n",
       "      <td>6.0</td>\n",
       "    </tr>\n",
       "  </tbody>\n",
       "</table>\n",
       "<p>19934 rows × 9 columns</p>\n",
       "</div>"
      ],
      "text/plain": [
       "      Company Name Ship Date           City State    Zip Shipping Service  \\\n",
       "0            Ecom1   10/2/20    Albuquerque    NM  87111              FEH   \n",
       "1            Ecom1   10/2/20  San Francisco    CA  94123              FEH   \n",
       "2            Ecom1   10/2/20       Carlsbad    CA  92011              FEH   \n",
       "3            Ecom1   10/2/20      Roseville    CA  95747              FEH   \n",
       "4            Ecom1   10/2/20           Como    CO  80432              FEH   \n",
       "...            ...       ...            ...   ...    ...              ...   \n",
       "19929        Ecom3  10/26/20       Honolulu    HI  96815              UPS   \n",
       "19930        Ecom3  10/26/20     Temperance    MI  48182              UPS   \n",
       "19931        Ecom3  10/29/20         NAPLES    FL  34103              UPS   \n",
       "19932        Ecom3  10/26/20        Atlanta    GA  30342              UPS   \n",
       "19933        Ecom3  10/27/20    Simi Valley    CA  93063              UPS   \n",
       "\n",
       "      Created Date  Weight  Item/Bottle Count  \n",
       "0          9/25/20    10.5                3.0  \n",
       "1          9/25/20    10.5                3.0  \n",
       "2          9/24/20    10.5                3.0  \n",
       "3          9/24/20    10.5                3.0  \n",
       "4          9/28/20    18.2                8.0  \n",
       "...            ...     ...                ...  \n",
       "19929     10/25/20    21.5                6.0  \n",
       "19930     10/25/20    21.5                6.0  \n",
       "19931     10/28/20    21.5                6.0  \n",
       "19932     10/25/20    21.5                6.0  \n",
       "19933     10/26/20    21.5                6.0  \n",
       "\n",
       "[19934 rows x 9 columns]"
      ]
     },
     "execution_count": 21,
     "metadata": {},
     "output_type": "execute_result"
    }
   ],
   "source": [
    "#Remove \"Status\" column from df_2020_10.\n",
    "df_2020_10 = df_2020_10.drop('Status', axis=1)\n",
    "df_2020_10"
   ]
  },
  {
   "cell_type": "code",
   "execution_count": 22,
   "id": "0374b7d7",
   "metadata": {},
   "outputs": [],
   "source": [
    "# Drop the NaNs for df_2020_10.\n",
    "df_2020_10 = df_2020_10.dropna()"
   ]
  },
  {
   "cell_type": "markdown",
   "id": "b54ac18d",
   "metadata": {},
   "source": [
    "## Confirm Changes"
   ]
  },
  {
   "cell_type": "code",
   "execution_count": 23,
   "id": "717b65ec",
   "metadata": {},
   "outputs": [
    {
     "data": {
      "text/html": [
       "<div>\n",
       "<style scoped>\n",
       "    .dataframe tbody tr th:only-of-type {\n",
       "        vertical-align: middle;\n",
       "    }\n",
       "\n",
       "    .dataframe tbody tr th {\n",
       "        vertical-align: top;\n",
       "    }\n",
       "\n",
       "    .dataframe thead th {\n",
       "        text-align: right;\n",
       "    }\n",
       "</style>\n",
       "<table border=\"1\" class=\"dataframe\">\n",
       "  <thead>\n",
       "    <tr style=\"text-align: right;\">\n",
       "      <th></th>\n",
       "      <th>Company Name</th>\n",
       "      <th>Ship Date</th>\n",
       "      <th>City</th>\n",
       "      <th>State</th>\n",
       "      <th>Zip</th>\n",
       "      <th>Shipping Service</th>\n",
       "      <th>Created Date</th>\n",
       "      <th>Weight</th>\n",
       "      <th>Item/Bottle Count</th>\n",
       "    </tr>\n",
       "  </thead>\n",
       "  <tbody>\n",
       "    <tr>\n",
       "      <th>17623</th>\n",
       "      <td>Winery1</td>\n",
       "      <td>10/31/20</td>\n",
       "      <td>Mayfield Heights</td>\n",
       "      <td>OH</td>\n",
       "      <td>44124</td>\n",
       "      <td>UPS</td>\n",
       "      <td>10/27/20</td>\n",
       "      <td>7.0</td>\n",
       "      <td>2.0</td>\n",
       "    </tr>\n",
       "    <tr>\n",
       "      <th>9978</th>\n",
       "      <td>Ecom2</td>\n",
       "      <td>10/22/20</td>\n",
       "      <td>Charlotte</td>\n",
       "      <td>NC</td>\n",
       "      <td>28211</td>\n",
       "      <td>FEH</td>\n",
       "      <td>10/20/20</td>\n",
       "      <td>7.0</td>\n",
       "      <td>2.0</td>\n",
       "    </tr>\n",
       "    <tr>\n",
       "      <th>1011</th>\n",
       "      <td>Ecom1</td>\n",
       "      <td>10/5/20</td>\n",
       "      <td>HOUSTON</td>\n",
       "      <td>TX</td>\n",
       "      <td>77099</td>\n",
       "      <td>FXG</td>\n",
       "      <td>10/4/20</td>\n",
       "      <td>10.5</td>\n",
       "      <td>3.0</td>\n",
       "    </tr>\n",
       "    <tr>\n",
       "      <th>13182</th>\n",
       "      <td>Ecom2</td>\n",
       "      <td>10/23/20</td>\n",
       "      <td>Rutherford</td>\n",
       "      <td>NJ</td>\n",
       "      <td>7070</td>\n",
       "      <td>FEH</td>\n",
       "      <td>10/20/20</td>\n",
       "      <td>7.0</td>\n",
       "      <td>2.0</td>\n",
       "    </tr>\n",
       "    <tr>\n",
       "      <th>974</th>\n",
       "      <td>Ecom1</td>\n",
       "      <td>10/5/20</td>\n",
       "      <td>South Deerfield</td>\n",
       "      <td>MA</td>\n",
       "      <td>1373</td>\n",
       "      <td>UPS</td>\n",
       "      <td>10/4/20</td>\n",
       "      <td>10.5</td>\n",
       "      <td>3.0</td>\n",
       "    </tr>\n",
       "  </tbody>\n",
       "</table>\n",
       "</div>"
      ],
      "text/plain": [
       "      Company Name Ship Date              City State    Zip Shipping Service  \\\n",
       "17623      Winery1  10/31/20  Mayfield Heights    OH  44124              UPS   \n",
       "9978         Ecom2  10/22/20         Charlotte    NC  28211              FEH   \n",
       "1011         Ecom1   10/5/20           HOUSTON    TX  77099              FXG   \n",
       "13182        Ecom2  10/23/20        Rutherford    NJ   7070              FEH   \n",
       "974          Ecom1   10/5/20   South Deerfield    MA   1373              UPS   \n",
       "\n",
       "      Created Date  Weight  Item/Bottle Count  \n",
       "17623     10/27/20     7.0                2.0  \n",
       "9978      10/20/20     7.0                2.0  \n",
       "1011       10/4/20    10.5                3.0  \n",
       "13182     10/20/20     7.0                2.0  \n",
       "974        10/4/20    10.5                3.0  "
      ]
     },
     "execution_count": 23,
     "metadata": {},
     "output_type": "execute_result"
    }
   ],
   "source": [
    "#See five random rows of data\n",
    "df_2020_10.sample(n=5)"
   ]
  },
  {
   "cell_type": "code",
   "execution_count": 24,
   "id": "2f59ad5f",
   "metadata": {},
   "outputs": [
    {
     "name": "stdout",
     "output_type": "stream",
     "text": [
      "Number of Rows:  19934\n",
      "Number of Columns:  9\n"
     ]
    }
   ],
   "source": [
    "#Determine total rows for df_2020_10.\n",
    "df_2020_10_rows = len(df_2020_10.axes[0])\n",
    "df_2020_10_cols = len(df_2020_10.axes[1])\n",
    "print(\"Number of Rows: \", df_2020_10_rows)\n",
    "print(\"Number of Columns: \", df_2020_10_cols)"
   ]
  },
  {
   "cell_type": "markdown",
   "id": "625b4837",
   "metadata": {},
   "source": [
    "## Export Cleaned df to .CSV"
   ]
  },
  {
   "cell_type": "code",
   "execution_count": 25,
   "id": "f5a7980c",
   "metadata": {},
   "outputs": [],
   "source": [
    "#Export df_2020_10 to .csv\n",
    "df_2020_10.to_csv('../cleaned_months_2020/Clean_2020_10.csv') "
   ]
  },
  {
   "cell_type": "code",
   "execution_count": null,
   "id": "aafdefb9",
   "metadata": {},
   "outputs": [],
   "source": []
  }
 ],
 "metadata": {
  "kernelspec": {
   "display_name": "Python 3 (ipykernel)",
   "language": "python",
   "name": "python3"
  },
  "language_info": {
   "codemirror_mode": {
    "name": "ipython",
    "version": 3
   },
   "file_extension": ".py",
   "mimetype": "text/x-python",
   "name": "python",
   "nbconvert_exporter": "python",
   "pygments_lexer": "ipython3",
   "version": "3.7.13"
  }
 },
 "nbformat": 4,
 "nbformat_minor": 5
}
