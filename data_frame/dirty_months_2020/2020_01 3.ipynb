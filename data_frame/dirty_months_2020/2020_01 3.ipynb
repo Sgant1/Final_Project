{
 "cells": [
  {
   "cell_type": "code",
   "execution_count": 1,
   "id": "0ee3ff94",
   "metadata": {},
   "outputs": [],
   "source": [
    "#Pandas library to create DataFrames\n",
    "import pandas as pd\n",
    "#NumPy library for converting data types\n",
    "import numpy as np"
   ]
  },
  {
   "cell_type": "code",
   "execution_count": 12,
   "id": "43de2e17",
   "metadata": {},
   "outputs": [],
   "source": [
    "# Files to load\n",
    "load_2020_01 = \"../../2020_Data/2020.01copy.csv\""
   ]
  },
  {
   "cell_type": "code",
   "execution_count": 15,
   "id": "0006005e",
   "metadata": {},
   "outputs": [
    {
     "data": {
      "text/html": [
       "<div>\n",
       "<style scoped>\n",
       "    .dataframe tbody tr th:only-of-type {\n",
       "        vertical-align: middle;\n",
       "    }\n",
       "\n",
       "    .dataframe tbody tr th {\n",
       "        vertical-align: top;\n",
       "    }\n",
       "\n",
       "    .dataframe thead th {\n",
       "        text-align: right;\n",
       "    }\n",
       "</style>\n",
       "<table border=\"1\" class=\"dataframe\">\n",
       "  <thead>\n",
       "    <tr style=\"text-align: right;\">\n",
       "      <th></th>\n",
       "      <th>Company Name</th>\n",
       "      <th>Status</th>\n",
       "      <th>Ship Date</th>\n",
       "      <th>City</th>\n",
       "      <th>State</th>\n",
       "      <th>Zip</th>\n",
       "      <th>Shipping Service</th>\n",
       "      <th>Created Date</th>\n",
       "      <th>Weight</th>\n",
       "      <th>Item/Bottle Count</th>\n",
       "    </tr>\n",
       "  </thead>\n",
       "  <tbody>\n",
       "    <tr>\n",
       "      <th>0</th>\n",
       "      <td>Ecom3</td>\n",
       "      <td>In Transit</td>\n",
       "      <td>1/2/20</td>\n",
       "      <td>Plantation</td>\n",
       "      <td>FL</td>\n",
       "      <td>33325</td>\n",
       "      <td>UPS</td>\n",
       "      <td>1/1/20</td>\n",
       "      <td>9.9</td>\n",
       "      <td>3.0</td>\n",
       "    </tr>\n",
       "    <tr>\n",
       "      <th>1</th>\n",
       "      <td>Ecom3</td>\n",
       "      <td>Carrier Exception</td>\n",
       "      <td>1/2/20</td>\n",
       "      <td>Lafayette</td>\n",
       "      <td>CA</td>\n",
       "      <td>94549</td>\n",
       "      <td>UPS</td>\n",
       "      <td>12/31/19</td>\n",
       "      <td>35.0</td>\n",
       "      <td>10.0</td>\n",
       "    </tr>\n",
       "    <tr>\n",
       "      <th>2</th>\n",
       "      <td>Ecom3</td>\n",
       "      <td>Delivered</td>\n",
       "      <td>1/2/20</td>\n",
       "      <td>New York</td>\n",
       "      <td>NY</td>\n",
       "      <td>10022</td>\n",
       "      <td>FEH</td>\n",
       "      <td>1/1/20</td>\n",
       "      <td>29.0</td>\n",
       "      <td>8.0</td>\n",
       "    </tr>\n",
       "    <tr>\n",
       "      <th>3</th>\n",
       "      <td>Ecom3</td>\n",
       "      <td>Delivered</td>\n",
       "      <td>1/3/20</td>\n",
       "      <td>New York</td>\n",
       "      <td>NY</td>\n",
       "      <td>10006</td>\n",
       "      <td>FEH</td>\n",
       "      <td>1/2/20</td>\n",
       "      <td>21.5</td>\n",
       "      <td>6.0</td>\n",
       "    </tr>\n",
       "    <tr>\n",
       "      <th>4</th>\n",
       "      <td>Ecom3</td>\n",
       "      <td>In Transit</td>\n",
       "      <td>1/2/20</td>\n",
       "      <td>Walkersville</td>\n",
       "      <td>MD</td>\n",
       "      <td>21793</td>\n",
       "      <td>FXG</td>\n",
       "      <td>12/31/19</td>\n",
       "      <td>41.0</td>\n",
       "      <td>12.0</td>\n",
       "    </tr>\n",
       "  </tbody>\n",
       "</table>\n",
       "</div>"
      ],
      "text/plain": [
       "  Company Name             Status Ship Date          City State    Zip  \\\n",
       "0        Ecom3         In Transit    1/2/20    Plantation    FL  33325   \n",
       "1        Ecom3  Carrier Exception    1/2/20     Lafayette    CA  94549   \n",
       "2        Ecom3          Delivered    1/2/20      New York    NY  10022   \n",
       "3        Ecom3          Delivered    1/3/20      New York    NY  10006   \n",
       "4        Ecom3         In Transit    1/2/20  Walkersville    MD  21793   \n",
       "\n",
       "  Shipping Service Created Date  Weight  Item/Bottle Count  \n",
       "0              UPS       1/1/20     9.9                3.0  \n",
       "1              UPS     12/31/19    35.0               10.0  \n",
       "2              FEH       1/1/20    29.0                8.0  \n",
       "3              FEH       1/2/20    21.5                6.0  \n",
       "4              FXG     12/31/19    41.0               12.0  "
      ]
     },
     "execution_count": 15,
     "metadata": {},
     "output_type": "execute_result"
    }
   ],
   "source": [
    "# Read the January CSV into a DataFrame\n",
    "#Had to open each file in excel and save it as a .csv file instead of an .xlsm file in order for the encryption to be read properly.\n",
    "df_2020_01 = pd.read_csv(load_2020_01, encoding =\"utf8\")\n",
    "df_2020_01.head()"
   ]
  },
  {
   "cell_type": "markdown",
   "id": "83dcaaf9",
   "metadata": {},
   "source": [
    "## Inspect the Data"
   ]
  },
  {
   "cell_type": "code",
   "execution_count": 16,
   "id": "57327ad0",
   "metadata": {},
   "outputs": [
    {
     "data": {
      "text/html": [
       "<div>\n",
       "<style scoped>\n",
       "    .dataframe tbody tr th:only-of-type {\n",
       "        vertical-align: middle;\n",
       "    }\n",
       "\n",
       "    .dataframe tbody tr th {\n",
       "        vertical-align: top;\n",
       "    }\n",
       "\n",
       "    .dataframe thead th {\n",
       "        text-align: right;\n",
       "    }\n",
       "</style>\n",
       "<table border=\"1\" class=\"dataframe\">\n",
       "  <thead>\n",
       "    <tr style=\"text-align: right;\">\n",
       "      <th></th>\n",
       "      <th>Company Name</th>\n",
       "      <th>Status</th>\n",
       "      <th>Ship Date</th>\n",
       "      <th>City</th>\n",
       "      <th>State</th>\n",
       "      <th>Zip</th>\n",
       "      <th>Shipping Service</th>\n",
       "      <th>Created Date</th>\n",
       "      <th>Weight</th>\n",
       "      <th>Item/Bottle Count</th>\n",
       "    </tr>\n",
       "  </thead>\n",
       "  <tbody>\n",
       "    <tr>\n",
       "      <th>11838</th>\n",
       "      <td>Ecom2</td>\n",
       "      <td>Manifest</td>\n",
       "      <td>1/23/20</td>\n",
       "      <td>New York</td>\n",
       "      <td>NY</td>\n",
       "      <td>10013</td>\n",
       "      <td>FEH</td>\n",
       "      <td>NaN</td>\n",
       "      <td>NaN</td>\n",
       "      <td>NaN</td>\n",
       "    </tr>\n",
       "    <tr>\n",
       "      <th>3669</th>\n",
       "      <td>Ecom3</td>\n",
       "      <td>Delivered</td>\n",
       "      <td>1/20/20</td>\n",
       "      <td>Tega Cay</td>\n",
       "      <td>SC</td>\n",
       "      <td>29708</td>\n",
       "      <td>UPS</td>\n",
       "      <td>1/18/20</td>\n",
       "      <td>3.35</td>\n",
       "      <td>1.0</td>\n",
       "    </tr>\n",
       "    <tr>\n",
       "      <th>16509</th>\n",
       "      <td>Ecom1</td>\n",
       "      <td>In Transit</td>\n",
       "      <td>1/30/20</td>\n",
       "      <td>Indianapolis</td>\n",
       "      <td>IN</td>\n",
       "      <td>46204</td>\n",
       "      <td>FXG</td>\n",
       "      <td>1/29/20</td>\n",
       "      <td>10.50</td>\n",
       "      <td>3.0</td>\n",
       "    </tr>\n",
       "    <tr>\n",
       "      <th>16595</th>\n",
       "      <td>Ecom1</td>\n",
       "      <td>In Transit</td>\n",
       "      <td>1/30/20</td>\n",
       "      <td>Granite Falls</td>\n",
       "      <td>NC</td>\n",
       "      <td>28630</td>\n",
       "      <td>FXG</td>\n",
       "      <td>1/28/20</td>\n",
       "      <td>39.00</td>\n",
       "      <td>12.0</td>\n",
       "    </tr>\n",
       "    <tr>\n",
       "      <th>13708</th>\n",
       "      <td>Ecom3</td>\n",
       "      <td>In Transit</td>\n",
       "      <td>1/31/20</td>\n",
       "      <td>Western Springs</td>\n",
       "      <td>IL</td>\n",
       "      <td>60558</td>\n",
       "      <td>UPS</td>\n",
       "      <td>1/29/20</td>\n",
       "      <td>9.90</td>\n",
       "      <td>3.0</td>\n",
       "    </tr>\n",
       "  </tbody>\n",
       "</table>\n",
       "</div>"
      ],
      "text/plain": [
       "      Company Name      Status Ship Date             City State    Zip  \\\n",
       "11838        Ecom2    Manifest   1/23/20         New York    NY  10013   \n",
       "3669         Ecom3   Delivered   1/20/20         Tega Cay    SC  29708   \n",
       "16509        Ecom1  In Transit   1/30/20     Indianapolis    IN  46204   \n",
       "16595        Ecom1  In Transit   1/30/20    Granite Falls    NC  28630   \n",
       "13708        Ecom3  In Transit   1/31/20  Western Springs    IL  60558   \n",
       "\n",
       "      Shipping Service Created Date  Weight  Item/Bottle Count  \n",
       "11838              FEH          NaN     NaN                NaN  \n",
       "3669               UPS      1/18/20    3.35                1.0  \n",
       "16509              FXG      1/29/20   10.50                3.0  \n",
       "16595              FXG      1/28/20   39.00               12.0  \n",
       "13708              UPS      1/29/20    9.90                3.0  "
      ]
     },
     "execution_count": 16,
     "metadata": {},
     "output_type": "execute_result"
    }
   ],
   "source": [
    "#See five random rows of data\n",
    "df_2020_01.sample(n=5)"
   ]
  },
  {
   "cell_type": "code",
   "execution_count": 17,
   "id": "bc4ba2a9",
   "metadata": {},
   "outputs": [
    {
     "data": {
      "text/html": [
       "<div>\n",
       "<style scoped>\n",
       "    .dataframe tbody tr th:only-of-type {\n",
       "        vertical-align: middle;\n",
       "    }\n",
       "\n",
       "    .dataframe tbody tr th {\n",
       "        vertical-align: top;\n",
       "    }\n",
       "\n",
       "    .dataframe thead th {\n",
       "        text-align: right;\n",
       "    }\n",
       "</style>\n",
       "<table border=\"1\" class=\"dataframe\">\n",
       "  <thead>\n",
       "    <tr style=\"text-align: right;\">\n",
       "      <th></th>\n",
       "      <th>Company Name</th>\n",
       "      <th>Status</th>\n",
       "      <th>Ship Date</th>\n",
       "      <th>City</th>\n",
       "      <th>State</th>\n",
       "      <th>Zip</th>\n",
       "      <th>Shipping Service</th>\n",
       "      <th>Created Date</th>\n",
       "      <th>Weight</th>\n",
       "      <th>Item/Bottle Count</th>\n",
       "    </tr>\n",
       "  </thead>\n",
       "  <tbody>\n",
       "    <tr>\n",
       "      <th>16992</th>\n",
       "      <td>Winery3</td>\n",
       "      <td>NaN</td>\n",
       "      <td>43857</td>\n",
       "      <td>Jersey City</td>\n",
       "      <td>NJ</td>\n",
       "      <td>7302</td>\n",
       "      <td>UPS</td>\n",
       "      <td>NaN</td>\n",
       "      <td>NaN</td>\n",
       "      <td>NaN</td>\n",
       "    </tr>\n",
       "    <tr>\n",
       "      <th>16993</th>\n",
       "      <td>Winery3</td>\n",
       "      <td>NaN</td>\n",
       "      <td>43861</td>\n",
       "      <td>Corrales</td>\n",
       "      <td>NM</td>\n",
       "      <td>87048</td>\n",
       "      <td>UPS</td>\n",
       "      <td>NaN</td>\n",
       "      <td>NaN</td>\n",
       "      <td>NaN</td>\n",
       "    </tr>\n",
       "    <tr>\n",
       "      <th>16994</th>\n",
       "      <td>Winery3</td>\n",
       "      <td>NaN</td>\n",
       "      <td>43861</td>\n",
       "      <td>Scarborough</td>\n",
       "      <td>NY</td>\n",
       "      <td>10510</td>\n",
       "      <td>UPS</td>\n",
       "      <td>NaN</td>\n",
       "      <td>NaN</td>\n",
       "      <td>NaN</td>\n",
       "    </tr>\n",
       "    <tr>\n",
       "      <th>16995</th>\n",
       "      <td>Winery3</td>\n",
       "      <td>NaN</td>\n",
       "      <td>43861</td>\n",
       "      <td>Scarborough</td>\n",
       "      <td>NY</td>\n",
       "      <td>10510</td>\n",
       "      <td>UPS</td>\n",
       "      <td>NaN</td>\n",
       "      <td>NaN</td>\n",
       "      <td>NaN</td>\n",
       "    </tr>\n",
       "    <tr>\n",
       "      <th>16996</th>\n",
       "      <td>Winery3</td>\n",
       "      <td>NaN</td>\n",
       "      <td>43857</td>\n",
       "      <td>Napa</td>\n",
       "      <td>CA</td>\n",
       "      <td>94558</td>\n",
       "      <td>WCU</td>\n",
       "      <td>NaN</td>\n",
       "      <td>NaN</td>\n",
       "      <td>NaN</td>\n",
       "    </tr>\n",
       "  </tbody>\n",
       "</table>\n",
       "</div>"
      ],
      "text/plain": [
       "      Company Name Status Ship Date         City State    Zip  \\\n",
       "16992      Winery3    NaN     43857  Jersey City    NJ   7302   \n",
       "16993      Winery3    NaN     43861     Corrales    NM  87048   \n",
       "16994      Winery3    NaN     43861  Scarborough    NY  10510   \n",
       "16995      Winery3    NaN     43861  Scarborough    NY  10510   \n",
       "16996      Winery3    NaN     43857         Napa    CA  94558   \n",
       "\n",
       "      Shipping Service Created Date  Weight  Item/Bottle Count  \n",
       "16992              UPS          NaN     NaN                NaN  \n",
       "16993              UPS          NaN     NaN                NaN  \n",
       "16994              UPS          NaN     NaN                NaN  \n",
       "16995              UPS          NaN     NaN                NaN  \n",
       "16996              WCU          NaN     NaN                NaN  "
      ]
     },
     "execution_count": 17,
     "metadata": {},
     "output_type": "execute_result"
    }
   ],
   "source": [
    "#See the last rows of data\n",
    "df_2020_01.tail(5)"
   ]
  },
  {
   "cell_type": "code",
   "execution_count": 18,
   "id": "d7373d6d",
   "metadata": {},
   "outputs": [
    {
     "data": {
      "text/plain": [
       "Index(['Company Name', 'Status', 'Ship Date', 'City', 'State', 'Zip',\n",
       "       'Shipping Service', 'Created Date', 'Weight', 'Item/Bottle Count'],\n",
       "      dtype='object')"
      ]
     },
     "execution_count": 18,
     "metadata": {},
     "output_type": "execute_result"
    }
   ],
   "source": [
    "df_2020_01.columns"
   ]
  },
  {
   "cell_type": "code",
   "execution_count": 19,
   "id": "b8417480",
   "metadata": {},
   "outputs": [
    {
     "name": "stdout",
     "output_type": "stream",
     "text": [
      "Number of Rows:  16997\n",
      "Number of Columns:  10\n"
     ]
    }
   ],
   "source": [
    "#Determine total rows for df_2020_01.\n",
    "df_2020_01_rows = len(df_2020_01.axes[0])\n",
    "df_2020_01_cols = len(df_2020_01.axes[1])\n",
    "print(\"Number of Rows: \", df_2020_01_rows)\n",
    "print(\"Number of Columns: \", df_2020_01_cols)"
   ]
  },
  {
   "cell_type": "code",
   "execution_count": 20,
   "id": "dee72ae5",
   "metadata": {},
   "outputs": [
    {
     "data": {
      "text/plain": [
       "Company Name            0\n",
       "Status                 42\n",
       "Ship Date               0\n",
       "City                    0\n",
       "State                   0\n",
       "Zip                     0\n",
       "Shipping Service        0\n",
       "Created Date         9317\n",
       "Weight               9317\n",
       "Item/Bottle Count    9317\n",
       "dtype: int64"
      ]
     },
     "execution_count": 20,
     "metadata": {},
     "output_type": "execute_result"
    }
   ],
   "source": [
    "# Determine if there are any missing values in df_2020_01.\n",
    "df_2020_01.isnull().sum()\n",
    "#All of Winery3 has null values and will be deleted when Nan's get removed. Waiting to get updated data."
   ]
  },
  {
   "cell_type": "code",
   "execution_count": 21,
   "id": "e4aa45ce",
   "metadata": {},
   "outputs": [
    {
     "data": {
      "text/plain": [
       "Company Name          object\n",
       "Status                object\n",
       "Ship Date             object\n",
       "City                  object\n",
       "State                 object\n",
       "Zip                   object\n",
       "Shipping Service      object\n",
       "Created Date          object\n",
       "Weight               float64\n",
       "Item/Bottle Count    float64\n",
       "dtype: object"
      ]
     },
     "execution_count": 21,
     "metadata": {},
     "output_type": "execute_result"
    }
   ],
   "source": [
    "# Determine data types for df_2020_01.\n",
    "df_2020_01.dtypes"
   ]
  },
  {
   "cell_type": "code",
   "execution_count": 22,
   "id": "ce126503",
   "metadata": {},
   "outputs": [
    {
     "data": {
      "text/plain": [
       "Ecom2      9275\n",
       "Ecom3      5210\n",
       "Ecom1      2230\n",
       "Winery1     203\n",
       "Winery3      42\n",
       "Winery2      37\n",
       "Name: Company Name, dtype: int64"
      ]
     },
     "execution_count": 22,
     "metadata": {},
     "output_type": "execute_result"
    }
   ],
   "source": [
    "df_2020_01['Company Name'].value_counts()"
   ]
  },
  {
   "cell_type": "code",
   "execution_count": null,
   "id": "0a521509",
   "metadata": {},
   "outputs": [],
   "source": [
    "df_2020_01['Ship Date'].value_counts()"
   ]
  },
  {
   "cell_type": "code",
   "execution_count": null,
   "id": "b8789edb",
   "metadata": {},
   "outputs": [],
   "source": [
    "df_2020_01['Status'].value_counts()"
   ]
  },
  {
   "cell_type": "code",
   "execution_count": null,
   "id": "5c24a22b",
   "metadata": {},
   "outputs": [],
   "source": [
    "df_2020_01['City'].value_counts()"
   ]
  },
  {
   "cell_type": "code",
   "execution_count": null,
   "id": "50ee4539",
   "metadata": {},
   "outputs": [],
   "source": [
    "df_2020_01['State'].value_counts()"
   ]
  },
  {
   "cell_type": "code",
   "execution_count": null,
   "id": "6a27c6dd",
   "metadata": {},
   "outputs": [],
   "source": [
    "df_2020_01['Zip'].value_counts()"
   ]
  },
  {
   "cell_type": "code",
   "execution_count": null,
   "id": "93a3d82a",
   "metadata": {},
   "outputs": [],
   "source": [
    "df_2020_01['Shipping Service'].value_counts()"
   ]
  },
  {
   "cell_type": "code",
   "execution_count": null,
   "id": "f31c6641",
   "metadata": {},
   "outputs": [],
   "source": [
    "df_2020_01['Created Date'].value_counts()\n",
    "#Ok to have dates from other months- Sometimes people will create an order and hold onto it until an adult is present to sign for delivery."
   ]
  },
  {
   "cell_type": "code",
   "execution_count": null,
   "id": "8ebe2d26",
   "metadata": {},
   "outputs": [],
   "source": [
    "df_2020_01['Weight'].value_counts()"
   ]
  },
  {
   "cell_type": "code",
   "execution_count": null,
   "id": "356cd94a",
   "metadata": {},
   "outputs": [],
   "source": [
    "df_2020_01['Item/Bottle Count'].value_counts()"
   ]
  },
  {
   "cell_type": "markdown",
   "id": "68f6fedc",
   "metadata": {},
   "source": [
    "## Clean the Data"
   ]
  },
  {
   "cell_type": "code",
   "execution_count": null,
   "id": "7344c4a2",
   "metadata": {},
   "outputs": [],
   "source": [
    "#Change dtypes if necessary"
   ]
  },
  {
   "cell_type": "code",
   "execution_count": null,
   "id": "02ffce8c",
   "metadata": {},
   "outputs": [],
   "source": [
    "#Remove \"Status\" column from df_2020_01.\n",
    "df_2020_01 = df_2020_01.drop('Status', axis=1)\n",
    "df_2020_01"
   ]
  },
  {
   "cell_type": "code",
   "execution_count": null,
   "id": "bbb59fc5",
   "metadata": {},
   "outputs": [],
   "source": [
    "# Drop the NaNs for df_2020_01.\n",
    "df_2020_01 = df_2020_01.dropna()"
   ]
  },
  {
   "cell_type": "markdown",
   "id": "946b6578",
   "metadata": {},
   "source": [
    "## Confirm Changes"
   ]
  },
  {
   "cell_type": "code",
   "execution_count": null,
   "id": "24f52aa4",
   "metadata": {},
   "outputs": [],
   "source": [
    "#See five random rows of data\n",
    "df_2020_01.sample(n=5)"
   ]
  },
  {
   "cell_type": "code",
   "execution_count": null,
   "id": "a61f9697",
   "metadata": {},
   "outputs": [],
   "source": [
    "#Determine total rows for df_2020_01.\n",
    "df_2020_01_rows = len(df_2020_01.axes[0])\n",
    "df_2020_01_cols = len(df_2020_01.axes[1])\n",
    "print(\"Number of Rows: \", df_2020_01_rows)\n",
    "print(\"Number of Columns: \", df_2020_01_cols)"
   ]
  },
  {
   "cell_type": "code",
   "execution_count": null,
   "id": "5baf6d0d",
   "metadata": {},
   "outputs": [],
   "source": [
    "df_2020_01['Company Name'].value_counts()\n",
    "#Missing all of Winery3 since Winery3 has a bunch of null values that were removed. "
   ]
  },
  {
   "cell_type": "code",
   "execution_count": null,
   "id": "026b9ce1",
   "metadata": {},
   "outputs": [],
   "source": [
    "df_2020_01.shape[0]"
   ]
  },
  {
   "cell_type": "markdown",
   "id": "d997584e",
   "metadata": {},
   "source": [
    "## Export Cleaned df to .CSV"
   ]
  },
  {
   "cell_type": "code",
   "execution_count": null,
   "id": "84bc21fc",
   "metadata": {},
   "outputs": [],
   "source": [
    "#Export df_2020_01 to .csv\n",
    "df_2020_01.to_csv('../cleaned_months_2020/Clean_2020_01.csv') "
   ]
  },
  {
   "cell_type": "code",
   "execution_count": null,
   "id": "22eef17a",
   "metadata": {},
   "outputs": [],
   "source": []
  }
 ],
 "metadata": {
  "kernelspec": {
   "display_name": "Python 3 (ipykernel)",
   "language": "python",
   "name": "python3"
  },
  "language_info": {
   "codemirror_mode": {
    "name": "ipython",
    "version": 3
   },
   "file_extension": ".py",
   "mimetype": "text/x-python",
   "name": "python",
   "nbconvert_exporter": "python",
   "pygments_lexer": "ipython3",
   "version": "3.7.13"
  }
 },
 "nbformat": 4,
 "nbformat_minor": 5
}
