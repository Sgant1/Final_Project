{
 "cells": [
  {
   "cell_type": "code",
   "execution_count": 1,
   "id": "1f30ec89",
   "metadata": {},
   "outputs": [],
   "source": [
    "#Pandas library to create DataFrames\n",
    "import pandas as pd\n",
    "#NumPy library for converting data types\n",
    "import numpy as np"
   ]
  },
  {
   "cell_type": "code",
   "execution_count": 4,
   "id": "7d4569c3",
   "metadata": {},
   "outputs": [],
   "source": [
    "# Files to load\n",
    "load_2020_06 = \"../../2020_Data/2020.06.csv\""
   ]
  },
  {
   "cell_type": "code",
   "execution_count": 5,
   "id": "5bf26e77",
   "metadata": {},
   "outputs": [
    {
     "data": {
      "text/html": [
       "<div>\n",
       "<style scoped>\n",
       "    .dataframe tbody tr th:only-of-type {\n",
       "        vertical-align: middle;\n",
       "    }\n",
       "\n",
       "    .dataframe tbody tr th {\n",
       "        vertical-align: top;\n",
       "    }\n",
       "\n",
       "    .dataframe thead th {\n",
       "        text-align: right;\n",
       "    }\n",
       "</style>\n",
       "<table border=\"1\" class=\"dataframe\">\n",
       "  <thead>\n",
       "    <tr style=\"text-align: right;\">\n",
       "      <th></th>\n",
       "      <th>Company Name</th>\n",
       "      <th>Status</th>\n",
       "      <th>Ship Date</th>\n",
       "      <th>City</th>\n",
       "      <th>State</th>\n",
       "      <th>Zip</th>\n",
       "      <th>Shipping Service</th>\n",
       "      <th>Created Date</th>\n",
       "      <th>Weight</th>\n",
       "      <th>Item/Bottle Count</th>\n",
       "    </tr>\n",
       "  </thead>\n",
       "  <tbody>\n",
       "    <tr>\n",
       "      <th>0</th>\n",
       "      <td>Ecom1</td>\n",
       "      <td>Delivered</td>\n",
       "      <td>6/2/20</td>\n",
       "      <td>Denver</td>\n",
       "      <td>CO</td>\n",
       "      <td>80220</td>\n",
       "      <td>FEH</td>\n",
       "      <td>6/1/20</td>\n",
       "      <td>20.2</td>\n",
       "      <td>6</td>\n",
       "    </tr>\n",
       "    <tr>\n",
       "      <th>1</th>\n",
       "      <td>Ecom1</td>\n",
       "      <td>Delivered</td>\n",
       "      <td>6/2/20</td>\n",
       "      <td>Baltimore</td>\n",
       "      <td>MD</td>\n",
       "      <td>21214</td>\n",
       "      <td>FEH</td>\n",
       "      <td>5/22/20</td>\n",
       "      <td>39.0</td>\n",
       "      <td>12</td>\n",
       "    </tr>\n",
       "    <tr>\n",
       "      <th>2</th>\n",
       "      <td>Ecom1</td>\n",
       "      <td>Delivered</td>\n",
       "      <td>6/2/20</td>\n",
       "      <td>Baltimore</td>\n",
       "      <td>MD</td>\n",
       "      <td>21214</td>\n",
       "      <td>FEH</td>\n",
       "      <td>5/22/20</td>\n",
       "      <td>20.2</td>\n",
       "      <td>6</td>\n",
       "    </tr>\n",
       "    <tr>\n",
       "      <th>3</th>\n",
       "      <td>Ecom1</td>\n",
       "      <td>Delivered</td>\n",
       "      <td>6/3/20</td>\n",
       "      <td>Temecula</td>\n",
       "      <td>CA</td>\n",
       "      <td>92591</td>\n",
       "      <td>FEH</td>\n",
       "      <td>5/27/20</td>\n",
       "      <td>10.5</td>\n",
       "      <td>3</td>\n",
       "    </tr>\n",
       "    <tr>\n",
       "      <th>4</th>\n",
       "      <td>Ecom1</td>\n",
       "      <td>Delivered</td>\n",
       "      <td>6/3/20</td>\n",
       "      <td>Highlands Ranch</td>\n",
       "      <td>CO</td>\n",
       "      <td>80130</td>\n",
       "      <td>FEH</td>\n",
       "      <td>5/27/20</td>\n",
       "      <td>10.5</td>\n",
       "      <td>3</td>\n",
       "    </tr>\n",
       "  </tbody>\n",
       "</table>\n",
       "</div>"
      ],
      "text/plain": [
       "  Company Name     Status Ship Date             City State    Zip  \\\n",
       "0        Ecom1  Delivered    6/2/20           Denver    CO  80220   \n",
       "1        Ecom1  Delivered    6/2/20        Baltimore    MD  21214   \n",
       "2        Ecom1  Delivered    6/2/20        Baltimore    MD  21214   \n",
       "3        Ecom1  Delivered    6/3/20         Temecula    CA  92591   \n",
       "4        Ecom1  Delivered    6/3/20  Highlands Ranch    CO  80130   \n",
       "\n",
       "  Shipping Service Created Date  Weight  Item/Bottle Count  \n",
       "0              FEH       6/1/20    20.2                  6  \n",
       "1              FEH      5/22/20    39.0                 12  \n",
       "2              FEH      5/22/20    20.2                  6  \n",
       "3              FEH      5/27/20    10.5                  3  \n",
       "4              FEH      5/27/20    10.5                  3  "
      ]
     },
     "execution_count": 5,
     "metadata": {},
     "output_type": "execute_result"
    }
   ],
   "source": [
    "# Read the June CSV into a DataFrame\n",
    "#Had to open each file in excel and save it as a .csv file instead of an .xlsm file in order for the encryption to be read properly.\n",
    "df_2020_06 = pd.read_csv(load_2020_06)\n",
    "df_2020_06.head()"
   ]
  },
  {
   "cell_type": "markdown",
   "id": "175df6a6",
   "metadata": {},
   "source": [
    "## Inspect the Data"
   ]
  },
  {
   "cell_type": "code",
   "execution_count": 6,
   "id": "2cdb2387",
   "metadata": {},
   "outputs": [
    {
     "data": {
      "text/html": [
       "<div>\n",
       "<style scoped>\n",
       "    .dataframe tbody tr th:only-of-type {\n",
       "        vertical-align: middle;\n",
       "    }\n",
       "\n",
       "    .dataframe tbody tr th {\n",
       "        vertical-align: top;\n",
       "    }\n",
       "\n",
       "    .dataframe thead th {\n",
       "        text-align: right;\n",
       "    }\n",
       "</style>\n",
       "<table border=\"1\" class=\"dataframe\">\n",
       "  <thead>\n",
       "    <tr style=\"text-align: right;\">\n",
       "      <th></th>\n",
       "      <th>Company Name</th>\n",
       "      <th>Status</th>\n",
       "      <th>Ship Date</th>\n",
       "      <th>City</th>\n",
       "      <th>State</th>\n",
       "      <th>Zip</th>\n",
       "      <th>Shipping Service</th>\n",
       "      <th>Created Date</th>\n",
       "      <th>Weight</th>\n",
       "      <th>Item/Bottle Count</th>\n",
       "    </tr>\n",
       "  </thead>\n",
       "  <tbody>\n",
       "    <tr>\n",
       "      <th>11034</th>\n",
       "      <td>Ecom2</td>\n",
       "      <td>Shipped</td>\n",
       "      <td>6/19/20</td>\n",
       "      <td>Cambridge</td>\n",
       "      <td>MD</td>\n",
       "      <td>21613</td>\n",
       "      <td>FXG</td>\n",
       "      <td>6/18/20</td>\n",
       "      <td>7.0</td>\n",
       "      <td>1</td>\n",
       "    </tr>\n",
       "    <tr>\n",
       "      <th>596</th>\n",
       "      <td>Winery1</td>\n",
       "      <td>Shipped</td>\n",
       "      <td>6/5/20</td>\n",
       "      <td>Ila</td>\n",
       "      <td>GA</td>\n",
       "      <td>30647</td>\n",
       "      <td>UPS</td>\n",
       "      <td>6/2/20</td>\n",
       "      <td>39.0</td>\n",
       "      <td>12</td>\n",
       "    </tr>\n",
       "    <tr>\n",
       "      <th>1757</th>\n",
       "      <td>Ecom3</td>\n",
       "      <td>Delivered</td>\n",
       "      <td>6/1/20</td>\n",
       "      <td>Atlanta</td>\n",
       "      <td>GA</td>\n",
       "      <td>30306</td>\n",
       "      <td>UPS</td>\n",
       "      <td>6/1/20</td>\n",
       "      <td>41.0</td>\n",
       "      <td>12</td>\n",
       "    </tr>\n",
       "    <tr>\n",
       "      <th>18687</th>\n",
       "      <td>Ecom3</td>\n",
       "      <td>Delivered</td>\n",
       "      <td>7/2/20</td>\n",
       "      <td>Boston</td>\n",
       "      <td>MA</td>\n",
       "      <td>2131</td>\n",
       "      <td>FEH</td>\n",
       "      <td>7/1/20</td>\n",
       "      <td>21.5</td>\n",
       "      <td>6</td>\n",
       "    </tr>\n",
       "    <tr>\n",
       "      <th>5767</th>\n",
       "      <td>Ecom1</td>\n",
       "      <td>Shipped</td>\n",
       "      <td>6/15/20</td>\n",
       "      <td>Monrovia</td>\n",
       "      <td>MD</td>\n",
       "      <td>21770</td>\n",
       "      <td>FEH</td>\n",
       "      <td>6/14/20</td>\n",
       "      <td>10.5</td>\n",
       "      <td>3</td>\n",
       "    </tr>\n",
       "  </tbody>\n",
       "</table>\n",
       "</div>"
      ],
      "text/plain": [
       "      Company Name     Status Ship Date       City State    Zip  \\\n",
       "11034        Ecom2    Shipped   6/19/20  Cambridge    MD  21613   \n",
       "596        Winery1    Shipped    6/5/20        Ila    GA  30647   \n",
       "1757         Ecom3  Delivered    6/1/20    Atlanta    GA  30306   \n",
       "18687        Ecom3  Delivered    7/2/20     Boston    MA   2131   \n",
       "5767         Ecom1    Shipped   6/15/20   Monrovia    MD  21770   \n",
       "\n",
       "      Shipping Service Created Date  Weight  Item/Bottle Count  \n",
       "11034              FXG      6/18/20     7.0                  1  \n",
       "596                UPS       6/2/20    39.0                 12  \n",
       "1757               UPS       6/1/20    41.0                 12  \n",
       "18687              FEH       7/1/20    21.5                  6  \n",
       "5767               FEH      6/14/20    10.5                  3  "
      ]
     },
     "execution_count": 6,
     "metadata": {},
     "output_type": "execute_result"
    }
   ],
   "source": [
    "#See five random rows of data\n",
    "df_2020_06.sample(n=5)"
   ]
  },
  {
   "cell_type": "code",
   "execution_count": 7,
   "id": "a7bdb733",
   "metadata": {},
   "outputs": [
    {
     "data": {
      "text/html": [
       "<div>\n",
       "<style scoped>\n",
       "    .dataframe tbody tr th:only-of-type {\n",
       "        vertical-align: middle;\n",
       "    }\n",
       "\n",
       "    .dataframe tbody tr th {\n",
       "        vertical-align: top;\n",
       "    }\n",
       "\n",
       "    .dataframe thead th {\n",
       "        text-align: right;\n",
       "    }\n",
       "</style>\n",
       "<table border=\"1\" class=\"dataframe\">\n",
       "  <thead>\n",
       "    <tr style=\"text-align: right;\">\n",
       "      <th></th>\n",
       "      <th>Company Name</th>\n",
       "      <th>Status</th>\n",
       "      <th>Ship Date</th>\n",
       "      <th>City</th>\n",
       "      <th>State</th>\n",
       "      <th>Zip</th>\n",
       "      <th>Shipping Service</th>\n",
       "      <th>Created Date</th>\n",
       "      <th>Weight</th>\n",
       "      <th>Item/Bottle Count</th>\n",
       "    </tr>\n",
       "  </thead>\n",
       "  <tbody>\n",
       "    <tr>\n",
       "      <th>19384</th>\n",
       "      <td>Winery1</td>\n",
       "      <td>Shipped</td>\n",
       "      <td>7/2/20</td>\n",
       "      <td>Scottsdale</td>\n",
       "      <td>AZ</td>\n",
       "      <td>85255</td>\n",
       "      <td>AZS</td>\n",
       "      <td>6/30/20</td>\n",
       "      <td>4.0</td>\n",
       "      <td>1</td>\n",
       "    </tr>\n",
       "    <tr>\n",
       "      <th>19385</th>\n",
       "      <td>Winery2</td>\n",
       "      <td>Shipped</td>\n",
       "      <td>7/2/20</td>\n",
       "      <td>Napa</td>\n",
       "      <td>CA</td>\n",
       "      <td>94558</td>\n",
       "      <td>WCU</td>\n",
       "      <td>6/22/20</td>\n",
       "      <td>39.0</td>\n",
       "      <td>12</td>\n",
       "    </tr>\n",
       "    <tr>\n",
       "      <th>19386</th>\n",
       "      <td>Winery2</td>\n",
       "      <td>Shipped</td>\n",
       "      <td>7/2/20</td>\n",
       "      <td>Napa</td>\n",
       "      <td>CA</td>\n",
       "      <td>94558</td>\n",
       "      <td>WCU</td>\n",
       "      <td>6/22/20</td>\n",
       "      <td>39.0</td>\n",
       "      <td>12</td>\n",
       "    </tr>\n",
       "    <tr>\n",
       "      <th>19387</th>\n",
       "      <td>Winery2</td>\n",
       "      <td>Shipped</td>\n",
       "      <td>7/2/20</td>\n",
       "      <td>Napa</td>\n",
       "      <td>CA</td>\n",
       "      <td>94558</td>\n",
       "      <td>WCU</td>\n",
       "      <td>6/22/20</td>\n",
       "      <td>39.0</td>\n",
       "      <td>12</td>\n",
       "    </tr>\n",
       "    <tr>\n",
       "      <th>19388</th>\n",
       "      <td>Ecom1</td>\n",
       "      <td>In Transit</td>\n",
       "      <td>7/2/20</td>\n",
       "      <td>Ponca City</td>\n",
       "      <td>OK</td>\n",
       "      <td>74604</td>\n",
       "      <td>LSO1</td>\n",
       "      <td>7/1/20</td>\n",
       "      <td>10.5</td>\n",
       "      <td>3</td>\n",
       "    </tr>\n",
       "  </tbody>\n",
       "</table>\n",
       "</div>"
      ],
      "text/plain": [
       "      Company Name      Status Ship Date        City State    Zip  \\\n",
       "19384      Winery1     Shipped    7/2/20  Scottsdale    AZ  85255   \n",
       "19385      Winery2     Shipped    7/2/20        Napa    CA  94558   \n",
       "19386      Winery2     Shipped    7/2/20        Napa    CA  94558   \n",
       "19387      Winery2     Shipped    7/2/20        Napa    CA  94558   \n",
       "19388        Ecom1  In Transit    7/2/20  Ponca City    OK  74604   \n",
       "\n",
       "      Shipping Service Created Date  Weight  Item/Bottle Count  \n",
       "19384              AZS      6/30/20     4.0                  1  \n",
       "19385              WCU      6/22/20    39.0                 12  \n",
       "19386              WCU      6/22/20    39.0                 12  \n",
       "19387              WCU      6/22/20    39.0                 12  \n",
       "19388             LSO1       7/1/20    10.5                  3  "
      ]
     },
     "execution_count": 7,
     "metadata": {},
     "output_type": "execute_result"
    }
   ],
   "source": [
    "#See the last rows of data\n",
    "df_2020_06.tail(5)"
   ]
  },
  {
   "cell_type": "code",
   "execution_count": 8,
   "id": "a820ba41",
   "metadata": {},
   "outputs": [
    {
     "data": {
      "text/plain": [
       "Index(['Company Name', 'Status', 'Ship Date', 'City', 'State', 'Zip',\n",
       "       'Shipping Service', 'Created Date', 'Weight', 'Item/Bottle Count'],\n",
       "      dtype='object')"
      ]
     },
     "execution_count": 8,
     "metadata": {},
     "output_type": "execute_result"
    }
   ],
   "source": [
    "df_2020_06.columns"
   ]
  },
  {
   "cell_type": "code",
   "execution_count": 9,
   "id": "7410d9e5",
   "metadata": {},
   "outputs": [
    {
     "name": "stdout",
     "output_type": "stream",
     "text": [
      "Number of Rows:  19389\n",
      "Number of Columns:  10\n"
     ]
    }
   ],
   "source": [
    "#Determine total rows for df_2020_06.\n",
    "df_2020_06_rows = len(df_2020_06.axes[0])\n",
    "df_2020_06_cols = len(df_2020_06.axes[1])\n",
    "print(\"Number of Rows: \", df_2020_06_rows)\n",
    "print(\"Number of Columns: \", df_2020_06_cols)"
   ]
  },
  {
   "cell_type": "code",
   "execution_count": 10,
   "id": "4caf57c3",
   "metadata": {},
   "outputs": [
    {
     "data": {
      "text/plain": [
       "Company Name         0\n",
       "Status               0\n",
       "Ship Date            0\n",
       "City                 0\n",
       "State                0\n",
       "Zip                  0\n",
       "Shipping Service     0\n",
       "Created Date         0\n",
       "Weight               0\n",
       "Item/Bottle Count    0\n",
       "dtype: int64"
      ]
     },
     "execution_count": 10,
     "metadata": {},
     "output_type": "execute_result"
    }
   ],
   "source": [
    "# Determine if there are any missing values in df_2020_06.\n",
    "df_2020_06.isnull().sum()"
   ]
  },
  {
   "cell_type": "code",
   "execution_count": 11,
   "id": "d2ad8510",
   "metadata": {},
   "outputs": [
    {
     "data": {
      "text/plain": [
       "Company Name          object\n",
       "Status                object\n",
       "Ship Date             object\n",
       "City                  object\n",
       "State                 object\n",
       "Zip                   object\n",
       "Shipping Service      object\n",
       "Created Date          object\n",
       "Weight               float64\n",
       "Item/Bottle Count      int64\n",
       "dtype: object"
      ]
     },
     "execution_count": 11,
     "metadata": {},
     "output_type": "execute_result"
    }
   ],
   "source": [
    "# Determine data types for df_2020_06.\n",
    "df_2020_06.dtypes"
   ]
  },
  {
   "cell_type": "code",
   "execution_count": 12,
   "id": "4061fbbf",
   "metadata": {},
   "outputs": [
    {
     "data": {
      "text/plain": [
       "Ecom3      8090\n",
       "Ecom2      7106\n",
       "Ecom1      3772\n",
       "Winery1     386\n",
       "Winery2      35\n",
       "Name: Company Name, dtype: int64"
      ]
     },
     "execution_count": 12,
     "metadata": {},
     "output_type": "execute_result"
    }
   ],
   "source": [
    "df_2020_06['Company Name'].value_counts()"
   ]
  },
  {
   "cell_type": "code",
   "execution_count": 13,
   "id": "aac39571",
   "metadata": {},
   "outputs": [
    {
     "data": {
      "text/plain": [
       "6/19/20    7159\n",
       "6/15/20    1463\n",
       "6/1/20     1245\n",
       "6/22/20    1156\n",
       "6/10/20    1141\n",
       "6/8/20     1082\n",
       "6/23/20     710\n",
       "6/17/20     676\n",
       "6/3/20      572\n",
       "6/2/20      559\n",
       "7/1/20      554\n",
       "7/2/20      514\n",
       "6/24/20     459\n",
       "6/18/20     365\n",
       "6/16/20     335\n",
       "6/4/20      251\n",
       "6/11/20     201\n",
       "6/5/20      196\n",
       "6/26/20     188\n",
       "6/12/20     151\n",
       "6/9/20      150\n",
       "6/13/20     131\n",
       "6/25/20     131\n",
       "Name: Ship Date, dtype: int64"
      ]
     },
     "execution_count": 13,
     "metadata": {},
     "output_type": "execute_result"
    }
   ],
   "source": [
    "df_2020_06['Ship Date'].value_counts()"
   ]
  },
  {
   "cell_type": "code",
   "execution_count": 14,
   "id": "ff45ee9d",
   "metadata": {},
   "outputs": [
    {
     "data": {
      "text/plain": [
       "Shipped              10015\n",
       "Delivered             7723\n",
       "In Transit            1538\n",
       "Carrier Exception       94\n",
       "Delivery Attempt        19\n",
       "Name: Status, dtype: int64"
      ]
     },
     "execution_count": 14,
     "metadata": {},
     "output_type": "execute_result"
    }
   ],
   "source": [
    "df_2020_06['Status'].value_counts()"
   ]
  },
  {
   "cell_type": "code",
   "execution_count": 15,
   "id": "ae707cc4",
   "metadata": {},
   "outputs": [
    {
     "data": {
      "text/plain": [
       "New York         305\n",
       "Chicago          253\n",
       "Brooklyn         170\n",
       "Philadelphia     160\n",
       "Washington       142\n",
       "                ... \n",
       "Mount Lebanon      1\n",
       "Wrentham           1\n",
       "CULVER CITY        1\n",
       "Sunriver           1\n",
       "TROY               1\n",
       "Name: City, Length: 5073, dtype: int64"
      ]
     },
     "execution_count": 15,
     "metadata": {},
     "output_type": "execute_result"
    }
   ],
   "source": [
    "df_2020_06['City'].value_counts()"
   ]
  },
  {
   "cell_type": "code",
   "execution_count": 14,
   "id": "a8718b4d",
   "metadata": {},
   "outputs": [
    {
     "data": {
      "text/plain": [
       "NY    2046\n",
       "CA    1479\n",
       "FL    1363\n",
       "PA    1053\n",
       "TX    1039\n",
       "NJ     941\n",
       "IL     800\n",
       "MA     644\n",
       "OH     632\n",
       "VA     630\n",
       "GA     549\n",
       "MD     475\n",
       "NC     449\n",
       "CO     423\n",
       "AZ     350\n",
       "CT     344\n",
       "WA     280\n",
       "IN     270\n",
       "TN     262\n",
       "SC     250\n",
       "MN     247\n",
       "MO     221\n",
       "WI     199\n",
       "MI     186\n",
       "LA     167\n",
       "OR     166\n",
       "DC     127\n",
       "KS     127\n",
       "NH     112\n",
       "RI      94\n",
       "NE      93\n",
       "IA      92\n",
       "NV      85\n",
       "OK      84\n",
       "HI      76\n",
       "NM      69\n",
       "AR      68\n",
       "AL      61\n",
       "ME      58\n",
       "ID      52\n",
       "MT      49\n",
       "DE      46\n",
       "WV      43\n",
       "VT      41\n",
       "ND      35\n",
       "WY      30\n",
       "SD      27\n",
       "AK      21\n",
       "Name: State, dtype: int64"
      ]
     },
     "execution_count": 14,
     "metadata": {},
     "output_type": "execute_result"
    }
   ],
   "source": [
    "df_2020_01['State'].value_counts()"
   ]
  },
  {
   "cell_type": "code",
   "execution_count": 16,
   "id": "aba1ce28",
   "metadata": {},
   "outputs": [
    {
     "data": {
      "text/plain": [
       "33149    34\n",
       "10019    31\n",
       "60618    29\n",
       "60657    28\n",
       "19103    24\n",
       "         ..\n",
       "12033     1\n",
       "48380     1\n",
       "5762      1\n",
       "33527     1\n",
       "22749     1\n",
       "Name: Zip, Length: 7214, dtype: int64"
      ]
     },
     "execution_count": 16,
     "metadata": {},
     "output_type": "execute_result"
    }
   ],
   "source": [
    "df_2020_06['Zip'].value_counts()"
   ]
  },
  {
   "cell_type": "code",
   "execution_count": 17,
   "id": "85be0dcc",
   "metadata": {},
   "outputs": [
    {
     "data": {
      "text/plain": [
       "FEH     9136\n",
       "UPS     8843\n",
       "FXG     1048\n",
       "FEX      267\n",
       "UP2       25\n",
       "LSO1      23\n",
       "FXO       22\n",
       "AZS       10\n",
       "UP3        7\n",
       "WCU        4\n",
       "UP1        2\n",
       "GSC        1\n",
       "UPS7       1\n",
       "Name: Shipping Service, dtype: int64"
      ]
     },
     "execution_count": 17,
     "metadata": {},
     "output_type": "execute_result"
    }
   ],
   "source": [
    "df_2020_06['Shipping Service'].value_counts()"
   ]
  },
  {
   "cell_type": "code",
   "execution_count": 18,
   "id": "74be41f6",
   "metadata": {},
   "outputs": [
    {
     "data": {
      "text/plain": [
       "6/18/20    4606\n",
       "6/19/20    3011\n",
       "6/4/20      668\n",
       "6/3/20      651\n",
       "6/1/20      564\n",
       "6/5/20      562\n",
       "6/17/20     559\n",
       "6/7/20      538\n",
       "6/12/20     525\n",
       "6/2/20      507\n",
       "6/16/20     507\n",
       "6/21/20     474\n",
       "6/22/20     458\n",
       "7/1/20      458\n",
       "6/24/20     384\n",
       "6/14/20     382\n",
       "5/31/20     373\n",
       "6/11/20     372\n",
       "6/9/20      340\n",
       "6/15/20     336\n",
       "5/30/20     329\n",
       "6/10/20     323\n",
       "6/23/20     318\n",
       "6/30/20     317\n",
       "5/29/20     296\n",
       "6/20/20     241\n",
       "7/2/20      221\n",
       "6/13/20     218\n",
       "6/6/20      217\n",
       "6/8/20      207\n",
       "6/25/20     103\n",
       "6/26/20      82\n",
       "5/28/20      41\n",
       "5/26/20      40\n",
       "5/27/20      35\n",
       "6/28/20      23\n",
       "5/22/20      23\n",
       "6/29/20      17\n",
       "5/25/20      14\n",
       "5/12/20       9\n",
       "5/23/20       6\n",
       "5/16/20       5\n",
       "4/22/20       4\n",
       "5/20/20       4\n",
       "5/17/20       3\n",
       "5/13/20       3\n",
       "5/24/20       3\n",
       "5/9/20        2\n",
       "5/21/20       2\n",
       "4/15/20       2\n",
       "5/7/20        1\n",
       "3/31/20       1\n",
       "12/3/19       1\n",
       "5/18/20       1\n",
       "5/19/20       1\n",
       "5/15/20       1\n",
       "Name: Created Date, dtype: int64"
      ]
     },
     "execution_count": 18,
     "metadata": {},
     "output_type": "execute_result"
    }
   ],
   "source": [
    "df_2020_06['Created Date'].value_counts()"
   ]
  },
  {
   "cell_type": "code",
   "execution_count": 19,
   "id": "34adbd2f",
   "metadata": {},
   "outputs": [
    {
     "data": {
      "text/plain": [
       "7.00     7427\n",
       "21.50    3856\n",
       "41.00    1356\n",
       "10.50    1266\n",
       "20.20    1195\n",
       "14.00    1034\n",
       "39.00     929\n",
       "9.90      480\n",
       "18.50     338\n",
       "29.00     268\n",
       "26.00     162\n",
       "10.00     133\n",
       "35.00     115\n",
       "27.00     111\n",
       "32.00     106\n",
       "3.35       93\n",
       "19.20      84\n",
       "4.00       47\n",
       "30.00      43\n",
       "24.00      42\n",
       "13.50      37\n",
       "38.00      36\n",
       "19.00      35\n",
       "20.50      28\n",
       "9.50       25\n",
       "37.00      21\n",
       "17.20      16\n",
       "11.50      15\n",
       "20.00      13\n",
       "19.50      11\n",
       "33.00       9\n",
       "36.00       8\n",
       "18.20       6\n",
       "13.00       5\n",
       "23.00       4\n",
       "28.00       3\n",
       "13.20       3\n",
       "31.20       3\n",
       "6.00        2\n",
       "2.00        2\n",
       "34.00       2\n",
       "22.20       2\n",
       "40.00       2\n",
       "14.20       1\n",
       "22.00       1\n",
       "42.00       1\n",
       "17.00       1\n",
       "5.00        1\n",
       "7.50        1\n",
       "29.20       1\n",
       "2.35        1\n",
       "12.20       1\n",
       "31.00       1\n",
       "16.20       1\n",
       "1.85        1\n",
       "3.00        1\n",
       "17.50       1\n",
       "8.20        1\n",
       "21.00       1\n",
       "Name: Weight, dtype: int64"
      ]
     },
     "execution_count": 19,
     "metadata": {},
     "output_type": "execute_result"
    }
   ],
   "source": [
    "df_2020_06['Weight'].value_counts()"
   ]
  },
  {
   "cell_type": "code",
   "execution_count": 20,
   "id": "73bd62e8",
   "metadata": {},
   "outputs": [
    {
     "data": {
      "text/plain": [
       "1     7284\n",
       "6     5032\n",
       "12    2290\n",
       "3     1865\n",
       "4     1194\n",
       "5      357\n",
       "8      344\n",
       "2      339\n",
       "7      325\n",
       "9      150\n",
       "10     125\n",
       "11      33\n",
       "14      23\n",
       "13      17\n",
       "24       3\n",
       "16       3\n",
       "15       3\n",
       "17       2\n",
       "Name: Item/Bottle Count, dtype: int64"
      ]
     },
     "execution_count": 20,
     "metadata": {},
     "output_type": "execute_result"
    }
   ],
   "source": [
    "df_2020_06['Item/Bottle Count'].value_counts()"
   ]
  },
  {
   "cell_type": "markdown",
   "id": "b28748d1",
   "metadata": {},
   "source": [
    "## Clean the Data"
   ]
  },
  {
   "cell_type": "code",
   "execution_count": 21,
   "id": "ae2074b6",
   "metadata": {},
   "outputs": [
    {
     "data": {
      "text/plain": [
       "Company Name          object\n",
       "Status                object\n",
       "Ship Date             object\n",
       "City                  object\n",
       "State                 object\n",
       "Zip                   object\n",
       "Shipping Service      object\n",
       "Created Date          object\n",
       "Weight               float64\n",
       "Item/Bottle Count    float64\n",
       "dtype: object"
      ]
     },
     "execution_count": 21,
     "metadata": {},
     "output_type": "execute_result"
    }
   ],
   "source": [
    "#Change [\"Item/Bottle Count\"] to float64 type in df_2020_06.\n",
    "df_2020_06[\"Item/Bottle Count\"]=df_2020_06[\"Item/Bottle Count\"].astype(float)\n",
    "df_2020_06.dtypes"
   ]
  },
  {
   "cell_type": "code",
   "execution_count": null,
   "id": "a7143eee",
   "metadata": {},
   "outputs": [],
   "source": [
    "#Clean up dates in Created Date column."
   ]
  },
  {
   "cell_type": "code",
   "execution_count": 21,
   "id": "2de5f1ce",
   "metadata": {},
   "outputs": [
    {
     "data": {
      "text/html": [
       "<div>\n",
       "<style scoped>\n",
       "    .dataframe tbody tr th:only-of-type {\n",
       "        vertical-align: middle;\n",
       "    }\n",
       "\n",
       "    .dataframe tbody tr th {\n",
       "        vertical-align: top;\n",
       "    }\n",
       "\n",
       "    .dataframe thead th {\n",
       "        text-align: right;\n",
       "    }\n",
       "</style>\n",
       "<table border=\"1\" class=\"dataframe\">\n",
       "  <thead>\n",
       "    <tr style=\"text-align: right;\">\n",
       "      <th></th>\n",
       "      <th>Company Name</th>\n",
       "      <th>Ship Date</th>\n",
       "      <th>City</th>\n",
       "      <th>State</th>\n",
       "      <th>Zip</th>\n",
       "      <th>Shipping Service</th>\n",
       "      <th>Created Date</th>\n",
       "      <th>Weight</th>\n",
       "      <th>Item/Bottle Count</th>\n",
       "    </tr>\n",
       "  </thead>\n",
       "  <tbody>\n",
       "    <tr>\n",
       "      <th>0</th>\n",
       "      <td>Ecom3</td>\n",
       "      <td>1/2/20</td>\n",
       "      <td>Plantation</td>\n",
       "      <td>FL</td>\n",
       "      <td>33325</td>\n",
       "      <td>UPS</td>\n",
       "      <td>1/1/20</td>\n",
       "      <td>9.9</td>\n",
       "      <td>3.0</td>\n",
       "    </tr>\n",
       "    <tr>\n",
       "      <th>1</th>\n",
       "      <td>Ecom3</td>\n",
       "      <td>1/2/20</td>\n",
       "      <td>Lafayette</td>\n",
       "      <td>CA</td>\n",
       "      <td>94549</td>\n",
       "      <td>UPS</td>\n",
       "      <td>12/31/19</td>\n",
       "      <td>35.0</td>\n",
       "      <td>10.0</td>\n",
       "    </tr>\n",
       "    <tr>\n",
       "      <th>2</th>\n",
       "      <td>Ecom3</td>\n",
       "      <td>1/2/20</td>\n",
       "      <td>New York</td>\n",
       "      <td>NY</td>\n",
       "      <td>10022</td>\n",
       "      <td>FEH</td>\n",
       "      <td>1/1/20</td>\n",
       "      <td>29.0</td>\n",
       "      <td>8.0</td>\n",
       "    </tr>\n",
       "    <tr>\n",
       "      <th>3</th>\n",
       "      <td>Ecom3</td>\n",
       "      <td>1/3/20</td>\n",
       "      <td>New York</td>\n",
       "      <td>NY</td>\n",
       "      <td>10006</td>\n",
       "      <td>FEH</td>\n",
       "      <td>1/2/20</td>\n",
       "      <td>21.5</td>\n",
       "      <td>6.0</td>\n",
       "    </tr>\n",
       "    <tr>\n",
       "      <th>4</th>\n",
       "      <td>Ecom3</td>\n",
       "      <td>1/2/20</td>\n",
       "      <td>Walkersville</td>\n",
       "      <td>MD</td>\n",
       "      <td>21793</td>\n",
       "      <td>FXG</td>\n",
       "      <td>12/31/19</td>\n",
       "      <td>41.0</td>\n",
       "      <td>12.0</td>\n",
       "    </tr>\n",
       "    <tr>\n",
       "      <th>...</th>\n",
       "      <td>...</td>\n",
       "      <td>...</td>\n",
       "      <td>...</td>\n",
       "      <td>...</td>\n",
       "      <td>...</td>\n",
       "      <td>...</td>\n",
       "      <td>...</td>\n",
       "      <td>...</td>\n",
       "      <td>...</td>\n",
       "    </tr>\n",
       "    <tr>\n",
       "      <th>16950</th>\n",
       "      <td>Ecom1</td>\n",
       "      <td>1/27/20</td>\n",
       "      <td>Escondido</td>\n",
       "      <td>CA</td>\n",
       "      <td>92025</td>\n",
       "      <td>FEH</td>\n",
       "      <td>1/27/20</td>\n",
       "      <td>20.2</td>\n",
       "      <td>6.0</td>\n",
       "    </tr>\n",
       "    <tr>\n",
       "      <th>16951</th>\n",
       "      <td>Ecom1</td>\n",
       "      <td>1/30/20</td>\n",
       "      <td>NY</td>\n",
       "      <td>NY</td>\n",
       "      <td>10010</td>\n",
       "      <td>FXG</td>\n",
       "      <td>1/29/20</td>\n",
       "      <td>10.5</td>\n",
       "      <td>3.0</td>\n",
       "    </tr>\n",
       "    <tr>\n",
       "      <th>16952</th>\n",
       "      <td>Ecom1</td>\n",
       "      <td>1/27/20</td>\n",
       "      <td>Chicago</td>\n",
       "      <td>IL</td>\n",
       "      <td>60626</td>\n",
       "      <td>FEH</td>\n",
       "      <td>1/27/20</td>\n",
       "      <td>10.5</td>\n",
       "      <td>3.0</td>\n",
       "    </tr>\n",
       "    <tr>\n",
       "      <th>16953</th>\n",
       "      <td>Ecom1</td>\n",
       "      <td>1/28/20</td>\n",
       "      <td>OREGON</td>\n",
       "      <td>WI</td>\n",
       "      <td>53575</td>\n",
       "      <td>FEH</td>\n",
       "      <td>1/27/20</td>\n",
       "      <td>10.5</td>\n",
       "      <td>3.0</td>\n",
       "    </tr>\n",
       "    <tr>\n",
       "      <th>16954</th>\n",
       "      <td>Ecom1</td>\n",
       "      <td>1/27/20</td>\n",
       "      <td>Kirkwood</td>\n",
       "      <td>MO</td>\n",
       "      <td>63122</td>\n",
       "      <td>FEH</td>\n",
       "      <td>1/27/20</td>\n",
       "      <td>10.5</td>\n",
       "      <td>3.0</td>\n",
       "    </tr>\n",
       "  </tbody>\n",
       "</table>\n",
       "<p>16955 rows × 9 columns</p>\n",
       "</div>"
      ],
      "text/plain": [
       "      Company Name Ship Date          City State    Zip Shipping Service  \\\n",
       "0            Ecom3    1/2/20    Plantation    FL  33325              UPS   \n",
       "1            Ecom3    1/2/20     Lafayette    CA  94549              UPS   \n",
       "2            Ecom3    1/2/20      New York    NY  10022              FEH   \n",
       "3            Ecom3    1/3/20      New York    NY  10006              FEH   \n",
       "4            Ecom3    1/2/20  Walkersville    MD  21793              FXG   \n",
       "...            ...       ...           ...   ...    ...              ...   \n",
       "16950        Ecom1   1/27/20     Escondido    CA  92025              FEH   \n",
       "16951        Ecom1   1/30/20            NY    NY  10010              FXG   \n",
       "16952        Ecom1   1/27/20       Chicago    IL  60626              FEH   \n",
       "16953        Ecom1   1/28/20        OREGON    WI  53575              FEH   \n",
       "16954        Ecom1   1/27/20      Kirkwood    MO  63122              FEH   \n",
       "\n",
       "      Created Date  Weight  Item/Bottle Count  \n",
       "0           1/1/20     9.9                3.0  \n",
       "1         12/31/19    35.0               10.0  \n",
       "2           1/1/20    29.0                8.0  \n",
       "3           1/2/20    21.5                6.0  \n",
       "4         12/31/19    41.0               12.0  \n",
       "...            ...     ...                ...  \n",
       "16950      1/27/20    20.2                6.0  \n",
       "16951      1/29/20    10.5                3.0  \n",
       "16952      1/27/20    10.5                3.0  \n",
       "16953      1/27/20    10.5                3.0  \n",
       "16954      1/27/20    10.5                3.0  \n",
       "\n",
       "[16955 rows x 9 columns]"
      ]
     },
     "execution_count": 21,
     "metadata": {},
     "output_type": "execute_result"
    }
   ],
   "source": [
    "#Remove \"Status\" column from df_2020_06.\n",
    "df_2020_06 = df_2020_06.drop('Status', axis=1)\n",
    "df_2020_06"
   ]
  },
  {
   "cell_type": "code",
   "execution_count": 25,
   "id": "0374b7d7",
   "metadata": {},
   "outputs": [],
   "source": [
    "# Drop the NaNs for df_2020_06.\n",
    "df_2020_06 = df_2020_06.dropna()"
   ]
  },
  {
   "cell_type": "markdown",
   "id": "b54ac18d",
   "metadata": {},
   "source": [
    "## Confirm Changes"
   ]
  },
  {
   "cell_type": "code",
   "execution_count": 26,
   "id": "717b65ec",
   "metadata": {},
   "outputs": [
    {
     "data": {
      "text/html": [
       "<div>\n",
       "<style scoped>\n",
       "    .dataframe tbody tr th:only-of-type {\n",
       "        vertical-align: middle;\n",
       "    }\n",
       "\n",
       "    .dataframe tbody tr th {\n",
       "        vertical-align: top;\n",
       "    }\n",
       "\n",
       "    .dataframe thead th {\n",
       "        text-align: right;\n",
       "    }\n",
       "</style>\n",
       "<table border=\"1\" class=\"dataframe\">\n",
       "  <thead>\n",
       "    <tr style=\"text-align: right;\">\n",
       "      <th></th>\n",
       "      <th>Company Name</th>\n",
       "      <th>Ship Date</th>\n",
       "      <th>City</th>\n",
       "      <th>State</th>\n",
       "      <th>Zip</th>\n",
       "      <th>Shipping Service</th>\n",
       "      <th>Created Date</th>\n",
       "      <th>Weight</th>\n",
       "      <th>Item/Bottle Count</th>\n",
       "    </tr>\n",
       "  </thead>\n",
       "  <tbody>\n",
       "    <tr>\n",
       "      <th>1660</th>\n",
       "      <td>Ecom3</td>\n",
       "      <td>1/6/20</td>\n",
       "      <td>Fort Worth</td>\n",
       "      <td>TX</td>\n",
       "      <td>76102</td>\n",
       "      <td>UPS</td>\n",
       "      <td>1/4/20</td>\n",
       "      <td>21.5</td>\n",
       "      <td>6.0</td>\n",
       "    </tr>\n",
       "    <tr>\n",
       "      <th>3650</th>\n",
       "      <td>Ecom3</td>\n",
       "      <td>1/20/20</td>\n",
       "      <td>Thomaston</td>\n",
       "      <td>GA</td>\n",
       "      <td>30286</td>\n",
       "      <td>UPS</td>\n",
       "      <td>1/17/20</td>\n",
       "      <td>21.5</td>\n",
       "      <td>6.0</td>\n",
       "    </tr>\n",
       "    <tr>\n",
       "      <th>973</th>\n",
       "      <td>Ecom3</td>\n",
       "      <td>1/8/20</td>\n",
       "      <td>New York</td>\n",
       "      <td>NY</td>\n",
       "      <td>10036</td>\n",
       "      <td>FEH</td>\n",
       "      <td>1/3/20</td>\n",
       "      <td>14.0</td>\n",
       "      <td>4.0</td>\n",
       "    </tr>\n",
       "    <tr>\n",
       "      <th>16489</th>\n",
       "      <td>Ecom1</td>\n",
       "      <td>1/29/20</td>\n",
       "      <td>Belgrade</td>\n",
       "      <td>MT</td>\n",
       "      <td>59714</td>\n",
       "      <td>FEH</td>\n",
       "      <td>1/24/20</td>\n",
       "      <td>10.5</td>\n",
       "      <td>3.0</td>\n",
       "    </tr>\n",
       "    <tr>\n",
       "      <th>13696</th>\n",
       "      <td>Ecom3</td>\n",
       "      <td>1/27/20</td>\n",
       "      <td>New York</td>\n",
       "      <td>NY</td>\n",
       "      <td>10024</td>\n",
       "      <td>FEH</td>\n",
       "      <td>1/24/20</td>\n",
       "      <td>21.5</td>\n",
       "      <td>6.0</td>\n",
       "    </tr>\n",
       "  </tbody>\n",
       "</table>\n",
       "</div>"
      ],
      "text/plain": [
       "      Company Name Ship Date        City State    Zip Shipping Service  \\\n",
       "1660         Ecom3    1/6/20  Fort Worth    TX  76102              UPS   \n",
       "3650         Ecom3   1/20/20   Thomaston    GA  30286              UPS   \n",
       "973          Ecom3    1/8/20    New York    NY  10036              FEH   \n",
       "16489        Ecom1   1/29/20    Belgrade    MT  59714              FEH   \n",
       "13696        Ecom3   1/27/20    New York    NY  10024              FEH   \n",
       "\n",
       "      Created Date  Weight  Item/Bottle Count  \n",
       "1660        1/4/20    21.5                6.0  \n",
       "3650       1/17/20    21.5                6.0  \n",
       "973         1/3/20    14.0                4.0  \n",
       "16489      1/24/20    10.5                3.0  \n",
       "13696      1/24/20    21.5                6.0  "
      ]
     },
     "execution_count": 26,
     "metadata": {},
     "output_type": "execute_result"
    }
   ],
   "source": [
    "#See five random rows of data\n",
    "df_2020_06.sample(n=5)"
   ]
  },
  {
   "cell_type": "code",
   "execution_count": 27,
   "id": "2f59ad5f",
   "metadata": {},
   "outputs": [
    {
     "name": "stdout",
     "output_type": "stream",
     "text": [
      "Number of Rows:  7680\n",
      "Number of Columns:  9\n"
     ]
    }
   ],
   "source": [
    "#Determine total rows for df_2020_06.\n",
    "df_2020_06_rows = len(df_2020_06.axes[0])\n",
    "df_2020_06_cols = len(df_2020_06.axes[1])\n",
    "print(\"Number of Rows: \", df_2020_06_rows)\n",
    "print(\"Number of Columns: \", df_2020_06_cols)"
   ]
  },
  {
   "cell_type": "markdown",
   "id": "625b4837",
   "metadata": {},
   "source": [
    "## Export Cleaned df to .CSV"
   ]
  },
  {
   "cell_type": "code",
   "execution_count": 31,
   "id": "f5a7980c",
   "metadata": {},
   "outputs": [],
   "source": [
    "#Export df_2020_06 to .csv\n",
    "df_2020_06.to_csv('../cleaned_months_2020/Clean_2020_06.csv') "
   ]
  },
  {
   "cell_type": "code",
   "execution_count": null,
   "id": "aafdefb9",
   "metadata": {},
   "outputs": [],
   "source": []
  }
 ],
 "metadata": {
  "kernelspec": {
   "display_name": "Python 3 (ipykernel)",
   "language": "python",
   "name": "python3"
  },
  "language_info": {
   "codemirror_mode": {
    "name": "ipython",
    "version": 3
   },
   "file_extension": ".py",
   "mimetype": "text/x-python",
   "name": "python",
   "nbconvert_exporter": "python",
   "pygments_lexer": "ipython3",
   "version": "3.7.13"
  }
 },
 "nbformat": 4,
 "nbformat_minor": 5
}
