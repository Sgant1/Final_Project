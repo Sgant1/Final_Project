{
 "cells": [
  {
   "cell_type": "code",
   "execution_count": 1,
   "id": "1f30ec89",
   "metadata": {},
   "outputs": [],
   "source": [
    "#Pandas library to create DataFrames\n",
    "import pandas as pd\n",
    "#NumPy library for converting data types\n",
    "import numpy as np"
   ]
  },
  {
   "cell_type": "code",
   "execution_count": 2,
   "id": "7d4569c3",
   "metadata": {},
   "outputs": [],
   "source": [
    "# Files to load\n",
    "load_2020_03 = \"../2020_Data/2020.03copy.csv\""
   ]
  },
  {
   "cell_type": "code",
   "execution_count": 3,
   "id": "5bf26e77",
   "metadata": {},
   "outputs": [
    {
     "data": {
      "text/html": [
       "<div>\n",
       "<style scoped>\n",
       "    .dataframe tbody tr th:only-of-type {\n",
       "        vertical-align: middle;\n",
       "    }\n",
       "\n",
       "    .dataframe tbody tr th {\n",
       "        vertical-align: top;\n",
       "    }\n",
       "\n",
       "    .dataframe thead th {\n",
       "        text-align: right;\n",
       "    }\n",
       "</style>\n",
       "<table border=\"1\" class=\"dataframe\">\n",
       "  <thead>\n",
       "    <tr style=\"text-align: right;\">\n",
       "      <th></th>\n",
       "      <th>Company Name</th>\n",
       "      <th>Status</th>\n",
       "      <th>Ship Date</th>\n",
       "      <th>City</th>\n",
       "      <th>State</th>\n",
       "      <th>Zip</th>\n",
       "      <th>Shipping Service</th>\n",
       "      <th>Created Date</th>\n",
       "      <th>Weight</th>\n",
       "      <th>Item/Bottle Count</th>\n",
       "    </tr>\n",
       "  </thead>\n",
       "  <tbody>\n",
       "    <tr>\n",
       "      <th>0</th>\n",
       "      <td>Ecom3</td>\n",
       "      <td>In Transit</td>\n",
       "      <td>3/4/20</td>\n",
       "      <td>Frisco</td>\n",
       "      <td>TX</td>\n",
       "      <td>75036</td>\n",
       "      <td>UPS</td>\n",
       "      <td>3/4/20</td>\n",
       "      <td>21.5</td>\n",
       "      <td>6</td>\n",
       "    </tr>\n",
       "    <tr>\n",
       "      <th>1</th>\n",
       "      <td>Ecom3</td>\n",
       "      <td>Delivered</td>\n",
       "      <td>3/2/20</td>\n",
       "      <td>Montclair</td>\n",
       "      <td>NJ</td>\n",
       "      <td>7043</td>\n",
       "      <td>UPS</td>\n",
       "      <td>2/29/20</td>\n",
       "      <td>21.5</td>\n",
       "      <td>6</td>\n",
       "    </tr>\n",
       "    <tr>\n",
       "      <th>2</th>\n",
       "      <td>Ecom3</td>\n",
       "      <td>Delivered</td>\n",
       "      <td>3/3/20</td>\n",
       "      <td>SILVER SPRING</td>\n",
       "      <td>MD</td>\n",
       "      <td>20901-3101</td>\n",
       "      <td>FEH</td>\n",
       "      <td>3/1/20</td>\n",
       "      <td>41.0</td>\n",
       "      <td>12</td>\n",
       "    </tr>\n",
       "    <tr>\n",
       "      <th>3</th>\n",
       "      <td>Ecom3</td>\n",
       "      <td>Delivered</td>\n",
       "      <td>3/2/20</td>\n",
       "      <td>Montclair</td>\n",
       "      <td>NJ</td>\n",
       "      <td>7043</td>\n",
       "      <td>UPS</td>\n",
       "      <td>2/29/20</td>\n",
       "      <td>29.0</td>\n",
       "      <td>8</td>\n",
       "    </tr>\n",
       "    <tr>\n",
       "      <th>4</th>\n",
       "      <td>Ecom3</td>\n",
       "      <td>In Transit</td>\n",
       "      <td>3/3/20</td>\n",
       "      <td>Spring Lake</td>\n",
       "      <td>MI</td>\n",
       "      <td>49456</td>\n",
       "      <td>UPS</td>\n",
       "      <td>3/3/20</td>\n",
       "      <td>7.0</td>\n",
       "      <td>2</td>\n",
       "    </tr>\n",
       "  </tbody>\n",
       "</table>\n",
       "</div>"
      ],
      "text/plain": [
       "  Company Name      Status Ship Date           City State         Zip  \\\n",
       "0        Ecom3  In Transit    3/4/20         Frisco    TX       75036   \n",
       "1        Ecom3   Delivered    3/2/20      Montclair    NJ        7043   \n",
       "2        Ecom3   Delivered    3/3/20  SILVER SPRING    MD  20901-3101   \n",
       "3        Ecom3   Delivered    3/2/20      Montclair    NJ        7043   \n",
       "4        Ecom3  In Transit    3/3/20    Spring Lake    MI       49456   \n",
       "\n",
       "  Shipping Service Created Date  Weight Item/Bottle Count  \n",
       "0              UPS       3/4/20    21.5                 6  \n",
       "1              UPS      2/29/20    21.5                 6  \n",
       "2              FEH       3/1/20    41.0                12  \n",
       "3              UPS      2/29/20    29.0                 8  \n",
       "4              UPS       3/3/20     7.0                 2  "
      ]
     },
     "execution_count": 3,
     "metadata": {},
     "output_type": "execute_result"
    }
   ],
   "source": [
    "# Read the March CSV into a DataFrame\n",
    "#Had to open each file in excel and save it as a .csv file instead of an .xlsm file in order for the encryption to be read properly.\n",
    "df_2020_03 = pd.read_csv(load_2020_03)\n",
    "df_2020_03.head()"
   ]
  },
  {
   "cell_type": "markdown",
   "id": "175df6a6",
   "metadata": {},
   "source": [
    "## Inspect the Data"
   ]
  },
  {
   "cell_type": "code",
   "execution_count": 4,
   "id": "2cdb2387",
   "metadata": {},
   "outputs": [
    {
     "data": {
      "text/html": [
       "<div>\n",
       "<style scoped>\n",
       "    .dataframe tbody tr th:only-of-type {\n",
       "        vertical-align: middle;\n",
       "    }\n",
       "\n",
       "    .dataframe tbody tr th {\n",
       "        vertical-align: top;\n",
       "    }\n",
       "\n",
       "    .dataframe thead th {\n",
       "        text-align: right;\n",
       "    }\n",
       "</style>\n",
       "<table border=\"1\" class=\"dataframe\">\n",
       "  <thead>\n",
       "    <tr style=\"text-align: right;\">\n",
       "      <th></th>\n",
       "      <th>Company Name</th>\n",
       "      <th>Status</th>\n",
       "      <th>Ship Date</th>\n",
       "      <th>City</th>\n",
       "      <th>State</th>\n",
       "      <th>Zip</th>\n",
       "      <th>Shipping Service</th>\n",
       "      <th>Created Date</th>\n",
       "      <th>Weight</th>\n",
       "      <th>Item/Bottle Count</th>\n",
       "    </tr>\n",
       "  </thead>\n",
       "  <tbody>\n",
       "    <tr>\n",
       "      <th>4264</th>\n",
       "      <td>Ecom3</td>\n",
       "      <td>In Transit</td>\n",
       "      <td>3/17/20</td>\n",
       "      <td>OWINGS MILLS</td>\n",
       "      <td>MD</td>\n",
       "      <td>21117-4334</td>\n",
       "      <td>FEH</td>\n",
       "      <td>3/17/20</td>\n",
       "      <td>21.5</td>\n",
       "      <td>6</td>\n",
       "    </tr>\n",
       "    <tr>\n",
       "      <th>6417</th>\n",
       "      <td>Ecom1</td>\n",
       "      <td>Delivered</td>\n",
       "      <td>3/20/20</td>\n",
       "      <td>Spring Lake Heights</td>\n",
       "      <td>NJ</td>\n",
       "      <td>7762</td>\n",
       "      <td>FEH</td>\n",
       "      <td>3/19/20</td>\n",
       "      <td>10.5</td>\n",
       "      <td>3</td>\n",
       "    </tr>\n",
       "    <tr>\n",
       "      <th>9533</th>\n",
       "      <td>Ecom1</td>\n",
       "      <td>Delivered</td>\n",
       "      <td>3/27/20</td>\n",
       "      <td>Montpelier</td>\n",
       "      <td>VT</td>\n",
       "      <td>05602-4221</td>\n",
       "      <td>FEH</td>\n",
       "      <td>3/26/20</td>\n",
       "      <td>39.0</td>\n",
       "      <td>12</td>\n",
       "    </tr>\n",
       "    <tr>\n",
       "      <th>11142</th>\n",
       "      <td>Ecom3</td>\n",
       "      <td>In Transit</td>\n",
       "      <td>3/30/20</td>\n",
       "      <td>Commerce Township</td>\n",
       "      <td>MI</td>\n",
       "      <td>48382</td>\n",
       "      <td>UPS</td>\n",
       "      <td>3/29/20</td>\n",
       "      <td>21.5</td>\n",
       "      <td>6</td>\n",
       "    </tr>\n",
       "    <tr>\n",
       "      <th>7630</th>\n",
       "      <td>Ecom3</td>\n",
       "      <td>Delivered</td>\n",
       "      <td>3/26/20</td>\n",
       "      <td>Harpswell</td>\n",
       "      <td>ME</td>\n",
       "      <td>04079-2912</td>\n",
       "      <td>UPS</td>\n",
       "      <td>3/24/20</td>\n",
       "      <td>18.5</td>\n",
       "      <td>5</td>\n",
       "    </tr>\n",
       "  </tbody>\n",
       "</table>\n",
       "</div>"
      ],
      "text/plain": [
       "      Company Name      Status Ship Date                 City State  \\\n",
       "4264         Ecom3  In Transit   3/17/20         OWINGS MILLS    MD   \n",
       "6417         Ecom1   Delivered   3/20/20  Spring Lake Heights    NJ   \n",
       "9533         Ecom1   Delivered   3/27/20           Montpelier    VT   \n",
       "11142        Ecom3  In Transit   3/30/20    Commerce Township    MI   \n",
       "7630         Ecom3   Delivered   3/26/20            Harpswell    ME   \n",
       "\n",
       "              Zip Shipping Service Created Date  Weight Item/Bottle Count  \n",
       "4264   21117-4334              FEH      3/17/20    21.5                 6  \n",
       "6417         7762              FEH      3/19/20    10.5                 3  \n",
       "9533   05602-4221              FEH      3/26/20    39.0                12  \n",
       "11142       48382              UPS      3/29/20    21.5                 6  \n",
       "7630   04079-2912              UPS      3/24/20    18.5                 5  "
      ]
     },
     "execution_count": 4,
     "metadata": {},
     "output_type": "execute_result"
    }
   ],
   "source": [
    "#See five random rows of data\n",
    "df_2020_03.sample(n=5)"
   ]
  },
  {
   "cell_type": "code",
   "execution_count": 5,
   "id": "a7bdb733",
   "metadata": {},
   "outputs": [
    {
     "data": {
      "text/html": [
       "<div>\n",
       "<style scoped>\n",
       "    .dataframe tbody tr th:only-of-type {\n",
       "        vertical-align: middle;\n",
       "    }\n",
       "\n",
       "    .dataframe tbody tr th {\n",
       "        vertical-align: top;\n",
       "    }\n",
       "\n",
       "    .dataframe thead th {\n",
       "        text-align: right;\n",
       "    }\n",
       "</style>\n",
       "<table border=\"1\" class=\"dataframe\">\n",
       "  <thead>\n",
       "    <tr style=\"text-align: right;\">\n",
       "      <th></th>\n",
       "      <th>Company Name</th>\n",
       "      <th>Status</th>\n",
       "      <th>Ship Date</th>\n",
       "      <th>City</th>\n",
       "      <th>State</th>\n",
       "      <th>Zip</th>\n",
       "      <th>Shipping Service</th>\n",
       "      <th>Created Date</th>\n",
       "      <th>Weight</th>\n",
       "      <th>Item/Bottle Count</th>\n",
       "    </tr>\n",
       "  </thead>\n",
       "  <tbody>\n",
       "    <tr>\n",
       "      <th>12330</th>\n",
       "      <td>Winery3</td>\n",
       "      <td>In Transit</td>\n",
       "      <td>3/27/20</td>\n",
       "      <td>Houston</td>\n",
       "      <td>TX</td>\n",
       "      <td>77099</td>\n",
       "      <td>UPS</td>\n",
       "      <td>3/27/20</td>\n",
       "      <td>18.5</td>\n",
       "      <td>5</td>\n",
       "    </tr>\n",
       "    <tr>\n",
       "      <th>12331</th>\n",
       "      <td>Winery3</td>\n",
       "      <td>In Transit</td>\n",
       "      <td>3/27/20</td>\n",
       "      <td>Cambridge</td>\n",
       "      <td>MA</td>\n",
       "      <td>2142</td>\n",
       "      <td>UPS</td>\n",
       "      <td>3/27/20</td>\n",
       "      <td>21.5</td>\n",
       "      <td>6</td>\n",
       "    </tr>\n",
       "    <tr>\n",
       "      <th>12332</th>\n",
       "      <td>Winery3</td>\n",
       "      <td>Delivered</td>\n",
       "      <td>3/31/20</td>\n",
       "      <td>Nine Mile Falls</td>\n",
       "      <td>WA</td>\n",
       "      <td>99026</td>\n",
       "      <td>UPS</td>\n",
       "      <td>3/31/20</td>\n",
       "      <td>21.5</td>\n",
       "      <td>6</td>\n",
       "    </tr>\n",
       "    <tr>\n",
       "      <th>12333</th>\n",
       "      <td>Winery3</td>\n",
       "      <td>Delivered</td>\n",
       "      <td>3/31/20</td>\n",
       "      <td>Cherry Hills Village</td>\n",
       "      <td>CO</td>\n",
       "      <td>80111</td>\n",
       "      <td>UPS</td>\n",
       "      <td>3/31/20</td>\n",
       "      <td>21.5</td>\n",
       "      <td>6</td>\n",
       "    </tr>\n",
       "    <tr>\n",
       "      <th>12334</th>\n",
       "      <td>Winery3</td>\n",
       "      <td>In Transit</td>\n",
       "      <td>3/31/20</td>\n",
       "      <td>Cherry Hills Village</td>\n",
       "      <td>CO</td>\n",
       "      <td>80111</td>\n",
       "      <td>UPS</td>\n",
       "      <td>3/31/20</td>\n",
       "      <td>41.0</td>\n",
       "      <td>12</td>\n",
       "    </tr>\n",
       "  </tbody>\n",
       "</table>\n",
       "</div>"
      ],
      "text/plain": [
       "      Company Name      Status Ship Date                  City State    Zip  \\\n",
       "12330      Winery3  In Transit   3/27/20               Houston    TX  77099   \n",
       "12331      Winery3  In Transit   3/27/20             Cambridge    MA   2142   \n",
       "12332      Winery3   Delivered   3/31/20       Nine Mile Falls    WA  99026   \n",
       "12333      Winery3   Delivered   3/31/20  Cherry Hills Village    CO  80111   \n",
       "12334      Winery3  In Transit   3/31/20  Cherry Hills Village    CO  80111   \n",
       "\n",
       "      Shipping Service Created Date  Weight Item/Bottle Count  \n",
       "12330              UPS      3/27/20    18.5                 5  \n",
       "12331              UPS      3/27/20    21.5                 6  \n",
       "12332              UPS      3/31/20    21.5                 6  \n",
       "12333              UPS      3/31/20    21.5                 6  \n",
       "12334              UPS      3/31/20    41.0                12  "
      ]
     },
     "execution_count": 5,
     "metadata": {},
     "output_type": "execute_result"
    }
   ],
   "source": [
    "#See the last rows of data\n",
    "df_2020_03.tail(5)"
   ]
  },
  {
   "cell_type": "code",
   "execution_count": 6,
   "id": "a820ba41",
   "metadata": {},
   "outputs": [
    {
     "data": {
      "text/plain": [
       "Index(['Company Name', 'Status', 'Ship Date', 'City', 'State', 'Zip',\n",
       "       'Shipping Service', 'Created Date', 'Weight', 'Item/Bottle Count'],\n",
       "      dtype='object')"
      ]
     },
     "execution_count": 6,
     "metadata": {},
     "output_type": "execute_result"
    }
   ],
   "source": [
    "df_2020_03.columns"
   ]
  },
  {
   "cell_type": "code",
   "execution_count": 7,
   "id": "7410d9e5",
   "metadata": {},
   "outputs": [
    {
     "name": "stdout",
     "output_type": "stream",
     "text": [
      "Number of Rows:  12335\n",
      "Number of Columns:  10\n"
     ]
    }
   ],
   "source": [
    "#Determine total rows for df_2020_03.\n",
    "df_2020_03_rows = len(df_2020_03.axes[0])\n",
    "df_2020_03_cols = len(df_2020_03.axes[1])\n",
    "print(\"Number of Rows: \", df_2020_03_rows)\n",
    "print(\"Number of Columns: \", df_2020_03_cols)"
   ]
  },
  {
   "cell_type": "code",
   "execution_count": 8,
   "id": "4caf57c3",
   "metadata": {},
   "outputs": [
    {
     "data": {
      "text/plain": [
       "Company Name         0\n",
       "Status               0\n",
       "Ship Date            0\n",
       "City                 0\n",
       "State                0\n",
       "Zip                  0\n",
       "Shipping Service     0\n",
       "Created Date         0\n",
       "Weight               0\n",
       "Item/Bottle Count    0\n",
       "dtype: int64"
      ]
     },
     "execution_count": 8,
     "metadata": {},
     "output_type": "execute_result"
    }
   ],
   "source": [
    "# Determine if there are any missing values in df_2020_03.\n",
    "df_2020_03.isnull().sum()"
   ]
  },
  {
   "cell_type": "code",
   "execution_count": 9,
   "id": "d2ad8510",
   "metadata": {},
   "outputs": [
    {
     "data": {
      "text/plain": [
       "Company Name          object\n",
       "Status                object\n",
       "Ship Date             object\n",
       "City                  object\n",
       "State                 object\n",
       "Zip                   object\n",
       "Shipping Service      object\n",
       "Created Date          object\n",
       "Weight               float64\n",
       "Item/Bottle Count     object\n",
       "dtype: object"
      ]
     },
     "execution_count": 9,
     "metadata": {},
     "output_type": "execute_result"
    }
   ],
   "source": [
    "# Determine data types for df_2020_03.\n",
    "df_2020_03.dtypes"
   ]
  },
  {
   "cell_type": "code",
   "execution_count": 10,
   "id": "4061fbbf",
   "metadata": {},
   "outputs": [
    {
     "data": {
      "text/plain": [
       "Ecom3      8868\n",
       "Ecom1      2788\n",
       "Winery1     597\n",
       "Winery3      52\n",
       "Winery2      30\n",
       "Name: Company Name, dtype: int64"
      ]
     },
     "execution_count": 10,
     "metadata": {},
     "output_type": "execute_result"
    }
   ],
   "source": [
    "df_2020_03['Company Name'].value_counts()\n",
    "#ECOM2 did not ship, instead they held orders in 2020.03."
   ]
  },
  {
   "cell_type": "code",
   "execution_count": 11,
   "id": "aac39571",
   "metadata": {},
   "outputs": [
    {
     "data": {
      "text/plain": [
       "3/30/20    1060\n",
       "3/16/20     993\n",
       "3/26/20     955\n",
       "3/31/20     953\n",
       "3/20/20     708\n",
       "3/17/20     694\n",
       "3/9/20      687\n",
       "3/27/20     670\n",
       "3/13/20     613\n",
       "3/11/20     581\n",
       "3/25/20     557\n",
       "3/2/20      523\n",
       "3/23/20     486\n",
       "3/24/20     478\n",
       "3/18/20     436\n",
       "3/4/20      420\n",
       "3/12/20     339\n",
       "3/3/20      285\n",
       "3/19/20     274\n",
       "3/10/20     258\n",
       "3/6/20      245\n",
       "3/5/20      120\n",
       "Name: Ship Date, dtype: int64"
      ]
     },
     "execution_count": 11,
     "metadata": {},
     "output_type": "execute_result"
    }
   ],
   "source": [
    "df_2020_03['Ship Date'].value_counts()"
   ]
  },
  {
   "cell_type": "code",
   "execution_count": 12,
   "id": "ff45ee9d",
   "metadata": {},
   "outputs": [
    {
     "data": {
      "text/plain": [
       "Delivered            7089\n",
       "In Transit           4527\n",
       "Shipped               533\n",
       "Carrier Exception     117\n",
       "Delivery Attempt       69\n",
       "Name: Status, dtype: int64"
      ]
     },
     "execution_count": 12,
     "metadata": {},
     "output_type": "execute_result"
    }
   ],
   "source": [
    "df_2020_03['Status'].value_counts()"
   ]
  },
  {
   "cell_type": "code",
   "execution_count": 13,
   "id": "ae707cc4",
   "metadata": {},
   "outputs": [
    {
     "data": {
      "text/plain": [
       "New York          311\n",
       "Chicago           177\n",
       "Brooklyn          128\n",
       "Houston           118\n",
       "Washington         95\n",
       "                 ... \n",
       "Paicines            1\n",
       "Seward              1\n",
       "OLD GREENWICH       1\n",
       "East Rochester      1\n",
       "GIBSONIA            1\n",
       "Name: City, Length: 3771, dtype: int64"
      ]
     },
     "execution_count": 13,
     "metadata": {},
     "output_type": "execute_result"
    }
   ],
   "source": [
    "df_2020_03['City'].value_counts()"
   ]
  },
  {
   "cell_type": "code",
   "execution_count": 14,
   "id": "a8718b4d",
   "metadata": {},
   "outputs": [
    {
     "data": {
      "text/plain": [
       "CA    1466\n",
       "NY    1283\n",
       "FL    1030\n",
       "PA     883\n",
       "TX     836\n",
       "NJ     604\n",
       "IL     569\n",
       "MA     421\n",
       "OH     385\n",
       "VA     385\n",
       "MI     358\n",
       "GA     349\n",
       "CO     300\n",
       "NC     298\n",
       "MD     290\n",
       "AZ     231\n",
       "CT     212\n",
       "TN     209\n",
       "WA     205\n",
       "IN     177\n",
       "MN     168\n",
       "SC     166\n",
       "MO     157\n",
       "OR     132\n",
       "WI     126\n",
       "DC     111\n",
       "LA     110\n",
       "KS      82\n",
       "HI      82\n",
       "NV      79\n",
       "RI      68\n",
       "AR      66\n",
       "NH      64\n",
       "IA      64\n",
       "NE      53\n",
       "NM      52\n",
       "ME      41\n",
       "ID      36\n",
       "WV      31\n",
       "VT      29\n",
       "MT      25\n",
       "AL      19\n",
       "OK      18\n",
       "ND      18\n",
       "SD      17\n",
       "WY      16\n",
       "AK      12\n",
       "DE       2\n",
       "Name: State, dtype: int64"
      ]
     },
     "execution_count": 14,
     "metadata": {},
     "output_type": "execute_result"
    }
   ],
   "source": [
    "df_2020_03['State'].value_counts()"
   ]
  },
  {
   "cell_type": "code",
   "execution_count": 15,
   "id": "aba1ce28",
   "metadata": {},
   "outputs": [
    {
     "data": {
      "text/plain": [
       "10019    28\n",
       "19103    27\n",
       "94558    27\n",
       "10022    24\n",
       "10024    21\n",
       "         ..\n",
       "85284     1\n",
       "48174     1\n",
       "90004     1\n",
       "29617     1\n",
       "99026     1\n",
       "Name: Zip, Length: 5339, dtype: int64"
      ]
     },
     "execution_count": 15,
     "metadata": {},
     "output_type": "execute_result"
    }
   ],
   "source": [
    "df_2020_03['Zip'].value_counts()"
   ]
  },
  {
   "cell_type": "code",
   "execution_count": 16,
   "id": "85be0dcc",
   "metadata": {},
   "outputs": [
    {
     "data": {
      "text/plain": [
       "UPS     7731\n",
       "FEH     3519\n",
       "FXG      884\n",
       "FEX      124\n",
       "LSO1      26\n",
       "WCU       25\n",
       "AZS        8\n",
       "UP2        7\n",
       "UP3        3\n",
       "GSC        3\n",
       "UP1        2\n",
       "SELF       2\n",
       "WCP        1\n",
       "Name: Shipping Service, dtype: int64"
      ]
     },
     "execution_count": 16,
     "metadata": {},
     "output_type": "execute_result"
    }
   ],
   "source": [
    "df_2020_03['Shipping Service'].value_counts()"
   ]
  },
  {
   "cell_type": "code",
   "execution_count": 17,
   "id": "74be41f6",
   "metadata": {},
   "outputs": [
    {
     "data": {
      "text/plain": [
       "3/25/20    837\n",
       "3/10/20    810\n",
       "3/17/20    719\n",
       "3/26/20    667\n",
       "3/23/20    640\n",
       "3/16/20    591\n",
       "3/27/20    585\n",
       "3/13/20    514\n",
       "3/20/20    498\n",
       "3/18/20    484\n",
       "3/30/20    413\n",
       "3/24/20    392\n",
       "3/28/20    391\n",
       "3/2/20     384\n",
       "3/11/20    367\n",
       "3/3/20     354\n",
       "3/19/20    347\n",
       "3/9/20     335\n",
       "3/6/20     293\n",
       "3/15/20    284\n",
       "3/14/20    275\n",
       "3/22/20    274\n",
       "3/12/20    213\n",
       "3/21/20    210\n",
       "3/8/20     205\n",
       "3/4/20     202\n",
       "2/29/20    194\n",
       "3/7/20     175\n",
       "3/5/20     164\n",
       "3/29/20    145\n",
       "3/1/20     104\n",
       "2/28/20     94\n",
       "3/31/20     77\n",
       "2/27/20     58\n",
       "2/24/20     21\n",
       "2/26/20     13\n",
       "2/25/20      4\n",
       "2/7/20       1\n",
       "2/5/20       1\n",
       "Name: Created Date, dtype: int64"
      ]
     },
     "execution_count": 17,
     "metadata": {},
     "output_type": "execute_result"
    }
   ],
   "source": [
    "df_2020_03['Created Date'].value_counts()\n",
    "#Ok to have dates from other months- Sometimes people will create an order and hold onto it until an adult is present to sign for delivery."
   ]
  },
  {
   "cell_type": "code",
   "execution_count": 18,
   "id": "34adbd2f",
   "metadata": {},
   "outputs": [
    {
     "data": {
      "text/plain": [
       "21.50      5144\n",
       "10.50      1478\n",
       "41.00      1294\n",
       "14.00       847\n",
       "39.00       826\n",
       "20.20       753\n",
       "7.00        457\n",
       "9.90        437\n",
       "29.00       238\n",
       "18.50       174\n",
       "3.35        130\n",
       "26.00       102\n",
       "35.00       101\n",
       "4.00        100\n",
       "32.00        98\n",
       "10.00        25\n",
       "27.00        23\n",
       "38.00        22\n",
       "30.00        16\n",
       "17.20        13\n",
       "24.00        13\n",
       "33.00         8\n",
       "36.00         8\n",
       "19.00         6\n",
       "19.50         5\n",
       "13.50         4\n",
       "2057.00       2\n",
       "29.20         1\n",
       "38.20         1\n",
       "869.00        1\n",
       "1.85          1\n",
       "42.00         1\n",
       "45.00         1\n",
       "20.00         1\n",
       "17.00         1\n",
       "20.50         1\n",
       "39.50         1\n",
       "23.20         1\n",
       "Name: Weight, dtype: int64"
      ]
     },
     "execution_count": 18,
     "metadata": {},
     "output_type": "execute_result"
    }
   ],
   "source": [
    "df_2020_03['Weight'].value_counts()"
   ]
  },
  {
   "cell_type": "code",
   "execution_count": 19,
   "id": "73bd62e8",
   "metadata": {},
   "outputs": [
    {
     "data": {
      "text/plain": [
       "6      5909\n",
       "12     2122\n",
       "3      1940\n",
       "4       847\n",
       "2       442\n",
       "8       261\n",
       "1       251\n",
       "5       187\n",
       "7       116\n",
       "9       115\n",
       "10      109\n",
       "11       30\n",
       "672       2\n",
       ",         1\n",
       "14        1\n",
       "13        1\n",
       "276       1\n",
       "Name: Item/Bottle Count, dtype: int64"
      ]
     },
     "execution_count": 19,
     "metadata": {},
     "output_type": "execute_result"
    }
   ],
   "source": [
    "df_2020_03['Item/Bottle Count'].value_counts()"
   ]
  },
  {
   "cell_type": "markdown",
   "id": "b28748d1",
   "metadata": {},
   "source": [
    "## Clean the Data"
   ]
  },
  {
   "cell_type": "code",
   "execution_count": 20,
   "id": "ae2074b6",
   "metadata": {},
   "outputs": [],
   "source": [
    "#Change [\"Item/Bottle Count\"] to float64 type in df_2020_03.\n",
    "#have to add errors=coerce for it to change the string to float and skip the error cells.\n",
    "df_2020_03[\"Item/Bottle Count\"]=pd.to_numeric(df_2020_03[\"Item/Bottle Count\"], errors='coerce')"
   ]
  },
  {
   "cell_type": "code",
   "execution_count": 21,
   "id": "cbbf5f2e",
   "metadata": {},
   "outputs": [],
   "source": [
    "#Had to change the string to a float64 in the previous cell which threw an error, added errors= coerce which made it change the error cells to Nan values. Now I will change the Nan values to 0.\n",
    "df_2020_03=df_2020_03.replace(np.nan,0,regex=True)"
   ]
  },
  {
   "cell_type": "code",
   "execution_count": 22,
   "id": "2de5f1ce",
   "metadata": {},
   "outputs": [
    {
     "data": {
      "text/html": [
       "<div>\n",
       "<style scoped>\n",
       "    .dataframe tbody tr th:only-of-type {\n",
       "        vertical-align: middle;\n",
       "    }\n",
       "\n",
       "    .dataframe tbody tr th {\n",
       "        vertical-align: top;\n",
       "    }\n",
       "\n",
       "    .dataframe thead th {\n",
       "        text-align: right;\n",
       "    }\n",
       "</style>\n",
       "<table border=\"1\" class=\"dataframe\">\n",
       "  <thead>\n",
       "    <tr style=\"text-align: right;\">\n",
       "      <th></th>\n",
       "      <th>Company Name</th>\n",
       "      <th>Ship Date</th>\n",
       "      <th>City</th>\n",
       "      <th>State</th>\n",
       "      <th>Zip</th>\n",
       "      <th>Shipping Service</th>\n",
       "      <th>Created Date</th>\n",
       "      <th>Weight</th>\n",
       "      <th>Item/Bottle Count</th>\n",
       "    </tr>\n",
       "  </thead>\n",
       "  <tbody>\n",
       "    <tr>\n",
       "      <th>0</th>\n",
       "      <td>Ecom3</td>\n",
       "      <td>3/4/20</td>\n",
       "      <td>Frisco</td>\n",
       "      <td>TX</td>\n",
       "      <td>75036</td>\n",
       "      <td>UPS</td>\n",
       "      <td>3/4/20</td>\n",
       "      <td>21.5</td>\n",
       "      <td>6.0</td>\n",
       "    </tr>\n",
       "    <tr>\n",
       "      <th>1</th>\n",
       "      <td>Ecom3</td>\n",
       "      <td>3/2/20</td>\n",
       "      <td>Montclair</td>\n",
       "      <td>NJ</td>\n",
       "      <td>7043</td>\n",
       "      <td>UPS</td>\n",
       "      <td>2/29/20</td>\n",
       "      <td>21.5</td>\n",
       "      <td>6.0</td>\n",
       "    </tr>\n",
       "    <tr>\n",
       "      <th>2</th>\n",
       "      <td>Ecom3</td>\n",
       "      <td>3/3/20</td>\n",
       "      <td>SILVER SPRING</td>\n",
       "      <td>MD</td>\n",
       "      <td>20901-3101</td>\n",
       "      <td>FEH</td>\n",
       "      <td>3/1/20</td>\n",
       "      <td>41.0</td>\n",
       "      <td>12.0</td>\n",
       "    </tr>\n",
       "    <tr>\n",
       "      <th>3</th>\n",
       "      <td>Ecom3</td>\n",
       "      <td>3/2/20</td>\n",
       "      <td>Montclair</td>\n",
       "      <td>NJ</td>\n",
       "      <td>7043</td>\n",
       "      <td>UPS</td>\n",
       "      <td>2/29/20</td>\n",
       "      <td>29.0</td>\n",
       "      <td>8.0</td>\n",
       "    </tr>\n",
       "    <tr>\n",
       "      <th>4</th>\n",
       "      <td>Ecom3</td>\n",
       "      <td>3/3/20</td>\n",
       "      <td>Spring Lake</td>\n",
       "      <td>MI</td>\n",
       "      <td>49456</td>\n",
       "      <td>UPS</td>\n",
       "      <td>3/3/20</td>\n",
       "      <td>7.0</td>\n",
       "      <td>2.0</td>\n",
       "    </tr>\n",
       "    <tr>\n",
       "      <th>...</th>\n",
       "      <td>...</td>\n",
       "      <td>...</td>\n",
       "      <td>...</td>\n",
       "      <td>...</td>\n",
       "      <td>...</td>\n",
       "      <td>...</td>\n",
       "      <td>...</td>\n",
       "      <td>...</td>\n",
       "      <td>...</td>\n",
       "    </tr>\n",
       "    <tr>\n",
       "      <th>12330</th>\n",
       "      <td>Winery3</td>\n",
       "      <td>3/27/20</td>\n",
       "      <td>Houston</td>\n",
       "      <td>TX</td>\n",
       "      <td>77099</td>\n",
       "      <td>UPS</td>\n",
       "      <td>3/27/20</td>\n",
       "      <td>18.5</td>\n",
       "      <td>5.0</td>\n",
       "    </tr>\n",
       "    <tr>\n",
       "      <th>12331</th>\n",
       "      <td>Winery3</td>\n",
       "      <td>3/27/20</td>\n",
       "      <td>Cambridge</td>\n",
       "      <td>MA</td>\n",
       "      <td>2142</td>\n",
       "      <td>UPS</td>\n",
       "      <td>3/27/20</td>\n",
       "      <td>21.5</td>\n",
       "      <td>6.0</td>\n",
       "    </tr>\n",
       "    <tr>\n",
       "      <th>12332</th>\n",
       "      <td>Winery3</td>\n",
       "      <td>3/31/20</td>\n",
       "      <td>Nine Mile Falls</td>\n",
       "      <td>WA</td>\n",
       "      <td>99026</td>\n",
       "      <td>UPS</td>\n",
       "      <td>3/31/20</td>\n",
       "      <td>21.5</td>\n",
       "      <td>6.0</td>\n",
       "    </tr>\n",
       "    <tr>\n",
       "      <th>12333</th>\n",
       "      <td>Winery3</td>\n",
       "      <td>3/31/20</td>\n",
       "      <td>Cherry Hills Village</td>\n",
       "      <td>CO</td>\n",
       "      <td>80111</td>\n",
       "      <td>UPS</td>\n",
       "      <td>3/31/20</td>\n",
       "      <td>21.5</td>\n",
       "      <td>6.0</td>\n",
       "    </tr>\n",
       "    <tr>\n",
       "      <th>12334</th>\n",
       "      <td>Winery3</td>\n",
       "      <td>3/31/20</td>\n",
       "      <td>Cherry Hills Village</td>\n",
       "      <td>CO</td>\n",
       "      <td>80111</td>\n",
       "      <td>UPS</td>\n",
       "      <td>3/31/20</td>\n",
       "      <td>41.0</td>\n",
       "      <td>12.0</td>\n",
       "    </tr>\n",
       "  </tbody>\n",
       "</table>\n",
       "<p>12335 rows × 9 columns</p>\n",
       "</div>"
      ],
      "text/plain": [
       "      Company Name Ship Date                  City State         Zip  \\\n",
       "0            Ecom3    3/4/20                Frisco    TX       75036   \n",
       "1            Ecom3    3/2/20             Montclair    NJ        7043   \n",
       "2            Ecom3    3/3/20         SILVER SPRING    MD  20901-3101   \n",
       "3            Ecom3    3/2/20             Montclair    NJ        7043   \n",
       "4            Ecom3    3/3/20           Spring Lake    MI       49456   \n",
       "...            ...       ...                   ...   ...         ...   \n",
       "12330      Winery3   3/27/20               Houston    TX       77099   \n",
       "12331      Winery3   3/27/20             Cambridge    MA        2142   \n",
       "12332      Winery3   3/31/20       Nine Mile Falls    WA       99026   \n",
       "12333      Winery3   3/31/20  Cherry Hills Village    CO       80111   \n",
       "12334      Winery3   3/31/20  Cherry Hills Village    CO       80111   \n",
       "\n",
       "      Shipping Service Created Date  Weight  Item/Bottle Count  \n",
       "0                  UPS       3/4/20    21.5                6.0  \n",
       "1                  UPS      2/29/20    21.5                6.0  \n",
       "2                  FEH       3/1/20    41.0               12.0  \n",
       "3                  UPS      2/29/20    29.0                8.0  \n",
       "4                  UPS       3/3/20     7.0                2.0  \n",
       "...                ...          ...     ...                ...  \n",
       "12330              UPS      3/27/20    18.5                5.0  \n",
       "12331              UPS      3/27/20    21.5                6.0  \n",
       "12332              UPS      3/31/20    21.5                6.0  \n",
       "12333              UPS      3/31/20    21.5                6.0  \n",
       "12334              UPS      3/31/20    41.0               12.0  \n",
       "\n",
       "[12335 rows x 9 columns]"
      ]
     },
     "execution_count": 22,
     "metadata": {},
     "output_type": "execute_result"
    }
   ],
   "source": [
    "#Remove \"Status\" column from df_2020_03.\n",
    "df_2020_03 = df_2020_03.drop('Status', axis=1)\n",
    "df_2020_03"
   ]
  },
  {
   "cell_type": "code",
   "execution_count": 23,
   "id": "0374b7d7",
   "metadata": {},
   "outputs": [],
   "source": [
    "# Drop the NaNs for df_2020_03.\n",
    "df_2020_03 = df_2020_03.dropna()"
   ]
  },
  {
   "cell_type": "markdown",
   "id": "b54ac18d",
   "metadata": {},
   "source": [
    "## Confirm Changes"
   ]
  },
  {
   "cell_type": "code",
   "execution_count": 24,
   "id": "717b65ec",
   "metadata": {},
   "outputs": [
    {
     "data": {
      "text/html": [
       "<div>\n",
       "<style scoped>\n",
       "    .dataframe tbody tr th:only-of-type {\n",
       "        vertical-align: middle;\n",
       "    }\n",
       "\n",
       "    .dataframe tbody tr th {\n",
       "        vertical-align: top;\n",
       "    }\n",
       "\n",
       "    .dataframe thead th {\n",
       "        text-align: right;\n",
       "    }\n",
       "</style>\n",
       "<table border=\"1\" class=\"dataframe\">\n",
       "  <thead>\n",
       "    <tr style=\"text-align: right;\">\n",
       "      <th></th>\n",
       "      <th>Company Name</th>\n",
       "      <th>Ship Date</th>\n",
       "      <th>City</th>\n",
       "      <th>State</th>\n",
       "      <th>Zip</th>\n",
       "      <th>Shipping Service</th>\n",
       "      <th>Created Date</th>\n",
       "      <th>Weight</th>\n",
       "      <th>Item/Bottle Count</th>\n",
       "    </tr>\n",
       "  </thead>\n",
       "  <tbody>\n",
       "    <tr>\n",
       "      <th>3691</th>\n",
       "      <td>Ecom1</td>\n",
       "      <td>3/11/20</td>\n",
       "      <td>Essex Fells</td>\n",
       "      <td>NJ</td>\n",
       "      <td>7021</td>\n",
       "      <td>FEH</td>\n",
       "      <td>3/11/20</td>\n",
       "      <td>39.0</td>\n",
       "      <td>12.0</td>\n",
       "    </tr>\n",
       "    <tr>\n",
       "      <th>9442</th>\n",
       "      <td>Ecom3</td>\n",
       "      <td>3/27/20</td>\n",
       "      <td>Atlanta</td>\n",
       "      <td>GA</td>\n",
       "      <td>30327-2719</td>\n",
       "      <td>UPS</td>\n",
       "      <td>3/24/20</td>\n",
       "      <td>41.0</td>\n",
       "      <td>12.0</td>\n",
       "    </tr>\n",
       "    <tr>\n",
       "      <th>4281</th>\n",
       "      <td>Ecom3</td>\n",
       "      <td>3/19/20</td>\n",
       "      <td>Austin</td>\n",
       "      <td>TX</td>\n",
       "      <td>78704</td>\n",
       "      <td>UPS</td>\n",
       "      <td>3/17/20</td>\n",
       "      <td>41.0</td>\n",
       "      <td>12.0</td>\n",
       "    </tr>\n",
       "    <tr>\n",
       "      <th>2774</th>\n",
       "      <td>Ecom3</td>\n",
       "      <td>3/13/20</td>\n",
       "      <td>Herndon</td>\n",
       "      <td>VA</td>\n",
       "      <td>20171</td>\n",
       "      <td>UPS</td>\n",
       "      <td>3/13/20</td>\n",
       "      <td>29.0</td>\n",
       "      <td>8.0</td>\n",
       "    </tr>\n",
       "    <tr>\n",
       "      <th>259</th>\n",
       "      <td>Ecom3</td>\n",
       "      <td>3/2/20</td>\n",
       "      <td>New Hope</td>\n",
       "      <td>PA</td>\n",
       "      <td>18938</td>\n",
       "      <td>UPS</td>\n",
       "      <td>3/2/20</td>\n",
       "      <td>21.5</td>\n",
       "      <td>6.0</td>\n",
       "    </tr>\n",
       "  </tbody>\n",
       "</table>\n",
       "</div>"
      ],
      "text/plain": [
       "     Company Name Ship Date         City State         Zip Shipping Service  \\\n",
       "3691        Ecom1   3/11/20  Essex Fells    NJ        7021              FEH   \n",
       "9442        Ecom3   3/27/20      Atlanta    GA  30327-2719              UPS   \n",
       "4281        Ecom3   3/19/20       Austin    TX       78704              UPS   \n",
       "2774        Ecom3   3/13/20      Herndon    VA       20171              UPS   \n",
       "259         Ecom3    3/2/20     New Hope    PA       18938              UPS   \n",
       "\n",
       "     Created Date  Weight  Item/Bottle Count  \n",
       "3691      3/11/20    39.0               12.0  \n",
       "9442      3/24/20    41.0               12.0  \n",
       "4281      3/17/20    41.0               12.0  \n",
       "2774      3/13/20    29.0                8.0  \n",
       "259        3/2/20    21.5                6.0  "
      ]
     },
     "execution_count": 24,
     "metadata": {},
     "output_type": "execute_result"
    }
   ],
   "source": [
    "#See five random rows of data\n",
    "df_2020_03.sample(n=5)"
   ]
  },
  {
   "cell_type": "code",
   "execution_count": 25,
   "id": "2f59ad5f",
   "metadata": {},
   "outputs": [
    {
     "name": "stdout",
     "output_type": "stream",
     "text": [
      "Number of Rows:  12335\n",
      "Number of Columns:  9\n"
     ]
    }
   ],
   "source": [
    "#Determine total rows for df_2020_03.\n",
    "df_2020_03_rows = len(df_2020_03.axes[0])\n",
    "df_2020_03_cols = len(df_2020_03.axes[1])\n",
    "print(\"Number of Rows: \", df_2020_03_rows)\n",
    "print(\"Number of Columns: \", df_2020_03_cols)"
   ]
  },
  {
   "cell_type": "markdown",
   "id": "625b4837",
   "metadata": {},
   "source": [
    "## Export Cleaned DF to .CSV"
   ]
  },
  {
   "cell_type": "code",
   "execution_count": 26,
   "id": "f5a7980c",
   "metadata": {},
   "outputs": [],
   "source": [
    "#Export df_2020_03 to .csv\n",
    "df_2020_03.to_csv('../cleaned_months_2020/Clean_2020_03.csv') "
   ]
  },
  {
   "cell_type": "code",
   "execution_count": null,
   "id": "aafdefb9",
   "metadata": {},
   "outputs": [],
   "source": []
  }
 ],
 "metadata": {
  "kernelspec": {
   "display_name": "Python 3 (ipykernel)",
   "language": "python",
   "name": "python3"
  },
  "language_info": {
   "codemirror_mode": {
    "name": "ipython",
    "version": 3
   },
   "file_extension": ".py",
   "mimetype": "text/x-python",
   "name": "python",
   "nbconvert_exporter": "python",
   "pygments_lexer": "ipython3",
   "version": "3.7.13"
  }
 },
 "nbformat": 4,
 "nbformat_minor": 5
}
