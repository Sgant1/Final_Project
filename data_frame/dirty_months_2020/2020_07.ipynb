{
 "cells": [
  {
   "cell_type": "code",
   "execution_count": 1,
   "id": "1f30ec89",
   "metadata": {},
   "outputs": [],
   "source": [
    "#Pandas library to create DataFrames\n",
    "import pandas as pd\n",
    "#NumPy library for converting data types\n",
    "import numpy as np"
   ]
  },
  {
   "cell_type": "code",
   "execution_count": 2,
   "id": "7d4569c3",
   "metadata": {},
   "outputs": [],
   "source": [
    "# Files to load\n",
    "load_2020_07 = \"../../2020_Data/2020.07.csv\""
   ]
  },
  {
   "cell_type": "code",
   "execution_count": 3,
   "id": "5bf26e77",
   "metadata": {},
   "outputs": [
    {
     "data": {
      "text/html": [
       "<div>\n",
       "<style scoped>\n",
       "    .dataframe tbody tr th:only-of-type {\n",
       "        vertical-align: middle;\n",
       "    }\n",
       "\n",
       "    .dataframe tbody tr th {\n",
       "        vertical-align: top;\n",
       "    }\n",
       "\n",
       "    .dataframe thead th {\n",
       "        text-align: right;\n",
       "    }\n",
       "</style>\n",
       "<table border=\"1\" class=\"dataframe\">\n",
       "  <thead>\n",
       "    <tr style=\"text-align: right;\">\n",
       "      <th></th>\n",
       "      <th>Company Name</th>\n",
       "      <th>Status</th>\n",
       "      <th>Ship Date</th>\n",
       "      <th>City</th>\n",
       "      <th>State</th>\n",
       "      <th>Zip</th>\n",
       "      <th>Shipping Service</th>\n",
       "      <th>Created Date</th>\n",
       "      <th>Weight</th>\n",
       "      <th>Item/Bottle Count</th>\n",
       "    </tr>\n",
       "  </thead>\n",
       "  <tbody>\n",
       "    <tr>\n",
       "      <th>0</th>\n",
       "      <td>Ecom2</td>\n",
       "      <td>NaN</td>\n",
       "      <td>7/1/20</td>\n",
       "      <td>Keysville</td>\n",
       "      <td>VA</td>\n",
       "      <td>23947</td>\n",
       "      <td>FEH</td>\n",
       "      <td>6/30/20</td>\n",
       "      <td>7.0</td>\n",
       "      <td>1</td>\n",
       "    </tr>\n",
       "    <tr>\n",
       "      <th>1</th>\n",
       "      <td>Ecom2</td>\n",
       "      <td>NaN</td>\n",
       "      <td>7/1/20</td>\n",
       "      <td>Jacksonville</td>\n",
       "      <td>FL</td>\n",
       "      <td>32259</td>\n",
       "      <td>FEH</td>\n",
       "      <td>6/30/20</td>\n",
       "      <td>7.0</td>\n",
       "      <td>1</td>\n",
       "    </tr>\n",
       "    <tr>\n",
       "      <th>2</th>\n",
       "      <td>Ecom2</td>\n",
       "      <td>NaN</td>\n",
       "      <td>7/1/20</td>\n",
       "      <td>Quakertown</td>\n",
       "      <td>PA</td>\n",
       "      <td>18951</td>\n",
       "      <td>UPS</td>\n",
       "      <td>6/30/20</td>\n",
       "      <td>7.0</td>\n",
       "      <td>1</td>\n",
       "    </tr>\n",
       "    <tr>\n",
       "      <th>3</th>\n",
       "      <td>Ecom2</td>\n",
       "      <td>NaN</td>\n",
       "      <td>7/1/20</td>\n",
       "      <td>Thousand Oaks</td>\n",
       "      <td>CA</td>\n",
       "      <td>91362</td>\n",
       "      <td>UPS</td>\n",
       "      <td>6/30/20</td>\n",
       "      <td>7.0</td>\n",
       "      <td>1</td>\n",
       "    </tr>\n",
       "    <tr>\n",
       "      <th>4</th>\n",
       "      <td>Winery2</td>\n",
       "      <td>NaN</td>\n",
       "      <td>7/2/20</td>\n",
       "      <td>Aiken</td>\n",
       "      <td>SC</td>\n",
       "      <td>29803</td>\n",
       "      <td>UPS</td>\n",
       "      <td>6/30/20</td>\n",
       "      <td>39.0</td>\n",
       "      <td>12</td>\n",
       "    </tr>\n",
       "  </tbody>\n",
       "</table>\n",
       "</div>"
      ],
      "text/plain": [
       "  Company Name  Status Ship Date           City State    Zip Shipping Service  \\\n",
       "0        Ecom2     NaN    7/1/20      Keysville    VA  23947              FEH   \n",
       "1        Ecom2     NaN    7/1/20   Jacksonville    FL  32259              FEH   \n",
       "2        Ecom2     NaN    7/1/20     Quakertown    PA  18951              UPS   \n",
       "3        Ecom2     NaN    7/1/20  Thousand Oaks    CA  91362              UPS   \n",
       "4      Winery2     NaN    7/2/20          Aiken    SC  29803              UPS   \n",
       "\n",
       "  Created Date  Weight  Item/Bottle Count  \n",
       "0      6/30/20     7.0                  1  \n",
       "1      6/30/20     7.0                  1  \n",
       "2      6/30/20     7.0                  1  \n",
       "3      6/30/20     7.0                  1  \n",
       "4      6/30/20    39.0                 12  "
      ]
     },
     "execution_count": 3,
     "metadata": {},
     "output_type": "execute_result"
    }
   ],
   "source": [
    "# Read the July CSV into a DataFrame\n",
    "#Had to open each file in excel and save it as a .csv file instead of an .xlsm file in order for the encryption to be read properly.\n",
    "df_2020_07 = pd.read_csv(load_2020_07)\n",
    "df_2020_07.head()"
   ]
  },
  {
   "cell_type": "markdown",
   "id": "175df6a6",
   "metadata": {},
   "source": [
    "## Inspect the Data"
   ]
  },
  {
   "cell_type": "code",
   "execution_count": 4,
   "id": "2cdb2387",
   "metadata": {},
   "outputs": [
    {
     "data": {
      "text/html": [
       "<div>\n",
       "<style scoped>\n",
       "    .dataframe tbody tr th:only-of-type {\n",
       "        vertical-align: middle;\n",
       "    }\n",
       "\n",
       "    .dataframe tbody tr th {\n",
       "        vertical-align: top;\n",
       "    }\n",
       "\n",
       "    .dataframe thead th {\n",
       "        text-align: right;\n",
       "    }\n",
       "</style>\n",
       "<table border=\"1\" class=\"dataframe\">\n",
       "  <thead>\n",
       "    <tr style=\"text-align: right;\">\n",
       "      <th></th>\n",
       "      <th>Company Name</th>\n",
       "      <th>Status</th>\n",
       "      <th>Ship Date</th>\n",
       "      <th>City</th>\n",
       "      <th>State</th>\n",
       "      <th>Zip</th>\n",
       "      <th>Shipping Service</th>\n",
       "      <th>Created Date</th>\n",
       "      <th>Weight</th>\n",
       "      <th>Item/Bottle Count</th>\n",
       "    </tr>\n",
       "  </thead>\n",
       "  <tbody>\n",
       "    <tr>\n",
       "      <th>7238</th>\n",
       "      <td>Ecom3</td>\n",
       "      <td>NaN</td>\n",
       "      <td>7/13/20</td>\n",
       "      <td>Calabash</td>\n",
       "      <td>NC</td>\n",
       "      <td>28467</td>\n",
       "      <td>UPS</td>\n",
       "      <td>7/10/20</td>\n",
       "      <td>29.0</td>\n",
       "      <td>8</td>\n",
       "    </tr>\n",
       "    <tr>\n",
       "      <th>1875</th>\n",
       "      <td>Ecom1</td>\n",
       "      <td>NaN</td>\n",
       "      <td>7/8/20</td>\n",
       "      <td>Bridgeport</td>\n",
       "      <td>CT</td>\n",
       "      <td>6604</td>\n",
       "      <td>FEH</td>\n",
       "      <td>7/8/20</td>\n",
       "      <td>19.5</td>\n",
       "      <td>6</td>\n",
       "    </tr>\n",
       "    <tr>\n",
       "      <th>13344</th>\n",
       "      <td>Ecom2</td>\n",
       "      <td>NaN</td>\n",
       "      <td>7/22/20</td>\n",
       "      <td>Portland</td>\n",
       "      <td>OR</td>\n",
       "      <td>97201</td>\n",
       "      <td>UPS</td>\n",
       "      <td>7/20/20</td>\n",
       "      <td>7.0</td>\n",
       "      <td>1</td>\n",
       "    </tr>\n",
       "    <tr>\n",
       "      <th>6892</th>\n",
       "      <td>Ecom3</td>\n",
       "      <td>NaN</td>\n",
       "      <td>7/13/20</td>\n",
       "      <td>Doylestown</td>\n",
       "      <td>PA</td>\n",
       "      <td>18902</td>\n",
       "      <td>UPS</td>\n",
       "      <td>7/10/20</td>\n",
       "      <td>21.5</td>\n",
       "      <td>6</td>\n",
       "    </tr>\n",
       "    <tr>\n",
       "      <th>18232</th>\n",
       "      <td>Ecom3</td>\n",
       "      <td>NaN</td>\n",
       "      <td>7/28/20</td>\n",
       "      <td>Indian Wells</td>\n",
       "      <td>CA</td>\n",
       "      <td>92210</td>\n",
       "      <td>UPS</td>\n",
       "      <td>7/28/20</td>\n",
       "      <td>7.0</td>\n",
       "      <td>2</td>\n",
       "    </tr>\n",
       "  </tbody>\n",
       "</table>\n",
       "</div>"
      ],
      "text/plain": [
       "      Company Name  Status Ship Date          City State    Zip  \\\n",
       "7238         Ecom3     NaN   7/13/20      Calabash    NC  28467   \n",
       "1875         Ecom1     NaN    7/8/20    Bridgeport    CT   6604   \n",
       "13344        Ecom2     NaN   7/22/20      Portland    OR  97201   \n",
       "6892         Ecom3     NaN   7/13/20    Doylestown    PA  18902   \n",
       "18232        Ecom3     NaN   7/28/20  Indian Wells    CA  92210   \n",
       "\n",
       "      Shipping Service Created Date  Weight  Item/Bottle Count  \n",
       "7238               UPS      7/10/20    29.0                  8  \n",
       "1875               FEH       7/8/20    19.5                  6  \n",
       "13344              UPS      7/20/20     7.0                  1  \n",
       "6892               UPS      7/10/20    21.5                  6  \n",
       "18232              UPS      7/28/20     7.0                  2  "
      ]
     },
     "execution_count": 4,
     "metadata": {},
     "output_type": "execute_result"
    }
   ],
   "source": [
    "#See five random rows of data\n",
    "df_2020_07.sample(n=5)"
   ]
  },
  {
   "cell_type": "code",
   "execution_count": 5,
   "id": "a7bdb733",
   "metadata": {},
   "outputs": [
    {
     "data": {
      "text/html": [
       "<div>\n",
       "<style scoped>\n",
       "    .dataframe tbody tr th:only-of-type {\n",
       "        vertical-align: middle;\n",
       "    }\n",
       "\n",
       "    .dataframe tbody tr th {\n",
       "        vertical-align: top;\n",
       "    }\n",
       "\n",
       "    .dataframe thead th {\n",
       "        text-align: right;\n",
       "    }\n",
       "</style>\n",
       "<table border=\"1\" class=\"dataframe\">\n",
       "  <thead>\n",
       "    <tr style=\"text-align: right;\">\n",
       "      <th></th>\n",
       "      <th>Company Name</th>\n",
       "      <th>Status</th>\n",
       "      <th>Ship Date</th>\n",
       "      <th>City</th>\n",
       "      <th>State</th>\n",
       "      <th>Zip</th>\n",
       "      <th>Shipping Service</th>\n",
       "      <th>Created Date</th>\n",
       "      <th>Weight</th>\n",
       "      <th>Item/Bottle Count</th>\n",
       "    </tr>\n",
       "  </thead>\n",
       "  <tbody>\n",
       "    <tr>\n",
       "      <th>19385</th>\n",
       "      <td>Ecom3</td>\n",
       "      <td>NaN</td>\n",
       "      <td>7/27/20</td>\n",
       "      <td>Fort Wayne</td>\n",
       "      <td>IN</td>\n",
       "      <td>46845</td>\n",
       "      <td>UPS</td>\n",
       "      <td>7/25/20</td>\n",
       "      <td>21.5</td>\n",
       "      <td>6</td>\n",
       "    </tr>\n",
       "    <tr>\n",
       "      <th>19386</th>\n",
       "      <td>Ecom3</td>\n",
       "      <td>NaN</td>\n",
       "      <td>7/31/20</td>\n",
       "      <td>Virginia Beach</td>\n",
       "      <td>VA</td>\n",
       "      <td>23456</td>\n",
       "      <td>UPS</td>\n",
       "      <td>7/30/20</td>\n",
       "      <td>21.5</td>\n",
       "      <td>6</td>\n",
       "    </tr>\n",
       "    <tr>\n",
       "      <th>19387</th>\n",
       "      <td>Ecom3</td>\n",
       "      <td>NaN</td>\n",
       "      <td>7/28/20</td>\n",
       "      <td>Des Plaines</td>\n",
       "      <td>IL</td>\n",
       "      <td>60016</td>\n",
       "      <td>UPS</td>\n",
       "      <td>7/25/20</td>\n",
       "      <td>29.0</td>\n",
       "      <td>8</td>\n",
       "    </tr>\n",
       "    <tr>\n",
       "      <th>19388</th>\n",
       "      <td>Ecom3</td>\n",
       "      <td>NaN</td>\n",
       "      <td>7/29/20</td>\n",
       "      <td>columbus</td>\n",
       "      <td>OH</td>\n",
       "      <td>43228</td>\n",
       "      <td>UPS</td>\n",
       "      <td>7/29/20</td>\n",
       "      <td>21.5</td>\n",
       "      <td>6</td>\n",
       "    </tr>\n",
       "    <tr>\n",
       "      <th>19389</th>\n",
       "      <td>Ecom3</td>\n",
       "      <td>NaN</td>\n",
       "      <td>7/31/20</td>\n",
       "      <td>New Rochelle</td>\n",
       "      <td>NY</td>\n",
       "      <td>10805</td>\n",
       "      <td>FEH</td>\n",
       "      <td>7/30/20</td>\n",
       "      <td>21.5</td>\n",
       "      <td>6</td>\n",
       "    </tr>\n",
       "  </tbody>\n",
       "</table>\n",
       "</div>"
      ],
      "text/plain": [
       "      Company Name  Status Ship Date            City State    Zip  \\\n",
       "19385        Ecom3     NaN   7/27/20      Fort Wayne    IN  46845   \n",
       "19386        Ecom3     NaN   7/31/20  Virginia Beach    VA  23456   \n",
       "19387        Ecom3     NaN   7/28/20     Des Plaines    IL  60016   \n",
       "19388        Ecom3     NaN   7/29/20        columbus    OH  43228   \n",
       "19389        Ecom3     NaN   7/31/20    New Rochelle    NY  10805   \n",
       "\n",
       "      Shipping Service Created Date  Weight  Item/Bottle Count  \n",
       "19385              UPS      7/25/20    21.5                  6  \n",
       "19386              UPS      7/30/20    21.5                  6  \n",
       "19387              UPS      7/25/20    29.0                  8  \n",
       "19388              UPS      7/29/20    21.5                  6  \n",
       "19389              FEH      7/30/20    21.5                  6  "
      ]
     },
     "execution_count": 5,
     "metadata": {},
     "output_type": "execute_result"
    }
   ],
   "source": [
    "#See the last rows of data\n",
    "df_2020_07.tail(5)"
   ]
  },
  {
   "cell_type": "code",
   "execution_count": 6,
   "id": "a820ba41",
   "metadata": {},
   "outputs": [
    {
     "data": {
      "text/plain": [
       "Index(['Company Name', 'Status', 'Ship Date', 'City', 'State', 'Zip',\n",
       "       'Shipping Service', 'Created Date', 'Weight', 'Item/Bottle Count'],\n",
       "      dtype='object')"
      ]
     },
     "execution_count": 6,
     "metadata": {},
     "output_type": "execute_result"
    }
   ],
   "source": [
    "df_2020_07.columns"
   ]
  },
  {
   "cell_type": "code",
   "execution_count": 7,
   "id": "7410d9e5",
   "metadata": {},
   "outputs": [
    {
     "name": "stdout",
     "output_type": "stream",
     "text": [
      "Number of Rows:  19390\n",
      "Number of Columns:  10\n"
     ]
    }
   ],
   "source": [
    "#Determine total rows for df_2020_07.\n",
    "df_2020_07_rows = len(df_2020_07.axes[0])\n",
    "df_2020_07_cols = len(df_2020_07.axes[1])\n",
    "print(\"Number of Rows: \", df_2020_07_rows)\n",
    "print(\"Number of Columns: \", df_2020_07_cols)"
   ]
  },
  {
   "cell_type": "code",
   "execution_count": 8,
   "id": "4caf57c3",
   "metadata": {},
   "outputs": [
    {
     "data": {
      "text/plain": [
       "Company Name             0\n",
       "Status               19390\n",
       "Ship Date                0\n",
       "City                     0\n",
       "State                    0\n",
       "Zip                      0\n",
       "Shipping Service         0\n",
       "Created Date             0\n",
       "Weight                   0\n",
       "Item/Bottle Count        0\n",
       "dtype: int64"
      ]
     },
     "execution_count": 8,
     "metadata": {},
     "output_type": "execute_result"
    }
   ],
   "source": [
    "# Determine if there are any missing values in df_2020_07.\n",
    "df_2020_07.isnull().sum()"
   ]
  },
  {
   "cell_type": "code",
   "execution_count": 9,
   "id": "d2ad8510",
   "metadata": {},
   "outputs": [
    {
     "data": {
      "text/plain": [
       "Company Name          object\n",
       "Status               float64\n",
       "Ship Date             object\n",
       "City                  object\n",
       "State                 object\n",
       "Zip                   object\n",
       "Shipping Service      object\n",
       "Created Date          object\n",
       "Weight               float64\n",
       "Item/Bottle Count      int64\n",
       "dtype: object"
      ]
     },
     "execution_count": 9,
     "metadata": {},
     "output_type": "execute_result"
    }
   ],
   "source": [
    "# Determine data types for df_2020_07.\n",
    "df_2020_07.dtypes"
   ]
  },
  {
   "cell_type": "code",
   "execution_count": 10,
   "id": "4061fbbf",
   "metadata": {},
   "outputs": [
    {
     "data": {
      "text/plain": [
       "Ecom3      10176\n",
       "Ecom2       5395\n",
       "Ecom1       3483\n",
       "Winery1      306\n",
       "Winery2       30\n",
       "Name: Company Name, dtype: int64"
      ]
     },
     "execution_count": 10,
     "metadata": {},
     "output_type": "execute_result"
    }
   ],
   "source": [
    "df_2020_07['Company Name'].value_counts()"
   ]
  },
  {
   "cell_type": "code",
   "execution_count": 11,
   "id": "aac39571",
   "metadata": {},
   "outputs": [
    {
     "data": {
      "text/plain": [
       "7/22/20    4140\n",
       "7/23/20    2220\n",
       "7/6/20     1239\n",
       "7/28/20    1063\n",
       "7/20/20    1025\n",
       "7/7/20      986\n",
       "7/13/20     959\n",
       "7/8/20      797\n",
       "7/21/20     733\n",
       "7/14/20     715\n",
       "7/29/20     655\n",
       "7/27/20     643\n",
       "7/1/20      554\n",
       "7/2/20      514\n",
       "7/16/20     464\n",
       "7/30/20     452\n",
       "7/17/20     430\n",
       "7/31/20     417\n",
       "7/10/20     390\n",
       "7/24/20     344\n",
       "7/15/20     330\n",
       "7/9/20      316\n",
       "7/25/20       4\n",
       "Name: Ship Date, dtype: int64"
      ]
     },
     "execution_count": 11,
     "metadata": {},
     "output_type": "execute_result"
    }
   ],
   "source": [
    "df_2020_07['Ship Date'].value_counts()"
   ]
  },
  {
   "cell_type": "code",
   "execution_count": 12,
   "id": "ff45ee9d",
   "metadata": {},
   "outputs": [
    {
     "data": {
      "text/plain": [
       "Series([], Name: Status, dtype: int64)"
      ]
     },
     "execution_count": 12,
     "metadata": {},
     "output_type": "execute_result"
    }
   ],
   "source": [
    "df_2020_07['Status'].value_counts()"
   ]
  },
  {
   "cell_type": "code",
   "execution_count": 13,
   "id": "ae707cc4",
   "metadata": {},
   "outputs": [
    {
     "data": {
      "text/plain": [
       "New York            349\n",
       "Chicago             303\n",
       "Brooklyn            179\n",
       "Philadelphia        122\n",
       "Los Angeles         122\n",
       "                   ... \n",
       "ASHEVILLE             1\n",
       "WELLESLEY ISLAND      1\n",
       "Claremont             1\n",
       "Eastman               1\n",
       "columbus              1\n",
       "Name: City, Length: 5050, dtype: int64"
      ]
     },
     "execution_count": 13,
     "metadata": {},
     "output_type": "execute_result"
    }
   ],
   "source": [
    "df_2020_07['City'].value_counts()"
   ]
  },
  {
   "cell_type": "code",
   "execution_count": 14,
   "id": "a8718b4d",
   "metadata": {},
   "outputs": [
    {
     "data": {
      "text/plain": [
       "NY    2218\n",
       "CA    2135\n",
       "NJ    1325\n",
       "FL    1181\n",
       "PA    1145\n",
       "IL    1036\n",
       "MA     872\n",
       "TX     818\n",
       "OH     787\n",
       "MI     733\n",
       "VA     609\n",
       "CT     462\n",
       "GA     458\n",
       "MD     450\n",
       "NC     390\n",
       "CO     379\n",
       "IN     366\n",
       "WA     327\n",
       "WI     319\n",
       "MN     303\n",
       "TN     298\n",
       "MO     278\n",
       "LA     209\n",
       "OR     204\n",
       "AZ     196\n",
       "SC     184\n",
       "RI     173\n",
       "NH     154\n",
       "HI     136\n",
       "ME     128\n",
       "IA     126\n",
       "OK     113\n",
       "DC     103\n",
       "AR      89\n",
       "KS      87\n",
       "NE      75\n",
       "VT      73\n",
       "NV      72\n",
       "NM      64\n",
       "ID      52\n",
       "DE      51\n",
       "MT      43\n",
       "ND      39\n",
       "WV      37\n",
       "WY      28\n",
       "SD      25\n",
       "AK      24\n",
       "AL      16\n",
       "Name: State, dtype: int64"
      ]
     },
     "execution_count": 14,
     "metadata": {},
     "output_type": "execute_result"
    }
   ],
   "source": [
    "df_2020_07['State'].value_counts()"
   ]
  },
  {
   "cell_type": "code",
   "execution_count": 15,
   "id": "aba1ce28",
   "metadata": {},
   "outputs": [
    {
     "data": {
      "text/plain": [
       "94558    57\n",
       "10019    34\n",
       "10022    28\n",
       "15317    27\n",
       "60610    27\n",
       "         ..\n",
       "48043     1\n",
       "68144     1\n",
       "90717     1\n",
       "37143     1\n",
       "10805     1\n",
       "Name: Zip, Length: 7040, dtype: int64"
      ]
     },
     "execution_count": 15,
     "metadata": {},
     "output_type": "execute_result"
    }
   ],
   "source": [
    "df_2020_07['Zip'].value_counts()"
   ]
  },
  {
   "cell_type": "code",
   "execution_count": 16,
   "id": "85be0dcc",
   "metadata": {},
   "outputs": [
    {
     "data": {
      "text/plain": [
       "UPS     9848\n",
       "FEH     8123\n",
       "FXG     1052\n",
       "FEX      228\n",
       "WCU       46\n",
       "UP3       43\n",
       "UP2       27\n",
       "LSO1      13\n",
       "AZS        4\n",
       "GSC        3\n",
       "FXP        2\n",
       "UP1        1\n",
       "Name: Shipping Service, dtype: int64"
      ]
     },
     "execution_count": 16,
     "metadata": {},
     "output_type": "execute_result"
    }
   ],
   "source": [
    "df_2020_07['Shipping Service'].value_counts()"
   ]
  },
  {
   "cell_type": "code",
   "execution_count": 17,
   "id": "74be41f6",
   "metadata": {},
   "outputs": [
    {
     "data": {
      "text/plain": [
       "7/20/20     4034\n",
       "7/21/20     2467\n",
       "7/5/20       816\n",
       "7/16/20      652\n",
       "7/10/20      619\n",
       "7/22/20      610\n",
       "7/12/20      556\n",
       "7/2/20       533\n",
       "7/1/20       523\n",
       "7/27/20      522\n",
       "7/6/20       492\n",
       "7/28/20      466\n",
       "7/8/20       453\n",
       "7/26/20      443\n",
       "7/3/20       434\n",
       "7/25/20      432\n",
       "7/29/20      421\n",
       "7/30/20      418\n",
       "7/19/20      394\n",
       "7/7/20       385\n",
       "7/15/20      375\n",
       "7/24/20      358\n",
       "6/30/20      352\n",
       "7/17/20      348\n",
       "7/9/20       340\n",
       "7/23/20      333\n",
       "7/14/20      300\n",
       "7/13/20      298\n",
       "7/4/20       277\n",
       "7/11/20      256\n",
       "7/18/20      220\n",
       "7/31/20      188\n",
       "6/28/20       24\n",
       "6/29/20       17\n",
       "6/26/20       12\n",
       "6/23/20        7\n",
       "4/22/20        4\n",
       "6/21/20        3\n",
       "6/22/20        3\n",
       "4/15/20        2\n",
       "10/29/19       1\n",
       "6/25/20        1\n",
       "6/27/20        1\n",
       "Name: Created Date, dtype: int64"
      ]
     },
     "execution_count": 17,
     "metadata": {},
     "output_type": "execute_result"
    }
   ],
   "source": [
    "df_2020_07['Created Date'].value_counts()"
   ]
  },
  {
   "cell_type": "code",
   "execution_count": 18,
   "id": "34adbd2f",
   "metadata": {},
   "outputs": [
    {
     "data": {
      "text/plain": [
       "21.5    6103\n",
       "7.0     5682\n",
       "41.0    2006\n",
       "39.0     945\n",
       "10.5     939\n",
       "        ... \n",
       "21.0       1\n",
       "16.5       1\n",
       "26.2       1\n",
       "15.0       1\n",
       "25.0       1\n",
       "Name: Weight, Length: 64, dtype: int64"
      ]
     },
     "execution_count": 18,
     "metadata": {},
     "output_type": "execute_result"
    }
   ],
   "source": [
    "df_2020_07['Weight'].value_counts()"
   ]
  },
  {
   "cell_type": "code",
   "execution_count": 19,
   "id": "73bd62e8",
   "metadata": {},
   "outputs": [
    {
     "data": {
      "text/plain": [
       "6     6892\n",
       "1     5587\n",
       "12    2945\n",
       "3     1695\n",
       "4      576\n",
       "8      466\n",
       "2      295\n",
       "7      268\n",
       "5      217\n",
       "9      166\n",
       "10     166\n",
       "11      48\n",
       "13      26\n",
       "14      22\n",
       "15      10\n",
       "17       3\n",
       "16       3\n",
       "24       3\n",
       "21       1\n",
       "18       1\n",
       "Name: Item/Bottle Count, dtype: int64"
      ]
     },
     "execution_count": 19,
     "metadata": {},
     "output_type": "execute_result"
    }
   ],
   "source": [
    "df_2020_07['Item/Bottle Count'].value_counts()"
   ]
  },
  {
   "cell_type": "markdown",
   "id": "b28748d1",
   "metadata": {},
   "source": [
    "## Clean the Data"
   ]
  },
  {
   "cell_type": "code",
   "execution_count": 20,
   "id": "ae2074b6",
   "metadata": {},
   "outputs": [
    {
     "data": {
      "text/plain": [
       "Company Name          object\n",
       "Status               float64\n",
       "Ship Date             object\n",
       "City                  object\n",
       "State                 object\n",
       "Zip                   object\n",
       "Shipping Service      object\n",
       "Created Date          object\n",
       "Weight               float64\n",
       "Item/Bottle Count    float64\n",
       "dtype: object"
      ]
     },
     "execution_count": 20,
     "metadata": {},
     "output_type": "execute_result"
    }
   ],
   "source": [
    "#Change [\"Item/Bottle Count\"] to float64 type in df_2020_07.\n",
    "df_2020_07[\"Item/Bottle Count\"]=df_2020_07[\"Item/Bottle Count\"].astype(float)\n",
    "df_2020_07.dtypes"
   ]
  },
  {
   "cell_type": "code",
   "execution_count": 21,
   "id": "2de5f1ce",
   "metadata": {},
   "outputs": [
    {
     "data": {
      "text/html": [
       "<div>\n",
       "<style scoped>\n",
       "    .dataframe tbody tr th:only-of-type {\n",
       "        vertical-align: middle;\n",
       "    }\n",
       "\n",
       "    .dataframe tbody tr th {\n",
       "        vertical-align: top;\n",
       "    }\n",
       "\n",
       "    .dataframe thead th {\n",
       "        text-align: right;\n",
       "    }\n",
       "</style>\n",
       "<table border=\"1\" class=\"dataframe\">\n",
       "  <thead>\n",
       "    <tr style=\"text-align: right;\">\n",
       "      <th></th>\n",
       "      <th>Company Name</th>\n",
       "      <th>Ship Date</th>\n",
       "      <th>City</th>\n",
       "      <th>State</th>\n",
       "      <th>Zip</th>\n",
       "      <th>Shipping Service</th>\n",
       "      <th>Created Date</th>\n",
       "      <th>Weight</th>\n",
       "      <th>Item/Bottle Count</th>\n",
       "    </tr>\n",
       "  </thead>\n",
       "  <tbody>\n",
       "    <tr>\n",
       "      <th>0</th>\n",
       "      <td>Ecom2</td>\n",
       "      <td>7/1/20</td>\n",
       "      <td>Keysville</td>\n",
       "      <td>VA</td>\n",
       "      <td>23947</td>\n",
       "      <td>FEH</td>\n",
       "      <td>6/30/20</td>\n",
       "      <td>7.0</td>\n",
       "      <td>1.0</td>\n",
       "    </tr>\n",
       "    <tr>\n",
       "      <th>1</th>\n",
       "      <td>Ecom2</td>\n",
       "      <td>7/1/20</td>\n",
       "      <td>Jacksonville</td>\n",
       "      <td>FL</td>\n",
       "      <td>32259</td>\n",
       "      <td>FEH</td>\n",
       "      <td>6/30/20</td>\n",
       "      <td>7.0</td>\n",
       "      <td>1.0</td>\n",
       "    </tr>\n",
       "    <tr>\n",
       "      <th>2</th>\n",
       "      <td>Ecom2</td>\n",
       "      <td>7/1/20</td>\n",
       "      <td>Quakertown</td>\n",
       "      <td>PA</td>\n",
       "      <td>18951</td>\n",
       "      <td>UPS</td>\n",
       "      <td>6/30/20</td>\n",
       "      <td>7.0</td>\n",
       "      <td>1.0</td>\n",
       "    </tr>\n",
       "    <tr>\n",
       "      <th>3</th>\n",
       "      <td>Ecom2</td>\n",
       "      <td>7/1/20</td>\n",
       "      <td>Thousand Oaks</td>\n",
       "      <td>CA</td>\n",
       "      <td>91362</td>\n",
       "      <td>UPS</td>\n",
       "      <td>6/30/20</td>\n",
       "      <td>7.0</td>\n",
       "      <td>1.0</td>\n",
       "    </tr>\n",
       "    <tr>\n",
       "      <th>4</th>\n",
       "      <td>Winery2</td>\n",
       "      <td>7/2/20</td>\n",
       "      <td>Aiken</td>\n",
       "      <td>SC</td>\n",
       "      <td>29803</td>\n",
       "      <td>UPS</td>\n",
       "      <td>6/30/20</td>\n",
       "      <td>39.0</td>\n",
       "      <td>12.0</td>\n",
       "    </tr>\n",
       "    <tr>\n",
       "      <th>...</th>\n",
       "      <td>...</td>\n",
       "      <td>...</td>\n",
       "      <td>...</td>\n",
       "      <td>...</td>\n",
       "      <td>...</td>\n",
       "      <td>...</td>\n",
       "      <td>...</td>\n",
       "      <td>...</td>\n",
       "      <td>...</td>\n",
       "    </tr>\n",
       "    <tr>\n",
       "      <th>19385</th>\n",
       "      <td>Ecom3</td>\n",
       "      <td>7/27/20</td>\n",
       "      <td>Fort Wayne</td>\n",
       "      <td>IN</td>\n",
       "      <td>46845</td>\n",
       "      <td>UPS</td>\n",
       "      <td>7/25/20</td>\n",
       "      <td>21.5</td>\n",
       "      <td>6.0</td>\n",
       "    </tr>\n",
       "    <tr>\n",
       "      <th>19386</th>\n",
       "      <td>Ecom3</td>\n",
       "      <td>7/31/20</td>\n",
       "      <td>Virginia Beach</td>\n",
       "      <td>VA</td>\n",
       "      <td>23456</td>\n",
       "      <td>UPS</td>\n",
       "      <td>7/30/20</td>\n",
       "      <td>21.5</td>\n",
       "      <td>6.0</td>\n",
       "    </tr>\n",
       "    <tr>\n",
       "      <th>19387</th>\n",
       "      <td>Ecom3</td>\n",
       "      <td>7/28/20</td>\n",
       "      <td>Des Plaines</td>\n",
       "      <td>IL</td>\n",
       "      <td>60016</td>\n",
       "      <td>UPS</td>\n",
       "      <td>7/25/20</td>\n",
       "      <td>29.0</td>\n",
       "      <td>8.0</td>\n",
       "    </tr>\n",
       "    <tr>\n",
       "      <th>19388</th>\n",
       "      <td>Ecom3</td>\n",
       "      <td>7/29/20</td>\n",
       "      <td>columbus</td>\n",
       "      <td>OH</td>\n",
       "      <td>43228</td>\n",
       "      <td>UPS</td>\n",
       "      <td>7/29/20</td>\n",
       "      <td>21.5</td>\n",
       "      <td>6.0</td>\n",
       "    </tr>\n",
       "    <tr>\n",
       "      <th>19389</th>\n",
       "      <td>Ecom3</td>\n",
       "      <td>7/31/20</td>\n",
       "      <td>New Rochelle</td>\n",
       "      <td>NY</td>\n",
       "      <td>10805</td>\n",
       "      <td>FEH</td>\n",
       "      <td>7/30/20</td>\n",
       "      <td>21.5</td>\n",
       "      <td>6.0</td>\n",
       "    </tr>\n",
       "  </tbody>\n",
       "</table>\n",
       "<p>19390 rows × 9 columns</p>\n",
       "</div>"
      ],
      "text/plain": [
       "      Company Name Ship Date            City State    Zip Shipping Service  \\\n",
       "0            Ecom2    7/1/20       Keysville    VA  23947              FEH   \n",
       "1            Ecom2    7/1/20    Jacksonville    FL  32259              FEH   \n",
       "2            Ecom2    7/1/20      Quakertown    PA  18951              UPS   \n",
       "3            Ecom2    7/1/20   Thousand Oaks    CA  91362              UPS   \n",
       "4          Winery2    7/2/20           Aiken    SC  29803              UPS   \n",
       "...            ...       ...             ...   ...    ...              ...   \n",
       "19385        Ecom3   7/27/20      Fort Wayne    IN  46845              UPS   \n",
       "19386        Ecom3   7/31/20  Virginia Beach    VA  23456              UPS   \n",
       "19387        Ecom3   7/28/20     Des Plaines    IL  60016              UPS   \n",
       "19388        Ecom3   7/29/20        columbus    OH  43228              UPS   \n",
       "19389        Ecom3   7/31/20    New Rochelle    NY  10805              FEH   \n",
       "\n",
       "      Created Date  Weight  Item/Bottle Count  \n",
       "0          6/30/20     7.0                1.0  \n",
       "1          6/30/20     7.0                1.0  \n",
       "2          6/30/20     7.0                1.0  \n",
       "3          6/30/20     7.0                1.0  \n",
       "4          6/30/20    39.0               12.0  \n",
       "...            ...     ...                ...  \n",
       "19385      7/25/20    21.5                6.0  \n",
       "19386      7/30/20    21.5                6.0  \n",
       "19387      7/25/20    29.0                8.0  \n",
       "19388      7/29/20    21.5                6.0  \n",
       "19389      7/30/20    21.5                6.0  \n",
       "\n",
       "[19390 rows x 9 columns]"
      ]
     },
     "execution_count": 21,
     "metadata": {},
     "output_type": "execute_result"
    }
   ],
   "source": [
    "#Remove \"Status\" column from df_2020_07.\n",
    "df_2020_07 = df_2020_07.drop('Status', axis=1)\n",
    "df_2020_07"
   ]
  },
  {
   "cell_type": "code",
   "execution_count": 22,
   "id": "0374b7d7",
   "metadata": {},
   "outputs": [],
   "source": [
    "# Drop the NaNs for df_2020_07.\n",
    "df_2020_07 = df_2020_07.dropna()"
   ]
  },
  {
   "cell_type": "markdown",
   "id": "b54ac18d",
   "metadata": {},
   "source": [
    "## Confirm Changes"
   ]
  },
  {
   "cell_type": "code",
   "execution_count": 23,
   "id": "717b65ec",
   "metadata": {},
   "outputs": [
    {
     "data": {
      "text/html": [
       "<div>\n",
       "<style scoped>\n",
       "    .dataframe tbody tr th:only-of-type {\n",
       "        vertical-align: middle;\n",
       "    }\n",
       "\n",
       "    .dataframe tbody tr th {\n",
       "        vertical-align: top;\n",
       "    }\n",
       "\n",
       "    .dataframe thead th {\n",
       "        text-align: right;\n",
       "    }\n",
       "</style>\n",
       "<table border=\"1\" class=\"dataframe\">\n",
       "  <thead>\n",
       "    <tr style=\"text-align: right;\">\n",
       "      <th></th>\n",
       "      <th>Company Name</th>\n",
       "      <th>Ship Date</th>\n",
       "      <th>City</th>\n",
       "      <th>State</th>\n",
       "      <th>Zip</th>\n",
       "      <th>Shipping Service</th>\n",
       "      <th>Created Date</th>\n",
       "      <th>Weight</th>\n",
       "      <th>Item/Bottle Count</th>\n",
       "    </tr>\n",
       "  </thead>\n",
       "  <tbody>\n",
       "    <tr>\n",
       "      <th>18790</th>\n",
       "      <td>Ecom3</td>\n",
       "      <td>7/28/20</td>\n",
       "      <td>Midlothian</td>\n",
       "      <td>VA</td>\n",
       "      <td>23113</td>\n",
       "      <td>UPS</td>\n",
       "      <td>7/26/20</td>\n",
       "      <td>41.0</td>\n",
       "      <td>12.0</td>\n",
       "    </tr>\n",
       "    <tr>\n",
       "      <th>6464</th>\n",
       "      <td>Ecom3</td>\n",
       "      <td>7/13/20</td>\n",
       "      <td>Atlantic Highlands</td>\n",
       "      <td>NJ</td>\n",
       "      <td>7716</td>\n",
       "      <td>UPS</td>\n",
       "      <td>7/10/20</td>\n",
       "      <td>41.0</td>\n",
       "      <td>12.0</td>\n",
       "    </tr>\n",
       "    <tr>\n",
       "      <th>5305</th>\n",
       "      <td>Ecom1</td>\n",
       "      <td>7/13/20</td>\n",
       "      <td>Morrisville</td>\n",
       "      <td>PA</td>\n",
       "      <td>19067-2210</td>\n",
       "      <td>FEH</td>\n",
       "      <td>7/10/20</td>\n",
       "      <td>20.2</td>\n",
       "      <td>6.0</td>\n",
       "    </tr>\n",
       "    <tr>\n",
       "      <th>4248</th>\n",
       "      <td>Ecom3</td>\n",
       "      <td>7/6/20</td>\n",
       "      <td>Seal Beach</td>\n",
       "      <td>CA</td>\n",
       "      <td>90740</td>\n",
       "      <td>UPS</td>\n",
       "      <td>7/5/20</td>\n",
       "      <td>21.5</td>\n",
       "      <td>6.0</td>\n",
       "    </tr>\n",
       "    <tr>\n",
       "      <th>16828</th>\n",
       "      <td>Ecom2</td>\n",
       "      <td>7/29/20</td>\n",
       "      <td>Miami</td>\n",
       "      <td>FL</td>\n",
       "      <td>33193</td>\n",
       "      <td>FEH</td>\n",
       "      <td>7/27/20</td>\n",
       "      <td>7.0</td>\n",
       "      <td>1.0</td>\n",
       "    </tr>\n",
       "  </tbody>\n",
       "</table>\n",
       "</div>"
      ],
      "text/plain": [
       "      Company Name Ship Date                City State         Zip  \\\n",
       "18790        Ecom3   7/28/20          Midlothian    VA       23113   \n",
       "6464         Ecom3   7/13/20  Atlantic Highlands    NJ        7716   \n",
       "5305         Ecom1   7/13/20         Morrisville    PA  19067-2210   \n",
       "4248         Ecom3    7/6/20          Seal Beach    CA       90740   \n",
       "16828        Ecom2   7/29/20               Miami    FL       33193   \n",
       "\n",
       "      Shipping Service Created Date  Weight  Item/Bottle Count  \n",
       "18790              UPS      7/26/20    41.0               12.0  \n",
       "6464               UPS      7/10/20    41.0               12.0  \n",
       "5305               FEH      7/10/20    20.2                6.0  \n",
       "4248               UPS       7/5/20    21.5                6.0  \n",
       "16828              FEH      7/27/20     7.0                1.0  "
      ]
     },
     "execution_count": 23,
     "metadata": {},
     "output_type": "execute_result"
    }
   ],
   "source": [
    "#See five random rows of data\n",
    "df_2020_07.sample(n=5)"
   ]
  },
  {
   "cell_type": "code",
   "execution_count": 24,
   "id": "2f59ad5f",
   "metadata": {},
   "outputs": [
    {
     "name": "stdout",
     "output_type": "stream",
     "text": [
      "Number of Rows:  19390\n",
      "Number of Columns:  9\n"
     ]
    }
   ],
   "source": [
    "#Determine total rows for df_2020_07.\n",
    "df_2020_07_rows = len(df_2020_07.axes[0])\n",
    "df_2020_07_cols = len(df_2020_07.axes[1])\n",
    "print(\"Number of Rows: \", df_2020_07_rows)\n",
    "print(\"Number of Columns: \", df_2020_07_cols)"
   ]
  },
  {
   "cell_type": "markdown",
   "id": "625b4837",
   "metadata": {},
   "source": [
    "## Export Cleaned df to .CSV"
   ]
  },
  {
   "cell_type": "code",
   "execution_count": 25,
   "id": "f5a7980c",
   "metadata": {},
   "outputs": [],
   "source": [
    "#Export df_2020_07 to .csv\n",
    "df_2020_07.to_csv('../cleaned_months_2020/Clean_2020_07.csv') "
   ]
  },
  {
   "cell_type": "code",
   "execution_count": null,
   "id": "aafdefb9",
   "metadata": {},
   "outputs": [],
   "source": []
  }
 ],
 "metadata": {
  "kernelspec": {
   "display_name": "Python 3 (ipykernel)",
   "language": "python",
   "name": "python3"
  },
  "language_info": {
   "codemirror_mode": {
    "name": "ipython",
    "version": 3
   },
   "file_extension": ".py",
   "mimetype": "text/x-python",
   "name": "python",
   "nbconvert_exporter": "python",
   "pygments_lexer": "ipython3",
   "version": "3.7.13"
  }
 },
 "nbformat": 4,
 "nbformat_minor": 5
}
