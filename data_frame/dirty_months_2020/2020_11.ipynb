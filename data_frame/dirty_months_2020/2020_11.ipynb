{
 "cells": [
  {
   "cell_type": "code",
   "execution_count": 1,
   "id": "1f30ec89",
   "metadata": {},
   "outputs": [],
   "source": [
    "#Pandas library to create DataFrames\n",
    "import pandas as pd\n",
    "#NumPy library for converting data types\n",
    "import numpy as np"
   ]
  },
  {
   "cell_type": "code",
   "execution_count": 2,
   "id": "7d4569c3",
   "metadata": {},
   "outputs": [],
   "source": [
    "# Files to load\n",
    "load_2020_11 = \"../../2020_Data/2020.11.csv\""
   ]
  },
  {
   "cell_type": "code",
   "execution_count": 3,
   "id": "5bf26e77",
   "metadata": {},
   "outputs": [
    {
     "data": {
      "text/html": [
       "<div>\n",
       "<style scoped>\n",
       "    .dataframe tbody tr th:only-of-type {\n",
       "        vertical-align: middle;\n",
       "    }\n",
       "\n",
       "    .dataframe tbody tr th {\n",
       "        vertical-align: top;\n",
       "    }\n",
       "\n",
       "    .dataframe thead th {\n",
       "        text-align: right;\n",
       "    }\n",
       "</style>\n",
       "<table border=\"1\" class=\"dataframe\">\n",
       "  <thead>\n",
       "    <tr style=\"text-align: right;\">\n",
       "      <th></th>\n",
       "      <th>Company Name</th>\n",
       "      <th>Status</th>\n",
       "      <th>Ship Date</th>\n",
       "      <th>City</th>\n",
       "      <th>State</th>\n",
       "      <th>Zip</th>\n",
       "      <th>Shipping Service</th>\n",
       "      <th>Created Date</th>\n",
       "      <th>Weight</th>\n",
       "      <th>Item/Bottle Count</th>\n",
       "    </tr>\n",
       "  </thead>\n",
       "  <tbody>\n",
       "    <tr>\n",
       "      <th>0</th>\n",
       "      <td>Ecom1</td>\n",
       "      <td>Delivered</td>\n",
       "      <td>11/2/2020</td>\n",
       "      <td>Topanga</td>\n",
       "      <td>CA</td>\n",
       "      <td>90290</td>\n",
       "      <td>FEH</td>\n",
       "      <td>10/30/2020</td>\n",
       "      <td>6.5</td>\n",
       "      <td>1.0</td>\n",
       "    </tr>\n",
       "    <tr>\n",
       "      <th>1</th>\n",
       "      <td>Ecom1</td>\n",
       "      <td>Delivered</td>\n",
       "      <td>11/2/2020</td>\n",
       "      <td>Los Angeles</td>\n",
       "      <td>CA</td>\n",
       "      <td>90012</td>\n",
       "      <td>FEH</td>\n",
       "      <td>10/30/2020</td>\n",
       "      <td>6.5</td>\n",
       "      <td>1.0</td>\n",
       "    </tr>\n",
       "    <tr>\n",
       "      <th>2</th>\n",
       "      <td>Ecom1</td>\n",
       "      <td>Delivered</td>\n",
       "      <td>11/2/2020</td>\n",
       "      <td>La Verne</td>\n",
       "      <td>CA</td>\n",
       "      <td>91750</td>\n",
       "      <td>FEH</td>\n",
       "      <td>10/30/2020</td>\n",
       "      <td>6.5</td>\n",
       "      <td>1.0</td>\n",
       "    </tr>\n",
       "    <tr>\n",
       "      <th>3</th>\n",
       "      <td>Ecom1</td>\n",
       "      <td>Delivered</td>\n",
       "      <td>11/2/2020</td>\n",
       "      <td>Lancaster</td>\n",
       "      <td>CA</td>\n",
       "      <td>93536</td>\n",
       "      <td>FEH</td>\n",
       "      <td>10/30/2020</td>\n",
       "      <td>6.5</td>\n",
       "      <td>1.0</td>\n",
       "    </tr>\n",
       "    <tr>\n",
       "      <th>4</th>\n",
       "      <td>Ecom1</td>\n",
       "      <td>Delivered</td>\n",
       "      <td>11/2/2020</td>\n",
       "      <td>Reseda</td>\n",
       "      <td>CA</td>\n",
       "      <td>91335</td>\n",
       "      <td>FEH</td>\n",
       "      <td>10/30/2020</td>\n",
       "      <td>6.5</td>\n",
       "      <td>1.0</td>\n",
       "    </tr>\n",
       "  </tbody>\n",
       "</table>\n",
       "</div>"
      ],
      "text/plain": [
       "  Company Name     Status  Ship Date         City State    Zip  \\\n",
       "0        Ecom1  Delivered  11/2/2020      Topanga    CA  90290   \n",
       "1        Ecom1  Delivered  11/2/2020  Los Angeles    CA  90012   \n",
       "2        Ecom1  Delivered  11/2/2020     La Verne    CA  91750   \n",
       "3        Ecom1  Delivered  11/2/2020    Lancaster    CA  93536   \n",
       "4        Ecom1  Delivered  11/2/2020       Reseda    CA  91335   \n",
       "\n",
       "  Shipping Service Created Date  Weight  Item/Bottle Count  \n",
       "0              FEH   10/30/2020     6.5                1.0  \n",
       "1              FEH   10/30/2020     6.5                1.0  \n",
       "2              FEH   10/30/2020     6.5                1.0  \n",
       "3              FEH   10/30/2020     6.5                1.0  \n",
       "4              FEH   10/30/2020     6.5                1.0  "
      ]
     },
     "execution_count": 3,
     "metadata": {},
     "output_type": "execute_result"
    }
   ],
   "source": [
    "# Read the November CSV into a DataFrame\n",
    "#Had to open each file in excel and save it as a .csv file instead of an .xlsm file in order for the encryption to be read properly.\n",
    "df_2020_11 = pd.read_csv(load_2020_11)\n",
    "df_2020_11.head()"
   ]
  },
  {
   "cell_type": "markdown",
   "id": "175df6a6",
   "metadata": {},
   "source": [
    "## Inspect the Data"
   ]
  },
  {
   "cell_type": "code",
   "execution_count": 4,
   "id": "2cdb2387",
   "metadata": {},
   "outputs": [
    {
     "data": {
      "text/html": [
       "<div>\n",
       "<style scoped>\n",
       "    .dataframe tbody tr th:only-of-type {\n",
       "        vertical-align: middle;\n",
       "    }\n",
       "\n",
       "    .dataframe tbody tr th {\n",
       "        vertical-align: top;\n",
       "    }\n",
       "\n",
       "    .dataframe thead th {\n",
       "        text-align: right;\n",
       "    }\n",
       "</style>\n",
       "<table border=\"1\" class=\"dataframe\">\n",
       "  <thead>\n",
       "    <tr style=\"text-align: right;\">\n",
       "      <th></th>\n",
       "      <th>Company Name</th>\n",
       "      <th>Status</th>\n",
       "      <th>Ship Date</th>\n",
       "      <th>City</th>\n",
       "      <th>State</th>\n",
       "      <th>Zip</th>\n",
       "      <th>Shipping Service</th>\n",
       "      <th>Created Date</th>\n",
       "      <th>Weight</th>\n",
       "      <th>Item/Bottle Count</th>\n",
       "    </tr>\n",
       "  </thead>\n",
       "  <tbody>\n",
       "    <tr>\n",
       "      <th>18721</th>\n",
       "      <td>Ecom3</td>\n",
       "      <td>In Transit</td>\n",
       "      <td>11/27/2020</td>\n",
       "      <td>East Amherst</td>\n",
       "      <td>NY</td>\n",
       "      <td>14051</td>\n",
       "      <td>FEH</td>\n",
       "      <td>11/25/2020</td>\n",
       "      <td>18.5</td>\n",
       "      <td>5.0</td>\n",
       "    </tr>\n",
       "    <tr>\n",
       "      <th>5480</th>\n",
       "      <td>Winery1</td>\n",
       "      <td>Delivered</td>\n",
       "      <td>11/9/2020</td>\n",
       "      <td>Chico</td>\n",
       "      <td>CA</td>\n",
       "      <td>95928</td>\n",
       "      <td>UPS</td>\n",
       "      <td>11/3/2020</td>\n",
       "      <td>14.0</td>\n",
       "      <td>4.0</td>\n",
       "    </tr>\n",
       "    <tr>\n",
       "      <th>22071</th>\n",
       "      <td>Ecom3</td>\n",
       "      <td>In Transit</td>\n",
       "      <td>11/30/2020</td>\n",
       "      <td>FORT MYERS</td>\n",
       "      <td>FL</td>\n",
       "      <td>33913</td>\n",
       "      <td>UPS</td>\n",
       "      <td>11/28/2020</td>\n",
       "      <td>21.5</td>\n",
       "      <td>6.0</td>\n",
       "    </tr>\n",
       "    <tr>\n",
       "      <th>12141</th>\n",
       "      <td>Ecom2</td>\n",
       "      <td>Shipped</td>\n",
       "      <td>11/19/2020</td>\n",
       "      <td>Charlottesville</td>\n",
       "      <td>VA</td>\n",
       "      <td>22902</td>\n",
       "      <td>FEH</td>\n",
       "      <td>11/18/2020</td>\n",
       "      <td>7.0</td>\n",
       "      <td>2.0</td>\n",
       "    </tr>\n",
       "    <tr>\n",
       "      <th>9862</th>\n",
       "      <td>Ecom2</td>\n",
       "      <td>In Transit</td>\n",
       "      <td>11/18/2020</td>\n",
       "      <td>Murrells Inlet</td>\n",
       "      <td>SC</td>\n",
       "      <td>29576</td>\n",
       "      <td>FEH</td>\n",
       "      <td>11/17/2020</td>\n",
       "      <td>7.0</td>\n",
       "      <td>2.0</td>\n",
       "    </tr>\n",
       "  </tbody>\n",
       "</table>\n",
       "</div>"
      ],
      "text/plain": [
       "      Company Name      Status   Ship Date             City State    Zip  \\\n",
       "18721        Ecom3  In Transit  11/27/2020     East Amherst    NY  14051   \n",
       "5480       Winery1   Delivered   11/9/2020            Chico    CA  95928   \n",
       "22071        Ecom3  In Transit  11/30/2020       FORT MYERS    FL  33913   \n",
       "12141        Ecom2     Shipped  11/19/2020  Charlottesville    VA  22902   \n",
       "9862         Ecom2  In Transit  11/18/2020   Murrells Inlet    SC  29576   \n",
       "\n",
       "      Shipping Service Created Date  Weight  Item/Bottle Count  \n",
       "18721              FEH   11/25/2020    18.5                5.0  \n",
       "5480               UPS    11/3/2020    14.0                4.0  \n",
       "22071              UPS   11/28/2020    21.5                6.0  \n",
       "12141              FEH   11/18/2020     7.0                2.0  \n",
       "9862               FEH   11/17/2020     7.0                2.0  "
      ]
     },
     "execution_count": 4,
     "metadata": {},
     "output_type": "execute_result"
    }
   ],
   "source": [
    "#See five random rows of data\n",
    "df_2020_11.sample(n=5)"
   ]
  },
  {
   "cell_type": "code",
   "execution_count": 5,
   "id": "a7bdb733",
   "metadata": {},
   "outputs": [
    {
     "data": {
      "text/html": [
       "<div>\n",
       "<style scoped>\n",
       "    .dataframe tbody tr th:only-of-type {\n",
       "        vertical-align: middle;\n",
       "    }\n",
       "\n",
       "    .dataframe tbody tr th {\n",
       "        vertical-align: top;\n",
       "    }\n",
       "\n",
       "    .dataframe thead th {\n",
       "        text-align: right;\n",
       "    }\n",
       "</style>\n",
       "<table border=\"1\" class=\"dataframe\">\n",
       "  <thead>\n",
       "    <tr style=\"text-align: right;\">\n",
       "      <th></th>\n",
       "      <th>Company Name</th>\n",
       "      <th>Status</th>\n",
       "      <th>Ship Date</th>\n",
       "      <th>City</th>\n",
       "      <th>State</th>\n",
       "      <th>Zip</th>\n",
       "      <th>Shipping Service</th>\n",
       "      <th>Created Date</th>\n",
       "      <th>Weight</th>\n",
       "      <th>Item/Bottle Count</th>\n",
       "    </tr>\n",
       "  </thead>\n",
       "  <tbody>\n",
       "    <tr>\n",
       "      <th>22935</th>\n",
       "      <td>Winery3</td>\n",
       "      <td>NaN</td>\n",
       "      <td>11/30/2020</td>\n",
       "      <td>Morgantown</td>\n",
       "      <td>WV</td>\n",
       "      <td>26501</td>\n",
       "      <td>UPS</td>\n",
       "      <td>NaN</td>\n",
       "      <td>NaN</td>\n",
       "      <td>NaN</td>\n",
       "    </tr>\n",
       "    <tr>\n",
       "      <th>22936</th>\n",
       "      <td>Winery3</td>\n",
       "      <td>NaN</td>\n",
       "      <td>11/30/2020</td>\n",
       "      <td>Keller</td>\n",
       "      <td>TX</td>\n",
       "      <td>76248</td>\n",
       "      <td>UPS</td>\n",
       "      <td>NaN</td>\n",
       "      <td>NaN</td>\n",
       "      <td>NaN</td>\n",
       "    </tr>\n",
       "    <tr>\n",
       "      <th>22937</th>\n",
       "      <td>Winery3</td>\n",
       "      <td>NaN</td>\n",
       "      <td>11/30/2020</td>\n",
       "      <td>Quincy</td>\n",
       "      <td>MA</td>\n",
       "      <td>2169</td>\n",
       "      <td>UPS</td>\n",
       "      <td>NaN</td>\n",
       "      <td>NaN</td>\n",
       "      <td>NaN</td>\n",
       "    </tr>\n",
       "    <tr>\n",
       "      <th>22938</th>\n",
       "      <td>Winery3</td>\n",
       "      <td>NaN</td>\n",
       "      <td>11/30/2020</td>\n",
       "      <td>Union City</td>\n",
       "      <td>CA</td>\n",
       "      <td>94587</td>\n",
       "      <td>GSC</td>\n",
       "      <td>NaN</td>\n",
       "      <td>NaN</td>\n",
       "      <td>NaN</td>\n",
       "    </tr>\n",
       "    <tr>\n",
       "      <th>22939</th>\n",
       "      <td>Winery3</td>\n",
       "      <td>NaN</td>\n",
       "      <td>11/30/2020</td>\n",
       "      <td>Branson</td>\n",
       "      <td>MO</td>\n",
       "      <td>65616</td>\n",
       "      <td>UPS</td>\n",
       "      <td>NaN</td>\n",
       "      <td>NaN</td>\n",
       "      <td>NaN</td>\n",
       "    </tr>\n",
       "  </tbody>\n",
       "</table>\n",
       "</div>"
      ],
      "text/plain": [
       "      Company Name Status   Ship Date        City State    Zip  \\\n",
       "22935      Winery3    NaN  11/30/2020  Morgantown    WV  26501   \n",
       "22936      Winery3    NaN  11/30/2020      Keller    TX  76248   \n",
       "22937      Winery3    NaN  11/30/2020      Quincy    MA   2169   \n",
       "22938      Winery3    NaN  11/30/2020  Union City    CA  94587   \n",
       "22939      Winery3    NaN  11/30/2020     Branson    MO  65616   \n",
       "\n",
       "      Shipping Service Created Date  Weight  Item/Bottle Count  \n",
       "22935              UPS          NaN     NaN                NaN  \n",
       "22936              UPS          NaN     NaN                NaN  \n",
       "22937              UPS          NaN     NaN                NaN  \n",
       "22938              GSC          NaN     NaN                NaN  \n",
       "22939              UPS          NaN     NaN                NaN  "
      ]
     },
     "execution_count": 5,
     "metadata": {},
     "output_type": "execute_result"
    }
   ],
   "source": [
    "#See the last rows of data\n",
    "df_2020_11.tail(5)"
   ]
  },
  {
   "cell_type": "code",
   "execution_count": 6,
   "id": "a820ba41",
   "metadata": {},
   "outputs": [
    {
     "data": {
      "text/plain": [
       "Index(['Company Name', 'Status', 'Ship Date', 'City', 'State', 'Zip',\n",
       "       'Shipping Service', 'Created Date', 'Weight', 'Item/Bottle Count'],\n",
       "      dtype='object')"
      ]
     },
     "execution_count": 6,
     "metadata": {},
     "output_type": "execute_result"
    }
   ],
   "source": [
    "df_2020_11.columns"
   ]
  },
  {
   "cell_type": "code",
   "execution_count": 7,
   "id": "7410d9e5",
   "metadata": {},
   "outputs": [
    {
     "name": "stdout",
     "output_type": "stream",
     "text": [
      "Number of Rows:  22940\n",
      "Number of Columns:  10\n"
     ]
    }
   ],
   "source": [
    "#Determine total rows for df_2020_11.\n",
    "df_2020_11_rows = len(df_2020_11.axes[0])\n",
    "df_2020_11_cols = len(df_2020_11.axes[1])\n",
    "print(\"Number of Rows: \", df_2020_11_rows)\n",
    "print(\"Number of Columns: \", df_2020_11_cols)"
   ]
  },
  {
   "cell_type": "code",
   "execution_count": 8,
   "id": "4caf57c3",
   "metadata": {},
   "outputs": [
    {
     "data": {
      "text/plain": [
       "Company Name           0\n",
       "Status               129\n",
       "Ship Date              0\n",
       "City                   0\n",
       "State                  0\n",
       "Zip                    0\n",
       "Shipping Service       0\n",
       "Created Date         129\n",
       "Weight               129\n",
       "Item/Bottle Count    129\n",
       "dtype: int64"
      ]
     },
     "execution_count": 8,
     "metadata": {},
     "output_type": "execute_result"
    }
   ],
   "source": [
    "# Determine if there are any missing values in df_2020_11.\n",
    "df_2020_11.isnull().sum()"
   ]
  },
  {
   "cell_type": "code",
   "execution_count": 9,
   "id": "d2ad8510",
   "metadata": {},
   "outputs": [
    {
     "data": {
      "text/plain": [
       "Company Name          object\n",
       "Status                object\n",
       "Ship Date             object\n",
       "City                  object\n",
       "State                 object\n",
       "Zip                   object\n",
       "Shipping Service      object\n",
       "Created Date          object\n",
       "Weight               float64\n",
       "Item/Bottle Count    float64\n",
       "dtype: object"
      ]
     },
     "execution_count": 9,
     "metadata": {},
     "output_type": "execute_result"
    }
   ],
   "source": [
    "# Determine data types for df_2020_11.\n",
    "df_2020_11.dtypes"
   ]
  },
  {
   "cell_type": "code",
   "execution_count": 10,
   "id": "4061fbbf",
   "metadata": {},
   "outputs": [
    {
     "data": {
      "text/plain": [
       "Ecom3      8888\n",
       "Ecom2      7206\n",
       "Ecom1      3485\n",
       "Winery1    3051\n",
       "Winery2     181\n",
       "Winery3     129\n",
       "Name: Company Name, dtype: int64"
      ]
     },
     "execution_count": 10,
     "metadata": {},
     "output_type": "execute_result"
    }
   ],
   "source": [
    "df_2020_11['Company Name'].value_counts()"
   ]
  },
  {
   "cell_type": "code",
   "execution_count": 11,
   "id": "aac39571",
   "metadata": {},
   "outputs": [
    {
     "data": {
      "text/plain": [
       "11/19/2020    5210\n",
       "11/6/2020     2502\n",
       "11/20/2020    1709\n",
       "11/30/2020    1543\n",
       "11/9/2020     1514\n",
       "11/18/2020    1460\n",
       "11/23/2020    1182\n",
       "11/2/2020      955\n",
       "11/27/2020     915\n",
       "11/24/2020     863\n",
       "11/17/2020     748\n",
       "11/11/2020     642\n",
       "11/16/2020     599\n",
       "11/25/2020     583\n",
       "11/3/2020      490\n",
       "11/10/2020     460\n",
       "11/13/2020     402\n",
       "11/12/2020     348\n",
       "11/5/2020      325\n",
       "11/4/2020      280\n",
       "11/15/2020     174\n",
       "11/28/2020      36\n",
       "Name: Ship Date, dtype: int64"
      ]
     },
     "execution_count": 11,
     "metadata": {},
     "output_type": "execute_result"
    }
   ],
   "source": [
    "df_2020_11['Ship Date'].value_counts()"
   ]
  },
  {
   "cell_type": "code",
   "execution_count": 12,
   "id": "ff45ee9d",
   "metadata": {},
   "outputs": [
    {
     "data": {
      "text/plain": [
       "Delivered            10505\n",
       "In Transit            8599\n",
       "Shipped               3426\n",
       "Carrier Exception      149\n",
       "Delivery Attempt       132\n",
       "Name: Status, dtype: int64"
      ]
     },
     "execution_count": 12,
     "metadata": {},
     "output_type": "execute_result"
    }
   ],
   "source": [
    "df_2020_11['Status'].value_counts()"
   ]
  },
  {
   "cell_type": "code",
   "execution_count": 13,
   "id": "ae707cc4",
   "metadata": {},
   "outputs": [
    {
     "data": {
      "text/plain": [
       "New York         473\n",
       "Chicago          279\n",
       "Brooklyn         202\n",
       "Washington       183\n",
       "Houston          169\n",
       "                ... \n",
       "Endicott           1\n",
       "Gypsum             1\n",
       "Lower Gwynedd      1\n",
       "Trent Woods        1\n",
       "Murphysboro        1\n",
       "Name: City, Length: 5260, dtype: int64"
      ]
     },
     "execution_count": 13,
     "metadata": {},
     "output_type": "execute_result"
    }
   ],
   "source": [
    "df_2020_11['City'].value_counts()"
   ]
  },
  {
   "cell_type": "code",
   "execution_count": 14,
   "id": "a8718b4d",
   "metadata": {},
   "outputs": [
    {
     "data": {
      "text/plain": [
       "CA    2500\n",
       "NY    2268\n",
       "PA    1496\n",
       "FL    1485\n",
       "TX    1375\n",
       "NJ    1199\n",
       "IL    1071\n",
       "MA     857\n",
       "VA     791\n",
       "OH     772\n",
       "MI     686\n",
       "GA     679\n",
       "CO     617\n",
       "MD     607\n",
       "NC     580\n",
       "TN     471\n",
       "WA     455\n",
       "CT     449\n",
       "AZ     395\n",
       "MN     365\n",
       "IN     359\n",
       "WI     336\n",
       "SC     281\n",
       "MO     276\n",
       "OR     273\n",
       "DC     178\n",
       "KS     177\n",
       "NV     163\n",
       "LA     159\n",
       "HI     156\n",
       "RI     156\n",
       "NH     150\n",
       "OK     143\n",
       "IA     133\n",
       "NE     110\n",
       "ME     103\n",
       "AR      80\n",
       "MT      75\n",
       "NM      74\n",
       "DE      73\n",
       "ID      72\n",
       "WV      57\n",
       "VT      50\n",
       "AK      44\n",
       "SD      40\n",
       "ND      37\n",
       "WY      34\n",
       "AL      32\n",
       "MS       1\n",
       "Name: State, dtype: int64"
      ]
     },
     "execution_count": 14,
     "metadata": {},
     "output_type": "execute_result"
    }
   ],
   "source": [
    "df_2020_11['State'].value_counts()"
   ]
  },
  {
   "cell_type": "code",
   "execution_count": 15,
   "id": "aba1ce28",
   "metadata": {},
   "outputs": [
    {
     "data": {
      "text/plain": [
       "94558    45\n",
       "7030     44\n",
       "11201    38\n",
       "10022    36\n",
       "60614    34\n",
       "         ..\n",
       "55339     1\n",
       "30213     1\n",
       "54983     1\n",
       "4011      1\n",
       "26501     1\n",
       "Name: Zip, Length: 7760, dtype: int64"
      ]
     },
     "execution_count": 15,
     "metadata": {},
     "output_type": "execute_result"
    }
   ],
   "source": [
    "df_2020_11['Zip'].value_counts()"
   ]
  },
  {
   "cell_type": "code",
   "execution_count": 16,
   "id": "85be0dcc",
   "metadata": {},
   "outputs": [
    {
     "data": {
      "text/plain": [
       "UPS      12153\n",
       "FEH       9272\n",
       "FXG       1129\n",
       "AZS         94\n",
       "UP3         87\n",
       "FEX         59\n",
       "WCU         39\n",
       "GSC         29\n",
       "WCP         28\n",
       "UP2         22\n",
       "FXE         19\n",
       "UP1          5\n",
       "FXP          2\n",
       "UPSNS        2\n",
       "Name: Shipping Service, dtype: int64"
      ]
     },
     "execution_count": 16,
     "metadata": {},
     "output_type": "execute_result"
    }
   ],
   "source": [
    "df_2020_11['Shipping Service'].value_counts()"
   ]
  },
  {
   "cell_type": "code",
   "execution_count": 17,
   "id": "74be41f6",
   "metadata": {},
   "outputs": [
    {
     "data": {
      "text/plain": [
       "11/18/2020    6523\n",
       "11/3/2020     2992\n",
       "11/17/2020    1522\n",
       "11/23/2020     911\n",
       "11/27/2020     694\n",
       "11/24/2020     692\n",
       "11/10/2020     528\n",
       "11/29/2020     510\n",
       "11/26/2020     507\n",
       "11/11/2020     489\n",
       "11/6/2020      469\n",
       "11/16/2020     460\n",
       "11/15/2020     459\n",
       "11/20/2020     446\n",
       "11/9/2020      440\n",
       "11/22/2020     426\n",
       "11/8/2020      426\n",
       "11/1/2020      412\n",
       "11/2/2020      408\n",
       "11/25/2020     401\n",
       "11/13/2020     362\n",
       "11/28/2020     349\n",
       "11/12/2020     305\n",
       "11/4/2020      299\n",
       "11/19/2020     290\n",
       "11/5/2020      279\n",
       "11/21/2020     256\n",
       "10/30/2020     218\n",
       "10/31/2020     176\n",
       "11/7/2020      169\n",
       "11/14/2020     156\n",
       "10/26/2020     119\n",
       "11/30/2020      74\n",
       "10/27/2020      11\n",
       "10/29/2020       7\n",
       "9/30/2020        5\n",
       "10/28/2020       4\n",
       "9/2/2020         4\n",
       "10/20/2020       2\n",
       "10/13/2020       2\n",
       "9/15/2020        1\n",
       "10/14/2020       1\n",
       "10/6/2020        1\n",
       "9/21/2020        1\n",
       "10/7/2020        1\n",
       "10/12/2020       1\n",
       "9/10/2020        1\n",
       "10/16/2020       1\n",
       "10/24/2020       1\n",
       "Name: Created Date, dtype: int64"
      ]
     },
     "execution_count": 17,
     "metadata": {},
     "output_type": "execute_result"
    }
   ],
   "source": [
    "df_2020_11['Created Date'].value_counts()\n",
    "#Ok to have dates from other months- Sometimes people will create an order and hold onto it until an adult is present to sign for delivery."
   ]
  },
  {
   "cell_type": "code",
   "execution_count": 18,
   "id": "34adbd2f",
   "metadata": {},
   "outputs": [
    {
     "data": {
      "text/plain": [
       "7.00       7779\n",
       "21.50      4455\n",
       "14.00      2806\n",
       "10.50      1466\n",
       "41.00      1251\n",
       "39.00      1118\n",
       "20.20       843\n",
       "6.50        568\n",
       "9.90        502\n",
       "4.00        343\n",
       "27.00       260\n",
       "29.00       225\n",
       "18.50       214\n",
       "3.35        145\n",
       "26.00       123\n",
       "32.00       109\n",
       "35.00       108\n",
       "24.00        74\n",
       "30.00        73\n",
       "10.00        59\n",
       "33.00        54\n",
       "38.00        49\n",
       "17.20        46\n",
       "12.50        26\n",
       "7.50         20\n",
       "36.00        17\n",
       "13.50        16\n",
       "9.00         15\n",
       "17.00         9\n",
       "19.20         8\n",
       "37.00         4\n",
       "26.50         4\n",
       "3.00          3\n",
       "20.50         3\n",
       "17.50         3\n",
       "11.50         2\n",
       "2016.00       2\n",
       "14.20         1\n",
       "13.00         1\n",
       "28.50         1\n",
       "384.00        1\n",
       "720.00        1\n",
       "21.00         1\n",
       "15.20         1\n",
       "5.40          1\n",
       "1.85          1\n",
       "Name: Weight, dtype: int64"
      ]
     },
     "execution_count": 18,
     "metadata": {},
     "output_type": "execute_result"
    }
   ],
   "source": [
    "df_2020_11['Weight'].value_counts()"
   ]
  },
  {
   "cell_type": "code",
   "execution_count": 19,
   "id": "73bd62e8",
   "metadata": {},
   "outputs": [
    {
     "data": {
      "text/plain": [
       "2.0       7798\n",
       "6.0       5304\n",
       "4.0       2815\n",
       "12.0      2369\n",
       "3.0       1977\n",
       "1.0       1185\n",
       "8.0        472\n",
       "5.0        261\n",
       "7.0        206\n",
       "9.0        184\n",
       "10.0       164\n",
       "11.0        50\n",
       "13.0        14\n",
       "14.0         4\n",
       "2072.0       1\n",
       "128.0        1\n",
       "2272.0       1\n",
       "24.0         1\n",
       "18.0         1\n",
       "252.0        1\n",
       "240.0        1\n",
       "15.0         1\n",
       "Name: Item/Bottle Count, dtype: int64"
      ]
     },
     "execution_count": 19,
     "metadata": {},
     "output_type": "execute_result"
    }
   ],
   "source": [
    "df_2020_11['Item/Bottle Count'].value_counts()"
   ]
  },
  {
   "cell_type": "markdown",
   "id": "b28748d1",
   "metadata": {},
   "source": [
    "## Clean the Data"
   ]
  },
  {
   "cell_type": "code",
   "execution_count": 20,
   "id": "ae2074b6",
   "metadata": {},
   "outputs": [
    {
     "data": {
      "text/plain": [
       "Company Name          object\n",
       "Status                object\n",
       "Ship Date             object\n",
       "City                  object\n",
       "State                 object\n",
       "Zip                   object\n",
       "Shipping Service      object\n",
       "Created Date          object\n",
       "Weight               float64\n",
       "Item/Bottle Count    float64\n",
       "dtype: object"
      ]
     },
     "execution_count": 20,
     "metadata": {},
     "output_type": "execute_result"
    }
   ],
   "source": [
    "#Change [\"Item/Bottle Count\"] to float64 type in df_2020_11.\n",
    "df_2020_11[\"Item/Bottle Count\"]=df_2020_11[\"Item/Bottle Count\"].astype(float)\n",
    "df_2020_11.dtypes"
   ]
  },
  {
   "cell_type": "code",
   "execution_count": 21,
   "id": "2de5f1ce",
   "metadata": {},
   "outputs": [
    {
     "data": {
      "text/html": [
       "<div>\n",
       "<style scoped>\n",
       "    .dataframe tbody tr th:only-of-type {\n",
       "        vertical-align: middle;\n",
       "    }\n",
       "\n",
       "    .dataframe tbody tr th {\n",
       "        vertical-align: top;\n",
       "    }\n",
       "\n",
       "    .dataframe thead th {\n",
       "        text-align: right;\n",
       "    }\n",
       "</style>\n",
       "<table border=\"1\" class=\"dataframe\">\n",
       "  <thead>\n",
       "    <tr style=\"text-align: right;\">\n",
       "      <th></th>\n",
       "      <th>Company Name</th>\n",
       "      <th>Ship Date</th>\n",
       "      <th>City</th>\n",
       "      <th>State</th>\n",
       "      <th>Zip</th>\n",
       "      <th>Shipping Service</th>\n",
       "      <th>Created Date</th>\n",
       "      <th>Weight</th>\n",
       "      <th>Item/Bottle Count</th>\n",
       "    </tr>\n",
       "  </thead>\n",
       "  <tbody>\n",
       "    <tr>\n",
       "      <th>0</th>\n",
       "      <td>Ecom1</td>\n",
       "      <td>11/2/2020</td>\n",
       "      <td>Topanga</td>\n",
       "      <td>CA</td>\n",
       "      <td>90290</td>\n",
       "      <td>FEH</td>\n",
       "      <td>10/30/2020</td>\n",
       "      <td>6.5</td>\n",
       "      <td>1.0</td>\n",
       "    </tr>\n",
       "    <tr>\n",
       "      <th>1</th>\n",
       "      <td>Ecom1</td>\n",
       "      <td>11/2/2020</td>\n",
       "      <td>Los Angeles</td>\n",
       "      <td>CA</td>\n",
       "      <td>90012</td>\n",
       "      <td>FEH</td>\n",
       "      <td>10/30/2020</td>\n",
       "      <td>6.5</td>\n",
       "      <td>1.0</td>\n",
       "    </tr>\n",
       "    <tr>\n",
       "      <th>2</th>\n",
       "      <td>Ecom1</td>\n",
       "      <td>11/2/2020</td>\n",
       "      <td>La Verne</td>\n",
       "      <td>CA</td>\n",
       "      <td>91750</td>\n",
       "      <td>FEH</td>\n",
       "      <td>10/30/2020</td>\n",
       "      <td>6.5</td>\n",
       "      <td>1.0</td>\n",
       "    </tr>\n",
       "    <tr>\n",
       "      <th>3</th>\n",
       "      <td>Ecom1</td>\n",
       "      <td>11/2/2020</td>\n",
       "      <td>Lancaster</td>\n",
       "      <td>CA</td>\n",
       "      <td>93536</td>\n",
       "      <td>FEH</td>\n",
       "      <td>10/30/2020</td>\n",
       "      <td>6.5</td>\n",
       "      <td>1.0</td>\n",
       "    </tr>\n",
       "    <tr>\n",
       "      <th>4</th>\n",
       "      <td>Ecom1</td>\n",
       "      <td>11/2/2020</td>\n",
       "      <td>Reseda</td>\n",
       "      <td>CA</td>\n",
       "      <td>91335</td>\n",
       "      <td>FEH</td>\n",
       "      <td>10/30/2020</td>\n",
       "      <td>6.5</td>\n",
       "      <td>1.0</td>\n",
       "    </tr>\n",
       "    <tr>\n",
       "      <th>...</th>\n",
       "      <td>...</td>\n",
       "      <td>...</td>\n",
       "      <td>...</td>\n",
       "      <td>...</td>\n",
       "      <td>...</td>\n",
       "      <td>...</td>\n",
       "      <td>...</td>\n",
       "      <td>...</td>\n",
       "      <td>...</td>\n",
       "    </tr>\n",
       "    <tr>\n",
       "      <th>22935</th>\n",
       "      <td>Winery3</td>\n",
       "      <td>11/30/2020</td>\n",
       "      <td>Morgantown</td>\n",
       "      <td>WV</td>\n",
       "      <td>26501</td>\n",
       "      <td>UPS</td>\n",
       "      <td>NaN</td>\n",
       "      <td>NaN</td>\n",
       "      <td>NaN</td>\n",
       "    </tr>\n",
       "    <tr>\n",
       "      <th>22936</th>\n",
       "      <td>Winery3</td>\n",
       "      <td>11/30/2020</td>\n",
       "      <td>Keller</td>\n",
       "      <td>TX</td>\n",
       "      <td>76248</td>\n",
       "      <td>UPS</td>\n",
       "      <td>NaN</td>\n",
       "      <td>NaN</td>\n",
       "      <td>NaN</td>\n",
       "    </tr>\n",
       "    <tr>\n",
       "      <th>22937</th>\n",
       "      <td>Winery3</td>\n",
       "      <td>11/30/2020</td>\n",
       "      <td>Quincy</td>\n",
       "      <td>MA</td>\n",
       "      <td>2169</td>\n",
       "      <td>UPS</td>\n",
       "      <td>NaN</td>\n",
       "      <td>NaN</td>\n",
       "      <td>NaN</td>\n",
       "    </tr>\n",
       "    <tr>\n",
       "      <th>22938</th>\n",
       "      <td>Winery3</td>\n",
       "      <td>11/30/2020</td>\n",
       "      <td>Union City</td>\n",
       "      <td>CA</td>\n",
       "      <td>94587</td>\n",
       "      <td>GSC</td>\n",
       "      <td>NaN</td>\n",
       "      <td>NaN</td>\n",
       "      <td>NaN</td>\n",
       "    </tr>\n",
       "    <tr>\n",
       "      <th>22939</th>\n",
       "      <td>Winery3</td>\n",
       "      <td>11/30/2020</td>\n",
       "      <td>Branson</td>\n",
       "      <td>MO</td>\n",
       "      <td>65616</td>\n",
       "      <td>UPS</td>\n",
       "      <td>NaN</td>\n",
       "      <td>NaN</td>\n",
       "      <td>NaN</td>\n",
       "    </tr>\n",
       "  </tbody>\n",
       "</table>\n",
       "<p>22940 rows × 9 columns</p>\n",
       "</div>"
      ],
      "text/plain": [
       "      Company Name   Ship Date         City State    Zip Shipping Service  \\\n",
       "0            Ecom1   11/2/2020      Topanga    CA  90290              FEH   \n",
       "1            Ecom1   11/2/2020  Los Angeles    CA  90012              FEH   \n",
       "2            Ecom1   11/2/2020     La Verne    CA  91750              FEH   \n",
       "3            Ecom1   11/2/2020    Lancaster    CA  93536              FEH   \n",
       "4            Ecom1   11/2/2020       Reseda    CA  91335              FEH   \n",
       "...            ...         ...          ...   ...    ...              ...   \n",
       "22935      Winery3  11/30/2020   Morgantown    WV  26501              UPS   \n",
       "22936      Winery3  11/30/2020       Keller    TX  76248              UPS   \n",
       "22937      Winery3  11/30/2020       Quincy    MA   2169              UPS   \n",
       "22938      Winery3  11/30/2020   Union City    CA  94587              GSC   \n",
       "22939      Winery3  11/30/2020      Branson    MO  65616              UPS   \n",
       "\n",
       "      Created Date  Weight  Item/Bottle Count  \n",
       "0       10/30/2020     6.5                1.0  \n",
       "1       10/30/2020     6.5                1.0  \n",
       "2       10/30/2020     6.5                1.0  \n",
       "3       10/30/2020     6.5                1.0  \n",
       "4       10/30/2020     6.5                1.0  \n",
       "...            ...     ...                ...  \n",
       "22935          NaN     NaN                NaN  \n",
       "22936          NaN     NaN                NaN  \n",
       "22937          NaN     NaN                NaN  \n",
       "22938          NaN     NaN                NaN  \n",
       "22939          NaN     NaN                NaN  \n",
       "\n",
       "[22940 rows x 9 columns]"
      ]
     },
     "execution_count": 21,
     "metadata": {},
     "output_type": "execute_result"
    }
   ],
   "source": [
    "#Remove \"Status\" column from df_2020_11.\n",
    "df_2020_11 = df_2020_11.drop('Status', axis=1)\n",
    "df_2020_11"
   ]
  },
  {
   "cell_type": "code",
   "execution_count": 22,
   "id": "0374b7d7",
   "metadata": {},
   "outputs": [],
   "source": [
    "# Drop the NaNs for df_2020_11.\n",
    "df_2020_11 = df_2020_11.dropna()"
   ]
  },
  {
   "cell_type": "markdown",
   "id": "b54ac18d",
   "metadata": {},
   "source": [
    "## Confirm Changes"
   ]
  },
  {
   "cell_type": "code",
   "execution_count": 23,
   "id": "717b65ec",
   "metadata": {},
   "outputs": [
    {
     "data": {
      "text/html": [
       "<div>\n",
       "<style scoped>\n",
       "    .dataframe tbody tr th:only-of-type {\n",
       "        vertical-align: middle;\n",
       "    }\n",
       "\n",
       "    .dataframe tbody tr th {\n",
       "        vertical-align: top;\n",
       "    }\n",
       "\n",
       "    .dataframe thead th {\n",
       "        text-align: right;\n",
       "    }\n",
       "</style>\n",
       "<table border=\"1\" class=\"dataframe\">\n",
       "  <thead>\n",
       "    <tr style=\"text-align: right;\">\n",
       "      <th></th>\n",
       "      <th>Company Name</th>\n",
       "      <th>Ship Date</th>\n",
       "      <th>City</th>\n",
       "      <th>State</th>\n",
       "      <th>Zip</th>\n",
       "      <th>Shipping Service</th>\n",
       "      <th>Created Date</th>\n",
       "      <th>Weight</th>\n",
       "      <th>Item/Bottle Count</th>\n",
       "    </tr>\n",
       "  </thead>\n",
       "  <tbody>\n",
       "    <tr>\n",
       "      <th>4986</th>\n",
       "      <td>Winery2</td>\n",
       "      <td>11/13/2020</td>\n",
       "      <td>Houston</td>\n",
       "      <td>TX</td>\n",
       "      <td>77025</td>\n",
       "      <td>UPS</td>\n",
       "      <td>11/10/2020</td>\n",
       "      <td>27.0</td>\n",
       "      <td>8.0</td>\n",
       "    </tr>\n",
       "    <tr>\n",
       "      <th>14632</th>\n",
       "      <td>Ecom2</td>\n",
       "      <td>11/19/2020</td>\n",
       "      <td>Destrehan</td>\n",
       "      <td>LA</td>\n",
       "      <td>70047</td>\n",
       "      <td>FEH</td>\n",
       "      <td>11/18/2020</td>\n",
       "      <td>7.0</td>\n",
       "      <td>2.0</td>\n",
       "    </tr>\n",
       "    <tr>\n",
       "      <th>21201</th>\n",
       "      <td>Ecom3</td>\n",
       "      <td>11/27/2020</td>\n",
       "      <td>New York</td>\n",
       "      <td>NY</td>\n",
       "      <td>10044</td>\n",
       "      <td>FEH</td>\n",
       "      <td>11/26/2020</td>\n",
       "      <td>21.5</td>\n",
       "      <td>6.0</td>\n",
       "    </tr>\n",
       "    <tr>\n",
       "      <th>1936</th>\n",
       "      <td>Winery1</td>\n",
       "      <td>11/6/2020</td>\n",
       "      <td>KINGWOOD</td>\n",
       "      <td>TX</td>\n",
       "      <td>77339</td>\n",
       "      <td>UPS</td>\n",
       "      <td>11/3/2020</td>\n",
       "      <td>14.0</td>\n",
       "      <td>4.0</td>\n",
       "    </tr>\n",
       "    <tr>\n",
       "      <th>17554</th>\n",
       "      <td>Ecom3</td>\n",
       "      <td>11/17/2020</td>\n",
       "      <td>New York</td>\n",
       "      <td>NY</td>\n",
       "      <td>10024</td>\n",
       "      <td>FEH</td>\n",
       "      <td>11/16/2020</td>\n",
       "      <td>9.9</td>\n",
       "      <td>3.0</td>\n",
       "    </tr>\n",
       "  </tbody>\n",
       "</table>\n",
       "</div>"
      ],
      "text/plain": [
       "      Company Name   Ship Date       City State    Zip Shipping Service  \\\n",
       "4986       Winery2  11/13/2020    Houston    TX  77025              UPS   \n",
       "14632        Ecom2  11/19/2020  Destrehan    LA  70047              FEH   \n",
       "21201        Ecom3  11/27/2020   New York    NY  10044              FEH   \n",
       "1936       Winery1   11/6/2020   KINGWOOD    TX  77339              UPS   \n",
       "17554        Ecom3  11/17/2020   New York    NY  10024              FEH   \n",
       "\n",
       "      Created Date  Weight  Item/Bottle Count  \n",
       "4986    11/10/2020    27.0                8.0  \n",
       "14632   11/18/2020     7.0                2.0  \n",
       "21201   11/26/2020    21.5                6.0  \n",
       "1936     11/3/2020    14.0                4.0  \n",
       "17554   11/16/2020     9.9                3.0  "
      ]
     },
     "execution_count": 23,
     "metadata": {},
     "output_type": "execute_result"
    }
   ],
   "source": [
    "#See five random rows of data\n",
    "df_2020_11.sample(n=5)"
   ]
  },
  {
   "cell_type": "code",
   "execution_count": 24,
   "id": "2f59ad5f",
   "metadata": {},
   "outputs": [
    {
     "name": "stdout",
     "output_type": "stream",
     "text": [
      "Number of Rows:  22811\n",
      "Number of Columns:  9\n"
     ]
    }
   ],
   "source": [
    "#Determine total rows for df_2020_11.\n",
    "df_2020_11_rows = len(df_2020_11.axes[0])\n",
    "df_2020_11_cols = len(df_2020_11.axes[1])\n",
    "print(\"Number of Rows: \", df_2020_11_rows)\n",
    "print(\"Number of Columns: \", df_2020_11_cols)"
   ]
  },
  {
   "cell_type": "markdown",
   "id": "625b4837",
   "metadata": {},
   "source": [
    "## Export Cleaned df to .CSV"
   ]
  },
  {
   "cell_type": "code",
   "execution_count": 25,
   "id": "f5a7980c",
   "metadata": {},
   "outputs": [],
   "source": [
    "#Export df_2020_11 to .csv\n",
    "df_2020_11.to_csv('../cleaned_months_2020/Clean_2020_11.csv') "
   ]
  },
  {
   "cell_type": "code",
   "execution_count": null,
   "id": "aafdefb9",
   "metadata": {},
   "outputs": [],
   "source": []
  }
 ],
 "metadata": {
  "kernelspec": {
   "display_name": "Python 3 (ipykernel)",
   "language": "python",
   "name": "python3"
  },
  "language_info": {
   "codemirror_mode": {
    "name": "ipython",
    "version": 3
   },
   "file_extension": ".py",
   "mimetype": "text/x-python",
   "name": "python",
   "nbconvert_exporter": "python",
   "pygments_lexer": "ipython3",
   "version": "3.7.13"
  }
 },
 "nbformat": 4,
 "nbformat_minor": 5
}
