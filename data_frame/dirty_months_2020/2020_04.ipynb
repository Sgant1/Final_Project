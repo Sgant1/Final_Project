{
 "cells": [
  {
   "cell_type": "code",
   "execution_count": 2,
   "id": "1f30ec89",
   "metadata": {},
   "outputs": [],
   "source": [
    "#Pandas library to create DataFrames\n",
    "import pandas as pd\n",
    "#NumPy library for converting data types\n",
    "import numpy as np"
   ]
  },
  {
   "cell_type": "code",
   "execution_count": 3,
   "id": "7d4569c3",
   "metadata": {},
   "outputs": [],
   "source": [
    "# Files to load\n",
    "load_2020_04 = \"../../2020_Data/2020.04.csv\""
   ]
  },
  {
   "cell_type": "code",
   "execution_count": 4,
   "id": "5bf26e77",
   "metadata": {},
   "outputs": [
    {
     "data": {
      "text/html": [
       "<div>\n",
       "<style scoped>\n",
       "    .dataframe tbody tr th:only-of-type {\n",
       "        vertical-align: middle;\n",
       "    }\n",
       "\n",
       "    .dataframe tbody tr th {\n",
       "        vertical-align: top;\n",
       "    }\n",
       "\n",
       "    .dataframe thead th {\n",
       "        text-align: right;\n",
       "    }\n",
       "</style>\n",
       "<table border=\"1\" class=\"dataframe\">\n",
       "  <thead>\n",
       "    <tr style=\"text-align: right;\">\n",
       "      <th></th>\n",
       "      <th>Company Name</th>\n",
       "      <th>Status</th>\n",
       "      <th>Ship Date</th>\n",
       "      <th>City</th>\n",
       "      <th>State</th>\n",
       "      <th>Zip</th>\n",
       "      <th>Shipping Service</th>\n",
       "      <th>Created Date</th>\n",
       "      <th>Weight</th>\n",
       "      <th>Item/Bottle Count</th>\n",
       "    </tr>\n",
       "  </thead>\n",
       "  <tbody>\n",
       "    <tr>\n",
       "      <th>0</th>\n",
       "      <td>Ecom3</td>\n",
       "      <td>In Transit</td>\n",
       "      <td>4/2/20</td>\n",
       "      <td>Marco Island</td>\n",
       "      <td>FL</td>\n",
       "      <td>34145</td>\n",
       "      <td>UPS</td>\n",
       "      <td>4/1/20</td>\n",
       "      <td>21.5</td>\n",
       "      <td>6.0</td>\n",
       "    </tr>\n",
       "    <tr>\n",
       "      <th>1</th>\n",
       "      <td>Ecom3</td>\n",
       "      <td>Delivered</td>\n",
       "      <td>4/1/20</td>\n",
       "      <td>Dana Point</td>\n",
       "      <td>CA</td>\n",
       "      <td>92629</td>\n",
       "      <td>UPS</td>\n",
       "      <td>4/1/20</td>\n",
       "      <td>18.5</td>\n",
       "      <td>5.0</td>\n",
       "    </tr>\n",
       "    <tr>\n",
       "      <th>2</th>\n",
       "      <td>Ecom3</td>\n",
       "      <td>In Transit</td>\n",
       "      <td>4/2/20</td>\n",
       "      <td>Port Orange</td>\n",
       "      <td>FL</td>\n",
       "      <td>32127</td>\n",
       "      <td>UPS</td>\n",
       "      <td>4/2/20</td>\n",
       "      <td>9.9</td>\n",
       "      <td>3.0</td>\n",
       "    </tr>\n",
       "    <tr>\n",
       "      <th>3</th>\n",
       "      <td>Ecom3</td>\n",
       "      <td>Delivered</td>\n",
       "      <td>4/3/20</td>\n",
       "      <td>Glen Mills</td>\n",
       "      <td>PA</td>\n",
       "      <td>19342</td>\n",
       "      <td>UPS</td>\n",
       "      <td>4/2/20</td>\n",
       "      <td>41.0</td>\n",
       "      <td>12.0</td>\n",
       "    </tr>\n",
       "    <tr>\n",
       "      <th>4</th>\n",
       "      <td>Ecom3</td>\n",
       "      <td>Delivered</td>\n",
       "      <td>4/1/20</td>\n",
       "      <td>San Diego</td>\n",
       "      <td>CA</td>\n",
       "      <td>92130</td>\n",
       "      <td>UPS</td>\n",
       "      <td>4/1/20</td>\n",
       "      <td>21.5</td>\n",
       "      <td>6.0</td>\n",
       "    </tr>\n",
       "  </tbody>\n",
       "</table>\n",
       "</div>"
      ],
      "text/plain": [
       "  Company Name      Status Ship Date          City State    Zip  \\\n",
       "0        Ecom3  In Transit    4/2/20  Marco Island    FL  34145   \n",
       "1        Ecom3   Delivered    4/1/20    Dana Point    CA  92629   \n",
       "2        Ecom3  In Transit    4/2/20   Port Orange    FL  32127   \n",
       "3        Ecom3   Delivered    4/3/20    Glen Mills    PA  19342   \n",
       "4        Ecom3   Delivered    4/1/20     San Diego    CA  92130   \n",
       "\n",
       "  Shipping Service Created Date  Weight  Item/Bottle Count  \n",
       "0              UPS       4/1/20    21.5                6.0  \n",
       "1              UPS       4/1/20    18.5                5.0  \n",
       "2              UPS       4/2/20     9.9                3.0  \n",
       "3              UPS       4/2/20    41.0               12.0  \n",
       "4              UPS       4/1/20    21.5                6.0  "
      ]
     },
     "execution_count": 4,
     "metadata": {},
     "output_type": "execute_result"
    }
   ],
   "source": [
    "# Read the April CSV into a DataFrame\n",
    "#Had to open each file in excel and save it as a .csv file instead of an .xlsm file in order for the encryption to be read properly.\n",
    "df_2020_04 = pd.read_csv(load_2020_04)\n",
    "df_2020_04.head()"
   ]
  },
  {
   "cell_type": "markdown",
   "id": "175df6a6",
   "metadata": {},
   "source": [
    "## Inspect the Data"
   ]
  },
  {
   "cell_type": "code",
   "execution_count": 5,
   "id": "2cdb2387",
   "metadata": {},
   "outputs": [
    {
     "data": {
      "text/html": [
       "<div>\n",
       "<style scoped>\n",
       "    .dataframe tbody tr th:only-of-type {\n",
       "        vertical-align: middle;\n",
       "    }\n",
       "\n",
       "    .dataframe tbody tr th {\n",
       "        vertical-align: top;\n",
       "    }\n",
       "\n",
       "    .dataframe thead th {\n",
       "        text-align: right;\n",
       "    }\n",
       "</style>\n",
       "<table border=\"1\" class=\"dataframe\">\n",
       "  <thead>\n",
       "    <tr style=\"text-align: right;\">\n",
       "      <th></th>\n",
       "      <th>Company Name</th>\n",
       "      <th>Status</th>\n",
       "      <th>Ship Date</th>\n",
       "      <th>City</th>\n",
       "      <th>State</th>\n",
       "      <th>Zip</th>\n",
       "      <th>Shipping Service</th>\n",
       "      <th>Created Date</th>\n",
       "      <th>Weight</th>\n",
       "      <th>Item/Bottle Count</th>\n",
       "    </tr>\n",
       "  </thead>\n",
       "  <tbody>\n",
       "    <tr>\n",
       "      <th>4961</th>\n",
       "      <td>Ecom3</td>\n",
       "      <td>Delivered</td>\n",
       "      <td>4/7/20</td>\n",
       "      <td>Denver</td>\n",
       "      <td>CO</td>\n",
       "      <td>80211</td>\n",
       "      <td>UPS</td>\n",
       "      <td>4/4/20</td>\n",
       "      <td>21.5</td>\n",
       "      <td>6.0</td>\n",
       "    </tr>\n",
       "    <tr>\n",
       "      <th>6777</th>\n",
       "      <td>Winery2</td>\n",
       "      <td>Shipped</td>\n",
       "      <td>4/17/20</td>\n",
       "      <td>Holmen</td>\n",
       "      <td>WI</td>\n",
       "      <td>54636</td>\n",
       "      <td>UPS</td>\n",
       "      <td>NaN</td>\n",
       "      <td>NaN</td>\n",
       "      <td>NaN</td>\n",
       "    </tr>\n",
       "    <tr>\n",
       "      <th>1456</th>\n",
       "      <td>Winery1</td>\n",
       "      <td>Shipped</td>\n",
       "      <td>4/3/20</td>\n",
       "      <td>Chicago</td>\n",
       "      <td>IL</td>\n",
       "      <td>60614</td>\n",
       "      <td>UPS</td>\n",
       "      <td>3/31/20</td>\n",
       "      <td>39.0</td>\n",
       "      <td>12.0</td>\n",
       "    </tr>\n",
       "    <tr>\n",
       "      <th>5950</th>\n",
       "      <td>Ecom1</td>\n",
       "      <td>Delivered</td>\n",
       "      <td>4/13/20</td>\n",
       "      <td>Aventura</td>\n",
       "      <td>FL</td>\n",
       "      <td>33180</td>\n",
       "      <td>FEH</td>\n",
       "      <td>NaN</td>\n",
       "      <td>NaN</td>\n",
       "      <td>NaN</td>\n",
       "    </tr>\n",
       "    <tr>\n",
       "      <th>12500</th>\n",
       "      <td>Ecom1</td>\n",
       "      <td>Delivered</td>\n",
       "      <td>4/20/20</td>\n",
       "      <td>Elgin</td>\n",
       "      <td>TX</td>\n",
       "      <td>78621</td>\n",
       "      <td>FEH</td>\n",
       "      <td>4/19/20</td>\n",
       "      <td>39.0</td>\n",
       "      <td>12.0</td>\n",
       "    </tr>\n",
       "  </tbody>\n",
       "</table>\n",
       "</div>"
      ],
      "text/plain": [
       "      Company Name     Status Ship Date      City State    Zip  \\\n",
       "4961         Ecom3  Delivered    4/7/20    Denver    CO  80211   \n",
       "6777       Winery2    Shipped   4/17/20    Holmen    WI  54636   \n",
       "1456       Winery1    Shipped    4/3/20   Chicago    IL  60614   \n",
       "5950         Ecom1  Delivered   4/13/20  Aventura    FL  33180   \n",
       "12500        Ecom1  Delivered   4/20/20     Elgin    TX  78621   \n",
       "\n",
       "      Shipping Service Created Date  Weight  Item/Bottle Count  \n",
       "4961               UPS       4/4/20    21.5                6.0  \n",
       "6777               UPS          NaN     NaN                NaN  \n",
       "1456               UPS      3/31/20    39.0               12.0  \n",
       "5950               FEH          NaN     NaN                NaN  \n",
       "12500              FEH      4/19/20    39.0               12.0  "
      ]
     },
     "execution_count": 5,
     "metadata": {},
     "output_type": "execute_result"
    }
   ],
   "source": [
    "#See five random rows of data\n",
    "df_2020_04.sample(n=5)"
   ]
  },
  {
   "cell_type": "code",
   "execution_count": 6,
   "id": "a7bdb733",
   "metadata": {},
   "outputs": [
    {
     "data": {
      "text/html": [
       "<div>\n",
       "<style scoped>\n",
       "    .dataframe tbody tr th:only-of-type {\n",
       "        vertical-align: middle;\n",
       "    }\n",
       "\n",
       "    .dataframe tbody tr th {\n",
       "        vertical-align: top;\n",
       "    }\n",
       "\n",
       "    .dataframe thead th {\n",
       "        text-align: right;\n",
       "    }\n",
       "</style>\n",
       "<table border=\"1\" class=\"dataframe\">\n",
       "  <thead>\n",
       "    <tr style=\"text-align: right;\">\n",
       "      <th></th>\n",
       "      <th>Company Name</th>\n",
       "      <th>Status</th>\n",
       "      <th>Ship Date</th>\n",
       "      <th>City</th>\n",
       "      <th>State</th>\n",
       "      <th>Zip</th>\n",
       "      <th>Shipping Service</th>\n",
       "      <th>Created Date</th>\n",
       "      <th>Weight</th>\n",
       "      <th>Item/Bottle Count</th>\n",
       "    </tr>\n",
       "  </thead>\n",
       "  <tbody>\n",
       "    <tr>\n",
       "      <th>20799</th>\n",
       "      <td>Ecom3</td>\n",
       "      <td>Delivered</td>\n",
       "      <td>4/27/20</td>\n",
       "      <td>Bethlehem</td>\n",
       "      <td>PA</td>\n",
       "      <td>18020</td>\n",
       "      <td>UPS</td>\n",
       "      <td>4/24/20</td>\n",
       "      <td>7.0</td>\n",
       "      <td>2.0</td>\n",
       "    </tr>\n",
       "    <tr>\n",
       "      <th>20800</th>\n",
       "      <td>Ecom3</td>\n",
       "      <td>Delivered</td>\n",
       "      <td>4/27/20</td>\n",
       "      <td>Miami,</td>\n",
       "      <td>FL</td>\n",
       "      <td>33176</td>\n",
       "      <td>UPS</td>\n",
       "      <td>4/26/20</td>\n",
       "      <td>14.0</td>\n",
       "      <td>4.0</td>\n",
       "    </tr>\n",
       "    <tr>\n",
       "      <th>20801</th>\n",
       "      <td>Ecom3</td>\n",
       "      <td>In Transit</td>\n",
       "      <td>4/29/20</td>\n",
       "      <td>Glenview</td>\n",
       "      <td>IL</td>\n",
       "      <td>60026</td>\n",
       "      <td>UPS</td>\n",
       "      <td>4/28/20</td>\n",
       "      <td>21.5</td>\n",
       "      <td>6.0</td>\n",
       "    </tr>\n",
       "    <tr>\n",
       "      <th>20802</th>\n",
       "      <td>Ecom3</td>\n",
       "      <td>Delivered</td>\n",
       "      <td>4/29/20</td>\n",
       "      <td>Skaneateles</td>\n",
       "      <td>NY</td>\n",
       "      <td>13152</td>\n",
       "      <td>FEH</td>\n",
       "      <td>4/27/20</td>\n",
       "      <td>21.5</td>\n",
       "      <td>6.0</td>\n",
       "    </tr>\n",
       "    <tr>\n",
       "      <th>20803</th>\n",
       "      <td>Ecom3</td>\n",
       "      <td>Delivered</td>\n",
       "      <td>4/28/20</td>\n",
       "      <td>LORTON</td>\n",
       "      <td>VA</td>\n",
       "      <td>22079</td>\n",
       "      <td>UPS</td>\n",
       "      <td>4/26/20</td>\n",
       "      <td>21.5</td>\n",
       "      <td>6.0</td>\n",
       "    </tr>\n",
       "  </tbody>\n",
       "</table>\n",
       "</div>"
      ],
      "text/plain": [
       "      Company Name      Status Ship Date         City State    Zip  \\\n",
       "20799        Ecom3   Delivered   4/27/20    Bethlehem    PA  18020   \n",
       "20800        Ecom3   Delivered   4/27/20       Miami,    FL  33176   \n",
       "20801        Ecom3  In Transit   4/29/20     Glenview    IL  60026   \n",
       "20802        Ecom3   Delivered   4/29/20  Skaneateles    NY  13152   \n",
       "20803        Ecom3   Delivered   4/28/20       LORTON    VA  22079   \n",
       "\n",
       "      Shipping Service Created Date  Weight  Item/Bottle Count  \n",
       "20799              UPS      4/24/20     7.0                2.0  \n",
       "20800              UPS      4/26/20    14.0                4.0  \n",
       "20801              UPS      4/28/20    21.5                6.0  \n",
       "20802              FEH      4/27/20    21.5                6.0  \n",
       "20803              UPS      4/26/20    21.5                6.0  "
      ]
     },
     "execution_count": 6,
     "metadata": {},
     "output_type": "execute_result"
    }
   ],
   "source": [
    "#See the last rows of data\n",
    "df_2020_04.tail(5)"
   ]
  },
  {
   "cell_type": "code",
   "execution_count": 7,
   "id": "a820ba41",
   "metadata": {},
   "outputs": [
    {
     "data": {
      "text/plain": [
       "Index(['Company Name', 'Status', 'Ship Date', 'City', 'State', 'Zip',\n",
       "       'Shipping Service', 'Created Date', 'Weight', 'Item/Bottle Count'],\n",
       "      dtype='object')"
      ]
     },
     "execution_count": 7,
     "metadata": {},
     "output_type": "execute_result"
    }
   ],
   "source": [
    "df_2020_04.columns"
   ]
  },
  {
   "cell_type": "code",
   "execution_count": 8,
   "id": "7410d9e5",
   "metadata": {},
   "outputs": [
    {
     "name": "stdout",
     "output_type": "stream",
     "text": [
      "Number of Rows:  20804\n",
      "Number of Columns:  10\n"
     ]
    }
   ],
   "source": [
    "#Determine total rows for df_2020_04.\n",
    "df_2020_04_rows = len(df_2020_04.axes[0])\n",
    "df_2020_04_cols = len(df_2020_04.axes[1])\n",
    "print(\"Number of Rows: \", df_2020_04_rows)\n",
    "print(\"Number of Columns: \", df_2020_04_cols)"
   ]
  },
  {
   "cell_type": "code",
   "execution_count": 9,
   "id": "4caf57c3",
   "metadata": {},
   "outputs": [
    {
     "data": {
      "text/plain": [
       "Company Name            0\n",
       "Status                  0\n",
       "Ship Date               0\n",
       "City                    0\n",
       "State                   0\n",
       "Zip                     0\n",
       "Shipping Service        0\n",
       "Created Date         6439\n",
       "Weight               6439\n",
       "Item/Bottle Count    6439\n",
       "dtype: int64"
      ]
     },
     "execution_count": 9,
     "metadata": {},
     "output_type": "execute_result"
    }
   ],
   "source": [
    "# Determine if there are any missing values in df_2020_04.\n",
    "df_2020_04.isnull().sum()"
   ]
  },
  {
   "cell_type": "code",
   "execution_count": 10,
   "id": "d2ad8510",
   "metadata": {},
   "outputs": [
    {
     "data": {
      "text/plain": [
       "Company Name          object\n",
       "Status                object\n",
       "Ship Date             object\n",
       "City                  object\n",
       "State                 object\n",
       "Zip                   object\n",
       "Shipping Service      object\n",
       "Created Date          object\n",
       "Weight               float64\n",
       "Item/Bottle Count    float64\n",
       "dtype: object"
      ]
     },
     "execution_count": 10,
     "metadata": {},
     "output_type": "execute_result"
    }
   ],
   "source": [
    "# Determine data types for df_2020_04.\n",
    "df_2020_04.dtypes"
   ]
  },
  {
   "cell_type": "code",
   "execution_count": 11,
   "id": "4061fbbf",
   "metadata": {},
   "outputs": [
    {
     "data": {
      "text/plain": [
       "Ecom3      9977\n",
       "Ecom1      5165\n",
       "Winery1    2645\n",
       "Ecom2      2289\n",
       "Winery2     728\n",
       "Name: Company Name, dtype: int64"
      ]
     },
     "execution_count": 11,
     "metadata": {},
     "output_type": "execute_result"
    }
   ],
   "source": [
    "df_2020_04['Company Name'].value_counts()"
   ]
  },
  {
   "cell_type": "code",
   "execution_count": 12,
   "id": "aac39571",
   "metadata": {},
   "outputs": [
    {
     "data": {
      "text/plain": [
       "4/17/20    2977\n",
       "4/24/20    2112\n",
       "4/15/20    1318\n",
       "4/13/20    1176\n",
       "4/20/20    1131\n",
       "4/27/20    1056\n",
       "4/6/20     1005\n",
       "4/29/20     986\n",
       "4/23/20     960\n",
       "4/7/20      885\n",
       "4/1/20      871\n",
       "4/28/20     775\n",
       "4/10/20     705\n",
       "4/3/20      667\n",
       "4/22/20     660\n",
       "4/8/20      611\n",
       "4/9/20      569\n",
       "4/14/20     543\n",
       "4/21/20     482\n",
       "4/16/20     425\n",
       "4/30/20     411\n",
       "4/11/20     247\n",
       "4/2/20      232\n",
       "Name: Ship Date, dtype: int64"
      ]
     },
     "execution_count": 12,
     "metadata": {},
     "output_type": "execute_result"
    }
   ],
   "source": [
    "df_2020_04['Ship Date'].value_counts()"
   ]
  },
  {
   "cell_type": "code",
   "execution_count": 13,
   "id": "ff45ee9d",
   "metadata": {},
   "outputs": [
    {
     "data": {
      "text/plain": [
       "Delivered            11106\n",
       "In Transit            5603\n",
       "Shipped               3487\n",
       "Carrier Exception      490\n",
       "Delivery Attempt       118\n",
       "Name: Status, dtype: int64"
      ]
     },
     "execution_count": 13,
     "metadata": {},
     "output_type": "execute_result"
    }
   ],
   "source": [
    "df_2020_04['Status'].value_counts()"
   ]
  },
  {
   "cell_type": "code",
   "execution_count": 14,
   "id": "ae707cc4",
   "metadata": {},
   "outputs": [
    {
     "data": {
      "text/plain": [
       "New York          434\n",
       "Chicago           307\n",
       "Philadelphia      238\n",
       "Brooklyn          204\n",
       "Pittsburgh        201\n",
       "                 ... \n",
       "LOUISVILLE          1\n",
       "YUKON               1\n",
       "Rehoboth Beach      1\n",
       "Cardiff             1\n",
       "LORTON              1\n",
       "Name: City, Length: 5072, dtype: int64"
      ]
     },
     "execution_count": 14,
     "metadata": {},
     "output_type": "execute_result"
    }
   ],
   "source": [
    "df_2020_04['City'].value_counts()"
   ]
  },
  {
   "cell_type": "code",
   "execution_count": 15,
   "id": "a8718b4d",
   "metadata": {},
   "outputs": [
    {
     "data": {
      "text/plain": [
       "CA    2288\n",
       "NY    2135\n",
       "PA    2003\n",
       "FL    1384\n",
       "TX    1301\n",
       "NJ    1091\n",
       "IL     984\n",
       "MA     796\n",
       "MI     683\n",
       "OH     636\n",
       "VA     582\n",
       "GA     575\n",
       "NC     494\n",
       "CO     490\n",
       "MD     488\n",
       "WA     387\n",
       "CT     384\n",
       "TN     377\n",
       "AZ     350\n",
       "IN     304\n",
       "WI     258\n",
       "MN     253\n",
       "SC     227\n",
       "MO     226\n",
       "LA     212\n",
       "OR     193\n",
       "DC     172\n",
       "NV     138\n",
       "RI     134\n",
       "HI     117\n",
       "KS     111\n",
       "AR     108\n",
       "NH     105\n",
       "IA     103\n",
       "NE      88\n",
       "ME      78\n",
       "NM      73\n",
       "OK      69\n",
       "AL      66\n",
       "ID      63\n",
       "WV      52\n",
       "VT      47\n",
       "MT      44\n",
       "AK      38\n",
       "SD      26\n",
       "ND      24\n",
       "WY      24\n",
       "DE      22\n",
       "Va       1\n",
       "Name: State, dtype: int64"
      ]
     },
     "execution_count": 15,
     "metadata": {},
     "output_type": "execute_result"
    }
   ],
   "source": [
    "df_2020_04['State'].value_counts()"
   ]
  },
  {
   "cell_type": "code",
   "execution_count": 16,
   "id": "aba1ce28",
   "metadata": {},
   "outputs": [
    {
     "data": {
      "text/plain": [
       "19103         42\n",
       "10019         41\n",
       "10011         36\n",
       "10128         32\n",
       "19087         32\n",
       "              ..\n",
       "8088           1\n",
       "19128-1751     1\n",
       "6013           1\n",
       "94030          1\n",
       "13152          1\n",
       "Name: Zip, Length: 7263, dtype: int64"
      ]
     },
     "execution_count": 16,
     "metadata": {},
     "output_type": "execute_result"
    }
   ],
   "source": [
    "df_2020_04['Zip'].value_counts()"
   ]
  },
  {
   "cell_type": "code",
   "execution_count": 17,
   "id": "85be0dcc",
   "metadata": {},
   "outputs": [
    {
     "data": {
      "text/plain": [
       "UPS     11778\n",
       "FEH      7477\n",
       "FXG      1054\n",
       "LSO1      206\n",
       "FEX       117\n",
       "AZS        80\n",
       "WCU        30\n",
       "UP2        24\n",
       "FXE        21\n",
       "UP3         8\n",
       "UP1         4\n",
       "WCP         2\n",
       "FXP         2\n",
       "GSC         1\n",
       "Name: Shipping Service, dtype: int64"
      ]
     },
     "execution_count": 17,
     "metadata": {},
     "output_type": "execute_result"
    }
   ],
   "source": [
    "df_2020_04['Shipping Service'].value_counts()"
   ]
  },
  {
   "cell_type": "code",
   "execution_count": 18,
   "id": "74be41f6",
   "metadata": {},
   "outputs": [
    {
     "data": {
      "text/plain": [
       "4/23/20    2505\n",
       "4/27/20     812\n",
       "4/6/20      762\n",
       "4/28/20     705\n",
       "4/20/20     681\n",
       "4/26/20     665\n",
       "4/2/20      560\n",
       "4/24/20     513\n",
       "4/19/20     492\n",
       "4/3/20      481\n",
       "4/4/20      468\n",
       "4/17/20     461\n",
       "4/1/20      449\n",
       "4/7/20      412\n",
       "4/21/20     407\n",
       "3/31/20     402\n",
       "4/9/20      393\n",
       "3/30/20     354\n",
       "4/8/20      338\n",
       "4/10/20     325\n",
       "4/18/20     301\n",
       "4/22/20     300\n",
       "3/27/20     249\n",
       "4/25/20     230\n",
       "4/29/20     220\n",
       "4/5/20      201\n",
       "3/28/20     148\n",
       "4/15/20     114\n",
       "3/29/20     113\n",
       "3/26/20      79\n",
       "4/30/20      61\n",
       "3/25/20      45\n",
       "4/13/20      25\n",
       "4/11/20      22\n",
       "4/16/20      16\n",
       "3/17/20      13\n",
       "3/12/20      10\n",
       "4/14/20       8\n",
       "3/14/20       4\n",
       "4/12/20       4\n",
       "3/23/20       4\n",
       "3/13/20       3\n",
       "3/24/20       3\n",
       "3/16/20       2\n",
       "3/20/20       1\n",
       "2/11/20       1\n",
       "2/21/20       1\n",
       "3/18/20       1\n",
       "3/15/20       1\n",
       "Name: Created Date, dtype: int64"
      ]
     },
     "execution_count": 18,
     "metadata": {},
     "output_type": "execute_result"
    }
   ],
   "source": [
    "df_2020_04['Created Date'].value_counts()\n",
    "#Clean out March Dates (use for loop?)"
   ]
  },
  {
   "cell_type": "code",
   "execution_count": 19,
   "id": "34adbd2f",
   "metadata": {},
   "outputs": [
    {
     "data": {
      "text/plain": [
       "21.50    3155\n",
       "7.00     2929\n",
       "20.20    1220\n",
       "14.00    1182\n",
       "39.00    1181\n",
       "10.50    1174\n",
       "41.00     962\n",
       "9.90      703\n",
       "10.00     326\n",
       "18.50     287\n",
       "29.00     242\n",
       "26.00     188\n",
       "3.35      183\n",
       "20.00     168\n",
       "32.00     100\n",
       "35.00      94\n",
       "27.00      35\n",
       "4.00       34\n",
       "24.00      34\n",
       "30.00      34\n",
       "19.00      32\n",
       "38.00      24\n",
       "17.20      20\n",
       "33.00      14\n",
       "19.50      10\n",
       "23.20       9\n",
       "26.20       5\n",
       "13.50       5\n",
       "48.00       3\n",
       "13.00       3\n",
       "45.00       3\n",
       "38.20       2\n",
       "20.50       1\n",
       "39.50       1\n",
       "42.00       1\n",
       "29.20       1\n",
       "Name: Weight, dtype: int64"
      ]
     },
     "execution_count": 19,
     "metadata": {},
     "output_type": "execute_result"
    }
   ],
   "source": [
    "df_2020_04['Weight'].value_counts()"
   ]
  },
  {
   "cell_type": "code",
   "execution_count": 20,
   "id": "73bd62e8",
   "metadata": {},
   "outputs": [
    {
     "data": {
      "text/plain": [
       "6.0     4585\n",
       "1.0     2509\n",
       "3.0     2203\n",
       "12.0    2146\n",
       "4.0     1192\n",
       "2.0      639\n",
       "5.0      307\n",
       "8.0      279\n",
       "7.0      231\n",
       "9.0      135\n",
       "10.0     108\n",
       "11.0      24\n",
       "15.0       3\n",
       "14.0       3\n",
       "13.0       1\n",
       "Name: Item/Bottle Count, dtype: int64"
      ]
     },
     "execution_count": 20,
     "metadata": {},
     "output_type": "execute_result"
    }
   ],
   "source": [
    "df_2020_04['Item/Bottle Count'].value_counts()"
   ]
  },
  {
   "cell_type": "markdown",
   "id": "b28748d1",
   "metadata": {},
   "source": [
    "## Clean the Data"
   ]
  },
  {
   "cell_type": "code",
   "execution_count": 21,
   "id": "2de5f1ce",
   "metadata": {},
   "outputs": [
    {
     "data": {
      "text/html": [
       "<div>\n",
       "<style scoped>\n",
       "    .dataframe tbody tr th:only-of-type {\n",
       "        vertical-align: middle;\n",
       "    }\n",
       "\n",
       "    .dataframe tbody tr th {\n",
       "        vertical-align: top;\n",
       "    }\n",
       "\n",
       "    .dataframe thead th {\n",
       "        text-align: right;\n",
       "    }\n",
       "</style>\n",
       "<table border=\"1\" class=\"dataframe\">\n",
       "  <thead>\n",
       "    <tr style=\"text-align: right;\">\n",
       "      <th></th>\n",
       "      <th>Company Name</th>\n",
       "      <th>Ship Date</th>\n",
       "      <th>City</th>\n",
       "      <th>State</th>\n",
       "      <th>Zip</th>\n",
       "      <th>Shipping Service</th>\n",
       "      <th>Created Date</th>\n",
       "      <th>Weight</th>\n",
       "      <th>Item/Bottle Count</th>\n",
       "    </tr>\n",
       "  </thead>\n",
       "  <tbody>\n",
       "    <tr>\n",
       "      <th>0</th>\n",
       "      <td>Ecom3</td>\n",
       "      <td>4/2/20</td>\n",
       "      <td>Marco Island</td>\n",
       "      <td>FL</td>\n",
       "      <td>34145</td>\n",
       "      <td>UPS</td>\n",
       "      <td>4/1/20</td>\n",
       "      <td>21.5</td>\n",
       "      <td>6.0</td>\n",
       "    </tr>\n",
       "    <tr>\n",
       "      <th>1</th>\n",
       "      <td>Ecom3</td>\n",
       "      <td>4/1/20</td>\n",
       "      <td>Dana Point</td>\n",
       "      <td>CA</td>\n",
       "      <td>92629</td>\n",
       "      <td>UPS</td>\n",
       "      <td>4/1/20</td>\n",
       "      <td>18.5</td>\n",
       "      <td>5.0</td>\n",
       "    </tr>\n",
       "    <tr>\n",
       "      <th>2</th>\n",
       "      <td>Ecom3</td>\n",
       "      <td>4/2/20</td>\n",
       "      <td>Port Orange</td>\n",
       "      <td>FL</td>\n",
       "      <td>32127</td>\n",
       "      <td>UPS</td>\n",
       "      <td>4/2/20</td>\n",
       "      <td>9.9</td>\n",
       "      <td>3.0</td>\n",
       "    </tr>\n",
       "    <tr>\n",
       "      <th>3</th>\n",
       "      <td>Ecom3</td>\n",
       "      <td>4/3/20</td>\n",
       "      <td>Glen Mills</td>\n",
       "      <td>PA</td>\n",
       "      <td>19342</td>\n",
       "      <td>UPS</td>\n",
       "      <td>4/2/20</td>\n",
       "      <td>41.0</td>\n",
       "      <td>12.0</td>\n",
       "    </tr>\n",
       "    <tr>\n",
       "      <th>4</th>\n",
       "      <td>Ecom3</td>\n",
       "      <td>4/1/20</td>\n",
       "      <td>San Diego</td>\n",
       "      <td>CA</td>\n",
       "      <td>92130</td>\n",
       "      <td>UPS</td>\n",
       "      <td>4/1/20</td>\n",
       "      <td>21.5</td>\n",
       "      <td>6.0</td>\n",
       "    </tr>\n",
       "    <tr>\n",
       "      <th>...</th>\n",
       "      <td>...</td>\n",
       "      <td>...</td>\n",
       "      <td>...</td>\n",
       "      <td>...</td>\n",
       "      <td>...</td>\n",
       "      <td>...</td>\n",
       "      <td>...</td>\n",
       "      <td>...</td>\n",
       "      <td>...</td>\n",
       "    </tr>\n",
       "    <tr>\n",
       "      <th>20799</th>\n",
       "      <td>Ecom3</td>\n",
       "      <td>4/27/20</td>\n",
       "      <td>Bethlehem</td>\n",
       "      <td>PA</td>\n",
       "      <td>18020</td>\n",
       "      <td>UPS</td>\n",
       "      <td>4/24/20</td>\n",
       "      <td>7.0</td>\n",
       "      <td>2.0</td>\n",
       "    </tr>\n",
       "    <tr>\n",
       "      <th>20800</th>\n",
       "      <td>Ecom3</td>\n",
       "      <td>4/27/20</td>\n",
       "      <td>Miami,</td>\n",
       "      <td>FL</td>\n",
       "      <td>33176</td>\n",
       "      <td>UPS</td>\n",
       "      <td>4/26/20</td>\n",
       "      <td>14.0</td>\n",
       "      <td>4.0</td>\n",
       "    </tr>\n",
       "    <tr>\n",
       "      <th>20801</th>\n",
       "      <td>Ecom3</td>\n",
       "      <td>4/29/20</td>\n",
       "      <td>Glenview</td>\n",
       "      <td>IL</td>\n",
       "      <td>60026</td>\n",
       "      <td>UPS</td>\n",
       "      <td>4/28/20</td>\n",
       "      <td>21.5</td>\n",
       "      <td>6.0</td>\n",
       "    </tr>\n",
       "    <tr>\n",
       "      <th>20802</th>\n",
       "      <td>Ecom3</td>\n",
       "      <td>4/29/20</td>\n",
       "      <td>Skaneateles</td>\n",
       "      <td>NY</td>\n",
       "      <td>13152</td>\n",
       "      <td>FEH</td>\n",
       "      <td>4/27/20</td>\n",
       "      <td>21.5</td>\n",
       "      <td>6.0</td>\n",
       "    </tr>\n",
       "    <tr>\n",
       "      <th>20803</th>\n",
       "      <td>Ecom3</td>\n",
       "      <td>4/28/20</td>\n",
       "      <td>LORTON</td>\n",
       "      <td>VA</td>\n",
       "      <td>22079</td>\n",
       "      <td>UPS</td>\n",
       "      <td>4/26/20</td>\n",
       "      <td>21.5</td>\n",
       "      <td>6.0</td>\n",
       "    </tr>\n",
       "  </tbody>\n",
       "</table>\n",
       "<p>20804 rows × 9 columns</p>\n",
       "</div>"
      ],
      "text/plain": [
       "      Company Name Ship Date          City State    Zip Shipping Service  \\\n",
       "0            Ecom3    4/2/20  Marco Island    FL  34145              UPS   \n",
       "1            Ecom3    4/1/20    Dana Point    CA  92629              UPS   \n",
       "2            Ecom3    4/2/20   Port Orange    FL  32127              UPS   \n",
       "3            Ecom3    4/3/20    Glen Mills    PA  19342              UPS   \n",
       "4            Ecom3    4/1/20     San Diego    CA  92130              UPS   \n",
       "...            ...       ...           ...   ...    ...              ...   \n",
       "20799        Ecom3   4/27/20     Bethlehem    PA  18020              UPS   \n",
       "20800        Ecom3   4/27/20        Miami,    FL  33176              UPS   \n",
       "20801        Ecom3   4/29/20      Glenview    IL  60026              UPS   \n",
       "20802        Ecom3   4/29/20   Skaneateles    NY  13152              FEH   \n",
       "20803        Ecom3   4/28/20        LORTON    VA  22079              UPS   \n",
       "\n",
       "      Created Date  Weight  Item/Bottle Count  \n",
       "0           4/1/20    21.5                6.0  \n",
       "1           4/1/20    18.5                5.0  \n",
       "2           4/2/20     9.9                3.0  \n",
       "3           4/2/20    41.0               12.0  \n",
       "4           4/1/20    21.5                6.0  \n",
       "...            ...     ...                ...  \n",
       "20799      4/24/20     7.0                2.0  \n",
       "20800      4/26/20    14.0                4.0  \n",
       "20801      4/28/20    21.5                6.0  \n",
       "20802      4/27/20    21.5                6.0  \n",
       "20803      4/26/20    21.5                6.0  \n",
       "\n",
       "[20804 rows x 9 columns]"
      ]
     },
     "execution_count": 21,
     "metadata": {},
     "output_type": "execute_result"
    }
   ],
   "source": [
    "#Remove \"Status\" column from df_2020_04.\n",
    "df_2020_04 = df_2020_04.drop('Status', axis=1)\n",
    "df_2020_04"
   ]
  },
  {
   "cell_type": "code",
   "execution_count": 23,
   "id": "0374b7d7",
   "metadata": {},
   "outputs": [],
   "source": [
    "# Drop the NaNs for df_2020_04.\n",
    "df_2020_04 = df_2020_04.dropna()"
   ]
  },
  {
   "cell_type": "markdown",
   "id": "b54ac18d",
   "metadata": {},
   "source": [
    "## Confirm Changes"
   ]
  },
  {
   "cell_type": "code",
   "execution_count": 24,
   "id": "717b65ec",
   "metadata": {},
   "outputs": [
    {
     "data": {
      "text/html": [
       "<div>\n",
       "<style scoped>\n",
       "    .dataframe tbody tr th:only-of-type {\n",
       "        vertical-align: middle;\n",
       "    }\n",
       "\n",
       "    .dataframe tbody tr th {\n",
       "        vertical-align: top;\n",
       "    }\n",
       "\n",
       "    .dataframe thead th {\n",
       "        text-align: right;\n",
       "    }\n",
       "</style>\n",
       "<table border=\"1\" class=\"dataframe\">\n",
       "  <thead>\n",
       "    <tr style=\"text-align: right;\">\n",
       "      <th></th>\n",
       "      <th>Company Name</th>\n",
       "      <th>Ship Date</th>\n",
       "      <th>City</th>\n",
       "      <th>State</th>\n",
       "      <th>Zip</th>\n",
       "      <th>Shipping Service</th>\n",
       "      <th>Created Date</th>\n",
       "      <th>Weight</th>\n",
       "      <th>Item/Bottle Count</th>\n",
       "    </tr>\n",
       "  </thead>\n",
       "  <tbody>\n",
       "    <tr>\n",
       "      <th>2601</th>\n",
       "      <td>Ecom1</td>\n",
       "      <td>4/10/20</td>\n",
       "      <td>Ann Arbor</td>\n",
       "      <td>MI</td>\n",
       "      <td>48103</td>\n",
       "      <td>FEH</td>\n",
       "      <td>4/10/20</td>\n",
       "      <td>20.2</td>\n",
       "      <td>6.0</td>\n",
       "    </tr>\n",
       "    <tr>\n",
       "      <th>3830</th>\n",
       "      <td>Ecom3</td>\n",
       "      <td>4/7/20</td>\n",
       "      <td>Nantucket</td>\n",
       "      <td>MA</td>\n",
       "      <td>2554</td>\n",
       "      <td>FEH</td>\n",
       "      <td>4/4/20</td>\n",
       "      <td>26.0</td>\n",
       "      <td>7.0</td>\n",
       "    </tr>\n",
       "    <tr>\n",
       "      <th>1922</th>\n",
       "      <td>Ecom1</td>\n",
       "      <td>4/6/20</td>\n",
       "      <td>Gainesville</td>\n",
       "      <td>FL</td>\n",
       "      <td>32607</td>\n",
       "      <td>FEH</td>\n",
       "      <td>4/6/20</td>\n",
       "      <td>10.5</td>\n",
       "      <td>3.0</td>\n",
       "    </tr>\n",
       "    <tr>\n",
       "      <th>4261</th>\n",
       "      <td>Ecom3</td>\n",
       "      <td>4/8/20</td>\n",
       "      <td>San Antonio</td>\n",
       "      <td>TX</td>\n",
       "      <td>78260</td>\n",
       "      <td>UPS</td>\n",
       "      <td>4/5/20</td>\n",
       "      <td>9.9</td>\n",
       "      <td>3.0</td>\n",
       "    </tr>\n",
       "    <tr>\n",
       "      <th>18446</th>\n",
       "      <td>Ecom2</td>\n",
       "      <td>4/29/20</td>\n",
       "      <td>Cape Coral</td>\n",
       "      <td>FL</td>\n",
       "      <td>33914</td>\n",
       "      <td>FEH</td>\n",
       "      <td>4/28/20</td>\n",
       "      <td>7.0</td>\n",
       "      <td>1.0</td>\n",
       "    </tr>\n",
       "  </tbody>\n",
       "</table>\n",
       "</div>"
      ],
      "text/plain": [
       "      Company Name Ship Date         City State    Zip Shipping Service  \\\n",
       "2601         Ecom1   4/10/20    Ann Arbor    MI  48103              FEH   \n",
       "3830         Ecom3    4/7/20    Nantucket    MA   2554              FEH   \n",
       "1922         Ecom1    4/6/20  Gainesville    FL  32607              FEH   \n",
       "4261         Ecom3    4/8/20  San Antonio    TX  78260              UPS   \n",
       "18446        Ecom2   4/29/20   Cape Coral    FL  33914              FEH   \n",
       "\n",
       "      Created Date  Weight  Item/Bottle Count  \n",
       "2601       4/10/20    20.2                6.0  \n",
       "3830        4/4/20    26.0                7.0  \n",
       "1922        4/6/20    10.5                3.0  \n",
       "4261        4/5/20     9.9                3.0  \n",
       "18446      4/28/20     7.0                1.0  "
      ]
     },
     "execution_count": 24,
     "metadata": {},
     "output_type": "execute_result"
    }
   ],
   "source": [
    "#See five random rows of data\n",
    "df_2020_04.sample(n=5)"
   ]
  },
  {
   "cell_type": "code",
   "execution_count": 25,
   "id": "2f59ad5f",
   "metadata": {},
   "outputs": [
    {
     "name": "stdout",
     "output_type": "stream",
     "text": [
      "Number of Rows:  14365\n",
      "Number of Columns:  9\n"
     ]
    }
   ],
   "source": [
    "#Determine total rows for df_2020_04.\n",
    "df_2020_04_rows = len(df_2020_04.axes[0])\n",
    "df_2020_04_cols = len(df_2020_04.axes[1])\n",
    "print(\"Number of Rows: \", df_2020_04_rows)\n",
    "print(\"Number of Columns: \", df_2020_04_cols)"
   ]
  },
  {
   "cell_type": "markdown",
   "id": "625b4837",
   "metadata": {},
   "source": [
    "## Export Cleaned df to .CSV"
   ]
  },
  {
   "cell_type": "code",
   "execution_count": 31,
   "id": "f5a7980c",
   "metadata": {},
   "outputs": [],
   "source": [
    "#Export df_2020_04 to .csv\n",
    "df_2020_04.to_csv('../cleaned_months_2020/Clean_2020_04.csv') "
   ]
  },
  {
   "cell_type": "code",
   "execution_count": null,
   "id": "aafdefb9",
   "metadata": {},
   "outputs": [],
   "source": []
  }
 ],
 "metadata": {
  "kernelspec": {
   "display_name": "Python 3 (ipykernel)",
   "language": "python",
   "name": "python3"
  },
  "language_info": {
   "codemirror_mode": {
    "name": "ipython",
    "version": 3
   },
   "file_extension": ".py",
   "mimetype": "text/x-python",
   "name": "python",
   "nbconvert_exporter": "python",
   "pygments_lexer": "ipython3",
   "version": "3.7.13"
  }
 },
 "nbformat": 4,
 "nbformat_minor": 5
}
