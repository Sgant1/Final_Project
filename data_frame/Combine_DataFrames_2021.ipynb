{
 "cells": [
  {
   "cell_type": "code",
   "execution_count": 1,
   "id": "e0bf89d9",
   "metadata": {},
   "outputs": [],
   "source": [
    "import pandas as pd\n",
    "import os\n",
    "import numpy as np"
   ]
  },
  {
   "cell_type": "markdown",
   "id": "8c970784",
   "metadata": {},
   "source": [
    "# Import CSV files for all 12 months of 2021"
   ]
  },
  {
   "cell_type": "code",
   "execution_count": 2,
   "id": "bcedd12a",
   "metadata": {},
   "outputs": [],
   "source": [
    "# Files to load\n",
    "load_2021_01 = \"../2021_Data/2021.01.csv\"\n",
    "load_2021_02 = \"../2021_Data/2021.02.csv\"\n",
    "load_2021_03 = \"../2021_Data/copy2021.03.csv\"\n",
    "load_2021_04 = \"../2021_Data/2021.04.csv\"\n",
    "load_2021_05 = \"../2021_Data/2021.05.csv\"\n",
    "load_2021_06 = \"../2021_Data/2021.06.csv\"\n",
    "#load_2021_07 = \"../2021_Data/2021.07.csv\"\n",
    "#load_2021_08 = \"../2021_Data/2021.08.csv\"\n",
    "#load_2021_09 = \"../2021_Data/2021.09.csv\"\n",
    "#load_2021_10 = \"../2021_Data/2021.10.csv\"\n",
    "#load_2021_11 = \"../2021_Data/2021.11.csv\"\n",
    "#load_2021_12 = \"../2021_Data/2021.12.csv\""
   ]
  },
  {
   "cell_type": "markdown",
   "id": "abc5ad00",
   "metadata": {},
   "source": [
    "## Read each CSV file into individual DataFrames"
   ]
  },
  {
   "cell_type": "code",
   "execution_count": 25,
   "id": "4b81d537",
   "metadata": {},
   "outputs": [
    {
     "data": {
      "text/html": [
       "<div>\n",
       "<style scoped>\n",
       "    .dataframe tbody tr th:only-of-type {\n",
       "        vertical-align: middle;\n",
       "    }\n",
       "\n",
       "    .dataframe tbody tr th {\n",
       "        vertical-align: top;\n",
       "    }\n",
       "\n",
       "    .dataframe thead th {\n",
       "        text-align: right;\n",
       "    }\n",
       "</style>\n",
       "<table border=\"1\" class=\"dataframe\">\n",
       "  <thead>\n",
       "    <tr style=\"text-align: right;\">\n",
       "      <th></th>\n",
       "      <th>Company Name</th>\n",
       "      <th>Status</th>\n",
       "      <th>Ship Date</th>\n",
       "      <th>City</th>\n",
       "      <th>State</th>\n",
       "      <th>Zip</th>\n",
       "      <th>Shipping Service</th>\n",
       "      <th>Created Date</th>\n",
       "      <th>Weight</th>\n",
       "      <th>Item/Bottle Count</th>\n",
       "    </tr>\n",
       "  </thead>\n",
       "  <tbody>\n",
       "    <tr>\n",
       "      <th>0</th>\n",
       "      <td>Ecom1</td>\n",
       "      <td>Delivered</td>\n",
       "      <td>1/4/2021</td>\n",
       "      <td>Pleasant Prairie</td>\n",
       "      <td>WI</td>\n",
       "      <td>53158</td>\n",
       "      <td>FEH</td>\n",
       "      <td>12/7/2020</td>\n",
       "      <td>10.5</td>\n",
       "      <td>3.0</td>\n",
       "    </tr>\n",
       "    <tr>\n",
       "      <th>1</th>\n",
       "      <td>Ecom1</td>\n",
       "      <td>Delivered</td>\n",
       "      <td>1/5/2021</td>\n",
       "      <td>Beaverton</td>\n",
       "      <td>OR</td>\n",
       "      <td>97005</td>\n",
       "      <td>FEH</td>\n",
       "      <td>12/23/2020</td>\n",
       "      <td>10.5</td>\n",
       "      <td>3.0</td>\n",
       "    </tr>\n",
       "    <tr>\n",
       "      <th>2</th>\n",
       "      <td>Ecom1</td>\n",
       "      <td>Delivered</td>\n",
       "      <td>1/5/2021</td>\n",
       "      <td>Edison</td>\n",
       "      <td>NJ</td>\n",
       "      <td>8820</td>\n",
       "      <td>FEH</td>\n",
       "      <td>12/24/2020</td>\n",
       "      <td>6.5</td>\n",
       "      <td>1.0</td>\n",
       "    </tr>\n",
       "    <tr>\n",
       "      <th>3</th>\n",
       "      <td>Ecom1</td>\n",
       "      <td>Delivered</td>\n",
       "      <td>1/5/2021</td>\n",
       "      <td>Jersey city</td>\n",
       "      <td>NJ</td>\n",
       "      <td>7302</td>\n",
       "      <td>FEH</td>\n",
       "      <td>12/24/2020</td>\n",
       "      <td>6.5</td>\n",
       "      <td>1.0</td>\n",
       "    </tr>\n",
       "    <tr>\n",
       "      <th>4</th>\n",
       "      <td>Ecom1</td>\n",
       "      <td>Delivered</td>\n",
       "      <td>1/5/2021</td>\n",
       "      <td>Stoughton</td>\n",
       "      <td>MA</td>\n",
       "      <td>2072</td>\n",
       "      <td>FEH</td>\n",
       "      <td>12/24/2020</td>\n",
       "      <td>6.5</td>\n",
       "      <td>1.0</td>\n",
       "    </tr>\n",
       "  </tbody>\n",
       "</table>\n",
       "</div>"
      ],
      "text/plain": [
       "  Company Name     Status Ship Date              City State    Zip  \\\n",
       "0        Ecom1  Delivered  1/4/2021  Pleasant Prairie    WI  53158   \n",
       "1        Ecom1  Delivered  1/5/2021         Beaverton    OR  97005   \n",
       "2        Ecom1  Delivered  1/5/2021            Edison    NJ   8820   \n",
       "3        Ecom1  Delivered  1/5/2021       Jersey city    NJ   7302   \n",
       "4        Ecom1  Delivered  1/5/2021         Stoughton    MA   2072   \n",
       "\n",
       "  Shipping Service Created Date  Weight  Item/Bottle Count  \n",
       "0              FEH    12/7/2020    10.5                3.0  \n",
       "1              FEH   12/23/2020    10.5                3.0  \n",
       "2              FEH   12/24/2020     6.5                1.0  \n",
       "3              FEH   12/24/2020     6.5                1.0  \n",
       "4              FEH   12/24/2020     6.5                1.0  "
      ]
     },
     "execution_count": 25,
     "metadata": {},
     "output_type": "execute_result"
    }
   ],
   "source": [
    "# Read the January CSV into a DataFrame\n",
    "#DtypeWarning: Columns (0,1,2,3,4,5,6,7) have mixed types. Specify dtype option on import or set low_memory=False.\n",
    "#Had to open each file in excel and save it as a .csv file instead of an .xlsm file in order for the encryption to be read properly.\n",
    "df_2021_01 = pd.read_csv(load_2021_01, low_memory=False)\n",
    "df_2021_01.head()"
   ]
  },
  {
   "cell_type": "code",
   "execution_count": 4,
   "id": "9d0f7c53",
   "metadata": {},
   "outputs": [
    {
     "data": {
      "text/html": [
       "<div>\n",
       "<style scoped>\n",
       "    .dataframe tbody tr th:only-of-type {\n",
       "        vertical-align: middle;\n",
       "    }\n",
       "\n",
       "    .dataframe tbody tr th {\n",
       "        vertical-align: top;\n",
       "    }\n",
       "\n",
       "    .dataframe thead th {\n",
       "        text-align: right;\n",
       "    }\n",
       "</style>\n",
       "<table border=\"1\" class=\"dataframe\">\n",
       "  <thead>\n",
       "    <tr style=\"text-align: right;\">\n",
       "      <th></th>\n",
       "      <th>Company Name</th>\n",
       "      <th>Status</th>\n",
       "      <th>Ship Date</th>\n",
       "      <th>City</th>\n",
       "      <th>State</th>\n",
       "      <th>Zip</th>\n",
       "      <th>Shipping Service</th>\n",
       "      <th>Created Date</th>\n",
       "      <th>Weight</th>\n",
       "      <th>Item/Bottle Count</th>\n",
       "      <th>Zone</th>\n",
       "    </tr>\n",
       "  </thead>\n",
       "  <tbody>\n",
       "    <tr>\n",
       "      <th>0</th>\n",
       "      <td>Ecom1</td>\n",
       "      <td>Delivered</td>\n",
       "      <td>2/3/2021</td>\n",
       "      <td>Plant city</td>\n",
       "      <td>FL</td>\n",
       "      <td>33565</td>\n",
       "      <td>UPS</td>\n",
       "      <td>2/3/2021</td>\n",
       "      <td>10.5</td>\n",
       "      <td>3.0</td>\n",
       "      <td>NaN</td>\n",
       "    </tr>\n",
       "    <tr>\n",
       "      <th>1</th>\n",
       "      <td>Ecom1</td>\n",
       "      <td>In Transit</td>\n",
       "      <td>2/5/2021</td>\n",
       "      <td>Miami</td>\n",
       "      <td>FL</td>\n",
       "      <td>33132</td>\n",
       "      <td>FEH</td>\n",
       "      <td>1/27/2021</td>\n",
       "      <td>20.2</td>\n",
       "      <td>6.0</td>\n",
       "      <td>NaN</td>\n",
       "    </tr>\n",
       "    <tr>\n",
       "      <th>2</th>\n",
       "      <td>Ecom1</td>\n",
       "      <td>Delivered</td>\n",
       "      <td>2/3/2021</td>\n",
       "      <td>Washington</td>\n",
       "      <td>DC</td>\n",
       "      <td>20010</td>\n",
       "      <td>FEH</td>\n",
       "      <td>1/28/2021</td>\n",
       "      <td>17.2</td>\n",
       "      <td>5.0</td>\n",
       "      <td>NaN</td>\n",
       "    </tr>\n",
       "    <tr>\n",
       "      <th>3</th>\n",
       "      <td>Ecom1</td>\n",
       "      <td>In Transit</td>\n",
       "      <td>2/3/2021</td>\n",
       "      <td>Tuscaloosa</td>\n",
       "      <td>AL</td>\n",
       "      <td>35405</td>\n",
       "      <td>UPS</td>\n",
       "      <td>1/28/2021</td>\n",
       "      <td>20.2</td>\n",
       "      <td>6.0</td>\n",
       "      <td>NaN</td>\n",
       "    </tr>\n",
       "    <tr>\n",
       "      <th>4</th>\n",
       "      <td>Ecom1</td>\n",
       "      <td>In Transit</td>\n",
       "      <td>2/3/2021</td>\n",
       "      <td>Dothan</td>\n",
       "      <td>AL</td>\n",
       "      <td>36303</td>\n",
       "      <td>UPS</td>\n",
       "      <td>1/28/2021</td>\n",
       "      <td>20.2</td>\n",
       "      <td>6.0</td>\n",
       "      <td>NaN</td>\n",
       "    </tr>\n",
       "  </tbody>\n",
       "</table>\n",
       "</div>"
      ],
      "text/plain": [
       "  Company Name      Status Ship Date        City State    Zip  \\\n",
       "0        Ecom1   Delivered  2/3/2021  Plant city    FL  33565   \n",
       "1        Ecom1  In Transit  2/5/2021       Miami    FL  33132   \n",
       "2        Ecom1   Delivered  2/3/2021  Washington    DC  20010   \n",
       "3        Ecom1  In Transit  2/3/2021  Tuscaloosa    AL  35405   \n",
       "4        Ecom1  In Transit  2/3/2021      Dothan    AL  36303   \n",
       "\n",
       "  Shipping Service Created Date  Weight  Item/Bottle Count  Zone  \n",
       "0              UPS     2/3/2021    10.5                3.0   NaN  \n",
       "1              FEH    1/27/2021    20.2                6.0   NaN  \n",
       "2              FEH    1/28/2021    17.2                5.0   NaN  \n",
       "3              UPS    1/28/2021    20.2                6.0   NaN  \n",
       "4              UPS    1/28/2021    20.2                6.0   NaN  "
      ]
     },
     "execution_count": 4,
     "metadata": {},
     "output_type": "execute_result"
    }
   ],
   "source": [
    "# Read the February CSV into a DataFrame\n",
    "df_2021_02 = pd.read_csv(load_2021_02)\n",
    "df_2021_02.head()"
   ]
  },
  {
   "cell_type": "code",
   "execution_count": 24,
   "id": "e88188a8",
   "metadata": {},
   "outputs": [
    {
     "data": {
      "text/html": [
       "<div>\n",
       "<style scoped>\n",
       "    .dataframe tbody tr th:only-of-type {\n",
       "        vertical-align: middle;\n",
       "    }\n",
       "\n",
       "    .dataframe tbody tr th {\n",
       "        vertical-align: top;\n",
       "    }\n",
       "\n",
       "    .dataframe thead th {\n",
       "        text-align: right;\n",
       "    }\n",
       "</style>\n",
       "<table border=\"1\" class=\"dataframe\">\n",
       "  <thead>\n",
       "    <tr style=\"text-align: right;\">\n",
       "      <th></th>\n",
       "      <th>Company Name</th>\n",
       "      <th>Status</th>\n",
       "      <th>Ship Date</th>\n",
       "      <th>City</th>\n",
       "      <th>State</th>\n",
       "      <th>Zip</th>\n",
       "      <th>Shipping Service</th>\n",
       "      <th>Created Date</th>\n",
       "      <th>Weight</th>\n",
       "      <th>Item/Bottle Count</th>\n",
       "    </tr>\n",
       "  </thead>\n",
       "  <tbody>\n",
       "    <tr>\n",
       "      <th>0</th>\n",
       "      <td>Ecom1</td>\n",
       "      <td>Delivered</td>\n",
       "      <td>3/2/21</td>\n",
       "      <td>Lansdale</td>\n",
       "      <td>PA</td>\n",
       "      <td>19446</td>\n",
       "      <td>FEH</td>\n",
       "      <td>3/2/21</td>\n",
       "      <td>20.2</td>\n",
       "      <td>6.0</td>\n",
       "    </tr>\n",
       "    <tr>\n",
       "      <th>1</th>\n",
       "      <td>Ecom1</td>\n",
       "      <td>Delivered</td>\n",
       "      <td>3/3/21</td>\n",
       "      <td>Prescott</td>\n",
       "      <td>AZ</td>\n",
       "      <td>86301</td>\n",
       "      <td>FEH</td>\n",
       "      <td>2/24/21</td>\n",
       "      <td>20.2</td>\n",
       "      <td>6.0</td>\n",
       "    </tr>\n",
       "    <tr>\n",
       "      <th>2</th>\n",
       "      <td>Ecom1</td>\n",
       "      <td>Delivered</td>\n",
       "      <td>3/1/21</td>\n",
       "      <td>Fairhope</td>\n",
       "      <td>AL</td>\n",
       "      <td>36532</td>\n",
       "      <td>UPS</td>\n",
       "      <td>2/24/21</td>\n",
       "      <td>20.2</td>\n",
       "      <td>6.0</td>\n",
       "    </tr>\n",
       "    <tr>\n",
       "      <th>3</th>\n",
       "      <td>Ecom1</td>\n",
       "      <td>Delivered</td>\n",
       "      <td>3/3/21</td>\n",
       "      <td>San Diego</td>\n",
       "      <td>CA</td>\n",
       "      <td>92105</td>\n",
       "      <td>FEH</td>\n",
       "      <td>2/25/21</td>\n",
       "      <td>6.5</td>\n",
       "      <td>1.0</td>\n",
       "    </tr>\n",
       "    <tr>\n",
       "      <th>4</th>\n",
       "      <td>Ecom1</td>\n",
       "      <td>Delivered</td>\n",
       "      <td>3/3/21</td>\n",
       "      <td>Carlsbad</td>\n",
       "      <td>CA</td>\n",
       "      <td>92011</td>\n",
       "      <td>FEH</td>\n",
       "      <td>2/25/21</td>\n",
       "      <td>6.5</td>\n",
       "      <td>1.0</td>\n",
       "    </tr>\n",
       "  </tbody>\n",
       "</table>\n",
       "</div>"
      ],
      "text/plain": [
       "  Company Name     Status Ship Date       City State    Zip Shipping Service  \\\n",
       "0        Ecom1  Delivered    3/2/21   Lansdale    PA  19446              FEH   \n",
       "1        Ecom1  Delivered    3/3/21   Prescott    AZ  86301              FEH   \n",
       "2        Ecom1  Delivered    3/1/21   Fairhope    AL  36532              UPS   \n",
       "3        Ecom1  Delivered    3/3/21  San Diego    CA  92105              FEH   \n",
       "4        Ecom1  Delivered    3/3/21   Carlsbad    CA  92011              FEH   \n",
       "\n",
       "  Created Date  Weight  Item/Bottle Count  \n",
       "0       3/2/21    20.2                6.0  \n",
       "1      2/24/21    20.2                6.0  \n",
       "2      2/24/21    20.2                6.0  \n",
       "3      2/25/21     6.5                1.0  \n",
       "4      2/25/21     6.5                1.0  "
      ]
     },
     "execution_count": 24,
     "metadata": {},
     "output_type": "execute_result"
    }
   ],
   "source": [
    "# Read the March CSV into a DataFrame\n",
    "#DtypeWarning: Columns (0,1,2,3,4,5,6,7) have mixed types. Specify dtype option on import or set low_memory=False.\n",
    "df_2021_03 = pd.read_csv(load_2021_03, low_memory=False)\n",
    "df_2021_03.head()"
   ]
  },
  {
   "cell_type": "code",
   "execution_count": 22,
   "id": "afa759a3",
   "metadata": {},
   "outputs": [
    {
     "data": {
      "text/html": [
       "<div>\n",
       "<style scoped>\n",
       "    .dataframe tbody tr th:only-of-type {\n",
       "        vertical-align: middle;\n",
       "    }\n",
       "\n",
       "    .dataframe tbody tr th {\n",
       "        vertical-align: top;\n",
       "    }\n",
       "\n",
       "    .dataframe thead th {\n",
       "        text-align: right;\n",
       "    }\n",
       "</style>\n",
       "<table border=\"1\" class=\"dataframe\">\n",
       "  <thead>\n",
       "    <tr style=\"text-align: right;\">\n",
       "      <th></th>\n",
       "      <th>Company Name</th>\n",
       "      <th>Status</th>\n",
       "      <th>Ship Date</th>\n",
       "      <th>City</th>\n",
       "      <th>State</th>\n",
       "      <th>Zip</th>\n",
       "      <th>Shipping Service</th>\n",
       "      <th>Created Date</th>\n",
       "      <th>Weight</th>\n",
       "      <th>Item/Bottle Count</th>\n",
       "    </tr>\n",
       "  </thead>\n",
       "  <tbody>\n",
       "    <tr>\n",
       "      <th>0</th>\n",
       "      <td>Ecom1</td>\n",
       "      <td>In Transit</td>\n",
       "      <td>4/1/2021</td>\n",
       "      <td>Atlanta</td>\n",
       "      <td>GA</td>\n",
       "      <td>30316</td>\n",
       "      <td>FEH</td>\n",
       "      <td>3/30/2021</td>\n",
       "      <td>27.0</td>\n",
       "      <td>8.0</td>\n",
       "    </tr>\n",
       "    <tr>\n",
       "      <th>1</th>\n",
       "      <td>Ecom1</td>\n",
       "      <td>Delivered</td>\n",
       "      <td>4/1/2021</td>\n",
       "      <td>Greenlawn</td>\n",
       "      <td>NY</td>\n",
       "      <td>11740</td>\n",
       "      <td>FEH</td>\n",
       "      <td>3/31/2021</td>\n",
       "      <td>6.5</td>\n",
       "      <td>1.0</td>\n",
       "    </tr>\n",
       "    <tr>\n",
       "      <th>2</th>\n",
       "      <td>Ecom1</td>\n",
       "      <td>Delivered</td>\n",
       "      <td>4/1/2021</td>\n",
       "      <td>Brooklyn</td>\n",
       "      <td>NY</td>\n",
       "      <td>11215</td>\n",
       "      <td>FEH</td>\n",
       "      <td>3/31/2021</td>\n",
       "      <td>6.5</td>\n",
       "      <td>1.0</td>\n",
       "    </tr>\n",
       "    <tr>\n",
       "      <th>3</th>\n",
       "      <td>Ecom1</td>\n",
       "      <td>Delivered</td>\n",
       "      <td>4/1/2021</td>\n",
       "      <td>NEW YORK</td>\n",
       "      <td>NY</td>\n",
       "      <td>10032</td>\n",
       "      <td>FEH</td>\n",
       "      <td>3/31/2021</td>\n",
       "      <td>6.5</td>\n",
       "      <td>1.0</td>\n",
       "    </tr>\n",
       "    <tr>\n",
       "      <th>4</th>\n",
       "      <td>Ecom1</td>\n",
       "      <td>Delivered</td>\n",
       "      <td>4/1/2021</td>\n",
       "      <td>Syosset</td>\n",
       "      <td>NY</td>\n",
       "      <td>11791</td>\n",
       "      <td>FEH</td>\n",
       "      <td>3/31/2021</td>\n",
       "      <td>6.5</td>\n",
       "      <td>1.0</td>\n",
       "    </tr>\n",
       "  </tbody>\n",
       "</table>\n",
       "</div>"
      ],
      "text/plain": [
       "  Company Name      Status Ship Date       City State    Zip Shipping Service  \\\n",
       "0        Ecom1  In Transit  4/1/2021    Atlanta    GA  30316              FEH   \n",
       "1        Ecom1   Delivered  4/1/2021  Greenlawn    NY  11740              FEH   \n",
       "2        Ecom1   Delivered  4/1/2021   Brooklyn    NY  11215              FEH   \n",
       "3        Ecom1   Delivered  4/1/2021   NEW YORK    NY  10032              FEH   \n",
       "4        Ecom1   Delivered  4/1/2021    Syosset    NY  11791              FEH   \n",
       "\n",
       "  Created Date  Weight  Item/Bottle Count  \n",
       "0    3/30/2021    27.0                8.0  \n",
       "1    3/31/2021     6.5                1.0  \n",
       "2    3/31/2021     6.5                1.0  \n",
       "3    3/31/2021     6.5                1.0  \n",
       "4    3/31/2021     6.5                1.0  "
      ]
     },
     "execution_count": 22,
     "metadata": {},
     "output_type": "execute_result"
    }
   ],
   "source": [
    "# Read the April CSV into a DataFrame\n",
    "#DtypeWarning: Columns (0,1,2,3,4,5,6,7) have mixed types. Specify dtype option on import or set low_memory=False.\n",
    "df_2021_04 = pd.read_csv(load_2021_04, low_memory=False)\n",
    "df_2021_04.head()"
   ]
  },
  {
   "cell_type": "code",
   "execution_count": 23,
   "id": "feeb6d0e",
   "metadata": {},
   "outputs": [
    {
     "data": {
      "text/html": [
       "<div>\n",
       "<style scoped>\n",
       "    .dataframe tbody tr th:only-of-type {\n",
       "        vertical-align: middle;\n",
       "    }\n",
       "\n",
       "    .dataframe tbody tr th {\n",
       "        vertical-align: top;\n",
       "    }\n",
       "\n",
       "    .dataframe thead th {\n",
       "        text-align: right;\n",
       "    }\n",
       "</style>\n",
       "<table border=\"1\" class=\"dataframe\">\n",
       "  <thead>\n",
       "    <tr style=\"text-align: right;\">\n",
       "      <th></th>\n",
       "      <th>Company Name</th>\n",
       "      <th>Status</th>\n",
       "      <th>Ship Date</th>\n",
       "      <th>City</th>\n",
       "      <th>State</th>\n",
       "      <th>Zip</th>\n",
       "      <th>Shipping Service</th>\n",
       "      <th>Created Date</th>\n",
       "      <th>Weight</th>\n",
       "      <th>Item/Bottle Count</th>\n",
       "    </tr>\n",
       "  </thead>\n",
       "  <tbody>\n",
       "    <tr>\n",
       "      <th>0</th>\n",
       "      <td>Ecom2</td>\n",
       "      <td>In Transit</td>\n",
       "      <td>5/1/2021</td>\n",
       "      <td>Lakeville</td>\n",
       "      <td>MN</td>\n",
       "      <td>55044</td>\n",
       "      <td>FEH</td>\n",
       "      <td>4/28/2021</td>\n",
       "      <td>7.0</td>\n",
       "      <td>2.0</td>\n",
       "    </tr>\n",
       "    <tr>\n",
       "      <th>1</th>\n",
       "      <td>Ecom3</td>\n",
       "      <td>Shipped</td>\n",
       "      <td>5/1/2021</td>\n",
       "      <td>McAllen</td>\n",
       "      <td>TX</td>\n",
       "      <td>78504</td>\n",
       "      <td>UPS</td>\n",
       "      <td>4/29/2021</td>\n",
       "      <td>9.9</td>\n",
       "      <td>3.0</td>\n",
       "    </tr>\n",
       "    <tr>\n",
       "      <th>2</th>\n",
       "      <td>Ecom3</td>\n",
       "      <td>Shipped</td>\n",
       "      <td>5/1/2021</td>\n",
       "      <td>Dallas</td>\n",
       "      <td>TX</td>\n",
       "      <td>75230</td>\n",
       "      <td>UPS</td>\n",
       "      <td>4/29/2021</td>\n",
       "      <td>14.0</td>\n",
       "      <td>4.0</td>\n",
       "    </tr>\n",
       "    <tr>\n",
       "      <th>3</th>\n",
       "      <td>Ecom3</td>\n",
       "      <td>Shipped</td>\n",
       "      <td>5/1/2021</td>\n",
       "      <td>Chino Hills</td>\n",
       "      <td>CA</td>\n",
       "      <td>91709</td>\n",
       "      <td>UPS</td>\n",
       "      <td>4/30/2021</td>\n",
       "      <td>7.0</td>\n",
       "      <td>2.0</td>\n",
       "    </tr>\n",
       "    <tr>\n",
       "      <th>4</th>\n",
       "      <td>Ecom3</td>\n",
       "      <td>Shipped</td>\n",
       "      <td>5/1/2021</td>\n",
       "      <td>Berkeley</td>\n",
       "      <td>CA</td>\n",
       "      <td>94703</td>\n",
       "      <td>UPS</td>\n",
       "      <td>4/30/2021</td>\n",
       "      <td>14.0</td>\n",
       "      <td>4.0</td>\n",
       "    </tr>\n",
       "  </tbody>\n",
       "</table>\n",
       "</div>"
      ],
      "text/plain": [
       "  Company Name      Status Ship Date         City State    Zip  \\\n",
       "0        Ecom2  In Transit  5/1/2021    Lakeville    MN  55044   \n",
       "1        Ecom3     Shipped  5/1/2021      McAllen    TX  78504   \n",
       "2        Ecom3     Shipped  5/1/2021       Dallas    TX  75230   \n",
       "3        Ecom3     Shipped  5/1/2021  Chino Hills    CA  91709   \n",
       "4        Ecom3     Shipped  5/1/2021     Berkeley    CA  94703   \n",
       "\n",
       "  Shipping Service Created Date  Weight  Item/Bottle Count  \n",
       "0              FEH    4/28/2021     7.0                2.0  \n",
       "1              UPS    4/29/2021     9.9                3.0  \n",
       "2              UPS    4/29/2021    14.0                4.0  \n",
       "3              UPS    4/30/2021     7.0                2.0  \n",
       "4              UPS    4/30/2021    14.0                4.0  "
      ]
     },
     "execution_count": 23,
     "metadata": {},
     "output_type": "execute_result"
    }
   ],
   "source": [
    "# Read the May CSV into a DataFrame\n",
    "#DtypeWarning: Columns (0,1,2,3,4,5,6,7) have mixed types. Specify dtype option on import or set low_memory=False.\n",
    "df_2021_05 = pd.read_csv(load_2021_05, low_memory=False)\n",
    "df_2021_05.head()"
   ]
  },
  {
   "cell_type": "code",
   "execution_count": 26,
   "id": "5428e6ef",
   "metadata": {},
   "outputs": [
    {
     "data": {
      "text/html": [
       "<div>\n",
       "<style scoped>\n",
       "    .dataframe tbody tr th:only-of-type {\n",
       "        vertical-align: middle;\n",
       "    }\n",
       "\n",
       "    .dataframe tbody tr th {\n",
       "        vertical-align: top;\n",
       "    }\n",
       "\n",
       "    .dataframe thead th {\n",
       "        text-align: right;\n",
       "    }\n",
       "</style>\n",
       "<table border=\"1\" class=\"dataframe\">\n",
       "  <thead>\n",
       "    <tr style=\"text-align: right;\">\n",
       "      <th></th>\n",
       "      <th>Company Name</th>\n",
       "      <th>Status</th>\n",
       "      <th>Ship Date</th>\n",
       "      <th>City</th>\n",
       "      <th>State</th>\n",
       "      <th>Zip</th>\n",
       "      <th>Shipping Service</th>\n",
       "      <th>Created Date</th>\n",
       "      <th>Weight</th>\n",
       "      <th>Item/Bottle Count</th>\n",
       "    </tr>\n",
       "  </thead>\n",
       "  <tbody>\n",
       "    <tr>\n",
       "      <th>0</th>\n",
       "      <td>Ecom1</td>\n",
       "      <td>Shipped</td>\n",
       "      <td>6/1/2021</td>\n",
       "      <td>New York</td>\n",
       "      <td>NY</td>\n",
       "      <td>10065</td>\n",
       "      <td>FXG</td>\n",
       "      <td>5/24/2021</td>\n",
       "      <td>6.5</td>\n",
       "      <td>1.0</td>\n",
       "    </tr>\n",
       "    <tr>\n",
       "      <th>1</th>\n",
       "      <td>Ecom1</td>\n",
       "      <td>Shipped</td>\n",
       "      <td>6/1/2021</td>\n",
       "      <td>Great Neck</td>\n",
       "      <td>NY</td>\n",
       "      <td>11021</td>\n",
       "      <td>FXG</td>\n",
       "      <td>5/24/2021</td>\n",
       "      <td>6.5</td>\n",
       "      <td>1.0</td>\n",
       "    </tr>\n",
       "    <tr>\n",
       "      <th>2</th>\n",
       "      <td>Ecom1</td>\n",
       "      <td>Shipped</td>\n",
       "      <td>6/1/2021</td>\n",
       "      <td>Fresh Meadows</td>\n",
       "      <td>NY</td>\n",
       "      <td>11366</td>\n",
       "      <td>FXG</td>\n",
       "      <td>5/24/2021</td>\n",
       "      <td>6.5</td>\n",
       "      <td>1.0</td>\n",
       "    </tr>\n",
       "    <tr>\n",
       "      <th>3</th>\n",
       "      <td>Ecom1</td>\n",
       "      <td>Shipped</td>\n",
       "      <td>6/1/2021</td>\n",
       "      <td>Saddle River</td>\n",
       "      <td>NJ</td>\n",
       "      <td>7458</td>\n",
       "      <td>FEH</td>\n",
       "      <td>5/24/2021</td>\n",
       "      <td>6.5</td>\n",
       "      <td>1.0</td>\n",
       "    </tr>\n",
       "    <tr>\n",
       "      <th>4</th>\n",
       "      <td>Ecom1</td>\n",
       "      <td>In Transit</td>\n",
       "      <td>6/1/2021</td>\n",
       "      <td>Mount Kisco</td>\n",
       "      <td>NY</td>\n",
       "      <td>10549</td>\n",
       "      <td>FEH</td>\n",
       "      <td>5/24/2021</td>\n",
       "      <td>6.5</td>\n",
       "      <td>1.0</td>\n",
       "    </tr>\n",
       "  </tbody>\n",
       "</table>\n",
       "</div>"
      ],
      "text/plain": [
       "  Company Name      Status Ship Date           City State    Zip  \\\n",
       "0        Ecom1     Shipped  6/1/2021       New York    NY  10065   \n",
       "1        Ecom1     Shipped  6/1/2021     Great Neck    NY  11021   \n",
       "2        Ecom1     Shipped  6/1/2021  Fresh Meadows    NY  11366   \n",
       "3        Ecom1     Shipped  6/1/2021   Saddle River    NJ   7458   \n",
       "4        Ecom1  In Transit  6/1/2021    Mount Kisco    NY  10549   \n",
       "\n",
       "  Shipping Service Created Date  Weight  Item/Bottle Count  \n",
       "0              FXG    5/24/2021     6.5                1.0  \n",
       "1              FXG    5/24/2021     6.5                1.0  \n",
       "2              FXG    5/24/2021     6.5                1.0  \n",
       "3              FEH    5/24/2021     6.5                1.0  \n",
       "4              FEH    5/24/2021     6.5                1.0  "
      ]
     },
     "execution_count": 26,
     "metadata": {},
     "output_type": "execute_result"
    }
   ],
   "source": [
    "# Read the June CSV into a DataFrame\n",
    "#DtypeWarning: Columns (0,1,2,3,4,5,6,7) have mixed types. Specify dtype option on import or set low_memory=False.\n",
    "df_2021_06 = pd.read_csv(load_2021_06, low_memory=False)\n",
    "df_2021_06.head()"
   ]
  },
  {
   "cell_type": "code",
   "execution_count": null,
   "id": "ef52feec",
   "metadata": {},
   "outputs": [],
   "source": [
    "# Read the July CSV into a DataFrame\n",
    "df_2021_07 = pd.read_csv(load_2021_07)\n",
    "df_2021_07.head()"
   ]
  },
  {
   "cell_type": "code",
   "execution_count": null,
   "id": "4bdcc21b",
   "metadata": {},
   "outputs": [],
   "source": [
    "# Read the August CSV into a DataFrame\n",
    "df_2021_08 = pd.read_csv(load_2021_08)\n",
    "df_2021_08.head()"
   ]
  },
  {
   "cell_type": "code",
   "execution_count": null,
   "id": "5601e605",
   "metadata": {},
   "outputs": [],
   "source": [
    "# Read the September CSV into a DataFrame\n",
    "df_2021_09 = pd.read_csv(load_2021_09)\n",
    "df_2021_09.head()"
   ]
  },
  {
   "cell_type": "code",
   "execution_count": null,
   "id": "bcbff027",
   "metadata": {},
   "outputs": [],
   "source": [
    "# Read the October CSV into a DataFrame\n",
    "df_2021_10 = pd.read_csv(load_2021_10)\n",
    "df_2021_10.head()"
   ]
  },
  {
   "cell_type": "code",
   "execution_count": null,
   "id": "9198f572",
   "metadata": {},
   "outputs": [],
   "source": [
    "# Read the November CSV into a DataFrame\n",
    "df_2021_11 = pd.read_csv(load_2021_11)\n",
    "df_2021_11.head()"
   ]
  },
  {
   "cell_type": "code",
   "execution_count": null,
   "id": "a6f2587d",
   "metadata": {},
   "outputs": [],
   "source": [
    "# Read the December CSV into a DataFrame\n",
    "df_2021_12 = pd.read_csv(load_2021_12)\n",
    "df_2021_12.head()"
   ]
  },
  {
   "cell_type": "markdown",
   "id": "dfcd5a94",
   "metadata": {},
   "source": [
    "## Determine length of dataframes (Something isn't right here.)"
   ]
  },
  {
   "cell_type": "code",
   "execution_count": 27,
   "id": "d50612ef",
   "metadata": {},
   "outputs": [
    {
     "name": "stdout",
     "output_type": "stream",
     "text": [
      "Number of Rows:  668252\n",
      "Number of Columns:  10\n"
     ]
    }
   ],
   "source": [
    "#Determine total rows for df_2021_01.\n",
    "df_2021_01_rows = len(df_2021_01.axes[0])\n",
    "df_2021_01_cols = len(df_2021_01.axes[1])\n",
    "print(\"Number of Rows: \", df_2021_01_rows)\n",
    "print(\"Number of Columns: \", df_2021_01_cols)"
   ]
  },
  {
   "cell_type": "code",
   "execution_count": 28,
   "id": "77185f15",
   "metadata": {},
   "outputs": [
    {
     "name": "stdout",
     "output_type": "stream",
     "text": [
      "Number of Rows:  26845\n",
      "Number of Columns:  11\n"
     ]
    }
   ],
   "source": [
    "#Determine total rows for df_2021_02.\n",
    "df_2021_02_rows = len(df_2021_02.axes[0])\n",
    "df_2021_02_cols = len(df_2021_02.axes[1])\n",
    "print(\"Number of Rows: \", df_2021_02_rows)\n",
    "print(\"Number of Columns: \", df_2021_02_cols)"
   ]
  },
  {
   "cell_type": "code",
   "execution_count": 29,
   "id": "8e663d1b",
   "metadata": {},
   "outputs": [
    {
     "name": "stdout",
     "output_type": "stream",
     "text": [
      "Number of Rows:  601534\n",
      "Number of Columns:  10\n"
     ]
    }
   ],
   "source": [
    "#Determine total rows for df_2021_03.\n",
    "df_2021_03_rows = len(df_2021_03.axes[0])\n",
    "df_2021_03_cols = len(df_2021_03.axes[1])\n",
    "print(\"Number of Rows: \", df_2021_03_rows)\n",
    "print(\"Number of Columns: \", df_2021_03_cols)"
   ]
  },
  {
   "cell_type": "code",
   "execution_count": 12,
   "id": "d1c43ee6",
   "metadata": {},
   "outputs": [
    {
     "name": "stdout",
     "output_type": "stream",
     "text": [
      "Number of Rows:  601137\n",
      "Number of Columns:  10\n"
     ]
    }
   ],
   "source": [
    "#Determine total rows for df_2021_04.\n",
    "df_2021_04_rows = len(df_2021_04.axes[0])\n",
    "df_2021_04_cols = len(df_2021_04.axes[1])\n",
    "print(\"Number of Rows: \", df_2021_04_rows)\n",
    "print(\"Number of Columns: \", df_2021_04_cols)"
   ]
  },
  {
   "cell_type": "code",
   "execution_count": 13,
   "id": "52d83067",
   "metadata": {},
   "outputs": [
    {
     "name": "stdout",
     "output_type": "stream",
     "text": [
      "Number of Rows:  675963\n",
      "Number of Columns:  10\n"
     ]
    }
   ],
   "source": [
    "#Determine total rows for df_2021_05.\n",
    "df_2021_05_rows = len(df_2021_05.axes[0])\n",
    "df_2021_05_cols = len(df_2021_05.axes[1])\n",
    "print(\"Number of Rows: \", df_2021_05_rows)\n",
    "print(\"Number of Columns: \", df_2021_05_cols)"
   ]
  },
  {
   "cell_type": "code",
   "execution_count": 14,
   "id": "bc43628e",
   "metadata": {},
   "outputs": [
    {
     "name": "stdout",
     "output_type": "stream",
     "text": [
      "Number of Rows:  706897\n",
      "Number of Columns:  10\n"
     ]
    }
   ],
   "source": [
    "#Determine total rows for df_2021_06.\n",
    "df_2021_06_rows = len(df_2021_06.axes[0])\n",
    "df_2021_06_cols = len(df_2021_06.axes[1])\n",
    "print(\"Number of Rows: \", df_2021_06_rows)\n",
    "print(\"Number of Columns: \", df_2021_06_cols)"
   ]
  },
  {
   "cell_type": "code",
   "execution_count": null,
   "id": "39488577",
   "metadata": {},
   "outputs": [],
   "source": [
    "#Determine total rows for df_2021_07.\n",
    "df_2021_07_rows = len(df_2021_07.axes[0])\n",
    "df_2021_07_cols = len(df_2021_07.axes[1])\n",
    "print(\"Number of Rows: \", df_2021_07_rows)\n",
    "print(\"Number of Columns: \", df_2021_07_cols)"
   ]
  },
  {
   "cell_type": "code",
   "execution_count": null,
   "id": "abffb852",
   "metadata": {},
   "outputs": [],
   "source": [
    "#Determine total rows for df_2020_08.\n",
    "df_2021_08_rows = len(df_2021_08.axes[0])\n",
    "df_2021_08_cols = len(df_2021_08.axes[1])\n",
    "print(\"Number of Rows: \", df_2021_08_rows)\n",
    "print(\"Number of Columns: \", df_2021_08_cols)"
   ]
  },
  {
   "cell_type": "code",
   "execution_count": null,
   "id": "ba818b55",
   "metadata": {},
   "outputs": [],
   "source": [
    "#Determine total rows for df_2021_09.\n",
    "df_2021_09_rows = len(df_2021_09.axes[0])\n",
    "df_2021_09_cols = len(df_2021_09.axes[1])\n",
    "print(\"Number of Rows: \", df_2021_09_rows)\n",
    "print(\"Number of Columns: \", df_2021_09_cols)"
   ]
  },
  {
   "cell_type": "code",
   "execution_count": null,
   "id": "5fab9a39",
   "metadata": {},
   "outputs": [],
   "source": [
    "#Determine total rows for df_2021_10.\n",
    "df_2021_10_rows = len(df_2021_10.axes[0])\n",
    "df_2021_10_cols = len(df_2021_10.axes[1])\n",
    "print(\"Number of Rows: \", df_2021_10_rows)\n",
    "print(\"Number of Columns: \", df_2021_10_cols)"
   ]
  },
  {
   "cell_type": "code",
   "execution_count": null,
   "id": "2d267b03",
   "metadata": {},
   "outputs": [],
   "source": [
    "#Determine total rows for df_2021_11.\n",
    "df_2021_11_rows = len(df_2021_11.axes[0])\n",
    "df_2021_11_cols = len(df_2021_11.axes[1])\n",
    "print(\"Number of Rows: \", df_2021_11_rows)\n",
    "print(\"Number of Columns: \", df_2021_11_cols)"
   ]
  },
  {
   "cell_type": "code",
   "execution_count": null,
   "id": "89afea5e",
   "metadata": {},
   "outputs": [],
   "source": [
    "#Determine total rows for df_2021_12.\n",
    "df_2021_12_rows = len(df_2021_12.axes[0])\n",
    "df_2021_12_cols = len(df_2021_12.axes[1])\n",
    "print(\"Number of Rows: \", df_2021_12_rows)\n",
    "print(\"Number of Columns: \", df_2021_12_cols)"
   ]
  },
  {
   "cell_type": "code",
   "execution_count": null,
   "id": "15e8116b",
   "metadata": {},
   "outputs": [],
   "source": [
    "#Row/Column Summary\n",
    "#1 Number of Rows:  668252, Number of Columns:  10\n",
    "#2 Number of Rows:  26845, Number of Columns:  11\n",
    "#3 Number of Rows:  601534, Number of Columns:  10\n",
    "#4 Number of Rows:  601137, Number of Columns:  10\n",
    "#5 Number of Rows:  675963, Number of Columns:  10\n",
    "#6 Number of Rows:  706897, Number of Columns:  10\n",
    "#update 7 and up\n",
    "#7 Number of Rows:  19390, Number of Columns:  10\n",
    "#8 Number of Rows:  20129, Number of Columns:  10\n",
    "#9 Number of Rows:  22277, Number of Columns:  10\n",
    "#10 Number of Rows:  19934, Number of Columns:  10\n",
    "#11 Number of Rows:  22811, Number of Columns:  10\n",
    "#12 Number of Rows:  33846, Number of Columns:  10"
   ]
  },
  {
   "cell_type": "markdown",
   "id": "773ccb21",
   "metadata": {},
   "source": [
    "## Inspect DataFrames for Null Values (Some missing data in Created Date, Weight and Item/Bottle Count columns.)"
   ]
  },
  {
   "cell_type": "code",
   "execution_count": 30,
   "id": "27875237",
   "metadata": {},
   "outputs": [
    {
     "data": {
      "text/plain": [
       "Company Name         639610\n",
       "Status               639626\n",
       "Ship Date            639610\n",
       "City                 639610\n",
       "State                639610\n",
       "Zip                  639610\n",
       "Shipping Service     639610\n",
       "Created Date         639626\n",
       "Weight               639626\n",
       "Item/Bottle Count    639626\n",
       "dtype: int64"
      ]
     },
     "execution_count": 30,
     "metadata": {},
     "output_type": "execute_result"
    }
   ],
   "source": [
    "# Determine if there are any missing values in df_2021_01.\n",
    "#Missing 96% of values.\n",
    "df_2021_01.isnull().sum()"
   ]
  },
  {
   "cell_type": "code",
   "execution_count": 31,
   "id": "d263363d",
   "metadata": {},
   "outputs": [
    {
     "data": {
      "text/plain": [
       "Company Name             0\n",
       "Status                 444\n",
       "Ship Date                0\n",
       "City                     0\n",
       "State                    0\n",
       "Zip                      0\n",
       "Shipping Service         0\n",
       "Created Date           444\n",
       "Weight                 444\n",
       "Item/Bottle Count      444\n",
       "Zone                 26845\n",
       "dtype: int64"
      ]
     },
     "execution_count": 31,
     "metadata": {},
     "output_type": "execute_result"
    }
   ],
   "source": [
    "# Determine if there are any missing values in df_2021_02.\n",
    "#Missing 2% of values from Status, Created Date, Weight and Item/Bottle Count.\n",
    "df_2021_02.isnull().sum()"
   ]
  },
  {
   "cell_type": "code",
   "execution_count": 32,
   "id": "9d11be16",
   "metadata": {},
   "outputs": [],
   "source": [
    "#need to remove Zone column from df_2021_02\n",
    "df_2021_02 = df_2021_02.drop('Zone', axis=1)"
   ]
  },
  {
   "cell_type": "code",
   "execution_count": 33,
   "id": "b4dff945",
   "metadata": {},
   "outputs": [
    {
     "data": {
      "text/plain": [
       "Company Name           0\n",
       "Status               444\n",
       "Ship Date              0\n",
       "City                   0\n",
       "State                  0\n",
       "Zip                    0\n",
       "Shipping Service       0\n",
       "Created Date         444\n",
       "Weight               444\n",
       "Item/Bottle Count    444\n",
       "dtype: int64"
      ]
     },
     "execution_count": 33,
     "metadata": {},
     "output_type": "execute_result"
    }
   ],
   "source": [
    "df_2021_02.isnull().sum()"
   ]
  },
  {
   "cell_type": "code",
   "execution_count": 18,
   "id": "6c6dd102",
   "metadata": {},
   "outputs": [
    {
     "data": {
      "text/plain": [
       "Company Name         577122\n",
       "Status               577206\n",
       "Ship Date            577122\n",
       "City                 577122\n",
       "State                577122\n",
       "Zip                  577122\n",
       "Shipping Service     577122\n",
       "Created Date         577206\n",
       "Weight               577206\n",
       "Item/Bottle Count    577206\n",
       "dtype: int64"
      ]
     },
     "execution_count": 18,
     "metadata": {},
     "output_type": "execute_result"
    }
   ],
   "source": [
    "# Determine if there are any missing values in df_2021_03.\n",
    "#Missing 96% of values.\n",
    "df_2021_03.isnull().sum()"
   ]
  },
  {
   "cell_type": "code",
   "execution_count": 19,
   "id": "26a2f709",
   "metadata": {},
   "outputs": [
    {
     "data": {
      "text/plain": [
       "Company Name         577521\n",
       "Status               577941\n",
       "Ship Date            577521\n",
       "City                 577534\n",
       "State                577521\n",
       "Zip                  577521\n",
       "Shipping Service     577521\n",
       "Created Date         577924\n",
       "Weight               577941\n",
       "Item/Bottle Count    577540\n",
       "dtype: int64"
      ]
     },
     "execution_count": 19,
     "metadata": {},
     "output_type": "execute_result"
    }
   ],
   "source": [
    "# Determine if there are any missing values in df_2021_04.\n",
    "#Missing 96% of values.\n",
    "df_2021_04.isnull().sum()"
   ]
  },
  {
   "cell_type": "code",
   "execution_count": 20,
   "id": "e6f7a7d7",
   "metadata": {},
   "outputs": [
    {
     "data": {
      "text/plain": [
       "Company Name         656859\n",
       "Status               657057\n",
       "Ship Date            656859\n",
       "City                 656859\n",
       "State                656859\n",
       "Zip                  656859\n",
       "Shipping Service     656859\n",
       "Created Date         657057\n",
       "Weight               657057\n",
       "Item/Bottle Count    656859\n",
       "dtype: int64"
      ]
     },
     "execution_count": 20,
     "metadata": {},
     "output_type": "execute_result"
    }
   ],
   "source": [
    "# Determine if there are any missing values in df_2021_05.\n",
    "#Missing 97%\n",
    "df_2021_05.isnull().sum()"
   ]
  },
  {
   "cell_type": "code",
   "execution_count": 21,
   "id": "4f89ed7d",
   "metadata": {},
   "outputs": [
    {
     "data": {
      "text/plain": [
       "Company Name         689003\n",
       "Status               689136\n",
       "Ship Date            689003\n",
       "City                 689003\n",
       "State                689003\n",
       "Zip                  689003\n",
       "Shipping Service     689003\n",
       "Created Date         689136\n",
       "Weight               689136\n",
       "Item/Bottle Count    689003\n",
       "dtype: int64"
      ]
     },
     "execution_count": 21,
     "metadata": {},
     "output_type": "execute_result"
    }
   ],
   "source": [
    "# Determine if there are any missing values in df_2021_06.\n",
    "#Missing 97%\n",
    "df_2021_06.isnull().sum()"
   ]
  },
  {
   "cell_type": "code",
   "execution_count": null,
   "id": "d1a85164",
   "metadata": {},
   "outputs": [],
   "source": [
    "# Determine if there are any missing values in df_2021_07.\n",
    "#Missing 100% of values from Status column.\n",
    "df_2021_07.isnull().sum()"
   ]
  },
  {
   "cell_type": "code",
   "execution_count": null,
   "id": "0592a443",
   "metadata": {},
   "outputs": [],
   "source": [
    "# Determine if there are any missing values in df_2021_08.\n",
    "df_2021_08.isnull().sum()"
   ]
  },
  {
   "cell_type": "code",
   "execution_count": null,
   "id": "dd63d146",
   "metadata": {},
   "outputs": [],
   "source": [
    "# Determine if there are any missing values in df_2021_09.\n",
    "df_2021_09.isnull().sum()"
   ]
  },
  {
   "cell_type": "code",
   "execution_count": null,
   "id": "869618d6",
   "metadata": {},
   "outputs": [],
   "source": [
    "# Determine if there are any missing values in df_2021_10.\n",
    "df_2021_10.isnull().sum()"
   ]
  },
  {
   "cell_type": "code",
   "execution_count": null,
   "id": "c3a64d86",
   "metadata": {},
   "outputs": [],
   "source": [
    "# Determine if there are any missing values in df_2021_11.\n",
    "df_2021_11.isnull().sum()"
   ]
  },
  {
   "cell_type": "code",
   "execution_count": null,
   "id": "7946c9c6",
   "metadata": {},
   "outputs": [],
   "source": [
    "# Determine if there are any missing values in df_2021_12.\n",
    "df_2021_12.isnull().sum()"
   ]
  },
  {
   "cell_type": "markdown",
   "id": "5365b21b",
   "metadata": {},
   "source": [
    "## Drop NaN Values (This may have already been done when Steve cleaned the data)"
   ]
  },
  {
   "cell_type": "code",
   "execution_count": null,
   "id": "8b851dcd",
   "metadata": {},
   "outputs": [],
   "source": [
    "# Drop the NaNs for df_2021_01.\n",
    "df_2021_01.dropna()"
   ]
  },
  {
   "cell_type": "code",
   "execution_count": null,
   "id": "631ff244",
   "metadata": {},
   "outputs": [],
   "source": [
    "# Drop the NaNs for df_2021_02.\n",
    "df_2021_02.dropna()"
   ]
  },
  {
   "cell_type": "code",
   "execution_count": null,
   "id": "ca9887bc",
   "metadata": {},
   "outputs": [],
   "source": [
    "# Drop the NaNs for df_2021_03.\n",
    "df_2021_03.dropna()"
   ]
  },
  {
   "cell_type": "code",
   "execution_count": null,
   "id": "7733872d",
   "metadata": {},
   "outputs": [],
   "source": [
    "# Drop the NaNs for df_2021_04.\n",
    "df_2021_04.dropna()"
   ]
  },
  {
   "cell_type": "code",
   "execution_count": null,
   "id": "a1d1c3e5",
   "metadata": {},
   "outputs": [],
   "source": [
    "# Drop the NaNs for df_2021_05.\n",
    "df_2021_05.dropna()"
   ]
  },
  {
   "cell_type": "code",
   "execution_count": null,
   "id": "d4cead2c",
   "metadata": {},
   "outputs": [],
   "source": [
    "# Drop the NaNs for df_2021_06.\n",
    "df_2021_06.dropna()"
   ]
  },
  {
   "cell_type": "code",
   "execution_count": null,
   "id": "0b9f0055",
   "metadata": {},
   "outputs": [],
   "source": [
    "# Drop the NaNs for df_2021_07.\n",
    "df_2021_07.dropna()"
   ]
  },
  {
   "cell_type": "code",
   "execution_count": null,
   "id": "f26aac9c",
   "metadata": {},
   "outputs": [],
   "source": [
    "# Drop the NaNs for df_2021_08.\n",
    "df_2021_08.dropna()"
   ]
  },
  {
   "cell_type": "code",
   "execution_count": null,
   "id": "7ab65abb",
   "metadata": {},
   "outputs": [],
   "source": [
    "# Drop the NaNs for df_2021_09.\n",
    "df_2021_09.dropna()"
   ]
  },
  {
   "cell_type": "code",
   "execution_count": null,
   "id": "f7df347e",
   "metadata": {},
   "outputs": [],
   "source": [
    "# Drop the NaNs for df_2021_10.\n",
    "df_2021_10.dropna()"
   ]
  },
  {
   "cell_type": "code",
   "execution_count": null,
   "id": "0289e0d4",
   "metadata": {},
   "outputs": [],
   "source": [
    "# Drop the NaNs for df_2021_11.\n",
    "df_2021_11.dropna()"
   ]
  },
  {
   "cell_type": "code",
   "execution_count": null,
   "id": "3fd8826a",
   "metadata": {},
   "outputs": [],
   "source": [
    "# Drop the NaNs for df_2021_12.\n",
    "df_2021_12.dropna()"
   ]
  },
  {
   "cell_type": "markdown",
   "id": "6f6f4cd0",
   "metadata": {},
   "source": [
    "## Determine Data Types (Do all columns need to be the same type across all months in order to join? I think we may need to change the Item/Bottle Count to match across all months.)"
   ]
  },
  {
   "cell_type": "code",
   "execution_count": 34,
   "id": "e7e7f243",
   "metadata": {},
   "outputs": [
    {
     "data": {
      "text/plain": [
       "Company Name          object\n",
       "Status                object\n",
       "Ship Date             object\n",
       "City                  object\n",
       "State                 object\n",
       "Zip                   object\n",
       "Shipping Service      object\n",
       "Created Date          object\n",
       "Weight               float64\n",
       "Item/Bottle Count    float64\n",
       "dtype: object"
      ]
     },
     "execution_count": 34,
     "metadata": {},
     "output_type": "execute_result"
    }
   ],
   "source": [
    "# Determine data types for df_2021_01.\n",
    "df_2021_01.dtypes"
   ]
  },
  {
   "cell_type": "code",
   "execution_count": 35,
   "id": "e5adaae7",
   "metadata": {},
   "outputs": [
    {
     "data": {
      "text/plain": [
       "Company Name          object\n",
       "Status                object\n",
       "Ship Date             object\n",
       "City                  object\n",
       "State                 object\n",
       "Zip                   object\n",
       "Shipping Service      object\n",
       "Created Date          object\n",
       "Weight               float64\n",
       "Item/Bottle Count    float64\n",
       "dtype: object"
      ]
     },
     "execution_count": 35,
     "metadata": {},
     "output_type": "execute_result"
    }
   ],
   "source": [
    "# Determine data types for df_2021_02.\n",
    "df_2021_02.dtypes"
   ]
  },
  {
   "cell_type": "code",
   "execution_count": 36,
   "id": "45d81443",
   "metadata": {},
   "outputs": [
    {
     "data": {
      "text/plain": [
       "Company Name          object\n",
       "Status                object\n",
       "Ship Date             object\n",
       "City                  object\n",
       "State                 object\n",
       "Zip                   object\n",
       "Shipping Service      object\n",
       "Created Date          object\n",
       "Weight               float64\n",
       "Item/Bottle Count    float64\n",
       "dtype: object"
      ]
     },
     "execution_count": 36,
     "metadata": {},
     "output_type": "execute_result"
    }
   ],
   "source": [
    "# Determine data types for df_2021_03.\n",
    "df_2021_03.dtypes"
   ]
  },
  {
   "cell_type": "code",
   "execution_count": 37,
   "id": "b8e56ba3",
   "metadata": {},
   "outputs": [
    {
     "data": {
      "text/plain": [
       "Company Name          object\n",
       "Status                object\n",
       "Ship Date             object\n",
       "City                  object\n",
       "State                 object\n",
       "Zip                   object\n",
       "Shipping Service      object\n",
       "Created Date          object\n",
       "Weight               float64\n",
       "Item/Bottle Count    float64\n",
       "dtype: object"
      ]
     },
     "execution_count": 37,
     "metadata": {},
     "output_type": "execute_result"
    }
   ],
   "source": [
    "# Determine data types for df_2021_04.\n",
    "df_2021_04.dtypes"
   ]
  },
  {
   "cell_type": "code",
   "execution_count": 38,
   "id": "c0af4627",
   "metadata": {},
   "outputs": [
    {
     "data": {
      "text/plain": [
       "Company Name          object\n",
       "Status                object\n",
       "Ship Date             object\n",
       "City                  object\n",
       "State                 object\n",
       "Zip                   object\n",
       "Shipping Service      object\n",
       "Created Date          object\n",
       "Weight               float64\n",
       "Item/Bottle Count    float64\n",
       "dtype: object"
      ]
     },
     "execution_count": 38,
     "metadata": {},
     "output_type": "execute_result"
    }
   ],
   "source": [
    "# Determine data types for df_2021_05.\n",
    "df_2021_05.dtypes"
   ]
  },
  {
   "cell_type": "code",
   "execution_count": 39,
   "id": "f7359d9b",
   "metadata": {},
   "outputs": [
    {
     "data": {
      "text/plain": [
       "Company Name          object\n",
       "Status                object\n",
       "Ship Date             object\n",
       "City                  object\n",
       "State                 object\n",
       "Zip                   object\n",
       "Shipping Service      object\n",
       "Created Date          object\n",
       "Weight               float64\n",
       "Item/Bottle Count    float64\n",
       "dtype: object"
      ]
     },
     "execution_count": 39,
     "metadata": {},
     "output_type": "execute_result"
    }
   ],
   "source": [
    "# Determine data types for df_2021_06.\n",
    "df_2021_06.dtypes"
   ]
  },
  {
   "cell_type": "code",
   "execution_count": null,
   "id": "68e4e4de",
   "metadata": {},
   "outputs": [],
   "source": [
    "# Determine data types for df_2021_07.\n",
    "df_2021_07.dtypes"
   ]
  },
  {
   "cell_type": "code",
   "execution_count": null,
   "id": "decb4196",
   "metadata": {},
   "outputs": [],
   "source": [
    "# Determine data types for df_2021_08.\n",
    "df_2021_08.dtypes"
   ]
  },
  {
   "cell_type": "code",
   "execution_count": null,
   "id": "2c2aa327",
   "metadata": {},
   "outputs": [],
   "source": [
    "# Determine data types for df_2021_09.\n",
    "df_2021_09.dtypes"
   ]
  },
  {
   "cell_type": "code",
   "execution_count": null,
   "id": "73227904",
   "metadata": {},
   "outputs": [],
   "source": [
    "# Determine data types for df_2021_10.\n",
    "df_2021_10.dtypes"
   ]
  },
  {
   "cell_type": "code",
   "execution_count": null,
   "id": "1daa4fea",
   "metadata": {},
   "outputs": [],
   "source": [
    "# Determine data types for df_2021_11.\n",
    "df_2021_11.dtypes"
   ]
  },
  {
   "cell_type": "code",
   "execution_count": null,
   "id": "f0e933aa",
   "metadata": {},
   "outputs": [],
   "source": [
    "# Determine data types for df_2021_12.\n",
    "df_2021_12.dtypes"
   ]
  },
  {
   "cell_type": "markdown",
   "id": "ad74965b",
   "metadata": {},
   "source": [
    "## Inspect DataFrames to Determine Where to Join"
   ]
  },
  {
   "cell_type": "code",
   "execution_count": 40,
   "id": "bc8ed09d",
   "metadata": {},
   "outputs": [
    {
     "data": {
      "text/plain": [
       "Index(['Company Name', 'Status', 'Ship Date', 'City', 'State', 'Zip',\n",
       "       'Shipping Service', 'Created Date', 'Weight', 'Item/Bottle Count'],\n",
       "      dtype='object')"
      ]
     },
     "execution_count": 40,
     "metadata": {},
     "output_type": "execute_result"
    }
   ],
   "source": [
    "df_2021_01.columns"
   ]
  },
  {
   "cell_type": "code",
   "execution_count": 41,
   "id": "0251103d",
   "metadata": {},
   "outputs": [
    {
     "data": {
      "text/plain": [
       "Index(['Company Name', 'Status', 'Ship Date', 'City', 'State', 'Zip',\n",
       "       'Shipping Service', 'Created Date', 'Weight', 'Item/Bottle Count'],\n",
       "      dtype='object')"
      ]
     },
     "execution_count": 41,
     "metadata": {},
     "output_type": "execute_result"
    }
   ],
   "source": [
    "df_2021_02.columns"
   ]
  },
  {
   "cell_type": "code",
   "execution_count": 42,
   "id": "80635dee",
   "metadata": {},
   "outputs": [
    {
     "data": {
      "text/plain": [
       "Index(['Company Name', 'Status', 'Ship Date', 'City', 'State', 'Zip',\n",
       "       'Shipping Service', 'Created Date', 'Weight', 'Item/Bottle Count'],\n",
       "      dtype='object')"
      ]
     },
     "execution_count": 42,
     "metadata": {},
     "output_type": "execute_result"
    }
   ],
   "source": [
    "df_2021_03.columns"
   ]
  },
  {
   "cell_type": "code",
   "execution_count": 43,
   "id": "aea30a6e",
   "metadata": {},
   "outputs": [
    {
     "data": {
      "text/plain": [
       "Index(['Company Name', 'Status', 'Ship Date', 'City', 'State', 'Zip',\n",
       "       'Shipping Service', 'Created Date', 'Weight', 'Item/Bottle Count'],\n",
       "      dtype='object')"
      ]
     },
     "execution_count": 43,
     "metadata": {},
     "output_type": "execute_result"
    }
   ],
   "source": [
    "df_2021_04.columns"
   ]
  },
  {
   "cell_type": "code",
   "execution_count": 44,
   "id": "d21a4e55",
   "metadata": {},
   "outputs": [
    {
     "data": {
      "text/plain": [
       "Index(['Company Name', 'Status', 'Ship Date', 'City', 'State', 'Zip',\n",
       "       'Shipping Service', 'Created Date', 'Weight', 'Item/Bottle Count'],\n",
       "      dtype='object')"
      ]
     },
     "execution_count": 44,
     "metadata": {},
     "output_type": "execute_result"
    }
   ],
   "source": [
    "df_2021_05.columns"
   ]
  },
  {
   "cell_type": "code",
   "execution_count": 45,
   "id": "9c6414bd",
   "metadata": {},
   "outputs": [
    {
     "data": {
      "text/plain": [
       "Index(['Company Name', 'Status', 'Ship Date', 'City', 'State', 'Zip',\n",
       "       'Shipping Service', 'Created Date', 'Weight', 'Item/Bottle Count'],\n",
       "      dtype='object')"
      ]
     },
     "execution_count": 45,
     "metadata": {},
     "output_type": "execute_result"
    }
   ],
   "source": [
    "df_2021_06.columns"
   ]
  },
  {
   "cell_type": "code",
   "execution_count": null,
   "id": "5b71c56e",
   "metadata": {},
   "outputs": [],
   "source": [
    "df_2021_07.columns"
   ]
  },
  {
   "cell_type": "code",
   "execution_count": null,
   "id": "f39db265",
   "metadata": {},
   "outputs": [],
   "source": [
    "df_2021_08.columns"
   ]
  },
  {
   "cell_type": "code",
   "execution_count": null,
   "id": "452a073d",
   "metadata": {},
   "outputs": [],
   "source": [
    "df_2021_09.columns"
   ]
  },
  {
   "cell_type": "code",
   "execution_count": null,
   "id": "aaf85f97",
   "metadata": {},
   "outputs": [],
   "source": [
    "df_2021_10.columns"
   ]
  },
  {
   "cell_type": "code",
   "execution_count": null,
   "id": "945f100a",
   "metadata": {},
   "outputs": [],
   "source": [
    "df_2021_11.columns"
   ]
  },
  {
   "cell_type": "code",
   "execution_count": null,
   "id": "d0225d33",
   "metadata": {},
   "outputs": [],
   "source": [
    "df_2021_12.columns"
   ]
  },
  {
   "cell_type": "markdown",
   "id": "b874e31b",
   "metadata": {},
   "source": [
    "## Join Individual DataFrames to Create One 2021 Year DataFrame"
   ]
  },
  {
   "cell_type": "code",
   "execution_count": null,
   "id": "587cd907",
   "metadata": {},
   "outputs": [],
   "source": [
    "# Combine the data into a single dataset.\n",
    "complete_2021_df = pd.merge(df_2021_01,\n",
    "                            df_2021_02,\n",
    "                            df_2021_03,\n",
    "                            df_2021_04,\n",
    "                            df_2021_05,\n",
    "                            df_2021_06,\n",
    "                            df_2021_07,\n",
    "                            df_2021_08,\n",
    "                            df_2021_09,\n",
    "                            df_2021_10,\n",
    "                            df_2021_11,\n",
    "                            df_2021_12 on= [\"Company Name\",\n",
    "                                            \"Company Name\",\n",
    "                                            \"Company Name\",\n",
    "                                            \"Company Name\",\n",
    "                                            \"Company Name\",\n",
    "                                            \"Company Name\",\n",
    "                                            \"Company Name\",\n",
    "                                            \"Company Name\",\n",
    "                                            \"Company Name\",\n",
    "                                            \"Company Name\",\n",
    "                                            \"Company Name\",\n",
    "                                            \"Company Name\"])\n",
    "#update \"column name\" with the actual column name once the data can be read in. \n",
    "complete_2021_df.head()"
   ]
  },
  {
   "cell_type": "markdown",
   "id": "3fc61fb6",
   "metadata": {},
   "source": [
    "## Export the 2021 year DataFrame to a .csv"
   ]
  },
  {
   "cell_type": "code",
   "execution_count": null,
   "id": "1940606a",
   "metadata": {},
   "outputs": [],
   "source": [
    "#Export complete_2021_df to .csv\n",
    "complete_2021_df.to_csv('Final_Project/Complete_2021.csv') "
   ]
  },
  {
   "cell_type": "code",
   "execution_count": null,
   "id": "f44f5ad7",
   "metadata": {},
   "outputs": [],
   "source": [
    "#Export to SQL"
   ]
  }
 ],
 "metadata": {
  "kernelspec": {
   "display_name": "PythonData",
   "language": "python",
   "name": "pythondata"
  },
  "language_info": {
   "codemirror_mode": {
    "name": "ipython",
    "version": 3
   },
   "file_extension": ".py",
   "mimetype": "text/x-python",
   "name": "python",
   "nbconvert_exporter": "python",
   "pygments_lexer": "ipython3",
   "version": "3.9.12"
  }
 },
 "nbformat": 4,
 "nbformat_minor": 5
}
