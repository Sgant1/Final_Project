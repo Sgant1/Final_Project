{
 "cells": [
  {
   "cell_type": "code",
   "execution_count": 1,
   "id": "0ee3ff94",
   "metadata": {},
   "outputs": [],
   "source": [
    "#Pandas library to create DataFrames\n",
    "import pandas as pd\n",
    "#NumPy library for converting data types\n",
    "import numpy as np"
   ]
  },
  {
   "cell_type": "code",
   "execution_count": 2,
   "id": "43de2e17",
   "metadata": {},
   "outputs": [],
   "source": [
    "# Files to load\n",
    "load_2021_10 = \"../../2021_Data/2021.10.csv\""
   ]
  },
  {
   "cell_type": "code",
   "execution_count": 4,
   "id": "0006005e",
   "metadata": {},
   "outputs": [
    {
     "data": {
      "text/html": [
       "<div>\n",
       "<style scoped>\n",
       "    .dataframe tbody tr th:only-of-type {\n",
       "        vertical-align: middle;\n",
       "    }\n",
       "\n",
       "    .dataframe tbody tr th {\n",
       "        vertical-align: top;\n",
       "    }\n",
       "\n",
       "    .dataframe thead th {\n",
       "        text-align: right;\n",
       "    }\n",
       "</style>\n",
       "<table border=\"1\" class=\"dataframe\">\n",
       "  <thead>\n",
       "    <tr style=\"text-align: right;\">\n",
       "      <th></th>\n",
       "      <th>Company Name</th>\n",
       "      <th>Status</th>\n",
       "      <th>Ship Date</th>\n",
       "      <th>City</th>\n",
       "      <th>State</th>\n",
       "      <th>Zip</th>\n",
       "      <th>Shipping Service</th>\n",
       "      <th>Created Date</th>\n",
       "      <th>Weight</th>\n",
       "      <th>Item/Bottle Count</th>\n",
       "    </tr>\n",
       "  </thead>\n",
       "  <tbody>\n",
       "    <tr>\n",
       "      <th>0</th>\n",
       "      <td>Ecom1</td>\n",
       "      <td>Delivered</td>\n",
       "      <td>10/1/2021</td>\n",
       "      <td>Far Hills</td>\n",
       "      <td>NJ</td>\n",
       "      <td>7931</td>\n",
       "      <td>FEH</td>\n",
       "      <td>9/30/2021</td>\n",
       "      <td>20.2</td>\n",
       "      <td>6.0</td>\n",
       "    </tr>\n",
       "    <tr>\n",
       "      <th>1</th>\n",
       "      <td>Ecom1</td>\n",
       "      <td>Delivered</td>\n",
       "      <td>10/1/2021</td>\n",
       "      <td>Charlottesville</td>\n",
       "      <td>VA</td>\n",
       "      <td>22903</td>\n",
       "      <td>FEH</td>\n",
       "      <td>9/30/2021</td>\n",
       "      <td>24.0</td>\n",
       "      <td>7.0</td>\n",
       "    </tr>\n",
       "    <tr>\n",
       "      <th>2</th>\n",
       "      <td>Ecom1</td>\n",
       "      <td>Delivered</td>\n",
       "      <td>10/1/2021</td>\n",
       "      <td>Norristown</td>\n",
       "      <td>PA</td>\n",
       "      <td>19403-1052</td>\n",
       "      <td>FEH</td>\n",
       "      <td>9/30/2021</td>\n",
       "      <td>39.0</td>\n",
       "      <td>12.0</td>\n",
       "    </tr>\n",
       "    <tr>\n",
       "      <th>3</th>\n",
       "      <td>Ecom1</td>\n",
       "      <td>Delivered</td>\n",
       "      <td>10/1/2021</td>\n",
       "      <td>Philadelphia</td>\n",
       "      <td>PA</td>\n",
       "      <td>19136</td>\n",
       "      <td>FEH</td>\n",
       "      <td>9/30/2021</td>\n",
       "      <td>39.0</td>\n",
       "      <td>12.0</td>\n",
       "    </tr>\n",
       "    <tr>\n",
       "      <th>4</th>\n",
       "      <td>Ecom1</td>\n",
       "      <td>Delivery Attempt</td>\n",
       "      <td>10/1/2021</td>\n",
       "      <td>Wynnewood</td>\n",
       "      <td>PA</td>\n",
       "      <td>19096</td>\n",
       "      <td>FEH</td>\n",
       "      <td>9/30/2021</td>\n",
       "      <td>39.0</td>\n",
       "      <td>12.0</td>\n",
       "    </tr>\n",
       "  </tbody>\n",
       "</table>\n",
       "</div>"
      ],
      "text/plain": [
       "  Company Name            Status  Ship Date             City State  \\\n",
       "0        Ecom1         Delivered  10/1/2021        Far Hills    NJ   \n",
       "1        Ecom1         Delivered  10/1/2021  Charlottesville    VA   \n",
       "2        Ecom1         Delivered  10/1/2021       Norristown    PA   \n",
       "3        Ecom1         Delivered  10/1/2021     Philadelphia    PA   \n",
       "4        Ecom1  Delivery Attempt  10/1/2021        Wynnewood    PA   \n",
       "\n",
       "          Zip Shipping Service Created Date  Weight  Item/Bottle Count  \n",
       "0        7931              FEH    9/30/2021    20.2                6.0  \n",
       "1       22903              FEH    9/30/2021    24.0                7.0  \n",
       "2  19403-1052              FEH    9/30/2021    39.0               12.0  \n",
       "3       19136              FEH    9/30/2021    39.0               12.0  \n",
       "4       19096              FEH    9/30/2021    39.0               12.0  "
      ]
     },
     "execution_count": 4,
     "metadata": {},
     "output_type": "execute_result"
    }
   ],
   "source": [
    "# Read the October CSV into a DataFrame\n",
    "#Had to open each file in excel and save it as a .csv file instead of an .xlsm file in order for the encryption to be read properly.\n",
    "df_2021_10 = pd.read_csv(load_2021_10, low_memory=False)\n",
    "df_2021_10.head()"
   ]
  },
  {
   "cell_type": "markdown",
   "id": "83dcaaf9",
   "metadata": {},
   "source": [
    "## Inspect the Data"
   ]
  },
  {
   "cell_type": "code",
   "execution_count": 5,
   "id": "57327ad0",
   "metadata": {},
   "outputs": [
    {
     "data": {
      "text/html": [
       "<div>\n",
       "<style scoped>\n",
       "    .dataframe tbody tr th:only-of-type {\n",
       "        vertical-align: middle;\n",
       "    }\n",
       "\n",
       "    .dataframe tbody tr th {\n",
       "        vertical-align: top;\n",
       "    }\n",
       "\n",
       "    .dataframe thead th {\n",
       "        text-align: right;\n",
       "    }\n",
       "</style>\n",
       "<table border=\"1\" class=\"dataframe\">\n",
       "  <thead>\n",
       "    <tr style=\"text-align: right;\">\n",
       "      <th></th>\n",
       "      <th>Company Name</th>\n",
       "      <th>Status</th>\n",
       "      <th>Ship Date</th>\n",
       "      <th>City</th>\n",
       "      <th>State</th>\n",
       "      <th>Zip</th>\n",
       "      <th>Shipping Service</th>\n",
       "      <th>Created Date</th>\n",
       "      <th>Weight</th>\n",
       "      <th>Item/Bottle Count</th>\n",
       "    </tr>\n",
       "  </thead>\n",
       "  <tbody>\n",
       "    <tr>\n",
       "      <th>99580</th>\n",
       "      <td>NaN</td>\n",
       "      <td>NaN</td>\n",
       "      <td>NaN</td>\n",
       "      <td>NaN</td>\n",
       "      <td>NaN</td>\n",
       "      <td>NaN</td>\n",
       "      <td>NaN</td>\n",
       "      <td>NaN</td>\n",
       "      <td>NaN</td>\n",
       "      <td>NaN</td>\n",
       "    </tr>\n",
       "    <tr>\n",
       "      <th>654867</th>\n",
       "      <td>NaN</td>\n",
       "      <td>NaN</td>\n",
       "      <td>NaN</td>\n",
       "      <td>NaN</td>\n",
       "      <td>NaN</td>\n",
       "      <td>NaN</td>\n",
       "      <td>NaN</td>\n",
       "      <td>NaN</td>\n",
       "      <td>NaN</td>\n",
       "      <td>NaN</td>\n",
       "    </tr>\n",
       "    <tr>\n",
       "      <th>6491</th>\n",
       "      <td>Ecom2</td>\n",
       "      <td>In Transit</td>\n",
       "      <td>10/21/2021</td>\n",
       "      <td>Helena</td>\n",
       "      <td>MT</td>\n",
       "      <td>59602</td>\n",
       "      <td>UPS</td>\n",
       "      <td>10/18/2021</td>\n",
       "      <td>7.0</td>\n",
       "      <td>2.0</td>\n",
       "    </tr>\n",
       "    <tr>\n",
       "      <th>651334</th>\n",
       "      <td>NaN</td>\n",
       "      <td>NaN</td>\n",
       "      <td>NaN</td>\n",
       "      <td>NaN</td>\n",
       "      <td>NaN</td>\n",
       "      <td>NaN</td>\n",
       "      <td>NaN</td>\n",
       "      <td>NaN</td>\n",
       "      <td>NaN</td>\n",
       "      <td>NaN</td>\n",
       "    </tr>\n",
       "    <tr>\n",
       "      <th>141392</th>\n",
       "      <td>NaN</td>\n",
       "      <td>NaN</td>\n",
       "      <td>NaN</td>\n",
       "      <td>NaN</td>\n",
       "      <td>NaN</td>\n",
       "      <td>NaN</td>\n",
       "      <td>NaN</td>\n",
       "      <td>NaN</td>\n",
       "      <td>NaN</td>\n",
       "      <td>NaN</td>\n",
       "    </tr>\n",
       "  </tbody>\n",
       "</table>\n",
       "</div>"
      ],
      "text/plain": [
       "       Company Name      Status   Ship Date    City State    Zip  \\\n",
       "99580           NaN         NaN         NaN     NaN   NaN    NaN   \n",
       "654867          NaN         NaN         NaN     NaN   NaN    NaN   \n",
       "6491          Ecom2  In Transit  10/21/2021  Helena    MT  59602   \n",
       "651334          NaN         NaN         NaN     NaN   NaN    NaN   \n",
       "141392          NaN         NaN         NaN     NaN   NaN    NaN   \n",
       "\n",
       "       Shipping Service Created Date  Weight  Item/Bottle Count  \n",
       "99580               NaN          NaN     NaN                NaN  \n",
       "654867              NaN          NaN     NaN                NaN  \n",
       "6491                UPS   10/18/2021     7.0                2.0  \n",
       "651334              NaN          NaN     NaN                NaN  \n",
       "141392              NaN          NaN     NaN                NaN  "
      ]
     },
     "execution_count": 5,
     "metadata": {},
     "output_type": "execute_result"
    }
   ],
   "source": [
    "#See five random rows of data\n",
    "df_2021_10.sample(n=5)"
   ]
  },
  {
   "cell_type": "code",
   "execution_count": 6,
   "id": "bc4ba2a9",
   "metadata": {},
   "outputs": [
    {
     "data": {
      "text/html": [
       "<div>\n",
       "<style scoped>\n",
       "    .dataframe tbody tr th:only-of-type {\n",
       "        vertical-align: middle;\n",
       "    }\n",
       "\n",
       "    .dataframe tbody tr th {\n",
       "        vertical-align: top;\n",
       "    }\n",
       "\n",
       "    .dataframe thead th {\n",
       "        text-align: right;\n",
       "    }\n",
       "</style>\n",
       "<table border=\"1\" class=\"dataframe\">\n",
       "  <thead>\n",
       "    <tr style=\"text-align: right;\">\n",
       "      <th></th>\n",
       "      <th>Company Name</th>\n",
       "      <th>Status</th>\n",
       "      <th>Ship Date</th>\n",
       "      <th>City</th>\n",
       "      <th>State</th>\n",
       "      <th>Zip</th>\n",
       "      <th>Shipping Service</th>\n",
       "      <th>Created Date</th>\n",
       "      <th>Weight</th>\n",
       "      <th>Item/Bottle Count</th>\n",
       "    </tr>\n",
       "  </thead>\n",
       "  <tbody>\n",
       "    <tr>\n",
       "      <th>716035</th>\n",
       "      <td>NaN</td>\n",
       "      <td>NaN</td>\n",
       "      <td>NaN</td>\n",
       "      <td>NaN</td>\n",
       "      <td>NaN</td>\n",
       "      <td>NaN</td>\n",
       "      <td>NaN</td>\n",
       "      <td>NaN</td>\n",
       "      <td>NaN</td>\n",
       "      <td>NaN</td>\n",
       "    </tr>\n",
       "    <tr>\n",
       "      <th>716036</th>\n",
       "      <td>NaN</td>\n",
       "      <td>NaN</td>\n",
       "      <td>NaN</td>\n",
       "      <td>NaN</td>\n",
       "      <td>NaN</td>\n",
       "      <td>NaN</td>\n",
       "      <td>NaN</td>\n",
       "      <td>NaN</td>\n",
       "      <td>NaN</td>\n",
       "      <td>NaN</td>\n",
       "    </tr>\n",
       "    <tr>\n",
       "      <th>716037</th>\n",
       "      <td>NaN</td>\n",
       "      <td>NaN</td>\n",
       "      <td>NaN</td>\n",
       "      <td>NaN</td>\n",
       "      <td>NaN</td>\n",
       "      <td>NaN</td>\n",
       "      <td>NaN</td>\n",
       "      <td>NaN</td>\n",
       "      <td>NaN</td>\n",
       "      <td>NaN</td>\n",
       "    </tr>\n",
       "    <tr>\n",
       "      <th>716038</th>\n",
       "      <td>NaN</td>\n",
       "      <td>NaN</td>\n",
       "      <td>NaN</td>\n",
       "      <td>NaN</td>\n",
       "      <td>NaN</td>\n",
       "      <td>NaN</td>\n",
       "      <td>NaN</td>\n",
       "      <td>NaN</td>\n",
       "      <td>NaN</td>\n",
       "      <td>NaN</td>\n",
       "    </tr>\n",
       "    <tr>\n",
       "      <th>716039</th>\n",
       "      <td>NaN</td>\n",
       "      <td>NaN</td>\n",
       "      <td>NaN</td>\n",
       "      <td>NaN</td>\n",
       "      <td>NaN</td>\n",
       "      <td>NaN</td>\n",
       "      <td>NaN</td>\n",
       "      <td>NaN</td>\n",
       "      <td>NaN</td>\n",
       "      <td>NaN</td>\n",
       "    </tr>\n",
       "  </tbody>\n",
       "</table>\n",
       "</div>"
      ],
      "text/plain": [
       "       Company Name Status Ship Date City State  Zip Shipping Service  \\\n",
       "716035          NaN    NaN       NaN  NaN   NaN  NaN              NaN   \n",
       "716036          NaN    NaN       NaN  NaN   NaN  NaN              NaN   \n",
       "716037          NaN    NaN       NaN  NaN   NaN  NaN              NaN   \n",
       "716038          NaN    NaN       NaN  NaN   NaN  NaN              NaN   \n",
       "716039          NaN    NaN       NaN  NaN   NaN  NaN              NaN   \n",
       "\n",
       "       Created Date  Weight  Item/Bottle Count  \n",
       "716035          NaN     NaN                NaN  \n",
       "716036          NaN     NaN                NaN  \n",
       "716037          NaN     NaN                NaN  \n",
       "716038          NaN     NaN                NaN  \n",
       "716039          NaN     NaN                NaN  "
      ]
     },
     "execution_count": 6,
     "metadata": {},
     "output_type": "execute_result"
    }
   ],
   "source": [
    "#See the last rows of data\n",
    "df_2021_10.tail(5)"
   ]
  },
  {
   "cell_type": "code",
   "execution_count": 7,
   "id": "d7373d6d",
   "metadata": {},
   "outputs": [
    {
     "data": {
      "text/plain": [
       "Index(['Company Name', 'Status', 'Ship Date', 'City', 'State', 'Zip',\n",
       "       'Shipping Service', 'Created Date', 'Weight', 'Item/Bottle Count'],\n",
       "      dtype='object')"
      ]
     },
     "execution_count": 7,
     "metadata": {},
     "output_type": "execute_result"
    }
   ],
   "source": [
    "df_2021_10.columns"
   ]
  },
  {
   "cell_type": "code",
   "execution_count": 8,
   "id": "b8417480",
   "metadata": {},
   "outputs": [
    {
     "name": "stdout",
     "output_type": "stream",
     "text": [
      "Number of Rows:  716040\n",
      "Number of Columns:  10\n"
     ]
    }
   ],
   "source": [
    "#Determine total rows for df_2021_10.\n",
    "df_2021_10_rows = len(df_2021_10.axes[0])\n",
    "df_2021_10_cols = len(df_2021_10.axes[1])\n",
    "print(\"Number of Rows: \", df_2021_10_rows)\n",
    "print(\"Number of Columns: \", df_2021_10_cols)"
   ]
  },
  {
   "cell_type": "code",
   "execution_count": 9,
   "id": "dee72ae5",
   "metadata": {},
   "outputs": [
    {
     "data": {
      "text/plain": [
       "Company Name         700782\n",
       "Status               700782\n",
       "Ship Date            700782\n",
       "City                 700782\n",
       "State                700782\n",
       "Zip                  700782\n",
       "Shipping Service     700782\n",
       "Created Date         700782\n",
       "Weight               700782\n",
       "Item/Bottle Count    700782\n",
       "dtype: int64"
      ]
     },
     "execution_count": 9,
     "metadata": {},
     "output_type": "execute_result"
    }
   ],
   "source": [
    "# Determine if there are any missing values in df_2021_10.\n",
    "df_2021_10.isnull().sum()"
   ]
  },
  {
   "cell_type": "code",
   "execution_count": 10,
   "id": "a2266efa",
   "metadata": {},
   "outputs": [],
   "source": [
    "#Surplus of null values due to data extraction from company. 15,258 rows of usable data."
   ]
  },
  {
   "cell_type": "code",
   "execution_count": 12,
   "id": "e4aa45ce",
   "metadata": {},
   "outputs": [
    {
     "data": {
      "text/plain": [
       "Company Name          object\n",
       "Status                object\n",
       "Ship Date             object\n",
       "City                  object\n",
       "State                 object\n",
       "Zip                   object\n",
       "Shipping Service      object\n",
       "Created Date          object\n",
       "Weight               float64\n",
       "Item/Bottle Count    float64\n",
       "dtype: object"
      ]
     },
     "execution_count": 12,
     "metadata": {},
     "output_type": "execute_result"
    }
   ],
   "source": [
    "# Determine data types for df_2021_10.\n",
    "df_2021_10.dtypes"
   ]
  },
  {
   "cell_type": "code",
   "execution_count": 13,
   "id": "ce126503",
   "metadata": {},
   "outputs": [
    {
     "data": {
      "text/plain": [
       "Ecom2      5481\n",
       "Ecom3      5442\n",
       "Ecom1      2953\n",
       "Winery1     695\n",
       "Winery2     687\n",
       "Name: Company Name, dtype: int64"
      ]
     },
     "execution_count": 13,
     "metadata": {},
     "output_type": "execute_result"
    }
   ],
   "source": [
    "df_2021_10['Company Name'].value_counts()"
   ]
  },
  {
   "cell_type": "code",
   "execution_count": 14,
   "id": "0a521509",
   "metadata": {},
   "outputs": [
    {
     "data": {
      "text/plain": [
       "10/21/2021    5643\n",
       "10/22/2021    1224\n",
       "10/25/2021     640\n",
       "10/26/2021     623\n",
       "10/18/2021     589\n",
       "10/4/2021      573\n",
       "10/28/2021     573\n",
       "10/11/2021     542\n",
       "10/27/2021     537\n",
       "10/6/2021      513\n",
       "10/8/2021      456\n",
       "10/15/2021     408\n",
       "10/19/2021     392\n",
       "10/7/2021      377\n",
       "10/13/2021     361\n",
       "10/29/2021     356\n",
       "10/1/2021      335\n",
       "10/12/2021     329\n",
       "10/20/2021     291\n",
       "10/5/2021      271\n",
       "10/14/2021     220\n",
       "10/9/2021        3\n",
       "10/2/2021        1\n",
       "10/23/2021       1\n",
       "Name: Ship Date, dtype: int64"
      ]
     },
     "execution_count": 14,
     "metadata": {},
     "output_type": "execute_result"
    }
   ],
   "source": [
    "df_2021_10['Ship Date'].value_counts()"
   ]
  },
  {
   "cell_type": "code",
   "execution_count": 15,
   "id": "b8789edb",
   "metadata": {},
   "outputs": [
    {
     "data": {
      "text/plain": [
       "In Transit           7415\n",
       "Shipped              7167\n",
       "Delivered             509\n",
       "Carrier Exception     141\n",
       "Delivery Attempt       26\n",
       "Name: Status, dtype: int64"
      ]
     },
     "execution_count": 15,
     "metadata": {},
     "output_type": "execute_result"
    }
   ],
   "source": [
    "df_2021_10['Status'].value_counts()"
   ]
  },
  {
   "cell_type": "code",
   "execution_count": 16,
   "id": "5c24a22b",
   "metadata": {},
   "outputs": [
    {
     "data": {
      "text/plain": [
       "New York               292\n",
       "Chicago                216\n",
       "Austin                 133\n",
       "Houston                123\n",
       "Los Angeles            121\n",
       "                      ... \n",
       "WASHINGTON CROSSING      1\n",
       "Kokhanok                 1\n",
       "HARTVILLE                1\n",
       "Gorman                   1\n",
       "Kailua Kona              1\n",
       "Name: City, Length: 4244, dtype: int64"
      ]
     },
     "execution_count": 16,
     "metadata": {},
     "output_type": "execute_result"
    }
   ],
   "source": [
    "df_2021_10['City'].value_counts()"
   ]
  },
  {
   "cell_type": "code",
   "execution_count": 17,
   "id": "50ee4539",
   "metadata": {},
   "outputs": [
    {
     "data": {
      "text/plain": [
       "CA    1475\n",
       "NY    1448\n",
       "TX    1087\n",
       "FL    1085\n",
       "PA     965\n",
       "NJ     892\n",
       "IL     672\n",
       "MA     581\n",
       "OH     527\n",
       "VA     507\n",
       "NC     451\n",
       "CO     435\n",
       "MI     417\n",
       "GA     408\n",
       "MD     400\n",
       "WA     302\n",
       "CT     291\n",
       "AZ     266\n",
       "TN     256\n",
       "IN     233\n",
       "MN     230\n",
       "SC     226\n",
       "MO     203\n",
       "WI     188\n",
       "OR     162\n",
       "LA     138\n",
       "KS     111\n",
       "DC     101\n",
       "HI     101\n",
       "NV      95\n",
       "NH      91\n",
       "RI      88\n",
       "NE      86\n",
       "IA      84\n",
       "ME      83\n",
       "OK      74\n",
       "ID      60\n",
       "NM      57\n",
       "AR      56\n",
       "VT      48\n",
       "DE      48\n",
       "MT      48\n",
       "WV      41\n",
       "WY      31\n",
       "ND      27\n",
       "AK      23\n",
       "SD      22\n",
       "AL      20\n",
       "KY      18\n",
       "Name: State, dtype: int64"
      ]
     },
     "execution_count": 17,
     "metadata": {},
     "output_type": "execute_result"
    }
   ],
   "source": [
    "df_2021_10['State'].value_counts()"
   ]
  },
  {
   "cell_type": "code",
   "execution_count": 18,
   "id": "6a27c6dd",
   "metadata": {},
   "outputs": [
    {
     "data": {
      "text/plain": [
       "22180    30\n",
       "60614    27\n",
       "10019    24\n",
       "43065    24\n",
       "10011    23\n",
       "         ..\n",
       "48335     1\n",
       "49323     1\n",
       "49203     1\n",
       "49087     1\n",
       "98837     1\n",
       "Name: Zip, Length: 6387, dtype: int64"
      ]
     },
     "execution_count": 18,
     "metadata": {},
     "output_type": "execute_result"
    }
   ],
   "source": [
    "df_2021_10['Zip'].value_counts()"
   ]
  },
  {
   "cell_type": "code",
   "execution_count": 19,
   "id": "93a3d82a",
   "metadata": {},
   "outputs": [
    {
     "data": {
      "text/plain": [
       "UPS    7388\n",
       "FEH    6902\n",
       "FXG     819\n",
       "FEX      58\n",
       "UP2      43\n",
       "AZS      24\n",
       "FXE      13\n",
       "UP1       6\n",
       "FXO       2\n",
       "UP3       1\n",
       "FXP       1\n",
       "GSC       1\n",
       "Name: Shipping Service, dtype: int64"
      ]
     },
     "execution_count": 19,
     "metadata": {},
     "output_type": "execute_result"
    }
   ],
   "source": [
    "df_2021_10['Shipping Service'].value_counts()"
   ]
  },
  {
   "cell_type": "code",
   "execution_count": 20,
   "id": "f31c6641",
   "metadata": {},
   "outputs": [
    {
     "data": {
      "text/plain": [
       "10/18/2021    5829\n",
       "10/20/2021     807\n",
       "10/27/2021     692\n",
       "10/4/2021      530\n",
       "10/3/2021      407\n",
       "10/13/2021     404\n",
       "10/26/2021     374\n",
       "10/25/2021     368\n",
       "10/22/2021     366\n",
       "10/17/2021     365\n",
       "10/5/2021      347\n",
       "10/24/2021     327\n",
       "10/7/2021      313\n",
       "10/15/2021     301\n",
       "10/10/2021     300\n",
       "10/12/2021     291\n",
       "10/28/2021     287\n",
       "10/6/2021      283\n",
       "10/16/2021     271\n",
       "10/21/2021     262\n",
       "10/1/2021      254\n",
       "10/14/2021     240\n",
       "10/19/2021     236\n",
       "10/11/2021     231\n",
       "10/8/2021      206\n",
       "10/23/2021     190\n",
       "10/9/2021      180\n",
       "9/30/2021      147\n",
       "10/2/2021      140\n",
       "10/29/2021     121\n",
       "9/27/2021       98\n",
       "9/28/2021       17\n",
       "9/15/2021       15\n",
       "9/29/2021       15\n",
       "9/25/2021       11\n",
       "8/12/2021        7\n",
       "9/26/2021        7\n",
       "9/14/2021        5\n",
       "9/16/2021        3\n",
       "9/19/2021        2\n",
       "9/10/2021        1\n",
       "9/17/2021        1\n",
       "9/24/2021        1\n",
       "8/25/2021        1\n",
       "9/18/2021        1\n",
       "9/2/2021         1\n",
       "8/24/2021        1\n",
       "8/28/2021        1\n",
       "8/30/2021        1\n",
       "Name: Created Date, dtype: int64"
      ]
     },
     "execution_count": 20,
     "metadata": {},
     "output_type": "execute_result"
    }
   ],
   "source": [
    "df_2021_10['Created Date'].value_counts()\n",
    "#Ok to have dates from other months- Sometimes people will create an order and hold onto it until an adult is present to sign for delivery."
   ]
  },
  {
   "cell_type": "code",
   "execution_count": 21,
   "id": "8ebe2d26",
   "metadata": {},
   "outputs": [
    {
     "data": {
      "text/plain": [
       "7.00     5815\n",
       "21.50    2680\n",
       "39.00    1535\n",
       "10.50    1462\n",
       "20.20     773\n",
       "41.00     604\n",
       "14.00     523\n",
       "6.50      402\n",
       "9.90      249\n",
       "20.00     189\n",
       "27.00     151\n",
       "39.50     118\n",
       "18.50     116\n",
       "3.35      113\n",
       "29.00      79\n",
       "30.00      61\n",
       "24.00      52\n",
       "33.00      51\n",
       "35.00      42\n",
       "26.00      42\n",
       "32.00      41\n",
       "44.00      25\n",
       "4.00       20\n",
       "38.00      17\n",
       "30.50      14\n",
       "36.00      13\n",
       "6.20       12\n",
       "13.50      12\n",
       "17.00       7\n",
       "17.20       7\n",
       "20.50       6\n",
       "46.00       5\n",
       "27.50       4\n",
       "77.00       3\n",
       "24.50       3\n",
       "19.00       2\n",
       "15.00       2\n",
       "37.00       2\n",
       "45.00       1\n",
       "3.00        1\n",
       "75.00       1\n",
       "33.50       1\n",
       "47.00       1\n",
       "23.00       1\n",
       "Name: Weight, dtype: int64"
      ]
     },
     "execution_count": 21,
     "metadata": {},
     "output_type": "execute_result"
    }
   ],
   "source": [
    "df_2021_10['Weight'].value_counts()"
   ]
  },
  {
   "cell_type": "code",
   "execution_count": 22,
   "id": "356cd94a",
   "metadata": {},
   "outputs": [
    {
     "data": {
      "text/plain": [
       "2.0     5819\n",
       "6.0     3423\n",
       "12.0    2188\n",
       "3.0     1499\n",
       "4.0      750\n",
       "1.0      568\n",
       "7.0      314\n",
       "8.0      224\n",
       "5.0      124\n",
       "9.0      107\n",
       "10.0     104\n",
       "13.0     103\n",
       "11.0      27\n",
       "15.0       4\n",
       "14.0       3\n",
       "18.0       1\n",
       "Name: Item/Bottle Count, dtype: int64"
      ]
     },
     "execution_count": 22,
     "metadata": {},
     "output_type": "execute_result"
    }
   ],
   "source": [
    "df_2021_10['Item/Bottle Count'].value_counts()"
   ]
  },
  {
   "cell_type": "markdown",
   "id": "68f6fedc",
   "metadata": {},
   "source": [
    "## Clean the Data"
   ]
  },
  {
   "cell_type": "code",
   "execution_count": 23,
   "id": "7344c4a2",
   "metadata": {},
   "outputs": [],
   "source": [
    "#Change dtypes if necessary"
   ]
  },
  {
   "cell_type": "code",
   "execution_count": 24,
   "id": "02ffce8c",
   "metadata": {},
   "outputs": [
    {
     "data": {
      "text/html": [
       "<div>\n",
       "<style scoped>\n",
       "    .dataframe tbody tr th:only-of-type {\n",
       "        vertical-align: middle;\n",
       "    }\n",
       "\n",
       "    .dataframe tbody tr th {\n",
       "        vertical-align: top;\n",
       "    }\n",
       "\n",
       "    .dataframe thead th {\n",
       "        text-align: right;\n",
       "    }\n",
       "</style>\n",
       "<table border=\"1\" class=\"dataframe\">\n",
       "  <thead>\n",
       "    <tr style=\"text-align: right;\">\n",
       "      <th></th>\n",
       "      <th>Company Name</th>\n",
       "      <th>Ship Date</th>\n",
       "      <th>City</th>\n",
       "      <th>State</th>\n",
       "      <th>Zip</th>\n",
       "      <th>Shipping Service</th>\n",
       "      <th>Created Date</th>\n",
       "      <th>Weight</th>\n",
       "      <th>Item/Bottle Count</th>\n",
       "    </tr>\n",
       "  </thead>\n",
       "  <tbody>\n",
       "    <tr>\n",
       "      <th>0</th>\n",
       "      <td>Ecom1</td>\n",
       "      <td>10/1/2021</td>\n",
       "      <td>Far Hills</td>\n",
       "      <td>NJ</td>\n",
       "      <td>7931</td>\n",
       "      <td>FEH</td>\n",
       "      <td>9/30/2021</td>\n",
       "      <td>20.2</td>\n",
       "      <td>6.0</td>\n",
       "    </tr>\n",
       "    <tr>\n",
       "      <th>1</th>\n",
       "      <td>Ecom1</td>\n",
       "      <td>10/1/2021</td>\n",
       "      <td>Charlottesville</td>\n",
       "      <td>VA</td>\n",
       "      <td>22903</td>\n",
       "      <td>FEH</td>\n",
       "      <td>9/30/2021</td>\n",
       "      <td>24.0</td>\n",
       "      <td>7.0</td>\n",
       "    </tr>\n",
       "    <tr>\n",
       "      <th>2</th>\n",
       "      <td>Ecom1</td>\n",
       "      <td>10/1/2021</td>\n",
       "      <td>Norristown</td>\n",
       "      <td>PA</td>\n",
       "      <td>19403-1052</td>\n",
       "      <td>FEH</td>\n",
       "      <td>9/30/2021</td>\n",
       "      <td>39.0</td>\n",
       "      <td>12.0</td>\n",
       "    </tr>\n",
       "    <tr>\n",
       "      <th>3</th>\n",
       "      <td>Ecom1</td>\n",
       "      <td>10/1/2021</td>\n",
       "      <td>Philadelphia</td>\n",
       "      <td>PA</td>\n",
       "      <td>19136</td>\n",
       "      <td>FEH</td>\n",
       "      <td>9/30/2021</td>\n",
       "      <td>39.0</td>\n",
       "      <td>12.0</td>\n",
       "    </tr>\n",
       "    <tr>\n",
       "      <th>4</th>\n",
       "      <td>Ecom1</td>\n",
       "      <td>10/1/2021</td>\n",
       "      <td>Wynnewood</td>\n",
       "      <td>PA</td>\n",
       "      <td>19096</td>\n",
       "      <td>FEH</td>\n",
       "      <td>9/30/2021</td>\n",
       "      <td>39.0</td>\n",
       "      <td>12.0</td>\n",
       "    </tr>\n",
       "    <tr>\n",
       "      <th>...</th>\n",
       "      <td>...</td>\n",
       "      <td>...</td>\n",
       "      <td>...</td>\n",
       "      <td>...</td>\n",
       "      <td>...</td>\n",
       "      <td>...</td>\n",
       "      <td>...</td>\n",
       "      <td>...</td>\n",
       "      <td>...</td>\n",
       "    </tr>\n",
       "    <tr>\n",
       "      <th>716035</th>\n",
       "      <td>NaN</td>\n",
       "      <td>NaN</td>\n",
       "      <td>NaN</td>\n",
       "      <td>NaN</td>\n",
       "      <td>NaN</td>\n",
       "      <td>NaN</td>\n",
       "      <td>NaN</td>\n",
       "      <td>NaN</td>\n",
       "      <td>NaN</td>\n",
       "    </tr>\n",
       "    <tr>\n",
       "      <th>716036</th>\n",
       "      <td>NaN</td>\n",
       "      <td>NaN</td>\n",
       "      <td>NaN</td>\n",
       "      <td>NaN</td>\n",
       "      <td>NaN</td>\n",
       "      <td>NaN</td>\n",
       "      <td>NaN</td>\n",
       "      <td>NaN</td>\n",
       "      <td>NaN</td>\n",
       "    </tr>\n",
       "    <tr>\n",
       "      <th>716037</th>\n",
       "      <td>NaN</td>\n",
       "      <td>NaN</td>\n",
       "      <td>NaN</td>\n",
       "      <td>NaN</td>\n",
       "      <td>NaN</td>\n",
       "      <td>NaN</td>\n",
       "      <td>NaN</td>\n",
       "      <td>NaN</td>\n",
       "      <td>NaN</td>\n",
       "    </tr>\n",
       "    <tr>\n",
       "      <th>716038</th>\n",
       "      <td>NaN</td>\n",
       "      <td>NaN</td>\n",
       "      <td>NaN</td>\n",
       "      <td>NaN</td>\n",
       "      <td>NaN</td>\n",
       "      <td>NaN</td>\n",
       "      <td>NaN</td>\n",
       "      <td>NaN</td>\n",
       "      <td>NaN</td>\n",
       "    </tr>\n",
       "    <tr>\n",
       "      <th>716039</th>\n",
       "      <td>NaN</td>\n",
       "      <td>NaN</td>\n",
       "      <td>NaN</td>\n",
       "      <td>NaN</td>\n",
       "      <td>NaN</td>\n",
       "      <td>NaN</td>\n",
       "      <td>NaN</td>\n",
       "      <td>NaN</td>\n",
       "      <td>NaN</td>\n",
       "    </tr>\n",
       "  </tbody>\n",
       "</table>\n",
       "<p>716040 rows × 9 columns</p>\n",
       "</div>"
      ],
      "text/plain": [
       "       Company Name  Ship Date             City State         Zip  \\\n",
       "0             Ecom1  10/1/2021        Far Hills    NJ        7931   \n",
       "1             Ecom1  10/1/2021  Charlottesville    VA       22903   \n",
       "2             Ecom1  10/1/2021       Norristown    PA  19403-1052   \n",
       "3             Ecom1  10/1/2021     Philadelphia    PA       19136   \n",
       "4             Ecom1  10/1/2021        Wynnewood    PA       19096   \n",
       "...             ...        ...              ...   ...         ...   \n",
       "716035          NaN        NaN              NaN   NaN         NaN   \n",
       "716036          NaN        NaN              NaN   NaN         NaN   \n",
       "716037          NaN        NaN              NaN   NaN         NaN   \n",
       "716038          NaN        NaN              NaN   NaN         NaN   \n",
       "716039          NaN        NaN              NaN   NaN         NaN   \n",
       "\n",
       "       Shipping Service Created Date  Weight  Item/Bottle Count  \n",
       "0                   FEH    9/30/2021    20.2                6.0  \n",
       "1                   FEH    9/30/2021    24.0                7.0  \n",
       "2                   FEH    9/30/2021    39.0               12.0  \n",
       "3                   FEH    9/30/2021    39.0               12.0  \n",
       "4                   FEH    9/30/2021    39.0               12.0  \n",
       "...                 ...          ...     ...                ...  \n",
       "716035              NaN          NaN     NaN                NaN  \n",
       "716036              NaN          NaN     NaN                NaN  \n",
       "716037              NaN          NaN     NaN                NaN  \n",
       "716038              NaN          NaN     NaN                NaN  \n",
       "716039              NaN          NaN     NaN                NaN  \n",
       "\n",
       "[716040 rows x 9 columns]"
      ]
     },
     "execution_count": 24,
     "metadata": {},
     "output_type": "execute_result"
    }
   ],
   "source": [
    "#Remove \"Status\" column from df_2021_10.\n",
    "df_2021_10 = df_2021_10.drop('Status', axis=1)\n",
    "df_2021_10"
   ]
  },
  {
   "cell_type": "code",
   "execution_count": 25,
   "id": "bbb59fc5",
   "metadata": {},
   "outputs": [],
   "source": [
    "# Drop the NaNs for df_2021_10.\n",
    "df_2021_10 = df_2021_10.dropna()"
   ]
  },
  {
   "cell_type": "markdown",
   "id": "946b6578",
   "metadata": {},
   "source": [
    "## Confirm Changes"
   ]
  },
  {
   "cell_type": "code",
   "execution_count": 26,
   "id": "24f52aa4",
   "metadata": {},
   "outputs": [
    {
     "data": {
      "text/html": [
       "<div>\n",
       "<style scoped>\n",
       "    .dataframe tbody tr th:only-of-type {\n",
       "        vertical-align: middle;\n",
       "    }\n",
       "\n",
       "    .dataframe tbody tr th {\n",
       "        vertical-align: top;\n",
       "    }\n",
       "\n",
       "    .dataframe thead th {\n",
       "        text-align: right;\n",
       "    }\n",
       "</style>\n",
       "<table border=\"1\" class=\"dataframe\">\n",
       "  <thead>\n",
       "    <tr style=\"text-align: right;\">\n",
       "      <th></th>\n",
       "      <th>Company Name</th>\n",
       "      <th>Ship Date</th>\n",
       "      <th>City</th>\n",
       "      <th>State</th>\n",
       "      <th>Zip</th>\n",
       "      <th>Shipping Service</th>\n",
       "      <th>Created Date</th>\n",
       "      <th>Weight</th>\n",
       "      <th>Item/Bottle Count</th>\n",
       "    </tr>\n",
       "  </thead>\n",
       "  <tbody>\n",
       "    <tr>\n",
       "      <th>5787</th>\n",
       "      <td>Ecom3</td>\n",
       "      <td>10/21/2021</td>\n",
       "      <td>Mason</td>\n",
       "      <td>OH</td>\n",
       "      <td>45040</td>\n",
       "      <td>UPS</td>\n",
       "      <td>10/20/2021</td>\n",
       "      <td>21.5</td>\n",
       "      <td>6.0</td>\n",
       "    </tr>\n",
       "    <tr>\n",
       "      <th>4694</th>\n",
       "      <td>Ecom3</td>\n",
       "      <td>10/18/2021</td>\n",
       "      <td>Jersey City</td>\n",
       "      <td>NJ</td>\n",
       "      <td>7310</td>\n",
       "      <td>UPS</td>\n",
       "      <td>10/15/2021</td>\n",
       "      <td>21.5</td>\n",
       "      <td>6.0</td>\n",
       "    </tr>\n",
       "    <tr>\n",
       "      <th>10454</th>\n",
       "      <td>Ecom2</td>\n",
       "      <td>10/21/2021</td>\n",
       "      <td>West Boylston</td>\n",
       "      <td>MA</td>\n",
       "      <td>1583</td>\n",
       "      <td>UPS</td>\n",
       "      <td>10/18/2021</td>\n",
       "      <td>7.0</td>\n",
       "      <td>2.0</td>\n",
       "    </tr>\n",
       "    <tr>\n",
       "      <th>14912</th>\n",
       "      <td>Ecom1</td>\n",
       "      <td>10/29/2021</td>\n",
       "      <td>Westbury</td>\n",
       "      <td>NY</td>\n",
       "      <td>11590</td>\n",
       "      <td>FEH</td>\n",
       "      <td>10/28/2021</td>\n",
       "      <td>10.5</td>\n",
       "      <td>3.0</td>\n",
       "    </tr>\n",
       "    <tr>\n",
       "      <th>1078</th>\n",
       "      <td>Ecom3</td>\n",
       "      <td>10/5/2021</td>\n",
       "      <td>Altamonte Springs</td>\n",
       "      <td>FL</td>\n",
       "      <td>32714</td>\n",
       "      <td>UPS</td>\n",
       "      <td>10/5/2021</td>\n",
       "      <td>39.0</td>\n",
       "      <td>12.0</td>\n",
       "    </tr>\n",
       "  </tbody>\n",
       "</table>\n",
       "</div>"
      ],
      "text/plain": [
       "      Company Name   Ship Date               City State    Zip  \\\n",
       "5787         Ecom3  10/21/2021              Mason    OH  45040   \n",
       "4694         Ecom3  10/18/2021        Jersey City    NJ   7310   \n",
       "10454        Ecom2  10/21/2021      West Boylston    MA   1583   \n",
       "14912        Ecom1  10/29/2021           Westbury    NY  11590   \n",
       "1078         Ecom3   10/5/2021  Altamonte Springs    FL  32714   \n",
       "\n",
       "      Shipping Service Created Date  Weight  Item/Bottle Count  \n",
       "5787               UPS   10/20/2021    21.5                6.0  \n",
       "4694               UPS   10/15/2021    21.5                6.0  \n",
       "10454              UPS   10/18/2021     7.0                2.0  \n",
       "14912              FEH   10/28/2021    10.5                3.0  \n",
       "1078               UPS    10/5/2021    39.0               12.0  "
      ]
     },
     "execution_count": 26,
     "metadata": {},
     "output_type": "execute_result"
    }
   ],
   "source": [
    "#See five random rows of data\n",
    "df_2021_10.sample(n=5)"
   ]
  },
  {
   "cell_type": "code",
   "execution_count": 27,
   "id": "a61f9697",
   "metadata": {},
   "outputs": [
    {
     "name": "stdout",
     "output_type": "stream",
     "text": [
      "Number of Rows:  15258\n",
      "Number of Columns:  9\n"
     ]
    }
   ],
   "source": [
    "#Determine total rows for df_2021_10.\n",
    "df_2021_10_rows = len(df_2021_10.axes[0])\n",
    "df_2021_10_cols = len(df_2021_10.axes[1])\n",
    "print(\"Number of Rows: \", df_2021_10_rows)\n",
    "print(\"Number of Columns: \", df_2021_10_cols)"
   ]
  },
  {
   "cell_type": "markdown",
   "id": "d997584e",
   "metadata": {},
   "source": [
    "## Export Cleaned df to .CSV"
   ]
  },
  {
   "cell_type": "code",
   "execution_count": 28,
   "id": "84bc21fc",
   "metadata": {},
   "outputs": [],
   "source": [
    "#Export df_2021_10 to .csv\n",
    "df_2021_10.to_csv('../cleaned_months_2021/Clean_2021_10.csv') "
   ]
  },
  {
   "cell_type": "code",
   "execution_count": null,
   "id": "22eef17a",
   "metadata": {},
   "outputs": [],
   "source": []
  }
 ],
 "metadata": {
  "kernelspec": {
   "display_name": "Python 3 (ipykernel)",
   "language": "python",
   "name": "python3"
  },
  "language_info": {
   "codemirror_mode": {
    "name": "ipython",
    "version": 3
   },
   "file_extension": ".py",
   "mimetype": "text/x-python",
   "name": "python",
   "nbconvert_exporter": "python",
   "pygments_lexer": "ipython3",
   "version": "3.7.13"
  }
 },
 "nbformat": 4,
 "nbformat_minor": 5
}
