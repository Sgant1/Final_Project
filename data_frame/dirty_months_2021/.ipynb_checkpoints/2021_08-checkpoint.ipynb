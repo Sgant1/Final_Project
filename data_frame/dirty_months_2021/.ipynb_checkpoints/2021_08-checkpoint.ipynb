{
 "cells": [
  {
   "cell_type": "code",
   "execution_count": 1,
   "id": "0ee3ff94",
   "metadata": {},
   "outputs": [],
   "source": [
    "#Pandas library to create DataFrames\n",
    "import pandas as pd\n",
    "#NumPy library for converting data types\n",
    "import numpy as np"
   ]
  },
  {
   "cell_type": "code",
   "execution_count": 2,
   "id": "43de2e17",
   "metadata": {},
   "outputs": [],
   "source": [
    "# Files to load\n",
    "load_2020_01 = \"../../2020_Data/2020.01.csv\""
   ]
  },
  {
   "cell_type": "code",
   "execution_count": 3,
   "id": "0006005e",
   "metadata": {},
   "outputs": [
    {
     "data": {
      "text/html": [
       "<div>\n",
       "<style scoped>\n",
       "    .dataframe tbody tr th:only-of-type {\n",
       "        vertical-align: middle;\n",
       "    }\n",
       "\n",
       "    .dataframe tbody tr th {\n",
       "        vertical-align: top;\n",
       "    }\n",
       "\n",
       "    .dataframe thead th {\n",
       "        text-align: right;\n",
       "    }\n",
       "</style>\n",
       "<table border=\"1\" class=\"dataframe\">\n",
       "  <thead>\n",
       "    <tr style=\"text-align: right;\">\n",
       "      <th></th>\n",
       "      <th>Company Name</th>\n",
       "      <th>Status</th>\n",
       "      <th>Ship Date</th>\n",
       "      <th>City</th>\n",
       "      <th>State</th>\n",
       "      <th>Zip</th>\n",
       "      <th>Shipping Service</th>\n",
       "      <th>Created Date</th>\n",
       "      <th>Weight</th>\n",
       "      <th>Item/Bottle Count</th>\n",
       "    </tr>\n",
       "  </thead>\n",
       "  <tbody>\n",
       "    <tr>\n",
       "      <th>0</th>\n",
       "      <td>Ecom3</td>\n",
       "      <td>In Transit</td>\n",
       "      <td>1/2/20</td>\n",
       "      <td>Plantation</td>\n",
       "      <td>FL</td>\n",
       "      <td>33325</td>\n",
       "      <td>UPS</td>\n",
       "      <td>1/1/20</td>\n",
       "      <td>9.9</td>\n",
       "      <td>3.0</td>\n",
       "    </tr>\n",
       "    <tr>\n",
       "      <th>1</th>\n",
       "      <td>Ecom3</td>\n",
       "      <td>Carrier Exception</td>\n",
       "      <td>1/2/20</td>\n",
       "      <td>Lafayette</td>\n",
       "      <td>CA</td>\n",
       "      <td>94549</td>\n",
       "      <td>UPS</td>\n",
       "      <td>12/31/19</td>\n",
       "      <td>35.0</td>\n",
       "      <td>10.0</td>\n",
       "    </tr>\n",
       "    <tr>\n",
       "      <th>2</th>\n",
       "      <td>Ecom3</td>\n",
       "      <td>Delivered</td>\n",
       "      <td>1/2/20</td>\n",
       "      <td>New York</td>\n",
       "      <td>NY</td>\n",
       "      <td>10022</td>\n",
       "      <td>FEH</td>\n",
       "      <td>1/1/20</td>\n",
       "      <td>29.0</td>\n",
       "      <td>8.0</td>\n",
       "    </tr>\n",
       "    <tr>\n",
       "      <th>3</th>\n",
       "      <td>Ecom3</td>\n",
       "      <td>Delivered</td>\n",
       "      <td>1/3/20</td>\n",
       "      <td>New York</td>\n",
       "      <td>NY</td>\n",
       "      <td>10006</td>\n",
       "      <td>FEH</td>\n",
       "      <td>1/2/20</td>\n",
       "      <td>21.5</td>\n",
       "      <td>6.0</td>\n",
       "    </tr>\n",
       "    <tr>\n",
       "      <th>4</th>\n",
       "      <td>Ecom3</td>\n",
       "      <td>In Transit</td>\n",
       "      <td>1/2/20</td>\n",
       "      <td>Walkersville</td>\n",
       "      <td>MD</td>\n",
       "      <td>21793</td>\n",
       "      <td>FXG</td>\n",
       "      <td>12/31/19</td>\n",
       "      <td>41.0</td>\n",
       "      <td>12.0</td>\n",
       "    </tr>\n",
       "  </tbody>\n",
       "</table>\n",
       "</div>"
      ],
      "text/plain": [
       "  Company Name             Status Ship Date          City State    Zip  \\\n",
       "0        Ecom3         In Transit    1/2/20    Plantation    FL  33325   \n",
       "1        Ecom3  Carrier Exception    1/2/20     Lafayette    CA  94549   \n",
       "2        Ecom3          Delivered    1/2/20      New York    NY  10022   \n",
       "3        Ecom3          Delivered    1/3/20      New York    NY  10006   \n",
       "4        Ecom3         In Transit    1/2/20  Walkersville    MD  21793   \n",
       "\n",
       "  Shipping Service Created Date  Weight  Item/Bottle Count  \n",
       "0              UPS       1/1/20     9.9                3.0  \n",
       "1              UPS     12/31/19    35.0               10.0  \n",
       "2              FEH       1/1/20    29.0                8.0  \n",
       "3              FEH       1/2/20    21.5                6.0  \n",
       "4              FXG     12/31/19    41.0               12.0  "
      ]
     },
     "execution_count": 3,
     "metadata": {},
     "output_type": "execute_result"
    }
   ],
   "source": [
    "# Read the January CSV into a DataFrame\n",
    "#Had to open each file in excel and save it as a .csv file instead of an .xlsm file in order for the encryption to be read properly.\n",
    "df_2020_01 = pd.read_csv(load_2020_01)\n",
    "df_2020_01.head()"
   ]
  },
  {
   "cell_type": "markdown",
   "id": "83dcaaf9",
   "metadata": {},
   "source": [
    "## Inspect the Data"
   ]
  },
  {
   "cell_type": "code",
   "execution_count": 4,
   "id": "57327ad0",
   "metadata": {},
   "outputs": [
    {
     "data": {
      "text/html": [
       "<div>\n",
       "<style scoped>\n",
       "    .dataframe tbody tr th:only-of-type {\n",
       "        vertical-align: middle;\n",
       "    }\n",
       "\n",
       "    .dataframe tbody tr th {\n",
       "        vertical-align: top;\n",
       "    }\n",
       "\n",
       "    .dataframe thead th {\n",
       "        text-align: right;\n",
       "    }\n",
       "</style>\n",
       "<table border=\"1\" class=\"dataframe\">\n",
       "  <thead>\n",
       "    <tr style=\"text-align: right;\">\n",
       "      <th></th>\n",
       "      <th>Company Name</th>\n",
       "      <th>Status</th>\n",
       "      <th>Ship Date</th>\n",
       "      <th>City</th>\n",
       "      <th>State</th>\n",
       "      <th>Zip</th>\n",
       "      <th>Shipping Service</th>\n",
       "      <th>Created Date</th>\n",
       "      <th>Weight</th>\n",
       "      <th>Item/Bottle Count</th>\n",
       "    </tr>\n",
       "  </thead>\n",
       "  <tbody>\n",
       "    <tr>\n",
       "      <th>16871</th>\n",
       "      <td>Ecom1</td>\n",
       "      <td>Delivered</td>\n",
       "      <td>1/27/20</td>\n",
       "      <td>CHICAGO</td>\n",
       "      <td>IL</td>\n",
       "      <td>60607</td>\n",
       "      <td>FEH</td>\n",
       "      <td>1/27/20</td>\n",
       "      <td>10.5</td>\n",
       "      <td>3.0</td>\n",
       "    </tr>\n",
       "    <tr>\n",
       "      <th>7048</th>\n",
       "      <td>Ecom2</td>\n",
       "      <td>Manifest</td>\n",
       "      <td>1/23/20</td>\n",
       "      <td>Fresno</td>\n",
       "      <td>CA</td>\n",
       "      <td>93720</td>\n",
       "      <td>UPS</td>\n",
       "      <td>NaN</td>\n",
       "      <td>NaN</td>\n",
       "      <td>NaN</td>\n",
       "    </tr>\n",
       "    <tr>\n",
       "      <th>5789</th>\n",
       "      <td>Ecom2</td>\n",
       "      <td>Manifest</td>\n",
       "      <td>1/23/20</td>\n",
       "      <td>Greensboro</td>\n",
       "      <td>GA</td>\n",
       "      <td>30642</td>\n",
       "      <td>FEH</td>\n",
       "      <td>NaN</td>\n",
       "      <td>NaN</td>\n",
       "      <td>NaN</td>\n",
       "    </tr>\n",
       "    <tr>\n",
       "      <th>6871</th>\n",
       "      <td>Ecom2</td>\n",
       "      <td>Manifest</td>\n",
       "      <td>1/23/20</td>\n",
       "      <td>Fort Wayne</td>\n",
       "      <td>IN</td>\n",
       "      <td>46845</td>\n",
       "      <td>FEH</td>\n",
       "      <td>NaN</td>\n",
       "      <td>NaN</td>\n",
       "      <td>NaN</td>\n",
       "    </tr>\n",
       "    <tr>\n",
       "      <th>9614</th>\n",
       "      <td>Ecom2</td>\n",
       "      <td>Manifest</td>\n",
       "      <td>1/23/20</td>\n",
       "      <td>East Setauket</td>\n",
       "      <td>NY</td>\n",
       "      <td>11733</td>\n",
       "      <td>FEH</td>\n",
       "      <td>NaN</td>\n",
       "      <td>NaN</td>\n",
       "      <td>NaN</td>\n",
       "    </tr>\n",
       "  </tbody>\n",
       "</table>\n",
       "</div>"
      ],
      "text/plain": [
       "      Company Name     Status Ship Date           City State    Zip  \\\n",
       "16871        Ecom1  Delivered   1/27/20        CHICAGO    IL  60607   \n",
       "7048         Ecom2   Manifest   1/23/20         Fresno    CA  93720   \n",
       "5789         Ecom2   Manifest   1/23/20     Greensboro    GA  30642   \n",
       "6871         Ecom2   Manifest   1/23/20     Fort Wayne    IN  46845   \n",
       "9614         Ecom2   Manifest   1/23/20  East Setauket    NY  11733   \n",
       "\n",
       "      Shipping Service Created Date  Weight  Item/Bottle Count  \n",
       "16871              FEH      1/27/20    10.5                3.0  \n",
       "7048               UPS          NaN     NaN                NaN  \n",
       "5789               FEH          NaN     NaN                NaN  \n",
       "6871               FEH          NaN     NaN                NaN  \n",
       "9614               FEH          NaN     NaN                NaN  "
      ]
     },
     "execution_count": 4,
     "metadata": {},
     "output_type": "execute_result"
    }
   ],
   "source": [
    "#See five random rows of data\n",
    "df_2020_01.sample(n=5)"
   ]
  },
  {
   "cell_type": "code",
   "execution_count": 5,
   "id": "bc4ba2a9",
   "metadata": {},
   "outputs": [
    {
     "data": {
      "text/html": [
       "<div>\n",
       "<style scoped>\n",
       "    .dataframe tbody tr th:only-of-type {\n",
       "        vertical-align: middle;\n",
       "    }\n",
       "\n",
       "    .dataframe tbody tr th {\n",
       "        vertical-align: top;\n",
       "    }\n",
       "\n",
       "    .dataframe thead th {\n",
       "        text-align: right;\n",
       "    }\n",
       "</style>\n",
       "<table border=\"1\" class=\"dataframe\">\n",
       "  <thead>\n",
       "    <tr style=\"text-align: right;\">\n",
       "      <th></th>\n",
       "      <th>Company Name</th>\n",
       "      <th>Status</th>\n",
       "      <th>Ship Date</th>\n",
       "      <th>City</th>\n",
       "      <th>State</th>\n",
       "      <th>Zip</th>\n",
       "      <th>Shipping Service</th>\n",
       "      <th>Created Date</th>\n",
       "      <th>Weight</th>\n",
       "      <th>Item/Bottle Count</th>\n",
       "    </tr>\n",
       "  </thead>\n",
       "  <tbody>\n",
       "    <tr>\n",
       "      <th>16950</th>\n",
       "      <td>Ecom1</td>\n",
       "      <td>Delivered</td>\n",
       "      <td>1/27/20</td>\n",
       "      <td>Escondido</td>\n",
       "      <td>CA</td>\n",
       "      <td>92025</td>\n",
       "      <td>FEH</td>\n",
       "      <td>1/27/20</td>\n",
       "      <td>20.2</td>\n",
       "      <td>6.0</td>\n",
       "    </tr>\n",
       "    <tr>\n",
       "      <th>16951</th>\n",
       "      <td>Ecom1</td>\n",
       "      <td>In Transit</td>\n",
       "      <td>1/30/20</td>\n",
       "      <td>NY</td>\n",
       "      <td>NY</td>\n",
       "      <td>10010</td>\n",
       "      <td>FXG</td>\n",
       "      <td>1/29/20</td>\n",
       "      <td>10.5</td>\n",
       "      <td>3.0</td>\n",
       "    </tr>\n",
       "    <tr>\n",
       "      <th>16952</th>\n",
       "      <td>Ecom1</td>\n",
       "      <td>In Transit</td>\n",
       "      <td>1/27/20</td>\n",
       "      <td>Chicago</td>\n",
       "      <td>IL</td>\n",
       "      <td>60626</td>\n",
       "      <td>FEH</td>\n",
       "      <td>1/27/20</td>\n",
       "      <td>10.5</td>\n",
       "      <td>3.0</td>\n",
       "    </tr>\n",
       "    <tr>\n",
       "      <th>16953</th>\n",
       "      <td>Ecom1</td>\n",
       "      <td>Delivered</td>\n",
       "      <td>1/28/20</td>\n",
       "      <td>OREGON</td>\n",
       "      <td>WI</td>\n",
       "      <td>53575</td>\n",
       "      <td>FEH</td>\n",
       "      <td>1/27/20</td>\n",
       "      <td>10.5</td>\n",
       "      <td>3.0</td>\n",
       "    </tr>\n",
       "    <tr>\n",
       "      <th>16954</th>\n",
       "      <td>Ecom1</td>\n",
       "      <td>Delivered</td>\n",
       "      <td>1/27/20</td>\n",
       "      <td>Kirkwood</td>\n",
       "      <td>MO</td>\n",
       "      <td>63122</td>\n",
       "      <td>FEH</td>\n",
       "      <td>1/27/20</td>\n",
       "      <td>10.5</td>\n",
       "      <td>3.0</td>\n",
       "    </tr>\n",
       "  </tbody>\n",
       "</table>\n",
       "</div>"
      ],
      "text/plain": [
       "      Company Name      Status Ship Date       City State    Zip  \\\n",
       "16950        Ecom1   Delivered   1/27/20  Escondido    CA  92025   \n",
       "16951        Ecom1  In Transit   1/30/20         NY    NY  10010   \n",
       "16952        Ecom1  In Transit   1/27/20    Chicago    IL  60626   \n",
       "16953        Ecom1   Delivered   1/28/20     OREGON    WI  53575   \n",
       "16954        Ecom1   Delivered   1/27/20   Kirkwood    MO  63122   \n",
       "\n",
       "      Shipping Service Created Date  Weight  Item/Bottle Count  \n",
       "16950              FEH      1/27/20    20.2                6.0  \n",
       "16951              FXG      1/29/20    10.5                3.0  \n",
       "16952              FEH      1/27/20    10.5                3.0  \n",
       "16953              FEH      1/27/20    10.5                3.0  \n",
       "16954              FEH      1/27/20    10.5                3.0  "
      ]
     },
     "execution_count": 5,
     "metadata": {},
     "output_type": "execute_result"
    }
   ],
   "source": [
    "#See the last rows of data\n",
    "df_2020_01.tail(5)"
   ]
  },
  {
   "cell_type": "code",
   "execution_count": 6,
   "id": "d7373d6d",
   "metadata": {},
   "outputs": [
    {
     "data": {
      "text/plain": [
       "Index(['Company Name', 'Status', 'Ship Date', 'City', 'State', 'Zip',\n",
       "       'Shipping Service', 'Created Date', 'Weight', 'Item/Bottle Count'],\n",
       "      dtype='object')"
      ]
     },
     "execution_count": 6,
     "metadata": {},
     "output_type": "execute_result"
    }
   ],
   "source": [
    "df_2020_01.columns"
   ]
  },
  {
   "cell_type": "code",
   "execution_count": 7,
   "id": "b8417480",
   "metadata": {},
   "outputs": [
    {
     "name": "stdout",
     "output_type": "stream",
     "text": [
      "Number of Rows:  16955\n",
      "Number of Columns:  10\n"
     ]
    }
   ],
   "source": [
    "#Determine total rows for df_2020_01.\n",
    "df_2020_01_rows = len(df_2020_01.axes[0])\n",
    "df_2020_01_cols = len(df_2020_01.axes[1])\n",
    "print(\"Number of Rows: \", df_2020_01_rows)\n",
    "print(\"Number of Columns: \", df_2020_01_cols)"
   ]
  },
  {
   "cell_type": "code",
   "execution_count": 8,
   "id": "dee72ae5",
   "metadata": {},
   "outputs": [
    {
     "data": {
      "text/plain": [
       "Company Name            0\n",
       "Status                  0\n",
       "Ship Date               0\n",
       "City                    0\n",
       "State                   0\n",
       "Zip                     0\n",
       "Shipping Service        0\n",
       "Created Date         9275\n",
       "Weight               9275\n",
       "Item/Bottle Count    9275\n",
       "dtype: int64"
      ]
     },
     "execution_count": 8,
     "metadata": {},
     "output_type": "execute_result"
    }
   ],
   "source": [
    "# Determine if there are any missing values in df_2020_01.\n",
    "df_2020_01.isnull().sum()"
   ]
  },
  {
   "cell_type": "code",
   "execution_count": 9,
   "id": "e4aa45ce",
   "metadata": {},
   "outputs": [
    {
     "data": {
      "text/plain": [
       "Company Name          object\n",
       "Status                object\n",
       "Ship Date             object\n",
       "City                  object\n",
       "State                 object\n",
       "Zip                   object\n",
       "Shipping Service      object\n",
       "Created Date          object\n",
       "Weight               float64\n",
       "Item/Bottle Count    float64\n",
       "dtype: object"
      ]
     },
     "execution_count": 9,
     "metadata": {},
     "output_type": "execute_result"
    }
   ],
   "source": [
    "# Determine data types for df_2020_01.\n",
    "df_2020_01.dtypes"
   ]
  },
  {
   "cell_type": "code",
   "execution_count": 10,
   "id": "ce126503",
   "metadata": {},
   "outputs": [
    {
     "data": {
      "text/plain": [
       "Ecom2      9275\n",
       "Ecom3      5210\n",
       "Ecom1      2230\n",
       "Winery1     203\n",
       "Winery2      37\n",
       "Name: Company Name, dtype: int64"
      ]
     },
     "execution_count": 10,
     "metadata": {},
     "output_type": "execute_result"
    }
   ],
   "source": [
    "df_2020_01['Company Name'].value_counts()"
   ]
  },
  {
   "cell_type": "code",
   "execution_count": 11,
   "id": "0a521509",
   "metadata": {},
   "outputs": [
    {
     "data": {
      "text/plain": [
       "1/23/20    8939\n",
       "1/13/20     858\n",
       "1/6/20      838\n",
       "1/24/20     753\n",
       "1/2/20      652\n",
       "1/20/20     640\n",
       "1/27/20     522\n",
       "1/21/20     356\n",
       "1/22/20     346\n",
       "1/7/20      343\n",
       "1/17/20     303\n",
       "1/15/20     270\n",
       "1/28/20     251\n",
       "1/9/20      248\n",
       "1/14/20     234\n",
       "1/30/20     216\n",
       "1/3/20      209\n",
       "1/31/20     195\n",
       "1/8/20      194\n",
       "1/29/20     191\n",
       "1/16/20     162\n",
       "1/10/20     153\n",
       "1/11/20      56\n",
       "1/25/20      26\n",
       "Name: Ship Date, dtype: int64"
      ]
     },
     "execution_count": 11,
     "metadata": {},
     "output_type": "execute_result"
    }
   ],
   "source": [
    "df_2020_01['Ship Date'].value_counts()"
   ]
  },
  {
   "cell_type": "code",
   "execution_count": 12,
   "id": "b8789edb",
   "metadata": {},
   "outputs": [
    {
     "data": {
      "text/plain": [
       "Manifest             9255\n",
       "Delivered            5173\n",
       "In Transit           2206\n",
       "Shipped               166\n",
       "Carrier Exception     108\n",
       "Delivery Attempt       44\n",
       "Exception               3\n",
       "Name: Status, dtype: int64"
      ]
     },
     "execution_count": 12,
     "metadata": {},
     "output_type": "execute_result"
    }
   ],
   "source": [
    "df_2020_01['Status'].value_counts()"
   ]
  },
  {
   "cell_type": "code",
   "execution_count": 13,
   "id": "5c24a22b",
   "metadata": {},
   "outputs": [
    {
     "data": {
      "text/plain": [
       "New York      483\n",
       "Chicago       236\n",
       "Brooklyn      179\n",
       "Washington    132\n",
       "Houston       127\n",
       "             ... \n",
       "Succasunna      1\n",
       "Bear            1\n",
       "Ellijay         1\n",
       "Fraser          1\n",
       "OREGON          1\n",
       "Name: City, Length: 4527, dtype: int64"
      ]
     },
     "execution_count": 13,
     "metadata": {},
     "output_type": "execute_result"
    }
   ],
   "source": [
    "df_2020_01['City'].value_counts()"
   ]
  },
  {
   "cell_type": "code",
   "execution_count": 14,
   "id": "50ee4539",
   "metadata": {},
   "outputs": [
    {
     "data": {
      "text/plain": [
       "NY    2046\n",
       "CA    1479\n",
       "FL    1363\n",
       "PA    1053\n",
       "TX    1039\n",
       "NJ     941\n",
       "IL     800\n",
       "MA     644\n",
       "OH     632\n",
       "VA     630\n",
       "GA     549\n",
       "MD     475\n",
       "NC     449\n",
       "CO     423\n",
       "AZ     350\n",
       "CT     344\n",
       "WA     280\n",
       "IN     270\n",
       "TN     262\n",
       "SC     250\n",
       "MN     247\n",
       "MO     221\n",
       "WI     199\n",
       "MI     186\n",
       "LA     167\n",
       "OR     166\n",
       "DC     127\n",
       "KS     127\n",
       "NH     112\n",
       "RI      94\n",
       "NE      93\n",
       "IA      92\n",
       "NV      85\n",
       "OK      84\n",
       "HI      76\n",
       "NM      69\n",
       "AR      68\n",
       "AL      61\n",
       "ME      58\n",
       "ID      52\n",
       "MT      49\n",
       "DE      46\n",
       "WV      43\n",
       "VT      41\n",
       "ND      35\n",
       "WY      30\n",
       "SD      27\n",
       "AK      21\n",
       "Name: State, dtype: int64"
      ]
     },
     "execution_count": 14,
     "metadata": {},
     "output_type": "execute_result"
    }
   ],
   "source": [
    "df_2020_01['State'].value_counts()"
   ]
  },
  {
   "cell_type": "code",
   "execution_count": 15,
   "id": "6a27c6dd",
   "metadata": {},
   "outputs": [
    {
     "data": {
      "text/plain": [
       "10019    40\n",
       "10016    35\n",
       "11201    31\n",
       "10022    30\n",
       "10011    29\n",
       "         ..\n",
       "88101     1\n",
       "60191     1\n",
       "85042     1\n",
       "97424     1\n",
       "47408     1\n",
       "Name: Zip, Length: 7028, dtype: int64"
      ]
     },
     "execution_count": 15,
     "metadata": {},
     "output_type": "execute_result"
    }
   ],
   "source": [
    "df_2020_01['Zip'].value_counts()"
   ]
  },
  {
   "cell_type": "code",
   "execution_count": 16,
   "id": "93a3d82a",
   "metadata": {},
   "outputs": [
    {
     "data": {
      "text/plain": [
       "FEH     7645\n",
       "UPS     6853\n",
       "FXG     1709\n",
       "LSO      620\n",
       "FEX       61\n",
       "UP2       30\n",
       "LSO1      30\n",
       "WCU        3\n",
       "Fxg        1\n",
       "AZS        1\n",
       "UP1        1\n",
       "WCP        1\n",
       "Name: Shipping Service, dtype: int64"
      ]
     },
     "execution_count": 16,
     "metadata": {},
     "output_type": "execute_result"
    }
   ],
   "source": [
    "df_2020_01['Shipping Service'].value_counts()"
   ]
  },
  {
   "cell_type": "code",
   "execution_count": 17,
   "id": "f31c6641",
   "metadata": {},
   "outputs": [
    {
     "data": {
      "text/plain": [
       "1/27/20     433\n",
       "1/20/20     396\n",
       "1/6/20      385\n",
       "1/13/20     353\n",
       "1/14/20     315\n",
       "           ... \n",
       "10/1/19       1\n",
       "9/29/19       1\n",
       "11/9/19       1\n",
       "12/21/19      1\n",
       "6/17/19       1\n",
       "Name: Created Date, Length: 67, dtype: int64"
      ]
     },
     "execution_count": 17,
     "metadata": {},
     "output_type": "execute_result"
    }
   ],
   "source": [
    "df_2020_01['Created Date'].value_counts()\n",
    "#Ok to have dates from other months- Sometimes people will create an order and hold onto it until an adult is present to sign for delivery."
   ]
  },
  {
   "cell_type": "code",
   "execution_count": 18,
   "id": "8ebe2d26",
   "metadata": {},
   "outputs": [
    {
     "data": {
      "text/plain": [
       "21.50    2787\n",
       "10.50    1362\n",
       "41.00     763\n",
       "20.20     538\n",
       "14.00     481\n",
       "7.00      420\n",
       "9.90      310\n",
       "39.00     299\n",
       "29.00     147\n",
       "3.35      123\n",
       "18.50     111\n",
       "35.00      78\n",
       "26.00      77\n",
       "32.00      71\n",
       "38.00      25\n",
       "30.00      11\n",
       "24.00       9\n",
       "4.00        9\n",
       "17.20       8\n",
       "20.00       7\n",
       "33.00       6\n",
       "6.20        6\n",
       "39.50       5\n",
       "11.00       5\n",
       "1.85        3\n",
       "12.50       3\n",
       "17.00       3\n",
       "13.50       3\n",
       "27.00       3\n",
       "36.00       2\n",
       "45.00       1\n",
       "19.50       1\n",
       "15.00       1\n",
       "9.00        1\n",
       "20.50       1\n",
       "Name: Weight, dtype: int64"
      ]
     },
     "execution_count": 18,
     "metadata": {},
     "output_type": "execute_result"
    }
   ],
   "source": [
    "df_2020_01['Weight'].value_counts()"
   ]
  },
  {
   "cell_type": "code",
   "execution_count": 19,
   "id": "356cd94a",
   "metadata": {},
   "outputs": [
    {
     "data": {
      "text/plain": [
       "6.0     3337\n",
       "3.0     1670\n",
       "12.0    1066\n",
       "4.0      481\n",
       "2.0      313\n",
       "1.0      262\n",
       "8.0      150\n",
       "5.0      121\n",
       "7.0       86\n",
       "10.0      84\n",
       "9.0       82\n",
       "11.0      27\n",
       "14.0       1\n",
       "Name: Item/Bottle Count, dtype: int64"
      ]
     },
     "execution_count": 19,
     "metadata": {},
     "output_type": "execute_result"
    }
   ],
   "source": [
    "df_2020_01['Item/Bottle Count'].value_counts()"
   ]
  },
  {
   "cell_type": "markdown",
   "id": "68f6fedc",
   "metadata": {},
   "source": [
    "## Clean the Data"
   ]
  },
  {
   "cell_type": "code",
   "execution_count": 20,
   "id": "7344c4a2",
   "metadata": {},
   "outputs": [],
   "source": [
    "#Change dtypes if necessary"
   ]
  },
  {
   "cell_type": "code",
   "execution_count": 21,
   "id": "02ffce8c",
   "metadata": {},
   "outputs": [
    {
     "data": {
      "text/html": [
       "<div>\n",
       "<style scoped>\n",
       "    .dataframe tbody tr th:only-of-type {\n",
       "        vertical-align: middle;\n",
       "    }\n",
       "\n",
       "    .dataframe tbody tr th {\n",
       "        vertical-align: top;\n",
       "    }\n",
       "\n",
       "    .dataframe thead th {\n",
       "        text-align: right;\n",
       "    }\n",
       "</style>\n",
       "<table border=\"1\" class=\"dataframe\">\n",
       "  <thead>\n",
       "    <tr style=\"text-align: right;\">\n",
       "      <th></th>\n",
       "      <th>Company Name</th>\n",
       "      <th>Ship Date</th>\n",
       "      <th>City</th>\n",
       "      <th>State</th>\n",
       "      <th>Zip</th>\n",
       "      <th>Shipping Service</th>\n",
       "      <th>Created Date</th>\n",
       "      <th>Weight</th>\n",
       "      <th>Item/Bottle Count</th>\n",
       "    </tr>\n",
       "  </thead>\n",
       "  <tbody>\n",
       "    <tr>\n",
       "      <th>0</th>\n",
       "      <td>Ecom3</td>\n",
       "      <td>1/2/20</td>\n",
       "      <td>Plantation</td>\n",
       "      <td>FL</td>\n",
       "      <td>33325</td>\n",
       "      <td>UPS</td>\n",
       "      <td>1/1/20</td>\n",
       "      <td>9.9</td>\n",
       "      <td>3.0</td>\n",
       "    </tr>\n",
       "    <tr>\n",
       "      <th>1</th>\n",
       "      <td>Ecom3</td>\n",
       "      <td>1/2/20</td>\n",
       "      <td>Lafayette</td>\n",
       "      <td>CA</td>\n",
       "      <td>94549</td>\n",
       "      <td>UPS</td>\n",
       "      <td>12/31/19</td>\n",
       "      <td>35.0</td>\n",
       "      <td>10.0</td>\n",
       "    </tr>\n",
       "    <tr>\n",
       "      <th>2</th>\n",
       "      <td>Ecom3</td>\n",
       "      <td>1/2/20</td>\n",
       "      <td>New York</td>\n",
       "      <td>NY</td>\n",
       "      <td>10022</td>\n",
       "      <td>FEH</td>\n",
       "      <td>1/1/20</td>\n",
       "      <td>29.0</td>\n",
       "      <td>8.0</td>\n",
       "    </tr>\n",
       "    <tr>\n",
       "      <th>3</th>\n",
       "      <td>Ecom3</td>\n",
       "      <td>1/3/20</td>\n",
       "      <td>New York</td>\n",
       "      <td>NY</td>\n",
       "      <td>10006</td>\n",
       "      <td>FEH</td>\n",
       "      <td>1/2/20</td>\n",
       "      <td>21.5</td>\n",
       "      <td>6.0</td>\n",
       "    </tr>\n",
       "    <tr>\n",
       "      <th>4</th>\n",
       "      <td>Ecom3</td>\n",
       "      <td>1/2/20</td>\n",
       "      <td>Walkersville</td>\n",
       "      <td>MD</td>\n",
       "      <td>21793</td>\n",
       "      <td>FXG</td>\n",
       "      <td>12/31/19</td>\n",
       "      <td>41.0</td>\n",
       "      <td>12.0</td>\n",
       "    </tr>\n",
       "    <tr>\n",
       "      <th>...</th>\n",
       "      <td>...</td>\n",
       "      <td>...</td>\n",
       "      <td>...</td>\n",
       "      <td>...</td>\n",
       "      <td>...</td>\n",
       "      <td>...</td>\n",
       "      <td>...</td>\n",
       "      <td>...</td>\n",
       "      <td>...</td>\n",
       "    </tr>\n",
       "    <tr>\n",
       "      <th>16950</th>\n",
       "      <td>Ecom1</td>\n",
       "      <td>1/27/20</td>\n",
       "      <td>Escondido</td>\n",
       "      <td>CA</td>\n",
       "      <td>92025</td>\n",
       "      <td>FEH</td>\n",
       "      <td>1/27/20</td>\n",
       "      <td>20.2</td>\n",
       "      <td>6.0</td>\n",
       "    </tr>\n",
       "    <tr>\n",
       "      <th>16951</th>\n",
       "      <td>Ecom1</td>\n",
       "      <td>1/30/20</td>\n",
       "      <td>NY</td>\n",
       "      <td>NY</td>\n",
       "      <td>10010</td>\n",
       "      <td>FXG</td>\n",
       "      <td>1/29/20</td>\n",
       "      <td>10.5</td>\n",
       "      <td>3.0</td>\n",
       "    </tr>\n",
       "    <tr>\n",
       "      <th>16952</th>\n",
       "      <td>Ecom1</td>\n",
       "      <td>1/27/20</td>\n",
       "      <td>Chicago</td>\n",
       "      <td>IL</td>\n",
       "      <td>60626</td>\n",
       "      <td>FEH</td>\n",
       "      <td>1/27/20</td>\n",
       "      <td>10.5</td>\n",
       "      <td>3.0</td>\n",
       "    </tr>\n",
       "    <tr>\n",
       "      <th>16953</th>\n",
       "      <td>Ecom1</td>\n",
       "      <td>1/28/20</td>\n",
       "      <td>OREGON</td>\n",
       "      <td>WI</td>\n",
       "      <td>53575</td>\n",
       "      <td>FEH</td>\n",
       "      <td>1/27/20</td>\n",
       "      <td>10.5</td>\n",
       "      <td>3.0</td>\n",
       "    </tr>\n",
       "    <tr>\n",
       "      <th>16954</th>\n",
       "      <td>Ecom1</td>\n",
       "      <td>1/27/20</td>\n",
       "      <td>Kirkwood</td>\n",
       "      <td>MO</td>\n",
       "      <td>63122</td>\n",
       "      <td>FEH</td>\n",
       "      <td>1/27/20</td>\n",
       "      <td>10.5</td>\n",
       "      <td>3.0</td>\n",
       "    </tr>\n",
       "  </tbody>\n",
       "</table>\n",
       "<p>16955 rows × 9 columns</p>\n",
       "</div>"
      ],
      "text/plain": [
       "      Company Name Ship Date          City State    Zip Shipping Service  \\\n",
       "0            Ecom3    1/2/20    Plantation    FL  33325              UPS   \n",
       "1            Ecom3    1/2/20     Lafayette    CA  94549              UPS   \n",
       "2            Ecom3    1/2/20      New York    NY  10022              FEH   \n",
       "3            Ecom3    1/3/20      New York    NY  10006              FEH   \n",
       "4            Ecom3    1/2/20  Walkersville    MD  21793              FXG   \n",
       "...            ...       ...           ...   ...    ...              ...   \n",
       "16950        Ecom1   1/27/20     Escondido    CA  92025              FEH   \n",
       "16951        Ecom1   1/30/20            NY    NY  10010              FXG   \n",
       "16952        Ecom1   1/27/20       Chicago    IL  60626              FEH   \n",
       "16953        Ecom1   1/28/20        OREGON    WI  53575              FEH   \n",
       "16954        Ecom1   1/27/20      Kirkwood    MO  63122              FEH   \n",
       "\n",
       "      Created Date  Weight  Item/Bottle Count  \n",
       "0           1/1/20     9.9                3.0  \n",
       "1         12/31/19    35.0               10.0  \n",
       "2           1/1/20    29.0                8.0  \n",
       "3           1/2/20    21.5                6.0  \n",
       "4         12/31/19    41.0               12.0  \n",
       "...            ...     ...                ...  \n",
       "16950      1/27/20    20.2                6.0  \n",
       "16951      1/29/20    10.5                3.0  \n",
       "16952      1/27/20    10.5                3.0  \n",
       "16953      1/27/20    10.5                3.0  \n",
       "16954      1/27/20    10.5                3.0  \n",
       "\n",
       "[16955 rows x 9 columns]"
      ]
     },
     "execution_count": 21,
     "metadata": {},
     "output_type": "execute_result"
    }
   ],
   "source": [
    "#Remove \"Status\" column from df_2020_01.\n",
    "df_2020_01 = df_2020_01.drop('Status', axis=1)\n",
    "df_2020_01"
   ]
  },
  {
   "cell_type": "code",
   "execution_count": 22,
   "id": "bbb59fc5",
   "metadata": {},
   "outputs": [],
   "source": [
    "# Drop the NaNs for df_2020_01.\n",
    "df_2020_01 = df_2020_01.dropna()"
   ]
  },
  {
   "cell_type": "markdown",
   "id": "946b6578",
   "metadata": {},
   "source": [
    "## Confirm Changes"
   ]
  },
  {
   "cell_type": "code",
   "execution_count": 23,
   "id": "24f52aa4",
   "metadata": {},
   "outputs": [
    {
     "data": {
      "text/html": [
       "<div>\n",
       "<style scoped>\n",
       "    .dataframe tbody tr th:only-of-type {\n",
       "        vertical-align: middle;\n",
       "    }\n",
       "\n",
       "    .dataframe tbody tr th {\n",
       "        vertical-align: top;\n",
       "    }\n",
       "\n",
       "    .dataframe thead th {\n",
       "        text-align: right;\n",
       "    }\n",
       "</style>\n",
       "<table border=\"1\" class=\"dataframe\">\n",
       "  <thead>\n",
       "    <tr style=\"text-align: right;\">\n",
       "      <th></th>\n",
       "      <th>Company Name</th>\n",
       "      <th>Ship Date</th>\n",
       "      <th>City</th>\n",
       "      <th>State</th>\n",
       "      <th>Zip</th>\n",
       "      <th>Shipping Service</th>\n",
       "      <th>Created Date</th>\n",
       "      <th>Weight</th>\n",
       "      <th>Item/Bottle Count</th>\n",
       "    </tr>\n",
       "  </thead>\n",
       "  <tbody>\n",
       "    <tr>\n",
       "      <th>2880</th>\n",
       "      <td>Ecom3</td>\n",
       "      <td>1/13/20</td>\n",
       "      <td>Hendersonville</td>\n",
       "      <td>NC</td>\n",
       "      <td>28739-6434</td>\n",
       "      <td>UPS</td>\n",
       "      <td>1/11/20</td>\n",
       "      <td>21.50</td>\n",
       "      <td>6.0</td>\n",
       "    </tr>\n",
       "    <tr>\n",
       "      <th>15037</th>\n",
       "      <td>Ecom1</td>\n",
       "      <td>1/8/20</td>\n",
       "      <td>Ft Lee</td>\n",
       "      <td>NJ</td>\n",
       "      <td>7024</td>\n",
       "      <td>FEH</td>\n",
       "      <td>1/7/20</td>\n",
       "      <td>39.00</td>\n",
       "      <td>12.0</td>\n",
       "    </tr>\n",
       "    <tr>\n",
       "      <th>16456</th>\n",
       "      <td>Ecom1</td>\n",
       "      <td>1/30/20</td>\n",
       "      <td>Western Springs</td>\n",
       "      <td>IL</td>\n",
       "      <td>60558</td>\n",
       "      <td>FEH</td>\n",
       "      <td>1/29/20</td>\n",
       "      <td>10.50</td>\n",
       "      <td>3.0</td>\n",
       "    </tr>\n",
       "    <tr>\n",
       "      <th>13850</th>\n",
       "      <td>Ecom3</td>\n",
       "      <td>1/31/20</td>\n",
       "      <td>Chicago</td>\n",
       "      <td>IL</td>\n",
       "      <td>60608</td>\n",
       "      <td>UPS</td>\n",
       "      <td>1/31/20</td>\n",
       "      <td>3.35</td>\n",
       "      <td>1.0</td>\n",
       "    </tr>\n",
       "    <tr>\n",
       "      <th>1867</th>\n",
       "      <td>Ecom3</td>\n",
       "      <td>1/6/20</td>\n",
       "      <td>WATSONVILLE</td>\n",
       "      <td>CA</td>\n",
       "      <td>95076-0713</td>\n",
       "      <td>UPS</td>\n",
       "      <td>1/5/20</td>\n",
       "      <td>41.00</td>\n",
       "      <td>12.0</td>\n",
       "    </tr>\n",
       "  </tbody>\n",
       "</table>\n",
       "</div>"
      ],
      "text/plain": [
       "      Company Name Ship Date             City State         Zip  \\\n",
       "2880         Ecom3   1/13/20   Hendersonville    NC  28739-6434   \n",
       "15037        Ecom1    1/8/20           Ft Lee    NJ        7024   \n",
       "16456        Ecom1   1/30/20  Western Springs    IL       60558   \n",
       "13850        Ecom3   1/31/20          Chicago    IL       60608   \n",
       "1867         Ecom3    1/6/20      WATSONVILLE    CA  95076-0713   \n",
       "\n",
       "      Shipping Service Created Date  Weight  Item/Bottle Count  \n",
       "2880               UPS      1/11/20   21.50                6.0  \n",
       "15037              FEH       1/7/20   39.00               12.0  \n",
       "16456              FEH      1/29/20   10.50                3.0  \n",
       "13850              UPS      1/31/20    3.35                1.0  \n",
       "1867               UPS       1/5/20   41.00               12.0  "
      ]
     },
     "execution_count": 23,
     "metadata": {},
     "output_type": "execute_result"
    }
   ],
   "source": [
    "#See five random rows of data\n",
    "df_2020_01.sample(n=5)"
   ]
  },
  {
   "cell_type": "code",
   "execution_count": 24,
   "id": "a61f9697",
   "metadata": {},
   "outputs": [
    {
     "name": "stdout",
     "output_type": "stream",
     "text": [
      "Number of Rows:  7680\n",
      "Number of Columns:  9\n"
     ]
    }
   ],
   "source": [
    "#Determine total rows for df_2020_01.\n",
    "df_2020_01_rows = len(df_2020_01.axes[0])\n",
    "df_2020_01_cols = len(df_2020_01.axes[1])\n",
    "print(\"Number of Rows: \", df_2020_01_rows)\n",
    "print(\"Number of Columns: \", df_2020_01_cols)"
   ]
  },
  {
   "cell_type": "markdown",
   "id": "d997584e",
   "metadata": {},
   "source": [
    "## Export Cleaned df to .CSV"
   ]
  },
  {
   "cell_type": "code",
   "execution_count": 25,
   "id": "84bc21fc",
   "metadata": {},
   "outputs": [],
   "source": [
    "#Export df_2020_01 to .csv\n",
    "df_2020_01.to_csv('../cleaned_months_2020/Clean_2020_01.csv') "
   ]
  },
  {
   "cell_type": "code",
   "execution_count": null,
   "id": "22eef17a",
   "metadata": {},
   "outputs": [],
   "source": []
  }
 ],
 "metadata": {
  "kernelspec": {
   "display_name": "Python 3 (ipykernel)",
   "language": "python",
   "name": "python3"
  },
  "language_info": {
   "codemirror_mode": {
    "name": "ipython",
    "version": 3
   },
   "file_extension": ".py",
   "mimetype": "text/x-python",
   "name": "python",
   "nbconvert_exporter": "python",
   "pygments_lexer": "ipython3",
   "version": "3.7.13"
  }
 },
 "nbformat": 4,
 "nbformat_minor": 5
}
