{
 "cells": [
  {
   "cell_type": "code",
   "execution_count": 1,
   "id": "0ee3ff94",
   "metadata": {},
   "outputs": [],
   "source": [
    "#Pandas library to create DataFrames\n",
    "import pandas as pd\n",
    "#NumPy library for converting data types\n",
    "import numpy as np"
   ]
  },
  {
   "cell_type": "code",
   "execution_count": 2,
   "id": "43de2e17",
   "metadata": {},
   "outputs": [],
   "source": [
    "# Files to load\n",
    "load_2021_12 = \"../../2021_Data/2021.12.csv\""
   ]
  },
  {
   "cell_type": "code",
   "execution_count": 3,
   "id": "0006005e",
   "metadata": {},
   "outputs": [
    {
     "data": {
      "text/html": [
       "<div>\n",
       "<style scoped>\n",
       "    .dataframe tbody tr th:only-of-type {\n",
       "        vertical-align: middle;\n",
       "    }\n",
       "\n",
       "    .dataframe tbody tr th {\n",
       "        vertical-align: top;\n",
       "    }\n",
       "\n",
       "    .dataframe thead th {\n",
       "        text-align: right;\n",
       "    }\n",
       "</style>\n",
       "<table border=\"1\" class=\"dataframe\">\n",
       "  <thead>\n",
       "    <tr style=\"text-align: right;\">\n",
       "      <th></th>\n",
       "      <th>Company Name</th>\n",
       "      <th>Status</th>\n",
       "      <th>Ship Date</th>\n",
       "      <th>City</th>\n",
       "      <th>State</th>\n",
       "      <th>Zip</th>\n",
       "      <th>Shipping Service</th>\n",
       "      <th>Created Date</th>\n",
       "      <th>Weight</th>\n",
       "      <th>Item/Bottle Count</th>\n",
       "    </tr>\n",
       "  </thead>\n",
       "  <tbody>\n",
       "    <tr>\n",
       "      <th>0</th>\n",
       "      <td>Ecom1</td>\n",
       "      <td>Shipped</td>\n",
       "      <td>12/1/2021</td>\n",
       "      <td>Excelsior</td>\n",
       "      <td>MN</td>\n",
       "      <td>55331</td>\n",
       "      <td>FEH</td>\n",
       "      <td>11/29/2021</td>\n",
       "      <td>10.5</td>\n",
       "      <td>3.0</td>\n",
       "    </tr>\n",
       "    <tr>\n",
       "      <th>1</th>\n",
       "      <td>Ecom1</td>\n",
       "      <td>In Transit</td>\n",
       "      <td>12/1/2021</td>\n",
       "      <td>Joppa</td>\n",
       "      <td>MD</td>\n",
       "      <td>21085</td>\n",
       "      <td>FEH</td>\n",
       "      <td>11/29/2021</td>\n",
       "      <td>20.2</td>\n",
       "      <td>6.0</td>\n",
       "    </tr>\n",
       "    <tr>\n",
       "      <th>2</th>\n",
       "      <td>Ecom1</td>\n",
       "      <td>In Transit</td>\n",
       "      <td>12/1/2021</td>\n",
       "      <td>HAMPTON</td>\n",
       "      <td>VA</td>\n",
       "      <td>23666</td>\n",
       "      <td>FEH</td>\n",
       "      <td>11/29/2021</td>\n",
       "      <td>39.0</td>\n",
       "      <td>12.0</td>\n",
       "    </tr>\n",
       "    <tr>\n",
       "      <th>3</th>\n",
       "      <td>Ecom1</td>\n",
       "      <td>In Transit</td>\n",
       "      <td>12/1/2021</td>\n",
       "      <td>HAMPTON</td>\n",
       "      <td>VA</td>\n",
       "      <td>23666</td>\n",
       "      <td>FEH</td>\n",
       "      <td>11/29/2021</td>\n",
       "      <td>10.5</td>\n",
       "      <td>3.0</td>\n",
       "    </tr>\n",
       "    <tr>\n",
       "      <th>4</th>\n",
       "      <td>Ecom1</td>\n",
       "      <td>In Transit</td>\n",
       "      <td>12/1/2021</td>\n",
       "      <td>Franklin</td>\n",
       "      <td>MA</td>\n",
       "      <td>2038</td>\n",
       "      <td>FEH</td>\n",
       "      <td>11/30/2021</td>\n",
       "      <td>20.2</td>\n",
       "      <td>6.0</td>\n",
       "    </tr>\n",
       "  </tbody>\n",
       "</table>\n",
       "</div>"
      ],
      "text/plain": [
       "  Company Name      Status  Ship Date       City State    Zip  \\\n",
       "0        Ecom1     Shipped  12/1/2021  Excelsior    MN  55331   \n",
       "1        Ecom1  In Transit  12/1/2021      Joppa    MD  21085   \n",
       "2        Ecom1  In Transit  12/1/2021    HAMPTON    VA  23666   \n",
       "3        Ecom1  In Transit  12/1/2021    HAMPTON    VA  23666   \n",
       "4        Ecom1  In Transit  12/1/2021   Franklin    MA   2038   \n",
       "\n",
       "  Shipping Service Created Date  Weight  Item/Bottle Count  \n",
       "0              FEH   11/29/2021    10.5                3.0  \n",
       "1              FEH   11/29/2021    20.2                6.0  \n",
       "2              FEH   11/29/2021    39.0               12.0  \n",
       "3              FEH   11/29/2021    10.5                3.0  \n",
       "4              FEH   11/30/2021    20.2                6.0  "
      ]
     },
     "execution_count": 3,
     "metadata": {},
     "output_type": "execute_result"
    }
   ],
   "source": [
    "# Read the December CSV into a DataFrame\n",
    "#Had to open each file in excel and save it as a .csv file instead of an .xlsm file in order for the encryption to be read properly.\n",
    "df_2021_12 = pd.read_csv(load_2021_12, low_memory=False)\n",
    "df_2021_12.head()"
   ]
  },
  {
   "cell_type": "markdown",
   "id": "83dcaaf9",
   "metadata": {},
   "source": [
    "## Inspect the Data"
   ]
  },
  {
   "cell_type": "code",
   "execution_count": 4,
   "id": "57327ad0",
   "metadata": {},
   "outputs": [
    {
     "data": {
      "text/html": [
       "<div>\n",
       "<style scoped>\n",
       "    .dataframe tbody tr th:only-of-type {\n",
       "        vertical-align: middle;\n",
       "    }\n",
       "\n",
       "    .dataframe tbody tr th {\n",
       "        vertical-align: top;\n",
       "    }\n",
       "\n",
       "    .dataframe thead th {\n",
       "        text-align: right;\n",
       "    }\n",
       "</style>\n",
       "<table border=\"1\" class=\"dataframe\">\n",
       "  <thead>\n",
       "    <tr style=\"text-align: right;\">\n",
       "      <th></th>\n",
       "      <th>Company Name</th>\n",
       "      <th>Status</th>\n",
       "      <th>Ship Date</th>\n",
       "      <th>City</th>\n",
       "      <th>State</th>\n",
       "      <th>Zip</th>\n",
       "      <th>Shipping Service</th>\n",
       "      <th>Created Date</th>\n",
       "      <th>Weight</th>\n",
       "      <th>Item/Bottle Count</th>\n",
       "    </tr>\n",
       "  </thead>\n",
       "  <tbody>\n",
       "    <tr>\n",
       "      <th>298755</th>\n",
       "      <td>NaN</td>\n",
       "      <td>NaN</td>\n",
       "      <td>NaN</td>\n",
       "      <td>NaN</td>\n",
       "      <td>NaN</td>\n",
       "      <td>NaN</td>\n",
       "      <td>NaN</td>\n",
       "      <td>NaN</td>\n",
       "      <td>NaN</td>\n",
       "      <td>NaN</td>\n",
       "    </tr>\n",
       "    <tr>\n",
       "      <th>557371</th>\n",
       "      <td>NaN</td>\n",
       "      <td>NaN</td>\n",
       "      <td>NaN</td>\n",
       "      <td>NaN</td>\n",
       "      <td>NaN</td>\n",
       "      <td>NaN</td>\n",
       "      <td>NaN</td>\n",
       "      <td>NaN</td>\n",
       "      <td>NaN</td>\n",
       "      <td>NaN</td>\n",
       "    </tr>\n",
       "    <tr>\n",
       "      <th>582712</th>\n",
       "      <td>NaN</td>\n",
       "      <td>NaN</td>\n",
       "      <td>NaN</td>\n",
       "      <td>NaN</td>\n",
       "      <td>NaN</td>\n",
       "      <td>NaN</td>\n",
       "      <td>NaN</td>\n",
       "      <td>NaN</td>\n",
       "      <td>NaN</td>\n",
       "      <td>NaN</td>\n",
       "    </tr>\n",
       "    <tr>\n",
       "      <th>474115</th>\n",
       "      <td>NaN</td>\n",
       "      <td>NaN</td>\n",
       "      <td>NaN</td>\n",
       "      <td>NaN</td>\n",
       "      <td>NaN</td>\n",
       "      <td>NaN</td>\n",
       "      <td>NaN</td>\n",
       "      <td>NaN</td>\n",
       "      <td>NaN</td>\n",
       "      <td>NaN</td>\n",
       "    </tr>\n",
       "    <tr>\n",
       "      <th>403305</th>\n",
       "      <td>NaN</td>\n",
       "      <td>NaN</td>\n",
       "      <td>NaN</td>\n",
       "      <td>NaN</td>\n",
       "      <td>NaN</td>\n",
       "      <td>NaN</td>\n",
       "      <td>NaN</td>\n",
       "      <td>NaN</td>\n",
       "      <td>NaN</td>\n",
       "      <td>NaN</td>\n",
       "    </tr>\n",
       "  </tbody>\n",
       "</table>\n",
       "</div>"
      ],
      "text/plain": [
       "       Company Name Status Ship Date City State  Zip Shipping Service  \\\n",
       "298755          NaN    NaN       NaN  NaN   NaN  NaN              NaN   \n",
       "557371          NaN    NaN       NaN  NaN   NaN  NaN              NaN   \n",
       "582712          NaN    NaN       NaN  NaN   NaN  NaN              NaN   \n",
       "474115          NaN    NaN       NaN  NaN   NaN  NaN              NaN   \n",
       "403305          NaN    NaN       NaN  NaN   NaN  NaN              NaN   \n",
       "\n",
       "       Created Date  Weight  Item/Bottle Count  \n",
       "298755          NaN     NaN                NaN  \n",
       "557371          NaN     NaN                NaN  \n",
       "582712          NaN     NaN                NaN  \n",
       "474115          NaN     NaN                NaN  \n",
       "403305          NaN     NaN                NaN  "
      ]
     },
     "execution_count": 4,
     "metadata": {},
     "output_type": "execute_result"
    }
   ],
   "source": [
    "#See five random rows of data\n",
    "df_2021_12.sample(n=5)"
   ]
  },
  {
   "cell_type": "code",
   "execution_count": 5,
   "id": "bc4ba2a9",
   "metadata": {},
   "outputs": [
    {
     "data": {
      "text/html": [
       "<div>\n",
       "<style scoped>\n",
       "    .dataframe tbody tr th:only-of-type {\n",
       "        vertical-align: middle;\n",
       "    }\n",
       "\n",
       "    .dataframe tbody tr th {\n",
       "        vertical-align: top;\n",
       "    }\n",
       "\n",
       "    .dataframe thead th {\n",
       "        text-align: right;\n",
       "    }\n",
       "</style>\n",
       "<table border=\"1\" class=\"dataframe\">\n",
       "  <thead>\n",
       "    <tr style=\"text-align: right;\">\n",
       "      <th></th>\n",
       "      <th>Company Name</th>\n",
       "      <th>Status</th>\n",
       "      <th>Ship Date</th>\n",
       "      <th>City</th>\n",
       "      <th>State</th>\n",
       "      <th>Zip</th>\n",
       "      <th>Shipping Service</th>\n",
       "      <th>Created Date</th>\n",
       "      <th>Weight</th>\n",
       "      <th>Item/Bottle Count</th>\n",
       "    </tr>\n",
       "  </thead>\n",
       "  <tbody>\n",
       "    <tr>\n",
       "      <th>617204</th>\n",
       "      <td>NaN</td>\n",
       "      <td>NaN</td>\n",
       "      <td>NaN</td>\n",
       "      <td>NaN</td>\n",
       "      <td>NaN</td>\n",
       "      <td>NaN</td>\n",
       "      <td>NaN</td>\n",
       "      <td>NaN</td>\n",
       "      <td>NaN</td>\n",
       "      <td>NaN</td>\n",
       "    </tr>\n",
       "    <tr>\n",
       "      <th>617205</th>\n",
       "      <td>NaN</td>\n",
       "      <td>NaN</td>\n",
       "      <td>NaN</td>\n",
       "      <td>NaN</td>\n",
       "      <td>NaN</td>\n",
       "      <td>NaN</td>\n",
       "      <td>NaN</td>\n",
       "      <td>NaN</td>\n",
       "      <td>NaN</td>\n",
       "      <td>NaN</td>\n",
       "    </tr>\n",
       "    <tr>\n",
       "      <th>617206</th>\n",
       "      <td>NaN</td>\n",
       "      <td>NaN</td>\n",
       "      <td>NaN</td>\n",
       "      <td>NaN</td>\n",
       "      <td>NaN</td>\n",
       "      <td>NaN</td>\n",
       "      <td>NaN</td>\n",
       "      <td>NaN</td>\n",
       "      <td>NaN</td>\n",
       "      <td>NaN</td>\n",
       "    </tr>\n",
       "    <tr>\n",
       "      <th>617207</th>\n",
       "      <td>NaN</td>\n",
       "      <td>NaN</td>\n",
       "      <td>NaN</td>\n",
       "      <td>NaN</td>\n",
       "      <td>NaN</td>\n",
       "      <td>NaN</td>\n",
       "      <td>NaN</td>\n",
       "      <td>NaN</td>\n",
       "      <td>NaN</td>\n",
       "      <td>NaN</td>\n",
       "    </tr>\n",
       "    <tr>\n",
       "      <th>617208</th>\n",
       "      <td>NaN</td>\n",
       "      <td>NaN</td>\n",
       "      <td>NaN</td>\n",
       "      <td>NaN</td>\n",
       "      <td>NaN</td>\n",
       "      <td>NaN</td>\n",
       "      <td>NaN</td>\n",
       "      <td>NaN</td>\n",
       "      <td>NaN</td>\n",
       "      <td>NaN</td>\n",
       "    </tr>\n",
       "  </tbody>\n",
       "</table>\n",
       "</div>"
      ],
      "text/plain": [
       "       Company Name Status Ship Date City State  Zip Shipping Service  \\\n",
       "617204          NaN    NaN       NaN  NaN   NaN  NaN              NaN   \n",
       "617205          NaN    NaN       NaN  NaN   NaN  NaN              NaN   \n",
       "617206          NaN    NaN       NaN  NaN   NaN  NaN              NaN   \n",
       "617207          NaN    NaN       NaN  NaN   NaN  NaN              NaN   \n",
       "617208          NaN    NaN       NaN  NaN   NaN  NaN              NaN   \n",
       "\n",
       "       Created Date  Weight  Item/Bottle Count  \n",
       "617204          NaN     NaN                NaN  \n",
       "617205          NaN     NaN                NaN  \n",
       "617206          NaN     NaN                NaN  \n",
       "617207          NaN     NaN                NaN  \n",
       "617208          NaN     NaN                NaN  "
      ]
     },
     "execution_count": 5,
     "metadata": {},
     "output_type": "execute_result"
    }
   ],
   "source": [
    "#See the last rows of data\n",
    "df_2021_12.tail(5)"
   ]
  },
  {
   "cell_type": "code",
   "execution_count": 6,
   "id": "d7373d6d",
   "metadata": {},
   "outputs": [
    {
     "data": {
      "text/plain": [
       "Index(['Company Name', 'Status', 'Ship Date', 'City', 'State', 'Zip',\n",
       "       'Shipping Service', 'Created Date', 'Weight', 'Item/Bottle Count'],\n",
       "      dtype='object')"
      ]
     },
     "execution_count": 6,
     "metadata": {},
     "output_type": "execute_result"
    }
   ],
   "source": [
    "df_2021_12.columns"
   ]
  },
  {
   "cell_type": "code",
   "execution_count": 7,
   "id": "b8417480",
   "metadata": {},
   "outputs": [
    {
     "name": "stdout",
     "output_type": "stream",
     "text": [
      "Number of Rows:  617209\n",
      "Number of Columns:  10\n"
     ]
    }
   ],
   "source": [
    "#Determine total rows for df_2021_12.\n",
    "df_2021_12_rows = len(df_2021_12.axes[0])\n",
    "df_2021_12_cols = len(df_2021_12.axes[1])\n",
    "print(\"Number of Rows: \", df_2021_12_rows)\n",
    "print(\"Number of Columns: \", df_2021_12_cols)"
   ]
  },
  {
   "cell_type": "code",
   "execution_count": 8,
   "id": "dee72ae5",
   "metadata": {},
   "outputs": [
    {
     "data": {
      "text/plain": [
       "Company Name         593765\n",
       "Status               593765\n",
       "Ship Date            593765\n",
       "City                 593765\n",
       "State                593765\n",
       "Zip                  593765\n",
       "Shipping Service     593765\n",
       "Created Date         593765\n",
       "Weight               593765\n",
       "Item/Bottle Count    593765\n",
       "dtype: int64"
      ]
     },
     "execution_count": 8,
     "metadata": {},
     "output_type": "execute_result"
    }
   ],
   "source": [
    "# Determine if there are any missing values in df_2021_12.\n",
    "df_2021_12.isnull().sum()"
   ]
  },
  {
   "cell_type": "code",
   "execution_count": null,
   "id": "4ac27558",
   "metadata": {},
   "outputs": [],
   "source": [
    "#Surplus of null values due to data extraction from company. 23,444 rows of usable data."
   ]
  },
  {
   "cell_type": "code",
   "execution_count": 9,
   "id": "e4aa45ce",
   "metadata": {},
   "outputs": [
    {
     "data": {
      "text/plain": [
       "Company Name          object\n",
       "Status                object\n",
       "Ship Date             object\n",
       "City                  object\n",
       "State                 object\n",
       "Zip                   object\n",
       "Shipping Service      object\n",
       "Created Date          object\n",
       "Weight               float64\n",
       "Item/Bottle Count    float64\n",
       "dtype: object"
      ]
     },
     "execution_count": 9,
     "metadata": {},
     "output_type": "execute_result"
    }
   ],
   "source": [
    "# Determine data types for df_2021_12.\n",
    "df_2021_12.dtypes"
   ]
  },
  {
   "cell_type": "code",
   "execution_count": 10,
   "id": "ce126503",
   "metadata": {},
   "outputs": [
    {
     "data": {
      "text/plain": [
       "Ecom2      10465\n",
       "Ecom3       6244\n",
       "Ecom1       5999\n",
       "Winery1      713\n",
       "Winery2       23\n",
       "Name: Company Name, dtype: int64"
      ]
     },
     "execution_count": 10,
     "metadata": {},
     "output_type": "execute_result"
    }
   ],
   "source": [
    "df_2021_12['Company Name'].value_counts()"
   ]
  },
  {
   "cell_type": "code",
   "execution_count": 11,
   "id": "0a521509",
   "metadata": {},
   "outputs": [
    {
     "data": {
      "text/plain": [
       "12/22/2021    4626\n",
       "12/23/2021    3420\n",
       "12/28/2021    2445\n",
       "12/27/2021    2407\n",
       "12/20/2021    1115\n",
       "12/10/2021     891\n",
       "12/6/2021      836\n",
       "12/21/2021     798\n",
       "12/13/2021     771\n",
       "12/7/2021      700\n",
       "12/14/2021     688\n",
       "12/30/2021     669\n",
       "12/15/2021     627\n",
       "12/16/2021     593\n",
       "12/3/2021      516\n",
       "12/2/2021      465\n",
       "12/17/2021     448\n",
       "12/1/2021      424\n",
       "12/9/2021      336\n",
       "12/29/2021     307\n",
       "12/8/2021      265\n",
       "12/4/2021       46\n",
       "12/11/2021      30\n",
       "12/18/2021      20\n",
       "12/19/2021       1\n",
       "Name: Ship Date, dtype: int64"
      ]
     },
     "execution_count": 11,
     "metadata": {},
     "output_type": "execute_result"
    }
   ],
   "source": [
    "df_2021_12['Ship Date'].value_counts()"
   ]
  },
  {
   "cell_type": "code",
   "execution_count": 12,
   "id": "b8789edb",
   "metadata": {},
   "outputs": [
    {
     "data": {
      "text/plain": [
       "In Transit           13821\n",
       "Shipped               8733\n",
       "Delivered              802\n",
       "Carrier Exception       52\n",
       "Delivery Attempt        36\n",
       "Name: Status, dtype: int64"
      ]
     },
     "execution_count": 12,
     "metadata": {},
     "output_type": "execute_result"
    }
   ],
   "source": [
    "df_2021_12['Status'].value_counts()"
   ]
  },
  {
   "cell_type": "code",
   "execution_count": 13,
   "id": "5c24a22b",
   "metadata": {},
   "outputs": [
    {
     "data": {
      "text/plain": [
       "New York          347\n",
       "Chicago           248\n",
       "Brooklyn          211\n",
       "Denver            180\n",
       "Austin            179\n",
       "                 ... \n",
       "BAKERSFIELD         1\n",
       "Universal City      1\n",
       "Leadville           1\n",
       "Sisters             1\n",
       "alamo               1\n",
       "Name: City, Length: 5288, dtype: int64"
      ]
     },
     "execution_count": 13,
     "metadata": {},
     "output_type": "execute_result"
    }
   ],
   "source": [
    "df_2021_12['City'].value_counts()"
   ]
  },
  {
   "cell_type": "code",
   "execution_count": 14,
   "id": "50ee4539",
   "metadata": {},
   "outputs": [
    {
     "data": {
      "text/plain": [
       "CA    2345\n",
       "NY    2212\n",
       "FL    1811\n",
       "TX    1503\n",
       "PA    1394\n",
       "NJ    1274\n",
       "MA     966\n",
       "IL     915\n",
       "OH     817\n",
       "VA     786\n",
       "CO     766\n",
       "NC     688\n",
       "GA     654\n",
       "MI     648\n",
       "WA     595\n",
       "MD     588\n",
       "TN     470\n",
       "AZ     464\n",
       "CT     413\n",
       "MN     350\n",
       "WI     349\n",
       "SC     344\n",
       "OR     332\n",
       "IN     302\n",
       "MO     238\n",
       "LA     170\n",
       "KS     153\n",
       "NH     153\n",
       "RI     149\n",
       "NV     149\n",
       "DC     145\n",
       "IA     138\n",
       "ME     127\n",
       "HI     126\n",
       "OK     116\n",
       "NE     107\n",
       "ID      87\n",
       "DE      78\n",
       "AR      75\n",
       "MT      70\n",
       "NM      70\n",
       "WV      66\n",
       "VT      62\n",
       "WY      39\n",
       "ND      38\n",
       "SD      35\n",
       "AK      28\n",
       "KY      22\n",
       "AL      17\n",
       "Name: State, dtype: int64"
      ]
     },
     "execution_count": 14,
     "metadata": {},
     "output_type": "execute_result"
    }
   ],
   "source": [
    "df_2021_12['State'].value_counts()"
   ]
  },
  {
   "cell_type": "code",
   "execution_count": 15,
   "id": "6a27c6dd",
   "metadata": {},
   "outputs": [
    {
     "data": {
      "text/plain": [
       "94558    35\n",
       "60614    31\n",
       "10019    31\n",
       "10011    26\n",
       "33133    24\n",
       "         ..\n",
       "75414     1\n",
       "85940     1\n",
       "11763     1\n",
       "85016     1\n",
       "77080     1\n",
       "Name: Zip, Length: 8044, dtype: int64"
      ]
     },
     "execution_count": 15,
     "metadata": {},
     "output_type": "execute_result"
    }
   ],
   "source": [
    "df_2021_12['Zip'].value_counts()"
   ]
  },
  {
   "cell_type": "code",
   "execution_count": 16,
   "id": "93a3d82a",
   "metadata": {},
   "outputs": [
    {
     "data": {
      "text/plain": [
       "FEH     12945\n",
       "UPS      8825\n",
       "FXG      1337\n",
       "FEX       232\n",
       "UP2        77\n",
       "AZS        12\n",
       "UP3         8\n",
       "UP1         5\n",
       "FXE         2\n",
       "UPS7        1\n",
       "Name: Shipping Service, dtype: int64"
      ]
     },
     "execution_count": 16,
     "metadata": {},
     "output_type": "execute_result"
    }
   ],
   "source": [
    "df_2021_12['Shipping Service'].value_counts()"
   ]
  },
  {
   "cell_type": "code",
   "execution_count": 17,
   "id": "f31c6641",
   "metadata": {},
   "outputs": [
    {
     "data": {
      "text/plain": [
       "12/18/2021    8079\n",
       "12/25/2021    2180\n",
       "12/27/2021    1148\n",
       "12/17/2021     912\n",
       "12/10/2021     878\n",
       "12/6/2021      850\n",
       "12/13/2021     649\n",
       "12/23/2021     569\n",
       "12/9/2021      567\n",
       "12/14/2021     553\n",
       "12/28/2021     482\n",
       "12/19/2021     444\n",
       "12/15/2021     441\n",
       "12/3/2021      436\n",
       "12/2/2021      428\n",
       "12/20/2021     388\n",
       "12/16/2021     355\n",
       "12/1/2021      355\n",
       "12/11/2021     346\n",
       "12/8/2021      323\n",
       "12/29/2021     317\n",
       "11/29/2021     307\n",
       "12/22/2021     294\n",
       "12/12/2021     283\n",
       "12/7/2021      269\n",
       "12/26/2021     261\n",
       "12/21/2021     260\n",
       "12/5/2021      258\n",
       "12/30/2021     223\n",
       "12/4/2021      190\n",
       "12/24/2021     150\n",
       "11/30/2021     135\n",
       "11/22/2021      52\n",
       "11/26/2021      21\n",
       "11/27/2021      16\n",
       "11/23/2021       6\n",
       "11/28/2021       5\n",
       "10/6/2021        5\n",
       "11/25/2021       4\n",
       "11/16/2021       2\n",
       "11/8/2021        1\n",
       "11/19/2021       1\n",
       "11/24/2021       1\n",
       "Name: Created Date, dtype: int64"
      ]
     },
     "execution_count": 17,
     "metadata": {},
     "output_type": "execute_result"
    }
   ],
   "source": [
    "df_2021_12['Created Date'].value_counts()\n",
    "#Ok to have dates from other months- Sometimes people will create an order and hold onto it until an adult is present to sign for delivery."
   ]
  },
  {
   "cell_type": "code",
   "execution_count": 18,
   "id": "8ebe2d26",
   "metadata": {},
   "outputs": [
    {
     "data": {
      "text/plain": [
       "7.00     11578\n",
       "21.50     3092\n",
       "6.50      2254\n",
       "10.50     1441\n",
       "39.00     1219\n",
       "14.00      766\n",
       "20.20      703\n",
       "41.00      566\n",
       "9.90       440\n",
       "3.35       213\n",
       "18.50      171\n",
       "8.00       158\n",
       "27.00      123\n",
       "6.00       118\n",
       "4.00       112\n",
       "29.00       94\n",
       "26.00       59\n",
       "30.00       56\n",
       "24.00       52\n",
       "32.00       42\n",
       "33.00       36\n",
       "35.00       36\n",
       "36.00       15\n",
       "38.00       13\n",
       "13.50       12\n",
       "17.20       10\n",
       "38.20        4\n",
       "20.00        4\n",
       "39.50        4\n",
       "20.50        4\n",
       "9.50         3\n",
       "46.00        3\n",
       "75.00        3\n",
       "13.00        3\n",
       "17.00        3\n",
       "44.00        3\n",
       "37.00        2\n",
       "19.20        2\n",
       "14.20        2\n",
       "12.00        2\n",
       "42.00        2\n",
       "19.50        2\n",
       "26.20        2\n",
       "23.20        2\n",
       "45.00        1\n",
       "15.50        1\n",
       "19.00        1\n",
       "18.20        1\n",
       "16.50        1\n",
       "27.50        1\n",
       "31.00        1\n",
       "18.00        1\n",
       "1.00         1\n",
       "9.00         1\n",
       "12.20        1\n",
       "23.00        1\n",
       "51.00        1\n",
       "8.50         1\n",
       "3.00         1\n",
       "Name: Weight, dtype: int64"
      ]
     },
     "execution_count": 18,
     "metadata": {},
     "output_type": "execute_result"
    }
   ],
   "source": [
    "df_2021_12['Weight'].value_counts()"
   ]
  },
  {
   "cell_type": "code",
   "execution_count": 19,
   "id": "356cd94a",
   "metadata": {},
   "outputs": [
    {
     "data": {
      "text/plain": [
       "2.0     10989\n",
       "6.0      3751\n",
       "3.0      3489\n",
       "12.0     1753\n",
       "4.0      1456\n",
       "1.0      1165\n",
       "8.0       215\n",
       "5.0       210\n",
       "7.0       167\n",
       "9.0        99\n",
       "10.0       73\n",
       "13.0       47\n",
       "11.0       21\n",
       "15.0        4\n",
       "14.0        3\n",
       "16.0        2\n",
       "Name: Item/Bottle Count, dtype: int64"
      ]
     },
     "execution_count": 19,
     "metadata": {},
     "output_type": "execute_result"
    }
   ],
   "source": [
    "df_2021_12['Item/Bottle Count'].value_counts()"
   ]
  },
  {
   "cell_type": "markdown",
   "id": "68f6fedc",
   "metadata": {},
   "source": [
    "## Clean the Data"
   ]
  },
  {
   "cell_type": "code",
   "execution_count": 20,
   "id": "7344c4a2",
   "metadata": {},
   "outputs": [],
   "source": [
    "#Change dtypes if necessary"
   ]
  },
  {
   "cell_type": "code",
   "execution_count": 21,
   "id": "02ffce8c",
   "metadata": {},
   "outputs": [
    {
     "data": {
      "text/html": [
       "<div>\n",
       "<style scoped>\n",
       "    .dataframe tbody tr th:only-of-type {\n",
       "        vertical-align: middle;\n",
       "    }\n",
       "\n",
       "    .dataframe tbody tr th {\n",
       "        vertical-align: top;\n",
       "    }\n",
       "\n",
       "    .dataframe thead th {\n",
       "        text-align: right;\n",
       "    }\n",
       "</style>\n",
       "<table border=\"1\" class=\"dataframe\">\n",
       "  <thead>\n",
       "    <tr style=\"text-align: right;\">\n",
       "      <th></th>\n",
       "      <th>Company Name</th>\n",
       "      <th>Ship Date</th>\n",
       "      <th>City</th>\n",
       "      <th>State</th>\n",
       "      <th>Zip</th>\n",
       "      <th>Shipping Service</th>\n",
       "      <th>Created Date</th>\n",
       "      <th>Weight</th>\n",
       "      <th>Item/Bottle Count</th>\n",
       "    </tr>\n",
       "  </thead>\n",
       "  <tbody>\n",
       "    <tr>\n",
       "      <th>0</th>\n",
       "      <td>Ecom1</td>\n",
       "      <td>12/1/2021</td>\n",
       "      <td>Excelsior</td>\n",
       "      <td>MN</td>\n",
       "      <td>55331</td>\n",
       "      <td>FEH</td>\n",
       "      <td>11/29/2021</td>\n",
       "      <td>10.5</td>\n",
       "      <td>3.0</td>\n",
       "    </tr>\n",
       "    <tr>\n",
       "      <th>1</th>\n",
       "      <td>Ecom1</td>\n",
       "      <td>12/1/2021</td>\n",
       "      <td>Joppa</td>\n",
       "      <td>MD</td>\n",
       "      <td>21085</td>\n",
       "      <td>FEH</td>\n",
       "      <td>11/29/2021</td>\n",
       "      <td>20.2</td>\n",
       "      <td>6.0</td>\n",
       "    </tr>\n",
       "    <tr>\n",
       "      <th>2</th>\n",
       "      <td>Ecom1</td>\n",
       "      <td>12/1/2021</td>\n",
       "      <td>HAMPTON</td>\n",
       "      <td>VA</td>\n",
       "      <td>23666</td>\n",
       "      <td>FEH</td>\n",
       "      <td>11/29/2021</td>\n",
       "      <td>39.0</td>\n",
       "      <td>12.0</td>\n",
       "    </tr>\n",
       "    <tr>\n",
       "      <th>3</th>\n",
       "      <td>Ecom1</td>\n",
       "      <td>12/1/2021</td>\n",
       "      <td>HAMPTON</td>\n",
       "      <td>VA</td>\n",
       "      <td>23666</td>\n",
       "      <td>FEH</td>\n",
       "      <td>11/29/2021</td>\n",
       "      <td>10.5</td>\n",
       "      <td>3.0</td>\n",
       "    </tr>\n",
       "    <tr>\n",
       "      <th>4</th>\n",
       "      <td>Ecom1</td>\n",
       "      <td>12/1/2021</td>\n",
       "      <td>Franklin</td>\n",
       "      <td>MA</td>\n",
       "      <td>2038</td>\n",
       "      <td>FEH</td>\n",
       "      <td>11/30/2021</td>\n",
       "      <td>20.2</td>\n",
       "      <td>6.0</td>\n",
       "    </tr>\n",
       "    <tr>\n",
       "      <th>...</th>\n",
       "      <td>...</td>\n",
       "      <td>...</td>\n",
       "      <td>...</td>\n",
       "      <td>...</td>\n",
       "      <td>...</td>\n",
       "      <td>...</td>\n",
       "      <td>...</td>\n",
       "      <td>...</td>\n",
       "      <td>...</td>\n",
       "    </tr>\n",
       "    <tr>\n",
       "      <th>617204</th>\n",
       "      <td>NaN</td>\n",
       "      <td>NaN</td>\n",
       "      <td>NaN</td>\n",
       "      <td>NaN</td>\n",
       "      <td>NaN</td>\n",
       "      <td>NaN</td>\n",
       "      <td>NaN</td>\n",
       "      <td>NaN</td>\n",
       "      <td>NaN</td>\n",
       "    </tr>\n",
       "    <tr>\n",
       "      <th>617205</th>\n",
       "      <td>NaN</td>\n",
       "      <td>NaN</td>\n",
       "      <td>NaN</td>\n",
       "      <td>NaN</td>\n",
       "      <td>NaN</td>\n",
       "      <td>NaN</td>\n",
       "      <td>NaN</td>\n",
       "      <td>NaN</td>\n",
       "      <td>NaN</td>\n",
       "    </tr>\n",
       "    <tr>\n",
       "      <th>617206</th>\n",
       "      <td>NaN</td>\n",
       "      <td>NaN</td>\n",
       "      <td>NaN</td>\n",
       "      <td>NaN</td>\n",
       "      <td>NaN</td>\n",
       "      <td>NaN</td>\n",
       "      <td>NaN</td>\n",
       "      <td>NaN</td>\n",
       "      <td>NaN</td>\n",
       "    </tr>\n",
       "    <tr>\n",
       "      <th>617207</th>\n",
       "      <td>NaN</td>\n",
       "      <td>NaN</td>\n",
       "      <td>NaN</td>\n",
       "      <td>NaN</td>\n",
       "      <td>NaN</td>\n",
       "      <td>NaN</td>\n",
       "      <td>NaN</td>\n",
       "      <td>NaN</td>\n",
       "      <td>NaN</td>\n",
       "    </tr>\n",
       "    <tr>\n",
       "      <th>617208</th>\n",
       "      <td>NaN</td>\n",
       "      <td>NaN</td>\n",
       "      <td>NaN</td>\n",
       "      <td>NaN</td>\n",
       "      <td>NaN</td>\n",
       "      <td>NaN</td>\n",
       "      <td>NaN</td>\n",
       "      <td>NaN</td>\n",
       "      <td>NaN</td>\n",
       "    </tr>\n",
       "  </tbody>\n",
       "</table>\n",
       "<p>617209 rows × 9 columns</p>\n",
       "</div>"
      ],
      "text/plain": [
       "       Company Name  Ship Date       City State    Zip Shipping Service  \\\n",
       "0             Ecom1  12/1/2021  Excelsior    MN  55331              FEH   \n",
       "1             Ecom1  12/1/2021      Joppa    MD  21085              FEH   \n",
       "2             Ecom1  12/1/2021    HAMPTON    VA  23666              FEH   \n",
       "3             Ecom1  12/1/2021    HAMPTON    VA  23666              FEH   \n",
       "4             Ecom1  12/1/2021   Franklin    MA   2038              FEH   \n",
       "...             ...        ...        ...   ...    ...              ...   \n",
       "617204          NaN        NaN        NaN   NaN    NaN              NaN   \n",
       "617205          NaN        NaN        NaN   NaN    NaN              NaN   \n",
       "617206          NaN        NaN        NaN   NaN    NaN              NaN   \n",
       "617207          NaN        NaN        NaN   NaN    NaN              NaN   \n",
       "617208          NaN        NaN        NaN   NaN    NaN              NaN   \n",
       "\n",
       "       Created Date  Weight  Item/Bottle Count  \n",
       "0        11/29/2021    10.5                3.0  \n",
       "1        11/29/2021    20.2                6.0  \n",
       "2        11/29/2021    39.0               12.0  \n",
       "3        11/29/2021    10.5                3.0  \n",
       "4        11/30/2021    20.2                6.0  \n",
       "...             ...     ...                ...  \n",
       "617204          NaN     NaN                NaN  \n",
       "617205          NaN     NaN                NaN  \n",
       "617206          NaN     NaN                NaN  \n",
       "617207          NaN     NaN                NaN  \n",
       "617208          NaN     NaN                NaN  \n",
       "\n",
       "[617209 rows x 9 columns]"
      ]
     },
     "execution_count": 21,
     "metadata": {},
     "output_type": "execute_result"
    }
   ],
   "source": [
    "#Remove \"Status\" column from df_2021_12.\n",
    "df_2021_12 = df_2021_12.drop('Status', axis=1)\n",
    "df_2021_12"
   ]
  },
  {
   "cell_type": "code",
   "execution_count": 22,
   "id": "bbb59fc5",
   "metadata": {},
   "outputs": [],
   "source": [
    "# Drop the NaNs for df_2021_12.\n",
    "df_2021_12 = df_2021_12.dropna()"
   ]
  },
  {
   "cell_type": "markdown",
   "id": "946b6578",
   "metadata": {},
   "source": [
    "## Confirm Changes"
   ]
  },
  {
   "cell_type": "code",
   "execution_count": 23,
   "id": "24f52aa4",
   "metadata": {},
   "outputs": [
    {
     "data": {
      "text/html": [
       "<div>\n",
       "<style scoped>\n",
       "    .dataframe tbody tr th:only-of-type {\n",
       "        vertical-align: middle;\n",
       "    }\n",
       "\n",
       "    .dataframe tbody tr th {\n",
       "        vertical-align: top;\n",
       "    }\n",
       "\n",
       "    .dataframe thead th {\n",
       "        text-align: right;\n",
       "    }\n",
       "</style>\n",
       "<table border=\"1\" class=\"dataframe\">\n",
       "  <thead>\n",
       "    <tr style=\"text-align: right;\">\n",
       "      <th></th>\n",
       "      <th>Company Name</th>\n",
       "      <th>Ship Date</th>\n",
       "      <th>City</th>\n",
       "      <th>State</th>\n",
       "      <th>Zip</th>\n",
       "      <th>Shipping Service</th>\n",
       "      <th>Created Date</th>\n",
       "      <th>Weight</th>\n",
       "      <th>Item/Bottle Count</th>\n",
       "    </tr>\n",
       "  </thead>\n",
       "  <tbody>\n",
       "    <tr>\n",
       "      <th>19684</th>\n",
       "      <td>Ecom2</td>\n",
       "      <td>12/27/2021</td>\n",
       "      <td>South Pasadena</td>\n",
       "      <td>CA</td>\n",
       "      <td>91030</td>\n",
       "      <td>UPS</td>\n",
       "      <td>12/25/2021</td>\n",
       "      <td>7.0</td>\n",
       "      <td>2.0</td>\n",
       "    </tr>\n",
       "    <tr>\n",
       "      <th>16929</th>\n",
       "      <td>Ecom2</td>\n",
       "      <td>12/23/2021</td>\n",
       "      <td>Chesterfield</td>\n",
       "      <td>VA</td>\n",
       "      <td>23838</td>\n",
       "      <td>FEH</td>\n",
       "      <td>12/18/2021</td>\n",
       "      <td>7.0</td>\n",
       "      <td>2.0</td>\n",
       "    </tr>\n",
       "    <tr>\n",
       "      <th>22589</th>\n",
       "      <td>Ecom1</td>\n",
       "      <td>12/29/2021</td>\n",
       "      <td>Stevensville</td>\n",
       "      <td>MI</td>\n",
       "      <td>49127</td>\n",
       "      <td>FEH</td>\n",
       "      <td>12/29/2021</td>\n",
       "      <td>10.5</td>\n",
       "      <td>4.0</td>\n",
       "    </tr>\n",
       "    <tr>\n",
       "      <th>7511</th>\n",
       "      <td>Ecom3</td>\n",
       "      <td>12/17/2021</td>\n",
       "      <td>Roanoke</td>\n",
       "      <td>VA</td>\n",
       "      <td>24018</td>\n",
       "      <td>UPS</td>\n",
       "      <td>12/16/2021</td>\n",
       "      <td>9.9</td>\n",
       "      <td>3.0</td>\n",
       "    </tr>\n",
       "    <tr>\n",
       "      <th>6349</th>\n",
       "      <td>Ecom3</td>\n",
       "      <td>12/15/2021</td>\n",
       "      <td>Andover</td>\n",
       "      <td>MA</td>\n",
       "      <td>1810</td>\n",
       "      <td>FXG</td>\n",
       "      <td>12/14/2021</td>\n",
       "      <td>41.0</td>\n",
       "      <td>12.0</td>\n",
       "    </tr>\n",
       "  </tbody>\n",
       "</table>\n",
       "</div>"
      ],
      "text/plain": [
       "      Company Name   Ship Date            City State    Zip Shipping Service  \\\n",
       "19684        Ecom2  12/27/2021  South Pasadena    CA  91030              UPS   \n",
       "16929        Ecom2  12/23/2021    Chesterfield    VA  23838              FEH   \n",
       "22589        Ecom1  12/29/2021    Stevensville    MI  49127              FEH   \n",
       "7511         Ecom3  12/17/2021         Roanoke    VA  24018              UPS   \n",
       "6349         Ecom3  12/15/2021         Andover    MA   1810              FXG   \n",
       "\n",
       "      Created Date  Weight  Item/Bottle Count  \n",
       "19684   12/25/2021     7.0                2.0  \n",
       "16929   12/18/2021     7.0                2.0  \n",
       "22589   12/29/2021    10.5                4.0  \n",
       "7511    12/16/2021     9.9                3.0  \n",
       "6349    12/14/2021    41.0               12.0  "
      ]
     },
     "execution_count": 23,
     "metadata": {},
     "output_type": "execute_result"
    }
   ],
   "source": [
    "#See five random rows of data\n",
    "df_2021_12.sample(n=5)"
   ]
  },
  {
   "cell_type": "code",
   "execution_count": 24,
   "id": "a61f9697",
   "metadata": {},
   "outputs": [
    {
     "name": "stdout",
     "output_type": "stream",
     "text": [
      "Number of Rows:  23444\n",
      "Number of Columns:  9\n"
     ]
    }
   ],
   "source": [
    "#Determine total rows for df_2021_12.\n",
    "df_2021_12_rows = len(df_2021_12.axes[0])\n",
    "df_2021_12_cols = len(df_2021_12.axes[1])\n",
    "print(\"Number of Rows: \", df_2021_12_rows)\n",
    "print(\"Number of Columns: \", df_2021_12_cols)"
   ]
  },
  {
   "cell_type": "markdown",
   "id": "d997584e",
   "metadata": {},
   "source": [
    "## Export Cleaned df to .CSV"
   ]
  },
  {
   "cell_type": "code",
   "execution_count": 25,
   "id": "84bc21fc",
   "metadata": {},
   "outputs": [],
   "source": [
    "#Export df_2021_12 to .csv\n",
    "df_2021_12.to_csv('../cleaned_months_2021/Clean_2021_12.csv') "
   ]
  },
  {
   "cell_type": "code",
   "execution_count": null,
   "id": "22eef17a",
   "metadata": {},
   "outputs": [],
   "source": []
  }
 ],
 "metadata": {
  "kernelspec": {
   "display_name": "Python 3 (ipykernel)",
   "language": "python",
   "name": "python3"
  },
  "language_info": {
   "codemirror_mode": {
    "name": "ipython",
    "version": 3
   },
   "file_extension": ".py",
   "mimetype": "text/x-python",
   "name": "python",
   "nbconvert_exporter": "python",
   "pygments_lexer": "ipython3",
   "version": "3.7.13"
  }
 },
 "nbformat": 4,
 "nbformat_minor": 5
}
