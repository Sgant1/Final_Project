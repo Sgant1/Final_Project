{
 "cells": [
  {
   "cell_type": "code",
   "execution_count": 1,
   "id": "0ee3ff94",
   "metadata": {},
   "outputs": [],
   "source": [
    "#Pandas library to create DataFrames\n",
    "import pandas as pd\n",
    "#NumPy library for converting data types\n",
    "import numpy as np"
   ]
  },
  {
   "cell_type": "code",
   "execution_count": 2,
   "id": "43de2e17",
   "metadata": {},
   "outputs": [],
   "source": [
    "# Files to load\n",
    "load_2021_04 = \"../../2021_Data/2021.04.csv\""
   ]
  },
  {
   "cell_type": "code",
   "execution_count": 4,
   "id": "0006005e",
   "metadata": {},
   "outputs": [
    {
     "data": {
      "text/html": [
       "<div>\n",
       "<style scoped>\n",
       "    .dataframe tbody tr th:only-of-type {\n",
       "        vertical-align: middle;\n",
       "    }\n",
       "\n",
       "    .dataframe tbody tr th {\n",
       "        vertical-align: top;\n",
       "    }\n",
       "\n",
       "    .dataframe thead th {\n",
       "        text-align: right;\n",
       "    }\n",
       "</style>\n",
       "<table border=\"1\" class=\"dataframe\">\n",
       "  <thead>\n",
       "    <tr style=\"text-align: right;\">\n",
       "      <th></th>\n",
       "      <th>Company Name</th>\n",
       "      <th>Status</th>\n",
       "      <th>Ship Date</th>\n",
       "      <th>City</th>\n",
       "      <th>State</th>\n",
       "      <th>Zip</th>\n",
       "      <th>Shipping Service</th>\n",
       "      <th>Created Date</th>\n",
       "      <th>Weight</th>\n",
       "      <th>Item/Bottle Count</th>\n",
       "    </tr>\n",
       "  </thead>\n",
       "  <tbody>\n",
       "    <tr>\n",
       "      <th>0</th>\n",
       "      <td>Ecom1</td>\n",
       "      <td>In Transit</td>\n",
       "      <td>4/1/2021</td>\n",
       "      <td>Atlanta</td>\n",
       "      <td>GA</td>\n",
       "      <td>30316</td>\n",
       "      <td>FEH</td>\n",
       "      <td>3/30/2021</td>\n",
       "      <td>27.0</td>\n",
       "      <td>8.0</td>\n",
       "    </tr>\n",
       "    <tr>\n",
       "      <th>1</th>\n",
       "      <td>Ecom1</td>\n",
       "      <td>Delivered</td>\n",
       "      <td>4/1/2021</td>\n",
       "      <td>Greenlawn</td>\n",
       "      <td>NY</td>\n",
       "      <td>11740</td>\n",
       "      <td>FEH</td>\n",
       "      <td>3/31/2021</td>\n",
       "      <td>6.5</td>\n",
       "      <td>1.0</td>\n",
       "    </tr>\n",
       "    <tr>\n",
       "      <th>2</th>\n",
       "      <td>Ecom1</td>\n",
       "      <td>Delivered</td>\n",
       "      <td>4/1/2021</td>\n",
       "      <td>Brooklyn</td>\n",
       "      <td>NY</td>\n",
       "      <td>11215</td>\n",
       "      <td>FEH</td>\n",
       "      <td>3/31/2021</td>\n",
       "      <td>6.5</td>\n",
       "      <td>1.0</td>\n",
       "    </tr>\n",
       "    <tr>\n",
       "      <th>3</th>\n",
       "      <td>Ecom1</td>\n",
       "      <td>Delivered</td>\n",
       "      <td>4/1/2021</td>\n",
       "      <td>NEW YORK</td>\n",
       "      <td>NY</td>\n",
       "      <td>10032</td>\n",
       "      <td>FEH</td>\n",
       "      <td>3/31/2021</td>\n",
       "      <td>6.5</td>\n",
       "      <td>1.0</td>\n",
       "    </tr>\n",
       "    <tr>\n",
       "      <th>4</th>\n",
       "      <td>Ecom1</td>\n",
       "      <td>Delivered</td>\n",
       "      <td>4/1/2021</td>\n",
       "      <td>Syosset</td>\n",
       "      <td>NY</td>\n",
       "      <td>11791</td>\n",
       "      <td>FEH</td>\n",
       "      <td>3/31/2021</td>\n",
       "      <td>6.5</td>\n",
       "      <td>1.0</td>\n",
       "    </tr>\n",
       "  </tbody>\n",
       "</table>\n",
       "</div>"
      ],
      "text/plain": [
       "  Company Name      Status Ship Date       City State    Zip Shipping Service  \\\n",
       "0        Ecom1  In Transit  4/1/2021    Atlanta    GA  30316              FEH   \n",
       "1        Ecom1   Delivered  4/1/2021  Greenlawn    NY  11740              FEH   \n",
       "2        Ecom1   Delivered  4/1/2021   Brooklyn    NY  11215              FEH   \n",
       "3        Ecom1   Delivered  4/1/2021   NEW YORK    NY  10032              FEH   \n",
       "4        Ecom1   Delivered  4/1/2021    Syosset    NY  11791              FEH   \n",
       "\n",
       "  Created Date  Weight  Item/Bottle Count  \n",
       "0    3/30/2021    27.0                8.0  \n",
       "1    3/31/2021     6.5                1.0  \n",
       "2    3/31/2021     6.5                1.0  \n",
       "3    3/31/2021     6.5                1.0  \n",
       "4    3/31/2021     6.5                1.0  "
      ]
     },
     "execution_count": 4,
     "metadata": {},
     "output_type": "execute_result"
    }
   ],
   "source": [
    "# Read the April CSV into a DataFrame\n",
    "#Had to open each file in excel and save it as a .csv file instead of an .xlsm file in order for the encryption to be read properly.\n",
    "df_2021_04 = pd.read_csv(load_2021_04, low_memory=False)\n",
    "df_2021_04.head()"
   ]
  },
  {
   "cell_type": "markdown",
   "id": "83dcaaf9",
   "metadata": {},
   "source": [
    "## Inspect the Data"
   ]
  },
  {
   "cell_type": "code",
   "execution_count": 5,
   "id": "57327ad0",
   "metadata": {},
   "outputs": [
    {
     "data": {
      "text/html": [
       "<div>\n",
       "<style scoped>\n",
       "    .dataframe tbody tr th:only-of-type {\n",
       "        vertical-align: middle;\n",
       "    }\n",
       "\n",
       "    .dataframe tbody tr th {\n",
       "        vertical-align: top;\n",
       "    }\n",
       "\n",
       "    .dataframe thead th {\n",
       "        text-align: right;\n",
       "    }\n",
       "</style>\n",
       "<table border=\"1\" class=\"dataframe\">\n",
       "  <thead>\n",
       "    <tr style=\"text-align: right;\">\n",
       "      <th></th>\n",
       "      <th>Company Name</th>\n",
       "      <th>Status</th>\n",
       "      <th>Ship Date</th>\n",
       "      <th>City</th>\n",
       "      <th>State</th>\n",
       "      <th>Zip</th>\n",
       "      <th>Shipping Service</th>\n",
       "      <th>Created Date</th>\n",
       "      <th>Weight</th>\n",
       "      <th>Item/Bottle Count</th>\n",
       "    </tr>\n",
       "  </thead>\n",
       "  <tbody>\n",
       "    <tr>\n",
       "      <th>483051</th>\n",
       "      <td>NaN</td>\n",
       "      <td>NaN</td>\n",
       "      <td>NaN</td>\n",
       "      <td>NaN</td>\n",
       "      <td>NaN</td>\n",
       "      <td>NaN</td>\n",
       "      <td>NaN</td>\n",
       "      <td>NaN</td>\n",
       "      <td>NaN</td>\n",
       "      <td>NaN</td>\n",
       "    </tr>\n",
       "    <tr>\n",
       "      <th>457455</th>\n",
       "      <td>NaN</td>\n",
       "      <td>NaN</td>\n",
       "      <td>NaN</td>\n",
       "      <td>NaN</td>\n",
       "      <td>NaN</td>\n",
       "      <td>NaN</td>\n",
       "      <td>NaN</td>\n",
       "      <td>NaN</td>\n",
       "      <td>NaN</td>\n",
       "      <td>NaN</td>\n",
       "    </tr>\n",
       "    <tr>\n",
       "      <th>405321</th>\n",
       "      <td>NaN</td>\n",
       "      <td>NaN</td>\n",
       "      <td>NaN</td>\n",
       "      <td>NaN</td>\n",
       "      <td>NaN</td>\n",
       "      <td>NaN</td>\n",
       "      <td>NaN</td>\n",
       "      <td>NaN</td>\n",
       "      <td>NaN</td>\n",
       "      <td>NaN</td>\n",
       "    </tr>\n",
       "    <tr>\n",
       "      <th>529687</th>\n",
       "      <td>NaN</td>\n",
       "      <td>NaN</td>\n",
       "      <td>NaN</td>\n",
       "      <td>NaN</td>\n",
       "      <td>NaN</td>\n",
       "      <td>NaN</td>\n",
       "      <td>NaN</td>\n",
       "      <td>NaN</td>\n",
       "      <td>NaN</td>\n",
       "      <td>NaN</td>\n",
       "    </tr>\n",
       "    <tr>\n",
       "      <th>315431</th>\n",
       "      <td>NaN</td>\n",
       "      <td>NaN</td>\n",
       "      <td>NaN</td>\n",
       "      <td>NaN</td>\n",
       "      <td>NaN</td>\n",
       "      <td>NaN</td>\n",
       "      <td>NaN</td>\n",
       "      <td>NaN</td>\n",
       "      <td>NaN</td>\n",
       "      <td>NaN</td>\n",
       "    </tr>\n",
       "  </tbody>\n",
       "</table>\n",
       "</div>"
      ],
      "text/plain": [
       "       Company Name Status Ship Date City State  Zip Shipping Service  \\\n",
       "483051          NaN    NaN       NaN  NaN   NaN  NaN              NaN   \n",
       "457455          NaN    NaN       NaN  NaN   NaN  NaN              NaN   \n",
       "405321          NaN    NaN       NaN  NaN   NaN  NaN              NaN   \n",
       "529687          NaN    NaN       NaN  NaN   NaN  NaN              NaN   \n",
       "315431          NaN    NaN       NaN  NaN   NaN  NaN              NaN   \n",
       "\n",
       "       Created Date  Weight  Item/Bottle Count  \n",
       "483051          NaN     NaN                NaN  \n",
       "457455          NaN     NaN                NaN  \n",
       "405321          NaN     NaN                NaN  \n",
       "529687          NaN     NaN                NaN  \n",
       "315431          NaN     NaN                NaN  "
      ]
     },
     "execution_count": 5,
     "metadata": {},
     "output_type": "execute_result"
    }
   ],
   "source": [
    "#See five random rows of data\n",
    "df_2021_04.sample(n=5)"
   ]
  },
  {
   "cell_type": "code",
   "execution_count": 6,
   "id": "bc4ba2a9",
   "metadata": {},
   "outputs": [
    {
     "data": {
      "text/html": [
       "<div>\n",
       "<style scoped>\n",
       "    .dataframe tbody tr th:only-of-type {\n",
       "        vertical-align: middle;\n",
       "    }\n",
       "\n",
       "    .dataframe tbody tr th {\n",
       "        vertical-align: top;\n",
       "    }\n",
       "\n",
       "    .dataframe thead th {\n",
       "        text-align: right;\n",
       "    }\n",
       "</style>\n",
       "<table border=\"1\" class=\"dataframe\">\n",
       "  <thead>\n",
       "    <tr style=\"text-align: right;\">\n",
       "      <th></th>\n",
       "      <th>Company Name</th>\n",
       "      <th>Status</th>\n",
       "      <th>Ship Date</th>\n",
       "      <th>City</th>\n",
       "      <th>State</th>\n",
       "      <th>Zip</th>\n",
       "      <th>Shipping Service</th>\n",
       "      <th>Created Date</th>\n",
       "      <th>Weight</th>\n",
       "      <th>Item/Bottle Count</th>\n",
       "    </tr>\n",
       "  </thead>\n",
       "  <tbody>\n",
       "    <tr>\n",
       "      <th>601132</th>\n",
       "      <td>NaN</td>\n",
       "      <td>NaN</td>\n",
       "      <td>NaN</td>\n",
       "      <td>NaN</td>\n",
       "      <td>NaN</td>\n",
       "      <td>NaN</td>\n",
       "      <td>NaN</td>\n",
       "      <td>NaN</td>\n",
       "      <td>NaN</td>\n",
       "      <td>NaN</td>\n",
       "    </tr>\n",
       "    <tr>\n",
       "      <th>601133</th>\n",
       "      <td>NaN</td>\n",
       "      <td>NaN</td>\n",
       "      <td>NaN</td>\n",
       "      <td>NaN</td>\n",
       "      <td>NaN</td>\n",
       "      <td>NaN</td>\n",
       "      <td>NaN</td>\n",
       "      <td>NaN</td>\n",
       "      <td>NaN</td>\n",
       "      <td>NaN</td>\n",
       "    </tr>\n",
       "    <tr>\n",
       "      <th>601134</th>\n",
       "      <td>NaN</td>\n",
       "      <td>NaN</td>\n",
       "      <td>NaN</td>\n",
       "      <td>NaN</td>\n",
       "      <td>NaN</td>\n",
       "      <td>NaN</td>\n",
       "      <td>NaN</td>\n",
       "      <td>NaN</td>\n",
       "      <td>NaN</td>\n",
       "      <td>NaN</td>\n",
       "    </tr>\n",
       "    <tr>\n",
       "      <th>601135</th>\n",
       "      <td>NaN</td>\n",
       "      <td>NaN</td>\n",
       "      <td>NaN</td>\n",
       "      <td>NaN</td>\n",
       "      <td>NaN</td>\n",
       "      <td>NaN</td>\n",
       "      <td>NaN</td>\n",
       "      <td>NaN</td>\n",
       "      <td>NaN</td>\n",
       "      <td>NaN</td>\n",
       "    </tr>\n",
       "    <tr>\n",
       "      <th>601136</th>\n",
       "      <td>NaN</td>\n",
       "      <td>NaN</td>\n",
       "      <td>NaN</td>\n",
       "      <td>NaN</td>\n",
       "      <td>NaN</td>\n",
       "      <td>NaN</td>\n",
       "      <td>NaN</td>\n",
       "      <td>NaN</td>\n",
       "      <td>NaN</td>\n",
       "      <td>NaN</td>\n",
       "    </tr>\n",
       "  </tbody>\n",
       "</table>\n",
       "</div>"
      ],
      "text/plain": [
       "       Company Name Status Ship Date City State  Zip Shipping Service  \\\n",
       "601132          NaN    NaN       NaN  NaN   NaN  NaN              NaN   \n",
       "601133          NaN    NaN       NaN  NaN   NaN  NaN              NaN   \n",
       "601134          NaN    NaN       NaN  NaN   NaN  NaN              NaN   \n",
       "601135          NaN    NaN       NaN  NaN   NaN  NaN              NaN   \n",
       "601136          NaN    NaN       NaN  NaN   NaN  NaN              NaN   \n",
       "\n",
       "       Created Date  Weight  Item/Bottle Count  \n",
       "601132          NaN     NaN                NaN  \n",
       "601133          NaN     NaN                NaN  \n",
       "601134          NaN     NaN                NaN  \n",
       "601135          NaN     NaN                NaN  \n",
       "601136          NaN     NaN                NaN  "
      ]
     },
     "execution_count": 6,
     "metadata": {},
     "output_type": "execute_result"
    }
   ],
   "source": [
    "#See the last rows of data\n",
    "df_2021_04.tail(5)"
   ]
  },
  {
   "cell_type": "code",
   "execution_count": 7,
   "id": "d7373d6d",
   "metadata": {},
   "outputs": [
    {
     "data": {
      "text/plain": [
       "Index(['Company Name', 'Status', 'Ship Date', 'City', 'State', 'Zip',\n",
       "       'Shipping Service', 'Created Date', 'Weight', 'Item/Bottle Count'],\n",
       "      dtype='object')"
      ]
     },
     "execution_count": 7,
     "metadata": {},
     "output_type": "execute_result"
    }
   ],
   "source": [
    "df_2021_04.columns"
   ]
  },
  {
   "cell_type": "code",
   "execution_count": 8,
   "id": "b8417480",
   "metadata": {},
   "outputs": [
    {
     "name": "stdout",
     "output_type": "stream",
     "text": [
      "Number of Rows:  601137\n",
      "Number of Columns:  10\n"
     ]
    }
   ],
   "source": [
    "#Determine total rows for df_2021_04.\n",
    "df_2021_04_rows = len(df_2021_04.axes[0])\n",
    "df_2021_04_cols = len(df_2021_04.axes[1])\n",
    "print(\"Number of Rows: \", df_2021_04_rows)\n",
    "print(\"Number of Columns: \", df_2021_04_cols)"
   ]
  },
  {
   "cell_type": "code",
   "execution_count": 9,
   "id": "dee72ae5",
   "metadata": {},
   "outputs": [
    {
     "data": {
      "text/plain": [
       "Company Name         577521\n",
       "Status               577941\n",
       "Ship Date            577521\n",
       "City                 577534\n",
       "State                577521\n",
       "Zip                  577521\n",
       "Shipping Service     577521\n",
       "Created Date         577924\n",
       "Weight               577941\n",
       "Item/Bottle Count    577540\n",
       "dtype: int64"
      ]
     },
     "execution_count": 9,
     "metadata": {},
     "output_type": "execute_result"
    }
   ],
   "source": [
    "# Determine if there are any missing values in df_2021_04.\n",
    "df_2021_04.isnull().sum()"
   ]
  },
  {
   "cell_type": "code",
   "execution_count": null,
   "id": "a21ef9c2",
   "metadata": {},
   "outputs": [],
   "source": [
    "#Surplus of null values due to data extraction from company. 23,597 rows of usable data."
   ]
  },
  {
   "cell_type": "code",
   "execution_count": 10,
   "id": "e4aa45ce",
   "metadata": {},
   "outputs": [
    {
     "data": {
      "text/plain": [
       "Company Name          object\n",
       "Status                object\n",
       "Ship Date             object\n",
       "City                  object\n",
       "State                 object\n",
       "Zip                   object\n",
       "Shipping Service      object\n",
       "Created Date          object\n",
       "Weight               float64\n",
       "Item/Bottle Count    float64\n",
       "dtype: object"
      ]
     },
     "execution_count": 10,
     "metadata": {},
     "output_type": "execute_result"
    }
   ],
   "source": [
    "# Determine data types for df_2021_04.\n",
    "df_2021_04.dtypes"
   ]
  },
  {
   "cell_type": "code",
   "execution_count": 12,
   "id": "ce126503",
   "metadata": {},
   "outputs": [
    {
     "data": {
      "text/plain": [
       "Ecom2      9209\n",
       "Ecom3      6627\n",
       "Ecom1      3735\n",
       "Winery1    2855\n",
       "Winery2     770\n",
       "Winery3     420\n",
       "Name: Company Name, dtype: int64"
      ]
     },
     "execution_count": 12,
     "metadata": {},
     "output_type": "execute_result"
    }
   ],
   "source": [
    "df_2021_04['Company Name'].value_counts()"
   ]
  },
  {
   "cell_type": "code",
   "execution_count": 13,
   "id": "0a521509",
   "metadata": {},
   "outputs": [
    {
     "data": {
      "text/plain": [
       "4/20/2021    5570\n",
       "4/21/2021    4231\n",
       "4/23/2021    2326\n",
       "4/26/2021    1389\n",
       "4/5/2021      967\n",
       "4/30/2021     931\n",
       "4/27/2021     886\n",
       "4/16/2021     864\n",
       "4/12/2021     805\n",
       "4/19/2021     727\n",
       "4/6/2021      635\n",
       "4/7/2021      601\n",
       "4/28/2021     600\n",
       "4/1/2021      566\n",
       "4/22/2021     537\n",
       "4/29/2021     482\n",
       "4/15/2021     448\n",
       "4/13/2021     301\n",
       "4/9/2021      258\n",
       "4/8/2021      220\n",
       "4/14/2021     183\n",
       "4/25/2021      36\n",
       "4/24/2021      23\n",
       "4/18/2021      13\n",
       "4/11/2021      12\n",
       "4/10/2021       4\n",
       "4/2/2021        1\n",
       "Name: Ship Date, dtype: int64"
      ]
     },
     "execution_count": 13,
     "metadata": {},
     "output_type": "execute_result"
    }
   ],
   "source": [
    "df_2021_04['Ship Date'].value_counts()"
   ]
  },
  {
   "cell_type": "code",
   "execution_count": 14,
   "id": "b8789edb",
   "metadata": {},
   "outputs": [
    {
     "data": {
      "text/plain": [
       "Shipped              13447\n",
       "In Transit            7800\n",
       "Delivered             1833\n",
       "Carrier Exception       85\n",
       "Delivery Attempt        31\n",
       "Name: Status, dtype: int64"
      ]
     },
     "execution_count": 14,
     "metadata": {},
     "output_type": "execute_result"
    }
   ],
   "source": [
    "df_2021_04['Status'].value_counts()"
   ]
  },
  {
   "cell_type": "code",
   "execution_count": 15,
   "id": "5c24a22b",
   "metadata": {},
   "outputs": [
    {
     "data": {
      "text/plain": [
       "New York      433\n",
       "Chicago       357\n",
       "Houston       217\n",
       "Brooklyn      200\n",
       "Atlanta       174\n",
       "             ... \n",
       "Whitehall       1\n",
       "Lost River      1\n",
       "SHELTON         1\n",
       "Hurricane       1\n",
       "Brookyln        1\n",
       "Name: City, Length: 5228, dtype: int64"
      ]
     },
     "execution_count": 15,
     "metadata": {},
     "output_type": "execute_result"
    }
   ],
   "source": [
    "df_2021_04['City'].value_counts()"
   ]
  },
  {
   "cell_type": "code",
   "execution_count": 16,
   "id": "50ee4539",
   "metadata": {},
   "outputs": [
    {
     "data": {
      "text/plain": [
       "NY    2347\n",
       "CA    2219\n",
       "FL    1714\n",
       "PA    1500\n",
       "TX    1478\n",
       "NJ    1372\n",
       "IL    1138\n",
       "MA     963\n",
       "OH     814\n",
       "VA     802\n",
       "GA     780\n",
       "MI     681\n",
       "CO     653\n",
       "NC     653\n",
       "MD     568\n",
       "CT     438\n",
       "AZ     437\n",
       "WA     400\n",
       "TN     396\n",
       "IN     370\n",
       "MN     356\n",
       "WI     328\n",
       "SC     327\n",
       "MO     292\n",
       "OR     249\n",
       "LA     213\n",
       "KS     196\n",
       "DC     165\n",
       "RI     154\n",
       "NV     148\n",
       "NH     146\n",
       "IA     145\n",
       "OK     139\n",
       "NE     120\n",
       "HI     118\n",
       "ME      96\n",
       "NM      86\n",
       "AR      81\n",
       "ID      74\n",
       "DE      72\n",
       "WV      69\n",
       "VT      65\n",
       "MT      58\n",
       "ND      45\n",
       "SD      43\n",
       "AL      40\n",
       "AK      33\n",
       "WY      24\n",
       "KY      11\n",
       "Name: State, dtype: int64"
      ]
     },
     "execution_count": 16,
     "metadata": {},
     "output_type": "execute_result"
    }
   ],
   "source": [
    "df_2021_04['State'].value_counts()"
   ]
  },
  {
   "cell_type": "code",
   "execution_count": 17,
   "id": "6a27c6dd",
   "metadata": {},
   "outputs": [
    {
     "data": {
      "text/plain": [
       "12043    39\n",
       "94558    38\n",
       "10022    37\n",
       "7030     36\n",
       "10023    35\n",
       "         ..\n",
       "32301     1\n",
       "64040     1\n",
       "3262      1\n",
       "19144     1\n",
       "44446     1\n",
       "Name: Zip, Length: 7905, dtype: int64"
      ]
     },
     "execution_count": 17,
     "metadata": {},
     "output_type": "execute_result"
    }
   ],
   "source": [
    "df_2021_04['Zip'].value_counts()"
   ]
  },
  {
   "cell_type": "code",
   "execution_count": 18,
   "id": "93a3d82a",
   "metadata": {},
   "outputs": [
    {
     "data": {
      "text/plain": [
       "UPS     11861\n",
       "FEH     10381\n",
       "FXG      1062\n",
       "WCU        97\n",
       "AZS        96\n",
       "FEX        51\n",
       "GSC        23\n",
       "FXE        16\n",
       "UP2        13\n",
       "SELF       10\n",
       "UP1         3\n",
       "WCP         3\n",
       "Name: Shipping Service, dtype: int64"
      ]
     },
     "execution_count": 18,
     "metadata": {},
     "output_type": "execute_result"
    }
   ],
   "source": [
    "df_2021_04['Shipping Service'].value_counts()"
   ]
  },
  {
   "cell_type": "code",
   "execution_count": 19,
   "id": "f31c6641",
   "metadata": {},
   "outputs": [
    {
     "data": {
      "text/plain": [
       "4/19/2021    9443\n",
       "4/20/2021    2758\n",
       "4/14/2021     963\n",
       "4/6/2021      600\n",
       "4/26/2021     587\n",
       "4/27/2021     586\n",
       "4/25/2021     578\n",
       "4/21/2021     572\n",
       "4/29/2021     543\n",
       "4/1/2021      478\n",
       "4/2/2021      421\n",
       "4/28/2021     419\n",
       "4/11/2021     393\n",
       "4/22/2021     382\n",
       "4/5/2021      381\n",
       "4/24/2021     347\n",
       "4/23/2021     336\n",
       "3/31/2021     326\n",
       "4/4/2021      302\n",
       "4/15/2021     289\n",
       "4/13/2021     278\n",
       "4/16/2021     273\n",
       "4/7/2021      270\n",
       "4/18/2021     261\n",
       "4/12/2021     251\n",
       "4/9/2021      247\n",
       "4/8/2021      210\n",
       "4/3/2021      196\n",
       "4/10/2021     163\n",
       "4/30/2021     125\n",
       "4/17/2021     111\n",
       "3/29/2021     101\n",
       "3/30/2021      12\n",
       "3/25/2021       6\n",
       "3/21/2021       2\n",
       "3/26/2021       2\n",
       "3/27/2021       1\n",
       "Name: Created Date, dtype: int64"
      ]
     },
     "execution_count": 19,
     "metadata": {},
     "output_type": "execute_result"
    }
   ],
   "source": [
    "df_2021_04['Created Date'].value_counts()\n",
    "#Ok to have dates from other months- Sometimes people will create an order and hold onto it until an adult is present to sign for delivery."
   ]
  },
  {
   "cell_type": "code",
   "execution_count": 20,
   "id": "8ebe2d26",
   "metadata": {},
   "outputs": [
    {
     "data": {
      "text/plain": [
       "7.00     9606\n",
       "21.50    2852\n",
       "14.00    2628\n",
       "39.00    1833\n",
       "10.50    1675\n",
       "20.20    1202\n",
       "41.00     770\n",
       "6.50      710\n",
       "9.90      417\n",
       "27.00     284\n",
       "18.50     169\n",
       "3.35      162\n",
       "4.00      133\n",
       "29.00     126\n",
       "30.00     103\n",
       "24.00      87\n",
       "33.00      85\n",
       "32.00      67\n",
       "26.00      65\n",
       "35.00      44\n",
       "44.00      36\n",
       "38.00      33\n",
       "36.00      25\n",
       "17.20      24\n",
       "23.00      11\n",
       "46.00      10\n",
       "13.50       9\n",
       "20.50       6\n",
       "19.20       5\n",
       "7.50        3\n",
       "15.00       2\n",
       "8.50        2\n",
       "17.00       2\n",
       "37.00       1\n",
       "14.20       1\n",
       "21.00       1\n",
       "38.20       1\n",
       "9.00        1\n",
       "24.20       1\n",
       "10.00       1\n",
       "25.00       1\n",
       "5.00        1\n",
       "31.00       1\n",
       "Name: Weight, dtype: int64"
      ]
     },
     "execution_count": 20,
     "metadata": {},
     "output_type": "execute_result"
    }
   ],
   "source": [
    "df_2021_04['Weight'].value_counts()"
   ]
  },
  {
   "cell_type": "code",
   "execution_count": 21,
   "id": "356cd94a",
   "metadata": {},
   "outputs": [
    {
     "data": {
      "text/plain": [
       "2.0     9642\n",
       "6.0     4198\n",
       "4.0     2725\n",
       "12.0    2724\n",
       "3.0     2101\n",
       "1.0     1068\n",
       "8.0      414\n",
       "5.0      196\n",
       "9.0      172\n",
       "7.0      155\n",
       "10.0     135\n",
       "11.0      45\n",
       "13.0      14\n",
       "15.0       3\n",
       "14.0       1\n",
       "16.0       1\n",
       "19.0       1\n",
       "24.0       1\n",
       "0.0        1\n",
       "Name: Item/Bottle Count, dtype: int64"
      ]
     },
     "execution_count": 21,
     "metadata": {},
     "output_type": "execute_result"
    }
   ],
   "source": [
    "df_2021_04['Item/Bottle Count'].value_counts()"
   ]
  },
  {
   "cell_type": "markdown",
   "id": "68f6fedc",
   "metadata": {},
   "source": [
    "## Clean the Data"
   ]
  },
  {
   "cell_type": "code",
   "execution_count": 22,
   "id": "7344c4a2",
   "metadata": {},
   "outputs": [],
   "source": [
    "#Change dtypes if necessary"
   ]
  },
  {
   "cell_type": "code",
   "execution_count": 23,
   "id": "02ffce8c",
   "metadata": {},
   "outputs": [
    {
     "data": {
      "text/html": [
       "<div>\n",
       "<style scoped>\n",
       "    .dataframe tbody tr th:only-of-type {\n",
       "        vertical-align: middle;\n",
       "    }\n",
       "\n",
       "    .dataframe tbody tr th {\n",
       "        vertical-align: top;\n",
       "    }\n",
       "\n",
       "    .dataframe thead th {\n",
       "        text-align: right;\n",
       "    }\n",
       "</style>\n",
       "<table border=\"1\" class=\"dataframe\">\n",
       "  <thead>\n",
       "    <tr style=\"text-align: right;\">\n",
       "      <th></th>\n",
       "      <th>Company Name</th>\n",
       "      <th>Ship Date</th>\n",
       "      <th>City</th>\n",
       "      <th>State</th>\n",
       "      <th>Zip</th>\n",
       "      <th>Shipping Service</th>\n",
       "      <th>Created Date</th>\n",
       "      <th>Weight</th>\n",
       "      <th>Item/Bottle Count</th>\n",
       "    </tr>\n",
       "  </thead>\n",
       "  <tbody>\n",
       "    <tr>\n",
       "      <th>0</th>\n",
       "      <td>Ecom1</td>\n",
       "      <td>4/1/2021</td>\n",
       "      <td>Atlanta</td>\n",
       "      <td>GA</td>\n",
       "      <td>30316</td>\n",
       "      <td>FEH</td>\n",
       "      <td>3/30/2021</td>\n",
       "      <td>27.0</td>\n",
       "      <td>8.0</td>\n",
       "    </tr>\n",
       "    <tr>\n",
       "      <th>1</th>\n",
       "      <td>Ecom1</td>\n",
       "      <td>4/1/2021</td>\n",
       "      <td>Greenlawn</td>\n",
       "      <td>NY</td>\n",
       "      <td>11740</td>\n",
       "      <td>FEH</td>\n",
       "      <td>3/31/2021</td>\n",
       "      <td>6.5</td>\n",
       "      <td>1.0</td>\n",
       "    </tr>\n",
       "    <tr>\n",
       "      <th>2</th>\n",
       "      <td>Ecom1</td>\n",
       "      <td>4/1/2021</td>\n",
       "      <td>Brooklyn</td>\n",
       "      <td>NY</td>\n",
       "      <td>11215</td>\n",
       "      <td>FEH</td>\n",
       "      <td>3/31/2021</td>\n",
       "      <td>6.5</td>\n",
       "      <td>1.0</td>\n",
       "    </tr>\n",
       "    <tr>\n",
       "      <th>3</th>\n",
       "      <td>Ecom1</td>\n",
       "      <td>4/1/2021</td>\n",
       "      <td>NEW YORK</td>\n",
       "      <td>NY</td>\n",
       "      <td>10032</td>\n",
       "      <td>FEH</td>\n",
       "      <td>3/31/2021</td>\n",
       "      <td>6.5</td>\n",
       "      <td>1.0</td>\n",
       "    </tr>\n",
       "    <tr>\n",
       "      <th>4</th>\n",
       "      <td>Ecom1</td>\n",
       "      <td>4/1/2021</td>\n",
       "      <td>Syosset</td>\n",
       "      <td>NY</td>\n",
       "      <td>11791</td>\n",
       "      <td>FEH</td>\n",
       "      <td>3/31/2021</td>\n",
       "      <td>6.5</td>\n",
       "      <td>1.0</td>\n",
       "    </tr>\n",
       "    <tr>\n",
       "      <th>...</th>\n",
       "      <td>...</td>\n",
       "      <td>...</td>\n",
       "      <td>...</td>\n",
       "      <td>...</td>\n",
       "      <td>...</td>\n",
       "      <td>...</td>\n",
       "      <td>...</td>\n",
       "      <td>...</td>\n",
       "      <td>...</td>\n",
       "    </tr>\n",
       "    <tr>\n",
       "      <th>601132</th>\n",
       "      <td>NaN</td>\n",
       "      <td>NaN</td>\n",
       "      <td>NaN</td>\n",
       "      <td>NaN</td>\n",
       "      <td>NaN</td>\n",
       "      <td>NaN</td>\n",
       "      <td>NaN</td>\n",
       "      <td>NaN</td>\n",
       "      <td>NaN</td>\n",
       "    </tr>\n",
       "    <tr>\n",
       "      <th>601133</th>\n",
       "      <td>NaN</td>\n",
       "      <td>NaN</td>\n",
       "      <td>NaN</td>\n",
       "      <td>NaN</td>\n",
       "      <td>NaN</td>\n",
       "      <td>NaN</td>\n",
       "      <td>NaN</td>\n",
       "      <td>NaN</td>\n",
       "      <td>NaN</td>\n",
       "    </tr>\n",
       "    <tr>\n",
       "      <th>601134</th>\n",
       "      <td>NaN</td>\n",
       "      <td>NaN</td>\n",
       "      <td>NaN</td>\n",
       "      <td>NaN</td>\n",
       "      <td>NaN</td>\n",
       "      <td>NaN</td>\n",
       "      <td>NaN</td>\n",
       "      <td>NaN</td>\n",
       "      <td>NaN</td>\n",
       "    </tr>\n",
       "    <tr>\n",
       "      <th>601135</th>\n",
       "      <td>NaN</td>\n",
       "      <td>NaN</td>\n",
       "      <td>NaN</td>\n",
       "      <td>NaN</td>\n",
       "      <td>NaN</td>\n",
       "      <td>NaN</td>\n",
       "      <td>NaN</td>\n",
       "      <td>NaN</td>\n",
       "      <td>NaN</td>\n",
       "    </tr>\n",
       "    <tr>\n",
       "      <th>601136</th>\n",
       "      <td>NaN</td>\n",
       "      <td>NaN</td>\n",
       "      <td>NaN</td>\n",
       "      <td>NaN</td>\n",
       "      <td>NaN</td>\n",
       "      <td>NaN</td>\n",
       "      <td>NaN</td>\n",
       "      <td>NaN</td>\n",
       "      <td>NaN</td>\n",
       "    </tr>\n",
       "  </tbody>\n",
       "</table>\n",
       "<p>601137 rows × 9 columns</p>\n",
       "</div>"
      ],
      "text/plain": [
       "       Company Name Ship Date       City State    Zip Shipping Service  \\\n",
       "0             Ecom1  4/1/2021    Atlanta    GA  30316              FEH   \n",
       "1             Ecom1  4/1/2021  Greenlawn    NY  11740              FEH   \n",
       "2             Ecom1  4/1/2021   Brooklyn    NY  11215              FEH   \n",
       "3             Ecom1  4/1/2021   NEW YORK    NY  10032              FEH   \n",
       "4             Ecom1  4/1/2021    Syosset    NY  11791              FEH   \n",
       "...             ...       ...        ...   ...    ...              ...   \n",
       "601132          NaN       NaN        NaN   NaN    NaN              NaN   \n",
       "601133          NaN       NaN        NaN   NaN    NaN              NaN   \n",
       "601134          NaN       NaN        NaN   NaN    NaN              NaN   \n",
       "601135          NaN       NaN        NaN   NaN    NaN              NaN   \n",
       "601136          NaN       NaN        NaN   NaN    NaN              NaN   \n",
       "\n",
       "       Created Date  Weight  Item/Bottle Count  \n",
       "0         3/30/2021    27.0                8.0  \n",
       "1         3/31/2021     6.5                1.0  \n",
       "2         3/31/2021     6.5                1.0  \n",
       "3         3/31/2021     6.5                1.0  \n",
       "4         3/31/2021     6.5                1.0  \n",
       "...             ...     ...                ...  \n",
       "601132          NaN     NaN                NaN  \n",
       "601133          NaN     NaN                NaN  \n",
       "601134          NaN     NaN                NaN  \n",
       "601135          NaN     NaN                NaN  \n",
       "601136          NaN     NaN                NaN  \n",
       "\n",
       "[601137 rows x 9 columns]"
      ]
     },
     "execution_count": 23,
     "metadata": {},
     "output_type": "execute_result"
    }
   ],
   "source": [
    "#Remove \"Status\" column from df_2021_04.\n",
    "df_2021_04 = df_2021_04.drop('Status', axis=1)\n",
    "df_2021_04"
   ]
  },
  {
   "cell_type": "code",
   "execution_count": 24,
   "id": "bbb59fc5",
   "metadata": {},
   "outputs": [],
   "source": [
    "# Drop the NaNs for df_2021_04.\n",
    "df_2021_04 = df_2021_04.dropna()"
   ]
  },
  {
   "cell_type": "markdown",
   "id": "946b6578",
   "metadata": {},
   "source": [
    "## Confirm Changes"
   ]
  },
  {
   "cell_type": "code",
   "execution_count": 25,
   "id": "24f52aa4",
   "metadata": {},
   "outputs": [
    {
     "data": {
      "text/html": [
       "<div>\n",
       "<style scoped>\n",
       "    .dataframe tbody tr th:only-of-type {\n",
       "        vertical-align: middle;\n",
       "    }\n",
       "\n",
       "    .dataframe tbody tr th {\n",
       "        vertical-align: top;\n",
       "    }\n",
       "\n",
       "    .dataframe thead th {\n",
       "        text-align: right;\n",
       "    }\n",
       "</style>\n",
       "<table border=\"1\" class=\"dataframe\">\n",
       "  <thead>\n",
       "    <tr style=\"text-align: right;\">\n",
       "      <th></th>\n",
       "      <th>Company Name</th>\n",
       "      <th>Ship Date</th>\n",
       "      <th>City</th>\n",
       "      <th>State</th>\n",
       "      <th>Zip</th>\n",
       "      <th>Shipping Service</th>\n",
       "      <th>Created Date</th>\n",
       "      <th>Weight</th>\n",
       "      <th>Item/Bottle Count</th>\n",
       "    </tr>\n",
       "  </thead>\n",
       "  <tbody>\n",
       "    <tr>\n",
       "      <th>17895</th>\n",
       "      <td>Winery1</td>\n",
       "      <td>4/23/2021</td>\n",
       "      <td>Denver</td>\n",
       "      <td>PA</td>\n",
       "      <td>17517</td>\n",
       "      <td>UPS</td>\n",
       "      <td>4/20/2021</td>\n",
       "      <td>14.0</td>\n",
       "      <td>4.0</td>\n",
       "    </tr>\n",
       "    <tr>\n",
       "      <th>20287</th>\n",
       "      <td>Ecom3</td>\n",
       "      <td>4/26/2021</td>\n",
       "      <td>Long Grove</td>\n",
       "      <td>IL</td>\n",
       "      <td>60047</td>\n",
       "      <td>UPS</td>\n",
       "      <td>4/23/2021</td>\n",
       "      <td>21.5</td>\n",
       "      <td>6.0</td>\n",
       "    </tr>\n",
       "    <tr>\n",
       "      <th>7967</th>\n",
       "      <td>Ecom2</td>\n",
       "      <td>4/20/2021</td>\n",
       "      <td>Denver</td>\n",
       "      <td>CO</td>\n",
       "      <td>80210</td>\n",
       "      <td>UPS</td>\n",
       "      <td>4/19/2021</td>\n",
       "      <td>7.0</td>\n",
       "      <td>2.0</td>\n",
       "    </tr>\n",
       "    <tr>\n",
       "      <th>1628</th>\n",
       "      <td>Ecom1</td>\n",
       "      <td>4/6/2021</td>\n",
       "      <td>Washington</td>\n",
       "      <td>DC</td>\n",
       "      <td>20003</td>\n",
       "      <td>FEH</td>\n",
       "      <td>4/4/2021</td>\n",
       "      <td>10.5</td>\n",
       "      <td>3.0</td>\n",
       "    </tr>\n",
       "    <tr>\n",
       "      <th>6994</th>\n",
       "      <td>Ecom2</td>\n",
       "      <td>4/20/2021</td>\n",
       "      <td>Twin Rocks</td>\n",
       "      <td>PA</td>\n",
       "      <td>15960</td>\n",
       "      <td>UPS</td>\n",
       "      <td>4/19/2021</td>\n",
       "      <td>7.0</td>\n",
       "      <td>2.0</td>\n",
       "    </tr>\n",
       "  </tbody>\n",
       "</table>\n",
       "</div>"
      ],
      "text/plain": [
       "      Company Name  Ship Date        City State    Zip Shipping Service  \\\n",
       "17895      Winery1  4/23/2021      Denver    PA  17517              UPS   \n",
       "20287        Ecom3  4/26/2021  Long Grove    IL  60047              UPS   \n",
       "7967         Ecom2  4/20/2021      Denver    CO  80210              UPS   \n",
       "1628         Ecom1   4/6/2021  Washington    DC  20003              FEH   \n",
       "6994         Ecom2  4/20/2021  Twin Rocks    PA  15960              UPS   \n",
       "\n",
       "      Created Date  Weight  Item/Bottle Count  \n",
       "17895    4/20/2021    14.0                4.0  \n",
       "20287    4/23/2021    21.5                6.0  \n",
       "7967     4/19/2021     7.0                2.0  \n",
       "1628      4/4/2021    10.5                3.0  \n",
       "6994     4/19/2021     7.0                2.0  "
      ]
     },
     "execution_count": 25,
     "metadata": {},
     "output_type": "execute_result"
    }
   ],
   "source": [
    "#See five random rows of data\n",
    "df_2021_04.sample(n=5)"
   ]
  },
  {
   "cell_type": "code",
   "execution_count": 26,
   "id": "a61f9697",
   "metadata": {},
   "outputs": [
    {
     "name": "stdout",
     "output_type": "stream",
     "text": [
      "Number of Rows:  23196\n",
      "Number of Columns:  9\n"
     ]
    }
   ],
   "source": [
    "#Determine total rows for df_2021_04.\n",
    "df_2021_04_rows = len(df_2021_04.axes[0])\n",
    "df_2021_04_cols = len(df_2021_04.axes[1])\n",
    "print(\"Number of Rows: \", df_2021_04_rows)\n",
    "print(\"Number of Columns: \", df_2021_04_cols)"
   ]
  },
  {
   "cell_type": "markdown",
   "id": "d997584e",
   "metadata": {},
   "source": [
    "## Export Cleaned df to .CSV"
   ]
  },
  {
   "cell_type": "code",
   "execution_count": 27,
   "id": "84bc21fc",
   "metadata": {},
   "outputs": [],
   "source": [
    "#Export df_2021_04 to .csv\n",
    "df_2021_04.to_csv('../cleaned_months_2021/Clean_2021_04.csv') "
   ]
  },
  {
   "cell_type": "code",
   "execution_count": null,
   "id": "22eef17a",
   "metadata": {},
   "outputs": [],
   "source": []
  }
 ],
 "metadata": {
  "kernelspec": {
   "display_name": "Python 3 (ipykernel)",
   "language": "python",
   "name": "python3"
  },
  "language_info": {
   "codemirror_mode": {
    "name": "ipython",
    "version": 3
   },
   "file_extension": ".py",
   "mimetype": "text/x-python",
   "name": "python",
   "nbconvert_exporter": "python",
   "pygments_lexer": "ipython3",
   "version": "3.7.13"
  }
 },
 "nbformat": 4,
 "nbformat_minor": 5
}
