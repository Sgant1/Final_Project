{
 "cells": [
  {
   "cell_type": "code",
   "execution_count": 1,
   "id": "0ee3ff94",
   "metadata": {},
   "outputs": [],
   "source": [
    "#Pandas library to create DataFrames\n",
    "import pandas as pd\n",
    "#NumPy library for converting data types\n",
    "import numpy as np"
   ]
  },
  {
   "cell_type": "code",
   "execution_count": 2,
   "id": "43de2e17",
   "metadata": {},
   "outputs": [],
   "source": [
    "# Files to load\n",
    "load_2021_11 = \"../2021_Data/2021.11.csv\""
   ]
  },
  {
   "cell_type": "code",
   "execution_count": 3,
   "id": "0006005e",
   "metadata": {},
   "outputs": [
    {
     "data": {
      "text/html": [
       "<div>\n",
       "<style scoped>\n",
       "    .dataframe tbody tr th:only-of-type {\n",
       "        vertical-align: middle;\n",
       "    }\n",
       "\n",
       "    .dataframe tbody tr th {\n",
       "        vertical-align: top;\n",
       "    }\n",
       "\n",
       "    .dataframe thead th {\n",
       "        text-align: right;\n",
       "    }\n",
       "</style>\n",
       "<table border=\"1\" class=\"dataframe\">\n",
       "  <thead>\n",
       "    <tr style=\"text-align: right;\">\n",
       "      <th></th>\n",
       "      <th>Company Name</th>\n",
       "      <th>Status</th>\n",
       "      <th>Ship Date</th>\n",
       "      <th>City</th>\n",
       "      <th>State</th>\n",
       "      <th>Zip</th>\n",
       "      <th>Shipping Service</th>\n",
       "      <th>Created Date</th>\n",
       "      <th>Weight</th>\n",
       "      <th>Item/Bottle Count</th>\n",
       "    </tr>\n",
       "  </thead>\n",
       "  <tbody>\n",
       "    <tr>\n",
       "      <th>0</th>\n",
       "      <td>Ecom1</td>\n",
       "      <td>In Transit</td>\n",
       "      <td>11/1/2021</td>\n",
       "      <td>Portage</td>\n",
       "      <td>MI</td>\n",
       "      <td>49024</td>\n",
       "      <td>FEH</td>\n",
       "      <td>10/29/2021</td>\n",
       "      <td>39.0</td>\n",
       "      <td>12.0</td>\n",
       "    </tr>\n",
       "    <tr>\n",
       "      <th>1</th>\n",
       "      <td>Ecom1</td>\n",
       "      <td>In Transit</td>\n",
       "      <td>11/1/2021</td>\n",
       "      <td>Langhorne</td>\n",
       "      <td>PA</td>\n",
       "      <td>19047</td>\n",
       "      <td>FEH</td>\n",
       "      <td>10/29/2021</td>\n",
       "      <td>10.5</td>\n",
       "      <td>3.0</td>\n",
       "    </tr>\n",
       "    <tr>\n",
       "      <th>2</th>\n",
       "      <td>Ecom1</td>\n",
       "      <td>In Transit</td>\n",
       "      <td>11/1/2021</td>\n",
       "      <td>CAMDEN</td>\n",
       "      <td>NY</td>\n",
       "      <td>13316</td>\n",
       "      <td>FXG</td>\n",
       "      <td>10/29/2021</td>\n",
       "      <td>20.2</td>\n",
       "      <td>6.0</td>\n",
       "    </tr>\n",
       "    <tr>\n",
       "      <th>3</th>\n",
       "      <td>Ecom1</td>\n",
       "      <td>In Transit</td>\n",
       "      <td>11/1/2021</td>\n",
       "      <td>Peabody</td>\n",
       "      <td>MA</td>\n",
       "      <td>1960</td>\n",
       "      <td>FEH</td>\n",
       "      <td>10/29/2021</td>\n",
       "      <td>10.5</td>\n",
       "      <td>3.0</td>\n",
       "    </tr>\n",
       "    <tr>\n",
       "      <th>4</th>\n",
       "      <td>Ecom1</td>\n",
       "      <td>In Transit</td>\n",
       "      <td>11/1/2021</td>\n",
       "      <td>Hamden</td>\n",
       "      <td>CT</td>\n",
       "      <td>6518</td>\n",
       "      <td>FEH</td>\n",
       "      <td>10/29/2021</td>\n",
       "      <td>10.5</td>\n",
       "      <td>3.0</td>\n",
       "    </tr>\n",
       "  </tbody>\n",
       "</table>\n",
       "</div>"
      ],
      "text/plain": [
       "  Company Name      Status  Ship Date       City State    Zip  \\\n",
       "0        Ecom1  In Transit  11/1/2021    Portage    MI  49024   \n",
       "1        Ecom1  In Transit  11/1/2021  Langhorne    PA  19047   \n",
       "2        Ecom1  In Transit  11/1/2021     CAMDEN    NY  13316   \n",
       "3        Ecom1  In Transit  11/1/2021    Peabody    MA   1960   \n",
       "4        Ecom1  In Transit  11/1/2021     Hamden    CT   6518   \n",
       "\n",
       "  Shipping Service Created Date  Weight  Item/Bottle Count  \n",
       "0              FEH   10/29/2021    39.0               12.0  \n",
       "1              FEH   10/29/2021    10.5                3.0  \n",
       "2              FXG   10/29/2021    20.2                6.0  \n",
       "3              FEH   10/29/2021    10.5                3.0  \n",
       "4              FEH   10/29/2021    10.5                3.0  "
      ]
     },
     "execution_count": 3,
     "metadata": {},
     "output_type": "execute_result"
    }
   ],
   "source": [
    "# Read the November CSV into a DataFrame\n",
    "#Had to open each file in excel and save it as a .csv file instead of an .xlsm file in order for the encryption to be read properly.\n",
    "df_2021_11 = pd.read_csv(load_2021_11, low_memory=False)\n",
    "df_2021_11.head()"
   ]
  },
  {
   "cell_type": "markdown",
   "id": "83dcaaf9",
   "metadata": {},
   "source": [
    "## Inspect the Data"
   ]
  },
  {
   "cell_type": "code",
   "execution_count": 4,
   "id": "57327ad0",
   "metadata": {},
   "outputs": [
    {
     "data": {
      "text/html": [
       "<div>\n",
       "<style scoped>\n",
       "    .dataframe tbody tr th:only-of-type {\n",
       "        vertical-align: middle;\n",
       "    }\n",
       "\n",
       "    .dataframe tbody tr th {\n",
       "        vertical-align: top;\n",
       "    }\n",
       "\n",
       "    .dataframe thead th {\n",
       "        text-align: right;\n",
       "    }\n",
       "</style>\n",
       "<table border=\"1\" class=\"dataframe\">\n",
       "  <thead>\n",
       "    <tr style=\"text-align: right;\">\n",
       "      <th></th>\n",
       "      <th>Company Name</th>\n",
       "      <th>Status</th>\n",
       "      <th>Ship Date</th>\n",
       "      <th>City</th>\n",
       "      <th>State</th>\n",
       "      <th>Zip</th>\n",
       "      <th>Shipping Service</th>\n",
       "      <th>Created Date</th>\n",
       "      <th>Weight</th>\n",
       "      <th>Item/Bottle Count</th>\n",
       "    </tr>\n",
       "  </thead>\n",
       "  <tbody>\n",
       "    <tr>\n",
       "      <th>531073</th>\n",
       "      <td>NaN</td>\n",
       "      <td>NaN</td>\n",
       "      <td>NaN</td>\n",
       "      <td>NaN</td>\n",
       "      <td>NaN</td>\n",
       "      <td>NaN</td>\n",
       "      <td>NaN</td>\n",
       "      <td>NaN</td>\n",
       "      <td>NaN</td>\n",
       "      <td>NaN</td>\n",
       "    </tr>\n",
       "    <tr>\n",
       "      <th>490785</th>\n",
       "      <td>NaN</td>\n",
       "      <td>NaN</td>\n",
       "      <td>NaN</td>\n",
       "      <td>NaN</td>\n",
       "      <td>NaN</td>\n",
       "      <td>NaN</td>\n",
       "      <td>NaN</td>\n",
       "      <td>NaN</td>\n",
       "      <td>NaN</td>\n",
       "      <td>NaN</td>\n",
       "    </tr>\n",
       "    <tr>\n",
       "      <th>241377</th>\n",
       "      <td>NaN</td>\n",
       "      <td>NaN</td>\n",
       "      <td>NaN</td>\n",
       "      <td>NaN</td>\n",
       "      <td>NaN</td>\n",
       "      <td>NaN</td>\n",
       "      <td>NaN</td>\n",
       "      <td>NaN</td>\n",
       "      <td>NaN</td>\n",
       "      <td>NaN</td>\n",
       "    </tr>\n",
       "    <tr>\n",
       "      <th>252468</th>\n",
       "      <td>NaN</td>\n",
       "      <td>NaN</td>\n",
       "      <td>NaN</td>\n",
       "      <td>NaN</td>\n",
       "      <td>NaN</td>\n",
       "      <td>NaN</td>\n",
       "      <td>NaN</td>\n",
       "      <td>NaN</td>\n",
       "      <td>NaN</td>\n",
       "      <td>NaN</td>\n",
       "    </tr>\n",
       "    <tr>\n",
       "      <th>22248</th>\n",
       "      <td>NaN</td>\n",
       "      <td>NaN</td>\n",
       "      <td>NaN</td>\n",
       "      <td>NaN</td>\n",
       "      <td>NaN</td>\n",
       "      <td>NaN</td>\n",
       "      <td>NaN</td>\n",
       "      <td>NaN</td>\n",
       "      <td>NaN</td>\n",
       "      <td>NaN</td>\n",
       "    </tr>\n",
       "  </tbody>\n",
       "</table>\n",
       "</div>"
      ],
      "text/plain": [
       "       Company Name Status Ship Date City State  Zip Shipping Service  \\\n",
       "531073          NaN    NaN       NaN  NaN   NaN  NaN              NaN   \n",
       "490785          NaN    NaN       NaN  NaN   NaN  NaN              NaN   \n",
       "241377          NaN    NaN       NaN  NaN   NaN  NaN              NaN   \n",
       "252468          NaN    NaN       NaN  NaN   NaN  NaN              NaN   \n",
       "22248           NaN    NaN       NaN  NaN   NaN  NaN              NaN   \n",
       "\n",
       "       Created Date  Weight  Item/Bottle Count  \n",
       "531073          NaN     NaN                NaN  \n",
       "490785          NaN     NaN                NaN  \n",
       "241377          NaN     NaN                NaN  \n",
       "252468          NaN     NaN                NaN  \n",
       "22248           NaN     NaN                NaN  "
      ]
     },
     "execution_count": 4,
     "metadata": {},
     "output_type": "execute_result"
    }
   ],
   "source": [
    "#See five random rows of data\n",
    "df_2021_11.sample(n=5)"
   ]
  },
  {
   "cell_type": "code",
   "execution_count": 5,
   "id": "bc4ba2a9",
   "metadata": {},
   "outputs": [
    {
     "data": {
      "text/html": [
       "<div>\n",
       "<style scoped>\n",
       "    .dataframe tbody tr th:only-of-type {\n",
       "        vertical-align: middle;\n",
       "    }\n",
       "\n",
       "    .dataframe tbody tr th {\n",
       "        vertical-align: top;\n",
       "    }\n",
       "\n",
       "    .dataframe thead th {\n",
       "        text-align: right;\n",
       "    }\n",
       "</style>\n",
       "<table border=\"1\" class=\"dataframe\">\n",
       "  <thead>\n",
       "    <tr style=\"text-align: right;\">\n",
       "      <th></th>\n",
       "      <th>Company Name</th>\n",
       "      <th>Status</th>\n",
       "      <th>Ship Date</th>\n",
       "      <th>City</th>\n",
       "      <th>State</th>\n",
       "      <th>Zip</th>\n",
       "      <th>Shipping Service</th>\n",
       "      <th>Created Date</th>\n",
       "      <th>Weight</th>\n",
       "      <th>Item/Bottle Count</th>\n",
       "    </tr>\n",
       "  </thead>\n",
       "  <tbody>\n",
       "    <tr>\n",
       "      <th>647984</th>\n",
       "      <td>NaN</td>\n",
       "      <td>NaN</td>\n",
       "      <td>NaN</td>\n",
       "      <td>NaN</td>\n",
       "      <td>NaN</td>\n",
       "      <td>NaN</td>\n",
       "      <td>NaN</td>\n",
       "      <td>NaN</td>\n",
       "      <td>NaN</td>\n",
       "      <td>NaN</td>\n",
       "    </tr>\n",
       "    <tr>\n",
       "      <th>647985</th>\n",
       "      <td>NaN</td>\n",
       "      <td>NaN</td>\n",
       "      <td>NaN</td>\n",
       "      <td>NaN</td>\n",
       "      <td>NaN</td>\n",
       "      <td>NaN</td>\n",
       "      <td>NaN</td>\n",
       "      <td>NaN</td>\n",
       "      <td>NaN</td>\n",
       "      <td>NaN</td>\n",
       "    </tr>\n",
       "    <tr>\n",
       "      <th>647986</th>\n",
       "      <td>NaN</td>\n",
       "      <td>NaN</td>\n",
       "      <td>NaN</td>\n",
       "      <td>NaN</td>\n",
       "      <td>NaN</td>\n",
       "      <td>NaN</td>\n",
       "      <td>NaN</td>\n",
       "      <td>NaN</td>\n",
       "      <td>NaN</td>\n",
       "      <td>NaN</td>\n",
       "    </tr>\n",
       "    <tr>\n",
       "      <th>647987</th>\n",
       "      <td>NaN</td>\n",
       "      <td>NaN</td>\n",
       "      <td>NaN</td>\n",
       "      <td>NaN</td>\n",
       "      <td>NaN</td>\n",
       "      <td>NaN</td>\n",
       "      <td>NaN</td>\n",
       "      <td>NaN</td>\n",
       "      <td>NaN</td>\n",
       "      <td>NaN</td>\n",
       "    </tr>\n",
       "    <tr>\n",
       "      <th>647988</th>\n",
       "      <td>NaN</td>\n",
       "      <td>NaN</td>\n",
       "      <td>NaN</td>\n",
       "      <td>NaN</td>\n",
       "      <td>NaN</td>\n",
       "      <td>NaN</td>\n",
       "      <td>NaN</td>\n",
       "      <td>NaN</td>\n",
       "      <td>NaN</td>\n",
       "      <td>NaN</td>\n",
       "    </tr>\n",
       "  </tbody>\n",
       "</table>\n",
       "</div>"
      ],
      "text/plain": [
       "       Company Name Status Ship Date City State  Zip Shipping Service  \\\n",
       "647984          NaN    NaN       NaN  NaN   NaN  NaN              NaN   \n",
       "647985          NaN    NaN       NaN  NaN   NaN  NaN              NaN   \n",
       "647986          NaN    NaN       NaN  NaN   NaN  NaN              NaN   \n",
       "647987          NaN    NaN       NaN  NaN   NaN  NaN              NaN   \n",
       "647988          NaN    NaN       NaN  NaN   NaN  NaN              NaN   \n",
       "\n",
       "       Created Date  Weight  Item/Bottle Count  \n",
       "647984          NaN     NaN                NaN  \n",
       "647985          NaN     NaN                NaN  \n",
       "647986          NaN     NaN                NaN  \n",
       "647987          NaN     NaN                NaN  \n",
       "647988          NaN     NaN                NaN  "
      ]
     },
     "execution_count": 5,
     "metadata": {},
     "output_type": "execute_result"
    }
   ],
   "source": [
    "#See the last rows of data\n",
    "df_2021_11.tail(5)"
   ]
  },
  {
   "cell_type": "code",
   "execution_count": 6,
   "id": "d7373d6d",
   "metadata": {},
   "outputs": [
    {
     "data": {
      "text/plain": [
       "Index(['Company Name', 'Status', 'Ship Date', 'City', 'State', 'Zip',\n",
       "       'Shipping Service', 'Created Date', 'Weight', 'Item/Bottle Count'],\n",
       "      dtype='object')"
      ]
     },
     "execution_count": 6,
     "metadata": {},
     "output_type": "execute_result"
    }
   ],
   "source": [
    "df_2021_11.columns"
   ]
  },
  {
   "cell_type": "code",
   "execution_count": 7,
   "id": "b8417480",
   "metadata": {},
   "outputs": [
    {
     "name": "stdout",
     "output_type": "stream",
     "text": [
      "Number of Rows:  647989\n",
      "Number of Columns:  10\n"
     ]
    }
   ],
   "source": [
    "#Determine total rows for df_2021_11.\n",
    "df_2021_11_rows = len(df_2021_11.axes[0])\n",
    "df_2021_11_cols = len(df_2021_11.axes[1])\n",
    "print(\"Number of Rows: \", df_2021_11_rows)\n",
    "print(\"Number of Columns: \", df_2021_11_cols)"
   ]
  },
  {
   "cell_type": "code",
   "execution_count": 8,
   "id": "dee72ae5",
   "metadata": {},
   "outputs": [
    {
     "data": {
      "text/plain": [
       "Company Name         627843\n",
       "Status               627843\n",
       "Ship Date            627843\n",
       "City                 627843\n",
       "State                627843\n",
       "Zip                  627843\n",
       "Shipping Service     627843\n",
       "Created Date         627843\n",
       "Weight               627843\n",
       "Item/Bottle Count    627843\n",
       "dtype: int64"
      ]
     },
     "execution_count": 8,
     "metadata": {},
     "output_type": "execute_result"
    }
   ],
   "source": [
    "# Determine if there are any missing values in df_2021_11.\n",
    "df_2021_11.isnull().sum()"
   ]
  },
  {
   "cell_type": "code",
   "execution_count": 9,
   "id": "4ac27558",
   "metadata": {},
   "outputs": [],
   "source": [
    "#Surplus of null values due to data extraction from company. 20,146 rows of usable data."
   ]
  },
  {
   "cell_type": "code",
   "execution_count": 10,
   "id": "e4aa45ce",
   "metadata": {},
   "outputs": [
    {
     "data": {
      "text/plain": [
       "Company Name          object\n",
       "Status                object\n",
       "Ship Date             object\n",
       "City                  object\n",
       "State                 object\n",
       "Zip                   object\n",
       "Shipping Service      object\n",
       "Created Date          object\n",
       "Weight               float64\n",
       "Item/Bottle Count    float64\n",
       "dtype: object"
      ]
     },
     "execution_count": 10,
     "metadata": {},
     "output_type": "execute_result"
    }
   ],
   "source": [
    "# Determine data types for df_2021_11.\n",
    "df_2021_11.dtypes"
   ]
  },
  {
   "cell_type": "code",
   "execution_count": 11,
   "id": "ce126503",
   "metadata": {},
   "outputs": [
    {
     "data": {
      "text/plain": [
       "Ecom3      7686\n",
       "Ecom2      5311\n",
       "Ecom1      3991\n",
       "Winery1    3088\n",
       "Winery2      70\n",
       "Name: Company Name, dtype: int64"
      ]
     },
     "execution_count": 11,
     "metadata": {},
     "output_type": "execute_result"
    }
   ],
   "source": [
    "df_2021_11['Company Name'].value_counts()\n",
    "#Winery3 held orders for 2021 in October, November, December."
   ]
  },
  {
   "cell_type": "code",
   "execution_count": 12,
   "id": "0a521509",
   "metadata": {},
   "outputs": [
    {
     "data": {
      "text/plain": [
       "11/23/2021    5448\n",
       "11/12/2021    2641\n",
       "11/29/2021    1285\n",
       "11/30/2021    1241\n",
       "11/1/2021      882\n",
       "11/26/2021     799\n",
       "11/22/2021     780\n",
       "11/8/2021      768\n",
       "11/17/2021     690\n",
       "11/15/2021     675\n",
       "11/13/2021     653\n",
       "11/9/2021      615\n",
       "11/16/2021     513\n",
       "11/5/2021      420\n",
       "11/11/2021     382\n",
       "11/19/2021     360\n",
       "11/2/2021      356\n",
       "11/27/2021     330\n",
       "11/18/2021     313\n",
       "11/10/2021     288\n",
       "11/4/2021      263\n",
       "11/3/2021      259\n",
       "11/24/2021     185\n",
       "Name: Ship Date, dtype: int64"
      ]
     },
     "execution_count": 12,
     "metadata": {},
     "output_type": "execute_result"
    }
   ],
   "source": [
    "df_2021_11['Ship Date'].value_counts()"
   ]
  },
  {
   "cell_type": "code",
   "execution_count": 13,
   "id": "b8789edb",
   "metadata": {},
   "outputs": [
    {
     "data": {
      "text/plain": [
       "Shipped              11063\n",
       "In Transit            8257\n",
       "Delivered              719\n",
       "Carrier Exception       78\n",
       "Delivery Attempt        29\n",
       "Name: Status, dtype: int64"
      ]
     },
     "execution_count": 13,
     "metadata": {},
     "output_type": "execute_result"
    }
   ],
   "source": [
    "df_2021_11['Status'].value_counts()"
   ]
  },
  {
   "cell_type": "code",
   "execution_count": 14,
   "id": "5c24a22b",
   "metadata": {},
   "outputs": [
    {
     "data": {
      "text/plain": [
       "New York       386\n",
       "Chicago        268\n",
       "Seattle        197\n",
       "Brooklyn       194\n",
       "Washington     169\n",
       "              ... \n",
       "Moose            1\n",
       "Calistoga        1\n",
       "Gold canyon      1\n",
       "Stone Park       1\n",
       "Winters          1\n",
       "Name: City, Length: 4657, dtype: int64"
      ]
     },
     "execution_count": 14,
     "metadata": {},
     "output_type": "execute_result"
    }
   ],
   "source": [
    "df_2021_11['City'].value_counts()"
   ]
  },
  {
   "cell_type": "code",
   "execution_count": 15,
   "id": "50ee4539",
   "metadata": {},
   "outputs": [
    {
     "data": {
      "text/plain": [
       "CA    2041\n",
       "NY    1808\n",
       "FL    1517\n",
       "TX    1312\n",
       "PA    1159\n",
       "NJ    1093\n",
       "IL     771\n",
       "NC     769\n",
       "MA     717\n",
       "OH     713\n",
       "VA     706\n",
       "GA     625\n",
       "WA     575\n",
       "CO     565\n",
       "MI     506\n",
       "MD     492\n",
       "TN     403\n",
       "AZ     387\n",
       "CT     367\n",
       "SC     306\n",
       "IN     304\n",
       "MN     303\n",
       "OR     258\n",
       "WI     244\n",
       "MO     216\n",
       "DC     179\n",
       "LA     178\n",
       "NV     155\n",
       "KS     146\n",
       "HI     139\n",
       "OK     120\n",
       "IA     119\n",
       "NH     103\n",
       "NE      95\n",
       "RI      82\n",
       "ME      80\n",
       "NM      79\n",
       "AR      68\n",
       "ID      68\n",
       "DE      59\n",
       "MT      57\n",
       "WV      51\n",
       "VT      41\n",
       "WY      34\n",
       "AL      31\n",
       "SD      29\n",
       "ND      29\n",
       "KY      25\n",
       "AK      22\n",
       "Name: State, dtype: int64"
      ]
     },
     "execution_count": 15,
     "metadata": {},
     "output_type": "execute_result"
    }
   ],
   "source": [
    "df_2021_11['State'].value_counts()"
   ]
  },
  {
   "cell_type": "code",
   "execution_count": 16,
   "id": "6a27c6dd",
   "metadata": {},
   "outputs": [
    {
     "data": {
      "text/plain": [
       "92019         126\n",
       "10019          40\n",
       "10022          29\n",
       "98109          29\n",
       "10583          28\n",
       "             ... \n",
       "12540           1\n",
       "11701           1\n",
       "07506-3118      1\n",
       "40207-4462      1\n",
       "92879           1\n",
       "Name: Zip, Length: 7131, dtype: int64"
      ]
     },
     "execution_count": 16,
     "metadata": {},
     "output_type": "execute_result"
    }
   ],
   "source": [
    "df_2021_11['Zip'].value_counts()"
   ]
  },
  {
   "cell_type": "code",
   "execution_count": 17,
   "id": "93a3d82a",
   "metadata": {},
   "outputs": [
    {
     "data": {
      "text/plain": [
       "UPS    10762\n",
       "FEH     8210\n",
       "FXG      985\n",
       "AZS       94\n",
       "FEX       69\n",
       "UP2       21\n",
       "FXE        3\n",
       "UP1        1\n",
       "UP3        1\n",
       "Name: Shipping Service, dtype: int64"
      ]
     },
     "execution_count": 17,
     "metadata": {},
     "output_type": "execute_result"
    }
   ],
   "source": [
    "df_2021_11['Shipping Service'].value_counts()"
   ]
  },
  {
   "cell_type": "code",
   "execution_count": 18,
   "id": "f31c6641",
   "metadata": {},
   "outputs": [
    {
     "data": {
      "text/plain": [
       "11/17/2021    5445\n",
       "11/9/2021     2873\n",
       "11/26/2021    1076\n",
       "11/11/2021     835\n",
       "11/29/2021     760\n",
       "11/16/2021     695\n",
       "11/27/2021     596\n",
       "11/4/2021      545\n",
       "11/22/2021     514\n",
       "11/28/2021     447\n",
       "11/25/2021     433\n",
       "11/7/2021      381\n",
       "11/15/2021     366\n",
       "11/2/2021      361\n",
       "11/1/2021      359\n",
       "11/14/2021     359\n",
       "10/31/2021     335\n",
       "11/21/2021     316\n",
       "11/18/2021     300\n",
       "11/10/2021     299\n",
       "10/30/2021     283\n",
       "11/8/2021      279\n",
       "11/12/2021     254\n",
       "11/3/2021      247\n",
       "11/13/2021     223\n",
       "11/5/2021      216\n",
       "11/24/2021     212\n",
       "11/19/2021     207\n",
       "11/30/2021     192\n",
       "11/6/2021      192\n",
       "11/23/2021     177\n",
       "11/20/2021     141\n",
       "10/29/2021     123\n",
       "10/26/2021      36\n",
       "10/27/2021      32\n",
       "10/28/2021      20\n",
       "10/25/2021       8\n",
       "10/12/2021       2\n",
       "9/28/2021        2\n",
       "9/13/2021        1\n",
       "10/18/2021       1\n",
       "7/16/2021        1\n",
       "10/22/2021       1\n",
       "10/17/2021       1\n",
       "Name: Created Date, dtype: int64"
      ]
     },
     "execution_count": 18,
     "metadata": {},
     "output_type": "execute_result"
    }
   ],
   "source": [
    "df_2021_11['Created Date'].value_counts()\n",
    "#Ok to have dates from other months- Sometimes people will create an order and hold onto it until an adult is present to sign for delivery."
   ]
  },
  {
   "cell_type": "code",
   "execution_count": 19,
   "id": "8ebe2d26",
   "metadata": {},
   "outputs": [
    {
     "data": {
      "text/plain": [
       "7.00     6051\n",
       "21.50    3663\n",
       "14.00    2772\n",
       "39.00    1886\n",
       "10.50    1216\n",
       "6.50     1189\n",
       "41.00     860\n",
       "20.20     676\n",
       "9.90      414\n",
       "27.00     301\n",
       "3.35      176\n",
       "18.50     143\n",
       "4.00       99\n",
       "29.00      92\n",
       "33.00      82\n",
       "30.00      79\n",
       "24.00      75\n",
       "26.00      68\n",
       "35.00      56\n",
       "32.00      52\n",
       "38.00      31\n",
       "44.00      24\n",
       "13.50      21\n",
       "8.00       20\n",
       "20.00      17\n",
       "36.00      16\n",
       "17.20      15\n",
       "39.50      11\n",
       "15.00       6\n",
       "6.20        4\n",
       "6.00        4\n",
       "20.50       3\n",
       "46.00       3\n",
       "47.00       3\n",
       "30.50       2\n",
       "75.00       2\n",
       "48.00       2\n",
       "10.00       2\n",
       "53.00       1\n",
       "37.00       1\n",
       "31.00       1\n",
       "74.00       1\n",
       "45.00       1\n",
       "12.20       1\n",
       "26.20       1\n",
       "27.50       1\n",
       "59.00       1\n",
       "28.00       1\n",
       "Name: Weight, dtype: int64"
      ]
     },
     "execution_count": 19,
     "metadata": {},
     "output_type": "execute_result"
    }
   ],
   "source": [
    "df_2021_11['Weight'].value_counts()"
   ]
  },
  {
   "cell_type": "code",
   "execution_count": 20,
   "id": "356cd94a",
   "metadata": {},
   "outputs": [
    {
     "data": {
      "text/plain": [
       "2.0     5740\n",
       "6.0     4350\n",
       "4.0     2785\n",
       "12.0    2769\n",
       "1.0     1836\n",
       "3.0     1623\n",
       "8.0      388\n",
       "7.0      159\n",
       "5.0      158\n",
       "10.0     138\n",
       "9.0      129\n",
       "11.0      41\n",
       "13.0      13\n",
       "15.0       9\n",
       "14.0       6\n",
       "22.0       1\n",
       "24.0       1\n",
       "Name: Item/Bottle Count, dtype: int64"
      ]
     },
     "execution_count": 20,
     "metadata": {},
     "output_type": "execute_result"
    }
   ],
   "source": [
    "df_2021_11['Item/Bottle Count'].value_counts()"
   ]
  },
  {
   "cell_type": "markdown",
   "id": "68f6fedc",
   "metadata": {},
   "source": [
    "## Clean the Data"
   ]
  },
  {
   "cell_type": "code",
   "execution_count": 21,
   "id": "7344c4a2",
   "metadata": {},
   "outputs": [],
   "source": [
    "#Change dtypes if necessary"
   ]
  },
  {
   "cell_type": "code",
   "execution_count": 22,
   "id": "02ffce8c",
   "metadata": {},
   "outputs": [
    {
     "data": {
      "text/html": [
       "<div>\n",
       "<style scoped>\n",
       "    .dataframe tbody tr th:only-of-type {\n",
       "        vertical-align: middle;\n",
       "    }\n",
       "\n",
       "    .dataframe tbody tr th {\n",
       "        vertical-align: top;\n",
       "    }\n",
       "\n",
       "    .dataframe thead th {\n",
       "        text-align: right;\n",
       "    }\n",
       "</style>\n",
       "<table border=\"1\" class=\"dataframe\">\n",
       "  <thead>\n",
       "    <tr style=\"text-align: right;\">\n",
       "      <th></th>\n",
       "      <th>Company Name</th>\n",
       "      <th>Ship Date</th>\n",
       "      <th>City</th>\n",
       "      <th>State</th>\n",
       "      <th>Zip</th>\n",
       "      <th>Shipping Service</th>\n",
       "      <th>Created Date</th>\n",
       "      <th>Weight</th>\n",
       "      <th>Item/Bottle Count</th>\n",
       "    </tr>\n",
       "  </thead>\n",
       "  <tbody>\n",
       "    <tr>\n",
       "      <th>0</th>\n",
       "      <td>Ecom1</td>\n",
       "      <td>11/1/2021</td>\n",
       "      <td>Portage</td>\n",
       "      <td>MI</td>\n",
       "      <td>49024</td>\n",
       "      <td>FEH</td>\n",
       "      <td>10/29/2021</td>\n",
       "      <td>39.0</td>\n",
       "      <td>12.0</td>\n",
       "    </tr>\n",
       "    <tr>\n",
       "      <th>1</th>\n",
       "      <td>Ecom1</td>\n",
       "      <td>11/1/2021</td>\n",
       "      <td>Langhorne</td>\n",
       "      <td>PA</td>\n",
       "      <td>19047</td>\n",
       "      <td>FEH</td>\n",
       "      <td>10/29/2021</td>\n",
       "      <td>10.5</td>\n",
       "      <td>3.0</td>\n",
       "    </tr>\n",
       "    <tr>\n",
       "      <th>2</th>\n",
       "      <td>Ecom1</td>\n",
       "      <td>11/1/2021</td>\n",
       "      <td>CAMDEN</td>\n",
       "      <td>NY</td>\n",
       "      <td>13316</td>\n",
       "      <td>FXG</td>\n",
       "      <td>10/29/2021</td>\n",
       "      <td>20.2</td>\n",
       "      <td>6.0</td>\n",
       "    </tr>\n",
       "    <tr>\n",
       "      <th>3</th>\n",
       "      <td>Ecom1</td>\n",
       "      <td>11/1/2021</td>\n",
       "      <td>Peabody</td>\n",
       "      <td>MA</td>\n",
       "      <td>1960</td>\n",
       "      <td>FEH</td>\n",
       "      <td>10/29/2021</td>\n",
       "      <td>10.5</td>\n",
       "      <td>3.0</td>\n",
       "    </tr>\n",
       "    <tr>\n",
       "      <th>4</th>\n",
       "      <td>Ecom1</td>\n",
       "      <td>11/1/2021</td>\n",
       "      <td>Hamden</td>\n",
       "      <td>CT</td>\n",
       "      <td>6518</td>\n",
       "      <td>FEH</td>\n",
       "      <td>10/29/2021</td>\n",
       "      <td>10.5</td>\n",
       "      <td>3.0</td>\n",
       "    </tr>\n",
       "    <tr>\n",
       "      <th>...</th>\n",
       "      <td>...</td>\n",
       "      <td>...</td>\n",
       "      <td>...</td>\n",
       "      <td>...</td>\n",
       "      <td>...</td>\n",
       "      <td>...</td>\n",
       "      <td>...</td>\n",
       "      <td>...</td>\n",
       "      <td>...</td>\n",
       "    </tr>\n",
       "    <tr>\n",
       "      <th>647984</th>\n",
       "      <td>NaN</td>\n",
       "      <td>NaN</td>\n",
       "      <td>NaN</td>\n",
       "      <td>NaN</td>\n",
       "      <td>NaN</td>\n",
       "      <td>NaN</td>\n",
       "      <td>NaN</td>\n",
       "      <td>NaN</td>\n",
       "      <td>NaN</td>\n",
       "    </tr>\n",
       "    <tr>\n",
       "      <th>647985</th>\n",
       "      <td>NaN</td>\n",
       "      <td>NaN</td>\n",
       "      <td>NaN</td>\n",
       "      <td>NaN</td>\n",
       "      <td>NaN</td>\n",
       "      <td>NaN</td>\n",
       "      <td>NaN</td>\n",
       "      <td>NaN</td>\n",
       "      <td>NaN</td>\n",
       "    </tr>\n",
       "    <tr>\n",
       "      <th>647986</th>\n",
       "      <td>NaN</td>\n",
       "      <td>NaN</td>\n",
       "      <td>NaN</td>\n",
       "      <td>NaN</td>\n",
       "      <td>NaN</td>\n",
       "      <td>NaN</td>\n",
       "      <td>NaN</td>\n",
       "      <td>NaN</td>\n",
       "      <td>NaN</td>\n",
       "    </tr>\n",
       "    <tr>\n",
       "      <th>647987</th>\n",
       "      <td>NaN</td>\n",
       "      <td>NaN</td>\n",
       "      <td>NaN</td>\n",
       "      <td>NaN</td>\n",
       "      <td>NaN</td>\n",
       "      <td>NaN</td>\n",
       "      <td>NaN</td>\n",
       "      <td>NaN</td>\n",
       "      <td>NaN</td>\n",
       "    </tr>\n",
       "    <tr>\n",
       "      <th>647988</th>\n",
       "      <td>NaN</td>\n",
       "      <td>NaN</td>\n",
       "      <td>NaN</td>\n",
       "      <td>NaN</td>\n",
       "      <td>NaN</td>\n",
       "      <td>NaN</td>\n",
       "      <td>NaN</td>\n",
       "      <td>NaN</td>\n",
       "      <td>NaN</td>\n",
       "    </tr>\n",
       "  </tbody>\n",
       "</table>\n",
       "<p>647989 rows × 9 columns</p>\n",
       "</div>"
      ],
      "text/plain": [
       "       Company Name  Ship Date       City State    Zip Shipping Service  \\\n",
       "0             Ecom1  11/1/2021    Portage    MI  49024              FEH   \n",
       "1             Ecom1  11/1/2021  Langhorne    PA  19047              FEH   \n",
       "2             Ecom1  11/1/2021     CAMDEN    NY  13316              FXG   \n",
       "3             Ecom1  11/1/2021    Peabody    MA   1960              FEH   \n",
       "4             Ecom1  11/1/2021     Hamden    CT   6518              FEH   \n",
       "...             ...        ...        ...   ...    ...              ...   \n",
       "647984          NaN        NaN        NaN   NaN    NaN              NaN   \n",
       "647985          NaN        NaN        NaN   NaN    NaN              NaN   \n",
       "647986          NaN        NaN        NaN   NaN    NaN              NaN   \n",
       "647987          NaN        NaN        NaN   NaN    NaN              NaN   \n",
       "647988          NaN        NaN        NaN   NaN    NaN              NaN   \n",
       "\n",
       "       Created Date  Weight  Item/Bottle Count  \n",
       "0        10/29/2021    39.0               12.0  \n",
       "1        10/29/2021    10.5                3.0  \n",
       "2        10/29/2021    20.2                6.0  \n",
       "3        10/29/2021    10.5                3.0  \n",
       "4        10/29/2021    10.5                3.0  \n",
       "...             ...     ...                ...  \n",
       "647984          NaN     NaN                NaN  \n",
       "647985          NaN     NaN                NaN  \n",
       "647986          NaN     NaN                NaN  \n",
       "647987          NaN     NaN                NaN  \n",
       "647988          NaN     NaN                NaN  \n",
       "\n",
       "[647989 rows x 9 columns]"
      ]
     },
     "execution_count": 22,
     "metadata": {},
     "output_type": "execute_result"
    }
   ],
   "source": [
    "#Remove \"Status\" column from df_2021_11.\n",
    "df_2021_11 = df_2021_11.drop('Status', axis=1)\n",
    "df_2021_11"
   ]
  },
  {
   "cell_type": "code",
   "execution_count": 23,
   "id": "bbb59fc5",
   "metadata": {},
   "outputs": [],
   "source": [
    "# Drop the NaNs for df_2021_11.\n",
    "df_2021_11 = df_2021_11.dropna()"
   ]
  },
  {
   "cell_type": "markdown",
   "id": "946b6578",
   "metadata": {},
   "source": [
    "## Confirm Changes"
   ]
  },
  {
   "cell_type": "code",
   "execution_count": 24,
   "id": "24f52aa4",
   "metadata": {},
   "outputs": [
    {
     "data": {
      "text/html": [
       "<div>\n",
       "<style scoped>\n",
       "    .dataframe tbody tr th:only-of-type {\n",
       "        vertical-align: middle;\n",
       "    }\n",
       "\n",
       "    .dataframe tbody tr th {\n",
       "        vertical-align: top;\n",
       "    }\n",
       "\n",
       "    .dataframe thead th {\n",
       "        text-align: right;\n",
       "    }\n",
       "</style>\n",
       "<table border=\"1\" class=\"dataframe\">\n",
       "  <thead>\n",
       "    <tr style=\"text-align: right;\">\n",
       "      <th></th>\n",
       "      <th>Company Name</th>\n",
       "      <th>Ship Date</th>\n",
       "      <th>City</th>\n",
       "      <th>State</th>\n",
       "      <th>Zip</th>\n",
       "      <th>Shipping Service</th>\n",
       "      <th>Created Date</th>\n",
       "      <th>Weight</th>\n",
       "      <th>Item/Bottle Count</th>\n",
       "    </tr>\n",
       "  </thead>\n",
       "  <tbody>\n",
       "    <tr>\n",
       "      <th>13192</th>\n",
       "      <td>Ecom2</td>\n",
       "      <td>11/23/2021</td>\n",
       "      <td>Camdenton</td>\n",
       "      <td>MO</td>\n",
       "      <td>65020</td>\n",
       "      <td>FEH</td>\n",
       "      <td>11/17/2021</td>\n",
       "      <td>7.0</td>\n",
       "      <td>2.0</td>\n",
       "    </tr>\n",
       "    <tr>\n",
       "      <th>2471</th>\n",
       "      <td>Ecom3</td>\n",
       "      <td>11/8/2021</td>\n",
       "      <td>Chatham</td>\n",
       "      <td>NJ</td>\n",
       "      <td>7928</td>\n",
       "      <td>UPS</td>\n",
       "      <td>11/5/2021</td>\n",
       "      <td>21.5</td>\n",
       "      <td>6.0</td>\n",
       "    </tr>\n",
       "    <tr>\n",
       "      <th>764</th>\n",
       "      <td>Ecom3</td>\n",
       "      <td>11/1/2021</td>\n",
       "      <td>MOUNT JOY</td>\n",
       "      <td>PA</td>\n",
       "      <td>17552</td>\n",
       "      <td>UPS</td>\n",
       "      <td>10/31/2021</td>\n",
       "      <td>21.5</td>\n",
       "      <td>6.0</td>\n",
       "    </tr>\n",
       "    <tr>\n",
       "      <th>10455</th>\n",
       "      <td>Ecom1</td>\n",
       "      <td>11/22/2021</td>\n",
       "      <td>El Cajon</td>\n",
       "      <td>CA</td>\n",
       "      <td>92019</td>\n",
       "      <td>FEH</td>\n",
       "      <td>11/22/2021</td>\n",
       "      <td>6.5</td>\n",
       "      <td>1.0</td>\n",
       "    </tr>\n",
       "    <tr>\n",
       "      <th>13645</th>\n",
       "      <td>Ecom2</td>\n",
       "      <td>11/23/2021</td>\n",
       "      <td>Chicago</td>\n",
       "      <td>IL</td>\n",
       "      <td>60614</td>\n",
       "      <td>FXG</td>\n",
       "      <td>11/17/2021</td>\n",
       "      <td>7.0</td>\n",
       "      <td>2.0</td>\n",
       "    </tr>\n",
       "  </tbody>\n",
       "</table>\n",
       "</div>"
      ],
      "text/plain": [
       "      Company Name   Ship Date       City State    Zip Shipping Service  \\\n",
       "13192        Ecom2  11/23/2021  Camdenton    MO  65020              FEH   \n",
       "2471         Ecom3   11/8/2021    Chatham    NJ   7928              UPS   \n",
       "764          Ecom3   11/1/2021  MOUNT JOY    PA  17552              UPS   \n",
       "10455        Ecom1  11/22/2021   El Cajon    CA  92019              FEH   \n",
       "13645        Ecom2  11/23/2021    Chicago    IL  60614              FXG   \n",
       "\n",
       "      Created Date  Weight  Item/Bottle Count  \n",
       "13192   11/17/2021     7.0                2.0  \n",
       "2471     11/5/2021    21.5                6.0  \n",
       "764     10/31/2021    21.5                6.0  \n",
       "10455   11/22/2021     6.5                1.0  \n",
       "13645   11/17/2021     7.0                2.0  "
      ]
     },
     "execution_count": 24,
     "metadata": {},
     "output_type": "execute_result"
    }
   ],
   "source": [
    "#See five random rows of data\n",
    "df_2021_11.sample(n=5)"
   ]
  },
  {
   "cell_type": "code",
   "execution_count": 25,
   "id": "a61f9697",
   "metadata": {},
   "outputs": [
    {
     "name": "stdout",
     "output_type": "stream",
     "text": [
      "Number of Rows:  20146\n",
      "Number of Columns:  9\n"
     ]
    }
   ],
   "source": [
    "#Determine total rows for df_2021_11.\n",
    "df_2021_11_rows = len(df_2021_11.axes[0])\n",
    "df_2021_11_cols = len(df_2021_11.axes[1])\n",
    "print(\"Number of Rows: \", df_2021_11_rows)\n",
    "print(\"Number of Columns: \", df_2021_11_cols)"
   ]
  },
  {
   "cell_type": "markdown",
   "id": "d997584e",
   "metadata": {},
   "source": [
    "## Export Cleaned df to .CSV"
   ]
  },
  {
   "cell_type": "code",
   "execution_count": 26,
   "id": "84bc21fc",
   "metadata": {},
   "outputs": [],
   "source": [
    "#Export df_2021_11 to .csv\n",
    "df_2021_11.to_csv('../cleaned_months_2021/Clean_2021_11.csv') "
   ]
  },
  {
   "cell_type": "code",
   "execution_count": null,
   "id": "22eef17a",
   "metadata": {},
   "outputs": [],
   "source": []
  }
 ],
 "metadata": {
  "kernelspec": {
   "display_name": "Python 3 (ipykernel)",
   "language": "python",
   "name": "python3"
  },
  "language_info": {
   "codemirror_mode": {
    "name": "ipython",
    "version": 3
   },
   "file_extension": ".py",
   "mimetype": "text/x-python",
   "name": "python",
   "nbconvert_exporter": "python",
   "pygments_lexer": "ipython3",
   "version": "3.7.13"
  }
 },
 "nbformat": 4,
 "nbformat_minor": 5
}
