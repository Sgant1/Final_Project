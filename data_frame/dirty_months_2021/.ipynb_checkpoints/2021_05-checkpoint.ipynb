{
 "cells": [
  {
   "cell_type": "code",
   "execution_count": 1,
   "id": "0ee3ff94",
   "metadata": {},
   "outputs": [],
   "source": [
    "#Pandas library to create DataFrames\n",
    "import pandas as pd\n",
    "#NumPy library for converting data types\n",
    "import numpy as np"
   ]
  },
  {
   "cell_type": "code",
   "execution_count": 2,
   "id": "43de2e17",
   "metadata": {},
   "outputs": [],
   "source": [
    "# Files to load\n",
    "load_2021_05 = \"../2021_Data/2021.05.csv\""
   ]
  },
  {
   "cell_type": "code",
   "execution_count": 3,
   "id": "0006005e",
   "metadata": {},
   "outputs": [
    {
     "data": {
      "text/html": [
       "<div>\n",
       "<style scoped>\n",
       "    .dataframe tbody tr th:only-of-type {\n",
       "        vertical-align: middle;\n",
       "    }\n",
       "\n",
       "    .dataframe tbody tr th {\n",
       "        vertical-align: top;\n",
       "    }\n",
       "\n",
       "    .dataframe thead th {\n",
       "        text-align: right;\n",
       "    }\n",
       "</style>\n",
       "<table border=\"1\" class=\"dataframe\">\n",
       "  <thead>\n",
       "    <tr style=\"text-align: right;\">\n",
       "      <th></th>\n",
       "      <th>Company Name</th>\n",
       "      <th>Status</th>\n",
       "      <th>Ship Date</th>\n",
       "      <th>City</th>\n",
       "      <th>State</th>\n",
       "      <th>Zip</th>\n",
       "      <th>Shipping Service</th>\n",
       "      <th>Created Date</th>\n",
       "      <th>Weight</th>\n",
       "      <th>Item/Bottle Count</th>\n",
       "    </tr>\n",
       "  </thead>\n",
       "  <tbody>\n",
       "    <tr>\n",
       "      <th>0</th>\n",
       "      <td>Ecom2</td>\n",
       "      <td>In Transit</td>\n",
       "      <td>5/1/2021</td>\n",
       "      <td>Lakeville</td>\n",
       "      <td>MN</td>\n",
       "      <td>55044</td>\n",
       "      <td>FEH</td>\n",
       "      <td>4/28/2021</td>\n",
       "      <td>7.0</td>\n",
       "      <td>2.0</td>\n",
       "    </tr>\n",
       "    <tr>\n",
       "      <th>1</th>\n",
       "      <td>Ecom3</td>\n",
       "      <td>Shipped</td>\n",
       "      <td>5/1/2021</td>\n",
       "      <td>McAllen</td>\n",
       "      <td>TX</td>\n",
       "      <td>78504</td>\n",
       "      <td>UPS</td>\n",
       "      <td>4/29/2021</td>\n",
       "      <td>9.9</td>\n",
       "      <td>3.0</td>\n",
       "    </tr>\n",
       "    <tr>\n",
       "      <th>2</th>\n",
       "      <td>Ecom3</td>\n",
       "      <td>Shipped</td>\n",
       "      <td>5/1/2021</td>\n",
       "      <td>Dallas</td>\n",
       "      <td>TX</td>\n",
       "      <td>75230</td>\n",
       "      <td>UPS</td>\n",
       "      <td>4/29/2021</td>\n",
       "      <td>14.0</td>\n",
       "      <td>4.0</td>\n",
       "    </tr>\n",
       "    <tr>\n",
       "      <th>3</th>\n",
       "      <td>Ecom3</td>\n",
       "      <td>Shipped</td>\n",
       "      <td>5/1/2021</td>\n",
       "      <td>Chino Hills</td>\n",
       "      <td>CA</td>\n",
       "      <td>91709</td>\n",
       "      <td>UPS</td>\n",
       "      <td>4/30/2021</td>\n",
       "      <td>7.0</td>\n",
       "      <td>2.0</td>\n",
       "    </tr>\n",
       "    <tr>\n",
       "      <th>4</th>\n",
       "      <td>Ecom3</td>\n",
       "      <td>Shipped</td>\n",
       "      <td>5/1/2021</td>\n",
       "      <td>Berkeley</td>\n",
       "      <td>CA</td>\n",
       "      <td>94703</td>\n",
       "      <td>UPS</td>\n",
       "      <td>4/30/2021</td>\n",
       "      <td>14.0</td>\n",
       "      <td>4.0</td>\n",
       "    </tr>\n",
       "  </tbody>\n",
       "</table>\n",
       "</div>"
      ],
      "text/plain": [
       "  Company Name      Status Ship Date         City State    Zip  \\\n",
       "0        Ecom2  In Transit  5/1/2021    Lakeville    MN  55044   \n",
       "1        Ecom3     Shipped  5/1/2021      McAllen    TX  78504   \n",
       "2        Ecom3     Shipped  5/1/2021       Dallas    TX  75230   \n",
       "3        Ecom3     Shipped  5/1/2021  Chino Hills    CA  91709   \n",
       "4        Ecom3     Shipped  5/1/2021     Berkeley    CA  94703   \n",
       "\n",
       "  Shipping Service Created Date  Weight  Item/Bottle Count  \n",
       "0              FEH    4/28/2021     7.0                2.0  \n",
       "1              UPS    4/29/2021     9.9                3.0  \n",
       "2              UPS    4/29/2021    14.0                4.0  \n",
       "3              UPS    4/30/2021     7.0                2.0  \n",
       "4              UPS    4/30/2021    14.0                4.0  "
      ]
     },
     "execution_count": 3,
     "metadata": {},
     "output_type": "execute_result"
    }
   ],
   "source": [
    "# Read the May CSV into a DataFrame\n",
    "#Had to open each file in excel and save it as a .csv file instead of an .xlsm file in order for the encryption to be read properly.\n",
    "df_2021_05 = pd.read_csv(load_2021_05, low_memory=False)\n",
    "df_2021_05.head()"
   ]
  },
  {
   "cell_type": "markdown",
   "id": "83dcaaf9",
   "metadata": {},
   "source": [
    "## Inspect the Data"
   ]
  },
  {
   "cell_type": "code",
   "execution_count": 4,
   "id": "57327ad0",
   "metadata": {},
   "outputs": [
    {
     "data": {
      "text/html": [
       "<div>\n",
       "<style scoped>\n",
       "    .dataframe tbody tr th:only-of-type {\n",
       "        vertical-align: middle;\n",
       "    }\n",
       "\n",
       "    .dataframe tbody tr th {\n",
       "        vertical-align: top;\n",
       "    }\n",
       "\n",
       "    .dataframe thead th {\n",
       "        text-align: right;\n",
       "    }\n",
       "</style>\n",
       "<table border=\"1\" class=\"dataframe\">\n",
       "  <thead>\n",
       "    <tr style=\"text-align: right;\">\n",
       "      <th></th>\n",
       "      <th>Company Name</th>\n",
       "      <th>Status</th>\n",
       "      <th>Ship Date</th>\n",
       "      <th>City</th>\n",
       "      <th>State</th>\n",
       "      <th>Zip</th>\n",
       "      <th>Shipping Service</th>\n",
       "      <th>Created Date</th>\n",
       "      <th>Weight</th>\n",
       "      <th>Item/Bottle Count</th>\n",
       "    </tr>\n",
       "  </thead>\n",
       "  <tbody>\n",
       "    <tr>\n",
       "      <th>329380</th>\n",
       "      <td>NaN</td>\n",
       "      <td>NaN</td>\n",
       "      <td>NaN</td>\n",
       "      <td>NaN</td>\n",
       "      <td>NaN</td>\n",
       "      <td>NaN</td>\n",
       "      <td>NaN</td>\n",
       "      <td>NaN</td>\n",
       "      <td>NaN</td>\n",
       "      <td>NaN</td>\n",
       "    </tr>\n",
       "    <tr>\n",
       "      <th>630946</th>\n",
       "      <td>NaN</td>\n",
       "      <td>NaN</td>\n",
       "      <td>NaN</td>\n",
       "      <td>NaN</td>\n",
       "      <td>NaN</td>\n",
       "      <td>NaN</td>\n",
       "      <td>NaN</td>\n",
       "      <td>NaN</td>\n",
       "      <td>NaN</td>\n",
       "      <td>NaN</td>\n",
       "    </tr>\n",
       "    <tr>\n",
       "      <th>597548</th>\n",
       "      <td>NaN</td>\n",
       "      <td>NaN</td>\n",
       "      <td>NaN</td>\n",
       "      <td>NaN</td>\n",
       "      <td>NaN</td>\n",
       "      <td>NaN</td>\n",
       "      <td>NaN</td>\n",
       "      <td>NaN</td>\n",
       "      <td>NaN</td>\n",
       "      <td>NaN</td>\n",
       "    </tr>\n",
       "    <tr>\n",
       "      <th>579918</th>\n",
       "      <td>NaN</td>\n",
       "      <td>NaN</td>\n",
       "      <td>NaN</td>\n",
       "      <td>NaN</td>\n",
       "      <td>NaN</td>\n",
       "      <td>NaN</td>\n",
       "      <td>NaN</td>\n",
       "      <td>NaN</td>\n",
       "      <td>NaN</td>\n",
       "      <td>NaN</td>\n",
       "    </tr>\n",
       "    <tr>\n",
       "      <th>227444</th>\n",
       "      <td>NaN</td>\n",
       "      <td>NaN</td>\n",
       "      <td>NaN</td>\n",
       "      <td>NaN</td>\n",
       "      <td>NaN</td>\n",
       "      <td>NaN</td>\n",
       "      <td>NaN</td>\n",
       "      <td>NaN</td>\n",
       "      <td>NaN</td>\n",
       "      <td>NaN</td>\n",
       "    </tr>\n",
       "  </tbody>\n",
       "</table>\n",
       "</div>"
      ],
      "text/plain": [
       "       Company Name Status Ship Date City State  Zip Shipping Service  \\\n",
       "329380          NaN    NaN       NaN  NaN   NaN  NaN              NaN   \n",
       "630946          NaN    NaN       NaN  NaN   NaN  NaN              NaN   \n",
       "597548          NaN    NaN       NaN  NaN   NaN  NaN              NaN   \n",
       "579918          NaN    NaN       NaN  NaN   NaN  NaN              NaN   \n",
       "227444          NaN    NaN       NaN  NaN   NaN  NaN              NaN   \n",
       "\n",
       "       Created Date  Weight  Item/Bottle Count  \n",
       "329380          NaN     NaN                NaN  \n",
       "630946          NaN     NaN                NaN  \n",
       "597548          NaN     NaN                NaN  \n",
       "579918          NaN     NaN                NaN  \n",
       "227444          NaN     NaN                NaN  "
      ]
     },
     "execution_count": 4,
     "metadata": {},
     "output_type": "execute_result"
    }
   ],
   "source": [
    "#See five random rows of data\n",
    "df_2021_05.sample(n=5)"
   ]
  },
  {
   "cell_type": "code",
   "execution_count": 5,
   "id": "bc4ba2a9",
   "metadata": {},
   "outputs": [
    {
     "data": {
      "text/html": [
       "<div>\n",
       "<style scoped>\n",
       "    .dataframe tbody tr th:only-of-type {\n",
       "        vertical-align: middle;\n",
       "    }\n",
       "\n",
       "    .dataframe tbody tr th {\n",
       "        vertical-align: top;\n",
       "    }\n",
       "\n",
       "    .dataframe thead th {\n",
       "        text-align: right;\n",
       "    }\n",
       "</style>\n",
       "<table border=\"1\" class=\"dataframe\">\n",
       "  <thead>\n",
       "    <tr style=\"text-align: right;\">\n",
       "      <th></th>\n",
       "      <th>Company Name</th>\n",
       "      <th>Status</th>\n",
       "      <th>Ship Date</th>\n",
       "      <th>City</th>\n",
       "      <th>State</th>\n",
       "      <th>Zip</th>\n",
       "      <th>Shipping Service</th>\n",
       "      <th>Created Date</th>\n",
       "      <th>Weight</th>\n",
       "      <th>Item/Bottle Count</th>\n",
       "    </tr>\n",
       "  </thead>\n",
       "  <tbody>\n",
       "    <tr>\n",
       "      <th>675958</th>\n",
       "      <td>NaN</td>\n",
       "      <td>NaN</td>\n",
       "      <td>NaN</td>\n",
       "      <td>NaN</td>\n",
       "      <td>NaN</td>\n",
       "      <td>NaN</td>\n",
       "      <td>NaN</td>\n",
       "      <td>NaN</td>\n",
       "      <td>NaN</td>\n",
       "      <td>NaN</td>\n",
       "    </tr>\n",
       "    <tr>\n",
       "      <th>675959</th>\n",
       "      <td>NaN</td>\n",
       "      <td>NaN</td>\n",
       "      <td>NaN</td>\n",
       "      <td>NaN</td>\n",
       "      <td>NaN</td>\n",
       "      <td>NaN</td>\n",
       "      <td>NaN</td>\n",
       "      <td>NaN</td>\n",
       "      <td>NaN</td>\n",
       "      <td>NaN</td>\n",
       "    </tr>\n",
       "    <tr>\n",
       "      <th>675960</th>\n",
       "      <td>NaN</td>\n",
       "      <td>NaN</td>\n",
       "      <td>NaN</td>\n",
       "      <td>NaN</td>\n",
       "      <td>NaN</td>\n",
       "      <td>NaN</td>\n",
       "      <td>NaN</td>\n",
       "      <td>NaN</td>\n",
       "      <td>NaN</td>\n",
       "      <td>NaN</td>\n",
       "    </tr>\n",
       "    <tr>\n",
       "      <th>675961</th>\n",
       "      <td>NaN</td>\n",
       "      <td>NaN</td>\n",
       "      <td>NaN</td>\n",
       "      <td>NaN</td>\n",
       "      <td>NaN</td>\n",
       "      <td>NaN</td>\n",
       "      <td>NaN</td>\n",
       "      <td>NaN</td>\n",
       "      <td>NaN</td>\n",
       "      <td>NaN</td>\n",
       "    </tr>\n",
       "    <tr>\n",
       "      <th>675962</th>\n",
       "      <td>NaN</td>\n",
       "      <td>NaN</td>\n",
       "      <td>NaN</td>\n",
       "      <td>NaN</td>\n",
       "      <td>NaN</td>\n",
       "      <td>NaN</td>\n",
       "      <td>NaN</td>\n",
       "      <td>NaN</td>\n",
       "      <td>NaN</td>\n",
       "      <td>NaN</td>\n",
       "    </tr>\n",
       "  </tbody>\n",
       "</table>\n",
       "</div>"
      ],
      "text/plain": [
       "       Company Name Status Ship Date City State  Zip Shipping Service  \\\n",
       "675958          NaN    NaN       NaN  NaN   NaN  NaN              NaN   \n",
       "675959          NaN    NaN       NaN  NaN   NaN  NaN              NaN   \n",
       "675960          NaN    NaN       NaN  NaN   NaN  NaN              NaN   \n",
       "675961          NaN    NaN       NaN  NaN   NaN  NaN              NaN   \n",
       "675962          NaN    NaN       NaN  NaN   NaN  NaN              NaN   \n",
       "\n",
       "       Created Date  Weight  Item/Bottle Count  \n",
       "675958          NaN     NaN                NaN  \n",
       "675959          NaN     NaN                NaN  \n",
       "675960          NaN     NaN                NaN  \n",
       "675961          NaN     NaN                NaN  \n",
       "675962          NaN     NaN                NaN  "
      ]
     },
     "execution_count": 5,
     "metadata": {},
     "output_type": "execute_result"
    }
   ],
   "source": [
    "#See the last rows of data\n",
    "df_2021_05.tail(5)"
   ]
  },
  {
   "cell_type": "code",
   "execution_count": 6,
   "id": "d7373d6d",
   "metadata": {},
   "outputs": [
    {
     "data": {
      "text/plain": [
       "Index(['Company Name', 'Status', 'Ship Date', 'City', 'State', 'Zip',\n",
       "       'Shipping Service', 'Created Date', 'Weight', 'Item/Bottle Count'],\n",
       "      dtype='object')"
      ]
     },
     "execution_count": 6,
     "metadata": {},
     "output_type": "execute_result"
    }
   ],
   "source": [
    "df_2021_05.columns"
   ]
  },
  {
   "cell_type": "code",
   "execution_count": 7,
   "id": "b8417480",
   "metadata": {},
   "outputs": [
    {
     "name": "stdout",
     "output_type": "stream",
     "text": [
      "Number of Rows:  675963\n",
      "Number of Columns:  10\n"
     ]
    }
   ],
   "source": [
    "#Determine total rows for df_2021_05.\n",
    "df_2021_05_rows = len(df_2021_05.axes[0])\n",
    "df_2021_05_cols = len(df_2021_05.axes[1])\n",
    "print(\"Number of Rows: \", df_2021_05_rows)\n",
    "print(\"Number of Columns: \", df_2021_05_cols)"
   ]
  },
  {
   "cell_type": "code",
   "execution_count": 8,
   "id": "dee72ae5",
   "metadata": {},
   "outputs": [
    {
     "data": {
      "text/plain": [
       "Company Name         656859\n",
       "Status               657057\n",
       "Ship Date            656859\n",
       "City                 656859\n",
       "State                656859\n",
       "Zip                  656859\n",
       "Shipping Service     656859\n",
       "Created Date         657057\n",
       "Weight               657057\n",
       "Item/Bottle Count    656859\n",
       "dtype: int64"
      ]
     },
     "execution_count": 8,
     "metadata": {},
     "output_type": "execute_result"
    }
   ],
   "source": [
    "# Determine if there are any missing values in df_2021_05.\n",
    "df_2021_05.isnull().sum()"
   ]
  },
  {
   "cell_type": "code",
   "execution_count": 9,
   "id": "2cbecb4a",
   "metadata": {},
   "outputs": [],
   "source": [
    "#Surplus of null values due to data extraction from company. 18,906 rows of usable data."
   ]
  },
  {
   "cell_type": "code",
   "execution_count": 10,
   "id": "e4aa45ce",
   "metadata": {},
   "outputs": [
    {
     "data": {
      "text/plain": [
       "Company Name          object\n",
       "Status                object\n",
       "Ship Date             object\n",
       "City                  object\n",
       "State                 object\n",
       "Zip                   object\n",
       "Shipping Service      object\n",
       "Created Date          object\n",
       "Weight               float64\n",
       "Item/Bottle Count    float64\n",
       "dtype: object"
      ]
     },
     "execution_count": 10,
     "metadata": {},
     "output_type": "execute_result"
    }
   ],
   "source": [
    "# Determine data types for df_2021_05.\n",
    "df_2021_05.dtypes"
   ]
  },
  {
   "cell_type": "code",
   "execution_count": 11,
   "id": "ce126503",
   "metadata": {},
   "outputs": [
    {
     "data": {
      "text/plain": [
       "Ecom2      7797\n",
       "Ecom3      7406\n",
       "Ecom1      3232\n",
       "Winery1     438\n",
       "Winery3     198\n",
       "Winery2      33\n",
       "Name: Company Name, dtype: int64"
      ]
     },
     "execution_count": 11,
     "metadata": {},
     "output_type": "execute_result"
    }
   ],
   "source": [
    "df_2021_05['Company Name'].value_counts()"
   ]
  },
  {
   "cell_type": "code",
   "execution_count": 12,
   "id": "0a521509",
   "metadata": {},
   "outputs": [
    {
     "data": {
      "text/plain": [
       "5/19/2021    6247\n",
       "5/20/2021    2503\n",
       "5/3/2021      965\n",
       "5/11/2021     819\n",
       "5/10/2021     774\n",
       "5/28/2021     726\n",
       "5/25/2021     663\n",
       "5/17/2021     648\n",
       "5/24/2021     623\n",
       "5/5/2021      611\n",
       "5/26/2021     582\n",
       "5/12/2021     534\n",
       "5/18/2021     533\n",
       "5/4/2021      510\n",
       "5/27/2021     493\n",
       "5/13/2021     457\n",
       "5/14/2021     347\n",
       "5/6/2021      313\n",
       "5/7/2021      311\n",
       "5/21/2021     286\n",
       "5/29/2021      59\n",
       "5/1/2021       38\n",
       "5/15/2021      37\n",
       "5/16/2021      12\n",
       "5/9/2021       11\n",
       "5/23/2021       1\n",
       "5/22/2021       1\n",
       "Name: Ship Date, dtype: int64"
      ]
     },
     "execution_count": 12,
     "metadata": {},
     "output_type": "execute_result"
    }
   ],
   "source": [
    "df_2021_05['Ship Date'].value_counts()"
   ]
  },
  {
   "cell_type": "code",
   "execution_count": 13,
   "id": "b8789edb",
   "metadata": {},
   "outputs": [
    {
     "data": {
      "text/plain": [
       "Shipped              10722\n",
       "In Transit            7520\n",
       "Delivered              619\n",
       "Carrier Exception       35\n",
       "Delivery Attempt        10\n",
       "Name: Status, dtype: int64"
      ]
     },
     "execution_count": 13,
     "metadata": {},
     "output_type": "execute_result"
    }
   ],
   "source": [
    "df_2021_05['Status'].value_counts()"
   ]
  },
  {
   "cell_type": "code",
   "execution_count": 14,
   "id": "5c24a22b",
   "metadata": {},
   "outputs": [
    {
     "data": {
      "text/plain": [
       "New York            377\n",
       "Chicago             210\n",
       "San Francisco       166\n",
       "Brooklyn            162\n",
       "Washington          144\n",
       "                   ... \n",
       "Hunt Valley           1\n",
       "Genoa City            1\n",
       "Mexico                1\n",
       "Mokelumne Hill        1\n",
       "Dripping Springs      1\n",
       "Name: City, Length: 4816, dtype: int64"
      ]
     },
     "execution_count": 14,
     "metadata": {},
     "output_type": "execute_result"
    }
   ],
   "source": [
    "df_2021_05['City'].value_counts()"
   ]
  },
  {
   "cell_type": "code",
   "execution_count": 15,
   "id": "50ee4539",
   "metadata": {},
   "outputs": [
    {
     "data": {
      "text/plain": [
       "CA    2162\n",
       "NY    2021\n",
       "FL    1284\n",
       "PA    1263\n",
       "TX    1051\n",
       "NJ    1026\n",
       "MA     856\n",
       "IL     769\n",
       "OH     665\n",
       "VA     645\n",
       "MI     566\n",
       "CO     560\n",
       "GA     523\n",
       "MD     501\n",
       "NC     470\n",
       "CT     390\n",
       "WA     376\n",
       "TN     337\n",
       "AZ     299\n",
       "IN     261\n",
       "MN     260\n",
       "WI     249\n",
       "SC     247\n",
       "OR     228\n",
       "MO     194\n",
       "DC     141\n",
       "HI     134\n",
       "LA     132\n",
       "KS     125\n",
       "IA     121\n",
       "NH     118\n",
       "NV     117\n",
       "RI     115\n",
       "NE      93\n",
       "ME      89\n",
       "OK      87\n",
       "AR      83\n",
       "MT      73\n",
       "ID      72\n",
       "NM      70\n",
       "WV      67\n",
       "DE      52\n",
       "VT      50\n",
       "SD      46\n",
       "AK      36\n",
       "ND      34\n",
       "WY      26\n",
       "AL      12\n",
       "KY       8\n",
       "Name: State, dtype: int64"
      ]
     },
     "execution_count": 15,
     "metadata": {},
     "output_type": "execute_result"
    }
   ],
   "source": [
    "df_2021_05['State'].value_counts()"
   ]
  },
  {
   "cell_type": "code",
   "execution_count": 16,
   "id": "6a27c6dd",
   "metadata": {},
   "outputs": [
    {
     "data": {
      "text/plain": [
       "94558    40\n",
       "10583    33\n",
       "10019    32\n",
       "10023    30\n",
       "80125    29\n",
       "         ..\n",
       "17512     1\n",
       "75009     1\n",
       "17022     1\n",
       "68142     1\n",
       "98229     1\n",
       "Name: Zip, Length: 7172, dtype: int64"
      ]
     },
     "execution_count": 16,
     "metadata": {},
     "output_type": "execute_result"
    }
   ],
   "source": [
    "df_2021_05['Zip'].value_counts()"
   ]
  },
  {
   "cell_type": "code",
   "execution_count": 17,
   "id": "93a3d82a",
   "metadata": {},
   "outputs": [
    {
     "data": {
      "text/plain": [
       "FEH     8931\n",
       "UPS     8692\n",
       "FXG     1021\n",
       "FEX      242\n",
       "GSC       85\n",
       "WCU       41\n",
       "FXP       32\n",
       "UP3       22\n",
       "AZS       16\n",
       "UP2       14\n",
       "SELF       3\n",
       "FXE        2\n",
       "UP1        2\n",
       "WCP        1\n",
       "Name: Shipping Service, dtype: int64"
      ]
     },
     "execution_count": 17,
     "metadata": {},
     "output_type": "execute_result"
    }
   ],
   "source": [
    "df_2021_05['Shipping Service'].value_counts()"
   ]
  },
  {
   "cell_type": "code",
   "execution_count": 18,
   "id": "f31c6641",
   "metadata": {},
   "outputs": [
    {
     "data": {
      "text/plain": [
       "5/18/2021    4599\n",
       "5/17/2021    3954\n",
       "5/24/2021     712\n",
       "5/4/2021      617\n",
       "5/16/2021     601\n",
       "5/12/2021     553\n",
       "5/2/2021      495\n",
       "5/10/2021     460\n",
       "5/11/2021     457\n",
       "5/28/2021     438\n",
       "5/9/2021      436\n",
       "5/27/2021     417\n",
       "5/26/2021     413\n",
       "5/6/2021      401\n",
       "5/3/2021      387\n",
       "5/25/2021     375\n",
       "5/8/2021      357\n",
       "5/21/2021     350\n",
       "5/13/2021     319\n",
       "4/30/2021     299\n",
       "5/23/2021     299\n",
       "5/5/2021      294\n",
       "5/14/2021     259\n",
       "5/19/2021     259\n",
       "5/20/2021     244\n",
       "5/22/2021     232\n",
       "5/7/2021      225\n",
       "5/15/2021     183\n",
       "5/1/2021      135\n",
       "4/29/2021      85\n",
       "4/28/2021      38\n",
       "5/29/2021       5\n",
       "4/26/2021       4\n",
       "4/25/2021       2\n",
       "4/27/2021       1\n",
       "4/21/2021       1\n",
       "Name: Created Date, dtype: int64"
      ]
     },
     "execution_count": 18,
     "metadata": {},
     "output_type": "execute_result"
    }
   ],
   "source": [
    "df_2021_05['Created Date'].value_counts()\n",
    "#Ok to have dates from other months- Sometimes people will create an order and hold onto it until an adult is present to sign for delivery."
   ]
  },
  {
   "cell_type": "code",
   "execution_count": 19,
   "id": "8ebe2d26",
   "metadata": {},
   "outputs": [
    {
     "data": {
      "text/plain": [
       "7.00     8291\n",
       "21.50    3466\n",
       "39.00    1509\n",
       "10.50    1196\n",
       "41.00     911\n",
       "20.20     785\n",
       "14.00     673\n",
       "6.50      612\n",
       "9.90      411\n",
       "27.00     148\n",
       "18.50     143\n",
       "29.00     116\n",
       "3.35       89\n",
       "30.00      86\n",
       "33.00      69\n",
       "24.00      69\n",
       "35.00      54\n",
       "26.00      50\n",
       "7.50       43\n",
       "32.00      43\n",
       "4.00       36\n",
       "44.00      23\n",
       "38.00      19\n",
       "17.20      18\n",
       "36.00      17\n",
       "46.00       7\n",
       "13.50       7\n",
       "20.50       6\n",
       "37.00       3\n",
       "57.00       1\n",
       "10.00       1\n",
       "28.00       1\n",
       "13.00       1\n",
       "19.20       1\n",
       "19.50       1\n",
       "Name: Weight, dtype: int64"
      ]
     },
     "execution_count": 19,
     "metadata": {},
     "output_type": "execute_result"
    }
   ],
   "source": [
    "df_2021_05['Weight'].value_counts()"
   ]
  },
  {
   "cell_type": "code",
   "execution_count": 20,
   "id": "356cd94a",
   "metadata": {},
   "outputs": [
    {
     "data": {
      "text/plain": [
       "2.0     8293\n",
       "6.0     4314\n",
       "12.0    2495\n",
       "3.0     1614\n",
       "1.0      826\n",
       "4.0      720\n",
       "8.0      259\n",
       "5.0      161\n",
       "9.0      132\n",
       "7.0      124\n",
       "10.0     122\n",
       "11.0      34\n",
       "13.0       5\n",
       "14.0       3\n",
       "16.0       1\n",
       "15.0       1\n",
       "Name: Item/Bottle Count, dtype: int64"
      ]
     },
     "execution_count": 20,
     "metadata": {},
     "output_type": "execute_result"
    }
   ],
   "source": [
    "df_2021_05['Item/Bottle Count'].value_counts()"
   ]
  },
  {
   "cell_type": "markdown",
   "id": "68f6fedc",
   "metadata": {},
   "source": [
    "## Clean the Data"
   ]
  },
  {
   "cell_type": "code",
   "execution_count": 21,
   "id": "7344c4a2",
   "metadata": {},
   "outputs": [],
   "source": [
    "#Change dtypes if necessary"
   ]
  },
  {
   "cell_type": "code",
   "execution_count": 22,
   "id": "02ffce8c",
   "metadata": {},
   "outputs": [
    {
     "data": {
      "text/html": [
       "<div>\n",
       "<style scoped>\n",
       "    .dataframe tbody tr th:only-of-type {\n",
       "        vertical-align: middle;\n",
       "    }\n",
       "\n",
       "    .dataframe tbody tr th {\n",
       "        vertical-align: top;\n",
       "    }\n",
       "\n",
       "    .dataframe thead th {\n",
       "        text-align: right;\n",
       "    }\n",
       "</style>\n",
       "<table border=\"1\" class=\"dataframe\">\n",
       "  <thead>\n",
       "    <tr style=\"text-align: right;\">\n",
       "      <th></th>\n",
       "      <th>Company Name</th>\n",
       "      <th>Ship Date</th>\n",
       "      <th>City</th>\n",
       "      <th>State</th>\n",
       "      <th>Zip</th>\n",
       "      <th>Shipping Service</th>\n",
       "      <th>Created Date</th>\n",
       "      <th>Weight</th>\n",
       "      <th>Item/Bottle Count</th>\n",
       "    </tr>\n",
       "  </thead>\n",
       "  <tbody>\n",
       "    <tr>\n",
       "      <th>0</th>\n",
       "      <td>Ecom2</td>\n",
       "      <td>5/1/2021</td>\n",
       "      <td>Lakeville</td>\n",
       "      <td>MN</td>\n",
       "      <td>55044</td>\n",
       "      <td>FEH</td>\n",
       "      <td>4/28/2021</td>\n",
       "      <td>7.0</td>\n",
       "      <td>2.0</td>\n",
       "    </tr>\n",
       "    <tr>\n",
       "      <th>1</th>\n",
       "      <td>Ecom3</td>\n",
       "      <td>5/1/2021</td>\n",
       "      <td>McAllen</td>\n",
       "      <td>TX</td>\n",
       "      <td>78504</td>\n",
       "      <td>UPS</td>\n",
       "      <td>4/29/2021</td>\n",
       "      <td>9.9</td>\n",
       "      <td>3.0</td>\n",
       "    </tr>\n",
       "    <tr>\n",
       "      <th>2</th>\n",
       "      <td>Ecom3</td>\n",
       "      <td>5/1/2021</td>\n",
       "      <td>Dallas</td>\n",
       "      <td>TX</td>\n",
       "      <td>75230</td>\n",
       "      <td>UPS</td>\n",
       "      <td>4/29/2021</td>\n",
       "      <td>14.0</td>\n",
       "      <td>4.0</td>\n",
       "    </tr>\n",
       "    <tr>\n",
       "      <th>3</th>\n",
       "      <td>Ecom3</td>\n",
       "      <td>5/1/2021</td>\n",
       "      <td>Chino Hills</td>\n",
       "      <td>CA</td>\n",
       "      <td>91709</td>\n",
       "      <td>UPS</td>\n",
       "      <td>4/30/2021</td>\n",
       "      <td>7.0</td>\n",
       "      <td>2.0</td>\n",
       "    </tr>\n",
       "    <tr>\n",
       "      <th>4</th>\n",
       "      <td>Ecom3</td>\n",
       "      <td>5/1/2021</td>\n",
       "      <td>Berkeley</td>\n",
       "      <td>CA</td>\n",
       "      <td>94703</td>\n",
       "      <td>UPS</td>\n",
       "      <td>4/30/2021</td>\n",
       "      <td>14.0</td>\n",
       "      <td>4.0</td>\n",
       "    </tr>\n",
       "    <tr>\n",
       "      <th>...</th>\n",
       "      <td>...</td>\n",
       "      <td>...</td>\n",
       "      <td>...</td>\n",
       "      <td>...</td>\n",
       "      <td>...</td>\n",
       "      <td>...</td>\n",
       "      <td>...</td>\n",
       "      <td>...</td>\n",
       "      <td>...</td>\n",
       "    </tr>\n",
       "    <tr>\n",
       "      <th>675958</th>\n",
       "      <td>NaN</td>\n",
       "      <td>NaN</td>\n",
       "      <td>NaN</td>\n",
       "      <td>NaN</td>\n",
       "      <td>NaN</td>\n",
       "      <td>NaN</td>\n",
       "      <td>NaN</td>\n",
       "      <td>NaN</td>\n",
       "      <td>NaN</td>\n",
       "    </tr>\n",
       "    <tr>\n",
       "      <th>675959</th>\n",
       "      <td>NaN</td>\n",
       "      <td>NaN</td>\n",
       "      <td>NaN</td>\n",
       "      <td>NaN</td>\n",
       "      <td>NaN</td>\n",
       "      <td>NaN</td>\n",
       "      <td>NaN</td>\n",
       "      <td>NaN</td>\n",
       "      <td>NaN</td>\n",
       "    </tr>\n",
       "    <tr>\n",
       "      <th>675960</th>\n",
       "      <td>NaN</td>\n",
       "      <td>NaN</td>\n",
       "      <td>NaN</td>\n",
       "      <td>NaN</td>\n",
       "      <td>NaN</td>\n",
       "      <td>NaN</td>\n",
       "      <td>NaN</td>\n",
       "      <td>NaN</td>\n",
       "      <td>NaN</td>\n",
       "    </tr>\n",
       "    <tr>\n",
       "      <th>675961</th>\n",
       "      <td>NaN</td>\n",
       "      <td>NaN</td>\n",
       "      <td>NaN</td>\n",
       "      <td>NaN</td>\n",
       "      <td>NaN</td>\n",
       "      <td>NaN</td>\n",
       "      <td>NaN</td>\n",
       "      <td>NaN</td>\n",
       "      <td>NaN</td>\n",
       "    </tr>\n",
       "    <tr>\n",
       "      <th>675962</th>\n",
       "      <td>NaN</td>\n",
       "      <td>NaN</td>\n",
       "      <td>NaN</td>\n",
       "      <td>NaN</td>\n",
       "      <td>NaN</td>\n",
       "      <td>NaN</td>\n",
       "      <td>NaN</td>\n",
       "      <td>NaN</td>\n",
       "      <td>NaN</td>\n",
       "    </tr>\n",
       "  </tbody>\n",
       "</table>\n",
       "<p>675963 rows × 9 columns</p>\n",
       "</div>"
      ],
      "text/plain": [
       "       Company Name Ship Date         City State    Zip Shipping Service  \\\n",
       "0             Ecom2  5/1/2021    Lakeville    MN  55044              FEH   \n",
       "1             Ecom3  5/1/2021      McAllen    TX  78504              UPS   \n",
       "2             Ecom3  5/1/2021       Dallas    TX  75230              UPS   \n",
       "3             Ecom3  5/1/2021  Chino Hills    CA  91709              UPS   \n",
       "4             Ecom3  5/1/2021     Berkeley    CA  94703              UPS   \n",
       "...             ...       ...          ...   ...    ...              ...   \n",
       "675958          NaN       NaN          NaN   NaN    NaN              NaN   \n",
       "675959          NaN       NaN          NaN   NaN    NaN              NaN   \n",
       "675960          NaN       NaN          NaN   NaN    NaN              NaN   \n",
       "675961          NaN       NaN          NaN   NaN    NaN              NaN   \n",
       "675962          NaN       NaN          NaN   NaN    NaN              NaN   \n",
       "\n",
       "       Created Date  Weight  Item/Bottle Count  \n",
       "0         4/28/2021     7.0                2.0  \n",
       "1         4/29/2021     9.9                3.0  \n",
       "2         4/29/2021    14.0                4.0  \n",
       "3         4/30/2021     7.0                2.0  \n",
       "4         4/30/2021    14.0                4.0  \n",
       "...             ...     ...                ...  \n",
       "675958          NaN     NaN                NaN  \n",
       "675959          NaN     NaN                NaN  \n",
       "675960          NaN     NaN                NaN  \n",
       "675961          NaN     NaN                NaN  \n",
       "675962          NaN     NaN                NaN  \n",
       "\n",
       "[675963 rows x 9 columns]"
      ]
     },
     "execution_count": 22,
     "metadata": {},
     "output_type": "execute_result"
    }
   ],
   "source": [
    "#Remove \"Status\" column from df_2021_05.\n",
    "df_2021_05 = df_2021_05.drop('Status', axis=1)\n",
    "df_2021_05"
   ]
  },
  {
   "cell_type": "code",
   "execution_count": 23,
   "id": "bbb59fc5",
   "metadata": {},
   "outputs": [],
   "source": [
    "# Drop the NaNs for df_2021_05.\n",
    "df_2021_05 = df_2021_05.dropna()"
   ]
  },
  {
   "cell_type": "markdown",
   "id": "946b6578",
   "metadata": {},
   "source": [
    "## Confirm Changes"
   ]
  },
  {
   "cell_type": "code",
   "execution_count": 24,
   "id": "24f52aa4",
   "metadata": {},
   "outputs": [
    {
     "data": {
      "text/html": [
       "<div>\n",
       "<style scoped>\n",
       "    .dataframe tbody tr th:only-of-type {\n",
       "        vertical-align: middle;\n",
       "    }\n",
       "\n",
       "    .dataframe tbody tr th {\n",
       "        vertical-align: top;\n",
       "    }\n",
       "\n",
       "    .dataframe thead th {\n",
       "        text-align: right;\n",
       "    }\n",
       "</style>\n",
       "<table border=\"1\" class=\"dataframe\">\n",
       "  <thead>\n",
       "    <tr style=\"text-align: right;\">\n",
       "      <th></th>\n",
       "      <th>Company Name</th>\n",
       "      <th>Ship Date</th>\n",
       "      <th>City</th>\n",
       "      <th>State</th>\n",
       "      <th>Zip</th>\n",
       "      <th>Shipping Service</th>\n",
       "      <th>Created Date</th>\n",
       "      <th>Weight</th>\n",
       "      <th>Item/Bottle Count</th>\n",
       "    </tr>\n",
       "  </thead>\n",
       "  <tbody>\n",
       "    <tr>\n",
       "      <th>12982</th>\n",
       "      <td>Ecom3</td>\n",
       "      <td>5/19/2021</td>\n",
       "      <td>Downingtown</td>\n",
       "      <td>PA</td>\n",
       "      <td>19335</td>\n",
       "      <td>UPS</td>\n",
       "      <td>5/15/2021</td>\n",
       "      <td>14.0</td>\n",
       "      <td>4.0</td>\n",
       "    </tr>\n",
       "    <tr>\n",
       "      <th>15857</th>\n",
       "      <td>Ecom3</td>\n",
       "      <td>5/21/2021</td>\n",
       "      <td>Chanhassen</td>\n",
       "      <td>MN</td>\n",
       "      <td>55317</td>\n",
       "      <td>UPS</td>\n",
       "      <td>5/20/2021</td>\n",
       "      <td>41.0</td>\n",
       "      <td>12.0</td>\n",
       "    </tr>\n",
       "    <tr>\n",
       "      <th>1280</th>\n",
       "      <td>Ecom3</td>\n",
       "      <td>5/4/2021</td>\n",
       "      <td>Marlboro</td>\n",
       "      <td>NJ</td>\n",
       "      <td>7746</td>\n",
       "      <td>UPS</td>\n",
       "      <td>5/4/2021</td>\n",
       "      <td>9.9</td>\n",
       "      <td>3.0</td>\n",
       "    </tr>\n",
       "    <tr>\n",
       "      <th>3928</th>\n",
       "      <td>Ecom3</td>\n",
       "      <td>5/11/2021</td>\n",
       "      <td>Edgewater</td>\n",
       "      <td>NJ</td>\n",
       "      <td>7020</td>\n",
       "      <td>UPS</td>\n",
       "      <td>5/10/2021</td>\n",
       "      <td>21.5</td>\n",
       "      <td>6.0</td>\n",
       "    </tr>\n",
       "    <tr>\n",
       "      <th>4576</th>\n",
       "      <td>Ecom3</td>\n",
       "      <td>5/12/2021</td>\n",
       "      <td>Barnstable</td>\n",
       "      <td>MA</td>\n",
       "      <td>2630</td>\n",
       "      <td>FEH</td>\n",
       "      <td>5/11/2021</td>\n",
       "      <td>41.0</td>\n",
       "      <td>12.0</td>\n",
       "    </tr>\n",
       "  </tbody>\n",
       "</table>\n",
       "</div>"
      ],
      "text/plain": [
       "      Company Name  Ship Date         City State    Zip Shipping Service  \\\n",
       "12982        Ecom3  5/19/2021  Downingtown    PA  19335              UPS   \n",
       "15857        Ecom3  5/21/2021   Chanhassen    MN  55317              UPS   \n",
       "1280         Ecom3   5/4/2021     Marlboro    NJ   7746              UPS   \n",
       "3928         Ecom3  5/11/2021    Edgewater    NJ   7020              UPS   \n",
       "4576         Ecom3  5/12/2021   Barnstable    MA   2630              FEH   \n",
       "\n",
       "      Created Date  Weight  Item/Bottle Count  \n",
       "12982    5/15/2021    14.0                4.0  \n",
       "15857    5/20/2021    41.0               12.0  \n",
       "1280      5/4/2021     9.9                3.0  \n",
       "3928     5/10/2021    21.5                6.0  \n",
       "4576     5/11/2021    41.0               12.0  "
      ]
     },
     "execution_count": 24,
     "metadata": {},
     "output_type": "execute_result"
    }
   ],
   "source": [
    "#See five random rows of data\n",
    "df_2021_05.sample(n=5)"
   ]
  },
  {
   "cell_type": "code",
   "execution_count": 25,
   "id": "a61f9697",
   "metadata": {},
   "outputs": [
    {
     "name": "stdout",
     "output_type": "stream",
     "text": [
      "Number of Rows:  18906\n",
      "Number of Columns:  9\n"
     ]
    }
   ],
   "source": [
    "#Determine total rows for df_2021_05.\n",
    "df_2021_05_rows = len(df_2021_05.axes[0])\n",
    "df_2021_05_cols = len(df_2021_05.axes[1])\n",
    "print(\"Number of Rows: \", df_2021_05_rows)\n",
    "print(\"Number of Columns: \", df_2021_05_cols)"
   ]
  },
  {
   "cell_type": "markdown",
   "id": "d997584e",
   "metadata": {},
   "source": [
    "## Export Cleaned df to .CSV"
   ]
  },
  {
   "cell_type": "code",
   "execution_count": 26,
   "id": "84bc21fc",
   "metadata": {},
   "outputs": [],
   "source": [
    "#Export df_2021_05 to .csv\n",
    "df_2021_05.to_csv('../cleaned_months_2021/Clean_2021_05.csv') "
   ]
  },
  {
   "cell_type": "code",
   "execution_count": null,
   "id": "22eef17a",
   "metadata": {},
   "outputs": [],
   "source": []
  }
 ],
 "metadata": {
  "kernelspec": {
   "display_name": "Python 3 (ipykernel)",
   "language": "python",
   "name": "python3"
  },
  "language_info": {
   "codemirror_mode": {
    "name": "ipython",
    "version": 3
   },
   "file_extension": ".py",
   "mimetype": "text/x-python",
   "name": "python",
   "nbconvert_exporter": "python",
   "pygments_lexer": "ipython3",
   "version": "3.7.13"
  }
 },
 "nbformat": 4,
 "nbformat_minor": 5
}
