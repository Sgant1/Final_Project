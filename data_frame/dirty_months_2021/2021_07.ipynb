{
 "cells": [
  {
   "cell_type": "code",
   "execution_count": 1,
   "id": "0ee3ff94",
   "metadata": {},
   "outputs": [],
   "source": [
    "#Pandas library to create DataFrames\n",
    "import pandas as pd\n",
    "#NumPy library for converting data types\n",
    "import numpy as np"
   ]
  },
  {
   "cell_type": "code",
   "execution_count": 2,
   "id": "43de2e17",
   "metadata": {},
   "outputs": [],
   "source": [
    "# Files to load\n",
    "load_2021_07 = \"../2021_Data/2021.07.csv\""
   ]
  },
  {
   "cell_type": "code",
   "execution_count": 3,
   "id": "0006005e",
   "metadata": {},
   "outputs": [
    {
     "data": {
      "text/html": [
       "<div>\n",
       "<style scoped>\n",
       "    .dataframe tbody tr th:only-of-type {\n",
       "        vertical-align: middle;\n",
       "    }\n",
       "\n",
       "    .dataframe tbody tr th {\n",
       "        vertical-align: top;\n",
       "    }\n",
       "\n",
       "    .dataframe thead th {\n",
       "        text-align: right;\n",
       "    }\n",
       "</style>\n",
       "<table border=\"1\" class=\"dataframe\">\n",
       "  <thead>\n",
       "    <tr style=\"text-align: right;\">\n",
       "      <th></th>\n",
       "      <th>Company Name</th>\n",
       "      <th>Status</th>\n",
       "      <th>Ship Date</th>\n",
       "      <th>City</th>\n",
       "      <th>State</th>\n",
       "      <th>Zip</th>\n",
       "      <th>Shipping Service</th>\n",
       "      <th>Created Date</th>\n",
       "      <th>Weight</th>\n",
       "      <th>Item/Bottle Count</th>\n",
       "    </tr>\n",
       "  </thead>\n",
       "  <tbody>\n",
       "    <tr>\n",
       "      <th>0</th>\n",
       "      <td>Ecom2</td>\n",
       "      <td>In Transit</td>\n",
       "      <td>7/26/21</td>\n",
       "      <td>Austin</td>\n",
       "      <td>TX</td>\n",
       "      <td>78738</td>\n",
       "      <td>FEH</td>\n",
       "      <td>7/26/21</td>\n",
       "      <td>7.0</td>\n",
       "      <td>2</td>\n",
       "    </tr>\n",
       "    <tr>\n",
       "      <th>1</th>\n",
       "      <td>Ecom2</td>\n",
       "      <td>In Transit</td>\n",
       "      <td>7/26/21</td>\n",
       "      <td>Raleigh</td>\n",
       "      <td>NC</td>\n",
       "      <td>27604</td>\n",
       "      <td>FEH</td>\n",
       "      <td>7/26/21</td>\n",
       "      <td>7.0</td>\n",
       "      <td>2</td>\n",
       "    </tr>\n",
       "    <tr>\n",
       "      <th>2</th>\n",
       "      <td>Ecom2</td>\n",
       "      <td>In Transit</td>\n",
       "      <td>7/26/21</td>\n",
       "      <td>Summerville</td>\n",
       "      <td>SC</td>\n",
       "      <td>29483</td>\n",
       "      <td>FEH</td>\n",
       "      <td>7/26/21</td>\n",
       "      <td>7.0</td>\n",
       "      <td>2</td>\n",
       "    </tr>\n",
       "    <tr>\n",
       "      <th>3</th>\n",
       "      <td>Ecom2</td>\n",
       "      <td>In Transit</td>\n",
       "      <td>7/26/21</td>\n",
       "      <td>Matthews</td>\n",
       "      <td>NC</td>\n",
       "      <td>28105</td>\n",
       "      <td>FXG</td>\n",
       "      <td>7/26/21</td>\n",
       "      <td>7.0</td>\n",
       "      <td>2</td>\n",
       "    </tr>\n",
       "    <tr>\n",
       "      <th>4</th>\n",
       "      <td>Ecom2</td>\n",
       "      <td>In Transit</td>\n",
       "      <td>7/26/21</td>\n",
       "      <td>Scottsdale</td>\n",
       "      <td>AZ</td>\n",
       "      <td>85251</td>\n",
       "      <td>UPS</td>\n",
       "      <td>7/26/21</td>\n",
       "      <td>7.0</td>\n",
       "      <td>2</td>\n",
       "    </tr>\n",
       "  </tbody>\n",
       "</table>\n",
       "</div>"
      ],
      "text/plain": [
       "  Company Name      Status Ship Date         City State    Zip  \\\n",
       "0        Ecom2  In Transit   7/26/21       Austin    TX  78738   \n",
       "1        Ecom2  In Transit   7/26/21      Raleigh    NC  27604   \n",
       "2        Ecom2  In Transit   7/26/21  Summerville    SC  29483   \n",
       "3        Ecom2  In Transit   7/26/21     Matthews    NC  28105   \n",
       "4        Ecom2  In Transit   7/26/21   Scottsdale    AZ  85251   \n",
       "\n",
       "  Shipping Service Created Date  Weight  Item/Bottle Count  \n",
       "0              FEH      7/26/21     7.0                  2  \n",
       "1              FEH      7/26/21     7.0                  2  \n",
       "2              FEH      7/26/21     7.0                  2  \n",
       "3              FXG      7/26/21     7.0                  2  \n",
       "4              UPS      7/26/21     7.0                  2  "
      ]
     },
     "execution_count": 3,
     "metadata": {},
     "output_type": "execute_result"
    }
   ],
   "source": [
    "# Read the July CSV into a DataFrame\n",
    "#Had to open each file in excel and save it as a .csv file instead of an .xlsm file in order for the encryption to be read properly.\n",
    "df_2021_07 = pd.read_csv(load_2021_07)\n",
    "df_2021_07.head()"
   ]
  },
  {
   "cell_type": "markdown",
   "id": "83dcaaf9",
   "metadata": {},
   "source": [
    "## Inspect the Data"
   ]
  },
  {
   "cell_type": "code",
   "execution_count": 4,
   "id": "57327ad0",
   "metadata": {},
   "outputs": [
    {
     "data": {
      "text/html": [
       "<div>\n",
       "<style scoped>\n",
       "    .dataframe tbody tr th:only-of-type {\n",
       "        vertical-align: middle;\n",
       "    }\n",
       "\n",
       "    .dataframe tbody tr th {\n",
       "        vertical-align: top;\n",
       "    }\n",
       "\n",
       "    .dataframe thead th {\n",
       "        text-align: right;\n",
       "    }\n",
       "</style>\n",
       "<table border=\"1\" class=\"dataframe\">\n",
       "  <thead>\n",
       "    <tr style=\"text-align: right;\">\n",
       "      <th></th>\n",
       "      <th>Company Name</th>\n",
       "      <th>Status</th>\n",
       "      <th>Ship Date</th>\n",
       "      <th>City</th>\n",
       "      <th>State</th>\n",
       "      <th>Zip</th>\n",
       "      <th>Shipping Service</th>\n",
       "      <th>Created Date</th>\n",
       "      <th>Weight</th>\n",
       "      <th>Item/Bottle Count</th>\n",
       "    </tr>\n",
       "  </thead>\n",
       "  <tbody>\n",
       "    <tr>\n",
       "      <th>5692</th>\n",
       "      <td>Ecom3</td>\n",
       "      <td>Shipped</td>\n",
       "      <td>7/7/21</td>\n",
       "      <td>New Castle</td>\n",
       "      <td>PA</td>\n",
       "      <td>16101</td>\n",
       "      <td>UPS</td>\n",
       "      <td>7/7/21</td>\n",
       "      <td>21.5</td>\n",
       "      <td>6</td>\n",
       "    </tr>\n",
       "    <tr>\n",
       "      <th>11519</th>\n",
       "      <td>Ecom1</td>\n",
       "      <td>In Transit</td>\n",
       "      <td>7/21/21</td>\n",
       "      <td>Williamsville</td>\n",
       "      <td>NY</td>\n",
       "      <td>14221</td>\n",
       "      <td>FEH</td>\n",
       "      <td>7/19/21</td>\n",
       "      <td>6.5</td>\n",
       "      <td>1</td>\n",
       "    </tr>\n",
       "    <tr>\n",
       "      <th>6518</th>\n",
       "      <td>Ecom3</td>\n",
       "      <td>In Transit</td>\n",
       "      <td>7/12/21</td>\n",
       "      <td>New York</td>\n",
       "      <td>NY</td>\n",
       "      <td>10011</td>\n",
       "      <td>FEH</td>\n",
       "      <td>7/11/21</td>\n",
       "      <td>21.5</td>\n",
       "      <td>6</td>\n",
       "    </tr>\n",
       "    <tr>\n",
       "      <th>9591</th>\n",
       "      <td>Ecom3</td>\n",
       "      <td>Delivered</td>\n",
       "      <td>7/30/21</td>\n",
       "      <td>Fort Washington</td>\n",
       "      <td>MD</td>\n",
       "      <td>20744</td>\n",
       "      <td>FEH</td>\n",
       "      <td>7/30/21</td>\n",
       "      <td>14.0</td>\n",
       "      <td>4</td>\n",
       "    </tr>\n",
       "    <tr>\n",
       "      <th>5264</th>\n",
       "      <td>Ecom3</td>\n",
       "      <td>In Transit</td>\n",
       "      <td>7/6/21</td>\n",
       "      <td>Holmes Beach</td>\n",
       "      <td>FL</td>\n",
       "      <td>34217</td>\n",
       "      <td>UPS</td>\n",
       "      <td>7/3/21</td>\n",
       "      <td>14.0</td>\n",
       "      <td>4</td>\n",
       "    </tr>\n",
       "  </tbody>\n",
       "</table>\n",
       "</div>"
      ],
      "text/plain": [
       "      Company Name      Status Ship Date             City State    Zip  \\\n",
       "5692         Ecom3     Shipped    7/7/21       New Castle    PA  16101   \n",
       "11519        Ecom1  In Transit   7/21/21    Williamsville    NY  14221   \n",
       "6518         Ecom3  In Transit   7/12/21         New York    NY  10011   \n",
       "9591         Ecom3   Delivered   7/30/21  Fort Washington    MD  20744   \n",
       "5264         Ecom3  In Transit    7/6/21     Holmes Beach    FL  34217   \n",
       "\n",
       "      Shipping Service Created Date  Weight  Item/Bottle Count  \n",
       "5692               UPS       7/7/21    21.5                  6  \n",
       "11519              FEH      7/19/21     6.5                  1  \n",
       "6518               FEH      7/11/21    21.5                  6  \n",
       "9591               FEH      7/30/21    14.0                  4  \n",
       "5264               UPS       7/3/21    14.0                  4  "
      ]
     },
     "execution_count": 4,
     "metadata": {},
     "output_type": "execute_result"
    }
   ],
   "source": [
    "#See five random rows of data\n",
    "df_2021_07.sample(n=5)"
   ]
  },
  {
   "cell_type": "code",
   "execution_count": 5,
   "id": "bc4ba2a9",
   "metadata": {},
   "outputs": [
    {
     "data": {
      "text/html": [
       "<div>\n",
       "<style scoped>\n",
       "    .dataframe tbody tr th:only-of-type {\n",
       "        vertical-align: middle;\n",
       "    }\n",
       "\n",
       "    .dataframe tbody tr th {\n",
       "        vertical-align: top;\n",
       "    }\n",
       "\n",
       "    .dataframe thead th {\n",
       "        text-align: right;\n",
       "    }\n",
       "</style>\n",
       "<table border=\"1\" class=\"dataframe\">\n",
       "  <thead>\n",
       "    <tr style=\"text-align: right;\">\n",
       "      <th></th>\n",
       "      <th>Company Name</th>\n",
       "      <th>Status</th>\n",
       "      <th>Ship Date</th>\n",
       "      <th>City</th>\n",
       "      <th>State</th>\n",
       "      <th>Zip</th>\n",
       "      <th>Shipping Service</th>\n",
       "      <th>Created Date</th>\n",
       "      <th>Weight</th>\n",
       "      <th>Item/Bottle Count</th>\n",
       "    </tr>\n",
       "  </thead>\n",
       "  <tbody>\n",
       "    <tr>\n",
       "      <th>12773</th>\n",
       "      <td>Ecom1</td>\n",
       "      <td>Delivered</td>\n",
       "      <td>7/30/21</td>\n",
       "      <td>Hermosa Beach</td>\n",
       "      <td>CA</td>\n",
       "      <td>90254</td>\n",
       "      <td>FEH</td>\n",
       "      <td>7/29/21</td>\n",
       "      <td>39.0</td>\n",
       "      <td>12</td>\n",
       "    </tr>\n",
       "    <tr>\n",
       "      <th>12774</th>\n",
       "      <td>Ecom1</td>\n",
       "      <td>In Transit</td>\n",
       "      <td>7/30/21</td>\n",
       "      <td>Ada</td>\n",
       "      <td>OK</td>\n",
       "      <td>74820</td>\n",
       "      <td>UPS</td>\n",
       "      <td>7/29/21</td>\n",
       "      <td>39.0</td>\n",
       "      <td>12</td>\n",
       "    </tr>\n",
       "    <tr>\n",
       "      <th>12775</th>\n",
       "      <td>Ecom1</td>\n",
       "      <td>Delivered</td>\n",
       "      <td>7/30/21</td>\n",
       "      <td>San Diego</td>\n",
       "      <td>CA</td>\n",
       "      <td>92103</td>\n",
       "      <td>FEH</td>\n",
       "      <td>7/30/21</td>\n",
       "      <td>14.0</td>\n",
       "      <td>4</td>\n",
       "    </tr>\n",
       "    <tr>\n",
       "      <th>12776</th>\n",
       "      <td>Ecom1</td>\n",
       "      <td>In Transit</td>\n",
       "      <td>7/30/21</td>\n",
       "      <td>DENVER</td>\n",
       "      <td>CO</td>\n",
       "      <td>80221</td>\n",
       "      <td>FEH</td>\n",
       "      <td>7/30/21</td>\n",
       "      <td>20.2</td>\n",
       "      <td>6</td>\n",
       "    </tr>\n",
       "    <tr>\n",
       "      <th>12777</th>\n",
       "      <td>Ecom1</td>\n",
       "      <td>Delivery Attempt</td>\n",
       "      <td>7/30/21</td>\n",
       "      <td>Tempe</td>\n",
       "      <td>AZ</td>\n",
       "      <td>85282</td>\n",
       "      <td>FEH</td>\n",
       "      <td>7/30/21</td>\n",
       "      <td>10.5</td>\n",
       "      <td>3</td>\n",
       "    </tr>\n",
       "  </tbody>\n",
       "</table>\n",
       "</div>"
      ],
      "text/plain": [
       "      Company Name            Status Ship Date           City State    Zip  \\\n",
       "12773        Ecom1         Delivered   7/30/21  Hermosa Beach    CA  90254   \n",
       "12774        Ecom1        In Transit   7/30/21            Ada    OK  74820   \n",
       "12775        Ecom1         Delivered   7/30/21      San Diego    CA  92103   \n",
       "12776        Ecom1        In Transit   7/30/21         DENVER    CO  80221   \n",
       "12777        Ecom1  Delivery Attempt   7/30/21          Tempe    AZ  85282   \n",
       "\n",
       "      Shipping Service Created Date  Weight  Item/Bottle Count  \n",
       "12773              FEH      7/29/21    39.0                 12  \n",
       "12774              UPS      7/29/21    39.0                 12  \n",
       "12775              FEH      7/30/21    14.0                  4  \n",
       "12776              FEH      7/30/21    20.2                  6  \n",
       "12777              FEH      7/30/21    10.5                  3  "
      ]
     },
     "execution_count": 5,
     "metadata": {},
     "output_type": "execute_result"
    }
   ],
   "source": [
    "#See the last rows of data\n",
    "df_2021_07.tail(5)"
   ]
  },
  {
   "cell_type": "code",
   "execution_count": 7,
   "id": "d7373d6d",
   "metadata": {},
   "outputs": [
    {
     "data": {
      "text/plain": [
       "Index(['Company Name', 'Status', 'Ship Date', 'City', 'State', 'Zip',\n",
       "       'Shipping Service', 'Created Date', 'Weight', 'Item/Bottle Count'],\n",
       "      dtype='object')"
      ]
     },
     "execution_count": 7,
     "metadata": {},
     "output_type": "execute_result"
    }
   ],
   "source": [
    "df_2021_07.columns"
   ]
  },
  {
   "cell_type": "code",
   "execution_count": 8,
   "id": "b8417480",
   "metadata": {},
   "outputs": [
    {
     "name": "stdout",
     "output_type": "stream",
     "text": [
      "Number of Rows:  12778\n",
      "Number of Columns:  10\n"
     ]
    }
   ],
   "source": [
    "#Determine total rows for df_2021_07.\n",
    "df_2021_07_rows = len(df_2021_07.axes[0])\n",
    "df_2021_07_cols = len(df_2021_07.axes[1])\n",
    "print(\"Number of Rows: \", df_2021_07_rows)\n",
    "print(\"Number of Columns: \", df_2021_07_cols)"
   ]
  },
  {
   "cell_type": "code",
   "execution_count": 9,
   "id": "dee72ae5",
   "metadata": {},
   "outputs": [
    {
     "data": {
      "text/plain": [
       "Company Name           0\n",
       "Status               116\n",
       "Ship Date              0\n",
       "City                   0\n",
       "State                  0\n",
       "Zip                    0\n",
       "Shipping Service       0\n",
       "Created Date         116\n",
       "Weight               116\n",
       "Item/Bottle Count      0\n",
       "dtype: int64"
      ]
     },
     "execution_count": 9,
     "metadata": {},
     "output_type": "execute_result"
    }
   ],
   "source": [
    "# Determine if there are any missing values in df_2021_07.\n",
    "df_2021_07.isnull().sum()"
   ]
  },
  {
   "cell_type": "code",
   "execution_count": 10,
   "id": "e4aa45ce",
   "metadata": {},
   "outputs": [
    {
     "data": {
      "text/plain": [
       "Company Name          object\n",
       "Status                object\n",
       "Ship Date             object\n",
       "City                  object\n",
       "State                 object\n",
       "Zip                   object\n",
       "Shipping Service      object\n",
       "Created Date          object\n",
       "Weight               float64\n",
       "Item/Bottle Count      int64\n",
       "dtype: object"
      ]
     },
     "execution_count": 10,
     "metadata": {},
     "output_type": "execute_result"
    }
   ],
   "source": [
    "# Determine data types for df_2021_07.\n",
    "df_2021_07.dtypes"
   ]
  },
  {
   "cell_type": "code",
   "execution_count": 11,
   "id": "ce126503",
   "metadata": {},
   "outputs": [
    {
     "data": {
      "text/plain": [
       "Ecom3      5307\n",
       "Ecom2      4068\n",
       "Ecom1      3092\n",
       "Winery1     154\n",
       "Winery3     116\n",
       "Winery2      41\n",
       "Name: Company Name, dtype: int64"
      ]
     },
     "execution_count": 11,
     "metadata": {},
     "output_type": "execute_result"
    }
   ],
   "source": [
    "df_2021_07['Company Name'].value_counts()"
   ]
  },
  {
   "cell_type": "code",
   "execution_count": 12,
   "id": "0a521509",
   "metadata": {},
   "outputs": [
    {
     "data": {
      "text/plain": [
       "7/21/21    2829\n",
       "7/22/21    2088\n",
       "7/6/21     1017\n",
       "7/26/21     628\n",
       "7/19/21     579\n",
       "7/2/21      542\n",
       "7/8/21      537\n",
       "7/12/21     524\n",
       "7/7/21      449\n",
       "7/23/21     423\n",
       "7/29/21     407\n",
       "7/13/21     355\n",
       "7/20/21     350\n",
       "7/1/21      337\n",
       "7/27/21     322\n",
       "7/16/21     282\n",
       "7/9/21      281\n",
       "7/15/21     226\n",
       "7/14/21     210\n",
       "7/30/21     209\n",
       "7/28/21     183\n",
       "Name: Ship Date, dtype: int64"
      ]
     },
     "execution_count": 12,
     "metadata": {},
     "output_type": "execute_result"
    }
   ],
   "source": [
    "df_2021_07['Ship Date'].value_counts()"
   ]
  },
  {
   "cell_type": "code",
   "execution_count": 13,
   "id": "b8789edb",
   "metadata": {},
   "outputs": [
    {
     "data": {
      "text/plain": [
       "In Transit           7989\n",
       "Shipped              3417\n",
       "Delivered            1074\n",
       "Carrier Exception     129\n",
       "Delivery Attempt       53\n",
       "Name: Status, dtype: int64"
      ]
     },
     "execution_count": 13,
     "metadata": {},
     "output_type": "execute_result"
    }
   ],
   "source": [
    "df_2021_07['Status'].value_counts()"
   ]
  },
  {
   "cell_type": "code",
   "execution_count": 14,
   "id": "5c24a22b",
   "metadata": {},
   "outputs": [
    {
     "data": {
      "text/plain": [
       "New York          239\n",
       "Chicago           176\n",
       "Brooklyn          133\n",
       "Los Angeles        98\n",
       "Philadelphia       91\n",
       "                 ... \n",
       "Murrells Inlet      1\n",
       "Dumfries            1\n",
       "Potomac Falls       1\n",
       "Fearrington         1\n",
       "Hermosa Beach       1\n",
       "Name: City, Length: 4062, dtype: int64"
      ]
     },
     "execution_count": 14,
     "metadata": {},
     "output_type": "execute_result"
    }
   ],
   "source": [
    "df_2021_07['City'].value_counts()"
   ]
  },
  {
   "cell_type": "code",
   "execution_count": 15,
   "id": "50ee4539",
   "metadata": {},
   "outputs": [
    {
     "data": {
      "text/plain": [
       "NY    1493\n",
       "CA    1421\n",
       "PA     938\n",
       "NJ     875\n",
       "FL     771\n",
       "TX     607\n",
       "MA     602\n",
       "IL     568\n",
       "MI     444\n",
       "VA     363\n",
       "OH     341\n",
       "GA     303\n",
       "CT     288\n",
       "WA     287\n",
       "NC     262\n",
       "MD     259\n",
       "CO     255\n",
       "MN     234\n",
       "IN     228\n",
       "WI     192\n",
       "TN     177\n",
       "OR     165\n",
       "AZ     145\n",
       "SC     143\n",
       "HI     116\n",
       "MO     114\n",
       "NH     101\n",
       "RI     100\n",
       "LA      95\n",
       "DC      88\n",
       "ME      78\n",
       "IA      67\n",
       "KS      64\n",
       "VT      60\n",
       "MT      57\n",
       "OK      52\n",
       "NV      52\n",
       "DE      46\n",
       "ID      41\n",
       "NM      40\n",
       "ND      38\n",
       "SD      35\n",
       "NE      33\n",
       "WV      30\n",
       "AR      30\n",
       "WY      28\n",
       "AK      23\n",
       "KY      17\n",
       "AL      12\n",
       "Name: State, dtype: int64"
      ]
     },
     "execution_count": 15,
     "metadata": {},
     "output_type": "execute_result"
    }
   ],
   "source": [
    "df_2021_07['State'].value_counts()"
   ]
  },
  {
   "cell_type": "code",
   "execution_count": 16,
   "id": "6a27c6dd",
   "metadata": {},
   "outputs": [
    {
     "data": {
      "text/plain": [
       "7302     24\n",
       "14221    20\n",
       "94558    20\n",
       "10025    19\n",
       "11201    19\n",
       "         ..\n",
       "5156      1\n",
       "27617     1\n",
       "19707     1\n",
       "23833     1\n",
       "74820     1\n",
       "Name: Zip, Length: 5881, dtype: int64"
      ]
     },
     "execution_count": 16,
     "metadata": {},
     "output_type": "execute_result"
    }
   ],
   "source": [
    "df_2021_07['Zip'].value_counts()"
   ]
  },
  {
   "cell_type": "code",
   "execution_count": 17,
   "id": "93a3d82a",
   "metadata": {},
   "outputs": [
    {
     "data": {
      "text/plain": [
       "UPS     6124\n",
       "FEH     5814\n",
       "FXG      644\n",
       "FEX       73\n",
       "UP1       40\n",
       "UP2       30\n",
       "WCU       25\n",
       "GSC       20\n",
       "AZS        5\n",
       "SELF       3\n",
       "Name: Shipping Service, dtype: int64"
      ]
     },
     "execution_count": 17,
     "metadata": {},
     "output_type": "execute_result"
    }
   ],
   "source": [
    "df_2021_07['Shipping Service'].value_counts()"
   ]
  },
  {
   "cell_type": "code",
   "execution_count": 18,
   "id": "f31c6641",
   "metadata": {},
   "outputs": [
    {
     "data": {
      "text/plain": [
       "7/20/21    4240\n",
       "7/1/21      576\n",
       "7/2/21      528\n",
       "7/21/21     490\n",
       "7/19/21     427\n",
       "7/26/21     420\n",
       "7/6/21      371\n",
       "7/5/21      353\n",
       "7/28/21     317\n",
       "7/22/21     312\n",
       "7/4/21      301\n",
       "7/18/21     300\n",
       "7/12/21     292\n",
       "7/16/21     290\n",
       "7/23/21     276\n",
       "7/25/21     272\n",
       "7/7/21      258\n",
       "7/15/21     256\n",
       "7/13/21     255\n",
       "7/8/21      254\n",
       "7/11/21     240\n",
       "7/29/21     228\n",
       "7/27/21     219\n",
       "7/14/21     205\n",
       "7/3/21      197\n",
       "7/9/21      191\n",
       "7/10/21     139\n",
       "6/30/21     135\n",
       "7/17/21     128\n",
       "7/24/21      81\n",
       "7/30/21      60\n",
       "6/28/21      27\n",
       "6/29/21      20\n",
       "6/21/21       2\n",
       "6/23/21       1\n",
       "6/25/21       1\n",
       "Name: Created Date, dtype: int64"
      ]
     },
     "execution_count": 18,
     "metadata": {},
     "output_type": "execute_result"
    }
   ],
   "source": [
    "df_2021_07['Created Date'].value_counts()\n",
    "#Ok to have dates from other months- Sometimes people will create an order and hold onto it until an adult is present to sign for delivery."
   ]
  },
  {
   "cell_type": "code",
   "execution_count": 19,
   "id": "8ebe2d26",
   "metadata": {},
   "outputs": [
    {
     "data": {
      "text/plain": [
       "7.00     4316\n",
       "21.50    2750\n",
       "39.00    1320\n",
       "10.50    1044\n",
       "20.20     670\n",
       "6.50      573\n",
       "41.00     498\n",
       "14.00     385\n",
       "9.90      265\n",
       "18.50     121\n",
       "27.00     117\n",
       "3.35      110\n",
       "29.00      90\n",
       "24.00      81\n",
       "30.00      45\n",
       "33.00      42\n",
       "26.00      42\n",
       "32.00      36\n",
       "35.00      36\n",
       "4.00       23\n",
       "36.00      17\n",
       "17.20      16\n",
       "44.00      15\n",
       "46.00      14\n",
       "38.00      13\n",
       "13.50       8\n",
       "37.00       3\n",
       "20.50       2\n",
       "19.20       2\n",
       "18.20       2\n",
       "13.00       1\n",
       "17.50       1\n",
       "17.00       1\n",
       "31.00       1\n",
       "23.00       1\n",
       "7.50        1\n",
       "Name: Weight, dtype: int64"
      ]
     },
     "execution_count": 19,
     "metadata": {},
     "output_type": "execute_result"
    }
   ],
   "source": [
    "df_2021_07['Weight'].value_counts()"
   ]
  },
  {
   "cell_type": "code",
   "execution_count": 20,
   "id": "356cd94a",
   "metadata": {},
   "outputs": [
    {
     "data": {
      "text/plain": [
       "2      4322\n",
       "6      3406\n",
       "12     1873\n",
       "3      1312\n",
       "1       741\n",
       "4       398\n",
       "8       207\n",
       "7       164\n",
       "5       137\n",
       "9        84\n",
       "10       79\n",
       "11       25\n",
       "13       15\n",
       "14        5\n",
       "18        3\n",
       "15        3\n",
       "16        1\n",
       "24        1\n",
       "180       1\n",
       "160       1\n",
       "Name: Item/Bottle Count, dtype: int64"
      ]
     },
     "execution_count": 20,
     "metadata": {},
     "output_type": "execute_result"
    }
   ],
   "source": [
    "df_2021_07['Item/Bottle Count'].value_counts()"
   ]
  },
  {
   "cell_type": "markdown",
   "id": "68f6fedc",
   "metadata": {},
   "source": [
    "## Clean the Data"
   ]
  },
  {
   "cell_type": "code",
   "execution_count": 21,
   "id": "7344c4a2",
   "metadata": {},
   "outputs": [
    {
     "data": {
      "text/plain": [
       "Company Name          object\n",
       "Status                object\n",
       "Ship Date             object\n",
       "City                  object\n",
       "State                 object\n",
       "Zip                   object\n",
       "Shipping Service      object\n",
       "Created Date          object\n",
       "Weight               float64\n",
       "Item/Bottle Count    float64\n",
       "dtype: object"
      ]
     },
     "execution_count": 21,
     "metadata": {},
     "output_type": "execute_result"
    }
   ],
   "source": [
    "#Change [\"Item/Bottle Count\"] to float64 type in df_2021_07.\n",
    "df_2021_07[\"Item/Bottle Count\"]=df_2021_07[\"Item/Bottle Count\"].astype(float)\n",
    "df_2021_07.dtypes"
   ]
  },
  {
   "cell_type": "code",
   "execution_count": 22,
   "id": "02ffce8c",
   "metadata": {},
   "outputs": [
    {
     "data": {
      "text/html": [
       "<div>\n",
       "<style scoped>\n",
       "    .dataframe tbody tr th:only-of-type {\n",
       "        vertical-align: middle;\n",
       "    }\n",
       "\n",
       "    .dataframe tbody tr th {\n",
       "        vertical-align: top;\n",
       "    }\n",
       "\n",
       "    .dataframe thead th {\n",
       "        text-align: right;\n",
       "    }\n",
       "</style>\n",
       "<table border=\"1\" class=\"dataframe\">\n",
       "  <thead>\n",
       "    <tr style=\"text-align: right;\">\n",
       "      <th></th>\n",
       "      <th>Company Name</th>\n",
       "      <th>Ship Date</th>\n",
       "      <th>City</th>\n",
       "      <th>State</th>\n",
       "      <th>Zip</th>\n",
       "      <th>Shipping Service</th>\n",
       "      <th>Created Date</th>\n",
       "      <th>Weight</th>\n",
       "      <th>Item/Bottle Count</th>\n",
       "    </tr>\n",
       "  </thead>\n",
       "  <tbody>\n",
       "    <tr>\n",
       "      <th>0</th>\n",
       "      <td>Ecom2</td>\n",
       "      <td>7/26/21</td>\n",
       "      <td>Austin</td>\n",
       "      <td>TX</td>\n",
       "      <td>78738</td>\n",
       "      <td>FEH</td>\n",
       "      <td>7/26/21</td>\n",
       "      <td>7.0</td>\n",
       "      <td>2.0</td>\n",
       "    </tr>\n",
       "    <tr>\n",
       "      <th>1</th>\n",
       "      <td>Ecom2</td>\n",
       "      <td>7/26/21</td>\n",
       "      <td>Raleigh</td>\n",
       "      <td>NC</td>\n",
       "      <td>27604</td>\n",
       "      <td>FEH</td>\n",
       "      <td>7/26/21</td>\n",
       "      <td>7.0</td>\n",
       "      <td>2.0</td>\n",
       "    </tr>\n",
       "    <tr>\n",
       "      <th>2</th>\n",
       "      <td>Ecom2</td>\n",
       "      <td>7/26/21</td>\n",
       "      <td>Summerville</td>\n",
       "      <td>SC</td>\n",
       "      <td>29483</td>\n",
       "      <td>FEH</td>\n",
       "      <td>7/26/21</td>\n",
       "      <td>7.0</td>\n",
       "      <td>2.0</td>\n",
       "    </tr>\n",
       "    <tr>\n",
       "      <th>3</th>\n",
       "      <td>Ecom2</td>\n",
       "      <td>7/26/21</td>\n",
       "      <td>Matthews</td>\n",
       "      <td>NC</td>\n",
       "      <td>28105</td>\n",
       "      <td>FXG</td>\n",
       "      <td>7/26/21</td>\n",
       "      <td>7.0</td>\n",
       "      <td>2.0</td>\n",
       "    </tr>\n",
       "    <tr>\n",
       "      <th>4</th>\n",
       "      <td>Ecom2</td>\n",
       "      <td>7/26/21</td>\n",
       "      <td>Scottsdale</td>\n",
       "      <td>AZ</td>\n",
       "      <td>85251</td>\n",
       "      <td>UPS</td>\n",
       "      <td>7/26/21</td>\n",
       "      <td>7.0</td>\n",
       "      <td>2.0</td>\n",
       "    </tr>\n",
       "    <tr>\n",
       "      <th>...</th>\n",
       "      <td>...</td>\n",
       "      <td>...</td>\n",
       "      <td>...</td>\n",
       "      <td>...</td>\n",
       "      <td>...</td>\n",
       "      <td>...</td>\n",
       "      <td>...</td>\n",
       "      <td>...</td>\n",
       "      <td>...</td>\n",
       "    </tr>\n",
       "    <tr>\n",
       "      <th>12773</th>\n",
       "      <td>Ecom1</td>\n",
       "      <td>7/30/21</td>\n",
       "      <td>Hermosa Beach</td>\n",
       "      <td>CA</td>\n",
       "      <td>90254</td>\n",
       "      <td>FEH</td>\n",
       "      <td>7/29/21</td>\n",
       "      <td>39.0</td>\n",
       "      <td>12.0</td>\n",
       "    </tr>\n",
       "    <tr>\n",
       "      <th>12774</th>\n",
       "      <td>Ecom1</td>\n",
       "      <td>7/30/21</td>\n",
       "      <td>Ada</td>\n",
       "      <td>OK</td>\n",
       "      <td>74820</td>\n",
       "      <td>UPS</td>\n",
       "      <td>7/29/21</td>\n",
       "      <td>39.0</td>\n",
       "      <td>12.0</td>\n",
       "    </tr>\n",
       "    <tr>\n",
       "      <th>12775</th>\n",
       "      <td>Ecom1</td>\n",
       "      <td>7/30/21</td>\n",
       "      <td>San Diego</td>\n",
       "      <td>CA</td>\n",
       "      <td>92103</td>\n",
       "      <td>FEH</td>\n",
       "      <td>7/30/21</td>\n",
       "      <td>14.0</td>\n",
       "      <td>4.0</td>\n",
       "    </tr>\n",
       "    <tr>\n",
       "      <th>12776</th>\n",
       "      <td>Ecom1</td>\n",
       "      <td>7/30/21</td>\n",
       "      <td>DENVER</td>\n",
       "      <td>CO</td>\n",
       "      <td>80221</td>\n",
       "      <td>FEH</td>\n",
       "      <td>7/30/21</td>\n",
       "      <td>20.2</td>\n",
       "      <td>6.0</td>\n",
       "    </tr>\n",
       "    <tr>\n",
       "      <th>12777</th>\n",
       "      <td>Ecom1</td>\n",
       "      <td>7/30/21</td>\n",
       "      <td>Tempe</td>\n",
       "      <td>AZ</td>\n",
       "      <td>85282</td>\n",
       "      <td>FEH</td>\n",
       "      <td>7/30/21</td>\n",
       "      <td>10.5</td>\n",
       "      <td>3.0</td>\n",
       "    </tr>\n",
       "  </tbody>\n",
       "</table>\n",
       "<p>12778 rows × 9 columns</p>\n",
       "</div>"
      ],
      "text/plain": [
       "      Company Name Ship Date           City State    Zip Shipping Service  \\\n",
       "0            Ecom2   7/26/21         Austin    TX  78738              FEH   \n",
       "1            Ecom2   7/26/21        Raleigh    NC  27604              FEH   \n",
       "2            Ecom2   7/26/21    Summerville    SC  29483              FEH   \n",
       "3            Ecom2   7/26/21       Matthews    NC  28105              FXG   \n",
       "4            Ecom2   7/26/21     Scottsdale    AZ  85251              UPS   \n",
       "...            ...       ...            ...   ...    ...              ...   \n",
       "12773        Ecom1   7/30/21  Hermosa Beach    CA  90254              FEH   \n",
       "12774        Ecom1   7/30/21            Ada    OK  74820              UPS   \n",
       "12775        Ecom1   7/30/21      San Diego    CA  92103              FEH   \n",
       "12776        Ecom1   7/30/21         DENVER    CO  80221              FEH   \n",
       "12777        Ecom1   7/30/21          Tempe    AZ  85282              FEH   \n",
       "\n",
       "      Created Date  Weight  Item/Bottle Count  \n",
       "0          7/26/21     7.0                2.0  \n",
       "1          7/26/21     7.0                2.0  \n",
       "2          7/26/21     7.0                2.0  \n",
       "3          7/26/21     7.0                2.0  \n",
       "4          7/26/21     7.0                2.0  \n",
       "...            ...     ...                ...  \n",
       "12773      7/29/21    39.0               12.0  \n",
       "12774      7/29/21    39.0               12.0  \n",
       "12775      7/30/21    14.0                4.0  \n",
       "12776      7/30/21    20.2                6.0  \n",
       "12777      7/30/21    10.5                3.0  \n",
       "\n",
       "[12778 rows x 9 columns]"
      ]
     },
     "execution_count": 22,
     "metadata": {},
     "output_type": "execute_result"
    }
   ],
   "source": [
    "#Remove \"Status\" column from df_2021_07.\n",
    "df_2021_07 = df_2021_07.drop('Status', axis=1)\n",
    "df_2021_07"
   ]
  },
  {
   "cell_type": "code",
   "execution_count": 23,
   "id": "bbb59fc5",
   "metadata": {},
   "outputs": [],
   "source": [
    "# Drop the NaNs for df_2021_07.\n",
    "df_2021_07 = df_2021_07.dropna()"
   ]
  },
  {
   "cell_type": "markdown",
   "id": "946b6578",
   "metadata": {},
   "source": [
    "## Confirm Changes"
   ]
  },
  {
   "cell_type": "code",
   "execution_count": 24,
   "id": "24f52aa4",
   "metadata": {},
   "outputs": [
    {
     "data": {
      "text/html": [
       "<div>\n",
       "<style scoped>\n",
       "    .dataframe tbody tr th:only-of-type {\n",
       "        vertical-align: middle;\n",
       "    }\n",
       "\n",
       "    .dataframe tbody tr th {\n",
       "        vertical-align: top;\n",
       "    }\n",
       "\n",
       "    .dataframe thead th {\n",
       "        text-align: right;\n",
       "    }\n",
       "</style>\n",
       "<table border=\"1\" class=\"dataframe\">\n",
       "  <thead>\n",
       "    <tr style=\"text-align: right;\">\n",
       "      <th></th>\n",
       "      <th>Company Name</th>\n",
       "      <th>Ship Date</th>\n",
       "      <th>City</th>\n",
       "      <th>State</th>\n",
       "      <th>Zip</th>\n",
       "      <th>Shipping Service</th>\n",
       "      <th>Created Date</th>\n",
       "      <th>Weight</th>\n",
       "      <th>Item/Bottle Count</th>\n",
       "    </tr>\n",
       "  </thead>\n",
       "  <tbody>\n",
       "    <tr>\n",
       "      <th>12233</th>\n",
       "      <td>Ecom1</td>\n",
       "      <td>7/27/21</td>\n",
       "      <td>Reader</td>\n",
       "      <td>WV</td>\n",
       "      <td>26167</td>\n",
       "      <td>FEH</td>\n",
       "      <td>7/26/21</td>\n",
       "      <td>20.2</td>\n",
       "      <td>6.0</td>\n",
       "    </tr>\n",
       "    <tr>\n",
       "      <th>6072</th>\n",
       "      <td>Ecom3</td>\n",
       "      <td>7/8/21</td>\n",
       "      <td>Honolulu</td>\n",
       "      <td>HI</td>\n",
       "      <td>96819</td>\n",
       "      <td>UPS</td>\n",
       "      <td>7/3/21</td>\n",
       "      <td>39.0</td>\n",
       "      <td>12.0</td>\n",
       "    </tr>\n",
       "    <tr>\n",
       "      <th>7738</th>\n",
       "      <td>Ecom3</td>\n",
       "      <td>7/19/21</td>\n",
       "      <td>MINNEAPOLIS</td>\n",
       "      <td>MN</td>\n",
       "      <td>55419</td>\n",
       "      <td>UPS</td>\n",
       "      <td>7/1/21</td>\n",
       "      <td>39.0</td>\n",
       "      <td>12.0</td>\n",
       "    </tr>\n",
       "    <tr>\n",
       "      <th>798</th>\n",
       "      <td>Ecom2</td>\n",
       "      <td>7/21/21</td>\n",
       "      <td>Haskell</td>\n",
       "      <td>NJ</td>\n",
       "      <td>7420</td>\n",
       "      <td>FEH</td>\n",
       "      <td>7/20/21</td>\n",
       "      <td>7.0</td>\n",
       "      <td>2.0</td>\n",
       "    </tr>\n",
       "    <tr>\n",
       "      <th>12692</th>\n",
       "      <td>Ecom1</td>\n",
       "      <td>7/30/21</td>\n",
       "      <td>Venice</td>\n",
       "      <td>FL</td>\n",
       "      <td>34285</td>\n",
       "      <td>FEH</td>\n",
       "      <td>7/29/21</td>\n",
       "      <td>39.0</td>\n",
       "      <td>12.0</td>\n",
       "    </tr>\n",
       "  </tbody>\n",
       "</table>\n",
       "</div>"
      ],
      "text/plain": [
       "      Company Name Ship Date         City State    Zip Shipping Service  \\\n",
       "12233        Ecom1   7/27/21       Reader    WV  26167              FEH   \n",
       "6072         Ecom3    7/8/21     Honolulu    HI  96819              UPS   \n",
       "7738         Ecom3   7/19/21  MINNEAPOLIS    MN  55419              UPS   \n",
       "798          Ecom2   7/21/21      Haskell    NJ   7420              FEH   \n",
       "12692        Ecom1   7/30/21       Venice    FL  34285              FEH   \n",
       "\n",
       "      Created Date  Weight  Item/Bottle Count  \n",
       "12233      7/26/21    20.2                6.0  \n",
       "6072        7/3/21    39.0               12.0  \n",
       "7738        7/1/21    39.0               12.0  \n",
       "798        7/20/21     7.0                2.0  \n",
       "12692      7/29/21    39.0               12.0  "
      ]
     },
     "execution_count": 24,
     "metadata": {},
     "output_type": "execute_result"
    }
   ],
   "source": [
    "#See five random rows of data\n",
    "df_2021_07.sample(n=5)"
   ]
  },
  {
   "cell_type": "code",
   "execution_count": 25,
   "id": "a61f9697",
   "metadata": {},
   "outputs": [
    {
     "name": "stdout",
     "output_type": "stream",
     "text": [
      "Number of Rows:  12662\n",
      "Number of Columns:  9\n"
     ]
    }
   ],
   "source": [
    "#Determine total rows for df_2021_07.\n",
    "df_2021_07_rows = len(df_2021_07.axes[0])\n",
    "df_2021_07_cols = len(df_2021_07.axes[1])\n",
    "print(\"Number of Rows: \", df_2021_07_rows)\n",
    "print(\"Number of Columns: \", df_2021_07_cols)"
   ]
  },
  {
   "cell_type": "markdown",
   "id": "d997584e",
   "metadata": {},
   "source": [
    "## Export Cleaned df to .CSV"
   ]
  },
  {
   "cell_type": "code",
   "execution_count": 26,
   "id": "84bc21fc",
   "metadata": {},
   "outputs": [],
   "source": [
    "#Export df_2021_07 to .csv\n",
    "df_2021_07.to_csv('../cleaned_months_2021/Clean_2021_07.csv') "
   ]
  },
  {
   "cell_type": "code",
   "execution_count": null,
   "id": "22eef17a",
   "metadata": {},
   "outputs": [],
   "source": []
  }
 ],
 "metadata": {
  "kernelspec": {
   "display_name": "Python 3 (ipykernel)",
   "language": "python",
   "name": "python3"
  },
  "language_info": {
   "codemirror_mode": {
    "name": "ipython",
    "version": 3
   },
   "file_extension": ".py",
   "mimetype": "text/x-python",
   "name": "python",
   "nbconvert_exporter": "python",
   "pygments_lexer": "ipython3",
   "version": "3.7.13"
  }
 },
 "nbformat": 4,
 "nbformat_minor": 5
}
