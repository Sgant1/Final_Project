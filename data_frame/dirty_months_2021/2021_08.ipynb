{
 "cells": [
  {
   "cell_type": "code",
   "execution_count": 1,
   "id": "0ee3ff94",
   "metadata": {},
   "outputs": [],
   "source": [
    "#Pandas library to create DataFrames\n",
    "import pandas as pd\n",
    "#NumPy library for converting data types\n",
    "import numpy as np"
   ]
  },
  {
   "cell_type": "code",
   "execution_count": 2,
   "id": "43de2e17",
   "metadata": {},
   "outputs": [],
   "source": [
    "# Files to load\n",
    "load_2021_08 = \"../../2021_Data/2021.08.csv\""
   ]
  },
  {
   "cell_type": "code",
   "execution_count": 4,
   "id": "0006005e",
   "metadata": {},
   "outputs": [
    {
     "data": {
      "text/html": [
       "<div>\n",
       "<style scoped>\n",
       "    .dataframe tbody tr th:only-of-type {\n",
       "        vertical-align: middle;\n",
       "    }\n",
       "\n",
       "    .dataframe tbody tr th {\n",
       "        vertical-align: top;\n",
       "    }\n",
       "\n",
       "    .dataframe thead th {\n",
       "        text-align: right;\n",
       "    }\n",
       "</style>\n",
       "<table border=\"1\" class=\"dataframe\">\n",
       "  <thead>\n",
       "    <tr style=\"text-align: right;\">\n",
       "      <th></th>\n",
       "      <th>Company Name</th>\n",
       "      <th>Status</th>\n",
       "      <th>Ship Date</th>\n",
       "      <th>City</th>\n",
       "      <th>State</th>\n",
       "      <th>Zip</th>\n",
       "      <th>Shipping Service</th>\n",
       "      <th>Created Date</th>\n",
       "      <th>Weight</th>\n",
       "      <th>Item/Bottle Count</th>\n",
       "    </tr>\n",
       "  </thead>\n",
       "  <tbody>\n",
       "    <tr>\n",
       "      <th>0</th>\n",
       "      <td>Winery3</td>\n",
       "      <td>In Transit</td>\n",
       "      <td>8/2/2021</td>\n",
       "      <td>Olympia</td>\n",
       "      <td>WA</td>\n",
       "      <td>98501</td>\n",
       "      <td>UPS</td>\n",
       "      <td>8/2/2021</td>\n",
       "      <td>3.0</td>\n",
       "      <td>1.0</td>\n",
       "    </tr>\n",
       "    <tr>\n",
       "      <th>1</th>\n",
       "      <td>Winery3</td>\n",
       "      <td>In Transit</td>\n",
       "      <td>8/2/2021</td>\n",
       "      <td>Houston</td>\n",
       "      <td>TX</td>\n",
       "      <td>77010</td>\n",
       "      <td>UP2</td>\n",
       "      <td>8/2/2021</td>\n",
       "      <td>36.0</td>\n",
       "      <td>12.0</td>\n",
       "    </tr>\n",
       "    <tr>\n",
       "      <th>2</th>\n",
       "      <td>Winery3</td>\n",
       "      <td>In Transit</td>\n",
       "      <td>8/2/2021</td>\n",
       "      <td>Denver</td>\n",
       "      <td>CO</td>\n",
       "      <td>802382933</td>\n",
       "      <td>UP2</td>\n",
       "      <td>8/2/2021</td>\n",
       "      <td>36.0</td>\n",
       "      <td>12.0</td>\n",
       "    </tr>\n",
       "    <tr>\n",
       "      <th>3</th>\n",
       "      <td>Winery3</td>\n",
       "      <td>In Transit</td>\n",
       "      <td>8/2/2021</td>\n",
       "      <td>Morgan City</td>\n",
       "      <td>LA</td>\n",
       "      <td>70380</td>\n",
       "      <td>UP2</td>\n",
       "      <td>8/2/2021</td>\n",
       "      <td>36.0</td>\n",
       "      <td>12.0</td>\n",
       "    </tr>\n",
       "    <tr>\n",
       "      <th>4</th>\n",
       "      <td>Winery3</td>\n",
       "      <td>In Transit</td>\n",
       "      <td>8/2/2021</td>\n",
       "      <td>Erieville</td>\n",
       "      <td>NY</td>\n",
       "      <td>13061</td>\n",
       "      <td>UP2</td>\n",
       "      <td>8/2/2021</td>\n",
       "      <td>36.0</td>\n",
       "      <td>12.0</td>\n",
       "    </tr>\n",
       "  </tbody>\n",
       "</table>\n",
       "</div>"
      ],
      "text/plain": [
       "  Company Name      Status Ship Date         City State        Zip  \\\n",
       "0      Winery3  In Transit  8/2/2021      Olympia    WA      98501   \n",
       "1      Winery3  In Transit  8/2/2021      Houston    TX      77010   \n",
       "2      Winery3  In Transit  8/2/2021       Denver    CO  802382933   \n",
       "3      Winery3  In Transit  8/2/2021  Morgan City    LA      70380   \n",
       "4      Winery3  In Transit  8/2/2021    Erieville    NY      13061   \n",
       "\n",
       "  Shipping Service Created Date  Weight  Item/Bottle Count  \n",
       "0              UPS     8/2/2021     3.0                1.0  \n",
       "1              UP2     8/2/2021    36.0               12.0  \n",
       "2              UP2     8/2/2021    36.0               12.0  \n",
       "3              UP2     8/2/2021    36.0               12.0  \n",
       "4              UP2     8/2/2021    36.0               12.0  "
      ]
     },
     "execution_count": 4,
     "metadata": {},
     "output_type": "execute_result"
    }
   ],
   "source": [
    "# Read the August CSV into a DataFrame\n",
    "#Had to open each file in excel and save it as a .csv file instead of an .xlsm file in order for the encryption to be read properly.\n",
    "df_2021_08 = pd.read_csv(load_2021_08, low_memory=False)\n",
    "df_2021_08.head()"
   ]
  },
  {
   "cell_type": "markdown",
   "id": "83dcaaf9",
   "metadata": {},
   "source": [
    "## Inspect the Data"
   ]
  },
  {
   "cell_type": "code",
   "execution_count": 5,
   "id": "57327ad0",
   "metadata": {},
   "outputs": [
    {
     "data": {
      "text/html": [
       "<div>\n",
       "<style scoped>\n",
       "    .dataframe tbody tr th:only-of-type {\n",
       "        vertical-align: middle;\n",
       "    }\n",
       "\n",
       "    .dataframe tbody tr th {\n",
       "        vertical-align: top;\n",
       "    }\n",
       "\n",
       "    .dataframe thead th {\n",
       "        text-align: right;\n",
       "    }\n",
       "</style>\n",
       "<table border=\"1\" class=\"dataframe\">\n",
       "  <thead>\n",
       "    <tr style=\"text-align: right;\">\n",
       "      <th></th>\n",
       "      <th>Company Name</th>\n",
       "      <th>Status</th>\n",
       "      <th>Ship Date</th>\n",
       "      <th>City</th>\n",
       "      <th>State</th>\n",
       "      <th>Zip</th>\n",
       "      <th>Shipping Service</th>\n",
       "      <th>Created Date</th>\n",
       "      <th>Weight</th>\n",
       "      <th>Item/Bottle Count</th>\n",
       "    </tr>\n",
       "  </thead>\n",
       "  <tbody>\n",
       "    <tr>\n",
       "      <th>618239</th>\n",
       "      <td>NaN</td>\n",
       "      <td>NaN</td>\n",
       "      <td>NaN</td>\n",
       "      <td>NaN</td>\n",
       "      <td>NaN</td>\n",
       "      <td>NaN</td>\n",
       "      <td>NaN</td>\n",
       "      <td>NaN</td>\n",
       "      <td>NaN</td>\n",
       "      <td>NaN</td>\n",
       "    </tr>\n",
       "    <tr>\n",
       "      <th>657979</th>\n",
       "      <td>NaN</td>\n",
       "      <td>NaN</td>\n",
       "      <td>NaN</td>\n",
       "      <td>NaN</td>\n",
       "      <td>NaN</td>\n",
       "      <td>NaN</td>\n",
       "      <td>NaN</td>\n",
       "      <td>NaN</td>\n",
       "      <td>NaN</td>\n",
       "      <td>NaN</td>\n",
       "    </tr>\n",
       "    <tr>\n",
       "      <th>513330</th>\n",
       "      <td>NaN</td>\n",
       "      <td>NaN</td>\n",
       "      <td>NaN</td>\n",
       "      <td>NaN</td>\n",
       "      <td>NaN</td>\n",
       "      <td>NaN</td>\n",
       "      <td>NaN</td>\n",
       "      <td>NaN</td>\n",
       "      <td>NaN</td>\n",
       "      <td>NaN</td>\n",
       "    </tr>\n",
       "    <tr>\n",
       "      <th>89677</th>\n",
       "      <td>NaN</td>\n",
       "      <td>NaN</td>\n",
       "      <td>NaN</td>\n",
       "      <td>NaN</td>\n",
       "      <td>NaN</td>\n",
       "      <td>NaN</td>\n",
       "      <td>NaN</td>\n",
       "      <td>NaN</td>\n",
       "      <td>NaN</td>\n",
       "      <td>NaN</td>\n",
       "    </tr>\n",
       "    <tr>\n",
       "      <th>594276</th>\n",
       "      <td>NaN</td>\n",
       "      <td>NaN</td>\n",
       "      <td>NaN</td>\n",
       "      <td>NaN</td>\n",
       "      <td>NaN</td>\n",
       "      <td>NaN</td>\n",
       "      <td>NaN</td>\n",
       "      <td>NaN</td>\n",
       "      <td>NaN</td>\n",
       "      <td>NaN</td>\n",
       "    </tr>\n",
       "  </tbody>\n",
       "</table>\n",
       "</div>"
      ],
      "text/plain": [
       "       Company Name Status Ship Date City State  Zip Shipping Service  \\\n",
       "618239          NaN    NaN       NaN  NaN   NaN  NaN              NaN   \n",
       "657979          NaN    NaN       NaN  NaN   NaN  NaN              NaN   \n",
       "513330          NaN    NaN       NaN  NaN   NaN  NaN              NaN   \n",
       "89677           NaN    NaN       NaN  NaN   NaN  NaN              NaN   \n",
       "594276          NaN    NaN       NaN  NaN   NaN  NaN              NaN   \n",
       "\n",
       "       Created Date  Weight  Item/Bottle Count  \n",
       "618239          NaN     NaN                NaN  \n",
       "657979          NaN     NaN                NaN  \n",
       "513330          NaN     NaN                NaN  \n",
       "89677           NaN     NaN                NaN  \n",
       "594276          NaN     NaN                NaN  "
      ]
     },
     "execution_count": 5,
     "metadata": {},
     "output_type": "execute_result"
    }
   ],
   "source": [
    "#See five random rows of data\n",
    "df_2021_08.sample(n=5)"
   ]
  },
  {
   "cell_type": "code",
   "execution_count": 6,
   "id": "bc4ba2a9",
   "metadata": {},
   "outputs": [
    {
     "data": {
      "text/html": [
       "<div>\n",
       "<style scoped>\n",
       "    .dataframe tbody tr th:only-of-type {\n",
       "        vertical-align: middle;\n",
       "    }\n",
       "\n",
       "    .dataframe tbody tr th {\n",
       "        vertical-align: top;\n",
       "    }\n",
       "\n",
       "    .dataframe thead th {\n",
       "        text-align: right;\n",
       "    }\n",
       "</style>\n",
       "<table border=\"1\" class=\"dataframe\">\n",
       "  <thead>\n",
       "    <tr style=\"text-align: right;\">\n",
       "      <th></th>\n",
       "      <th>Company Name</th>\n",
       "      <th>Status</th>\n",
       "      <th>Ship Date</th>\n",
       "      <th>City</th>\n",
       "      <th>State</th>\n",
       "      <th>Zip</th>\n",
       "      <th>Shipping Service</th>\n",
       "      <th>Created Date</th>\n",
       "      <th>Weight</th>\n",
       "      <th>Item/Bottle Count</th>\n",
       "    </tr>\n",
       "  </thead>\n",
       "  <tbody>\n",
       "    <tr>\n",
       "      <th>732457</th>\n",
       "      <td>NaN</td>\n",
       "      <td>NaN</td>\n",
       "      <td>NaN</td>\n",
       "      <td>NaN</td>\n",
       "      <td>NaN</td>\n",
       "      <td>NaN</td>\n",
       "      <td>NaN</td>\n",
       "      <td>NaN</td>\n",
       "      <td>NaN</td>\n",
       "      <td>NaN</td>\n",
       "    </tr>\n",
       "    <tr>\n",
       "      <th>732458</th>\n",
       "      <td>NaN</td>\n",
       "      <td>NaN</td>\n",
       "      <td>NaN</td>\n",
       "      <td>NaN</td>\n",
       "      <td>NaN</td>\n",
       "      <td>NaN</td>\n",
       "      <td>NaN</td>\n",
       "      <td>NaN</td>\n",
       "      <td>NaN</td>\n",
       "      <td>NaN</td>\n",
       "    </tr>\n",
       "    <tr>\n",
       "      <th>732459</th>\n",
       "      <td>NaN</td>\n",
       "      <td>NaN</td>\n",
       "      <td>NaN</td>\n",
       "      <td>NaN</td>\n",
       "      <td>NaN</td>\n",
       "      <td>NaN</td>\n",
       "      <td>NaN</td>\n",
       "      <td>NaN</td>\n",
       "      <td>NaN</td>\n",
       "      <td>NaN</td>\n",
       "    </tr>\n",
       "    <tr>\n",
       "      <th>732460</th>\n",
       "      <td>NaN</td>\n",
       "      <td>NaN</td>\n",
       "      <td>NaN</td>\n",
       "      <td>NaN</td>\n",
       "      <td>NaN</td>\n",
       "      <td>NaN</td>\n",
       "      <td>NaN</td>\n",
       "      <td>NaN</td>\n",
       "      <td>NaN</td>\n",
       "      <td>NaN</td>\n",
       "    </tr>\n",
       "    <tr>\n",
       "      <th>732461</th>\n",
       "      <td>NaN</td>\n",
       "      <td>NaN</td>\n",
       "      <td>NaN</td>\n",
       "      <td>NaN</td>\n",
       "      <td>NaN</td>\n",
       "      <td>NaN</td>\n",
       "      <td>NaN</td>\n",
       "      <td>NaN</td>\n",
       "      <td>NaN</td>\n",
       "      <td>NaN</td>\n",
       "    </tr>\n",
       "  </tbody>\n",
       "</table>\n",
       "</div>"
      ],
      "text/plain": [
       "       Company Name Status Ship Date City State  Zip Shipping Service  \\\n",
       "732457          NaN    NaN       NaN  NaN   NaN  NaN              NaN   \n",
       "732458          NaN    NaN       NaN  NaN   NaN  NaN              NaN   \n",
       "732459          NaN    NaN       NaN  NaN   NaN  NaN              NaN   \n",
       "732460          NaN    NaN       NaN  NaN   NaN  NaN              NaN   \n",
       "732461          NaN    NaN       NaN  NaN   NaN  NaN              NaN   \n",
       "\n",
       "       Created Date  Weight  Item/Bottle Count  \n",
       "732457          NaN     NaN                NaN  \n",
       "732458          NaN     NaN                NaN  \n",
       "732459          NaN     NaN                NaN  \n",
       "732460          NaN     NaN                NaN  \n",
       "732461          NaN     NaN                NaN  "
      ]
     },
     "execution_count": 6,
     "metadata": {},
     "output_type": "execute_result"
    }
   ],
   "source": [
    "#See the last rows of data\n",
    "df_2021_08.tail(5)"
   ]
  },
  {
   "cell_type": "code",
   "execution_count": 7,
   "id": "d7373d6d",
   "metadata": {},
   "outputs": [
    {
     "data": {
      "text/plain": [
       "Index(['Company Name', 'Status', 'Ship Date', 'City', 'State', 'Zip',\n",
       "       'Shipping Service', 'Created Date', 'Weight', 'Item/Bottle Count'],\n",
       "      dtype='object')"
      ]
     },
     "execution_count": 7,
     "metadata": {},
     "output_type": "execute_result"
    }
   ],
   "source": [
    "df_2021_08.columns"
   ]
  },
  {
   "cell_type": "code",
   "execution_count": 8,
   "id": "b8417480",
   "metadata": {},
   "outputs": [
    {
     "name": "stdout",
     "output_type": "stream",
     "text": [
      "Number of Rows:  732462\n",
      "Number of Columns:  10\n"
     ]
    }
   ],
   "source": [
    "#Determine total rows for df_2021_08.\n",
    "df_2021_08_rows = len(df_2021_08.axes[0])\n",
    "df_2021_08_cols = len(df_2021_08.axes[1])\n",
    "print(\"Number of Rows: \", df_2021_08_rows)\n",
    "print(\"Number of Columns: \", df_2021_08_cols)"
   ]
  },
  {
   "cell_type": "code",
   "execution_count": 9,
   "id": "dee72ae5",
   "metadata": {},
   "outputs": [
    {
     "data": {
      "text/plain": [
       "Company Name         719371\n",
       "Status               719398\n",
       "Ship Date            719371\n",
       "City                 719371\n",
       "State                719371\n",
       "Zip                  719371\n",
       "Shipping Service     719371\n",
       "Created Date         719398\n",
       "Weight               719398\n",
       "Item/Bottle Count    719371\n",
       "dtype: int64"
      ]
     },
     "execution_count": 9,
     "metadata": {},
     "output_type": "execute_result"
    }
   ],
   "source": [
    "# Determine if there are any missing values in df_2021_08.\n",
    "df_2021_08.isnull().sum()"
   ]
  },
  {
   "cell_type": "code",
   "execution_count": 10,
   "id": "33f708df",
   "metadata": {},
   "outputs": [],
   "source": [
    "#Surplus of null values due to data extraction from company. 13,064 rows of usable data."
   ]
  },
  {
   "cell_type": "code",
   "execution_count": 11,
   "id": "e4aa45ce",
   "metadata": {},
   "outputs": [
    {
     "data": {
      "text/plain": [
       "Company Name          object\n",
       "Status                object\n",
       "Ship Date             object\n",
       "City                  object\n",
       "State                 object\n",
       "Zip                   object\n",
       "Shipping Service      object\n",
       "Created Date          object\n",
       "Weight               float64\n",
       "Item/Bottle Count    float64\n",
       "dtype: object"
      ]
     },
     "execution_count": 11,
     "metadata": {},
     "output_type": "execute_result"
    }
   ],
   "source": [
    "# Determine data types for df_2021_08.\n",
    "df_2021_08.dtypes"
   ]
  },
  {
   "cell_type": "code",
   "execution_count": 12,
   "id": "ce126503",
   "metadata": {},
   "outputs": [
    {
     "data": {
      "text/plain": [
       "Ecom3      5595\n",
       "Ecom2      4246\n",
       "Ecom1      2997\n",
       "Winery1     125\n",
       "Winery2      92\n",
       "Winery3      36\n",
       "Name: Company Name, dtype: int64"
      ]
     },
     "execution_count": 12,
     "metadata": {},
     "output_type": "execute_result"
    }
   ],
   "source": [
    "df_2021_08['Company Name'].value_counts()"
   ]
  },
  {
   "cell_type": "code",
   "execution_count": 13,
   "id": "0a521509",
   "metadata": {},
   "outputs": [
    {
     "data": {
      "text/plain": [
       "8/18/2021    2870\n",
       "8/17/2021    1536\n",
       "8/16/2021     819\n",
       "8/19/2021     809\n",
       "8/24/2021     714\n",
       "8/31/2021     700\n",
       "8/23/2021     696\n",
       "8/2/2021      638\n",
       "8/9/2021      543\n",
       "8/12/2021     455\n",
       "8/30/2021     408\n",
       "8/25/2021     390\n",
       "8/5/2021      315\n",
       "8/3/2021      301\n",
       "8/13/2021     299\n",
       "8/10/2021     298\n",
       "8/6/2021      279\n",
       "8/20/2021     267\n",
       "8/27/2021     259\n",
       "8/4/2021      235\n",
       "8/26/2021     209\n",
       "8/11/2021      43\n",
       "8/14/2021       3\n",
       "8/22/2021       3\n",
       "8/7/2021        2\n",
       "Name: Ship Date, dtype: int64"
      ]
     },
     "execution_count": 13,
     "metadata": {},
     "output_type": "execute_result"
    }
   ],
   "source": [
    "df_2021_08['Ship Date'].value_counts()"
   ]
  },
  {
   "cell_type": "code",
   "execution_count": 14,
   "id": "b8789edb",
   "metadata": {},
   "outputs": [
    {
     "data": {
      "text/plain": [
       "In Transit           7582\n",
       "Shipped              5052\n",
       "Delivered             346\n",
       "Carrier Exception      75\n",
       "Delivery Attempt        9\n",
       "Name: Status, dtype: int64"
      ]
     },
     "execution_count": 14,
     "metadata": {},
     "output_type": "execute_result"
    }
   ],
   "source": [
    "df_2021_08['Status'].value_counts()"
   ]
  },
  {
   "cell_type": "code",
   "execution_count": 15,
   "id": "5c24a22b",
   "metadata": {},
   "outputs": [
    {
     "data": {
      "text/plain": [
       "New York        225\n",
       "Chicago         163\n",
       "Brooklyn        104\n",
       "Los Angeles     101\n",
       "Philadelphia     98\n",
       "               ... \n",
       "Wind Lake         1\n",
       "Mead              1\n",
       "Red Bluff         1\n",
       "Steelton          1\n",
       "PEARLAND          1\n",
       "Name: City, Length: 3973, dtype: int64"
      ]
     },
     "execution_count": 15,
     "metadata": {},
     "output_type": "execute_result"
    }
   ],
   "source": [
    "df_2021_08['City'].value_counts()"
   ]
  },
  {
   "cell_type": "code",
   "execution_count": 16,
   "id": "50ee4539",
   "metadata": {},
   "outputs": [
    {
     "data": {
      "text/plain": [
       "CA    1457\n",
       "NY    1344\n",
       "PA     918\n",
       "FL     816\n",
       "NJ     774\n",
       "TX     622\n",
       "IL     575\n",
       "OH     563\n",
       "MA     547\n",
       "CO     465\n",
       "MI     443\n",
       "MD     401\n",
       "VA     328\n",
       "GA     320\n",
       "NC     292\n",
       "CT     286\n",
       "WA     279\n",
       "TN     203\n",
       "MN     198\n",
       "IN     198\n",
       "WI     194\n",
       "MO     173\n",
       "HI     153\n",
       "OR     142\n",
       "AZ     139\n",
       "SC     133\n",
       "LA      89\n",
       "NH      84\n",
       "RI      84\n",
       "NE      83\n",
       "ME      81\n",
       "DC      72\n",
       "KS      70\n",
       "IA      56\n",
       "MT      51\n",
       "NV      49\n",
       "ID      49\n",
       "NM      46\n",
       "DE      42\n",
       "AR      40\n",
       "OK      38\n",
       "VT      32\n",
       "SD      30\n",
       "AK      28\n",
       "ND      26\n",
       "WY      24\n",
       "WV      24\n",
       "KY      15\n",
       "AL      15\n",
       "Name: State, dtype: int64"
      ]
     },
     "execution_count": 16,
     "metadata": {},
     "output_type": "execute_result"
    }
   ],
   "source": [
    "df_2021_08['State'].value_counts()"
   ]
  },
  {
   "cell_type": "code",
   "execution_count": 17,
   "id": "6a27c6dd",
   "metadata": {},
   "outputs": [
    {
     "data": {
      "text/plain": [
       "10019    25\n",
       "7302     22\n",
       "20815    19\n",
       "33156    19\n",
       "10025    17\n",
       "         ..\n",
       "56474     1\n",
       "7662      1\n",
       "5489      1\n",
       "43616     1\n",
       "27889     1\n",
       "Name: Zip, Length: 5863, dtype: int64"
      ]
     },
     "execution_count": 17,
     "metadata": {},
     "output_type": "execute_result"
    }
   ],
   "source": [
    "df_2021_08['Zip'].value_counts()"
   ]
  },
  {
   "cell_type": "code",
   "execution_count": 18,
   "id": "93a3d82a",
   "metadata": {},
   "outputs": [
    {
     "data": {
      "text/plain": [
       "UPS     6241\n",
       "FEH     5996\n",
       "FXG      645\n",
       "UP1       92\n",
       "FEX       84\n",
       "UP2       24\n",
       "GSC        7\n",
       "SELF       1\n",
       "AZS        1\n",
       "Name: Shipping Service, dtype: int64"
      ]
     },
     "execution_count": 18,
     "metadata": {},
     "output_type": "execute_result"
    }
   ],
   "source": [
    "df_2021_08['Shipping Service'].value_counts()"
   ]
  },
  {
   "cell_type": "code",
   "execution_count": 19,
   "id": "f31c6641",
   "metadata": {},
   "outputs": [
    {
     "data": {
      "text/plain": [
       "8/17/2021    4421\n",
       "8/16/2021     558\n",
       "8/23/2021     540\n",
       "8/24/2021     516\n",
       "8/22/2021     408\n",
       "8/29/2021     404\n",
       "8/28/2021     346\n",
       "8/13/2021     342\n",
       "8/10/2021     342\n",
       "8/20/2021     325\n",
       "8/15/2021     308\n",
       "8/1/2021      301\n",
       "8/6/2021      276\n",
       "8/26/2021     269\n",
       "8/2/2021      267\n",
       "8/5/2021      263\n",
       "8/11/2021     256\n",
       "8/18/2021     255\n",
       "8/9/2021      242\n",
       "8/12/2021     240\n",
       "8/4/2021      217\n",
       "7/30/2021     214\n",
       "8/14/2021     211\n",
       "8/8/2021      198\n",
       "8/27/2021     197\n",
       "8/19/2021     181\n",
       "7/31/2021     179\n",
       "8/30/2021     177\n",
       "8/25/2021     164\n",
       "8/3/2021      163\n",
       "8/21/2021     111\n",
       "8/7/2021      107\n",
       "8/31/2021      59\n",
       "7/26/2021       2\n",
       "7/24/2021       1\n",
       "7/28/2021       1\n",
       "7/29/2021       1\n",
       "7/22/2021       1\n",
       "7/23/2021       1\n",
       "Name: Created Date, dtype: int64"
      ]
     },
     "execution_count": 19,
     "metadata": {},
     "output_type": "execute_result"
    }
   ],
   "source": [
    "df_2021_08['Created Date'].value_counts()\n",
    "#Ok to have dates from other months- Sometimes people will create an order and hold onto it until an adult is present to sign for delivery."
   ]
  },
  {
   "cell_type": "code",
   "execution_count": 20,
   "id": "8ebe2d26",
   "metadata": {},
   "outputs": [
    {
     "data": {
      "text/plain": [
       "7.00     4547\n",
       "21.50    2882\n",
       "39.00    1486\n",
       "10.50     977\n",
       "20.20     686\n",
       "41.00     580\n",
       "14.00     347\n",
       "9.90      300\n",
       "6.50      268\n",
       "27.00     125\n",
       "8.00      116\n",
       "3.35      108\n",
       "29.00      84\n",
       "18.50      81\n",
       "5.50       68\n",
       "30.00      61\n",
       "32.00      60\n",
       "33.00      45\n",
       "24.00      43\n",
       "35.00      39\n",
       "26.00      34\n",
       "44.00      30\n",
       "4.00       26\n",
       "38.00      21\n",
       "36.00      19\n",
       "17.20      12\n",
       "13.50       4\n",
       "31.00       4\n",
       "46.00       2\n",
       "42.00       1\n",
       "12.00       1\n",
       "27.50       1\n",
       "13.00       1\n",
       "3.00        1\n",
       "18.20       1\n",
       "20.50       1\n",
       "18.00       1\n",
       "17.00       1\n",
       "Name: Weight, dtype: int64"
      ]
     },
     "execution_count": 20,
     "metadata": {},
     "output_type": "execute_result"
    }
   ],
   "source": [
    "df_2021_08['Weight'].value_counts()"
   ]
  },
  {
   "cell_type": "code",
   "execution_count": 21,
   "id": "356cd94a",
   "metadata": {},
   "outputs": [
    {
     "data": {
      "text/plain": [
       "2.0     4551\n",
       "6.0     3578\n",
       "12.0    2075\n",
       "3.0     1276\n",
       "1.0      622\n",
       "4.0      349\n",
       "8.0      210\n",
       "9.0      120\n",
       "5.0       93\n",
       "10.0      83\n",
       "7.0       77\n",
       "11.0      26\n",
       "13.0      16\n",
       "14.0       5\n",
       "24.0       5\n",
       "15.0       3\n",
       "16.0       2\n",
       "Name: Item/Bottle Count, dtype: int64"
      ]
     },
     "execution_count": 21,
     "metadata": {},
     "output_type": "execute_result"
    }
   ],
   "source": [
    "df_2021_08['Item/Bottle Count'].value_counts()"
   ]
  },
  {
   "cell_type": "markdown",
   "id": "68f6fedc",
   "metadata": {},
   "source": [
    "## Clean the Data"
   ]
  },
  {
   "cell_type": "code",
   "execution_count": 22,
   "id": "7344c4a2",
   "metadata": {},
   "outputs": [],
   "source": [
    "#Change dtypes if necessary"
   ]
  },
  {
   "cell_type": "code",
   "execution_count": 23,
   "id": "02ffce8c",
   "metadata": {},
   "outputs": [
    {
     "data": {
      "text/html": [
       "<div>\n",
       "<style scoped>\n",
       "    .dataframe tbody tr th:only-of-type {\n",
       "        vertical-align: middle;\n",
       "    }\n",
       "\n",
       "    .dataframe tbody tr th {\n",
       "        vertical-align: top;\n",
       "    }\n",
       "\n",
       "    .dataframe thead th {\n",
       "        text-align: right;\n",
       "    }\n",
       "</style>\n",
       "<table border=\"1\" class=\"dataframe\">\n",
       "  <thead>\n",
       "    <tr style=\"text-align: right;\">\n",
       "      <th></th>\n",
       "      <th>Company Name</th>\n",
       "      <th>Ship Date</th>\n",
       "      <th>City</th>\n",
       "      <th>State</th>\n",
       "      <th>Zip</th>\n",
       "      <th>Shipping Service</th>\n",
       "      <th>Created Date</th>\n",
       "      <th>Weight</th>\n",
       "      <th>Item/Bottle Count</th>\n",
       "    </tr>\n",
       "  </thead>\n",
       "  <tbody>\n",
       "    <tr>\n",
       "      <th>0</th>\n",
       "      <td>Winery3</td>\n",
       "      <td>8/2/2021</td>\n",
       "      <td>Olympia</td>\n",
       "      <td>WA</td>\n",
       "      <td>98501</td>\n",
       "      <td>UPS</td>\n",
       "      <td>8/2/2021</td>\n",
       "      <td>3.0</td>\n",
       "      <td>1.0</td>\n",
       "    </tr>\n",
       "    <tr>\n",
       "      <th>1</th>\n",
       "      <td>Winery3</td>\n",
       "      <td>8/2/2021</td>\n",
       "      <td>Houston</td>\n",
       "      <td>TX</td>\n",
       "      <td>77010</td>\n",
       "      <td>UP2</td>\n",
       "      <td>8/2/2021</td>\n",
       "      <td>36.0</td>\n",
       "      <td>12.0</td>\n",
       "    </tr>\n",
       "    <tr>\n",
       "      <th>2</th>\n",
       "      <td>Winery3</td>\n",
       "      <td>8/2/2021</td>\n",
       "      <td>Denver</td>\n",
       "      <td>CO</td>\n",
       "      <td>802382933</td>\n",
       "      <td>UP2</td>\n",
       "      <td>8/2/2021</td>\n",
       "      <td>36.0</td>\n",
       "      <td>12.0</td>\n",
       "    </tr>\n",
       "    <tr>\n",
       "      <th>3</th>\n",
       "      <td>Winery3</td>\n",
       "      <td>8/2/2021</td>\n",
       "      <td>Morgan City</td>\n",
       "      <td>LA</td>\n",
       "      <td>70380</td>\n",
       "      <td>UP2</td>\n",
       "      <td>8/2/2021</td>\n",
       "      <td>36.0</td>\n",
       "      <td>12.0</td>\n",
       "    </tr>\n",
       "    <tr>\n",
       "      <th>4</th>\n",
       "      <td>Winery3</td>\n",
       "      <td>8/2/2021</td>\n",
       "      <td>Erieville</td>\n",
       "      <td>NY</td>\n",
       "      <td>13061</td>\n",
       "      <td>UP2</td>\n",
       "      <td>8/2/2021</td>\n",
       "      <td>36.0</td>\n",
       "      <td>12.0</td>\n",
       "    </tr>\n",
       "    <tr>\n",
       "      <th>...</th>\n",
       "      <td>...</td>\n",
       "      <td>...</td>\n",
       "      <td>...</td>\n",
       "      <td>...</td>\n",
       "      <td>...</td>\n",
       "      <td>...</td>\n",
       "      <td>...</td>\n",
       "      <td>...</td>\n",
       "      <td>...</td>\n",
       "    </tr>\n",
       "    <tr>\n",
       "      <th>732457</th>\n",
       "      <td>NaN</td>\n",
       "      <td>NaN</td>\n",
       "      <td>NaN</td>\n",
       "      <td>NaN</td>\n",
       "      <td>NaN</td>\n",
       "      <td>NaN</td>\n",
       "      <td>NaN</td>\n",
       "      <td>NaN</td>\n",
       "      <td>NaN</td>\n",
       "    </tr>\n",
       "    <tr>\n",
       "      <th>732458</th>\n",
       "      <td>NaN</td>\n",
       "      <td>NaN</td>\n",
       "      <td>NaN</td>\n",
       "      <td>NaN</td>\n",
       "      <td>NaN</td>\n",
       "      <td>NaN</td>\n",
       "      <td>NaN</td>\n",
       "      <td>NaN</td>\n",
       "      <td>NaN</td>\n",
       "    </tr>\n",
       "    <tr>\n",
       "      <th>732459</th>\n",
       "      <td>NaN</td>\n",
       "      <td>NaN</td>\n",
       "      <td>NaN</td>\n",
       "      <td>NaN</td>\n",
       "      <td>NaN</td>\n",
       "      <td>NaN</td>\n",
       "      <td>NaN</td>\n",
       "      <td>NaN</td>\n",
       "      <td>NaN</td>\n",
       "    </tr>\n",
       "    <tr>\n",
       "      <th>732460</th>\n",
       "      <td>NaN</td>\n",
       "      <td>NaN</td>\n",
       "      <td>NaN</td>\n",
       "      <td>NaN</td>\n",
       "      <td>NaN</td>\n",
       "      <td>NaN</td>\n",
       "      <td>NaN</td>\n",
       "      <td>NaN</td>\n",
       "      <td>NaN</td>\n",
       "    </tr>\n",
       "    <tr>\n",
       "      <th>732461</th>\n",
       "      <td>NaN</td>\n",
       "      <td>NaN</td>\n",
       "      <td>NaN</td>\n",
       "      <td>NaN</td>\n",
       "      <td>NaN</td>\n",
       "      <td>NaN</td>\n",
       "      <td>NaN</td>\n",
       "      <td>NaN</td>\n",
       "      <td>NaN</td>\n",
       "    </tr>\n",
       "  </tbody>\n",
       "</table>\n",
       "<p>732462 rows × 9 columns</p>\n",
       "</div>"
      ],
      "text/plain": [
       "       Company Name Ship Date         City State        Zip Shipping Service  \\\n",
       "0           Winery3  8/2/2021      Olympia    WA      98501              UPS   \n",
       "1           Winery3  8/2/2021      Houston    TX      77010              UP2   \n",
       "2           Winery3  8/2/2021       Denver    CO  802382933              UP2   \n",
       "3           Winery3  8/2/2021  Morgan City    LA      70380              UP2   \n",
       "4           Winery3  8/2/2021    Erieville    NY      13061              UP2   \n",
       "...             ...       ...          ...   ...        ...              ...   \n",
       "732457          NaN       NaN          NaN   NaN        NaN              NaN   \n",
       "732458          NaN       NaN          NaN   NaN        NaN              NaN   \n",
       "732459          NaN       NaN          NaN   NaN        NaN              NaN   \n",
       "732460          NaN       NaN          NaN   NaN        NaN              NaN   \n",
       "732461          NaN       NaN          NaN   NaN        NaN              NaN   \n",
       "\n",
       "       Created Date  Weight  Item/Bottle Count  \n",
       "0          8/2/2021     3.0                1.0  \n",
       "1          8/2/2021    36.0               12.0  \n",
       "2          8/2/2021    36.0               12.0  \n",
       "3          8/2/2021    36.0               12.0  \n",
       "4          8/2/2021    36.0               12.0  \n",
       "...             ...     ...                ...  \n",
       "732457          NaN     NaN                NaN  \n",
       "732458          NaN     NaN                NaN  \n",
       "732459          NaN     NaN                NaN  \n",
       "732460          NaN     NaN                NaN  \n",
       "732461          NaN     NaN                NaN  \n",
       "\n",
       "[732462 rows x 9 columns]"
      ]
     },
     "execution_count": 23,
     "metadata": {},
     "output_type": "execute_result"
    }
   ],
   "source": [
    "#Remove \"Status\" column from df_2021_08.\n",
    "df_2021_08 = df_2021_08.drop('Status', axis=1)\n",
    "df_2021_08"
   ]
  },
  {
   "cell_type": "code",
   "execution_count": 24,
   "id": "bbb59fc5",
   "metadata": {},
   "outputs": [],
   "source": [
    "# Drop the NaNs for df_2021_08.\n",
    "df_2021_08 = df_2021_08.dropna()"
   ]
  },
  {
   "cell_type": "markdown",
   "id": "946b6578",
   "metadata": {},
   "source": [
    "## Confirm Changes"
   ]
  },
  {
   "cell_type": "code",
   "execution_count": 25,
   "id": "24f52aa4",
   "metadata": {},
   "outputs": [
    {
     "data": {
      "text/html": [
       "<div>\n",
       "<style scoped>\n",
       "    .dataframe tbody tr th:only-of-type {\n",
       "        vertical-align: middle;\n",
       "    }\n",
       "\n",
       "    .dataframe tbody tr th {\n",
       "        vertical-align: top;\n",
       "    }\n",
       "\n",
       "    .dataframe thead th {\n",
       "        text-align: right;\n",
       "    }\n",
       "</style>\n",
       "<table border=\"1\" class=\"dataframe\">\n",
       "  <thead>\n",
       "    <tr style=\"text-align: right;\">\n",
       "      <th></th>\n",
       "      <th>Company Name</th>\n",
       "      <th>Ship Date</th>\n",
       "      <th>City</th>\n",
       "      <th>State</th>\n",
       "      <th>Zip</th>\n",
       "      <th>Shipping Service</th>\n",
       "      <th>Created Date</th>\n",
       "      <th>Weight</th>\n",
       "      <th>Item/Bottle Count</th>\n",
       "    </tr>\n",
       "  </thead>\n",
       "  <tbody>\n",
       "    <tr>\n",
       "      <th>12521</th>\n",
       "      <td>Ecom1</td>\n",
       "      <td>8/31/2021</td>\n",
       "      <td>Watertown</td>\n",
       "      <td>MA</td>\n",
       "      <td>2472</td>\n",
       "      <td>FEH</td>\n",
       "      <td>8/30/2021</td>\n",
       "      <td>39.0</td>\n",
       "      <td>12.0</td>\n",
       "    </tr>\n",
       "    <tr>\n",
       "      <th>6788</th>\n",
       "      <td>Ecom2</td>\n",
       "      <td>8/18/2021</td>\n",
       "      <td>Marblehead</td>\n",
       "      <td>MA</td>\n",
       "      <td>1945</td>\n",
       "      <td>UPS</td>\n",
       "      <td>8/17/2021</td>\n",
       "      <td>7.0</td>\n",
       "      <td>2.0</td>\n",
       "    </tr>\n",
       "    <tr>\n",
       "      <th>6242</th>\n",
       "      <td>Ecom2</td>\n",
       "      <td>8/18/2021</td>\n",
       "      <td>San Jose</td>\n",
       "      <td>CA</td>\n",
       "      <td>95126</td>\n",
       "      <td>UPS</td>\n",
       "      <td>8/17/2021</td>\n",
       "      <td>7.0</td>\n",
       "      <td>2.0</td>\n",
       "    </tr>\n",
       "    <tr>\n",
       "      <th>9966</th>\n",
       "      <td>Ecom3</td>\n",
       "      <td>8/23/2021</td>\n",
       "      <td>Hampden</td>\n",
       "      <td>ME</td>\n",
       "      <td>4444</td>\n",
       "      <td>UPS</td>\n",
       "      <td>8/20/2021</td>\n",
       "      <td>41.0</td>\n",
       "      <td>12.0</td>\n",
       "    </tr>\n",
       "    <tr>\n",
       "      <th>8137</th>\n",
       "      <td>Ecom2</td>\n",
       "      <td>8/18/2021</td>\n",
       "      <td>Los Angeles</td>\n",
       "      <td>CA</td>\n",
       "      <td>90034</td>\n",
       "      <td>UPS</td>\n",
       "      <td>8/17/2021</td>\n",
       "      <td>7.0</td>\n",
       "      <td>2.0</td>\n",
       "    </tr>\n",
       "  </tbody>\n",
       "</table>\n",
       "</div>"
      ],
      "text/plain": [
       "      Company Name  Ship Date         City State    Zip Shipping Service  \\\n",
       "12521        Ecom1  8/31/2021    Watertown    MA   2472              FEH   \n",
       "6788         Ecom2  8/18/2021   Marblehead    MA   1945              UPS   \n",
       "6242         Ecom2  8/18/2021     San Jose    CA  95126              UPS   \n",
       "9966         Ecom3  8/23/2021      Hampden    ME   4444              UPS   \n",
       "8137         Ecom2  8/18/2021  Los Angeles    CA  90034              UPS   \n",
       "\n",
       "      Created Date  Weight  Item/Bottle Count  \n",
       "12521    8/30/2021    39.0               12.0  \n",
       "6788     8/17/2021     7.0                2.0  \n",
       "6242     8/17/2021     7.0                2.0  \n",
       "9966     8/20/2021    41.0               12.0  \n",
       "8137     8/17/2021     7.0                2.0  "
      ]
     },
     "execution_count": 25,
     "metadata": {},
     "output_type": "execute_result"
    }
   ],
   "source": [
    "#See five random rows of data\n",
    "df_2021_08.sample(n=5)"
   ]
  },
  {
   "cell_type": "code",
   "execution_count": 26,
   "id": "a61f9697",
   "metadata": {},
   "outputs": [
    {
     "name": "stdout",
     "output_type": "stream",
     "text": [
      "Number of Rows:  13064\n",
      "Number of Columns:  9\n"
     ]
    }
   ],
   "source": [
    "#Determine total rows for df_2021_08.\n",
    "df_2021_08_rows = len(df_2021_08.axes[0])\n",
    "df_2021_08_cols = len(df_2021_08.axes[1])\n",
    "print(\"Number of Rows: \", df_2021_08_rows)\n",
    "print(\"Number of Columns: \", df_2021_08_cols)"
   ]
  },
  {
   "cell_type": "markdown",
   "id": "d997584e",
   "metadata": {},
   "source": [
    "## Export Cleaned df to .CSV"
   ]
  },
  {
   "cell_type": "code",
   "execution_count": 27,
   "id": "84bc21fc",
   "metadata": {},
   "outputs": [],
   "source": [
    "#Export df_2021_08 to .csv\n",
    "df_2021_08.to_csv('../cleaned_months_2021/Clean_2021_08.csv') "
   ]
  },
  {
   "cell_type": "code",
   "execution_count": null,
   "id": "22eef17a",
   "metadata": {},
   "outputs": [],
   "source": []
  }
 ],
 "metadata": {
  "kernelspec": {
   "display_name": "Python 3 (ipykernel)",
   "language": "python",
   "name": "python3"
  },
  "language_info": {
   "codemirror_mode": {
    "name": "ipython",
    "version": 3
   },
   "file_extension": ".py",
   "mimetype": "text/x-python",
   "name": "python",
   "nbconvert_exporter": "python",
   "pygments_lexer": "ipython3",
   "version": "3.7.13"
  }
 },
 "nbformat": 4,
 "nbformat_minor": 5
}
