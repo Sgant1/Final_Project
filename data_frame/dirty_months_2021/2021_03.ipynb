{
 "cells": [
  {
   "cell_type": "code",
   "execution_count": 1,
   "id": "0ee3ff94",
   "metadata": {},
   "outputs": [],
   "source": [
    "#Pandas library to create DataFrames\n",
    "import pandas as pd\n",
    "#NumPy library for converting data types\n",
    "import numpy as np"
   ]
  },
  {
   "cell_type": "code",
   "execution_count": 2,
   "id": "43de2e17",
   "metadata": {},
   "outputs": [],
   "source": [
    "# Files to load\n",
    "load_2021_03 = \"../2021_Data/2021.03.csv\""
   ]
  },
  {
   "cell_type": "code",
   "execution_count": 3,
   "id": "0006005e",
   "metadata": {},
   "outputs": [
    {
     "data": {
      "text/html": [
       "<div>\n",
       "<style scoped>\n",
       "    .dataframe tbody tr th:only-of-type {\n",
       "        vertical-align: middle;\n",
       "    }\n",
       "\n",
       "    .dataframe tbody tr th {\n",
       "        vertical-align: top;\n",
       "    }\n",
       "\n",
       "    .dataframe thead th {\n",
       "        text-align: right;\n",
       "    }\n",
       "</style>\n",
       "<table border=\"1\" class=\"dataframe\">\n",
       "  <thead>\n",
       "    <tr style=\"text-align: right;\">\n",
       "      <th></th>\n",
       "      <th>Company Name</th>\n",
       "      <th>Status</th>\n",
       "      <th>Ship Date</th>\n",
       "      <th>City</th>\n",
       "      <th>State</th>\n",
       "      <th>Zip</th>\n",
       "      <th>Shipping Service</th>\n",
       "      <th>Created Date</th>\n",
       "      <th>Weight</th>\n",
       "      <th>Item/Bottle Count</th>\n",
       "    </tr>\n",
       "  </thead>\n",
       "  <tbody>\n",
       "    <tr>\n",
       "      <th>0</th>\n",
       "      <td>Ecom1</td>\n",
       "      <td>Delivered</td>\n",
       "      <td>3/2/21</td>\n",
       "      <td>Lansdale</td>\n",
       "      <td>PA</td>\n",
       "      <td>19446</td>\n",
       "      <td>FEH</td>\n",
       "      <td>3/2/21</td>\n",
       "      <td>20.2</td>\n",
       "      <td>6.0</td>\n",
       "    </tr>\n",
       "    <tr>\n",
       "      <th>1</th>\n",
       "      <td>Ecom1</td>\n",
       "      <td>Delivered</td>\n",
       "      <td>3/3/21</td>\n",
       "      <td>Prescott</td>\n",
       "      <td>AZ</td>\n",
       "      <td>86301</td>\n",
       "      <td>FEH</td>\n",
       "      <td>2/24/21</td>\n",
       "      <td>20.2</td>\n",
       "      <td>6.0</td>\n",
       "    </tr>\n",
       "    <tr>\n",
       "      <th>2</th>\n",
       "      <td>Ecom1</td>\n",
       "      <td>Delivered</td>\n",
       "      <td>3/1/21</td>\n",
       "      <td>Fairhope</td>\n",
       "      <td>AL</td>\n",
       "      <td>36532</td>\n",
       "      <td>UPS</td>\n",
       "      <td>2/24/21</td>\n",
       "      <td>20.2</td>\n",
       "      <td>6.0</td>\n",
       "    </tr>\n",
       "    <tr>\n",
       "      <th>3</th>\n",
       "      <td>Ecom1</td>\n",
       "      <td>Delivered</td>\n",
       "      <td>3/3/21</td>\n",
       "      <td>San Diego</td>\n",
       "      <td>CA</td>\n",
       "      <td>92105</td>\n",
       "      <td>FEH</td>\n",
       "      <td>2/25/21</td>\n",
       "      <td>6.5</td>\n",
       "      <td>1.0</td>\n",
       "    </tr>\n",
       "    <tr>\n",
       "      <th>4</th>\n",
       "      <td>Ecom1</td>\n",
       "      <td>Delivered</td>\n",
       "      <td>3/3/21</td>\n",
       "      <td>Carlsbad</td>\n",
       "      <td>CA</td>\n",
       "      <td>92011</td>\n",
       "      <td>FEH</td>\n",
       "      <td>2/25/21</td>\n",
       "      <td>6.5</td>\n",
       "      <td>1.0</td>\n",
       "    </tr>\n",
       "  </tbody>\n",
       "</table>\n",
       "</div>"
      ],
      "text/plain": [
       "  Company Name     Status Ship Date       City State    Zip Shipping Service  \\\n",
       "0        Ecom1  Delivered    3/2/21   Lansdale    PA  19446              FEH   \n",
       "1        Ecom1  Delivered    3/3/21   Prescott    AZ  86301              FEH   \n",
       "2        Ecom1  Delivered    3/1/21   Fairhope    AL  36532              UPS   \n",
       "3        Ecom1  Delivered    3/3/21  San Diego    CA  92105              FEH   \n",
       "4        Ecom1  Delivered    3/3/21   Carlsbad    CA  92011              FEH   \n",
       "\n",
       "  Created Date  Weight  Item/Bottle Count  \n",
       "0       3/2/21    20.2                6.0  \n",
       "1      2/24/21    20.2                6.0  \n",
       "2      2/24/21    20.2                6.0  \n",
       "3      2/25/21     6.5                1.0  \n",
       "4      2/25/21     6.5                1.0  "
      ]
     },
     "execution_count": 3,
     "metadata": {},
     "output_type": "execute_result"
    }
   ],
   "source": [
    "# Read the March CSV into a DataFrame\n",
    "#Had to open each file in excel and save it as a .csv file instead of an .xlsm file in order for the encryption to be read properly.\n",
    "df_2021_03 = pd.read_csv(load_2021_03, low_memory=False)\n",
    "df_2021_03.head()"
   ]
  },
  {
   "cell_type": "markdown",
   "id": "83dcaaf9",
   "metadata": {},
   "source": [
    "## Inspect the Data"
   ]
  },
  {
   "cell_type": "code",
   "execution_count": 4,
   "id": "57327ad0",
   "metadata": {},
   "outputs": [
    {
     "data": {
      "text/html": [
       "<div>\n",
       "<style scoped>\n",
       "    .dataframe tbody tr th:only-of-type {\n",
       "        vertical-align: middle;\n",
       "    }\n",
       "\n",
       "    .dataframe tbody tr th {\n",
       "        vertical-align: top;\n",
       "    }\n",
       "\n",
       "    .dataframe thead th {\n",
       "        text-align: right;\n",
       "    }\n",
       "</style>\n",
       "<table border=\"1\" class=\"dataframe\">\n",
       "  <thead>\n",
       "    <tr style=\"text-align: right;\">\n",
       "      <th></th>\n",
       "      <th>Company Name</th>\n",
       "      <th>Status</th>\n",
       "      <th>Ship Date</th>\n",
       "      <th>City</th>\n",
       "      <th>State</th>\n",
       "      <th>Zip</th>\n",
       "      <th>Shipping Service</th>\n",
       "      <th>Created Date</th>\n",
       "      <th>Weight</th>\n",
       "      <th>Item/Bottle Count</th>\n",
       "    </tr>\n",
       "  </thead>\n",
       "  <tbody>\n",
       "    <tr>\n",
       "      <th>594925</th>\n",
       "      <td>NaN</td>\n",
       "      <td>NaN</td>\n",
       "      <td>NaN</td>\n",
       "      <td>NaN</td>\n",
       "      <td>NaN</td>\n",
       "      <td>NaN</td>\n",
       "      <td>NaN</td>\n",
       "      <td>NaN</td>\n",
       "      <td>NaN</td>\n",
       "      <td>NaN</td>\n",
       "    </tr>\n",
       "    <tr>\n",
       "      <th>14372</th>\n",
       "      <td>Ecom2</td>\n",
       "      <td>Shipped</td>\n",
       "      <td>3/19/21</td>\n",
       "      <td>The Villages</td>\n",
       "      <td>FL</td>\n",
       "      <td>32163</td>\n",
       "      <td>FEH</td>\n",
       "      <td>3/17/21</td>\n",
       "      <td>7.0</td>\n",
       "      <td>2.0</td>\n",
       "    </tr>\n",
       "    <tr>\n",
       "      <th>57395</th>\n",
       "      <td>NaN</td>\n",
       "      <td>NaN</td>\n",
       "      <td>NaN</td>\n",
       "      <td>NaN</td>\n",
       "      <td>NaN</td>\n",
       "      <td>NaN</td>\n",
       "      <td>NaN</td>\n",
       "      <td>NaN</td>\n",
       "      <td>NaN</td>\n",
       "      <td>NaN</td>\n",
       "    </tr>\n",
       "    <tr>\n",
       "      <th>560842</th>\n",
       "      <td>NaN</td>\n",
       "      <td>NaN</td>\n",
       "      <td>NaN</td>\n",
       "      <td>NaN</td>\n",
       "      <td>NaN</td>\n",
       "      <td>NaN</td>\n",
       "      <td>NaN</td>\n",
       "      <td>NaN</td>\n",
       "      <td>NaN</td>\n",
       "      <td>NaN</td>\n",
       "    </tr>\n",
       "    <tr>\n",
       "      <th>174931</th>\n",
       "      <td>NaN</td>\n",
       "      <td>NaN</td>\n",
       "      <td>NaN</td>\n",
       "      <td>NaN</td>\n",
       "      <td>NaN</td>\n",
       "      <td>NaN</td>\n",
       "      <td>NaN</td>\n",
       "      <td>NaN</td>\n",
       "      <td>NaN</td>\n",
       "      <td>NaN</td>\n",
       "    </tr>\n",
       "  </tbody>\n",
       "</table>\n",
       "</div>"
      ],
      "text/plain": [
       "       Company Name   Status Ship Date          City State    Zip  \\\n",
       "594925          NaN      NaN       NaN           NaN   NaN    NaN   \n",
       "14372         Ecom2  Shipped   3/19/21  The Villages    FL  32163   \n",
       "57395           NaN      NaN       NaN           NaN   NaN    NaN   \n",
       "560842          NaN      NaN       NaN           NaN   NaN    NaN   \n",
       "174931          NaN      NaN       NaN           NaN   NaN    NaN   \n",
       "\n",
       "       Shipping Service Created Date  Weight  Item/Bottle Count  \n",
       "594925              NaN          NaN     NaN                NaN  \n",
       "14372               FEH      3/17/21     7.0                2.0  \n",
       "57395               NaN          NaN     NaN                NaN  \n",
       "560842              NaN          NaN     NaN                NaN  \n",
       "174931              NaN          NaN     NaN                NaN  "
      ]
     },
     "execution_count": 4,
     "metadata": {},
     "output_type": "execute_result"
    }
   ],
   "source": [
    "#See five random rows of data\n",
    "df_2021_03.sample(n=5)"
   ]
  },
  {
   "cell_type": "code",
   "execution_count": 5,
   "id": "bc4ba2a9",
   "metadata": {},
   "outputs": [
    {
     "data": {
      "text/html": [
       "<div>\n",
       "<style scoped>\n",
       "    .dataframe tbody tr th:only-of-type {\n",
       "        vertical-align: middle;\n",
       "    }\n",
       "\n",
       "    .dataframe tbody tr th {\n",
       "        vertical-align: top;\n",
       "    }\n",
       "\n",
       "    .dataframe thead th {\n",
       "        text-align: right;\n",
       "    }\n",
       "</style>\n",
       "<table border=\"1\" class=\"dataframe\">\n",
       "  <thead>\n",
       "    <tr style=\"text-align: right;\">\n",
       "      <th></th>\n",
       "      <th>Company Name</th>\n",
       "      <th>Status</th>\n",
       "      <th>Ship Date</th>\n",
       "      <th>City</th>\n",
       "      <th>State</th>\n",
       "      <th>Zip</th>\n",
       "      <th>Shipping Service</th>\n",
       "      <th>Created Date</th>\n",
       "      <th>Weight</th>\n",
       "      <th>Item/Bottle Count</th>\n",
       "    </tr>\n",
       "  </thead>\n",
       "  <tbody>\n",
       "    <tr>\n",
       "      <th>601529</th>\n",
       "      <td>NaN</td>\n",
       "      <td>NaN</td>\n",
       "      <td>NaN</td>\n",
       "      <td>NaN</td>\n",
       "      <td>NaN</td>\n",
       "      <td>NaN</td>\n",
       "      <td>NaN</td>\n",
       "      <td>NaN</td>\n",
       "      <td>NaN</td>\n",
       "      <td>NaN</td>\n",
       "    </tr>\n",
       "    <tr>\n",
       "      <th>601530</th>\n",
       "      <td>NaN</td>\n",
       "      <td>NaN</td>\n",
       "      <td>NaN</td>\n",
       "      <td>NaN</td>\n",
       "      <td>NaN</td>\n",
       "      <td>NaN</td>\n",
       "      <td>NaN</td>\n",
       "      <td>NaN</td>\n",
       "      <td>NaN</td>\n",
       "      <td>NaN</td>\n",
       "    </tr>\n",
       "    <tr>\n",
       "      <th>601531</th>\n",
       "      <td>NaN</td>\n",
       "      <td>NaN</td>\n",
       "      <td>NaN</td>\n",
       "      <td>NaN</td>\n",
       "      <td>NaN</td>\n",
       "      <td>NaN</td>\n",
       "      <td>NaN</td>\n",
       "      <td>NaN</td>\n",
       "      <td>NaN</td>\n",
       "      <td>NaN</td>\n",
       "    </tr>\n",
       "    <tr>\n",
       "      <th>601532</th>\n",
       "      <td>NaN</td>\n",
       "      <td>NaN</td>\n",
       "      <td>NaN</td>\n",
       "      <td>NaN</td>\n",
       "      <td>NaN</td>\n",
       "      <td>NaN</td>\n",
       "      <td>NaN</td>\n",
       "      <td>NaN</td>\n",
       "      <td>NaN</td>\n",
       "      <td>NaN</td>\n",
       "    </tr>\n",
       "    <tr>\n",
       "      <th>601533</th>\n",
       "      <td>NaN</td>\n",
       "      <td>NaN</td>\n",
       "      <td>NaN</td>\n",
       "      <td>NaN</td>\n",
       "      <td>NaN</td>\n",
       "      <td>NaN</td>\n",
       "      <td>NaN</td>\n",
       "      <td>NaN</td>\n",
       "      <td>NaN</td>\n",
       "      <td>NaN</td>\n",
       "    </tr>\n",
       "  </tbody>\n",
       "</table>\n",
       "</div>"
      ],
      "text/plain": [
       "       Company Name Status Ship Date City State  Zip Shipping Service  \\\n",
       "601529          NaN    NaN       NaN  NaN   NaN  NaN              NaN   \n",
       "601530          NaN    NaN       NaN  NaN   NaN  NaN              NaN   \n",
       "601531          NaN    NaN       NaN  NaN   NaN  NaN              NaN   \n",
       "601532          NaN    NaN       NaN  NaN   NaN  NaN              NaN   \n",
       "601533          NaN    NaN       NaN  NaN   NaN  NaN              NaN   \n",
       "\n",
       "       Created Date  Weight  Item/Bottle Count  \n",
       "601529          NaN     NaN                NaN  \n",
       "601530          NaN     NaN                NaN  \n",
       "601531          NaN     NaN                NaN  \n",
       "601532          NaN     NaN                NaN  \n",
       "601533          NaN     NaN                NaN  "
      ]
     },
     "execution_count": 5,
     "metadata": {},
     "output_type": "execute_result"
    }
   ],
   "source": [
    "#See the last rows of data\n",
    "df_2021_03.tail(5)"
   ]
  },
  {
   "cell_type": "code",
   "execution_count": 6,
   "id": "d7373d6d",
   "metadata": {},
   "outputs": [
    {
     "data": {
      "text/plain": [
       "Index(['Company Name', 'Status', 'Ship Date', 'City', 'State', 'Zip',\n",
       "       'Shipping Service', 'Created Date', 'Weight', 'Item/Bottle Count'],\n",
       "      dtype='object')"
      ]
     },
     "execution_count": 6,
     "metadata": {},
     "output_type": "execute_result"
    }
   ],
   "source": [
    "df_2021_03.columns"
   ]
  },
  {
   "cell_type": "code",
   "execution_count": 7,
   "id": "b8417480",
   "metadata": {},
   "outputs": [
    {
     "name": "stdout",
     "output_type": "stream",
     "text": [
      "Number of Rows:  601534\n",
      "Number of Columns:  10\n"
     ]
    }
   ],
   "source": [
    "#Determine total rows for df_2021_03.\n",
    "df_2021_03_rows = len(df_2021_03.axes[0])\n",
    "df_2021_03_cols = len(df_2021_03.axes[1])\n",
    "print(\"Number of Rows: \", df_2021_03_rows)\n",
    "print(\"Number of Columns: \", df_2021_03_cols)"
   ]
  },
  {
   "cell_type": "code",
   "execution_count": 8,
   "id": "dee72ae5",
   "metadata": {},
   "outputs": [
    {
     "data": {
      "text/plain": [
       "Company Name         577122\n",
       "Status               577206\n",
       "Ship Date            577122\n",
       "City                 577122\n",
       "State                577122\n",
       "Zip                  577122\n",
       "Shipping Service     577122\n",
       "Created Date         577206\n",
       "Weight               577206\n",
       "Item/Bottle Count    577206\n",
       "dtype: int64"
      ]
     },
     "execution_count": 8,
     "metadata": {},
     "output_type": "execute_result"
    }
   ],
   "source": [
    "# Determine if there are any missing values in df_2021_03.\n",
    "df_2021_03.isnull().sum()"
   ]
  },
  {
   "cell_type": "code",
   "execution_count": 9,
   "id": "426dd163",
   "metadata": {},
   "outputs": [],
   "source": [
    "#Surplus of null values due to data extraction from company. 24,328 rows of usable data."
   ]
  },
  {
   "cell_type": "code",
   "execution_count": 10,
   "id": "e4aa45ce",
   "metadata": {},
   "outputs": [
    {
     "data": {
      "text/plain": [
       "Company Name          object\n",
       "Status                object\n",
       "Ship Date             object\n",
       "City                  object\n",
       "State                 object\n",
       "Zip                   object\n",
       "Shipping Service      object\n",
       "Created Date          object\n",
       "Weight               float64\n",
       "Item/Bottle Count    float64\n",
       "dtype: object"
      ]
     },
     "execution_count": 10,
     "metadata": {},
     "output_type": "execute_result"
    }
   ],
   "source": [
    "# Determine data types for df_2021_03.\n",
    "df_2021_03.dtypes"
   ]
  },
  {
   "cell_type": "code",
   "execution_count": 11,
   "id": "ce126503",
   "metadata": {},
   "outputs": [
    {
     "data": {
      "text/plain": [
       "Ecom2      11332\n",
       "Ecom3       7725\n",
       "Ecom1       3923\n",
       "Winery1     1310\n",
       "Winery3       84\n",
       "Winery2       38\n",
       "Name: Company Name, dtype: int64"
      ]
     },
     "execution_count": 11,
     "metadata": {},
     "output_type": "execute_result"
    }
   ],
   "source": [
    "df_2021_03['Company Name'].value_counts()"
   ]
  },
  {
   "cell_type": "code",
   "execution_count": 12,
   "id": "0a521509",
   "metadata": {},
   "outputs": [
    {
     "data": {
      "text/plain": [
       "3/19/21    4224\n",
       "3/18/21    3580\n",
       "3/20/21    3113\n",
       "3/22/21    2183\n",
       "3/2/21     1242\n",
       "3/8/21      901\n",
       "3/29/21     833\n",
       "3/26/21     793\n",
       "3/15/21     729\n",
       "3/12/21     674\n",
       "3/9/21      629\n",
       "3/24/21     582\n",
       "3/23/21     558\n",
       "3/31/21     548\n",
       "3/3/21      483\n",
       "3/10/21     480\n",
       "3/5/21      447\n",
       "3/1/21      414\n",
       "3/16/21     404\n",
       "3/30/21     355\n",
       "3/25/21     351\n",
       "3/11/21     322\n",
       "3/17/21     310\n",
       "3/4/21      257\n",
       "Name: Ship Date, dtype: int64"
      ]
     },
     "execution_count": 12,
     "metadata": {},
     "output_type": "execute_result"
    }
   ],
   "source": [
    "df_2021_03['Ship Date'].value_counts()"
   ]
  },
  {
   "cell_type": "code",
   "execution_count": 13,
   "id": "b8789edb",
   "metadata": {},
   "outputs": [
    {
     "data": {
      "text/plain": [
       "Shipped              11532\n",
       "Delivered             8871\n",
       "In Transit            3782\n",
       "Carrier Exception       80\n",
       "Delivery Attempt        63\n",
       "Name: Status, dtype: int64"
      ]
     },
     "execution_count": 13,
     "metadata": {},
     "output_type": "execute_result"
    }
   ],
   "source": [
    "df_2021_03['Status'].value_counts()"
   ]
  },
  {
   "cell_type": "code",
   "execution_count": 14,
   "id": "5c24a22b",
   "metadata": {},
   "outputs": [
    {
     "data": {
      "text/plain": [
       "New York        415\n",
       "Chicago         284\n",
       "San Diego       244\n",
       "Brooklyn        210\n",
       "Philadelphia    165\n",
       "               ... \n",
       "Fort Loudon       1\n",
       "Swedesboro        1\n",
       "Kilgore           1\n",
       "Buckingham        1\n",
       "CORAL GABLES      1\n",
       "Name: City, Length: 5419, dtype: int64"
      ]
     },
     "execution_count": 14,
     "metadata": {},
     "output_type": "execute_result"
    }
   ],
   "source": [
    "df_2021_03['City'].value_counts()"
   ]
  },
  {
   "cell_type": "code",
   "execution_count": 15,
   "id": "50ee4539",
   "metadata": {},
   "outputs": [
    {
     "data": {
      "text/plain": [
       "CA    2804\n",
       "NY    2470\n",
       "FL    1840\n",
       "PA    1629\n",
       "NJ    1321\n",
       "TX    1313\n",
       "MA    1026\n",
       "IL     983\n",
       "VA     779\n",
       "MI     745\n",
       "OH     735\n",
       "GA     694\n",
       "MD     658\n",
       "CO     627\n",
       "NC     617\n",
       "WA     510\n",
       "CT     498\n",
       "TN     446\n",
       "MN     385\n",
       "AZ     383\n",
       "SC     359\n",
       "IN     338\n",
       "WI     322\n",
       "MO     289\n",
       "OR     270\n",
       "NV     188\n",
       "NH     164\n",
       "LA     163\n",
       "RI     163\n",
       "KS     162\n",
       "DC     155\n",
       "IA     142\n",
       "HI     134\n",
       "OK     128\n",
       "ME     121\n",
       "NE     121\n",
       "AR     108\n",
       "NM      89\n",
       "ID      79\n",
       "VT      77\n",
       "MT      71\n",
       "DE      67\n",
       "WV      63\n",
       "WY      46\n",
       "ND      42\n",
       "SD      37\n",
       "AK      36\n",
       "AL      15\n",
       "Name: State, dtype: int64"
      ]
     },
     "execution_count": 15,
     "metadata": {},
     "output_type": "execute_result"
    }
   ],
   "source": [
    "df_2021_03['State'].value_counts()"
   ]
  },
  {
   "cell_type": "code",
   "execution_count": 16,
   "id": "6a27c6dd",
   "metadata": {},
   "outputs": [
    {
     "data": {
      "text/plain": [
       "92130         58\n",
       "94558         44\n",
       "7030          32\n",
       "10023         31\n",
       "10019         31\n",
       "              ..\n",
       "19543          1\n",
       "50036          1\n",
       "49404          1\n",
       "88220          1\n",
       "96823-2364     1\n",
       "Name: Zip, Length: 8134, dtype: int64"
      ]
     },
     "execution_count": 16,
     "metadata": {},
     "output_type": "execute_result"
    }
   ],
   "source": [
    "df_2021_03['Zip'].value_counts()"
   ]
  },
  {
   "cell_type": "code",
   "execution_count": 17,
   "id": "93a3d82a",
   "metadata": {},
   "outputs": [
    {
     "data": {
      "text/plain": [
       "FEH     12014\n",
       "UPS     10911\n",
       "FXG      1261\n",
       "FEX        79\n",
       "WCU        72\n",
       "GSC        23\n",
       "UP2        17\n",
       "AZS        15\n",
       "UPS7       12\n",
       "UP3         5\n",
       "UP1         2\n",
       "SELF        1\n",
       "Name: Shipping Service, dtype: int64"
      ]
     },
     "execution_count": 17,
     "metadata": {},
     "output_type": "execute_result"
    }
   ],
   "source": [
    "df_2021_03['Shipping Service'].value_counts()"
   ]
  },
  {
   "cell_type": "code",
   "execution_count": 18,
   "id": "f31c6641",
   "metadata": {},
   "outputs": [
    {
     "data": {
      "text/plain": [
       "3/17/21    11432\n",
       "3/9/21       730\n",
       "3/21/21      698\n",
       "3/25/21      668\n",
       "2/23/21      584\n",
       "3/1/21       461\n",
       "3/22/21      457\n",
       "3/20/21      432\n",
       "2/28/21      425\n",
       "3/29/21      403\n",
       "3/10/21      403\n",
       "3/11/21      402\n",
       "3/5/21       400\n",
       "3/26/21      397\n",
       "3/7/21       395\n",
       "3/19/21      393\n",
       "3/28/21      392\n",
       "3/14/21      392\n",
       "3/18/21      392\n",
       "3/16/21      391\n",
       "3/30/21      377\n",
       "3/2/21       376\n",
       "3/15/21      365\n",
       "3/12/21      353\n",
       "3/24/21      344\n",
       "3/4/21       332\n",
       "3/8/21       329\n",
       "3/6/21       303\n",
       "3/23/21      290\n",
       "3/3/21       283\n",
       "3/13/21      192\n",
       "2/25/21      160\n",
       "3/27/21      144\n",
       "3/31/21      130\n",
       "2/26/21       47\n",
       "2/27/21       42\n",
       "2/24/21       11\n",
       "2/17/21        1\n",
       "2/22/21        1\n",
       "1/28/21        1\n",
       "Name: Created Date, dtype: int64"
      ]
     },
     "execution_count": 18,
     "metadata": {},
     "output_type": "execute_result"
    }
   ],
   "source": [
    "df_2021_03['Created Date'].value_counts()\n",
    "#Ok to have dates from other months- Sometimes people will create an order and hold onto it until an adult is present to sign for delivery."
   ]
  },
  {
   "cell_type": "code",
   "execution_count": 19,
   "id": "8ebe2d26",
   "metadata": {},
   "outputs": [
    {
     "data": {
      "text/plain": [
       "7.00     11723\n",
       "21.50     3943\n",
       "10.50     1793\n",
       "39.00     1667\n",
       "14.00     1173\n",
       "20.20      959\n",
       "41.00      753\n",
       "6.50       604\n",
       "9.90       453\n",
       "27.00      190\n",
       "18.50      147\n",
       "29.00      126\n",
       "3.35       103\n",
       "24.00       93\n",
       "30.00       87\n",
       "44.00       80\n",
       "4.00        71\n",
       "33.00       63\n",
       "32.00       46\n",
       "26.00       45\n",
       "35.00       38\n",
       "46.00       28\n",
       "38.00       22\n",
       "17.20       21\n",
       "36.00       20\n",
       "7.50        14\n",
       "23.00       13\n",
       "12.50        8\n",
       "37.00        5\n",
       "13.50        5\n",
       "6.00         5\n",
       "20.50        4\n",
       "3.00         3\n",
       "15.00        3\n",
       "19.20        3\n",
       "2.35         2\n",
       "23.20        2\n",
       "13.00        2\n",
       "34.00        1\n",
       "11.50        1\n",
       "25.00        1\n",
       "9.50         1\n",
       "17.00        1\n",
       "5.00         1\n",
       "40.00        1\n",
       "16.20        1\n",
       "8.00         1\n",
       "10.00        1\n",
       "16.00        1\n",
       "Name: Weight, dtype: int64"
      ]
     },
     "execution_count": 19,
     "metadata": {},
     "output_type": "execute_result"
    }
   ],
   "source": [
    "df_2021_03['Weight'].value_counts()"
   ]
  },
  {
   "cell_type": "code",
   "execution_count": 20,
   "id": "356cd94a",
   "metadata": {},
   "outputs": [
    {
     "data": {
      "text/plain": [
       "2.0     11726\n",
       "6.0      4909\n",
       "12.0     2419\n",
       "3.0      2222\n",
       "4.0      1229\n",
       "1.0       924\n",
       "8.0       304\n",
       "5.0       169\n",
       "7.0       143\n",
       "9.0       132\n",
       "10.0      100\n",
       "11.0       33\n",
       "13.0        8\n",
       "14.0        5\n",
       "15.0        2\n",
       "18.0        2\n",
       "16.0        1\n",
       "Name: Item/Bottle Count, dtype: int64"
      ]
     },
     "execution_count": 20,
     "metadata": {},
     "output_type": "execute_result"
    }
   ],
   "source": [
    "df_2021_03['Item/Bottle Count'].value_counts()"
   ]
  },
  {
   "cell_type": "markdown",
   "id": "68f6fedc",
   "metadata": {},
   "source": [
    "## Clean the Data"
   ]
  },
  {
   "cell_type": "code",
   "execution_count": 21,
   "id": "7344c4a2",
   "metadata": {},
   "outputs": [],
   "source": [
    "#Change dtypes if necessary"
   ]
  },
  {
   "cell_type": "code",
   "execution_count": 22,
   "id": "02ffce8c",
   "metadata": {},
   "outputs": [
    {
     "data": {
      "text/html": [
       "<div>\n",
       "<style scoped>\n",
       "    .dataframe tbody tr th:only-of-type {\n",
       "        vertical-align: middle;\n",
       "    }\n",
       "\n",
       "    .dataframe tbody tr th {\n",
       "        vertical-align: top;\n",
       "    }\n",
       "\n",
       "    .dataframe thead th {\n",
       "        text-align: right;\n",
       "    }\n",
       "</style>\n",
       "<table border=\"1\" class=\"dataframe\">\n",
       "  <thead>\n",
       "    <tr style=\"text-align: right;\">\n",
       "      <th></th>\n",
       "      <th>Company Name</th>\n",
       "      <th>Ship Date</th>\n",
       "      <th>City</th>\n",
       "      <th>State</th>\n",
       "      <th>Zip</th>\n",
       "      <th>Shipping Service</th>\n",
       "      <th>Created Date</th>\n",
       "      <th>Weight</th>\n",
       "      <th>Item/Bottle Count</th>\n",
       "    </tr>\n",
       "  </thead>\n",
       "  <tbody>\n",
       "    <tr>\n",
       "      <th>0</th>\n",
       "      <td>Ecom1</td>\n",
       "      <td>3/2/21</td>\n",
       "      <td>Lansdale</td>\n",
       "      <td>PA</td>\n",
       "      <td>19446</td>\n",
       "      <td>FEH</td>\n",
       "      <td>3/2/21</td>\n",
       "      <td>20.2</td>\n",
       "      <td>6.0</td>\n",
       "    </tr>\n",
       "    <tr>\n",
       "      <th>1</th>\n",
       "      <td>Ecom1</td>\n",
       "      <td>3/3/21</td>\n",
       "      <td>Prescott</td>\n",
       "      <td>AZ</td>\n",
       "      <td>86301</td>\n",
       "      <td>FEH</td>\n",
       "      <td>2/24/21</td>\n",
       "      <td>20.2</td>\n",
       "      <td>6.0</td>\n",
       "    </tr>\n",
       "    <tr>\n",
       "      <th>2</th>\n",
       "      <td>Ecom1</td>\n",
       "      <td>3/1/21</td>\n",
       "      <td>Fairhope</td>\n",
       "      <td>AL</td>\n",
       "      <td>36532</td>\n",
       "      <td>UPS</td>\n",
       "      <td>2/24/21</td>\n",
       "      <td>20.2</td>\n",
       "      <td>6.0</td>\n",
       "    </tr>\n",
       "    <tr>\n",
       "      <th>3</th>\n",
       "      <td>Ecom1</td>\n",
       "      <td>3/3/21</td>\n",
       "      <td>San Diego</td>\n",
       "      <td>CA</td>\n",
       "      <td>92105</td>\n",
       "      <td>FEH</td>\n",
       "      <td>2/25/21</td>\n",
       "      <td>6.5</td>\n",
       "      <td>1.0</td>\n",
       "    </tr>\n",
       "    <tr>\n",
       "      <th>4</th>\n",
       "      <td>Ecom1</td>\n",
       "      <td>3/3/21</td>\n",
       "      <td>Carlsbad</td>\n",
       "      <td>CA</td>\n",
       "      <td>92011</td>\n",
       "      <td>FEH</td>\n",
       "      <td>2/25/21</td>\n",
       "      <td>6.5</td>\n",
       "      <td>1.0</td>\n",
       "    </tr>\n",
       "    <tr>\n",
       "      <th>...</th>\n",
       "      <td>...</td>\n",
       "      <td>...</td>\n",
       "      <td>...</td>\n",
       "      <td>...</td>\n",
       "      <td>...</td>\n",
       "      <td>...</td>\n",
       "      <td>...</td>\n",
       "      <td>...</td>\n",
       "      <td>...</td>\n",
       "    </tr>\n",
       "    <tr>\n",
       "      <th>601529</th>\n",
       "      <td>NaN</td>\n",
       "      <td>NaN</td>\n",
       "      <td>NaN</td>\n",
       "      <td>NaN</td>\n",
       "      <td>NaN</td>\n",
       "      <td>NaN</td>\n",
       "      <td>NaN</td>\n",
       "      <td>NaN</td>\n",
       "      <td>NaN</td>\n",
       "    </tr>\n",
       "    <tr>\n",
       "      <th>601530</th>\n",
       "      <td>NaN</td>\n",
       "      <td>NaN</td>\n",
       "      <td>NaN</td>\n",
       "      <td>NaN</td>\n",
       "      <td>NaN</td>\n",
       "      <td>NaN</td>\n",
       "      <td>NaN</td>\n",
       "      <td>NaN</td>\n",
       "      <td>NaN</td>\n",
       "    </tr>\n",
       "    <tr>\n",
       "      <th>601531</th>\n",
       "      <td>NaN</td>\n",
       "      <td>NaN</td>\n",
       "      <td>NaN</td>\n",
       "      <td>NaN</td>\n",
       "      <td>NaN</td>\n",
       "      <td>NaN</td>\n",
       "      <td>NaN</td>\n",
       "      <td>NaN</td>\n",
       "      <td>NaN</td>\n",
       "    </tr>\n",
       "    <tr>\n",
       "      <th>601532</th>\n",
       "      <td>NaN</td>\n",
       "      <td>NaN</td>\n",
       "      <td>NaN</td>\n",
       "      <td>NaN</td>\n",
       "      <td>NaN</td>\n",
       "      <td>NaN</td>\n",
       "      <td>NaN</td>\n",
       "      <td>NaN</td>\n",
       "      <td>NaN</td>\n",
       "    </tr>\n",
       "    <tr>\n",
       "      <th>601533</th>\n",
       "      <td>NaN</td>\n",
       "      <td>NaN</td>\n",
       "      <td>NaN</td>\n",
       "      <td>NaN</td>\n",
       "      <td>NaN</td>\n",
       "      <td>NaN</td>\n",
       "      <td>NaN</td>\n",
       "      <td>NaN</td>\n",
       "      <td>NaN</td>\n",
       "    </tr>\n",
       "  </tbody>\n",
       "</table>\n",
       "<p>601534 rows × 9 columns</p>\n",
       "</div>"
      ],
      "text/plain": [
       "       Company Name Ship Date       City State    Zip Shipping Service  \\\n",
       "0             Ecom1    3/2/21   Lansdale    PA  19446              FEH   \n",
       "1             Ecom1    3/3/21   Prescott    AZ  86301              FEH   \n",
       "2             Ecom1    3/1/21   Fairhope    AL  36532              UPS   \n",
       "3             Ecom1    3/3/21  San Diego    CA  92105              FEH   \n",
       "4             Ecom1    3/3/21   Carlsbad    CA  92011              FEH   \n",
       "...             ...       ...        ...   ...    ...              ...   \n",
       "601529          NaN       NaN        NaN   NaN    NaN              NaN   \n",
       "601530          NaN       NaN        NaN   NaN    NaN              NaN   \n",
       "601531          NaN       NaN        NaN   NaN    NaN              NaN   \n",
       "601532          NaN       NaN        NaN   NaN    NaN              NaN   \n",
       "601533          NaN       NaN        NaN   NaN    NaN              NaN   \n",
       "\n",
       "       Created Date  Weight  Item/Bottle Count  \n",
       "0            3/2/21    20.2                6.0  \n",
       "1           2/24/21    20.2                6.0  \n",
       "2           2/24/21    20.2                6.0  \n",
       "3           2/25/21     6.5                1.0  \n",
       "4           2/25/21     6.5                1.0  \n",
       "...             ...     ...                ...  \n",
       "601529          NaN     NaN                NaN  \n",
       "601530          NaN     NaN                NaN  \n",
       "601531          NaN     NaN                NaN  \n",
       "601532          NaN     NaN                NaN  \n",
       "601533          NaN     NaN                NaN  \n",
       "\n",
       "[601534 rows x 9 columns]"
      ]
     },
     "execution_count": 22,
     "metadata": {},
     "output_type": "execute_result"
    }
   ],
   "source": [
    "#Remove \"Status\" column from df_2020_01.\n",
    "df_2021_03 = df_2021_03.drop('Status', axis=1)\n",
    "df_2021_03"
   ]
  },
  {
   "cell_type": "code",
   "execution_count": 23,
   "id": "bbb59fc5",
   "metadata": {},
   "outputs": [],
   "source": [
    "# Drop the NaNs for df_2021_03.\n",
    "df_2021_03 = df_2021_03.dropna()"
   ]
  },
  {
   "cell_type": "markdown",
   "id": "946b6578",
   "metadata": {},
   "source": [
    "## Confirm Changes"
   ]
  },
  {
   "cell_type": "code",
   "execution_count": 24,
   "id": "24f52aa4",
   "metadata": {},
   "outputs": [
    {
     "data": {
      "text/html": [
       "<div>\n",
       "<style scoped>\n",
       "    .dataframe tbody tr th:only-of-type {\n",
       "        vertical-align: middle;\n",
       "    }\n",
       "\n",
       "    .dataframe tbody tr th {\n",
       "        vertical-align: top;\n",
       "    }\n",
       "\n",
       "    .dataframe thead th {\n",
       "        text-align: right;\n",
       "    }\n",
       "</style>\n",
       "<table border=\"1\" class=\"dataframe\">\n",
       "  <thead>\n",
       "    <tr style=\"text-align: right;\">\n",
       "      <th></th>\n",
       "      <th>Company Name</th>\n",
       "      <th>Ship Date</th>\n",
       "      <th>City</th>\n",
       "      <th>State</th>\n",
       "      <th>Zip</th>\n",
       "      <th>Shipping Service</th>\n",
       "      <th>Created Date</th>\n",
       "      <th>Weight</th>\n",
       "      <th>Item/Bottle Count</th>\n",
       "    </tr>\n",
       "  </thead>\n",
       "  <tbody>\n",
       "    <tr>\n",
       "      <th>17795</th>\n",
       "      <td>Ecom3</td>\n",
       "      <td>3/17/21</td>\n",
       "      <td>Columbia</td>\n",
       "      <td>IL</td>\n",
       "      <td>62236</td>\n",
       "      <td>UPS</td>\n",
       "      <td>3/17/21</td>\n",
       "      <td>21.5</td>\n",
       "      <td>6.0</td>\n",
       "    </tr>\n",
       "    <tr>\n",
       "      <th>1132</th>\n",
       "      <td>Winery1</td>\n",
       "      <td>3/2/21</td>\n",
       "      <td>Redwood City</td>\n",
       "      <td>CA</td>\n",
       "      <td>94061</td>\n",
       "      <td>UPS</td>\n",
       "      <td>2/23/21</td>\n",
       "      <td>14.0</td>\n",
       "      <td>4.0</td>\n",
       "    </tr>\n",
       "    <tr>\n",
       "      <th>8830</th>\n",
       "      <td>Ecom2</td>\n",
       "      <td>3/18/21</td>\n",
       "      <td>Farmington</td>\n",
       "      <td>CT</td>\n",
       "      <td>6032</td>\n",
       "      <td>FXG</td>\n",
       "      <td>3/17/21</td>\n",
       "      <td>7.0</td>\n",
       "      <td>2.0</td>\n",
       "    </tr>\n",
       "    <tr>\n",
       "      <th>23421</th>\n",
       "      <td>Ecom3</td>\n",
       "      <td>3/29/21</td>\n",
       "      <td>Hadley</td>\n",
       "      <td>NY</td>\n",
       "      <td>12835</td>\n",
       "      <td>FEH</td>\n",
       "      <td>3/26/21</td>\n",
       "      <td>21.5</td>\n",
       "      <td>6.0</td>\n",
       "    </tr>\n",
       "    <tr>\n",
       "      <th>22901</th>\n",
       "      <td>Ecom2</td>\n",
       "      <td>3/29/21</td>\n",
       "      <td>Rocklin</td>\n",
       "      <td>CA</td>\n",
       "      <td>95765</td>\n",
       "      <td>UPS</td>\n",
       "      <td>3/26/21</td>\n",
       "      <td>7.0</td>\n",
       "      <td>2.0</td>\n",
       "    </tr>\n",
       "  </tbody>\n",
       "</table>\n",
       "</div>"
      ],
      "text/plain": [
       "      Company Name Ship Date          City State    Zip Shipping Service  \\\n",
       "17795        Ecom3   3/17/21      Columbia    IL  62236              UPS   \n",
       "1132       Winery1    3/2/21  Redwood City    CA  94061              UPS   \n",
       "8830         Ecom2   3/18/21    Farmington    CT   6032              FXG   \n",
       "23421        Ecom3   3/29/21        Hadley    NY  12835              FEH   \n",
       "22901        Ecom2   3/29/21       Rocklin    CA  95765              UPS   \n",
       "\n",
       "      Created Date  Weight  Item/Bottle Count  \n",
       "17795      3/17/21    21.5                6.0  \n",
       "1132       2/23/21    14.0                4.0  \n",
       "8830       3/17/21     7.0                2.0  \n",
       "23421      3/26/21    21.5                6.0  \n",
       "22901      3/26/21     7.0                2.0  "
      ]
     },
     "execution_count": 24,
     "metadata": {},
     "output_type": "execute_result"
    }
   ],
   "source": [
    "#See five random rows of data\n",
    "df_2021_03.sample(n=5)"
   ]
  },
  {
   "cell_type": "code",
   "execution_count": 25,
   "id": "a61f9697",
   "metadata": {},
   "outputs": [
    {
     "name": "stdout",
     "output_type": "stream",
     "text": [
      "Number of Rows:  24328\n",
      "Number of Columns:  9\n"
     ]
    }
   ],
   "source": [
    "#Determine total rows for df_2021_03.\n",
    "df_2021_03_rows = len(df_2021_03.axes[0])\n",
    "df_2021_03_cols = len(df_2021_03.axes[1])\n",
    "print(\"Number of Rows: \", df_2021_03_rows)\n",
    "print(\"Number of Columns: \", df_2021_03_cols)"
   ]
  },
  {
   "cell_type": "markdown",
   "id": "d997584e",
   "metadata": {},
   "source": [
    "## Export Cleaned df to .CSV"
   ]
  },
  {
   "cell_type": "code",
   "execution_count": 26,
   "id": "84bc21fc",
   "metadata": {},
   "outputs": [],
   "source": [
    "#Export df_2021_03 to .csv\n",
    "df_2021_03.to_csv('../cleaned_months_2021/Clean_2021_03.csv') "
   ]
  },
  {
   "cell_type": "code",
   "execution_count": null,
   "id": "22eef17a",
   "metadata": {},
   "outputs": [],
   "source": []
  }
 ],
 "metadata": {
  "kernelspec": {
   "display_name": "Python 3 (ipykernel)",
   "language": "python",
   "name": "python3"
  },
  "language_info": {
   "codemirror_mode": {
    "name": "ipython",
    "version": 3
   },
   "file_extension": ".py",
   "mimetype": "text/x-python",
   "name": "python",
   "nbconvert_exporter": "python",
   "pygments_lexer": "ipython3",
   "version": "3.7.13"
  }
 },
 "nbformat": 4,
 "nbformat_minor": 5
}
