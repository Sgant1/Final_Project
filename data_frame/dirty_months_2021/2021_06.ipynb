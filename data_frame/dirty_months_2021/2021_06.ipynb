{
 "cells": [
  {
   "cell_type": "code",
   "execution_count": 1,
   "id": "0ee3ff94",
   "metadata": {},
   "outputs": [],
   "source": [
    "#Pandas library to create DataFrames\n",
    "import pandas as pd\n",
    "#NumPy library for converting data types\n",
    "import numpy as np"
   ]
  },
  {
   "cell_type": "code",
   "execution_count": 2,
   "id": "43de2e17",
   "metadata": {},
   "outputs": [],
   "source": [
    "# Files to load\n",
    "load_2021_06 = \"../2021_Data/2021.06.csv\""
   ]
  },
  {
   "cell_type": "code",
   "execution_count": 3,
   "id": "0006005e",
   "metadata": {},
   "outputs": [
    {
     "data": {
      "text/html": [
       "<div>\n",
       "<style scoped>\n",
       "    .dataframe tbody tr th:only-of-type {\n",
       "        vertical-align: middle;\n",
       "    }\n",
       "\n",
       "    .dataframe tbody tr th {\n",
       "        vertical-align: top;\n",
       "    }\n",
       "\n",
       "    .dataframe thead th {\n",
       "        text-align: right;\n",
       "    }\n",
       "</style>\n",
       "<table border=\"1\" class=\"dataframe\">\n",
       "  <thead>\n",
       "    <tr style=\"text-align: right;\">\n",
       "      <th></th>\n",
       "      <th>Company Name</th>\n",
       "      <th>Status</th>\n",
       "      <th>Ship Date</th>\n",
       "      <th>City</th>\n",
       "      <th>State</th>\n",
       "      <th>Zip</th>\n",
       "      <th>Shipping Service</th>\n",
       "      <th>Created Date</th>\n",
       "      <th>Weight</th>\n",
       "      <th>Item/Bottle Count</th>\n",
       "    </tr>\n",
       "  </thead>\n",
       "  <tbody>\n",
       "    <tr>\n",
       "      <th>0</th>\n",
       "      <td>Ecom1</td>\n",
       "      <td>Shipped</td>\n",
       "      <td>6/1/2021</td>\n",
       "      <td>New York</td>\n",
       "      <td>NY</td>\n",
       "      <td>10065</td>\n",
       "      <td>FXG</td>\n",
       "      <td>5/24/2021</td>\n",
       "      <td>6.5</td>\n",
       "      <td>1.0</td>\n",
       "    </tr>\n",
       "    <tr>\n",
       "      <th>1</th>\n",
       "      <td>Ecom1</td>\n",
       "      <td>Shipped</td>\n",
       "      <td>6/1/2021</td>\n",
       "      <td>Great Neck</td>\n",
       "      <td>NY</td>\n",
       "      <td>11021</td>\n",
       "      <td>FXG</td>\n",
       "      <td>5/24/2021</td>\n",
       "      <td>6.5</td>\n",
       "      <td>1.0</td>\n",
       "    </tr>\n",
       "    <tr>\n",
       "      <th>2</th>\n",
       "      <td>Ecom1</td>\n",
       "      <td>Shipped</td>\n",
       "      <td>6/1/2021</td>\n",
       "      <td>Fresh Meadows</td>\n",
       "      <td>NY</td>\n",
       "      <td>11366</td>\n",
       "      <td>FXG</td>\n",
       "      <td>5/24/2021</td>\n",
       "      <td>6.5</td>\n",
       "      <td>1.0</td>\n",
       "    </tr>\n",
       "    <tr>\n",
       "      <th>3</th>\n",
       "      <td>Ecom1</td>\n",
       "      <td>Shipped</td>\n",
       "      <td>6/1/2021</td>\n",
       "      <td>Saddle River</td>\n",
       "      <td>NJ</td>\n",
       "      <td>7458</td>\n",
       "      <td>FEH</td>\n",
       "      <td>5/24/2021</td>\n",
       "      <td>6.5</td>\n",
       "      <td>1.0</td>\n",
       "    </tr>\n",
       "    <tr>\n",
       "      <th>4</th>\n",
       "      <td>Ecom1</td>\n",
       "      <td>In Transit</td>\n",
       "      <td>6/1/2021</td>\n",
       "      <td>Mount Kisco</td>\n",
       "      <td>NY</td>\n",
       "      <td>10549</td>\n",
       "      <td>FEH</td>\n",
       "      <td>5/24/2021</td>\n",
       "      <td>6.5</td>\n",
       "      <td>1.0</td>\n",
       "    </tr>\n",
       "  </tbody>\n",
       "</table>\n",
       "</div>"
      ],
      "text/plain": [
       "  Company Name      Status Ship Date           City State    Zip  \\\n",
       "0        Ecom1     Shipped  6/1/2021       New York    NY  10065   \n",
       "1        Ecom1     Shipped  6/1/2021     Great Neck    NY  11021   \n",
       "2        Ecom1     Shipped  6/1/2021  Fresh Meadows    NY  11366   \n",
       "3        Ecom1     Shipped  6/1/2021   Saddle River    NJ   7458   \n",
       "4        Ecom1  In Transit  6/1/2021    Mount Kisco    NY  10549   \n",
       "\n",
       "  Shipping Service Created Date  Weight  Item/Bottle Count  \n",
       "0              FXG    5/24/2021     6.5                1.0  \n",
       "1              FXG    5/24/2021     6.5                1.0  \n",
       "2              FXG    5/24/2021     6.5                1.0  \n",
       "3              FEH    5/24/2021     6.5                1.0  \n",
       "4              FEH    5/24/2021     6.5                1.0  "
      ]
     },
     "execution_count": 3,
     "metadata": {},
     "output_type": "execute_result"
    }
   ],
   "source": [
    "# Read the June CSV into a DataFrame\n",
    "#Had to open each file in excel and save it as a .csv file instead of an .xlsm file in order for the encryption to be read properly.\n",
    "df_2021_06 = pd.read_csv(load_2021_06, low_memory=False)\n",
    "df_2021_06.head()"
   ]
  },
  {
   "cell_type": "markdown",
   "id": "83dcaaf9",
   "metadata": {},
   "source": [
    "## Inspect the Data"
   ]
  },
  {
   "cell_type": "code",
   "execution_count": 4,
   "id": "57327ad0",
   "metadata": {},
   "outputs": [
    {
     "data": {
      "text/html": [
       "<div>\n",
       "<style scoped>\n",
       "    .dataframe tbody tr th:only-of-type {\n",
       "        vertical-align: middle;\n",
       "    }\n",
       "\n",
       "    .dataframe tbody tr th {\n",
       "        vertical-align: top;\n",
       "    }\n",
       "\n",
       "    .dataframe thead th {\n",
       "        text-align: right;\n",
       "    }\n",
       "</style>\n",
       "<table border=\"1\" class=\"dataframe\">\n",
       "  <thead>\n",
       "    <tr style=\"text-align: right;\">\n",
       "      <th></th>\n",
       "      <th>Company Name</th>\n",
       "      <th>Status</th>\n",
       "      <th>Ship Date</th>\n",
       "      <th>City</th>\n",
       "      <th>State</th>\n",
       "      <th>Zip</th>\n",
       "      <th>Shipping Service</th>\n",
       "      <th>Created Date</th>\n",
       "      <th>Weight</th>\n",
       "      <th>Item/Bottle Count</th>\n",
       "    </tr>\n",
       "  </thead>\n",
       "  <tbody>\n",
       "    <tr>\n",
       "      <th>91477</th>\n",
       "      <td>NaN</td>\n",
       "      <td>NaN</td>\n",
       "      <td>NaN</td>\n",
       "      <td>NaN</td>\n",
       "      <td>NaN</td>\n",
       "      <td>NaN</td>\n",
       "      <td>NaN</td>\n",
       "      <td>NaN</td>\n",
       "      <td>NaN</td>\n",
       "      <td>NaN</td>\n",
       "    </tr>\n",
       "    <tr>\n",
       "      <th>304396</th>\n",
       "      <td>NaN</td>\n",
       "      <td>NaN</td>\n",
       "      <td>NaN</td>\n",
       "      <td>NaN</td>\n",
       "      <td>NaN</td>\n",
       "      <td>NaN</td>\n",
       "      <td>NaN</td>\n",
       "      <td>NaN</td>\n",
       "      <td>NaN</td>\n",
       "      <td>NaN</td>\n",
       "    </tr>\n",
       "    <tr>\n",
       "      <th>85616</th>\n",
       "      <td>NaN</td>\n",
       "      <td>NaN</td>\n",
       "      <td>NaN</td>\n",
       "      <td>NaN</td>\n",
       "      <td>NaN</td>\n",
       "      <td>NaN</td>\n",
       "      <td>NaN</td>\n",
       "      <td>NaN</td>\n",
       "      <td>NaN</td>\n",
       "      <td>NaN</td>\n",
       "    </tr>\n",
       "    <tr>\n",
       "      <th>514822</th>\n",
       "      <td>NaN</td>\n",
       "      <td>NaN</td>\n",
       "      <td>NaN</td>\n",
       "      <td>NaN</td>\n",
       "      <td>NaN</td>\n",
       "      <td>NaN</td>\n",
       "      <td>NaN</td>\n",
       "      <td>NaN</td>\n",
       "      <td>NaN</td>\n",
       "      <td>NaN</td>\n",
       "    </tr>\n",
       "    <tr>\n",
       "      <th>418244</th>\n",
       "      <td>NaN</td>\n",
       "      <td>NaN</td>\n",
       "      <td>NaN</td>\n",
       "      <td>NaN</td>\n",
       "      <td>NaN</td>\n",
       "      <td>NaN</td>\n",
       "      <td>NaN</td>\n",
       "      <td>NaN</td>\n",
       "      <td>NaN</td>\n",
       "      <td>NaN</td>\n",
       "    </tr>\n",
       "  </tbody>\n",
       "</table>\n",
       "</div>"
      ],
      "text/plain": [
       "       Company Name Status Ship Date City State  Zip Shipping Service  \\\n",
       "91477           NaN    NaN       NaN  NaN   NaN  NaN              NaN   \n",
       "304396          NaN    NaN       NaN  NaN   NaN  NaN              NaN   \n",
       "85616           NaN    NaN       NaN  NaN   NaN  NaN              NaN   \n",
       "514822          NaN    NaN       NaN  NaN   NaN  NaN              NaN   \n",
       "418244          NaN    NaN       NaN  NaN   NaN  NaN              NaN   \n",
       "\n",
       "       Created Date  Weight  Item/Bottle Count  \n",
       "91477           NaN     NaN                NaN  \n",
       "304396          NaN     NaN                NaN  \n",
       "85616           NaN     NaN                NaN  \n",
       "514822          NaN     NaN                NaN  \n",
       "418244          NaN     NaN                NaN  "
      ]
     },
     "execution_count": 4,
     "metadata": {},
     "output_type": "execute_result"
    }
   ],
   "source": [
    "#See five random rows of data\n",
    "df_2021_06.sample(n=5)"
   ]
  },
  {
   "cell_type": "code",
   "execution_count": 5,
   "id": "bc4ba2a9",
   "metadata": {},
   "outputs": [
    {
     "data": {
      "text/html": [
       "<div>\n",
       "<style scoped>\n",
       "    .dataframe tbody tr th:only-of-type {\n",
       "        vertical-align: middle;\n",
       "    }\n",
       "\n",
       "    .dataframe tbody tr th {\n",
       "        vertical-align: top;\n",
       "    }\n",
       "\n",
       "    .dataframe thead th {\n",
       "        text-align: right;\n",
       "    }\n",
       "</style>\n",
       "<table border=\"1\" class=\"dataframe\">\n",
       "  <thead>\n",
       "    <tr style=\"text-align: right;\">\n",
       "      <th></th>\n",
       "      <th>Company Name</th>\n",
       "      <th>Status</th>\n",
       "      <th>Ship Date</th>\n",
       "      <th>City</th>\n",
       "      <th>State</th>\n",
       "      <th>Zip</th>\n",
       "      <th>Shipping Service</th>\n",
       "      <th>Created Date</th>\n",
       "      <th>Weight</th>\n",
       "      <th>Item/Bottle Count</th>\n",
       "    </tr>\n",
       "  </thead>\n",
       "  <tbody>\n",
       "    <tr>\n",
       "      <th>706892</th>\n",
       "      <td>NaN</td>\n",
       "      <td>NaN</td>\n",
       "      <td>NaN</td>\n",
       "      <td>NaN</td>\n",
       "      <td>NaN</td>\n",
       "      <td>NaN</td>\n",
       "      <td>NaN</td>\n",
       "      <td>NaN</td>\n",
       "      <td>NaN</td>\n",
       "      <td>NaN</td>\n",
       "    </tr>\n",
       "    <tr>\n",
       "      <th>706893</th>\n",
       "      <td>NaN</td>\n",
       "      <td>NaN</td>\n",
       "      <td>NaN</td>\n",
       "      <td>NaN</td>\n",
       "      <td>NaN</td>\n",
       "      <td>NaN</td>\n",
       "      <td>NaN</td>\n",
       "      <td>NaN</td>\n",
       "      <td>NaN</td>\n",
       "      <td>NaN</td>\n",
       "    </tr>\n",
       "    <tr>\n",
       "      <th>706894</th>\n",
       "      <td>NaN</td>\n",
       "      <td>NaN</td>\n",
       "      <td>NaN</td>\n",
       "      <td>NaN</td>\n",
       "      <td>NaN</td>\n",
       "      <td>NaN</td>\n",
       "      <td>NaN</td>\n",
       "      <td>NaN</td>\n",
       "      <td>NaN</td>\n",
       "      <td>NaN</td>\n",
       "    </tr>\n",
       "    <tr>\n",
       "      <th>706895</th>\n",
       "      <td>NaN</td>\n",
       "      <td>NaN</td>\n",
       "      <td>NaN</td>\n",
       "      <td>NaN</td>\n",
       "      <td>NaN</td>\n",
       "      <td>NaN</td>\n",
       "      <td>NaN</td>\n",
       "      <td>NaN</td>\n",
       "      <td>NaN</td>\n",
       "      <td>NaN</td>\n",
       "    </tr>\n",
       "    <tr>\n",
       "      <th>706896</th>\n",
       "      <td>NaN</td>\n",
       "      <td>NaN</td>\n",
       "      <td>NaN</td>\n",
       "      <td>NaN</td>\n",
       "      <td>NaN</td>\n",
       "      <td>NaN</td>\n",
       "      <td>NaN</td>\n",
       "      <td>NaN</td>\n",
       "      <td>NaN</td>\n",
       "      <td>NaN</td>\n",
       "    </tr>\n",
       "  </tbody>\n",
       "</table>\n",
       "</div>"
      ],
      "text/plain": [
       "       Company Name Status Ship Date City State  Zip Shipping Service  \\\n",
       "706892          NaN    NaN       NaN  NaN   NaN  NaN              NaN   \n",
       "706893          NaN    NaN       NaN  NaN   NaN  NaN              NaN   \n",
       "706894          NaN    NaN       NaN  NaN   NaN  NaN              NaN   \n",
       "706895          NaN    NaN       NaN  NaN   NaN  NaN              NaN   \n",
       "706896          NaN    NaN       NaN  NaN   NaN  NaN              NaN   \n",
       "\n",
       "       Created Date  Weight  Item/Bottle Count  \n",
       "706892          NaN     NaN                NaN  \n",
       "706893          NaN     NaN                NaN  \n",
       "706894          NaN     NaN                NaN  \n",
       "706895          NaN     NaN                NaN  \n",
       "706896          NaN     NaN                NaN  "
      ]
     },
     "execution_count": 5,
     "metadata": {},
     "output_type": "execute_result"
    }
   ],
   "source": [
    "#See the last rows of data\n",
    "df_2021_06.tail(5)"
   ]
  },
  {
   "cell_type": "code",
   "execution_count": 6,
   "id": "d7373d6d",
   "metadata": {},
   "outputs": [
    {
     "data": {
      "text/plain": [
       "Index(['Company Name', 'Status', 'Ship Date', 'City', 'State', 'Zip',\n",
       "       'Shipping Service', 'Created Date', 'Weight', 'Item/Bottle Count'],\n",
       "      dtype='object')"
      ]
     },
     "execution_count": 6,
     "metadata": {},
     "output_type": "execute_result"
    }
   ],
   "source": [
    "df_2021_06.columns"
   ]
  },
  {
   "cell_type": "code",
   "execution_count": 7,
   "id": "b8417480",
   "metadata": {},
   "outputs": [
    {
     "name": "stdout",
     "output_type": "stream",
     "text": [
      "Number of Rows:  706897\n",
      "Number of Columns:  10\n"
     ]
    }
   ],
   "source": [
    "#Determine total rows for df_2021_06.\n",
    "df_2021_06_rows = len(df_2021_06.axes[0])\n",
    "df_2021_06_cols = len(df_2021_06.axes[1])\n",
    "print(\"Number of Rows: \", df_2021_06_rows)\n",
    "print(\"Number of Columns: \", df_2021_06_cols)"
   ]
  },
  {
   "cell_type": "code",
   "execution_count": 8,
   "id": "dee72ae5",
   "metadata": {},
   "outputs": [
    {
     "data": {
      "text/plain": [
       "Company Name         689003\n",
       "Status               689136\n",
       "Ship Date            689003\n",
       "City                 689003\n",
       "State                689003\n",
       "Zip                  689003\n",
       "Shipping Service     689003\n",
       "Created Date         689136\n",
       "Weight               689136\n",
       "Item/Bottle Count    689003\n",
       "dtype: int64"
      ]
     },
     "execution_count": 8,
     "metadata": {},
     "output_type": "execute_result"
    }
   ],
   "source": [
    "# Determine if there are any missing values in df_2021_06.\n",
    "df_2021_06.isnull().sum()"
   ]
  },
  {
   "cell_type": "code",
   "execution_count": 9,
   "id": "a53821c5",
   "metadata": {},
   "outputs": [],
   "source": [
    "#Surplus of null values due to data extraction from company. 17,761 rows of usable data."
   ]
  },
  {
   "cell_type": "code",
   "execution_count": 10,
   "id": "e4aa45ce",
   "metadata": {},
   "outputs": [
    {
     "data": {
      "text/plain": [
       "Company Name          object\n",
       "Status                object\n",
       "Ship Date             object\n",
       "City                  object\n",
       "State                 object\n",
       "Zip                   object\n",
       "Shipping Service      object\n",
       "Created Date          object\n",
       "Weight               float64\n",
       "Item/Bottle Count    float64\n",
       "dtype: object"
      ]
     },
     "execution_count": 10,
     "metadata": {},
     "output_type": "execute_result"
    }
   ],
   "source": [
    "# Determine data types for df_2020_01.\n",
    "df_2021_06.dtypes"
   ]
  },
  {
   "cell_type": "code",
   "execution_count": 11,
   "id": "ce126503",
   "metadata": {},
   "outputs": [
    {
     "data": {
      "text/plain": [
       "Ecom2      7745\n",
       "Ecom3      6546\n",
       "Ecom1      3259\n",
       "Winery1     148\n",
       "Winery3     133\n",
       "Winery2      63\n",
       "Name: Company Name, dtype: int64"
      ]
     },
     "execution_count": 11,
     "metadata": {},
     "output_type": "execute_result"
    }
   ],
   "source": [
    "df_2021_06['Company Name'].value_counts()"
   ]
  },
  {
   "cell_type": "code",
   "execution_count": 12,
   "id": "0a521509",
   "metadata": {},
   "outputs": [
    {
     "data": {
      "text/plain": [
       "6/20/2021    5954\n",
       "6/21/2021    2294\n",
       "6/14/2021     953\n",
       "6/28/2021     888\n",
       "6/1/2021      828\n",
       "6/7/2021      772\n",
       "6/2/2021      772\n",
       "6/4/2021      439\n",
       "6/18/2021     413\n",
       "6/30/2021     399\n",
       "6/10/2021     382\n",
       "6/17/2021     373\n",
       "6/29/2021     359\n",
       "6/15/2021     357\n",
       "6/24/2021     354\n",
       "6/25/2021     352\n",
       "6/11/2021     341\n",
       "6/8/2021      308\n",
       "6/22/2021     295\n",
       "6/3/2021      284\n",
       "6/23/2021     277\n",
       "6/16/2021     220\n",
       "6/5/2021      114\n",
       "6/9/2021      106\n",
       "6/26/2021      26\n",
       "6/13/2021      19\n",
       "6/6/2021        9\n",
       "6/27/2021       6\n",
       "Name: Ship Date, dtype: int64"
      ]
     },
     "execution_count": 12,
     "metadata": {},
     "output_type": "execute_result"
    }
   ],
   "source": [
    "df_2021_06['Ship Date'].value_counts()"
   ]
  },
  {
   "cell_type": "code",
   "execution_count": 13,
   "id": "b8789edb",
   "metadata": {},
   "outputs": [
    {
     "data": {
      "text/plain": [
       "Shipped              8956\n",
       "In Transit           8413\n",
       "Delivered             342\n",
       "Carrier Exception      40\n",
       "Delivery Attempt       10\n",
       "Name: Status, dtype: int64"
      ]
     },
     "execution_count": 13,
     "metadata": {},
     "output_type": "execute_result"
    }
   ],
   "source": [
    "df_2021_06['Status'].value_counts()"
   ]
  },
  {
   "cell_type": "code",
   "execution_count": 14,
   "id": "5c24a22b",
   "metadata": {},
   "outputs": [
    {
     "data": {
      "text/plain": [
       "New York          355\n",
       "Chicago           238\n",
       "Brooklyn          191\n",
       "Washington        140\n",
       "Philadelphia      113\n",
       "                 ... \n",
       "La Motte            1\n",
       "Brown City          1\n",
       "Essex Junction      1\n",
       "Canterbury          1\n",
       "McAllen             1\n",
       "Name: City, Length: 4728, dtype: int64"
      ]
     },
     "execution_count": 14,
     "metadata": {},
     "output_type": "execute_result"
    }
   ],
   "source": [
    "df_2021_06['City'].value_counts()"
   ]
  },
  {
   "cell_type": "code",
   "execution_count": 15,
   "id": "50ee4539",
   "metadata": {},
   "outputs": [
    {
     "data": {
      "text/plain": [
       "NY    1982\n",
       "CA    1649\n",
       "FL    1248\n",
       "PA    1162\n",
       "NJ    1059\n",
       "TX     915\n",
       "MA     892\n",
       "IL     788\n",
       "MI     598\n",
       "VA     574\n",
       "OH     567\n",
       "NC     525\n",
       "GA     506\n",
       "MD     495\n",
       "CO     476\n",
       "CT     427\n",
       "MN     307\n",
       "WA     303\n",
       "TN     285\n",
       "WI     258\n",
       "SC     249\n",
       "IN     242\n",
       "AZ     234\n",
       "MO     227\n",
       "OR     192\n",
       "KS     134\n",
       "DC     132\n",
       "LA     128\n",
       "RI     122\n",
       "NH     119\n",
       "HI     116\n",
       "IA     110\n",
       "ME      87\n",
       "NE      82\n",
       "NV      74\n",
       "AR      72\n",
       "WV      70\n",
       "OK      66\n",
       "MT      63\n",
       "NM      60\n",
       "VT      54\n",
       "DE      52\n",
       "ID      49\n",
       "SD      32\n",
       "ND      31\n",
       "WY      31\n",
       "AK      30\n",
       "AL      12\n",
       "KY       8\n",
       "Name: State, dtype: int64"
      ]
     },
     "execution_count": 15,
     "metadata": {},
     "output_type": "execute_result"
    }
   ],
   "source": [
    "df_2021_06['State'].value_counts()"
   ]
  },
  {
   "cell_type": "code",
   "execution_count": 16,
   "id": "6a27c6dd",
   "metadata": {},
   "outputs": [
    {
     "data": {
      "text/plain": [
       "94558    33\n",
       "94508    29\n",
       "60614    27\n",
       "10023    26\n",
       "7030     26\n",
       "         ..\n",
       "60515     1\n",
       "80648     1\n",
       "15147     1\n",
       "55398     1\n",
       "12208     1\n",
       "Name: Zip, Length: 7077, dtype: int64"
      ]
     },
     "execution_count": 16,
     "metadata": {},
     "output_type": "execute_result"
    }
   ],
   "source": [
    "df_2021_06['Zip'].value_counts()"
   ]
  },
  {
   "cell_type": "code",
   "execution_count": 17,
   "id": "93a3d82a",
   "metadata": {},
   "outputs": [
    {
     "data": {
      "text/plain": [
       "FEH    9040\n",
       "UPS    7596\n",
       "FXG     991\n",
       "FEX     124\n",
       "WCU      82\n",
       "UP2      27\n",
       "GSC      24\n",
       "UP1       3\n",
       "AZS       2\n",
       "WCP       2\n",
       "FXO       2\n",
       "UP3       1\n",
       "Name: Shipping Service, dtype: int64"
      ]
     },
     "execution_count": 17,
     "metadata": {},
     "output_type": "execute_result"
    }
   ],
   "source": [
    "df_2021_06['Shipping Service'].value_counts()"
   ]
  },
  {
   "cell_type": "code",
   "execution_count": 18,
   "id": "f31c6641",
   "metadata": {},
   "outputs": [
    {
     "data": {
      "text/plain": [
       "6/18/2021    4175\n",
       "6/17/2021    4125\n",
       "6/3/2021      610\n",
       "6/4/2021      516\n",
       "6/25/2021     451\n",
       "6/11/2021     435\n",
       "6/29/2021     408\n",
       "6/22/2021     402\n",
       "6/1/2021      383\n",
       "5/30/2021     374\n",
       "6/27/2021     367\n",
       "6/14/2021     365\n",
       "5/31/2021     341\n",
       "6/20/2021     339\n",
       "6/21/2021     334\n",
       "6/13/2021     283\n",
       "6/28/2021     282\n",
       "6/2/2021      281\n",
       "6/6/2021      265\n",
       "6/24/2021     256\n",
       "6/16/2021     251\n",
       "6/5/2021      239\n",
       "5/29/2021     239\n",
       "6/7/2021      238\n",
       "5/28/2021     225\n",
       "6/10/2021     225\n",
       "6/15/2021     222\n",
       "6/8/2021      196\n",
       "6/26/2021     193\n",
       "6/23/2021     172\n",
       "6/9/2021      169\n",
       "6/12/2021     149\n",
       "6/30/2021     128\n",
       "6/19/2021     108\n",
       "5/27/2021       8\n",
       "5/24/2021       5\n",
       "5/26/2021       1\n",
       "5/21/2021       1\n",
       "Name: Created Date, dtype: int64"
      ]
     },
     "execution_count": 18,
     "metadata": {},
     "output_type": "execute_result"
    }
   ],
   "source": [
    "df_2021_06['Created Date'].value_counts()\n",
    "#Ok to have dates from other months- Sometimes people will create an order and hold onto it until an adult is present to sign for delivery."
   ]
  },
  {
   "cell_type": "code",
   "execution_count": 19,
   "id": "8ebe2d26",
   "metadata": {},
   "outputs": [
    {
     "data": {
      "text/plain": [
       "7.00      8037\n",
       "21.50     3313\n",
       "39.00     1590\n",
       "10.50     1096\n",
       "20.20      703\n",
       "41.00      698\n",
       "6.50       626\n",
       "14.00      399\n",
       "9.90       337\n",
       "27.00      142\n",
       "18.50      124\n",
       "29.00      120\n",
       "3.35       115\n",
       "30.00       91\n",
       "24.00       62\n",
       "33.00       50\n",
       "35.00       43\n",
       "32.00       41\n",
       "26.00       35\n",
       "44.00       29\n",
       "4.00        19\n",
       "36.00       19\n",
       "17.20       17\n",
       "38.00       16\n",
       "13.50        8\n",
       "20.50        7\n",
       "46.00        5\n",
       "23.00        5\n",
       "37.00        4\n",
       "17.00        2\n",
       "18.20        2\n",
       "12.20        2\n",
       "34.00        1\n",
       "141.00       1\n",
       "19.20        1\n",
       "9.50         1\n",
       "Name: Weight, dtype: int64"
      ]
     },
     "execution_count": 19,
     "metadata": {},
     "output_type": "execute_result"
    }
   ],
   "source": [
    "df_2021_06['Weight'].value_counts()"
   ]
  },
  {
   "cell_type": "code",
   "execution_count": 20,
   "id": "356cd94a",
   "metadata": {},
   "outputs": [
    {
     "data": {
      "text/plain": [
       "2.0     8048\n",
       "6.0     4018\n",
       "12.0    2358\n",
       "3.0     1439\n",
       "1.0      806\n",
       "4.0      428\n",
       "8.0      245\n",
       "5.0      144\n",
       "9.0      134\n",
       "7.0      112\n",
       "10.0      92\n",
       "11.0      26\n",
       "13.0      21\n",
       "14.0      10\n",
       "16.0       5\n",
       "15.0       4\n",
       "17.0       1\n",
       "47.0       1\n",
       "18.0       1\n",
       "24.0       1\n",
       "Name: Item/Bottle Count, dtype: int64"
      ]
     },
     "execution_count": 20,
     "metadata": {},
     "output_type": "execute_result"
    }
   ],
   "source": [
    "df_2021_06['Item/Bottle Count'].value_counts()"
   ]
  },
  {
   "cell_type": "markdown",
   "id": "68f6fedc",
   "metadata": {},
   "source": [
    "## Clean the Data"
   ]
  },
  {
   "cell_type": "code",
   "execution_count": 21,
   "id": "7344c4a2",
   "metadata": {},
   "outputs": [],
   "source": [
    "#Change dtypes if necessary"
   ]
  },
  {
   "cell_type": "code",
   "execution_count": 22,
   "id": "02ffce8c",
   "metadata": {},
   "outputs": [
    {
     "data": {
      "text/html": [
       "<div>\n",
       "<style scoped>\n",
       "    .dataframe tbody tr th:only-of-type {\n",
       "        vertical-align: middle;\n",
       "    }\n",
       "\n",
       "    .dataframe tbody tr th {\n",
       "        vertical-align: top;\n",
       "    }\n",
       "\n",
       "    .dataframe thead th {\n",
       "        text-align: right;\n",
       "    }\n",
       "</style>\n",
       "<table border=\"1\" class=\"dataframe\">\n",
       "  <thead>\n",
       "    <tr style=\"text-align: right;\">\n",
       "      <th></th>\n",
       "      <th>Company Name</th>\n",
       "      <th>Ship Date</th>\n",
       "      <th>City</th>\n",
       "      <th>State</th>\n",
       "      <th>Zip</th>\n",
       "      <th>Shipping Service</th>\n",
       "      <th>Created Date</th>\n",
       "      <th>Weight</th>\n",
       "      <th>Item/Bottle Count</th>\n",
       "    </tr>\n",
       "  </thead>\n",
       "  <tbody>\n",
       "    <tr>\n",
       "      <th>0</th>\n",
       "      <td>Ecom1</td>\n",
       "      <td>6/1/2021</td>\n",
       "      <td>New York</td>\n",
       "      <td>NY</td>\n",
       "      <td>10065</td>\n",
       "      <td>FXG</td>\n",
       "      <td>5/24/2021</td>\n",
       "      <td>6.5</td>\n",
       "      <td>1.0</td>\n",
       "    </tr>\n",
       "    <tr>\n",
       "      <th>1</th>\n",
       "      <td>Ecom1</td>\n",
       "      <td>6/1/2021</td>\n",
       "      <td>Great Neck</td>\n",
       "      <td>NY</td>\n",
       "      <td>11021</td>\n",
       "      <td>FXG</td>\n",
       "      <td>5/24/2021</td>\n",
       "      <td>6.5</td>\n",
       "      <td>1.0</td>\n",
       "    </tr>\n",
       "    <tr>\n",
       "      <th>2</th>\n",
       "      <td>Ecom1</td>\n",
       "      <td>6/1/2021</td>\n",
       "      <td>Fresh Meadows</td>\n",
       "      <td>NY</td>\n",
       "      <td>11366</td>\n",
       "      <td>FXG</td>\n",
       "      <td>5/24/2021</td>\n",
       "      <td>6.5</td>\n",
       "      <td>1.0</td>\n",
       "    </tr>\n",
       "    <tr>\n",
       "      <th>3</th>\n",
       "      <td>Ecom1</td>\n",
       "      <td>6/1/2021</td>\n",
       "      <td>Saddle River</td>\n",
       "      <td>NJ</td>\n",
       "      <td>7458</td>\n",
       "      <td>FEH</td>\n",
       "      <td>5/24/2021</td>\n",
       "      <td>6.5</td>\n",
       "      <td>1.0</td>\n",
       "    </tr>\n",
       "    <tr>\n",
       "      <th>4</th>\n",
       "      <td>Ecom1</td>\n",
       "      <td>6/1/2021</td>\n",
       "      <td>Mount Kisco</td>\n",
       "      <td>NY</td>\n",
       "      <td>10549</td>\n",
       "      <td>FEH</td>\n",
       "      <td>5/24/2021</td>\n",
       "      <td>6.5</td>\n",
       "      <td>1.0</td>\n",
       "    </tr>\n",
       "    <tr>\n",
       "      <th>...</th>\n",
       "      <td>...</td>\n",
       "      <td>...</td>\n",
       "      <td>...</td>\n",
       "      <td>...</td>\n",
       "      <td>...</td>\n",
       "      <td>...</td>\n",
       "      <td>...</td>\n",
       "      <td>...</td>\n",
       "      <td>...</td>\n",
       "    </tr>\n",
       "    <tr>\n",
       "      <th>706892</th>\n",
       "      <td>NaN</td>\n",
       "      <td>NaN</td>\n",
       "      <td>NaN</td>\n",
       "      <td>NaN</td>\n",
       "      <td>NaN</td>\n",
       "      <td>NaN</td>\n",
       "      <td>NaN</td>\n",
       "      <td>NaN</td>\n",
       "      <td>NaN</td>\n",
       "    </tr>\n",
       "    <tr>\n",
       "      <th>706893</th>\n",
       "      <td>NaN</td>\n",
       "      <td>NaN</td>\n",
       "      <td>NaN</td>\n",
       "      <td>NaN</td>\n",
       "      <td>NaN</td>\n",
       "      <td>NaN</td>\n",
       "      <td>NaN</td>\n",
       "      <td>NaN</td>\n",
       "      <td>NaN</td>\n",
       "    </tr>\n",
       "    <tr>\n",
       "      <th>706894</th>\n",
       "      <td>NaN</td>\n",
       "      <td>NaN</td>\n",
       "      <td>NaN</td>\n",
       "      <td>NaN</td>\n",
       "      <td>NaN</td>\n",
       "      <td>NaN</td>\n",
       "      <td>NaN</td>\n",
       "      <td>NaN</td>\n",
       "      <td>NaN</td>\n",
       "    </tr>\n",
       "    <tr>\n",
       "      <th>706895</th>\n",
       "      <td>NaN</td>\n",
       "      <td>NaN</td>\n",
       "      <td>NaN</td>\n",
       "      <td>NaN</td>\n",
       "      <td>NaN</td>\n",
       "      <td>NaN</td>\n",
       "      <td>NaN</td>\n",
       "      <td>NaN</td>\n",
       "      <td>NaN</td>\n",
       "    </tr>\n",
       "    <tr>\n",
       "      <th>706896</th>\n",
       "      <td>NaN</td>\n",
       "      <td>NaN</td>\n",
       "      <td>NaN</td>\n",
       "      <td>NaN</td>\n",
       "      <td>NaN</td>\n",
       "      <td>NaN</td>\n",
       "      <td>NaN</td>\n",
       "      <td>NaN</td>\n",
       "      <td>NaN</td>\n",
       "    </tr>\n",
       "  </tbody>\n",
       "</table>\n",
       "<p>706897 rows × 9 columns</p>\n",
       "</div>"
      ],
      "text/plain": [
       "       Company Name Ship Date           City State    Zip Shipping Service  \\\n",
       "0             Ecom1  6/1/2021       New York    NY  10065              FXG   \n",
       "1             Ecom1  6/1/2021     Great Neck    NY  11021              FXG   \n",
       "2             Ecom1  6/1/2021  Fresh Meadows    NY  11366              FXG   \n",
       "3             Ecom1  6/1/2021   Saddle River    NJ   7458              FEH   \n",
       "4             Ecom1  6/1/2021    Mount Kisco    NY  10549              FEH   \n",
       "...             ...       ...            ...   ...    ...              ...   \n",
       "706892          NaN       NaN            NaN   NaN    NaN              NaN   \n",
       "706893          NaN       NaN            NaN   NaN    NaN              NaN   \n",
       "706894          NaN       NaN            NaN   NaN    NaN              NaN   \n",
       "706895          NaN       NaN            NaN   NaN    NaN              NaN   \n",
       "706896          NaN       NaN            NaN   NaN    NaN              NaN   \n",
       "\n",
       "       Created Date  Weight  Item/Bottle Count  \n",
       "0         5/24/2021     6.5                1.0  \n",
       "1         5/24/2021     6.5                1.0  \n",
       "2         5/24/2021     6.5                1.0  \n",
       "3         5/24/2021     6.5                1.0  \n",
       "4         5/24/2021     6.5                1.0  \n",
       "...             ...     ...                ...  \n",
       "706892          NaN     NaN                NaN  \n",
       "706893          NaN     NaN                NaN  \n",
       "706894          NaN     NaN                NaN  \n",
       "706895          NaN     NaN                NaN  \n",
       "706896          NaN     NaN                NaN  \n",
       "\n",
       "[706897 rows x 9 columns]"
      ]
     },
     "execution_count": 22,
     "metadata": {},
     "output_type": "execute_result"
    }
   ],
   "source": [
    "#Remove \"Status\" column from df_2021_06.\n",
    "df_2021_06 = df_2021_06.drop('Status', axis=1)\n",
    "df_2021_06"
   ]
  },
  {
   "cell_type": "code",
   "execution_count": 23,
   "id": "bbb59fc5",
   "metadata": {},
   "outputs": [],
   "source": [
    "# Drop the NaNs for df_2021_06.\n",
    "df_2021_06 = df_2021_06.dropna()"
   ]
  },
  {
   "cell_type": "markdown",
   "id": "946b6578",
   "metadata": {},
   "source": [
    "## Confirm Changes"
   ]
  },
  {
   "cell_type": "code",
   "execution_count": 24,
   "id": "24f52aa4",
   "metadata": {},
   "outputs": [
    {
     "data": {
      "text/html": [
       "<div>\n",
       "<style scoped>\n",
       "    .dataframe tbody tr th:only-of-type {\n",
       "        vertical-align: middle;\n",
       "    }\n",
       "\n",
       "    .dataframe tbody tr th {\n",
       "        vertical-align: top;\n",
       "    }\n",
       "\n",
       "    .dataframe thead th {\n",
       "        text-align: right;\n",
       "    }\n",
       "</style>\n",
       "<table border=\"1\" class=\"dataframe\">\n",
       "  <thead>\n",
       "    <tr style=\"text-align: right;\">\n",
       "      <th></th>\n",
       "      <th>Company Name</th>\n",
       "      <th>Ship Date</th>\n",
       "      <th>City</th>\n",
       "      <th>State</th>\n",
       "      <th>Zip</th>\n",
       "      <th>Shipping Service</th>\n",
       "      <th>Created Date</th>\n",
       "      <th>Weight</th>\n",
       "      <th>Item/Bottle Count</th>\n",
       "    </tr>\n",
       "  </thead>\n",
       "  <tbody>\n",
       "    <tr>\n",
       "      <th>6977</th>\n",
       "      <td>Ecom2</td>\n",
       "      <td>6/20/2021</td>\n",
       "      <td>Odessa</td>\n",
       "      <td>TX</td>\n",
       "      <td>79761</td>\n",
       "      <td>FEH</td>\n",
       "      <td>6/18/2021</td>\n",
       "      <td>7.0</td>\n",
       "      <td>2.0</td>\n",
       "    </tr>\n",
       "    <tr>\n",
       "      <th>16782</th>\n",
       "      <td>Ecom3</td>\n",
       "      <td>6/28/2021</td>\n",
       "      <td>Jacksonville</td>\n",
       "      <td>FL</td>\n",
       "      <td>32207</td>\n",
       "      <td>UPS</td>\n",
       "      <td>6/28/2021</td>\n",
       "      <td>21.5</td>\n",
       "      <td>6.0</td>\n",
       "    </tr>\n",
       "    <tr>\n",
       "      <th>3185</th>\n",
       "      <td>Ecom3</td>\n",
       "      <td>6/7/2021</td>\n",
       "      <td>winter garden</td>\n",
       "      <td>FL</td>\n",
       "      <td>34787</td>\n",
       "      <td>UPS</td>\n",
       "      <td>6/5/2021</td>\n",
       "      <td>14.0</td>\n",
       "      <td>4.0</td>\n",
       "    </tr>\n",
       "    <tr>\n",
       "      <th>4794</th>\n",
       "      <td>Ecom3</td>\n",
       "      <td>6/14/2021</td>\n",
       "      <td>Rockville</td>\n",
       "      <td>MD</td>\n",
       "      <td>20852</td>\n",
       "      <td>FEH</td>\n",
       "      <td>6/11/2021</td>\n",
       "      <td>7.0</td>\n",
       "      <td>2.0</td>\n",
       "    </tr>\n",
       "    <tr>\n",
       "      <th>5811</th>\n",
       "      <td>Ecom3</td>\n",
       "      <td>6/16/2021</td>\n",
       "      <td>Brooklyn</td>\n",
       "      <td>NY</td>\n",
       "      <td>11229</td>\n",
       "      <td>FEH</td>\n",
       "      <td>6/14/2021</td>\n",
       "      <td>21.5</td>\n",
       "      <td>6.0</td>\n",
       "    </tr>\n",
       "  </tbody>\n",
       "</table>\n",
       "</div>"
      ],
      "text/plain": [
       "      Company Name  Ship Date           City State    Zip Shipping Service  \\\n",
       "6977         Ecom2  6/20/2021         Odessa    TX  79761              FEH   \n",
       "16782        Ecom3  6/28/2021   Jacksonville    FL  32207              UPS   \n",
       "3185         Ecom3   6/7/2021  winter garden    FL  34787              UPS   \n",
       "4794         Ecom3  6/14/2021      Rockville    MD  20852              FEH   \n",
       "5811         Ecom3  6/16/2021       Brooklyn    NY  11229              FEH   \n",
       "\n",
       "      Created Date  Weight  Item/Bottle Count  \n",
       "6977     6/18/2021     7.0                2.0  \n",
       "16782    6/28/2021    21.5                6.0  \n",
       "3185      6/5/2021    14.0                4.0  \n",
       "4794     6/11/2021     7.0                2.0  \n",
       "5811     6/14/2021    21.5                6.0  "
      ]
     },
     "execution_count": 24,
     "metadata": {},
     "output_type": "execute_result"
    }
   ],
   "source": [
    "#See five random rows of data\n",
    "df_2021_06.sample(n=5)"
   ]
  },
  {
   "cell_type": "code",
   "execution_count": 25,
   "id": "a61f9697",
   "metadata": {},
   "outputs": [
    {
     "name": "stdout",
     "output_type": "stream",
     "text": [
      "Number of Rows:  17761\n",
      "Number of Columns:  9\n"
     ]
    }
   ],
   "source": [
    "#Determine total rows for df_2021_06.\n",
    "df_2021_06_rows = len(df_2021_06.axes[0])\n",
    "df_2021_06_cols = len(df_2021_06.axes[1])\n",
    "print(\"Number of Rows: \", df_2021_06_rows)\n",
    "print(\"Number of Columns: \", df_2021_06_cols)"
   ]
  },
  {
   "cell_type": "markdown",
   "id": "d997584e",
   "metadata": {},
   "source": [
    "## Export Cleaned df to .CSV"
   ]
  },
  {
   "cell_type": "code",
   "execution_count": 26,
   "id": "84bc21fc",
   "metadata": {},
   "outputs": [],
   "source": [
    "#Export df_2021_06 to .csv\n",
    "df_2021_06.to_csv('../cleaned_months_2021/Clean_2021_06.csv') "
   ]
  },
  {
   "cell_type": "code",
   "execution_count": null,
   "id": "22eef17a",
   "metadata": {},
   "outputs": [],
   "source": []
  }
 ],
 "metadata": {
  "kernelspec": {
   "display_name": "Python 3 (ipykernel)",
   "language": "python",
   "name": "python3"
  },
  "language_info": {
   "codemirror_mode": {
    "name": "ipython",
    "version": 3
   },
   "file_extension": ".py",
   "mimetype": "text/x-python",
   "name": "python",
   "nbconvert_exporter": "python",
   "pygments_lexer": "ipython3",
   "version": "3.7.13"
  }
 },
 "nbformat": 4,
 "nbformat_minor": 5
}
