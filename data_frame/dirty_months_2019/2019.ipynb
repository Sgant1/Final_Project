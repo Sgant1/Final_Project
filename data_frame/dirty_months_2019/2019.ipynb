{
 "cells": [
  {
   "cell_type": "code",
   "execution_count": 1,
   "id": "0ee3ff94",
   "metadata": {},
   "outputs": [],
   "source": [
    "#Pandas library to create DataFrames\n",
    "import pandas as pd\n",
    "#NumPy library for converting data types\n",
    "import numpy as np"
   ]
  },
  {
   "cell_type": "code",
   "execution_count": 2,
   "id": "43de2e17",
   "metadata": {},
   "outputs": [],
   "source": [
    "# Files to load\n",
    "load_2019 = \"../2019_Data/2019_data.csv\""
   ]
  },
  {
   "cell_type": "code",
   "execution_count": 3,
   "id": "0006005e",
   "metadata": {},
   "outputs": [
    {
     "data": {
      "text/html": [
       "<div>\n",
       "<style scoped>\n",
       "    .dataframe tbody tr th:only-of-type {\n",
       "        vertical-align: middle;\n",
       "    }\n",
       "\n",
       "    .dataframe tbody tr th {\n",
       "        vertical-align: top;\n",
       "    }\n",
       "\n",
       "    .dataframe thead th {\n",
       "        text-align: right;\n",
       "    }\n",
       "</style>\n",
       "<table border=\"1\" class=\"dataframe\">\n",
       "  <thead>\n",
       "    <tr style=\"text-align: right;\">\n",
       "      <th></th>\n",
       "      <th>Company Name</th>\n",
       "      <th>Ship Date</th>\n",
       "      <th>State</th>\n",
       "      <th>City</th>\n",
       "      <th>Created Date</th>\n",
       "      <th>Item/Bottle Count</th>\n",
       "      <th>Weight</th>\n",
       "    </tr>\n",
       "  </thead>\n",
       "  <tbody>\n",
       "    <tr>\n",
       "      <th>0</th>\n",
       "      <td>Ecom3</td>\n",
       "      <td>11/19/19</td>\n",
       "      <td>PA</td>\n",
       "      <td>STEELTON</td>\n",
       "      <td>11/18/19</td>\n",
       "      <td>6</td>\n",
       "      <td>18.0</td>\n",
       "    </tr>\n",
       "    <tr>\n",
       "      <th>1</th>\n",
       "      <td>Ecom3</td>\n",
       "      <td>11/15/19</td>\n",
       "      <td>FL</td>\n",
       "      <td>CORAL GABLES</td>\n",
       "      <td>11/14/19</td>\n",
       "      <td>12</td>\n",
       "      <td>36.0</td>\n",
       "    </tr>\n",
       "    <tr>\n",
       "      <th>2</th>\n",
       "      <td>Ecom3</td>\n",
       "      <td>11/14/19</td>\n",
       "      <td>IL</td>\n",
       "      <td>CHICAGO</td>\n",
       "      <td>11/13/19</td>\n",
       "      <td>6</td>\n",
       "      <td>18.0</td>\n",
       "    </tr>\n",
       "    <tr>\n",
       "      <th>3</th>\n",
       "      <td>Ecom3</td>\n",
       "      <td>11/15/19</td>\n",
       "      <td>NJ</td>\n",
       "      <td>Rumson</td>\n",
       "      <td>11/14/19</td>\n",
       "      <td>12</td>\n",
       "      <td>36.0</td>\n",
       "    </tr>\n",
       "    <tr>\n",
       "      <th>4</th>\n",
       "      <td>Ecom3</td>\n",
       "      <td>11/14/19</td>\n",
       "      <td>MD</td>\n",
       "      <td>PASADENA</td>\n",
       "      <td>11/13/19</td>\n",
       "      <td>6</td>\n",
       "      <td>18.0</td>\n",
       "    </tr>\n",
       "  </tbody>\n",
       "</table>\n",
       "</div>"
      ],
      "text/plain": [
       "  Company Name Ship Date State          City Created Date  Item/Bottle Count  \\\n",
       "0        Ecom3  11/19/19    PA      STEELTON     11/18/19                  6   \n",
       "1        Ecom3  11/15/19    FL  CORAL GABLES     11/14/19                 12   \n",
       "2        Ecom3  11/14/19    IL       CHICAGO     11/13/19                  6   \n",
       "3        Ecom3  11/15/19    NJ        Rumson     11/14/19                 12   \n",
       "4        Ecom3  11/14/19    MD      PASADENA     11/13/19                  6   \n",
       "\n",
       "   Weight  \n",
       "0    18.0  \n",
       "1    36.0  \n",
       "2    18.0  \n",
       "3    36.0  \n",
       "4    18.0  "
      ]
     },
     "execution_count": 3,
     "metadata": {},
     "output_type": "execute_result"
    }
   ],
   "source": [
    "# Read the January CSV into a DataFrame\n",
    "#Had to open each file in excel and save it as a .csv file instead of an .xlsm file in order for the encryption to be read properly.\n",
    "df_2019 = pd.read_csv(load_2019, encoding =\"utf8\")\n",
    "df_2019.head()"
   ]
  },
  {
   "cell_type": "markdown",
   "id": "83dcaaf9",
   "metadata": {},
   "source": [
    "## Inspect the Data"
   ]
  },
  {
   "cell_type": "code",
   "execution_count": 4,
   "id": "57327ad0",
   "metadata": {},
   "outputs": [
    {
     "data": {
      "text/html": [
       "<div>\n",
       "<style scoped>\n",
       "    .dataframe tbody tr th:only-of-type {\n",
       "        vertical-align: middle;\n",
       "    }\n",
       "\n",
       "    .dataframe tbody tr th {\n",
       "        vertical-align: top;\n",
       "    }\n",
       "\n",
       "    .dataframe thead th {\n",
       "        text-align: right;\n",
       "    }\n",
       "</style>\n",
       "<table border=\"1\" class=\"dataframe\">\n",
       "  <thead>\n",
       "    <tr style=\"text-align: right;\">\n",
       "      <th></th>\n",
       "      <th>Company Name</th>\n",
       "      <th>Ship Date</th>\n",
       "      <th>State</th>\n",
       "      <th>City</th>\n",
       "      <th>Created Date</th>\n",
       "      <th>Item/Bottle Count</th>\n",
       "      <th>Weight</th>\n",
       "    </tr>\n",
       "  </thead>\n",
       "  <tbody>\n",
       "    <tr>\n",
       "      <th>63165</th>\n",
       "      <td>Ecom3</td>\n",
       "      <td>12/12/19</td>\n",
       "      <td>NJ</td>\n",
       "      <td>Blairstown</td>\n",
       "      <td>12/11/19</td>\n",
       "      <td>2</td>\n",
       "      <td>6.0</td>\n",
       "    </tr>\n",
       "    <tr>\n",
       "      <th>60352</th>\n",
       "      <td>Ecom3</td>\n",
       "      <td>1/14/19</td>\n",
       "      <td>FL</td>\n",
       "      <td>DORAL</td>\n",
       "      <td>1/13/19</td>\n",
       "      <td>6</td>\n",
       "      <td>18.0</td>\n",
       "    </tr>\n",
       "    <tr>\n",
       "      <th>57169</th>\n",
       "      <td>Ecom3</td>\n",
       "      <td>1/7/19</td>\n",
       "      <td>KS</td>\n",
       "      <td>OVERLAND PARK</td>\n",
       "      <td>1/6/19</td>\n",
       "      <td>12</td>\n",
       "      <td>36.0</td>\n",
       "    </tr>\n",
       "    <tr>\n",
       "      <th>107434</th>\n",
       "      <td>Ecom1</td>\n",
       "      <td>2/6/19</td>\n",
       "      <td>CA</td>\n",
       "      <td>Los Angeles</td>\n",
       "      <td>2/5/19</td>\n",
       "      <td>3</td>\n",
       "      <td>9.0</td>\n",
       "    </tr>\n",
       "    <tr>\n",
       "      <th>65881</th>\n",
       "      <td>Ecom3</td>\n",
       "      <td>10/2/19</td>\n",
       "      <td>NY</td>\n",
       "      <td>Cornwall-on-Hudson</td>\n",
       "      <td>10/1/19</td>\n",
       "      <td>6</td>\n",
       "      <td>18.0</td>\n",
       "    </tr>\n",
       "  </tbody>\n",
       "</table>\n",
       "</div>"
      ],
      "text/plain": [
       "       Company Name Ship Date State                City Created Date  \\\n",
       "63165         Ecom3  12/12/19    NJ          Blairstown     12/11/19   \n",
       "60352         Ecom3   1/14/19    FL               DORAL      1/13/19   \n",
       "57169         Ecom3    1/7/19    KS       OVERLAND PARK       1/6/19   \n",
       "107434        Ecom1    2/6/19    CA         Los Angeles       2/5/19   \n",
       "65881         Ecom3   10/2/19    NY  Cornwall-on-Hudson      10/1/19   \n",
       "\n",
       "        Item/Bottle Count  Weight  \n",
       "63165                   2     6.0  \n",
       "60352                   6    18.0  \n",
       "57169                  12    36.0  \n",
       "107434                  3     9.0  \n",
       "65881                   6    18.0  "
      ]
     },
     "execution_count": 4,
     "metadata": {},
     "output_type": "execute_result"
    }
   ],
   "source": [
    "#See five random rows of data\n",
    "df_2019.sample(n=5)"
   ]
  },
  {
   "cell_type": "code",
   "execution_count": 5,
   "id": "bc4ba2a9",
   "metadata": {},
   "outputs": [
    {
     "data": {
      "text/html": [
       "<div>\n",
       "<style scoped>\n",
       "    .dataframe tbody tr th:only-of-type {\n",
       "        vertical-align: middle;\n",
       "    }\n",
       "\n",
       "    .dataframe tbody tr th {\n",
       "        vertical-align: top;\n",
       "    }\n",
       "\n",
       "    .dataframe thead th {\n",
       "        text-align: right;\n",
       "    }\n",
       "</style>\n",
       "<table border=\"1\" class=\"dataframe\">\n",
       "  <thead>\n",
       "    <tr style=\"text-align: right;\">\n",
       "      <th></th>\n",
       "      <th>Company Name</th>\n",
       "      <th>Ship Date</th>\n",
       "      <th>State</th>\n",
       "      <th>City</th>\n",
       "      <th>Created Date</th>\n",
       "      <th>Item/Bottle Count</th>\n",
       "      <th>Weight</th>\n",
       "    </tr>\n",
       "  </thead>\n",
       "  <tbody>\n",
       "    <tr>\n",
       "      <th>155162</th>\n",
       "      <td>Ecom2</td>\n",
       "      <td>12/30/19</td>\n",
       "      <td>FL</td>\n",
       "      <td>Miami Beach</td>\n",
       "      <td>12/29/19</td>\n",
       "      <td>2</td>\n",
       "      <td>6.0</td>\n",
       "    </tr>\n",
       "    <tr>\n",
       "      <th>155163</th>\n",
       "      <td>Ecom2</td>\n",
       "      <td>12/30/19</td>\n",
       "      <td>NC</td>\n",
       "      <td>Mooresville</td>\n",
       "      <td>12/29/19</td>\n",
       "      <td>2</td>\n",
       "      <td>6.0</td>\n",
       "    </tr>\n",
       "    <tr>\n",
       "      <th>155164</th>\n",
       "      <td>Ecom2</td>\n",
       "      <td>12/30/19</td>\n",
       "      <td>FL</td>\n",
       "      <td>Jupiter</td>\n",
       "      <td>12/29/19</td>\n",
       "      <td>2</td>\n",
       "      <td>6.0</td>\n",
       "    </tr>\n",
       "    <tr>\n",
       "      <th>155165</th>\n",
       "      <td>Ecom2</td>\n",
       "      <td>12/30/19</td>\n",
       "      <td>TX</td>\n",
       "      <td>Houston</td>\n",
       "      <td>12/29/19</td>\n",
       "      <td>2</td>\n",
       "      <td>6.0</td>\n",
       "    </tr>\n",
       "    <tr>\n",
       "      <th>155166</th>\n",
       "      <td>Ecom2</td>\n",
       "      <td>12/30/19</td>\n",
       "      <td>TX</td>\n",
       "      <td>Fort Worth</td>\n",
       "      <td>12/29/19</td>\n",
       "      <td>2</td>\n",
       "      <td>6.0</td>\n",
       "    </tr>\n",
       "  </tbody>\n",
       "</table>\n",
       "</div>"
      ],
      "text/plain": [
       "       Company Name Ship Date State         City Created Date  \\\n",
       "155162        Ecom2  12/30/19    FL  Miami Beach     12/29/19   \n",
       "155163        Ecom2  12/30/19    NC  Mooresville     12/29/19   \n",
       "155164        Ecom2  12/30/19    FL      Jupiter     12/29/19   \n",
       "155165        Ecom2  12/30/19    TX      Houston     12/29/19   \n",
       "155166        Ecom2  12/30/19    TX   Fort Worth     12/29/19   \n",
       "\n",
       "        Item/Bottle Count  Weight  \n",
       "155162                  2     6.0  \n",
       "155163                  2     6.0  \n",
       "155164                  2     6.0  \n",
       "155165                  2     6.0  \n",
       "155166                  2     6.0  "
      ]
     },
     "execution_count": 5,
     "metadata": {},
     "output_type": "execute_result"
    }
   ],
   "source": [
    "#See the last rows of data\n",
    "df_2019.tail(5)"
   ]
  },
  {
   "cell_type": "code",
   "execution_count": 6,
   "id": "d7373d6d",
   "metadata": {},
   "outputs": [
    {
     "data": {
      "text/plain": [
       "Index(['Company Name', 'Ship Date', 'State', 'City', 'Created Date',\n",
       "       'Item/Bottle Count', 'Weight'],\n",
       "      dtype='object')"
      ]
     },
     "execution_count": 6,
     "metadata": {},
     "output_type": "execute_result"
    }
   ],
   "source": [
    "df_2019.columns"
   ]
  },
  {
   "cell_type": "code",
   "execution_count": 7,
   "id": "b8417480",
   "metadata": {},
   "outputs": [
    {
     "name": "stdout",
     "output_type": "stream",
     "text": [
      "Number of Rows:  155167\n",
      "Number of Columns:  7\n"
     ]
    }
   ],
   "source": [
    "#Determine total rows for df_2019_01.\n",
    "df_2019_rows = len(df_2019.axes[0])\n",
    "df_2019_cols = len(df_2019.axes[1])\n",
    "print(\"Number of Rows: \", df_2019_rows)\n",
    "print(\"Number of Columns: \", df_2019_cols)"
   ]
  },
  {
   "cell_type": "code",
   "execution_count": 8,
   "id": "dee72ae5",
   "metadata": {},
   "outputs": [
    {
     "data": {
      "text/plain": [
       "Company Name         0\n",
       "Ship Date            0\n",
       "State                0\n",
       "City                 0\n",
       "Created Date         0\n",
       "Item/Bottle Count    0\n",
       "Weight               0\n",
       "dtype: int64"
      ]
     },
     "execution_count": 8,
     "metadata": {},
     "output_type": "execute_result"
    }
   ],
   "source": [
    "# Determine if there are any missing values in df_2019_01.\n",
    "df_2019.isnull().sum()"
   ]
  },
  {
   "cell_type": "code",
   "execution_count": 9,
   "id": "e4aa45ce",
   "metadata": {},
   "outputs": [
    {
     "data": {
      "text/plain": [
       "Company Name          object\n",
       "Ship Date             object\n",
       "State                 object\n",
       "City                  object\n",
       "Created Date          object\n",
       "Item/Bottle Count      int64\n",
       "Weight               float64\n",
       "dtype: object"
      ]
     },
     "execution_count": 9,
     "metadata": {},
     "output_type": "execute_result"
    }
   ],
   "source": [
    "# Determine data types for df_2019_01.\n",
    "df_2019.dtypes"
   ]
  },
  {
   "cell_type": "code",
   "execution_count": 11,
   "id": "ce126503",
   "metadata": {},
   "outputs": [
    {
     "data": {
      "text/plain": [
       "Ecom3      88255\n",
       "Ecom1      28727\n",
       "Ecom2      21222\n",
       "Winery1    14172\n",
       "Winery2     2410\n",
       "Winery3      381\n",
       "Name: Company Name, dtype: int64"
      ]
     },
     "execution_count": 11,
     "metadata": {},
     "output_type": "execute_result"
    }
   ],
   "source": [
    "df_2019['Company Name'].value_counts()"
   ]
  },
  {
   "cell_type": "code",
   "execution_count": 12,
   "id": "0a521509",
   "metadata": {},
   "outputs": [
    {
     "data": {
      "text/plain": [
       "4/12/19     2579\n",
       "11/8/19     2560\n",
       "2/18/19     2551\n",
       "9/14/19     2171\n",
       "12/16/19    1971\n",
       "            ... \n",
       "4/20/19        4\n",
       "8/11/19        2\n",
       "6/2/19         2\n",
       "4/14/19        2\n",
       "4/21/19        1\n",
       "Name: Ship Date, Length: 342, dtype: int64"
      ]
     },
     "execution_count": 12,
     "metadata": {},
     "output_type": "execute_result"
    }
   ],
   "source": [
    "df_2019['Ship Date'].value_counts()"
   ]
  },
  {
   "cell_type": "code",
   "execution_count": 13,
   "id": "5c24a22b",
   "metadata": {},
   "outputs": [
    {
     "data": {
      "text/plain": [
       "New York          3356\n",
       "NEW YORK          2217\n",
       "Chicago           2056\n",
       "Brooklyn          1125\n",
       "Houston           1038\n",
       "                  ... \n",
       "El Dorado            1\n",
       "Redwood Shores       1\n",
       "New Buffalo          1\n",
       "Green Village        1\n",
       "Ewa beach            1\n",
       "Name: City, Length: 11817, dtype: int64"
      ]
     },
     "execution_count": 13,
     "metadata": {},
     "output_type": "execute_result"
    }
   ],
   "source": [
    "df_2019['City'].value_counts()"
   ]
  },
  {
   "cell_type": "code",
   "execution_count": 14,
   "id": "4eac3f29",
   "metadata": {},
   "outputs": [
    {
     "data": {
      "text/plain": [
       "4/11/19     2579\n",
       "11/7/19     2560\n",
       "2/17/19     2551\n",
       "9/13/19     2171\n",
       "12/15/19    1971\n",
       "            ... \n",
       "4/19/19        4\n",
       "8/10/19        2\n",
       "6/1/19         2\n",
       "4/13/19        2\n",
       "4/20/19        1\n",
       "Name: Created Date, Length: 342, dtype: int64"
      ]
     },
     "execution_count": 14,
     "metadata": {},
     "output_type": "execute_result"
    }
   ],
   "source": [
    "df_2019['Created Date'].value_counts()"
   ]
  },
  {
   "cell_type": "code",
   "execution_count": 15,
   "id": "50ee4539",
   "metadata": {},
   "outputs": [
    {
     "data": {
      "text/plain": [
       "CA    18901\n",
       "NY    18573\n",
       "PA    10875\n",
       "TX    10817\n",
       "FL    10045\n",
       "IL     8987\n",
       "NJ     8265\n",
       "MA     6544\n",
       "MI     4669\n",
       "VA     4263\n",
       "OH     4192\n",
       "GA     4151\n",
       "CO     3758\n",
       "NC     3655\n",
       "MD     3040\n",
       "CT     2775\n",
       "WA     2618\n",
       "AZ     2388\n",
       "TN     2144\n",
       "MN     1985\n",
       "IN     1966\n",
       "WI     1960\n",
       "MO     1911\n",
       "SC     1698\n",
       "LA     1564\n",
       "OR     1273\n",
       "DC     1182\n",
       "NV     1102\n",
       "KS     1090\n",
       "HI      868\n",
       "NH      854\n",
       "RI      808\n",
       "AR      758\n",
       "IA      683\n",
       "NE      548\n",
       "NM      517\n",
       "ME      434\n",
       "ID      431\n",
       "OK      427\n",
       "SD      407\n",
       "MT      339\n",
       "AL      314\n",
       "VT      304\n",
       "WV      298\n",
       "AK      239\n",
       "WY      214\n",
       "ND      179\n",
       "DE      128\n",
       "KY       26\n",
       "Name: State, dtype: int64"
      ]
     },
     "execution_count": 15,
     "metadata": {},
     "output_type": "execute_result"
    }
   ],
   "source": [
    "df_2019['State'].value_counts()"
   ]
  },
  {
   "cell_type": "code",
   "execution_count": 16,
   "id": "8ebe2d26",
   "metadata": {},
   "outputs": [
    {
     "data": {
      "text/plain": [
       "18.0       59575\n",
       "6.0        26616\n",
       "9.0        21095\n",
       "12.0       18953\n",
       "36.0       16859\n",
       "           ...  \n",
       "16992.0        1\n",
       "40248.0        1\n",
       "31608.0        1\n",
       "5112.0         1\n",
       "584.0          1\n",
       "Name: Weight, Length: 67, dtype: int64"
      ]
     },
     "execution_count": 16,
     "metadata": {},
     "output_type": "execute_result"
    }
   ],
   "source": [
    "df_2019['Weight'].value_counts()"
   ]
  },
  {
   "cell_type": "code",
   "execution_count": 17,
   "id": "356cd94a",
   "metadata": {},
   "outputs": [
    {
     "data": {
      "text/plain": [
       "6        59674\n",
       "2        26238\n",
       "3        21905\n",
       "4        18785\n",
       "12       17073\n",
       "8         3023\n",
       "1         2390\n",
       "5         2226\n",
       "10        1284\n",
       "9         1132\n",
       "7         1118\n",
       "11         238\n",
       "672         53\n",
       "14           2\n",
       "16           1\n",
       "5772         1\n",
       "13           1\n",
       "4896         1\n",
       "6276         1\n",
       "6084         1\n",
       "1704         1\n",
       "10476        1\n",
       "13416        1\n",
       "5664         1\n",
       "12924        1\n",
       "13596        1\n",
       "216          1\n",
       "6111         1\n",
       "6684         1\n",
       "1572         1\n",
       "240          1\n",
       "288          1\n",
       "180          1\n",
       "192          1\n",
       "624          1\n",
       "252          1\n",
       "162          1\n",
       "283          1\n",
       "516          1\n",
       "181          1\n",
       "Name: Item/Bottle Count, dtype: int64"
      ]
     },
     "execution_count": 17,
     "metadata": {},
     "output_type": "execute_result"
    }
   ],
   "source": [
    "df_2019['Item/Bottle Count'].value_counts()"
   ]
  },
  {
   "cell_type": "markdown",
   "id": "68f6fedc",
   "metadata": {},
   "source": [
    "## Clean the Data"
   ]
  },
  {
   "cell_type": "code",
   "execution_count": 18,
   "id": "7344c4a2",
   "metadata": {},
   "outputs": [
    {
     "data": {
      "text/plain": [
       "Company Name          object\n",
       "Ship Date             object\n",
       "State                 object\n",
       "City                  object\n",
       "Created Date          object\n",
       "Item/Bottle Count    float64\n",
       "Weight               float64\n",
       "dtype: object"
      ]
     },
     "execution_count": 18,
     "metadata": {},
     "output_type": "execute_result"
    }
   ],
   "source": [
    "#Change [\"Item/Bottle Count\"] to float64 type in df_2019.\n",
    "df_2019[\"Item/Bottle Count\"]=df_2019[\"Item/Bottle Count\"].astype(float)\n",
    "df_2019.dtypes"
   ]
  },
  {
   "cell_type": "code",
   "execution_count": 19,
   "id": "bbb59fc5",
   "metadata": {},
   "outputs": [],
   "source": [
    "# Drop the NaNs for df_2019.\n",
    "df_2019 = df_2019.dropna()"
   ]
  },
  {
   "cell_type": "markdown",
   "id": "946b6578",
   "metadata": {},
   "source": [
    "## Confirm Changes"
   ]
  },
  {
   "cell_type": "code",
   "execution_count": 20,
   "id": "24f52aa4",
   "metadata": {},
   "outputs": [
    {
     "data": {
      "text/html": [
       "<div>\n",
       "<style scoped>\n",
       "    .dataframe tbody tr th:only-of-type {\n",
       "        vertical-align: middle;\n",
       "    }\n",
       "\n",
       "    .dataframe tbody tr th {\n",
       "        vertical-align: top;\n",
       "    }\n",
       "\n",
       "    .dataframe thead th {\n",
       "        text-align: right;\n",
       "    }\n",
       "</style>\n",
       "<table border=\"1\" class=\"dataframe\">\n",
       "  <thead>\n",
       "    <tr style=\"text-align: right;\">\n",
       "      <th></th>\n",
       "      <th>Company Name</th>\n",
       "      <th>Ship Date</th>\n",
       "      <th>State</th>\n",
       "      <th>City</th>\n",
       "      <th>Created Date</th>\n",
       "      <th>Item/Bottle Count</th>\n",
       "      <th>Weight</th>\n",
       "    </tr>\n",
       "  </thead>\n",
       "  <tbody>\n",
       "    <tr>\n",
       "      <th>39355</th>\n",
       "      <td>Ecom3</td>\n",
       "      <td>6/10/19</td>\n",
       "      <td>OH</td>\n",
       "      <td>CLEVELAND</td>\n",
       "      <td>6/9/19</td>\n",
       "      <td>6.0</td>\n",
       "      <td>18.0</td>\n",
       "    </tr>\n",
       "    <tr>\n",
       "      <th>145521</th>\n",
       "      <td>Ecom2</td>\n",
       "      <td>10/1/19</td>\n",
       "      <td>NY</td>\n",
       "      <td>Lancaster</td>\n",
       "      <td>9/30/19</td>\n",
       "      <td>2.0</td>\n",
       "      <td>6.0</td>\n",
       "    </tr>\n",
       "    <tr>\n",
       "      <th>45999</th>\n",
       "      <td>Ecom3</td>\n",
       "      <td>7/19/19</td>\n",
       "      <td>MO</td>\n",
       "      <td>BRANSON</td>\n",
       "      <td>7/18/19</td>\n",
       "      <td>12.0</td>\n",
       "      <td>36.0</td>\n",
       "    </tr>\n",
       "    <tr>\n",
       "      <th>138449</th>\n",
       "      <td>Ecom2</td>\n",
       "      <td>7/28/19</td>\n",
       "      <td>NY</td>\n",
       "      <td>Rockaway Park</td>\n",
       "      <td>7/27/19</td>\n",
       "      <td>2.0</td>\n",
       "      <td>6.0</td>\n",
       "    </tr>\n",
       "    <tr>\n",
       "      <th>142654</th>\n",
       "      <td>Ecom2</td>\n",
       "      <td>8/10/19</td>\n",
       "      <td>NY</td>\n",
       "      <td>MERRICK</td>\n",
       "      <td>8/9/19</td>\n",
       "      <td>2.0</td>\n",
       "      <td>6.0</td>\n",
       "    </tr>\n",
       "  </tbody>\n",
       "</table>\n",
       "</div>"
      ],
      "text/plain": [
       "       Company Name Ship Date State           City Created Date  \\\n",
       "39355         Ecom3   6/10/19    OH      CLEVELAND       6/9/19   \n",
       "145521        Ecom2   10/1/19    NY      Lancaster      9/30/19   \n",
       "45999         Ecom3   7/19/19    MO        BRANSON      7/18/19   \n",
       "138449        Ecom2   7/28/19    NY  Rockaway Park      7/27/19   \n",
       "142654        Ecom2   8/10/19    NY        MERRICK       8/9/19   \n",
       "\n",
       "        Item/Bottle Count  Weight  \n",
       "39355                 6.0    18.0  \n",
       "145521                2.0     6.0  \n",
       "45999                12.0    36.0  \n",
       "138449                2.0     6.0  \n",
       "142654                2.0     6.0  "
      ]
     },
     "execution_count": 20,
     "metadata": {},
     "output_type": "execute_result"
    }
   ],
   "source": [
    "#See five random rows of data\n",
    "df_2019.sample(n=5)"
   ]
  },
  {
   "cell_type": "code",
   "execution_count": 21,
   "id": "a61f9697",
   "metadata": {},
   "outputs": [
    {
     "name": "stdout",
     "output_type": "stream",
     "text": [
      "Number of Rows:  155167\n",
      "Number of Columns:  7\n"
     ]
    }
   ],
   "source": [
    "#Determine total rows for df_2019.\n",
    "df_2019_rows = len(df_2019.axes[0])\n",
    "df_2019_cols = len(df_2019.axes[1])\n",
    "print(\"Number of Rows: \", df_2019_rows)\n",
    "print(\"Number of Columns: \", df_2019_cols)"
   ]
  },
  {
   "cell_type": "markdown",
   "id": "d997584e",
   "metadata": {},
   "source": [
    "## Export Cleaned df to .CSV"
   ]
  },
  {
   "cell_type": "code",
   "execution_count": 22,
   "id": "84bc21fc",
   "metadata": {},
   "outputs": [],
   "source": [
    "#Export df_2019 to .csv\n",
    "df_2019.to_csv('../cleaned_months_2019/Clean_2019.csv') "
   ]
  },
  {
   "cell_type": "code",
   "execution_count": null,
   "id": "22eef17a",
   "metadata": {},
   "outputs": [],
   "source": []
  }
 ],
 "metadata": {
  "kernelspec": {
   "display_name": "Python 3 (ipykernel)",
   "language": "python",
   "name": "python3"
  },
  "language_info": {
   "codemirror_mode": {
    "name": "ipython",
    "version": 3
   },
   "file_extension": ".py",
   "mimetype": "text/x-python",
   "name": "python",
   "nbconvert_exporter": "python",
   "pygments_lexer": "ipython3",
   "version": "3.7.13"
  }
 },
 "nbformat": 4,
 "nbformat_minor": 5
}
