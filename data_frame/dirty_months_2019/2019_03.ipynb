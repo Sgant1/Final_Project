{
 "cells": [
  {
   "cell_type": "code",
   "execution_count": null,
   "id": "0ee3ff94",
   "metadata": {},
   "outputs": [],
   "source": [
    "#Pandas library to create DataFrames\n",
    "import pandas as pd\n",
    "#NumPy library for converting data types\n",
    "import numpy as np"
   ]
  },
  {
   "cell_type": "code",
   "execution_count": null,
   "id": "43de2e17",
   "metadata": {},
   "outputs": [],
   "source": [
    "# Files to load\n",
    "load_2019_03 = \"../2020_Data/2019.03_utf-8.csv\""
   ]
  },
  {
   "cell_type": "code",
   "execution_count": null,
   "id": "0006005e",
   "metadata": {},
   "outputs": [],
   "source": [
    "# Read the March CSV into a DataFrame\n",
    "#Had to open each file in excel and save it as a .csv file instead of an .xlsm file in order for the encryption to be read properly.\n",
    "df_2019_03 = pd.read_csv(load_2019_03, encoding =\"utf8\")\n",
    "df_2019_03.head()"
   ]
  },
  {
   "cell_type": "markdown",
   "id": "83dcaaf9",
   "metadata": {},
   "source": [
    "## Inspect the Data"
   ]
  },
  {
   "cell_type": "code",
   "execution_count": null,
   "id": "57327ad0",
   "metadata": {},
   "outputs": [],
   "source": [
    "#See five random rows of data\n",
    "df_2019_03.sample(n=5)"
   ]
  },
  {
   "cell_type": "code",
   "execution_count": null,
   "id": "bc4ba2a9",
   "metadata": {},
   "outputs": [],
   "source": [
    "#See the last rows of data\n",
    "df_2019_03.tail(5)"
   ]
  },
  {
   "cell_type": "code",
   "execution_count": null,
   "id": "d7373d6d",
   "metadata": {},
   "outputs": [],
   "source": [
    "df_2019_03.columns"
   ]
  },
  {
   "cell_type": "code",
   "execution_count": null,
   "id": "b8417480",
   "metadata": {},
   "outputs": [],
   "source": [
    "#Determine total rows for df_2019_03.\n",
    "df_2019_03_rows = len(df_2019_03.axes[0])\n",
    "df_2019_03_cols = len(df_2019_03.axes[1])\n",
    "print(\"Number of Rows: \", df_2019_03_rows)\n",
    "print(\"Number of Columns: \", df_2019_03_cols)"
   ]
  },
  {
   "cell_type": "code",
   "execution_count": null,
   "id": "dee72ae5",
   "metadata": {},
   "outputs": [],
   "source": [
    "# Determine if there are any missing values in df_2019_03.\n",
    "df_2019_03.isnull().sum()"
   ]
  },
  {
   "cell_type": "code",
   "execution_count": null,
   "id": "e4aa45ce",
   "metadata": {},
   "outputs": [],
   "source": [
    "# Determine data types for df_2019_03.\n",
    "df_2019_03.dtypes"
   ]
  },
  {
   "cell_type": "code",
   "execution_count": null,
   "id": "ce126503",
   "metadata": {},
   "outputs": [],
   "source": [
    "df_2019_03['Company Name'].value_counts()"
   ]
  },
  {
   "cell_type": "code",
   "execution_count": null,
   "id": "0a521509",
   "metadata": {},
   "outputs": [],
   "source": [
    "df_2019_03['Ship Date'].value_counts()"
   ]
  },
  {
   "cell_type": "code",
   "execution_count": null,
   "id": "b8789edb",
   "metadata": {},
   "outputs": [],
   "source": [
    "df_2019_03['Status'].value_counts()"
   ]
  },
  {
   "cell_type": "code",
   "execution_count": null,
   "id": "5c24a22b",
   "metadata": {},
   "outputs": [],
   "source": [
    "df_2019_03['City'].value_counts()"
   ]
  },
  {
   "cell_type": "code",
   "execution_count": null,
   "id": "50ee4539",
   "metadata": {},
   "outputs": [],
   "source": [
    "df_2019_03['State'].value_counts()"
   ]
  },
  {
   "cell_type": "code",
   "execution_count": null,
   "id": "6a27c6dd",
   "metadata": {},
   "outputs": [],
   "source": [
    "df_2019_03['Zip'].value_counts()"
   ]
  },
  {
   "cell_type": "code",
   "execution_count": null,
   "id": "93a3d82a",
   "metadata": {},
   "outputs": [],
   "source": [
    "df_2019_03['Shipping Service'].value_counts()"
   ]
  },
  {
   "cell_type": "code",
   "execution_count": null,
   "id": "f31c6641",
   "metadata": {},
   "outputs": [],
   "source": [
    "df_2019_03['Created Date'].value_counts()\n",
    "#Ok to have dates from other months- Sometimes people will create an order and hold onto it until an adult is present to sign for delivery."
   ]
  },
  {
   "cell_type": "code",
   "execution_count": null,
   "id": "8ebe2d26",
   "metadata": {},
   "outputs": [],
   "source": [
    "df_2019_03['Weight'].value_counts()"
   ]
  },
  {
   "cell_type": "code",
   "execution_count": null,
   "id": "356cd94a",
   "metadata": {},
   "outputs": [],
   "source": [
    "df_2019_03['Item/Bottle Count'].value_counts()"
   ]
  },
  {
   "cell_type": "markdown",
   "id": "68f6fedc",
   "metadata": {},
   "source": [
    "## Clean the Data"
   ]
  },
  {
   "cell_type": "code",
   "execution_count": null,
   "id": "7344c4a2",
   "metadata": {},
   "outputs": [],
   "source": [
    "#Change dtypes if necessary"
   ]
  },
  {
   "cell_type": "code",
   "execution_count": null,
   "id": "02ffce8c",
   "metadata": {},
   "outputs": [],
   "source": [
    "#Remove \"Status\" column from df_2019_03.\n",
    "df_2019_03 = df_2019_03.drop('Status', axis=1)\n",
    "df_2019_03"
   ]
  },
  {
   "cell_type": "code",
   "execution_count": null,
   "id": "bbb59fc5",
   "metadata": {},
   "outputs": [],
   "source": [
    "# Drop the NaNs for df_2019_03.\n",
    "df_2019_03 = df_2019_03.dropna()"
   ]
  },
  {
   "cell_type": "markdown",
   "id": "946b6578",
   "metadata": {},
   "source": [
    "## Confirm Changes"
   ]
  },
  {
   "cell_type": "code",
   "execution_count": null,
   "id": "24f52aa4",
   "metadata": {},
   "outputs": [],
   "source": [
    "#See five random rows of data\n",
    "df_2019_03.sample(n=5)"
   ]
  },
  {
   "cell_type": "code",
   "execution_count": null,
   "id": "a61f9697",
   "metadata": {},
   "outputs": [],
   "source": [
    "#Determine total rows for df_2019_03.\n",
    "df_2019_03_rows = len(df_2019_03.axes[0])\n",
    "df_2019_03_cols = len(df_2019_03.axes[1])\n",
    "print(\"Number of Rows: \", df_2019_03_rows)\n",
    "print(\"Number of Columns: \", df_2019_03_cols)"
   ]
  },
  {
   "cell_type": "code",
   "execution_count": null,
   "id": "5baf6d0d",
   "metadata": {},
   "outputs": [],
   "source": [
    "df_2019_03['Company Name'].value_counts()\n",
    "#Checking to make sure Winery3 is included."
   ]
  },
  {
   "cell_type": "markdown",
   "id": "d997584e",
   "metadata": {},
   "source": [
    "## Export Cleaned df to .CSV"
   ]
  },
  {
   "cell_type": "code",
   "execution_count": null,
   "id": "84bc21fc",
   "metadata": {},
   "outputs": [],
   "source": [
    "#Export df_2019_03 to .csv\n",
    "df_2019_03.to_csv('../cleaned_months_2019/Clean_2019_03.csv') "
   ]
  },
  {
   "cell_type": "code",
   "execution_count": null,
   "id": "22eef17a",
   "metadata": {},
   "outputs": [],
   "source": []
  }
 ],
 "metadata": {
  "kernelspec": {
   "display_name": "Python 3 (ipykernel)",
   "language": "python",
   "name": "python3"
  },
  "language_info": {
   "codemirror_mode": {
    "name": "ipython",
    "version": 3
   },
   "file_extension": ".py",
   "mimetype": "text/x-python",
   "name": "python",
   "nbconvert_exporter": "python",
   "pygments_lexer": "ipython3",
   "version": "3.7.13"
  }
 },
 "nbformat": 4,
 "nbformat_minor": 5
}
