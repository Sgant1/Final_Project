{
 "cells": [
  {
   "cell_type": "code",
   "execution_count": null,
   "id": "e0bf89d9",
   "metadata": {},
   "outputs": [],
   "source": [
    "import pandas as pd\n",
    "import os\n",
    "import numpy as np"
   ]
  },
  {
   "cell_type": "markdown",
   "id": "8c970784",
   "metadata": {},
   "source": [
    "# Import CSV files for all 12 months of 2021"
   ]
  },
  {
   "cell_type": "code",
   "execution_count": null,
   "id": "bcedd12a",
   "metadata": {},
   "outputs": [],
   "source": [
    "# Files to load\n",
    "load_2021_01 = \"../2021_Data/2021.01.csv\"\n",
    "load_2021_02 = \"../2021_Data/2021.02.csv\"\n",
    "load_2021_03 = \"../2021_Data/copy2021.03.csv\"\n",
    "load_2021_04 = \"../2021_Data/2021.04.csv\"\n",
    "load_2021_05 = \"../2021_Data/2021.05.csv\"\n",
    "load_2021_06 = \"../2021_Data/2021.06.csv\"\n",
    "load_2021_07 = \"../2021_Data/2021.07.csv\"\n",
    "load_2021_08 = \"../2021_Data/2021.08.csv\"\n",
    "load_2021_09 = \"../2021_Data/2021.09.csv\"\n",
    "load_2021_10 = \"../2021_Data/2021.10.csv\"\n",
    "load_2021_11 = \"../2021_Data/2021.11.csv\"\n",
    "load_2021_12 = \"../2021_Data/2021.12.csv\""
   ]
  },
  {
   "cell_type": "markdown",
   "id": "abc5ad00",
   "metadata": {},
   "source": [
    "## Read each CSV file into individual DataFrames"
   ]
  },
  {
   "cell_type": "code",
   "execution_count": null,
   "id": "4b81d537",
   "metadata": {},
   "outputs": [],
   "source": [
    "# Read the January CSV into a DataFrame\n",
    "#DtypeWarning: Columns (0,1,2,3,4,5,6,7) have mixed types. Specify dtype option on import or set low_memory=False.\n",
    "#Had to open each file in excel and save it as a .csv file instead of an .xlsm file in order for the encryption to be read properly.\n",
    "df_2021_01 = pd.read_csv(load_2021_01, low_memory=False)\n",
    "#df_2021_01.head()"
   ]
  },
  {
   "cell_type": "code",
   "execution_count": null,
   "id": "9d0f7c53",
   "metadata": {},
   "outputs": [],
   "source": [
    "# Read the February CSV into a DataFrame\n",
    "df_2021_02 = pd.read_csv(load_2021_02)\n",
    "#df_2021_02.head()"
   ]
  },
  {
   "cell_type": "code",
   "execution_count": null,
   "id": "e88188a8",
   "metadata": {},
   "outputs": [],
   "source": [
    "# Read the March CSV into a DataFrame\n",
    "#DtypeWarning: Columns (0,1,2,3,4,5,6,7) have mixed types. Specify dtype option on import or set low_memory=False.\n",
    "df_2021_03 = pd.read_csv(load_2021_03, low_memory=False)\n",
    "#df_2021_03.head()"
   ]
  },
  {
   "cell_type": "code",
   "execution_count": null,
   "id": "afa759a3",
   "metadata": {},
   "outputs": [],
   "source": [
    "# Read the April CSV into a DataFrame\n",
    "#DtypeWarning: Columns (0,1,2,3,4,5,6,7) have mixed types. Specify dtype option on import or set low_memory=False.\n",
    "df_2021_04 = pd.read_csv(load_2021_04, low_memory=False)\n",
    "#df_2021_04.head()"
   ]
  },
  {
   "cell_type": "code",
   "execution_count": null,
   "id": "feeb6d0e",
   "metadata": {},
   "outputs": [],
   "source": [
    "# Read the May CSV into a DataFrame\n",
    "#DtypeWarning: Columns (0,1,2,3,4,5,6,7) have mixed types. Specify dtype option on import or set low_memory=False.\n",
    "df_2021_05 = pd.read_csv(load_2021_05, low_memory=False)\n",
    "#df_2021_05.head()"
   ]
  },
  {
   "cell_type": "code",
   "execution_count": null,
   "id": "5428e6ef",
   "metadata": {},
   "outputs": [],
   "source": [
    "# Read the June CSV into a DataFrame\n",
    "#DtypeWarning: Columns (0,1,2,3,4,5,6,7) have mixed types. Specify dtype option on import or set low_memory=False.\n",
    "df_2021_06 = pd.read_csv(load_2021_06, low_memory=False)\n",
    "#df_2021_06.head()"
   ]
  },
  {
   "cell_type": "code",
   "execution_count": null,
   "id": "ef52feec",
   "metadata": {},
   "outputs": [],
   "source": [
    "# Read the July CSV into a DataFrame\n",
    "df_2021_07 = pd.read_csv(load_2021_07)\n",
    "#df_2021_07.head()"
   ]
  },
  {
   "cell_type": "code",
   "execution_count": null,
   "id": "4bdcc21b",
   "metadata": {},
   "outputs": [],
   "source": [
    "# Read the August CSV into a DataFrame\n",
    "df_2021_08 = pd.read_csv(load_2021_08)\n",
    "#df_2021_08.head()"
   ]
  },
  {
   "cell_type": "code",
   "execution_count": null,
   "id": "5601e605",
   "metadata": {},
   "outputs": [],
   "source": [
    "# Read the September CSV into a DataFrame\n",
    "df_2021_09 = pd.read_csv(load_2021_09, low_memory=False)\n",
    "#df_2021_09.head()"
   ]
  },
  {
   "cell_type": "code",
   "execution_count": null,
   "id": "bcbff027",
   "metadata": {},
   "outputs": [],
   "source": [
    "# Read the October CSV into a DataFrame\n",
    "df_2021_10 = pd.read_csv(load_2021_10, low_memory=False)\n",
    "#df_2021_10.head()"
   ]
  },
  {
   "cell_type": "code",
   "execution_count": null,
   "id": "9198f572",
   "metadata": {},
   "outputs": [],
   "source": [
    "# Read the November CSV into a DataFrame\n",
    "df_2021_11 = pd.read_csv(load_2021_11, low_memory=False)\n",
    "#df_2021_11.head()"
   ]
  },
  {
   "cell_type": "code",
   "execution_count": null,
   "id": "a6f2587d",
   "metadata": {},
   "outputs": [],
   "source": [
    "# Read the December CSV into a DataFrame\n",
    "df_2021_12 = pd.read_csv(load_2021_12, low_memory=False)\n",
    "#df_2021_12.head()"
   ]
  },
  {
   "cell_type": "markdown",
   "id": "69aaa7bc",
   "metadata": {},
   "source": [
    "## Set Index to Company Name"
   ]
  },
  {
   "cell_type": "code",
   "execution_count": null,
   "id": "1e226245",
   "metadata": {},
   "outputs": [],
   "source": [
    "#Set index to \"Company Name\" for all df.\n",
    "df_2020_01.set_index(\"Company Name\")\n",
    "df_2020_02.set_index(\"Company Name\")\n",
    "df_2020_03.set_index(\"Company Name\")\n",
    "df_2020_04.set_index(\"Company Name\")\n",
    "df_2020_05.set_index(\"Company Name\")\n",
    "df_2020_06.set_index(\"Company Name\")\n",
    "df_2020_07.set_index(\"Company Name\")\n",
    "df_2020_08.set_index(\"Company Name\")\n",
    "df_2020_09.set_index(\"Company Name\")\n",
    "df_2020_10.set_index(\"Company Name\")\n",
    "df_2020_11.set_index(\"Company Name\")\n",
    "df_2020_12.set_index(\"Company Name\")"
   ]
  },
  {
   "cell_type": "markdown",
   "id": "dfcd5a94",
   "metadata": {},
   "source": [
    "## Determine length of dataframes (Something isn't right here.)"
   ]
  },
  {
   "cell_type": "code",
   "execution_count": null,
   "id": "d50612ef",
   "metadata": {},
   "outputs": [],
   "source": [
    "#Determine total rows for df_2021_01.\n",
    "df_2021_01_rows = len(df_2021_01.axes[0])\n",
    "df_2021_01_cols = len(df_2021_01.axes[1])\n",
    "print(\"Number of Rows: \", df_2021_01_rows)\n",
    "print(\"Number of Columns: \", df_2021_01_cols)"
   ]
  },
  {
   "cell_type": "code",
   "execution_count": null,
   "id": "77185f15",
   "metadata": {},
   "outputs": [],
   "source": [
    "#Determine total rows for df_2021_02.\n",
    "df_2021_02_rows = len(df_2021_02.axes[0])\n",
    "df_2021_02_cols = len(df_2021_02.axes[1])\n",
    "print(\"Number of Rows: \", df_2021_02_rows)\n",
    "print(\"Number of Columns: \", df_2021_02_cols)"
   ]
  },
  {
   "cell_type": "code",
   "execution_count": null,
   "id": "8e663d1b",
   "metadata": {},
   "outputs": [],
   "source": [
    "#Determine total rows for df_2021_03.\n",
    "df_2021_03_rows = len(df_2021_03.axes[0])\n",
    "df_2021_03_cols = len(df_2021_03.axes[1])\n",
    "print(\"Number of Rows: \", df_2021_03_rows)\n",
    "print(\"Number of Columns: \", df_2021_03_cols)"
   ]
  },
  {
   "cell_type": "code",
   "execution_count": null,
   "id": "d1c43ee6",
   "metadata": {},
   "outputs": [],
   "source": [
    "#Determine total rows for df_2021_04.\n",
    "df_2021_04_rows = len(df_2021_04.axes[0])\n",
    "df_2021_04_cols = len(df_2021_04.axes[1])\n",
    "print(\"Number of Rows: \", df_2021_04_rows)\n",
    "print(\"Number of Columns: \", df_2021_04_cols)"
   ]
  },
  {
   "cell_type": "code",
   "execution_count": null,
   "id": "52d83067",
   "metadata": {},
   "outputs": [],
   "source": [
    "#Determine total rows for df_2021_05.\n",
    "df_2021_05_rows = len(df_2021_05.axes[0])\n",
    "df_2021_05_cols = len(df_2021_05.axes[1])\n",
    "print(\"Number of Rows: \", df_2021_05_rows)\n",
    "print(\"Number of Columns: \", df_2021_05_cols)"
   ]
  },
  {
   "cell_type": "code",
   "execution_count": null,
   "id": "bc43628e",
   "metadata": {},
   "outputs": [],
   "source": [
    "#Determine total rows for df_2021_06.\n",
    "df_2021_06_rows = len(df_2021_06.axes[0])\n",
    "df_2021_06_cols = len(df_2021_06.axes[1])\n",
    "print(\"Number of Rows: \", df_2021_06_rows)\n",
    "print(\"Number of Columns: \", df_2021_06_cols)"
   ]
  },
  {
   "cell_type": "code",
   "execution_count": null,
   "id": "39488577",
   "metadata": {},
   "outputs": [],
   "source": [
    "#Determine total rows for df_2021_07.\n",
    "df_2021_07_rows = len(df_2021_07.axes[0])\n",
    "df_2021_07_cols = len(df_2021_07.axes[1])\n",
    "print(\"Number of Rows: \", df_2021_07_rows)\n",
    "print(\"Number of Columns: \", df_2021_07_cols)"
   ]
  },
  {
   "cell_type": "code",
   "execution_count": null,
   "id": "abffb852",
   "metadata": {},
   "outputs": [],
   "source": [
    "#Determine total rows for df_2020_08.\n",
    "df_2021_08_rows = len(df_2021_08.axes[0])\n",
    "df_2021_08_cols = len(df_2021_08.axes[1])\n",
    "print(\"Number of Rows: \", df_2021_08_rows)\n",
    "print(\"Number of Columns: \", df_2021_08_cols)"
   ]
  },
  {
   "cell_type": "code",
   "execution_count": null,
   "id": "ba818b55",
   "metadata": {},
   "outputs": [],
   "source": [
    "#Determine total rows for df_2021_09.\n",
    "df_2021_09_rows = len(df_2021_09.axes[0])\n",
    "df_2021_09_cols = len(df_2021_09.axes[1])\n",
    "print(\"Number of Rows: \", df_2021_09_rows)\n",
    "print(\"Number of Columns: \", df_2021_09_cols)"
   ]
  },
  {
   "cell_type": "code",
   "execution_count": null,
   "id": "5fab9a39",
   "metadata": {},
   "outputs": [],
   "source": [
    "#Determine total rows for df_2021_10.\n",
    "df_2021_10_rows = len(df_2021_10.axes[0])\n",
    "df_2021_10_cols = len(df_2021_10.axes[1])\n",
    "print(\"Number of Rows: \", df_2021_10_rows)\n",
    "print(\"Number of Columns: \", df_2021_10_cols)"
   ]
  },
  {
   "cell_type": "code",
   "execution_count": null,
   "id": "2d267b03",
   "metadata": {},
   "outputs": [],
   "source": [
    "#Determine total rows for df_2021_11.\n",
    "df_2021_11_rows = len(df_2021_11.axes[0])\n",
    "df_2021_11_cols = len(df_2021_11.axes[1])\n",
    "print(\"Number of Rows: \", df_2021_11_rows)\n",
    "print(\"Number of Columns: \", df_2021_11_cols)"
   ]
  },
  {
   "cell_type": "code",
   "execution_count": null,
   "id": "89afea5e",
   "metadata": {},
   "outputs": [],
   "source": [
    "#Determine total rows for df_2021_12.\n",
    "df_2021_12_rows = len(df_2021_12.axes[0])\n",
    "df_2021_12_cols = len(df_2021_12.axes[1])\n",
    "print(\"Number of Rows: \", df_2021_12_rows)\n",
    "print(\"Number of Columns: \", df_2021_12_cols)"
   ]
  },
  {
   "cell_type": "code",
   "execution_count": null,
   "id": "15e8116b",
   "metadata": {},
   "outputs": [],
   "source": [
    "#Row/Column Summary\n",
    "#1 Number of Rows:  668252, Number of Columns:  10\n",
    "#2 Number of Rows:  26845, Number of Columns:  11\n",
    "#3 Number of Rows:  601534, Number of Columns:  10\n",
    "#4 Number of Rows:  601137, Number of Columns:  10\n",
    "#5 Number of Rows:  675963, Number of Columns:  10\n",
    "#6 Number of Rows:  706897, Number of Columns:  10\n",
    "#7 Number of Rows:  12778, Number of Columns:  10\n",
    "#8 Number of Rows:  13091, Number of Columns:  10\n",
    "#9 Number of Rows:  741722, Number of Columns:  11\n",
    "#10 Number of Rows:  716040, Number of Columns:  10\n",
    "#11 Number of Rows:  647989, Number of Columns:  10\n",
    "#12 Number of Rows:  617209, Number of Columns:  10"
   ]
  },
  {
   "cell_type": "markdown",
   "id": "773ccb21",
   "metadata": {},
   "source": [
    "## Inspect DataFrames for Null Values (Missing a lot of data- something about how the data was extracted.)"
   ]
  },
  {
   "cell_type": "code",
   "execution_count": null,
   "id": "27875237",
   "metadata": {},
   "outputs": [],
   "source": [
    "# Determine if there are any missing values in df_2021_01.\n",
    "#Missing 96% of values.\n",
    "df_2021_01.isnull().sum()"
   ]
  },
  {
   "cell_type": "code",
   "execution_count": null,
   "id": "d263363d",
   "metadata": {},
   "outputs": [],
   "source": [
    "# Determine if there are any missing values in df_2021_02.\n",
    "#Missing 2% of values from Status, Created Date, Weight and Item/Bottle Count.\n",
    "df_2021_02.isnull().sum()"
   ]
  },
  {
   "cell_type": "code",
   "execution_count": null,
   "id": "b4dff945",
   "metadata": {},
   "outputs": [],
   "source": [
    "df_2021_02.isnull().sum()"
   ]
  },
  {
   "cell_type": "code",
   "execution_count": null,
   "id": "6c6dd102",
   "metadata": {},
   "outputs": [],
   "source": [
    "# Determine if there are any missing values in df_2021_03.\n",
    "#Missing 96% of values.\n",
    "df_2021_03.isnull().sum()"
   ]
  },
  {
   "cell_type": "code",
   "execution_count": null,
   "id": "26a2f709",
   "metadata": {},
   "outputs": [],
   "source": [
    "# Determine if there are any missing values in df_2021_04.\n",
    "#Missing 96% of values.\n",
    "df_2021_04.isnull().sum()"
   ]
  },
  {
   "cell_type": "code",
   "execution_count": null,
   "id": "e6f7a7d7",
   "metadata": {},
   "outputs": [],
   "source": [
    "# Determine if there are any missing values in df_2021_05.\n",
    "#Missing 97%\n",
    "df_2021_05.isnull().sum()"
   ]
  },
  {
   "cell_type": "code",
   "execution_count": null,
   "id": "4f89ed7d",
   "metadata": {},
   "outputs": [],
   "source": [
    "# Determine if there are any missing values in df_2021_06.\n",
    "#Missing 97%\n",
    "df_2021_06.isnull().sum()"
   ]
  },
  {
   "cell_type": "code",
   "execution_count": null,
   "id": "d1a85164",
   "metadata": {},
   "outputs": [],
   "source": [
    "# Determine if there are any missing values in df_2021_07.\n",
    "#Missing 100% of values from Status column.\n",
    "df_2021_07.isnull().sum()"
   ]
  },
  {
   "cell_type": "code",
   "execution_count": null,
   "id": "0592a443",
   "metadata": {},
   "outputs": [],
   "source": [
    "# Determine if there are any missing values in df_2021_08.\n",
    "df_2021_08.isnull().sum()"
   ]
  },
  {
   "cell_type": "code",
   "execution_count": null,
   "id": "dd63d146",
   "metadata": {},
   "outputs": [],
   "source": [
    "# Determine if there are any missing values in df_2021_09.\n",
    "df_2021_09.isnull().sum()"
   ]
  },
  {
   "cell_type": "code",
   "execution_count": null,
   "id": "869618d6",
   "metadata": {},
   "outputs": [],
   "source": [
    "# Determine if there are any missing values in df_2021_10.\n",
    "df_2021_10.isnull().sum()"
   ]
  },
  {
   "cell_type": "code",
   "execution_count": null,
   "id": "c3a64d86",
   "metadata": {},
   "outputs": [],
   "source": [
    "# Determine if there are any missing values in df_2021_11.\n",
    "df_2021_11.isnull().sum()"
   ]
  },
  {
   "cell_type": "code",
   "execution_count": null,
   "id": "7946c9c6",
   "metadata": {},
   "outputs": [],
   "source": [
    "# Determine if there are any missing values in df_2021_12.\n",
    "df_2021_12.isnull().sum()"
   ]
  },
  {
   "cell_type": "markdown",
   "id": "5365b21b",
   "metadata": {},
   "source": [
    "## Drop NaN Values (This may have already been done when Steve cleaned the data)"
   ]
  },
  {
   "cell_type": "code",
   "execution_count": null,
   "id": "8b851dcd",
   "metadata": {},
   "outputs": [],
   "source": [
    "# Drop the NaNs for all df.\n",
    "df_2021_01.dropna()\n",
    "df_2021_02.dropna()\n",
    "df_2021_03.dropna()\n",
    "df_2021_04.dropna()\n",
    "df_2021_05.dropna()\n",
    "df_2021_06.dropna()\n",
    "df_2021_07.dropna()\n",
    "df_2021_08.dropna()\n",
    "df_2021_09.dropna()\n",
    "df_2021_10.dropna()\n",
    "df_2021_11.dropna()\n",
    "df_2021_12.dropna()"
   ]
  },
  {
   "cell_type": "markdown",
   "id": "740acd1f",
   "metadata": {},
   "source": [
    "## Remove Unnecessary Columns"
   ]
  },
  {
   "cell_type": "code",
   "execution_count": null,
   "id": "605c972a",
   "metadata": {},
   "outputs": [],
   "source": [
    "#Remove \"Status\" column from all 12 df.\n",
    "df_2021_01 = df_2021_01.drop('Status', axis=1)\n",
    "df_2021_02 = df_2021_02.drop('Status', axis=1)\n",
    "df_2021_03 = df_2021_03.drop('Status', axis=1)\n",
    "df_2021_04 = df_2021_04.drop('Status', axis=1)\n",
    "df_2021_05 = df_2021_05.drop('Status', axis=1)\n",
    "df_2021_06 = df_2021_06.drop('Status', axis=1)\n",
    "df_2021_07 = df_2021_07.drop('Status', axis=1)\n",
    "df_2021_08 = df_2021_08.drop('Status', axis=1)\n",
    "df_2021_09 = df_2021_09.drop('Status', axis=1)\n",
    "df_2021_10 = df_2021_10.drop('Status', axis=1)\n",
    "df_2021_11 = df_2021_11.drop('Status', axis=1)\n",
    "df_2021_12 = df_2021_12.drop('Status', axis=1)"
   ]
  },
  {
   "cell_type": "code",
   "execution_count": null,
   "id": "6ad9905f",
   "metadata": {},
   "outputs": [],
   "source": [
    "#Remove Zone column from df_2021_02 and df_2021_09\n",
    "df_2021_02 = df_2021_02.drop('Zone', axis=1)\n",
    "df_2021_09 = df_2021_09.drop('Zone', axis=1)"
   ]
  },
  {
   "cell_type": "markdown",
   "id": "6f6f4cd0",
   "metadata": {},
   "source": [
    "## Determine Data Types and Clean"
   ]
  },
  {
   "cell_type": "code",
   "execution_count": null,
   "id": "e7e7f243",
   "metadata": {},
   "outputs": [],
   "source": [
    "# Determine data types for df_2021_01.\n",
    "df_2021_01.dtypes"
   ]
  },
  {
   "cell_type": "code",
   "execution_count": null,
   "id": "e5adaae7",
   "metadata": {},
   "outputs": [],
   "source": [
    "# Determine data types for df_2021_02.\n",
    "df_2021_02.dtypes"
   ]
  },
  {
   "cell_type": "code",
   "execution_count": null,
   "id": "45d81443",
   "metadata": {},
   "outputs": [],
   "source": [
    "# Determine data types for df_2021_03.\n",
    "df_2021_03.dtypes"
   ]
  },
  {
   "cell_type": "code",
   "execution_count": null,
   "id": "b8e56ba3",
   "metadata": {},
   "outputs": [],
   "source": [
    "# Determine data types for df_2021_04.\n",
    "df_2021_04.dtypes"
   ]
  },
  {
   "cell_type": "code",
   "execution_count": null,
   "id": "c0af4627",
   "metadata": {},
   "outputs": [],
   "source": [
    "# Determine data types for df_2021_05.\n",
    "df_2021_05.dtypes"
   ]
  },
  {
   "cell_type": "code",
   "execution_count": null,
   "id": "f7359d9b",
   "metadata": {},
   "outputs": [],
   "source": [
    "# Determine data types for df_2021_06.\n",
    "df_2021_06.dtypes"
   ]
  },
  {
   "cell_type": "code",
   "execution_count": null,
   "id": "68e4e4de",
   "metadata": {},
   "outputs": [],
   "source": [
    "# Determine data types for df_2021_07.\n",
    "df_2021_07.dtypes"
   ]
  },
  {
   "cell_type": "code",
   "execution_count": null,
   "id": "3597cd20",
   "metadata": {},
   "outputs": [],
   "source": [
    "#Change [\"Item/Bottle Count\"] to float64 type in df_2021_07.\n",
    "df_2021_07[\"Item/Bottle Count\"]=df_2021_07[\"Item/Bottle Count\"].astype(float)\n",
    "df_2021_07.dtypes"
   ]
  },
  {
   "cell_type": "code",
   "execution_count": null,
   "id": "decb4196",
   "metadata": {},
   "outputs": [],
   "source": [
    "# Determine data types for df_2021_08.\n",
    "df_2021_08.dtypes"
   ]
  },
  {
   "cell_type": "code",
   "execution_count": null,
   "id": "b5613bcd",
   "metadata": {},
   "outputs": [],
   "source": [
    "#Change [\"Item/Bottle Count\"] to float64 type in df_2021_08.\n",
    "df_2021_08[\"Item/Bottle Count\"]=df_2021_08[\"Item/Bottle Count\"].astype(float)\n",
    "df_2021_08.dtypes"
   ]
  },
  {
   "cell_type": "code",
   "execution_count": null,
   "id": "2c2aa327",
   "metadata": {},
   "outputs": [],
   "source": [
    "# Determine data types for df_2021_09.\n",
    "df_2021_09.dtypes"
   ]
  },
  {
   "cell_type": "code",
   "execution_count": null,
   "id": "73227904",
   "metadata": {},
   "outputs": [],
   "source": [
    "# Determine data types for df_2021_10.\n",
    "df_2021_10.dtypes"
   ]
  },
  {
   "cell_type": "code",
   "execution_count": null,
   "id": "1daa4fea",
   "metadata": {},
   "outputs": [],
   "source": [
    "# Determine data types for df_2021_11.\n",
    "df_2021_11.dtypes"
   ]
  },
  {
   "cell_type": "code",
   "execution_count": null,
   "id": "f0e933aa",
   "metadata": {},
   "outputs": [],
   "source": [
    "# Determine data types for df_2021_12.\n",
    "df_2021_12.dtypes"
   ]
  },
  {
   "cell_type": "markdown",
   "id": "ad74965b",
   "metadata": {},
   "source": [
    "## Inspect DataFrames to Determine Where to Join"
   ]
  },
  {
   "cell_type": "code",
   "execution_count": null,
   "id": "bc8ed09d",
   "metadata": {},
   "outputs": [],
   "source": [
    "df_2021_01.columns"
   ]
  },
  {
   "cell_type": "code",
   "execution_count": null,
   "id": "0251103d",
   "metadata": {},
   "outputs": [],
   "source": [
    "df_2021_02.columns"
   ]
  },
  {
   "cell_type": "code",
   "execution_count": null,
   "id": "80635dee",
   "metadata": {},
   "outputs": [],
   "source": [
    "df_2021_03.columns"
   ]
  },
  {
   "cell_type": "code",
   "execution_count": null,
   "id": "aea30a6e",
   "metadata": {},
   "outputs": [],
   "source": [
    "df_2021_04.columns"
   ]
  },
  {
   "cell_type": "code",
   "execution_count": null,
   "id": "d21a4e55",
   "metadata": {},
   "outputs": [],
   "source": [
    "df_2021_05.columns"
   ]
  },
  {
   "cell_type": "code",
   "execution_count": null,
   "id": "9c6414bd",
   "metadata": {},
   "outputs": [],
   "source": [
    "df_2021_06.columns"
   ]
  },
  {
   "cell_type": "code",
   "execution_count": null,
   "id": "5b71c56e",
   "metadata": {},
   "outputs": [],
   "source": [
    "df_2021_07.columns"
   ]
  },
  {
   "cell_type": "code",
   "execution_count": null,
   "id": "f39db265",
   "metadata": {},
   "outputs": [],
   "source": [
    "df_2021_08.columns"
   ]
  },
  {
   "cell_type": "code",
   "execution_count": null,
   "id": "452a073d",
   "metadata": {},
   "outputs": [],
   "source": [
    "df_2021_09.columns"
   ]
  },
  {
   "cell_type": "code",
   "execution_count": null,
   "id": "aaf85f97",
   "metadata": {},
   "outputs": [],
   "source": [
    "df_2021_10.columns"
   ]
  },
  {
   "cell_type": "code",
   "execution_count": null,
   "id": "945f100a",
   "metadata": {},
   "outputs": [],
   "source": [
    "df_2021_11.columns"
   ]
  },
  {
   "cell_type": "code",
   "execution_count": null,
   "id": "d0225d33",
   "metadata": {},
   "outputs": [],
   "source": [
    "df_2021_12.columns"
   ]
  },
  {
   "cell_type": "markdown",
   "id": "b874e31b",
   "metadata": {},
   "source": [
    "## Join Individual DataFrames to Create One 2021 Year DataFrame"
   ]
  },
  {
   "cell_type": "code",
   "execution_count": null,
   "id": "587cd907",
   "metadata": {},
   "outputs": [],
   "source": [
    "# Combine the data into a single dataset.\n",
    "complete_2021_df = pd.merge(df_2021_01,\n",
    "                            df_2021_02,\n",
    "                            df_2021_03,\n",
    "                            df_2021_04,\n",
    "                            df_2021_05,\n",
    "                            df_2021_06,\n",
    "                            df_2021_07,\n",
    "                            df_2021_08,\n",
    "                            df_2021_09,\n",
    "                            df_2021_10,\n",
    "                            df_2021_11,\n",
    "                            df_2021_12 on= [\"Company Name\",\n",
    "                                            \"Company Name\",\n",
    "                                            \"Company Name\",\n",
    "                                            \"Company Name\",\n",
    "                                            \"Company Name\",\n",
    "                                            \"Company Name\",\n",
    "                                            \"Company Name\",\n",
    "                                            \"Company Name\",\n",
    "                                            \"Company Name\",\n",
    "                                            \"Company Name\",\n",
    "                                            \"Company Name\",\n",
    "                                            \"Company Name\"])\n",
    "complete_2021_df.head()"
   ]
  },
  {
   "cell_type": "markdown",
   "id": "3fc61fb6",
   "metadata": {},
   "source": [
    "## Export the 2021 year DataFrame to a .csv"
   ]
  },
  {
   "cell_type": "code",
   "execution_count": null,
   "id": "1940606a",
   "metadata": {},
   "outputs": [],
   "source": [
    "#Export complete_2021_df to .csv\n",
    "complete_2021_df.to_csv('Final_Project/Complete_2021.csv') "
   ]
  },
  {
   "cell_type": "code",
   "execution_count": null,
   "id": "f44f5ad7",
   "metadata": {},
   "outputs": [],
   "source": [
    "#Export to SQL"
   ]
  }
 ],
 "metadata": {
  "kernelspec": {
   "display_name": "PythonData",
   "language": "python",
   "name": "pythondata"
  },
  "language_info": {
   "codemirror_mode": {
    "name": "ipython",
    "version": 3
   },
   "file_extension": ".py",
   "mimetype": "text/x-python",
   "name": "python",
   "nbconvert_exporter": "python",
   "pygments_lexer": "ipython3",
   "version": "3.9.12"
  }
 },
 "nbformat": 4,
 "nbformat_minor": 5
}
