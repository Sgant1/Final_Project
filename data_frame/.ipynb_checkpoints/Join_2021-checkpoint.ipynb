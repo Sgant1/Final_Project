{
 "cells": [
  {
   "cell_type": "code",
   "execution_count": null,
   "id": "6f4daef3",
   "metadata": {},
   "outputs": [],
   "source": [
    "#Import dependencies"
   ]
  },
  {
   "cell_type": "code",
   "execution_count": null,
   "id": "959a13a0",
   "metadata": {},
   "outputs": [],
   "source": [
    "# Files to load\n",
    "load_2021_01 = \"../cleaned_months_2021/Clean_2020_01.csv\"\n",
    "load_2021_02 = \"../cleaned_months_2021/Clean_2020_02.csv\"\n",
    "#load_2021_03 = \"../cleaned_months_2021/Clean_2020_02.csv\"\n",
    "#load_2021_04 = \"../cleaned_months_2021/Clean_2020_02.csv\"\n",
    "#load_2021_05 = \"../cleaned_months_2021/Clean_2020_02.csv\"\n",
    "#load_2021_06 = \"../cleaned_months_2021/Clean_2020_02.csv\"\n",
    "#load_2021_07 = \"../cleaned_months_2021/Clean_2020_02.csv\"\n",
    "#load_2021_08 = \"../cleaned_months_2021/Clean_2020_02.csv\"\n",
    "#load_2021_09 = \"../cleaned_months_2021/Clean_2020_02.csv\"\n",
    "#load_2021_10 = \"../cleaned_months_2021/Clean_2020_02.csv\"\n",
    "#load_2021_11 = \"../cleaned_months_2021/Clean_2020_02.csv\"\n",
    "#load_2021_12 = \"../cleaned_months_2021/Clean_2020_02.csv\""
   ]
  },
  {
   "cell_type": "code",
   "execution_count": null,
   "id": "081d6b35",
   "metadata": {},
   "outputs": [],
   "source": [
    "# Read Clean_2021_01.csv into a DataFrame\n",
    "clean_df_2021_01 = pd.read_csv(load_2021_01)\n",
    "clean_df_2021_01.head()"
   ]
  },
  {
   "cell_type": "code",
   "execution_count": null,
   "id": "2a9d13b6",
   "metadata": {},
   "outputs": [],
   "source": [
    "#Read in all other cleaned files"
   ]
  },
  {
   "cell_type": "code",
   "execution_count": 2,
   "id": "418fbbd6",
   "metadata": {},
   "outputs": [],
   "source": [
    "#Combine the data into a single dataset. \n",
    "#THIS NEEDS TO BE EDITED\n",
    "#complete_2021_df = pd.merge(df_2021_01,\n",
    "#                            df_2021_02,\n",
    "##                           df_2021_03,\n",
    "#                            df_2021_04,\n",
    "#                            df_2021_05,\n",
    "#                            df_2021_06,\n",
    "#                            df_2021_07,\n",
    "#                            df_2021_08,\n",
    "#                            df_2021_09,\n",
    "#                            df_2021_10,\n",
    "#                            df_2021_11,\n",
    "#                            df_2021_12 on= [\"Company Name\",\n",
    "#                                            \"Company Name\",\n",
    "#                                            \"Company Name\",\n",
    "#                                            \"Company Name\",\n",
    "#                                            \"Company Name\",\n",
    "#                                            \"Company Name\",\n",
    "#                                            \"Company Name\",\n",
    "#                                            \"Company Name\",\n",
    "#                                            \"Company Name\",\n",
    "#                                            \"Company Name\",\n",
    "#                                            \"Company Name\",\n",
    "#                                            \"Company Name\"]) \n",
    "#complete_2021_df.head()"
   ]
  },
  {
   "cell_type": "code",
   "execution_count": null,
   "id": "175dcd2a",
   "metadata": {},
   "outputs": [],
   "source": [
    "#Export complete_2021_df to .csv\n",
    "complete_2021_df.to_csv('Final_Project/Complete_2021.csv') "
   ]
  }
 ],
 "metadata": {
  "kernelspec": {
   "display_name": "Python 3 (ipykernel)",
   "language": "python",
   "name": "python3"
  },
  "language_info": {
   "codemirror_mode": {
    "name": "ipython",
    "version": 3
   },
   "file_extension": ".py",
   "mimetype": "text/x-python",
   "name": "python",
   "nbconvert_exporter": "python",
   "pygments_lexer": "ipython3",
   "version": "3.7.13"
  }
 },
 "nbformat": 4,
 "nbformat_minor": 5
}
