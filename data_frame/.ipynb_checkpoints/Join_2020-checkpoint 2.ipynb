{
 "cells": [
  {
   "cell_type": "code",
   "execution_count": 1,
   "id": "6f4daef3",
   "metadata": {},
   "outputs": [],
   "source": [
    "#Import dependencies\n",
    "import pandas as pd"
   ]
  },
  {
   "cell_type": "code",
   "execution_count": 2,
   "id": "959a13a0",
   "metadata": {},
   "outputs": [],
   "source": [
    "# Files to load\n",
    "load_2020_01 = \"cleaned_months_2020/Clean_2020_01.csv\"\n",
    "load_2020_02 = \"cleaned_months_2020/Clean_2020_02.csv\"\n",
    "load_2020_03 = \"cleaned_months_2020/Clean_2020_03.csv\"\n",
    "load_2020_04 = \"cleaned_months_2020/Clean_2020_04.csv\"\n",
    "load_2020_05 = \"cleaned_months_2020/Clean_2020_05.csv\"\n",
    "load_2020_06 = \"cleaned_months_2020/Clean_2020_06.csv\"\n",
    "load_2020_07 = \"cleaned_months_2020/Clean_2020_07.csv\"\n",
    "load_2020_08 = \"cleaned_months_2020/Clean_2020_08.csv\"\n",
    "load_2020_09 = \"cleaned_months_2020/Clean_2020_09.csv\"\n",
    "load_2020_10 = \"cleaned_months_2020/Clean_2020_10.csv\"\n",
    "load_2020_11 = \"cleaned_months_2020/Clean_2020_11.csv\"\n",
    "load_2020_12 = \"cleaned_months_2020/Clean_2020_12.csv\""
   ]
  },
  {
   "cell_type": "code",
   "execution_count": 30,
   "id": "081d6b35",
   "metadata": {},
   "outputs": [
    {
     "data": {
      "text/html": [
       "<div>\n",
       "<style scoped>\n",
       "    .dataframe tbody tr th:only-of-type {\n",
       "        vertical-align: middle;\n",
       "    }\n",
       "\n",
       "    .dataframe tbody tr th {\n",
       "        vertical-align: top;\n",
       "    }\n",
       "\n",
       "    .dataframe thead th {\n",
       "        text-align: right;\n",
       "    }\n",
       "</style>\n",
       "<table border=\"1\" class=\"dataframe\">\n",
       "  <thead>\n",
       "    <tr style=\"text-align: right;\">\n",
       "      <th></th>\n",
       "      <th>Company Name</th>\n",
       "      <th>Ship Date</th>\n",
       "      <th>City</th>\n",
       "      <th>State</th>\n",
       "      <th>Zip</th>\n",
       "      <th>Shipping Service</th>\n",
       "      <th>Created Date</th>\n",
       "      <th>Weight</th>\n",
       "      <th>Item/Bottle Count</th>\n",
       "    </tr>\n",
       "  </thead>\n",
       "  <tbody>\n",
       "    <tr>\n",
       "      <th>0</th>\n",
       "      <td>Ecom3</td>\n",
       "      <td>1/2/20</td>\n",
       "      <td>Plantation</td>\n",
       "      <td>FL</td>\n",
       "      <td>33325</td>\n",
       "      <td>UPS</td>\n",
       "      <td>1/1/20</td>\n",
       "      <td>9.9</td>\n",
       "      <td>3.0</td>\n",
       "    </tr>\n",
       "    <tr>\n",
       "      <th>1</th>\n",
       "      <td>Ecom3</td>\n",
       "      <td>1/2/20</td>\n",
       "      <td>Lafayette</td>\n",
       "      <td>CA</td>\n",
       "      <td>94549</td>\n",
       "      <td>UPS</td>\n",
       "      <td>12/31/19</td>\n",
       "      <td>35.0</td>\n",
       "      <td>10.0</td>\n",
       "    </tr>\n",
       "    <tr>\n",
       "      <th>2</th>\n",
       "      <td>Ecom3</td>\n",
       "      <td>1/2/20</td>\n",
       "      <td>New York</td>\n",
       "      <td>NY</td>\n",
       "      <td>10022</td>\n",
       "      <td>FEH</td>\n",
       "      <td>1/1/20</td>\n",
       "      <td>29.0</td>\n",
       "      <td>8.0</td>\n",
       "    </tr>\n",
       "    <tr>\n",
       "      <th>3</th>\n",
       "      <td>Ecom3</td>\n",
       "      <td>1/3/20</td>\n",
       "      <td>New York</td>\n",
       "      <td>NY</td>\n",
       "      <td>10006</td>\n",
       "      <td>FEH</td>\n",
       "      <td>1/2/20</td>\n",
       "      <td>21.5</td>\n",
       "      <td>6.0</td>\n",
       "    </tr>\n",
       "    <tr>\n",
       "      <th>4</th>\n",
       "      <td>Ecom3</td>\n",
       "      <td>1/2/20</td>\n",
       "      <td>Walkersville</td>\n",
       "      <td>MD</td>\n",
       "      <td>21793</td>\n",
       "      <td>FXG</td>\n",
       "      <td>12/31/19</td>\n",
       "      <td>41.0</td>\n",
       "      <td>12.0</td>\n",
       "    </tr>\n",
       "  </tbody>\n",
       "</table>\n",
       "</div>"
      ],
      "text/plain": [
       "  Company Name Ship Date          City State    Zip Shipping Service  \\\n",
       "0        Ecom3    1/2/20    Plantation    FL  33325              UPS   \n",
       "1        Ecom3    1/2/20     Lafayette    CA  94549              UPS   \n",
       "2        Ecom3    1/2/20      New York    NY  10022              FEH   \n",
       "3        Ecom3    1/3/20      New York    NY  10006              FEH   \n",
       "4        Ecom3    1/2/20  Walkersville    MD  21793              FXG   \n",
       "\n",
       "  Created Date  Weight  Item/Bottle Count  \n",
       "0       1/1/20     9.9                3.0  \n",
       "1     12/31/19    35.0               10.0  \n",
       "2       1/1/20    29.0                8.0  \n",
       "3       1/2/20    21.5                6.0  \n",
       "4     12/31/19    41.0               12.0  "
      ]
     },
     "execution_count": 30,
     "metadata": {},
     "output_type": "execute_result"
    }
   ],
   "source": [
    "# Read Clean_2020_01.csv into a DataFrame\n",
    "clean_df_2020_01 = pd.read_csv(load_2020_01, index_col=[0])\n",
    "clean_df_2020_01.head()"
   ]
  },
  {
   "cell_type": "code",
   "execution_count": 29,
   "id": "2a9d13b6",
   "metadata": {},
   "outputs": [],
   "source": [
    "# Read Clean_2020_02.csv into a DataFrame\n",
    "clean_df_2020_02 = pd.read_csv(load_2020_02, index_col=[0])\n",
    "#clean_df_2020_02.head()"
   ]
  },
  {
   "cell_type": "code",
   "execution_count": 31,
   "id": "54975db5",
   "metadata": {},
   "outputs": [],
   "source": [
    "# Read Clean_2020_03.csv into a DataFrame\n",
    "clean_df_2020_03 = pd.read_csv(load_2020_03, index_col=[0])\n",
    "#clean_df_2020_03.head()"
   ]
  },
  {
   "cell_type": "code",
   "execution_count": 32,
   "id": "779b2d89",
   "metadata": {},
   "outputs": [],
   "source": [
    "# Read Clean_2020_04.csv into a DataFrame\n",
    "clean_df_2020_04 = pd.read_csv(load_2020_04, index_col=[0])\n",
    "#clean_df_2020_04.head()"
   ]
  },
  {
   "cell_type": "code",
   "execution_count": 33,
   "id": "2c0735a6",
   "metadata": {},
   "outputs": [],
   "source": [
    "# Read Clean_2020_05.csv into a DataFrame\n",
    "clean_df_2020_05 = pd.read_csv(load_2020_05, index_col=[0])\n",
    "#clean_df_2020_05.head()"
   ]
  },
  {
   "cell_type": "code",
   "execution_count": 34,
   "id": "5de9d321",
   "metadata": {},
   "outputs": [],
   "source": [
    "# Read Clean_2020_06.csv into a DataFrame\n",
    "clean_df_2020_06 = pd.read_csv(load_2020_06, index_col=[0])\n",
    "#clean_df_2020_06.head()"
   ]
  },
  {
   "cell_type": "code",
   "execution_count": 35,
   "id": "67e6d1d7",
   "metadata": {},
   "outputs": [],
   "source": [
    "# Read Clean_2020_07.csv into a DataFrame\n",
    "clean_df_2020_07 = pd.read_csv(load_2020_07, index_col=[0])\n",
    "#clean_df_2020_07.head()"
   ]
  },
  {
   "cell_type": "code",
   "execution_count": 36,
   "id": "07d5a518",
   "metadata": {},
   "outputs": [],
   "source": [
    "# Read Clean_2020_08.csv into a DataFrame\n",
    "clean_df_2020_08 = pd.read_csv(load_2020_08, index_col=[0])\n",
    "#clean_df_2020_08.head()"
   ]
  },
  {
   "cell_type": "code",
   "execution_count": 37,
   "id": "d643f10c",
   "metadata": {},
   "outputs": [],
   "source": [
    "# Read Clean_2020_09.csv into a DataFrame\n",
    "clean_df_2020_09 = pd.read_csv(load_2020_09, index_col=[0])\n",
    "#clean_df_2020_09.head()"
   ]
  },
  {
   "cell_type": "code",
   "execution_count": 38,
   "id": "7549c23d",
   "metadata": {},
   "outputs": [],
   "source": [
    "# Read Clean_2020_10.csv into a DataFrame\n",
    "clean_df_2020_10 = pd.read_csv(load_2020_10, index_col=[0])\n",
    "#clean_df_2020_10.head()"
   ]
  },
  {
   "cell_type": "code",
   "execution_count": 39,
   "id": "998f9b05",
   "metadata": {},
   "outputs": [],
   "source": [
    "# Read Clean_2020_11.csv into a DataFrame\n",
    "clean_df_2020_11 = pd.read_csv(load_2020_11, index_col=[0])\n",
    "#clean_df_2020_11.head()"
   ]
  },
  {
   "cell_type": "code",
   "execution_count": 40,
   "id": "4ac5905f",
   "metadata": {},
   "outputs": [],
   "source": [
    "# Read Clean_2020_12.csv into a DataFrame\n",
    "clean_df_2020_12 = pd.read_csv(load_2020_12, index_col=[0])\n",
    "#clean_df_2020_12.head()"
   ]
  },
  {
   "cell_type": "code",
   "execution_count": 41,
   "id": "54f5108b",
   "metadata": {},
   "outputs": [
    {
     "data": {
      "text/html": [
       "<div>\n",
       "<style scoped>\n",
       "    .dataframe tbody tr th:only-of-type {\n",
       "        vertical-align: middle;\n",
       "    }\n",
       "\n",
       "    .dataframe tbody tr th {\n",
       "        vertical-align: top;\n",
       "    }\n",
       "\n",
       "    .dataframe thead th {\n",
       "        text-align: right;\n",
       "    }\n",
       "</style>\n",
       "<table border=\"1\" class=\"dataframe\">\n",
       "  <thead>\n",
       "    <tr style=\"text-align: right;\">\n",
       "      <th></th>\n",
       "      <th>Company Name</th>\n",
       "      <th>Ship Date</th>\n",
       "      <th>City</th>\n",
       "      <th>State</th>\n",
       "      <th>Zip</th>\n",
       "      <th>Shipping Service</th>\n",
       "      <th>Created Date</th>\n",
       "      <th>Weight</th>\n",
       "      <th>Item/Bottle Count</th>\n",
       "    </tr>\n",
       "  </thead>\n",
       "  <tbody>\n",
       "    <tr>\n",
       "      <th>0</th>\n",
       "      <td>Ecom3</td>\n",
       "      <td>1/2/20</td>\n",
       "      <td>Plantation</td>\n",
       "      <td>FL</td>\n",
       "      <td>33325</td>\n",
       "      <td>UPS</td>\n",
       "      <td>1/1/20</td>\n",
       "      <td>9.9</td>\n",
       "      <td>3.0</td>\n",
       "    </tr>\n",
       "    <tr>\n",
       "      <th>1</th>\n",
       "      <td>Ecom3</td>\n",
       "      <td>1/2/20</td>\n",
       "      <td>Lafayette</td>\n",
       "      <td>CA</td>\n",
       "      <td>94549</td>\n",
       "      <td>UPS</td>\n",
       "      <td>12/31/19</td>\n",
       "      <td>35.0</td>\n",
       "      <td>10.0</td>\n",
       "    </tr>\n",
       "    <tr>\n",
       "      <th>2</th>\n",
       "      <td>Ecom3</td>\n",
       "      <td>1/2/20</td>\n",
       "      <td>New York</td>\n",
       "      <td>NY</td>\n",
       "      <td>10022</td>\n",
       "      <td>FEH</td>\n",
       "      <td>1/1/20</td>\n",
       "      <td>29.0</td>\n",
       "      <td>8.0</td>\n",
       "    </tr>\n",
       "    <tr>\n",
       "      <th>3</th>\n",
       "      <td>Ecom3</td>\n",
       "      <td>1/3/20</td>\n",
       "      <td>New York</td>\n",
       "      <td>NY</td>\n",
       "      <td>10006</td>\n",
       "      <td>FEH</td>\n",
       "      <td>1/2/20</td>\n",
       "      <td>21.5</td>\n",
       "      <td>6.0</td>\n",
       "    </tr>\n",
       "    <tr>\n",
       "      <th>4</th>\n",
       "      <td>Ecom3</td>\n",
       "      <td>1/2/20</td>\n",
       "      <td>Walkersville</td>\n",
       "      <td>MD</td>\n",
       "      <td>21793</td>\n",
       "      <td>FXG</td>\n",
       "      <td>12/31/19</td>\n",
       "      <td>41.0</td>\n",
       "      <td>12.0</td>\n",
       "    </tr>\n",
       "  </tbody>\n",
       "</table>\n",
       "</div>"
      ],
      "text/plain": [
       "  Company Name Ship Date          City State    Zip Shipping Service  \\\n",
       "0        Ecom3    1/2/20    Plantation    FL  33325              UPS   \n",
       "1        Ecom3    1/2/20     Lafayette    CA  94549              UPS   \n",
       "2        Ecom3    1/2/20      New York    NY  10022              FEH   \n",
       "3        Ecom3    1/3/20      New York    NY  10006              FEH   \n",
       "4        Ecom3    1/2/20  Walkersville    MD  21793              FXG   \n",
       "\n",
       "  Created Date  Weight  Item/Bottle Count  \n",
       "0       1/1/20     9.9                3.0  \n",
       "1     12/31/19    35.0               10.0  \n",
       "2       1/1/20    29.0                8.0  \n",
       "3       1/2/20    21.5                6.0  \n",
       "4     12/31/19    41.0               12.0  "
      ]
     },
     "execution_count": 41,
     "metadata": {},
     "output_type": "execute_result"
    }
   ],
   "source": [
    "#Test appending two df before doing all 12.\n",
    "test_df = clean_df_2020_01.append(clean_df_2020_02, ignore_index = True)\n",
    "test_df.head()"
   ]
  },
  {
   "cell_type": "code",
   "execution_count": 42,
   "id": "90f6720b",
   "metadata": {},
   "outputs": [
    {
     "data": {
      "text/plain": [
       "16147"
      ]
     },
     "execution_count": 42,
     "metadata": {},
     "output_type": "execute_result"
    }
   ],
   "source": [
    "#Count the number of rows in appended df.\n",
    "#clean_df_2020_01: 7,680 rows\n",
    "#clean_df_2020_02: 8,467 rows (total row should be 16,147)\n",
    "test_df.shape[0]\n",
    "#The append worked!"
   ]
  },
  {
   "cell_type": "code",
   "execution_count": 43,
   "id": "089a330e",
   "metadata": {},
   "outputs": [],
   "source": [
    "#Row counts for all 12 df:\n",
    "#clean_df_2020_01: 7,680 rows\n",
    "#clean_df_2020_02: 8,467 rows\n",
    "#clean_df_2020_03: 12,283 rows\n",
    "#clean_df_2020_04: 14,365 rows\n",
    "#clean_df_2020_05: 32,231 rows\n",
    "#clean_df_2020_06: 19,389 rows\n",
    "#clean_df_2020_07: 19,390 rows\n",
    "#clean_df_2020_08: 20,129 rows\n",
    "#clean_df_2020_09: 22,277 rows\n",
    "#clean_df_2020_10: 19,934 rows\n",
    "#clean_df_2020_11: 22,811 rows\n",
    "#clean_df_2020_12: 33,846 rows\n",
    "#Total row count for complete_2020_df should be: 232,802."
   ]
  },
  {
   "cell_type": "code",
   "execution_count": 44,
   "id": "418fbbd6",
   "metadata": {},
   "outputs": [
    {
     "data": {
      "text/html": [
       "<div>\n",
       "<style scoped>\n",
       "    .dataframe tbody tr th:only-of-type {\n",
       "        vertical-align: middle;\n",
       "    }\n",
       "\n",
       "    .dataframe tbody tr th {\n",
       "        vertical-align: top;\n",
       "    }\n",
       "\n",
       "    .dataframe thead th {\n",
       "        text-align: right;\n",
       "    }\n",
       "</style>\n",
       "<table border=\"1\" class=\"dataframe\">\n",
       "  <thead>\n",
       "    <tr style=\"text-align: right;\">\n",
       "      <th></th>\n",
       "      <th>Company Name</th>\n",
       "      <th>Ship Date</th>\n",
       "      <th>City</th>\n",
       "      <th>State</th>\n",
       "      <th>Zip</th>\n",
       "      <th>Shipping Service</th>\n",
       "      <th>Created Date</th>\n",
       "      <th>Weight</th>\n",
       "      <th>Item/Bottle Count</th>\n",
       "    </tr>\n",
       "  </thead>\n",
       "  <tbody>\n",
       "    <tr>\n",
       "      <th>0</th>\n",
       "      <td>Ecom3</td>\n",
       "      <td>1/2/20</td>\n",
       "      <td>Plantation</td>\n",
       "      <td>FL</td>\n",
       "      <td>33325</td>\n",
       "      <td>UPS</td>\n",
       "      <td>1/1/20</td>\n",
       "      <td>9.9</td>\n",
       "      <td>3.0</td>\n",
       "    </tr>\n",
       "    <tr>\n",
       "      <th>1</th>\n",
       "      <td>Ecom3</td>\n",
       "      <td>1/2/20</td>\n",
       "      <td>Lafayette</td>\n",
       "      <td>CA</td>\n",
       "      <td>94549</td>\n",
       "      <td>UPS</td>\n",
       "      <td>12/31/19</td>\n",
       "      <td>35.0</td>\n",
       "      <td>10.0</td>\n",
       "    </tr>\n",
       "    <tr>\n",
       "      <th>2</th>\n",
       "      <td>Ecom3</td>\n",
       "      <td>1/2/20</td>\n",
       "      <td>New York</td>\n",
       "      <td>NY</td>\n",
       "      <td>10022</td>\n",
       "      <td>FEH</td>\n",
       "      <td>1/1/20</td>\n",
       "      <td>29.0</td>\n",
       "      <td>8.0</td>\n",
       "    </tr>\n",
       "    <tr>\n",
       "      <th>3</th>\n",
       "      <td>Ecom3</td>\n",
       "      <td>1/3/20</td>\n",
       "      <td>New York</td>\n",
       "      <td>NY</td>\n",
       "      <td>10006</td>\n",
       "      <td>FEH</td>\n",
       "      <td>1/2/20</td>\n",
       "      <td>21.5</td>\n",
       "      <td>6.0</td>\n",
       "    </tr>\n",
       "    <tr>\n",
       "      <th>4</th>\n",
       "      <td>Ecom3</td>\n",
       "      <td>1/2/20</td>\n",
       "      <td>Walkersville</td>\n",
       "      <td>MD</td>\n",
       "      <td>21793</td>\n",
       "      <td>FXG</td>\n",
       "      <td>12/31/19</td>\n",
       "      <td>41.0</td>\n",
       "      <td>12.0</td>\n",
       "    </tr>\n",
       "  </tbody>\n",
       "</table>\n",
       "</div>"
      ],
      "text/plain": [
       "  Company Name Ship Date          City State    Zip Shipping Service  \\\n",
       "0        Ecom3    1/2/20    Plantation    FL  33325              UPS   \n",
       "1        Ecom3    1/2/20     Lafayette    CA  94549              UPS   \n",
       "2        Ecom3    1/2/20      New York    NY  10022              FEH   \n",
       "3        Ecom3    1/3/20      New York    NY  10006              FEH   \n",
       "4        Ecom3    1/2/20  Walkersville    MD  21793              FXG   \n",
       "\n",
       "  Created Date  Weight  Item/Bottle Count  \n",
       "0       1/1/20     9.9                3.0  \n",
       "1     12/31/19    35.0               10.0  \n",
       "2       1/1/20    29.0                8.0  \n",
       "3       1/2/20    21.5                6.0  \n",
       "4     12/31/19    41.0               12.0  "
      ]
     },
     "execution_count": 44,
     "metadata": {},
     "output_type": "execute_result"
    }
   ],
   "source": [
    "#append all 12 months to one df:\n",
    "complete_2020_df = clean_df_2020_01.append([clean_df_2020_02,\n",
    "                                           clean_df_2020_03,\n",
    "                                           clean_df_2020_04,\n",
    "                                           clean_df_2020_05,\n",
    "                                           clean_df_2020_06,\n",
    "                                           clean_df_2020_07, \n",
    "                                           clean_df_2020_08,\n",
    "                                           clean_df_2020_09,\n",
    "                                           clean_df_2020_10, \n",
    "                                           clean_df_2020_11, \n",
    "                                           clean_df_2020_12], ignore_index = True)\n",
    "complete_2020_df.head()"
   ]
  },
  {
   "cell_type": "code",
   "execution_count": 45,
   "id": "8d3599b9",
   "metadata": {},
   "outputs": [
    {
     "data": {
      "text/plain": [
       "232802"
      ]
     },
     "execution_count": 45,
     "metadata": {},
     "output_type": "execute_result"
    }
   ],
   "source": [
    "#Verify the total row count is accurate. \n",
    "complete_2020_df.shape[0]"
   ]
  },
  {
   "cell_type": "code",
   "execution_count": 47,
   "id": "175dcd2a",
   "metadata": {},
   "outputs": [],
   "source": [
    "#Export complete_2020_df to .csv\n",
    "complete_2020_df.to_csv('complete_annual_df/Complete_2020.csv') \n",
    "#write the merged data to the csv file.\n",
    "#pd.DataFrame.to_csv(df_merged, 'merged.txt', sep=',', na_rep='.', index=False)"
   ]
  },
  {
   "cell_type": "code",
   "execution_count": null,
   "id": "fb4c3869",
   "metadata": {},
   "outputs": [],
   "source": []
  }
 ],
 "metadata": {
  "kernelspec": {
   "display_name": "Python 3 (ipykernel)",
   "language": "python",
   "name": "python3"
  },
  "language_info": {
   "codemirror_mode": {
    "name": "ipython",
    "version": 3
   },
   "file_extension": ".py",
   "mimetype": "text/x-python",
   "name": "python",
   "nbconvert_exporter": "python",
   "pygments_lexer": "ipython3",
   "version": "3.7.13"
  }
 },
 "nbformat": 4,
 "nbformat_minor": 5
}
