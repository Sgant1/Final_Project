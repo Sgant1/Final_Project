{
 "cells": [
  {
   "cell_type": "code",
   "execution_count": 1,
   "id": "6f4daef3",
   "metadata": {},
   "outputs": [],
   "source": [
    "#Import dependencies\n",
    "import pandas as pd\n",
    "from functools import reduce"
   ]
  },
  {
   "cell_type": "code",
   "execution_count": 2,
   "id": "959a13a0",
   "metadata": {},
   "outputs": [],
   "source": [
    "# Files to load\n",
    "load_2020_01 = \"cleaned_months_2020/Clean_2020_01.csv\"\n",
    "load_2020_02 = \"cleaned_months_2020/Clean_2020_02.csv\"\n",
    "load_2020_03 = \"cleaned_months_2020/Clean_2020_03.csv\"\n",
    "load_2020_04 = \"cleaned_months_2020/Clean_2020_04.csv\"\n",
    "load_2020_05 = \"cleaned_months_2020/Clean_2020_05.csv\"\n",
    "load_2020_06 = \"cleaned_months_2020/Clean_2020_06.csv\"\n",
    "load_2020_07 = \"cleaned_months_2020/Clean_2020_07.csv\"\n",
    "load_2020_08 = \"cleaned_months_2020/Clean_2020_08.csv\"\n",
    "load_2020_09 = \"cleaned_months_2020/Clean_2020_09.csv\"\n",
    "load_2020_10 = \"cleaned_months_2020/Clean_2020_10.csv\"\n",
    "load_2020_11 = \"cleaned_months_2020/Clean_2020_11.csv\"\n",
    "load_2020_12 = \"cleaned_months_2020/Clean_2020_12.csv\""
   ]
  },
  {
   "cell_type": "code",
   "execution_count": 3,
   "id": "081d6b35",
   "metadata": {},
   "outputs": [],
   "source": [
    "# Read Clean_2020_01.csv into a DataFrame\n",
    "#clean_df_2020_01 = pd.read_csv(load_2020_01)\n",
    "clean_df_2020_01 = pd.read_table(load_2020_01, sep=',')\n",
    "#clean_df_2020_01.head()"
   ]
  },
  {
   "cell_type": "code",
   "execution_count": 4,
   "id": "2a9d13b6",
   "metadata": {},
   "outputs": [],
   "source": [
    "# Read Clean_2020_02.csv into a DataFrame\n",
    "#clean_df_2020_02 = pd.read_csv(load_2020_02)\n",
    "clean_df_2020_02 = pd.read_table(load_2020_02, sep=',')\n",
    "#clean_df_2020_02.head()"
   ]
  },
  {
   "cell_type": "code",
   "execution_count": 5,
   "id": "54975db5",
   "metadata": {},
   "outputs": [],
   "source": [
    "# Read Clean_2020_03.csv into a DataFrame\n",
    "#clean_df_2020_03 = pd.read_csv(load_2020_03)\n",
    "clean_df_2020_03 = pd.read_table(load_2020_03, sep=',')\n",
    "#clean_df_2020_03.head()"
   ]
  },
  {
   "cell_type": "code",
   "execution_count": 6,
   "id": "779b2d89",
   "metadata": {},
   "outputs": [],
   "source": [
    "# Read Clean_2020_04.csv into a DataFrame\n",
    "#clean_df_2020_04 = pd.read_csv(load_2020_04)\n",
    "clean_df_2020_04 = pd.read_table(load_2020_04, sep=',')\n",
    "#clean_df_2020_04.head()"
   ]
  },
  {
   "cell_type": "code",
   "execution_count": 7,
   "id": "2c0735a6",
   "metadata": {},
   "outputs": [],
   "source": [
    "# Read Clean_2020_05.csv into a DataFrame\n",
    "#clean_df_2020_05 = pd.read_csv(load_2020_05)\n",
    "clean_df_2020_05 = pd.read_table(load_2020_05, sep=',')\n",
    "#clean_df_2020_05.head()"
   ]
  },
  {
   "cell_type": "code",
   "execution_count": 8,
   "id": "5de9d321",
   "metadata": {},
   "outputs": [],
   "source": [
    "# Read Clean_2020_06.csv into a DataFrame\n",
    "#clean_df_2020_06 = pd.read_csv(load_2020_06)\n",
    "clean_df_2020_06 = pd.read_table(load_2020_06, sep=',')\n",
    "#clean_df_2020_06.head()"
   ]
  },
  {
   "cell_type": "code",
   "execution_count": 9,
   "id": "67e6d1d7",
   "metadata": {},
   "outputs": [],
   "source": [
    "# Read Clean_2020_07.csv into a DataFrame\n",
    "#clean_df_2020_07 = pd.read_csv(load_2020_07)\n",
    "clean_df_2020_07 = pd.read_table(load_2020_07, sep=',')\n",
    "#clean_df_2020_07.head()"
   ]
  },
  {
   "cell_type": "code",
   "execution_count": 10,
   "id": "07d5a518",
   "metadata": {},
   "outputs": [],
   "source": [
    "# Read Clean_2020_08.csv into a DataFrame\n",
    "#clean_df_2020_08 = pd.read_csv(load_2020_08)\n",
    "clean_df_2020_08 = pd.read_table(load_2020_08, sep=',')\n",
    "#clean_df_2020_08.head()"
   ]
  },
  {
   "cell_type": "code",
   "execution_count": 11,
   "id": "d643f10c",
   "metadata": {},
   "outputs": [],
   "source": [
    "# Read Clean_2020_09.csv into a DataFrame\n",
    "#clean_df_2020_09 = pd.read_csv(load_2020_09)\n",
    "clean_df_2020_09 = pd.read_table(load_2020_09, sep=',')\n",
    "#clean_df_2020_09.head()"
   ]
  },
  {
   "cell_type": "code",
   "execution_count": 12,
   "id": "7549c23d",
   "metadata": {},
   "outputs": [],
   "source": [
    "# Read Clean_2020_10.csv into a DataFrame\n",
    "#clean_df_2020_10 = pd.read_csv(load_2020_10)\n",
    "clean_df_2020_10 = pd.read_table(load_2020_10, sep=',')\n",
    "#clean_df_2020_10.head()"
   ]
  },
  {
   "cell_type": "code",
   "execution_count": 13,
   "id": "998f9b05",
   "metadata": {},
   "outputs": [],
   "source": [
    "# Read Clean_2020_11.csv into a DataFrame\n",
    "#clean_df_2020_11 = pd.read_csv(load_2020_11)\n",
    "clean_df_2020_11 = pd.read_table(load_2020_11, sep=',')\n",
    "#clean_df_2020_11.head()"
   ]
  },
  {
   "cell_type": "code",
   "execution_count": 14,
   "id": "4ac5905f",
   "metadata": {},
   "outputs": [],
   "source": [
    "# Read Clean_2020_12.csv into a DataFrame\n",
    "#clean_df_2020_12 = pd.read_csv(load_2020_12)\n",
    "clean_df_2020_12 = pd.read_table(load_2020_12, sep=',')\n",
    "#clean_df_2020_12.head()"
   ]
  },
  {
   "cell_type": "code",
   "execution_count": null,
   "id": "4be11dc2",
   "metadata": {},
   "outputs": [],
   "source": [
    "#merge with Company Name as the index and merge using OUTER method (to get all the data)."
   ]
  },
  {
   "cell_type": "code",
   "execution_count": 15,
   "id": "6b192c11",
   "metadata": {},
   "outputs": [],
   "source": [
    "#compile the clean dataframes into a list in order to merge.\n",
    "data_frames = [clean_df_2020_01,\n",
    "               clean_df_2020_02,\n",
    "               clean_df_2020_03,\n",
    "               clean_df_2020_04,\n",
    "               clean_df_2020_05,\n",
    "               clean_df_2020_06,\n",
    "               clean_df_2020_07, \n",
    "               clean_df_2020_08,\n",
    "               clean_df_2020_09,\n",
    "               clean_df_2020_10,\n",
    "               clean_df_2020_11,\n",
    "               clean_df_2020_12]"
   ]
  },
  {
   "cell_type": "code",
   "execution_count": null,
   "id": "15323a81",
   "metadata": {},
   "outputs": [],
   "source": [
    "#merge the list of clean df\n",
    "#need to combine the df into one- all columns are the same, just need to add all the rows together. \n",
    "#work on APPEND fuction\n",
    "#df0.append({\"a\": 1, \"b\": 2}, ignore_index=True)\n",
    "#outer merge is not what you want. \n",
    "complete_2020_df = reduce(lambda  left,right: pd.merge(left,right,on=['Company Name'],\n",
    "                                            how='outer'), data_frames)"
   ]
  },
  {
   "cell_type": "code",
   "execution_count": null,
   "id": "418fbbd6",
   "metadata": {},
   "outputs": [],
   "source": [
    "#Combine the data into a single dataset. \n",
    "#THIS NEEDS TO BE EDITED\n",
    "testing_2020_df = pd.merge(clean_df_2020_01, clean_df_2020_02, on= \"Company Name\")\n",
    "testing_2020_df.head()"
   ]
  },
  {
   "cell_type": "code",
   "execution_count": null,
   "id": "175dcd2a",
   "metadata": {},
   "outputs": [],
   "source": [
    "#Export complete_2020_df to .csv\n",
    "complete_2020_df.to_csv('Final_Project/Complete_2020.csv') \n",
    "#write the merged data to the csv file.\n",
    "#pd.DataFrame.to_csv(df_merged, 'merged.txt', sep=',', na_rep='.', index=False)"
   ]
  }
 ],
 "metadata": {
  "kernelspec": {
   "display_name": "Python 3 (ipykernel)",
   "language": "python",
   "name": "python3"
  },
  "language_info": {
   "codemirror_mode": {
    "name": "ipython",
    "version": 3
   },
   "file_extension": ".py",
   "mimetype": "text/x-python",
   "name": "python",
   "nbconvert_exporter": "python",
   "pygments_lexer": "ipython3",
   "version": "3.7.13"
  }
 },
 "nbformat": 4,
 "nbformat_minor": 5
}
