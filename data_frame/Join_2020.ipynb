{
 "cells": [
  {
   "cell_type": "code",
   "execution_count": null,
   "id": "6f4daef3",
   "metadata": {},
   "outputs": [],
   "source": [
    "#Import dependencies"
   ]
  },
  {
   "cell_type": "code",
   "execution_count": null,
   "id": "959a13a0",
   "metadata": {},
   "outputs": [],
   "source": [
    "# Files to load\n",
    "load_2020_01 = \"../cleaned_months_2020/Clean_2020_01.csv\"\n",
    "load_2020_02 = \"../cleaned_months_2020/Clean_2020_01.csv\"\n",
    "#load_2020_03 = \"../2020_Data/2020.03.csv\"\n",
    "#load_2020_04 = \"../2020_Data/2020.04.csv\"\n",
    "#load_2020_05 = \"../2020_Data/2020.05.csv\"\n",
    "#load_2020_06 = \"../2020_Data/2020.06 .csv\" #this file name has a space before .csv\n",
    "##load_2020_07 = \"../2020_Data/2020.07.csv\"\n",
    "#load_2020_08 = \"../2020_Data/2020.08.csv\"\n",
    "#load_2020_09 = \"../2020_Data/2020.09.csv\"\n",
    "#load_2020_10 = \"../2020_Data/2020.10.csv\"\n",
    "#load_2020_11 = \"../2020_Data/2020.11.csv\"\n",
    "#load_2020_12 = \"../2020_Data/2020.12.csv\""
   ]
  },
  {
   "cell_type": "code",
   "execution_count": null,
   "id": "081d6b35",
   "metadata": {},
   "outputs": [],
   "source": [
    "# Read Clean_2020_01.csv into a DataFrame\n",
    "clean_df_2020_01 = pd.read_csv(load_2020_01)\n",
    "#clean_df_2020_01.head()"
   ]
  },
  {
   "cell_type": "code",
   "execution_count": null,
   "id": "2a9d13b6",
   "metadata": {},
   "outputs": [],
   "source": [
    "#Read in all other cleaned files"
   ]
  },
  {
   "cell_type": "code",
   "execution_count": 2,
   "id": "418fbbd6",
   "metadata": {},
   "outputs": [],
   "source": [
    "#Combine the data into a single dataset. \n",
    "#THIS NEEDS TO BE EDITED\n",
    "#complete_2020_df = pd.merge(df_2020_01,\n",
    "#                            df_2020_02,\n",
    "##                           df_2020_03,\n",
    "#                            df_2020_04,\n",
    "#                            df_2020_05,\n",
    "#                            df_2020_06,\n",
    "#                            df_2020_07,\n",
    "#                            df_2020_08,\n",
    "#                            df_2020_09,\n",
    "#                            df_2020_10,\n",
    "#                            df_2020_11,\n",
    "#                            df_2020_12 on= [\"Company Name\",\n",
    "#                                            \"Company Name\",\n",
    "#                                            \"Company Name\",\n",
    "#                                            \"Company Name\",\n",
    "#                                            \"Company Name\",\n",
    "#                                            \"Company Name\",\n",
    "#                                            \"Company Name\",\n",
    "#                                            \"Company Name\",\n",
    "#                                            \"Company Name\",\n",
    "#                                            \"Company Name\",\n",
    "#                                            \"Company Name\",\n",
    "#                                            \"Company Name\"])\n",
    "#update \"column name\" with the actual column name once the data can be read in. \n",
    "#complete_2020_df.head()"
   ]
  },
  {
   "cell_type": "code",
   "execution_count": null,
   "id": "175dcd2a",
   "metadata": {},
   "outputs": [],
   "source": [
    "#Export complete_2020_df to .csv\n",
    "complete_2020_df.to_csv('Final_Project/Complete_2020.csv') "
   ]
  }
 ],
 "metadata": {
  "kernelspec": {
   "display_name": "Python 3 (ipykernel)",
   "language": "python",
   "name": "python3"
  },
  "language_info": {
   "codemirror_mode": {
    "name": "ipython",
    "version": 3
   },
   "file_extension": ".py",
   "mimetype": "text/x-python",
   "name": "python",
   "nbconvert_exporter": "python",
   "pygments_lexer": "ipython3",
   "version": "3.7.13"
  }
 },
 "nbformat": 4,
 "nbformat_minor": 5
}
