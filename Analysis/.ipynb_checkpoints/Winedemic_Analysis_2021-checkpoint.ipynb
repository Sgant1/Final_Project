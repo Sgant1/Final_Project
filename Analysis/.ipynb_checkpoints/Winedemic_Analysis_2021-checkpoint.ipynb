{
 "cells": [
  {
   "cell_type": "markdown",
   "id": "b28d77ec",
   "metadata": {},
   "source": [
    "## Import Dependencies, Read CSV and Create Dataframes."
   ]
  },
  {
   "cell_type": "code",
   "execution_count": 1,
   "id": "25060bae",
   "metadata": {},
   "outputs": [],
   "source": [
    "#Pandas library to create DataFrames\n",
    "import pandas as pd\n",
    "#NumPy library for converting data types\n",
    "import numpy as np\n",
    "import matplotlib\n",
    "matplotlib.__version__\n",
    "%matplotlib inline\n",
    "import matplotlib.pyplot as plt"
   ]
  },
  {
   "cell_type": "code",
   "execution_count": 2,
   "id": "10911d7e",
   "metadata": {},
   "outputs": [],
   "source": [
    "load_states = \"../state_covid_info/Complete_states.csv\"\n",
    "load_2021 = \"../data_frame/Complete_annual_dataframes/Complete_2021.csv\""
   ]
  },
  {
   "cell_type": "code",
   "execution_count": 3,
   "id": "ac5c9a47",
   "metadata": {},
   "outputs": [
    {
     "data": {
      "text/html": [
       "<div>\n",
       "<style scoped>\n",
       "    .dataframe tbody tr th:only-of-type {\n",
       "        vertical-align: middle;\n",
       "    }\n",
       "\n",
       "    .dataframe tbody tr th {\n",
       "        vertical-align: top;\n",
       "    }\n",
       "\n",
       "    .dataframe thead th {\n",
       "        text-align: right;\n",
       "    }\n",
       "</style>\n",
       "<table border=\"1\" class=\"dataframe\">\n",
       "  <thead>\n",
       "    <tr style=\"text-align: right;\">\n",
       "      <th></th>\n",
       "      <th>State</th>\n",
       "      <th>Population</th>\n",
       "      <th>Lockdown Start</th>\n",
       "      <th>Initial Expected Lockdown End</th>\n",
       "      <th>Phase 1 Re-Opening Start</th>\n",
       "      <th>Political Alignment</th>\n",
       "    </tr>\n",
       "  </thead>\n",
       "  <tbody>\n",
       "    <tr>\n",
       "      <th>0</th>\n",
       "      <td>AK</td>\n",
       "      <td>731,545</td>\n",
       "      <td>3/23/2020</td>\n",
       "      <td>3/30/2020</td>\n",
       "      <td>4/24/2020</td>\n",
       "      <td>Red</td>\n",
       "    </tr>\n",
       "    <tr>\n",
       "      <th>1</th>\n",
       "      <td>AL</td>\n",
       "      <td>4,903,185</td>\n",
       "      <td>4/4/2020</td>\n",
       "      <td>4/30/2020</td>\n",
       "      <td>4/30/2020</td>\n",
       "      <td>Red</td>\n",
       "    </tr>\n",
       "    <tr>\n",
       "      <th>2</th>\n",
       "      <td>AR</td>\n",
       "      <td>3,017,804</td>\n",
       "      <td>3/15/2020</td>\n",
       "      <td>3/27/2020</td>\n",
       "      <td>6/5/2020</td>\n",
       "      <td>Red</td>\n",
       "    </tr>\n",
       "    <tr>\n",
       "      <th>3</th>\n",
       "      <td>AZ</td>\n",
       "      <td>7,278,717</td>\n",
       "      <td>4/30/2020</td>\n",
       "      <td>5/15/2020</td>\n",
       "      <td>5/18/2020</td>\n",
       "      <td>Blue</td>\n",
       "    </tr>\n",
       "    <tr>\n",
       "      <th>4</th>\n",
       "      <td>CA</td>\n",
       "      <td>39,512,223</td>\n",
       "      <td>3/19/2020</td>\n",
       "      <td>4/2/2020</td>\n",
       "      <td>5/13/2020</td>\n",
       "      <td>Blue</td>\n",
       "    </tr>\n",
       "  </tbody>\n",
       "</table>\n",
       "</div>"
      ],
      "text/plain": [
       "  State  Population Lockdown Start Initial Expected Lockdown End  \\\n",
       "0    AK     731,545      3/23/2020                     3/30/2020   \n",
       "1    AL   4,903,185       4/4/2020                     4/30/2020   \n",
       "2    AR   3,017,804      3/15/2020                     3/27/2020   \n",
       "3    AZ   7,278,717      4/30/2020                     5/15/2020   \n",
       "4    CA  39,512,223      3/19/2020                      4/2/2020   \n",
       "\n",
       "  Phase 1 Re-Opening Start Political Alignment  \n",
       "0                4/24/2020                 Red  \n",
       "1                4/30/2020                 Red  \n",
       "2                 6/5/2020                 Red  \n",
       "3                5/18/2020                Blue  \n",
       "4                5/13/2020                Blue  "
      ]
     },
     "execution_count": 3,
     "metadata": {},
     "output_type": "execute_result"
    }
   ],
   "source": [
    "states_df = pd.read_csv(load_states)\n",
    "states_df.head()"
   ]
  },
  {
   "cell_type": "code",
   "execution_count": 4,
   "id": "1178cf2f",
   "metadata": {},
   "outputs": [
    {
     "data": {
      "text/html": [
       "<div>\n",
       "<style scoped>\n",
       "    .dataframe tbody tr th:only-of-type {\n",
       "        vertical-align: middle;\n",
       "    }\n",
       "\n",
       "    .dataframe tbody tr th {\n",
       "        vertical-align: top;\n",
       "    }\n",
       "\n",
       "    .dataframe thead th {\n",
       "        text-align: right;\n",
       "    }\n",
       "</style>\n",
       "<table border=\"1\" class=\"dataframe\">\n",
       "  <thead>\n",
       "    <tr style=\"text-align: right;\">\n",
       "      <th></th>\n",
       "      <th>Order Number</th>\n",
       "      <th>Company Name</th>\n",
       "      <th>Ship Date</th>\n",
       "      <th>City</th>\n",
       "      <th>State</th>\n",
       "      <th>Zip</th>\n",
       "      <th>Shipping Service</th>\n",
       "      <th>Created Date</th>\n",
       "      <th>Weight</th>\n",
       "      <th>Item/Bottle Count</th>\n",
       "    </tr>\n",
       "  </thead>\n",
       "  <tbody>\n",
       "    <tr>\n",
       "      <th>0</th>\n",
       "      <td>0</td>\n",
       "      <td>Ecom1</td>\n",
       "      <td>1/4/2021</td>\n",
       "      <td>Pleasant Prairie</td>\n",
       "      <td>WI</td>\n",
       "      <td>53158</td>\n",
       "      <td>FEH</td>\n",
       "      <td>12/7/2020</td>\n",
       "      <td>10.5</td>\n",
       "      <td>3.0</td>\n",
       "    </tr>\n",
       "    <tr>\n",
       "      <th>1</th>\n",
       "      <td>1</td>\n",
       "      <td>Ecom1</td>\n",
       "      <td>1/5/2021</td>\n",
       "      <td>Beaverton</td>\n",
       "      <td>OR</td>\n",
       "      <td>97005</td>\n",
       "      <td>FEH</td>\n",
       "      <td>12/23/2020</td>\n",
       "      <td>10.5</td>\n",
       "      <td>3.0</td>\n",
       "    </tr>\n",
       "    <tr>\n",
       "      <th>2</th>\n",
       "      <td>2</td>\n",
       "      <td>Ecom1</td>\n",
       "      <td>1/5/2021</td>\n",
       "      <td>Edison</td>\n",
       "      <td>NJ</td>\n",
       "      <td>8820</td>\n",
       "      <td>FEH</td>\n",
       "      <td>12/24/2020</td>\n",
       "      <td>6.5</td>\n",
       "      <td>1.0</td>\n",
       "    </tr>\n",
       "    <tr>\n",
       "      <th>3</th>\n",
       "      <td>3</td>\n",
       "      <td>Ecom1</td>\n",
       "      <td>1/5/2021</td>\n",
       "      <td>Jersey city</td>\n",
       "      <td>NJ</td>\n",
       "      <td>7302</td>\n",
       "      <td>FEH</td>\n",
       "      <td>12/24/2020</td>\n",
       "      <td>6.5</td>\n",
       "      <td>1.0</td>\n",
       "    </tr>\n",
       "    <tr>\n",
       "      <th>4</th>\n",
       "      <td>4</td>\n",
       "      <td>Ecom1</td>\n",
       "      <td>1/5/2021</td>\n",
       "      <td>Stoughton</td>\n",
       "      <td>MA</td>\n",
       "      <td>2072</td>\n",
       "      <td>FEH</td>\n",
       "      <td>12/24/2020</td>\n",
       "      <td>6.5</td>\n",
       "      <td>1.0</td>\n",
       "    </tr>\n",
       "  </tbody>\n",
       "</table>\n",
       "</div>"
      ],
      "text/plain": [
       "   Order Number Company Name Ship Date              City State    Zip  \\\n",
       "0             0        Ecom1  1/4/2021  Pleasant Prairie    WI  53158   \n",
       "1             1        Ecom1  1/5/2021         Beaverton    OR  97005   \n",
       "2             2        Ecom1  1/5/2021            Edison    NJ   8820   \n",
       "3             3        Ecom1  1/5/2021       Jersey city    NJ   7302   \n",
       "4             4        Ecom1  1/5/2021         Stoughton    MA   2072   \n",
       "\n",
       "  Shipping Service Created Date  Weight  Item/Bottle Count  \n",
       "0              FEH    12/7/2020    10.5                3.0  \n",
       "1              FEH   12/23/2020    10.5                3.0  \n",
       "2              FEH   12/24/2020     6.5                1.0  \n",
       "3              FEH   12/24/2020     6.5                1.0  \n",
       "4              FEH   12/24/2020     6.5                1.0  "
      ]
     },
     "execution_count": 4,
     "metadata": {},
     "output_type": "execute_result"
    }
   ],
   "source": [
    "#If I set the Index as \"State\" here, an extra column named \"Unammed:0\" populates. \n",
    "df_2021 = pd.read_csv(load_2021, index_col=[0])\n",
    "df_2021.head()"
   ]
  },
  {
   "cell_type": "code",
   "execution_count": 5,
   "id": "4e909ac4",
   "metadata": {},
   "outputs": [
    {
     "data": {
      "text/plain": [
       "array(['WI', 'OR', 'NJ', 'MA', 'CT', 'MD', 'NC', 'NH', 'PA', 'WA', 'GA',\n",
       "       'TX', 'IL', 'CA', 'FL', 'NM', 'NY', 'RI', 'MN', 'WY', 'DC', 'OH',\n",
       "       'MO', 'SC', 'IA', 'CO', 'WV', 'VA', 'AZ', 'IN', 'TN', 'KS', 'AL',\n",
       "       'MI', 'NE', 'NV', 'OK', 'DE', 'MT', 'ID', 'LA', 'ND', 'ME', 'VT',\n",
       "       'AK', 'HI', 'SD', 'AR', 'KY'], dtype=object)"
      ]
     },
     "execution_count": 5,
     "metadata": {},
     "output_type": "execute_result"
    }
   ],
   "source": [
    "df_2021.State.unique()"
   ]
  },
  {
   "cell_type": "code",
   "execution_count": 6,
   "id": "c5f48c04",
   "metadata": {},
   "outputs": [
    {
     "data": {
      "text/html": [
       "<div>\n",
       "<style scoped>\n",
       "    .dataframe tbody tr th:only-of-type {\n",
       "        vertical-align: middle;\n",
       "    }\n",
       "\n",
       "    .dataframe tbody tr th {\n",
       "        vertical-align: top;\n",
       "    }\n",
       "\n",
       "    .dataframe thead th {\n",
       "        text-align: right;\n",
       "    }\n",
       "</style>\n",
       "<table border=\"1\" class=\"dataframe\">\n",
       "  <thead>\n",
       "    <tr style=\"text-align: right;\">\n",
       "      <th></th>\n",
       "      <th>Order Number</th>\n",
       "      <th>Company Name</th>\n",
       "      <th>Ship Date</th>\n",
       "      <th>City</th>\n",
       "      <th>Zip</th>\n",
       "      <th>Shipping Service</th>\n",
       "      <th>Created Date</th>\n",
       "      <th>Weight</th>\n",
       "      <th>Item/Bottle Count</th>\n",
       "    </tr>\n",
       "    <tr>\n",
       "      <th>State</th>\n",
       "      <th></th>\n",
       "      <th></th>\n",
       "      <th></th>\n",
       "      <th></th>\n",
       "      <th></th>\n",
       "      <th></th>\n",
       "      <th></th>\n",
       "      <th></th>\n",
       "      <th></th>\n",
       "    </tr>\n",
       "  </thead>\n",
       "  <tbody>\n",
       "    <tr>\n",
       "      <th>WI</th>\n",
       "      <td>0</td>\n",
       "      <td>Ecom1</td>\n",
       "      <td>1/4/2021</td>\n",
       "      <td>Pleasant Prairie</td>\n",
       "      <td>53158</td>\n",
       "      <td>FEH</td>\n",
       "      <td>12/7/2020</td>\n",
       "      <td>10.5</td>\n",
       "      <td>3.0</td>\n",
       "    </tr>\n",
       "    <tr>\n",
       "      <th>OR</th>\n",
       "      <td>1</td>\n",
       "      <td>Ecom1</td>\n",
       "      <td>1/5/2021</td>\n",
       "      <td>Beaverton</td>\n",
       "      <td>97005</td>\n",
       "      <td>FEH</td>\n",
       "      <td>12/23/2020</td>\n",
       "      <td>10.5</td>\n",
       "      <td>3.0</td>\n",
       "    </tr>\n",
       "    <tr>\n",
       "      <th>NJ</th>\n",
       "      <td>2</td>\n",
       "      <td>Ecom1</td>\n",
       "      <td>1/5/2021</td>\n",
       "      <td>Edison</td>\n",
       "      <td>8820</td>\n",
       "      <td>FEH</td>\n",
       "      <td>12/24/2020</td>\n",
       "      <td>6.5</td>\n",
       "      <td>1.0</td>\n",
       "    </tr>\n",
       "    <tr>\n",
       "      <th>NJ</th>\n",
       "      <td>3</td>\n",
       "      <td>Ecom1</td>\n",
       "      <td>1/5/2021</td>\n",
       "      <td>Jersey city</td>\n",
       "      <td>7302</td>\n",
       "      <td>FEH</td>\n",
       "      <td>12/24/2020</td>\n",
       "      <td>6.5</td>\n",
       "      <td>1.0</td>\n",
       "    </tr>\n",
       "    <tr>\n",
       "      <th>MA</th>\n",
       "      <td>4</td>\n",
       "      <td>Ecom1</td>\n",
       "      <td>1/5/2021</td>\n",
       "      <td>Stoughton</td>\n",
       "      <td>2072</td>\n",
       "      <td>FEH</td>\n",
       "      <td>12/24/2020</td>\n",
       "      <td>6.5</td>\n",
       "      <td>1.0</td>\n",
       "    </tr>\n",
       "    <tr>\n",
       "      <th>...</th>\n",
       "      <td>...</td>\n",
       "      <td>...</td>\n",
       "      <td>...</td>\n",
       "      <td>...</td>\n",
       "      <td>...</td>\n",
       "      <td>...</td>\n",
       "      <td>...</td>\n",
       "      <td>...</td>\n",
       "      <td>...</td>\n",
       "    </tr>\n",
       "    <tr>\n",
       "      <th>IL</th>\n",
       "      <td>242646</td>\n",
       "      <td>Ecom2</td>\n",
       "      <td>12/30/2021</td>\n",
       "      <td>Oakwood</td>\n",
       "      <td>61858</td>\n",
       "      <td>FEH</td>\n",
       "      <td>12/30/2021</td>\n",
       "      <td>7.0</td>\n",
       "      <td>2.0</td>\n",
       "    </tr>\n",
       "    <tr>\n",
       "      <th>IL</th>\n",
       "      <td>242647</td>\n",
       "      <td>Ecom2</td>\n",
       "      <td>12/30/2021</td>\n",
       "      <td>Wonder Lake</td>\n",
       "      <td>60097</td>\n",
       "      <td>FEH</td>\n",
       "      <td>12/30/2021</td>\n",
       "      <td>7.0</td>\n",
       "      <td>2.0</td>\n",
       "    </tr>\n",
       "    <tr>\n",
       "      <th>MA</th>\n",
       "      <td>242648</td>\n",
       "      <td>Ecom2</td>\n",
       "      <td>12/30/2021</td>\n",
       "      <td>Charlestown</td>\n",
       "      <td>2129</td>\n",
       "      <td>UPS</td>\n",
       "      <td>12/30/2021</td>\n",
       "      <td>7.0</td>\n",
       "      <td>2.0</td>\n",
       "    </tr>\n",
       "    <tr>\n",
       "      <th>DC</th>\n",
       "      <td>242649</td>\n",
       "      <td>Ecom2</td>\n",
       "      <td>12/30/2021</td>\n",
       "      <td>Washington</td>\n",
       "      <td>20002</td>\n",
       "      <td>FEH</td>\n",
       "      <td>12/30/2021</td>\n",
       "      <td>7.0</td>\n",
       "      <td>2.0</td>\n",
       "    </tr>\n",
       "    <tr>\n",
       "      <th>FL</th>\n",
       "      <td>242650</td>\n",
       "      <td>Ecom2</td>\n",
       "      <td>12/30/2021</td>\n",
       "      <td>Delray Beach</td>\n",
       "      <td>33446</td>\n",
       "      <td>FEH</td>\n",
       "      <td>12/30/2021</td>\n",
       "      <td>7.0</td>\n",
       "      <td>2.0</td>\n",
       "    </tr>\n",
       "  </tbody>\n",
       "</table>\n",
       "<p>242651 rows × 9 columns</p>\n",
       "</div>"
      ],
      "text/plain": [
       "       Order Number Company Name   Ship Date              City    Zip  \\\n",
       "State                                                                   \n",
       "WI                0        Ecom1    1/4/2021  Pleasant Prairie  53158   \n",
       "OR                1        Ecom1    1/5/2021         Beaverton  97005   \n",
       "NJ                2        Ecom1    1/5/2021            Edison   8820   \n",
       "NJ                3        Ecom1    1/5/2021       Jersey city   7302   \n",
       "MA                4        Ecom1    1/5/2021         Stoughton   2072   \n",
       "...             ...          ...         ...               ...    ...   \n",
       "IL           242646        Ecom2  12/30/2021           Oakwood  61858   \n",
       "IL           242647        Ecom2  12/30/2021       Wonder Lake  60097   \n",
       "MA           242648        Ecom2  12/30/2021       Charlestown   2129   \n",
       "DC           242649        Ecom2  12/30/2021        Washington  20002   \n",
       "FL           242650        Ecom2  12/30/2021      Delray Beach  33446   \n",
       "\n",
       "      Shipping Service Created Date  Weight  Item/Bottle Count  \n",
       "State                                                           \n",
       "WI                 FEH    12/7/2020    10.5                3.0  \n",
       "OR                 FEH   12/23/2020    10.5                3.0  \n",
       "NJ                 FEH   12/24/2020     6.5                1.0  \n",
       "NJ                 FEH   12/24/2020     6.5                1.0  \n",
       "MA                 FEH   12/24/2020     6.5                1.0  \n",
       "...                ...          ...     ...                ...  \n",
       "IL                 FEH   12/30/2021     7.0                2.0  \n",
       "IL                 FEH   12/30/2021     7.0                2.0  \n",
       "MA                 UPS   12/30/2021     7.0                2.0  \n",
       "DC                 FEH   12/30/2021     7.0                2.0  \n",
       "FL                 FEH   12/30/2021     7.0                2.0  \n",
       "\n",
       "[242651 rows x 9 columns]"
      ]
     },
     "execution_count": 6,
     "metadata": {},
     "output_type": "execute_result"
    }
   ],
   "source": [
    "df_2021 = df_2021.set_index(\"State\")\n",
    "df_2021"
   ]
  },
  {
   "cell_type": "code",
   "execution_count": 7,
   "id": "53919cf2",
   "metadata": {},
   "outputs": [
    {
     "data": {
      "text/html": [
       "<div>\n",
       "<style scoped>\n",
       "    .dataframe tbody tr th:only-of-type {\n",
       "        vertical-align: middle;\n",
       "    }\n",
       "\n",
       "    .dataframe tbody tr th {\n",
       "        vertical-align: top;\n",
       "    }\n",
       "\n",
       "    .dataframe thead th {\n",
       "        text-align: right;\n",
       "    }\n",
       "</style>\n",
       "<table border=\"1\" class=\"dataframe\">\n",
       "  <thead>\n",
       "    <tr style=\"text-align: right;\">\n",
       "      <th></th>\n",
       "      <th>Order Number</th>\n",
       "      <th>Company Name</th>\n",
       "      <th>Ship Date</th>\n",
       "      <th>City</th>\n",
       "      <th>Zip</th>\n",
       "      <th>Shipping Service</th>\n",
       "      <th>Created Date</th>\n",
       "      <th>Weight</th>\n",
       "      <th>Item/Bottle Count</th>\n",
       "      <th>Population</th>\n",
       "      <th>Lockdown Start</th>\n",
       "      <th>Initial Expected Lockdown End</th>\n",
       "      <th>Phase 1 Re-Opening Start</th>\n",
       "      <th>Political Alignment</th>\n",
       "    </tr>\n",
       "    <tr>\n",
       "      <th>State</th>\n",
       "      <th></th>\n",
       "      <th></th>\n",
       "      <th></th>\n",
       "      <th></th>\n",
       "      <th></th>\n",
       "      <th></th>\n",
       "      <th></th>\n",
       "      <th></th>\n",
       "      <th></th>\n",
       "      <th></th>\n",
       "      <th></th>\n",
       "      <th></th>\n",
       "      <th></th>\n",
       "      <th></th>\n",
       "    </tr>\n",
       "  </thead>\n",
       "  <tbody>\n",
       "    <tr>\n",
       "      <th>WI</th>\n",
       "      <td>0</td>\n",
       "      <td>Ecom1</td>\n",
       "      <td>1/4/2021</td>\n",
       "      <td>Pleasant Prairie</td>\n",
       "      <td>53158</td>\n",
       "      <td>FEH</td>\n",
       "      <td>12/7/2020</td>\n",
       "      <td>10.5</td>\n",
       "      <td>3.0</td>\n",
       "      <td>5,822,434</td>\n",
       "      <td>3/24/2020</td>\n",
       "      <td>4/24/2020</td>\n",
       "      <td>5/26/2020</td>\n",
       "      <td>Blue</td>\n",
       "    </tr>\n",
       "    <tr>\n",
       "      <th>OR</th>\n",
       "      <td>1</td>\n",
       "      <td>Ecom1</td>\n",
       "      <td>1/5/2021</td>\n",
       "      <td>Beaverton</td>\n",
       "      <td>97005</td>\n",
       "      <td>FEH</td>\n",
       "      <td>12/23/2020</td>\n",
       "      <td>10.5</td>\n",
       "      <td>3.0</td>\n",
       "      <td>4,217,737</td>\n",
       "      <td>3/24/2020</td>\n",
       "      <td>3/31/2020</td>\n",
       "      <td>5/14/2020</td>\n",
       "      <td>Blue</td>\n",
       "    </tr>\n",
       "    <tr>\n",
       "      <th>NJ</th>\n",
       "      <td>2</td>\n",
       "      <td>Ecom1</td>\n",
       "      <td>1/5/2021</td>\n",
       "      <td>Edison</td>\n",
       "      <td>8820</td>\n",
       "      <td>FEH</td>\n",
       "      <td>12/24/2020</td>\n",
       "      <td>6.5</td>\n",
       "      <td>1.0</td>\n",
       "      <td>8,882,190</td>\n",
       "      <td>3/21/2020</td>\n",
       "      <td>1/1/1111</td>\n",
       "      <td>5/12/2020</td>\n",
       "      <td>Blue</td>\n",
       "    </tr>\n",
       "    <tr>\n",
       "      <th>NJ</th>\n",
       "      <td>3</td>\n",
       "      <td>Ecom1</td>\n",
       "      <td>1/5/2021</td>\n",
       "      <td>Jersey city</td>\n",
       "      <td>7302</td>\n",
       "      <td>FEH</td>\n",
       "      <td>12/24/2020</td>\n",
       "      <td>6.5</td>\n",
       "      <td>1.0</td>\n",
       "      <td>8,882,190</td>\n",
       "      <td>3/21/2020</td>\n",
       "      <td>1/1/1111</td>\n",
       "      <td>5/12/2020</td>\n",
       "      <td>Blue</td>\n",
       "    </tr>\n",
       "    <tr>\n",
       "      <th>MA</th>\n",
       "      <td>4</td>\n",
       "      <td>Ecom1</td>\n",
       "      <td>1/5/2021</td>\n",
       "      <td>Stoughton</td>\n",
       "      <td>2072</td>\n",
       "      <td>FEH</td>\n",
       "      <td>12/24/2020</td>\n",
       "      <td>6.5</td>\n",
       "      <td>1.0</td>\n",
       "      <td>6,892,503</td>\n",
       "      <td>3/23/2020</td>\n",
       "      <td>3/31/2020</td>\n",
       "      <td>5/18/2020</td>\n",
       "      <td>Blue</td>\n",
       "    </tr>\n",
       "  </tbody>\n",
       "</table>\n",
       "</div>"
      ],
      "text/plain": [
       "       Order Number Company Name Ship Date              City    Zip  \\\n",
       "State                                                                 \n",
       "WI                0        Ecom1  1/4/2021  Pleasant Prairie  53158   \n",
       "OR                1        Ecom1  1/5/2021         Beaverton  97005   \n",
       "NJ                2        Ecom1  1/5/2021            Edison   8820   \n",
       "NJ                3        Ecom1  1/5/2021       Jersey city   7302   \n",
       "MA                4        Ecom1  1/5/2021         Stoughton   2072   \n",
       "\n",
       "      Shipping Service Created Date  Weight  Item/Bottle Count Population  \\\n",
       "State                                                                       \n",
       "WI                 FEH    12/7/2020    10.5                3.0  5,822,434   \n",
       "OR                 FEH   12/23/2020    10.5                3.0  4,217,737   \n",
       "NJ                 FEH   12/24/2020     6.5                1.0  8,882,190   \n",
       "NJ                 FEH   12/24/2020     6.5                1.0  8,882,190   \n",
       "MA                 FEH   12/24/2020     6.5                1.0  6,892,503   \n",
       "\n",
       "      Lockdown Start Initial Expected Lockdown End Phase 1 Re-Opening Start  \\\n",
       "State                                                                         \n",
       "WI         3/24/2020                     4/24/2020                5/26/2020   \n",
       "OR         3/24/2020                     3/31/2020                5/14/2020   \n",
       "NJ         3/21/2020                      1/1/1111                5/12/2020   \n",
       "NJ         3/21/2020                      1/1/1111                5/12/2020   \n",
       "MA         3/23/2020                     3/31/2020                5/18/2020   \n",
       "\n",
       "      Political Alignment  \n",
       "State                      \n",
       "WI                   Blue  \n",
       "OR                   Blue  \n",
       "NJ                   Blue  \n",
       "NJ                   Blue  \n",
       "MA                   Blue  "
      ]
     },
     "execution_count": 7,
     "metadata": {},
     "output_type": "execute_result"
    }
   ],
   "source": [
    "#Join states and 2021 df on \"State\"\n",
    "states_2021 = df_2021.join(states_df.set_index (\"State\"), on = \"State\")\n",
    "states_2021.head()"
   ]
  },
  {
   "cell_type": "code",
   "execution_count": 8,
   "id": "4364147b",
   "metadata": {},
   "outputs": [
    {
     "data": {
      "text/plain": [
       "Order Number                     242651\n",
       "Company Name                     242651\n",
       "Ship Date                        242651\n",
       "City                             242651\n",
       "Zip                              242651\n",
       "Shipping Service                 242651\n",
       "Created Date                     242651\n",
       "Weight                           242651\n",
       "Item/Bottle Count                242651\n",
       "Population                       242651\n",
       "Lockdown Start                   242651\n",
       "Initial Expected Lockdown End    242651\n",
       "Phase 1 Re-Opening Start         242651\n",
       "Political Alignment              242651\n",
       "dtype: int64"
      ]
     },
     "execution_count": 8,
     "metadata": {},
     "output_type": "execute_result"
    }
   ],
   "source": [
    "#242,651 orders placed in 2021.\n",
    "states_2021.count()"
   ]
  },
  {
   "cell_type": "code",
   "execution_count": 9,
   "id": "39b430d0",
   "metadata": {},
   "outputs": [
    {
     "data": {
      "text/html": [
       "<div>\n",
       "<style scoped>\n",
       "    .dataframe tbody tr th:only-of-type {\n",
       "        vertical-align: middle;\n",
       "    }\n",
       "\n",
       "    .dataframe tbody tr th {\n",
       "        vertical-align: top;\n",
       "    }\n",
       "\n",
       "    .dataframe thead th {\n",
       "        text-align: right;\n",
       "    }\n",
       "</style>\n",
       "<table border=\"1\" class=\"dataframe\">\n",
       "  <thead>\n",
       "    <tr style=\"text-align: right;\">\n",
       "      <th></th>\n",
       "      <th>Order Number</th>\n",
       "      <th>Company Name</th>\n",
       "      <th>Ship Date</th>\n",
       "      <th>City</th>\n",
       "      <th>Zip</th>\n",
       "      <th>Shipping Service</th>\n",
       "      <th>Created Date</th>\n",
       "      <th>Weight</th>\n",
       "      <th>Item/Bottle Count</th>\n",
       "      <th>Population</th>\n",
       "      <th>Lockdown Start</th>\n",
       "      <th>Initial Expected Lockdown End</th>\n",
       "      <th>Phase 1 Re-Opening Start</th>\n",
       "      <th>Political Alignment</th>\n",
       "    </tr>\n",
       "    <tr>\n",
       "      <th>State</th>\n",
       "      <th></th>\n",
       "      <th></th>\n",
       "      <th></th>\n",
       "      <th></th>\n",
       "      <th></th>\n",
       "      <th></th>\n",
       "      <th></th>\n",
       "      <th></th>\n",
       "      <th></th>\n",
       "      <th></th>\n",
       "      <th></th>\n",
       "      <th></th>\n",
       "      <th></th>\n",
       "      <th></th>\n",
       "    </tr>\n",
       "  </thead>\n",
       "  <tbody>\n",
       "    <tr>\n",
       "      <th>CO</th>\n",
       "      <td>242641</td>\n",
       "      <td>Ecom3</td>\n",
       "      <td>12/30/2021</td>\n",
       "      <td>Colorado Springs</td>\n",
       "      <td>80907</td>\n",
       "      <td>UPS</td>\n",
       "      <td>12/30/2021</td>\n",
       "      <td>21.50</td>\n",
       "      <td>6.0</td>\n",
       "      <td>5,758,736</td>\n",
       "      <td>3/26/2020</td>\n",
       "      <td>4/26/2020</td>\n",
       "      <td>4/26/2020</td>\n",
       "      <td>Blue</td>\n",
       "    </tr>\n",
       "    <tr>\n",
       "      <th>NV</th>\n",
       "      <td>242642</td>\n",
       "      <td>Ecom3</td>\n",
       "      <td>12/30/2021</td>\n",
       "      <td>Las Vegas</td>\n",
       "      <td>89145</td>\n",
       "      <td>UPS</td>\n",
       "      <td>12/30/2021</td>\n",
       "      <td>3.35</td>\n",
       "      <td>1.0</td>\n",
       "      <td>3,080,156</td>\n",
       "      <td>4/1/2020</td>\n",
       "      <td>4/30/2020</td>\n",
       "      <td>5/9/2020</td>\n",
       "      <td>Blue</td>\n",
       "    </tr>\n",
       "    <tr>\n",
       "      <th>CA</th>\n",
       "      <td>242643</td>\n",
       "      <td>Ecom3</td>\n",
       "      <td>12/30/2021</td>\n",
       "      <td>San Diego</td>\n",
       "      <td>92130</td>\n",
       "      <td>UPS</td>\n",
       "      <td>12/30/2021</td>\n",
       "      <td>7.00</td>\n",
       "      <td>2.0</td>\n",
       "      <td>39,512,223</td>\n",
       "      <td>3/19/2020</td>\n",
       "      <td>4/2/2020</td>\n",
       "      <td>5/13/2020</td>\n",
       "      <td>Blue</td>\n",
       "    </tr>\n",
       "    <tr>\n",
       "      <th>AK</th>\n",
       "      <td>242644</td>\n",
       "      <td>Ecom3</td>\n",
       "      <td>12/30/2021</td>\n",
       "      <td>Anchorage</td>\n",
       "      <td>99503</td>\n",
       "      <td>UPS</td>\n",
       "      <td>12/30/2021</td>\n",
       "      <td>21.50</td>\n",
       "      <td>6.0</td>\n",
       "      <td>731,545</td>\n",
       "      <td>3/23/2020</td>\n",
       "      <td>3/30/2020</td>\n",
       "      <td>4/24/2020</td>\n",
       "      <td>Red</td>\n",
       "    </tr>\n",
       "    <tr>\n",
       "      <th>IL</th>\n",
       "      <td>242645</td>\n",
       "      <td>Ecom2</td>\n",
       "      <td>12/30/2021</td>\n",
       "      <td>Hillside</td>\n",
       "      <td>60162</td>\n",
       "      <td>FEH</td>\n",
       "      <td>12/30/2021</td>\n",
       "      <td>7.00</td>\n",
       "      <td>2.0</td>\n",
       "      <td>12,671,821</td>\n",
       "      <td>3/20/2020</td>\n",
       "      <td>3/30/2020</td>\n",
       "      <td>5/5/2020</td>\n",
       "      <td>Blue</td>\n",
       "    </tr>\n",
       "    <tr>\n",
       "      <th>IL</th>\n",
       "      <td>242646</td>\n",
       "      <td>Ecom2</td>\n",
       "      <td>12/30/2021</td>\n",
       "      <td>Oakwood</td>\n",
       "      <td>61858</td>\n",
       "      <td>FEH</td>\n",
       "      <td>12/30/2021</td>\n",
       "      <td>7.00</td>\n",
       "      <td>2.0</td>\n",
       "      <td>12,671,821</td>\n",
       "      <td>3/20/2020</td>\n",
       "      <td>3/30/2020</td>\n",
       "      <td>5/5/2020</td>\n",
       "      <td>Blue</td>\n",
       "    </tr>\n",
       "    <tr>\n",
       "      <th>IL</th>\n",
       "      <td>242647</td>\n",
       "      <td>Ecom2</td>\n",
       "      <td>12/30/2021</td>\n",
       "      <td>Wonder Lake</td>\n",
       "      <td>60097</td>\n",
       "      <td>FEH</td>\n",
       "      <td>12/30/2021</td>\n",
       "      <td>7.00</td>\n",
       "      <td>2.0</td>\n",
       "      <td>12,671,821</td>\n",
       "      <td>3/20/2020</td>\n",
       "      <td>3/30/2020</td>\n",
       "      <td>5/5/2020</td>\n",
       "      <td>Blue</td>\n",
       "    </tr>\n",
       "    <tr>\n",
       "      <th>MA</th>\n",
       "      <td>242648</td>\n",
       "      <td>Ecom2</td>\n",
       "      <td>12/30/2021</td>\n",
       "      <td>Charlestown</td>\n",
       "      <td>2129</td>\n",
       "      <td>UPS</td>\n",
       "      <td>12/30/2021</td>\n",
       "      <td>7.00</td>\n",
       "      <td>2.0</td>\n",
       "      <td>6,892,503</td>\n",
       "      <td>3/23/2020</td>\n",
       "      <td>3/31/2020</td>\n",
       "      <td>5/18/2020</td>\n",
       "      <td>Blue</td>\n",
       "    </tr>\n",
       "    <tr>\n",
       "      <th>DC</th>\n",
       "      <td>242649</td>\n",
       "      <td>Ecom2</td>\n",
       "      <td>12/30/2021</td>\n",
       "      <td>Washington</td>\n",
       "      <td>20002</td>\n",
       "      <td>FEH</td>\n",
       "      <td>12/30/2021</td>\n",
       "      <td>7.00</td>\n",
       "      <td>2.0</td>\n",
       "      <td>705,749</td>\n",
       "      <td>4/1/2020</td>\n",
       "      <td>4/24/2020</td>\n",
       "      <td>5/29/2020</td>\n",
       "      <td>Blue</td>\n",
       "    </tr>\n",
       "    <tr>\n",
       "      <th>FL</th>\n",
       "      <td>242650</td>\n",
       "      <td>Ecom2</td>\n",
       "      <td>12/30/2021</td>\n",
       "      <td>Delray Beach</td>\n",
       "      <td>33446</td>\n",
       "      <td>FEH</td>\n",
       "      <td>12/30/2021</td>\n",
       "      <td>7.00</td>\n",
       "      <td>2.0</td>\n",
       "      <td>21,477,737</td>\n",
       "      <td>4/1/2020</td>\n",
       "      <td>5/1/2020</td>\n",
       "      <td>9/25/2020</td>\n",
       "      <td>Red</td>\n",
       "    </tr>\n",
       "  </tbody>\n",
       "</table>\n",
       "</div>"
      ],
      "text/plain": [
       "       Order Number Company Name   Ship Date              City    Zip  \\\n",
       "State                                                                   \n",
       "CO           242641        Ecom3  12/30/2021  Colorado Springs  80907   \n",
       "NV           242642        Ecom3  12/30/2021         Las Vegas  89145   \n",
       "CA           242643        Ecom3  12/30/2021         San Diego  92130   \n",
       "AK           242644        Ecom3  12/30/2021         Anchorage  99503   \n",
       "IL           242645        Ecom2  12/30/2021          Hillside  60162   \n",
       "IL           242646        Ecom2  12/30/2021           Oakwood  61858   \n",
       "IL           242647        Ecom2  12/30/2021       Wonder Lake  60097   \n",
       "MA           242648        Ecom2  12/30/2021       Charlestown   2129   \n",
       "DC           242649        Ecom2  12/30/2021        Washington  20002   \n",
       "FL           242650        Ecom2  12/30/2021      Delray Beach  33446   \n",
       "\n",
       "      Shipping Service Created Date  Weight  Item/Bottle Count  Population  \\\n",
       "State                                                                        \n",
       "CO                 UPS   12/30/2021   21.50                6.0   5,758,736   \n",
       "NV                 UPS   12/30/2021    3.35                1.0   3,080,156   \n",
       "CA                 UPS   12/30/2021    7.00                2.0  39,512,223   \n",
       "AK                 UPS   12/30/2021   21.50                6.0     731,545   \n",
       "IL                 FEH   12/30/2021    7.00                2.0  12,671,821   \n",
       "IL                 FEH   12/30/2021    7.00                2.0  12,671,821   \n",
       "IL                 FEH   12/30/2021    7.00                2.0  12,671,821   \n",
       "MA                 UPS   12/30/2021    7.00                2.0   6,892,503   \n",
       "DC                 FEH   12/30/2021    7.00                2.0     705,749   \n",
       "FL                 FEH   12/30/2021    7.00                2.0  21,477,737   \n",
       "\n",
       "      Lockdown Start Initial Expected Lockdown End Phase 1 Re-Opening Start  \\\n",
       "State                                                                         \n",
       "CO         3/26/2020                     4/26/2020                4/26/2020   \n",
       "NV          4/1/2020                     4/30/2020                 5/9/2020   \n",
       "CA         3/19/2020                      4/2/2020                5/13/2020   \n",
       "AK         3/23/2020                     3/30/2020                4/24/2020   \n",
       "IL         3/20/2020                     3/30/2020                 5/5/2020   \n",
       "IL         3/20/2020                     3/30/2020                 5/5/2020   \n",
       "IL         3/20/2020                     3/30/2020                 5/5/2020   \n",
       "MA         3/23/2020                     3/31/2020                5/18/2020   \n",
       "DC          4/1/2020                     4/24/2020                5/29/2020   \n",
       "FL          4/1/2020                      5/1/2020                9/25/2020   \n",
       "\n",
       "      Political Alignment  \n",
       "State                      \n",
       "CO                   Blue  \n",
       "NV                   Blue  \n",
       "CA                   Blue  \n",
       "AK                    Red  \n",
       "IL                   Blue  \n",
       "IL                   Blue  \n",
       "IL                   Blue  \n",
       "MA                   Blue  \n",
       "DC                   Blue  \n",
       "FL                    Red  "
      ]
     },
     "execution_count": 9,
     "metadata": {},
     "output_type": "execute_result"
    }
   ],
   "source": [
    "states_2021.tail(10)"
   ]
  },
  {
   "cell_type": "code",
   "execution_count": 10,
   "id": "0f26f0da",
   "metadata": {},
   "outputs": [
    {
     "data": {
      "text/plain": [
       "1065457.0"
      ]
     },
     "execution_count": 10,
     "metadata": {},
     "output_type": "execute_result"
    }
   ],
   "source": [
    "# Calculate the total 2020 Item/Bottle Count.\n",
    "total_count_2021 = states_2021[\"Item/Bottle Count\"].sum()\n",
    "total_count_2021"
   ]
  },
  {
   "cell_type": "markdown",
   "id": "524ec36c",
   "metadata": {},
   "source": [
    "## Slice Each State Into its Own Dataframe and Calculate Total Item/Bottle Count 2021."
   ]
  },
  {
   "cell_type": "code",
   "execution_count": 11,
   "id": "f70b78b4",
   "metadata": {},
   "outputs": [],
   "source": [
    "#['WI', 'OR', 'NJ', 'MA', 'CT', 'MD', 'NC', 'NH', 'PA', 'WA', 'GA',\n",
    "#       'TX', 'IL', 'CA', 'FL', 'NM', 'NY', 'RI', 'MN', 'WY', 'DC', 'OH',\n",
    "#       'MO', 'SC', 'IA', 'CO', 'WV', 'VA', 'AZ', 'IN', 'TN', 'KS', 'AL',\n",
    "#       'MI', 'NE', 'NV', 'OK', 'DE', 'MT', 'ID', 'LA', 'ND', 'ME', 'VT',\n",
    "#       'AK', 'HI', 'SD', 'AR', 'KY']"
   ]
  },
  {
   "cell_type": "code",
   "execution_count": 12,
   "id": "4e756fd2",
   "metadata": {},
   "outputs": [],
   "source": [
    "slice_list = [\"AL\"]\n",
    "Alabama = states_2021.iloc[states_2021.index.isin(slice_list)]\n",
    "#Alabama"
   ]
  },
  {
   "cell_type": "code",
   "execution_count": 13,
   "id": "1bc1a114",
   "metadata": {},
   "outputs": [
    {
     "data": {
      "text/plain": [
       "1229.0"
      ]
     },
     "execution_count": 13,
     "metadata": {},
     "output_type": "execute_result"
    }
   ],
   "source": [
    "# Calculate the total Alabama Item/Bottle Count.\n",
    "Alabama[\"Item/Bottle Count\"].sum()"
   ]
  },
  {
   "cell_type": "code",
   "execution_count": 14,
   "id": "46bc454c",
   "metadata": {},
   "outputs": [],
   "source": [
    "slice_list = [\"AK\"]\n",
    "Alaska = states_2021.iloc[states_2021.index.isin(slice_list)]\n",
    "#Alaska"
   ]
  },
  {
   "cell_type": "code",
   "execution_count": 15,
   "id": "fa9ef0a5",
   "metadata": {},
   "outputs": [
    {
     "data": {
      "text/plain": [
       "2076.0"
      ]
     },
     "execution_count": 15,
     "metadata": {},
     "output_type": "execute_result"
    }
   ],
   "source": [
    "# Calculate the total Alaska Item/Bottle Count.\n",
    "Alaska[\"Item/Bottle Count\"].sum()"
   ]
  },
  {
   "cell_type": "code",
   "execution_count": 16,
   "id": "10dacd1f",
   "metadata": {},
   "outputs": [],
   "source": [
    "slice_list = [\"AZ\"]\n",
    "Arizona = states_2021.iloc[states_2021.index.isin(slice_list)]\n",
    "#Arizona"
   ]
  },
  {
   "cell_type": "code",
   "execution_count": 17,
   "id": "298982ef",
   "metadata": {},
   "outputs": [
    {
     "data": {
      "text/plain": [
       "16882.0"
      ]
     },
     "execution_count": 17,
     "metadata": {},
     "output_type": "execute_result"
    }
   ],
   "source": [
    "# Calculate the total Arizona Item/Bottle Count.\n",
    "Arizona[\"Item/Bottle Count\"].sum()"
   ]
  },
  {
   "cell_type": "code",
   "execution_count": 18,
   "id": "d917b8d2",
   "metadata": {},
   "outputs": [],
   "source": [
    "slice_list = [\"AR\"]\n",
    "Arkansas = states_2021.iloc[states_2021.index.isin(slice_list)]\n",
    "#Arkansas"
   ]
  },
  {
   "cell_type": "code",
   "execution_count": 19,
   "id": "e47d32b4",
   "metadata": {},
   "outputs": [
    {
     "data": {
      "text/plain": [
       "5121.0"
      ]
     },
     "execution_count": 19,
     "metadata": {},
     "output_type": "execute_result"
    }
   ],
   "source": [
    "# Calculate the total Arkansas Item/Bottle Count.\n",
    "Arkansas[\"Item/Bottle Count\"].sum()"
   ]
  },
  {
   "cell_type": "code",
   "execution_count": 20,
   "id": "30f0c11a",
   "metadata": {},
   "outputs": [],
   "source": [
    "slice_list = [\"CA\"]\n",
    "California = states_2021.iloc[states_2021.index.isin(slice_list)]\n",
    "#California"
   ]
  },
  {
   "cell_type": "code",
   "execution_count": 21,
   "id": "3d0f45fd",
   "metadata": {},
   "outputs": [
    {
     "data": {
      "text/plain": [
       "109697.0"
      ]
     },
     "execution_count": 21,
     "metadata": {},
     "output_type": "execute_result"
    }
   ],
   "source": [
    "# Calculate the total California Item/Bottle Count.\n",
    "California[\"Item/Bottle Count\"].sum()"
   ]
  },
  {
   "cell_type": "code",
   "execution_count": 22,
   "id": "acccd00a",
   "metadata": {},
   "outputs": [],
   "source": [
    "slice_list = [\"CO\"]\n",
    "Colorado = states_2021.iloc[states_2021.index.isin(slice_list)]\n",
    "#Colorado"
   ]
  },
  {
   "cell_type": "code",
   "execution_count": 23,
   "id": "927f2f03",
   "metadata": {},
   "outputs": [
    {
     "data": {
      "text/plain": [
       "27844.0"
      ]
     },
     "execution_count": 23,
     "metadata": {},
     "output_type": "execute_result"
    }
   ],
   "source": [
    "# Calculate the total Alaska Item/Bottle Count.\n",
    "Colorado[\"Item/Bottle Count\"].sum()"
   ]
  },
  {
   "cell_type": "code",
   "execution_count": 24,
   "id": "21aad67b",
   "metadata": {},
   "outputs": [],
   "source": [
    "slice_list = [\"CT\"]\n",
    "Connecticut = states_2021.iloc[states_2021.index.isin(slice_list)]\n",
    "#Connecticut"
   ]
  },
  {
   "cell_type": "code",
   "execution_count": 25,
   "id": "c2dbfd37",
   "metadata": {},
   "outputs": [
    {
     "data": {
      "text/plain": [
       "21934.0"
      ]
     },
     "execution_count": 25,
     "metadata": {},
     "output_type": "execute_result"
    }
   ],
   "source": [
    "# Calculate the total Connecticut Item/Bottle Count.\n",
    "Connecticut[\"Item/Bottle Count\"].sum()"
   ]
  },
  {
   "cell_type": "code",
   "execution_count": 26,
   "id": "b278f94e",
   "metadata": {},
   "outputs": [],
   "source": [
    "slice_list = [\"DC\"]\n",
    "DC = states_2021.iloc[states_2021.index.isin(slice_list)]\n",
    "#DC"
   ]
  },
  {
   "cell_type": "code",
   "execution_count": 27,
   "id": "fbdbcc4d",
   "metadata": {},
   "outputs": [
    {
     "data": {
      "text/plain": [
       "8089.0"
      ]
     },
     "execution_count": 27,
     "metadata": {},
     "output_type": "execute_result"
    }
   ],
   "source": [
    "#Calculate the total Delaware Item/Bottle Count.\n",
    "DC[\"Item/Bottle Count\"].sum()"
   ]
  },
  {
   "cell_type": "code",
   "execution_count": 28,
   "id": "4f2e7fdd",
   "metadata": {},
   "outputs": [],
   "source": [
    "slice_list = [\"DE\"]\n",
    "Delaware = states_2021.iloc[states_2021.index.isin(slice_list)]\n",
    "#Delaware"
   ]
  },
  {
   "cell_type": "code",
   "execution_count": 29,
   "id": "8ebf0de8",
   "metadata": {},
   "outputs": [
    {
     "data": {
      "text/plain": [
       "2053.0"
      ]
     },
     "execution_count": 29,
     "metadata": {},
     "output_type": "execute_result"
    }
   ],
   "source": [
    "# Calculate the total Delaware Item/Bottle Count.\n",
    "Delaware[\"Item/Bottle Count\"].sum()"
   ]
  },
  {
   "cell_type": "code",
   "execution_count": 30,
   "id": "0bbf4b39",
   "metadata": {},
   "outputs": [],
   "source": [
    "slice_list = [\"FL\"]\n",
    "Florida = states_2021.iloc[states_2021.index.isin(slice_list)]\n",
    "#Florida"
   ]
  },
  {
   "cell_type": "code",
   "execution_count": 31,
   "id": "7840ccc8",
   "metadata": {},
   "outputs": [
    {
     "data": {
      "text/plain": [
       "79220.0"
      ]
     },
     "execution_count": 31,
     "metadata": {},
     "output_type": "execute_result"
    }
   ],
   "source": [
    "# Calculate the total Florida Item/Bottle Count.\n",
    "Florida[\"Item/Bottle Count\"].sum()"
   ]
  },
  {
   "cell_type": "code",
   "execution_count": 32,
   "id": "8dc52048",
   "metadata": {},
   "outputs": [],
   "source": [
    "slice_list = [\"GA\"]\n",
    "Georgia = states_2021.iloc[states_2021.index.isin(slice_list)]\n",
    "#Georgia"
   ]
  },
  {
   "cell_type": "code",
   "execution_count": 33,
   "id": "852830b5",
   "metadata": {},
   "outputs": [
    {
     "data": {
      "text/plain": [
       "31870.0"
      ]
     },
     "execution_count": 33,
     "metadata": {},
     "output_type": "execute_result"
    }
   ],
   "source": [
    "# Calculate the total Georgia Item/Bottle Count.\n",
    "Georgia[\"Item/Bottle Count\"].sum()"
   ]
  },
  {
   "cell_type": "code",
   "execution_count": 34,
   "id": "98b63f4c",
   "metadata": {},
   "outputs": [],
   "source": [
    "slice_list = [\"HI\"]\n",
    "Hawaii = states_2021.iloc[states_2021.index.isin(slice_list)]\n",
    "#Hawaii"
   ]
  },
  {
   "cell_type": "code",
   "execution_count": 35,
   "id": "bbbcd02c",
   "metadata": {},
   "outputs": [
    {
     "data": {
      "text/plain": [
       "11142.0"
      ]
     },
     "execution_count": 35,
     "metadata": {},
     "output_type": "execute_result"
    }
   ],
   "source": [
    "# Calculate the total Hawaii Item/Bottle Count.\n",
    "Hawaii[\"Item/Bottle Count\"].sum()"
   ]
  },
  {
   "cell_type": "code",
   "execution_count": 36,
   "id": "c80e8149",
   "metadata": {},
   "outputs": [],
   "source": [
    "slice_list = [\"ID\"]\n",
    "Idaho = states_2021.iloc[states_2021.index.isin(slice_list)]\n",
    "#Idaho"
   ]
  },
  {
   "cell_type": "code",
   "execution_count": 37,
   "id": "86b16d53",
   "metadata": {},
   "outputs": [
    {
     "data": {
      "text/plain": [
       "3517.0"
      ]
     },
     "execution_count": 37,
     "metadata": {},
     "output_type": "execute_result"
    }
   ],
   "source": [
    "# Calculate the total Idaho Item/Bottle Count.\n",
    "Idaho[\"Item/Bottle Count\"].sum()"
   ]
  },
  {
   "cell_type": "code",
   "execution_count": 38,
   "id": "e733a5e1",
   "metadata": {},
   "outputs": [],
   "source": [
    "slice_list = [\"IL\"]\n",
    "Illinois = states_2021.iloc[states_2021.index.isin(slice_list)]\n",
    "#Illinois"
   ]
  },
  {
   "cell_type": "code",
   "execution_count": 39,
   "id": "18d973cc",
   "metadata": {},
   "outputs": [
    {
     "data": {
      "text/plain": [
       "42583.0"
      ]
     },
     "execution_count": 39,
     "metadata": {},
     "output_type": "execute_result"
    }
   ],
   "source": [
    "# Calculate the total Illinois Item/Bottle Count.\n",
    "Illinois[\"Item/Bottle Count\"].sum()"
   ]
  },
  {
   "cell_type": "code",
   "execution_count": 40,
   "id": "d487423e",
   "metadata": {},
   "outputs": [],
   "source": [
    "slice_list = [\"IN\"]\n",
    "Indiana = states_2021.iloc[states_2021.index.isin(slice_list)]\n",
    "#Indiana"
   ]
  },
  {
   "cell_type": "code",
   "execution_count": 41,
   "id": "0524172d",
   "metadata": {},
   "outputs": [
    {
     "data": {
      "text/plain": [
       "15893.0"
      ]
     },
     "execution_count": 41,
     "metadata": {},
     "output_type": "execute_result"
    }
   ],
   "source": [
    "# Calculate the total Indiana Item/Bottle Count.\n",
    "Indiana[\"Item/Bottle Count\"].sum()"
   ]
  },
  {
   "cell_type": "code",
   "execution_count": 42,
   "id": "1befd608",
   "metadata": {},
   "outputs": [],
   "source": [
    "slice_list = [\"IA\"]\n",
    "Iowa = states_2021.iloc[states_2021.index.isin(slice_list)]\n",
    "#Iowa"
   ]
  },
  {
   "cell_type": "code",
   "execution_count": 43,
   "id": "bdab2c99",
   "metadata": {},
   "outputs": [
    {
     "data": {
      "text/plain": [
       "5918.0"
      ]
     },
     "execution_count": 43,
     "metadata": {},
     "output_type": "execute_result"
    }
   ],
   "source": [
    "# Calculate the total Iowa Item/Bottle Count.\n",
    "Iowa[\"Item/Bottle Count\"].sum()"
   ]
  },
  {
   "cell_type": "code",
   "execution_count": 44,
   "id": "7332d5c2",
   "metadata": {},
   "outputs": [],
   "source": [
    "slice_list = [\"KS\"]\n",
    "Kansas = states_2021.iloc[states_2021.index.isin(slice_list)]\n",
    "#Kansas"
   ]
  },
  {
   "cell_type": "code",
   "execution_count": 45,
   "id": "e695bef0",
   "metadata": {},
   "outputs": [
    {
     "data": {
      "text/plain": [
       "7216.0"
      ]
     },
     "execution_count": 45,
     "metadata": {},
     "output_type": "execute_result"
    }
   ],
   "source": [
    "# Calculate the total Kansas Item/Bottle Count.\n",
    "Kansas[\"Item/Bottle Count\"].sum()"
   ]
  },
  {
   "cell_type": "code",
   "execution_count": 46,
   "id": "72ad54cf",
   "metadata": {},
   "outputs": [],
   "source": [
    "#Effective March 12, 2021, brand registration is not required for DTC products.  DTC shipping previously prohibited. \n",
    "slice_list = [\"KY\"]\n",
    "Kentucky = states_2021.iloc[states_2021.index.isin(slice_list)]\n",
    "#Kentucky"
   ]
  },
  {
   "cell_type": "code",
   "execution_count": 47,
   "id": "5f1f4f67",
   "metadata": {},
   "outputs": [
    {
     "data": {
      "text/plain": [
       "853.0"
      ]
     },
     "execution_count": 47,
     "metadata": {},
     "output_type": "execute_result"
    }
   ],
   "source": [
    "# Calculate the total Kentucky Item/Bottle Count.\n",
    "Kentucky[\"Item/Bottle Count\"].sum()"
   ]
  },
  {
   "cell_type": "code",
   "execution_count": 48,
   "id": "2c8ffee3",
   "metadata": {},
   "outputs": [],
   "source": [
    "slice_list = [\"LA\"]\n",
    "Louisiana = states_2021.iloc[states_2021.index.isin(slice_list)]\n",
    "#Louisiana"
   ]
  },
  {
   "cell_type": "code",
   "execution_count": 49,
   "id": "34e9c28d",
   "metadata": {},
   "outputs": [
    {
     "data": {
      "text/plain": [
       "8914.0"
      ]
     },
     "execution_count": 49,
     "metadata": {},
     "output_type": "execute_result"
    }
   ],
   "source": [
    "# Calculate the total Louisiana Item/Bottle Count.\n",
    "Louisiana[\"Item/Bottle Count\"].sum()"
   ]
  },
  {
   "cell_type": "code",
   "execution_count": 50,
   "id": "ad8fac0b",
   "metadata": {},
   "outputs": [],
   "source": [
    "slice_list = [\"ME\"]\n",
    "Maine = states_2021.iloc[states_2021.index.isin(slice_list)]\n",
    "#Maine"
   ]
  },
  {
   "cell_type": "code",
   "execution_count": 51,
   "id": "85707452",
   "metadata": {},
   "outputs": [
    {
     "data": {
      "text/plain": [
       "5630.0"
      ]
     },
     "execution_count": 51,
     "metadata": {},
     "output_type": "execute_result"
    }
   ],
   "source": [
    "# Calculate the total Maine Item/Bottle Count.\n",
    "Maine[\"Item/Bottle Count\"].sum()"
   ]
  },
  {
   "cell_type": "code",
   "execution_count": 52,
   "id": "88e0b96d",
   "metadata": {},
   "outputs": [],
   "source": [
    "slice_list = [\"MD\"]\n",
    "Maryland = states_2021.iloc[states_2021.index.isin(slice_list)]\n",
    "#Maryland"
   ]
  },
  {
   "cell_type": "code",
   "execution_count": 53,
   "id": "381650a7",
   "metadata": {},
   "outputs": [
    {
     "data": {
      "text/plain": [
       "28296.0"
      ]
     },
     "execution_count": 53,
     "metadata": {},
     "output_type": "execute_result"
    }
   ],
   "source": [
    "# Calculate the total Maryland Item/Bottle Count.\n",
    "Maryland[\"Item/Bottle Count\"].sum()"
   ]
  },
  {
   "cell_type": "code",
   "execution_count": 54,
   "id": "32e12154",
   "metadata": {},
   "outputs": [],
   "source": [
    "slice_list = [\"MA\"]\n",
    "Massachusetts = states_2021.iloc[states_2021.index.isin(slice_list)]\n",
    "#Massachusetts"
   ]
  },
  {
   "cell_type": "code",
   "execution_count": 55,
   "id": "c71c15fb",
   "metadata": {},
   "outputs": [
    {
     "data": {
      "text/plain": [
       "43842.0"
      ]
     },
     "execution_count": 55,
     "metadata": {},
     "output_type": "execute_result"
    }
   ],
   "source": [
    "# Calculate the total Massachusetts Item/Bottle Count.\n",
    "Massachusetts[\"Item/Bottle Count\"].sum()"
   ]
  },
  {
   "cell_type": "code",
   "execution_count": 56,
   "id": "48fba113",
   "metadata": {},
   "outputs": [],
   "source": [
    "slice_list = [\"MI\"]\n",
    "Michigan = states_2021.iloc[states_2021.index.isin(slice_list)]\n",
    "#Michigan"
   ]
  },
  {
   "cell_type": "code",
   "execution_count": 57,
   "id": "46cde1b5",
   "metadata": {},
   "outputs": [
    {
     "data": {
      "text/plain": [
       "32801.0"
      ]
     },
     "execution_count": 57,
     "metadata": {},
     "output_type": "execute_result"
    }
   ],
   "source": [
    "# Calculate the total Michigan Item/Bottle Count.\n",
    "Michigan[\"Item/Bottle Count\"].sum()"
   ]
  },
  {
   "cell_type": "code",
   "execution_count": 58,
   "id": "fb231a20",
   "metadata": {},
   "outputs": [],
   "source": [
    "slice_list = [\"MN\"]\n",
    "Minnesota = states_2021.iloc[states_2021.index.isin(slice_list)]\n",
    "#Minnesota"
   ]
  },
  {
   "cell_type": "code",
   "execution_count": 59,
   "id": "4b214696",
   "metadata": {},
   "outputs": [
    {
     "data": {
      "text/plain": [
       "14836.0"
      ]
     },
     "execution_count": 59,
     "metadata": {},
     "output_type": "execute_result"
    }
   ],
   "source": [
    "# Calculate the total Minnesota Item/Bottle Count.\n",
    "Minnesota[\"Item/Bottle Count\"].sum()"
   ]
  },
  {
   "cell_type": "code",
   "execution_count": 60,
   "id": "9a20f7a8",
   "metadata": {},
   "outputs": [],
   "source": [
    "#DTC shipping prohibited in Mississippi.  \n",
    "slice_list = [\"MS\"]\n",
    "Mississippi = states_2021.iloc[states_2021.index.isin(slice_list)]\n",
    "#Mississippi"
   ]
  },
  {
   "cell_type": "code",
   "execution_count": 61,
   "id": "2b1e324c",
   "metadata": {},
   "outputs": [
    {
     "data": {
      "text/plain": [
       "0.0"
      ]
     },
     "execution_count": 61,
     "metadata": {},
     "output_type": "execute_result"
    }
   ],
   "source": [
    "# Calculate the total Mississippi Item/Bottle Count.\n",
    "Mississippi[\"Item/Bottle Count\"].sum()"
   ]
  },
  {
   "cell_type": "code",
   "execution_count": 62,
   "id": "9bef5856",
   "metadata": {},
   "outputs": [],
   "source": [
    "slice_list = [\"MO\"]\n",
    "Missouri = states_2021.iloc[states_2021.index.isin(slice_list)]\n",
    "#Missouri"
   ]
  },
  {
   "cell_type": "code",
   "execution_count": 63,
   "id": "5df1975f",
   "metadata": {},
   "outputs": [
    {
     "data": {
      "text/plain": [
       "12324.0"
      ]
     },
     "execution_count": 63,
     "metadata": {},
     "output_type": "execute_result"
    }
   ],
   "source": [
    "# Calculate the total Missouri Item/Bottle Count.\n",
    "Missouri[\"Item/Bottle Count\"].sum()"
   ]
  },
  {
   "cell_type": "code",
   "execution_count": 64,
   "id": "a4328eed",
   "metadata": {},
   "outputs": [],
   "source": [
    "slice_list = [\"MT\"]\n",
    "Montana = states_2021.iloc[states_2021.index.isin(slice_list)]\n",
    "#Montana"
   ]
  },
  {
   "cell_type": "code",
   "execution_count": 65,
   "id": "aae94fd9",
   "metadata": {},
   "outputs": [
    {
     "data": {
      "text/plain": [
       "3063.0"
      ]
     },
     "execution_count": 65,
     "metadata": {},
     "output_type": "execute_result"
    }
   ],
   "source": [
    "# Calculate the total Montana Item/Bottle Count.\n",
    "Montana[\"Item/Bottle Count\"].sum()"
   ]
  },
  {
   "cell_type": "code",
   "execution_count": 66,
   "id": "f2b39ab0",
   "metadata": {},
   "outputs": [],
   "source": [
    "slice_list = [\"NE\"]\n",
    "Nebraska = states_2021.iloc[states_2021.index.isin(slice_list)]\n",
    "#Nebraska"
   ]
  },
  {
   "cell_type": "code",
   "execution_count": 67,
   "id": "e1e943f9",
   "metadata": {},
   "outputs": [
    {
     "data": {
      "text/plain": [
       "4781.0"
      ]
     },
     "execution_count": 67,
     "metadata": {},
     "output_type": "execute_result"
    }
   ],
   "source": [
    "# Calculate the total Nebraska Item/Bottle Count.\n",
    "Nebraska[\"Item/Bottle Count\"].sum()"
   ]
  },
  {
   "cell_type": "code",
   "execution_count": 68,
   "id": "100e9166",
   "metadata": {},
   "outputs": [],
   "source": [
    "slice_list = [\"NV\"]\n",
    "Nevada = states_2021.iloc[states_2021.index.isin(slice_list)]\n",
    "#Nevada"
   ]
  },
  {
   "cell_type": "code",
   "execution_count": 69,
   "id": "9c857bcf",
   "metadata": {},
   "outputs": [
    {
     "data": {
      "text/plain": [
       "6966.0"
      ]
     },
     "execution_count": 69,
     "metadata": {},
     "output_type": "execute_result"
    }
   ],
   "source": [
    "# Calculate the total Nevada Item/Bottle Count.\n",
    "Nevada[\"Item/Bottle Count\"].sum()"
   ]
  },
  {
   "cell_type": "code",
   "execution_count": 70,
   "id": "4aea4238",
   "metadata": {},
   "outputs": [],
   "source": [
    "slice_list = [\"NH\"]\n",
    "New_Hampshire = states_2021.iloc[states_2021.index.isin(slice_list)]\n",
    "#New_Hampshire"
   ]
  },
  {
   "cell_type": "code",
   "execution_count": 71,
   "id": "89efa6ce",
   "metadata": {},
   "outputs": [
    {
     "data": {
      "text/plain": [
       "6149.0"
      ]
     },
     "execution_count": 71,
     "metadata": {},
     "output_type": "execute_result"
    }
   ],
   "source": [
    "# Calculate the total New_Hampshire Item/Bottle Count.\n",
    "New_Hampshire[\"Item/Bottle Count\"].sum()"
   ]
  },
  {
   "cell_type": "code",
   "execution_count": 72,
   "id": "66c74e9c",
   "metadata": {},
   "outputs": [],
   "source": [
    "slice_list = [\"NJ\"]\n",
    "New_Jersey = states_2021.iloc[states_2021.index.isin(slice_list)]\n",
    "#New_Jersey"
   ]
  },
  {
   "cell_type": "code",
   "execution_count": 73,
   "id": "42d1beb9",
   "metadata": {},
   "outputs": [
    {
     "data": {
      "text/plain": [
       "58695.0"
      ]
     },
     "execution_count": 73,
     "metadata": {},
     "output_type": "execute_result"
    }
   ],
   "source": [
    "# Calculate the total New Jersey Item/Bottle Count.\n",
    "New_Jersey[\"Item/Bottle Count\"].sum()"
   ]
  },
  {
   "cell_type": "code",
   "execution_count": 74,
   "id": "6af4fcab",
   "metadata": {},
   "outputs": [],
   "source": [
    "slice_list = [\"NM\"]\n",
    "New_Mexico = states_2021.iloc[states_2021.index.isin(slice_list)]\n",
    "#New_Mexico"
   ]
  },
  {
   "cell_type": "code",
   "execution_count": 75,
   "id": "192570b8",
   "metadata": {},
   "outputs": [
    {
     "data": {
      "text/plain": [
       "4065.0"
      ]
     },
     "execution_count": 75,
     "metadata": {},
     "output_type": "execute_result"
    }
   ],
   "source": [
    "# Calculate the total New Mexico Item/Bottle Count.\n",
    "New_Mexico[\"Item/Bottle Count\"].sum()"
   ]
  },
  {
   "cell_type": "code",
   "execution_count": 76,
   "id": "b2078a5c",
   "metadata": {},
   "outputs": [],
   "source": [
    "slice_list = [\"NY\"]\n",
    "New_York = states_2021.iloc[states_2021.index.isin(slice_list)]\n",
    "#New_York"
   ]
  },
  {
   "cell_type": "code",
   "execution_count": 77,
   "id": "7d0e3bbb",
   "metadata": {},
   "outputs": [
    {
     "data": {
      "text/plain": [
       "108154.0"
      ]
     },
     "execution_count": 77,
     "metadata": {},
     "output_type": "execute_result"
    }
   ],
   "source": [
    "# Calculate the total New York Item/Bottle Count.\n",
    "New_York[\"Item/Bottle Count\"].sum()"
   ]
  },
  {
   "cell_type": "code",
   "execution_count": 78,
   "id": "fb7706c7",
   "metadata": {},
   "outputs": [],
   "source": [
    "slice_list = [\"NC\"]\n",
    "North_Carolina = states_2021.iloc[states_2021.index.isin(slice_list)]\n",
    "#North_Carolina"
   ]
  },
  {
   "cell_type": "code",
   "execution_count": 79,
   "id": "30e40de8",
   "metadata": {},
   "outputs": [
    {
     "data": {
      "text/plain": [
       "29491.0"
      ]
     },
     "execution_count": 79,
     "metadata": {},
     "output_type": "execute_result"
    }
   ],
   "source": [
    "# Calculate the total North Carolina Item/Bottle Count.\n",
    "North_Carolina[\"Item/Bottle Count\"].sum()"
   ]
  },
  {
   "cell_type": "code",
   "execution_count": 80,
   "id": "5172eead",
   "metadata": {},
   "outputs": [],
   "source": [
    "slice_list = [\"ND\"]\n",
    "North_Dakota = states_2021.iloc[states_2021.index.isin(slice_list)]\n",
    "#North_Dakota"
   ]
  },
  {
   "cell_type": "code",
   "execution_count": 81,
   "id": "cc38a006",
   "metadata": {},
   "outputs": [
    {
     "data": {
      "text/plain": [
       "1793.0"
      ]
     },
     "execution_count": 81,
     "metadata": {},
     "output_type": "execute_result"
    }
   ],
   "source": [
    "# Calculate the total North Dakota Item/Bottle Count.\n",
    "North_Dakota[\"Item/Bottle Count\"].sum()"
   ]
  },
  {
   "cell_type": "code",
   "execution_count": 82,
   "id": "f0deb3be",
   "metadata": {},
   "outputs": [],
   "source": [
    "slice_list = [\"OH\"]\n",
    "Ohio = states_2021.iloc[states_2021.index.isin(slice_list)]\n",
    "#Ohio"
   ]
  },
  {
   "cell_type": "code",
   "execution_count": 83,
   "id": "7bd4c591",
   "metadata": {},
   "outputs": [
    {
     "data": {
      "text/plain": [
       "33250.0"
      ]
     },
     "execution_count": 83,
     "metadata": {},
     "output_type": "execute_result"
    }
   ],
   "source": [
    "# Calculate the total Ohio Item/Bottle Count.\n",
    "Ohio[\"Item/Bottle Count\"].sum()"
   ]
  },
  {
   "cell_type": "code",
   "execution_count": 84,
   "id": "e2195732",
   "metadata": {},
   "outputs": [],
   "source": [
    "slice_list = [\"OK\"]\n",
    "Oklahoma = states_2021.iloc[states_2021.index.isin(slice_list)]\n",
    "#Oklahoma"
   ]
  },
  {
   "cell_type": "code",
   "execution_count": 85,
   "id": "e8aee12d",
   "metadata": {},
   "outputs": [
    {
     "data": {
      "text/plain": [
       "4705.0"
      ]
     },
     "execution_count": 85,
     "metadata": {},
     "output_type": "execute_result"
    }
   ],
   "source": [
    "# Calculate the total Oklahoma Item/Bottle Count.\n",
    "Oklahoma[\"Item/Bottle Count\"].sum()"
   ]
  },
  {
   "cell_type": "code",
   "execution_count": 86,
   "id": "7f88e070",
   "metadata": {},
   "outputs": [],
   "source": [
    "slice_list = [\"OR\"]\n",
    "Oregon = states_2021.iloc[states_2021.index.isin(slice_list)]\n",
    "#Oregon"
   ]
  },
  {
   "cell_type": "code",
   "execution_count": 87,
   "id": "301c0ba5",
   "metadata": {},
   "outputs": [
    {
     "data": {
      "text/plain": [
       "12011.0"
      ]
     },
     "execution_count": 87,
     "metadata": {},
     "output_type": "execute_result"
    }
   ],
   "source": [
    "# Calculate the total Oregon Item/Bottle Count.\n",
    "Oregon[\"Item/Bottle Count\"].sum()"
   ]
  },
  {
   "cell_type": "code",
   "execution_count": 88,
   "id": "85ccc8a8",
   "metadata": {},
   "outputs": [],
   "source": [
    "slice_list = [\"PA\"]\n",
    "Pennsylvania = states_2021.iloc[states_2021.index.isin(slice_list)]\n",
    "#Pennsylvania"
   ]
  },
  {
   "cell_type": "code",
   "execution_count": 89,
   "id": "ab2abfe5",
   "metadata": {},
   "outputs": [
    {
     "data": {
      "text/plain": [
       "69833.0"
      ]
     },
     "execution_count": 89,
     "metadata": {},
     "output_type": "execute_result"
    }
   ],
   "source": [
    "# Calculate the total Pennsylvania Item/Bottle Count.\n",
    "Pennsylvania[\"Item/Bottle Count\"].sum()"
   ]
  },
  {
   "cell_type": "code",
   "execution_count": 90,
   "id": "0962fe9d",
   "metadata": {},
   "outputs": [],
   "source": [
    "slice_list = [\"RI\"]\n",
    "Rhode_Island = states_2021.iloc[states_2021.index.isin(slice_list)]\n",
    "#Rhode_Island"
   ]
  },
  {
   "cell_type": "code",
   "execution_count": 91,
   "id": "9fdb9396",
   "metadata": {},
   "outputs": [
    {
     "data": {
      "text/plain": [
       "7125.0"
      ]
     },
     "execution_count": 91,
     "metadata": {},
     "output_type": "execute_result"
    }
   ],
   "source": [
    "# Calculate the total Rhode Island Item/Bottle Count.\n",
    "Rhode_Island[\"Item/Bottle Count\"].sum()"
   ]
  },
  {
   "cell_type": "code",
   "execution_count": 92,
   "id": "3a4b5479",
   "metadata": {},
   "outputs": [],
   "source": [
    "slice_list = [\"SC\"]\n",
    "South_Carolina = states_2021.iloc[states_2021.index.isin(slice_list)]\n",
    "#South_Carolina"
   ]
  },
  {
   "cell_type": "code",
   "execution_count": 93,
   "id": "ec0980b5",
   "metadata": {},
   "outputs": [
    {
     "data": {
      "text/plain": [
       "15546.0"
      ]
     },
     "execution_count": 93,
     "metadata": {},
     "output_type": "execute_result"
    }
   ],
   "source": [
    "# Calculate the total Oregon Item/Bottle Count.\n",
    "South_Carolina[\"Item/Bottle Count\"].sum()"
   ]
  },
  {
   "cell_type": "code",
   "execution_count": 94,
   "id": "76a645da",
   "metadata": {},
   "outputs": [],
   "source": [
    "slice_list = [\"SD\"]\n",
    "South_Dakota = states_2021.iloc[states_2021.index.isin(slice_list)]\n",
    "#South_Dakota"
   ]
  },
  {
   "cell_type": "code",
   "execution_count": 95,
   "id": "b1f7d014",
   "metadata": {},
   "outputs": [
    {
     "data": {
      "text/plain": [
       "1899.0"
      ]
     },
     "execution_count": 95,
     "metadata": {},
     "output_type": "execute_result"
    }
   ],
   "source": [
    "# Calculate the total South_Dakota Item/Bottle Count.\n",
    "South_Dakota[\"Item/Bottle Count\"].sum()"
   ]
  },
  {
   "cell_type": "code",
   "execution_count": 96,
   "id": "a5519729",
   "metadata": {},
   "outputs": [],
   "source": [
    "slice_list = [\"TN\"]\n",
    "Tennessee = states_2021.iloc[states_2021.index.isin(slice_list)]\n",
    "#Tennessee"
   ]
  },
  {
   "cell_type": "code",
   "execution_count": 97,
   "id": "d48d6e6c",
   "metadata": {},
   "outputs": [
    {
     "data": {
      "text/plain": [
       "19222.0"
      ]
     },
     "execution_count": 97,
     "metadata": {},
     "output_type": "execute_result"
    }
   ],
   "source": [
    "# Calculate the total Tennessee Item/Bottle Count.\n",
    "Tennessee[\"Item/Bottle Count\"].sum()"
   ]
  },
  {
   "cell_type": "code",
   "execution_count": 98,
   "id": "5005f44d",
   "metadata": {},
   "outputs": [],
   "source": [
    "slice_list = [\"TX\"]\n",
    "Texas = states_2021.iloc[states_2021.index.isin(slice_list)]\n",
    "#Texas"
   ]
  },
  {
   "cell_type": "code",
   "execution_count": 99,
   "id": "354213ec",
   "metadata": {},
   "outputs": [
    {
     "data": {
      "text/plain": [
       "61779.0"
      ]
     },
     "execution_count": 99,
     "metadata": {},
     "output_type": "execute_result"
    }
   ],
   "source": [
    "# Calculate the total Texas Item/Bottle Count.\n",
    "Texas[\"Item/Bottle Count\"].sum()"
   ]
  },
  {
   "cell_type": "code",
   "execution_count": 100,
   "id": "b03db9f4",
   "metadata": {},
   "outputs": [],
   "source": [
    "#No orders from Utah. DTC shipping prohibited.\n",
    "slice_list = [\"UT\"]\n",
    "Utah = states_2021.iloc[states_2021.index.isin(slice_list)]\n",
    "#Utah"
   ]
  },
  {
   "cell_type": "code",
   "execution_count": 101,
   "id": "1e695744",
   "metadata": {},
   "outputs": [
    {
     "data": {
      "text/plain": [
       "0.0"
      ]
     },
     "execution_count": 101,
     "metadata": {},
     "output_type": "execute_result"
    }
   ],
   "source": [
    "# Calculate the total Utah Item/Bottle Count.\n",
    "Utah[\"Item/Bottle Count\"].sum()"
   ]
  },
  {
   "cell_type": "code",
   "execution_count": 102,
   "id": "f45b39a1",
   "metadata": {},
   "outputs": [],
   "source": [
    "slice_list = [\"VT\"]\n",
    "Vermont = states_2021.iloc[states_2021.index.isin(slice_list)]\n",
    "#Vermont"
   ]
  },
  {
   "cell_type": "code",
   "execution_count": 103,
   "id": "1d840441",
   "metadata": {},
   "outputs": [
    {
     "data": {
      "text/plain": [
       "3339.0"
      ]
     },
     "execution_count": 103,
     "metadata": {},
     "output_type": "execute_result"
    }
   ],
   "source": [
    "# Calculate the total Vermont Item/Bottle Count.\n",
    "Vermont[\"Item/Bottle Count\"].sum()"
   ]
  },
  {
   "cell_type": "code",
   "execution_count": 104,
   "id": "7c4d6473",
   "metadata": {},
   "outputs": [],
   "source": [
    "slice_list = [\"VA\"]\n",
    "Virginia = states_2021.iloc[states_2021.index.isin(slice_list)]\n",
    "#Virginia"
   ]
  },
  {
   "cell_type": "code",
   "execution_count": 105,
   "id": "cd24c9ee",
   "metadata": {},
   "outputs": [
    {
     "data": {
      "text/plain": [
       "36481.0"
      ]
     },
     "execution_count": 105,
     "metadata": {},
     "output_type": "execute_result"
    }
   ],
   "source": [
    "# Calculate the total Virginia Item/Bottle Count.\n",
    "Virginia[\"Item/Bottle Count\"].sum()"
   ]
  },
  {
   "cell_type": "code",
   "execution_count": 106,
   "id": "89abc71e",
   "metadata": {},
   "outputs": [],
   "source": [
    "slice_list = [\"WA\"]\n",
    "Washington = states_2021.iloc[states_2021.index.isin(slice_list)]\n",
    "#Washington"
   ]
  },
  {
   "cell_type": "code",
   "execution_count": 107,
   "id": "16318be9",
   "metadata": {},
   "outputs": [
    {
     "data": {
      "text/plain": [
       "19606.0"
      ]
     },
     "execution_count": 107,
     "metadata": {},
     "output_type": "execute_result"
    }
   ],
   "source": [
    "# Calculate the total Washington Item/Bottle Count.\n",
    "Washington[\"Item/Bottle Count\"].sum()"
   ]
  },
  {
   "cell_type": "code",
   "execution_count": 108,
   "id": "1a13d169",
   "metadata": {},
   "outputs": [],
   "source": [
    "slice_list = [\"WV\"]\n",
    "West_Virginia = states_2021.iloc[states_2021.index.isin(slice_list)]\n",
    "#West_Virginia"
   ]
  },
  {
   "cell_type": "code",
   "execution_count": 109,
   "id": "7bac9c7c",
   "metadata": {},
   "outputs": [
    {
     "data": {
      "text/plain": [
       "2965.0"
      ]
     },
     "execution_count": 109,
     "metadata": {},
     "output_type": "execute_result"
    }
   ],
   "source": [
    "# Calculate the total West Virginia Item/Bottle Count.\n",
    "West_Virginia[\"Item/Bottle Count\"].sum()"
   ]
  },
  {
   "cell_type": "code",
   "execution_count": 110,
   "id": "57a6d385",
   "metadata": {},
   "outputs": [],
   "source": [
    "slice_list = [\"WI\"]\n",
    "Wisconsin = states_2021.iloc[states_2021.index.isin(slice_list)]\n",
    "#Wisconsin"
   ]
  },
  {
   "cell_type": "code",
   "execution_count": 111,
   "id": "a20b77c2",
   "metadata": {},
   "outputs": [
    {
     "data": {
      "text/plain": [
       "12753.0"
      ]
     },
     "execution_count": 111,
     "metadata": {},
     "output_type": "execute_result"
    }
   ],
   "source": [
    "# Calculate the total Wisconsin Item/Bottle Count.\n",
    "Wisconsin[\"Item/Bottle Count\"].sum()"
   ]
  },
  {
   "cell_type": "code",
   "execution_count": 112,
   "id": "806f3be5",
   "metadata": {},
   "outputs": [],
   "source": [
    "slice_list = [\"WY\"]\n",
    "Wyoming = states_2021.iloc[states_2021.index.isin(slice_list)]\n",
    "#Wyoming"
   ]
  },
  {
   "cell_type": "code",
   "execution_count": 113,
   "id": "6eb9c5bf",
   "metadata": {},
   "outputs": [
    {
     "data": {
      "text/plain": [
       "2006.0"
      ]
     },
     "execution_count": 113,
     "metadata": {},
     "output_type": "execute_result"
    }
   ],
   "source": [
    "# Calculate the total Wyoming Item/Bottle Count.\n",
    "Wyoming[\"Item/Bottle Count\"].sum()"
   ]
  },
  {
   "cell_type": "markdown",
   "id": "e309a4d0",
   "metadata": {},
   "source": [
    "## Red vs Blue"
   ]
  },
  {
   "cell_type": "code",
   "execution_count": 115,
   "id": "48a58d95",
   "metadata": {},
   "outputs": [],
   "source": [
    "#How do wine shipments compare between red states and blue states?\n",
    "    #Create a dataframe with data from \"Red\" states\n",
    "    #Create a dataframe with data from \"Blue\" states \n",
    "    #Generate summary statistics for each data frame\n",
    "    #Clean summary statistics- format numbers, drop count row\n",
    "    #Convert each summary stat list to a data frame\n",
    "    #Merge the two summary statistic data frames to create a visual side-by-side comparison"
   ]
  },
  {
   "cell_type": "code",
   "execution_count": 116,
   "id": "33b59e30",
   "metadata": {},
   "outputs": [
    {
     "data": {
      "text/html": [
       "<div>\n",
       "<style scoped>\n",
       "    .dataframe tbody tr th:only-of-type {\n",
       "        vertical-align: middle;\n",
       "    }\n",
       "\n",
       "    .dataframe tbody tr th {\n",
       "        vertical-align: top;\n",
       "    }\n",
       "\n",
       "    .dataframe thead th {\n",
       "        text-align: right;\n",
       "    }\n",
       "</style>\n",
       "<table border=\"1\" class=\"dataframe\">\n",
       "  <thead>\n",
       "    <tr style=\"text-align: right;\">\n",
       "      <th></th>\n",
       "      <th>Order Number</th>\n",
       "      <th>Company Name</th>\n",
       "      <th>Ship Date</th>\n",
       "      <th>City</th>\n",
       "      <th>Zip</th>\n",
       "      <th>Shipping Service</th>\n",
       "      <th>Created Date</th>\n",
       "      <th>Weight</th>\n",
       "      <th>Item/Bottle Count</th>\n",
       "      <th>Population</th>\n",
       "      <th>Lockdown Start</th>\n",
       "      <th>Initial Expected Lockdown End</th>\n",
       "      <th>Phase 1 Re-Opening Start</th>\n",
       "      <th>Political Alignment</th>\n",
       "    </tr>\n",
       "    <tr>\n",
       "      <th>State</th>\n",
       "      <th></th>\n",
       "      <th></th>\n",
       "      <th></th>\n",
       "      <th></th>\n",
       "      <th></th>\n",
       "      <th></th>\n",
       "      <th></th>\n",
       "      <th></th>\n",
       "      <th></th>\n",
       "      <th></th>\n",
       "      <th></th>\n",
       "      <th></th>\n",
       "      <th></th>\n",
       "      <th></th>\n",
       "    </tr>\n",
       "  </thead>\n",
       "  <tbody>\n",
       "    <tr>\n",
       "      <th>NC</th>\n",
       "      <td>8</td>\n",
       "      <td>Ecom1</td>\n",
       "      <td>1/5/2021</td>\n",
       "      <td>Winston-Salem</td>\n",
       "      <td>27104</td>\n",
       "      <td>FEH</td>\n",
       "      <td>12/28/2020</td>\n",
       "      <td>6.5</td>\n",
       "      <td>1.0</td>\n",
       "      <td>10,488,084</td>\n",
       "      <td>3/30/2020</td>\n",
       "      <td>4/29/2020</td>\n",
       "      <td>5/20/2020</td>\n",
       "      <td>Red</td>\n",
       "    </tr>\n",
       "    <tr>\n",
       "      <th>TX</th>\n",
       "      <td>29</td>\n",
       "      <td>Ecom1</td>\n",
       "      <td>1/4/2021</td>\n",
       "      <td>Cypress</td>\n",
       "      <td>77433</td>\n",
       "      <td>FEH</td>\n",
       "      <td>12/30/2020</td>\n",
       "      <td>20.2</td>\n",
       "      <td>6.0</td>\n",
       "      <td>28,995,881</td>\n",
       "      <td>3/31/2020</td>\n",
       "      <td>5/4/2020</td>\n",
       "      <td>5/1/2020</td>\n",
       "      <td>Red</td>\n",
       "    </tr>\n",
       "    <tr>\n",
       "      <th>TX</th>\n",
       "      <td>30</td>\n",
       "      <td>Ecom1</td>\n",
       "      <td>1/4/2021</td>\n",
       "      <td>GRANITE SHOALS</td>\n",
       "      <td>78654</td>\n",
       "      <td>FEH</td>\n",
       "      <td>12/30/2020</td>\n",
       "      <td>39.0</td>\n",
       "      <td>12.0</td>\n",
       "      <td>28,995,881</td>\n",
       "      <td>3/31/2020</td>\n",
       "      <td>5/4/2020</td>\n",
       "      <td>5/1/2020</td>\n",
       "      <td>Red</td>\n",
       "    </tr>\n",
       "    <tr>\n",
       "      <th>FL</th>\n",
       "      <td>33</td>\n",
       "      <td>Ecom1</td>\n",
       "      <td>1/4/2021</td>\n",
       "      <td>Kissimmee</td>\n",
       "      <td>34746</td>\n",
       "      <td>FEH</td>\n",
       "      <td>12/30/2020</td>\n",
       "      <td>39.0</td>\n",
       "      <td>12.0</td>\n",
       "      <td>21,477,737</td>\n",
       "      <td>4/1/2020</td>\n",
       "      <td>5/1/2020</td>\n",
       "      <td>9/25/2020</td>\n",
       "      <td>Red</td>\n",
       "    </tr>\n",
       "    <tr>\n",
       "      <th>TX</th>\n",
       "      <td>34</td>\n",
       "      <td>Ecom1</td>\n",
       "      <td>1/4/2021</td>\n",
       "      <td>Austin</td>\n",
       "      <td>78758</td>\n",
       "      <td>FEH</td>\n",
       "      <td>12/30/2020</td>\n",
       "      <td>10.5</td>\n",
       "      <td>3.0</td>\n",
       "      <td>28,995,881</td>\n",
       "      <td>3/31/2020</td>\n",
       "      <td>5/4/2020</td>\n",
       "      <td>5/1/2020</td>\n",
       "      <td>Red</td>\n",
       "    </tr>\n",
       "  </tbody>\n",
       "</table>\n",
       "</div>"
      ],
      "text/plain": [
       "       Order Number Company Name Ship Date            City    Zip  \\\n",
       "State                                                               \n",
       "NC                8        Ecom1  1/5/2021   Winston-Salem  27104   \n",
       "TX               29        Ecom1  1/4/2021         Cypress  77433   \n",
       "TX               30        Ecom1  1/4/2021  GRANITE SHOALS  78654   \n",
       "FL               33        Ecom1  1/4/2021       Kissimmee  34746   \n",
       "TX               34        Ecom1  1/4/2021          Austin  78758   \n",
       "\n",
       "      Shipping Service Created Date  Weight  Item/Bottle Count  Population  \\\n",
       "State                                                                        \n",
       "NC                 FEH   12/28/2020     6.5                1.0  10,488,084   \n",
       "TX                 FEH   12/30/2020    20.2                6.0  28,995,881   \n",
       "TX                 FEH   12/30/2020    39.0               12.0  28,995,881   \n",
       "FL                 FEH   12/30/2020    39.0               12.0  21,477,737   \n",
       "TX                 FEH   12/30/2020    10.5                3.0  28,995,881   \n",
       "\n",
       "      Lockdown Start Initial Expected Lockdown End Phase 1 Re-Opening Start  \\\n",
       "State                                                                         \n",
       "NC         3/30/2020                     4/29/2020                5/20/2020   \n",
       "TX         3/31/2020                      5/4/2020                 5/1/2020   \n",
       "TX         3/31/2020                      5/4/2020                 5/1/2020   \n",
       "FL          4/1/2020                      5/1/2020                9/25/2020   \n",
       "TX         3/31/2020                      5/4/2020                 5/1/2020   \n",
       "\n",
       "      Political Alignment  \n",
       "State                      \n",
       "NC                    Red  \n",
       "TX                    Red  \n",
       "TX                    Red  \n",
       "FL                    Red  \n",
       "TX                    Red  "
      ]
     },
     "execution_count": 116,
     "metadata": {},
     "output_type": "execute_result"
    }
   ],
   "source": [
    "#Create a df with only orders created in red states.\n",
    "red_states_2021= states_2021[states_2021['Political Alignment'] == 'Red']\n",
    "red_states_2021.head()"
   ]
  },
  {
   "cell_type": "code",
   "execution_count": 117,
   "id": "bfd88006",
   "metadata": {},
   "outputs": [
    {
     "data": {
      "text/plain": [
       "array(['Red'], dtype=object)"
      ]
     },
     "execution_count": 117,
     "metadata": {},
     "output_type": "execute_result"
    }
   ],
   "source": [
    "#Check that red_states_2021 is all \"Red\"\n",
    "red_states_2021[\"Political Alignment\"].unique()"
   ]
  },
  {
   "cell_type": "code",
   "execution_count": 118,
   "id": "0feae692",
   "metadata": {},
   "outputs": [
    {
     "data": {
      "text/html": [
       "<div>\n",
       "<style scoped>\n",
       "    .dataframe tbody tr th:only-of-type {\n",
       "        vertical-align: middle;\n",
       "    }\n",
       "\n",
       "    .dataframe tbody tr th {\n",
       "        vertical-align: top;\n",
       "    }\n",
       "\n",
       "    .dataframe thead th {\n",
       "        text-align: right;\n",
       "    }\n",
       "</style>\n",
       "<table border=\"1\" class=\"dataframe\">\n",
       "  <thead>\n",
       "    <tr style=\"text-align: right;\">\n",
       "      <th></th>\n",
       "      <th>State</th>\n",
       "      <th>Order Number</th>\n",
       "      <th>Company Name</th>\n",
       "      <th>Ship Date</th>\n",
       "      <th>City</th>\n",
       "      <th>Zip</th>\n",
       "      <th>Shipping Service</th>\n",
       "      <th>Created Date</th>\n",
       "      <th>Weight</th>\n",
       "      <th>Item/Bottle Count</th>\n",
       "      <th>Population</th>\n",
       "      <th>Lockdown Start</th>\n",
       "      <th>Initial Expected Lockdown End</th>\n",
       "      <th>Phase 1 Re-Opening Start</th>\n",
       "      <th>Political Alignment</th>\n",
       "    </tr>\n",
       "  </thead>\n",
       "  <tbody>\n",
       "    <tr>\n",
       "      <th>0</th>\n",
       "      <td>NC</td>\n",
       "      <td>8</td>\n",
       "      <td>Ecom1</td>\n",
       "      <td>1/5/2021</td>\n",
       "      <td>Winston-Salem</td>\n",
       "      <td>27104</td>\n",
       "      <td>FEH</td>\n",
       "      <td>12/28/2020</td>\n",
       "      <td>6.5</td>\n",
       "      <td>1.0</td>\n",
       "      <td>10,488,084</td>\n",
       "      <td>3/30/2020</td>\n",
       "      <td>4/29/2020</td>\n",
       "      <td>5/20/2020</td>\n",
       "      <td>Red</td>\n",
       "    </tr>\n",
       "    <tr>\n",
       "      <th>1</th>\n",
       "      <td>TX</td>\n",
       "      <td>29</td>\n",
       "      <td>Ecom1</td>\n",
       "      <td>1/4/2021</td>\n",
       "      <td>Cypress</td>\n",
       "      <td>77433</td>\n",
       "      <td>FEH</td>\n",
       "      <td>12/30/2020</td>\n",
       "      <td>20.2</td>\n",
       "      <td>6.0</td>\n",
       "      <td>28,995,881</td>\n",
       "      <td>3/31/2020</td>\n",
       "      <td>5/4/2020</td>\n",
       "      <td>5/1/2020</td>\n",
       "      <td>Red</td>\n",
       "    </tr>\n",
       "    <tr>\n",
       "      <th>2</th>\n",
       "      <td>TX</td>\n",
       "      <td>30</td>\n",
       "      <td>Ecom1</td>\n",
       "      <td>1/4/2021</td>\n",
       "      <td>GRANITE SHOALS</td>\n",
       "      <td>78654</td>\n",
       "      <td>FEH</td>\n",
       "      <td>12/30/2020</td>\n",
       "      <td>39.0</td>\n",
       "      <td>12.0</td>\n",
       "      <td>28,995,881</td>\n",
       "      <td>3/31/2020</td>\n",
       "      <td>5/4/2020</td>\n",
       "      <td>5/1/2020</td>\n",
       "      <td>Red</td>\n",
       "    </tr>\n",
       "    <tr>\n",
       "      <th>3</th>\n",
       "      <td>FL</td>\n",
       "      <td>33</td>\n",
       "      <td>Ecom1</td>\n",
       "      <td>1/4/2021</td>\n",
       "      <td>Kissimmee</td>\n",
       "      <td>34746</td>\n",
       "      <td>FEH</td>\n",
       "      <td>12/30/2020</td>\n",
       "      <td>39.0</td>\n",
       "      <td>12.0</td>\n",
       "      <td>21,477,737</td>\n",
       "      <td>4/1/2020</td>\n",
       "      <td>5/1/2020</td>\n",
       "      <td>9/25/2020</td>\n",
       "      <td>Red</td>\n",
       "    </tr>\n",
       "    <tr>\n",
       "      <th>4</th>\n",
       "      <td>TX</td>\n",
       "      <td>34</td>\n",
       "      <td>Ecom1</td>\n",
       "      <td>1/4/2021</td>\n",
       "      <td>Austin</td>\n",
       "      <td>78758</td>\n",
       "      <td>FEH</td>\n",
       "      <td>12/30/2020</td>\n",
       "      <td>10.5</td>\n",
       "      <td>3.0</td>\n",
       "      <td>28,995,881</td>\n",
       "      <td>3/31/2020</td>\n",
       "      <td>5/4/2020</td>\n",
       "      <td>5/1/2020</td>\n",
       "      <td>Red</td>\n",
       "    </tr>\n",
       "    <tr>\n",
       "      <th>...</th>\n",
       "      <td>...</td>\n",
       "      <td>...</td>\n",
       "      <td>...</td>\n",
       "      <td>...</td>\n",
       "      <td>...</td>\n",
       "      <td>...</td>\n",
       "      <td>...</td>\n",
       "      <td>...</td>\n",
       "      <td>...</td>\n",
       "      <td>...</td>\n",
       "      <td>...</td>\n",
       "      <td>...</td>\n",
       "      <td>...</td>\n",
       "      <td>...</td>\n",
       "      <td>...</td>\n",
       "    </tr>\n",
       "    <tr>\n",
       "      <th>73472</th>\n",
       "      <td>TX</td>\n",
       "      <td>242625</td>\n",
       "      <td>Ecom3</td>\n",
       "      <td>12/30/2021</td>\n",
       "      <td>Houston</td>\n",
       "      <td>77080</td>\n",
       "      <td>UPS</td>\n",
       "      <td>12/30/2021</td>\n",
       "      <td>21.5</td>\n",
       "      <td>6.0</td>\n",
       "      <td>28,995,881</td>\n",
       "      <td>3/31/2020</td>\n",
       "      <td>5/4/2020</td>\n",
       "      <td>5/1/2020</td>\n",
       "      <td>Red</td>\n",
       "    </tr>\n",
       "    <tr>\n",
       "      <th>73473</th>\n",
       "      <td>TX</td>\n",
       "      <td>242629</td>\n",
       "      <td>Ecom3</td>\n",
       "      <td>12/30/2021</td>\n",
       "      <td>Waco</td>\n",
       "      <td>76705</td>\n",
       "      <td>UPS</td>\n",
       "      <td>12/30/2021</td>\n",
       "      <td>29.0</td>\n",
       "      <td>8.0</td>\n",
       "      <td>28,995,881</td>\n",
       "      <td>3/31/2020</td>\n",
       "      <td>5/4/2020</td>\n",
       "      <td>5/1/2020</td>\n",
       "      <td>Red</td>\n",
       "    </tr>\n",
       "    <tr>\n",
       "      <th>73474</th>\n",
       "      <td>TX</td>\n",
       "      <td>242637</td>\n",
       "      <td>Ecom3</td>\n",
       "      <td>12/30/2021</td>\n",
       "      <td>Dallas</td>\n",
       "      <td>75208</td>\n",
       "      <td>UPS</td>\n",
       "      <td>12/30/2021</td>\n",
       "      <td>21.5</td>\n",
       "      <td>6.0</td>\n",
       "      <td>28,995,881</td>\n",
       "      <td>3/31/2020</td>\n",
       "      <td>5/4/2020</td>\n",
       "      <td>5/1/2020</td>\n",
       "      <td>Red</td>\n",
       "    </tr>\n",
       "    <tr>\n",
       "      <th>73475</th>\n",
       "      <td>AK</td>\n",
       "      <td>242644</td>\n",
       "      <td>Ecom3</td>\n",
       "      <td>12/30/2021</td>\n",
       "      <td>Anchorage</td>\n",
       "      <td>99503</td>\n",
       "      <td>UPS</td>\n",
       "      <td>12/30/2021</td>\n",
       "      <td>21.5</td>\n",
       "      <td>6.0</td>\n",
       "      <td>731,545</td>\n",
       "      <td>3/23/2020</td>\n",
       "      <td>3/30/2020</td>\n",
       "      <td>4/24/2020</td>\n",
       "      <td>Red</td>\n",
       "    </tr>\n",
       "    <tr>\n",
       "      <th>73476</th>\n",
       "      <td>FL</td>\n",
       "      <td>242650</td>\n",
       "      <td>Ecom2</td>\n",
       "      <td>12/30/2021</td>\n",
       "      <td>Delray Beach</td>\n",
       "      <td>33446</td>\n",
       "      <td>FEH</td>\n",
       "      <td>12/30/2021</td>\n",
       "      <td>7.0</td>\n",
       "      <td>2.0</td>\n",
       "      <td>21,477,737</td>\n",
       "      <td>4/1/2020</td>\n",
       "      <td>5/1/2020</td>\n",
       "      <td>9/25/2020</td>\n",
       "      <td>Red</td>\n",
       "    </tr>\n",
       "  </tbody>\n",
       "</table>\n",
       "<p>73477 rows × 15 columns</p>\n",
       "</div>"
      ],
      "text/plain": [
       "      State  Order Number Company Name   Ship Date            City    Zip  \\\n",
       "0        NC             8        Ecom1    1/5/2021   Winston-Salem  27104   \n",
       "1        TX            29        Ecom1    1/4/2021         Cypress  77433   \n",
       "2        TX            30        Ecom1    1/4/2021  GRANITE SHOALS  78654   \n",
       "3        FL            33        Ecom1    1/4/2021       Kissimmee  34746   \n",
       "4        TX            34        Ecom1    1/4/2021          Austin  78758   \n",
       "...     ...           ...          ...         ...             ...    ...   \n",
       "73472    TX        242625        Ecom3  12/30/2021         Houston  77080   \n",
       "73473    TX        242629        Ecom3  12/30/2021            Waco  76705   \n",
       "73474    TX        242637        Ecom3  12/30/2021          Dallas  75208   \n",
       "73475    AK        242644        Ecom3  12/30/2021       Anchorage  99503   \n",
       "73476    FL        242650        Ecom2  12/30/2021    Delray Beach  33446   \n",
       "\n",
       "      Shipping Service Created Date  Weight  Item/Bottle Count  Population  \\\n",
       "0                  FEH   12/28/2020     6.5                1.0  10,488,084   \n",
       "1                  FEH   12/30/2020    20.2                6.0  28,995,881   \n",
       "2                  FEH   12/30/2020    39.0               12.0  28,995,881   \n",
       "3                  FEH   12/30/2020    39.0               12.0  21,477,737   \n",
       "4                  FEH   12/30/2020    10.5                3.0  28,995,881   \n",
       "...                ...          ...     ...                ...         ...   \n",
       "73472              UPS   12/30/2021    21.5                6.0  28,995,881   \n",
       "73473              UPS   12/30/2021    29.0                8.0  28,995,881   \n",
       "73474              UPS   12/30/2021    21.5                6.0  28,995,881   \n",
       "73475              UPS   12/30/2021    21.5                6.0     731,545   \n",
       "73476              FEH   12/30/2021     7.0                2.0  21,477,737   \n",
       "\n",
       "      Lockdown Start Initial Expected Lockdown End Phase 1 Re-Opening Start  \\\n",
       "0          3/30/2020                     4/29/2020                5/20/2020   \n",
       "1          3/31/2020                      5/4/2020                 5/1/2020   \n",
       "2          3/31/2020                      5/4/2020                 5/1/2020   \n",
       "3           4/1/2020                      5/1/2020                9/25/2020   \n",
       "4          3/31/2020                      5/4/2020                 5/1/2020   \n",
       "...              ...                           ...                      ...   \n",
       "73472      3/31/2020                      5/4/2020                 5/1/2020   \n",
       "73473      3/31/2020                      5/4/2020                 5/1/2020   \n",
       "73474      3/31/2020                      5/4/2020                 5/1/2020   \n",
       "73475      3/23/2020                     3/30/2020                4/24/2020   \n",
       "73476       4/1/2020                      5/1/2020                9/25/2020   \n",
       "\n",
       "      Political Alignment  \n",
       "0                     Red  \n",
       "1                     Red  \n",
       "2                     Red  \n",
       "3                     Red  \n",
       "4                     Red  \n",
       "...                   ...  \n",
       "73472                 Red  \n",
       "73473                 Red  \n",
       "73474                 Red  \n",
       "73475                 Red  \n",
       "73476                 Red  \n",
       "\n",
       "[73477 rows x 15 columns]"
      ]
     },
     "execution_count": 118,
     "metadata": {},
     "output_type": "execute_result"
    }
   ],
   "source": [
    "#Rest index to figure out which states are red with unique() below.\n",
    "new_red_states_2021 = red_states_2021.reset_index()\n",
    "new_red_states_2021"
   ]
  },
  {
   "cell_type": "code",
   "execution_count": 119,
   "id": "9590653d",
   "metadata": {},
   "outputs": [
    {
     "data": {
      "text/html": [
       "<div>\n",
       "<style scoped>\n",
       "    .dataframe tbody tr th:only-of-type {\n",
       "        vertical-align: middle;\n",
       "    }\n",
       "\n",
       "    .dataframe tbody tr th {\n",
       "        vertical-align: top;\n",
       "    }\n",
       "\n",
       "    .dataframe thead th {\n",
       "        text-align: right;\n",
       "    }\n",
       "</style>\n",
       "<table border=\"1\" class=\"dataframe\">\n",
       "  <thead>\n",
       "    <tr style=\"text-align: right;\">\n",
       "      <th></th>\n",
       "      <th>Order Number</th>\n",
       "      <th>Weight</th>\n",
       "      <th>Item/Bottle Count</th>\n",
       "    </tr>\n",
       "  </thead>\n",
       "  <tbody>\n",
       "    <tr>\n",
       "      <th>count</th>\n",
       "      <td>73477.000000</td>\n",
       "      <td>73477.000000</td>\n",
       "      <td>73477.000000</td>\n",
       "    </tr>\n",
       "    <tr>\n",
       "      <th>mean</th>\n",
       "      <td>122754.250514</td>\n",
       "      <td>15.231928</td>\n",
       "      <td>4.392953</td>\n",
       "    </tr>\n",
       "    <tr>\n",
       "      <th>std</th>\n",
       "      <td>70853.213814</td>\n",
       "      <td>10.915854</td>\n",
       "      <td>3.296987</td>\n",
       "    </tr>\n",
       "    <tr>\n",
       "      <th>min</th>\n",
       "      <td>8.000000</td>\n",
       "      <td>1.000000</td>\n",
       "      <td>1.000000</td>\n",
       "    </tr>\n",
       "    <tr>\n",
       "      <th>25%</th>\n",
       "      <td>60992.000000</td>\n",
       "      <td>7.000000</td>\n",
       "      <td>2.000000</td>\n",
       "    </tr>\n",
       "    <tr>\n",
       "      <th>50%</th>\n",
       "      <td>122431.000000</td>\n",
       "      <td>9.900000</td>\n",
       "      <td>3.000000</td>\n",
       "    </tr>\n",
       "    <tr>\n",
       "      <th>75%</th>\n",
       "      <td>185383.000000</td>\n",
       "      <td>21.500000</td>\n",
       "      <td>6.000000</td>\n",
       "    </tr>\n",
       "    <tr>\n",
       "      <th>max</th>\n",
       "      <td>242650.000000</td>\n",
       "      <td>75.000000</td>\n",
       "      <td>24.000000</td>\n",
       "    </tr>\n",
       "  </tbody>\n",
       "</table>\n",
       "</div>"
      ],
      "text/plain": [
       "        Order Number        Weight  Item/Bottle Count\n",
       "count   73477.000000  73477.000000       73477.000000\n",
       "mean   122754.250514     15.231928           4.392953\n",
       "std     70853.213814     10.915854           3.296987\n",
       "min         8.000000      1.000000           1.000000\n",
       "25%     60992.000000      7.000000           2.000000\n",
       "50%    122431.000000      9.900000           3.000000\n",
       "75%    185383.000000     21.500000           6.000000\n",
       "max    242650.000000     75.000000          24.000000"
      ]
     },
     "execution_count": 119,
     "metadata": {},
     "output_type": "execute_result"
    }
   ],
   "source": [
    "#Generate summary statistics for red_states_2021\n",
    "red_summary_statistics_2021 = red_states_2021.describe()\n",
    "red_summary_statistics_2021"
   ]
  },
  {
   "cell_type": "code",
   "execution_count": 120,
   "id": "06f0b0f1",
   "metadata": {},
   "outputs": [
    {
     "data": {
      "text/plain": [
       "322781.0"
      ]
     },
     "execution_count": 120,
     "metadata": {},
     "output_type": "execute_result"
    }
   ],
   "source": [
    "# Calculate the total 2021 Item/Bottle Count for Red States.\n",
    "total_red_count_2021 = red_states_2021[\"Item/Bottle Count\"].sum()\n",
    "total_red_count_2021"
   ]
  },
  {
   "cell_type": "code",
   "execution_count": 121,
   "id": "ee346b74",
   "metadata": {},
   "outputs": [
    {
     "data": {
      "text/plain": [
       "array(['NC', 'TX', 'FL', 'WY', 'OH', 'MO', 'SC', 'IA', 'WV', 'IN', 'TN',\n",
       "       'KS', 'AL', 'NE', 'OK', 'MT', 'ID', 'LA', 'ND', 'AK', 'SD', 'AR',\n",
       "       'KY'], dtype=object)"
      ]
     },
     "execution_count": 121,
     "metadata": {},
     "output_type": "execute_result"
    }
   ],
   "source": [
    "new_red_states_2021.State.unique()"
   ]
  },
  {
   "cell_type": "code",
   "execution_count": 147,
   "id": "405a5f66",
   "metadata": {},
   "outputs": [],
   "source": [
    "# Adding a list of values with keys to create a new DataFrame for Red states only.\n",
    "#No Mississippi listed because shipping is prohibited. \n",
    "R = {'Red State': ['Alabama', 'Alaska', 'Arkansas', 'Florida', 'Idaho', 'Indiana', 'Iowa', 'Kansas', 'Kentucky', \n",
    "               'Louisiana', 'Missouri', 'Montana', 'Nebraska', 'North Carolina', 'North Dakota',\n",
    "               'Ohio', 'Oklahoma', 'South Carolina', 'South Dakota', 'Tennessee', 'Texas', 'West Virginia', 'Wyoming',  \n",
    "                ],\n",
    "     'Total Item/Bottle Count': [Alabama[\"Item/Bottle Count\"].sum(), \n",
    "            Alaska[\"Item/Bottle Count\"].sum(),  \n",
    "            Arkansas[\"Item/Bottle Count\"].sum(), \n",
    "            Florida[\"Item/Bottle Count\"].sum(),\n",
    "            Idaho[\"Item/Bottle Count\"].sum(),\n",
    "            Indiana[\"Item/Bottle Count\"].sum(),\n",
    "            Iowa[\"Item/Bottle Count\"].sum(),\n",
    "            Kansas[\"Item/Bottle Count\"].sum(),\n",
    "            Kentucky[\"Item/Bottle Count\"].sum(),\n",
    "            Louisiana[\"Item/Bottle Count\"].sum(),\n",
    "            Missouri[\"Item/Bottle Count\"].sum(),\n",
    "            Montana[\"Item/Bottle Count\"].sum(),\n",
    "            Nebraska[\"Item/Bottle Count\"].sum(),\n",
    "            North_Carolina[\"Item/Bottle Count\"].sum(),\n",
    "            North_Dakota[\"Item/Bottle Count\"].sum(),\n",
    "            Ohio[\"Item/Bottle Count\"].sum(),\n",
    "            Oklahoma[\"Item/Bottle Count\"].sum(),\n",
    "            South_Carolina[\"Item/Bottle Count\"].sum(),\n",
    "            South_Dakota[\"Item/Bottle Count\"].sum(),\n",
    "            Tennessee[\"Item/Bottle Count\"].sum(),\n",
    "            Texas[\"Item/Bottle Count\"].sum(),\n",
    "            West_Virginia[\"Item/Bottle Count\"].sum(),\n",
    "            Wyoming[\"Item/Bottle Count\"].sum()]}"
   ]
  },
  {
   "cell_type": "code",
   "execution_count": 148,
   "id": "a927a6a2",
   "metadata": {},
   "outputs": [
    {
     "data": {
      "text/html": [
       "<div>\n",
       "<style scoped>\n",
       "    .dataframe tbody tr th:only-of-type {\n",
       "        vertical-align: middle;\n",
       "    }\n",
       "\n",
       "    .dataframe tbody tr th {\n",
       "        vertical-align: top;\n",
       "    }\n",
       "\n",
       "    .dataframe thead th {\n",
       "        text-align: right;\n",
       "    }\n",
       "</style>\n",
       "<table border=\"1\" class=\"dataframe\">\n",
       "  <thead>\n",
       "    <tr style=\"text-align: right;\">\n",
       "      <th></th>\n",
       "      <th>Red State</th>\n",
       "      <th>Total Item/Bottle Count</th>\n",
       "    </tr>\n",
       "  </thead>\n",
       "  <tbody>\n",
       "    <tr>\n",
       "      <th>0</th>\n",
       "      <td>Alabama</td>\n",
       "      <td>1229.0</td>\n",
       "    </tr>\n",
       "    <tr>\n",
       "      <th>1</th>\n",
       "      <td>Alaska</td>\n",
       "      <td>2076.0</td>\n",
       "    </tr>\n",
       "    <tr>\n",
       "      <th>2</th>\n",
       "      <td>Arkansas</td>\n",
       "      <td>5121.0</td>\n",
       "    </tr>\n",
       "    <tr>\n",
       "      <th>3</th>\n",
       "      <td>Florida</td>\n",
       "      <td>79220.0</td>\n",
       "    </tr>\n",
       "    <tr>\n",
       "      <th>4</th>\n",
       "      <td>Idaho</td>\n",
       "      <td>3517.0</td>\n",
       "    </tr>\n",
       "    <tr>\n",
       "      <th>5</th>\n",
       "      <td>Indiana</td>\n",
       "      <td>15893.0</td>\n",
       "    </tr>\n",
       "    <tr>\n",
       "      <th>6</th>\n",
       "      <td>Iowa</td>\n",
       "      <td>5918.0</td>\n",
       "    </tr>\n",
       "    <tr>\n",
       "      <th>7</th>\n",
       "      <td>Kansas</td>\n",
       "      <td>7216.0</td>\n",
       "    </tr>\n",
       "    <tr>\n",
       "      <th>8</th>\n",
       "      <td>Kentucky</td>\n",
       "      <td>853.0</td>\n",
       "    </tr>\n",
       "    <tr>\n",
       "      <th>9</th>\n",
       "      <td>Louisiana</td>\n",
       "      <td>8914.0</td>\n",
       "    </tr>\n",
       "    <tr>\n",
       "      <th>10</th>\n",
       "      <td>Missouri</td>\n",
       "      <td>12324.0</td>\n",
       "    </tr>\n",
       "    <tr>\n",
       "      <th>11</th>\n",
       "      <td>Montana</td>\n",
       "      <td>3063.0</td>\n",
       "    </tr>\n",
       "    <tr>\n",
       "      <th>12</th>\n",
       "      <td>Nebraska</td>\n",
       "      <td>4781.0</td>\n",
       "    </tr>\n",
       "    <tr>\n",
       "      <th>13</th>\n",
       "      <td>North Carolina</td>\n",
       "      <td>29491.0</td>\n",
       "    </tr>\n",
       "    <tr>\n",
       "      <th>14</th>\n",
       "      <td>North Dakota</td>\n",
       "      <td>1793.0</td>\n",
       "    </tr>\n",
       "    <tr>\n",
       "      <th>15</th>\n",
       "      <td>Ohio</td>\n",
       "      <td>33250.0</td>\n",
       "    </tr>\n",
       "    <tr>\n",
       "      <th>16</th>\n",
       "      <td>Oklahoma</td>\n",
       "      <td>4705.0</td>\n",
       "    </tr>\n",
       "    <tr>\n",
       "      <th>17</th>\n",
       "      <td>South Carolina</td>\n",
       "      <td>15546.0</td>\n",
       "    </tr>\n",
       "    <tr>\n",
       "      <th>18</th>\n",
       "      <td>South Dakota</td>\n",
       "      <td>1899.0</td>\n",
       "    </tr>\n",
       "    <tr>\n",
       "      <th>19</th>\n",
       "      <td>Tennessee</td>\n",
       "      <td>19222.0</td>\n",
       "    </tr>\n",
       "    <tr>\n",
       "      <th>20</th>\n",
       "      <td>Texas</td>\n",
       "      <td>61779.0</td>\n",
       "    </tr>\n",
       "    <tr>\n",
       "      <th>21</th>\n",
       "      <td>West Virginia</td>\n",
       "      <td>2965.0</td>\n",
       "    </tr>\n",
       "    <tr>\n",
       "      <th>22</th>\n",
       "      <td>Wyoming</td>\n",
       "      <td>2006.0</td>\n",
       "    </tr>\n",
       "  </tbody>\n",
       "</table>\n",
       "</div>"
      ],
      "text/plain": [
       "         Red State  Total Item/Bottle Count\n",
       "0          Alabama                   1229.0\n",
       "1           Alaska                   2076.0\n",
       "2         Arkansas                   5121.0\n",
       "3          Florida                  79220.0\n",
       "4            Idaho                   3517.0\n",
       "5          Indiana                  15893.0\n",
       "6             Iowa                   5918.0\n",
       "7           Kansas                   7216.0\n",
       "8         Kentucky                    853.0\n",
       "9        Louisiana                   8914.0\n",
       "10        Missouri                  12324.0\n",
       "11         Montana                   3063.0\n",
       "12        Nebraska                   4781.0\n",
       "13  North Carolina                  29491.0\n",
       "14    North Dakota                   1793.0\n",
       "15            Ohio                  33250.0\n",
       "16        Oklahoma                   4705.0\n",
       "17  South Carolina                  15546.0\n",
       "18    South Dakota                   1899.0\n",
       "19       Tennessee                  19222.0\n",
       "20           Texas                  61779.0\n",
       "21   West Virginia                   2965.0\n",
       "22         Wyoming                   2006.0"
      ]
     },
     "execution_count": 148,
     "metadata": {},
     "output_type": "execute_result"
    }
   ],
   "source": [
    "total_bottle_count_by_red_state = pd.DataFrame.from_dict(data=R)\n",
    "total_bottle_count_by_red_state"
   ]
  },
  {
   "cell_type": "code",
   "execution_count": 149,
   "id": "54588d7a",
   "metadata": {},
   "outputs": [
    {
     "name": "stdout",
     "output_type": "stream",
     "text": [
      "  Red State  Total Item/Bottle Count\n",
      "3   Florida                  79220.0\n"
     ]
    }
   ],
   "source": [
    "#Print the highest bottle count by red state\n",
    "print(total_bottle_count_by_red_state[total_bottle_count_by_red_state[\"Total Item/Bottle Count\"] == \n",
    "                                  total_bottle_count_by_red_state[\"Total Item/Bottle Count\"].max()])"
   ]
  },
  {
   "cell_type": "code",
   "execution_count": 150,
   "id": "8ee3a1f6",
   "metadata": {},
   "outputs": [
    {
     "name": "stdout",
     "output_type": "stream",
     "text": [
      "  Red State  Total Item/Bottle Count\n",
      "8  Kentucky                    853.0\n"
     ]
    }
   ],
   "source": [
    "#Print the lowest bottle count by red state\n",
    "print(total_bottle_count_by_red_state[total_bottle_count_by_red_state[\"Total Item/Bottle Count\"] == \n",
    "                                  total_bottle_count_by_red_state[\"Total Item/Bottle Count\"].min()])"
   ]
  },
  {
   "cell_type": "code",
   "execution_count": 151,
   "id": "86178013",
   "metadata": {},
   "outputs": [],
   "source": [
    "#Export total_bottle_count_by_red_state to .csv\n",
    "total_bottle_count_by_red_state.to_csv('Resources/2021_total_bottle_count_by_red_state.csv') "
   ]
  },
  {
   "cell_type": "code",
   "execution_count": 129,
   "id": "f80528c0",
   "metadata": {},
   "outputs": [
    {
     "data": {
      "text/html": [
       "<div>\n",
       "<style scoped>\n",
       "    .dataframe tbody tr th:only-of-type {\n",
       "        vertical-align: middle;\n",
       "    }\n",
       "\n",
       "    .dataframe tbody tr th {\n",
       "        vertical-align: top;\n",
       "    }\n",
       "\n",
       "    .dataframe thead th {\n",
       "        text-align: right;\n",
       "    }\n",
       "</style>\n",
       "<table border=\"1\" class=\"dataframe\">\n",
       "  <thead>\n",
       "    <tr style=\"text-align: right;\">\n",
       "      <th></th>\n",
       "      <th>Order Number</th>\n",
       "      <th>Company Name</th>\n",
       "      <th>Ship Date</th>\n",
       "      <th>City</th>\n",
       "      <th>Zip</th>\n",
       "      <th>Shipping Service</th>\n",
       "      <th>Created Date</th>\n",
       "      <th>Weight</th>\n",
       "      <th>Item/Bottle Count</th>\n",
       "      <th>Population</th>\n",
       "      <th>Lockdown Start</th>\n",
       "      <th>Initial Expected Lockdown End</th>\n",
       "      <th>Phase 1 Re-Opening Start</th>\n",
       "      <th>Political Alignment</th>\n",
       "    </tr>\n",
       "    <tr>\n",
       "      <th>State</th>\n",
       "      <th></th>\n",
       "      <th></th>\n",
       "      <th></th>\n",
       "      <th></th>\n",
       "      <th></th>\n",
       "      <th></th>\n",
       "      <th></th>\n",
       "      <th></th>\n",
       "      <th></th>\n",
       "      <th></th>\n",
       "      <th></th>\n",
       "      <th></th>\n",
       "      <th></th>\n",
       "      <th></th>\n",
       "    </tr>\n",
       "  </thead>\n",
       "  <tbody>\n",
       "    <tr>\n",
       "      <th>WI</th>\n",
       "      <td>0</td>\n",
       "      <td>Ecom1</td>\n",
       "      <td>1/4/2021</td>\n",
       "      <td>Pleasant Prairie</td>\n",
       "      <td>53158</td>\n",
       "      <td>FEH</td>\n",
       "      <td>12/7/2020</td>\n",
       "      <td>10.5</td>\n",
       "      <td>3.0</td>\n",
       "      <td>5,822,434</td>\n",
       "      <td>3/24/2020</td>\n",
       "      <td>4/24/2020</td>\n",
       "      <td>5/26/2020</td>\n",
       "      <td>Blue</td>\n",
       "    </tr>\n",
       "    <tr>\n",
       "      <th>OR</th>\n",
       "      <td>1</td>\n",
       "      <td>Ecom1</td>\n",
       "      <td>1/5/2021</td>\n",
       "      <td>Beaverton</td>\n",
       "      <td>97005</td>\n",
       "      <td>FEH</td>\n",
       "      <td>12/23/2020</td>\n",
       "      <td>10.5</td>\n",
       "      <td>3.0</td>\n",
       "      <td>4,217,737</td>\n",
       "      <td>3/24/2020</td>\n",
       "      <td>3/31/2020</td>\n",
       "      <td>5/14/2020</td>\n",
       "      <td>Blue</td>\n",
       "    </tr>\n",
       "    <tr>\n",
       "      <th>NJ</th>\n",
       "      <td>2</td>\n",
       "      <td>Ecom1</td>\n",
       "      <td>1/5/2021</td>\n",
       "      <td>Edison</td>\n",
       "      <td>8820</td>\n",
       "      <td>FEH</td>\n",
       "      <td>12/24/2020</td>\n",
       "      <td>6.5</td>\n",
       "      <td>1.0</td>\n",
       "      <td>8,882,190</td>\n",
       "      <td>3/21/2020</td>\n",
       "      <td>1/1/1111</td>\n",
       "      <td>5/12/2020</td>\n",
       "      <td>Blue</td>\n",
       "    </tr>\n",
       "    <tr>\n",
       "      <th>NJ</th>\n",
       "      <td>3</td>\n",
       "      <td>Ecom1</td>\n",
       "      <td>1/5/2021</td>\n",
       "      <td>Jersey city</td>\n",
       "      <td>7302</td>\n",
       "      <td>FEH</td>\n",
       "      <td>12/24/2020</td>\n",
       "      <td>6.5</td>\n",
       "      <td>1.0</td>\n",
       "      <td>8,882,190</td>\n",
       "      <td>3/21/2020</td>\n",
       "      <td>1/1/1111</td>\n",
       "      <td>5/12/2020</td>\n",
       "      <td>Blue</td>\n",
       "    </tr>\n",
       "    <tr>\n",
       "      <th>MA</th>\n",
       "      <td>4</td>\n",
       "      <td>Ecom1</td>\n",
       "      <td>1/5/2021</td>\n",
       "      <td>Stoughton</td>\n",
       "      <td>2072</td>\n",
       "      <td>FEH</td>\n",
       "      <td>12/24/2020</td>\n",
       "      <td>6.5</td>\n",
       "      <td>1.0</td>\n",
       "      <td>6,892,503</td>\n",
       "      <td>3/23/2020</td>\n",
       "      <td>3/31/2020</td>\n",
       "      <td>5/18/2020</td>\n",
       "      <td>Blue</td>\n",
       "    </tr>\n",
       "  </tbody>\n",
       "</table>\n",
       "</div>"
      ],
      "text/plain": [
       "       Order Number Company Name Ship Date              City    Zip  \\\n",
       "State                                                                 \n",
       "WI                0        Ecom1  1/4/2021  Pleasant Prairie  53158   \n",
       "OR                1        Ecom1  1/5/2021         Beaverton  97005   \n",
       "NJ                2        Ecom1  1/5/2021            Edison   8820   \n",
       "NJ                3        Ecom1  1/5/2021       Jersey city   7302   \n",
       "MA                4        Ecom1  1/5/2021         Stoughton   2072   \n",
       "\n",
       "      Shipping Service Created Date  Weight  Item/Bottle Count Population  \\\n",
       "State                                                                       \n",
       "WI                 FEH    12/7/2020    10.5                3.0  5,822,434   \n",
       "OR                 FEH   12/23/2020    10.5                3.0  4,217,737   \n",
       "NJ                 FEH   12/24/2020     6.5                1.0  8,882,190   \n",
       "NJ                 FEH   12/24/2020     6.5                1.0  8,882,190   \n",
       "MA                 FEH   12/24/2020     6.5                1.0  6,892,503   \n",
       "\n",
       "      Lockdown Start Initial Expected Lockdown End Phase 1 Re-Opening Start  \\\n",
       "State                                                                         \n",
       "WI         3/24/2020                     4/24/2020                5/26/2020   \n",
       "OR         3/24/2020                     3/31/2020                5/14/2020   \n",
       "NJ         3/21/2020                      1/1/1111                5/12/2020   \n",
       "NJ         3/21/2020                      1/1/1111                5/12/2020   \n",
       "MA         3/23/2020                     3/31/2020                5/18/2020   \n",
       "\n",
       "      Political Alignment  \n",
       "State                      \n",
       "WI                   Blue  \n",
       "OR                   Blue  \n",
       "NJ                   Blue  \n",
       "NJ                   Blue  \n",
       "MA                   Blue  "
      ]
     },
     "execution_count": 129,
     "metadata": {},
     "output_type": "execute_result"
    }
   ],
   "source": [
    "#Create a df with only orders created in blue states.\n",
    "blue_states_2021= states_2021[states_2021['Political Alignment'] == 'Blue']\n",
    "blue_states_2021.head()"
   ]
  },
  {
   "cell_type": "code",
   "execution_count": 130,
   "id": "01f71256",
   "metadata": {},
   "outputs": [
    {
     "data": {
      "text/plain": [
       "array(['Blue'], dtype=object)"
      ]
     },
     "execution_count": 130,
     "metadata": {},
     "output_type": "execute_result"
    }
   ],
   "source": [
    "#Check that blue_states_2021 is all \"Blue\"\n",
    "blue_states_2021[\"Political Alignment\"].unique()"
   ]
  },
  {
   "cell_type": "code",
   "execution_count": 131,
   "id": "eb292b56",
   "metadata": {},
   "outputs": [
    {
     "data": {
      "text/html": [
       "<div>\n",
       "<style scoped>\n",
       "    .dataframe tbody tr th:only-of-type {\n",
       "        vertical-align: middle;\n",
       "    }\n",
       "\n",
       "    .dataframe tbody tr th {\n",
       "        vertical-align: top;\n",
       "    }\n",
       "\n",
       "    .dataframe thead th {\n",
       "        text-align: right;\n",
       "    }\n",
       "</style>\n",
       "<table border=\"1\" class=\"dataframe\">\n",
       "  <thead>\n",
       "    <tr style=\"text-align: right;\">\n",
       "      <th></th>\n",
       "      <th>State</th>\n",
       "      <th>Order Number</th>\n",
       "      <th>Company Name</th>\n",
       "      <th>Ship Date</th>\n",
       "      <th>City</th>\n",
       "      <th>Zip</th>\n",
       "      <th>Shipping Service</th>\n",
       "      <th>Created Date</th>\n",
       "      <th>Weight</th>\n",
       "      <th>Item/Bottle Count</th>\n",
       "      <th>Population</th>\n",
       "      <th>Lockdown Start</th>\n",
       "      <th>Initial Expected Lockdown End</th>\n",
       "      <th>Phase 1 Re-Opening Start</th>\n",
       "      <th>Political Alignment</th>\n",
       "    </tr>\n",
       "  </thead>\n",
       "  <tbody>\n",
       "    <tr>\n",
       "      <th>0</th>\n",
       "      <td>WI</td>\n",
       "      <td>0</td>\n",
       "      <td>Ecom1</td>\n",
       "      <td>1/4/2021</td>\n",
       "      <td>Pleasant Prairie</td>\n",
       "      <td>53158</td>\n",
       "      <td>FEH</td>\n",
       "      <td>12/7/2020</td>\n",
       "      <td>10.5</td>\n",
       "      <td>3.0</td>\n",
       "      <td>5,822,434</td>\n",
       "      <td>3/24/2020</td>\n",
       "      <td>4/24/2020</td>\n",
       "      <td>5/26/2020</td>\n",
       "      <td>Blue</td>\n",
       "    </tr>\n",
       "    <tr>\n",
       "      <th>1</th>\n",
       "      <td>OR</td>\n",
       "      <td>1</td>\n",
       "      <td>Ecom1</td>\n",
       "      <td>1/5/2021</td>\n",
       "      <td>Beaverton</td>\n",
       "      <td>97005</td>\n",
       "      <td>FEH</td>\n",
       "      <td>12/23/2020</td>\n",
       "      <td>10.5</td>\n",
       "      <td>3.0</td>\n",
       "      <td>4,217,737</td>\n",
       "      <td>3/24/2020</td>\n",
       "      <td>3/31/2020</td>\n",
       "      <td>5/14/2020</td>\n",
       "      <td>Blue</td>\n",
       "    </tr>\n",
       "    <tr>\n",
       "      <th>2</th>\n",
       "      <td>NJ</td>\n",
       "      <td>2</td>\n",
       "      <td>Ecom1</td>\n",
       "      <td>1/5/2021</td>\n",
       "      <td>Edison</td>\n",
       "      <td>8820</td>\n",
       "      <td>FEH</td>\n",
       "      <td>12/24/2020</td>\n",
       "      <td>6.5</td>\n",
       "      <td>1.0</td>\n",
       "      <td>8,882,190</td>\n",
       "      <td>3/21/2020</td>\n",
       "      <td>1/1/1111</td>\n",
       "      <td>5/12/2020</td>\n",
       "      <td>Blue</td>\n",
       "    </tr>\n",
       "    <tr>\n",
       "      <th>3</th>\n",
       "      <td>NJ</td>\n",
       "      <td>3</td>\n",
       "      <td>Ecom1</td>\n",
       "      <td>1/5/2021</td>\n",
       "      <td>Jersey city</td>\n",
       "      <td>7302</td>\n",
       "      <td>FEH</td>\n",
       "      <td>12/24/2020</td>\n",
       "      <td>6.5</td>\n",
       "      <td>1.0</td>\n",
       "      <td>8,882,190</td>\n",
       "      <td>3/21/2020</td>\n",
       "      <td>1/1/1111</td>\n",
       "      <td>5/12/2020</td>\n",
       "      <td>Blue</td>\n",
       "    </tr>\n",
       "    <tr>\n",
       "      <th>4</th>\n",
       "      <td>MA</td>\n",
       "      <td>4</td>\n",
       "      <td>Ecom1</td>\n",
       "      <td>1/5/2021</td>\n",
       "      <td>Stoughton</td>\n",
       "      <td>2072</td>\n",
       "      <td>FEH</td>\n",
       "      <td>12/24/2020</td>\n",
       "      <td>6.5</td>\n",
       "      <td>1.0</td>\n",
       "      <td>6,892,503</td>\n",
       "      <td>3/23/2020</td>\n",
       "      <td>3/31/2020</td>\n",
       "      <td>5/18/2020</td>\n",
       "      <td>Blue</td>\n",
       "    </tr>\n",
       "    <tr>\n",
       "      <th>...</th>\n",
       "      <td>...</td>\n",
       "      <td>...</td>\n",
       "      <td>...</td>\n",
       "      <td>...</td>\n",
       "      <td>...</td>\n",
       "      <td>...</td>\n",
       "      <td>...</td>\n",
       "      <td>...</td>\n",
       "      <td>...</td>\n",
       "      <td>...</td>\n",
       "      <td>...</td>\n",
       "      <td>...</td>\n",
       "      <td>...</td>\n",
       "      <td>...</td>\n",
       "      <td>...</td>\n",
       "    </tr>\n",
       "    <tr>\n",
       "      <th>169169</th>\n",
       "      <td>IL</td>\n",
       "      <td>242645</td>\n",
       "      <td>Ecom2</td>\n",
       "      <td>12/30/2021</td>\n",
       "      <td>Hillside</td>\n",
       "      <td>60162</td>\n",
       "      <td>FEH</td>\n",
       "      <td>12/30/2021</td>\n",
       "      <td>7.0</td>\n",
       "      <td>2.0</td>\n",
       "      <td>12,671,821</td>\n",
       "      <td>3/20/2020</td>\n",
       "      <td>3/30/2020</td>\n",
       "      <td>5/5/2020</td>\n",
       "      <td>Blue</td>\n",
       "    </tr>\n",
       "    <tr>\n",
       "      <th>169170</th>\n",
       "      <td>IL</td>\n",
       "      <td>242646</td>\n",
       "      <td>Ecom2</td>\n",
       "      <td>12/30/2021</td>\n",
       "      <td>Oakwood</td>\n",
       "      <td>61858</td>\n",
       "      <td>FEH</td>\n",
       "      <td>12/30/2021</td>\n",
       "      <td>7.0</td>\n",
       "      <td>2.0</td>\n",
       "      <td>12,671,821</td>\n",
       "      <td>3/20/2020</td>\n",
       "      <td>3/30/2020</td>\n",
       "      <td>5/5/2020</td>\n",
       "      <td>Blue</td>\n",
       "    </tr>\n",
       "    <tr>\n",
       "      <th>169171</th>\n",
       "      <td>IL</td>\n",
       "      <td>242647</td>\n",
       "      <td>Ecom2</td>\n",
       "      <td>12/30/2021</td>\n",
       "      <td>Wonder Lake</td>\n",
       "      <td>60097</td>\n",
       "      <td>FEH</td>\n",
       "      <td>12/30/2021</td>\n",
       "      <td>7.0</td>\n",
       "      <td>2.0</td>\n",
       "      <td>12,671,821</td>\n",
       "      <td>3/20/2020</td>\n",
       "      <td>3/30/2020</td>\n",
       "      <td>5/5/2020</td>\n",
       "      <td>Blue</td>\n",
       "    </tr>\n",
       "    <tr>\n",
       "      <th>169172</th>\n",
       "      <td>MA</td>\n",
       "      <td>242648</td>\n",
       "      <td>Ecom2</td>\n",
       "      <td>12/30/2021</td>\n",
       "      <td>Charlestown</td>\n",
       "      <td>2129</td>\n",
       "      <td>UPS</td>\n",
       "      <td>12/30/2021</td>\n",
       "      <td>7.0</td>\n",
       "      <td>2.0</td>\n",
       "      <td>6,892,503</td>\n",
       "      <td>3/23/2020</td>\n",
       "      <td>3/31/2020</td>\n",
       "      <td>5/18/2020</td>\n",
       "      <td>Blue</td>\n",
       "    </tr>\n",
       "    <tr>\n",
       "      <th>169173</th>\n",
       "      <td>DC</td>\n",
       "      <td>242649</td>\n",
       "      <td>Ecom2</td>\n",
       "      <td>12/30/2021</td>\n",
       "      <td>Washington</td>\n",
       "      <td>20002</td>\n",
       "      <td>FEH</td>\n",
       "      <td>12/30/2021</td>\n",
       "      <td>7.0</td>\n",
       "      <td>2.0</td>\n",
       "      <td>705,749</td>\n",
       "      <td>4/1/2020</td>\n",
       "      <td>4/24/2020</td>\n",
       "      <td>5/29/2020</td>\n",
       "      <td>Blue</td>\n",
       "    </tr>\n",
       "  </tbody>\n",
       "</table>\n",
       "<p>169174 rows × 15 columns</p>\n",
       "</div>"
      ],
      "text/plain": [
       "       State  Order Number Company Name   Ship Date              City    Zip  \\\n",
       "0         WI             0        Ecom1    1/4/2021  Pleasant Prairie  53158   \n",
       "1         OR             1        Ecom1    1/5/2021         Beaverton  97005   \n",
       "2         NJ             2        Ecom1    1/5/2021            Edison   8820   \n",
       "3         NJ             3        Ecom1    1/5/2021       Jersey city   7302   \n",
       "4         MA             4        Ecom1    1/5/2021         Stoughton   2072   \n",
       "...      ...           ...          ...         ...               ...    ...   \n",
       "169169    IL        242645        Ecom2  12/30/2021          Hillside  60162   \n",
       "169170    IL        242646        Ecom2  12/30/2021           Oakwood  61858   \n",
       "169171    IL        242647        Ecom2  12/30/2021       Wonder Lake  60097   \n",
       "169172    MA        242648        Ecom2  12/30/2021       Charlestown   2129   \n",
       "169173    DC        242649        Ecom2  12/30/2021        Washington  20002   \n",
       "\n",
       "       Shipping Service Created Date  Weight  Item/Bottle Count  Population  \\\n",
       "0                   FEH    12/7/2020    10.5                3.0   5,822,434   \n",
       "1                   FEH   12/23/2020    10.5                3.0   4,217,737   \n",
       "2                   FEH   12/24/2020     6.5                1.0   8,882,190   \n",
       "3                   FEH   12/24/2020     6.5                1.0   8,882,190   \n",
       "4                   FEH   12/24/2020     6.5                1.0   6,892,503   \n",
       "...                 ...          ...     ...                ...         ...   \n",
       "169169              FEH   12/30/2021     7.0                2.0  12,671,821   \n",
       "169170              FEH   12/30/2021     7.0                2.0  12,671,821   \n",
       "169171              FEH   12/30/2021     7.0                2.0  12,671,821   \n",
       "169172              UPS   12/30/2021     7.0                2.0   6,892,503   \n",
       "169173              FEH   12/30/2021     7.0                2.0     705,749   \n",
       "\n",
       "       Lockdown Start Initial Expected Lockdown End Phase 1 Re-Opening Start  \\\n",
       "0           3/24/2020                     4/24/2020                5/26/2020   \n",
       "1           3/24/2020                     3/31/2020                5/14/2020   \n",
       "2           3/21/2020                      1/1/1111                5/12/2020   \n",
       "3           3/21/2020                      1/1/1111                5/12/2020   \n",
       "4           3/23/2020                     3/31/2020                5/18/2020   \n",
       "...               ...                           ...                      ...   \n",
       "169169      3/20/2020                     3/30/2020                 5/5/2020   \n",
       "169170      3/20/2020                     3/30/2020                 5/5/2020   \n",
       "169171      3/20/2020                     3/30/2020                 5/5/2020   \n",
       "169172      3/23/2020                     3/31/2020                5/18/2020   \n",
       "169173       4/1/2020                     4/24/2020                5/29/2020   \n",
       "\n",
       "       Political Alignment  \n",
       "0                     Blue  \n",
       "1                     Blue  \n",
       "2                     Blue  \n",
       "3                     Blue  \n",
       "4                     Blue  \n",
       "...                    ...  \n",
       "169169                Blue  \n",
       "169170                Blue  \n",
       "169171                Blue  \n",
       "169172                Blue  \n",
       "169173                Blue  \n",
       "\n",
       "[169174 rows x 15 columns]"
      ]
     },
     "execution_count": 131,
     "metadata": {},
     "output_type": "execute_result"
    }
   ],
   "source": [
    "#Rest index to figure out which states are red with unique() below.\n",
    "new_blue_states_2021 = blue_states_2021.reset_index()\n",
    "new_blue_states_2021"
   ]
  },
  {
   "cell_type": "code",
   "execution_count": 132,
   "id": "f706a59f",
   "metadata": {},
   "outputs": [
    {
     "data": {
      "text/plain": [
       "array(['WI', 'OR', 'NJ', 'MA', 'CT', 'MD', 'NH', 'PA', 'WA', 'GA', 'IL',\n",
       "       'CA', 'NM', 'NY', 'RI', 'MN', 'DC', 'CO', 'VA', 'AZ', 'MI', 'NV',\n",
       "       'DE', 'ME', 'VT', 'HI'], dtype=object)"
      ]
     },
     "execution_count": 132,
     "metadata": {},
     "output_type": "execute_result"
    }
   ],
   "source": [
    "new_blue_states_2021.State.unique()"
   ]
  },
  {
   "cell_type": "code",
   "execution_count": 152,
   "id": "7a5e2a70",
   "metadata": {},
   "outputs": [],
   "source": [
    "# Adding a list of values with keys to create a new DataFrame for Blue states only.\n",
    "#Utah is not included because the shipping of alcohol is prohibited.\n",
    "B = {'Blue State': ['Arizona', 'California', 'Colordao', 'Connecticut', 'District of Columbia', 'Delaware', 'Georgia',\n",
    "               'Hawaii', 'Illinois', 'Maine', 'Maryland', 'Massachusetts', 'Michigan', 'Minnesota', 'Nevada',\n",
    "               'New Hampshire', 'New Jersey', 'New Mexico', 'New York', 'Oregon', 'Pennsylvania', 'Rhode Island',\n",
    "               'Vermont', 'Virginia', 'Washington',  'Wisconsin',\n",
    "              ],\n",
    "       'Total Item/Bottle Count': [Arizona[\"Item/Bottle Count\"].sum(),    \n",
    "            California[\"Item/Bottle Count\"].sum(),\n",
    "            Colorado[\"Item/Bottle Count\"].sum(),\n",
    "            Connecticut[\"Item/Bottle Count\"].sum(),\n",
    "            DC[\"Item/Bottle Count\"].sum(),\n",
    "            Delaware[\"Item/Bottle Count\"].sum(),\n",
    "            Georgia[\"Item/Bottle Count\"].sum(),\n",
    "            Hawaii[\"Item/Bottle Count\"].sum(),\n",
    "            Illinois[\"Item/Bottle Count\"].sum(),\n",
    "            Maine[\"Item/Bottle Count\"].sum(),\n",
    "            Maryland[\"Item/Bottle Count\"].sum(),\n",
    "            Massachusetts[\"Item/Bottle Count\"].sum(),\n",
    "            Michigan[\"Item/Bottle Count\"].sum(),\n",
    "            Minnesota[\"Item/Bottle Count\"].sum(),\n",
    "            Nevada[\"Item/Bottle Count\"].sum(),\n",
    "            New_Hampshire[\"Item/Bottle Count\"].sum(),\n",
    "            New_Jersey[\"Item/Bottle Count\"].sum(),\n",
    "            New_Mexico[\"Item/Bottle Count\"].sum(),\n",
    "            New_York[\"Item/Bottle Count\"].sum(),\n",
    "            Oregon[\"Item/Bottle Count\"].sum(),\n",
    "            Pennsylvania[\"Item/Bottle Count\"].sum(),\n",
    "            Rhode_Island[\"Item/Bottle Count\"].sum(),\n",
    "            Vermont[\"Item/Bottle Count\"].sum(),\n",
    "            Virginia[\"Item/Bottle Count\"].sum(),\n",
    "            Washington[\"Item/Bottle Count\"].sum(),\n",
    "            Wisconsin[\"Item/Bottle Count\"].sum()]}"
   ]
  },
  {
   "cell_type": "code",
   "execution_count": 153,
   "id": "1521f1ff",
   "metadata": {},
   "outputs": [
    {
     "data": {
      "text/html": [
       "<div>\n",
       "<style scoped>\n",
       "    .dataframe tbody tr th:only-of-type {\n",
       "        vertical-align: middle;\n",
       "    }\n",
       "\n",
       "    .dataframe tbody tr th {\n",
       "        vertical-align: top;\n",
       "    }\n",
       "\n",
       "    .dataframe thead th {\n",
       "        text-align: right;\n",
       "    }\n",
       "</style>\n",
       "<table border=\"1\" class=\"dataframe\">\n",
       "  <thead>\n",
       "    <tr style=\"text-align: right;\">\n",
       "      <th></th>\n",
       "      <th>Blue State</th>\n",
       "      <th>Total Item/Bottle Count</th>\n",
       "    </tr>\n",
       "  </thead>\n",
       "  <tbody>\n",
       "    <tr>\n",
       "      <th>0</th>\n",
       "      <td>Arizona</td>\n",
       "      <td>16882.0</td>\n",
       "    </tr>\n",
       "    <tr>\n",
       "      <th>1</th>\n",
       "      <td>California</td>\n",
       "      <td>109697.0</td>\n",
       "    </tr>\n",
       "    <tr>\n",
       "      <th>2</th>\n",
       "      <td>Colordao</td>\n",
       "      <td>27844.0</td>\n",
       "    </tr>\n",
       "    <tr>\n",
       "      <th>3</th>\n",
       "      <td>Connecticut</td>\n",
       "      <td>21934.0</td>\n",
       "    </tr>\n",
       "    <tr>\n",
       "      <th>4</th>\n",
       "      <td>District of Columbia</td>\n",
       "      <td>8089.0</td>\n",
       "    </tr>\n",
       "    <tr>\n",
       "      <th>5</th>\n",
       "      <td>Delaware</td>\n",
       "      <td>2053.0</td>\n",
       "    </tr>\n",
       "    <tr>\n",
       "      <th>6</th>\n",
       "      <td>Georgia</td>\n",
       "      <td>31870.0</td>\n",
       "    </tr>\n",
       "    <tr>\n",
       "      <th>7</th>\n",
       "      <td>Hawaii</td>\n",
       "      <td>11142.0</td>\n",
       "    </tr>\n",
       "    <tr>\n",
       "      <th>8</th>\n",
       "      <td>Illinois</td>\n",
       "      <td>42583.0</td>\n",
       "    </tr>\n",
       "    <tr>\n",
       "      <th>9</th>\n",
       "      <td>Maine</td>\n",
       "      <td>5630.0</td>\n",
       "    </tr>\n",
       "    <tr>\n",
       "      <th>10</th>\n",
       "      <td>Maryland</td>\n",
       "      <td>28296.0</td>\n",
       "    </tr>\n",
       "    <tr>\n",
       "      <th>11</th>\n",
       "      <td>Massachusetts</td>\n",
       "      <td>43842.0</td>\n",
       "    </tr>\n",
       "    <tr>\n",
       "      <th>12</th>\n",
       "      <td>Michigan</td>\n",
       "      <td>32801.0</td>\n",
       "    </tr>\n",
       "    <tr>\n",
       "      <th>13</th>\n",
       "      <td>Minnesota</td>\n",
       "      <td>14836.0</td>\n",
       "    </tr>\n",
       "    <tr>\n",
       "      <th>14</th>\n",
       "      <td>Nevada</td>\n",
       "      <td>6966.0</td>\n",
       "    </tr>\n",
       "    <tr>\n",
       "      <th>15</th>\n",
       "      <td>New Hampshire</td>\n",
       "      <td>6149.0</td>\n",
       "    </tr>\n",
       "    <tr>\n",
       "      <th>16</th>\n",
       "      <td>New Jersey</td>\n",
       "      <td>58695.0</td>\n",
       "    </tr>\n",
       "    <tr>\n",
       "      <th>17</th>\n",
       "      <td>New Mexico</td>\n",
       "      <td>4065.0</td>\n",
       "    </tr>\n",
       "    <tr>\n",
       "      <th>18</th>\n",
       "      <td>New York</td>\n",
       "      <td>108154.0</td>\n",
       "    </tr>\n",
       "    <tr>\n",
       "      <th>19</th>\n",
       "      <td>Oregon</td>\n",
       "      <td>12011.0</td>\n",
       "    </tr>\n",
       "    <tr>\n",
       "      <th>20</th>\n",
       "      <td>Pennsylvania</td>\n",
       "      <td>69833.0</td>\n",
       "    </tr>\n",
       "    <tr>\n",
       "      <th>21</th>\n",
       "      <td>Rhode Island</td>\n",
       "      <td>7125.0</td>\n",
       "    </tr>\n",
       "    <tr>\n",
       "      <th>22</th>\n",
       "      <td>Vermont</td>\n",
       "      <td>3339.0</td>\n",
       "    </tr>\n",
       "    <tr>\n",
       "      <th>23</th>\n",
       "      <td>Virginia</td>\n",
       "      <td>36481.0</td>\n",
       "    </tr>\n",
       "    <tr>\n",
       "      <th>24</th>\n",
       "      <td>Washington</td>\n",
       "      <td>19606.0</td>\n",
       "    </tr>\n",
       "    <tr>\n",
       "      <th>25</th>\n",
       "      <td>Wisconsin</td>\n",
       "      <td>12753.0</td>\n",
       "    </tr>\n",
       "  </tbody>\n",
       "</table>\n",
       "</div>"
      ],
      "text/plain": [
       "              Blue State  Total Item/Bottle Count\n",
       "0                Arizona                  16882.0\n",
       "1             California                 109697.0\n",
       "2               Colordao                  27844.0\n",
       "3            Connecticut                  21934.0\n",
       "4   District of Columbia                   8089.0\n",
       "5               Delaware                   2053.0\n",
       "6                Georgia                  31870.0\n",
       "7                 Hawaii                  11142.0\n",
       "8               Illinois                  42583.0\n",
       "9                  Maine                   5630.0\n",
       "10              Maryland                  28296.0\n",
       "11         Massachusetts                  43842.0\n",
       "12              Michigan                  32801.0\n",
       "13             Minnesota                  14836.0\n",
       "14                Nevada                   6966.0\n",
       "15         New Hampshire                   6149.0\n",
       "16            New Jersey                  58695.0\n",
       "17            New Mexico                   4065.0\n",
       "18              New York                 108154.0\n",
       "19                Oregon                  12011.0\n",
       "20          Pennsylvania                  69833.0\n",
       "21          Rhode Island                   7125.0\n",
       "22               Vermont                   3339.0\n",
       "23              Virginia                  36481.0\n",
       "24            Washington                  19606.0\n",
       "25             Wisconsin                  12753.0"
      ]
     },
     "execution_count": 153,
     "metadata": {},
     "output_type": "execute_result"
    }
   ],
   "source": [
    "total_bottle_count_by_blue_state = pd.DataFrame.from_dict(data=B)\n",
    "total_bottle_count_by_blue_state"
   ]
  },
  {
   "cell_type": "code",
   "execution_count": 137,
   "id": "7f9bf25a",
   "metadata": {},
   "outputs": [
    {
     "data": {
      "text/html": [
       "<div>\n",
       "<style scoped>\n",
       "    .dataframe tbody tr th:only-of-type {\n",
       "        vertical-align: middle;\n",
       "    }\n",
       "\n",
       "    .dataframe tbody tr th {\n",
       "        vertical-align: top;\n",
       "    }\n",
       "\n",
       "    .dataframe thead th {\n",
       "        text-align: right;\n",
       "    }\n",
       "</style>\n",
       "<table border=\"1\" class=\"dataframe\">\n",
       "  <thead>\n",
       "    <tr style=\"text-align: right;\">\n",
       "      <th></th>\n",
       "      <th>Order Number</th>\n",
       "      <th>Weight</th>\n",
       "      <th>Item/Bottle Count</th>\n",
       "    </tr>\n",
       "  </thead>\n",
       "  <tbody>\n",
       "    <tr>\n",
       "      <th>count</th>\n",
       "      <td>169174.000000</td>\n",
       "      <td>169174.000000</td>\n",
       "      <td>169174.000000</td>\n",
       "    </tr>\n",
       "    <tr>\n",
       "      <th>mean</th>\n",
       "      <td>120704.236526</td>\n",
       "      <td>15.191775</td>\n",
       "      <td>4.390013</td>\n",
       "    </tr>\n",
       "    <tr>\n",
       "      <th>std</th>\n",
       "      <td>69685.669502</td>\n",
       "      <td>12.514594</td>\n",
       "      <td>6.763595</td>\n",
       "    </tr>\n",
       "    <tr>\n",
       "      <th>min</th>\n",
       "      <td>0.000000</td>\n",
       "      <td>2.350000</td>\n",
       "      <td>1.000000</td>\n",
       "    </tr>\n",
       "    <tr>\n",
       "      <th>25%</th>\n",
       "      <td>60481.500000</td>\n",
       "      <td>7.000000</td>\n",
       "      <td>2.000000</td>\n",
       "    </tr>\n",
       "    <tr>\n",
       "      <th>50%</th>\n",
       "      <td>120897.500000</td>\n",
       "      <td>9.900000</td>\n",
       "      <td>3.000000</td>\n",
       "    </tr>\n",
       "    <tr>\n",
       "      <th>75%</th>\n",
       "      <td>180470.500000</td>\n",
       "      <td>21.500000</td>\n",
       "      <td>6.000000</td>\n",
       "    </tr>\n",
       "    <tr>\n",
       "      <th>max</th>\n",
       "      <td>242649.000000</td>\n",
       "      <td>2016.000000</td>\n",
       "      <td>2301.000000</td>\n",
       "    </tr>\n",
       "  </tbody>\n",
       "</table>\n",
       "</div>"
      ],
      "text/plain": [
       "        Order Number         Weight  Item/Bottle Count\n",
       "count  169174.000000  169174.000000      169174.000000\n",
       "mean   120704.236526      15.191775           4.390013\n",
       "std     69685.669502      12.514594           6.763595\n",
       "min         0.000000       2.350000           1.000000\n",
       "25%     60481.500000       7.000000           2.000000\n",
       "50%    120897.500000       9.900000           3.000000\n",
       "75%    180470.500000      21.500000           6.000000\n",
       "max    242649.000000    2016.000000        2301.000000"
      ]
     },
     "execution_count": 137,
     "metadata": {},
     "output_type": "execute_result"
    }
   ],
   "source": [
    "#Generate summary statistics for blue_states_2021\n",
    "blue_summary_statistics_2021 = blue_states_2021.describe()\n",
    "blue_summary_statistics_2021"
   ]
  },
  {
   "cell_type": "code",
   "execution_count": 138,
   "id": "5ddc2bb7",
   "metadata": {},
   "outputs": [
    {
     "data": {
      "text/plain": [
       "742676.0"
      ]
     },
     "execution_count": 138,
     "metadata": {},
     "output_type": "execute_result"
    }
   ],
   "source": [
    "# Calculate the total 2021 Item/Bottle Count for Blue States.\n",
    "total_blue_count_2021 = blue_states_2021[\"Item/Bottle Count\"].sum()\n",
    "total_blue_count_2021"
   ]
  },
  {
   "cell_type": "code",
   "execution_count": 154,
   "id": "c00ed1a2",
   "metadata": {},
   "outputs": [
    {
     "name": "stdout",
     "output_type": "stream",
     "text": [
      "   Blue State  Total Item/Bottle Count\n",
      "1  California                 109697.0\n"
     ]
    }
   ],
   "source": [
    "#Print the highest bottle count by blue state\n",
    "print(total_bottle_count_by_blue_state[total_bottle_count_by_blue_state[\"Total Item/Bottle Count\"] == \n",
    "                                  total_bottle_count_by_blue_state[\"Total Item/Bottle Count\"].max()])"
   ]
  },
  {
   "cell_type": "code",
   "execution_count": 155,
   "id": "bb1d4755",
   "metadata": {},
   "outputs": [
    {
     "name": "stdout",
     "output_type": "stream",
     "text": [
      "  Blue State  Total Item/Bottle Count\n",
      "5   Delaware                   2053.0\n"
     ]
    }
   ],
   "source": [
    "#Print the lowest bottle count by blue state\n",
    "print(total_bottle_count_by_blue_state[total_bottle_count_by_blue_state[\"Total Item/Bottle Count\"] == \n",
    "                                  total_bottle_count_by_blue_state[\"Total Item/Bottle Count\"].min()])"
   ]
  },
  {
   "cell_type": "code",
   "execution_count": 156,
   "id": "46d4cdcc",
   "metadata": {},
   "outputs": [],
   "source": [
    "#Export total_bottle_count_by_blue_state to .csv\n",
    "total_bottle_count_by_blue_state.to_csv('Resources/2021_total_bottle_count_by_blue_state.csv') "
   ]
  },
  {
   "cell_type": "code",
   "execution_count": 157,
   "id": "b7115ce4",
   "metadata": {},
   "outputs": [
    {
     "data": {
      "text/html": [
       "<div>\n",
       "<style scoped>\n",
       "    .dataframe tbody tr th:only-of-type {\n",
       "        vertical-align: middle;\n",
       "    }\n",
       "\n",
       "    .dataframe tbody tr th {\n",
       "        vertical-align: top;\n",
       "    }\n",
       "\n",
       "    .dataframe thead th {\n",
       "        text-align: right;\n",
       "    }\n",
       "</style>\n",
       "<table border=\"1\" class=\"dataframe\">\n",
       "  <thead>\n",
       "    <tr style=\"text-align: right;\">\n",
       "      <th></th>\n",
       "      <th>Blue State</th>\n",
       "      <th>Total Item/Bottle Count_Blue</th>\n",
       "      <th>Red State</th>\n",
       "      <th>Total Item/Bottle Count_Red</th>\n",
       "    </tr>\n",
       "  </thead>\n",
       "  <tbody>\n",
       "    <tr>\n",
       "      <th>0</th>\n",
       "      <td>Arizona</td>\n",
       "      <td>16882.0</td>\n",
       "      <td>Alabama</td>\n",
       "      <td>1229.0</td>\n",
       "    </tr>\n",
       "    <tr>\n",
       "      <th>1</th>\n",
       "      <td>California</td>\n",
       "      <td>109697.0</td>\n",
       "      <td>Alaska</td>\n",
       "      <td>2076.0</td>\n",
       "    </tr>\n",
       "    <tr>\n",
       "      <th>2</th>\n",
       "      <td>Colordao</td>\n",
       "      <td>27844.0</td>\n",
       "      <td>Arkansas</td>\n",
       "      <td>5121.0</td>\n",
       "    </tr>\n",
       "    <tr>\n",
       "      <th>3</th>\n",
       "      <td>Connecticut</td>\n",
       "      <td>21934.0</td>\n",
       "      <td>Florida</td>\n",
       "      <td>79220.0</td>\n",
       "    </tr>\n",
       "    <tr>\n",
       "      <th>4</th>\n",
       "      <td>District of Columbia</td>\n",
       "      <td>8089.0</td>\n",
       "      <td>Idaho</td>\n",
       "      <td>3517.0</td>\n",
       "    </tr>\n",
       "    <tr>\n",
       "      <th>5</th>\n",
       "      <td>Delaware</td>\n",
       "      <td>2053.0</td>\n",
       "      <td>Indiana</td>\n",
       "      <td>15893.0</td>\n",
       "    </tr>\n",
       "    <tr>\n",
       "      <th>6</th>\n",
       "      <td>Georgia</td>\n",
       "      <td>31870.0</td>\n",
       "      <td>Iowa</td>\n",
       "      <td>5918.0</td>\n",
       "    </tr>\n",
       "    <tr>\n",
       "      <th>7</th>\n",
       "      <td>Hawaii</td>\n",
       "      <td>11142.0</td>\n",
       "      <td>Kansas</td>\n",
       "      <td>7216.0</td>\n",
       "    </tr>\n",
       "    <tr>\n",
       "      <th>8</th>\n",
       "      <td>Illinois</td>\n",
       "      <td>42583.0</td>\n",
       "      <td>Kentucky</td>\n",
       "      <td>853.0</td>\n",
       "    </tr>\n",
       "    <tr>\n",
       "      <th>9</th>\n",
       "      <td>Maine</td>\n",
       "      <td>5630.0</td>\n",
       "      <td>Louisiana</td>\n",
       "      <td>8914.0</td>\n",
       "    </tr>\n",
       "    <tr>\n",
       "      <th>10</th>\n",
       "      <td>Maryland</td>\n",
       "      <td>28296.0</td>\n",
       "      <td>Missouri</td>\n",
       "      <td>12324.0</td>\n",
       "    </tr>\n",
       "    <tr>\n",
       "      <th>11</th>\n",
       "      <td>Massachusetts</td>\n",
       "      <td>43842.0</td>\n",
       "      <td>Montana</td>\n",
       "      <td>3063.0</td>\n",
       "    </tr>\n",
       "    <tr>\n",
       "      <th>12</th>\n",
       "      <td>Michigan</td>\n",
       "      <td>32801.0</td>\n",
       "      <td>Nebraska</td>\n",
       "      <td>4781.0</td>\n",
       "    </tr>\n",
       "    <tr>\n",
       "      <th>13</th>\n",
       "      <td>Minnesota</td>\n",
       "      <td>14836.0</td>\n",
       "      <td>North Carolina</td>\n",
       "      <td>29491.0</td>\n",
       "    </tr>\n",
       "    <tr>\n",
       "      <th>14</th>\n",
       "      <td>Nevada</td>\n",
       "      <td>6966.0</td>\n",
       "      <td>North Dakota</td>\n",
       "      <td>1793.0</td>\n",
       "    </tr>\n",
       "    <tr>\n",
       "      <th>15</th>\n",
       "      <td>New Hampshire</td>\n",
       "      <td>6149.0</td>\n",
       "      <td>Ohio</td>\n",
       "      <td>33250.0</td>\n",
       "    </tr>\n",
       "    <tr>\n",
       "      <th>16</th>\n",
       "      <td>New Jersey</td>\n",
       "      <td>58695.0</td>\n",
       "      <td>Oklahoma</td>\n",
       "      <td>4705.0</td>\n",
       "    </tr>\n",
       "    <tr>\n",
       "      <th>17</th>\n",
       "      <td>New Mexico</td>\n",
       "      <td>4065.0</td>\n",
       "      <td>South Carolina</td>\n",
       "      <td>15546.0</td>\n",
       "    </tr>\n",
       "    <tr>\n",
       "      <th>18</th>\n",
       "      <td>New York</td>\n",
       "      <td>108154.0</td>\n",
       "      <td>South Dakota</td>\n",
       "      <td>1899.0</td>\n",
       "    </tr>\n",
       "    <tr>\n",
       "      <th>19</th>\n",
       "      <td>Oregon</td>\n",
       "      <td>12011.0</td>\n",
       "      <td>Tennessee</td>\n",
       "      <td>19222.0</td>\n",
       "    </tr>\n",
       "    <tr>\n",
       "      <th>20</th>\n",
       "      <td>Pennsylvania</td>\n",
       "      <td>69833.0</td>\n",
       "      <td>Texas</td>\n",
       "      <td>61779.0</td>\n",
       "    </tr>\n",
       "    <tr>\n",
       "      <th>21</th>\n",
       "      <td>Rhode Island</td>\n",
       "      <td>7125.0</td>\n",
       "      <td>West Virginia</td>\n",
       "      <td>2965.0</td>\n",
       "    </tr>\n",
       "    <tr>\n",
       "      <th>22</th>\n",
       "      <td>Vermont</td>\n",
       "      <td>3339.0</td>\n",
       "      <td>Wyoming</td>\n",
       "      <td>2006.0</td>\n",
       "    </tr>\n",
       "    <tr>\n",
       "      <th>23</th>\n",
       "      <td>Virginia</td>\n",
       "      <td>36481.0</td>\n",
       "      <td>NaN</td>\n",
       "      <td>NaN</td>\n",
       "    </tr>\n",
       "    <tr>\n",
       "      <th>24</th>\n",
       "      <td>Washington</td>\n",
       "      <td>19606.0</td>\n",
       "      <td>NaN</td>\n",
       "      <td>NaN</td>\n",
       "    </tr>\n",
       "    <tr>\n",
       "      <th>25</th>\n",
       "      <td>Wisconsin</td>\n",
       "      <td>12753.0</td>\n",
       "      <td>NaN</td>\n",
       "      <td>NaN</td>\n",
       "    </tr>\n",
       "  </tbody>\n",
       "</table>\n",
       "</div>"
      ],
      "text/plain": [
       "              Blue State  Total Item/Bottle Count_Blue       Red State  \\\n",
       "0                Arizona                       16882.0         Alabama   \n",
       "1             California                      109697.0          Alaska   \n",
       "2               Colordao                       27844.0        Arkansas   \n",
       "3            Connecticut                       21934.0         Florida   \n",
       "4   District of Columbia                        8089.0           Idaho   \n",
       "5               Delaware                        2053.0         Indiana   \n",
       "6                Georgia                       31870.0            Iowa   \n",
       "7                 Hawaii                       11142.0          Kansas   \n",
       "8               Illinois                       42583.0        Kentucky   \n",
       "9                  Maine                        5630.0       Louisiana   \n",
       "10              Maryland                       28296.0        Missouri   \n",
       "11         Massachusetts                       43842.0         Montana   \n",
       "12              Michigan                       32801.0        Nebraska   \n",
       "13             Minnesota                       14836.0  North Carolina   \n",
       "14                Nevada                        6966.0    North Dakota   \n",
       "15         New Hampshire                        6149.0            Ohio   \n",
       "16            New Jersey                       58695.0        Oklahoma   \n",
       "17            New Mexico                        4065.0  South Carolina   \n",
       "18              New York                      108154.0    South Dakota   \n",
       "19                Oregon                       12011.0       Tennessee   \n",
       "20          Pennsylvania                       69833.0           Texas   \n",
       "21          Rhode Island                        7125.0   West Virginia   \n",
       "22               Vermont                        3339.0         Wyoming   \n",
       "23              Virginia                       36481.0             NaN   \n",
       "24            Washington                       19606.0             NaN   \n",
       "25             Wisconsin                       12753.0             NaN   \n",
       "\n",
       "    Total Item/Bottle Count_Red  \n",
       "0                        1229.0  \n",
       "1                        2076.0  \n",
       "2                        5121.0  \n",
       "3                       79220.0  \n",
       "4                        3517.0  \n",
       "5                       15893.0  \n",
       "6                        5918.0  \n",
       "7                        7216.0  \n",
       "8                         853.0  \n",
       "9                        8914.0  \n",
       "10                      12324.0  \n",
       "11                       3063.0  \n",
       "12                       4781.0  \n",
       "13                      29491.0  \n",
       "14                       1793.0  \n",
       "15                      33250.0  \n",
       "16                       4705.0  \n",
       "17                      15546.0  \n",
       "18                       1899.0  \n",
       "19                      19222.0  \n",
       "20                      61779.0  \n",
       "21                       2965.0  \n",
       "22                       2006.0  \n",
       "23                          NaN  \n",
       "24                          NaN  \n",
       "25                          NaN  "
      ]
     },
     "execution_count": 157,
     "metadata": {},
     "output_type": "execute_result"
    }
   ],
   "source": [
    "joined_blueandred = total_bottle_count_by_blue_state.join(total_bottle_count_by_red_state, \n",
    "                                                          lsuffix='_Blue', rsuffix='_Red')\n",
    "joined_blueandred"
   ]
  },
  {
   "cell_type": "code",
   "execution_count": 158,
   "id": "1b06defa",
   "metadata": {},
   "outputs": [],
   "source": [
    "#Export total_bottle_count_by_blue_state to .csv\n",
    "joined_blueandred.to_csv('Resources/2021_joined_blueandred.csv')"
   ]
  },
  {
   "cell_type": "markdown",
   "id": "770f424f",
   "metadata": {},
   "source": [
    "## Total Wine Sales by State"
   ]
  },
  {
   "cell_type": "code",
   "execution_count": null,
   "id": "b2a882ae",
   "metadata": {},
   "outputs": [],
   "source": [
    "# Which state consumed the most wine?"
   ]
  },
  {
   "cell_type": "code",
   "execution_count": 159,
   "id": "2c76d24f",
   "metadata": {},
   "outputs": [],
   "source": [
    "# Adding a list of values with keys to create a new DataFrame.\n",
    "S = {'State': ['Alabama', 'Alaska', 'Arizona', 'Arkansas', 'California', 'Colordao', 'Connecticut', \n",
    "               'District of Columbia', 'Delaware', 'Florida', 'Georgia', 'Hawaii', 'Idaho', 'Illinois',\n",
    "               'Indiana', 'Iowa', 'Kansas', 'Kentucky', 'Louisiana', 'Maine', 'Maryland', 'Massachusetts',\n",
    "               'Michigan', 'Minnesota', 'Missouri', 'Montana', 'Nebraska', 'Nevada',\n",
    "              'New Hampshire', 'New Jersey', 'New Mexico', 'New York', 'North Carolina', 'North Dakota', 'Ohio',\n",
    "              'Oklahoma', 'Oregon', 'Pennsylvania', 'Rhode Island', 'South Carolina', 'South Dakota', 'Tennessee', \n",
    "              'Texas', 'Vermont', 'Virginia', 'Washington', 'West Virginia', 'Wisconsin', 'Wyoming'],\n",
    "     'Total Item/Bottle Count': [Alabama[\"Item/Bottle Count\"].sum(), \n",
    "            Alaska[\"Item/Bottle Count\"].sum(), \n",
    "            Arizona[\"Item/Bottle Count\"].sum(), \n",
    "            Arkansas[\"Item/Bottle Count\"].sum(), \n",
    "            California[\"Item/Bottle Count\"].sum(),\n",
    "            Colorado[\"Item/Bottle Count\"].sum(),\n",
    "            Connecticut[\"Item/Bottle Count\"].sum(),\n",
    "            DC[\"Item/Bottle Count\"].sum(),\n",
    "            Delaware[\"Item/Bottle Count\"].sum(),\n",
    "            Florida[\"Item/Bottle Count\"].sum(),\n",
    "            Georgia[\"Item/Bottle Count\"].sum(),\n",
    "            Hawaii[\"Item/Bottle Count\"].sum(),\n",
    "            Idaho[\"Item/Bottle Count\"].sum(),\n",
    "            Illinois[\"Item/Bottle Count\"].sum(),\n",
    "            Indiana[\"Item/Bottle Count\"].sum(),\n",
    "            Iowa[\"Item/Bottle Count\"].sum(),\n",
    "            Kansas[\"Item/Bottle Count\"].sum(),\n",
    "            Kentucky[\"Item/Bottle Count\"].sum(),\n",
    "            Louisiana[\"Item/Bottle Count\"].sum(),\n",
    "            Maine[\"Item/Bottle Count\"].sum(),\n",
    "            Maryland[\"Item/Bottle Count\"].sum(),\n",
    "            Massachusetts[\"Item/Bottle Count\"].sum(),\n",
    "            Michigan[\"Item/Bottle Count\"].sum(),\n",
    "            Minnesota[\"Item/Bottle Count\"].sum(),\n",
    "            Missouri[\"Item/Bottle Count\"].sum(),\n",
    "            Montana[\"Item/Bottle Count\"].sum(),\n",
    "            Nebraska[\"Item/Bottle Count\"].sum(),\n",
    "            Nevada[\"Item/Bottle Count\"].sum(),\n",
    "            New_Hampshire[\"Item/Bottle Count\"].sum(),\n",
    "            New_Jersey[\"Item/Bottle Count\"].sum(),\n",
    "            New_Mexico[\"Item/Bottle Count\"].sum(),\n",
    "            New_York[\"Item/Bottle Count\"].sum(),\n",
    "            North_Carolina[\"Item/Bottle Count\"].sum(),\n",
    "            North_Dakota[\"Item/Bottle Count\"].sum(),\n",
    "            Ohio[\"Item/Bottle Count\"].sum(),\n",
    "            Oklahoma[\"Item/Bottle Count\"].sum(),\n",
    "            Oregon[\"Item/Bottle Count\"].sum(),\n",
    "            Pennsylvania[\"Item/Bottle Count\"].sum(),\n",
    "            Rhode_Island[\"Item/Bottle Count\"].sum(),\n",
    "            South_Carolina[\"Item/Bottle Count\"].sum(),\n",
    "            South_Dakota[\"Item/Bottle Count\"].sum(),\n",
    "            Tennessee[\"Item/Bottle Count\"].sum(),\n",
    "            Texas[\"Item/Bottle Count\"].sum(),\n",
    "            Vermont[\"Item/Bottle Count\"].sum(),\n",
    "            Virginia[\"Item/Bottle Count\"].sum(),\n",
    "            Washington[\"Item/Bottle Count\"].sum(),\n",
    "            West_Virginia[\"Item/Bottle Count\"].sum(),\n",
    "            Wisconsin[\"Item/Bottle Count\"].sum(),\n",
    "            Wyoming[\"Item/Bottle Count\"].sum()]}"
   ]
  },
  {
   "cell_type": "code",
   "execution_count": 160,
   "id": "2e725085",
   "metadata": {},
   "outputs": [],
   "source": [
    "total_bottle_count_by_state = pd.DataFrame.from_dict(data=S)\n",
    "#total_bottle_count_by_state"
   ]
  },
  {
   "cell_type": "code",
   "execution_count": 161,
   "id": "2bbe052c",
   "metadata": {},
   "outputs": [
    {
     "data": {
      "text/html": [
       "<div>\n",
       "<style scoped>\n",
       "    .dataframe tbody tr th:only-of-type {\n",
       "        vertical-align: middle;\n",
       "    }\n",
       "\n",
       "    .dataframe tbody tr th {\n",
       "        vertical-align: top;\n",
       "    }\n",
       "\n",
       "    .dataframe thead th {\n",
       "        text-align: right;\n",
       "    }\n",
       "</style>\n",
       "<table border=\"1\" class=\"dataframe\">\n",
       "  <thead>\n",
       "    <tr style=\"text-align: right;\">\n",
       "      <th></th>\n",
       "      <th>State</th>\n",
       "      <th>Total Item/Bottle Count</th>\n",
       "    </tr>\n",
       "  </thead>\n",
       "  <tbody>\n",
       "    <tr>\n",
       "      <th>0</th>\n",
       "      <td>Alabama</td>\n",
       "      <td>1229.0</td>\n",
       "    </tr>\n",
       "    <tr>\n",
       "      <th>1</th>\n",
       "      <td>Alaska</td>\n",
       "      <td>2076.0</td>\n",
       "    </tr>\n",
       "    <tr>\n",
       "      <th>2</th>\n",
       "      <td>Arizona</td>\n",
       "      <td>16882.0</td>\n",
       "    </tr>\n",
       "    <tr>\n",
       "      <th>3</th>\n",
       "      <td>Arkansas</td>\n",
       "      <td>5121.0</td>\n",
       "    </tr>\n",
       "    <tr>\n",
       "      <th>4</th>\n",
       "      <td>California</td>\n",
       "      <td>109697.0</td>\n",
       "    </tr>\n",
       "    <tr>\n",
       "      <th>5</th>\n",
       "      <td>Colordao</td>\n",
       "      <td>27844.0</td>\n",
       "    </tr>\n",
       "    <tr>\n",
       "      <th>6</th>\n",
       "      <td>Connecticut</td>\n",
       "      <td>21934.0</td>\n",
       "    </tr>\n",
       "    <tr>\n",
       "      <th>7</th>\n",
       "      <td>District of Columbia</td>\n",
       "      <td>8089.0</td>\n",
       "    </tr>\n",
       "    <tr>\n",
       "      <th>8</th>\n",
       "      <td>Delaware</td>\n",
       "      <td>2053.0</td>\n",
       "    </tr>\n",
       "    <tr>\n",
       "      <th>9</th>\n",
       "      <td>Florida</td>\n",
       "      <td>79220.0</td>\n",
       "    </tr>\n",
       "    <tr>\n",
       "      <th>10</th>\n",
       "      <td>Georgia</td>\n",
       "      <td>31870.0</td>\n",
       "    </tr>\n",
       "    <tr>\n",
       "      <th>11</th>\n",
       "      <td>Hawaii</td>\n",
       "      <td>11142.0</td>\n",
       "    </tr>\n",
       "    <tr>\n",
       "      <th>12</th>\n",
       "      <td>Idaho</td>\n",
       "      <td>3517.0</td>\n",
       "    </tr>\n",
       "    <tr>\n",
       "      <th>13</th>\n",
       "      <td>Illinois</td>\n",
       "      <td>42583.0</td>\n",
       "    </tr>\n",
       "    <tr>\n",
       "      <th>14</th>\n",
       "      <td>Indiana</td>\n",
       "      <td>15893.0</td>\n",
       "    </tr>\n",
       "    <tr>\n",
       "      <th>15</th>\n",
       "      <td>Iowa</td>\n",
       "      <td>5918.0</td>\n",
       "    </tr>\n",
       "    <tr>\n",
       "      <th>16</th>\n",
       "      <td>Kansas</td>\n",
       "      <td>7216.0</td>\n",
       "    </tr>\n",
       "    <tr>\n",
       "      <th>17</th>\n",
       "      <td>Kentucky</td>\n",
       "      <td>853.0</td>\n",
       "    </tr>\n",
       "    <tr>\n",
       "      <th>18</th>\n",
       "      <td>Louisiana</td>\n",
       "      <td>8914.0</td>\n",
       "    </tr>\n",
       "    <tr>\n",
       "      <th>19</th>\n",
       "      <td>Maine</td>\n",
       "      <td>5630.0</td>\n",
       "    </tr>\n",
       "    <tr>\n",
       "      <th>20</th>\n",
       "      <td>Maryland</td>\n",
       "      <td>28296.0</td>\n",
       "    </tr>\n",
       "    <tr>\n",
       "      <th>21</th>\n",
       "      <td>Massachusetts</td>\n",
       "      <td>43842.0</td>\n",
       "    </tr>\n",
       "    <tr>\n",
       "      <th>22</th>\n",
       "      <td>Michigan</td>\n",
       "      <td>32801.0</td>\n",
       "    </tr>\n",
       "    <tr>\n",
       "      <th>23</th>\n",
       "      <td>Minnesota</td>\n",
       "      <td>14836.0</td>\n",
       "    </tr>\n",
       "    <tr>\n",
       "      <th>24</th>\n",
       "      <td>Missouri</td>\n",
       "      <td>12324.0</td>\n",
       "    </tr>\n",
       "    <tr>\n",
       "      <th>25</th>\n",
       "      <td>Montana</td>\n",
       "      <td>3063.0</td>\n",
       "    </tr>\n",
       "    <tr>\n",
       "      <th>26</th>\n",
       "      <td>Nebraska</td>\n",
       "      <td>4781.0</td>\n",
       "    </tr>\n",
       "    <tr>\n",
       "      <th>27</th>\n",
       "      <td>Nevada</td>\n",
       "      <td>6966.0</td>\n",
       "    </tr>\n",
       "    <tr>\n",
       "      <th>28</th>\n",
       "      <td>New Hampshire</td>\n",
       "      <td>6149.0</td>\n",
       "    </tr>\n",
       "    <tr>\n",
       "      <th>29</th>\n",
       "      <td>New Jersey</td>\n",
       "      <td>58695.0</td>\n",
       "    </tr>\n",
       "    <tr>\n",
       "      <th>30</th>\n",
       "      <td>New Mexico</td>\n",
       "      <td>4065.0</td>\n",
       "    </tr>\n",
       "    <tr>\n",
       "      <th>31</th>\n",
       "      <td>New York</td>\n",
       "      <td>108154.0</td>\n",
       "    </tr>\n",
       "    <tr>\n",
       "      <th>32</th>\n",
       "      <td>North Carolina</td>\n",
       "      <td>29491.0</td>\n",
       "    </tr>\n",
       "    <tr>\n",
       "      <th>33</th>\n",
       "      <td>North Dakota</td>\n",
       "      <td>1793.0</td>\n",
       "    </tr>\n",
       "    <tr>\n",
       "      <th>34</th>\n",
       "      <td>Ohio</td>\n",
       "      <td>33250.0</td>\n",
       "    </tr>\n",
       "    <tr>\n",
       "      <th>35</th>\n",
       "      <td>Oklahoma</td>\n",
       "      <td>4705.0</td>\n",
       "    </tr>\n",
       "    <tr>\n",
       "      <th>36</th>\n",
       "      <td>Oregon</td>\n",
       "      <td>12011.0</td>\n",
       "    </tr>\n",
       "    <tr>\n",
       "      <th>37</th>\n",
       "      <td>Pennsylvania</td>\n",
       "      <td>69833.0</td>\n",
       "    </tr>\n",
       "    <tr>\n",
       "      <th>38</th>\n",
       "      <td>Rhode Island</td>\n",
       "      <td>7125.0</td>\n",
       "    </tr>\n",
       "    <tr>\n",
       "      <th>39</th>\n",
       "      <td>South Carolina</td>\n",
       "      <td>15546.0</td>\n",
       "    </tr>\n",
       "    <tr>\n",
       "      <th>40</th>\n",
       "      <td>South Dakota</td>\n",
       "      <td>1899.0</td>\n",
       "    </tr>\n",
       "    <tr>\n",
       "      <th>41</th>\n",
       "      <td>Tennessee</td>\n",
       "      <td>19222.0</td>\n",
       "    </tr>\n",
       "    <tr>\n",
       "      <th>42</th>\n",
       "      <td>Texas</td>\n",
       "      <td>61779.0</td>\n",
       "    </tr>\n",
       "    <tr>\n",
       "      <th>43</th>\n",
       "      <td>Vermont</td>\n",
       "      <td>3339.0</td>\n",
       "    </tr>\n",
       "    <tr>\n",
       "      <th>44</th>\n",
       "      <td>Virginia</td>\n",
       "      <td>36481.0</td>\n",
       "    </tr>\n",
       "    <tr>\n",
       "      <th>45</th>\n",
       "      <td>Washington</td>\n",
       "      <td>19606.0</td>\n",
       "    </tr>\n",
       "    <tr>\n",
       "      <th>46</th>\n",
       "      <td>West Virginia</td>\n",
       "      <td>2965.0</td>\n",
       "    </tr>\n",
       "    <tr>\n",
       "      <th>47</th>\n",
       "      <td>Wisconsin</td>\n",
       "      <td>12753.0</td>\n",
       "    </tr>\n",
       "    <tr>\n",
       "      <th>48</th>\n",
       "      <td>Wyoming</td>\n",
       "      <td>2006.0</td>\n",
       "    </tr>\n",
       "  </tbody>\n",
       "</table>\n",
       "</div>"
      ],
      "text/plain": [
       "                   State  Total Item/Bottle Count\n",
       "0                Alabama                   1229.0\n",
       "1                 Alaska                   2076.0\n",
       "2                Arizona                  16882.0\n",
       "3               Arkansas                   5121.0\n",
       "4             California                 109697.0\n",
       "5               Colordao                  27844.0\n",
       "6            Connecticut                  21934.0\n",
       "7   District of Columbia                   8089.0\n",
       "8               Delaware                   2053.0\n",
       "9                Florida                  79220.0\n",
       "10               Georgia                  31870.0\n",
       "11                Hawaii                  11142.0\n",
       "12                 Idaho                   3517.0\n",
       "13              Illinois                  42583.0\n",
       "14               Indiana                  15893.0\n",
       "15                  Iowa                   5918.0\n",
       "16                Kansas                   7216.0\n",
       "17              Kentucky                    853.0\n",
       "18             Louisiana                   8914.0\n",
       "19                 Maine                   5630.0\n",
       "20              Maryland                  28296.0\n",
       "21         Massachusetts                  43842.0\n",
       "22              Michigan                  32801.0\n",
       "23             Minnesota                  14836.0\n",
       "24              Missouri                  12324.0\n",
       "25               Montana                   3063.0\n",
       "26              Nebraska                   4781.0\n",
       "27                Nevada                   6966.0\n",
       "28         New Hampshire                   6149.0\n",
       "29            New Jersey                  58695.0\n",
       "30            New Mexico                   4065.0\n",
       "31              New York                 108154.0\n",
       "32        North Carolina                  29491.0\n",
       "33          North Dakota                   1793.0\n",
       "34                  Ohio                  33250.0\n",
       "35              Oklahoma                   4705.0\n",
       "36                Oregon                  12011.0\n",
       "37          Pennsylvania                  69833.0\n",
       "38          Rhode Island                   7125.0\n",
       "39        South Carolina                  15546.0\n",
       "40          South Dakota                   1899.0\n",
       "41             Tennessee                  19222.0\n",
       "42                 Texas                  61779.0\n",
       "43               Vermont                   3339.0\n",
       "44              Virginia                  36481.0\n",
       "45            Washington                  19606.0\n",
       "46         West Virginia                   2965.0\n",
       "47             Wisconsin                  12753.0\n",
       "48               Wyoming                   2006.0"
      ]
     },
     "execution_count": 161,
     "metadata": {},
     "output_type": "execute_result"
    }
   ],
   "source": [
    "#Sort df to show largest count first.\n",
    "#I'm not sure why this isn't sorting.\n",
    "total_bottle_count_by_state.sort_values('Total Item/Bottle Count')\n",
    "total_bottle_count_by_state"
   ]
  },
  {
   "cell_type": "code",
   "execution_count": 162,
   "id": "312499c7",
   "metadata": {},
   "outputs": [
    {
     "name": "stdout",
     "output_type": "stream",
     "text": [
      "        State  Total Item/Bottle Count\n",
      "4  California                 109697.0\n"
     ]
    }
   ],
   "source": [
    "#Print the highest bottle count by state\n",
    "print(total_bottle_count_by_state[total_bottle_count_by_state[\"Total Item/Bottle Count\"] == \n",
    "                                  total_bottle_count_by_state[\"Total Item/Bottle Count\"].max()])"
   ]
  },
  {
   "cell_type": "code",
   "execution_count": 163,
   "id": "e542ec9c",
   "metadata": {},
   "outputs": [
    {
     "name": "stdout",
     "output_type": "stream",
     "text": [
      "       State  Total Item/Bottle Count\n",
      "17  Kentucky                    853.0\n"
     ]
    }
   ],
   "source": [
    "#Print the lowest bottle count by state\n",
    "print(total_bottle_count_by_state[total_bottle_count_by_state[\"Total Item/Bottle Count\"] == \n",
    "                                  total_bottle_count_by_state[\"Total Item/Bottle Count\"].min()])"
   ]
  },
  {
   "cell_type": "code",
   "execution_count": null,
   "id": "911c3826",
   "metadata": {},
   "outputs": [],
   "source": [
    "# How many items/bottles per month have been purchased in each state from January 2020 to December 2021?\n",
    "# How many items/bottls per month 01/2020 - 12/2021\n",
    "# How many items/bottles per state then per month"
   ]
  },
  {
   "cell_type": "code",
   "execution_count": null,
   "id": "b57dfe9a",
   "metadata": {},
   "outputs": [],
   "source": [
    "# Is there a time of year where wine shipments increased? For example, during the holidays or during COVID stay-at-home orders?"
   ]
  },
  {
   "cell_type": "markdown",
   "id": "67f137a3",
   "metadata": {},
   "source": [
    "## Stay At Home Mandates"
   ]
  },
  {
   "cell_type": "code",
   "execution_count": null,
   "id": "af6c345c",
   "metadata": {},
   "outputs": [],
   "source": [
    "# How do wine shipments compare between states that had stay at home orders issued vs states that did not?\n",
    "    #Create a dataframe with data from states that issued stay at home orders\n",
    "    #Create a dataframe with data from states that did not issue stay at home orders\n",
    "    #Generate summary statistics for each data frame \n",
    "    #Convert each summary stat list to a data frame\n",
    "    #Merge the two summary statistic data frames to create a visual side-by-side comparison"
   ]
  },
  {
   "cell_type": "markdown",
   "id": "ba5019e7",
   "metadata": {},
   "source": [
    "## Working syntax"
   ]
  },
  {
   "cell_type": "code",
   "execution_count": null,
   "id": "6096da47",
   "metadata": {},
   "outputs": [],
   "source": [
    "# Set the x-axis to a list of strings for each month.\n",
    "x_axis = total_bottle_count_by_state[\"State\"]\n",
    "\n",
    "# Set the y-axis to a list of floats as the Item/Bottle Count for each month.\n",
    "y_axis = total_bottle_count_by_state[\"Total Item/Bottle Count\"]"
   ]
  },
  {
   "cell_type": "code",
   "execution_count": null,
   "id": "059f5a55",
   "metadata": {},
   "outputs": [],
   "source": [
    "plt.pie(y_axis, labels=x_axis)\n",
    "plt.show()"
   ]
  },
  {
   "cell_type": "code",
   "execution_count": null,
   "id": "56e02eea",
   "metadata": {
    "scrolled": false
   },
   "outputs": [],
   "source": [
    "plt.subplots(figsize=(25, 25))\n",
    "explode_values = (0, 0, 0, 0, 0.2, 0, 0, 0, 0, 0, 0, 0, 0, 0, 0, 0, 0, 0, 0, 0, 0, 0, 0, 0, 0, 0, 0, 0, 0, 0, 0, 0, 0, 0, 0, 0, 0, 0, 0, 0, 0, 0, 0, 0, 0, 0, 0, 0, 0, 0, 0, )\n",
    "plt.pie(y_axis, explode=explode_values, labels=x_axis, autopct='%.1f%%')\n"
   ]
  },
  {
   "cell_type": "code",
   "execution_count": null,
   "id": "1d0b0793",
   "metadata": {},
   "outputs": [],
   "source": [
    "# Which state saw the most significant change in wine consumption? From 2020-2021"
   ]
  }
 ],
 "metadata": {
  "kernelspec": {
   "display_name": "Python 3 (ipykernel)",
   "language": "python",
   "name": "python3"
  },
  "language_info": {
   "codemirror_mode": {
    "name": "ipython",
    "version": 3
   },
   "file_extension": ".py",
   "mimetype": "text/x-python",
   "name": "python",
   "nbconvert_exporter": "python",
   "pygments_lexer": "ipython3",
   "version": "3.7.13"
  }
 },
 "nbformat": 4,
 "nbformat_minor": 5
}
