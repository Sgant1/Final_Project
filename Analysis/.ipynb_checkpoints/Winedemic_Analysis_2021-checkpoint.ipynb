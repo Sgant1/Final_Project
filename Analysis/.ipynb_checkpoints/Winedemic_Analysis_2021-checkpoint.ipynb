{
 "cells": [
  {
   "cell_type": "markdown",
   "id": "b28d77ec",
   "metadata": {},
   "source": [
    "## Import Dependencies, Read CSV and Create Dataframes."
   ]
  },
  {
   "cell_type": "code",
   "execution_count": 2,
   "id": "25060bae",
   "metadata": {},
   "outputs": [],
   "source": [
    "#Pandas library to create DataFrames\n",
    "import pandas as pd\n",
    "#NumPy library for converting data types\n",
    "import numpy as np\n",
    "import matplotlib\n",
    "matplotlib.__version__\n",
    "%matplotlib inline\n",
    "import matplotlib.pyplot as plt"
   ]
  },
  {
   "cell_type": "code",
   "execution_count": 3,
   "id": "10911d7e",
   "metadata": {},
   "outputs": [],
   "source": [
    "load_states = \"../state_covid_info/Complete_states.csv\"\n",
    "load_2021 = \"../data_frame/Complete_annual_dataframes/Complete_2021.csv\""
   ]
  },
  {
   "cell_type": "code",
   "execution_count": 4,
   "id": "ac5c9a47",
   "metadata": {},
   "outputs": [
    {
     "data": {
      "text/html": [
       "<div>\n",
       "<style scoped>\n",
       "    .dataframe tbody tr th:only-of-type {\n",
       "        vertical-align: middle;\n",
       "    }\n",
       "\n",
       "    .dataframe tbody tr th {\n",
       "        vertical-align: top;\n",
       "    }\n",
       "\n",
       "    .dataframe thead th {\n",
       "        text-align: right;\n",
       "    }\n",
       "</style>\n",
       "<table border=\"1\" class=\"dataframe\">\n",
       "  <thead>\n",
       "    <tr style=\"text-align: right;\">\n",
       "      <th></th>\n",
       "      <th>State</th>\n",
       "      <th>Population</th>\n",
       "      <th>Lockdown Start</th>\n",
       "      <th>Initial Expected Lockdown End</th>\n",
       "      <th>Phase 1 Re-Opening Start</th>\n",
       "      <th>Political Alignment</th>\n",
       "    </tr>\n",
       "  </thead>\n",
       "  <tbody>\n",
       "    <tr>\n",
       "      <th>0</th>\n",
       "      <td>AK</td>\n",
       "      <td>731,545</td>\n",
       "      <td>3/23/2020</td>\n",
       "      <td>3/30/2020</td>\n",
       "      <td>4/24/2020</td>\n",
       "      <td>Red</td>\n",
       "    </tr>\n",
       "    <tr>\n",
       "      <th>1</th>\n",
       "      <td>AL</td>\n",
       "      <td>4,903,185</td>\n",
       "      <td>4/4/2020</td>\n",
       "      <td>4/30/2020</td>\n",
       "      <td>4/30/2020</td>\n",
       "      <td>Red</td>\n",
       "    </tr>\n",
       "    <tr>\n",
       "      <th>2</th>\n",
       "      <td>AR</td>\n",
       "      <td>3,017,804</td>\n",
       "      <td>3/15/2020</td>\n",
       "      <td>3/27/2020</td>\n",
       "      <td>6/5/2020</td>\n",
       "      <td>Red</td>\n",
       "    </tr>\n",
       "    <tr>\n",
       "      <th>3</th>\n",
       "      <td>AZ</td>\n",
       "      <td>7,278,717</td>\n",
       "      <td>4/30/2020</td>\n",
       "      <td>5/15/2020</td>\n",
       "      <td>5/18/2020</td>\n",
       "      <td>Blue</td>\n",
       "    </tr>\n",
       "    <tr>\n",
       "      <th>4</th>\n",
       "      <td>CA</td>\n",
       "      <td>39,512,223</td>\n",
       "      <td>3/19/2020</td>\n",
       "      <td>4/2/2020</td>\n",
       "      <td>5/13/2020</td>\n",
       "      <td>Blue</td>\n",
       "    </tr>\n",
       "  </tbody>\n",
       "</table>\n",
       "</div>"
      ],
      "text/plain": [
       "  State  Population Lockdown Start Initial Expected Lockdown End  \\\n",
       "0    AK     731,545      3/23/2020                     3/30/2020   \n",
       "1    AL   4,903,185       4/4/2020                     4/30/2020   \n",
       "2    AR   3,017,804      3/15/2020                     3/27/2020   \n",
       "3    AZ   7,278,717      4/30/2020                     5/15/2020   \n",
       "4    CA  39,512,223      3/19/2020                      4/2/2020   \n",
       "\n",
       "  Phase 1 Re-Opening Start Political Alignment  \n",
       "0                4/24/2020                 Red  \n",
       "1                4/30/2020                 Red  \n",
       "2                 6/5/2020                 Red  \n",
       "3                5/18/2020                Blue  \n",
       "4                5/13/2020                Blue  "
      ]
     },
     "execution_count": 4,
     "metadata": {},
     "output_type": "execute_result"
    }
   ],
   "source": [
    "states_df = pd.read_csv(load_states)\n",
    "states_df.head()"
   ]
  },
  {
   "cell_type": "code",
   "execution_count": 7,
   "id": "1178cf2f",
   "metadata": {},
   "outputs": [
    {
     "data": {
      "text/html": [
       "<div>\n",
       "<style scoped>\n",
       "    .dataframe tbody tr th:only-of-type {\n",
       "        vertical-align: middle;\n",
       "    }\n",
       "\n",
       "    .dataframe tbody tr th {\n",
       "        vertical-align: top;\n",
       "    }\n",
       "\n",
       "    .dataframe thead th {\n",
       "        text-align: right;\n",
       "    }\n",
       "</style>\n",
       "<table border=\"1\" class=\"dataframe\">\n",
       "  <thead>\n",
       "    <tr style=\"text-align: right;\">\n",
       "      <th></th>\n",
       "      <th>Order Number</th>\n",
       "      <th>Company Name</th>\n",
       "      <th>Ship Date</th>\n",
       "      <th>City</th>\n",
       "      <th>State</th>\n",
       "      <th>Zip</th>\n",
       "      <th>Shipping Service</th>\n",
       "      <th>Created Date</th>\n",
       "      <th>Weight</th>\n",
       "      <th>Item/Bottle Count</th>\n",
       "    </tr>\n",
       "  </thead>\n",
       "  <tbody>\n",
       "    <tr>\n",
       "      <th>0</th>\n",
       "      <td>0</td>\n",
       "      <td>Ecom1</td>\n",
       "      <td>1/4/2021</td>\n",
       "      <td>Pleasant Prairie</td>\n",
       "      <td>WI</td>\n",
       "      <td>53158</td>\n",
       "      <td>FEH</td>\n",
       "      <td>12/7/2020</td>\n",
       "      <td>10.5</td>\n",
       "      <td>3.0</td>\n",
       "    </tr>\n",
       "    <tr>\n",
       "      <th>1</th>\n",
       "      <td>1</td>\n",
       "      <td>Ecom1</td>\n",
       "      <td>1/5/2021</td>\n",
       "      <td>Beaverton</td>\n",
       "      <td>OR</td>\n",
       "      <td>97005</td>\n",
       "      <td>FEH</td>\n",
       "      <td>12/23/2020</td>\n",
       "      <td>10.5</td>\n",
       "      <td>3.0</td>\n",
       "    </tr>\n",
       "    <tr>\n",
       "      <th>2</th>\n",
       "      <td>2</td>\n",
       "      <td>Ecom1</td>\n",
       "      <td>1/5/2021</td>\n",
       "      <td>Edison</td>\n",
       "      <td>NJ</td>\n",
       "      <td>8820</td>\n",
       "      <td>FEH</td>\n",
       "      <td>12/24/2020</td>\n",
       "      <td>6.5</td>\n",
       "      <td>1.0</td>\n",
       "    </tr>\n",
       "    <tr>\n",
       "      <th>3</th>\n",
       "      <td>3</td>\n",
       "      <td>Ecom1</td>\n",
       "      <td>1/5/2021</td>\n",
       "      <td>Jersey city</td>\n",
       "      <td>NJ</td>\n",
       "      <td>7302</td>\n",
       "      <td>FEH</td>\n",
       "      <td>12/24/2020</td>\n",
       "      <td>6.5</td>\n",
       "      <td>1.0</td>\n",
       "    </tr>\n",
       "    <tr>\n",
       "      <th>4</th>\n",
       "      <td>4</td>\n",
       "      <td>Ecom1</td>\n",
       "      <td>1/5/2021</td>\n",
       "      <td>Stoughton</td>\n",
       "      <td>MA</td>\n",
       "      <td>2072</td>\n",
       "      <td>FEH</td>\n",
       "      <td>12/24/2020</td>\n",
       "      <td>6.5</td>\n",
       "      <td>1.0</td>\n",
       "    </tr>\n",
       "  </tbody>\n",
       "</table>\n",
       "</div>"
      ],
      "text/plain": [
       "   Order Number Company Name Ship Date              City State    Zip  \\\n",
       "0             0        Ecom1  1/4/2021  Pleasant Prairie    WI  53158   \n",
       "1             1        Ecom1  1/5/2021         Beaverton    OR  97005   \n",
       "2             2        Ecom1  1/5/2021            Edison    NJ   8820   \n",
       "3             3        Ecom1  1/5/2021       Jersey city    NJ   7302   \n",
       "4             4        Ecom1  1/5/2021         Stoughton    MA   2072   \n",
       "\n",
       "  Shipping Service Created Date  Weight  Item/Bottle Count  \n",
       "0              FEH    12/7/2020    10.5                3.0  \n",
       "1              FEH   12/23/2020    10.5                3.0  \n",
       "2              FEH   12/24/2020     6.5                1.0  \n",
       "3              FEH   12/24/2020     6.5                1.0  \n",
       "4              FEH   12/24/2020     6.5                1.0  "
      ]
     },
     "execution_count": 7,
     "metadata": {},
     "output_type": "execute_result"
    }
   ],
   "source": [
    "#If I set the Index as \"State\" here, an extra column named \"Unammed:0\" populates. \n",
    "df_2021 = pd.read_csv(load_2021, index_col=[0])\n",
    "df_2021.head()"
   ]
  },
  {
   "cell_type": "code",
   "execution_count": 8,
   "id": "c5f48c04",
   "metadata": {},
   "outputs": [
    {
     "data": {
      "text/html": [
       "<div>\n",
       "<style scoped>\n",
       "    .dataframe tbody tr th:only-of-type {\n",
       "        vertical-align: middle;\n",
       "    }\n",
       "\n",
       "    .dataframe tbody tr th {\n",
       "        vertical-align: top;\n",
       "    }\n",
       "\n",
       "    .dataframe thead th {\n",
       "        text-align: right;\n",
       "    }\n",
       "</style>\n",
       "<table border=\"1\" class=\"dataframe\">\n",
       "  <thead>\n",
       "    <tr style=\"text-align: right;\">\n",
       "      <th></th>\n",
       "      <th>Order Number</th>\n",
       "      <th>Company Name</th>\n",
       "      <th>Ship Date</th>\n",
       "      <th>City</th>\n",
       "      <th>Zip</th>\n",
       "      <th>Shipping Service</th>\n",
       "      <th>Created Date</th>\n",
       "      <th>Weight</th>\n",
       "      <th>Item/Bottle Count</th>\n",
       "    </tr>\n",
       "    <tr>\n",
       "      <th>State</th>\n",
       "      <th></th>\n",
       "      <th></th>\n",
       "      <th></th>\n",
       "      <th></th>\n",
       "      <th></th>\n",
       "      <th></th>\n",
       "      <th></th>\n",
       "      <th></th>\n",
       "      <th></th>\n",
       "    </tr>\n",
       "  </thead>\n",
       "  <tbody>\n",
       "    <tr>\n",
       "      <th>WI</th>\n",
       "      <td>0</td>\n",
       "      <td>Ecom1</td>\n",
       "      <td>1/4/2021</td>\n",
       "      <td>Pleasant Prairie</td>\n",
       "      <td>53158</td>\n",
       "      <td>FEH</td>\n",
       "      <td>12/7/2020</td>\n",
       "      <td>10.5</td>\n",
       "      <td>3.0</td>\n",
       "    </tr>\n",
       "    <tr>\n",
       "      <th>OR</th>\n",
       "      <td>1</td>\n",
       "      <td>Ecom1</td>\n",
       "      <td>1/5/2021</td>\n",
       "      <td>Beaverton</td>\n",
       "      <td>97005</td>\n",
       "      <td>FEH</td>\n",
       "      <td>12/23/2020</td>\n",
       "      <td>10.5</td>\n",
       "      <td>3.0</td>\n",
       "    </tr>\n",
       "    <tr>\n",
       "      <th>NJ</th>\n",
       "      <td>2</td>\n",
       "      <td>Ecom1</td>\n",
       "      <td>1/5/2021</td>\n",
       "      <td>Edison</td>\n",
       "      <td>8820</td>\n",
       "      <td>FEH</td>\n",
       "      <td>12/24/2020</td>\n",
       "      <td>6.5</td>\n",
       "      <td>1.0</td>\n",
       "    </tr>\n",
       "    <tr>\n",
       "      <th>NJ</th>\n",
       "      <td>3</td>\n",
       "      <td>Ecom1</td>\n",
       "      <td>1/5/2021</td>\n",
       "      <td>Jersey city</td>\n",
       "      <td>7302</td>\n",
       "      <td>FEH</td>\n",
       "      <td>12/24/2020</td>\n",
       "      <td>6.5</td>\n",
       "      <td>1.0</td>\n",
       "    </tr>\n",
       "    <tr>\n",
       "      <th>MA</th>\n",
       "      <td>4</td>\n",
       "      <td>Ecom1</td>\n",
       "      <td>1/5/2021</td>\n",
       "      <td>Stoughton</td>\n",
       "      <td>2072</td>\n",
       "      <td>FEH</td>\n",
       "      <td>12/24/2020</td>\n",
       "      <td>6.5</td>\n",
       "      <td>1.0</td>\n",
       "    </tr>\n",
       "    <tr>\n",
       "      <th>...</th>\n",
       "      <td>...</td>\n",
       "      <td>...</td>\n",
       "      <td>...</td>\n",
       "      <td>...</td>\n",
       "      <td>...</td>\n",
       "      <td>...</td>\n",
       "      <td>...</td>\n",
       "      <td>...</td>\n",
       "      <td>...</td>\n",
       "    </tr>\n",
       "    <tr>\n",
       "      <th>IL</th>\n",
       "      <td>242646</td>\n",
       "      <td>Ecom2</td>\n",
       "      <td>12/30/2021</td>\n",
       "      <td>Oakwood</td>\n",
       "      <td>61858</td>\n",
       "      <td>FEH</td>\n",
       "      <td>12/30/2021</td>\n",
       "      <td>7.0</td>\n",
       "      <td>2.0</td>\n",
       "    </tr>\n",
       "    <tr>\n",
       "      <th>IL</th>\n",
       "      <td>242647</td>\n",
       "      <td>Ecom2</td>\n",
       "      <td>12/30/2021</td>\n",
       "      <td>Wonder Lake</td>\n",
       "      <td>60097</td>\n",
       "      <td>FEH</td>\n",
       "      <td>12/30/2021</td>\n",
       "      <td>7.0</td>\n",
       "      <td>2.0</td>\n",
       "    </tr>\n",
       "    <tr>\n",
       "      <th>MA</th>\n",
       "      <td>242648</td>\n",
       "      <td>Ecom2</td>\n",
       "      <td>12/30/2021</td>\n",
       "      <td>Charlestown</td>\n",
       "      <td>2129</td>\n",
       "      <td>UPS</td>\n",
       "      <td>12/30/2021</td>\n",
       "      <td>7.0</td>\n",
       "      <td>2.0</td>\n",
       "    </tr>\n",
       "    <tr>\n",
       "      <th>DC</th>\n",
       "      <td>242649</td>\n",
       "      <td>Ecom2</td>\n",
       "      <td>12/30/2021</td>\n",
       "      <td>Washington</td>\n",
       "      <td>20002</td>\n",
       "      <td>FEH</td>\n",
       "      <td>12/30/2021</td>\n",
       "      <td>7.0</td>\n",
       "      <td>2.0</td>\n",
       "    </tr>\n",
       "    <tr>\n",
       "      <th>FL</th>\n",
       "      <td>242650</td>\n",
       "      <td>Ecom2</td>\n",
       "      <td>12/30/2021</td>\n",
       "      <td>Delray Beach</td>\n",
       "      <td>33446</td>\n",
       "      <td>FEH</td>\n",
       "      <td>12/30/2021</td>\n",
       "      <td>7.0</td>\n",
       "      <td>2.0</td>\n",
       "    </tr>\n",
       "  </tbody>\n",
       "</table>\n",
       "<p>242651 rows × 9 columns</p>\n",
       "</div>"
      ],
      "text/plain": [
       "       Order Number Company Name   Ship Date              City    Zip  \\\n",
       "State                                                                   \n",
       "WI                0        Ecom1    1/4/2021  Pleasant Prairie  53158   \n",
       "OR                1        Ecom1    1/5/2021         Beaverton  97005   \n",
       "NJ                2        Ecom1    1/5/2021            Edison   8820   \n",
       "NJ                3        Ecom1    1/5/2021       Jersey city   7302   \n",
       "MA                4        Ecom1    1/5/2021         Stoughton   2072   \n",
       "...             ...          ...         ...               ...    ...   \n",
       "IL           242646        Ecom2  12/30/2021           Oakwood  61858   \n",
       "IL           242647        Ecom2  12/30/2021       Wonder Lake  60097   \n",
       "MA           242648        Ecom2  12/30/2021       Charlestown   2129   \n",
       "DC           242649        Ecom2  12/30/2021        Washington  20002   \n",
       "FL           242650        Ecom2  12/30/2021      Delray Beach  33446   \n",
       "\n",
       "      Shipping Service Created Date  Weight  Item/Bottle Count  \n",
       "State                                                           \n",
       "WI                 FEH    12/7/2020    10.5                3.0  \n",
       "OR                 FEH   12/23/2020    10.5                3.0  \n",
       "NJ                 FEH   12/24/2020     6.5                1.0  \n",
       "NJ                 FEH   12/24/2020     6.5                1.0  \n",
       "MA                 FEH   12/24/2020     6.5                1.0  \n",
       "...                ...          ...     ...                ...  \n",
       "IL                 FEH   12/30/2021     7.0                2.0  \n",
       "IL                 FEH   12/30/2021     7.0                2.0  \n",
       "MA                 UPS   12/30/2021     7.0                2.0  \n",
       "DC                 FEH   12/30/2021     7.0                2.0  \n",
       "FL                 FEH   12/30/2021     7.0                2.0  \n",
       "\n",
       "[242651 rows x 9 columns]"
      ]
     },
     "execution_count": 8,
     "metadata": {},
     "output_type": "execute_result"
    }
   ],
   "source": [
    "df_2021 = df_2021.set_index(\"State\")\n",
    "df_2021"
   ]
  },
  {
   "cell_type": "code",
   "execution_count": 9,
   "id": "53919cf2",
   "metadata": {},
   "outputs": [
    {
     "data": {
      "text/html": [
       "<div>\n",
       "<style scoped>\n",
       "    .dataframe tbody tr th:only-of-type {\n",
       "        vertical-align: middle;\n",
       "    }\n",
       "\n",
       "    .dataframe tbody tr th {\n",
       "        vertical-align: top;\n",
       "    }\n",
       "\n",
       "    .dataframe thead th {\n",
       "        text-align: right;\n",
       "    }\n",
       "</style>\n",
       "<table border=\"1\" class=\"dataframe\">\n",
       "  <thead>\n",
       "    <tr style=\"text-align: right;\">\n",
       "      <th></th>\n",
       "      <th>Order Number</th>\n",
       "      <th>Company Name</th>\n",
       "      <th>Ship Date</th>\n",
       "      <th>City</th>\n",
       "      <th>Zip</th>\n",
       "      <th>Shipping Service</th>\n",
       "      <th>Created Date</th>\n",
       "      <th>Weight</th>\n",
       "      <th>Item/Bottle Count</th>\n",
       "      <th>Population</th>\n",
       "      <th>Lockdown Start</th>\n",
       "      <th>Initial Expected Lockdown End</th>\n",
       "      <th>Phase 1 Re-Opening Start</th>\n",
       "      <th>Political Alignment</th>\n",
       "    </tr>\n",
       "    <tr>\n",
       "      <th>State</th>\n",
       "      <th></th>\n",
       "      <th></th>\n",
       "      <th></th>\n",
       "      <th></th>\n",
       "      <th></th>\n",
       "      <th></th>\n",
       "      <th></th>\n",
       "      <th></th>\n",
       "      <th></th>\n",
       "      <th></th>\n",
       "      <th></th>\n",
       "      <th></th>\n",
       "      <th></th>\n",
       "      <th></th>\n",
       "    </tr>\n",
       "  </thead>\n",
       "  <tbody>\n",
       "    <tr>\n",
       "      <th>WI</th>\n",
       "      <td>0</td>\n",
       "      <td>Ecom1</td>\n",
       "      <td>1/4/2021</td>\n",
       "      <td>Pleasant Prairie</td>\n",
       "      <td>53158</td>\n",
       "      <td>FEH</td>\n",
       "      <td>12/7/2020</td>\n",
       "      <td>10.5</td>\n",
       "      <td>3.0</td>\n",
       "      <td>5,822,434</td>\n",
       "      <td>3/24/2020</td>\n",
       "      <td>4/24/2020</td>\n",
       "      <td>5/26/2020</td>\n",
       "      <td>Blue</td>\n",
       "    </tr>\n",
       "    <tr>\n",
       "      <th>OR</th>\n",
       "      <td>1</td>\n",
       "      <td>Ecom1</td>\n",
       "      <td>1/5/2021</td>\n",
       "      <td>Beaverton</td>\n",
       "      <td>97005</td>\n",
       "      <td>FEH</td>\n",
       "      <td>12/23/2020</td>\n",
       "      <td>10.5</td>\n",
       "      <td>3.0</td>\n",
       "      <td>4,217,737</td>\n",
       "      <td>3/24/2020</td>\n",
       "      <td>3/31/2020</td>\n",
       "      <td>5/14/2020</td>\n",
       "      <td>Blue</td>\n",
       "    </tr>\n",
       "    <tr>\n",
       "      <th>NJ</th>\n",
       "      <td>2</td>\n",
       "      <td>Ecom1</td>\n",
       "      <td>1/5/2021</td>\n",
       "      <td>Edison</td>\n",
       "      <td>8820</td>\n",
       "      <td>FEH</td>\n",
       "      <td>12/24/2020</td>\n",
       "      <td>6.5</td>\n",
       "      <td>1.0</td>\n",
       "      <td>8,882,190</td>\n",
       "      <td>3/21/2020</td>\n",
       "      <td>1/1/1111</td>\n",
       "      <td>5/12/2020</td>\n",
       "      <td>Blue</td>\n",
       "    </tr>\n",
       "    <tr>\n",
       "      <th>NJ</th>\n",
       "      <td>3</td>\n",
       "      <td>Ecom1</td>\n",
       "      <td>1/5/2021</td>\n",
       "      <td>Jersey city</td>\n",
       "      <td>7302</td>\n",
       "      <td>FEH</td>\n",
       "      <td>12/24/2020</td>\n",
       "      <td>6.5</td>\n",
       "      <td>1.0</td>\n",
       "      <td>8,882,190</td>\n",
       "      <td>3/21/2020</td>\n",
       "      <td>1/1/1111</td>\n",
       "      <td>5/12/2020</td>\n",
       "      <td>Blue</td>\n",
       "    </tr>\n",
       "    <tr>\n",
       "      <th>MA</th>\n",
       "      <td>4</td>\n",
       "      <td>Ecom1</td>\n",
       "      <td>1/5/2021</td>\n",
       "      <td>Stoughton</td>\n",
       "      <td>2072</td>\n",
       "      <td>FEH</td>\n",
       "      <td>12/24/2020</td>\n",
       "      <td>6.5</td>\n",
       "      <td>1.0</td>\n",
       "      <td>6,892,503</td>\n",
       "      <td>3/23/2020</td>\n",
       "      <td>3/31/2020</td>\n",
       "      <td>5/18/2020</td>\n",
       "      <td>blue</td>\n",
       "    </tr>\n",
       "  </tbody>\n",
       "</table>\n",
       "</div>"
      ],
      "text/plain": [
       "       Order Number Company Name Ship Date              City    Zip  \\\n",
       "State                                                                 \n",
       "WI                0        Ecom1  1/4/2021  Pleasant Prairie  53158   \n",
       "OR                1        Ecom1  1/5/2021         Beaverton  97005   \n",
       "NJ                2        Ecom1  1/5/2021            Edison   8820   \n",
       "NJ                3        Ecom1  1/5/2021       Jersey city   7302   \n",
       "MA                4        Ecom1  1/5/2021         Stoughton   2072   \n",
       "\n",
       "      Shipping Service Created Date  Weight  Item/Bottle Count Population  \\\n",
       "State                                                                       \n",
       "WI                 FEH    12/7/2020    10.5                3.0  5,822,434   \n",
       "OR                 FEH   12/23/2020    10.5                3.0  4,217,737   \n",
       "NJ                 FEH   12/24/2020     6.5                1.0  8,882,190   \n",
       "NJ                 FEH   12/24/2020     6.5                1.0  8,882,190   \n",
       "MA                 FEH   12/24/2020     6.5                1.0  6,892,503   \n",
       "\n",
       "      Lockdown Start Initial Expected Lockdown End Phase 1 Re-Opening Start  \\\n",
       "State                                                                         \n",
       "WI         3/24/2020                     4/24/2020                5/26/2020   \n",
       "OR         3/24/2020                     3/31/2020                5/14/2020   \n",
       "NJ         3/21/2020                      1/1/1111                5/12/2020   \n",
       "NJ         3/21/2020                      1/1/1111                5/12/2020   \n",
       "MA         3/23/2020                     3/31/2020                5/18/2020   \n",
       "\n",
       "      Political Alignment  \n",
       "State                      \n",
       "WI                   Blue  \n",
       "OR                   Blue  \n",
       "NJ                   Blue  \n",
       "NJ                   Blue  \n",
       "MA                   blue  "
      ]
     },
     "execution_count": 9,
     "metadata": {},
     "output_type": "execute_result"
    }
   ],
   "source": [
    "#Join states and 2021 df on \"State\"\n",
    "states_2021 = df_2021.join(states_df.set_index (\"State\"), on = \"State\")\n",
    "states_2021.head()"
   ]
  },
  {
   "cell_type": "code",
   "execution_count": 10,
   "id": "4364147b",
   "metadata": {},
   "outputs": [
    {
     "data": {
      "text/plain": [
       "Order Number                     242651\n",
       "Company Name                     242651\n",
       "Ship Date                        242651\n",
       "City                             242651\n",
       "Zip                              242651\n",
       "Shipping Service                 242651\n",
       "Created Date                     242651\n",
       "Weight                           242651\n",
       "Item/Bottle Count                242651\n",
       "Population                       240900\n",
       "Lockdown Start                   240900\n",
       "Initial Expected Lockdown End    240900\n",
       "Phase 1 Re-Opening Start         240900\n",
       "Political Alignment              240900\n",
       "dtype: int64"
      ]
     },
     "execution_count": 10,
     "metadata": {},
     "output_type": "execute_result"
    }
   ],
   "source": [
    "states_2021.count()"
   ]
  },
  {
   "cell_type": "code",
   "execution_count": 12,
   "id": "39b430d0",
   "metadata": {},
   "outputs": [
    {
     "data": {
      "text/html": [
       "<div>\n",
       "<style scoped>\n",
       "    .dataframe tbody tr th:only-of-type {\n",
       "        vertical-align: middle;\n",
       "    }\n",
       "\n",
       "    .dataframe tbody tr th {\n",
       "        vertical-align: top;\n",
       "    }\n",
       "\n",
       "    .dataframe thead th {\n",
       "        text-align: right;\n",
       "    }\n",
       "</style>\n",
       "<table border=\"1\" class=\"dataframe\">\n",
       "  <thead>\n",
       "    <tr style=\"text-align: right;\">\n",
       "      <th></th>\n",
       "      <th>Order Number</th>\n",
       "      <th>Company Name</th>\n",
       "      <th>Ship Date</th>\n",
       "      <th>City</th>\n",
       "      <th>Zip</th>\n",
       "      <th>Shipping Service</th>\n",
       "      <th>Created Date</th>\n",
       "      <th>Weight</th>\n",
       "      <th>Item/Bottle Count</th>\n",
       "      <th>Population</th>\n",
       "      <th>Lockdown Start</th>\n",
       "      <th>Initial Expected Lockdown End</th>\n",
       "      <th>Phase 1 Re-Opening Start</th>\n",
       "      <th>Political Alignment</th>\n",
       "    </tr>\n",
       "    <tr>\n",
       "      <th>State</th>\n",
       "      <th></th>\n",
       "      <th></th>\n",
       "      <th></th>\n",
       "      <th></th>\n",
       "      <th></th>\n",
       "      <th></th>\n",
       "      <th></th>\n",
       "      <th></th>\n",
       "      <th></th>\n",
       "      <th></th>\n",
       "      <th></th>\n",
       "      <th></th>\n",
       "      <th></th>\n",
       "      <th></th>\n",
       "    </tr>\n",
       "  </thead>\n",
       "  <tbody>\n",
       "    <tr>\n",
       "      <th>CO</th>\n",
       "      <td>242641</td>\n",
       "      <td>Ecom3</td>\n",
       "      <td>12/30/2021</td>\n",
       "      <td>Colorado Springs</td>\n",
       "      <td>80907</td>\n",
       "      <td>UPS</td>\n",
       "      <td>12/30/2021</td>\n",
       "      <td>21.50</td>\n",
       "      <td>6.0</td>\n",
       "      <td>5,758,736</td>\n",
       "      <td>3/26/2020</td>\n",
       "      <td>4/26/2020</td>\n",
       "      <td>4/26/2020</td>\n",
       "      <td>Blue</td>\n",
       "    </tr>\n",
       "    <tr>\n",
       "      <th>NV</th>\n",
       "      <td>242642</td>\n",
       "      <td>Ecom3</td>\n",
       "      <td>12/30/2021</td>\n",
       "      <td>Las Vegas</td>\n",
       "      <td>89145</td>\n",
       "      <td>UPS</td>\n",
       "      <td>12/30/2021</td>\n",
       "      <td>3.35</td>\n",
       "      <td>1.0</td>\n",
       "      <td>3,080,156</td>\n",
       "      <td>4/1/2020</td>\n",
       "      <td>4/30/2020</td>\n",
       "      <td>5/9/2020</td>\n",
       "      <td>Blue</td>\n",
       "    </tr>\n",
       "    <tr>\n",
       "      <th>CA</th>\n",
       "      <td>242643</td>\n",
       "      <td>Ecom3</td>\n",
       "      <td>12/30/2021</td>\n",
       "      <td>San Diego</td>\n",
       "      <td>92130</td>\n",
       "      <td>UPS</td>\n",
       "      <td>12/30/2021</td>\n",
       "      <td>7.00</td>\n",
       "      <td>2.0</td>\n",
       "      <td>39,512,223</td>\n",
       "      <td>3/19/2020</td>\n",
       "      <td>4/2/2020</td>\n",
       "      <td>5/13/2020</td>\n",
       "      <td>Blue</td>\n",
       "    </tr>\n",
       "    <tr>\n",
       "      <th>AK</th>\n",
       "      <td>242644</td>\n",
       "      <td>Ecom3</td>\n",
       "      <td>12/30/2021</td>\n",
       "      <td>Anchorage</td>\n",
       "      <td>99503</td>\n",
       "      <td>UPS</td>\n",
       "      <td>12/30/2021</td>\n",
       "      <td>21.50</td>\n",
       "      <td>6.0</td>\n",
       "      <td>731,545</td>\n",
       "      <td>3/23/2020</td>\n",
       "      <td>3/30/2020</td>\n",
       "      <td>4/24/2020</td>\n",
       "      <td>Red</td>\n",
       "    </tr>\n",
       "    <tr>\n",
       "      <th>IL</th>\n",
       "      <td>242645</td>\n",
       "      <td>Ecom2</td>\n",
       "      <td>12/30/2021</td>\n",
       "      <td>Hillside</td>\n",
       "      <td>60162</td>\n",
       "      <td>FEH</td>\n",
       "      <td>12/30/2021</td>\n",
       "      <td>7.00</td>\n",
       "      <td>2.0</td>\n",
       "      <td>12,671,821</td>\n",
       "      <td>3/20/2020</td>\n",
       "      <td>3/30/2020</td>\n",
       "      <td>5/5/2020</td>\n",
       "      <td>Blue</td>\n",
       "    </tr>\n",
       "    <tr>\n",
       "      <th>IL</th>\n",
       "      <td>242646</td>\n",
       "      <td>Ecom2</td>\n",
       "      <td>12/30/2021</td>\n",
       "      <td>Oakwood</td>\n",
       "      <td>61858</td>\n",
       "      <td>FEH</td>\n",
       "      <td>12/30/2021</td>\n",
       "      <td>7.00</td>\n",
       "      <td>2.0</td>\n",
       "      <td>12,671,821</td>\n",
       "      <td>3/20/2020</td>\n",
       "      <td>3/30/2020</td>\n",
       "      <td>5/5/2020</td>\n",
       "      <td>Blue</td>\n",
       "    </tr>\n",
       "    <tr>\n",
       "      <th>IL</th>\n",
       "      <td>242647</td>\n",
       "      <td>Ecom2</td>\n",
       "      <td>12/30/2021</td>\n",
       "      <td>Wonder Lake</td>\n",
       "      <td>60097</td>\n",
       "      <td>FEH</td>\n",
       "      <td>12/30/2021</td>\n",
       "      <td>7.00</td>\n",
       "      <td>2.0</td>\n",
       "      <td>12,671,821</td>\n",
       "      <td>3/20/2020</td>\n",
       "      <td>3/30/2020</td>\n",
       "      <td>5/5/2020</td>\n",
       "      <td>Blue</td>\n",
       "    </tr>\n",
       "    <tr>\n",
       "      <th>MA</th>\n",
       "      <td>242648</td>\n",
       "      <td>Ecom2</td>\n",
       "      <td>12/30/2021</td>\n",
       "      <td>Charlestown</td>\n",
       "      <td>2129</td>\n",
       "      <td>UPS</td>\n",
       "      <td>12/30/2021</td>\n",
       "      <td>7.00</td>\n",
       "      <td>2.0</td>\n",
       "      <td>6,892,503</td>\n",
       "      <td>3/23/2020</td>\n",
       "      <td>3/31/2020</td>\n",
       "      <td>5/18/2020</td>\n",
       "      <td>blue</td>\n",
       "    </tr>\n",
       "    <tr>\n",
       "      <th>DC</th>\n",
       "      <td>242649</td>\n",
       "      <td>Ecom2</td>\n",
       "      <td>12/30/2021</td>\n",
       "      <td>Washington</td>\n",
       "      <td>20002</td>\n",
       "      <td>FEH</td>\n",
       "      <td>12/30/2021</td>\n",
       "      <td>7.00</td>\n",
       "      <td>2.0</td>\n",
       "      <td>NaN</td>\n",
       "      <td>NaN</td>\n",
       "      <td>NaN</td>\n",
       "      <td>NaN</td>\n",
       "      <td>NaN</td>\n",
       "    </tr>\n",
       "    <tr>\n",
       "      <th>FL</th>\n",
       "      <td>242650</td>\n",
       "      <td>Ecom2</td>\n",
       "      <td>12/30/2021</td>\n",
       "      <td>Delray Beach</td>\n",
       "      <td>33446</td>\n",
       "      <td>FEH</td>\n",
       "      <td>12/30/2021</td>\n",
       "      <td>7.00</td>\n",
       "      <td>2.0</td>\n",
       "      <td>21,477,737</td>\n",
       "      <td>4/1/2020</td>\n",
       "      <td>5/1/2020</td>\n",
       "      <td>9/25/2020</td>\n",
       "      <td>Red</td>\n",
       "    </tr>\n",
       "  </tbody>\n",
       "</table>\n",
       "</div>"
      ],
      "text/plain": [
       "       Order Number Company Name   Ship Date              City    Zip  \\\n",
       "State                                                                   \n",
       "CO           242641        Ecom3  12/30/2021  Colorado Springs  80907   \n",
       "NV           242642        Ecom3  12/30/2021         Las Vegas  89145   \n",
       "CA           242643        Ecom3  12/30/2021         San Diego  92130   \n",
       "AK           242644        Ecom3  12/30/2021         Anchorage  99503   \n",
       "IL           242645        Ecom2  12/30/2021          Hillside  60162   \n",
       "IL           242646        Ecom2  12/30/2021           Oakwood  61858   \n",
       "IL           242647        Ecom2  12/30/2021       Wonder Lake  60097   \n",
       "MA           242648        Ecom2  12/30/2021       Charlestown   2129   \n",
       "DC           242649        Ecom2  12/30/2021        Washington  20002   \n",
       "FL           242650        Ecom2  12/30/2021      Delray Beach  33446   \n",
       "\n",
       "      Shipping Service Created Date  Weight  Item/Bottle Count  Population  \\\n",
       "State                                                                        \n",
       "CO                 UPS   12/30/2021   21.50                6.0   5,758,736   \n",
       "NV                 UPS   12/30/2021    3.35                1.0   3,080,156   \n",
       "CA                 UPS   12/30/2021    7.00                2.0  39,512,223   \n",
       "AK                 UPS   12/30/2021   21.50                6.0     731,545   \n",
       "IL                 FEH   12/30/2021    7.00                2.0  12,671,821   \n",
       "IL                 FEH   12/30/2021    7.00                2.0  12,671,821   \n",
       "IL                 FEH   12/30/2021    7.00                2.0  12,671,821   \n",
       "MA                 UPS   12/30/2021    7.00                2.0   6,892,503   \n",
       "DC                 FEH   12/30/2021    7.00                2.0         NaN   \n",
       "FL                 FEH   12/30/2021    7.00                2.0  21,477,737   \n",
       "\n",
       "      Lockdown Start Initial Expected Lockdown End Phase 1 Re-Opening Start  \\\n",
       "State                                                                         \n",
       "CO         3/26/2020                     4/26/2020                4/26/2020   \n",
       "NV          4/1/2020                     4/30/2020                 5/9/2020   \n",
       "CA         3/19/2020                      4/2/2020                5/13/2020   \n",
       "AK         3/23/2020                     3/30/2020                4/24/2020   \n",
       "IL         3/20/2020                     3/30/2020                 5/5/2020   \n",
       "IL         3/20/2020                     3/30/2020                 5/5/2020   \n",
       "IL         3/20/2020                     3/30/2020                 5/5/2020   \n",
       "MA         3/23/2020                     3/31/2020                5/18/2020   \n",
       "DC               NaN                           NaN                      NaN   \n",
       "FL          4/1/2020                      5/1/2020                9/25/2020   \n",
       "\n",
       "      Political Alignment  \n",
       "State                      \n",
       "CO                   Blue  \n",
       "NV                   Blue  \n",
       "CA                   Blue  \n",
       "AK                    Red  \n",
       "IL                   Blue  \n",
       "IL                   Blue  \n",
       "IL                   Blue  \n",
       "MA                   blue  \n",
       "DC                    NaN  \n",
       "FL                    Red  "
      ]
     },
     "execution_count": 12,
     "metadata": {},
     "output_type": "execute_result"
    }
   ],
   "source": [
    "states_2021.tail(10)"
   ]
  },
  {
   "cell_type": "code",
   "execution_count": null,
   "id": "0f26f0da",
   "metadata": {},
   "outputs": [],
   "source": [
    "# Calculate the total 2020 Item/Bottle Count.\n",
    "total_count_2020 = states_2020[\"Item/Bottle Count\"].sum()\n",
    "total_count_2020"
   ]
  },
  {
   "cell_type": "markdown",
   "id": "524ec36c",
   "metadata": {},
   "source": [
    "## Slice Each State Into its Own Dataframe and Calculate Total Item/Bottle Count 2019."
   ]
  },
  {
   "cell_type": "code",
   "execution_count": null,
   "id": "9494155d",
   "metadata": {},
   "outputs": [],
   "source": [
    "#slice_list = [\"AL\"]\n",
    "#Alabama = states_2019.iloc[states_2019.index.isin(slice_list)]\n",
    "#Alabama"
   ]
  },
  {
   "cell_type": "code",
   "execution_count": null,
   "id": "fd863232",
   "metadata": {},
   "outputs": [],
   "source": [
    "# Calculate the total Alabama Item/Bottle Count.\n",
    "#Alabama[\"Item/Bottle Count\"].sum()"
   ]
  },
  {
   "cell_type": "code",
   "execution_count": null,
   "id": "328d6ebd",
   "metadata": {},
   "outputs": [],
   "source": [
    "#slice_list = [\"AK\"]\n",
    "#Alaska = states_2019.iloc[states_2019.index.isin(slice_list)]\n",
    "#Alaska"
   ]
  },
  {
   "cell_type": "code",
   "execution_count": null,
   "id": "a9c166d5",
   "metadata": {},
   "outputs": [],
   "source": [
    "# Calculate the total Alaska Item/Bottle Count.\n",
    "#Alaska[\"Item/Bottle Count\"].sum()"
   ]
  },
  {
   "cell_type": "code",
   "execution_count": null,
   "id": "3adb3a0e",
   "metadata": {},
   "outputs": [],
   "source": [
    "#slice_list = [\"AZ\"]\n",
    "#Arizona = states_2019.iloc[states_2019.index.isin(slice_list)]\n",
    "#Arizona"
   ]
  },
  {
   "cell_type": "code",
   "execution_count": null,
   "id": "45a648a9",
   "metadata": {},
   "outputs": [],
   "source": [
    "# Calculate the total Arizona Item/Bottle Count.\n",
    "#Arizona[\"Item/Bottle Count\"].sum()"
   ]
  },
  {
   "cell_type": "code",
   "execution_count": null,
   "id": "dbd33f59",
   "metadata": {},
   "outputs": [],
   "source": [
    "#slice_list = [\"AR\"]\n",
    "#Arkansas = states_2019.iloc[states_2019.index.isin(slice_list)]\n",
    "#Arkansas"
   ]
  },
  {
   "cell_type": "code",
   "execution_count": null,
   "id": "807ae7f1",
   "metadata": {},
   "outputs": [],
   "source": [
    "# Calculate the total Arkansas Item/Bottle Count.\n",
    "#Arkansas[\"Item/Bottle Count\"].sum()"
   ]
  },
  {
   "cell_type": "code",
   "execution_count": null,
   "id": "b14b0755",
   "metadata": {},
   "outputs": [],
   "source": [
    "#slice_list = [\"CA\"]\n",
    "#California = states_2019.iloc[states_2019.index.isin(slice_list)]\n",
    "#California"
   ]
  },
  {
   "cell_type": "code",
   "execution_count": null,
   "id": "5daf7e32",
   "metadata": {},
   "outputs": [],
   "source": [
    "# Calculate the total California Item/Bottle Count.\n",
    "#California[\"Item/Bottle Count\"].sum()"
   ]
  },
  {
   "cell_type": "code",
   "execution_count": null,
   "id": "eca33578",
   "metadata": {},
   "outputs": [],
   "source": [
    "#slice_list = [\"CO\"]\n",
    "#Colorado = states_2019.iloc[states_2019.index.isin(slice_list)]\n",
    "#Colorado"
   ]
  },
  {
   "cell_type": "code",
   "execution_count": null,
   "id": "250620a5",
   "metadata": {},
   "outputs": [],
   "source": [
    "# Calculate the total Alabama Item/Bottle Count.\n",
    "#Colorado[]\"Item/Bottle Count\"].sum()"
   ]
  },
  {
   "cell_type": "code",
   "execution_count": null,
   "id": "c0f2f0c2",
   "metadata": {},
   "outputs": [],
   "source": [
    "#slice_list = [\"AL\"]\n",
    "#Alabama = states_2019.iloc[states_2019.index.isin(slice_list)]\n",
    "#Alabama"
   ]
  },
  {
   "cell_type": "code",
   "execution_count": null,
   "id": "8502c128",
   "metadata": {},
   "outputs": [],
   "source": []
  },
  {
   "cell_type": "code",
   "execution_count": null,
   "id": "cbb28724",
   "metadata": {},
   "outputs": [],
   "source": [
    "#slice_list = [\"AL\"]\n",
    "#Alabama = states_2019.iloc[states_2019.index.isin(slice_list)]\n",
    "#Alabama"
   ]
  },
  {
   "cell_type": "code",
   "execution_count": null,
   "id": "cd15abe4",
   "metadata": {},
   "outputs": [],
   "source": []
  },
  {
   "cell_type": "code",
   "execution_count": null,
   "id": "1c8f7243",
   "metadata": {},
   "outputs": [],
   "source": [
    "#slice_list = [\"AL\"]\n",
    "#Alabama = states_2019.iloc[states_2019.index.isin(slice_list)]\n",
    "#Alabama"
   ]
  },
  {
   "cell_type": "code",
   "execution_count": null,
   "id": "90883e58",
   "metadata": {},
   "outputs": [],
   "source": []
  },
  {
   "cell_type": "code",
   "execution_count": null,
   "id": "1e4efc6e",
   "metadata": {},
   "outputs": [],
   "source": [
    "#slice_list = [\"AL\"]\n",
    "#Alabama = states_2019.iloc[states_2019.index.isin(slice_list)]\n",
    "#Alabama"
   ]
  },
  {
   "cell_type": "code",
   "execution_count": null,
   "id": "ddf0695e",
   "metadata": {},
   "outputs": [],
   "source": []
  },
  {
   "cell_type": "code",
   "execution_count": null,
   "id": "63f18d94",
   "metadata": {},
   "outputs": [],
   "source": [
    "#slice_list = [\"AL\"]\n",
    "#Alabama = states_2019.iloc[states_2019.index.isin(slice_list)]\n",
    "#Alabama"
   ]
  },
  {
   "cell_type": "code",
   "execution_count": null,
   "id": "9ea00393",
   "metadata": {},
   "outputs": [],
   "source": []
  },
  {
   "cell_type": "code",
   "execution_count": null,
   "id": "d918871a",
   "metadata": {},
   "outputs": [],
   "source": [
    "#slice_list = [\"AL\"]\n",
    "#Alabama = states_2019.iloc[states_2019.index.isin(slice_list)]\n",
    "#Alabama"
   ]
  },
  {
   "cell_type": "code",
   "execution_count": null,
   "id": "3304a278",
   "metadata": {},
   "outputs": [],
   "source": []
  },
  {
   "cell_type": "code",
   "execution_count": null,
   "id": "da0c5916",
   "metadata": {},
   "outputs": [],
   "source": [
    "#slice_list = [\"AL\"]\n",
    "#Alabama = states_2019.iloc[states_2019.index.isin(slice_list)]\n",
    "#Alabama"
   ]
  },
  {
   "cell_type": "code",
   "execution_count": null,
   "id": "5c818397",
   "metadata": {},
   "outputs": [],
   "source": []
  },
  {
   "cell_type": "code",
   "execution_count": null,
   "id": "ccb15ec9",
   "metadata": {},
   "outputs": [],
   "source": [
    "#slice_list = [\"AL\"]\n",
    "#Alabama = states_2019.iloc[states_2019.index.isin(slice_list)]\n",
    "#Alabama"
   ]
  },
  {
   "cell_type": "code",
   "execution_count": null,
   "id": "b1bad8aa",
   "metadata": {},
   "outputs": [],
   "source": []
  },
  {
   "cell_type": "code",
   "execution_count": null,
   "id": "d93881fb",
   "metadata": {},
   "outputs": [],
   "source": [
    "#slice_list = [\"AL\"]\n",
    "#Alabama = states_2019.iloc[states_2019.index.isin(slice_list)]\n",
    "#Alabama"
   ]
  },
  {
   "cell_type": "code",
   "execution_count": null,
   "id": "4b0e531a",
   "metadata": {},
   "outputs": [],
   "source": []
  },
  {
   "cell_type": "code",
   "execution_count": null,
   "id": "920d30ac",
   "metadata": {},
   "outputs": [],
   "source": [
    "#slice_list = [\"AL\"]\n",
    "#Alabama = states_2019.iloc[states_2019.index.isin(slice_list)]\n",
    "#Alabama"
   ]
  },
  {
   "cell_type": "code",
   "execution_count": null,
   "id": "963278e1",
   "metadata": {},
   "outputs": [],
   "source": []
  },
  {
   "cell_type": "code",
   "execution_count": null,
   "id": "665204a2",
   "metadata": {},
   "outputs": [],
   "source": [
    "#slice_list = [\"AL\"]\n",
    "#Alabama = states_2019.iloc[states_2019.index.isin(slice_list)]\n",
    "#Alabama"
   ]
  },
  {
   "cell_type": "code",
   "execution_count": null,
   "id": "7f88e7ba",
   "metadata": {},
   "outputs": [],
   "source": []
  },
  {
   "cell_type": "code",
   "execution_count": null,
   "id": "9cb1a98e",
   "metadata": {},
   "outputs": [],
   "source": [
    "#slice_list = [\"AL\"]\n",
    "#Alabama = states_2019.iloc[states_2019.index.isin(slice_list)]\n",
    "#Alabama"
   ]
  },
  {
   "cell_type": "code",
   "execution_count": null,
   "id": "63e7cedc",
   "metadata": {},
   "outputs": [],
   "source": []
  },
  {
   "cell_type": "code",
   "execution_count": null,
   "id": "e297f46a",
   "metadata": {},
   "outputs": [],
   "source": [
    "#slice_list = [\"AL\"]\n",
    "#Alabama = states_2019.iloc[states_2019.index.isin(slice_list)]\n",
    "#Alabama"
   ]
  },
  {
   "cell_type": "code",
   "execution_count": null,
   "id": "b77c9a72",
   "metadata": {},
   "outputs": [],
   "source": []
  },
  {
   "cell_type": "code",
   "execution_count": null,
   "id": "e9085759",
   "metadata": {},
   "outputs": [],
   "source": [
    "#slice_list = [\"AL\"]\n",
    "#Alabama = states_2019.iloc[states_2019.index.isin(slice_list)]\n",
    "#Alabama"
   ]
  },
  {
   "cell_type": "code",
   "execution_count": null,
   "id": "f867b67c",
   "metadata": {},
   "outputs": [],
   "source": []
  },
  {
   "cell_type": "code",
   "execution_count": null,
   "id": "d85a0e5c",
   "metadata": {},
   "outputs": [],
   "source": [
    "#slice_list = [\"AL\"]\n",
    "#Alabama = states_2019.iloc[states_2019.index.isin(slice_list)]\n",
    "#Alabama"
   ]
  },
  {
   "cell_type": "code",
   "execution_count": null,
   "id": "af2b3589",
   "metadata": {},
   "outputs": [],
   "source": []
  },
  {
   "cell_type": "code",
   "execution_count": null,
   "id": "e05a43ba",
   "metadata": {},
   "outputs": [],
   "source": [
    "#slice_list = [\"AL\"]\n",
    "#Alabama = states_2019.iloc[states_2019.index.isin(slice_list)]\n",
    "#Alabama"
   ]
  },
  {
   "cell_type": "code",
   "execution_count": null,
   "id": "eb06f400",
   "metadata": {},
   "outputs": [],
   "source": []
  },
  {
   "cell_type": "code",
   "execution_count": null,
   "id": "3d989e7e",
   "metadata": {},
   "outputs": [],
   "source": [
    "#slice_list = [\"AL\"]\n",
    "#Alabama = states_2019.iloc[states_2019.index.isin(slice_list)]\n",
    "#Alabama"
   ]
  },
  {
   "cell_type": "code",
   "execution_count": null,
   "id": "5a3e7fa3",
   "metadata": {},
   "outputs": [],
   "source": []
  },
  {
   "cell_type": "code",
   "execution_count": null,
   "id": "a8c023f0",
   "metadata": {},
   "outputs": [],
   "source": [
    "#slice_list = [\"AL\"]\n",
    "#Alabama = states_2019.iloc[states_2019.index.isin(slice_list)]\n",
    "#Alabama"
   ]
  },
  {
   "cell_type": "code",
   "execution_count": null,
   "id": "1e66c255",
   "metadata": {},
   "outputs": [],
   "source": []
  },
  {
   "cell_type": "code",
   "execution_count": null,
   "id": "f438660c",
   "metadata": {},
   "outputs": [],
   "source": [
    "#slice_list = [\"AL\"]\n",
    "#Alabama = states_2019.iloc[states_2019.index.isin(slice_list)]\n",
    "#Alabama"
   ]
  },
  {
   "cell_type": "code",
   "execution_count": null,
   "id": "ce12f329",
   "metadata": {},
   "outputs": [],
   "source": []
  },
  {
   "cell_type": "code",
   "execution_count": null,
   "id": "ad050535",
   "metadata": {},
   "outputs": [],
   "source": [
    "#slice_list = [\"AL\"]\n",
    "#Alabama = states_2019.iloc[states_2019.index.isin(slice_list)]\n",
    "#Alabama"
   ]
  },
  {
   "cell_type": "code",
   "execution_count": null,
   "id": "46bd53da",
   "metadata": {},
   "outputs": [],
   "source": []
  },
  {
   "cell_type": "code",
   "execution_count": null,
   "id": "81afa534",
   "metadata": {},
   "outputs": [],
   "source": [
    "#slice_list = [\"AL\"]\n",
    "#Alabama = states_2019.iloc[states_2019.index.isin(slice_list)]\n",
    "#Alabama"
   ]
  },
  {
   "cell_type": "code",
   "execution_count": null,
   "id": "8aab9455",
   "metadata": {},
   "outputs": [],
   "source": []
  },
  {
   "cell_type": "code",
   "execution_count": null,
   "id": "20d49cd1",
   "metadata": {},
   "outputs": [],
   "source": [
    "#slice_list = [\"AL\"]\n",
    "#Alabama = states_2019.iloc[states_2019.index.isin(slice_list)]\n",
    "#Alabama"
   ]
  },
  {
   "cell_type": "code",
   "execution_count": null,
   "id": "9b0f7b25",
   "metadata": {},
   "outputs": [],
   "source": []
  },
  {
   "cell_type": "code",
   "execution_count": null,
   "id": "34dd86d1",
   "metadata": {},
   "outputs": [],
   "source": [
    "#slice_list = [\"AL\"]\n",
    "#Alabama = states_2019.iloc[states_2019.index.isin(slice_list)]\n",
    "#Alabama"
   ]
  },
  {
   "cell_type": "code",
   "execution_count": null,
   "id": "5990685d",
   "metadata": {},
   "outputs": [],
   "source": []
  },
  {
   "cell_type": "code",
   "execution_count": null,
   "id": "1254d373",
   "metadata": {},
   "outputs": [],
   "source": [
    "#slice_list = [\"AL\"]\n",
    "#Alabama = states_2019.iloc[states_2019.index.isin(slice_list)]\n",
    "#Alabama"
   ]
  },
  {
   "cell_type": "code",
   "execution_count": null,
   "id": "baaee531",
   "metadata": {},
   "outputs": [],
   "source": []
  },
  {
   "cell_type": "code",
   "execution_count": null,
   "id": "ff4395c4",
   "metadata": {},
   "outputs": [],
   "source": [
    "#slice_list = [\"AL\"]\n",
    "#Alabama = states_2019.iloc[states_2019.index.isin(slice_list)]\n",
    "#Alabama"
   ]
  },
  {
   "cell_type": "code",
   "execution_count": null,
   "id": "239e53fb",
   "metadata": {},
   "outputs": [],
   "source": []
  },
  {
   "cell_type": "code",
   "execution_count": null,
   "id": "3b50c80a",
   "metadata": {},
   "outputs": [],
   "source": [
    "#slice_list = [\"AL\"]\n",
    "#Alabama = states_2019.iloc[states_2019.index.isin(slice_list)]\n",
    "#Alabama"
   ]
  },
  {
   "cell_type": "code",
   "execution_count": null,
   "id": "9ad82a97",
   "metadata": {},
   "outputs": [],
   "source": []
  },
  {
   "cell_type": "code",
   "execution_count": null,
   "id": "39550bc0",
   "metadata": {},
   "outputs": [],
   "source": [
    "#slice_list = [\"AL\"]\n",
    "#Alabama = states_2019.iloc[states_2019.index.isin(slice_list)]\n",
    "#Alabama"
   ]
  },
  {
   "cell_type": "code",
   "execution_count": null,
   "id": "96f4c8d2",
   "metadata": {},
   "outputs": [],
   "source": []
  },
  {
   "cell_type": "code",
   "execution_count": null,
   "id": "ed71f187",
   "metadata": {},
   "outputs": [],
   "source": [
    "#slice_list = [\"AL\"]\n",
    "#Alabama = states_2019.iloc[states_2019.index.isin(slice_list)]\n",
    "#Alabama"
   ]
  },
  {
   "cell_type": "code",
   "execution_count": null,
   "id": "8397b842",
   "metadata": {},
   "outputs": [],
   "source": []
  },
  {
   "cell_type": "code",
   "execution_count": null,
   "id": "7c81c507",
   "metadata": {},
   "outputs": [],
   "source": [
    "#slice_list = [\"AL\"]\n",
    "#Alabama = states_2019.iloc[states_2019.index.isin(slice_list)]\n",
    "#Alabama"
   ]
  },
  {
   "cell_type": "code",
   "execution_count": null,
   "id": "951eceaa",
   "metadata": {},
   "outputs": [],
   "source": []
  },
  {
   "cell_type": "code",
   "execution_count": null,
   "id": "acaf8e7a",
   "metadata": {},
   "outputs": [],
   "source": [
    "#slice_list = [\"AL\"]\n",
    "#Alabama = states_2019.iloc[states_2019.index.isin(slice_list)]\n",
    "#Alabama"
   ]
  },
  {
   "cell_type": "code",
   "execution_count": null,
   "id": "bd1bb224",
   "metadata": {},
   "outputs": [],
   "source": []
  },
  {
   "cell_type": "code",
   "execution_count": null,
   "id": "1f6cebb1",
   "metadata": {},
   "outputs": [],
   "source": [
    "#slice_list = [\"AL\"]\n",
    "#Alabama = states_2019.iloc[states_2019.index.isin(slice_list)]\n",
    "#Alabama"
   ]
  },
  {
   "cell_type": "code",
   "execution_count": null,
   "id": "21c62746",
   "metadata": {},
   "outputs": [],
   "source": []
  },
  {
   "cell_type": "code",
   "execution_count": null,
   "id": "0f2fc4ed",
   "metadata": {},
   "outputs": [],
   "source": []
  },
  {
   "cell_type": "code",
   "execution_count": null,
   "id": "885d1392",
   "metadata": {},
   "outputs": [],
   "source": []
  },
  {
   "cell_type": "code",
   "execution_count": null,
   "id": "b59c0920",
   "metadata": {},
   "outputs": [],
   "source": []
  },
  {
   "cell_type": "code",
   "execution_count": null,
   "id": "ed8ffeb4",
   "metadata": {},
   "outputs": [],
   "source": []
  },
  {
   "cell_type": "code",
   "execution_count": null,
   "id": "763f0302",
   "metadata": {},
   "outputs": [],
   "source": []
  },
  {
   "cell_type": "markdown",
   "id": "8f727188",
   "metadata": {},
   "source": [
    "## Slice Each State Into its Own Dataframe and Calculate Total Item/Bottle Count 2020."
   ]
  },
  {
   "cell_type": "code",
   "execution_count": null,
   "id": "4e756fd2",
   "metadata": {},
   "outputs": [],
   "source": [
    "slice_list = [\"AL\"]\n",
    "Alabama = states_2020.iloc[states_2020.index.isin(slice_list)]\n",
    "#Alabama"
   ]
  },
  {
   "cell_type": "code",
   "execution_count": null,
   "id": "1bc1a114",
   "metadata": {},
   "outputs": [],
   "source": [
    "# Calculate the total Alabama Item/Bottle Count.\n",
    "Alabama[\"Item/Bottle Count\"].sum()"
   ]
  },
  {
   "cell_type": "code",
   "execution_count": null,
   "id": "46bc454c",
   "metadata": {},
   "outputs": [],
   "source": [
    "slice_list = [\"AK\"]\n",
    "Alaska = states_2020.iloc[states_2020.index.isin(slice_list)]\n",
    "#Alaska"
   ]
  },
  {
   "cell_type": "code",
   "execution_count": null,
   "id": "fa9ef0a5",
   "metadata": {},
   "outputs": [],
   "source": [
    "# Calculate the total Alaska Item/Bottle Count.\n",
    "Alaska[\"Item/Bottle Count\"].sum()"
   ]
  },
  {
   "cell_type": "code",
   "execution_count": null,
   "id": "10dacd1f",
   "metadata": {},
   "outputs": [],
   "source": [
    "slice_list = [\"AZ\"]\n",
    "Arizona = states_2020.iloc[states_2020.index.isin(slice_list)]\n",
    "#Arizona"
   ]
  },
  {
   "cell_type": "code",
   "execution_count": null,
   "id": "298982ef",
   "metadata": {},
   "outputs": [],
   "source": [
    "# Calculate the total Arizona Item/Bottle Count.\n",
    "Arizona[\"Item/Bottle Count\"].sum()"
   ]
  },
  {
   "cell_type": "code",
   "execution_count": null,
   "id": "d917b8d2",
   "metadata": {},
   "outputs": [],
   "source": [
    "slice_list = [\"AR\"]\n",
    "Arkansas = states_2020.iloc[states_2020.index.isin(slice_list)]\n",
    "#Arkansas"
   ]
  },
  {
   "cell_type": "code",
   "execution_count": null,
   "id": "e47d32b4",
   "metadata": {},
   "outputs": [],
   "source": [
    "# Calculate the total Arkansas Item/Bottle Count.\n",
    "Arkansas[\"Item/Bottle Count\"].sum()"
   ]
  },
  {
   "cell_type": "code",
   "execution_count": null,
   "id": "30f0c11a",
   "metadata": {},
   "outputs": [],
   "source": [
    "slice_list = [\"CA\"]\n",
    "California = states_2020.iloc[states_2020.index.isin(slice_list)]\n",
    "#California"
   ]
  },
  {
   "cell_type": "code",
   "execution_count": null,
   "id": "3d0f45fd",
   "metadata": {},
   "outputs": [],
   "source": [
    "# Calculate the total California Item/Bottle Count.\n",
    "California[\"Item/Bottle Count\"].sum()"
   ]
  },
  {
   "cell_type": "code",
   "execution_count": null,
   "id": "acccd00a",
   "metadata": {},
   "outputs": [],
   "source": [
    "slice_list = [\"CO\"]\n",
    "Colorado = states_2020.iloc[states_2020.index.isin(slice_list)]\n",
    "#Colorado"
   ]
  },
  {
   "cell_type": "code",
   "execution_count": null,
   "id": "927f2f03",
   "metadata": {},
   "outputs": [],
   "source": [
    "# Calculate the total Alaska Item/Bottle Count.\n",
    "Colorado[\"Item/Bottle Count\"].sum()"
   ]
  },
  {
   "cell_type": "code",
   "execution_count": null,
   "id": "21aad67b",
   "metadata": {},
   "outputs": [],
   "source": [
    "slice_list = [\"CT\"]\n",
    "Connecticut = states_2020.iloc[states_2020.index.isin(slice_list)]\n",
    "#Connecticut"
   ]
  },
  {
   "cell_type": "code",
   "execution_count": null,
   "id": "c2dbfd37",
   "metadata": {},
   "outputs": [],
   "source": [
    "# Calculate the total Connecticut Item/Bottle Count.\n",
    "Connecticut[\"Item/Bottle Count\"].sum()"
   ]
  },
  {
   "cell_type": "code",
   "execution_count": null,
   "id": "4f2e7fdd",
   "metadata": {},
   "outputs": [],
   "source": [
    "slice_list = [\"DE\"]\n",
    "Delaware = states_2020.iloc[states_2020.index.isin(slice_list)]\n",
    "#Delaware"
   ]
  },
  {
   "cell_type": "code",
   "execution_count": null,
   "id": "8ebf0de8",
   "metadata": {},
   "outputs": [],
   "source": [
    "# Calculate the total Delaware Item/Bottle Count.\n",
    "Delaware[\"Item/Bottle Count\"].sum()"
   ]
  },
  {
   "cell_type": "code",
   "execution_count": null,
   "id": "0bbf4b39",
   "metadata": {},
   "outputs": [],
   "source": [
    "slice_list = [\"FL\"]\n",
    "Florida = states_2020.iloc[states_2020.index.isin(slice_list)]\n",
    "#Florida"
   ]
  },
  {
   "cell_type": "code",
   "execution_count": null,
   "id": "7840ccc8",
   "metadata": {},
   "outputs": [],
   "source": [
    "# Calculate the total Florida Item/Bottle Count.\n",
    "Florida[\"Item/Bottle Count\"].sum()"
   ]
  },
  {
   "cell_type": "code",
   "execution_count": null,
   "id": "8dc52048",
   "metadata": {},
   "outputs": [],
   "source": [
    "slice_list = [\"GA\"]\n",
    "Georgia = states_2020.iloc[states_2020.index.isin(slice_list)]\n",
    "#Georgia"
   ]
  },
  {
   "cell_type": "code",
   "execution_count": null,
   "id": "852830b5",
   "metadata": {},
   "outputs": [],
   "source": [
    "# Calculate the total Georgia Item/Bottle Count.\n",
    "Georgia[\"Item/Bottle Count\"].sum()"
   ]
  },
  {
   "cell_type": "code",
   "execution_count": null,
   "id": "98b63f4c",
   "metadata": {},
   "outputs": [],
   "source": [
    "slice_list = [\"HI\"]\n",
    "Hawaii = states_2020.iloc[states_2020.index.isin(slice_list)]\n",
    "#Hawaii"
   ]
  },
  {
   "cell_type": "code",
   "execution_count": null,
   "id": "bbbcd02c",
   "metadata": {},
   "outputs": [],
   "source": [
    "# Calculate the total Hawaii Item/Bottle Count.\n",
    "Hawaii[\"Item/Bottle Count\"].sum()"
   ]
  },
  {
   "cell_type": "code",
   "execution_count": null,
   "id": "c80e8149",
   "metadata": {},
   "outputs": [],
   "source": [
    "slice_list = [\"ID\"]\n",
    "Idaho = states_2020.iloc[states_2020.index.isin(slice_list)]\n",
    "#Idaho"
   ]
  },
  {
   "cell_type": "code",
   "execution_count": null,
   "id": "86b16d53",
   "metadata": {},
   "outputs": [],
   "source": [
    "# Calculate the total Idaho Item/Bottle Count.\n",
    "Idaho[\"Item/Bottle Count\"].sum()"
   ]
  },
  {
   "cell_type": "code",
   "execution_count": null,
   "id": "e733a5e1",
   "metadata": {},
   "outputs": [],
   "source": [
    "slice_list = [\"IL\"]\n",
    "Illinois = states_2020.iloc[states_2020.index.isin(slice_list)]\n",
    "#Illinois"
   ]
  },
  {
   "cell_type": "code",
   "execution_count": null,
   "id": "18d973cc",
   "metadata": {},
   "outputs": [],
   "source": [
    "# Calculate the total Illinois Item/Bottle Count.\n",
    "Illinois[\"Item/Bottle Count\"].sum()"
   ]
  },
  {
   "cell_type": "code",
   "execution_count": null,
   "id": "d487423e",
   "metadata": {},
   "outputs": [],
   "source": [
    "slice_list = [\"IN\"]\n",
    "Indiana = states_2020.iloc[states_2020.index.isin(slice_list)]\n",
    "#Indiana"
   ]
  },
  {
   "cell_type": "code",
   "execution_count": null,
   "id": "0524172d",
   "metadata": {},
   "outputs": [],
   "source": [
    "# Calculate the total Indiana Item/Bottle Count.\n",
    "Indiana[\"Item/Bottle Count\"].sum()"
   ]
  },
  {
   "cell_type": "code",
   "execution_count": null,
   "id": "1befd608",
   "metadata": {},
   "outputs": [],
   "source": [
    "slice_list = [\"IA\"]\n",
    "Iowa = states_2020.iloc[states_2020.index.isin(slice_list)]\n",
    "#Iowa"
   ]
  },
  {
   "cell_type": "code",
   "execution_count": null,
   "id": "bdab2c99",
   "metadata": {},
   "outputs": [],
   "source": [
    "# Calculate the total Iowa Item/Bottle Count.\n",
    "Iowa[\"Item/Bottle Count\"].sum()"
   ]
  },
  {
   "cell_type": "code",
   "execution_count": null,
   "id": "7332d5c2",
   "metadata": {},
   "outputs": [],
   "source": [
    "slice_list = [\"KS\"]\n",
    "Kansas = states_2020.iloc[states_2020.index.isin(slice_list)]\n",
    "#Kansas"
   ]
  },
  {
   "cell_type": "code",
   "execution_count": null,
   "id": "e695bef0",
   "metadata": {},
   "outputs": [],
   "source": [
    "# Calculate the total Kansas Item/Bottle Count.\n",
    "Kansas[\"Item/Bottle Count\"].sum()"
   ]
  },
  {
   "cell_type": "code",
   "execution_count": null,
   "id": "72ad54cf",
   "metadata": {},
   "outputs": [],
   "source": [
    "#Effective March 12, 2021, brand registration is not required for DTC products.  DTC shipping previously prohibited. \n",
    "slice_list = [\"KY\"]\n",
    "Kentucky = states_2020.iloc[states_2020.index.isin(slice_list)]\n",
    "#Kentucky"
   ]
  },
  {
   "cell_type": "code",
   "execution_count": null,
   "id": "5f1f4f67",
   "metadata": {},
   "outputs": [],
   "source": [
    "# Calculate the total Kentucky Item/Bottle Count.\n",
    "Kentucky[\"Item/Bottle Count\"].sum()"
   ]
  },
  {
   "cell_type": "code",
   "execution_count": null,
   "id": "2c8ffee3",
   "metadata": {},
   "outputs": [],
   "source": [
    "slice_list = [\"LA\"]\n",
    "Louisiana = states_2020.iloc[states_2020.index.isin(slice_list)]\n",
    "#Louisiana"
   ]
  },
  {
   "cell_type": "code",
   "execution_count": null,
   "id": "34e9c28d",
   "metadata": {},
   "outputs": [],
   "source": [
    "# Calculate the total Louisiana Item/Bottle Count.\n",
    "Louisiana[\"Item/Bottle Count\"].sum()"
   ]
  },
  {
   "cell_type": "code",
   "execution_count": null,
   "id": "ad8fac0b",
   "metadata": {},
   "outputs": [],
   "source": [
    "slice_list = [\"ME\"]\n",
    "Maine = states_2020.iloc[states_2020.index.isin(slice_list)]\n",
    "#Maine"
   ]
  },
  {
   "cell_type": "code",
   "execution_count": null,
   "id": "85707452",
   "metadata": {},
   "outputs": [],
   "source": [
    "# Calculate the total Maine Item/Bottle Count.\n",
    "Maine[\"Item/Bottle Count\"].sum()"
   ]
  },
  {
   "cell_type": "code",
   "execution_count": null,
   "id": "88e0b96d",
   "metadata": {},
   "outputs": [],
   "source": [
    "slice_list = [\"MD\"]\n",
    "Maryland = states_2020.iloc[states_2020.index.isin(slice_list)]\n",
    "#Maryland"
   ]
  },
  {
   "cell_type": "code",
   "execution_count": null,
   "id": "381650a7",
   "metadata": {},
   "outputs": [],
   "source": [
    "# Calculate the total Maryland Item/Bottle Count.\n",
    "Maryland[\"Item/Bottle Count\"].sum()"
   ]
  },
  {
   "cell_type": "code",
   "execution_count": null,
   "id": "32e12154",
   "metadata": {},
   "outputs": [],
   "source": [
    "slice_list = [\"MA\"]\n",
    "Massachusetts = states_2020.iloc[states_2020.index.isin(slice_list)]\n",
    "#Massachusetts"
   ]
  },
  {
   "cell_type": "code",
   "execution_count": null,
   "id": "c71c15fb",
   "metadata": {},
   "outputs": [],
   "source": [
    "# Calculate the total Massachusetts Item/Bottle Count.\n",
    "Massachusetts[\"Item/Bottle Count\"].sum()"
   ]
  },
  {
   "cell_type": "code",
   "execution_count": null,
   "id": "48fba113",
   "metadata": {},
   "outputs": [],
   "source": [
    "slice_list = [\"MI\"]\n",
    "Michigan = states_2020.iloc[states_2020.index.isin(slice_list)]\n",
    "#Michigan"
   ]
  },
  {
   "cell_type": "code",
   "execution_count": null,
   "id": "46cde1b5",
   "metadata": {},
   "outputs": [],
   "source": [
    "# Calculate the total Michigan Item/Bottle Count.\n",
    "Michigan[\"Item/Bottle Count\"].sum()"
   ]
  },
  {
   "cell_type": "code",
   "execution_count": null,
   "id": "fb231a20",
   "metadata": {},
   "outputs": [],
   "source": [
    "slice_list = [\"MN\"]\n",
    "Minnesota = states_2020.iloc[states_2020.index.isin(slice_list)]\n",
    "#Minnesota"
   ]
  },
  {
   "cell_type": "code",
   "execution_count": null,
   "id": "4b214696",
   "metadata": {},
   "outputs": [],
   "source": [
    "# Calculate the total Minnesota Item/Bottle Count.\n",
    "Minnesota[\"Item/Bottle Count\"].sum()"
   ]
  },
  {
   "cell_type": "code",
   "execution_count": null,
   "id": "9a20f7a8",
   "metadata": {},
   "outputs": [],
   "source": [
    "#DTC shipping prohibited in Mississippi. This order was sent to Philedelphia, MS (A real place!) and likely\n",
    "#bypassed the checks/balances that are in place to adhere to shipping laws. \n",
    "slice_list = [\"MS\"]\n",
    "Mississippi = states_2020.iloc[states_2020.index.isin(slice_list)]\n",
    "#Mississippi"
   ]
  },
  {
   "cell_type": "code",
   "execution_count": null,
   "id": "2b1e324c",
   "metadata": {},
   "outputs": [],
   "source": [
    "# Calculate the total Mississippi Item/Bottle Count.\n",
    "Mississippi[\"Item/Bottle Count\"].sum()"
   ]
  },
  {
   "cell_type": "code",
   "execution_count": null,
   "id": "9bef5856",
   "metadata": {},
   "outputs": [],
   "source": [
    "slice_list = [\"MO\"]\n",
    "Missouri = states_2020.iloc[states_2020.index.isin(slice_list)]\n",
    "#Missouri"
   ]
  },
  {
   "cell_type": "code",
   "execution_count": null,
   "id": "5df1975f",
   "metadata": {},
   "outputs": [],
   "source": [
    "# Calculate the total Missouri Item/Bottle Count.\n",
    "Missouri[\"Item/Bottle Count\"].sum()"
   ]
  },
  {
   "cell_type": "code",
   "execution_count": null,
   "id": "a4328eed",
   "metadata": {},
   "outputs": [],
   "source": [
    "slice_list = [\"MT\"]\n",
    "Montana = states_2020.iloc[states_2020.index.isin(slice_list)]\n",
    "#Montana"
   ]
  },
  {
   "cell_type": "code",
   "execution_count": null,
   "id": "aae94fd9",
   "metadata": {},
   "outputs": [],
   "source": [
    "# Calculate the total Montana Item/Bottle Count.\n",
    "Montana[\"Item/Bottle Count\"].sum()"
   ]
  },
  {
   "cell_type": "code",
   "execution_count": null,
   "id": "f2b39ab0",
   "metadata": {},
   "outputs": [],
   "source": [
    "#No shipping law information- No orders for Nebraska\n",
    "slice_list = [\"NE\"]\n",
    "Nebraska = states_2020.iloc[states_2020.index.isin(slice_list)]\n",
    "#Nebraska"
   ]
  },
  {
   "cell_type": "code",
   "execution_count": null,
   "id": "e1e943f9",
   "metadata": {},
   "outputs": [],
   "source": [
    "# Calculate the total Nebraska Item/Bottle Count.\n",
    "Nebraska[\"Item/Bottle Count\"].sum()"
   ]
  },
  {
   "cell_type": "code",
   "execution_count": null,
   "id": "100e9166",
   "metadata": {},
   "outputs": [],
   "source": [
    "slice_list = [\"NV\"]\n",
    "Nevada = states_2020.iloc[states_2020.index.isin(slice_list)]\n",
    "#Nevada"
   ]
  },
  {
   "cell_type": "code",
   "execution_count": null,
   "id": "9c857bcf",
   "metadata": {},
   "outputs": [],
   "source": [
    "# Calculate the total Nevada Item/Bottle Count.\n",
    "Nevada[\"Item/Bottle Count\"].sum()"
   ]
  },
  {
   "cell_type": "code",
   "execution_count": null,
   "id": "4aea4238",
   "metadata": {},
   "outputs": [],
   "source": [
    "slice_list = [\"NH\"]\n",
    "New_Hampshire = states_2020.iloc[states_2020.index.isin(slice_list)]\n",
    "#New_Hampshire"
   ]
  },
  {
   "cell_type": "code",
   "execution_count": null,
   "id": "89efa6ce",
   "metadata": {},
   "outputs": [],
   "source": [
    "# Calculate the total New_Hampshire Item/Bottle Count.\n",
    "New_Hampshire[\"Item/Bottle Count\"].sum()"
   ]
  },
  {
   "cell_type": "code",
   "execution_count": null,
   "id": "66c74e9c",
   "metadata": {},
   "outputs": [],
   "source": [
    "slice_list = [\"NJ\"]\n",
    "New_Jersey = states_2020.iloc[states_2020.index.isin(slice_list)]\n",
    "#New_Jersey"
   ]
  },
  {
   "cell_type": "code",
   "execution_count": null,
   "id": "42d1beb9",
   "metadata": {},
   "outputs": [],
   "source": [
    "# Calculate the total New Jersey Item/Bottle Count.\n",
    "New_Jersey[\"Item/Bottle Count\"].sum()"
   ]
  },
  {
   "cell_type": "code",
   "execution_count": null,
   "id": "6af4fcab",
   "metadata": {},
   "outputs": [],
   "source": [
    "slice_list = [\"NM\"]\n",
    "New_Mexico = states_2020.iloc[states_2020.index.isin(slice_list)]\n",
    "#New_Mexico"
   ]
  },
  {
   "cell_type": "code",
   "execution_count": null,
   "id": "192570b8",
   "metadata": {},
   "outputs": [],
   "source": [
    "# Calculate the total New Mexico Item/Bottle Count.\n",
    "New_Mexico[\"Item/Bottle Count\"].sum()"
   ]
  },
  {
   "cell_type": "code",
   "execution_count": null,
   "id": "b2078a5c",
   "metadata": {},
   "outputs": [],
   "source": [
    "slice_list = [\"NY\"]\n",
    "New_York = states_2020.iloc[states_2020.index.isin(slice_list)]\n",
    "#New_York"
   ]
  },
  {
   "cell_type": "code",
   "execution_count": null,
   "id": "7d0e3bbb",
   "metadata": {},
   "outputs": [],
   "source": [
    "# Calculate the total New York Item/Bottle Count.\n",
    "New_York[\"Item/Bottle Count\"].sum()"
   ]
  },
  {
   "cell_type": "code",
   "execution_count": null,
   "id": "fb7706c7",
   "metadata": {},
   "outputs": [],
   "source": [
    "slice_list = [\"NC\"]\n",
    "North_Carolina = states_2020.iloc[states_2020.index.isin(slice_list)]\n",
    "#North_Carolina"
   ]
  },
  {
   "cell_type": "code",
   "execution_count": null,
   "id": "30e40de8",
   "metadata": {},
   "outputs": [],
   "source": [
    "# Calculate the total North Carolina Item/Bottle Count.\n",
    "North_Carolina[\"Item/Bottle Count\"].sum()"
   ]
  },
  {
   "cell_type": "code",
   "execution_count": null,
   "id": "5172eead",
   "metadata": {},
   "outputs": [],
   "source": [
    "slice_list = [\"ND\"]\n",
    "North_Dakota = states_2020.iloc[states_2020.index.isin(slice_list)]\n",
    "#North_Dakota"
   ]
  },
  {
   "cell_type": "code",
   "execution_count": null,
   "id": "cc38a006",
   "metadata": {},
   "outputs": [],
   "source": [
    "# Calculate the total North Dakota Item/Bottle Count.\n",
    "North_Dakota[\"Item/Bottle Count\"].sum()"
   ]
  },
  {
   "cell_type": "code",
   "execution_count": null,
   "id": "f0deb3be",
   "metadata": {},
   "outputs": [],
   "source": [
    "slice_list = [\"OH\"]\n",
    "Ohio = states_2020.iloc[states_2020.index.isin(slice_list)]\n",
    "#Ohio"
   ]
  },
  {
   "cell_type": "code",
   "execution_count": null,
   "id": "7bd4c591",
   "metadata": {},
   "outputs": [],
   "source": [
    "# Calculate the total Ohio Item/Bottle Count.\n",
    "Ohio[\"Item/Bottle Count\"].sum()"
   ]
  },
  {
   "cell_type": "code",
   "execution_count": null,
   "id": "e2195732",
   "metadata": {},
   "outputs": [],
   "source": [
    "slice_list = [\"OK\"]\n",
    "Oklahoma = states_2020.iloc[states_2020.index.isin(slice_list)]\n",
    "#Oklahoma"
   ]
  },
  {
   "cell_type": "code",
   "execution_count": null,
   "id": "e8aee12d",
   "metadata": {},
   "outputs": [],
   "source": [
    "# Calculate the total Oklahoma Item/Bottle Count.\n",
    "Oklahoma[\"Item/Bottle Count\"].sum()"
   ]
  },
  {
   "cell_type": "code",
   "execution_count": null,
   "id": "7f88e070",
   "metadata": {},
   "outputs": [],
   "source": [
    "slice_list = [\"OR\"]\n",
    "Oregon = states_2020.iloc[states_2020.index.isin(slice_list)]\n",
    "#Oregon"
   ]
  },
  {
   "cell_type": "code",
   "execution_count": null,
   "id": "301c0ba5",
   "metadata": {},
   "outputs": [],
   "source": [
    "# Calculate the total Oregon Item/Bottle Count.\n",
    "Oregon[\"Item/Bottle Count\"].sum()"
   ]
  },
  {
   "cell_type": "code",
   "execution_count": null,
   "id": "85ccc8a8",
   "metadata": {},
   "outputs": [],
   "source": [
    "slice_list = [\"PA\"]\n",
    "Pennsylvania = states_2020.iloc[states_2020.index.isin(slice_list)]\n",
    "#Pennsylvania"
   ]
  },
  {
   "cell_type": "code",
   "execution_count": null,
   "id": "ab2abfe5",
   "metadata": {},
   "outputs": [],
   "source": [
    "# Calculate the total Pennsylvania Item/Bottle Count.\n",
    "Pennsylvania[\"Item/Bottle Count\"].sum()"
   ]
  },
  {
   "cell_type": "code",
   "execution_count": null,
   "id": "0962fe9d",
   "metadata": {},
   "outputs": [],
   "source": [
    "slice_list = [\"RI\"]\n",
    "Rhode_Island = states_2020.iloc[states_2020.index.isin(slice_list)]\n",
    "#Rhode_Island"
   ]
  },
  {
   "cell_type": "code",
   "execution_count": null,
   "id": "9fdb9396",
   "metadata": {},
   "outputs": [],
   "source": [
    "# Calculate the total Rhode Island Item/Bottle Count.\n",
    "Rhode_Island[\"Item/Bottle Count\"].sum()"
   ]
  },
  {
   "cell_type": "code",
   "execution_count": null,
   "id": "3a4b5479",
   "metadata": {},
   "outputs": [],
   "source": [
    "slice_list = [\"SC\"]\n",
    "South_Carolina = states_2020.iloc[states_2020.index.isin(slice_list)]\n",
    "#South_Carolina"
   ]
  },
  {
   "cell_type": "code",
   "execution_count": null,
   "id": "ec0980b5",
   "metadata": {},
   "outputs": [],
   "source": [
    "# Calculate the total Oregon Item/Bottle Count.\n",
    "South_Carolina[\"Item/Bottle Count\"].sum()"
   ]
  },
  {
   "cell_type": "code",
   "execution_count": null,
   "id": "76a645da",
   "metadata": {},
   "outputs": [],
   "source": [
    "slice_list = [\"SD\"]\n",
    "South_Dakota = states_2020.iloc[states_2020.index.isin(slice_list)]\n",
    "#South_Dakota"
   ]
  },
  {
   "cell_type": "code",
   "execution_count": null,
   "id": "b1f7d014",
   "metadata": {},
   "outputs": [],
   "source": [
    "# Calculate the total South_Dakota Item/Bottle Count.\n",
    "South_Dakota[\"Item/Bottle Count\"].sum()"
   ]
  },
  {
   "cell_type": "code",
   "execution_count": null,
   "id": "a5519729",
   "metadata": {},
   "outputs": [],
   "source": [
    "slice_list = [\"TN\"]\n",
    "Tennessee = states_2020.iloc[states_2020.index.isin(slice_list)]\n",
    "#Tennessee"
   ]
  },
  {
   "cell_type": "code",
   "execution_count": null,
   "id": "d48d6e6c",
   "metadata": {},
   "outputs": [],
   "source": [
    "# Calculate the total Tennessee Item/Bottle Count.\n",
    "Tennessee[\"Item/Bottle Count\"].sum()"
   ]
  },
  {
   "cell_type": "code",
   "execution_count": null,
   "id": "5005f44d",
   "metadata": {},
   "outputs": [],
   "source": [
    "slice_list = [\"TX\"]\n",
    "Texas = states_2020.iloc[states_2020.index.isin(slice_list)]\n",
    "#Texas"
   ]
  },
  {
   "cell_type": "code",
   "execution_count": null,
   "id": "354213ec",
   "metadata": {},
   "outputs": [],
   "source": [
    "# Calculate the total Texas Item/Bottle Count.\n",
    "Texas[\"Item/Bottle Count\"].sum()"
   ]
  },
  {
   "cell_type": "code",
   "execution_count": null,
   "id": "b03db9f4",
   "metadata": {},
   "outputs": [],
   "source": [
    "#No orders from Utah. DTC shipping prohibited.\n",
    "slice_list = [\"UT\"]\n",
    "Utah = states_2020.iloc[states_2020.index.isin(slice_list)]\n",
    "#Utah"
   ]
  },
  {
   "cell_type": "code",
   "execution_count": null,
   "id": "1e695744",
   "metadata": {},
   "outputs": [],
   "source": [
    "# Calculate the total Utah Item/Bottle Count.\n",
    "Utah[\"Item/Bottle Count\"].sum()"
   ]
  },
  {
   "cell_type": "code",
   "execution_count": null,
   "id": "f45b39a1",
   "metadata": {},
   "outputs": [],
   "source": [
    "slice_list = [\"VT\"]\n",
    "Vermont = states_2020.iloc[states_2020.index.isin(slice_list)]\n",
    "#Vermont"
   ]
  },
  {
   "cell_type": "code",
   "execution_count": null,
   "id": "1d840441",
   "metadata": {},
   "outputs": [],
   "source": [
    "# Calculate the total Vermont Item/Bottle Count.\n",
    "Vermont[\"Item/Bottle Count\"].sum()"
   ]
  },
  {
   "cell_type": "code",
   "execution_count": null,
   "id": "7c4d6473",
   "metadata": {},
   "outputs": [],
   "source": [
    "slice_list = [\"VA\"]\n",
    "Virginia = states_2020.iloc[states_2020.index.isin(slice_list)]\n",
    "#Virginia"
   ]
  },
  {
   "cell_type": "code",
   "execution_count": null,
   "id": "cd24c9ee",
   "metadata": {},
   "outputs": [],
   "source": [
    "# Calculate the total Virginia Item/Bottle Count.\n",
    "Virginia[\"Item/Bottle Count\"].sum()"
   ]
  },
  {
   "cell_type": "code",
   "execution_count": null,
   "id": "89abc71e",
   "metadata": {},
   "outputs": [],
   "source": [
    "slice_list = [\"WA\"]\n",
    "Washington = states_2020.iloc[states_2020.index.isin(slice_list)]\n",
    "#Washington"
   ]
  },
  {
   "cell_type": "code",
   "execution_count": null,
   "id": "16318be9",
   "metadata": {},
   "outputs": [],
   "source": [
    "# Calculate the total Washington Item/Bottle Count.\n",
    "Washington[\"Item/Bottle Count\"].sum()"
   ]
  },
  {
   "cell_type": "code",
   "execution_count": null,
   "id": "1a13d169",
   "metadata": {},
   "outputs": [],
   "source": [
    "slice_list = [\"WV\"]\n",
    "West_Virginia = states_2020.iloc[states_2020.index.isin(slice_list)]\n",
    "#West_Virginia"
   ]
  },
  {
   "cell_type": "code",
   "execution_count": null,
   "id": "7bac9c7c",
   "metadata": {},
   "outputs": [],
   "source": [
    "# Calculate the total West Virginia Item/Bottle Count.\n",
    "West_Virginia[\"Item/Bottle Count\"].sum()"
   ]
  },
  {
   "cell_type": "code",
   "execution_count": null,
   "id": "57a6d385",
   "metadata": {},
   "outputs": [],
   "source": [
    "slice_list = [\"WI\"]\n",
    "Wisconsin = states_2020.iloc[states_2020.index.isin(slice_list)]\n",
    "#Wisconsin"
   ]
  },
  {
   "cell_type": "code",
   "execution_count": null,
   "id": "a20b77c2",
   "metadata": {},
   "outputs": [],
   "source": [
    "# Calculate the total Wisconsin Item/Bottle Count.\n",
    "Wisconsin[\"Item/Bottle Count\"].sum()"
   ]
  },
  {
   "cell_type": "code",
   "execution_count": null,
   "id": "806f3be5",
   "metadata": {},
   "outputs": [],
   "source": [
    "slice_list = [\"WY\"]\n",
    "Wyoming = states_2020.iloc[states_2020.index.isin(slice_list)]\n",
    "#Wyoming"
   ]
  },
  {
   "cell_type": "code",
   "execution_count": null,
   "id": "6eb9c5bf",
   "metadata": {},
   "outputs": [],
   "source": [
    "# Calculate the total Wyoming Item/Bottle Count.\n",
    "Wyoming[\"Item/Bottle Count\"].sum()"
   ]
  },
  {
   "cell_type": "code",
   "execution_count": null,
   "id": "0e86674f",
   "metadata": {},
   "outputs": [],
   "source": [
    "#Trying to figure out how to get each state df to show total item/bottle count by month. .groupby?\n",
    "Wyoming[\"Created Date\"].unique()"
   ]
  },
  {
   "cell_type": "markdown",
   "id": "ba5019e7",
   "metadata": {},
   "source": [
    "## Working syntax"
   ]
  },
  {
   "cell_type": "code",
   "execution_count": null,
   "id": "6096da47",
   "metadata": {},
   "outputs": [],
   "source": [
    "# Set the x-axis to a list of strings for each month.\n",
    "x_axis = Wyoming[\"Created Date\"]\n",
    "\n",
    "# Set the y-axis to a list of floats as the Item/Bottle Count for each month.\n",
    "y_axis = Wyoming[\"Item/Bottle Count\"]"
   ]
  },
  {
   "cell_type": "code",
   "execution_count": null,
   "id": "059f5a55",
   "metadata": {},
   "outputs": [],
   "source": [
    "#This chart is ugly. Need to group the created dates by month and I think that will help it be more visually appealing.\n",
    "# Create the plot.\n",
    "plt.plot(x_axis, y_axis, marker=\"*\", color=\"blue\", linewidth=2, label='Wyoming')\n",
    "# Create labels for the x and y axes.\n",
    "plt.xlabel(\"Created Date\")\n",
    "plt.ylabel(\"Item/Bottle Count\")\n",
    "# Set the y limit between 0 and 5000.\n",
    "plt.ylim(0, 20)\n",
    "# Create a title.\n",
    "plt.title(\"Wyoming Bottle Count by Created Date\")\n",
    "# Add a grid.\n",
    "plt.grid()\n",
    "# Add the legend.\n",
    "plt.legend()"
   ]
  },
  {
   "cell_type": "code",
   "execution_count": null,
   "id": "56e02eea",
   "metadata": {},
   "outputs": [],
   "source": []
  },
  {
   "cell_type": "code",
   "execution_count": null,
   "id": "1d0b0793",
   "metadata": {},
   "outputs": [],
   "source": []
  },
  {
   "cell_type": "code",
   "execution_count": null,
   "id": "ea2838dc",
   "metadata": {},
   "outputs": [],
   "source": []
  },
  {
   "cell_type": "code",
   "execution_count": null,
   "id": "81068270",
   "metadata": {},
   "outputs": [],
   "source": []
  },
  {
   "cell_type": "code",
   "execution_count": null,
   "id": "2027fe50",
   "metadata": {},
   "outputs": [],
   "source": [
    "#test2 = states_2020.sort_values(\"State\")\n",
    "#test2 = states_2020.sort_values(['State'],ascending=True).groupby('').head()\n",
    "\n",
    "for i in range(len(states_2020)) :\n",
    "    #test2=states_2020['State'].groupby,\n",
    "    print(states_2020['State'].groupby(states_2020.loc[i, \"State\"], states_2020.loc[i, \"Item/Bottle Count\"]))\n",
    "#test2\n",
    "#This isn't working."
   ]
  },
  {
   "cell_type": "code",
   "execution_count": null,
   "id": "73c923c4",
   "metadata": {},
   "outputs": [],
   "source": [
    "test=states_2020.sort_values(\"State\")\n",
    "test.head()"
   ]
  },
  {
   "cell_type": "code",
   "execution_count": null,
   "id": "8d0ca22d",
   "metadata": {},
   "outputs": [],
   "source": [
    "#Loop through states_2020 to gather the Item/Bottle Count for all 50 states.\n",
    "for i in range(len(states_2020)) :\n",
    "  print(states_2020.loc[i, \"State\"], states_2020.loc[i, \"Item/Bottle Count\"])"
   ]
  },
  {
   "cell_type": "code",
   "execution_count": null,
   "id": "a821cceb",
   "metadata": {},
   "outputs": [],
   "source": [
    "# How many items/bottles per month have been purchased in each state from January 2020 to December 2021?\n",
    "# How many items/bottls per month 01/2020 - 12/2021\n",
    "# How many items/bottles per state then per month"
   ]
  },
  {
   "cell_type": "code",
   "execution_count": null,
   "id": "4f61b68e",
   "metadata": {},
   "outputs": [],
   "source": [
    "# Is there a time of year where wine shipments increased? For example, during the holidays or during COVID stay-at-home orders?"
   ]
  },
  {
   "cell_type": "code",
   "execution_count": null,
   "id": "0f25939d",
   "metadata": {},
   "outputs": [],
   "source": [
    "# How do wine shipments compare between states that had stay at home orders issued vs states that did not?\n",
    "    #Create a dataframe with data from states that issued stay at home orders\n",
    "    #Create a dataframe with data from states that did not issue stay at home orders\n",
    "    #Generate summary statistics for each data frame \n",
    "    #Convert each summary stat list to a data frame\n",
    "    #Merge the two summary statistic data frames to create a visual side-by-side comparison"
   ]
  },
  {
   "cell_type": "code",
   "execution_count": null,
   "id": "3ea0a6aa",
   "metadata": {},
   "outputs": [],
   "source": [
    "#How do wine shipments compare between red states and blue states?\n",
    "    #Create a dataframe with data from \"Red\" states\n",
    "    #Create a dataframe with data from \"Blue\" states \n",
    "    #Generate summary statistics for each data frame \n",
    "    #Convert each summary stat list to a data frame\n",
    "    #Merge the two summary statistic data frames to create a visual side-by-side comparison"
   ]
  },
  {
   "cell_type": "code",
   "execution_count": null,
   "id": "c4577995",
   "metadata": {},
   "outputs": [],
   "source": [
    "# Which state consumed the most wine?  "
   ]
  },
  {
   "cell_type": "code",
   "execution_count": null,
   "id": "883d5c49",
   "metadata": {},
   "outputs": [],
   "source": [
    "# Which state saw the most significant change in wine consumption?"
   ]
  }
 ],
 "metadata": {
  "kernelspec": {
   "display_name": "Python 3 (ipykernel)",
   "language": "python",
   "name": "python3"
  },
  "language_info": {
   "codemirror_mode": {
    "name": "ipython",
    "version": 3
   },
   "file_extension": ".py",
   "mimetype": "text/x-python",
   "name": "python",
   "nbconvert_exporter": "python",
   "pygments_lexer": "ipython3",
   "version": "3.7.13"
  }
 },
 "nbformat": 4,
 "nbformat_minor": 5
}
