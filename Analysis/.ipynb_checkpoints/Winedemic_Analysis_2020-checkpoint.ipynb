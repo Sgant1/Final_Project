{
 "cells": [
  {
   "cell_type": "markdown",
   "id": "b28d77ec",
   "metadata": {},
   "source": [
    "## Import Dependencies, Read CSV and Create Dataframes."
   ]
  },
  {
   "cell_type": "code",
   "execution_count": 1,
   "id": "25060bae",
   "metadata": {},
   "outputs": [],
   "source": [
    "#Pandas library to create DataFrames\n",
    "import pandas as pd\n",
    "#NumPy library for converting data types\n",
    "import numpy as np\n",
    "import matplotlib\n",
    "matplotlib.__version__\n",
    "%matplotlib inline\n",
    "import matplotlib.pyplot as plt"
   ]
  },
  {
   "cell_type": "code",
   "execution_count": 2,
   "id": "10911d7e",
   "metadata": {},
   "outputs": [],
   "source": [
    "load_states = \"../state_covid_info/Complete_states.csv\"\n",
    "load_2020 = \"../data_frame/Complete_annual_dataframes/Complete_2020.csv\""
   ]
  },
  {
   "cell_type": "code",
   "execution_count": 3,
   "id": "ac5c9a47",
   "metadata": {},
   "outputs": [
    {
     "data": {
      "text/html": [
       "<div>\n",
       "<style scoped>\n",
       "    .dataframe tbody tr th:only-of-type {\n",
       "        vertical-align: middle;\n",
       "    }\n",
       "\n",
       "    .dataframe tbody tr th {\n",
       "        vertical-align: top;\n",
       "    }\n",
       "\n",
       "    .dataframe thead th {\n",
       "        text-align: right;\n",
       "    }\n",
       "</style>\n",
       "<table border=\"1\" class=\"dataframe\">\n",
       "  <thead>\n",
       "    <tr style=\"text-align: right;\">\n",
       "      <th></th>\n",
       "      <th>State</th>\n",
       "      <th>Population</th>\n",
       "      <th>Lockdown Start</th>\n",
       "      <th>Initial Expected Lockdown End</th>\n",
       "      <th>Phase 1 Re-Opening Start</th>\n",
       "      <th>Political Alignment</th>\n",
       "    </tr>\n",
       "  </thead>\n",
       "  <tbody>\n",
       "    <tr>\n",
       "      <th>0</th>\n",
       "      <td>AK</td>\n",
       "      <td>731,545</td>\n",
       "      <td>3/23/2020</td>\n",
       "      <td>3/30/2020</td>\n",
       "      <td>4/24/2020</td>\n",
       "      <td>Red</td>\n",
       "    </tr>\n",
       "    <tr>\n",
       "      <th>1</th>\n",
       "      <td>AL</td>\n",
       "      <td>4,903,185</td>\n",
       "      <td>4/4/2020</td>\n",
       "      <td>4/30/2020</td>\n",
       "      <td>4/30/2020</td>\n",
       "      <td>Red</td>\n",
       "    </tr>\n",
       "    <tr>\n",
       "      <th>2</th>\n",
       "      <td>AR</td>\n",
       "      <td>3,017,804</td>\n",
       "      <td>3/15/2020</td>\n",
       "      <td>3/27/2020</td>\n",
       "      <td>6/5/2020</td>\n",
       "      <td>Red</td>\n",
       "    </tr>\n",
       "    <tr>\n",
       "      <th>3</th>\n",
       "      <td>AZ</td>\n",
       "      <td>7,278,717</td>\n",
       "      <td>4/30/2020</td>\n",
       "      <td>5/15/2020</td>\n",
       "      <td>5/18/2020</td>\n",
       "      <td>Blue</td>\n",
       "    </tr>\n",
       "    <tr>\n",
       "      <th>4</th>\n",
       "      <td>CA</td>\n",
       "      <td>39,512,223</td>\n",
       "      <td>3/19/2020</td>\n",
       "      <td>4/2/2020</td>\n",
       "      <td>5/13/2020</td>\n",
       "      <td>Blue</td>\n",
       "    </tr>\n",
       "  </tbody>\n",
       "</table>\n",
       "</div>"
      ],
      "text/plain": [
       "  State  Population Lockdown Start Initial Expected Lockdown End  \\\n",
       "0    AK     731,545      3/23/2020                     3/30/2020   \n",
       "1    AL   4,903,185       4/4/2020                     4/30/2020   \n",
       "2    AR   3,017,804      3/15/2020                     3/27/2020   \n",
       "3    AZ   7,278,717      4/30/2020                     5/15/2020   \n",
       "4    CA  39,512,223      3/19/2020                      4/2/2020   \n",
       "\n",
       "  Phase 1 Re-Opening Start Political Alignment  \n",
       "0                4/24/2020                 Red  \n",
       "1                4/30/2020                 Red  \n",
       "2                 6/5/2020                 Red  \n",
       "3                5/18/2020                Blue  \n",
       "4                5/13/2020                Blue  "
      ]
     },
     "execution_count": 3,
     "metadata": {},
     "output_type": "execute_result"
    }
   ],
   "source": [
    "states_df = pd.read_csv(load_states)\n",
    "states_df.head()"
   ]
  },
  {
   "cell_type": "code",
   "execution_count": 4,
   "id": "2096fdcd",
   "metadata": {},
   "outputs": [
    {
     "data": {
      "text/html": [
       "<div>\n",
       "<style scoped>\n",
       "    .dataframe tbody tr th:only-of-type {\n",
       "        vertical-align: middle;\n",
       "    }\n",
       "\n",
       "    .dataframe tbody tr th {\n",
       "        vertical-align: top;\n",
       "    }\n",
       "\n",
       "    .dataframe thead th {\n",
       "        text-align: right;\n",
       "    }\n",
       "</style>\n",
       "<table border=\"1\" class=\"dataframe\">\n",
       "  <thead>\n",
       "    <tr style=\"text-align: right;\">\n",
       "      <th></th>\n",
       "      <th>Order Number</th>\n",
       "      <th>Company Name</th>\n",
       "      <th>Ship Date</th>\n",
       "      <th>City</th>\n",
       "      <th>State</th>\n",
       "      <th>Zip</th>\n",
       "      <th>Shipping Service</th>\n",
       "      <th>Created Date</th>\n",
       "      <th>Weight</th>\n",
       "      <th>Item/Bottle Count</th>\n",
       "    </tr>\n",
       "  </thead>\n",
       "  <tbody>\n",
       "    <tr>\n",
       "      <th>0</th>\n",
       "      <td>0</td>\n",
       "      <td>Ecom3</td>\n",
       "      <td>1/2/20</td>\n",
       "      <td>Plantation</td>\n",
       "      <td>FL</td>\n",
       "      <td>33325</td>\n",
       "      <td>UPS</td>\n",
       "      <td>1/1/20</td>\n",
       "      <td>9.9</td>\n",
       "      <td>3.0</td>\n",
       "    </tr>\n",
       "    <tr>\n",
       "      <th>1</th>\n",
       "      <td>1</td>\n",
       "      <td>Ecom3</td>\n",
       "      <td>1/2/20</td>\n",
       "      <td>Lafayette</td>\n",
       "      <td>CA</td>\n",
       "      <td>94549</td>\n",
       "      <td>UPS</td>\n",
       "      <td>12/31/19</td>\n",
       "      <td>35.0</td>\n",
       "      <td>10.0</td>\n",
       "    </tr>\n",
       "    <tr>\n",
       "      <th>2</th>\n",
       "      <td>2</td>\n",
       "      <td>Ecom3</td>\n",
       "      <td>1/2/20</td>\n",
       "      <td>New York</td>\n",
       "      <td>NY</td>\n",
       "      <td>10022</td>\n",
       "      <td>FEH</td>\n",
       "      <td>1/1/20</td>\n",
       "      <td>29.0</td>\n",
       "      <td>8.0</td>\n",
       "    </tr>\n",
       "    <tr>\n",
       "      <th>3</th>\n",
       "      <td>3</td>\n",
       "      <td>Ecom3</td>\n",
       "      <td>1/3/20</td>\n",
       "      <td>New York</td>\n",
       "      <td>NY</td>\n",
       "      <td>10006</td>\n",
       "      <td>FEH</td>\n",
       "      <td>1/2/20</td>\n",
       "      <td>21.5</td>\n",
       "      <td>6.0</td>\n",
       "    </tr>\n",
       "    <tr>\n",
       "      <th>4</th>\n",
       "      <td>4</td>\n",
       "      <td>Ecom3</td>\n",
       "      <td>1/2/20</td>\n",
       "      <td>Walkersville</td>\n",
       "      <td>MD</td>\n",
       "      <td>21793</td>\n",
       "      <td>FXG</td>\n",
       "      <td>12/31/19</td>\n",
       "      <td>41.0</td>\n",
       "      <td>12.0</td>\n",
       "    </tr>\n",
       "  </tbody>\n",
       "</table>\n",
       "</div>"
      ],
      "text/plain": [
       "   Order Number Company Name Ship Date          City State    Zip  \\\n",
       "0             0        Ecom3    1/2/20    Plantation    FL  33325   \n",
       "1             1        Ecom3    1/2/20     Lafayette    CA  94549   \n",
       "2             2        Ecom3    1/2/20      New York    NY  10022   \n",
       "3             3        Ecom3    1/3/20      New York    NY  10006   \n",
       "4             4        Ecom3    1/2/20  Walkersville    MD  21793   \n",
       "\n",
       "  Shipping Service Created Date  Weight  Item/Bottle Count  \n",
       "0              UPS       1/1/20     9.9                3.0  \n",
       "1              UPS     12/31/19    35.0               10.0  \n",
       "2              FEH       1/1/20    29.0                8.0  \n",
       "3              FEH       1/2/20    21.5                6.0  \n",
       "4              FXG     12/31/19    41.0               12.0  "
      ]
     },
     "execution_count": 4,
     "metadata": {},
     "output_type": "execute_result"
    }
   ],
   "source": [
    "#If I set the Index as \"State\" here, an extra column named \"Unammed:0\" populates. \n",
    "df_2020 = pd.read_csv(load_2020, index_col=[0])\n",
    "df_2020.head()"
   ]
  },
  {
   "cell_type": "code",
   "execution_count": 5,
   "id": "dde91bbf",
   "metadata": {},
   "outputs": [
    {
     "data": {
      "text/plain": [
       "array(['FL', 'CA', 'NY', 'MD', 'TX', 'OH', 'NM', 'CT', 'MI', 'WA', 'PA',\n",
       "       'CO', 'LA', 'HI', 'MA', 'NH', 'NJ', 'TN', 'IN', 'KS', 'NE', 'NC',\n",
       "       'VA', 'IA', 'MN', 'WI', 'SC', 'SD', 'OR', 'ND', 'WY', 'IL', 'VT',\n",
       "       'GA', 'AZ', 'DC', 'NV', 'MO', 'ME', 'RI', 'AR', 'AK', 'WV', 'MT',\n",
       "       'ID', 'OK', 'AL', 'DE', 'Va', 'MS', 'KY'], dtype=object)"
      ]
     },
     "execution_count": 5,
     "metadata": {},
     "output_type": "execute_result"
    }
   ],
   "source": [
    "df_2020.State.unique()"
   ]
  },
  {
   "cell_type": "code",
   "execution_count": 6,
   "id": "f3301b8e",
   "metadata": {},
   "outputs": [
    {
     "data": {
      "text/html": [
       "<div>\n",
       "<style scoped>\n",
       "    .dataframe tbody tr th:only-of-type {\n",
       "        vertical-align: middle;\n",
       "    }\n",
       "\n",
       "    .dataframe tbody tr th {\n",
       "        vertical-align: top;\n",
       "    }\n",
       "\n",
       "    .dataframe thead th {\n",
       "        text-align: right;\n",
       "    }\n",
       "</style>\n",
       "<table border=\"1\" class=\"dataframe\">\n",
       "  <thead>\n",
       "    <tr style=\"text-align: right;\">\n",
       "      <th></th>\n",
       "      <th>Order Number</th>\n",
       "      <th>Company Name</th>\n",
       "      <th>Ship Date</th>\n",
       "      <th>City</th>\n",
       "      <th>Zip</th>\n",
       "      <th>Shipping Service</th>\n",
       "      <th>Created Date</th>\n",
       "      <th>Weight</th>\n",
       "      <th>Item/Bottle Count</th>\n",
       "    </tr>\n",
       "    <tr>\n",
       "      <th>State</th>\n",
       "      <th></th>\n",
       "      <th></th>\n",
       "      <th></th>\n",
       "      <th></th>\n",
       "      <th></th>\n",
       "      <th></th>\n",
       "      <th></th>\n",
       "      <th></th>\n",
       "      <th></th>\n",
       "    </tr>\n",
       "  </thead>\n",
       "  <tbody>\n",
       "    <tr>\n",
       "      <th>FL</th>\n",
       "      <td>0</td>\n",
       "      <td>Ecom3</td>\n",
       "      <td>1/2/20</td>\n",
       "      <td>Plantation</td>\n",
       "      <td>33325</td>\n",
       "      <td>UPS</td>\n",
       "      <td>1/1/20</td>\n",
       "      <td>9.9</td>\n",
       "      <td>3.0</td>\n",
       "    </tr>\n",
       "    <tr>\n",
       "      <th>CA</th>\n",
       "      <td>1</td>\n",
       "      <td>Ecom3</td>\n",
       "      <td>1/2/20</td>\n",
       "      <td>Lafayette</td>\n",
       "      <td>94549</td>\n",
       "      <td>UPS</td>\n",
       "      <td>12/31/19</td>\n",
       "      <td>35.0</td>\n",
       "      <td>10.0</td>\n",
       "    </tr>\n",
       "    <tr>\n",
       "      <th>NY</th>\n",
       "      <td>2</td>\n",
       "      <td>Ecom3</td>\n",
       "      <td>1/2/20</td>\n",
       "      <td>New York</td>\n",
       "      <td>10022</td>\n",
       "      <td>FEH</td>\n",
       "      <td>1/1/20</td>\n",
       "      <td>29.0</td>\n",
       "      <td>8.0</td>\n",
       "    </tr>\n",
       "    <tr>\n",
       "      <th>NY</th>\n",
       "      <td>3</td>\n",
       "      <td>Ecom3</td>\n",
       "      <td>1/3/20</td>\n",
       "      <td>New York</td>\n",
       "      <td>10006</td>\n",
       "      <td>FEH</td>\n",
       "      <td>1/2/20</td>\n",
       "      <td>21.5</td>\n",
       "      <td>6.0</td>\n",
       "    </tr>\n",
       "    <tr>\n",
       "      <th>MD</th>\n",
       "      <td>4</td>\n",
       "      <td>Ecom3</td>\n",
       "      <td>1/2/20</td>\n",
       "      <td>Walkersville</td>\n",
       "      <td>21793</td>\n",
       "      <td>FXG</td>\n",
       "      <td>12/31/19</td>\n",
       "      <td>41.0</td>\n",
       "      <td>12.0</td>\n",
       "    </tr>\n",
       "    <tr>\n",
       "      <th>...</th>\n",
       "      <td>...</td>\n",
       "      <td>...</td>\n",
       "      <td>...</td>\n",
       "      <td>...</td>\n",
       "      <td>...</td>\n",
       "      <td>...</td>\n",
       "      <td>...</td>\n",
       "      <td>...</td>\n",
       "      <td>...</td>\n",
       "    </tr>\n",
       "    <tr>\n",
       "      <th>CO</th>\n",
       "      <td>235998</td>\n",
       "      <td>Winery3</td>\n",
       "      <td>12/29/2020</td>\n",
       "      <td>Aurora</td>\n",
       "      <td>80013</td>\n",
       "      <td>UPS</td>\n",
       "      <td>12/29/2020</td>\n",
       "      <td>21.5</td>\n",
       "      <td>6.0</td>\n",
       "    </tr>\n",
       "    <tr>\n",
       "      <th>CA</th>\n",
       "      <td>235999</td>\n",
       "      <td>Winery3</td>\n",
       "      <td>12/29/2020</td>\n",
       "      <td>Napa</td>\n",
       "      <td>94558</td>\n",
       "      <td>GSC</td>\n",
       "      <td>12/29/2020</td>\n",
       "      <td>9.9</td>\n",
       "      <td>3.0</td>\n",
       "    </tr>\n",
       "    <tr>\n",
       "      <th>CO</th>\n",
       "      <td>236000</td>\n",
       "      <td>Winery3</td>\n",
       "      <td>12/29/2020</td>\n",
       "      <td>Aurora</td>\n",
       "      <td>80014</td>\n",
       "      <td>UPS</td>\n",
       "      <td>12/29/2020</td>\n",
       "      <td>39.0</td>\n",
       "      <td>12.0</td>\n",
       "    </tr>\n",
       "    <tr>\n",
       "      <th>VA</th>\n",
       "      <td>236001</td>\n",
       "      <td>Winery3</td>\n",
       "      <td>12/28/2020</td>\n",
       "      <td>Charlottesville</td>\n",
       "      <td>22901</td>\n",
       "      <td>UPS</td>\n",
       "      <td>12/28/2020</td>\n",
       "      <td>21.5</td>\n",
       "      <td>6.0</td>\n",
       "    </tr>\n",
       "    <tr>\n",
       "      <th>CA</th>\n",
       "      <td>236002</td>\n",
       "      <td>Winery3</td>\n",
       "      <td>12/29/2020</td>\n",
       "      <td>Napa</td>\n",
       "      <td>94558</td>\n",
       "      <td>WCU</td>\n",
       "      <td>12/29/2020</td>\n",
       "      <td>21.5</td>\n",
       "      <td>6.0</td>\n",
       "    </tr>\n",
       "  </tbody>\n",
       "</table>\n",
       "<p>236003 rows × 9 columns</p>\n",
       "</div>"
      ],
      "text/plain": [
       "       Order Number Company Name   Ship Date             City    Zip  \\\n",
       "State                                                                  \n",
       "FL                0        Ecom3      1/2/20       Plantation  33325   \n",
       "CA                1        Ecom3      1/2/20        Lafayette  94549   \n",
       "NY                2        Ecom3      1/2/20         New York  10022   \n",
       "NY                3        Ecom3      1/3/20         New York  10006   \n",
       "MD                4        Ecom3      1/2/20     Walkersville  21793   \n",
       "...             ...          ...         ...              ...    ...   \n",
       "CO           235998      Winery3  12/29/2020           Aurora  80013   \n",
       "CA           235999      Winery3  12/29/2020             Napa  94558   \n",
       "CO           236000      Winery3  12/29/2020           Aurora  80014   \n",
       "VA           236001      Winery3  12/28/2020  Charlottesville  22901   \n",
       "CA           236002      Winery3  12/29/2020             Napa  94558   \n",
       "\n",
       "      Shipping Service Created Date  Weight  Item/Bottle Count  \n",
       "State                                                           \n",
       "FL                 UPS       1/1/20     9.9                3.0  \n",
       "CA                 UPS     12/31/19    35.0               10.0  \n",
       "NY                 FEH       1/1/20    29.0                8.0  \n",
       "NY                 FEH       1/2/20    21.5                6.0  \n",
       "MD                 FXG     12/31/19    41.0               12.0  \n",
       "...                ...          ...     ...                ...  \n",
       "CO                 UPS   12/29/2020    21.5                6.0  \n",
       "CA                 GSC   12/29/2020     9.9                3.0  \n",
       "CO                 UPS   12/29/2020    39.0               12.0  \n",
       "VA                 UPS   12/28/2020    21.5                6.0  \n",
       "CA                 WCU   12/29/2020    21.5                6.0  \n",
       "\n",
       "[236003 rows x 9 columns]"
      ]
     },
     "execution_count": 6,
     "metadata": {},
     "output_type": "execute_result"
    }
   ],
   "source": [
    "df_2020 = df_2020.set_index(\"State\")\n",
    "df_2020"
   ]
  },
  {
   "cell_type": "code",
   "execution_count": 7,
   "id": "53919cf2",
   "metadata": {},
   "outputs": [
    {
     "data": {
      "text/html": [
       "<div>\n",
       "<style scoped>\n",
       "    .dataframe tbody tr th:only-of-type {\n",
       "        vertical-align: middle;\n",
       "    }\n",
       "\n",
       "    .dataframe tbody tr th {\n",
       "        vertical-align: top;\n",
       "    }\n",
       "\n",
       "    .dataframe thead th {\n",
       "        text-align: right;\n",
       "    }\n",
       "</style>\n",
       "<table border=\"1\" class=\"dataframe\">\n",
       "  <thead>\n",
       "    <tr style=\"text-align: right;\">\n",
       "      <th></th>\n",
       "      <th>Order Number</th>\n",
       "      <th>Company Name</th>\n",
       "      <th>Ship Date</th>\n",
       "      <th>City</th>\n",
       "      <th>Zip</th>\n",
       "      <th>Shipping Service</th>\n",
       "      <th>Created Date</th>\n",
       "      <th>Weight</th>\n",
       "      <th>Item/Bottle Count</th>\n",
       "      <th>Population</th>\n",
       "      <th>Lockdown Start</th>\n",
       "      <th>Initial Expected Lockdown End</th>\n",
       "      <th>Phase 1 Re-Opening Start</th>\n",
       "      <th>Political Alignment</th>\n",
       "    </tr>\n",
       "    <tr>\n",
       "      <th>State</th>\n",
       "      <th></th>\n",
       "      <th></th>\n",
       "      <th></th>\n",
       "      <th></th>\n",
       "      <th></th>\n",
       "      <th></th>\n",
       "      <th></th>\n",
       "      <th></th>\n",
       "      <th></th>\n",
       "      <th></th>\n",
       "      <th></th>\n",
       "      <th></th>\n",
       "      <th></th>\n",
       "      <th></th>\n",
       "    </tr>\n",
       "  </thead>\n",
       "  <tbody>\n",
       "    <tr>\n",
       "      <th>FL</th>\n",
       "      <td>0</td>\n",
       "      <td>Ecom3</td>\n",
       "      <td>1/2/20</td>\n",
       "      <td>Plantation</td>\n",
       "      <td>33325</td>\n",
       "      <td>UPS</td>\n",
       "      <td>1/1/20</td>\n",
       "      <td>9.9</td>\n",
       "      <td>3.0</td>\n",
       "      <td>21,477,737</td>\n",
       "      <td>4/1/2020</td>\n",
       "      <td>5/1/2020</td>\n",
       "      <td>9/25/2020</td>\n",
       "      <td>Red</td>\n",
       "    </tr>\n",
       "    <tr>\n",
       "      <th>CA</th>\n",
       "      <td>1</td>\n",
       "      <td>Ecom3</td>\n",
       "      <td>1/2/20</td>\n",
       "      <td>Lafayette</td>\n",
       "      <td>94549</td>\n",
       "      <td>UPS</td>\n",
       "      <td>12/31/19</td>\n",
       "      <td>35.0</td>\n",
       "      <td>10.0</td>\n",
       "      <td>39,512,223</td>\n",
       "      <td>3/19/2020</td>\n",
       "      <td>4/2/2020</td>\n",
       "      <td>5/13/2020</td>\n",
       "      <td>Blue</td>\n",
       "    </tr>\n",
       "    <tr>\n",
       "      <th>NY</th>\n",
       "      <td>2</td>\n",
       "      <td>Ecom3</td>\n",
       "      <td>1/2/20</td>\n",
       "      <td>New York</td>\n",
       "      <td>10022</td>\n",
       "      <td>FEH</td>\n",
       "      <td>1/1/20</td>\n",
       "      <td>29.0</td>\n",
       "      <td>8.0</td>\n",
       "      <td>19,453,561</td>\n",
       "      <td>3/22/2020</td>\n",
       "      <td>4/6/2020</td>\n",
       "      <td>6/8/2020</td>\n",
       "      <td>blue</td>\n",
       "    </tr>\n",
       "    <tr>\n",
       "      <th>NY</th>\n",
       "      <td>3</td>\n",
       "      <td>Ecom3</td>\n",
       "      <td>1/3/20</td>\n",
       "      <td>New York</td>\n",
       "      <td>10006</td>\n",
       "      <td>FEH</td>\n",
       "      <td>1/2/20</td>\n",
       "      <td>21.5</td>\n",
       "      <td>6.0</td>\n",
       "      <td>19,453,561</td>\n",
       "      <td>3/22/2020</td>\n",
       "      <td>4/6/2020</td>\n",
       "      <td>6/8/2020</td>\n",
       "      <td>blue</td>\n",
       "    </tr>\n",
       "    <tr>\n",
       "      <th>MD</th>\n",
       "      <td>4</td>\n",
       "      <td>Ecom3</td>\n",
       "      <td>1/2/20</td>\n",
       "      <td>Walkersville</td>\n",
       "      <td>21793</td>\n",
       "      <td>FXG</td>\n",
       "      <td>12/31/19</td>\n",
       "      <td>41.0</td>\n",
       "      <td>12.0</td>\n",
       "      <td>6,045,680</td>\n",
       "      <td>3/12/2020</td>\n",
       "      <td>3/27/2020</td>\n",
       "      <td>5/13/2020</td>\n",
       "      <td>Blue</td>\n",
       "    </tr>\n",
       "  </tbody>\n",
       "</table>\n",
       "</div>"
      ],
      "text/plain": [
       "       Order Number Company Name Ship Date          City    Zip  \\\n",
       "State                                                             \n",
       "FL                0        Ecom3    1/2/20    Plantation  33325   \n",
       "CA                1        Ecom3    1/2/20     Lafayette  94549   \n",
       "NY                2        Ecom3    1/2/20      New York  10022   \n",
       "NY                3        Ecom3    1/3/20      New York  10006   \n",
       "MD                4        Ecom3    1/2/20  Walkersville  21793   \n",
       "\n",
       "      Shipping Service Created Date  Weight  Item/Bottle Count  Population  \\\n",
       "State                                                                        \n",
       "FL                 UPS       1/1/20     9.9                3.0  21,477,737   \n",
       "CA                 UPS     12/31/19    35.0               10.0  39,512,223   \n",
       "NY                 FEH       1/1/20    29.0                8.0  19,453,561   \n",
       "NY                 FEH       1/2/20    21.5                6.0  19,453,561   \n",
       "MD                 FXG     12/31/19    41.0               12.0   6,045,680   \n",
       "\n",
       "      Lockdown Start Initial Expected Lockdown End Phase 1 Re-Opening Start  \\\n",
       "State                                                                         \n",
       "FL          4/1/2020                      5/1/2020                9/25/2020   \n",
       "CA         3/19/2020                      4/2/2020                5/13/2020   \n",
       "NY         3/22/2020                      4/6/2020                 6/8/2020   \n",
       "NY         3/22/2020                      4/6/2020                 6/8/2020   \n",
       "MD         3/12/2020                     3/27/2020                5/13/2020   \n",
       "\n",
       "      Political Alignment  \n",
       "State                      \n",
       "FL                    Red  \n",
       "CA                   Blue  \n",
       "NY                   blue  \n",
       "NY                   blue  \n",
       "MD                  Blue   "
      ]
     },
     "execution_count": 7,
     "metadata": {},
     "output_type": "execute_result"
    }
   ],
   "source": [
    "#Join states and 2020 df on \"State\"\n",
    "states_2020 = df_2020.join(states_df.set_index (\"State\"), on = \"State\")\n",
    "states_2020.head()"
   ]
  },
  {
   "cell_type": "code",
   "execution_count": 8,
   "id": "4364147b",
   "metadata": {},
   "outputs": [
    {
     "data": {
      "text/plain": [
       "Order Number                     236003\n",
       "Company Name                     236003\n",
       "Ship Date                        236003\n",
       "City                             236003\n",
       "Zip                              236003\n",
       "Shipping Service                 236003\n",
       "Created Date                     236003\n",
       "Weight                           236003\n",
       "Item/Bottle Count                236003\n",
       "Population                       234320\n",
       "Lockdown Start                   234320\n",
       "Initial Expected Lockdown End    234320\n",
       "Phase 1 Re-Opening Start         234320\n",
       "Political Alignment              234320\n",
       "dtype: int64"
      ]
     },
     "execution_count": 8,
     "metadata": {},
     "output_type": "execute_result"
    }
   ],
   "source": [
    "states_2020.count()"
   ]
  },
  {
   "cell_type": "code",
   "execution_count": 9,
   "id": "39b430d0",
   "metadata": {},
   "outputs": [
    {
     "data": {
      "text/html": [
       "<div>\n",
       "<style scoped>\n",
       "    .dataframe tbody tr th:only-of-type {\n",
       "        vertical-align: middle;\n",
       "    }\n",
       "\n",
       "    .dataframe tbody tr th {\n",
       "        vertical-align: top;\n",
       "    }\n",
       "\n",
       "    .dataframe thead th {\n",
       "        text-align: right;\n",
       "    }\n",
       "</style>\n",
       "<table border=\"1\" class=\"dataframe\">\n",
       "  <thead>\n",
       "    <tr style=\"text-align: right;\">\n",
       "      <th></th>\n",
       "      <th>Order Number</th>\n",
       "      <th>Company Name</th>\n",
       "      <th>Ship Date</th>\n",
       "      <th>City</th>\n",
       "      <th>Zip</th>\n",
       "      <th>Shipping Service</th>\n",
       "      <th>Created Date</th>\n",
       "      <th>Weight</th>\n",
       "      <th>Item/Bottle Count</th>\n",
       "      <th>Population</th>\n",
       "      <th>Lockdown Start</th>\n",
       "      <th>Initial Expected Lockdown End</th>\n",
       "      <th>Phase 1 Re-Opening Start</th>\n",
       "      <th>Political Alignment</th>\n",
       "    </tr>\n",
       "    <tr>\n",
       "      <th>State</th>\n",
       "      <th></th>\n",
       "      <th></th>\n",
       "      <th></th>\n",
       "      <th></th>\n",
       "      <th></th>\n",
       "      <th></th>\n",
       "      <th></th>\n",
       "      <th></th>\n",
       "      <th></th>\n",
       "      <th></th>\n",
       "      <th></th>\n",
       "      <th></th>\n",
       "      <th></th>\n",
       "      <th></th>\n",
       "    </tr>\n",
       "  </thead>\n",
       "  <tbody>\n",
       "    <tr>\n",
       "      <th>CA</th>\n",
       "      <td>235993</td>\n",
       "      <td>Winery3</td>\n",
       "      <td>12/21/2020</td>\n",
       "      <td>San Francisco</td>\n",
       "      <td>94109</td>\n",
       "      <td>GSC</td>\n",
       "      <td>12/21/2020</td>\n",
       "      <td>9.9</td>\n",
       "      <td>3.0</td>\n",
       "      <td>39,512,223</td>\n",
       "      <td>3/19/2020</td>\n",
       "      <td>4/2/2020</td>\n",
       "      <td>5/13/2020</td>\n",
       "      <td>Blue</td>\n",
       "    </tr>\n",
       "    <tr>\n",
       "      <th>NC</th>\n",
       "      <td>235994</td>\n",
       "      <td>Winery3</td>\n",
       "      <td>12/23/2020</td>\n",
       "      <td>Charlotte</td>\n",
       "      <td>28211</td>\n",
       "      <td>UP3</td>\n",
       "      <td>12/23/2020</td>\n",
       "      <td>41.0</td>\n",
       "      <td>12.0</td>\n",
       "      <td>10,488,084</td>\n",
       "      <td>3/30/2020</td>\n",
       "      <td>4/29/2020</td>\n",
       "      <td>5/20/2020</td>\n",
       "      <td>Red</td>\n",
       "    </tr>\n",
       "    <tr>\n",
       "      <th>HI</th>\n",
       "      <td>235995</td>\n",
       "      <td>Winery3</td>\n",
       "      <td>12/28/2020</td>\n",
       "      <td>kamuela</td>\n",
       "      <td>96743</td>\n",
       "      <td>UPS</td>\n",
       "      <td>12/28/2020</td>\n",
       "      <td>21.5</td>\n",
       "      <td>6.0</td>\n",
       "      <td>1,415,872</td>\n",
       "      <td>3/23/2020</td>\n",
       "      <td>4/30/2020</td>\n",
       "      <td>5/5/2020</td>\n",
       "      <td>Blue</td>\n",
       "    </tr>\n",
       "    <tr>\n",
       "      <th>TX</th>\n",
       "      <td>235996</td>\n",
       "      <td>Winery3</td>\n",
       "      <td>12/28/2020</td>\n",
       "      <td>Carrollton</td>\n",
       "      <td>75010</td>\n",
       "      <td>UP2</td>\n",
       "      <td>12/28/2020</td>\n",
       "      <td>21.5</td>\n",
       "      <td>6.0</td>\n",
       "      <td>28,995,881</td>\n",
       "      <td>3/31/2020</td>\n",
       "      <td>5/4/2020</td>\n",
       "      <td>5/1/2020</td>\n",
       "      <td>Red</td>\n",
       "    </tr>\n",
       "    <tr>\n",
       "      <th>FL</th>\n",
       "      <td>235997</td>\n",
       "      <td>Winery3</td>\n",
       "      <td>12/28/2020</td>\n",
       "      <td>Delray Beach</td>\n",
       "      <td>33446</td>\n",
       "      <td>UPS</td>\n",
       "      <td>12/28/2020</td>\n",
       "      <td>21.5</td>\n",
       "      <td>6.0</td>\n",
       "      <td>21,477,737</td>\n",
       "      <td>4/1/2020</td>\n",
       "      <td>5/1/2020</td>\n",
       "      <td>9/25/2020</td>\n",
       "      <td>Red</td>\n",
       "    </tr>\n",
       "    <tr>\n",
       "      <th>CO</th>\n",
       "      <td>235998</td>\n",
       "      <td>Winery3</td>\n",
       "      <td>12/29/2020</td>\n",
       "      <td>Aurora</td>\n",
       "      <td>80013</td>\n",
       "      <td>UPS</td>\n",
       "      <td>12/29/2020</td>\n",
       "      <td>21.5</td>\n",
       "      <td>6.0</td>\n",
       "      <td>5,758,736</td>\n",
       "      <td>3/26/2020</td>\n",
       "      <td>4/26/2020</td>\n",
       "      <td>4/26/2020</td>\n",
       "      <td>Blue</td>\n",
       "    </tr>\n",
       "    <tr>\n",
       "      <th>CA</th>\n",
       "      <td>235999</td>\n",
       "      <td>Winery3</td>\n",
       "      <td>12/29/2020</td>\n",
       "      <td>Napa</td>\n",
       "      <td>94558</td>\n",
       "      <td>GSC</td>\n",
       "      <td>12/29/2020</td>\n",
       "      <td>9.9</td>\n",
       "      <td>3.0</td>\n",
       "      <td>39,512,223</td>\n",
       "      <td>3/19/2020</td>\n",
       "      <td>4/2/2020</td>\n",
       "      <td>5/13/2020</td>\n",
       "      <td>Blue</td>\n",
       "    </tr>\n",
       "    <tr>\n",
       "      <th>CO</th>\n",
       "      <td>236000</td>\n",
       "      <td>Winery3</td>\n",
       "      <td>12/29/2020</td>\n",
       "      <td>Aurora</td>\n",
       "      <td>80014</td>\n",
       "      <td>UPS</td>\n",
       "      <td>12/29/2020</td>\n",
       "      <td>39.0</td>\n",
       "      <td>12.0</td>\n",
       "      <td>5,758,736</td>\n",
       "      <td>3/26/2020</td>\n",
       "      <td>4/26/2020</td>\n",
       "      <td>4/26/2020</td>\n",
       "      <td>Blue</td>\n",
       "    </tr>\n",
       "    <tr>\n",
       "      <th>VA</th>\n",
       "      <td>236001</td>\n",
       "      <td>Winery3</td>\n",
       "      <td>12/28/2020</td>\n",
       "      <td>Charlottesville</td>\n",
       "      <td>22901</td>\n",
       "      <td>UPS</td>\n",
       "      <td>12/28/2020</td>\n",
       "      <td>21.5</td>\n",
       "      <td>6.0</td>\n",
       "      <td>8,535,519</td>\n",
       "      <td>3/30/2020</td>\n",
       "      <td>5/15/2020</td>\n",
       "      <td>5/29/2020</td>\n",
       "      <td>Blue</td>\n",
       "    </tr>\n",
       "    <tr>\n",
       "      <th>CA</th>\n",
       "      <td>236002</td>\n",
       "      <td>Winery3</td>\n",
       "      <td>12/29/2020</td>\n",
       "      <td>Napa</td>\n",
       "      <td>94558</td>\n",
       "      <td>WCU</td>\n",
       "      <td>12/29/2020</td>\n",
       "      <td>21.5</td>\n",
       "      <td>6.0</td>\n",
       "      <td>39,512,223</td>\n",
       "      <td>3/19/2020</td>\n",
       "      <td>4/2/2020</td>\n",
       "      <td>5/13/2020</td>\n",
       "      <td>Blue</td>\n",
       "    </tr>\n",
       "  </tbody>\n",
       "</table>\n",
       "</div>"
      ],
      "text/plain": [
       "       Order Number Company Name   Ship Date             City    Zip  \\\n",
       "State                                                                  \n",
       "CA           235993      Winery3  12/21/2020    San Francisco  94109   \n",
       "NC           235994      Winery3  12/23/2020        Charlotte  28211   \n",
       "HI           235995      Winery3  12/28/2020          kamuela  96743   \n",
       "TX           235996      Winery3  12/28/2020       Carrollton  75010   \n",
       "FL           235997      Winery3  12/28/2020     Delray Beach  33446   \n",
       "CO           235998      Winery3  12/29/2020           Aurora  80013   \n",
       "CA           235999      Winery3  12/29/2020             Napa  94558   \n",
       "CO           236000      Winery3  12/29/2020           Aurora  80014   \n",
       "VA           236001      Winery3  12/28/2020  Charlottesville  22901   \n",
       "CA           236002      Winery3  12/29/2020             Napa  94558   \n",
       "\n",
       "      Shipping Service Created Date  Weight  Item/Bottle Count  Population  \\\n",
       "State                                                                        \n",
       "CA                 GSC   12/21/2020     9.9                3.0  39,512,223   \n",
       "NC                 UP3   12/23/2020    41.0               12.0  10,488,084   \n",
       "HI                 UPS   12/28/2020    21.5                6.0   1,415,872   \n",
       "TX                 UP2   12/28/2020    21.5                6.0  28,995,881   \n",
       "FL                 UPS   12/28/2020    21.5                6.0  21,477,737   \n",
       "CO                 UPS   12/29/2020    21.5                6.0   5,758,736   \n",
       "CA                 GSC   12/29/2020     9.9                3.0  39,512,223   \n",
       "CO                 UPS   12/29/2020    39.0               12.0   5,758,736   \n",
       "VA                 UPS   12/28/2020    21.5                6.0   8,535,519   \n",
       "CA                 WCU   12/29/2020    21.5                6.0  39,512,223   \n",
       "\n",
       "      Lockdown Start Initial Expected Lockdown End Phase 1 Re-Opening Start  \\\n",
       "State                                                                         \n",
       "CA         3/19/2020                      4/2/2020                5/13/2020   \n",
       "NC         3/30/2020                     4/29/2020                5/20/2020   \n",
       "HI         3/23/2020                     4/30/2020                 5/5/2020   \n",
       "TX         3/31/2020                      5/4/2020                 5/1/2020   \n",
       "FL          4/1/2020                      5/1/2020                9/25/2020   \n",
       "CO         3/26/2020                     4/26/2020                4/26/2020   \n",
       "CA         3/19/2020                      4/2/2020                5/13/2020   \n",
       "CO         3/26/2020                     4/26/2020                4/26/2020   \n",
       "VA         3/30/2020                     5/15/2020                5/29/2020   \n",
       "CA         3/19/2020                      4/2/2020                5/13/2020   \n",
       "\n",
       "      Political Alignment  \n",
       "State                      \n",
       "CA                   Blue  \n",
       "NC                    Red  \n",
       "HI                  Blue   \n",
       "TX                    Red  \n",
       "FL                    Red  \n",
       "CO                   Blue  \n",
       "CA                   Blue  \n",
       "CO                   Blue  \n",
       "VA                   Blue  \n",
       "CA                   Blue  "
      ]
     },
     "execution_count": 9,
     "metadata": {},
     "output_type": "execute_result"
    }
   ],
   "source": [
    "states_2020.tail(10)"
   ]
  },
  {
   "cell_type": "code",
   "execution_count": 10,
   "id": "e053240a",
   "metadata": {},
   "outputs": [],
   "source": [
    "#This code changes all the values to \"None\" Needs fixing.\n",
    "#Change Red and Blue values to be \"Red\" \"Blue\". Currently multiple versions- ['Red' 'Blue' 'blue' 'Blue ' 'red' nan]\n",
    "#states_2020['Political Alignment'] = states_2020['Political Alignment'].replace({'blue': 'Blue',\n",
    "#                                                                                 'Blue ': 'Blue',\n",
    "#                                                                                 'red': 'Red'}, inplace=True)\n",
    "#states_2020"
   ]
  },
  {
   "cell_type": "code",
   "execution_count": 11,
   "id": "0f26f0da",
   "metadata": {},
   "outputs": [
    {
     "data": {
      "text/plain": [
       "1148819.0"
      ]
     },
     "execution_count": 11,
     "metadata": {},
     "output_type": "execute_result"
    }
   ],
   "source": [
    "# Calculate the total 2020 Item/Bottle Count.\n",
    "total_count_2020 = states_2020[\"Item/Bottle Count\"].sum()\n",
    "total_count_2020"
   ]
  },
  {
   "cell_type": "markdown",
   "id": "8f727188",
   "metadata": {},
   "source": [
    "## Slice Each State Into its Own Dataframe and Calculate Total Item/Bottle Count 2020."
   ]
  },
  {
   "cell_type": "code",
   "execution_count": 12,
   "id": "d87e7484",
   "metadata": {},
   "outputs": [],
   "source": [
    "#['FL', 'CA', 'NY', 'MD', 'TX', 'OH', 'NM', 'CT', 'MI', 'WA', 'PA',\n",
    "#       'CO', 'LA', 'HI', 'MA', 'NH', 'NJ', 'TN', 'IN', 'KS', 'NE', 'NC',\n",
    "#       'VA', 'IA', 'MN', 'WI', 'SC', 'SD', 'OR', 'ND', 'WY', 'IL', 'VT',\n",
    "#       'GA', 'AZ', 'DC', 'NV', 'MO', 'ME', 'RI', 'AR', 'AK', 'WV', 'MT',\n",
    "#       'ID', 'OK', 'AL', 'DE', 'Va', 'MS', 'KY']"
   ]
  },
  {
   "cell_type": "code",
   "execution_count": 13,
   "id": "4e756fd2",
   "metadata": {},
   "outputs": [],
   "source": [
    "slice_list = [\"AL\"]\n",
    "Alabama = states_2020.iloc[states_2020.index.isin(slice_list)]\n",
    "#Alabama"
   ]
  },
  {
   "cell_type": "code",
   "execution_count": 14,
   "id": "1bc1a114",
   "metadata": {},
   "outputs": [
    {
     "data": {
      "text/plain": [
       "2024.0"
      ]
     },
     "execution_count": 14,
     "metadata": {},
     "output_type": "execute_result"
    }
   ],
   "source": [
    "# Calculate the total Alabama Item/Bottle Count.\n",
    "Alabama[\"Item/Bottle Count\"].sum()"
   ]
  },
  {
   "cell_type": "code",
   "execution_count": 15,
   "id": "46bc454c",
   "metadata": {},
   "outputs": [],
   "source": [
    "slice_list = [\"AK\"]\n",
    "Alaska = states_2020.iloc[states_2020.index.isin(slice_list)]\n",
    "#Alaska"
   ]
  },
  {
   "cell_type": "code",
   "execution_count": 16,
   "id": "fa9ef0a5",
   "metadata": {},
   "outputs": [
    {
     "data": {
      "text/plain": [
       "2057.0"
      ]
     },
     "execution_count": 16,
     "metadata": {},
     "output_type": "execute_result"
    }
   ],
   "source": [
    "# Calculate the total Alaska Item/Bottle Count.\n",
    "Alaska[\"Item/Bottle Count\"].sum()"
   ]
  },
  {
   "cell_type": "code",
   "execution_count": 17,
   "id": "10dacd1f",
   "metadata": {},
   "outputs": [],
   "source": [
    "slice_list = [\"AZ\"]\n",
    "Arizona = states_2020.iloc[states_2020.index.isin(slice_list)]\n",
    "#Arizona"
   ]
  },
  {
   "cell_type": "code",
   "execution_count": 18,
   "id": "298982ef",
   "metadata": {},
   "outputs": [
    {
     "data": {
      "text/plain": [
       "16378.0"
      ]
     },
     "execution_count": 18,
     "metadata": {},
     "output_type": "execute_result"
    }
   ],
   "source": [
    "# Calculate the total Arizona Item/Bottle Count.\n",
    "Arizona[\"Item/Bottle Count\"].sum()"
   ]
  },
  {
   "cell_type": "code",
   "execution_count": 19,
   "id": "d917b8d2",
   "metadata": {},
   "outputs": [],
   "source": [
    "slice_list = [\"AR\"]\n",
    "Arkansas = states_2020.iloc[states_2020.index.isin(slice_list)]\n",
    "#Arkansas"
   ]
  },
  {
   "cell_type": "code",
   "execution_count": 20,
   "id": "e47d32b4",
   "metadata": {},
   "outputs": [
    {
     "data": {
      "text/plain": [
       "6512.0"
      ]
     },
     "execution_count": 20,
     "metadata": {},
     "output_type": "execute_result"
    }
   ],
   "source": [
    "# Calculate the total Arkansas Item/Bottle Count.\n",
    "Arkansas[\"Item/Bottle Count\"].sum()"
   ]
  },
  {
   "cell_type": "code",
   "execution_count": 21,
   "id": "30f0c11a",
   "metadata": {},
   "outputs": [],
   "source": [
    "slice_list = [\"CA\"]\n",
    "California = states_2020.iloc[states_2020.index.isin(slice_list)]\n",
    "#California"
   ]
  },
  {
   "cell_type": "code",
   "execution_count": 22,
   "id": "3d0f45fd",
   "metadata": {},
   "outputs": [
    {
     "data": {
      "text/plain": [
       "130312.0"
      ]
     },
     "execution_count": 22,
     "metadata": {},
     "output_type": "execute_result"
    }
   ],
   "source": [
    "# Calculate the total California Item/Bottle Count.\n",
    "California[\"Item/Bottle Count\"].sum()"
   ]
  },
  {
   "cell_type": "code",
   "execution_count": 23,
   "id": "acccd00a",
   "metadata": {},
   "outputs": [],
   "source": [
    "slice_list = [\"CO\"]\n",
    "Colorado = states_2020.iloc[states_2020.index.isin(slice_list)]\n",
    "#Colorado"
   ]
  },
  {
   "cell_type": "code",
   "execution_count": 24,
   "id": "927f2f03",
   "metadata": {},
   "outputs": [
    {
     "data": {
      "text/plain": [
       "27802.0"
      ]
     },
     "execution_count": 24,
     "metadata": {},
     "output_type": "execute_result"
    }
   ],
   "source": [
    "# Calculate the total Alaska Item/Bottle Count.\n",
    "Colorado[\"Item/Bottle Count\"].sum()"
   ]
  },
  {
   "cell_type": "code",
   "execution_count": 25,
   "id": "21aad67b",
   "metadata": {},
   "outputs": [],
   "source": [
    "slice_list = [\"CT\"]\n",
    "Connecticut = states_2020.iloc[states_2020.index.isin(slice_list)]\n",
    "#Connecticut"
   ]
  },
  {
   "cell_type": "code",
   "execution_count": 26,
   "id": "c2dbfd37",
   "metadata": {},
   "outputs": [
    {
     "data": {
      "text/plain": [
       "24062.0"
      ]
     },
     "execution_count": 26,
     "metadata": {},
     "output_type": "execute_result"
    }
   ],
   "source": [
    "# Calculate the total Connecticut Item/Bottle Count.\n",
    "Connecticut[\"Item/Bottle Count\"].sum()"
   ]
  },
  {
   "cell_type": "code",
   "execution_count": 27,
   "id": "705bb17c",
   "metadata": {},
   "outputs": [],
   "source": [
    "slice_list = [\"DC\"]\n",
    "DC = states_2020.iloc[states_2020.index.isin(slice_list)]\n",
    "#DC"
   ]
  },
  {
   "cell_type": "code",
   "execution_count": 28,
   "id": "9beb3fbd",
   "metadata": {},
   "outputs": [
    {
     "data": {
      "text/plain": [
       "8288.0"
      ]
     },
     "execution_count": 28,
     "metadata": {},
     "output_type": "execute_result"
    }
   ],
   "source": [
    "# Calculate the total Connecticut Item/Bottle Count.\n",
    "DC[\"Item/Bottle Count\"].sum()"
   ]
  },
  {
   "cell_type": "code",
   "execution_count": 29,
   "id": "4f2e7fdd",
   "metadata": {},
   "outputs": [],
   "source": [
    "slice_list = [\"DE\"]\n",
    "Delaware = states_2020.iloc[states_2020.index.isin(slice_list)]\n",
    "#Delaware"
   ]
  },
  {
   "cell_type": "code",
   "execution_count": 30,
   "id": "8ebf0de8",
   "metadata": {},
   "outputs": [
    {
     "data": {
      "text/plain": [
       "1289.0"
      ]
     },
     "execution_count": 30,
     "metadata": {},
     "output_type": "execute_result"
    }
   ],
   "source": [
    "# Calculate the total Delaware Item/Bottle Count.\n",
    "Delaware[\"Item/Bottle Count\"].sum()"
   ]
  },
  {
   "cell_type": "code",
   "execution_count": 31,
   "id": "0bbf4b39",
   "metadata": {},
   "outputs": [],
   "source": [
    "slice_list = [\"FL\"]\n",
    "Florida = states_2020.iloc[states_2020.index.isin(slice_list)]\n",
    "#Florida"
   ]
  },
  {
   "cell_type": "code",
   "execution_count": 32,
   "id": "7840ccc8",
   "metadata": {},
   "outputs": [
    {
     "data": {
      "text/plain": [
       "82961.0"
      ]
     },
     "execution_count": 32,
     "metadata": {},
     "output_type": "execute_result"
    }
   ],
   "source": [
    "# Calculate the total Florida Item/Bottle Count.\n",
    "Florida[\"Item/Bottle Count\"].sum()"
   ]
  },
  {
   "cell_type": "code",
   "execution_count": 33,
   "id": "8dc52048",
   "metadata": {},
   "outputs": [],
   "source": [
    "slice_list = [\"GA\"]\n",
    "Georgia = states_2020.iloc[states_2020.index.isin(slice_list)]\n",
    "#Georgia"
   ]
  },
  {
   "cell_type": "code",
   "execution_count": 34,
   "id": "852830b5",
   "metadata": {},
   "outputs": [
    {
     "data": {
      "text/plain": [
       "34693.0"
      ]
     },
     "execution_count": 34,
     "metadata": {},
     "output_type": "execute_result"
    }
   ],
   "source": [
    "# Calculate the total Georgia Item/Bottle Count.\n",
    "Georgia[\"Item/Bottle Count\"].sum()"
   ]
  },
  {
   "cell_type": "code",
   "execution_count": 35,
   "id": "98b63f4c",
   "metadata": {},
   "outputs": [],
   "source": [
    "slice_list = [\"HI\"]\n",
    "Hawaii = states_2020.iloc[states_2020.index.isin(slice_list)]\n",
    "#Hawaii"
   ]
  },
  {
   "cell_type": "code",
   "execution_count": 36,
   "id": "bbbcd02c",
   "metadata": {},
   "outputs": [
    {
     "data": {
      "text/plain": [
       "9666.0"
      ]
     },
     "execution_count": 36,
     "metadata": {},
     "output_type": "execute_result"
    }
   ],
   "source": [
    "# Calculate the total Hawaii Item/Bottle Count.\n",
    "Hawaii[\"Item/Bottle Count\"].sum()"
   ]
  },
  {
   "cell_type": "code",
   "execution_count": 37,
   "id": "c80e8149",
   "metadata": {},
   "outputs": [],
   "source": [
    "slice_list = [\"ID\"]\n",
    "Idaho = states_2020.iloc[states_2020.index.isin(slice_list)]\n",
    "#Idaho"
   ]
  },
  {
   "cell_type": "code",
   "execution_count": 38,
   "id": "86b16d53",
   "metadata": {},
   "outputs": [
    {
     "data": {
      "text/plain": [
       "3391.0"
      ]
     },
     "execution_count": 38,
     "metadata": {},
     "output_type": "execute_result"
    }
   ],
   "source": [
    "# Calculate the total Idaho Item/Bottle Count.\n",
    "Idaho[\"Item/Bottle Count\"].sum()"
   ]
  },
  {
   "cell_type": "code",
   "execution_count": 39,
   "id": "e733a5e1",
   "metadata": {},
   "outputs": [],
   "source": [
    "slice_list = [\"IL\"]\n",
    "Illinois = states_2020.iloc[states_2020.index.isin(slice_list)]\n",
    "#Illinois"
   ]
  },
  {
   "cell_type": "code",
   "execution_count": 40,
   "id": "18d973cc",
   "metadata": {},
   "outputs": [
    {
     "data": {
      "text/plain": [
       "51356.0"
      ]
     },
     "execution_count": 40,
     "metadata": {},
     "output_type": "execute_result"
    }
   ],
   "source": [
    "# Calculate the total Illinois Item/Bottle Count.\n",
    "Illinois[\"Item/Bottle Count\"].sum()"
   ]
  },
  {
   "cell_type": "code",
   "execution_count": 41,
   "id": "d487423e",
   "metadata": {},
   "outputs": [],
   "source": [
    "slice_list = [\"IN\"]\n",
    "Indiana = states_2020.iloc[states_2020.index.isin(slice_list)]\n",
    "#Indiana"
   ]
  },
  {
   "cell_type": "code",
   "execution_count": 42,
   "id": "0524172d",
   "metadata": {},
   "outputs": [
    {
     "data": {
      "text/plain": [
       "17476.0"
      ]
     },
     "execution_count": 42,
     "metadata": {},
     "output_type": "execute_result"
    }
   ],
   "source": [
    "# Calculate the total Indiana Item/Bottle Count.\n",
    "Indiana[\"Item/Bottle Count\"].sum()"
   ]
  },
  {
   "cell_type": "code",
   "execution_count": 43,
   "id": "1befd608",
   "metadata": {},
   "outputs": [],
   "source": [
    "slice_list = [\"IA\"]\n",
    "Iowa = states_2020.iloc[states_2020.index.isin(slice_list)]\n",
    "#Iowa"
   ]
  },
  {
   "cell_type": "code",
   "execution_count": 44,
   "id": "bdab2c99",
   "metadata": {},
   "outputs": [
    {
     "data": {
      "text/plain": [
       "5846.0"
      ]
     },
     "execution_count": 44,
     "metadata": {},
     "output_type": "execute_result"
    }
   ],
   "source": [
    "# Calculate the total Iowa Item/Bottle Count.\n",
    "Iowa[\"Item/Bottle Count\"].sum()"
   ]
  },
  {
   "cell_type": "code",
   "execution_count": 45,
   "id": "7332d5c2",
   "metadata": {},
   "outputs": [],
   "source": [
    "slice_list = [\"KS\"]\n",
    "Kansas = states_2020.iloc[states_2020.index.isin(slice_list)]\n",
    "#Kansas"
   ]
  },
  {
   "cell_type": "code",
   "execution_count": 46,
   "id": "e695bef0",
   "metadata": {},
   "outputs": [
    {
     "data": {
      "text/plain": [
       "7165.0"
      ]
     },
     "execution_count": 46,
     "metadata": {},
     "output_type": "execute_result"
    }
   ],
   "source": [
    "# Calculate the total Kansas Item/Bottle Count.\n",
    "Kansas[\"Item/Bottle Count\"].sum()"
   ]
  },
  {
   "cell_type": "code",
   "execution_count": 47,
   "id": "72ad54cf",
   "metadata": {},
   "outputs": [],
   "source": [
    "#Effective March 12, 2021, brand registration is not required for DTC products.  DTC shipping previously prohibited. \n",
    "slice_list = [\"KY\"]\n",
    "Kentucky = states_2020.iloc[states_2020.index.isin(slice_list)]\n",
    "#Kentucky"
   ]
  },
  {
   "cell_type": "code",
   "execution_count": 48,
   "id": "5f1f4f67",
   "metadata": {},
   "outputs": [
    {
     "data": {
      "text/plain": [
       "40.0"
      ]
     },
     "execution_count": 48,
     "metadata": {},
     "output_type": "execute_result"
    }
   ],
   "source": [
    "# Calculate the total Kentucky Item/Bottle Count.\n",
    "Kentucky[\"Item/Bottle Count\"].sum()"
   ]
  },
  {
   "cell_type": "code",
   "execution_count": 49,
   "id": "2c8ffee3",
   "metadata": {},
   "outputs": [],
   "source": [
    "slice_list = [\"LA\"]\n",
    "Louisiana = states_2020.iloc[states_2020.index.isin(slice_list)]\n",
    "#Louisiana"
   ]
  },
  {
   "cell_type": "code",
   "execution_count": 50,
   "id": "34e9c28d",
   "metadata": {},
   "outputs": [
    {
     "data": {
      "text/plain": [
       "10558.0"
      ]
     },
     "execution_count": 50,
     "metadata": {},
     "output_type": "execute_result"
    }
   ],
   "source": [
    "# Calculate the total Louisiana Item/Bottle Count.\n",
    "Louisiana[\"Item/Bottle Count\"].sum()"
   ]
  },
  {
   "cell_type": "code",
   "execution_count": 51,
   "id": "ad8fac0b",
   "metadata": {},
   "outputs": [],
   "source": [
    "slice_list = [\"ME\"]\n",
    "Maine = states_2020.iloc[states_2020.index.isin(slice_list)]\n",
    "#Maine"
   ]
  },
  {
   "cell_type": "code",
   "execution_count": 52,
   "id": "85707452",
   "metadata": {},
   "outputs": [
    {
     "data": {
      "text/plain": [
       "5007.0"
      ]
     },
     "execution_count": 52,
     "metadata": {},
     "output_type": "execute_result"
    }
   ],
   "source": [
    "# Calculate the total Maine Item/Bottle Count.\n",
    "Maine[\"Item/Bottle Count\"].sum()"
   ]
  },
  {
   "cell_type": "code",
   "execution_count": 53,
   "id": "88e0b96d",
   "metadata": {},
   "outputs": [],
   "source": [
    "slice_list = [\"MD\"]\n",
    "Maryland = states_2020.iloc[states_2020.index.isin(slice_list)]\n",
    "#Maryland"
   ]
  },
  {
   "cell_type": "code",
   "execution_count": 54,
   "id": "381650a7",
   "metadata": {},
   "outputs": [
    {
     "data": {
      "text/plain": [
       "29515.0"
      ]
     },
     "execution_count": 54,
     "metadata": {},
     "output_type": "execute_result"
    }
   ],
   "source": [
    "# Calculate the total Maryland Item/Bottle Count.\n",
    "Maryland[\"Item/Bottle Count\"].sum()"
   ]
  },
  {
   "cell_type": "code",
   "execution_count": 55,
   "id": "32e12154",
   "metadata": {},
   "outputs": [],
   "source": [
    "slice_list = [\"MA\"]\n",
    "Massachusetts = states_2020.iloc[states_2020.index.isin(slice_list)]\n",
    "#Massachusetts"
   ]
  },
  {
   "cell_type": "code",
   "execution_count": 56,
   "id": "c71c15fb",
   "metadata": {},
   "outputs": [
    {
     "data": {
      "text/plain": [
       "43665.0"
      ]
     },
     "execution_count": 56,
     "metadata": {},
     "output_type": "execute_result"
    }
   ],
   "source": [
    "# Calculate the total Massachusetts Item/Bottle Count.\n",
    "Massachusetts[\"Item/Bottle Count\"].sum()"
   ]
  },
  {
   "cell_type": "code",
   "execution_count": 57,
   "id": "48fba113",
   "metadata": {},
   "outputs": [],
   "source": [
    "slice_list = [\"MI\"]\n",
    "Michigan = states_2020.iloc[states_2020.index.isin(slice_list)]\n",
    "#Michigan"
   ]
  },
  {
   "cell_type": "code",
   "execution_count": 58,
   "id": "46cde1b5",
   "metadata": {},
   "outputs": [
    {
     "data": {
      "text/plain": [
       "36218.0"
      ]
     },
     "execution_count": 58,
     "metadata": {},
     "output_type": "execute_result"
    }
   ],
   "source": [
    "# Calculate the total Michigan Item/Bottle Count.\n",
    "Michigan[\"Item/Bottle Count\"].sum()"
   ]
  },
  {
   "cell_type": "code",
   "execution_count": 59,
   "id": "fb231a20",
   "metadata": {},
   "outputs": [],
   "source": [
    "slice_list = [\"MN\"]\n",
    "Minnesota = states_2020.iloc[states_2020.index.isin(slice_list)]\n",
    "#Minnesota"
   ]
  },
  {
   "cell_type": "code",
   "execution_count": 60,
   "id": "4b214696",
   "metadata": {},
   "outputs": [
    {
     "data": {
      "text/plain": [
       "15040.0"
      ]
     },
     "execution_count": 60,
     "metadata": {},
     "output_type": "execute_result"
    }
   ],
   "source": [
    "# Calculate the total Minnesota Item/Bottle Count.\n",
    "Minnesota[\"Item/Bottle Count\"].sum()"
   ]
  },
  {
   "cell_type": "code",
   "execution_count": 61,
   "id": "9a20f7a8",
   "metadata": {},
   "outputs": [],
   "source": [
    "#DTC shipping prohibited in Mississippi. This order was sent to Philedelphia, MS (A real place!) and likely\n",
    "#bypassed the checks/balances that are in place to adhere to shipping laws. \n",
    "slice_list = [\"MS\"]\n",
    "Mississippi = states_2020.iloc[states_2020.index.isin(slice_list)]\n",
    "#Mississippi"
   ]
  },
  {
   "cell_type": "code",
   "execution_count": 62,
   "id": "2b1e324c",
   "metadata": {},
   "outputs": [
    {
     "data": {
      "text/plain": [
       "6.0"
      ]
     },
     "execution_count": 62,
     "metadata": {},
     "output_type": "execute_result"
    }
   ],
   "source": [
    "# Calculate the total Mississippi Item/Bottle Count.\n",
    "Mississippi[\"Item/Bottle Count\"].sum()"
   ]
  },
  {
   "cell_type": "code",
   "execution_count": 63,
   "id": "9bef5856",
   "metadata": {},
   "outputs": [],
   "source": [
    "slice_list = [\"MO\"]\n",
    "Missouri = states_2020.iloc[states_2020.index.isin(slice_list)]\n",
    "#Missouri"
   ]
  },
  {
   "cell_type": "code",
   "execution_count": 64,
   "id": "5df1975f",
   "metadata": {},
   "outputs": [
    {
     "data": {
      "text/plain": [
       "13633.0"
      ]
     },
     "execution_count": 64,
     "metadata": {},
     "output_type": "execute_result"
    }
   ],
   "source": [
    "# Calculate the total Missouri Item/Bottle Count.\n",
    "Missouri[\"Item/Bottle Count\"].sum()"
   ]
  },
  {
   "cell_type": "code",
   "execution_count": 65,
   "id": "a4328eed",
   "metadata": {},
   "outputs": [],
   "source": [
    "slice_list = [\"MT\"]\n",
    "Montana = states_2020.iloc[states_2020.index.isin(slice_list)]\n",
    "#Montana"
   ]
  },
  {
   "cell_type": "code",
   "execution_count": 66,
   "id": "aae94fd9",
   "metadata": {},
   "outputs": [
    {
     "data": {
      "text/plain": [
       "2472.0"
      ]
     },
     "execution_count": 66,
     "metadata": {},
     "output_type": "execute_result"
    }
   ],
   "source": [
    "# Calculate the total Montana Item/Bottle Count.\n",
    "Montana[\"Item/Bottle Count\"].sum()"
   ]
  },
  {
   "cell_type": "code",
   "execution_count": 67,
   "id": "f2b39ab0",
   "metadata": {},
   "outputs": [],
   "source": [
    "#No shipping law information- No orders for Nebraska\n",
    "slice_list = [\"NE\"]\n",
    "Nebraska = states_2020.iloc[states_2020.index.isin(slice_list)]\n",
    "#Nebraska"
   ]
  },
  {
   "cell_type": "code",
   "execution_count": 68,
   "id": "e1e943f9",
   "metadata": {},
   "outputs": [
    {
     "data": {
      "text/plain": [
       "4753.0"
      ]
     },
     "execution_count": 68,
     "metadata": {},
     "output_type": "execute_result"
    }
   ],
   "source": [
    "# Calculate the total Nebraska Item/Bottle Count.\n",
    "Nebraska[\"Item/Bottle Count\"].sum()"
   ]
  },
  {
   "cell_type": "code",
   "execution_count": 69,
   "id": "100e9166",
   "metadata": {},
   "outputs": [],
   "source": [
    "slice_list = [\"NV\"]\n",
    "Nevada = states_2020.iloc[states_2020.index.isin(slice_list)]\n",
    "#Nevada"
   ]
  },
  {
   "cell_type": "code",
   "execution_count": 70,
   "id": "9c857bcf",
   "metadata": {},
   "outputs": [
    {
     "data": {
      "text/plain": [
       "6802.0"
      ]
     },
     "execution_count": 70,
     "metadata": {},
     "output_type": "execute_result"
    }
   ],
   "source": [
    "# Calculate the total Nevada Item/Bottle Count.\n",
    "Nevada[\"Item/Bottle Count\"].sum()"
   ]
  },
  {
   "cell_type": "code",
   "execution_count": 71,
   "id": "4aea4238",
   "metadata": {},
   "outputs": [],
   "source": [
    "slice_list = [\"NH\"]\n",
    "New_Hampshire = states_2020.iloc[states_2020.index.isin(slice_list)]\n",
    "#New_Hampshire"
   ]
  },
  {
   "cell_type": "code",
   "execution_count": 72,
   "id": "89efa6ce",
   "metadata": {},
   "outputs": [
    {
     "data": {
      "text/plain": [
       "6015.0"
      ]
     },
     "execution_count": 72,
     "metadata": {},
     "output_type": "execute_result"
    }
   ],
   "source": [
    "# Calculate the total New_Hampshire Item/Bottle Count.\n",
    "New_Hampshire[\"Item/Bottle Count\"].sum()"
   ]
  },
  {
   "cell_type": "code",
   "execution_count": 73,
   "id": "66c74e9c",
   "metadata": {},
   "outputs": [],
   "source": [
    "slice_list = [\"NJ\"]\n",
    "New_Jersey = states_2020.iloc[states_2020.index.isin(slice_list)]\n",
    "#New_Jersey"
   ]
  },
  {
   "cell_type": "code",
   "execution_count": 74,
   "id": "42d1beb9",
   "metadata": {},
   "outputs": [
    {
     "data": {
      "text/plain": [
       "61171.0"
      ]
     },
     "execution_count": 74,
     "metadata": {},
     "output_type": "execute_result"
    }
   ],
   "source": [
    "# Calculate the total New Jersey Item/Bottle Count.\n",
    "New_Jersey[\"Item/Bottle Count\"].sum()"
   ]
  },
  {
   "cell_type": "code",
   "execution_count": 75,
   "id": "6af4fcab",
   "metadata": {},
   "outputs": [],
   "source": [
    "slice_list = [\"NM\"]\n",
    "New_Mexico = states_2020.iloc[states_2020.index.isin(slice_list)]\n",
    "#New_Mexico"
   ]
  },
  {
   "cell_type": "code",
   "execution_count": 76,
   "id": "192570b8",
   "metadata": {},
   "outputs": [
    {
     "data": {
      "text/plain": [
       "4487.0"
      ]
     },
     "execution_count": 76,
     "metadata": {},
     "output_type": "execute_result"
    }
   ],
   "source": [
    "# Calculate the total New Mexico Item/Bottle Count.\n",
    "New_Mexico[\"Item/Bottle Count\"].sum()"
   ]
  },
  {
   "cell_type": "code",
   "execution_count": 77,
   "id": "b2078a5c",
   "metadata": {},
   "outputs": [],
   "source": [
    "slice_list = [\"NY\"]\n",
    "New_York = states_2020.iloc[states_2020.index.isin(slice_list)]\n",
    "#New_York"
   ]
  },
  {
   "cell_type": "code",
   "execution_count": 78,
   "id": "7d0e3bbb",
   "metadata": {},
   "outputs": [
    {
     "data": {
      "text/plain": [
       "119653.0"
      ]
     },
     "execution_count": 78,
     "metadata": {},
     "output_type": "execute_result"
    }
   ],
   "source": [
    "# Calculate the total New York Item/Bottle Count.\n",
    "New_York[\"Item/Bottle Count\"].sum()"
   ]
  },
  {
   "cell_type": "code",
   "execution_count": 79,
   "id": "fb7706c7",
   "metadata": {},
   "outputs": [],
   "source": [
    "slice_list = [\"NC\"]\n",
    "North_Carolina = states_2020.iloc[states_2020.index.isin(slice_list)]\n",
    "#North_Carolina"
   ]
  },
  {
   "cell_type": "code",
   "execution_count": 80,
   "id": "30e40de8",
   "metadata": {},
   "outputs": [
    {
     "data": {
      "text/plain": [
       "28220.0"
      ]
     },
     "execution_count": 80,
     "metadata": {},
     "output_type": "execute_result"
    }
   ],
   "source": [
    "# Calculate the total North Carolina Item/Bottle Count.\n",
    "North_Carolina[\"Item/Bottle Count\"].sum()"
   ]
  },
  {
   "cell_type": "code",
   "execution_count": 81,
   "id": "5172eead",
   "metadata": {},
   "outputs": [],
   "source": [
    "slice_list = [\"ND\"]\n",
    "North_Dakota = states_2020.iloc[states_2020.index.isin(slice_list)]\n",
    "#North_Dakota"
   ]
  },
  {
   "cell_type": "code",
   "execution_count": 82,
   "id": "cc38a006",
   "metadata": {},
   "outputs": [
    {
     "data": {
      "text/plain": [
       "2042.0"
      ]
     },
     "execution_count": 82,
     "metadata": {},
     "output_type": "execute_result"
    }
   ],
   "source": [
    "# Calculate the total North Dakota Item/Bottle Count.\n",
    "North_Dakota[\"Item/Bottle Count\"].sum()"
   ]
  },
  {
   "cell_type": "code",
   "execution_count": 83,
   "id": "f0deb3be",
   "metadata": {},
   "outputs": [],
   "source": [
    "slice_list = [\"OH\"]\n",
    "Ohio = states_2020.iloc[states_2020.index.isin(slice_list)]\n",
    "#Ohio"
   ]
  },
  {
   "cell_type": "code",
   "execution_count": 84,
   "id": "7bd4c591",
   "metadata": {},
   "outputs": [
    {
     "data": {
      "text/plain": [
       "36798.0"
      ]
     },
     "execution_count": 84,
     "metadata": {},
     "output_type": "execute_result"
    }
   ],
   "source": [
    "# Calculate the total Ohio Item/Bottle Count.\n",
    "Ohio[\"Item/Bottle Count\"].sum()"
   ]
  },
  {
   "cell_type": "code",
   "execution_count": 85,
   "id": "e2195732",
   "metadata": {},
   "outputs": [],
   "source": [
    "slice_list = [\"OK\"]\n",
    "Oklahoma = states_2020.iloc[states_2020.index.isin(slice_list)]\n",
    "#Oklahoma"
   ]
  },
  {
   "cell_type": "code",
   "execution_count": 86,
   "id": "e8aee12d",
   "metadata": {},
   "outputs": [
    {
     "data": {
      "text/plain": [
       "4694.0"
      ]
     },
     "execution_count": 86,
     "metadata": {},
     "output_type": "execute_result"
    }
   ],
   "source": [
    "# Calculate the total Oklahoma Item/Bottle Count.\n",
    "Oklahoma[\"Item/Bottle Count\"].sum()"
   ]
  },
  {
   "cell_type": "code",
   "execution_count": 87,
   "id": "7f88e070",
   "metadata": {},
   "outputs": [],
   "source": [
    "slice_list = [\"OR\"]\n",
    "Oregon = states_2020.iloc[states_2020.index.isin(slice_list)]\n",
    "#Oregon"
   ]
  },
  {
   "cell_type": "code",
   "execution_count": 88,
   "id": "301c0ba5",
   "metadata": {},
   "outputs": [
    {
     "data": {
      "text/plain": [
       "11952.0"
      ]
     },
     "execution_count": 88,
     "metadata": {},
     "output_type": "execute_result"
    }
   ],
   "source": [
    "# Calculate the total Oregon Item/Bottle Count.\n",
    "Oregon[\"Item/Bottle Count\"].sum()"
   ]
  },
  {
   "cell_type": "code",
   "execution_count": 89,
   "id": "85ccc8a8",
   "metadata": {},
   "outputs": [],
   "source": [
    "slice_list = [\"PA\"]\n",
    "Pennsylvania = states_2020.iloc[states_2020.index.isin(slice_list)]\n",
    "#Pennsylvania"
   ]
  },
  {
   "cell_type": "code",
   "execution_count": 90,
   "id": "ab2abfe5",
   "metadata": {},
   "outputs": [
    {
     "data": {
      "text/plain": [
       "82215.0"
      ]
     },
     "execution_count": 90,
     "metadata": {},
     "output_type": "execute_result"
    }
   ],
   "source": [
    "# Calculate the total Pennsylvania Item/Bottle Count.\n",
    "Pennsylvania[\"Item/Bottle Count\"].sum()"
   ]
  },
  {
   "cell_type": "code",
   "execution_count": 91,
   "id": "0962fe9d",
   "metadata": {},
   "outputs": [],
   "source": [
    "slice_list = [\"RI\"]\n",
    "Rhode_Island = states_2020.iloc[states_2020.index.isin(slice_list)]\n",
    "#Rhode_Island"
   ]
  },
  {
   "cell_type": "code",
   "execution_count": 92,
   "id": "9fdb9396",
   "metadata": {},
   "outputs": [
    {
     "data": {
      "text/plain": [
       "7767.0"
      ]
     },
     "execution_count": 92,
     "metadata": {},
     "output_type": "execute_result"
    }
   ],
   "source": [
    "# Calculate the total Rhode Island Item/Bottle Count.\n",
    "Rhode_Island[\"Item/Bottle Count\"].sum()"
   ]
  },
  {
   "cell_type": "code",
   "execution_count": 93,
   "id": "3a4b5479",
   "metadata": {},
   "outputs": [],
   "source": [
    "slice_list = [\"SC\"]\n",
    "South_Carolina = states_2020.iloc[states_2020.index.isin(slice_list)]\n",
    "#South_Carolina"
   ]
  },
  {
   "cell_type": "code",
   "execution_count": 94,
   "id": "ec0980b5",
   "metadata": {},
   "outputs": [
    {
     "data": {
      "text/plain": [
       "14478.0"
      ]
     },
     "execution_count": 94,
     "metadata": {},
     "output_type": "execute_result"
    }
   ],
   "source": [
    "# Calculate the total Oregon Item/Bottle Count.\n",
    "South_Carolina[\"Item/Bottle Count\"].sum()"
   ]
  },
  {
   "cell_type": "code",
   "execution_count": 95,
   "id": "76a645da",
   "metadata": {},
   "outputs": [],
   "source": [
    "slice_list = [\"SD\"]\n",
    "South_Dakota = states_2020.iloc[states_2020.index.isin(slice_list)]\n",
    "#South_Dakota"
   ]
  },
  {
   "cell_type": "code",
   "execution_count": 96,
   "id": "b1f7d014",
   "metadata": {},
   "outputs": [
    {
     "data": {
      "text/plain": [
       "1757.0"
      ]
     },
     "execution_count": 96,
     "metadata": {},
     "output_type": "execute_result"
    }
   ],
   "source": [
    "# Calculate the total South_Dakota Item/Bottle Count.\n",
    "South_Dakota[\"Item/Bottle Count\"].sum()"
   ]
  },
  {
   "cell_type": "code",
   "execution_count": 97,
   "id": "a5519729",
   "metadata": {},
   "outputs": [],
   "source": [
    "slice_list = [\"TN\"]\n",
    "Tennessee = states_2020.iloc[states_2020.index.isin(slice_list)]\n",
    "#Tennessee"
   ]
  },
  {
   "cell_type": "code",
   "execution_count": 98,
   "id": "d48d6e6c",
   "metadata": {},
   "outputs": [
    {
     "data": {
      "text/plain": [
       "20300.0"
      ]
     },
     "execution_count": 98,
     "metadata": {},
     "output_type": "execute_result"
    }
   ],
   "source": [
    "# Calculate the total Tennessee Item/Bottle Count.\n",
    "Tennessee[\"Item/Bottle Count\"].sum()"
   ]
  },
  {
   "cell_type": "code",
   "execution_count": 99,
   "id": "5005f44d",
   "metadata": {},
   "outputs": [],
   "source": [
    "slice_list = [\"TX\"]\n",
    "Texas = states_2020.iloc[states_2020.index.isin(slice_list)]\n",
    "#Texas"
   ]
  },
  {
   "cell_type": "code",
   "execution_count": 100,
   "id": "354213ec",
   "metadata": {},
   "outputs": [
    {
     "data": {
      "text/plain": [
       "66704.0"
      ]
     },
     "execution_count": 100,
     "metadata": {},
     "output_type": "execute_result"
    }
   ],
   "source": [
    "# Calculate the total Texas Item/Bottle Count.\n",
    "Texas[\"Item/Bottle Count\"].sum()"
   ]
  },
  {
   "cell_type": "code",
   "execution_count": 101,
   "id": "b03db9f4",
   "metadata": {},
   "outputs": [],
   "source": [
    "#No orders from Utah. DTC shipping prohibited.\n",
    "slice_list = [\"UT\"]\n",
    "Utah = states_2020.iloc[states_2020.index.isin(slice_list)]\n",
    "#Utah"
   ]
  },
  {
   "cell_type": "code",
   "execution_count": 102,
   "id": "1e695744",
   "metadata": {},
   "outputs": [
    {
     "data": {
      "text/plain": [
       "0.0"
      ]
     },
     "execution_count": 102,
     "metadata": {},
     "output_type": "execute_result"
    }
   ],
   "source": [
    "# Calculate the total Utah Item/Bottle Count.\n",
    "Utah[\"Item/Bottle Count\"].sum()"
   ]
  },
  {
   "cell_type": "code",
   "execution_count": 103,
   "id": "f45b39a1",
   "metadata": {},
   "outputs": [],
   "source": [
    "slice_list = [\"VT\"]\n",
    "Vermont = states_2020.iloc[states_2020.index.isin(slice_list)]\n",
    "#Vermont"
   ]
  },
  {
   "cell_type": "code",
   "execution_count": 104,
   "id": "1d840441",
   "metadata": {},
   "outputs": [
    {
     "data": {
      "text/plain": [
       "3703.0"
      ]
     },
     "execution_count": 104,
     "metadata": {},
     "output_type": "execute_result"
    }
   ],
   "source": [
    "# Calculate the total Vermont Item/Bottle Count.\n",
    "Vermont[\"Item/Bottle Count\"].sum()"
   ]
  },
  {
   "cell_type": "code",
   "execution_count": 105,
   "id": "7c4d6473",
   "metadata": {},
   "outputs": [],
   "source": [
    "slice_list = [\"VA\"]\n",
    "Virginia = states_2020.iloc[states_2020.index.isin(slice_list)]\n",
    "#Virginia"
   ]
  },
  {
   "cell_type": "code",
   "execution_count": 106,
   "id": "cd24c9ee",
   "metadata": {},
   "outputs": [
    {
     "data": {
      "text/plain": [
       "40063.0"
      ]
     },
     "execution_count": 106,
     "metadata": {},
     "output_type": "execute_result"
    }
   ],
   "source": [
    "# Calculate the total Virginia Item/Bottle Count.\n",
    "Virginia[\"Item/Bottle Count\"].sum()"
   ]
  },
  {
   "cell_type": "code",
   "execution_count": 107,
   "id": "1e63c74c",
   "metadata": {},
   "outputs": [
    {
     "data": {
      "text/html": [
       "<div>\n",
       "<style scoped>\n",
       "    .dataframe tbody tr th:only-of-type {\n",
       "        vertical-align: middle;\n",
       "    }\n",
       "\n",
       "    .dataframe tbody tr th {\n",
       "        vertical-align: top;\n",
       "    }\n",
       "\n",
       "    .dataframe thead th {\n",
       "        text-align: right;\n",
       "    }\n",
       "</style>\n",
       "<table border=\"1\" class=\"dataframe\">\n",
       "  <thead>\n",
       "    <tr style=\"text-align: right;\">\n",
       "      <th></th>\n",
       "      <th>Order Number</th>\n",
       "      <th>Company Name</th>\n",
       "      <th>Ship Date</th>\n",
       "      <th>City</th>\n",
       "      <th>Zip</th>\n",
       "      <th>Shipping Service</th>\n",
       "      <th>Created Date</th>\n",
       "      <th>Weight</th>\n",
       "      <th>Item/Bottle Count</th>\n",
       "      <th>Population</th>\n",
       "      <th>Lockdown Start</th>\n",
       "      <th>Initial Expected Lockdown End</th>\n",
       "      <th>Phase 1 Re-Opening Start</th>\n",
       "      <th>Political Alignment</th>\n",
       "    </tr>\n",
       "    <tr>\n",
       "      <th>State</th>\n",
       "      <th></th>\n",
       "      <th></th>\n",
       "      <th></th>\n",
       "      <th></th>\n",
       "      <th></th>\n",
       "      <th></th>\n",
       "      <th></th>\n",
       "      <th></th>\n",
       "      <th></th>\n",
       "      <th></th>\n",
       "      <th></th>\n",
       "      <th></th>\n",
       "      <th></th>\n",
       "      <th></th>\n",
       "    </tr>\n",
       "  </thead>\n",
       "  <tbody>\n",
       "    <tr>\n",
       "      <th>Va</th>\n",
       "      <td>32552</td>\n",
       "      <td>Ecom3</td>\n",
       "      <td>4/11/20</td>\n",
       "      <td>Vienna</td>\n",
       "      <td>22181</td>\n",
       "      <td>FEH</td>\n",
       "      <td>4/10/20</td>\n",
       "      <td>41.0</td>\n",
       "      <td>12.0</td>\n",
       "      <td>NaN</td>\n",
       "      <td>NaN</td>\n",
       "      <td>NaN</td>\n",
       "      <td>NaN</td>\n",
       "      <td>NaN</td>\n",
       "    </tr>\n",
       "  </tbody>\n",
       "</table>\n",
       "</div>"
      ],
      "text/plain": [
       "       Order Number Company Name Ship Date    City    Zip Shipping Service  \\\n",
       "State                                                                        \n",
       "Va            32552        Ecom3   4/11/20  Vienna  22181              FEH   \n",
       "\n",
       "      Created Date  Weight  Item/Bottle Count Population Lockdown Start  \\\n",
       "State                                                                     \n",
       "Va         4/10/20    41.0               12.0        NaN            NaN   \n",
       "\n",
       "      Initial Expected Lockdown End Phase 1 Re-Opening Start  \\\n",
       "State                                                          \n",
       "Va                              NaN                      NaN   \n",
       "\n",
       "      Political Alignment  \n",
       "State                      \n",
       "Va                    NaN  "
      ]
     },
     "execution_count": 107,
     "metadata": {},
     "output_type": "execute_result"
    }
   ],
   "source": [
    "slice_list = [\"Va\"]\n",
    "Virginia2 = states_2020.iloc[states_2020.index.isin(slice_list)]\n",
    "Virginia2"
   ]
  },
  {
   "cell_type": "code",
   "execution_count": 108,
   "id": "156e9681",
   "metadata": {},
   "outputs": [
    {
     "data": {
      "text/plain": [
       "12.0"
      ]
     },
     "execution_count": 108,
     "metadata": {},
     "output_type": "execute_result"
    }
   ],
   "source": [
    "# Calculate the total Virginia Item/Bottle Count.\n",
    "Virginia2[\"Item/Bottle Count\"].sum()"
   ]
  },
  {
   "cell_type": "code",
   "execution_count": 109,
   "id": "04437358",
   "metadata": {},
   "outputs": [],
   "source": [
    "#Change Va to VA. "
   ]
  },
  {
   "cell_type": "code",
   "execution_count": 110,
   "id": "89abc71e",
   "metadata": {},
   "outputs": [],
   "source": [
    "slice_list = [\"WA\"]\n",
    "Washington = states_2020.iloc[states_2020.index.isin(slice_list)]\n",
    "#Washington"
   ]
  },
  {
   "cell_type": "code",
   "execution_count": 111,
   "id": "16318be9",
   "metadata": {},
   "outputs": [
    {
     "data": {
      "text/plain": [
       "19176.0"
      ]
     },
     "execution_count": 111,
     "metadata": {},
     "output_type": "execute_result"
    }
   ],
   "source": [
    "# Calculate the total Washington Item/Bottle Count.\n",
    "Washington[\"Item/Bottle Count\"].sum()"
   ]
  },
  {
   "cell_type": "code",
   "execution_count": 112,
   "id": "1a13d169",
   "metadata": {},
   "outputs": [],
   "source": [
    "slice_list = [\"WV\"]\n",
    "West_Virginia = states_2020.iloc[states_2020.index.isin(slice_list)]\n",
    "#West_Virginia"
   ]
  },
  {
   "cell_type": "code",
   "execution_count": 113,
   "id": "7bac9c7c",
   "metadata": {},
   "outputs": [
    {
     "data": {
      "text/plain": [
       "2869.0"
      ]
     },
     "execution_count": 113,
     "metadata": {},
     "output_type": "execute_result"
    }
   ],
   "source": [
    "# Calculate the total West Virginia Item/Bottle Count.\n",
    "West_Virginia[\"Item/Bottle Count\"].sum()"
   ]
  },
  {
   "cell_type": "code",
   "execution_count": 114,
   "id": "57a6d385",
   "metadata": {},
   "outputs": [],
   "source": [
    "slice_list = [\"WI\"]\n",
    "Wisconsin = states_2020.iloc[states_2020.index.isin(slice_list)]\n",
    "#Wisconsin"
   ]
  },
  {
   "cell_type": "code",
   "execution_count": 115,
   "id": "a20b77c2",
   "metadata": {},
   "outputs": [
    {
     "data": {
      "text/plain": [
       "13768.0"
      ]
     },
     "execution_count": 115,
     "metadata": {},
     "output_type": "execute_result"
    }
   ],
   "source": [
    "# Calculate the total Wisconsin Item/Bottle Count.\n",
    "Wisconsin[\"Item/Bottle Count\"].sum()"
   ]
  },
  {
   "cell_type": "code",
   "execution_count": 116,
   "id": "806f3be5",
   "metadata": {},
   "outputs": [],
   "source": [
    "slice_list = [\"WY\"]\n",
    "Wyoming = states_2020.iloc[states_2020.index.isin(slice_list)]\n",
    "#Wyoming"
   ]
  },
  {
   "cell_type": "code",
   "execution_count": 117,
   "id": "6eb9c5bf",
   "metadata": {},
   "outputs": [
    {
     "data": {
      "text/plain": [
       "1988.0"
      ]
     },
     "execution_count": 117,
     "metadata": {},
     "output_type": "execute_result"
    }
   ],
   "source": [
    "# Calculate the total Wyoming Item/Bottle Count.\n",
    "Wyoming[\"Item/Bottle Count\"].sum()"
   ]
  },
  {
   "cell_type": "code",
   "execution_count": 118,
   "id": "0e86674f",
   "metadata": {},
   "outputs": [
    {
     "data": {
      "text/plain": [
       "array(['1/1/20', '1/6/20', '1/13/20', '1/19/20', '12/12/19', '12/23/19',\n",
       "       '1/14/20', '1/15/20', '1/20/20', '1/27/20', '2/4/20', '2/2/20',\n",
       "       '2/3/20', '2/11/20', '2/14/20', '2/17/20', '2/20/20', '3/1/20',\n",
       "       '2/27/20', '3/10/20', '3/13/20', '3/12/20', '3/16/20', '3/18/20',\n",
       "       '3/25/20', '3/26/20', '3/22/20', '3/27/20', '3/28/20', '4/8/20',\n",
       "       '4/10/20', '4/3/20', '4/9/20', '4/15/20', '4/19/20', '4/23/20',\n",
       "       '4/25/20', '4/24/20', '5/4/20', '5/3/20', '5/5/20', '5/2/20',\n",
       "       '5/1/20', '5/8/20', '5/6/20', '5/14/20', '5/15/20', '5/10/20',\n",
       "       '5/12/20', '5/9/20', '5/13/20', '5/18/20', '5/20/20', '5/19/20',\n",
       "       '5/16/20', '5/22/20', '5/24/20', '5/23/20', '5/29/20', '5/25/20',\n",
       "       '5/31/2020', '6/4/2020', '6/3/2020', '6/1/2020', '5/30/2020',\n",
       "       '6/9/2020', '6/6/2020', '6/15/2020', '6/18/2020', '6/19/2020',\n",
       "       '6/12/2020', '6/10/2020', '6/16/2020', '6/17/2020', '6/22/2020',\n",
       "       '6/28/2020', '6/28/20', '7/15/20', '7/12/20', '7/16/20', '7/11/20',\n",
       "       '7/19/20', '7/21/20', '7/20/20', '7/22/20', '7/28/20', '7/29/20',\n",
       "       '7/26/20', '7/24/20', '7/31/2020', '8/2/2020', '8/3/2020',\n",
       "       '8/4/2020', '8/8/2020', '8/9/2020', '8/10/2020', '8/11/2020',\n",
       "       '8/12/2020', '8/16/2020', '8/17/2020', '8/18/2020', '8/19/2020',\n",
       "       '8/20/2020', '8/23/2020', '8/30/2020', '8/31/2020', '9/4/2020',\n",
       "       '9/2/2020', '9/9/2020', '9/6/2020', '9/5/2020', '9/7/2020',\n",
       "       '9/15/2020', '9/18/2020', '9/12/2020', '9/14/2020', '9/20/2020',\n",
       "       '9/21/2020', '9/30/2020', '10/7/2020', '10/6/2020', '10/15/2020',\n",
       "       '10/12/2020', '10/9/2020', '10/11/2020', '10/16/2020',\n",
       "       '10/13/2020', '10/18/2020', '10/20/2020', '10/17/2020',\n",
       "       '10/23/2020', '10/27/2020', '10/29/2020', '10/24/2020',\n",
       "       '10/26/2020', '10/30/20', '11/1/20', '11/2/20', '11/3/20',\n",
       "       '11/8/20', '11/9/20', '11/11/20', '11/15/20', '11/18/20',\n",
       "       '11/14/20', '11/23/20', '11/22/20', '11/21/20', '11/30/20',\n",
       "       '11/29/20', '11/28/20', '11/28/2020', '11/30/2020', '12/3/2020',\n",
       "       '12/4/2020', '12/10/2020', '12/17/2020', '12/15/2020',\n",
       "       '12/16/2020', '12/18/2020', '12/13/2020', '12/11/2020',\n",
       "       '12/14/2020', '12/21/2020', '12/27/2020', '12/29/2020',\n",
       "       '12/28/2020', '12/23/2020', '12/25/2020'], dtype=object)"
      ]
     },
     "execution_count": 118,
     "metadata": {},
     "output_type": "execute_result"
    }
   ],
   "source": [
    "#Trying to figure out how to get each state df to show total item/bottle count by month. .groupby?\n",
    "Wyoming[\"Created Date\"].unique()"
   ]
  },
  {
   "cell_type": "code",
   "execution_count": 119,
   "id": "4335dd6a",
   "metadata": {},
   "outputs": [
    {
     "data": {
      "text/html": [
       "<div>\n",
       "<style scoped>\n",
       "    .dataframe tbody tr th:only-of-type {\n",
       "        vertical-align: middle;\n",
       "    }\n",
       "\n",
       "    .dataframe tbody tr th {\n",
       "        vertical-align: top;\n",
       "    }\n",
       "\n",
       "    .dataframe thead th {\n",
       "        text-align: right;\n",
       "    }\n",
       "</style>\n",
       "<table border=\"1\" class=\"dataframe\">\n",
       "  <thead>\n",
       "    <tr style=\"text-align: right;\">\n",
       "      <th></th>\n",
       "      <th>State</th>\n",
       "      <th>Total Item/Bottle Count</th>\n",
       "    </tr>\n",
       "  </thead>\n",
       "  <tbody>\n",
       "    <tr>\n",
       "      <th>0</th>\n",
       "      <td>AL</td>\n",
       "      <td>2024</td>\n",
       "    </tr>\n",
       "    <tr>\n",
       "      <th>1</th>\n",
       "      <td>AK</td>\n",
       "      <td>2057</td>\n",
       "    </tr>\n",
       "    <tr>\n",
       "      <th>2</th>\n",
       "      <td>AZ</td>\n",
       "      <td>16378</td>\n",
       "    </tr>\n",
       "    <tr>\n",
       "      <th>3</th>\n",
       "      <td>AR</td>\n",
       "      <td>6512</td>\n",
       "    </tr>\n",
       "    <tr>\n",
       "      <th>4</th>\n",
       "      <td>CA</td>\n",
       "      <td>130312</td>\n",
       "    </tr>\n",
       "    <tr>\n",
       "      <th>5</th>\n",
       "      <td>CO</td>\n",
       "      <td>27802</td>\n",
       "    </tr>\n",
       "    <tr>\n",
       "      <th>6</th>\n",
       "      <td>CT</td>\n",
       "      <td>24062</td>\n",
       "    </tr>\n",
       "    <tr>\n",
       "      <th>7</th>\n",
       "      <td>DC</td>\n",
       "      <td>8288</td>\n",
       "    </tr>\n",
       "    <tr>\n",
       "      <th>8</th>\n",
       "      <td>DE</td>\n",
       "      <td>1289</td>\n",
       "    </tr>\n",
       "    <tr>\n",
       "      <th>9</th>\n",
       "      <td>FL</td>\n",
       "      <td>82961</td>\n",
       "    </tr>\n",
       "    <tr>\n",
       "      <th>10</th>\n",
       "      <td>GA</td>\n",
       "      <td>34693</td>\n",
       "    </tr>\n",
       "    <tr>\n",
       "      <th>11</th>\n",
       "      <td>HI</td>\n",
       "      <td>9666</td>\n",
       "    </tr>\n",
       "    <tr>\n",
       "      <th>12</th>\n",
       "      <td>ID</td>\n",
       "      <td>3391</td>\n",
       "    </tr>\n",
       "    <tr>\n",
       "      <th>13</th>\n",
       "      <td>IL</td>\n",
       "      <td>51356</td>\n",
       "    </tr>\n",
       "    <tr>\n",
       "      <th>14</th>\n",
       "      <td>IN</td>\n",
       "      <td>17476</td>\n",
       "    </tr>\n",
       "    <tr>\n",
       "      <th>15</th>\n",
       "      <td>IA</td>\n",
       "      <td>5848</td>\n",
       "    </tr>\n",
       "    <tr>\n",
       "      <th>16</th>\n",
       "      <td>KS</td>\n",
       "      <td>7165</td>\n",
       "    </tr>\n",
       "    <tr>\n",
       "      <th>17</th>\n",
       "      <td>KY</td>\n",
       "      <td>40</td>\n",
       "    </tr>\n",
       "    <tr>\n",
       "      <th>18</th>\n",
       "      <td>LA</td>\n",
       "      <td>10558</td>\n",
       "    </tr>\n",
       "    <tr>\n",
       "      <th>19</th>\n",
       "      <td>ME</td>\n",
       "      <td>5007</td>\n",
       "    </tr>\n",
       "    <tr>\n",
       "      <th>20</th>\n",
       "      <td>MD</td>\n",
       "      <td>29515</td>\n",
       "    </tr>\n",
       "    <tr>\n",
       "      <th>21</th>\n",
       "      <td>MA</td>\n",
       "      <td>43665</td>\n",
       "    </tr>\n",
       "    <tr>\n",
       "      <th>22</th>\n",
       "      <td>MI</td>\n",
       "      <td>36218</td>\n",
       "    </tr>\n",
       "    <tr>\n",
       "      <th>23</th>\n",
       "      <td>MN</td>\n",
       "      <td>15040</td>\n",
       "    </tr>\n",
       "    <tr>\n",
       "      <th>24</th>\n",
       "      <td>MS</td>\n",
       "      <td>6</td>\n",
       "    </tr>\n",
       "    <tr>\n",
       "      <th>25</th>\n",
       "      <td>MO</td>\n",
       "      <td>13633</td>\n",
       "    </tr>\n",
       "    <tr>\n",
       "      <th>26</th>\n",
       "      <td>MT</td>\n",
       "      <td>2472</td>\n",
       "    </tr>\n",
       "    <tr>\n",
       "      <th>27</th>\n",
       "      <td>NE</td>\n",
       "      <td>4753</td>\n",
       "    </tr>\n",
       "    <tr>\n",
       "      <th>28</th>\n",
       "      <td>NV</td>\n",
       "      <td>6802</td>\n",
       "    </tr>\n",
       "    <tr>\n",
       "      <th>29</th>\n",
       "      <td>NH</td>\n",
       "      <td>6015</td>\n",
       "    </tr>\n",
       "    <tr>\n",
       "      <th>30</th>\n",
       "      <td>NJ</td>\n",
       "      <td>61171</td>\n",
       "    </tr>\n",
       "    <tr>\n",
       "      <th>31</th>\n",
       "      <td>NM</td>\n",
       "      <td>4487</td>\n",
       "    </tr>\n",
       "    <tr>\n",
       "      <th>32</th>\n",
       "      <td>NY</td>\n",
       "      <td>119653</td>\n",
       "    </tr>\n",
       "    <tr>\n",
       "      <th>33</th>\n",
       "      <td>NC</td>\n",
       "      <td>28220</td>\n",
       "    </tr>\n",
       "    <tr>\n",
       "      <th>34</th>\n",
       "      <td>ND</td>\n",
       "      <td>2042</td>\n",
       "    </tr>\n",
       "    <tr>\n",
       "      <th>35</th>\n",
       "      <td>OH</td>\n",
       "      <td>36798</td>\n",
       "    </tr>\n",
       "    <tr>\n",
       "      <th>36</th>\n",
       "      <td>OK</td>\n",
       "      <td>4694</td>\n",
       "    </tr>\n",
       "    <tr>\n",
       "      <th>37</th>\n",
       "      <td>OR</td>\n",
       "      <td>11952</td>\n",
       "    </tr>\n",
       "    <tr>\n",
       "      <th>38</th>\n",
       "      <td>PA</td>\n",
       "      <td>82215</td>\n",
       "    </tr>\n",
       "    <tr>\n",
       "      <th>39</th>\n",
       "      <td>RI</td>\n",
       "      <td>7767</td>\n",
       "    </tr>\n",
       "    <tr>\n",
       "      <th>40</th>\n",
       "      <td>SC</td>\n",
       "      <td>14478</td>\n",
       "    </tr>\n",
       "    <tr>\n",
       "      <th>41</th>\n",
       "      <td>SD</td>\n",
       "      <td>1757</td>\n",
       "    </tr>\n",
       "    <tr>\n",
       "      <th>42</th>\n",
       "      <td>TN</td>\n",
       "      <td>20300</td>\n",
       "    </tr>\n",
       "    <tr>\n",
       "      <th>43</th>\n",
       "      <td>TX</td>\n",
       "      <td>66704</td>\n",
       "    </tr>\n",
       "    <tr>\n",
       "      <th>44</th>\n",
       "      <td>UT</td>\n",
       "      <td>0</td>\n",
       "    </tr>\n",
       "    <tr>\n",
       "      <th>45</th>\n",
       "      <td>VT</td>\n",
       "      <td>3703</td>\n",
       "    </tr>\n",
       "    <tr>\n",
       "      <th>46</th>\n",
       "      <td>VA</td>\n",
       "      <td>40063</td>\n",
       "    </tr>\n",
       "    <tr>\n",
       "      <th>47</th>\n",
       "      <td>Va</td>\n",
       "      <td>12</td>\n",
       "    </tr>\n",
       "    <tr>\n",
       "      <th>48</th>\n",
       "      <td>WA</td>\n",
       "      <td>19176</td>\n",
       "    </tr>\n",
       "    <tr>\n",
       "      <th>49</th>\n",
       "      <td>WV</td>\n",
       "      <td>2869</td>\n",
       "    </tr>\n",
       "    <tr>\n",
       "      <th>50</th>\n",
       "      <td>WI</td>\n",
       "      <td>13768</td>\n",
       "    </tr>\n",
       "    <tr>\n",
       "      <th>51</th>\n",
       "      <td>WY</td>\n",
       "      <td>1988</td>\n",
       "    </tr>\n",
       "  </tbody>\n",
       "</table>\n",
       "</div>"
      ],
      "text/plain": [
       "   State Total Item/Bottle Count\n",
       "0     AL                    2024\n",
       "1     AK                    2057\n",
       "2     AZ                   16378\n",
       "3     AR                    6512\n",
       "4     CA                  130312\n",
       "5     CO                   27802\n",
       "6     CT                   24062\n",
       "7     DC                    8288\n",
       "8     DE                    1289\n",
       "9     FL                   82961\n",
       "10    GA                   34693\n",
       "11    HI                    9666\n",
       "12    ID                    3391\n",
       "13    IL                   51356\n",
       "14    IN                   17476\n",
       "15    IA                    5848\n",
       "16    KS                    7165\n",
       "17    KY                      40\n",
       "18    LA                   10558\n",
       "19    ME                    5007\n",
       "20    MD                   29515\n",
       "21    MA                   43665\n",
       "22    MI                   36218\n",
       "23    MN                   15040\n",
       "24    MS                       6\n",
       "25    MO                   13633\n",
       "26    MT                    2472\n",
       "27    NE                    4753\n",
       "28    NV                    6802\n",
       "29    NH                    6015\n",
       "30    NJ                   61171\n",
       "31    NM                    4487\n",
       "32    NY                  119653\n",
       "33    NC                   28220\n",
       "34    ND                    2042\n",
       "35    OH                   36798\n",
       "36    OK                    4694\n",
       "37    OR                   11952\n",
       "38    PA                   82215\n",
       "39    RI                    7767\n",
       "40    SC                   14478\n",
       "41    SD                    1757\n",
       "42    TN                   20300\n",
       "43    TX                   66704\n",
       "44    UT                       0\n",
       "45    VT                    3703\n",
       "46    VA                   40063\n",
       "47    Va                      12\n",
       "48    WA                   19176\n",
       "49    WV                    2869\n",
       "50    WI                   13768\n",
       "51    WY                    1988"
      ]
     },
     "execution_count": 119,
     "metadata": {},
     "output_type": "execute_result"
    }
   ],
   "source": [
    "# List of Tuples\n",
    "state_count = [('AL', '2024'),\n",
    "              ('AK', '2057'),\n",
    "              ('AZ', '16378'),\n",
    "              ('AR', '6512'),\n",
    "              ('CA', '130312'),\n",
    "              ('CO', '27802'),\n",
    "              ('CT', '24062'),\n",
    "              ('DC', '8288'),\n",
    "              ('DE', '1289'),\n",
    "              ('FL', '82961'),\n",
    "              ('GA', '34693'),\n",
    "              ('HI', '9666'),\n",
    "              ('ID', '3391'),\n",
    "              ('IL', '51356'),\n",
    "              ('IN', '17476'),\n",
    "              ('IA', '5848'),\n",
    "              ('KS', '7165'),\n",
    "              ('KY', '40'),\n",
    "              ('LA', '10558'),\n",
    "              ('ME', '5007'),\n",
    "              ('MD', '29515'),\n",
    "              ('MA', '43665'),\n",
    "              ('MI', '36218'),\n",
    "              ('MN', '15040'),\n",
    "              ('MS', '6'),\n",
    "              ('MO', '13633'),\n",
    "              ('MT', '2472'),\n",
    "              ('NE', '4753'),\n",
    "              ('NV', '6802'),\n",
    "              ('NH', '6015'),\n",
    "              ('NJ', '61171'),\n",
    "              ('NM', '4487'),\n",
    "              ('NY', '119653'),\n",
    "              ('NC', '28220'),\n",
    "              ('ND', '2042'),\n",
    "              ('OH', '36798'),\n",
    "              ('OK', '4694'),\n",
    "              ('OR', '11952'),\n",
    "              ('PA', '82215'),\n",
    "              ('RI', '7767'),\n",
    "              ('SC', '14478'),\n",
    "              ('SD', '1757'),\n",
    "              ('TN', '20300'),\n",
    "              ('TX', '66704'),\n",
    "              ('UT', '0'),\n",
    "              ('VT', '3703'),\n",
    "              ('VA', '40063'),\n",
    "              ('Va', '12'),\n",
    "              ('WA', '19176'),\n",
    "              ('WV', '2869'),\n",
    "              ('WI', '13768'),\n",
    "              ('WY', '1988')]\n",
    "# Create a DataFrame object\n",
    "total_bottle_count_by_state = pd.DataFrame(state_count,\n",
    "                  columns=['State', 'Total Item/Bottle Count'])\n",
    "total_bottle_count_by_state"
   ]
  },
  {
   "cell_type": "code",
   "execution_count": 120,
   "id": "d55eaf41",
   "metadata": {},
   "outputs": [
    {
     "data": {
      "text/html": [
       "<div>\n",
       "<style scoped>\n",
       "    .dataframe tbody tr th:only-of-type {\n",
       "        vertical-align: middle;\n",
       "    }\n",
       "\n",
       "    .dataframe tbody tr th {\n",
       "        vertical-align: top;\n",
       "    }\n",
       "\n",
       "    .dataframe thead th {\n",
       "        text-align: right;\n",
       "    }\n",
       "</style>\n",
       "<table border=\"1\" class=\"dataframe\">\n",
       "  <thead>\n",
       "    <tr style=\"text-align: right;\">\n",
       "      <th></th>\n",
       "      <th>State</th>\n",
       "      <th>Total Item/Bottle Count</th>\n",
       "    </tr>\n",
       "  </thead>\n",
       "  <tbody>\n",
       "    <tr>\n",
       "      <th>0</th>\n",
       "      <td>AL</td>\n",
       "      <td>2024</td>\n",
       "    </tr>\n",
       "    <tr>\n",
       "      <th>1</th>\n",
       "      <td>AK</td>\n",
       "      <td>2057</td>\n",
       "    </tr>\n",
       "    <tr>\n",
       "      <th>2</th>\n",
       "      <td>AZ</td>\n",
       "      <td>16378</td>\n",
       "    </tr>\n",
       "    <tr>\n",
       "      <th>3</th>\n",
       "      <td>AR</td>\n",
       "      <td>6512</td>\n",
       "    </tr>\n",
       "    <tr>\n",
       "      <th>4</th>\n",
       "      <td>CA</td>\n",
       "      <td>130312</td>\n",
       "    </tr>\n",
       "    <tr>\n",
       "      <th>5</th>\n",
       "      <td>CO</td>\n",
       "      <td>27802</td>\n",
       "    </tr>\n",
       "    <tr>\n",
       "      <th>6</th>\n",
       "      <td>CT</td>\n",
       "      <td>24062</td>\n",
       "    </tr>\n",
       "    <tr>\n",
       "      <th>7</th>\n",
       "      <td>DC</td>\n",
       "      <td>8288</td>\n",
       "    </tr>\n",
       "    <tr>\n",
       "      <th>8</th>\n",
       "      <td>DE</td>\n",
       "      <td>1289</td>\n",
       "    </tr>\n",
       "    <tr>\n",
       "      <th>9</th>\n",
       "      <td>FL</td>\n",
       "      <td>82961</td>\n",
       "    </tr>\n",
       "    <tr>\n",
       "      <th>10</th>\n",
       "      <td>GA</td>\n",
       "      <td>34693</td>\n",
       "    </tr>\n",
       "    <tr>\n",
       "      <th>11</th>\n",
       "      <td>HI</td>\n",
       "      <td>9666</td>\n",
       "    </tr>\n",
       "    <tr>\n",
       "      <th>12</th>\n",
       "      <td>ID</td>\n",
       "      <td>3391</td>\n",
       "    </tr>\n",
       "    <tr>\n",
       "      <th>13</th>\n",
       "      <td>IL</td>\n",
       "      <td>51356</td>\n",
       "    </tr>\n",
       "    <tr>\n",
       "      <th>14</th>\n",
       "      <td>IN</td>\n",
       "      <td>17476</td>\n",
       "    </tr>\n",
       "    <tr>\n",
       "      <th>15</th>\n",
       "      <td>IA</td>\n",
       "      <td>5848</td>\n",
       "    </tr>\n",
       "    <tr>\n",
       "      <th>16</th>\n",
       "      <td>KS</td>\n",
       "      <td>7165</td>\n",
       "    </tr>\n",
       "    <tr>\n",
       "      <th>17</th>\n",
       "      <td>KY</td>\n",
       "      <td>40</td>\n",
       "    </tr>\n",
       "    <tr>\n",
       "      <th>18</th>\n",
       "      <td>LA</td>\n",
       "      <td>10558</td>\n",
       "    </tr>\n",
       "    <tr>\n",
       "      <th>19</th>\n",
       "      <td>ME</td>\n",
       "      <td>5007</td>\n",
       "    </tr>\n",
       "    <tr>\n",
       "      <th>20</th>\n",
       "      <td>MD</td>\n",
       "      <td>29515</td>\n",
       "    </tr>\n",
       "    <tr>\n",
       "      <th>21</th>\n",
       "      <td>MA</td>\n",
       "      <td>43665</td>\n",
       "    </tr>\n",
       "    <tr>\n",
       "      <th>22</th>\n",
       "      <td>MI</td>\n",
       "      <td>36218</td>\n",
       "    </tr>\n",
       "    <tr>\n",
       "      <th>23</th>\n",
       "      <td>MN</td>\n",
       "      <td>15040</td>\n",
       "    </tr>\n",
       "    <tr>\n",
       "      <th>24</th>\n",
       "      <td>MS</td>\n",
       "      <td>6</td>\n",
       "    </tr>\n",
       "    <tr>\n",
       "      <th>25</th>\n",
       "      <td>MO</td>\n",
       "      <td>13633</td>\n",
       "    </tr>\n",
       "    <tr>\n",
       "      <th>26</th>\n",
       "      <td>MT</td>\n",
       "      <td>2472</td>\n",
       "    </tr>\n",
       "    <tr>\n",
       "      <th>27</th>\n",
       "      <td>NE</td>\n",
       "      <td>4753</td>\n",
       "    </tr>\n",
       "    <tr>\n",
       "      <th>28</th>\n",
       "      <td>NV</td>\n",
       "      <td>6802</td>\n",
       "    </tr>\n",
       "    <tr>\n",
       "      <th>29</th>\n",
       "      <td>NH</td>\n",
       "      <td>6015</td>\n",
       "    </tr>\n",
       "    <tr>\n",
       "      <th>30</th>\n",
       "      <td>NJ</td>\n",
       "      <td>61171</td>\n",
       "    </tr>\n",
       "    <tr>\n",
       "      <th>31</th>\n",
       "      <td>NM</td>\n",
       "      <td>4487</td>\n",
       "    </tr>\n",
       "    <tr>\n",
       "      <th>32</th>\n",
       "      <td>NY</td>\n",
       "      <td>119653</td>\n",
       "    </tr>\n",
       "    <tr>\n",
       "      <th>33</th>\n",
       "      <td>NC</td>\n",
       "      <td>28220</td>\n",
       "    </tr>\n",
       "    <tr>\n",
       "      <th>34</th>\n",
       "      <td>ND</td>\n",
       "      <td>2042</td>\n",
       "    </tr>\n",
       "    <tr>\n",
       "      <th>35</th>\n",
       "      <td>OH</td>\n",
       "      <td>36798</td>\n",
       "    </tr>\n",
       "    <tr>\n",
       "      <th>36</th>\n",
       "      <td>OK</td>\n",
       "      <td>4694</td>\n",
       "    </tr>\n",
       "    <tr>\n",
       "      <th>37</th>\n",
       "      <td>OR</td>\n",
       "      <td>11952</td>\n",
       "    </tr>\n",
       "    <tr>\n",
       "      <th>38</th>\n",
       "      <td>PA</td>\n",
       "      <td>82215</td>\n",
       "    </tr>\n",
       "    <tr>\n",
       "      <th>39</th>\n",
       "      <td>RI</td>\n",
       "      <td>7767</td>\n",
       "    </tr>\n",
       "    <tr>\n",
       "      <th>40</th>\n",
       "      <td>SC</td>\n",
       "      <td>14478</td>\n",
       "    </tr>\n",
       "    <tr>\n",
       "      <th>41</th>\n",
       "      <td>SD</td>\n",
       "      <td>1757</td>\n",
       "    </tr>\n",
       "    <tr>\n",
       "      <th>42</th>\n",
       "      <td>TN</td>\n",
       "      <td>20300</td>\n",
       "    </tr>\n",
       "    <tr>\n",
       "      <th>43</th>\n",
       "      <td>TX</td>\n",
       "      <td>66704</td>\n",
       "    </tr>\n",
       "    <tr>\n",
       "      <th>44</th>\n",
       "      <td>UT</td>\n",
       "      <td>0</td>\n",
       "    </tr>\n",
       "    <tr>\n",
       "      <th>45</th>\n",
       "      <td>VT</td>\n",
       "      <td>3703</td>\n",
       "    </tr>\n",
       "    <tr>\n",
       "      <th>46</th>\n",
       "      <td>VA</td>\n",
       "      <td>40063</td>\n",
       "    </tr>\n",
       "    <tr>\n",
       "      <th>47</th>\n",
       "      <td>Va</td>\n",
       "      <td>12</td>\n",
       "    </tr>\n",
       "    <tr>\n",
       "      <th>48</th>\n",
       "      <td>WA</td>\n",
       "      <td>19176</td>\n",
       "    </tr>\n",
       "    <tr>\n",
       "      <th>49</th>\n",
       "      <td>WV</td>\n",
       "      <td>2869</td>\n",
       "    </tr>\n",
       "    <tr>\n",
       "      <th>50</th>\n",
       "      <td>WI</td>\n",
       "      <td>13768</td>\n",
       "    </tr>\n",
       "    <tr>\n",
       "      <th>51</th>\n",
       "      <td>WY</td>\n",
       "      <td>1988</td>\n",
       "    </tr>\n",
       "  </tbody>\n",
       "</table>\n",
       "</div>"
      ],
      "text/plain": [
       "   State Total Item/Bottle Count\n",
       "0     AL                    2024\n",
       "1     AK                    2057\n",
       "2     AZ                   16378\n",
       "3     AR                    6512\n",
       "4     CA                  130312\n",
       "5     CO                   27802\n",
       "6     CT                   24062\n",
       "7     DC                    8288\n",
       "8     DE                    1289\n",
       "9     FL                   82961\n",
       "10    GA                   34693\n",
       "11    HI                    9666\n",
       "12    ID                    3391\n",
       "13    IL                   51356\n",
       "14    IN                   17476\n",
       "15    IA                    5848\n",
       "16    KS                    7165\n",
       "17    KY                      40\n",
       "18    LA                   10558\n",
       "19    ME                    5007\n",
       "20    MD                   29515\n",
       "21    MA                   43665\n",
       "22    MI                   36218\n",
       "23    MN                   15040\n",
       "24    MS                       6\n",
       "25    MO                   13633\n",
       "26    MT                    2472\n",
       "27    NE                    4753\n",
       "28    NV                    6802\n",
       "29    NH                    6015\n",
       "30    NJ                   61171\n",
       "31    NM                    4487\n",
       "32    NY                  119653\n",
       "33    NC                   28220\n",
       "34    ND                    2042\n",
       "35    OH                   36798\n",
       "36    OK                    4694\n",
       "37    OR                   11952\n",
       "38    PA                   82215\n",
       "39    RI                    7767\n",
       "40    SC                   14478\n",
       "41    SD                    1757\n",
       "42    TN                   20300\n",
       "43    TX                   66704\n",
       "44    UT                       0\n",
       "45    VT                    3703\n",
       "46    VA                   40063\n",
       "47    Va                      12\n",
       "48    WA                   19176\n",
       "49    WV                    2869\n",
       "50    WI                   13768\n",
       "51    WY                    1988"
      ]
     },
     "execution_count": 120,
     "metadata": {},
     "output_type": "execute_result"
    }
   ],
   "source": [
    "total_bottle_count_by_state.sort_values(by=['Total Item/Bottle Count'], ascending=False)\n",
    "total_bottle_count_by_state"
   ]
  },
  {
   "cell_type": "markdown",
   "id": "ba5019e7",
   "metadata": {},
   "source": [
    "## Working syntax"
   ]
  },
  {
   "cell_type": "code",
   "execution_count": 121,
   "id": "6096da47",
   "metadata": {},
   "outputs": [],
   "source": [
    "# Set the x-axis to a list of strings for each month.\n",
    "x_axis = total_bottle_count_by_state[\"State\"]\n",
    "\n",
    "# Set the y-axis to a list of floats as the Item/Bottle Count for each month.\n",
    "y_axis = total_bottle_count_by_state[\"Total Item/Bottle Count\"]"
   ]
  },
  {
   "cell_type": "code",
   "execution_count": 122,
   "id": "059f5a55",
   "metadata": {},
   "outputs": [
    {
     "data": {
      "image/png": "[encoded data removed]",
      "text/plain": [
       "<Figure size 432x288 with 1 Axes>"
      ]
     },
     "metadata": {},
     "output_type": "display_data"
    }
   ],
   "source": [
    "plt.pie(y_axis, labels=x_axis)\n",
    "plt.show()"
   ]
  },
  {
   "cell_type": "code",
   "execution_count": 123,
   "id": "56e02eea",
   "metadata": {
    "scrolled": false
   },
   "outputs": [
    {
     "data": {
      "text/plain": [
       "([<matplotlib.patches.Wedge at 0x7f79e07dafd0>,\n",
       "  <matplotlib.patches.Wedge at 0x7f79ca8b5a50>,\n",
       "  <matplotlib.patches.Wedge at 0x7f79ca905290>,\n",
       "  <matplotlib.patches.Wedge at 0x7f79ca8faf50>,\n",
       "  <matplotlib.patches.Wedge at 0x7f79caa9c2d0>,\n",
       "  <matplotlib.patches.Wedge at 0x7f79caa9cb50>,\n",
       "  <matplotlib.patches.Wedge at 0x7f79caaa83d0>,\n",
       "  <matplotlib.patches.Wedge at 0x7f79caaa8bd0>,\n",
       "  <matplotlib.patches.Wedge at 0x7f79caa9c290>,\n",
       "  <matplotlib.patches.Wedge at 0x7f79caa9cb10>,\n",
       "  <matplotlib.patches.Wedge at 0x7f79ca8e0110>,\n",
       "  <matplotlib.patches.Wedge at 0x7f79caac5b10>,\n",
       "  <matplotlib.patches.Wedge at 0x7f79caad5350>,\n",
       "  <matplotlib.patches.Wedge at 0x7f79caad5b50>,\n",
       "  <matplotlib.patches.Wedge at 0x7f79caae2390>,\n",
       "  <matplotlib.patches.Wedge at 0x7f79caae2b90>,\n",
       "  <matplotlib.patches.Wedge at 0x7f79caaf03d0>,\n",
       "  <matplotlib.patches.Wedge at 0x7f79caaf0bd0>,\n",
       "  <matplotlib.patches.Wedge at 0x7f79caafd410>,\n",
       "  <matplotlib.patches.Wedge at 0x7f79caafdc10>,\n",
       "  <matplotlib.patches.Wedge at 0x7f79cab0b450>,\n",
       "  <matplotlib.patches.Wedge at 0x7f79cab0bc50>,\n",
       "  <matplotlib.patches.Wedge at 0x7f79cab1a490>,\n",
       "  <matplotlib.patches.Wedge at 0x7f79cab1ac90>,\n",
       "  <matplotlib.patches.Wedge at 0x7f79cab294d0>,\n",
       "  <matplotlib.patches.Wedge at 0x7f79cab29cd0>,\n",
       "  <matplotlib.patches.Wedge at 0x7f79cab36510>,\n",
       "  <matplotlib.patches.Wedge at 0x7f79cab36d10>,\n",
       "  <matplotlib.patches.Wedge at 0x7f79cab45550>,\n",
       "  <matplotlib.patches.Wedge at 0x7f79cab45d50>,\n",
       "  <matplotlib.patches.Wedge at 0x7f79cab52590>,\n",
       "  <matplotlib.patches.Wedge at 0x7f79cab52d90>,\n",
       "  <matplotlib.patches.Wedge at 0x7f79cab5f3d0>,\n",
       "  <matplotlib.patches.Wedge at 0x7f79cab5fbd0>,\n",
       "  <matplotlib.patches.Wedge at 0x7f79cab6f410>,\n",
       "  <matplotlib.patches.Wedge at 0x7f79cab6fc10>,\n",
       "  <matplotlib.patches.Wedge at 0x7f79cab7d450>,\n",
       "  <matplotlib.patches.Wedge at 0x7f79cab7dc50>,\n",
       "  <matplotlib.patches.Wedge at 0x7f79cab8c490>,\n",
       "  <matplotlib.patches.Wedge at 0x7f79cab8cc90>,\n",
       "  <matplotlib.patches.Wedge at 0x7f79cab9a4d0>,\n",
       "  <matplotlib.patches.Wedge at 0x7f79cab9acd0>,\n",
       "  <matplotlib.patches.Wedge at 0x7f79caba7510>,\n",
       "  <matplotlib.patches.Wedge at 0x7f79caba7d10>,\n",
       "  <matplotlib.patches.Wedge at 0x7f79cabb6550>,\n",
       "  <matplotlib.patches.Wedge at 0x7f79cabb6d50>,\n",
       "  <matplotlib.patches.Wedge at 0x7f79cabc4590>,\n",
       "  <matplotlib.patches.Wedge at 0x7f79cabc4d90>,\n",
       "  <matplotlib.patches.Wedge at 0x7f79cabd35d0>,\n",
       "  <matplotlib.patches.Wedge at 0x7f79cabd3dd0>,\n",
       "  <matplotlib.patches.Wedge at 0x7f79cabe1610>,\n",
       "  <matplotlib.patches.Wedge at 0x7f79cabe1e10>],\n",
       " [Text(1.0999831508656635, 0.006088334061707603, 'AL'),\n",
       "  Text(1.0998467081944483, 0.01836350930068955, 'AK'),\n",
       "  Text(1.0975240387680236, 0.07376302818028979, 'AZ'),\n",
       "  Text(1.0907603603206624, 0.14227380768482614, 'AR'),\n",
       "  Text(1.138439767266565, 0.627658263951053, 'CA'),\n",
       "  Text(0.6520956458510409, 0.8858731673677187, 'CO'),\n",
       "  Text(0.5203268075766637, 0.969154277355818, 'CT'),\n",
       "  Text(0.43266757072833917, 1.0113351438766665, 'DC'),\n",
       "  Text(0.4060358767465055, 1.0223183783903607, 'DE'),\n",
       "  Text(0.1618513622537631, 1.0880276359250263, 'FL'),\n",
       "  Text(-0.19050675219052665, 1.0833776706992893, 'GA'),\n",
       "  Text(-0.3202040515848708, 1.0523637039296982, 'HI'),\n",
       "  Text(-0.3575676476651445, 1.0402621676016173, 'ID'),\n",
       "  Text(-0.5087269343240308, 0.9752932411809657, 'IL'),\n",
       "  Text(-0.6822382407056818, 0.8628736772661549, 'IN'),\n",
       "  Text(-0.7358497794109357, 0.8176338435637787, 'IA'),\n",
       "  Text(-0.7644738039618381, 0.79093602968642, 'KS'),\n",
       "  Text(-0.7799081950708723, 0.7757210885758452, 'KY'),\n",
       "  Text(-0.8020591258117503, 0.7527955623554718, 'LA'),\n",
       "  Text(-0.8333653034881903, 0.7179848681845856, 'ME'),\n",
       "  Text(-0.8973349721110919, 0.6362310490901761, 'MD'),\n",
       "  Text(-1.0059009213718006, 0.4451554070022769, 'MA'),\n",
       "  Text(-1.0784678174284932, 0.21658062418190263, 'MI'),\n",
       "  Text(-1.0981493620225515, 0.06378070781563193, 'MN'),\n",
       "  Text(-1.0998434780353221, 0.018555964625044514, 'MS'),\n",
       "  Text(-1.0997704987063543, -0.022468871248392367, 'MO'),\n",
       "  Text(-1.0977148690474285, -0.07086653845212619, 'MT'),\n",
       "  Text(-1.0961005559857748, -0.09253956541758393, 'NE'),\n",
       "  Text(-1.0926297582736513, -0.1271228198824374, 'NV'),\n",
       "  Text(-1.087503990071628, -0.16533321377838414, 'NH'),\n",
       "  Text(-1.0389948083879874, -0.36123370294424273, 'NJ'),\n",
       "  Text(-0.9577805680564901, -0.5409772485543058, 'NM'),\n",
       "  Text(-0.7229775746981985, -0.8290376508238398, 'NY'),\n",
       "  Text(-0.33848620277408104, -1.0466265286775336, 'NC'),\n",
       "  Text(-0.2508128865740691, -1.0710242275169986, 'ND'),\n",
       "  Text(-0.13585680049863405, -1.0915781830717737, 'OH'),\n",
       "  Text(-0.011392887235877017, -1.0999409993815261, 'OK'),\n",
       "  Text(0.038671531928625755, -1.0993200228406164, 'OR'),\n",
       "  Text(0.3173653790295491, -1.053223250879618, 'PA'),\n",
       "  Text(0.564361614846467, -0.9441906416015191, 'RI'),\n",
       "  Text(0.6207190286062503, -0.908134289368105, 'SC'),\n",
       "  Text(0.660412232207499, -0.8796906749254015, 'SD'),\n",
       "  Text(0.7122398879762935, -0.8382805866626741, 'TN'),\n",
       "  Text(0.8897457651299348, -0.646801726523165, 'TX'),\n",
       "  Text(0.9923143797656159, -0.47467059284348045, 'UT'),\n",
       "  Text(0.9970700826748243, -0.4645979447165251, 'VT'),\n",
       "  Text(1.0454095785184616, -0.34222626015817786, 'VA'),\n",
       "  Text(1.0765677461066878, -0.2258359759709828, 'Va'),\n",
       "  Text(1.086930643277517, -0.16906145836447548, 'WA'),\n",
       "  Text(1.0951418095349712, -0.10326866421363778, 'WV'),\n",
       "  Text(1.098705282344746, -0.053354498852035394, 'WI'),\n",
       "  Text(1.0999837450761731, -0.005980014063252096, 'WY')],\n",
       " [Text(0.5999908095630891, 0.0033209094882041467, '0.2%'),\n",
       "  Text(0.5999163862878808, 0.010016459618557934, '0.2%'),\n",
       "  Text(0.5986494756916492, 0.040234379007430786, '1.4%'),\n",
       "  Text(0.594960196538543, 0.07760389510081425, '0.6%'),\n",
       "  Text(0.700578318317886, 0.38625123935449407, '11.3%'),\n",
       "  Text(0.35568853410056767, 0.48320354583693736, '2.4%'),\n",
       "  Text(0.28381462231454385, 0.5286296058304462, '2.1%'),\n",
       "  Text(0.2360004931245486, 0.5516373512054544, '0.7%'),\n",
       "  Text(0.22147411458900296, 0.5576282063947421, '0.1%'),\n",
       "  Text(0.0882825612293253, 0.5934696195954687, '7.2%'),\n",
       "  Text(-0.10391277392210545, 0.590933274926885, '3.0%'),\n",
       "  Text(-0.17465675540992953, 0.5740165657798353, '0.8%'),\n",
       "  Text(-0.19503689872644245, 0.5674157277827002, '0.3%'),\n",
       "  Text(-0.2774874187221986, 0.5319781315532539, '4.5%'),\n",
       "  Text(-0.3721299494758264, 0.4706583694179026, '1.5%'),\n",
       "  Text(-0.4013726069514194, 0.4459820964893338, '0.5%'),\n",
       "  Text(-0.41698571125191164, 0.431419652556229, '0.6%'),\n",
       "  Text(-0.4254044700386576, 0.4231205937686428, '0.0%'),\n",
       "  Text(-0.4374867958973183, 0.41061576128480276, '0.9%'),\n",
       "  Text(-0.4545628928117401, 0.3916281099188648, '0.4%'),\n",
       "  Text(-0.4894554393333228, 0.3470351176855506, '2.6%'),\n",
       "  Text(-0.5486732298391639, 0.24281204018306007, '3.8%'),\n",
       "  Text(-0.5882551731428144, 0.11813488591740143, '3.2%'),\n",
       "  Text(-0.5989905611032099, 0.03478947699034469, '1.3%'),\n",
       "  Text(-0.5999146243829029, 0.010121435250024279, '0.0%'),\n",
       "  Text(-0.5998748174761932, -0.012255747953668562, '1.2%'),\n",
       "  Text(-0.598753564934961, -0.03865447551934155, '0.2%'),\n",
       "  Text(-0.5978730305376954, -0.05047612659140941, '0.4%'),\n",
       "  Text(-0.5959798681492642, -0.06933971993587493, '0.6%'),\n",
       "  Text(-0.5931839945845242, -0.09018175297002771, '0.5%'),\n",
       "  Text(-0.5667244409389022, -0.1970365652423142, '5.3%'),\n",
       "  Text(-0.5224257643944491, -0.2950784992114395, '0.4%'),\n",
       "  Text(-0.3943514043808355, -0.4522023549948217, '10.4%'),\n",
       "  Text(-0.18462883787677145, -0.5708871974604728, '2.5%'),\n",
       "  Text(-0.1368070290404013, -0.58419503319109, '0.2%'),\n",
       "  Text(-0.07410370936289129, -0.5954062816755128, '3.2%'),\n",
       "  Text(-0.00621430212866019, -0.5999678178444687, '0.4%'),\n",
       "  Text(0.0210935628701595, -0.5996291033676089, '1.0%'),\n",
       "  Text(0.1731083885615722, -0.5744854095707007, '7.2%'),\n",
       "  Text(0.30783360809807286, -0.5150130772371923, '0.7%'),\n",
       "  Text(0.3385740156034092, -0.49534597601896635, '1.3%'),\n",
       "  Text(0.36022485393136305, -0.47983127723203717, '0.2%'),\n",
       "  Text(0.3884944843507055, -0.45724395636145854, '1.8%'),\n",
       "  Text(0.4853158718890553, -0.35280094173990817, '5.8%'),\n",
       "  Text(0.5412623889630631, -0.2589112324600802, '0.0%'),\n",
       "  Text(0.5438564087317223, -0.2534170607544682, '0.3%'),\n",
       "  Text(0.5702234064646153, -0.1866688691771879, '3.5%'),\n",
       "  Text(0.5872187706036479, -0.12318325962053606, '0.0%'),\n",
       "  Text(0.5928712599695547, -0.09221534092607751, '1.7%'),\n",
       "  Text(0.5973500779281661, -0.056328362298347874, '0.2%'),\n",
       "  Text(0.5992937903698614, -0.02910245391929203, '1.2%'),\n",
       "  Text(0.5999911336779126, -0.0032618258526829614, '0.2%')])"
      ]
     },
     "execution_count": 123,
     "metadata": {},
     "output_type": "execute_result"
    },
    {
     "data": {
      "image/png": "[encoded data removed]",
      "text/plain": [
       "<Figure size 1800x1800 with 1 Axes>"
      ]
     },
     "metadata": {},
     "output_type": "display_data"
    }
   ],
   "source": [
    "plt.subplots(figsize=(25, 25))\n",
    "explode_values = (0, 0, 0, 0, 0.2, 0, 0, 0, 0, 0, 0, 0, 0, 0, 0, 0, 0, 0, 0, 0, 0, 0, 0, 0, 0, 0, 0, 0, 0, 0, 0, 0, 0, 0, 0, 0, 0, 0, 0, 0, 0, 0, 0, 0, 0, 0, 0, 0, 0, 0, 0, 0, )\n",
    "plt.pie(y_axis, explode=explode_values, labels=x_axis, autopct='%.1f%%')"
   ]
  },
  {
   "cell_type": "code",
   "execution_count": null,
   "id": "1d0b0793",
   "metadata": {},
   "outputs": [],
   "source": []
  },
  {
   "cell_type": "code",
   "execution_count": null,
   "id": "ea2838dc",
   "metadata": {},
   "outputs": [],
   "source": []
  },
  {
   "cell_type": "code",
   "execution_count": null,
   "id": "81068270",
   "metadata": {},
   "outputs": [],
   "source": []
  },
  {
   "cell_type": "code",
   "execution_count": null,
   "id": "2027fe50",
   "metadata": {},
   "outputs": [],
   "source": [
    "#test2 = states_2020.sort_values(\"State\")\n",
    "#test2 = states_2020.sort_values(['State'],ascending=True).groupby('').head()\n",
    "\n",
    "for i in range(len(states_2020)) :\n",
    "    #test2=states_2020['State'].groupby,\n",
    "    print(states_2020['State'].groupby(states_2020.loc[i, \"State\"], states_2020.loc[i, \"Item/Bottle Count\"]))\n",
    "#test2\n",
    "#This isn't working."
   ]
  },
  {
   "cell_type": "code",
   "execution_count": null,
   "id": "73c923c4",
   "metadata": {},
   "outputs": [],
   "source": [
    "test=states_2020.sort_values(\"State\")\n",
    "test.head()"
   ]
  },
  {
   "cell_type": "code",
   "execution_count": null,
   "id": "8d0ca22d",
   "metadata": {},
   "outputs": [],
   "source": [
    "#Loop through states_2020 to gather the Item/Bottle Count for all 50 states.\n",
    "for i in range(len(states_2020)) :\n",
    "  print(states_2020.loc[i, \"State\"], states_2020.loc[i, \"Item/Bottle Count\"])"
   ]
  },
  {
   "cell_type": "code",
   "execution_count": null,
   "id": "a821cceb",
   "metadata": {},
   "outputs": [],
   "source": [
    "# How many items/bottles per month have been purchased in each state from January 2020 to December 2021?\n",
    "# How many items/bottls per month 01/2020 - 12/2021\n",
    "# How many items/bottles per state then per month"
   ]
  },
  {
   "cell_type": "code",
   "execution_count": null,
   "id": "4f61b68e",
   "metadata": {},
   "outputs": [],
   "source": [
    "# Is there a time of year where wine shipments increased? For example, during the holidays or during COVID stay-at-home orders?"
   ]
  },
  {
   "cell_type": "code",
   "execution_count": null,
   "id": "0f25939d",
   "metadata": {},
   "outputs": [],
   "source": [
    "# How do wine shipments compare between states that had stay at home orders issued vs states that did not?\n",
    "    #Create a dataframe with data from states that issued stay at home orders\n",
    "    #Create a dataframe with data from states that did not issue stay at home orders\n",
    "    #Generate summary statistics for each data frame \n",
    "    #Convert each summary stat list to a data frame\n",
    "    #Merge the two summary statistic data frames to create a visual side-by-side comparison"
   ]
  },
  {
   "cell_type": "code",
   "execution_count": null,
   "id": "3ea0a6aa",
   "metadata": {},
   "outputs": [],
   "source": [
    "#How do wine shipments compare between red states and blue states?\n",
    "    #Create a dataframe with data from \"Red\" states\n",
    "    #Create a dataframe with data from \"Blue\" states \n",
    "    #Generate summary statistics for each data frame \n",
    "    #Convert each summary stat list to a data frame\n",
    "    #Merge the two summary statistic data frames to create a visual side-by-side comparison"
   ]
  },
  {
   "cell_type": "code",
   "execution_count": null,
   "id": "c4577995",
   "metadata": {},
   "outputs": [],
   "source": [
    "# Which state consumed the most wine?  "
   ]
  },
  {
   "cell_type": "code",
   "execution_count": null,
   "id": "883d5c49",
   "metadata": {},
   "outputs": [],
   "source": [
    "# Which state saw the most significant change in wine consumption?"
   ]
  }
 ],
 "metadata": {
  "kernelspec": {
   "display_name": "Python 3 (ipykernel)",
   "language": "python",
   "name": "python3"
  },
  "language_info": {
   "codemirror_mode": {
    "name": "ipython",
    "version": 3
   },
   "file_extension": ".py",
   "mimetype": "text/x-python",
   "name": "python",
   "nbconvert_exporter": "python",
   "pygments_lexer": "ipython3",
   "version": "3.7.13"
  }
 },
 "nbformat": 4,
 "nbformat_minor": 5
}
