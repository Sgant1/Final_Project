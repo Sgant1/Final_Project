{
 "cells": [
  {
   "cell_type": "markdown",
   "id": "b28d77ec",
   "metadata": {},
   "source": [
    "## Import Dependencies, Read CSV and Create Dataframes."
   ]
  },
  {
   "cell_type": "code",
   "execution_count": 1,
   "id": "25060bae",
   "metadata": {},
   "outputs": [],
   "source": [
    "#Pandas library to create DataFrames\n",
    "import pandas as pd\n",
    "#NumPy library for converting data types\n",
    "import numpy as np\n",
    "import matplotlib\n",
    "matplotlib.__version__\n",
    "%matplotlib inline\n",
    "import matplotlib.pyplot as plt"
   ]
  },
  {
   "cell_type": "code",
   "execution_count": 2,
   "id": "10911d7e",
   "metadata": {},
   "outputs": [],
   "source": [
    "load_states = \"../state_covid_info/Complete_states.csv\"\n",
    "load_2020 = \"../data_frame/Complete_annual_dataframes/Complete_2020.csv\""
   ]
  },
  {
   "cell_type": "code",
   "execution_count": 3,
   "id": "ac5c9a47",
   "metadata": {},
   "outputs": [
    {
     "data": {
      "text/html": [
       "<div>\n",
       "<style scoped>\n",
       "    .dataframe tbody tr th:only-of-type {\n",
       "        vertical-align: middle;\n",
       "    }\n",
       "\n",
       "    .dataframe tbody tr th {\n",
       "        vertical-align: top;\n",
       "    }\n",
       "\n",
       "    .dataframe thead th {\n",
       "        text-align: right;\n",
       "    }\n",
       "</style>\n",
       "<table border=\"1\" class=\"dataframe\">\n",
       "  <thead>\n",
       "    <tr style=\"text-align: right;\">\n",
       "      <th></th>\n",
       "      <th>State</th>\n",
       "      <th>Population</th>\n",
       "      <th>Lockdown Start</th>\n",
       "      <th>Initial Expected Lockdown End</th>\n",
       "      <th>Phase 1 Re-Opening Start</th>\n",
       "      <th>Political Alignment</th>\n",
       "    </tr>\n",
       "  </thead>\n",
       "  <tbody>\n",
       "    <tr>\n",
       "      <th>0</th>\n",
       "      <td>AK</td>\n",
       "      <td>731,545</td>\n",
       "      <td>3/23/2020</td>\n",
       "      <td>3/30/2020</td>\n",
       "      <td>4/24/2020</td>\n",
       "      <td>Red</td>\n",
       "    </tr>\n",
       "    <tr>\n",
       "      <th>1</th>\n",
       "      <td>AL</td>\n",
       "      <td>4,903,185</td>\n",
       "      <td>4/4/2020</td>\n",
       "      <td>4/30/2020</td>\n",
       "      <td>4/30/2020</td>\n",
       "      <td>Red</td>\n",
       "    </tr>\n",
       "    <tr>\n",
       "      <th>2</th>\n",
       "      <td>AR</td>\n",
       "      <td>3,017,804</td>\n",
       "      <td>3/15/2020</td>\n",
       "      <td>3/27/2020</td>\n",
       "      <td>6/5/2020</td>\n",
       "      <td>Red</td>\n",
       "    </tr>\n",
       "    <tr>\n",
       "      <th>3</th>\n",
       "      <td>AZ</td>\n",
       "      <td>7,278,717</td>\n",
       "      <td>4/30/2020</td>\n",
       "      <td>5/15/2020</td>\n",
       "      <td>5/18/2020</td>\n",
       "      <td>Blue</td>\n",
       "    </tr>\n",
       "    <tr>\n",
       "      <th>4</th>\n",
       "      <td>CA</td>\n",
       "      <td>39,512,223</td>\n",
       "      <td>3/19/2020</td>\n",
       "      <td>4/2/2020</td>\n",
       "      <td>5/13/2020</td>\n",
       "      <td>Blue</td>\n",
       "    </tr>\n",
       "  </tbody>\n",
       "</table>\n",
       "</div>"
      ],
      "text/plain": [
       "  State  Population Lockdown Start Initial Expected Lockdown End  \\\n",
       "0    AK     731,545      3/23/2020                     3/30/2020   \n",
       "1    AL   4,903,185       4/4/2020                     4/30/2020   \n",
       "2    AR   3,017,804      3/15/2020                     3/27/2020   \n",
       "3    AZ   7,278,717      4/30/2020                     5/15/2020   \n",
       "4    CA  39,512,223      3/19/2020                      4/2/2020   \n",
       "\n",
       "  Phase 1 Re-Opening Start Political Alignment  \n",
       "0                4/24/2020                 Red  \n",
       "1                4/30/2020                 Red  \n",
       "2                 6/5/2020                 Red  \n",
       "3                5/18/2020                Blue  \n",
       "4                5/13/2020                Blue  "
      ]
     },
     "execution_count": 3,
     "metadata": {},
     "output_type": "execute_result"
    }
   ],
   "source": [
    "states_df = pd.read_csv(load_states)\n",
    "states_df.head()"
   ]
  },
  {
   "cell_type": "code",
   "execution_count": 4,
   "id": "2096fdcd",
   "metadata": {},
   "outputs": [
    {
     "data": {
      "text/html": [
       "<div>\n",
       "<style scoped>\n",
       "    .dataframe tbody tr th:only-of-type {\n",
       "        vertical-align: middle;\n",
       "    }\n",
       "\n",
       "    .dataframe tbody tr th {\n",
       "        vertical-align: top;\n",
       "    }\n",
       "\n",
       "    .dataframe thead th {\n",
       "        text-align: right;\n",
       "    }\n",
       "</style>\n",
       "<table border=\"1\" class=\"dataframe\">\n",
       "  <thead>\n",
       "    <tr style=\"text-align: right;\">\n",
       "      <th></th>\n",
       "      <th>Order Number</th>\n",
       "      <th>Company Name</th>\n",
       "      <th>Ship Date</th>\n",
       "      <th>City</th>\n",
       "      <th>State</th>\n",
       "      <th>Zip</th>\n",
       "      <th>Shipping Service</th>\n",
       "      <th>Created Date</th>\n",
       "      <th>Weight</th>\n",
       "      <th>Item/Bottle Count</th>\n",
       "    </tr>\n",
       "  </thead>\n",
       "  <tbody>\n",
       "    <tr>\n",
       "      <th>0</th>\n",
       "      <td>0</td>\n",
       "      <td>Ecom3</td>\n",
       "      <td>1/2/20</td>\n",
       "      <td>Plantation</td>\n",
       "      <td>FL</td>\n",
       "      <td>33325</td>\n",
       "      <td>UPS</td>\n",
       "      <td>1/1/20</td>\n",
       "      <td>9.9</td>\n",
       "      <td>3.0</td>\n",
       "    </tr>\n",
       "    <tr>\n",
       "      <th>1</th>\n",
       "      <td>1</td>\n",
       "      <td>Ecom3</td>\n",
       "      <td>1/2/20</td>\n",
       "      <td>Lafayette</td>\n",
       "      <td>CA</td>\n",
       "      <td>94549</td>\n",
       "      <td>UPS</td>\n",
       "      <td>12/31/19</td>\n",
       "      <td>35.0</td>\n",
       "      <td>10.0</td>\n",
       "    </tr>\n",
       "    <tr>\n",
       "      <th>2</th>\n",
       "      <td>2</td>\n",
       "      <td>Ecom3</td>\n",
       "      <td>1/2/20</td>\n",
       "      <td>New York</td>\n",
       "      <td>NY</td>\n",
       "      <td>10022</td>\n",
       "      <td>FEH</td>\n",
       "      <td>1/1/20</td>\n",
       "      <td>29.0</td>\n",
       "      <td>8.0</td>\n",
       "    </tr>\n",
       "    <tr>\n",
       "      <th>3</th>\n",
       "      <td>3</td>\n",
       "      <td>Ecom3</td>\n",
       "      <td>1/3/20</td>\n",
       "      <td>New York</td>\n",
       "      <td>NY</td>\n",
       "      <td>10006</td>\n",
       "      <td>FEH</td>\n",
       "      <td>1/2/20</td>\n",
       "      <td>21.5</td>\n",
       "      <td>6.0</td>\n",
       "    </tr>\n",
       "    <tr>\n",
       "      <th>4</th>\n",
       "      <td>4</td>\n",
       "      <td>Ecom3</td>\n",
       "      <td>1/2/20</td>\n",
       "      <td>Walkersville</td>\n",
       "      <td>MD</td>\n",
       "      <td>21793</td>\n",
       "      <td>FXG</td>\n",
       "      <td>12/31/19</td>\n",
       "      <td>41.0</td>\n",
       "      <td>12.0</td>\n",
       "    </tr>\n",
       "  </tbody>\n",
       "</table>\n",
       "</div>"
      ],
      "text/plain": [
       "   Order Number Company Name Ship Date          City State    Zip  \\\n",
       "0             0        Ecom3    1/2/20    Plantation    FL  33325   \n",
       "1             1        Ecom3    1/2/20     Lafayette    CA  94549   \n",
       "2             2        Ecom3    1/2/20      New York    NY  10022   \n",
       "3             3        Ecom3    1/3/20      New York    NY  10006   \n",
       "4             4        Ecom3    1/2/20  Walkersville    MD  21793   \n",
       "\n",
       "  Shipping Service Created Date  Weight  Item/Bottle Count  \n",
       "0              UPS       1/1/20     9.9                3.0  \n",
       "1              UPS     12/31/19    35.0               10.0  \n",
       "2              FEH       1/1/20    29.0                8.0  \n",
       "3              FEH       1/2/20    21.5                6.0  \n",
       "4              FXG     12/31/19    41.0               12.0  "
      ]
     },
     "execution_count": 4,
     "metadata": {},
     "output_type": "execute_result"
    }
   ],
   "source": [
    "#If I set the Index as \"State\" here, an extra column named \"Unammed:0\" populates. \n",
    "df_2020 = pd.read_csv(load_2020, index_col=[0])\n",
    "df_2020.head()"
   ]
  },
  {
   "cell_type": "code",
   "execution_count": 5,
   "id": "dde91bbf",
   "metadata": {},
   "outputs": [
    {
     "data": {
      "text/plain": [
       "array(['FL', 'CA', 'NY', 'MD', 'TX', 'OH', 'NM', 'CT', 'MI', 'WA', 'PA',\n",
       "       'CO', 'LA', 'HI', 'MA', 'NH', 'NJ', 'TN', 'IN', 'KS', 'NE', 'NC',\n",
       "       'VA', 'IA', 'MN', 'WI', 'SC', 'SD', 'OR', 'ND', 'WY', 'IL', 'VT',\n",
       "       'GA', 'AZ', 'DC', 'NV', 'MO', 'ME', 'RI', 'AR', 'AK', 'WV', 'MT',\n",
       "       'ID', 'OK', 'AL', 'DE', 'MS', 'KY'], dtype=object)"
      ]
     },
     "execution_count": 5,
     "metadata": {},
     "output_type": "execute_result"
    }
   ],
   "source": [
    "df_2020.State.unique()"
   ]
  },
  {
   "cell_type": "code",
   "execution_count": 6,
   "id": "f3301b8e",
   "metadata": {},
   "outputs": [
    {
     "data": {
      "text/html": [
       "<div>\n",
       "<style scoped>\n",
       "    .dataframe tbody tr th:only-of-type {\n",
       "        vertical-align: middle;\n",
       "    }\n",
       "\n",
       "    .dataframe tbody tr th {\n",
       "        vertical-align: top;\n",
       "    }\n",
       "\n",
       "    .dataframe thead th {\n",
       "        text-align: right;\n",
       "    }\n",
       "</style>\n",
       "<table border=\"1\" class=\"dataframe\">\n",
       "  <thead>\n",
       "    <tr style=\"text-align: right;\">\n",
       "      <th></th>\n",
       "      <th>Order Number</th>\n",
       "      <th>Company Name</th>\n",
       "      <th>Ship Date</th>\n",
       "      <th>City</th>\n",
       "      <th>Zip</th>\n",
       "      <th>Shipping Service</th>\n",
       "      <th>Created Date</th>\n",
       "      <th>Weight</th>\n",
       "      <th>Item/Bottle Count</th>\n",
       "    </tr>\n",
       "    <tr>\n",
       "      <th>State</th>\n",
       "      <th></th>\n",
       "      <th></th>\n",
       "      <th></th>\n",
       "      <th></th>\n",
       "      <th></th>\n",
       "      <th></th>\n",
       "      <th></th>\n",
       "      <th></th>\n",
       "      <th></th>\n",
       "    </tr>\n",
       "  </thead>\n",
       "  <tbody>\n",
       "    <tr>\n",
       "      <th>FL</th>\n",
       "      <td>0</td>\n",
       "      <td>Ecom3</td>\n",
       "      <td>1/2/20</td>\n",
       "      <td>Plantation</td>\n",
       "      <td>33325</td>\n",
       "      <td>UPS</td>\n",
       "      <td>1/1/20</td>\n",
       "      <td>9.9</td>\n",
       "      <td>3.0</td>\n",
       "    </tr>\n",
       "    <tr>\n",
       "      <th>CA</th>\n",
       "      <td>1</td>\n",
       "      <td>Ecom3</td>\n",
       "      <td>1/2/20</td>\n",
       "      <td>Lafayette</td>\n",
       "      <td>94549</td>\n",
       "      <td>UPS</td>\n",
       "      <td>12/31/19</td>\n",
       "      <td>35.0</td>\n",
       "      <td>10.0</td>\n",
       "    </tr>\n",
       "    <tr>\n",
       "      <th>NY</th>\n",
       "      <td>2</td>\n",
       "      <td>Ecom3</td>\n",
       "      <td>1/2/20</td>\n",
       "      <td>New York</td>\n",
       "      <td>10022</td>\n",
       "      <td>FEH</td>\n",
       "      <td>1/1/20</td>\n",
       "      <td>29.0</td>\n",
       "      <td>8.0</td>\n",
       "    </tr>\n",
       "    <tr>\n",
       "      <th>NY</th>\n",
       "      <td>3</td>\n",
       "      <td>Ecom3</td>\n",
       "      <td>1/3/20</td>\n",
       "      <td>New York</td>\n",
       "      <td>10006</td>\n",
       "      <td>FEH</td>\n",
       "      <td>1/2/20</td>\n",
       "      <td>21.5</td>\n",
       "      <td>6.0</td>\n",
       "    </tr>\n",
       "    <tr>\n",
       "      <th>MD</th>\n",
       "      <td>4</td>\n",
       "      <td>Ecom3</td>\n",
       "      <td>1/2/20</td>\n",
       "      <td>Walkersville</td>\n",
       "      <td>21793</td>\n",
       "      <td>FXG</td>\n",
       "      <td>12/31/19</td>\n",
       "      <td>41.0</td>\n",
       "      <td>12.0</td>\n",
       "    </tr>\n",
       "    <tr>\n",
       "      <th>...</th>\n",
       "      <td>...</td>\n",
       "      <td>...</td>\n",
       "      <td>...</td>\n",
       "      <td>...</td>\n",
       "      <td>...</td>\n",
       "      <td>...</td>\n",
       "      <td>...</td>\n",
       "      <td>...</td>\n",
       "      <td>...</td>\n",
       "    </tr>\n",
       "    <tr>\n",
       "      <th>CO</th>\n",
       "      <td>235998</td>\n",
       "      <td>Winery3</td>\n",
       "      <td>12/29/2020</td>\n",
       "      <td>Aurora</td>\n",
       "      <td>80013</td>\n",
       "      <td>UPS</td>\n",
       "      <td>12/29/2020</td>\n",
       "      <td>21.5</td>\n",
       "      <td>6.0</td>\n",
       "    </tr>\n",
       "    <tr>\n",
       "      <th>CA</th>\n",
       "      <td>235999</td>\n",
       "      <td>Winery3</td>\n",
       "      <td>12/29/2020</td>\n",
       "      <td>Napa</td>\n",
       "      <td>94558</td>\n",
       "      <td>GSC</td>\n",
       "      <td>12/29/2020</td>\n",
       "      <td>9.9</td>\n",
       "      <td>3.0</td>\n",
       "    </tr>\n",
       "    <tr>\n",
       "      <th>CO</th>\n",
       "      <td>236000</td>\n",
       "      <td>Winery3</td>\n",
       "      <td>12/29/2020</td>\n",
       "      <td>Aurora</td>\n",
       "      <td>80014</td>\n",
       "      <td>UPS</td>\n",
       "      <td>12/29/2020</td>\n",
       "      <td>39.0</td>\n",
       "      <td>12.0</td>\n",
       "    </tr>\n",
       "    <tr>\n",
       "      <th>VA</th>\n",
       "      <td>236001</td>\n",
       "      <td>Winery3</td>\n",
       "      <td>12/28/2020</td>\n",
       "      <td>Charlottesville</td>\n",
       "      <td>22901</td>\n",
       "      <td>UPS</td>\n",
       "      <td>12/28/2020</td>\n",
       "      <td>21.5</td>\n",
       "      <td>6.0</td>\n",
       "    </tr>\n",
       "    <tr>\n",
       "      <th>CA</th>\n",
       "      <td>236002</td>\n",
       "      <td>Winery3</td>\n",
       "      <td>12/29/2020</td>\n",
       "      <td>Napa</td>\n",
       "      <td>94558</td>\n",
       "      <td>WCU</td>\n",
       "      <td>12/29/2020</td>\n",
       "      <td>21.5</td>\n",
       "      <td>6.0</td>\n",
       "    </tr>\n",
       "  </tbody>\n",
       "</table>\n",
       "<p>236003 rows × 9 columns</p>\n",
       "</div>"
      ],
      "text/plain": [
       "       Order Number Company Name   Ship Date             City    Zip  \\\n",
       "State                                                                  \n",
       "FL                0        Ecom3      1/2/20       Plantation  33325   \n",
       "CA                1        Ecom3      1/2/20        Lafayette  94549   \n",
       "NY                2        Ecom3      1/2/20         New York  10022   \n",
       "NY                3        Ecom3      1/3/20         New York  10006   \n",
       "MD                4        Ecom3      1/2/20     Walkersville  21793   \n",
       "...             ...          ...         ...              ...    ...   \n",
       "CO           235998      Winery3  12/29/2020           Aurora  80013   \n",
       "CA           235999      Winery3  12/29/2020             Napa  94558   \n",
       "CO           236000      Winery3  12/29/2020           Aurora  80014   \n",
       "VA           236001      Winery3  12/28/2020  Charlottesville  22901   \n",
       "CA           236002      Winery3  12/29/2020             Napa  94558   \n",
       "\n",
       "      Shipping Service Created Date  Weight  Item/Bottle Count  \n",
       "State                                                           \n",
       "FL                 UPS       1/1/20     9.9                3.0  \n",
       "CA                 UPS     12/31/19    35.0               10.0  \n",
       "NY                 FEH       1/1/20    29.0                8.0  \n",
       "NY                 FEH       1/2/20    21.5                6.0  \n",
       "MD                 FXG     12/31/19    41.0               12.0  \n",
       "...                ...          ...     ...                ...  \n",
       "CO                 UPS   12/29/2020    21.5                6.0  \n",
       "CA                 GSC   12/29/2020     9.9                3.0  \n",
       "CO                 UPS   12/29/2020    39.0               12.0  \n",
       "VA                 UPS   12/28/2020    21.5                6.0  \n",
       "CA                 WCU   12/29/2020    21.5                6.0  \n",
       "\n",
       "[236003 rows x 9 columns]"
      ]
     },
     "execution_count": 6,
     "metadata": {},
     "output_type": "execute_result"
    }
   ],
   "source": [
    "df_2020 = df_2020.set_index(\"State\")\n",
    "df_2020"
   ]
  },
  {
   "cell_type": "code",
   "execution_count": 7,
   "id": "53919cf2",
   "metadata": {},
   "outputs": [
    {
     "data": {
      "text/html": [
       "<div>\n",
       "<style scoped>\n",
       "    .dataframe tbody tr th:only-of-type {\n",
       "        vertical-align: middle;\n",
       "    }\n",
       "\n",
       "    .dataframe tbody tr th {\n",
       "        vertical-align: top;\n",
       "    }\n",
       "\n",
       "    .dataframe thead th {\n",
       "        text-align: right;\n",
       "    }\n",
       "</style>\n",
       "<table border=\"1\" class=\"dataframe\">\n",
       "  <thead>\n",
       "    <tr style=\"text-align: right;\">\n",
       "      <th></th>\n",
       "      <th>Order Number</th>\n",
       "      <th>Company Name</th>\n",
       "      <th>Ship Date</th>\n",
       "      <th>City</th>\n",
       "      <th>Zip</th>\n",
       "      <th>Shipping Service</th>\n",
       "      <th>Created Date</th>\n",
       "      <th>Weight</th>\n",
       "      <th>Item/Bottle Count</th>\n",
       "      <th>Population</th>\n",
       "      <th>Lockdown Start</th>\n",
       "      <th>Initial Expected Lockdown End</th>\n",
       "      <th>Phase 1 Re-Opening Start</th>\n",
       "      <th>Political Alignment</th>\n",
       "    </tr>\n",
       "    <tr>\n",
       "      <th>State</th>\n",
       "      <th></th>\n",
       "      <th></th>\n",
       "      <th></th>\n",
       "      <th></th>\n",
       "      <th></th>\n",
       "      <th></th>\n",
       "      <th></th>\n",
       "      <th></th>\n",
       "      <th></th>\n",
       "      <th></th>\n",
       "      <th></th>\n",
       "      <th></th>\n",
       "      <th></th>\n",
       "      <th></th>\n",
       "    </tr>\n",
       "  </thead>\n",
       "  <tbody>\n",
       "    <tr>\n",
       "      <th>FL</th>\n",
       "      <td>0</td>\n",
       "      <td>Ecom3</td>\n",
       "      <td>1/2/20</td>\n",
       "      <td>Plantation</td>\n",
       "      <td>33325</td>\n",
       "      <td>UPS</td>\n",
       "      <td>1/1/20</td>\n",
       "      <td>9.9</td>\n",
       "      <td>3.0</td>\n",
       "      <td>21,477,737</td>\n",
       "      <td>4/1/2020</td>\n",
       "      <td>5/1/2020</td>\n",
       "      <td>9/25/2020</td>\n",
       "      <td>Red</td>\n",
       "    </tr>\n",
       "    <tr>\n",
       "      <th>CA</th>\n",
       "      <td>1</td>\n",
       "      <td>Ecom3</td>\n",
       "      <td>1/2/20</td>\n",
       "      <td>Lafayette</td>\n",
       "      <td>94549</td>\n",
       "      <td>UPS</td>\n",
       "      <td>12/31/19</td>\n",
       "      <td>35.0</td>\n",
       "      <td>10.0</td>\n",
       "      <td>39,512,223</td>\n",
       "      <td>3/19/2020</td>\n",
       "      <td>4/2/2020</td>\n",
       "      <td>5/13/2020</td>\n",
       "      <td>Blue</td>\n",
       "    </tr>\n",
       "    <tr>\n",
       "      <th>NY</th>\n",
       "      <td>2</td>\n",
       "      <td>Ecom3</td>\n",
       "      <td>1/2/20</td>\n",
       "      <td>New York</td>\n",
       "      <td>10022</td>\n",
       "      <td>FEH</td>\n",
       "      <td>1/1/20</td>\n",
       "      <td>29.0</td>\n",
       "      <td>8.0</td>\n",
       "      <td>19,453,561</td>\n",
       "      <td>3/22/2020</td>\n",
       "      <td>4/6/2020</td>\n",
       "      <td>6/8/2020</td>\n",
       "      <td>Blue</td>\n",
       "    </tr>\n",
       "    <tr>\n",
       "      <th>NY</th>\n",
       "      <td>3</td>\n",
       "      <td>Ecom3</td>\n",
       "      <td>1/3/20</td>\n",
       "      <td>New York</td>\n",
       "      <td>10006</td>\n",
       "      <td>FEH</td>\n",
       "      <td>1/2/20</td>\n",
       "      <td>21.5</td>\n",
       "      <td>6.0</td>\n",
       "      <td>19,453,561</td>\n",
       "      <td>3/22/2020</td>\n",
       "      <td>4/6/2020</td>\n",
       "      <td>6/8/2020</td>\n",
       "      <td>Blue</td>\n",
       "    </tr>\n",
       "    <tr>\n",
       "      <th>MD</th>\n",
       "      <td>4</td>\n",
       "      <td>Ecom3</td>\n",
       "      <td>1/2/20</td>\n",
       "      <td>Walkersville</td>\n",
       "      <td>21793</td>\n",
       "      <td>FXG</td>\n",
       "      <td>12/31/19</td>\n",
       "      <td>41.0</td>\n",
       "      <td>12.0</td>\n",
       "      <td>6,045,680</td>\n",
       "      <td>3/12/2020</td>\n",
       "      <td>3/27/2020</td>\n",
       "      <td>5/13/2020</td>\n",
       "      <td>Blue</td>\n",
       "    </tr>\n",
       "  </tbody>\n",
       "</table>\n",
       "</div>"
      ],
      "text/plain": [
       "       Order Number Company Name Ship Date          City    Zip  \\\n",
       "State                                                             \n",
       "FL                0        Ecom3    1/2/20    Plantation  33325   \n",
       "CA                1        Ecom3    1/2/20     Lafayette  94549   \n",
       "NY                2        Ecom3    1/2/20      New York  10022   \n",
       "NY                3        Ecom3    1/3/20      New York  10006   \n",
       "MD                4        Ecom3    1/2/20  Walkersville  21793   \n",
       "\n",
       "      Shipping Service Created Date  Weight  Item/Bottle Count  Population  \\\n",
       "State                                                                        \n",
       "FL                 UPS       1/1/20     9.9                3.0  21,477,737   \n",
       "CA                 UPS     12/31/19    35.0               10.0  39,512,223   \n",
       "NY                 FEH       1/1/20    29.0                8.0  19,453,561   \n",
       "NY                 FEH       1/2/20    21.5                6.0  19,453,561   \n",
       "MD                 FXG     12/31/19    41.0               12.0   6,045,680   \n",
       "\n",
       "      Lockdown Start Initial Expected Lockdown End Phase 1 Re-Opening Start  \\\n",
       "State                                                                         \n",
       "FL          4/1/2020                      5/1/2020                9/25/2020   \n",
       "CA         3/19/2020                      4/2/2020                5/13/2020   \n",
       "NY         3/22/2020                      4/6/2020                 6/8/2020   \n",
       "NY         3/22/2020                      4/6/2020                 6/8/2020   \n",
       "MD         3/12/2020                     3/27/2020                5/13/2020   \n",
       "\n",
       "      Political Alignment  \n",
       "State                      \n",
       "FL                    Red  \n",
       "CA                   Blue  \n",
       "NY                   Blue  \n",
       "NY                   Blue  \n",
       "MD                   Blue  "
      ]
     },
     "execution_count": 7,
     "metadata": {},
     "output_type": "execute_result"
    }
   ],
   "source": [
    "#Join states and 2020 df on \"State\"\n",
    "states_2020 = df_2020.join(states_df.set_index (\"State\"), on = \"State\")\n",
    "states_2020.head()"
   ]
  },
  {
   "cell_type": "code",
   "execution_count": 8,
   "id": "4364147b",
   "metadata": {},
   "outputs": [
    {
     "data": {
      "text/plain": [
       "Order Number                     236003\n",
       "Company Name                     236003\n",
       "Ship Date                        236003\n",
       "City                             236003\n",
       "Zip                              236003\n",
       "Shipping Service                 236003\n",
       "Created Date                     236003\n",
       "Weight                           236003\n",
       "Item/Bottle Count                236003\n",
       "Population                       236003\n",
       "Lockdown Start                   236003\n",
       "Initial Expected Lockdown End    236003\n",
       "Phase 1 Re-Opening Start         236003\n",
       "Political Alignment              236003\n",
       "dtype: int64"
      ]
     },
     "execution_count": 8,
     "metadata": {},
     "output_type": "execute_result"
    }
   ],
   "source": [
    "#236,003 orders placed in 2020.\n",
    "states_2020.count()"
   ]
  },
  {
   "cell_type": "code",
   "execution_count": 9,
   "id": "39b430d0",
   "metadata": {},
   "outputs": [
    {
     "data": {
      "text/html": [
       "<div>\n",
       "<style scoped>\n",
       "    .dataframe tbody tr th:only-of-type {\n",
       "        vertical-align: middle;\n",
       "    }\n",
       "\n",
       "    .dataframe tbody tr th {\n",
       "        vertical-align: top;\n",
       "    }\n",
       "\n",
       "    .dataframe thead th {\n",
       "        text-align: right;\n",
       "    }\n",
       "</style>\n",
       "<table border=\"1\" class=\"dataframe\">\n",
       "  <thead>\n",
       "    <tr style=\"text-align: right;\">\n",
       "      <th></th>\n",
       "      <th>Order Number</th>\n",
       "      <th>Company Name</th>\n",
       "      <th>Ship Date</th>\n",
       "      <th>City</th>\n",
       "      <th>Zip</th>\n",
       "      <th>Shipping Service</th>\n",
       "      <th>Created Date</th>\n",
       "      <th>Weight</th>\n",
       "      <th>Item/Bottle Count</th>\n",
       "      <th>Population</th>\n",
       "      <th>Lockdown Start</th>\n",
       "      <th>Initial Expected Lockdown End</th>\n",
       "      <th>Phase 1 Re-Opening Start</th>\n",
       "      <th>Political Alignment</th>\n",
       "    </tr>\n",
       "    <tr>\n",
       "      <th>State</th>\n",
       "      <th></th>\n",
       "      <th></th>\n",
       "      <th></th>\n",
       "      <th></th>\n",
       "      <th></th>\n",
       "      <th></th>\n",
       "      <th></th>\n",
       "      <th></th>\n",
       "      <th></th>\n",
       "      <th></th>\n",
       "      <th></th>\n",
       "      <th></th>\n",
       "      <th></th>\n",
       "      <th></th>\n",
       "    </tr>\n",
       "  </thead>\n",
       "  <tbody>\n",
       "    <tr>\n",
       "      <th>CA</th>\n",
       "      <td>235993</td>\n",
       "      <td>Winery3</td>\n",
       "      <td>12/21/2020</td>\n",
       "      <td>San Francisco</td>\n",
       "      <td>94109</td>\n",
       "      <td>GSC</td>\n",
       "      <td>12/21/2020</td>\n",
       "      <td>9.9</td>\n",
       "      <td>3.0</td>\n",
       "      <td>39,512,223</td>\n",
       "      <td>3/19/2020</td>\n",
       "      <td>4/2/2020</td>\n",
       "      <td>5/13/2020</td>\n",
       "      <td>Blue</td>\n",
       "    </tr>\n",
       "    <tr>\n",
       "      <th>NC</th>\n",
       "      <td>235994</td>\n",
       "      <td>Winery3</td>\n",
       "      <td>12/23/2020</td>\n",
       "      <td>Charlotte</td>\n",
       "      <td>28211</td>\n",
       "      <td>UP3</td>\n",
       "      <td>12/23/2020</td>\n",
       "      <td>41.0</td>\n",
       "      <td>12.0</td>\n",
       "      <td>10,488,084</td>\n",
       "      <td>3/30/2020</td>\n",
       "      <td>4/29/2020</td>\n",
       "      <td>5/20/2020</td>\n",
       "      <td>Red</td>\n",
       "    </tr>\n",
       "    <tr>\n",
       "      <th>HI</th>\n",
       "      <td>235995</td>\n",
       "      <td>Winery3</td>\n",
       "      <td>12/28/2020</td>\n",
       "      <td>kamuela</td>\n",
       "      <td>96743</td>\n",
       "      <td>UPS</td>\n",
       "      <td>12/28/2020</td>\n",
       "      <td>21.5</td>\n",
       "      <td>6.0</td>\n",
       "      <td>1,415,872</td>\n",
       "      <td>3/23/2020</td>\n",
       "      <td>4/30/2020</td>\n",
       "      <td>5/5/2020</td>\n",
       "      <td>Blue</td>\n",
       "    </tr>\n",
       "    <tr>\n",
       "      <th>TX</th>\n",
       "      <td>235996</td>\n",
       "      <td>Winery3</td>\n",
       "      <td>12/28/2020</td>\n",
       "      <td>Carrollton</td>\n",
       "      <td>75010</td>\n",
       "      <td>UP2</td>\n",
       "      <td>12/28/2020</td>\n",
       "      <td>21.5</td>\n",
       "      <td>6.0</td>\n",
       "      <td>28,995,881</td>\n",
       "      <td>3/31/2020</td>\n",
       "      <td>5/4/2020</td>\n",
       "      <td>5/1/2020</td>\n",
       "      <td>Red</td>\n",
       "    </tr>\n",
       "    <tr>\n",
       "      <th>FL</th>\n",
       "      <td>235997</td>\n",
       "      <td>Winery3</td>\n",
       "      <td>12/28/2020</td>\n",
       "      <td>Delray Beach</td>\n",
       "      <td>33446</td>\n",
       "      <td>UPS</td>\n",
       "      <td>12/28/2020</td>\n",
       "      <td>21.5</td>\n",
       "      <td>6.0</td>\n",
       "      <td>21,477,737</td>\n",
       "      <td>4/1/2020</td>\n",
       "      <td>5/1/2020</td>\n",
       "      <td>9/25/2020</td>\n",
       "      <td>Red</td>\n",
       "    </tr>\n",
       "    <tr>\n",
       "      <th>CO</th>\n",
       "      <td>235998</td>\n",
       "      <td>Winery3</td>\n",
       "      <td>12/29/2020</td>\n",
       "      <td>Aurora</td>\n",
       "      <td>80013</td>\n",
       "      <td>UPS</td>\n",
       "      <td>12/29/2020</td>\n",
       "      <td>21.5</td>\n",
       "      <td>6.0</td>\n",
       "      <td>5,758,736</td>\n",
       "      <td>3/26/2020</td>\n",
       "      <td>4/26/2020</td>\n",
       "      <td>4/26/2020</td>\n",
       "      <td>Blue</td>\n",
       "    </tr>\n",
       "    <tr>\n",
       "      <th>CA</th>\n",
       "      <td>235999</td>\n",
       "      <td>Winery3</td>\n",
       "      <td>12/29/2020</td>\n",
       "      <td>Napa</td>\n",
       "      <td>94558</td>\n",
       "      <td>GSC</td>\n",
       "      <td>12/29/2020</td>\n",
       "      <td>9.9</td>\n",
       "      <td>3.0</td>\n",
       "      <td>39,512,223</td>\n",
       "      <td>3/19/2020</td>\n",
       "      <td>4/2/2020</td>\n",
       "      <td>5/13/2020</td>\n",
       "      <td>Blue</td>\n",
       "    </tr>\n",
       "    <tr>\n",
       "      <th>CO</th>\n",
       "      <td>236000</td>\n",
       "      <td>Winery3</td>\n",
       "      <td>12/29/2020</td>\n",
       "      <td>Aurora</td>\n",
       "      <td>80014</td>\n",
       "      <td>UPS</td>\n",
       "      <td>12/29/2020</td>\n",
       "      <td>39.0</td>\n",
       "      <td>12.0</td>\n",
       "      <td>5,758,736</td>\n",
       "      <td>3/26/2020</td>\n",
       "      <td>4/26/2020</td>\n",
       "      <td>4/26/2020</td>\n",
       "      <td>Blue</td>\n",
       "    </tr>\n",
       "    <tr>\n",
       "      <th>VA</th>\n",
       "      <td>236001</td>\n",
       "      <td>Winery3</td>\n",
       "      <td>12/28/2020</td>\n",
       "      <td>Charlottesville</td>\n",
       "      <td>22901</td>\n",
       "      <td>UPS</td>\n",
       "      <td>12/28/2020</td>\n",
       "      <td>21.5</td>\n",
       "      <td>6.0</td>\n",
       "      <td>8,535,519</td>\n",
       "      <td>3/30/2020</td>\n",
       "      <td>5/15/2020</td>\n",
       "      <td>5/29/2020</td>\n",
       "      <td>Blue</td>\n",
       "    </tr>\n",
       "    <tr>\n",
       "      <th>CA</th>\n",
       "      <td>236002</td>\n",
       "      <td>Winery3</td>\n",
       "      <td>12/29/2020</td>\n",
       "      <td>Napa</td>\n",
       "      <td>94558</td>\n",
       "      <td>WCU</td>\n",
       "      <td>12/29/2020</td>\n",
       "      <td>21.5</td>\n",
       "      <td>6.0</td>\n",
       "      <td>39,512,223</td>\n",
       "      <td>3/19/2020</td>\n",
       "      <td>4/2/2020</td>\n",
       "      <td>5/13/2020</td>\n",
       "      <td>Blue</td>\n",
       "    </tr>\n",
       "  </tbody>\n",
       "</table>\n",
       "</div>"
      ],
      "text/plain": [
       "       Order Number Company Name   Ship Date             City    Zip  \\\n",
       "State                                                                  \n",
       "CA           235993      Winery3  12/21/2020    San Francisco  94109   \n",
       "NC           235994      Winery3  12/23/2020        Charlotte  28211   \n",
       "HI           235995      Winery3  12/28/2020          kamuela  96743   \n",
       "TX           235996      Winery3  12/28/2020       Carrollton  75010   \n",
       "FL           235997      Winery3  12/28/2020     Delray Beach  33446   \n",
       "CO           235998      Winery3  12/29/2020           Aurora  80013   \n",
       "CA           235999      Winery3  12/29/2020             Napa  94558   \n",
       "CO           236000      Winery3  12/29/2020           Aurora  80014   \n",
       "VA           236001      Winery3  12/28/2020  Charlottesville  22901   \n",
       "CA           236002      Winery3  12/29/2020             Napa  94558   \n",
       "\n",
       "      Shipping Service Created Date  Weight  Item/Bottle Count  Population  \\\n",
       "State                                                                        \n",
       "CA                 GSC   12/21/2020     9.9                3.0  39,512,223   \n",
       "NC                 UP3   12/23/2020    41.0               12.0  10,488,084   \n",
       "HI                 UPS   12/28/2020    21.5                6.0   1,415,872   \n",
       "TX                 UP2   12/28/2020    21.5                6.0  28,995,881   \n",
       "FL                 UPS   12/28/2020    21.5                6.0  21,477,737   \n",
       "CO                 UPS   12/29/2020    21.5                6.0   5,758,736   \n",
       "CA                 GSC   12/29/2020     9.9                3.0  39,512,223   \n",
       "CO                 UPS   12/29/2020    39.0               12.0   5,758,736   \n",
       "VA                 UPS   12/28/2020    21.5                6.0   8,535,519   \n",
       "CA                 WCU   12/29/2020    21.5                6.0  39,512,223   \n",
       "\n",
       "      Lockdown Start Initial Expected Lockdown End Phase 1 Re-Opening Start  \\\n",
       "State                                                                         \n",
       "CA         3/19/2020                      4/2/2020                5/13/2020   \n",
       "NC         3/30/2020                     4/29/2020                5/20/2020   \n",
       "HI         3/23/2020                     4/30/2020                 5/5/2020   \n",
       "TX         3/31/2020                      5/4/2020                 5/1/2020   \n",
       "FL          4/1/2020                      5/1/2020                9/25/2020   \n",
       "CO         3/26/2020                     4/26/2020                4/26/2020   \n",
       "CA         3/19/2020                      4/2/2020                5/13/2020   \n",
       "CO         3/26/2020                     4/26/2020                4/26/2020   \n",
       "VA         3/30/2020                     5/15/2020                5/29/2020   \n",
       "CA         3/19/2020                      4/2/2020                5/13/2020   \n",
       "\n",
       "      Political Alignment  \n",
       "State                      \n",
       "CA                   Blue  \n",
       "NC                    Red  \n",
       "HI                   Blue  \n",
       "TX                    Red  \n",
       "FL                    Red  \n",
       "CO                   Blue  \n",
       "CA                   Blue  \n",
       "CO                   Blue  \n",
       "VA                   Blue  \n",
       "CA                   Blue  "
      ]
     },
     "execution_count": 9,
     "metadata": {},
     "output_type": "execute_result"
    }
   ],
   "source": [
    "states_2020.tail(10)"
   ]
  },
  {
   "cell_type": "code",
   "execution_count": 10,
   "id": "0f26f0da",
   "metadata": {},
   "outputs": [
    {
     "data": {
      "text/plain": [
       "1148819.0"
      ]
     },
     "execution_count": 10,
     "metadata": {},
     "output_type": "execute_result"
    }
   ],
   "source": [
    "# Calculate the total 2020 Item/Bottle Count.\n",
    "total_count_2020 = states_2020[\"Item/Bottle Count\"].sum()\n",
    "total_count_2020"
   ]
  },
  {
   "cell_type": "markdown",
   "id": "8f727188",
   "metadata": {},
   "source": [
    "## Slice Each State Into its Own Dataframe and Calculate Total Item/Bottle Count 2020."
   ]
  },
  {
   "cell_type": "code",
   "execution_count": 14,
   "id": "d87e7484",
   "metadata": {},
   "outputs": [],
   "source": [
    "#['FL', 'CA', 'NY', 'MD', 'TX', 'OH', 'NM', 'CT', 'MI', 'WA', 'PA',\n",
    "#       'CO', 'LA', 'HI', 'MA', 'NH', 'NJ', 'TN', 'IN', 'KS', 'NE', 'NC',\n",
    "#       'VA', 'IA', 'MN', 'WI', 'SC', 'SD', 'OR', 'ND', 'WY', 'IL', 'VT',\n",
    "#       'GA', 'AZ', 'DC', 'NV', 'MO', 'ME', 'RI', 'AR', 'AK', 'WV', 'MT',\n",
    "#       'ID', 'OK', 'AL', 'DE', 'Va', 'MS', 'KY']"
   ]
  },
  {
   "cell_type": "code",
   "execution_count": 15,
   "id": "4e756fd2",
   "metadata": {},
   "outputs": [],
   "source": [
    "slice_list = [\"AL\"]\n",
    "Alabama = states_2020.iloc[states_2020.index.isin(slice_list)]\n",
    "#Alabama"
   ]
  },
  {
   "cell_type": "code",
   "execution_count": 16,
   "id": "1bc1a114",
   "metadata": {},
   "outputs": [
    {
     "data": {
      "text/plain": [
       "2024.0"
      ]
     },
     "execution_count": 16,
     "metadata": {},
     "output_type": "execute_result"
    }
   ],
   "source": [
    "# Calculate the total Alabama Item/Bottle Count.\n",
    "Alabama[\"Item/Bottle Count\"].sum()"
   ]
  },
  {
   "cell_type": "code",
   "execution_count": 17,
   "id": "46bc454c",
   "metadata": {},
   "outputs": [],
   "source": [
    "slice_list = [\"AK\"]\n",
    "Alaska = states_2020.iloc[states_2020.index.isin(slice_list)]\n",
    "#Alaska"
   ]
  },
  {
   "cell_type": "code",
   "execution_count": 18,
   "id": "fa9ef0a5",
   "metadata": {},
   "outputs": [
    {
     "data": {
      "text/plain": [
       "2057.0"
      ]
     },
     "execution_count": 18,
     "metadata": {},
     "output_type": "execute_result"
    }
   ],
   "source": [
    "# Calculate the total Alaska Item/Bottle Count.\n",
    "Alaska[\"Item/Bottle Count\"].sum()"
   ]
  },
  {
   "cell_type": "code",
   "execution_count": 19,
   "id": "10dacd1f",
   "metadata": {},
   "outputs": [],
   "source": [
    "slice_list = [\"AZ\"]\n",
    "Arizona = states_2020.iloc[states_2020.index.isin(slice_list)]\n",
    "#Arizona"
   ]
  },
  {
   "cell_type": "code",
   "execution_count": 20,
   "id": "298982ef",
   "metadata": {},
   "outputs": [
    {
     "data": {
      "text/plain": [
       "16378.0"
      ]
     },
     "execution_count": 20,
     "metadata": {},
     "output_type": "execute_result"
    }
   ],
   "source": [
    "# Calculate the total Arizona Item/Bottle Count.\n",
    "Arizona[\"Item/Bottle Count\"].sum()"
   ]
  },
  {
   "cell_type": "code",
   "execution_count": 21,
   "id": "d917b8d2",
   "metadata": {},
   "outputs": [],
   "source": [
    "slice_list = [\"AR\"]\n",
    "Arkansas = states_2020.iloc[states_2020.index.isin(slice_list)]\n",
    "#Arkansas"
   ]
  },
  {
   "cell_type": "code",
   "execution_count": 22,
   "id": "e47d32b4",
   "metadata": {},
   "outputs": [
    {
     "data": {
      "text/plain": [
       "6512.0"
      ]
     },
     "execution_count": 22,
     "metadata": {},
     "output_type": "execute_result"
    }
   ],
   "source": [
    "# Calculate the total Arkansas Item/Bottle Count.\n",
    "Arkansas[\"Item/Bottle Count\"].sum()"
   ]
  },
  {
   "cell_type": "code",
   "execution_count": 23,
   "id": "30f0c11a",
   "metadata": {},
   "outputs": [],
   "source": [
    "slice_list = [\"CA\"]\n",
    "California = states_2020.iloc[states_2020.index.isin(slice_list)]\n",
    "#California"
   ]
  },
  {
   "cell_type": "code",
   "execution_count": 24,
   "id": "3d0f45fd",
   "metadata": {},
   "outputs": [
    {
     "data": {
      "text/plain": [
       "130312.0"
      ]
     },
     "execution_count": 24,
     "metadata": {},
     "output_type": "execute_result"
    }
   ],
   "source": [
    "# Calculate the total California Item/Bottle Count.\n",
    "California[\"Item/Bottle Count\"].sum()"
   ]
  },
  {
   "cell_type": "code",
   "execution_count": 25,
   "id": "acccd00a",
   "metadata": {},
   "outputs": [],
   "source": [
    "slice_list = [\"CO\"]\n",
    "Colorado = states_2020.iloc[states_2020.index.isin(slice_list)]\n",
    "#Colorado"
   ]
  },
  {
   "cell_type": "code",
   "execution_count": 26,
   "id": "927f2f03",
   "metadata": {},
   "outputs": [
    {
     "data": {
      "text/plain": [
       "27802.0"
      ]
     },
     "execution_count": 26,
     "metadata": {},
     "output_type": "execute_result"
    }
   ],
   "source": [
    "# Calculate the total Alaska Item/Bottle Count.\n",
    "Colorado[\"Item/Bottle Count\"].sum()"
   ]
  },
  {
   "cell_type": "code",
   "execution_count": 27,
   "id": "21aad67b",
   "metadata": {},
   "outputs": [],
   "source": [
    "slice_list = [\"CT\"]\n",
    "Connecticut = states_2020.iloc[states_2020.index.isin(slice_list)]\n",
    "#Connecticut"
   ]
  },
  {
   "cell_type": "code",
   "execution_count": 28,
   "id": "c2dbfd37",
   "metadata": {},
   "outputs": [
    {
     "data": {
      "text/plain": [
       "24062.0"
      ]
     },
     "execution_count": 28,
     "metadata": {},
     "output_type": "execute_result"
    }
   ],
   "source": [
    "# Calculate the total Connecticut Item/Bottle Count.\n",
    "Connecticut[\"Item/Bottle Count\"].sum()"
   ]
  },
  {
   "cell_type": "code",
   "execution_count": 29,
   "id": "705bb17c",
   "metadata": {},
   "outputs": [],
   "source": [
    "slice_list = [\"DC\"]\n",
    "DC = states_2020.iloc[states_2020.index.isin(slice_list)]\n",
    "#DC"
   ]
  },
  {
   "cell_type": "code",
   "execution_count": 30,
   "id": "9beb3fbd",
   "metadata": {},
   "outputs": [
    {
     "data": {
      "text/plain": [
       "8288.0"
      ]
     },
     "execution_count": 30,
     "metadata": {},
     "output_type": "execute_result"
    }
   ],
   "source": [
    "# Calculate the total Connecticut Item/Bottle Count.\n",
    "DC[\"Item/Bottle Count\"].sum()"
   ]
  },
  {
   "cell_type": "code",
   "execution_count": 31,
   "id": "4f2e7fdd",
   "metadata": {},
   "outputs": [],
   "source": [
    "slice_list = [\"DE\"]\n",
    "Delaware = states_2020.iloc[states_2020.index.isin(slice_list)]\n",
    "#Delaware"
   ]
  },
  {
   "cell_type": "code",
   "execution_count": 32,
   "id": "8ebf0de8",
   "metadata": {},
   "outputs": [
    {
     "data": {
      "text/plain": [
       "1289.0"
      ]
     },
     "execution_count": 32,
     "metadata": {},
     "output_type": "execute_result"
    }
   ],
   "source": [
    "# Calculate the total Delaware Item/Bottle Count.\n",
    "Delaware[\"Item/Bottle Count\"].sum()"
   ]
  },
  {
   "cell_type": "code",
   "execution_count": 33,
   "id": "0bbf4b39",
   "metadata": {},
   "outputs": [],
   "source": [
    "slice_list = [\"FL\"]\n",
    "Florida = states_2020.iloc[states_2020.index.isin(slice_list)]\n",
    "#Florida"
   ]
  },
  {
   "cell_type": "code",
   "execution_count": 34,
   "id": "7840ccc8",
   "metadata": {},
   "outputs": [
    {
     "data": {
      "text/plain": [
       "82961.0"
      ]
     },
     "execution_count": 34,
     "metadata": {},
     "output_type": "execute_result"
    }
   ],
   "source": [
    "# Calculate the total Florida Item/Bottle Count.\n",
    "Florida[\"Item/Bottle Count\"].sum()"
   ]
  },
  {
   "cell_type": "code",
   "execution_count": 35,
   "id": "8dc52048",
   "metadata": {},
   "outputs": [],
   "source": [
    "slice_list = [\"GA\"]\n",
    "Georgia = states_2020.iloc[states_2020.index.isin(slice_list)]\n",
    "#Georgia"
   ]
  },
  {
   "cell_type": "code",
   "execution_count": 36,
   "id": "852830b5",
   "metadata": {},
   "outputs": [
    {
     "data": {
      "text/plain": [
       "34693.0"
      ]
     },
     "execution_count": 36,
     "metadata": {},
     "output_type": "execute_result"
    }
   ],
   "source": [
    "# Calculate the total Georgia Item/Bottle Count.\n",
    "Georgia[\"Item/Bottle Count\"].sum()"
   ]
  },
  {
   "cell_type": "code",
   "execution_count": 37,
   "id": "98b63f4c",
   "metadata": {},
   "outputs": [],
   "source": [
    "slice_list = [\"HI\"]\n",
    "Hawaii = states_2020.iloc[states_2020.index.isin(slice_list)]\n",
    "#Hawaii"
   ]
  },
  {
   "cell_type": "code",
   "execution_count": 38,
   "id": "bbbcd02c",
   "metadata": {},
   "outputs": [
    {
     "data": {
      "text/plain": [
       "9666.0"
      ]
     },
     "execution_count": 38,
     "metadata": {},
     "output_type": "execute_result"
    }
   ],
   "source": [
    "# Calculate the total Hawaii Item/Bottle Count.\n",
    "Hawaii[\"Item/Bottle Count\"].sum()"
   ]
  },
  {
   "cell_type": "code",
   "execution_count": 39,
   "id": "c80e8149",
   "metadata": {},
   "outputs": [],
   "source": [
    "slice_list = [\"ID\"]\n",
    "Idaho = states_2020.iloc[states_2020.index.isin(slice_list)]\n",
    "#Idaho"
   ]
  },
  {
   "cell_type": "code",
   "execution_count": 40,
   "id": "86b16d53",
   "metadata": {},
   "outputs": [
    {
     "data": {
      "text/plain": [
       "3391.0"
      ]
     },
     "execution_count": 40,
     "metadata": {},
     "output_type": "execute_result"
    }
   ],
   "source": [
    "# Calculate the total Idaho Item/Bottle Count.\n",
    "Idaho[\"Item/Bottle Count\"].sum()"
   ]
  },
  {
   "cell_type": "code",
   "execution_count": 41,
   "id": "e733a5e1",
   "metadata": {},
   "outputs": [],
   "source": [
    "slice_list = [\"IL\"]\n",
    "Illinois = states_2020.iloc[states_2020.index.isin(slice_list)]\n",
    "#Illinois"
   ]
  },
  {
   "cell_type": "code",
   "execution_count": 42,
   "id": "18d973cc",
   "metadata": {},
   "outputs": [
    {
     "data": {
      "text/plain": [
       "51356.0"
      ]
     },
     "execution_count": 42,
     "metadata": {},
     "output_type": "execute_result"
    }
   ],
   "source": [
    "# Calculate the total Illinois Item/Bottle Count.\n",
    "Illinois[\"Item/Bottle Count\"].sum()"
   ]
  },
  {
   "cell_type": "code",
   "execution_count": 43,
   "id": "d487423e",
   "metadata": {},
   "outputs": [],
   "source": [
    "slice_list = [\"IN\"]\n",
    "Indiana = states_2020.iloc[states_2020.index.isin(slice_list)]\n",
    "#Indiana"
   ]
  },
  {
   "cell_type": "code",
   "execution_count": 44,
   "id": "0524172d",
   "metadata": {},
   "outputs": [
    {
     "data": {
      "text/plain": [
       "17476.0"
      ]
     },
     "execution_count": 44,
     "metadata": {},
     "output_type": "execute_result"
    }
   ],
   "source": [
    "# Calculate the total Indiana Item/Bottle Count.\n",
    "Indiana[\"Item/Bottle Count\"].sum()"
   ]
  },
  {
   "cell_type": "code",
   "execution_count": 45,
   "id": "1befd608",
   "metadata": {},
   "outputs": [],
   "source": [
    "slice_list = [\"IA\"]\n",
    "Iowa = states_2020.iloc[states_2020.index.isin(slice_list)]\n",
    "#Iowa"
   ]
  },
  {
   "cell_type": "code",
   "execution_count": 46,
   "id": "bdab2c99",
   "metadata": {},
   "outputs": [
    {
     "data": {
      "text/plain": [
       "5846.0"
      ]
     },
     "execution_count": 46,
     "metadata": {},
     "output_type": "execute_result"
    }
   ],
   "source": [
    "# Calculate the total Iowa Item/Bottle Count.\n",
    "Iowa[\"Item/Bottle Count\"].sum()"
   ]
  },
  {
   "cell_type": "code",
   "execution_count": 47,
   "id": "7332d5c2",
   "metadata": {},
   "outputs": [],
   "source": [
    "slice_list = [\"KS\"]\n",
    "Kansas = states_2020.iloc[states_2020.index.isin(slice_list)]\n",
    "#Kansas"
   ]
  },
  {
   "cell_type": "code",
   "execution_count": 48,
   "id": "e695bef0",
   "metadata": {},
   "outputs": [
    {
     "data": {
      "text/plain": [
       "7165.0"
      ]
     },
     "execution_count": 48,
     "metadata": {},
     "output_type": "execute_result"
    }
   ],
   "source": [
    "# Calculate the total Kansas Item/Bottle Count.\n",
    "Kansas[\"Item/Bottle Count\"].sum()"
   ]
  },
  {
   "cell_type": "code",
   "execution_count": 49,
   "id": "72ad54cf",
   "metadata": {},
   "outputs": [],
   "source": [
    "#Effective March 12, 2021, brand registration is not required for DTC products.  DTC shipping previously prohibited. \n",
    "slice_list = [\"KY\"]\n",
    "Kentucky = states_2020.iloc[states_2020.index.isin(slice_list)]\n",
    "#Kentucky"
   ]
  },
  {
   "cell_type": "code",
   "execution_count": 50,
   "id": "5f1f4f67",
   "metadata": {},
   "outputs": [
    {
     "data": {
      "text/plain": [
       "40.0"
      ]
     },
     "execution_count": 50,
     "metadata": {},
     "output_type": "execute_result"
    }
   ],
   "source": [
    "# Calculate the total Kentucky Item/Bottle Count.\n",
    "Kentucky[\"Item/Bottle Count\"].sum()"
   ]
  },
  {
   "cell_type": "code",
   "execution_count": 51,
   "id": "2c8ffee3",
   "metadata": {},
   "outputs": [],
   "source": [
    "slice_list = [\"LA\"]\n",
    "Louisiana = states_2020.iloc[states_2020.index.isin(slice_list)]\n",
    "#Louisiana"
   ]
  },
  {
   "cell_type": "code",
   "execution_count": 52,
   "id": "34e9c28d",
   "metadata": {},
   "outputs": [
    {
     "data": {
      "text/plain": [
       "10558.0"
      ]
     },
     "execution_count": 52,
     "metadata": {},
     "output_type": "execute_result"
    }
   ],
   "source": [
    "# Calculate the total Louisiana Item/Bottle Count.\n",
    "Louisiana[\"Item/Bottle Count\"].sum()"
   ]
  },
  {
   "cell_type": "code",
   "execution_count": 53,
   "id": "ad8fac0b",
   "metadata": {},
   "outputs": [],
   "source": [
    "slice_list = [\"ME\"]\n",
    "Maine = states_2020.iloc[states_2020.index.isin(slice_list)]\n",
    "#Maine"
   ]
  },
  {
   "cell_type": "code",
   "execution_count": 54,
   "id": "85707452",
   "metadata": {},
   "outputs": [
    {
     "data": {
      "text/plain": [
       "5007.0"
      ]
     },
     "execution_count": 54,
     "metadata": {},
     "output_type": "execute_result"
    }
   ],
   "source": [
    "# Calculate the total Maine Item/Bottle Count.\n",
    "Maine[\"Item/Bottle Count\"].sum()"
   ]
  },
  {
   "cell_type": "code",
   "execution_count": 55,
   "id": "88e0b96d",
   "metadata": {},
   "outputs": [],
   "source": [
    "slice_list = [\"MD\"]\n",
    "Maryland = states_2020.iloc[states_2020.index.isin(slice_list)]\n",
    "#Maryland"
   ]
  },
  {
   "cell_type": "code",
   "execution_count": 56,
   "id": "381650a7",
   "metadata": {},
   "outputs": [
    {
     "data": {
      "text/plain": [
       "29515.0"
      ]
     },
     "execution_count": 56,
     "metadata": {},
     "output_type": "execute_result"
    }
   ],
   "source": [
    "# Calculate the total Maryland Item/Bottle Count.\n",
    "Maryland[\"Item/Bottle Count\"].sum()"
   ]
  },
  {
   "cell_type": "code",
   "execution_count": 57,
   "id": "32e12154",
   "metadata": {},
   "outputs": [],
   "source": [
    "slice_list = [\"MA\"]\n",
    "Massachusetts = states_2020.iloc[states_2020.index.isin(slice_list)]\n",
    "#Massachusetts"
   ]
  },
  {
   "cell_type": "code",
   "execution_count": 58,
   "id": "c71c15fb",
   "metadata": {},
   "outputs": [
    {
     "data": {
      "text/plain": [
       "43665.0"
      ]
     },
     "execution_count": 58,
     "metadata": {},
     "output_type": "execute_result"
    }
   ],
   "source": [
    "# Calculate the total Massachusetts Item/Bottle Count.\n",
    "Massachusetts[\"Item/Bottle Count\"].sum()"
   ]
  },
  {
   "cell_type": "code",
   "execution_count": 59,
   "id": "48fba113",
   "metadata": {},
   "outputs": [],
   "source": [
    "slice_list = [\"MI\"]\n",
    "Michigan = states_2020.iloc[states_2020.index.isin(slice_list)]\n",
    "#Michigan"
   ]
  },
  {
   "cell_type": "code",
   "execution_count": 60,
   "id": "46cde1b5",
   "metadata": {},
   "outputs": [
    {
     "data": {
      "text/plain": [
       "36218.0"
      ]
     },
     "execution_count": 60,
     "metadata": {},
     "output_type": "execute_result"
    }
   ],
   "source": [
    "# Calculate the total Michigan Item/Bottle Count.\n",
    "Michigan[\"Item/Bottle Count\"].sum()"
   ]
  },
  {
   "cell_type": "code",
   "execution_count": 61,
   "id": "fb231a20",
   "metadata": {},
   "outputs": [],
   "source": [
    "slice_list = [\"MN\"]\n",
    "Minnesota = states_2020.iloc[states_2020.index.isin(slice_list)]\n",
    "#Minnesota"
   ]
  },
  {
   "cell_type": "code",
   "execution_count": 62,
   "id": "4b214696",
   "metadata": {},
   "outputs": [
    {
     "data": {
      "text/plain": [
       "15040.0"
      ]
     },
     "execution_count": 62,
     "metadata": {},
     "output_type": "execute_result"
    }
   ],
   "source": [
    "# Calculate the total Minnesota Item/Bottle Count.\n",
    "Minnesota[\"Item/Bottle Count\"].sum()"
   ]
  },
  {
   "cell_type": "code",
   "execution_count": 63,
   "id": "9a20f7a8",
   "metadata": {},
   "outputs": [],
   "source": [
    "#DTC shipping prohibited in Mississippi. This order was sent to Philedelphia, MS (A real place!) and likely\n",
    "#bypassed the checks/balances that are in place to adhere to shipping laws. \n",
    "slice_list = [\"MS\"]\n",
    "Mississippi = states_2020.iloc[states_2020.index.isin(slice_list)]\n",
    "#Mississippi"
   ]
  },
  {
   "cell_type": "code",
   "execution_count": 64,
   "id": "2b1e324c",
   "metadata": {},
   "outputs": [
    {
     "data": {
      "text/plain": [
       "6.0"
      ]
     },
     "execution_count": 64,
     "metadata": {},
     "output_type": "execute_result"
    }
   ],
   "source": [
    "# Calculate the total Mississippi Item/Bottle Count.\n",
    "Mississippi[\"Item/Bottle Count\"].sum()"
   ]
  },
  {
   "cell_type": "code",
   "execution_count": 65,
   "id": "9bef5856",
   "metadata": {},
   "outputs": [],
   "source": [
    "slice_list = [\"MO\"]\n",
    "Missouri = states_2020.iloc[states_2020.index.isin(slice_list)]\n",
    "#Missouri"
   ]
  },
  {
   "cell_type": "code",
   "execution_count": 66,
   "id": "5df1975f",
   "metadata": {},
   "outputs": [
    {
     "data": {
      "text/plain": [
       "13633.0"
      ]
     },
     "execution_count": 66,
     "metadata": {},
     "output_type": "execute_result"
    }
   ],
   "source": [
    "# Calculate the total Missouri Item/Bottle Count.\n",
    "Missouri[\"Item/Bottle Count\"].sum()"
   ]
  },
  {
   "cell_type": "code",
   "execution_count": 67,
   "id": "a4328eed",
   "metadata": {},
   "outputs": [],
   "source": [
    "slice_list = [\"MT\"]\n",
    "Montana = states_2020.iloc[states_2020.index.isin(slice_list)]\n",
    "#Montana"
   ]
  },
  {
   "cell_type": "code",
   "execution_count": 68,
   "id": "aae94fd9",
   "metadata": {},
   "outputs": [
    {
     "data": {
      "text/plain": [
       "2472.0"
      ]
     },
     "execution_count": 68,
     "metadata": {},
     "output_type": "execute_result"
    }
   ],
   "source": [
    "# Calculate the total Montana Item/Bottle Count.\n",
    "Montana[\"Item/Bottle Count\"].sum()"
   ]
  },
  {
   "cell_type": "code",
   "execution_count": 69,
   "id": "f2b39ab0",
   "metadata": {},
   "outputs": [],
   "source": [
    "#No shipping law information- No orders for Nebraska\n",
    "slice_list = [\"NE\"]\n",
    "Nebraska = states_2020.iloc[states_2020.index.isin(slice_list)]\n",
    "#Nebraska"
   ]
  },
  {
   "cell_type": "code",
   "execution_count": 70,
   "id": "e1e943f9",
   "metadata": {},
   "outputs": [
    {
     "data": {
      "text/plain": [
       "4753.0"
      ]
     },
     "execution_count": 70,
     "metadata": {},
     "output_type": "execute_result"
    }
   ],
   "source": [
    "# Calculate the total Nebraska Item/Bottle Count.\n",
    "Nebraska[\"Item/Bottle Count\"].sum()"
   ]
  },
  {
   "cell_type": "code",
   "execution_count": 71,
   "id": "100e9166",
   "metadata": {},
   "outputs": [],
   "source": [
    "slice_list = [\"NV\"]\n",
    "Nevada = states_2020.iloc[states_2020.index.isin(slice_list)]\n",
    "#Nevada"
   ]
  },
  {
   "cell_type": "code",
   "execution_count": 72,
   "id": "9c857bcf",
   "metadata": {},
   "outputs": [
    {
     "data": {
      "text/plain": [
       "6802.0"
      ]
     },
     "execution_count": 72,
     "metadata": {},
     "output_type": "execute_result"
    }
   ],
   "source": [
    "# Calculate the total Nevada Item/Bottle Count.\n",
    "Nevada[\"Item/Bottle Count\"].sum()"
   ]
  },
  {
   "cell_type": "code",
   "execution_count": 73,
   "id": "4aea4238",
   "metadata": {},
   "outputs": [],
   "source": [
    "slice_list = [\"NH\"]\n",
    "New_Hampshire = states_2020.iloc[states_2020.index.isin(slice_list)]\n",
    "#New_Hampshire"
   ]
  },
  {
   "cell_type": "code",
   "execution_count": 74,
   "id": "89efa6ce",
   "metadata": {},
   "outputs": [
    {
     "data": {
      "text/plain": [
       "6015.0"
      ]
     },
     "execution_count": 74,
     "metadata": {},
     "output_type": "execute_result"
    }
   ],
   "source": [
    "# Calculate the total New_Hampshire Item/Bottle Count.\n",
    "New_Hampshire[\"Item/Bottle Count\"].sum()"
   ]
  },
  {
   "cell_type": "code",
   "execution_count": 75,
   "id": "66c74e9c",
   "metadata": {},
   "outputs": [],
   "source": [
    "slice_list = [\"NJ\"]\n",
    "New_Jersey = states_2020.iloc[states_2020.index.isin(slice_list)]\n",
    "#New_Jersey"
   ]
  },
  {
   "cell_type": "code",
   "execution_count": 76,
   "id": "42d1beb9",
   "metadata": {},
   "outputs": [
    {
     "data": {
      "text/plain": [
       "61171.0"
      ]
     },
     "execution_count": 76,
     "metadata": {},
     "output_type": "execute_result"
    }
   ],
   "source": [
    "# Calculate the total New Jersey Item/Bottle Count.\n",
    "New_Jersey[\"Item/Bottle Count\"].sum()"
   ]
  },
  {
   "cell_type": "code",
   "execution_count": 77,
   "id": "6af4fcab",
   "metadata": {},
   "outputs": [],
   "source": [
    "slice_list = [\"NM\"]\n",
    "New_Mexico = states_2020.iloc[states_2020.index.isin(slice_list)]\n",
    "#New_Mexico"
   ]
  },
  {
   "cell_type": "code",
   "execution_count": 78,
   "id": "192570b8",
   "metadata": {},
   "outputs": [
    {
     "data": {
      "text/plain": [
       "4487.0"
      ]
     },
     "execution_count": 78,
     "metadata": {},
     "output_type": "execute_result"
    }
   ],
   "source": [
    "# Calculate the total New Mexico Item/Bottle Count.\n",
    "New_Mexico[\"Item/Bottle Count\"].sum()"
   ]
  },
  {
   "cell_type": "code",
   "execution_count": 79,
   "id": "b2078a5c",
   "metadata": {},
   "outputs": [],
   "source": [
    "slice_list = [\"NY\"]\n",
    "New_York = states_2020.iloc[states_2020.index.isin(slice_list)]\n",
    "#New_York"
   ]
  },
  {
   "cell_type": "code",
   "execution_count": 80,
   "id": "7d0e3bbb",
   "metadata": {},
   "outputs": [
    {
     "data": {
      "text/plain": [
       "119653.0"
      ]
     },
     "execution_count": 80,
     "metadata": {},
     "output_type": "execute_result"
    }
   ],
   "source": [
    "# Calculate the total New York Item/Bottle Count.\n",
    "New_York[\"Item/Bottle Count\"].sum()"
   ]
  },
  {
   "cell_type": "code",
   "execution_count": 81,
   "id": "fb7706c7",
   "metadata": {},
   "outputs": [],
   "source": [
    "slice_list = [\"NC\"]\n",
    "North_Carolina = states_2020.iloc[states_2020.index.isin(slice_list)]\n",
    "#North_Carolina"
   ]
  },
  {
   "cell_type": "code",
   "execution_count": 82,
   "id": "30e40de8",
   "metadata": {},
   "outputs": [
    {
     "data": {
      "text/plain": [
       "28220.0"
      ]
     },
     "execution_count": 82,
     "metadata": {},
     "output_type": "execute_result"
    }
   ],
   "source": [
    "# Calculate the total North Carolina Item/Bottle Count.\n",
    "North_Carolina[\"Item/Bottle Count\"].sum()"
   ]
  },
  {
   "cell_type": "code",
   "execution_count": 83,
   "id": "5172eead",
   "metadata": {},
   "outputs": [],
   "source": [
    "slice_list = [\"ND\"]\n",
    "North_Dakota = states_2020.iloc[states_2020.index.isin(slice_list)]\n",
    "#North_Dakota"
   ]
  },
  {
   "cell_type": "code",
   "execution_count": 84,
   "id": "cc38a006",
   "metadata": {},
   "outputs": [
    {
     "data": {
      "text/plain": [
       "2042.0"
      ]
     },
     "execution_count": 84,
     "metadata": {},
     "output_type": "execute_result"
    }
   ],
   "source": [
    "# Calculate the total North Dakota Item/Bottle Count.\n",
    "North_Dakota[\"Item/Bottle Count\"].sum()"
   ]
  },
  {
   "cell_type": "code",
   "execution_count": 85,
   "id": "f0deb3be",
   "metadata": {},
   "outputs": [],
   "source": [
    "slice_list = [\"OH\"]\n",
    "Ohio = states_2020.iloc[states_2020.index.isin(slice_list)]\n",
    "#Ohio"
   ]
  },
  {
   "cell_type": "code",
   "execution_count": 86,
   "id": "7bd4c591",
   "metadata": {},
   "outputs": [
    {
     "data": {
      "text/plain": [
       "36798.0"
      ]
     },
     "execution_count": 86,
     "metadata": {},
     "output_type": "execute_result"
    }
   ],
   "source": [
    "# Calculate the total Ohio Item/Bottle Count.\n",
    "Ohio[\"Item/Bottle Count\"].sum()"
   ]
  },
  {
   "cell_type": "code",
   "execution_count": 87,
   "id": "e2195732",
   "metadata": {},
   "outputs": [],
   "source": [
    "slice_list = [\"OK\"]\n",
    "Oklahoma = states_2020.iloc[states_2020.index.isin(slice_list)]\n",
    "#Oklahoma"
   ]
  },
  {
   "cell_type": "code",
   "execution_count": 88,
   "id": "e8aee12d",
   "metadata": {},
   "outputs": [
    {
     "data": {
      "text/plain": [
       "4694.0"
      ]
     },
     "execution_count": 88,
     "metadata": {},
     "output_type": "execute_result"
    }
   ],
   "source": [
    "# Calculate the total Oklahoma Item/Bottle Count.\n",
    "Oklahoma[\"Item/Bottle Count\"].sum()"
   ]
  },
  {
   "cell_type": "code",
   "execution_count": 89,
   "id": "7f88e070",
   "metadata": {},
   "outputs": [],
   "source": [
    "slice_list = [\"OR\"]\n",
    "Oregon = states_2020.iloc[states_2020.index.isin(slice_list)]\n",
    "#Oregon"
   ]
  },
  {
   "cell_type": "code",
   "execution_count": 90,
   "id": "301c0ba5",
   "metadata": {},
   "outputs": [
    {
     "data": {
      "text/plain": [
       "11952.0"
      ]
     },
     "execution_count": 90,
     "metadata": {},
     "output_type": "execute_result"
    }
   ],
   "source": [
    "# Calculate the total Oregon Item/Bottle Count.\n",
    "Oregon[\"Item/Bottle Count\"].sum()"
   ]
  },
  {
   "cell_type": "code",
   "execution_count": 91,
   "id": "85ccc8a8",
   "metadata": {},
   "outputs": [],
   "source": [
    "slice_list = [\"PA\"]\n",
    "Pennsylvania = states_2020.iloc[states_2020.index.isin(slice_list)]\n",
    "#Pennsylvania"
   ]
  },
  {
   "cell_type": "code",
   "execution_count": 92,
   "id": "ab2abfe5",
   "metadata": {},
   "outputs": [
    {
     "data": {
      "text/plain": [
       "82215.0"
      ]
     },
     "execution_count": 92,
     "metadata": {},
     "output_type": "execute_result"
    }
   ],
   "source": [
    "# Calculate the total Pennsylvania Item/Bottle Count.\n",
    "Pennsylvania[\"Item/Bottle Count\"].sum()"
   ]
  },
  {
   "cell_type": "code",
   "execution_count": 93,
   "id": "0962fe9d",
   "metadata": {},
   "outputs": [],
   "source": [
    "slice_list = [\"RI\"]\n",
    "Rhode_Island = states_2020.iloc[states_2020.index.isin(slice_list)]\n",
    "#Rhode_Island"
   ]
  },
  {
   "cell_type": "code",
   "execution_count": 94,
   "id": "9fdb9396",
   "metadata": {},
   "outputs": [
    {
     "data": {
      "text/plain": [
       "7767.0"
      ]
     },
     "execution_count": 94,
     "metadata": {},
     "output_type": "execute_result"
    }
   ],
   "source": [
    "# Calculate the total Rhode Island Item/Bottle Count.\n",
    "Rhode_Island[\"Item/Bottle Count\"].sum()"
   ]
  },
  {
   "cell_type": "code",
   "execution_count": 95,
   "id": "3a4b5479",
   "metadata": {},
   "outputs": [],
   "source": [
    "slice_list = [\"SC\"]\n",
    "South_Carolina = states_2020.iloc[states_2020.index.isin(slice_list)]\n",
    "#South_Carolina"
   ]
  },
  {
   "cell_type": "code",
   "execution_count": 96,
   "id": "ec0980b5",
   "metadata": {},
   "outputs": [
    {
     "data": {
      "text/plain": [
       "14478.0"
      ]
     },
     "execution_count": 96,
     "metadata": {},
     "output_type": "execute_result"
    }
   ],
   "source": [
    "# Calculate the total Oregon Item/Bottle Count.\n",
    "South_Carolina[\"Item/Bottle Count\"].sum()"
   ]
  },
  {
   "cell_type": "code",
   "execution_count": 97,
   "id": "76a645da",
   "metadata": {},
   "outputs": [],
   "source": [
    "slice_list = [\"SD\"]\n",
    "South_Dakota = states_2020.iloc[states_2020.index.isin(slice_list)]\n",
    "#South_Dakota"
   ]
  },
  {
   "cell_type": "code",
   "execution_count": 98,
   "id": "b1f7d014",
   "metadata": {},
   "outputs": [
    {
     "data": {
      "text/plain": [
       "1757.0"
      ]
     },
     "execution_count": 98,
     "metadata": {},
     "output_type": "execute_result"
    }
   ],
   "source": [
    "# Calculate the total South_Dakota Item/Bottle Count.\n",
    "South_Dakota[\"Item/Bottle Count\"].sum()"
   ]
  },
  {
   "cell_type": "code",
   "execution_count": 99,
   "id": "a5519729",
   "metadata": {},
   "outputs": [],
   "source": [
    "slice_list = [\"TN\"]\n",
    "Tennessee = states_2020.iloc[states_2020.index.isin(slice_list)]\n",
    "#Tennessee"
   ]
  },
  {
   "cell_type": "code",
   "execution_count": 100,
   "id": "d48d6e6c",
   "metadata": {},
   "outputs": [
    {
     "data": {
      "text/plain": [
       "20300.0"
      ]
     },
     "execution_count": 100,
     "metadata": {},
     "output_type": "execute_result"
    }
   ],
   "source": [
    "# Calculate the total Tennessee Item/Bottle Count.\n",
    "Tennessee[\"Item/Bottle Count\"].sum()"
   ]
  },
  {
   "cell_type": "code",
   "execution_count": 101,
   "id": "5005f44d",
   "metadata": {},
   "outputs": [],
   "source": [
    "slice_list = [\"TX\"]\n",
    "Texas = states_2020.iloc[states_2020.index.isin(slice_list)]\n",
    "#Texas"
   ]
  },
  {
   "cell_type": "code",
   "execution_count": 102,
   "id": "354213ec",
   "metadata": {},
   "outputs": [
    {
     "data": {
      "text/plain": [
       "66704.0"
      ]
     },
     "execution_count": 102,
     "metadata": {},
     "output_type": "execute_result"
    }
   ],
   "source": [
    "# Calculate the total Texas Item/Bottle Count.\n",
    "Texas[\"Item/Bottle Count\"].sum()"
   ]
  },
  {
   "cell_type": "code",
   "execution_count": 103,
   "id": "b03db9f4",
   "metadata": {},
   "outputs": [],
   "source": [
    "#No orders from Utah. DTC shipping prohibited.\n",
    "slice_list = [\"UT\"]\n",
    "Utah = states_2020.iloc[states_2020.index.isin(slice_list)]\n",
    "#Utah"
   ]
  },
  {
   "cell_type": "code",
   "execution_count": 104,
   "id": "1e695744",
   "metadata": {},
   "outputs": [
    {
     "data": {
      "text/plain": [
       "0.0"
      ]
     },
     "execution_count": 104,
     "metadata": {},
     "output_type": "execute_result"
    }
   ],
   "source": [
    "# Calculate the total Utah Item/Bottle Count.\n",
    "Utah[\"Item/Bottle Count\"].sum()"
   ]
  },
  {
   "cell_type": "code",
   "execution_count": 105,
   "id": "f45b39a1",
   "metadata": {},
   "outputs": [],
   "source": [
    "slice_list = [\"VT\"]\n",
    "Vermont = states_2020.iloc[states_2020.index.isin(slice_list)]\n",
    "#Vermont"
   ]
  },
  {
   "cell_type": "code",
   "execution_count": 106,
   "id": "1d840441",
   "metadata": {},
   "outputs": [
    {
     "data": {
      "text/plain": [
       "3703.0"
      ]
     },
     "execution_count": 106,
     "metadata": {},
     "output_type": "execute_result"
    }
   ],
   "source": [
    "# Calculate the total Vermont Item/Bottle Count.\n",
    "Vermont[\"Item/Bottle Count\"].sum()"
   ]
  },
  {
   "cell_type": "code",
   "execution_count": 107,
   "id": "7c4d6473",
   "metadata": {},
   "outputs": [],
   "source": [
    "slice_list = [\"VA\"]\n",
    "Virginia = states_2020.iloc[states_2020.index.isin(slice_list)]\n",
    "#Virginia"
   ]
  },
  {
   "cell_type": "code",
   "execution_count": 108,
   "id": "cd24c9ee",
   "metadata": {},
   "outputs": [
    {
     "data": {
      "text/plain": [
       "40075.0"
      ]
     },
     "execution_count": 108,
     "metadata": {},
     "output_type": "execute_result"
    }
   ],
   "source": [
    "# Calculate the total Virginia Item/Bottle Count.\n",
    "Virginia[\"Item/Bottle Count\"].sum()"
   ]
  },
  {
   "cell_type": "code",
   "execution_count": 109,
   "id": "89abc71e",
   "metadata": {},
   "outputs": [],
   "source": [
    "slice_list = [\"WA\"]\n",
    "Washington = states_2020.iloc[states_2020.index.isin(slice_list)]\n",
    "#Washington"
   ]
  },
  {
   "cell_type": "code",
   "execution_count": 110,
   "id": "16318be9",
   "metadata": {},
   "outputs": [
    {
     "data": {
      "text/plain": [
       "19176.0"
      ]
     },
     "execution_count": 110,
     "metadata": {},
     "output_type": "execute_result"
    }
   ],
   "source": [
    "# Calculate the total Washington Item/Bottle Count.\n",
    "Washington[\"Item/Bottle Count\"].sum()"
   ]
  },
  {
   "cell_type": "code",
   "execution_count": 111,
   "id": "1a13d169",
   "metadata": {},
   "outputs": [],
   "source": [
    "slice_list = [\"WV\"]\n",
    "West_Virginia = states_2020.iloc[states_2020.index.isin(slice_list)]\n",
    "#West_Virginia"
   ]
  },
  {
   "cell_type": "code",
   "execution_count": 112,
   "id": "7bac9c7c",
   "metadata": {},
   "outputs": [
    {
     "data": {
      "text/plain": [
       "2869.0"
      ]
     },
     "execution_count": 112,
     "metadata": {},
     "output_type": "execute_result"
    }
   ],
   "source": [
    "# Calculate the total West Virginia Item/Bottle Count.\n",
    "West_Virginia[\"Item/Bottle Count\"].sum()"
   ]
  },
  {
   "cell_type": "code",
   "execution_count": 113,
   "id": "57a6d385",
   "metadata": {},
   "outputs": [],
   "source": [
    "slice_list = [\"WI\"]\n",
    "Wisconsin = states_2020.iloc[states_2020.index.isin(slice_list)]\n",
    "#Wisconsin"
   ]
  },
  {
   "cell_type": "code",
   "execution_count": 114,
   "id": "a20b77c2",
   "metadata": {},
   "outputs": [
    {
     "data": {
      "text/plain": [
       "13768.0"
      ]
     },
     "execution_count": 114,
     "metadata": {},
     "output_type": "execute_result"
    }
   ],
   "source": [
    "# Calculate the total Wisconsin Item/Bottle Count.\n",
    "Wisconsin[\"Item/Bottle Count\"].sum()"
   ]
  },
  {
   "cell_type": "code",
   "execution_count": 115,
   "id": "806f3be5",
   "metadata": {},
   "outputs": [],
   "source": [
    "slice_list = [\"WY\"]\n",
    "Wyoming = states_2020.iloc[states_2020.index.isin(slice_list)]\n",
    "#Wyoming"
   ]
  },
  {
   "cell_type": "code",
   "execution_count": 116,
   "id": "6eb9c5bf",
   "metadata": {},
   "outputs": [
    {
     "data": {
      "text/plain": [
       "1988.0"
      ]
     },
     "execution_count": 116,
     "metadata": {},
     "output_type": "execute_result"
    }
   ],
   "source": [
    "# Calculate the total Wyoming Item/Bottle Count.\n",
    "Wyoming[\"Item/Bottle Count\"].sum()"
   ]
  },
  {
   "cell_type": "code",
   "execution_count": 117,
   "id": "8e47a305",
   "metadata": {},
   "outputs": [
    {
     "data": {
      "text/plain": [
       "5.4316939890710385"
      ]
     },
     "execution_count": 117,
     "metadata": {},
     "output_type": "execute_result"
    }
   ],
   "source": [
    "#Average order size\n",
    "Wyoming[\"Item/Bottle Count\"].mean()"
   ]
  },
  {
   "cell_type": "markdown",
   "id": "c4694127",
   "metadata": {},
   "source": [
    "## Red vs Blue"
   ]
  },
  {
   "cell_type": "code",
   "execution_count": 118,
   "id": "3ea0a6aa",
   "metadata": {},
   "outputs": [],
   "source": [
    "#How do wine shipments compare between red states and blue states?\n",
    "    #Create a dataframe with data from \"Red\" states\n",
    "    #Create a dataframe with data from \"Blue\" states \n",
    "    #Generate summary statistics for each data frame\n",
    "    #Clean summary statistics- format numbers, drop count row\n",
    "    #Convert each summary stat list to a data frame\n",
    "    #Merge the two summary statistic data frames to create a visual side-by-side comparison"
   ]
  },
  {
   "cell_type": "code",
   "execution_count": 119,
   "id": "661f6a12",
   "metadata": {},
   "outputs": [
    {
     "data": {
      "text/html": [
       "<div>\n",
       "<style scoped>\n",
       "    .dataframe tbody tr th:only-of-type {\n",
       "        vertical-align: middle;\n",
       "    }\n",
       "\n",
       "    .dataframe tbody tr th {\n",
       "        vertical-align: top;\n",
       "    }\n",
       "\n",
       "    .dataframe thead th {\n",
       "        text-align: right;\n",
       "    }\n",
       "</style>\n",
       "<table border=\"1\" class=\"dataframe\">\n",
       "  <thead>\n",
       "    <tr style=\"text-align: right;\">\n",
       "      <th></th>\n",
       "      <th>Order Number</th>\n",
       "      <th>Company Name</th>\n",
       "      <th>Ship Date</th>\n",
       "      <th>City</th>\n",
       "      <th>Zip</th>\n",
       "      <th>Shipping Service</th>\n",
       "      <th>Created Date</th>\n",
       "      <th>Weight</th>\n",
       "      <th>Item/Bottle Count</th>\n",
       "      <th>Population</th>\n",
       "      <th>Lockdown Start</th>\n",
       "      <th>Initial Expected Lockdown End</th>\n",
       "      <th>Phase 1 Re-Opening Start</th>\n",
       "      <th>Political Alignment</th>\n",
       "    </tr>\n",
       "    <tr>\n",
       "      <th>State</th>\n",
       "      <th></th>\n",
       "      <th></th>\n",
       "      <th></th>\n",
       "      <th></th>\n",
       "      <th></th>\n",
       "      <th></th>\n",
       "      <th></th>\n",
       "      <th></th>\n",
       "      <th></th>\n",
       "      <th></th>\n",
       "      <th></th>\n",
       "      <th></th>\n",
       "      <th></th>\n",
       "      <th></th>\n",
       "    </tr>\n",
       "  </thead>\n",
       "  <tbody>\n",
       "    <tr>\n",
       "      <th>FL</th>\n",
       "      <td>0</td>\n",
       "      <td>Ecom3</td>\n",
       "      <td>1/2/20</td>\n",
       "      <td>Plantation</td>\n",
       "      <td>33325</td>\n",
       "      <td>UPS</td>\n",
       "      <td>1/1/20</td>\n",
       "      <td>9.9</td>\n",
       "      <td>3.0</td>\n",
       "      <td>21,477,737</td>\n",
       "      <td>4/1/2020</td>\n",
       "      <td>5/1/2020</td>\n",
       "      <td>9/25/2020</td>\n",
       "      <td>Red</td>\n",
       "    </tr>\n",
       "    <tr>\n",
       "      <th>TX</th>\n",
       "      <td>6</td>\n",
       "      <td>Ecom3</td>\n",
       "      <td>1/2/20</td>\n",
       "      <td>Dallas</td>\n",
       "      <td>75225</td>\n",
       "      <td>UPS</td>\n",
       "      <td>1/1/20</td>\n",
       "      <td>21.5</td>\n",
       "      <td>6.0</td>\n",
       "      <td>28,995,881</td>\n",
       "      <td>3/31/2020</td>\n",
       "      <td>5/4/2020</td>\n",
       "      <td>5/1/2020</td>\n",
       "      <td>Red</td>\n",
       "    </tr>\n",
       "    <tr>\n",
       "      <th>FL</th>\n",
       "      <td>8</td>\n",
       "      <td>Ecom3</td>\n",
       "      <td>1/2/20</td>\n",
       "      <td>Estero</td>\n",
       "      <td>34135-8211</td>\n",
       "      <td>UPS</td>\n",
       "      <td>1/1/20</td>\n",
       "      <td>21.5</td>\n",
       "      <td>6.0</td>\n",
       "      <td>21,477,737</td>\n",
       "      <td>4/1/2020</td>\n",
       "      <td>5/1/2020</td>\n",
       "      <td>9/25/2020</td>\n",
       "      <td>Red</td>\n",
       "    </tr>\n",
       "    <tr>\n",
       "      <th>OH</th>\n",
       "      <td>12</td>\n",
       "      <td>Ecom3</td>\n",
       "      <td>1/2/20</td>\n",
       "      <td>Powell</td>\n",
       "      <td>43065</td>\n",
       "      <td>UPS</td>\n",
       "      <td>1/1/20</td>\n",
       "      <td>21.5</td>\n",
       "      <td>6.0</td>\n",
       "      <td>11,689,100</td>\n",
       "      <td>3/23/2020</td>\n",
       "      <td>5/19/2020</td>\n",
       "      <td>5/19/2020</td>\n",
       "      <td>Red</td>\n",
       "    </tr>\n",
       "    <tr>\n",
       "      <th>OH</th>\n",
       "      <td>17</td>\n",
       "      <td>Ecom3</td>\n",
       "      <td>1/3/20</td>\n",
       "      <td>Marysville</td>\n",
       "      <td>43040</td>\n",
       "      <td>UPS</td>\n",
       "      <td>1/2/20</td>\n",
       "      <td>18.5</td>\n",
       "      <td>5.0</td>\n",
       "      <td>11,689,100</td>\n",
       "      <td>3/23/2020</td>\n",
       "      <td>5/19/2020</td>\n",
       "      <td>5/19/2020</td>\n",
       "      <td>Red</td>\n",
       "    </tr>\n",
       "  </tbody>\n",
       "</table>\n",
       "</div>"
      ],
      "text/plain": [
       "       Order Number Company Name Ship Date        City         Zip  \\\n",
       "State                                                                \n",
       "FL                0        Ecom3    1/2/20  Plantation       33325   \n",
       "TX                6        Ecom3    1/2/20      Dallas       75225   \n",
       "FL                8        Ecom3    1/2/20      Estero  34135-8211   \n",
       "OH               12        Ecom3    1/2/20      Powell       43065   \n",
       "OH               17        Ecom3    1/3/20  Marysville       43040   \n",
       "\n",
       "      Shipping Service Created Date  Weight  Item/Bottle Count  Population  \\\n",
       "State                                                                        \n",
       "FL                 UPS       1/1/20     9.9                3.0  21,477,737   \n",
       "TX                 UPS       1/1/20    21.5                6.0  28,995,881   \n",
       "FL                 UPS       1/1/20    21.5                6.0  21,477,737   \n",
       "OH                 UPS       1/1/20    21.5                6.0  11,689,100   \n",
       "OH                 UPS       1/2/20    18.5                5.0  11,689,100   \n",
       "\n",
       "      Lockdown Start Initial Expected Lockdown End Phase 1 Re-Opening Start  \\\n",
       "State                                                                         \n",
       "FL          4/1/2020                      5/1/2020                9/25/2020   \n",
       "TX         3/31/2020                      5/4/2020                 5/1/2020   \n",
       "FL          4/1/2020                      5/1/2020                9/25/2020   \n",
       "OH         3/23/2020                     5/19/2020                5/19/2020   \n",
       "OH         3/23/2020                     5/19/2020                5/19/2020   \n",
       "\n",
       "      Political Alignment  \n",
       "State                      \n",
       "FL                    Red  \n",
       "TX                    Red  \n",
       "FL                    Red  \n",
       "OH                    Red  \n",
       "OH                    Red  "
      ]
     },
     "execution_count": 119,
     "metadata": {},
     "output_type": "execute_result"
    }
   ],
   "source": [
    "#Create a df with only orders created in red states.\n",
    "red_states_2020= states_2020[states_2020['Political Alignment'] == 'Red']\n",
    "red_states_2020.head()"
   ]
  },
  {
   "cell_type": "code",
   "execution_count": 120,
   "id": "fed5536e",
   "metadata": {},
   "outputs": [
    {
     "data": {
      "text/plain": [
       "array(['Red'], dtype=object)"
      ]
     },
     "execution_count": 120,
     "metadata": {},
     "output_type": "execute_result"
    }
   ],
   "source": [
    "#Check that red_states_2020 is all \"Red\"\n",
    "red_states_2020[\"Political Alignment\"].unique()"
   ]
  },
  {
   "cell_type": "code",
   "execution_count": 144,
   "id": "53d79467",
   "metadata": {},
   "outputs": [
    {
     "data": {
      "text/html": [
       "<div>\n",
       "<style scoped>\n",
       "    .dataframe tbody tr th:only-of-type {\n",
       "        vertical-align: middle;\n",
       "    }\n",
       "\n",
       "    .dataframe tbody tr th {\n",
       "        vertical-align: top;\n",
       "    }\n",
       "\n",
       "    .dataframe thead th {\n",
       "        text-align: right;\n",
       "    }\n",
       "</style>\n",
       "<table border=\"1\" class=\"dataframe\">\n",
       "  <thead>\n",
       "    <tr style=\"text-align: right;\">\n",
       "      <th></th>\n",
       "      <th>State</th>\n",
       "      <th>Order Number</th>\n",
       "      <th>Company Name</th>\n",
       "      <th>Ship Date</th>\n",
       "      <th>City</th>\n",
       "      <th>Zip</th>\n",
       "      <th>Shipping Service</th>\n",
       "      <th>Created Date</th>\n",
       "      <th>Weight</th>\n",
       "      <th>Item/Bottle Count</th>\n",
       "      <th>Population</th>\n",
       "      <th>Lockdown Start</th>\n",
       "      <th>Initial Expected Lockdown End</th>\n",
       "      <th>Phase 1 Re-Opening Start</th>\n",
       "      <th>Political Alignment</th>\n",
       "    </tr>\n",
       "  </thead>\n",
       "  <tbody>\n",
       "    <tr>\n",
       "      <th>0</th>\n",
       "      <td>FL</td>\n",
       "      <td>0</td>\n",
       "      <td>Ecom3</td>\n",
       "      <td>1/2/20</td>\n",
       "      <td>Plantation</td>\n",
       "      <td>33325</td>\n",
       "      <td>UPS</td>\n",
       "      <td>1/1/20</td>\n",
       "      <td>9.9</td>\n",
       "      <td>3.0</td>\n",
       "      <td>21,477,737</td>\n",
       "      <td>4/1/2020</td>\n",
       "      <td>5/1/2020</td>\n",
       "      <td>9/25/2020</td>\n",
       "      <td>Red</td>\n",
       "    </tr>\n",
       "    <tr>\n",
       "      <th>1</th>\n",
       "      <td>TX</td>\n",
       "      <td>6</td>\n",
       "      <td>Ecom3</td>\n",
       "      <td>1/2/20</td>\n",
       "      <td>Dallas</td>\n",
       "      <td>75225</td>\n",
       "      <td>UPS</td>\n",
       "      <td>1/1/20</td>\n",
       "      <td>21.5</td>\n",
       "      <td>6.0</td>\n",
       "      <td>28,995,881</td>\n",
       "      <td>3/31/2020</td>\n",
       "      <td>5/4/2020</td>\n",
       "      <td>5/1/2020</td>\n",
       "      <td>Red</td>\n",
       "    </tr>\n",
       "    <tr>\n",
       "      <th>2</th>\n",
       "      <td>FL</td>\n",
       "      <td>8</td>\n",
       "      <td>Ecom3</td>\n",
       "      <td>1/2/20</td>\n",
       "      <td>Estero</td>\n",
       "      <td>34135-8211</td>\n",
       "      <td>UPS</td>\n",
       "      <td>1/1/20</td>\n",
       "      <td>21.5</td>\n",
       "      <td>6.0</td>\n",
       "      <td>21,477,737</td>\n",
       "      <td>4/1/2020</td>\n",
       "      <td>5/1/2020</td>\n",
       "      <td>9/25/2020</td>\n",
       "      <td>Red</td>\n",
       "    </tr>\n",
       "    <tr>\n",
       "      <th>3</th>\n",
       "      <td>OH</td>\n",
       "      <td>12</td>\n",
       "      <td>Ecom3</td>\n",
       "      <td>1/2/20</td>\n",
       "      <td>Powell</td>\n",
       "      <td>43065</td>\n",
       "      <td>UPS</td>\n",
       "      <td>1/1/20</td>\n",
       "      <td>21.5</td>\n",
       "      <td>6.0</td>\n",
       "      <td>11,689,100</td>\n",
       "      <td>3/23/2020</td>\n",
       "      <td>5/19/2020</td>\n",
       "      <td>5/19/2020</td>\n",
       "      <td>Red</td>\n",
       "    </tr>\n",
       "    <tr>\n",
       "      <th>4</th>\n",
       "      <td>OH</td>\n",
       "      <td>17</td>\n",
       "      <td>Ecom3</td>\n",
       "      <td>1/3/20</td>\n",
       "      <td>Marysville</td>\n",
       "      <td>43040</td>\n",
       "      <td>UPS</td>\n",
       "      <td>1/2/20</td>\n",
       "      <td>18.5</td>\n",
       "      <td>5.0</td>\n",
       "      <td>11,689,100</td>\n",
       "      <td>3/23/2020</td>\n",
       "      <td>5/19/2020</td>\n",
       "      <td>5/19/2020</td>\n",
       "      <td>Red</td>\n",
       "    </tr>\n",
       "    <tr>\n",
       "      <th>...</th>\n",
       "      <td>...</td>\n",
       "      <td>...</td>\n",
       "      <td>...</td>\n",
       "      <td>...</td>\n",
       "      <td>...</td>\n",
       "      <td>...</td>\n",
       "      <td>...</td>\n",
       "      <td>...</td>\n",
       "      <td>...</td>\n",
       "      <td>...</td>\n",
       "      <td>...</td>\n",
       "      <td>...</td>\n",
       "      <td>...</td>\n",
       "      <td>...</td>\n",
       "      <td>...</td>\n",
       "    </tr>\n",
       "    <tr>\n",
       "      <th>71149</th>\n",
       "      <td>LA</td>\n",
       "      <td>235989</td>\n",
       "      <td>Winery3</td>\n",
       "      <td>12/21/2020</td>\n",
       "      <td>Baton Rouge</td>\n",
       "      <td>70808</td>\n",
       "      <td>FEX</td>\n",
       "      <td>12/21/2020</td>\n",
       "      <td>24.0</td>\n",
       "      <td>7.0</td>\n",
       "      <td>4,648,794</td>\n",
       "      <td>3/23/2020</td>\n",
       "      <td>4/13/2020</td>\n",
       "      <td>5/15/2020</td>\n",
       "      <td>Red</td>\n",
       "    </tr>\n",
       "    <tr>\n",
       "      <th>71150</th>\n",
       "      <td>TX</td>\n",
       "      <td>235992</td>\n",
       "      <td>Winery3</td>\n",
       "      <td>12/22/2020</td>\n",
       "      <td>Dallas</td>\n",
       "      <td>75248</td>\n",
       "      <td>UPS</td>\n",
       "      <td>12/22/2020</td>\n",
       "      <td>21.5</td>\n",
       "      <td>6.0</td>\n",
       "      <td>28,995,881</td>\n",
       "      <td>3/31/2020</td>\n",
       "      <td>5/4/2020</td>\n",
       "      <td>5/1/2020</td>\n",
       "      <td>Red</td>\n",
       "    </tr>\n",
       "    <tr>\n",
       "      <th>71151</th>\n",
       "      <td>NC</td>\n",
       "      <td>235994</td>\n",
       "      <td>Winery3</td>\n",
       "      <td>12/23/2020</td>\n",
       "      <td>Charlotte</td>\n",
       "      <td>28211</td>\n",
       "      <td>UP3</td>\n",
       "      <td>12/23/2020</td>\n",
       "      <td>41.0</td>\n",
       "      <td>12.0</td>\n",
       "      <td>10,488,084</td>\n",
       "      <td>3/30/2020</td>\n",
       "      <td>4/29/2020</td>\n",
       "      <td>5/20/2020</td>\n",
       "      <td>Red</td>\n",
       "    </tr>\n",
       "    <tr>\n",
       "      <th>71152</th>\n",
       "      <td>TX</td>\n",
       "      <td>235996</td>\n",
       "      <td>Winery3</td>\n",
       "      <td>12/28/2020</td>\n",
       "      <td>Carrollton</td>\n",
       "      <td>75010</td>\n",
       "      <td>UP2</td>\n",
       "      <td>12/28/2020</td>\n",
       "      <td>21.5</td>\n",
       "      <td>6.0</td>\n",
       "      <td>28,995,881</td>\n",
       "      <td>3/31/2020</td>\n",
       "      <td>5/4/2020</td>\n",
       "      <td>5/1/2020</td>\n",
       "      <td>Red</td>\n",
       "    </tr>\n",
       "    <tr>\n",
       "      <th>71153</th>\n",
       "      <td>FL</td>\n",
       "      <td>235997</td>\n",
       "      <td>Winery3</td>\n",
       "      <td>12/28/2020</td>\n",
       "      <td>Delray Beach</td>\n",
       "      <td>33446</td>\n",
       "      <td>UPS</td>\n",
       "      <td>12/28/2020</td>\n",
       "      <td>21.5</td>\n",
       "      <td>6.0</td>\n",
       "      <td>21,477,737</td>\n",
       "      <td>4/1/2020</td>\n",
       "      <td>5/1/2020</td>\n",
       "      <td>9/25/2020</td>\n",
       "      <td>Red</td>\n",
       "    </tr>\n",
       "  </tbody>\n",
       "</table>\n",
       "<p>71154 rows × 15 columns</p>\n",
       "</div>"
      ],
      "text/plain": [
       "      State  Order Number Company Name   Ship Date          City         Zip  \\\n",
       "0        FL             0        Ecom3      1/2/20    Plantation       33325   \n",
       "1        TX             6        Ecom3      1/2/20        Dallas       75225   \n",
       "2        FL             8        Ecom3      1/2/20        Estero  34135-8211   \n",
       "3        OH            12        Ecom3      1/2/20        Powell       43065   \n",
       "4        OH            17        Ecom3      1/3/20    Marysville       43040   \n",
       "...     ...           ...          ...         ...           ...         ...   \n",
       "71149    LA        235989      Winery3  12/21/2020   Baton Rouge       70808   \n",
       "71150    TX        235992      Winery3  12/22/2020        Dallas       75248   \n",
       "71151    NC        235994      Winery3  12/23/2020     Charlotte       28211   \n",
       "71152    TX        235996      Winery3  12/28/2020    Carrollton       75010   \n",
       "71153    FL        235997      Winery3  12/28/2020  Delray Beach       33446   \n",
       "\n",
       "      Shipping Service Created Date  Weight  Item/Bottle Count  Population  \\\n",
       "0                  UPS       1/1/20     9.9                3.0  21,477,737   \n",
       "1                  UPS       1/1/20    21.5                6.0  28,995,881   \n",
       "2                  UPS       1/1/20    21.5                6.0  21,477,737   \n",
       "3                  UPS       1/1/20    21.5                6.0  11,689,100   \n",
       "4                  UPS       1/2/20    18.5                5.0  11,689,100   \n",
       "...                ...          ...     ...                ...         ...   \n",
       "71149              FEX   12/21/2020    24.0                7.0   4,648,794   \n",
       "71150              UPS   12/22/2020    21.5                6.0  28,995,881   \n",
       "71151              UP3   12/23/2020    41.0               12.0  10,488,084   \n",
       "71152              UP2   12/28/2020    21.5                6.0  28,995,881   \n",
       "71153              UPS   12/28/2020    21.5                6.0  21,477,737   \n",
       "\n",
       "      Lockdown Start Initial Expected Lockdown End Phase 1 Re-Opening Start  \\\n",
       "0           4/1/2020                      5/1/2020                9/25/2020   \n",
       "1          3/31/2020                      5/4/2020                 5/1/2020   \n",
       "2           4/1/2020                      5/1/2020                9/25/2020   \n",
       "3          3/23/2020                     5/19/2020                5/19/2020   \n",
       "4          3/23/2020                     5/19/2020                5/19/2020   \n",
       "...              ...                           ...                      ...   \n",
       "71149      3/23/2020                     4/13/2020                5/15/2020   \n",
       "71150      3/31/2020                      5/4/2020                 5/1/2020   \n",
       "71151      3/30/2020                     4/29/2020                5/20/2020   \n",
       "71152      3/31/2020                      5/4/2020                 5/1/2020   \n",
       "71153       4/1/2020                      5/1/2020                9/25/2020   \n",
       "\n",
       "      Political Alignment  \n",
       "0                     Red  \n",
       "1                     Red  \n",
       "2                     Red  \n",
       "3                     Red  \n",
       "4                     Red  \n",
       "...                   ...  \n",
       "71149                 Red  \n",
       "71150                 Red  \n",
       "71151                 Red  \n",
       "71152                 Red  \n",
       "71153                 Red  \n",
       "\n",
       "[71154 rows x 15 columns]"
      ]
     },
     "execution_count": 144,
     "metadata": {},
     "output_type": "execute_result"
    }
   ],
   "source": [
    "new_red_states_2020 = red_states_2020.reset_index()\n",
    "new_red_states_2020"
   ]
  },
  {
   "cell_type": "code",
   "execution_count": 121,
   "id": "03e8a7af",
   "metadata": {},
   "outputs": [
    {
     "data": {
      "text/html": [
       "<div>\n",
       "<style scoped>\n",
       "    .dataframe tbody tr th:only-of-type {\n",
       "        vertical-align: middle;\n",
       "    }\n",
       "\n",
       "    .dataframe tbody tr th {\n",
       "        vertical-align: top;\n",
       "    }\n",
       "\n",
       "    .dataframe thead th {\n",
       "        text-align: right;\n",
       "    }\n",
       "</style>\n",
       "<table border=\"1\" class=\"dataframe\">\n",
       "  <thead>\n",
       "    <tr style=\"text-align: right;\">\n",
       "      <th></th>\n",
       "      <th>Order Number</th>\n",
       "      <th>Weight</th>\n",
       "      <th>Item/Bottle Count</th>\n",
       "    </tr>\n",
       "  </thead>\n",
       "  <tbody>\n",
       "    <tr>\n",
       "      <th>count</th>\n",
       "      <td>71154.000000</td>\n",
       "      <td>71154.000000</td>\n",
       "      <td>71154.000000</td>\n",
       "    </tr>\n",
       "    <tr>\n",
       "      <th>mean</th>\n",
       "      <td>119471.213523</td>\n",
       "      <td>17.233945</td>\n",
       "      <td>4.760716</td>\n",
       "    </tr>\n",
       "    <tr>\n",
       "      <th>std</th>\n",
       "      <td>68850.686877</td>\n",
       "      <td>10.990909</td>\n",
       "      <td>3.457681</td>\n",
       "    </tr>\n",
       "    <tr>\n",
       "      <th>min</th>\n",
       "      <td>0.000000</td>\n",
       "      <td>1.850000</td>\n",
       "      <td>1.000000</td>\n",
       "    </tr>\n",
       "    <tr>\n",
       "      <th>25%</th>\n",
       "      <td>59918.500000</td>\n",
       "      <td>7.000000</td>\n",
       "      <td>2.000000</td>\n",
       "    </tr>\n",
       "    <tr>\n",
       "      <th>50%</th>\n",
       "      <td>120543.500000</td>\n",
       "      <td>14.000000</td>\n",
       "      <td>4.000000</td>\n",
       "    </tr>\n",
       "    <tr>\n",
       "      <th>75%</th>\n",
       "      <td>178330.750000</td>\n",
       "      <td>21.500000</td>\n",
       "      <td>6.000000</td>\n",
       "    </tr>\n",
       "    <tr>\n",
       "      <th>max</th>\n",
       "      <td>235997.000000</td>\n",
       "      <td>48.000000</td>\n",
       "      <td>24.000000</td>\n",
       "    </tr>\n",
       "  </tbody>\n",
       "</table>\n",
       "</div>"
      ],
      "text/plain": [
       "        Order Number        Weight  Item/Bottle Count\n",
       "count   71154.000000  71154.000000       71154.000000\n",
       "mean   119471.213523     17.233945           4.760716\n",
       "std     68850.686877     10.990909           3.457681\n",
       "min         0.000000      1.850000           1.000000\n",
       "25%     59918.500000      7.000000           2.000000\n",
       "50%    120543.500000     14.000000           4.000000\n",
       "75%    178330.750000     21.500000           6.000000\n",
       "max    235997.000000     48.000000          24.000000"
      ]
     },
     "execution_count": 121,
     "metadata": {},
     "output_type": "execute_result"
    }
   ],
   "source": [
    "#Generate summary statistics for red_states_2020\n",
    "red_summary_statistics_2020 = red_states_2020.describe()\n",
    "red_summary_statistics_2020"
   ]
  },
  {
   "cell_type": "code",
   "execution_count": 122,
   "id": "d32b05c0",
   "metadata": {},
   "outputs": [
    {
     "data": {
      "text/plain": [
       "338744.0"
      ]
     },
     "execution_count": 122,
     "metadata": {},
     "output_type": "execute_result"
    }
   ],
   "source": [
    "# Calculate the total 2020 Item/Bottle Count for Red States.\n",
    "total_red_count_2020 = red_states_2020[\"Item/Bottle Count\"].sum()\n",
    "total_red_count_2020"
   ]
  },
  {
   "cell_type": "code",
   "execution_count": 145,
   "id": "cc38c64f",
   "metadata": {},
   "outputs": [
    {
     "data": {
      "text/plain": [
       "array(['FL', 'TX', 'OH', 'LA', 'TN', 'IN', 'KS', 'NE', 'NC', 'IA', 'SC',\n",
       "       'SD', 'ND', 'WY', 'MO', 'AR', 'AK', 'WV', 'MT', 'ID', 'OK', 'AL',\n",
       "       'MS', 'KY'], dtype=object)"
      ]
     },
     "execution_count": 145,
     "metadata": {},
     "output_type": "execute_result"
    }
   ],
   "source": [
    "new_red_states_2020.State.unique()"
   ]
  },
  {
   "cell_type": "code",
   "execution_count": 175,
   "id": "d0a58543",
   "metadata": {},
   "outputs": [],
   "source": [
    "# Adding a list of values with keys to create a new DataFrame for Red states only.\n",
    "R = {'Red State': ['Alabama', 'Alaska', 'Arkansas', 'Florida', 'Idaho', 'Indiana', 'Iowa', 'Kansas', 'Kentucky', \n",
    "               'Louisiana', 'Mississippi', 'Missouri', 'Montana', 'Nebraska', 'North Carolina', 'North Dakota',\n",
    "               'Ohio', 'Oklahoma', 'South Carolina', 'South Dakota', 'Tennessee', 'Texas', 'West Virginia', 'Wyoming',  \n",
    "                ],\n",
    "     'Total Item/Bottle Count': [Alabama[\"Item/Bottle Count\"].sum(), \n",
    "            Alaska[\"Item/Bottle Count\"].sum(),  \n",
    "            Arkansas[\"Item/Bottle Count\"].sum(), \n",
    "            Florida[\"Item/Bottle Count\"].sum(),\n",
    "            Idaho[\"Item/Bottle Count\"].sum(),\n",
    "            Indiana[\"Item/Bottle Count\"].sum(),\n",
    "            Iowa[\"Item/Bottle Count\"].sum(),\n",
    "            Kansas[\"Item/Bottle Count\"].sum(),\n",
    "            Kentucky[\"Item/Bottle Count\"].sum(),\n",
    "            Louisiana[\"Item/Bottle Count\"].sum(),\n",
    "            Mississippi[\"Item/Bottle Count\"].sum(),\n",
    "            Missouri[\"Item/Bottle Count\"].sum(),\n",
    "            Montana[\"Item/Bottle Count\"].sum(),\n",
    "            Nebraska[\"Item/Bottle Count\"].sum(),\n",
    "            North_Carolina[\"Item/Bottle Count\"].sum(),\n",
    "            North_Dakota[\"Item/Bottle Count\"].sum(),\n",
    "            Ohio[\"Item/Bottle Count\"].sum(),\n",
    "            Oklahoma[\"Item/Bottle Count\"].sum(),\n",
    "            South_Carolina[\"Item/Bottle Count\"].sum(),\n",
    "            South_Dakota[\"Item/Bottle Count\"].sum(),\n",
    "            Tennessee[\"Item/Bottle Count\"].sum(),\n",
    "            Texas[\"Item/Bottle Count\"].sum(),\n",
    "            West_Virginia[\"Item/Bottle Count\"].sum(),\n",
    "            Wyoming[\"Item/Bottle Count\"].sum()]}"
   ]
  },
  {
   "cell_type": "code",
   "execution_count": 176,
   "id": "c6114bc6",
   "metadata": {},
   "outputs": [
    {
     "data": {
      "text/html": [
       "<div>\n",
       "<style scoped>\n",
       "    .dataframe tbody tr th:only-of-type {\n",
       "        vertical-align: middle;\n",
       "    }\n",
       "\n",
       "    .dataframe tbody tr th {\n",
       "        vertical-align: top;\n",
       "    }\n",
       "\n",
       "    .dataframe thead th {\n",
       "        text-align: right;\n",
       "    }\n",
       "</style>\n",
       "<table border=\"1\" class=\"dataframe\">\n",
       "  <thead>\n",
       "    <tr style=\"text-align: right;\">\n",
       "      <th></th>\n",
       "      <th>Red State</th>\n",
       "      <th>Total Item/Bottle Count</th>\n",
       "    </tr>\n",
       "  </thead>\n",
       "  <tbody>\n",
       "    <tr>\n",
       "      <th>0</th>\n",
       "      <td>Alabama</td>\n",
       "      <td>2024.0</td>\n",
       "    </tr>\n",
       "    <tr>\n",
       "      <th>1</th>\n",
       "      <td>Alaska</td>\n",
       "      <td>2057.0</td>\n",
       "    </tr>\n",
       "    <tr>\n",
       "      <th>2</th>\n",
       "      <td>Arkansas</td>\n",
       "      <td>6512.0</td>\n",
       "    </tr>\n",
       "    <tr>\n",
       "      <th>3</th>\n",
       "      <td>Florida</td>\n",
       "      <td>82961.0</td>\n",
       "    </tr>\n",
       "    <tr>\n",
       "      <th>4</th>\n",
       "      <td>Idaho</td>\n",
       "      <td>3391.0</td>\n",
       "    </tr>\n",
       "    <tr>\n",
       "      <th>5</th>\n",
       "      <td>Indiana</td>\n",
       "      <td>17476.0</td>\n",
       "    </tr>\n",
       "    <tr>\n",
       "      <th>6</th>\n",
       "      <td>Iowa</td>\n",
       "      <td>5846.0</td>\n",
       "    </tr>\n",
       "    <tr>\n",
       "      <th>7</th>\n",
       "      <td>Kansas</td>\n",
       "      <td>7165.0</td>\n",
       "    </tr>\n",
       "    <tr>\n",
       "      <th>8</th>\n",
       "      <td>Kentucky</td>\n",
       "      <td>40.0</td>\n",
       "    </tr>\n",
       "    <tr>\n",
       "      <th>9</th>\n",
       "      <td>Louisiana</td>\n",
       "      <td>10558.0</td>\n",
       "    </tr>\n",
       "    <tr>\n",
       "      <th>10</th>\n",
       "      <td>Mississippi</td>\n",
       "      <td>6.0</td>\n",
       "    </tr>\n",
       "    <tr>\n",
       "      <th>11</th>\n",
       "      <td>Missouri</td>\n",
       "      <td>13633.0</td>\n",
       "    </tr>\n",
       "    <tr>\n",
       "      <th>12</th>\n",
       "      <td>Montana</td>\n",
       "      <td>2472.0</td>\n",
       "    </tr>\n",
       "    <tr>\n",
       "      <th>13</th>\n",
       "      <td>Nebraska</td>\n",
       "      <td>4753.0</td>\n",
       "    </tr>\n",
       "    <tr>\n",
       "      <th>14</th>\n",
       "      <td>North Carolina</td>\n",
       "      <td>28220.0</td>\n",
       "    </tr>\n",
       "    <tr>\n",
       "      <th>15</th>\n",
       "      <td>North Dakota</td>\n",
       "      <td>2042.0</td>\n",
       "    </tr>\n",
       "    <tr>\n",
       "      <th>16</th>\n",
       "      <td>Ohio</td>\n",
       "      <td>36798.0</td>\n",
       "    </tr>\n",
       "    <tr>\n",
       "      <th>17</th>\n",
       "      <td>Oklahoma</td>\n",
       "      <td>4694.0</td>\n",
       "    </tr>\n",
       "    <tr>\n",
       "      <th>18</th>\n",
       "      <td>South Carolina</td>\n",
       "      <td>14478.0</td>\n",
       "    </tr>\n",
       "    <tr>\n",
       "      <th>19</th>\n",
       "      <td>South Dakota</td>\n",
       "      <td>1757.0</td>\n",
       "    </tr>\n",
       "    <tr>\n",
       "      <th>20</th>\n",
       "      <td>Tennessee</td>\n",
       "      <td>20300.0</td>\n",
       "    </tr>\n",
       "    <tr>\n",
       "      <th>21</th>\n",
       "      <td>Texas</td>\n",
       "      <td>66704.0</td>\n",
       "    </tr>\n",
       "    <tr>\n",
       "      <th>22</th>\n",
       "      <td>West Virginia</td>\n",
       "      <td>2869.0</td>\n",
       "    </tr>\n",
       "    <tr>\n",
       "      <th>23</th>\n",
       "      <td>Wyoming</td>\n",
       "      <td>1988.0</td>\n",
       "    </tr>\n",
       "  </tbody>\n",
       "</table>\n",
       "</div>"
      ],
      "text/plain": [
       "         Red State  Total Item/Bottle Count\n",
       "0          Alabama                   2024.0\n",
       "1           Alaska                   2057.0\n",
       "2         Arkansas                   6512.0\n",
       "3          Florida                  82961.0\n",
       "4            Idaho                   3391.0\n",
       "5          Indiana                  17476.0\n",
       "6             Iowa                   5846.0\n",
       "7           Kansas                   7165.0\n",
       "8         Kentucky                     40.0\n",
       "9        Louisiana                  10558.0\n",
       "10     Mississippi                      6.0\n",
       "11        Missouri                  13633.0\n",
       "12         Montana                   2472.0\n",
       "13        Nebraska                   4753.0\n",
       "14  North Carolina                  28220.0\n",
       "15    North Dakota                   2042.0\n",
       "16            Ohio                  36798.0\n",
       "17        Oklahoma                   4694.0\n",
       "18  South Carolina                  14478.0\n",
       "19    South Dakota                   1757.0\n",
       "20       Tennessee                  20300.0\n",
       "21           Texas                  66704.0\n",
       "22   West Virginia                   2869.0\n",
       "23         Wyoming                   1988.0"
      ]
     },
     "execution_count": 176,
     "metadata": {},
     "output_type": "execute_result"
    }
   ],
   "source": [
    "total_bottle_count_by_red_state = pd.DataFrame.from_dict(data=R)\n",
    "total_bottle_count_by_red_state"
   ]
  },
  {
   "cell_type": "code",
   "execution_count": 153,
   "id": "34806027",
   "metadata": {},
   "outputs": [
    {
     "name": "stdout",
     "output_type": "stream",
     "text": [
      "     State  Total Item/Bottle Count\n",
      "3  Florida                  82961.0\n"
     ]
    }
   ],
   "source": [
    "#Print the highest bottle count by red state\n",
    "print(total_bottle_count_by_red_state[total_bottle_count_by_red_state[\"Total Item/Bottle Count\"] == \n",
    "                                  total_bottle_count_by_red_state[\"Total Item/Bottle Count\"].max()])"
   ]
  },
  {
   "cell_type": "code",
   "execution_count": 151,
   "id": "9c55b922",
   "metadata": {},
   "outputs": [
    {
     "name": "stdout",
     "output_type": "stream",
     "text": [
      "          State  Total Item/Bottle Count\n",
      "10  Mississippi                      6.0\n"
     ]
    }
   ],
   "source": [
    "#Print the lowest bottle count by red state\n",
    "print(total_bottle_count_by_red_state[total_bottle_count_by_red_state[\"Total Item/Bottle Count\"] == \n",
    "                                  total_bottle_count_by_red_state[\"Total Item/Bottle Count\"].min()])"
   ]
  },
  {
   "cell_type": "code",
   "execution_count": 170,
   "id": "53fa863e",
   "metadata": {},
   "outputs": [],
   "source": [
    "#Export total_bottle_count_by_red_state to .csv\n",
    "total_bottle_count_by_red_state.to_csv('Resources/2020_total_bottle_count_by_red_state.csv') "
   ]
  },
  {
   "cell_type": "code",
   "execution_count": 125,
   "id": "f2eeb96a",
   "metadata": {},
   "outputs": [
    {
     "data": {
      "text/html": [
       "<div>\n",
       "<style scoped>\n",
       "    .dataframe tbody tr th:only-of-type {\n",
       "        vertical-align: middle;\n",
       "    }\n",
       "\n",
       "    .dataframe tbody tr th {\n",
       "        vertical-align: top;\n",
       "    }\n",
       "\n",
       "    .dataframe thead th {\n",
       "        text-align: right;\n",
       "    }\n",
       "</style>\n",
       "<table border=\"1\" class=\"dataframe\">\n",
       "  <thead>\n",
       "    <tr style=\"text-align: right;\">\n",
       "      <th></th>\n",
       "      <th>Order Number</th>\n",
       "      <th>Company Name</th>\n",
       "      <th>Ship Date</th>\n",
       "      <th>City</th>\n",
       "      <th>Zip</th>\n",
       "      <th>Shipping Service</th>\n",
       "      <th>Created Date</th>\n",
       "      <th>Weight</th>\n",
       "      <th>Item/Bottle Count</th>\n",
       "      <th>Population</th>\n",
       "      <th>Lockdown Start</th>\n",
       "      <th>Initial Expected Lockdown End</th>\n",
       "      <th>Phase 1 Re-Opening Start</th>\n",
       "      <th>Political Alignment</th>\n",
       "    </tr>\n",
       "    <tr>\n",
       "      <th>State</th>\n",
       "      <th></th>\n",
       "      <th></th>\n",
       "      <th></th>\n",
       "      <th></th>\n",
       "      <th></th>\n",
       "      <th></th>\n",
       "      <th></th>\n",
       "      <th></th>\n",
       "      <th></th>\n",
       "      <th></th>\n",
       "      <th></th>\n",
       "      <th></th>\n",
       "      <th></th>\n",
       "      <th></th>\n",
       "    </tr>\n",
       "  </thead>\n",
       "  <tbody>\n",
       "    <tr>\n",
       "      <th>CA</th>\n",
       "      <td>1</td>\n",
       "      <td>Ecom3</td>\n",
       "      <td>1/2/20</td>\n",
       "      <td>Lafayette</td>\n",
       "      <td>94549</td>\n",
       "      <td>UPS</td>\n",
       "      <td>12/31/19</td>\n",
       "      <td>35.0</td>\n",
       "      <td>10.0</td>\n",
       "      <td>39,512,223</td>\n",
       "      <td>3/19/2020</td>\n",
       "      <td>4/2/2020</td>\n",
       "      <td>5/13/2020</td>\n",
       "      <td>Blue</td>\n",
       "    </tr>\n",
       "    <tr>\n",
       "      <th>NY</th>\n",
       "      <td>2</td>\n",
       "      <td>Ecom3</td>\n",
       "      <td>1/2/20</td>\n",
       "      <td>New York</td>\n",
       "      <td>10022</td>\n",
       "      <td>FEH</td>\n",
       "      <td>1/1/20</td>\n",
       "      <td>29.0</td>\n",
       "      <td>8.0</td>\n",
       "      <td>19,453,561</td>\n",
       "      <td>3/22/2020</td>\n",
       "      <td>4/6/2020</td>\n",
       "      <td>6/8/2020</td>\n",
       "      <td>Blue</td>\n",
       "    </tr>\n",
       "    <tr>\n",
       "      <th>NY</th>\n",
       "      <td>3</td>\n",
       "      <td>Ecom3</td>\n",
       "      <td>1/3/20</td>\n",
       "      <td>New York</td>\n",
       "      <td>10006</td>\n",
       "      <td>FEH</td>\n",
       "      <td>1/2/20</td>\n",
       "      <td>21.5</td>\n",
       "      <td>6.0</td>\n",
       "      <td>19,453,561</td>\n",
       "      <td>3/22/2020</td>\n",
       "      <td>4/6/2020</td>\n",
       "      <td>6/8/2020</td>\n",
       "      <td>Blue</td>\n",
       "    </tr>\n",
       "    <tr>\n",
       "      <th>MD</th>\n",
       "      <td>4</td>\n",
       "      <td>Ecom3</td>\n",
       "      <td>1/2/20</td>\n",
       "      <td>Walkersville</td>\n",
       "      <td>21793</td>\n",
       "      <td>FXG</td>\n",
       "      <td>12/31/19</td>\n",
       "      <td>41.0</td>\n",
       "      <td>12.0</td>\n",
       "      <td>6,045,680</td>\n",
       "      <td>3/12/2020</td>\n",
       "      <td>3/27/2020</td>\n",
       "      <td>5/13/2020</td>\n",
       "      <td>Blue</td>\n",
       "    </tr>\n",
       "    <tr>\n",
       "      <th>NY</th>\n",
       "      <td>5</td>\n",
       "      <td>Ecom3</td>\n",
       "      <td>1/3/20</td>\n",
       "      <td>Clarence</td>\n",
       "      <td>14031</td>\n",
       "      <td>FEH</td>\n",
       "      <td>1/2/20</td>\n",
       "      <td>21.5</td>\n",
       "      <td>6.0</td>\n",
       "      <td>19,453,561</td>\n",
       "      <td>3/22/2020</td>\n",
       "      <td>4/6/2020</td>\n",
       "      <td>6/8/2020</td>\n",
       "      <td>Blue</td>\n",
       "    </tr>\n",
       "  </tbody>\n",
       "</table>\n",
       "</div>"
      ],
      "text/plain": [
       "       Order Number Company Name Ship Date          City    Zip  \\\n",
       "State                                                             \n",
       "CA                1        Ecom3    1/2/20     Lafayette  94549   \n",
       "NY                2        Ecom3    1/2/20      New York  10022   \n",
       "NY                3        Ecom3    1/3/20      New York  10006   \n",
       "MD                4        Ecom3    1/2/20  Walkersville  21793   \n",
       "NY                5        Ecom3    1/3/20      Clarence  14031   \n",
       "\n",
       "      Shipping Service Created Date  Weight  Item/Bottle Count  Population  \\\n",
       "State                                                                        \n",
       "CA                 UPS     12/31/19    35.0               10.0  39,512,223   \n",
       "NY                 FEH       1/1/20    29.0                8.0  19,453,561   \n",
       "NY                 FEH       1/2/20    21.5                6.0  19,453,561   \n",
       "MD                 FXG     12/31/19    41.0               12.0   6,045,680   \n",
       "NY                 FEH       1/2/20    21.5                6.0  19,453,561   \n",
       "\n",
       "      Lockdown Start Initial Expected Lockdown End Phase 1 Re-Opening Start  \\\n",
       "State                                                                         \n",
       "CA         3/19/2020                      4/2/2020                5/13/2020   \n",
       "NY         3/22/2020                      4/6/2020                 6/8/2020   \n",
       "NY         3/22/2020                      4/6/2020                 6/8/2020   \n",
       "MD         3/12/2020                     3/27/2020                5/13/2020   \n",
       "NY         3/22/2020                      4/6/2020                 6/8/2020   \n",
       "\n",
       "      Political Alignment  \n",
       "State                      \n",
       "CA                   Blue  \n",
       "NY                   Blue  \n",
       "NY                   Blue  \n",
       "MD                   Blue  \n",
       "NY                   Blue  "
      ]
     },
     "execution_count": 125,
     "metadata": {},
     "output_type": "execute_result"
    }
   ],
   "source": [
    "#Create a df with only orders created in blue states.\n",
    "blue_states_2020= states_2020[states_2020['Political Alignment'] == 'Blue']\n",
    "blue_states_2020.head()"
   ]
  },
  {
   "cell_type": "code",
   "execution_count": 126,
   "id": "e8bd7a76",
   "metadata": {},
   "outputs": [
    {
     "data": {
      "text/plain": [
       "array(['Blue'], dtype=object)"
      ]
     },
     "execution_count": 126,
     "metadata": {},
     "output_type": "execute_result"
    }
   ],
   "source": [
    "#Check that blue_states_2020 is all \"Blue\"\n",
    "blue_states_2020[\"Political Alignment\"].unique()"
   ]
  },
  {
   "cell_type": "code",
   "execution_count": 155,
   "id": "d8012579",
   "metadata": {},
   "outputs": [
    {
     "data": {
      "text/html": [
       "<div>\n",
       "<style scoped>\n",
       "    .dataframe tbody tr th:only-of-type {\n",
       "        vertical-align: middle;\n",
       "    }\n",
       "\n",
       "    .dataframe tbody tr th {\n",
       "        vertical-align: top;\n",
       "    }\n",
       "\n",
       "    .dataframe thead th {\n",
       "        text-align: right;\n",
       "    }\n",
       "</style>\n",
       "<table border=\"1\" class=\"dataframe\">\n",
       "  <thead>\n",
       "    <tr style=\"text-align: right;\">\n",
       "      <th></th>\n",
       "      <th>State</th>\n",
       "      <th>Order Number</th>\n",
       "      <th>Company Name</th>\n",
       "      <th>Ship Date</th>\n",
       "      <th>City</th>\n",
       "      <th>Zip</th>\n",
       "      <th>Shipping Service</th>\n",
       "      <th>Created Date</th>\n",
       "      <th>Weight</th>\n",
       "      <th>Item/Bottle Count</th>\n",
       "      <th>Population</th>\n",
       "      <th>Lockdown Start</th>\n",
       "      <th>Initial Expected Lockdown End</th>\n",
       "      <th>Phase 1 Re-Opening Start</th>\n",
       "      <th>Political Alignment</th>\n",
       "    </tr>\n",
       "  </thead>\n",
       "  <tbody>\n",
       "    <tr>\n",
       "      <th>0</th>\n",
       "      <td>CA</td>\n",
       "      <td>1</td>\n",
       "      <td>Ecom3</td>\n",
       "      <td>1/2/20</td>\n",
       "      <td>Lafayette</td>\n",
       "      <td>94549</td>\n",
       "      <td>UPS</td>\n",
       "      <td>12/31/19</td>\n",
       "      <td>35.0</td>\n",
       "      <td>10.0</td>\n",
       "      <td>39,512,223</td>\n",
       "      <td>3/19/2020</td>\n",
       "      <td>4/2/2020</td>\n",
       "      <td>5/13/2020</td>\n",
       "      <td>Blue</td>\n",
       "    </tr>\n",
       "    <tr>\n",
       "      <th>1</th>\n",
       "      <td>NY</td>\n",
       "      <td>2</td>\n",
       "      <td>Ecom3</td>\n",
       "      <td>1/2/20</td>\n",
       "      <td>New York</td>\n",
       "      <td>10022</td>\n",
       "      <td>FEH</td>\n",
       "      <td>1/1/20</td>\n",
       "      <td>29.0</td>\n",
       "      <td>8.0</td>\n",
       "      <td>19,453,561</td>\n",
       "      <td>3/22/2020</td>\n",
       "      <td>4/6/2020</td>\n",
       "      <td>6/8/2020</td>\n",
       "      <td>Blue</td>\n",
       "    </tr>\n",
       "    <tr>\n",
       "      <th>2</th>\n",
       "      <td>NY</td>\n",
       "      <td>3</td>\n",
       "      <td>Ecom3</td>\n",
       "      <td>1/3/20</td>\n",
       "      <td>New York</td>\n",
       "      <td>10006</td>\n",
       "      <td>FEH</td>\n",
       "      <td>1/2/20</td>\n",
       "      <td>21.5</td>\n",
       "      <td>6.0</td>\n",
       "      <td>19,453,561</td>\n",
       "      <td>3/22/2020</td>\n",
       "      <td>4/6/2020</td>\n",
       "      <td>6/8/2020</td>\n",
       "      <td>Blue</td>\n",
       "    </tr>\n",
       "    <tr>\n",
       "      <th>3</th>\n",
       "      <td>MD</td>\n",
       "      <td>4</td>\n",
       "      <td>Ecom3</td>\n",
       "      <td>1/2/20</td>\n",
       "      <td>Walkersville</td>\n",
       "      <td>21793</td>\n",
       "      <td>FXG</td>\n",
       "      <td>12/31/19</td>\n",
       "      <td>41.0</td>\n",
       "      <td>12.0</td>\n",
       "      <td>6,045,680</td>\n",
       "      <td>3/12/2020</td>\n",
       "      <td>3/27/2020</td>\n",
       "      <td>5/13/2020</td>\n",
       "      <td>Blue</td>\n",
       "    </tr>\n",
       "    <tr>\n",
       "      <th>4</th>\n",
       "      <td>NY</td>\n",
       "      <td>5</td>\n",
       "      <td>Ecom3</td>\n",
       "      <td>1/3/20</td>\n",
       "      <td>Clarence</td>\n",
       "      <td>14031</td>\n",
       "      <td>FEH</td>\n",
       "      <td>1/2/20</td>\n",
       "      <td>21.5</td>\n",
       "      <td>6.0</td>\n",
       "      <td>19,453,561</td>\n",
       "      <td>3/22/2020</td>\n",
       "      <td>4/6/2020</td>\n",
       "      <td>6/8/2020</td>\n",
       "      <td>Blue</td>\n",
       "    </tr>\n",
       "    <tr>\n",
       "      <th>...</th>\n",
       "      <td>...</td>\n",
       "      <td>...</td>\n",
       "      <td>...</td>\n",
       "      <td>...</td>\n",
       "      <td>...</td>\n",
       "      <td>...</td>\n",
       "      <td>...</td>\n",
       "      <td>...</td>\n",
       "      <td>...</td>\n",
       "      <td>...</td>\n",
       "      <td>...</td>\n",
       "      <td>...</td>\n",
       "      <td>...</td>\n",
       "      <td>...</td>\n",
       "      <td>...</td>\n",
       "    </tr>\n",
       "    <tr>\n",
       "      <th>164844</th>\n",
       "      <td>CO</td>\n",
       "      <td>235998</td>\n",
       "      <td>Winery3</td>\n",
       "      <td>12/29/2020</td>\n",
       "      <td>Aurora</td>\n",
       "      <td>80013</td>\n",
       "      <td>UPS</td>\n",
       "      <td>12/29/2020</td>\n",
       "      <td>21.5</td>\n",
       "      <td>6.0</td>\n",
       "      <td>5,758,736</td>\n",
       "      <td>3/26/2020</td>\n",
       "      <td>4/26/2020</td>\n",
       "      <td>4/26/2020</td>\n",
       "      <td>Blue</td>\n",
       "    </tr>\n",
       "    <tr>\n",
       "      <th>164845</th>\n",
       "      <td>CA</td>\n",
       "      <td>235999</td>\n",
       "      <td>Winery3</td>\n",
       "      <td>12/29/2020</td>\n",
       "      <td>Napa</td>\n",
       "      <td>94558</td>\n",
       "      <td>GSC</td>\n",
       "      <td>12/29/2020</td>\n",
       "      <td>9.9</td>\n",
       "      <td>3.0</td>\n",
       "      <td>39,512,223</td>\n",
       "      <td>3/19/2020</td>\n",
       "      <td>4/2/2020</td>\n",
       "      <td>5/13/2020</td>\n",
       "      <td>Blue</td>\n",
       "    </tr>\n",
       "    <tr>\n",
       "      <th>164846</th>\n",
       "      <td>CO</td>\n",
       "      <td>236000</td>\n",
       "      <td>Winery3</td>\n",
       "      <td>12/29/2020</td>\n",
       "      <td>Aurora</td>\n",
       "      <td>80014</td>\n",
       "      <td>UPS</td>\n",
       "      <td>12/29/2020</td>\n",
       "      <td>39.0</td>\n",
       "      <td>12.0</td>\n",
       "      <td>5,758,736</td>\n",
       "      <td>3/26/2020</td>\n",
       "      <td>4/26/2020</td>\n",
       "      <td>4/26/2020</td>\n",
       "      <td>Blue</td>\n",
       "    </tr>\n",
       "    <tr>\n",
       "      <th>164847</th>\n",
       "      <td>VA</td>\n",
       "      <td>236001</td>\n",
       "      <td>Winery3</td>\n",
       "      <td>12/28/2020</td>\n",
       "      <td>Charlottesville</td>\n",
       "      <td>22901</td>\n",
       "      <td>UPS</td>\n",
       "      <td>12/28/2020</td>\n",
       "      <td>21.5</td>\n",
       "      <td>6.0</td>\n",
       "      <td>8,535,519</td>\n",
       "      <td>3/30/2020</td>\n",
       "      <td>5/15/2020</td>\n",
       "      <td>5/29/2020</td>\n",
       "      <td>Blue</td>\n",
       "    </tr>\n",
       "    <tr>\n",
       "      <th>164848</th>\n",
       "      <td>CA</td>\n",
       "      <td>236002</td>\n",
       "      <td>Winery3</td>\n",
       "      <td>12/29/2020</td>\n",
       "      <td>Napa</td>\n",
       "      <td>94558</td>\n",
       "      <td>WCU</td>\n",
       "      <td>12/29/2020</td>\n",
       "      <td>21.5</td>\n",
       "      <td>6.0</td>\n",
       "      <td>39,512,223</td>\n",
       "      <td>3/19/2020</td>\n",
       "      <td>4/2/2020</td>\n",
       "      <td>5/13/2020</td>\n",
       "      <td>Blue</td>\n",
       "    </tr>\n",
       "  </tbody>\n",
       "</table>\n",
       "<p>164849 rows × 15 columns</p>\n",
       "</div>"
      ],
      "text/plain": [
       "       State  Order Number Company Name   Ship Date             City    Zip  \\\n",
       "0         CA             1        Ecom3      1/2/20        Lafayette  94549   \n",
       "1         NY             2        Ecom3      1/2/20         New York  10022   \n",
       "2         NY             3        Ecom3      1/3/20         New York  10006   \n",
       "3         MD             4        Ecom3      1/2/20     Walkersville  21793   \n",
       "4         NY             5        Ecom3      1/3/20         Clarence  14031   \n",
       "...      ...           ...          ...         ...              ...    ...   \n",
       "164844    CO        235998      Winery3  12/29/2020           Aurora  80013   \n",
       "164845    CA        235999      Winery3  12/29/2020             Napa  94558   \n",
       "164846    CO        236000      Winery3  12/29/2020           Aurora  80014   \n",
       "164847    VA        236001      Winery3  12/28/2020  Charlottesville  22901   \n",
       "164848    CA        236002      Winery3  12/29/2020             Napa  94558   \n",
       "\n",
       "       Shipping Service Created Date  Weight  Item/Bottle Count  Population  \\\n",
       "0                   UPS     12/31/19    35.0               10.0  39,512,223   \n",
       "1                   FEH       1/1/20    29.0                8.0  19,453,561   \n",
       "2                   FEH       1/2/20    21.5                6.0  19,453,561   \n",
       "3                   FXG     12/31/19    41.0               12.0   6,045,680   \n",
       "4                   FEH       1/2/20    21.5                6.0  19,453,561   \n",
       "...                 ...          ...     ...                ...         ...   \n",
       "164844              UPS   12/29/2020    21.5                6.0   5,758,736   \n",
       "164845              GSC   12/29/2020     9.9                3.0  39,512,223   \n",
       "164846              UPS   12/29/2020    39.0               12.0   5,758,736   \n",
       "164847              UPS   12/28/2020    21.5                6.0   8,535,519   \n",
       "164848              WCU   12/29/2020    21.5                6.0  39,512,223   \n",
       "\n",
       "       Lockdown Start Initial Expected Lockdown End Phase 1 Re-Opening Start  \\\n",
       "0           3/19/2020                      4/2/2020                5/13/2020   \n",
       "1           3/22/2020                      4/6/2020                 6/8/2020   \n",
       "2           3/22/2020                      4/6/2020                 6/8/2020   \n",
       "3           3/12/2020                     3/27/2020                5/13/2020   \n",
       "4           3/22/2020                      4/6/2020                 6/8/2020   \n",
       "...               ...                           ...                      ...   \n",
       "164844      3/26/2020                     4/26/2020                4/26/2020   \n",
       "164845      3/19/2020                      4/2/2020                5/13/2020   \n",
       "164846      3/26/2020                     4/26/2020                4/26/2020   \n",
       "164847      3/30/2020                     5/15/2020                5/29/2020   \n",
       "164848      3/19/2020                      4/2/2020                5/13/2020   \n",
       "\n",
       "       Political Alignment  \n",
       "0                     Blue  \n",
       "1                     Blue  \n",
       "2                     Blue  \n",
       "3                     Blue  \n",
       "4                     Blue  \n",
       "...                    ...  \n",
       "164844                Blue  \n",
       "164845                Blue  \n",
       "164846                Blue  \n",
       "164847                Blue  \n",
       "164848                Blue  \n",
       "\n",
       "[164849 rows x 15 columns]"
      ]
     },
     "execution_count": 155,
     "metadata": {},
     "output_type": "execute_result"
    }
   ],
   "source": [
    "new_blue_states_2020 = blue_states_2020.reset_index()\n",
    "new_blue_states_2020"
   ]
  },
  {
   "cell_type": "code",
   "execution_count": 156,
   "id": "e227acb1",
   "metadata": {},
   "outputs": [
    {
     "data": {
      "text/plain": [
       "array(['CA', 'NY', 'MD', 'NM', 'CT', 'MI', 'WA', 'PA', 'CO', 'HI', 'MA',\n",
       "       'NH', 'NJ', 'VA', 'MN', 'WI', 'OR', 'IL', 'VT', 'GA', 'AZ', 'DC',\n",
       "       'NV', 'ME', 'RI', 'DE'], dtype=object)"
      ]
     },
     "execution_count": 156,
     "metadata": {},
     "output_type": "execute_result"
    }
   ],
   "source": [
    "new_blue_states_2020.State.unique()"
   ]
  },
  {
   "cell_type": "code",
   "execution_count": 179,
   "id": "142aef53",
   "metadata": {},
   "outputs": [],
   "source": [
    "# Adding a list of values with keys to create a new DataFrame for Blue states only.\n",
    "B = {'Blue State': ['Arizona', 'California', 'Colordao', 'Connecticut', 'District of Columbia', 'Delaware', 'Georgia',\n",
    "               'Hawaii', 'Illinois', 'Maine', 'Maryland', 'Massachusetts', 'Michigan', 'Minnesota', 'Nevada',\n",
    "               'New Hampshire', 'New Jersey', 'New Mexico', 'New York', 'Oregon', 'Pennsylvania', 'Rhode Island',\n",
    "               'Vermont', 'Virginia', 'Washington',  'Wisconsin',\n",
    "              ],\n",
    "       'Total Item/Bottle Count': [Arizona[\"Item/Bottle Count\"].sum(),    \n",
    "            California[\"Item/Bottle Count\"].sum(),\n",
    "            Colorado[\"Item/Bottle Count\"].sum(),\n",
    "            Connecticut[\"Item/Bottle Count\"].sum(),\n",
    "            DC[\"Item/Bottle Count\"].sum(),\n",
    "            Delaware[\"Item/Bottle Count\"].sum(),\n",
    "            Georgia[\"Item/Bottle Count\"].sum(),\n",
    "            Hawaii[\"Item/Bottle Count\"].sum(),\n",
    "            Illinois[\"Item/Bottle Count\"].sum(),\n",
    "            Maine[\"Item/Bottle Count\"].sum(),\n",
    "            Maryland[\"Item/Bottle Count\"].sum(),\n",
    "            Massachusetts[\"Item/Bottle Count\"].sum(),\n",
    "            Michigan[\"Item/Bottle Count\"].sum(),\n",
    "            Minnesota[\"Item/Bottle Count\"].sum(),\n",
    "            Nevada[\"Item/Bottle Count\"].sum(),\n",
    "            New_Hampshire[\"Item/Bottle Count\"].sum(),\n",
    "            New_Jersey[\"Item/Bottle Count\"].sum(),\n",
    "            New_Mexico[\"Item/Bottle Count\"].sum(),\n",
    "            New_York[\"Item/Bottle Count\"].sum(),\n",
    "            Oregon[\"Item/Bottle Count\"].sum(),\n",
    "            Pennsylvania[\"Item/Bottle Count\"].sum(),\n",
    "            Rhode_Island[\"Item/Bottle Count\"].sum(),\n",
    "            Vermont[\"Item/Bottle Count\"].sum(),\n",
    "            Virginia[\"Item/Bottle Count\"].sum(),\n",
    "            Washington[\"Item/Bottle Count\"].sum(),\n",
    "            Wisconsin[\"Item/Bottle Count\"].sum()]}"
   ]
  },
  {
   "cell_type": "code",
   "execution_count": 180,
   "id": "de5a741f",
   "metadata": {},
   "outputs": [
    {
     "data": {
      "text/html": [
       "<div>\n",
       "<style scoped>\n",
       "    .dataframe tbody tr th:only-of-type {\n",
       "        vertical-align: middle;\n",
       "    }\n",
       "\n",
       "    .dataframe tbody tr th {\n",
       "        vertical-align: top;\n",
       "    }\n",
       "\n",
       "    .dataframe thead th {\n",
       "        text-align: right;\n",
       "    }\n",
       "</style>\n",
       "<table border=\"1\" class=\"dataframe\">\n",
       "  <thead>\n",
       "    <tr style=\"text-align: right;\">\n",
       "      <th></th>\n",
       "      <th>Blue State</th>\n",
       "      <th>Total Item/Bottle Count</th>\n",
       "    </tr>\n",
       "  </thead>\n",
       "  <tbody>\n",
       "    <tr>\n",
       "      <th>0</th>\n",
       "      <td>Arizona</td>\n",
       "      <td>16378.0</td>\n",
       "    </tr>\n",
       "    <tr>\n",
       "      <th>1</th>\n",
       "      <td>California</td>\n",
       "      <td>130312.0</td>\n",
       "    </tr>\n",
       "    <tr>\n",
       "      <th>2</th>\n",
       "      <td>Colordao</td>\n",
       "      <td>27802.0</td>\n",
       "    </tr>\n",
       "    <tr>\n",
       "      <th>3</th>\n",
       "      <td>Connecticut</td>\n",
       "      <td>24062.0</td>\n",
       "    </tr>\n",
       "    <tr>\n",
       "      <th>4</th>\n",
       "      <td>District of Columbia</td>\n",
       "      <td>8288.0</td>\n",
       "    </tr>\n",
       "    <tr>\n",
       "      <th>5</th>\n",
       "      <td>Delaware</td>\n",
       "      <td>1289.0</td>\n",
       "    </tr>\n",
       "    <tr>\n",
       "      <th>6</th>\n",
       "      <td>Georgia</td>\n",
       "      <td>34693.0</td>\n",
       "    </tr>\n",
       "    <tr>\n",
       "      <th>7</th>\n",
       "      <td>Hawaii</td>\n",
       "      <td>9666.0</td>\n",
       "    </tr>\n",
       "    <tr>\n",
       "      <th>8</th>\n",
       "      <td>Illinois</td>\n",
       "      <td>51356.0</td>\n",
       "    </tr>\n",
       "    <tr>\n",
       "      <th>9</th>\n",
       "      <td>Maine</td>\n",
       "      <td>5007.0</td>\n",
       "    </tr>\n",
       "    <tr>\n",
       "      <th>10</th>\n",
       "      <td>Maryland</td>\n",
       "      <td>29515.0</td>\n",
       "    </tr>\n",
       "    <tr>\n",
       "      <th>11</th>\n",
       "      <td>Massachusetts</td>\n",
       "      <td>43665.0</td>\n",
       "    </tr>\n",
       "    <tr>\n",
       "      <th>12</th>\n",
       "      <td>Michigan</td>\n",
       "      <td>36218.0</td>\n",
       "    </tr>\n",
       "    <tr>\n",
       "      <th>13</th>\n",
       "      <td>Minnesota</td>\n",
       "      <td>15040.0</td>\n",
       "    </tr>\n",
       "    <tr>\n",
       "      <th>14</th>\n",
       "      <td>Nevada</td>\n",
       "      <td>6802.0</td>\n",
       "    </tr>\n",
       "    <tr>\n",
       "      <th>15</th>\n",
       "      <td>New Hampshire</td>\n",
       "      <td>6015.0</td>\n",
       "    </tr>\n",
       "    <tr>\n",
       "      <th>16</th>\n",
       "      <td>New Jersey</td>\n",
       "      <td>61171.0</td>\n",
       "    </tr>\n",
       "    <tr>\n",
       "      <th>17</th>\n",
       "      <td>New Mexico</td>\n",
       "      <td>4487.0</td>\n",
       "    </tr>\n",
       "    <tr>\n",
       "      <th>18</th>\n",
       "      <td>New York</td>\n",
       "      <td>119653.0</td>\n",
       "    </tr>\n",
       "    <tr>\n",
       "      <th>19</th>\n",
       "      <td>Oregon</td>\n",
       "      <td>11952.0</td>\n",
       "    </tr>\n",
       "    <tr>\n",
       "      <th>20</th>\n",
       "      <td>Pennsylvania</td>\n",
       "      <td>82215.0</td>\n",
       "    </tr>\n",
       "    <tr>\n",
       "      <th>21</th>\n",
       "      <td>Rhode Island</td>\n",
       "      <td>7767.0</td>\n",
       "    </tr>\n",
       "    <tr>\n",
       "      <th>22</th>\n",
       "      <td>Vermont</td>\n",
       "      <td>3703.0</td>\n",
       "    </tr>\n",
       "    <tr>\n",
       "      <th>23</th>\n",
       "      <td>Virginia</td>\n",
       "      <td>40075.0</td>\n",
       "    </tr>\n",
       "    <tr>\n",
       "      <th>24</th>\n",
       "      <td>Washington</td>\n",
       "      <td>19176.0</td>\n",
       "    </tr>\n",
       "    <tr>\n",
       "      <th>25</th>\n",
       "      <td>Wisconsin</td>\n",
       "      <td>13768.0</td>\n",
       "    </tr>\n",
       "  </tbody>\n",
       "</table>\n",
       "</div>"
      ],
      "text/plain": [
       "              Blue State  Total Item/Bottle Count\n",
       "0                Arizona                  16378.0\n",
       "1             California                 130312.0\n",
       "2               Colordao                  27802.0\n",
       "3            Connecticut                  24062.0\n",
       "4   District of Columbia                   8288.0\n",
       "5               Delaware                   1289.0\n",
       "6                Georgia                  34693.0\n",
       "7                 Hawaii                   9666.0\n",
       "8               Illinois                  51356.0\n",
       "9                  Maine                   5007.0\n",
       "10              Maryland                  29515.0\n",
       "11         Massachusetts                  43665.0\n",
       "12              Michigan                  36218.0\n",
       "13             Minnesota                  15040.0\n",
       "14                Nevada                   6802.0\n",
       "15         New Hampshire                   6015.0\n",
       "16            New Jersey                  61171.0\n",
       "17            New Mexico                   4487.0\n",
       "18              New York                 119653.0\n",
       "19                Oregon                  11952.0\n",
       "20          Pennsylvania                  82215.0\n",
       "21          Rhode Island                   7767.0\n",
       "22               Vermont                   3703.0\n",
       "23              Virginia                  40075.0\n",
       "24            Washington                  19176.0\n",
       "25             Wisconsin                  13768.0"
      ]
     },
     "execution_count": 180,
     "metadata": {},
     "output_type": "execute_result"
    }
   ],
   "source": [
    "total_bottle_count_by_blue_state = pd.DataFrame.from_dict(data=B)\n",
    "total_bottle_count_by_blue_state"
   ]
  },
  {
   "cell_type": "code",
   "execution_count": 162,
   "id": "348ba24b",
   "metadata": {},
   "outputs": [
    {
     "data": {
      "text/html": [
       "<div>\n",
       "<style scoped>\n",
       "    .dataframe tbody tr th:only-of-type {\n",
       "        vertical-align: middle;\n",
       "    }\n",
       "\n",
       "    .dataframe tbody tr th {\n",
       "        vertical-align: top;\n",
       "    }\n",
       "\n",
       "    .dataframe thead th {\n",
       "        text-align: right;\n",
       "    }\n",
       "</style>\n",
       "<table border=\"1\" class=\"dataframe\">\n",
       "  <thead>\n",
       "    <tr style=\"text-align: right;\">\n",
       "      <th></th>\n",
       "      <th>Order Number</th>\n",
       "      <th>Weight</th>\n",
       "      <th>Item/Bottle Count</th>\n",
       "    </tr>\n",
       "  </thead>\n",
       "  <tbody>\n",
       "    <tr>\n",
       "      <th>count</th>\n",
       "      <td>164849.000000</td>\n",
       "      <td>164849.000000</td>\n",
       "      <td>164849.000000</td>\n",
       "    </tr>\n",
       "    <tr>\n",
       "      <th>mean</th>\n",
       "      <td>117366.409720</td>\n",
       "      <td>17.539310</td>\n",
       "      <td>4.914043</td>\n",
       "    </tr>\n",
       "    <tr>\n",
       "      <th>std</th>\n",
       "      <td>67804.539441</td>\n",
       "      <td>16.774859</td>\n",
       "      <td>11.282404</td>\n",
       "    </tr>\n",
       "    <tr>\n",
       "      <th>min</th>\n",
       "      <td>1.000000</td>\n",
       "      <td>1.000000</td>\n",
       "      <td>0.000000</td>\n",
       "    </tr>\n",
       "    <tr>\n",
       "      <th>25%</th>\n",
       "      <td>58568.000000</td>\n",
       "      <td>7.000000</td>\n",
       "      <td>2.000000</td>\n",
       "    </tr>\n",
       "    <tr>\n",
       "      <th>50%</th>\n",
       "      <td>116872.000000</td>\n",
       "      <td>14.000000</td>\n",
       "      <td>4.000000</td>\n",
       "    </tr>\n",
       "    <tr>\n",
       "      <th>75%</th>\n",
       "      <td>176317.000000</td>\n",
       "      <td>21.500000</td>\n",
       "      <td>6.000000</td>\n",
       "    </tr>\n",
       "    <tr>\n",
       "      <th>max</th>\n",
       "      <td>236002.000000</td>\n",
       "      <td>2057.000000</td>\n",
       "      <td>2272.000000</td>\n",
       "    </tr>\n",
       "  </tbody>\n",
       "</table>\n",
       "</div>"
      ],
      "text/plain": [
       "        Order Number         Weight  Item/Bottle Count\n",
       "count  164849.000000  164849.000000      164849.000000\n",
       "mean   117366.409720      17.539310           4.914043\n",
       "std     67804.539441      16.774859          11.282404\n",
       "min         1.000000       1.000000           0.000000\n",
       "25%     58568.000000       7.000000           2.000000\n",
       "50%    116872.000000      14.000000           4.000000\n",
       "75%    176317.000000      21.500000           6.000000\n",
       "max    236002.000000    2057.000000        2272.000000"
      ]
     },
     "execution_count": 162,
     "metadata": {},
     "output_type": "execute_result"
    }
   ],
   "source": [
    "#Generate summary statistics for blue_states_2020\n",
    "blue_summary_statistics_2020 = blue_states_2020.describe()\n",
    "blue_summary_statistics_2020"
   ]
  },
  {
   "cell_type": "code",
   "execution_count": 163,
   "id": "ed06cc7e",
   "metadata": {},
   "outputs": [
    {
     "data": {
      "text/plain": [
       "810075.0"
      ]
     },
     "execution_count": 163,
     "metadata": {},
     "output_type": "execute_result"
    }
   ],
   "source": [
    "# Calculate the total 2020 Item/Bottle Count for Blue States.\n",
    "total_blue_count_2020 = blue_states_2020[\"Item/Bottle Count\"].sum()\n",
    "total_blue_count_2020"
   ]
  },
  {
   "cell_type": "code",
   "execution_count": 164,
   "id": "08eefc84",
   "metadata": {},
   "outputs": [
    {
     "name": "stdout",
     "output_type": "stream",
     "text": [
      "        State  Total Item/Bottle Count\n",
      "1  California                 130312.0\n"
     ]
    }
   ],
   "source": [
    "#Print the highest bottle count by blue state\n",
    "print(total_bottle_count_by_blue_state[total_bottle_count_by_blue_state[\"Total Item/Bottle Count\"] == \n",
    "                                  total_bottle_count_by_blue_state[\"Total Item/Bottle Count\"].max()])"
   ]
  },
  {
   "cell_type": "code",
   "execution_count": 181,
   "id": "d312867d",
   "metadata": {},
   "outputs": [
    {
     "name": "stdout",
     "output_type": "stream",
     "text": [
      "  Blue State  Total Item/Bottle Count\n",
      "5   Delaware                   1289.0\n"
     ]
    }
   ],
   "source": [
    "#Print the lowest bottle count by blue state\n",
    "print(total_bottle_count_by_blue_state[total_bottle_count_by_blue_state[\"Total Item/Bottle Count\"] == \n",
    "                                  total_bottle_count_by_blue_state[\"Total Item/Bottle Count\"].min()])"
   ]
  },
  {
   "cell_type": "code",
   "execution_count": 182,
   "id": "d0baa301",
   "metadata": {},
   "outputs": [],
   "source": [
    "#Export total_bottle_count_by_blue_state to .csv\n",
    "total_bottle_count_by_blue_state.to_csv('Resources/2020_total_bottle_count_by_blue_state.csv') "
   ]
  },
  {
   "cell_type": "code",
   "execution_count": 183,
   "id": "faba51a7",
   "metadata": {},
   "outputs": [
    {
     "data": {
      "text/html": [
       "<div>\n",
       "<style scoped>\n",
       "    .dataframe tbody tr th:only-of-type {\n",
       "        vertical-align: middle;\n",
       "    }\n",
       "\n",
       "    .dataframe tbody tr th {\n",
       "        vertical-align: top;\n",
       "    }\n",
       "\n",
       "    .dataframe thead th {\n",
       "        text-align: right;\n",
       "    }\n",
       "</style>\n",
       "<table border=\"1\" class=\"dataframe\">\n",
       "  <thead>\n",
       "    <tr style=\"text-align: right;\">\n",
       "      <th></th>\n",
       "      <th>Blue State</th>\n",
       "      <th>Total Item/Bottle Count_Blue</th>\n",
       "      <th>Red State</th>\n",
       "      <th>Total Item/Bottle Count_Red</th>\n",
       "    </tr>\n",
       "  </thead>\n",
       "  <tbody>\n",
       "    <tr>\n",
       "      <th>0</th>\n",
       "      <td>Arizona</td>\n",
       "      <td>16378.0</td>\n",
       "      <td>Alabama</td>\n",
       "      <td>2024.0</td>\n",
       "    </tr>\n",
       "    <tr>\n",
       "      <th>1</th>\n",
       "      <td>California</td>\n",
       "      <td>130312.0</td>\n",
       "      <td>Alaska</td>\n",
       "      <td>2057.0</td>\n",
       "    </tr>\n",
       "    <tr>\n",
       "      <th>2</th>\n",
       "      <td>Colordao</td>\n",
       "      <td>27802.0</td>\n",
       "      <td>Arkansas</td>\n",
       "      <td>6512.0</td>\n",
       "    </tr>\n",
       "    <tr>\n",
       "      <th>3</th>\n",
       "      <td>Connecticut</td>\n",
       "      <td>24062.0</td>\n",
       "      <td>Florida</td>\n",
       "      <td>82961.0</td>\n",
       "    </tr>\n",
       "    <tr>\n",
       "      <th>4</th>\n",
       "      <td>District of Columbia</td>\n",
       "      <td>8288.0</td>\n",
       "      <td>Idaho</td>\n",
       "      <td>3391.0</td>\n",
       "    </tr>\n",
       "    <tr>\n",
       "      <th>5</th>\n",
       "      <td>Delaware</td>\n",
       "      <td>1289.0</td>\n",
       "      <td>Indiana</td>\n",
       "      <td>17476.0</td>\n",
       "    </tr>\n",
       "    <tr>\n",
       "      <th>6</th>\n",
       "      <td>Georgia</td>\n",
       "      <td>34693.0</td>\n",
       "      <td>Iowa</td>\n",
       "      <td>5846.0</td>\n",
       "    </tr>\n",
       "    <tr>\n",
       "      <th>7</th>\n",
       "      <td>Hawaii</td>\n",
       "      <td>9666.0</td>\n",
       "      <td>Kansas</td>\n",
       "      <td>7165.0</td>\n",
       "    </tr>\n",
       "    <tr>\n",
       "      <th>8</th>\n",
       "      <td>Illinois</td>\n",
       "      <td>51356.0</td>\n",
       "      <td>Kentucky</td>\n",
       "      <td>40.0</td>\n",
       "    </tr>\n",
       "    <tr>\n",
       "      <th>9</th>\n",
       "      <td>Maine</td>\n",
       "      <td>5007.0</td>\n",
       "      <td>Louisiana</td>\n",
       "      <td>10558.0</td>\n",
       "    </tr>\n",
       "    <tr>\n",
       "      <th>10</th>\n",
       "      <td>Maryland</td>\n",
       "      <td>29515.0</td>\n",
       "      <td>Mississippi</td>\n",
       "      <td>6.0</td>\n",
       "    </tr>\n",
       "    <tr>\n",
       "      <th>11</th>\n",
       "      <td>Massachusetts</td>\n",
       "      <td>43665.0</td>\n",
       "      <td>Missouri</td>\n",
       "      <td>13633.0</td>\n",
       "    </tr>\n",
       "    <tr>\n",
       "      <th>12</th>\n",
       "      <td>Michigan</td>\n",
       "      <td>36218.0</td>\n",
       "      <td>Montana</td>\n",
       "      <td>2472.0</td>\n",
       "    </tr>\n",
       "    <tr>\n",
       "      <th>13</th>\n",
       "      <td>Minnesota</td>\n",
       "      <td>15040.0</td>\n",
       "      <td>Nebraska</td>\n",
       "      <td>4753.0</td>\n",
       "    </tr>\n",
       "    <tr>\n",
       "      <th>14</th>\n",
       "      <td>Nevada</td>\n",
       "      <td>6802.0</td>\n",
       "      <td>North Carolina</td>\n",
       "      <td>28220.0</td>\n",
       "    </tr>\n",
       "    <tr>\n",
       "      <th>15</th>\n",
       "      <td>New Hampshire</td>\n",
       "      <td>6015.0</td>\n",
       "      <td>North Dakota</td>\n",
       "      <td>2042.0</td>\n",
       "    </tr>\n",
       "    <tr>\n",
       "      <th>16</th>\n",
       "      <td>New Jersey</td>\n",
       "      <td>61171.0</td>\n",
       "      <td>Ohio</td>\n",
       "      <td>36798.0</td>\n",
       "    </tr>\n",
       "    <tr>\n",
       "      <th>17</th>\n",
       "      <td>New Mexico</td>\n",
       "      <td>4487.0</td>\n",
       "      <td>Oklahoma</td>\n",
       "      <td>4694.0</td>\n",
       "    </tr>\n",
       "    <tr>\n",
       "      <th>18</th>\n",
       "      <td>New York</td>\n",
       "      <td>119653.0</td>\n",
       "      <td>South Carolina</td>\n",
       "      <td>14478.0</td>\n",
       "    </tr>\n",
       "    <tr>\n",
       "      <th>19</th>\n",
       "      <td>Oregon</td>\n",
       "      <td>11952.0</td>\n",
       "      <td>South Dakota</td>\n",
       "      <td>1757.0</td>\n",
       "    </tr>\n",
       "    <tr>\n",
       "      <th>20</th>\n",
       "      <td>Pennsylvania</td>\n",
       "      <td>82215.0</td>\n",
       "      <td>Tennessee</td>\n",
       "      <td>20300.0</td>\n",
       "    </tr>\n",
       "    <tr>\n",
       "      <th>21</th>\n",
       "      <td>Rhode Island</td>\n",
       "      <td>7767.0</td>\n",
       "      <td>Texas</td>\n",
       "      <td>66704.0</td>\n",
       "    </tr>\n",
       "    <tr>\n",
       "      <th>22</th>\n",
       "      <td>Vermont</td>\n",
       "      <td>3703.0</td>\n",
       "      <td>West Virginia</td>\n",
       "      <td>2869.0</td>\n",
       "    </tr>\n",
       "    <tr>\n",
       "      <th>23</th>\n",
       "      <td>Virginia</td>\n",
       "      <td>40075.0</td>\n",
       "      <td>Wyoming</td>\n",
       "      <td>1988.0</td>\n",
       "    </tr>\n",
       "    <tr>\n",
       "      <th>24</th>\n",
       "      <td>Washington</td>\n",
       "      <td>19176.0</td>\n",
       "      <td>NaN</td>\n",
       "      <td>NaN</td>\n",
       "    </tr>\n",
       "    <tr>\n",
       "      <th>25</th>\n",
       "      <td>Wisconsin</td>\n",
       "      <td>13768.0</td>\n",
       "      <td>NaN</td>\n",
       "      <td>NaN</td>\n",
       "    </tr>\n",
       "  </tbody>\n",
       "</table>\n",
       "</div>"
      ],
      "text/plain": [
       "              Blue State  Total Item/Bottle Count_Blue       Red State  \\\n",
       "0                Arizona                       16378.0         Alabama   \n",
       "1             California                      130312.0          Alaska   \n",
       "2               Colordao                       27802.0        Arkansas   \n",
       "3            Connecticut                       24062.0         Florida   \n",
       "4   District of Columbia                        8288.0           Idaho   \n",
       "5               Delaware                        1289.0         Indiana   \n",
       "6                Georgia                       34693.0            Iowa   \n",
       "7                 Hawaii                        9666.0          Kansas   \n",
       "8               Illinois                       51356.0        Kentucky   \n",
       "9                  Maine                        5007.0       Louisiana   \n",
       "10              Maryland                       29515.0     Mississippi   \n",
       "11         Massachusetts                       43665.0        Missouri   \n",
       "12              Michigan                       36218.0         Montana   \n",
       "13             Minnesota                       15040.0        Nebraska   \n",
       "14                Nevada                        6802.0  North Carolina   \n",
       "15         New Hampshire                        6015.0    North Dakota   \n",
       "16            New Jersey                       61171.0            Ohio   \n",
       "17            New Mexico                        4487.0        Oklahoma   \n",
       "18              New York                      119653.0  South Carolina   \n",
       "19                Oregon                       11952.0    South Dakota   \n",
       "20          Pennsylvania                       82215.0       Tennessee   \n",
       "21          Rhode Island                        7767.0           Texas   \n",
       "22               Vermont                        3703.0   West Virginia   \n",
       "23              Virginia                       40075.0         Wyoming   \n",
       "24            Washington                       19176.0             NaN   \n",
       "25             Wisconsin                       13768.0             NaN   \n",
       "\n",
       "    Total Item/Bottle Count_Red  \n",
       "0                        2024.0  \n",
       "1                        2057.0  \n",
       "2                        6512.0  \n",
       "3                       82961.0  \n",
       "4                        3391.0  \n",
       "5                       17476.0  \n",
       "6                        5846.0  \n",
       "7                        7165.0  \n",
       "8                          40.0  \n",
       "9                       10558.0  \n",
       "10                          6.0  \n",
       "11                      13633.0  \n",
       "12                       2472.0  \n",
       "13                       4753.0  \n",
       "14                      28220.0  \n",
       "15                       2042.0  \n",
       "16                      36798.0  \n",
       "17                       4694.0  \n",
       "18                      14478.0  \n",
       "19                       1757.0  \n",
       "20                      20300.0  \n",
       "21                      66704.0  \n",
       "22                       2869.0  \n",
       "23                       1988.0  \n",
       "24                          NaN  \n",
       "25                          NaN  "
      ]
     },
     "execution_count": 183,
     "metadata": {},
     "output_type": "execute_result"
    }
   ],
   "source": [
    "#Create a joined df with all of red states and all of blue states.\n",
    "joined_blueandred = total_bottle_count_by_blue_state.join(total_bottle_count_by_red_state, \n",
    "                                                          lsuffix='_Blue', rsuffix='_Red')\n",
    "joined_blueandred"
   ]
  },
  {
   "cell_type": "code",
   "execution_count": 184,
   "id": "bf02c157",
   "metadata": {},
   "outputs": [],
   "source": [
    "#Export total_bottle_count_by_blue_state to .csv\n",
    "joined_blueandred.to_csv('Resources/2020_joined_blueandred.csv')"
   ]
  },
  {
   "cell_type": "markdown",
   "id": "8e1513a8",
   "metadata": {},
   "source": [
    "## Total Wine Sales by State"
   ]
  },
  {
   "cell_type": "code",
   "execution_count": 131,
   "id": "3ae6e425",
   "metadata": {},
   "outputs": [],
   "source": [
    "# Which state consumed the most wine?"
   ]
  },
  {
   "cell_type": "code",
   "execution_count": 157,
   "id": "f0d6a419",
   "metadata": {},
   "outputs": [],
   "source": [
    "# Adding a list of values with keys to create a new DataFrame.\n",
    "S = {'State': ['Alabama', 'Alaska', 'Arizona', 'Arkansas', 'California', 'Colordao', 'Connecticut', \n",
    "               'District of Columbia', 'Delaware', 'Florida', 'Georgia', 'Hawaii', 'Idaho', 'Illinois',\n",
    "               'Indiana', 'Iowa', 'Kansas', 'Kentucky', 'Louisiana', 'Maine', 'Maryland', 'Massachusetts',\n",
    "               'Michigan', 'Minnesota', 'Mississippi', 'Missouri', 'Montana', 'Nebraska', 'Nevada',\n",
    "              'New Hampshire', 'New Jersey', 'New Mexico', 'New York', 'North Carolina', 'North Dakota', 'Ohio',\n",
    "              'Oklahoma', 'Oregon', 'Pennsylvania', 'Rhode Island', 'South Carolina', 'South Dakota', 'Tennessee', \n",
    "              'Texas', 'Utah', 'Vermont', 'Virginia', 'Washington', 'West Virginia', 'Wisconsin', 'Wyoming'],\n",
    "     'Total Item/Bottle Count': [Alabama[\"Item/Bottle Count\"].sum(), \n",
    "            Alaska[\"Item/Bottle Count\"].sum(), \n",
    "            Arizona[\"Item/Bottle Count\"].sum(), \n",
    "            Arkansas[\"Item/Bottle Count\"].sum(), \n",
    "            California[\"Item/Bottle Count\"].sum(),\n",
    "            Colorado[\"Item/Bottle Count\"].sum(),\n",
    "            Connecticut[\"Item/Bottle Count\"].sum(),\n",
    "            DC[\"Item/Bottle Count\"].sum(),\n",
    "            Delaware[\"Item/Bottle Count\"].sum(),\n",
    "            Florida[\"Item/Bottle Count\"].sum(),\n",
    "            Georgia[\"Item/Bottle Count\"].sum(),\n",
    "            Hawaii[\"Item/Bottle Count\"].sum(),\n",
    "            Idaho[\"Item/Bottle Count\"].sum(),\n",
    "            Illinois[\"Item/Bottle Count\"].sum(),\n",
    "            Indiana[\"Item/Bottle Count\"].sum(),\n",
    "            Iowa[\"Item/Bottle Count\"].sum(),\n",
    "            Kansas[\"Item/Bottle Count\"].sum(),\n",
    "            Kentucky[\"Item/Bottle Count\"].sum(),\n",
    "            Louisiana[\"Item/Bottle Count\"].sum(),\n",
    "            Maine[\"Item/Bottle Count\"].sum(),\n",
    "            Maryland[\"Item/Bottle Count\"].sum(),\n",
    "            Massachusetts[\"Item/Bottle Count\"].sum(),\n",
    "            Michigan[\"Item/Bottle Count\"].sum(),\n",
    "            Minnesota[\"Item/Bottle Count\"].sum(),\n",
    "            Mississippi[\"Item/Bottle Count\"].sum(),\n",
    "            Missouri[\"Item/Bottle Count\"].sum(),\n",
    "            Montana[\"Item/Bottle Count\"].sum(),\n",
    "            Nebraska[\"Item/Bottle Count\"].sum(),\n",
    "            Nevada[\"Item/Bottle Count\"].sum(),\n",
    "            New_Hampshire[\"Item/Bottle Count\"].sum(),\n",
    "            New_Jersey[\"Item/Bottle Count\"].sum(),\n",
    "            New_Mexico[\"Item/Bottle Count\"].sum(),\n",
    "            New_York[\"Item/Bottle Count\"].sum(),\n",
    "            North_Carolina[\"Item/Bottle Count\"].sum(),\n",
    "            North_Dakota[\"Item/Bottle Count\"].sum(),\n",
    "            Ohio[\"Item/Bottle Count\"].sum(),\n",
    "            Oklahoma[\"Item/Bottle Count\"].sum(),\n",
    "            Oregon[\"Item/Bottle Count\"].sum(),\n",
    "            Pennsylvania[\"Item/Bottle Count\"].sum(),\n",
    "            Rhode_Island[\"Item/Bottle Count\"].sum(),\n",
    "            South_Carolina[\"Item/Bottle Count\"].sum(),\n",
    "            South_Dakota[\"Item/Bottle Count\"].sum(),\n",
    "            Tennessee[\"Item/Bottle Count\"].sum(),\n",
    "            Texas[\"Item/Bottle Count\"].sum(),\n",
    "            Utah[\"Item/Bottle Count\"].sum(),\n",
    "            Vermont[\"Item/Bottle Count\"].sum(),\n",
    "            Virginia[\"Item/Bottle Count\"].sum(),\n",
    "            Washington[\"Item/Bottle Count\"].sum(),\n",
    "            West_Virginia[\"Item/Bottle Count\"].sum(),\n",
    "            Wisconsin[\"Item/Bottle Count\"].sum(),\n",
    "            Wyoming[\"Item/Bottle Count\"].sum()]}"
   ]
  },
  {
   "cell_type": "code",
   "execution_count": 158,
   "id": "7a667e27",
   "metadata": {},
   "outputs": [],
   "source": [
    "total_bottle_count_by_state = pd.DataFrame.from_dict(data=S)\n",
    "#total_bottle_count_by_state"
   ]
  },
  {
   "cell_type": "code",
   "execution_count": 159,
   "id": "d05f571c",
   "metadata": {},
   "outputs": [
    {
     "data": {
      "text/html": [
       "<div>\n",
       "<style scoped>\n",
       "    .dataframe tbody tr th:only-of-type {\n",
       "        vertical-align: middle;\n",
       "    }\n",
       "\n",
       "    .dataframe tbody tr th {\n",
       "        vertical-align: top;\n",
       "    }\n",
       "\n",
       "    .dataframe thead th {\n",
       "        text-align: right;\n",
       "    }\n",
       "</style>\n",
       "<table border=\"1\" class=\"dataframe\">\n",
       "  <thead>\n",
       "    <tr style=\"text-align: right;\">\n",
       "      <th></th>\n",
       "      <th>State</th>\n",
       "      <th>Total Item/Bottle Count</th>\n",
       "    </tr>\n",
       "  </thead>\n",
       "  <tbody>\n",
       "    <tr>\n",
       "      <th>0</th>\n",
       "      <td>Alabama</td>\n",
       "      <td>2024.0</td>\n",
       "    </tr>\n",
       "    <tr>\n",
       "      <th>1</th>\n",
       "      <td>Alaska</td>\n",
       "      <td>2057.0</td>\n",
       "    </tr>\n",
       "    <tr>\n",
       "      <th>2</th>\n",
       "      <td>Arizona</td>\n",
       "      <td>16378.0</td>\n",
       "    </tr>\n",
       "    <tr>\n",
       "      <th>3</th>\n",
       "      <td>Arkansas</td>\n",
       "      <td>6512.0</td>\n",
       "    </tr>\n",
       "    <tr>\n",
       "      <th>4</th>\n",
       "      <td>California</td>\n",
       "      <td>130312.0</td>\n",
       "    </tr>\n",
       "    <tr>\n",
       "      <th>5</th>\n",
       "      <td>Colordao</td>\n",
       "      <td>27802.0</td>\n",
       "    </tr>\n",
       "    <tr>\n",
       "      <th>6</th>\n",
       "      <td>Connecticut</td>\n",
       "      <td>24062.0</td>\n",
       "    </tr>\n",
       "    <tr>\n",
       "      <th>7</th>\n",
       "      <td>District of Columbia</td>\n",
       "      <td>8288.0</td>\n",
       "    </tr>\n",
       "    <tr>\n",
       "      <th>8</th>\n",
       "      <td>Delaware</td>\n",
       "      <td>1289.0</td>\n",
       "    </tr>\n",
       "    <tr>\n",
       "      <th>9</th>\n",
       "      <td>Florida</td>\n",
       "      <td>82961.0</td>\n",
       "    </tr>\n",
       "    <tr>\n",
       "      <th>10</th>\n",
       "      <td>Georgia</td>\n",
       "      <td>34693.0</td>\n",
       "    </tr>\n",
       "    <tr>\n",
       "      <th>11</th>\n",
       "      <td>Hawaii</td>\n",
       "      <td>9666.0</td>\n",
       "    </tr>\n",
       "    <tr>\n",
       "      <th>12</th>\n",
       "      <td>Idaho</td>\n",
       "      <td>3391.0</td>\n",
       "    </tr>\n",
       "    <tr>\n",
       "      <th>13</th>\n",
       "      <td>Illinois</td>\n",
       "      <td>51356.0</td>\n",
       "    </tr>\n",
       "    <tr>\n",
       "      <th>14</th>\n",
       "      <td>Indiana</td>\n",
       "      <td>17476.0</td>\n",
       "    </tr>\n",
       "    <tr>\n",
       "      <th>15</th>\n",
       "      <td>Iowa</td>\n",
       "      <td>5846.0</td>\n",
       "    </tr>\n",
       "    <tr>\n",
       "      <th>16</th>\n",
       "      <td>Kansas</td>\n",
       "      <td>7165.0</td>\n",
       "    </tr>\n",
       "    <tr>\n",
       "      <th>17</th>\n",
       "      <td>Kentucky</td>\n",
       "      <td>40.0</td>\n",
       "    </tr>\n",
       "    <tr>\n",
       "      <th>18</th>\n",
       "      <td>Louisiana</td>\n",
       "      <td>10558.0</td>\n",
       "    </tr>\n",
       "    <tr>\n",
       "      <th>19</th>\n",
       "      <td>Maine</td>\n",
       "      <td>5007.0</td>\n",
       "    </tr>\n",
       "    <tr>\n",
       "      <th>20</th>\n",
       "      <td>Maryland</td>\n",
       "      <td>29515.0</td>\n",
       "    </tr>\n",
       "    <tr>\n",
       "      <th>21</th>\n",
       "      <td>Massachusetts</td>\n",
       "      <td>43665.0</td>\n",
       "    </tr>\n",
       "    <tr>\n",
       "      <th>22</th>\n",
       "      <td>Michigan</td>\n",
       "      <td>36218.0</td>\n",
       "    </tr>\n",
       "    <tr>\n",
       "      <th>23</th>\n",
       "      <td>Minnesota</td>\n",
       "      <td>15040.0</td>\n",
       "    </tr>\n",
       "    <tr>\n",
       "      <th>24</th>\n",
       "      <td>Mississippi</td>\n",
       "      <td>6.0</td>\n",
       "    </tr>\n",
       "    <tr>\n",
       "      <th>25</th>\n",
       "      <td>Missouri</td>\n",
       "      <td>13633.0</td>\n",
       "    </tr>\n",
       "    <tr>\n",
       "      <th>26</th>\n",
       "      <td>Montana</td>\n",
       "      <td>2472.0</td>\n",
       "    </tr>\n",
       "    <tr>\n",
       "      <th>27</th>\n",
       "      <td>Nebraska</td>\n",
       "      <td>4753.0</td>\n",
       "    </tr>\n",
       "    <tr>\n",
       "      <th>28</th>\n",
       "      <td>Nevada</td>\n",
       "      <td>6802.0</td>\n",
       "    </tr>\n",
       "    <tr>\n",
       "      <th>29</th>\n",
       "      <td>New Hampshire</td>\n",
       "      <td>6015.0</td>\n",
       "    </tr>\n",
       "    <tr>\n",
       "      <th>30</th>\n",
       "      <td>New Jersey</td>\n",
       "      <td>61171.0</td>\n",
       "    </tr>\n",
       "    <tr>\n",
       "      <th>31</th>\n",
       "      <td>New Mexico</td>\n",
       "      <td>4487.0</td>\n",
       "    </tr>\n",
       "    <tr>\n",
       "      <th>32</th>\n",
       "      <td>New York</td>\n",
       "      <td>119653.0</td>\n",
       "    </tr>\n",
       "    <tr>\n",
       "      <th>33</th>\n",
       "      <td>North Carolina</td>\n",
       "      <td>28220.0</td>\n",
       "    </tr>\n",
       "    <tr>\n",
       "      <th>34</th>\n",
       "      <td>North Dakota</td>\n",
       "      <td>2042.0</td>\n",
       "    </tr>\n",
       "    <tr>\n",
       "      <th>35</th>\n",
       "      <td>Ohio</td>\n",
       "      <td>36798.0</td>\n",
       "    </tr>\n",
       "    <tr>\n",
       "      <th>36</th>\n",
       "      <td>Oklahoma</td>\n",
       "      <td>4694.0</td>\n",
       "    </tr>\n",
       "    <tr>\n",
       "      <th>37</th>\n",
       "      <td>Oregon</td>\n",
       "      <td>11952.0</td>\n",
       "    </tr>\n",
       "    <tr>\n",
       "      <th>38</th>\n",
       "      <td>Pennsylvania</td>\n",
       "      <td>82215.0</td>\n",
       "    </tr>\n",
       "    <tr>\n",
       "      <th>39</th>\n",
       "      <td>Rhode Island</td>\n",
       "      <td>7767.0</td>\n",
       "    </tr>\n",
       "    <tr>\n",
       "      <th>40</th>\n",
       "      <td>South Carolina</td>\n",
       "      <td>14478.0</td>\n",
       "    </tr>\n",
       "    <tr>\n",
       "      <th>41</th>\n",
       "      <td>South Dakota</td>\n",
       "      <td>1757.0</td>\n",
       "    </tr>\n",
       "    <tr>\n",
       "      <th>42</th>\n",
       "      <td>Tennessee</td>\n",
       "      <td>20300.0</td>\n",
       "    </tr>\n",
       "    <tr>\n",
       "      <th>43</th>\n",
       "      <td>Texas</td>\n",
       "      <td>66704.0</td>\n",
       "    </tr>\n",
       "    <tr>\n",
       "      <th>44</th>\n",
       "      <td>Utah</td>\n",
       "      <td>0.0</td>\n",
       "    </tr>\n",
       "    <tr>\n",
       "      <th>45</th>\n",
       "      <td>Vermont</td>\n",
       "      <td>3703.0</td>\n",
       "    </tr>\n",
       "    <tr>\n",
       "      <th>46</th>\n",
       "      <td>Virginia</td>\n",
       "      <td>40075.0</td>\n",
       "    </tr>\n",
       "    <tr>\n",
       "      <th>47</th>\n",
       "      <td>Washington</td>\n",
       "      <td>19176.0</td>\n",
       "    </tr>\n",
       "    <tr>\n",
       "      <th>48</th>\n",
       "      <td>West Virginia</td>\n",
       "      <td>2869.0</td>\n",
       "    </tr>\n",
       "    <tr>\n",
       "      <th>49</th>\n",
       "      <td>Wisconsin</td>\n",
       "      <td>13768.0</td>\n",
       "    </tr>\n",
       "    <tr>\n",
       "      <th>50</th>\n",
       "      <td>Wyoming</td>\n",
       "      <td>1988.0</td>\n",
       "    </tr>\n",
       "  </tbody>\n",
       "</table>\n",
       "</div>"
      ],
      "text/plain": [
       "                   State  Total Item/Bottle Count\n",
       "0                Alabama                   2024.0\n",
       "1                 Alaska                   2057.0\n",
       "2                Arizona                  16378.0\n",
       "3               Arkansas                   6512.0\n",
       "4             California                 130312.0\n",
       "5               Colordao                  27802.0\n",
       "6            Connecticut                  24062.0\n",
       "7   District of Columbia                   8288.0\n",
       "8               Delaware                   1289.0\n",
       "9                Florida                  82961.0\n",
       "10               Georgia                  34693.0\n",
       "11                Hawaii                   9666.0\n",
       "12                 Idaho                   3391.0\n",
       "13              Illinois                  51356.0\n",
       "14               Indiana                  17476.0\n",
       "15                  Iowa                   5846.0\n",
       "16                Kansas                   7165.0\n",
       "17              Kentucky                     40.0\n",
       "18             Louisiana                  10558.0\n",
       "19                 Maine                   5007.0\n",
       "20              Maryland                  29515.0\n",
       "21         Massachusetts                  43665.0\n",
       "22              Michigan                  36218.0\n",
       "23             Minnesota                  15040.0\n",
       "24           Mississippi                      6.0\n",
       "25              Missouri                  13633.0\n",
       "26               Montana                   2472.0\n",
       "27              Nebraska                   4753.0\n",
       "28                Nevada                   6802.0\n",
       "29         New Hampshire                   6015.0\n",
       "30            New Jersey                  61171.0\n",
       "31            New Mexico                   4487.0\n",
       "32              New York                 119653.0\n",
       "33        North Carolina                  28220.0\n",
       "34          North Dakota                   2042.0\n",
       "35                  Ohio                  36798.0\n",
       "36              Oklahoma                   4694.0\n",
       "37                Oregon                  11952.0\n",
       "38          Pennsylvania                  82215.0\n",
       "39          Rhode Island                   7767.0\n",
       "40        South Carolina                  14478.0\n",
       "41          South Dakota                   1757.0\n",
       "42             Tennessee                  20300.0\n",
       "43                 Texas                  66704.0\n",
       "44                  Utah                      0.0\n",
       "45               Vermont                   3703.0\n",
       "46              Virginia                  40075.0\n",
       "47            Washington                  19176.0\n",
       "48         West Virginia                   2869.0\n",
       "49             Wisconsin                  13768.0\n",
       "50               Wyoming                   1988.0"
      ]
     },
     "execution_count": 159,
     "metadata": {},
     "output_type": "execute_result"
    }
   ],
   "source": [
    "#Sort df to show largest count first.\n",
    "#I'm not sure why this isn't sorting.\n",
    "total_bottle_count_by_state.sort_values('Total Item/Bottle Count')\n",
    "total_bottle_count_by_state"
   ]
  },
  {
   "cell_type": "code",
   "execution_count": 135,
   "id": "04a4badb",
   "metadata": {},
   "outputs": [
    {
     "name": "stdout",
     "output_type": "stream",
     "text": [
      "        State  Total Item/Bottle Count\n",
      "4  California                 130312.0\n"
     ]
    }
   ],
   "source": [
    "#Print the highest bottle count by state\n",
    "print(total_bottle_count_by_state[total_bottle_count_by_state[\"Total Item/Bottle Count\"] == \n",
    "                                  total_bottle_count_by_state[\"Total Item/Bottle Count\"].max()])"
   ]
  },
  {
   "cell_type": "code",
   "execution_count": 136,
   "id": "a1336d57",
   "metadata": {},
   "outputs": [
    {
     "name": "stdout",
     "output_type": "stream",
     "text": [
      "   State  Total Item/Bottle Count\n",
      "44  Utah                      0.0\n"
     ]
    }
   ],
   "source": [
    "#Print the lowest bottle count by state\n",
    "print(total_bottle_count_by_state[total_bottle_count_by_state[\"Total Item/Bottle Count\"] == \n",
    "                                  total_bottle_count_by_state[\"Total Item/Bottle Count\"].min()])"
   ]
  },
  {
   "cell_type": "code",
   "execution_count": 172,
   "id": "9dd0dc0b",
   "metadata": {},
   "outputs": [],
   "source": [
    "#Export total_bottle_count_by_state to .csv\n",
    "total_bottle_count_by_state.to_csv('Resources/2020_total_bottle_count_by_state.csv') "
   ]
  },
  {
   "cell_type": "markdown",
   "id": "ba5019e7",
   "metadata": {},
   "source": [
    "## Working syntax"
   ]
  },
  {
   "cell_type": "code",
   "execution_count": null,
   "id": "6096da47",
   "metadata": {},
   "outputs": [],
   "source": [
    "# Set the x-axis to a list of strings for each month.\n",
    "x_axis = total_bottle_count_by_state[\"State\"]\n",
    "\n",
    "# Set the y-axis to a list of floats as the Item/Bottle Count for each month.\n",
    "y_axis = total_bottle_count_by_state[\"Total Item/Bottle Count\"]"
   ]
  },
  {
   "cell_type": "code",
   "execution_count": null,
   "id": "059f5a55",
   "metadata": {},
   "outputs": [],
   "source": [
    "plt.pie(y_axis, labels=x_axis)\n",
    "plt.show()"
   ]
  },
  {
   "cell_type": "code",
   "execution_count": null,
   "id": "56e02eea",
   "metadata": {
    "scrolled": false
   },
   "outputs": [],
   "source": [
    "plt.subplots(figsize=(25, 25))\n",
    "explode_values = (0, 0, 0, 0, 0.2, 0, 0, 0, 0, 0, 0, 0, 0, 0, 0, 0, 0, 0, 0, 0, 0, 0, \n",
    "                  0, 0, 0, 0, 0, 0, 0, 0, 0, 0, 0, 0, 0, 0, 0, 0, 0, 0, 0, 0, 0, 0, 0, 0, 0, 0, 0, 0, 0, 0, )\n",
    "plt.pie(y_axis, explode=explode_values, labels=x_axis, autopct='%.1f%%')"
   ]
  }
 ],
 "metadata": {
  "kernelspec": {
   "display_name": "Python 3 (ipykernel)",
   "language": "python",
   "name": "python3"
  },
  "language_info": {
   "codemirror_mode": {
    "name": "ipython",
    "version": 3
   },
   "file_extension": ".py",
   "mimetype": "text/x-python",
   "name": "python",
   "nbconvert_exporter": "python",
   "pygments_lexer": "ipython3",
   "version": "3.7.13"
  }
 },
 "nbformat": 4,
 "nbformat_minor": 5
}
