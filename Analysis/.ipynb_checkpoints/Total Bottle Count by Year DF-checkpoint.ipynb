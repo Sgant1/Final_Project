{
 "cells": [
  {
   "cell_type": "markdown",
   "id": "b3d6d70c",
   "metadata": {},
   "source": [
    "## Import Dependencies, Read CSV, Load Tables."
   ]
  },
  {
   "cell_type": "code",
   "execution_count": 1,
   "id": "162b12e8",
   "metadata": {},
   "outputs": [],
   "source": [
    "#Import dependencies\n",
    "import pandas as pd\n",
    "from sqlalchemy import create_engine\n",
    "from config import db_password\n",
    "import time"
   ]
  },
  {
   "cell_type": "code",
   "execution_count": 4,
   "id": "ea297116",
   "metadata": {},
   "outputs": [],
   "source": [
    "# Files to load\n",
    "load_2019 = \"Complete_annual_dataframes/Complete_2019.csv\"\n",
    "load_2020 = \"Complete_annual_dataframes/Complete_2020.csv\"\n",
    "load_2021 = \"Complete_annual_dataframes/Complete_2021.csv\""
   ]
  },
  {
   "cell_type": "code",
   "execution_count": 5,
   "id": "20c5bab6",
   "metadata": {},
   "outputs": [
    {
     "data": {
      "text/html": [
       "<div>\n",
       "<style scoped>\n",
       "    .dataframe tbody tr th:only-of-type {\n",
       "        vertical-align: middle;\n",
       "    }\n",
       "\n",
       "    .dataframe tbody tr th {\n",
       "        vertical-align: top;\n",
       "    }\n",
       "\n",
       "    .dataframe thead th {\n",
       "        text-align: right;\n",
       "    }\n",
       "</style>\n",
       "<table border=\"1\" class=\"dataframe\">\n",
       "  <thead>\n",
       "    <tr style=\"text-align: right;\">\n",
       "      <th></th>\n",
       "      <th>Order Number</th>\n",
       "      <th>Company Name</th>\n",
       "      <th>Ship Date</th>\n",
       "      <th>State</th>\n",
       "      <th>City</th>\n",
       "      <th>Created Date</th>\n",
       "      <th>Item/Bottle Count</th>\n",
       "      <th>Weight</th>\n",
       "    </tr>\n",
       "  </thead>\n",
       "  <tbody>\n",
       "    <tr>\n",
       "      <th>0</th>\n",
       "      <td>0</td>\n",
       "      <td>Ecom3</td>\n",
       "      <td>11/19/19</td>\n",
       "      <td>PA</td>\n",
       "      <td>STEELTON</td>\n",
       "      <td>11/18/19</td>\n",
       "      <td>6.0</td>\n",
       "      <td>18.0</td>\n",
       "    </tr>\n",
       "    <tr>\n",
       "      <th>1</th>\n",
       "      <td>1</td>\n",
       "      <td>Ecom3</td>\n",
       "      <td>11/15/19</td>\n",
       "      <td>FL</td>\n",
       "      <td>CORAL GABLES</td>\n",
       "      <td>11/14/19</td>\n",
       "      <td>12.0</td>\n",
       "      <td>36.0</td>\n",
       "    </tr>\n",
       "    <tr>\n",
       "      <th>2</th>\n",
       "      <td>2</td>\n",
       "      <td>Ecom3</td>\n",
       "      <td>11/14/19</td>\n",
       "      <td>IL</td>\n",
       "      <td>CHICAGO</td>\n",
       "      <td>11/13/19</td>\n",
       "      <td>6.0</td>\n",
       "      <td>18.0</td>\n",
       "    </tr>\n",
       "    <tr>\n",
       "      <th>3</th>\n",
       "      <td>3</td>\n",
       "      <td>Ecom3</td>\n",
       "      <td>11/15/19</td>\n",
       "      <td>NJ</td>\n",
       "      <td>Rumson</td>\n",
       "      <td>11/14/19</td>\n",
       "      <td>12.0</td>\n",
       "      <td>36.0</td>\n",
       "    </tr>\n",
       "    <tr>\n",
       "      <th>4</th>\n",
       "      <td>4</td>\n",
       "      <td>Ecom3</td>\n",
       "      <td>11/14/19</td>\n",
       "      <td>MD</td>\n",
       "      <td>PASADENA</td>\n",
       "      <td>11/13/19</td>\n",
       "      <td>6.0</td>\n",
       "      <td>18.0</td>\n",
       "    </tr>\n",
       "  </tbody>\n",
       "</table>\n",
       "</div>"
      ],
      "text/plain": [
       "   Order Number Company Name Ship Date State          City Created Date  \\\n",
       "0             0        Ecom3  11/19/19    PA      STEELTON     11/18/19   \n",
       "1             1        Ecom3  11/15/19    FL  CORAL GABLES     11/14/19   \n",
       "2             2        Ecom3  11/14/19    IL       CHICAGO     11/13/19   \n",
       "3             3        Ecom3  11/15/19    NJ        Rumson     11/14/19   \n",
       "4             4        Ecom3  11/14/19    MD      PASADENA     11/13/19   \n",
       "\n",
       "   Item/Bottle Count  Weight  \n",
       "0                6.0    18.0  \n",
       "1               12.0    36.0  \n",
       "2                6.0    18.0  \n",
       "3               12.0    36.0  \n",
       "4                6.0    18.0  "
      ]
     },
     "execution_count": 5,
     "metadata": {},
     "output_type": "execute_result"
    }
   ],
   "source": [
    "# Read load_wine_2019 into a DataFrame\n",
    "df2019 = pd.read_csv(load_2019, index_col=[0])\n",
    "df2019.head()"
   ]
  },
  {
   "cell_type": "code",
   "execution_count": 6,
   "id": "cb2618c7",
   "metadata": {},
   "outputs": [
    {
     "data": {
      "text/html": [
       "<div>\n",
       "<style scoped>\n",
       "    .dataframe tbody tr th:only-of-type {\n",
       "        vertical-align: middle;\n",
       "    }\n",
       "\n",
       "    .dataframe tbody tr th {\n",
       "        vertical-align: top;\n",
       "    }\n",
       "\n",
       "    .dataframe thead th {\n",
       "        text-align: right;\n",
       "    }\n",
       "</style>\n",
       "<table border=\"1\" class=\"dataframe\">\n",
       "  <thead>\n",
       "    <tr style=\"text-align: right;\">\n",
       "      <th></th>\n",
       "      <th>Order Number</th>\n",
       "      <th>Company Name</th>\n",
       "      <th>Ship Date</th>\n",
       "      <th>City</th>\n",
       "      <th>State</th>\n",
       "      <th>Zip</th>\n",
       "      <th>Shipping Service</th>\n",
       "      <th>Created Date</th>\n",
       "      <th>Weight</th>\n",
       "      <th>Item/Bottle Count</th>\n",
       "    </tr>\n",
       "  </thead>\n",
       "  <tbody>\n",
       "    <tr>\n",
       "      <th>0</th>\n",
       "      <td>0</td>\n",
       "      <td>Ecom3</td>\n",
       "      <td>1/2/20</td>\n",
       "      <td>Plantation</td>\n",
       "      <td>FL</td>\n",
       "      <td>33325</td>\n",
       "      <td>UPS</td>\n",
       "      <td>1/1/20</td>\n",
       "      <td>9.9</td>\n",
       "      <td>3.0</td>\n",
       "    </tr>\n",
       "    <tr>\n",
       "      <th>1</th>\n",
       "      <td>1</td>\n",
       "      <td>Ecom3</td>\n",
       "      <td>1/2/20</td>\n",
       "      <td>Lafayette</td>\n",
       "      <td>CA</td>\n",
       "      <td>94549</td>\n",
       "      <td>UPS</td>\n",
       "      <td>12/31/19</td>\n",
       "      <td>35.0</td>\n",
       "      <td>10.0</td>\n",
       "    </tr>\n",
       "    <tr>\n",
       "      <th>2</th>\n",
       "      <td>2</td>\n",
       "      <td>Ecom3</td>\n",
       "      <td>1/2/20</td>\n",
       "      <td>New York</td>\n",
       "      <td>NY</td>\n",
       "      <td>10022</td>\n",
       "      <td>FEH</td>\n",
       "      <td>1/1/20</td>\n",
       "      <td>29.0</td>\n",
       "      <td>8.0</td>\n",
       "    </tr>\n",
       "    <tr>\n",
       "      <th>3</th>\n",
       "      <td>3</td>\n",
       "      <td>Ecom3</td>\n",
       "      <td>1/3/20</td>\n",
       "      <td>New York</td>\n",
       "      <td>NY</td>\n",
       "      <td>10006</td>\n",
       "      <td>FEH</td>\n",
       "      <td>1/2/20</td>\n",
       "      <td>21.5</td>\n",
       "      <td>6.0</td>\n",
       "    </tr>\n",
       "    <tr>\n",
       "      <th>4</th>\n",
       "      <td>4</td>\n",
       "      <td>Ecom3</td>\n",
       "      <td>1/2/20</td>\n",
       "      <td>Walkersville</td>\n",
       "      <td>MD</td>\n",
       "      <td>21793</td>\n",
       "      <td>FXG</td>\n",
       "      <td>12/31/19</td>\n",
       "      <td>41.0</td>\n",
       "      <td>12.0</td>\n",
       "    </tr>\n",
       "  </tbody>\n",
       "</table>\n",
       "</div>"
      ],
      "text/plain": [
       "   Order Number Company Name Ship Date          City State    Zip  \\\n",
       "0             0        Ecom3    1/2/20    Plantation    FL  33325   \n",
       "1             1        Ecom3    1/2/20     Lafayette    CA  94549   \n",
       "2             2        Ecom3    1/2/20      New York    NY  10022   \n",
       "3             3        Ecom3    1/3/20      New York    NY  10006   \n",
       "4             4        Ecom3    1/2/20  Walkersville    MD  21793   \n",
       "\n",
       "  Shipping Service Created Date  Weight  Item/Bottle Count  \n",
       "0              UPS       1/1/20     9.9                3.0  \n",
       "1              UPS     12/31/19    35.0               10.0  \n",
       "2              FEH       1/1/20    29.0                8.0  \n",
       "3              FEH       1/2/20    21.5                6.0  \n",
       "4              FXG     12/31/19    41.0               12.0  "
      ]
     },
     "execution_count": 6,
     "metadata": {},
     "output_type": "execute_result"
    }
   ],
   "source": [
    "# Read load_wine_2020 into a DataFrame\n",
    "df2020 = pd.read_csv(load_2020, index_col=[0])\n",
    "df2020.head()"
   ]
  },
  {
   "cell_type": "code",
   "execution_count": 7,
   "id": "0374ab1f",
   "metadata": {},
   "outputs": [
    {
     "data": {
      "text/html": [
       "<div>\n",
       "<style scoped>\n",
       "    .dataframe tbody tr th:only-of-type {\n",
       "        vertical-align: middle;\n",
       "    }\n",
       "\n",
       "    .dataframe tbody tr th {\n",
       "        vertical-align: top;\n",
       "    }\n",
       "\n",
       "    .dataframe thead th {\n",
       "        text-align: right;\n",
       "    }\n",
       "</style>\n",
       "<table border=\"1\" class=\"dataframe\">\n",
       "  <thead>\n",
       "    <tr style=\"text-align: right;\">\n",
       "      <th></th>\n",
       "      <th>Order Number</th>\n",
       "      <th>Company Name</th>\n",
       "      <th>Ship Date</th>\n",
       "      <th>City</th>\n",
       "      <th>State</th>\n",
       "      <th>Zip</th>\n",
       "      <th>Shipping Service</th>\n",
       "      <th>Created Date</th>\n",
       "      <th>Weight</th>\n",
       "      <th>Item/Bottle Count</th>\n",
       "    </tr>\n",
       "  </thead>\n",
       "  <tbody>\n",
       "    <tr>\n",
       "      <th>0</th>\n",
       "      <td>0</td>\n",
       "      <td>Ecom1</td>\n",
       "      <td>1/4/2021</td>\n",
       "      <td>Pleasant Prairie</td>\n",
       "      <td>WI</td>\n",
       "      <td>53158</td>\n",
       "      <td>FEH</td>\n",
       "      <td>12/7/2020</td>\n",
       "      <td>10.5</td>\n",
       "      <td>3.0</td>\n",
       "    </tr>\n",
       "    <tr>\n",
       "      <th>1</th>\n",
       "      <td>1</td>\n",
       "      <td>Ecom1</td>\n",
       "      <td>1/5/2021</td>\n",
       "      <td>Beaverton</td>\n",
       "      <td>OR</td>\n",
       "      <td>97005</td>\n",
       "      <td>FEH</td>\n",
       "      <td>12/23/2020</td>\n",
       "      <td>10.5</td>\n",
       "      <td>3.0</td>\n",
       "    </tr>\n",
       "    <tr>\n",
       "      <th>2</th>\n",
       "      <td>2</td>\n",
       "      <td>Ecom1</td>\n",
       "      <td>1/5/2021</td>\n",
       "      <td>Edison</td>\n",
       "      <td>NJ</td>\n",
       "      <td>8820</td>\n",
       "      <td>FEH</td>\n",
       "      <td>12/24/2020</td>\n",
       "      <td>6.5</td>\n",
       "      <td>1.0</td>\n",
       "    </tr>\n",
       "    <tr>\n",
       "      <th>3</th>\n",
       "      <td>3</td>\n",
       "      <td>Ecom1</td>\n",
       "      <td>1/5/2021</td>\n",
       "      <td>Jersey city</td>\n",
       "      <td>NJ</td>\n",
       "      <td>7302</td>\n",
       "      <td>FEH</td>\n",
       "      <td>12/24/2020</td>\n",
       "      <td>6.5</td>\n",
       "      <td>1.0</td>\n",
       "    </tr>\n",
       "    <tr>\n",
       "      <th>4</th>\n",
       "      <td>4</td>\n",
       "      <td>Ecom1</td>\n",
       "      <td>1/5/2021</td>\n",
       "      <td>Stoughton</td>\n",
       "      <td>MA</td>\n",
       "      <td>2072</td>\n",
       "      <td>FEH</td>\n",
       "      <td>12/24/2020</td>\n",
       "      <td>6.5</td>\n",
       "      <td>1.0</td>\n",
       "    </tr>\n",
       "  </tbody>\n",
       "</table>\n",
       "</div>"
      ],
      "text/plain": [
       "   Order Number Company Name Ship Date              City State    Zip  \\\n",
       "0             0        Ecom1  1/4/2021  Pleasant Prairie    WI  53158   \n",
       "1             1        Ecom1  1/5/2021         Beaverton    OR  97005   \n",
       "2             2        Ecom1  1/5/2021            Edison    NJ   8820   \n",
       "3             3        Ecom1  1/5/2021       Jersey city    NJ   7302   \n",
       "4             4        Ecom1  1/5/2021         Stoughton    MA   2072   \n",
       "\n",
       "  Shipping Service Created Date  Weight  Item/Bottle Count  \n",
       "0              FEH    12/7/2020    10.5                3.0  \n",
       "1              FEH   12/23/2020    10.5                3.0  \n",
       "2              FEH   12/24/2020     6.5                1.0  \n",
       "3              FEH   12/24/2020     6.5                1.0  \n",
       "4              FEH   12/24/2020     6.5                1.0  "
      ]
     },
     "execution_count": 7,
     "metadata": {},
     "output_type": "execute_result"
    }
   ],
   "source": [
    "# Read load_wine_2021 into a DataFrame\n",
    "df2021 = pd.read_csv(load_2021, index_col=[0])\n",
    "df2021.head()"
   ]
  },
  {
   "cell_type": "markdown",
   "id": "530cc6f2",
   "metadata": {},
   "source": [
    "## Total Bottle Count Per year"
   ]
  },
  {
   "cell_type": "code",
   "execution_count": 9,
   "id": "4ece41e2",
   "metadata": {},
   "outputs": [
    {
     "data": {
      "text/plain": [
       "961409.0"
      ]
     },
     "execution_count": 9,
     "metadata": {},
     "output_type": "execute_result"
    }
   ],
   "source": [
    "total_2019= df2019[\"Item/Bottle Count\"].sum()\n",
    "total_2019"
   ]
  },
  {
   "cell_type": "code",
   "execution_count": 10,
   "id": "dd985f34",
   "metadata": {},
   "outputs": [
    {
     "data": {
      "text/plain": [
       "1148819.0"
      ]
     },
     "execution_count": 10,
     "metadata": {},
     "output_type": "execute_result"
    }
   ],
   "source": [
    "total_2020= df2020[\"Item/Bottle Count\"].sum()\n",
    "total_2020"
   ]
  },
  {
   "cell_type": "code",
   "execution_count": 11,
   "id": "5cf63256",
   "metadata": {},
   "outputs": [
    {
     "data": {
      "text/plain": [
       "1065457.0"
      ]
     },
     "execution_count": 11,
     "metadata": {},
     "output_type": "execute_result"
    }
   ],
   "source": [
    "total_2021= df2021[\"Item/Bottle Count\"].sum()\n",
    "total_2021"
   ]
  },
  {
   "cell_type": "code",
   "execution_count": 14,
   "id": "df2c6cc5",
   "metadata": {},
   "outputs": [],
   "source": [
    "#Define values for Total Bottle Counts by Year df\n",
    "totals = {'2019': [\"961,409\"], '2020': [\"1,148,819\"], '2021': [\"1,065,457\"]}"
   ]
  },
  {
   "cell_type": "code",
   "execution_count": 22,
   "id": "2f8a4bf9",
   "metadata": {},
   "outputs": [
    {
     "data": {
      "text/html": [
       "<div>\n",
       "<style scoped>\n",
       "    .dataframe tbody tr th:only-of-type {\n",
       "        vertical-align: middle;\n",
       "    }\n",
       "\n",
       "    .dataframe tbody tr th {\n",
       "        vertical-align: top;\n",
       "    }\n",
       "\n",
       "    .dataframe thead th {\n",
       "        text-align: right;\n",
       "    }\n",
       "</style>\n",
       "<table border=\"1\" class=\"dataframe\">\n",
       "  <thead>\n",
       "    <tr style=\"text-align: right;\">\n",
       "      <th></th>\n",
       "      <th>2019</th>\n",
       "      <th>2020</th>\n",
       "      <th>2021</th>\n",
       "    </tr>\n",
       "  </thead>\n",
       "  <tbody>\n",
       "    <tr>\n",
       "      <th>Total Item/Bottle Count</th>\n",
       "      <td>961,409</td>\n",
       "      <td>1,148,819</td>\n",
       "      <td>1,065,457</td>\n",
       "    </tr>\n",
       "  </tbody>\n",
       "</table>\n",
       "</div>"
      ],
      "text/plain": [
       "                            2019       2020       2021\n",
       "Total Item/Bottle Count  961,409  1,148,819  1,065,457"
      ]
     },
     "execution_count": 22,
     "metadata": {},
     "output_type": "execute_result"
    }
   ],
   "source": [
    "#Create Total Bottle Counts by Year df\n",
    "Total_Bottle_Counts_by_Year = pd.DataFrame(data=totals, index=[\"Total Item/Bottle Count\"])\n",
    "Total_Bottle_Counts_by_Year"
   ]
  }
 ],
 "metadata": {
  "kernelspec": {
   "display_name": "Python 3 (ipykernel)",
   "language": "python",
   "name": "python3"
  },
  "language_info": {
   "codemirror_mode": {
    "name": "ipython",
    "version": 3
   },
   "file_extension": ".py",
   "mimetype": "text/x-python",
   "name": "python",
   "nbconvert_exporter": "python",
   "pygments_lexer": "ipython3",
   "version": "3.7.13"
  }
 },
 "nbformat": 4,
 "nbformat_minor": 5
}
