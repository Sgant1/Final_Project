{
 "cells": [
  {
   "cell_type": "markdown",
   "id": "b28d77ec",
   "metadata": {},
   "source": [
    "## Import Dependencies, Read CSV and Create Dataframes."
   ]
  },
  {
   "cell_type": "code",
   "execution_count": 1,
   "id": "25060bae",
   "metadata": {},
   "outputs": [],
   "source": [
    "#Pandas library to create DataFrames\n",
    "import pandas as pd\n",
    "#NumPy library for converting data types\n",
    "import numpy as np\n",
    "import matplotlib\n",
    "matplotlib.__version__\n",
    "%matplotlib inline\n",
    "import matplotlib.pyplot as plt"
   ]
  },
  {
   "cell_type": "code",
   "execution_count": 3,
   "id": "10911d7e",
   "metadata": {},
   "outputs": [],
   "source": [
    "load_states = \"../state_covid_info/Complete_states.csv\"\n",
    "load_2019 = \"../data_frame/Complete_annual_dataframes/Complete_2019.csv\""
   ]
  },
  {
   "cell_type": "code",
   "execution_count": 4,
   "id": "ac5c9a47",
   "metadata": {},
   "outputs": [
    {
     "data": {
      "text/html": [
       "<div>\n",
       "<style scoped>\n",
       "    .dataframe tbody tr th:only-of-type {\n",
       "        vertical-align: middle;\n",
       "    }\n",
       "\n",
       "    .dataframe tbody tr th {\n",
       "        vertical-align: top;\n",
       "    }\n",
       "\n",
       "    .dataframe thead th {\n",
       "        text-align: right;\n",
       "    }\n",
       "</style>\n",
       "<table border=\"1\" class=\"dataframe\">\n",
       "  <thead>\n",
       "    <tr style=\"text-align: right;\">\n",
       "      <th></th>\n",
       "      <th>State</th>\n",
       "      <th>Population</th>\n",
       "      <th>Lockdown Start</th>\n",
       "      <th>Initial Expected Lockdown End</th>\n",
       "      <th>Phase 1 Re-Opening Start</th>\n",
       "      <th>Political Alignment</th>\n",
       "    </tr>\n",
       "  </thead>\n",
       "  <tbody>\n",
       "    <tr>\n",
       "      <th>0</th>\n",
       "      <td>AK</td>\n",
       "      <td>731,545</td>\n",
       "      <td>3/23/2020</td>\n",
       "      <td>3/30/2020</td>\n",
       "      <td>4/24/2020</td>\n",
       "      <td>Red</td>\n",
       "    </tr>\n",
       "    <tr>\n",
       "      <th>1</th>\n",
       "      <td>AL</td>\n",
       "      <td>4,903,185</td>\n",
       "      <td>4/4/2020</td>\n",
       "      <td>4/30/2020</td>\n",
       "      <td>4/30/2020</td>\n",
       "      <td>Red</td>\n",
       "    </tr>\n",
       "    <tr>\n",
       "      <th>2</th>\n",
       "      <td>AR</td>\n",
       "      <td>3,017,804</td>\n",
       "      <td>3/15/2020</td>\n",
       "      <td>3/27/2020</td>\n",
       "      <td>6/5/2020</td>\n",
       "      <td>Red</td>\n",
       "    </tr>\n",
       "    <tr>\n",
       "      <th>3</th>\n",
       "      <td>AZ</td>\n",
       "      <td>7,278,717</td>\n",
       "      <td>4/30/2020</td>\n",
       "      <td>5/15/2020</td>\n",
       "      <td>5/18/2020</td>\n",
       "      <td>Blue</td>\n",
       "    </tr>\n",
       "    <tr>\n",
       "      <th>4</th>\n",
       "      <td>CA</td>\n",
       "      <td>39,512,223</td>\n",
       "      <td>3/19/2020</td>\n",
       "      <td>4/2/2020</td>\n",
       "      <td>5/13/2020</td>\n",
       "      <td>Blue</td>\n",
       "    </tr>\n",
       "  </tbody>\n",
       "</table>\n",
       "</div>"
      ],
      "text/plain": [
       "  State  Population Lockdown Start Initial Expected Lockdown End  \\\n",
       "0    AK     731,545      3/23/2020                     3/30/2020   \n",
       "1    AL   4,903,185       4/4/2020                     4/30/2020   \n",
       "2    AR   3,017,804      3/15/2020                     3/27/2020   \n",
       "3    AZ   7,278,717      4/30/2020                     5/15/2020   \n",
       "4    CA  39,512,223      3/19/2020                      4/2/2020   \n",
       "\n",
       "  Phase 1 Re-Opening Start Political Alignment  \n",
       "0                4/24/2020                 Red  \n",
       "1                4/30/2020                 Red  \n",
       "2                 6/5/2020                 Red  \n",
       "3                5/18/2020                Blue  \n",
       "4                5/13/2020                Blue  "
      ]
     },
     "execution_count": 4,
     "metadata": {},
     "output_type": "execute_result"
    }
   ],
   "source": [
    "states_df = pd.read_csv(load_states)\n",
    "states_df.head()"
   ]
  },
  {
   "cell_type": "code",
   "execution_count": 6,
   "id": "2096fdcd",
   "metadata": {},
   "outputs": [
    {
     "data": {
      "text/html": [
       "<div>\n",
       "<style scoped>\n",
       "    .dataframe tbody tr th:only-of-type {\n",
       "        vertical-align: middle;\n",
       "    }\n",
       "\n",
       "    .dataframe tbody tr th {\n",
       "        vertical-align: top;\n",
       "    }\n",
       "\n",
       "    .dataframe thead th {\n",
       "        text-align: right;\n",
       "    }\n",
       "</style>\n",
       "<table border=\"1\" class=\"dataframe\">\n",
       "  <thead>\n",
       "    <tr style=\"text-align: right;\">\n",
       "      <th></th>\n",
       "      <th>Unnamed: 0</th>\n",
       "      <th>Order Number</th>\n",
       "      <th>Company Name</th>\n",
       "      <th>Ship Date</th>\n",
       "      <th>City</th>\n",
       "      <th>Created Date</th>\n",
       "      <th>Item/Bottle Count</th>\n",
       "      <th>Weight</th>\n",
       "    </tr>\n",
       "    <tr>\n",
       "      <th>State</th>\n",
       "      <th></th>\n",
       "      <th></th>\n",
       "      <th></th>\n",
       "      <th></th>\n",
       "      <th></th>\n",
       "      <th></th>\n",
       "      <th></th>\n",
       "      <th></th>\n",
       "    </tr>\n",
       "  </thead>\n",
       "  <tbody>\n",
       "    <tr>\n",
       "      <th>PA</th>\n",
       "      <td>0</td>\n",
       "      <td>0</td>\n",
       "      <td>Ecom3</td>\n",
       "      <td>11/19/19</td>\n",
       "      <td>STEELTON</td>\n",
       "      <td>11/18/19</td>\n",
       "      <td>6.0</td>\n",
       "      <td>18.0</td>\n",
       "    </tr>\n",
       "    <tr>\n",
       "      <th>FL</th>\n",
       "      <td>1</td>\n",
       "      <td>1</td>\n",
       "      <td>Ecom3</td>\n",
       "      <td>11/15/19</td>\n",
       "      <td>CORAL GABLES</td>\n",
       "      <td>11/14/19</td>\n",
       "      <td>12.0</td>\n",
       "      <td>36.0</td>\n",
       "    </tr>\n",
       "    <tr>\n",
       "      <th>IL</th>\n",
       "      <td>2</td>\n",
       "      <td>2</td>\n",
       "      <td>Ecom3</td>\n",
       "      <td>11/14/19</td>\n",
       "      <td>CHICAGO</td>\n",
       "      <td>11/13/19</td>\n",
       "      <td>6.0</td>\n",
       "      <td>18.0</td>\n",
       "    </tr>\n",
       "    <tr>\n",
       "      <th>NJ</th>\n",
       "      <td>3</td>\n",
       "      <td>3</td>\n",
       "      <td>Ecom3</td>\n",
       "      <td>11/15/19</td>\n",
       "      <td>Rumson</td>\n",
       "      <td>11/14/19</td>\n",
       "      <td>12.0</td>\n",
       "      <td>36.0</td>\n",
       "    </tr>\n",
       "    <tr>\n",
       "      <th>MD</th>\n",
       "      <td>4</td>\n",
       "      <td>4</td>\n",
       "      <td>Ecom3</td>\n",
       "      <td>11/14/19</td>\n",
       "      <td>PASADENA</td>\n",
       "      <td>11/13/19</td>\n",
       "      <td>6.0</td>\n",
       "      <td>18.0</td>\n",
       "    </tr>\n",
       "  </tbody>\n",
       "</table>\n",
       "</div>"
      ],
      "text/plain": [
       "       Unnamed: 0  Order Number Company Name Ship Date          City  \\\n",
       "State                                                                  \n",
       "PA              0             0        Ecom3  11/19/19      STEELTON   \n",
       "FL              1             1        Ecom3  11/15/19  CORAL GABLES   \n",
       "IL              2             2        Ecom3  11/14/19       CHICAGO   \n",
       "NJ              3             3        Ecom3  11/15/19        Rumson   \n",
       "MD              4             4        Ecom3  11/14/19      PASADENA   \n",
       "\n",
       "      Created Date  Item/Bottle Count  Weight  \n",
       "State                                          \n",
       "PA        11/18/19                6.0    18.0  \n",
       "FL        11/14/19               12.0    36.0  \n",
       "IL        11/13/19                6.0    18.0  \n",
       "NJ        11/14/19               12.0    36.0  \n",
       "MD        11/13/19                6.0    18.0  "
      ]
     },
     "execution_count": 6,
     "metadata": {},
     "output_type": "execute_result"
    }
   ],
   "source": [
    "df_2019 = pd.read_csv(load_2019, index_col=[\"State\"])\n",
    "df_2019.head()"
   ]
  },
  {
   "cell_type": "code",
   "execution_count": 7,
   "id": "53919cf2",
   "metadata": {},
   "outputs": [
    {
     "data": {
      "text/html": [
       "<div>\n",
       "<style scoped>\n",
       "    .dataframe tbody tr th:only-of-type {\n",
       "        vertical-align: middle;\n",
       "    }\n",
       "\n",
       "    .dataframe tbody tr th {\n",
       "        vertical-align: top;\n",
       "    }\n",
       "\n",
       "    .dataframe thead th {\n",
       "        text-align: right;\n",
       "    }\n",
       "</style>\n",
       "<table border=\"1\" class=\"dataframe\">\n",
       "  <thead>\n",
       "    <tr style=\"text-align: right;\">\n",
       "      <th></th>\n",
       "      <th>Unnamed: 0</th>\n",
       "      <th>Order Number</th>\n",
       "      <th>Company Name</th>\n",
       "      <th>Ship Date</th>\n",
       "      <th>City</th>\n",
       "      <th>Created Date</th>\n",
       "      <th>Item/Bottle Count</th>\n",
       "      <th>Weight</th>\n",
       "      <th>Population</th>\n",
       "      <th>Lockdown Start</th>\n",
       "      <th>Initial Expected Lockdown End</th>\n",
       "      <th>Phase 1 Re-Opening Start</th>\n",
       "      <th>Political Alignment</th>\n",
       "    </tr>\n",
       "    <tr>\n",
       "      <th>State</th>\n",
       "      <th></th>\n",
       "      <th></th>\n",
       "      <th></th>\n",
       "      <th></th>\n",
       "      <th></th>\n",
       "      <th></th>\n",
       "      <th></th>\n",
       "      <th></th>\n",
       "      <th></th>\n",
       "      <th></th>\n",
       "      <th></th>\n",
       "      <th></th>\n",
       "      <th></th>\n",
       "    </tr>\n",
       "  </thead>\n",
       "  <tbody>\n",
       "    <tr>\n",
       "      <th>PA</th>\n",
       "      <td>0</td>\n",
       "      <td>0</td>\n",
       "      <td>Ecom3</td>\n",
       "      <td>11/19/19</td>\n",
       "      <td>STEELTON</td>\n",
       "      <td>11/18/19</td>\n",
       "      <td>6.0</td>\n",
       "      <td>18.0</td>\n",
       "      <td>12,801,989</td>\n",
       "      <td>3/23/2020</td>\n",
       "      <td>4/30/2020</td>\n",
       "      <td>5/15/2020</td>\n",
       "      <td>Blue</td>\n",
       "    </tr>\n",
       "    <tr>\n",
       "      <th>FL</th>\n",
       "      <td>1</td>\n",
       "      <td>1</td>\n",
       "      <td>Ecom3</td>\n",
       "      <td>11/15/19</td>\n",
       "      <td>CORAL GABLES</td>\n",
       "      <td>11/14/19</td>\n",
       "      <td>12.0</td>\n",
       "      <td>36.0</td>\n",
       "      <td>21,477,737</td>\n",
       "      <td>4/1/2020</td>\n",
       "      <td>5/1/2020</td>\n",
       "      <td>9/25/2020</td>\n",
       "      <td>Red</td>\n",
       "    </tr>\n",
       "    <tr>\n",
       "      <th>IL</th>\n",
       "      <td>2</td>\n",
       "      <td>2</td>\n",
       "      <td>Ecom3</td>\n",
       "      <td>11/14/19</td>\n",
       "      <td>CHICAGO</td>\n",
       "      <td>11/13/19</td>\n",
       "      <td>6.0</td>\n",
       "      <td>18.0</td>\n",
       "      <td>12,671,821</td>\n",
       "      <td>3/20/2020</td>\n",
       "      <td>3/30/2020</td>\n",
       "      <td>5/5/2020</td>\n",
       "      <td>Blue</td>\n",
       "    </tr>\n",
       "    <tr>\n",
       "      <th>NJ</th>\n",
       "      <td>3</td>\n",
       "      <td>3</td>\n",
       "      <td>Ecom3</td>\n",
       "      <td>11/15/19</td>\n",
       "      <td>Rumson</td>\n",
       "      <td>11/14/19</td>\n",
       "      <td>12.0</td>\n",
       "      <td>36.0</td>\n",
       "      <td>8,882,190</td>\n",
       "      <td>3/21/2020</td>\n",
       "      <td>1/1/1111</td>\n",
       "      <td>5/12/2020</td>\n",
       "      <td>Blue</td>\n",
       "    </tr>\n",
       "    <tr>\n",
       "      <th>MD</th>\n",
       "      <td>4</td>\n",
       "      <td>4</td>\n",
       "      <td>Ecom3</td>\n",
       "      <td>11/14/19</td>\n",
       "      <td>PASADENA</td>\n",
       "      <td>11/13/19</td>\n",
       "      <td>6.0</td>\n",
       "      <td>18.0</td>\n",
       "      <td>6,045,680</td>\n",
       "      <td>3/12/2020</td>\n",
       "      <td>3/27/2020</td>\n",
       "      <td>5/13/2020</td>\n",
       "      <td>Blue</td>\n",
       "    </tr>\n",
       "  </tbody>\n",
       "</table>\n",
       "</div>"
      ],
      "text/plain": [
       "       Unnamed: 0  Order Number Company Name Ship Date          City  \\\n",
       "State                                                                  \n",
       "PA              0             0        Ecom3  11/19/19      STEELTON   \n",
       "FL              1             1        Ecom3  11/15/19  CORAL GABLES   \n",
       "IL              2             2        Ecom3  11/14/19       CHICAGO   \n",
       "NJ              3             3        Ecom3  11/15/19        Rumson   \n",
       "MD              4             4        Ecom3  11/14/19      PASADENA   \n",
       "\n",
       "      Created Date  Item/Bottle Count  Weight  Population Lockdown Start  \\\n",
       "State                                                                      \n",
       "PA        11/18/19                6.0    18.0  12,801,989      3/23/2020   \n",
       "FL        11/14/19               12.0    36.0  21,477,737       4/1/2020   \n",
       "IL        11/13/19                6.0    18.0  12,671,821      3/20/2020   \n",
       "NJ        11/14/19               12.0    36.0   8,882,190      3/21/2020   \n",
       "MD        11/13/19                6.0    18.0   6,045,680      3/12/2020   \n",
       "\n",
       "      Initial Expected Lockdown End Phase 1 Re-Opening Start  \\\n",
       "State                                                          \n",
       "PA                        4/30/2020                5/15/2020   \n",
       "FL                         5/1/2020                9/25/2020   \n",
       "IL                        3/30/2020                 5/5/2020   \n",
       "NJ                         1/1/1111                5/12/2020   \n",
       "MD                        3/27/2020                5/13/2020   \n",
       "\n",
       "      Political Alignment  \n",
       "State                      \n",
       "PA                   Blue  \n",
       "FL                    Red  \n",
       "IL                   Blue  \n",
       "NJ                   Blue  \n",
       "MD                   Blue  "
      ]
     },
     "execution_count": 7,
     "metadata": {},
     "output_type": "execute_result"
    }
   ],
   "source": [
    "#Join states and 2019 df on \"State\"\n",
    "states_2019 = df_2019.join(states_df.set_index (\"State\"), on = \"State\")\n",
    "states_2019.head()"
   ]
  },
  {
   "cell_type": "code",
   "execution_count": 8,
   "id": "4364147b",
   "metadata": {},
   "outputs": [
    {
     "data": {
      "text/plain": [
       "Unnamed: 0                       155167\n",
       "Order Number                     155167\n",
       "Company Name                     155167\n",
       "Ship Date                        155167\n",
       "City                             155167\n",
       "Created Date                     155167\n",
       "Item/Bottle Count                155167\n",
       "Weight                           155167\n",
       "Population                       155167\n",
       "Lockdown Start                   155167\n",
       "Initial Expected Lockdown End    155167\n",
       "Phase 1 Re-Opening Start         155167\n",
       "Political Alignment              155167\n",
       "dtype: int64"
      ]
     },
     "execution_count": 8,
     "metadata": {},
     "output_type": "execute_result"
    }
   ],
   "source": [
    "states_2019.count()"
   ]
  },
  {
   "cell_type": "code",
   "execution_count": 9,
   "id": "39b430d0",
   "metadata": {},
   "outputs": [
    {
     "data": {
      "text/html": [
       "<div>\n",
       "<style scoped>\n",
       "    .dataframe tbody tr th:only-of-type {\n",
       "        vertical-align: middle;\n",
       "    }\n",
       "\n",
       "    .dataframe tbody tr th {\n",
       "        vertical-align: top;\n",
       "    }\n",
       "\n",
       "    .dataframe thead th {\n",
       "        text-align: right;\n",
       "    }\n",
       "</style>\n",
       "<table border=\"1\" class=\"dataframe\">\n",
       "  <thead>\n",
       "    <tr style=\"text-align: right;\">\n",
       "      <th></th>\n",
       "      <th>Unnamed: 0</th>\n",
       "      <th>Order Number</th>\n",
       "      <th>Company Name</th>\n",
       "      <th>Ship Date</th>\n",
       "      <th>City</th>\n",
       "      <th>Created Date</th>\n",
       "      <th>Item/Bottle Count</th>\n",
       "      <th>Weight</th>\n",
       "      <th>Population</th>\n",
       "      <th>Lockdown Start</th>\n",
       "      <th>Initial Expected Lockdown End</th>\n",
       "      <th>Phase 1 Re-Opening Start</th>\n",
       "      <th>Political Alignment</th>\n",
       "    </tr>\n",
       "    <tr>\n",
       "      <th>State</th>\n",
       "      <th></th>\n",
       "      <th></th>\n",
       "      <th></th>\n",
       "      <th></th>\n",
       "      <th></th>\n",
       "      <th></th>\n",
       "      <th></th>\n",
       "      <th></th>\n",
       "      <th></th>\n",
       "      <th></th>\n",
       "      <th></th>\n",
       "      <th></th>\n",
       "      <th></th>\n",
       "    </tr>\n",
       "  </thead>\n",
       "  <tbody>\n",
       "    <tr>\n",
       "      <th>FL</th>\n",
       "      <td>155157</td>\n",
       "      <td>155157</td>\n",
       "      <td>Ecom2</td>\n",
       "      <td>12/29/19</td>\n",
       "      <td>Clearwater</td>\n",
       "      <td>12/28/19</td>\n",
       "      <td>2.0</td>\n",
       "      <td>6.0</td>\n",
       "      <td>21,477,737</td>\n",
       "      <td>4/1/2020</td>\n",
       "      <td>5/1/2020</td>\n",
       "      <td>9/25/2020</td>\n",
       "      <td>Red</td>\n",
       "    </tr>\n",
       "    <tr>\n",
       "      <th>PA</th>\n",
       "      <td>155158</td>\n",
       "      <td>155158</td>\n",
       "      <td>Ecom2</td>\n",
       "      <td>12/29/19</td>\n",
       "      <td>Canonsburg</td>\n",
       "      <td>12/28/19</td>\n",
       "      <td>2.0</td>\n",
       "      <td>6.0</td>\n",
       "      <td>12,801,989</td>\n",
       "      <td>3/23/2020</td>\n",
       "      <td>4/30/2020</td>\n",
       "      <td>5/15/2020</td>\n",
       "      <td>Blue</td>\n",
       "    </tr>\n",
       "    <tr>\n",
       "      <th>WI</th>\n",
       "      <td>155159</td>\n",
       "      <td>155159</td>\n",
       "      <td>Ecom2</td>\n",
       "      <td>12/29/19</td>\n",
       "      <td>Tomah</td>\n",
       "      <td>12/28/19</td>\n",
       "      <td>2.0</td>\n",
       "      <td>6.0</td>\n",
       "      <td>5,822,434</td>\n",
       "      <td>3/24/2020</td>\n",
       "      <td>4/24/2020</td>\n",
       "      <td>5/26/2020</td>\n",
       "      <td>Blue</td>\n",
       "    </tr>\n",
       "    <tr>\n",
       "      <th>FL</th>\n",
       "      <td>155160</td>\n",
       "      <td>155160</td>\n",
       "      <td>Ecom2</td>\n",
       "      <td>12/29/19</td>\n",
       "      <td>Clearwater</td>\n",
       "      <td>12/28/19</td>\n",
       "      <td>2.0</td>\n",
       "      <td>6.0</td>\n",
       "      <td>21,477,737</td>\n",
       "      <td>4/1/2020</td>\n",
       "      <td>5/1/2020</td>\n",
       "      <td>9/25/2020</td>\n",
       "      <td>Red</td>\n",
       "    </tr>\n",
       "    <tr>\n",
       "      <th>AZ</th>\n",
       "      <td>155161</td>\n",
       "      <td>155161</td>\n",
       "      <td>Ecom2</td>\n",
       "      <td>12/29/19</td>\n",
       "      <td>Phoenix</td>\n",
       "      <td>12/28/19</td>\n",
       "      <td>2.0</td>\n",
       "      <td>6.0</td>\n",
       "      <td>7,278,717</td>\n",
       "      <td>4/30/2020</td>\n",
       "      <td>5/15/2020</td>\n",
       "      <td>5/18/2020</td>\n",
       "      <td>Blue</td>\n",
       "    </tr>\n",
       "    <tr>\n",
       "      <th>FL</th>\n",
       "      <td>155162</td>\n",
       "      <td>155162</td>\n",
       "      <td>Ecom2</td>\n",
       "      <td>12/30/19</td>\n",
       "      <td>Miami Beach</td>\n",
       "      <td>12/29/19</td>\n",
       "      <td>2.0</td>\n",
       "      <td>6.0</td>\n",
       "      <td>21,477,737</td>\n",
       "      <td>4/1/2020</td>\n",
       "      <td>5/1/2020</td>\n",
       "      <td>9/25/2020</td>\n",
       "      <td>Red</td>\n",
       "    </tr>\n",
       "    <tr>\n",
       "      <th>NC</th>\n",
       "      <td>155163</td>\n",
       "      <td>155163</td>\n",
       "      <td>Ecom2</td>\n",
       "      <td>12/30/19</td>\n",
       "      <td>Mooresville</td>\n",
       "      <td>12/29/19</td>\n",
       "      <td>2.0</td>\n",
       "      <td>6.0</td>\n",
       "      <td>10,488,084</td>\n",
       "      <td>3/30/2020</td>\n",
       "      <td>4/29/2020</td>\n",
       "      <td>5/20/2020</td>\n",
       "      <td>Red</td>\n",
       "    </tr>\n",
       "    <tr>\n",
       "      <th>FL</th>\n",
       "      <td>155164</td>\n",
       "      <td>155164</td>\n",
       "      <td>Ecom2</td>\n",
       "      <td>12/30/19</td>\n",
       "      <td>Jupiter</td>\n",
       "      <td>12/29/19</td>\n",
       "      <td>2.0</td>\n",
       "      <td>6.0</td>\n",
       "      <td>21,477,737</td>\n",
       "      <td>4/1/2020</td>\n",
       "      <td>5/1/2020</td>\n",
       "      <td>9/25/2020</td>\n",
       "      <td>Red</td>\n",
       "    </tr>\n",
       "    <tr>\n",
       "      <th>TX</th>\n",
       "      <td>155165</td>\n",
       "      <td>155165</td>\n",
       "      <td>Ecom2</td>\n",
       "      <td>12/30/19</td>\n",
       "      <td>Houston</td>\n",
       "      <td>12/29/19</td>\n",
       "      <td>2.0</td>\n",
       "      <td>6.0</td>\n",
       "      <td>28,995,881</td>\n",
       "      <td>3/31/2020</td>\n",
       "      <td>5/4/2020</td>\n",
       "      <td>5/1/2020</td>\n",
       "      <td>Red</td>\n",
       "    </tr>\n",
       "    <tr>\n",
       "      <th>TX</th>\n",
       "      <td>155166</td>\n",
       "      <td>155166</td>\n",
       "      <td>Ecom2</td>\n",
       "      <td>12/30/19</td>\n",
       "      <td>Fort Worth</td>\n",
       "      <td>12/29/19</td>\n",
       "      <td>2.0</td>\n",
       "      <td>6.0</td>\n",
       "      <td>28,995,881</td>\n",
       "      <td>3/31/2020</td>\n",
       "      <td>5/4/2020</td>\n",
       "      <td>5/1/2020</td>\n",
       "      <td>Red</td>\n",
       "    </tr>\n",
       "  </tbody>\n",
       "</table>\n",
       "</div>"
      ],
      "text/plain": [
       "       Unnamed: 0  Order Number Company Name Ship Date         City  \\\n",
       "State                                                                 \n",
       "FL         155157        155157        Ecom2  12/29/19   Clearwater   \n",
       "PA         155158        155158        Ecom2  12/29/19   Canonsburg   \n",
       "WI         155159        155159        Ecom2  12/29/19        Tomah   \n",
       "FL         155160        155160        Ecom2  12/29/19   Clearwater   \n",
       "AZ         155161        155161        Ecom2  12/29/19      Phoenix   \n",
       "FL         155162        155162        Ecom2  12/30/19  Miami Beach   \n",
       "NC         155163        155163        Ecom2  12/30/19  Mooresville   \n",
       "FL         155164        155164        Ecom2  12/30/19      Jupiter   \n",
       "TX         155165        155165        Ecom2  12/30/19      Houston   \n",
       "TX         155166        155166        Ecom2  12/30/19   Fort Worth   \n",
       "\n",
       "      Created Date  Item/Bottle Count  Weight  Population Lockdown Start  \\\n",
       "State                                                                      \n",
       "FL        12/28/19                2.0     6.0  21,477,737       4/1/2020   \n",
       "PA        12/28/19                2.0     6.0  12,801,989      3/23/2020   \n",
       "WI        12/28/19                2.0     6.0   5,822,434      3/24/2020   \n",
       "FL        12/28/19                2.0     6.0  21,477,737       4/1/2020   \n",
       "AZ        12/28/19                2.0     6.0   7,278,717      4/30/2020   \n",
       "FL        12/29/19                2.0     6.0  21,477,737       4/1/2020   \n",
       "NC        12/29/19                2.0     6.0  10,488,084      3/30/2020   \n",
       "FL        12/29/19                2.0     6.0  21,477,737       4/1/2020   \n",
       "TX        12/29/19                2.0     6.0  28,995,881      3/31/2020   \n",
       "TX        12/29/19                2.0     6.0  28,995,881      3/31/2020   \n",
       "\n",
       "      Initial Expected Lockdown End Phase 1 Re-Opening Start  \\\n",
       "State                                                          \n",
       "FL                         5/1/2020                9/25/2020   \n",
       "PA                        4/30/2020                5/15/2020   \n",
       "WI                        4/24/2020                5/26/2020   \n",
       "FL                         5/1/2020                9/25/2020   \n",
       "AZ                        5/15/2020                5/18/2020   \n",
       "FL                         5/1/2020                9/25/2020   \n",
       "NC                        4/29/2020                5/20/2020   \n",
       "FL                         5/1/2020                9/25/2020   \n",
       "TX                         5/4/2020                 5/1/2020   \n",
       "TX                         5/4/2020                 5/1/2020   \n",
       "\n",
       "      Political Alignment  \n",
       "State                      \n",
       "FL                    Red  \n",
       "PA                   Blue  \n",
       "WI                   Blue  \n",
       "FL                    Red  \n",
       "AZ                   Blue  \n",
       "FL                    Red  \n",
       "NC                    Red  \n",
       "FL                    Red  \n",
       "TX                    Red  \n",
       "TX                    Red  "
      ]
     },
     "execution_count": 9,
     "metadata": {},
     "output_type": "execute_result"
    }
   ],
   "source": [
    "states_2019.tail(10)"
   ]
  },
  {
   "cell_type": "code",
   "execution_count": 10,
   "id": "0f26f0da",
   "metadata": {},
   "outputs": [
    {
     "data": {
      "text/plain": [
       "961409.0"
      ]
     },
     "execution_count": 10,
     "metadata": {},
     "output_type": "execute_result"
    }
   ],
   "source": [
    "# Calculate the total 2019 Item/Bottle Count.\n",
    "total_count_2019 = states_2019[\"Item/Bottle Count\"].sum()\n",
    "total_count_2019"
   ]
  },
  {
   "cell_type": "markdown",
   "id": "524ec36c",
   "metadata": {},
   "source": [
    "## Slice Each State Into its Own Dataframe and Calculate Total Item/Bottle Count 2019."
   ]
  },
  {
   "cell_type": "code",
   "execution_count": 149,
   "id": "58c00b7b",
   "metadata": {},
   "outputs": [
    {
     "data": {
      "text/html": [
       "<div>\n",
       "<style scoped>\n",
       "    .dataframe tbody tr th:only-of-type {\n",
       "        vertical-align: middle;\n",
       "    }\n",
       "\n",
       "    .dataframe tbody tr th {\n",
       "        vertical-align: top;\n",
       "    }\n",
       "\n",
       "    .dataframe thead th {\n",
       "        text-align: right;\n",
       "    }\n",
       "</style>\n",
       "<table border=\"1\" class=\"dataframe\">\n",
       "  <thead>\n",
       "    <tr style=\"text-align: right;\">\n",
       "      <th></th>\n",
       "      <th>Unnamed: 0</th>\n",
       "      <th>Order Number</th>\n",
       "      <th>Item/Bottle Count</th>\n",
       "      <th>Weight</th>\n",
       "    </tr>\n",
       "    <tr>\n",
       "      <th>State</th>\n",
       "      <th></th>\n",
       "      <th></th>\n",
       "      <th></th>\n",
       "      <th></th>\n",
       "    </tr>\n",
       "  </thead>\n",
       "  <tbody>\n",
       "    <tr>\n",
       "      <th>AK</th>\n",
       "      <td>12075149</td>\n",
       "      <td>12075149</td>\n",
       "      <td>1665.0</td>\n",
       "      <td>4995.0</td>\n",
       "    </tr>\n",
       "    <tr>\n",
       "      <th>AL</th>\n",
       "      <td>35494138</td>\n",
       "      <td>35494138</td>\n",
       "      <td>1751.0</td>\n",
       "      <td>5249.0</td>\n",
       "    </tr>\n",
       "    <tr>\n",
       "      <th>AR</th>\n",
       "      <td>35084337</td>\n",
       "      <td>35084337</td>\n",
       "      <td>5111.0</td>\n",
       "      <td>15381.0</td>\n",
       "    </tr>\n",
       "    <tr>\n",
       "      <th>AZ</th>\n",
       "      <td>188621955</td>\n",
       "      <td>188621955</td>\n",
       "      <td>12787.0</td>\n",
       "      <td>38438.5</td>\n",
       "    </tr>\n",
       "    <tr>\n",
       "      <th>CA</th>\n",
       "      <td>1396726502</td>\n",
       "      <td>1396726502</td>\n",
       "      <td>141262.0</td>\n",
       "      <td>425711.5</td>\n",
       "    </tr>\n",
       "  </tbody>\n",
       "</table>\n",
       "</div>"
      ],
      "text/plain": [
       "       Unnamed: 0  Order Number  Item/Bottle Count    Weight\n",
       "State                                                       \n",
       "AK       12075149      12075149             1665.0    4995.0\n",
       "AL       35494138      35494138             1751.0    5249.0\n",
       "AR       35084337      35084337             5111.0   15381.0\n",
       "AZ      188621955     188621955            12787.0   38438.5\n",
       "CA     1396726502    1396726502           141262.0  425711.5"
      ]
     },
     "execution_count": 149,
     "metadata": {},
     "output_type": "execute_result"
    }
   ],
   "source": [
    "# Use .groupby() to find item/bottle count .sum() for each state\n",
    "total_bottles_by_state_2019 = states_2019.groupby([\"State\"]).sum()\n",
    "total_bottles_by_state_2019.head(5)"
   ]
  },
  {
   "cell_type": "code",
   "execution_count": 151,
   "id": "19dc0687",
   "metadata": {},
   "outputs": [
    {
     "data": {
      "text/html": [
       "<div>\n",
       "<style scoped>\n",
       "    .dataframe tbody tr th:only-of-type {\n",
       "        vertical-align: middle;\n",
       "    }\n",
       "\n",
       "    .dataframe tbody tr th {\n",
       "        vertical-align: top;\n",
       "    }\n",
       "\n",
       "    .dataframe thead th {\n",
       "        text-align: right;\n",
       "    }\n",
       "</style>\n",
       "<table border=\"1\" class=\"dataframe\">\n",
       "  <thead>\n",
       "    <tr style=\"text-align: right;\">\n",
       "      <th></th>\n",
       "      <th>Unnamed: 0</th>\n",
       "      <th>Order Number</th>\n",
       "      <th>Item/Bottle Count</th>\n",
       "      <th>Weight</th>\n",
       "      <th>Population</th>\n",
       "      <th>Lockdown Start</th>\n",
       "      <th>Initial Expected Lockdown End</th>\n",
       "      <th>Phase 1 Re-Opening Start</th>\n",
       "      <th>Political Alignment</th>\n",
       "    </tr>\n",
       "    <tr>\n",
       "      <th>State</th>\n",
       "      <th></th>\n",
       "      <th></th>\n",
       "      <th></th>\n",
       "      <th></th>\n",
       "      <th></th>\n",
       "      <th></th>\n",
       "      <th></th>\n",
       "      <th></th>\n",
       "      <th></th>\n",
       "    </tr>\n",
       "  </thead>\n",
       "  <tbody>\n",
       "    <tr>\n",
       "      <th>AK</th>\n",
       "      <td>12075149</td>\n",
       "      <td>12075149</td>\n",
       "      <td>1665.0</td>\n",
       "      <td>4995.0</td>\n",
       "      <td>731,545</td>\n",
       "      <td>3/23/2020</td>\n",
       "      <td>3/30/2020</td>\n",
       "      <td>4/24/2020</td>\n",
       "      <td>Red</td>\n",
       "    </tr>\n",
       "    <tr>\n",
       "      <th>AL</th>\n",
       "      <td>35494138</td>\n",
       "      <td>35494138</td>\n",
       "      <td>1751.0</td>\n",
       "      <td>5249.0</td>\n",
       "      <td>4,903,185</td>\n",
       "      <td>4/4/2020</td>\n",
       "      <td>4/30/2020</td>\n",
       "      <td>4/30/2020</td>\n",
       "      <td>Red</td>\n",
       "    </tr>\n",
       "    <tr>\n",
       "      <th>AR</th>\n",
       "      <td>35084337</td>\n",
       "      <td>35084337</td>\n",
       "      <td>5111.0</td>\n",
       "      <td>15381.0</td>\n",
       "      <td>3,017,804</td>\n",
       "      <td>3/15/2020</td>\n",
       "      <td>3/27/2020</td>\n",
       "      <td>6/5/2020</td>\n",
       "      <td>Red</td>\n",
       "    </tr>\n",
       "    <tr>\n",
       "      <th>AZ</th>\n",
       "      <td>188621955</td>\n",
       "      <td>188621955</td>\n",
       "      <td>12787.0</td>\n",
       "      <td>38438.5</td>\n",
       "      <td>7,278,717</td>\n",
       "      <td>4/30/2020</td>\n",
       "      <td>5/15/2020</td>\n",
       "      <td>5/18/2020</td>\n",
       "      <td>Blue</td>\n",
       "    </tr>\n",
       "    <tr>\n",
       "      <th>CA</th>\n",
       "      <td>1396726502</td>\n",
       "      <td>1396726502</td>\n",
       "      <td>141262.0</td>\n",
       "      <td>425711.5</td>\n",
       "      <td>39,512,223</td>\n",
       "      <td>3/19/2020</td>\n",
       "      <td>4/2/2020</td>\n",
       "      <td>5/13/2020</td>\n",
       "      <td>Blue</td>\n",
       "    </tr>\n",
       "    <tr>\n",
       "      <th>CO</th>\n",
       "      <td>298551287</td>\n",
       "      <td>298551287</td>\n",
       "      <td>20038.0</td>\n",
       "      <td>60227.5</td>\n",
       "      <td>5,758,736</td>\n",
       "      <td>3/26/2020</td>\n",
       "      <td>4/26/2020</td>\n",
       "      <td>4/26/2020</td>\n",
       "      <td>Blue</td>\n",
       "    </tr>\n",
       "    <tr>\n",
       "      <th>CT</th>\n",
       "      <td>229375511</td>\n",
       "      <td>229375511</td>\n",
       "      <td>14319.0</td>\n",
       "      <td>43154.5</td>\n",
       "      <td>3,565,287</td>\n",
       "      <td>3/23/2020</td>\n",
       "      <td>4/22/2020</td>\n",
       "      <td>5/20/2020</td>\n",
       "      <td>Blue</td>\n",
       "    </tr>\n",
       "    <tr>\n",
       "      <th>DC</th>\n",
       "      <td>109897429</td>\n",
       "      <td>109897429</td>\n",
       "      <td>5585.0</td>\n",
       "      <td>16795.0</td>\n",
       "      <td>705,749</td>\n",
       "      <td>4/1/2020</td>\n",
       "      <td>4/24/2020</td>\n",
       "      <td>5/29/2020</td>\n",
       "      <td>Blue</td>\n",
       "    </tr>\n",
       "    <tr>\n",
       "      <th>DE</th>\n",
       "      <td>13697723</td>\n",
       "      <td>13697723</td>\n",
       "      <td>644.0</td>\n",
       "      <td>1930.0</td>\n",
       "      <td>973,764</td>\n",
       "      <td>3/24/2020</td>\n",
       "      <td>5/8/2020</td>\n",
       "      <td>5/31/2020</td>\n",
       "      <td>Blue</td>\n",
       "    </tr>\n",
       "    <tr>\n",
       "      <th>FL</th>\n",
       "      <td>673654714</td>\n",
       "      <td>673654714</td>\n",
       "      <td>55780.0</td>\n",
       "      <td>168346.0</td>\n",
       "      <td>21,477,737</td>\n",
       "      <td>4/1/2020</td>\n",
       "      <td>5/1/2020</td>\n",
       "      <td>9/25/2020</td>\n",
       "      <td>Red</td>\n",
       "    </tr>\n",
       "    <tr>\n",
       "      <th>GA</th>\n",
       "      <td>325506230</td>\n",
       "      <td>325506230</td>\n",
       "      <td>22353.0</td>\n",
       "      <td>67346.5</td>\n",
       "      <td>10,617,423</td>\n",
       "      <td>4/3/2020</td>\n",
       "      <td>4/30/2020</td>\n",
       "      <td>4/30/2020</td>\n",
       "      <td>Blue</td>\n",
       "    </tr>\n",
       "    <tr>\n",
       "      <th>HI</th>\n",
       "      <td>44802102</td>\n",
       "      <td>44802102</td>\n",
       "      <td>5517.0</td>\n",
       "      <td>16599.0</td>\n",
       "      <td>1,415,872</td>\n",
       "      <td>3/23/2020</td>\n",
       "      <td>4/30/2020</td>\n",
       "      <td>5/5/2020</td>\n",
       "      <td>Blue</td>\n",
       "    </tr>\n",
       "    <tr>\n",
       "      <th>IA</th>\n",
       "      <td>54731991</td>\n",
       "      <td>54731991</td>\n",
       "      <td>3605.0</td>\n",
       "      <td>10918.0</td>\n",
       "      <td>3,155,070</td>\n",
       "      <td>1/1/1111</td>\n",
       "      <td>1/1/1111</td>\n",
       "      <td>1/1/1111</td>\n",
       "      <td>Red</td>\n",
       "    </tr>\n",
       "    <tr>\n",
       "      <th>ID</th>\n",
       "      <td>32637220</td>\n",
       "      <td>32637220</td>\n",
       "      <td>2456.0</td>\n",
       "      <td>7378.0</td>\n",
       "      <td>1,787,065</td>\n",
       "      <td>3/25/2020</td>\n",
       "      <td>4/30/2020</td>\n",
       "      <td>5/1/2020</td>\n",
       "      <td>Red</td>\n",
       "    </tr>\n",
       "    <tr>\n",
       "      <th>IL</th>\n",
       "      <td>687311641</td>\n",
       "      <td>687311641</td>\n",
       "      <td>47148.0</td>\n",
       "      <td>141858.5</td>\n",
       "      <td>12,671,821</td>\n",
       "      <td>3/20/2020</td>\n",
       "      <td>3/30/2020</td>\n",
       "      <td>5/5/2020</td>\n",
       "      <td>Blue</td>\n",
       "    </tr>\n",
       "    <tr>\n",
       "      <th>IN</th>\n",
       "      <td>148674703</td>\n",
       "      <td>148674703</td>\n",
       "      <td>10996.0</td>\n",
       "      <td>33191.0</td>\n",
       "      <td>6,732,219</td>\n",
       "      <td>3/23/2020</td>\n",
       "      <td>5/1/2020</td>\n",
       "      <td>5/1/2020</td>\n",
       "      <td>Red</td>\n",
       "    </tr>\n",
       "    <tr>\n",
       "      <th>KS</th>\n",
       "      <td>86715374</td>\n",
       "      <td>86715374</td>\n",
       "      <td>5949.0</td>\n",
       "      <td>18062.5</td>\n",
       "      <td>2,913,314</td>\n",
       "      <td>3/30/2020</td>\n",
       "      <td>4/19/2020</td>\n",
       "      <td>5/4/2020</td>\n",
       "      <td>Red</td>\n",
       "    </tr>\n",
       "    <tr>\n",
       "      <th>KY</th>\n",
       "      <td>3966582</td>\n",
       "      <td>3966582</td>\n",
       "      <td>52.0</td>\n",
       "      <td>156.0</td>\n",
       "      <td>4,467,673</td>\n",
       "      <td>3/23/2020</td>\n",
       "      <td>4/27/2020</td>\n",
       "      <td>5/22/2020</td>\n",
       "      <td>Red</td>\n",
       "    </tr>\n",
       "    <tr>\n",
       "      <th>LA</th>\n",
       "      <td>123560200</td>\n",
       "      <td>123560200</td>\n",
       "      <td>9000.0</td>\n",
       "      <td>27154.0</td>\n",
       "      <td>4,648,794</td>\n",
       "      <td>3/23/2020</td>\n",
       "      <td>4/13/2020</td>\n",
       "      <td>5/15/2020</td>\n",
       "      <td>Red</td>\n",
       "    </tr>\n",
       "    <tr>\n",
       "      <th>MA</th>\n",
       "      <td>546455050</td>\n",
       "      <td>546455050</td>\n",
       "      <td>32779.0</td>\n",
       "      <td>98701.5</td>\n",
       "      <td>6,892,503</td>\n",
       "      <td>3/23/2020</td>\n",
       "      <td>3/31/2020</td>\n",
       "      <td>5/18/2020</td>\n",
       "      <td>Blue</td>\n",
       "    </tr>\n",
       "    <tr>\n",
       "      <th>MD</th>\n",
       "      <td>258557194</td>\n",
       "      <td>258557194</td>\n",
       "      <td>15462.0</td>\n",
       "      <td>46541.0</td>\n",
       "      <td>6,045,680</td>\n",
       "      <td>3/12/2020</td>\n",
       "      <td>3/27/2020</td>\n",
       "      <td>5/13/2020</td>\n",
       "      <td>Blue</td>\n",
       "    </tr>\n",
       "    <tr>\n",
       "      <th>ME</th>\n",
       "      <td>38349919</td>\n",
       "      <td>38349919</td>\n",
       "      <td>2154.0</td>\n",
       "      <td>6467.0</td>\n",
       "      <td>1,344,212</td>\n",
       "      <td>4/2/2020</td>\n",
       "      <td>4/30/2020</td>\n",
       "      <td>5/1/2020</td>\n",
       "      <td>Blue</td>\n",
       "    </tr>\n",
       "    <tr>\n",
       "      <th>MI</th>\n",
       "      <td>339460691</td>\n",
       "      <td>339460691</td>\n",
       "      <td>26403.0</td>\n",
       "      <td>79480.0</td>\n",
       "      <td>9,986,857</td>\n",
       "      <td>3/24/2020</td>\n",
       "      <td>4/14/2020</td>\n",
       "      <td>6/1/2020</td>\n",
       "      <td>Blue</td>\n",
       "    </tr>\n",
       "    <tr>\n",
       "      <th>MN</th>\n",
       "      <td>172928736</td>\n",
       "      <td>172928736</td>\n",
       "      <td>10094.0</td>\n",
       "      <td>30553.0</td>\n",
       "      <td>5,639,632</td>\n",
       "      <td>3/27/2020</td>\n",
       "      <td>5/4/2020</td>\n",
       "      <td>5/17/2020</td>\n",
       "      <td>Blue</td>\n",
       "    </tr>\n",
       "    <tr>\n",
       "      <th>MO</th>\n",
       "      <td>148923221</td>\n",
       "      <td>148923221</td>\n",
       "      <td>10167.0</td>\n",
       "      <td>30631.0</td>\n",
       "      <td>6,137,428</td>\n",
       "      <td>4/6/2020</td>\n",
       "      <td>5/3/2020</td>\n",
       "      <td>5/3/2020</td>\n",
       "      <td>Red</td>\n",
       "    </tr>\n",
       "    <tr>\n",
       "      <th>MT</th>\n",
       "      <td>27605035</td>\n",
       "      <td>27605035</td>\n",
       "      <td>1868.0</td>\n",
       "      <td>5602.0</td>\n",
       "      <td>1,068,778</td>\n",
       "      <td>3/26/2020</td>\n",
       "      <td>4/24/2020</td>\n",
       "      <td>4/27/2020</td>\n",
       "      <td>Red</td>\n",
       "    </tr>\n",
       "    <tr>\n",
       "      <th>NC</th>\n",
       "      <td>293884164</td>\n",
       "      <td>293884164</td>\n",
       "      <td>18817.0</td>\n",
       "      <td>56701.0</td>\n",
       "      <td>10,488,084</td>\n",
       "      <td>3/30/2020</td>\n",
       "      <td>4/29/2020</td>\n",
       "      <td>5/20/2020</td>\n",
       "      <td>Red</td>\n",
       "    </tr>\n",
       "    <tr>\n",
       "      <th>ND</th>\n",
       "      <td>15808029</td>\n",
       "      <td>15808029</td>\n",
       "      <td>1033.0</td>\n",
       "      <td>3096.0</td>\n",
       "      <td>762,062</td>\n",
       "      <td>3/27/2020</td>\n",
       "      <td>3/30/2020</td>\n",
       "      <td>5/29/2020</td>\n",
       "      <td>Red</td>\n",
       "    </tr>\n",
       "    <tr>\n",
       "      <th>NE</th>\n",
       "      <td>43906922</td>\n",
       "      <td>43906922</td>\n",
       "      <td>2956.0</td>\n",
       "      <td>8968.0</td>\n",
       "      <td>1,934,408</td>\n",
       "      <td>4/3/2020</td>\n",
       "      <td>4/30/2020</td>\n",
       "      <td>5/4/2020</td>\n",
       "      <td>Red</td>\n",
       "    </tr>\n",
       "    <tr>\n",
       "      <th>NH</th>\n",
       "      <td>72873646</td>\n",
       "      <td>72873646</td>\n",
       "      <td>4017.0</td>\n",
       "      <td>12089.0</td>\n",
       "      <td>1,359,711</td>\n",
       "      <td>3/27/2020</td>\n",
       "      <td>5/4/2020</td>\n",
       "      <td>5/18/2020</td>\n",
       "      <td>Blue</td>\n",
       "    </tr>\n",
       "    <tr>\n",
       "      <th>NJ</th>\n",
       "      <td>683667350</td>\n",
       "      <td>683667350</td>\n",
       "      <td>41505.0</td>\n",
       "      <td>124994.0</td>\n",
       "      <td>8,882,190</td>\n",
       "      <td>3/21/2020</td>\n",
       "      <td>1/1/1111</td>\n",
       "      <td>5/12/2020</td>\n",
       "      <td>Blue</td>\n",
       "    </tr>\n",
       "    <tr>\n",
       "      <th>NM</th>\n",
       "      <td>38134934</td>\n",
       "      <td>38134934</td>\n",
       "      <td>3002.0</td>\n",
       "      <td>9027.5</td>\n",
       "      <td>2,096,829</td>\n",
       "      <td>3/13/2020</td>\n",
       "      <td>4/30/2020</td>\n",
       "      <td>5/15/2020</td>\n",
       "      <td>Blue</td>\n",
       "    </tr>\n",
       "    <tr>\n",
       "      <th>NV</th>\n",
       "      <td>81486360</td>\n",
       "      <td>81486360</td>\n",
       "      <td>5816.0</td>\n",
       "      <td>17484.0</td>\n",
       "      <td>3,080,156</td>\n",
       "      <td>4/1/2020</td>\n",
       "      <td>4/30/2020</td>\n",
       "      <td>5/9/2020</td>\n",
       "      <td>Blue</td>\n",
       "    </tr>\n",
       "    <tr>\n",
       "      <th>NY</th>\n",
       "      <td>1479678926</td>\n",
       "      <td>1479678926</td>\n",
       "      <td>190449.0</td>\n",
       "      <td>572546.5</td>\n",
       "      <td>19,453,561</td>\n",
       "      <td>3/22/2020</td>\n",
       "      <td>4/6/2020</td>\n",
       "      <td>6/8/2020</td>\n",
       "      <td>Blue</td>\n",
       "    </tr>\n",
       "    <tr>\n",
       "      <th>OH</th>\n",
       "      <td>328319550</td>\n",
       "      <td>328319550</td>\n",
       "      <td>22436.0</td>\n",
       "      <td>67649.0</td>\n",
       "      <td>11,689,100</td>\n",
       "      <td>3/23/2020</td>\n",
       "      <td>5/19/2020</td>\n",
       "      <td>5/19/2020</td>\n",
       "      <td>Red</td>\n",
       "    </tr>\n",
       "    <tr>\n",
       "      <th>OK</th>\n",
       "      <td>49417467</td>\n",
       "      <td>49417467</td>\n",
       "      <td>1927.0</td>\n",
       "      <td>5808.0</td>\n",
       "      <td>3,956,971</td>\n",
       "      <td>3/24/2020</td>\n",
       "      <td>1/1/1111</td>\n",
       "      <td>4/22/2022</td>\n",
       "      <td>Red</td>\n",
       "    </tr>\n",
       "    <tr>\n",
       "      <th>OR</th>\n",
       "      <td>107081258</td>\n",
       "      <td>107081258</td>\n",
       "      <td>6740.0</td>\n",
       "      <td>20256.0</td>\n",
       "      <td>4,217,737</td>\n",
       "      <td>3/24/2020</td>\n",
       "      <td>3/31/2020</td>\n",
       "      <td>5/14/2020</td>\n",
       "      <td>Blue</td>\n",
       "    </tr>\n",
       "    <tr>\n",
       "      <th>PA</th>\n",
       "      <td>855392134</td>\n",
       "      <td>855392134</td>\n",
       "      <td>58150.0</td>\n",
       "      <td>175110.0</td>\n",
       "      <td>12,801,989</td>\n",
       "      <td>3/23/2020</td>\n",
       "      <td>4/30/2020</td>\n",
       "      <td>5/15/2020</td>\n",
       "      <td>Blue</td>\n",
       "    </tr>\n",
       "    <tr>\n",
       "      <th>RI</th>\n",
       "      <td>45174342</td>\n",
       "      <td>45174342</td>\n",
       "      <td>5216.0</td>\n",
       "      <td>15656.0</td>\n",
       "      <td>1,059,361</td>\n",
       "      <td>3/28/2020</td>\n",
       "      <td>4/13/2020</td>\n",
       "      <td>5/9/2020</td>\n",
       "      <td>Blue</td>\n",
       "    </tr>\n",
       "    <tr>\n",
       "      <th>SC</th>\n",
       "      <td>127054690</td>\n",
       "      <td>127054690</td>\n",
       "      <td>9457.0</td>\n",
       "      <td>28444.0</td>\n",
       "      <td>5,148,714</td>\n",
       "      <td>4/7/2020</td>\n",
       "      <td>5/4/2020</td>\n",
       "      <td>5/4/2020</td>\n",
       "      <td>Red</td>\n",
       "    </tr>\n",
       "    <tr>\n",
       "      <th>SD</th>\n",
       "      <td>24958089</td>\n",
       "      <td>24958089</td>\n",
       "      <td>2545.0</td>\n",
       "      <td>7639.0</td>\n",
       "      <td>884,659</td>\n",
       "      <td>1/1/1111</td>\n",
       "      <td>1/1/1111</td>\n",
       "      <td>1/1/1111</td>\n",
       "      <td>Red</td>\n",
       "    </tr>\n",
       "    <tr>\n",
       "      <th>TN</th>\n",
       "      <td>175030132</td>\n",
       "      <td>175030132</td>\n",
       "      <td>12090.0</td>\n",
       "      <td>36460.0</td>\n",
       "      <td>6,829,174</td>\n",
       "      <td>4/2/2020</td>\n",
       "      <td>4/14/2020</td>\n",
       "      <td>5/1/2020</td>\n",
       "      <td>Red</td>\n",
       "    </tr>\n",
       "    <tr>\n",
       "      <th>TX</th>\n",
       "      <td>789151818</td>\n",
       "      <td>789151818</td>\n",
       "      <td>59999.0</td>\n",
       "      <td>181084.5</td>\n",
       "      <td>28,995,881</td>\n",
       "      <td>3/31/2020</td>\n",
       "      <td>5/4/2020</td>\n",
       "      <td>5/1/2020</td>\n",
       "      <td>Red</td>\n",
       "    </tr>\n",
       "    <tr>\n",
       "      <th>VA</th>\n",
       "      <td>343177587</td>\n",
       "      <td>343177587</td>\n",
       "      <td>22536.0</td>\n",
       "      <td>67772.5</td>\n",
       "      <td>8,535,519</td>\n",
       "      <td>3/30/2020</td>\n",
       "      <td>5/15/2020</td>\n",
       "      <td>5/29/2020</td>\n",
       "      <td>Blue</td>\n",
       "    </tr>\n",
       "    <tr>\n",
       "      <th>VT</th>\n",
       "      <td>26147925</td>\n",
       "      <td>26147925</td>\n",
       "      <td>1604.0</td>\n",
       "      <td>4812.0</td>\n",
       "      <td>623,989</td>\n",
       "      <td>3/25/2020</td>\n",
       "      <td>4/10/2020</td>\n",
       "      <td>5/15/2020</td>\n",
       "      <td>Blue</td>\n",
       "    </tr>\n",
       "    <tr>\n",
       "      <th>WA</th>\n",
       "      <td>223853438</td>\n",
       "      <td>223853438</td>\n",
       "      <td>12800.0</td>\n",
       "      <td>38533.0</td>\n",
       "      <td>7,614,893</td>\n",
       "      <td>3/24/2020</td>\n",
       "      <td>4/3/2020</td>\n",
       "      <td>5/29/2020</td>\n",
       "      <td>Blue</td>\n",
       "    </tr>\n",
       "    <tr>\n",
       "      <th>WI</th>\n",
       "      <td>157417309</td>\n",
       "      <td>157417309</td>\n",
       "      <td>10417.0</td>\n",
       "      <td>31339.0</td>\n",
       "      <td>5,822,434</td>\n",
       "      <td>3/24/2020</td>\n",
       "      <td>4/24/2020</td>\n",
       "      <td>5/26/2020</td>\n",
       "      <td>Blue</td>\n",
       "    </tr>\n",
       "    <tr>\n",
       "      <th>WV</th>\n",
       "      <td>26145859</td>\n",
       "      <td>26145859</td>\n",
       "      <td>1541.0</td>\n",
       "      <td>4636.0</td>\n",
       "      <td>1,792,147</td>\n",
       "      <td>3/23/2020</td>\n",
       "      <td>4/4/2020</td>\n",
       "      <td>4/30/2020</td>\n",
       "      <td>Red</td>\n",
       "    </tr>\n",
       "    <tr>\n",
       "      <th>WY</th>\n",
       "      <td>17194798</td>\n",
       "      <td>17194798</td>\n",
       "      <td>1411.0</td>\n",
       "      <td>4229.0</td>\n",
       "      <td>578,759</td>\n",
       "      <td>3/25/2020</td>\n",
       "      <td>4/3/2020</td>\n",
       "      <td>5/1/2020</td>\n",
       "      <td>Red</td>\n",
       "    </tr>\n",
       "  </tbody>\n",
       "</table>\n",
       "</div>"
      ],
      "text/plain": [
       "       Unnamed: 0  Order Number  Item/Bottle Count    Weight  Population  \\\n",
       "State                                                                      \n",
       "AK       12075149      12075149             1665.0    4995.0     731,545   \n",
       "AL       35494138      35494138             1751.0    5249.0   4,903,185   \n",
       "AR       35084337      35084337             5111.0   15381.0   3,017,804   \n",
       "AZ      188621955     188621955            12787.0   38438.5   7,278,717   \n",
       "CA     1396726502    1396726502           141262.0  425711.5  39,512,223   \n",
       "CO      298551287     298551287            20038.0   60227.5   5,758,736   \n",
       "CT      229375511     229375511            14319.0   43154.5   3,565,287   \n",
       "DC      109897429     109897429             5585.0   16795.0     705,749   \n",
       "DE       13697723      13697723              644.0    1930.0     973,764   \n",
       "FL      673654714     673654714            55780.0  168346.0  21,477,737   \n",
       "GA      325506230     325506230            22353.0   67346.5  10,617,423   \n",
       "HI       44802102      44802102             5517.0   16599.0   1,415,872   \n",
       "IA       54731991      54731991             3605.0   10918.0   3,155,070   \n",
       "ID       32637220      32637220             2456.0    7378.0   1,787,065   \n",
       "IL      687311641     687311641            47148.0  141858.5  12,671,821   \n",
       "IN      148674703     148674703            10996.0   33191.0   6,732,219   \n",
       "KS       86715374      86715374             5949.0   18062.5   2,913,314   \n",
       "KY        3966582       3966582               52.0     156.0   4,467,673   \n",
       "LA      123560200     123560200             9000.0   27154.0   4,648,794   \n",
       "MA      546455050     546455050            32779.0   98701.5   6,892,503   \n",
       "MD      258557194     258557194            15462.0   46541.0   6,045,680   \n",
       "ME       38349919      38349919             2154.0    6467.0   1,344,212   \n",
       "MI      339460691     339460691            26403.0   79480.0   9,986,857   \n",
       "MN      172928736     172928736            10094.0   30553.0   5,639,632   \n",
       "MO      148923221     148923221            10167.0   30631.0   6,137,428   \n",
       "MT       27605035      27605035             1868.0    5602.0   1,068,778   \n",
       "NC      293884164     293884164            18817.0   56701.0  10,488,084   \n",
       "ND       15808029      15808029             1033.0    3096.0     762,062   \n",
       "NE       43906922      43906922             2956.0    8968.0   1,934,408   \n",
       "NH       72873646      72873646             4017.0   12089.0   1,359,711   \n",
       "NJ      683667350     683667350            41505.0  124994.0   8,882,190   \n",
       "NM       38134934      38134934             3002.0    9027.5   2,096,829   \n",
       "NV       81486360      81486360             5816.0   17484.0   3,080,156   \n",
       "NY     1479678926    1479678926           190449.0  572546.5  19,453,561   \n",
       "OH      328319550     328319550            22436.0   67649.0  11,689,100   \n",
       "OK       49417467      49417467             1927.0    5808.0   3,956,971   \n",
       "OR      107081258     107081258             6740.0   20256.0   4,217,737   \n",
       "PA      855392134     855392134            58150.0  175110.0  12,801,989   \n",
       "RI       45174342      45174342             5216.0   15656.0   1,059,361   \n",
       "SC      127054690     127054690             9457.0   28444.0   5,148,714   \n",
       "SD       24958089      24958089             2545.0    7639.0     884,659   \n",
       "TN      175030132     175030132            12090.0   36460.0   6,829,174   \n",
       "TX      789151818     789151818            59999.0  181084.5  28,995,881   \n",
       "VA      343177587     343177587            22536.0   67772.5   8,535,519   \n",
       "VT       26147925      26147925             1604.0    4812.0     623,989   \n",
       "WA      223853438     223853438            12800.0   38533.0   7,614,893   \n",
       "WI      157417309     157417309            10417.0   31339.0   5,822,434   \n",
       "WV       26145859      26145859             1541.0    4636.0   1,792,147   \n",
       "WY       17194798      17194798             1411.0    4229.0     578,759   \n",
       "\n",
       "      Lockdown Start Initial Expected Lockdown End Phase 1 Re-Opening Start  \\\n",
       "State                                                                         \n",
       "AK         3/23/2020                     3/30/2020                4/24/2020   \n",
       "AL          4/4/2020                     4/30/2020                4/30/2020   \n",
       "AR         3/15/2020                     3/27/2020                 6/5/2020   \n",
       "AZ         4/30/2020                     5/15/2020                5/18/2020   \n",
       "CA         3/19/2020                      4/2/2020                5/13/2020   \n",
       "CO         3/26/2020                     4/26/2020                4/26/2020   \n",
       "CT         3/23/2020                     4/22/2020                5/20/2020   \n",
       "DC          4/1/2020                     4/24/2020                5/29/2020   \n",
       "DE         3/24/2020                      5/8/2020                5/31/2020   \n",
       "FL          4/1/2020                      5/1/2020                9/25/2020   \n",
       "GA          4/3/2020                     4/30/2020                4/30/2020   \n",
       "HI         3/23/2020                     4/30/2020                 5/5/2020   \n",
       "IA          1/1/1111                      1/1/1111                 1/1/1111   \n",
       "ID         3/25/2020                     4/30/2020                 5/1/2020   \n",
       "IL         3/20/2020                     3/30/2020                 5/5/2020   \n",
       "IN         3/23/2020                      5/1/2020                 5/1/2020   \n",
       "KS         3/30/2020                     4/19/2020                 5/4/2020   \n",
       "KY         3/23/2020                     4/27/2020                5/22/2020   \n",
       "LA         3/23/2020                     4/13/2020                5/15/2020   \n",
       "MA         3/23/2020                     3/31/2020                5/18/2020   \n",
       "MD         3/12/2020                     3/27/2020                5/13/2020   \n",
       "ME          4/2/2020                     4/30/2020                 5/1/2020   \n",
       "MI         3/24/2020                     4/14/2020                 6/1/2020   \n",
       "MN         3/27/2020                      5/4/2020                5/17/2020   \n",
       "MO          4/6/2020                      5/3/2020                 5/3/2020   \n",
       "MT         3/26/2020                     4/24/2020                4/27/2020   \n",
       "NC         3/30/2020                     4/29/2020                5/20/2020   \n",
       "ND         3/27/2020                     3/30/2020                5/29/2020   \n",
       "NE          4/3/2020                     4/30/2020                 5/4/2020   \n",
       "NH         3/27/2020                      5/4/2020                5/18/2020   \n",
       "NJ         3/21/2020                      1/1/1111                5/12/2020   \n",
       "NM         3/13/2020                     4/30/2020                5/15/2020   \n",
       "NV          4/1/2020                     4/30/2020                 5/9/2020   \n",
       "NY         3/22/2020                      4/6/2020                 6/8/2020   \n",
       "OH         3/23/2020                     5/19/2020                5/19/2020   \n",
       "OK         3/24/2020                      1/1/1111                4/22/2022   \n",
       "OR         3/24/2020                     3/31/2020                5/14/2020   \n",
       "PA         3/23/2020                     4/30/2020                5/15/2020   \n",
       "RI         3/28/2020                     4/13/2020                 5/9/2020   \n",
       "SC          4/7/2020                      5/4/2020                 5/4/2020   \n",
       "SD          1/1/1111                      1/1/1111                 1/1/1111   \n",
       "TN          4/2/2020                     4/14/2020                 5/1/2020   \n",
       "TX         3/31/2020                      5/4/2020                 5/1/2020   \n",
       "VA         3/30/2020                     5/15/2020                5/29/2020   \n",
       "VT         3/25/2020                     4/10/2020                5/15/2020   \n",
       "WA         3/24/2020                      4/3/2020                5/29/2020   \n",
       "WI         3/24/2020                     4/24/2020                5/26/2020   \n",
       "WV         3/23/2020                      4/4/2020                4/30/2020   \n",
       "WY         3/25/2020                      4/3/2020                 5/1/2020   \n",
       "\n",
       "      Political Alignment  \n",
       "State                      \n",
       "AK                    Red  \n",
       "AL                    Red  \n",
       "AR                    Red  \n",
       "AZ                   Blue  \n",
       "CA                   Blue  \n",
       "CO                   Blue  \n",
       "CT                   Blue  \n",
       "DC                   Blue  \n",
       "DE                   Blue  \n",
       "FL                    Red  \n",
       "GA                   Blue  \n",
       "HI                   Blue  \n",
       "IA                    Red  \n",
       "ID                    Red  \n",
       "IL                   Blue  \n",
       "IN                    Red  \n",
       "KS                    Red  \n",
       "KY                    Red  \n",
       "LA                    Red  \n",
       "MA                   Blue  \n",
       "MD                   Blue  \n",
       "ME                   Blue  \n",
       "MI                   Blue  \n",
       "MN                   Blue  \n",
       "MO                    Red  \n",
       "MT                    Red  \n",
       "NC                    Red  \n",
       "ND                    Red  \n",
       "NE                    Red  \n",
       "NH                   Blue  \n",
       "NJ                   Blue  \n",
       "NM                   Blue  \n",
       "NV                   Blue  \n",
       "NY                   Blue  \n",
       "OH                    Red  \n",
       "OK                    Red  \n",
       "OR                   Blue  \n",
       "PA                   Blue  \n",
       "RI                   Blue  \n",
       "SC                    Red  \n",
       "SD                    Red  \n",
       "TN                    Red  \n",
       "TX                    Red  \n",
       "VA                   Blue  \n",
       "VT                   Blue  \n",
       "WA                   Blue  \n",
       "WI                   Blue  \n",
       "WV                    Red  \n",
       "WY                    Red  "
      ]
     },
     "execution_count": 151,
     "metadata": {},
     "output_type": "execute_result"
    }
   ],
   "source": [
    "#Join states and 2019 df on \"State\"\n",
    "states_2019 = total_bottles_by_state_2019.join(states_df.set_index (\"State\"), on = \"State\")\n",
    "states_2019"
   ]
  },
  {
   "cell_type": "code",
   "execution_count": 152,
   "id": "9d176755",
   "metadata": {},
   "outputs": [],
   "source": [
    "slice_list = [\"AL\"]\n",
    "Alabama = states_2019.iloc[states_2019.index.isin(slice_list)]\n",
    "#Alabama"
   ]
  },
  {
   "cell_type": "code",
   "execution_count": 153,
   "id": "5ddd3d6e",
   "metadata": {},
   "outputs": [
    {
     "data": {
      "text/plain": [
       "1751.0"
      ]
     },
     "execution_count": 153,
     "metadata": {},
     "output_type": "execute_result"
    }
   ],
   "source": [
    "# Calculate the total Alabama Item/Bottle Count.\n",
    "Alabama[\"Item/Bottle Count\"].sum()"
   ]
  },
  {
   "cell_type": "code",
   "execution_count": 154,
   "id": "500423aa",
   "metadata": {},
   "outputs": [],
   "source": [
    "slice_list = [\"AK\"]\n",
    "Alaska = states_2019.iloc[states_2019.index.isin(slice_list)]\n",
    "#Alaska"
   ]
  },
  {
   "cell_type": "code",
   "execution_count": 155,
   "id": "f2396337",
   "metadata": {},
   "outputs": [
    {
     "data": {
      "text/plain": [
       "1665.0"
      ]
     },
     "execution_count": 155,
     "metadata": {},
     "output_type": "execute_result"
    }
   ],
   "source": [
    "# Calculate the total Alaska Item/Bottle Count.\n",
    "Alaska[\"Item/Bottle Count\"].sum()"
   ]
  },
  {
   "cell_type": "code",
   "execution_count": 15,
   "id": "3adb3a0e",
   "metadata": {},
   "outputs": [],
   "source": [
    "slice_list = [\"AZ\"]\n",
    "Arizona = states_2019.iloc[states_2019.index.isin(slice_list)]\n",
    "#Arizona"
   ]
  },
  {
   "cell_type": "code",
   "execution_count": 16,
   "id": "45a648a9",
   "metadata": {},
   "outputs": [
    {
     "data": {
      "text/plain": [
       "12787.0"
      ]
     },
     "execution_count": 16,
     "metadata": {},
     "output_type": "execute_result"
    }
   ],
   "source": [
    "#Calculate the total Arizona Item/Bottle Count.\n",
    "Arizona[\"Item/Bottle Count\"].sum()"
   ]
  },
  {
   "cell_type": "code",
   "execution_count": 17,
   "id": "dbd33f59",
   "metadata": {},
   "outputs": [],
   "source": [
    "slice_list = [\"AR\"]\n",
    "Arkansas = states_2019.iloc[states_2019.index.isin(slice_list)]\n",
    "#Arkansas"
   ]
  },
  {
   "cell_type": "code",
   "execution_count": 18,
   "id": "807ae7f1",
   "metadata": {},
   "outputs": [
    {
     "data": {
      "text/plain": [
       "5111.0"
      ]
     },
     "execution_count": 18,
     "metadata": {},
     "output_type": "execute_result"
    }
   ],
   "source": [
    "#Calculate the total Arkansas Item/Bottle Count.\n",
    "Arkansas[\"Item/Bottle Count\"].sum()"
   ]
  },
  {
   "cell_type": "code",
   "execution_count": 19,
   "id": "b14b0755",
   "metadata": {},
   "outputs": [],
   "source": [
    "slice_list = [\"CA\"]\n",
    "California = states_2019.iloc[states_2019.index.isin(slice_list)]\n",
    "#California"
   ]
  },
  {
   "cell_type": "code",
   "execution_count": 20,
   "id": "5daf7e32",
   "metadata": {},
   "outputs": [
    {
     "data": {
      "text/plain": [
       "141262.0"
      ]
     },
     "execution_count": 20,
     "metadata": {},
     "output_type": "execute_result"
    }
   ],
   "source": [
    "#Calculate the total California Item/Bottle Count.\n",
    "California[\"Item/Bottle Count\"].sum()"
   ]
  },
  {
   "cell_type": "code",
   "execution_count": 21,
   "id": "eca33578",
   "metadata": {},
   "outputs": [],
   "source": [
    "slice_list = [\"CO\"]\n",
    "Colorado = states_2019.iloc[states_2019.index.isin(slice_list)]\n",
    "#Colorado"
   ]
  },
  {
   "cell_type": "code",
   "execution_count": 22,
   "id": "250620a5",
   "metadata": {},
   "outputs": [
    {
     "data": {
      "text/plain": [
       "20038.0"
      ]
     },
     "execution_count": 22,
     "metadata": {},
     "output_type": "execute_result"
    }
   ],
   "source": [
    "# Calculate the total Alabama Item/Bottle Count.\n",
    "Colorado[\"Item/Bottle Count\"].sum()"
   ]
  },
  {
   "cell_type": "code",
   "execution_count": 23,
   "id": "21aad67b",
   "metadata": {},
   "outputs": [],
   "source": [
    "slice_list = [\"CT\"]\n",
    "Connecticut = states_2019.iloc[states_2019.index.isin(slice_list)]\n",
    "#Connecticut"
   ]
  },
  {
   "cell_type": "code",
   "execution_count": 24,
   "id": "c2dbfd37",
   "metadata": {},
   "outputs": [
    {
     "data": {
      "text/plain": [
       "14319.0"
      ]
     },
     "execution_count": 24,
     "metadata": {},
     "output_type": "execute_result"
    }
   ],
   "source": [
    "# Calculate the total Connecticut Item/Bottle Count.\n",
    "Connecticut[\"Item/Bottle Count\"].sum()"
   ]
  },
  {
   "cell_type": "code",
   "execution_count": 25,
   "id": "7fc2fcda",
   "metadata": {},
   "outputs": [],
   "source": [
    "slice_list = [\"DC\"]\n",
    "DC = states_2019.iloc[states_2019.index.isin(slice_list)]\n",
    "#DC"
   ]
  },
  {
   "cell_type": "code",
   "execution_count": 26,
   "id": "c7601192",
   "metadata": {},
   "outputs": [
    {
     "data": {
      "text/plain": [
       "5585.0"
      ]
     },
     "execution_count": 26,
     "metadata": {},
     "output_type": "execute_result"
    }
   ],
   "source": [
    "# Calculate the total DC Item/Bottle Count.\n",
    "DC[\"Item/Bottle Count\"].sum()"
   ]
  },
  {
   "cell_type": "code",
   "execution_count": 27,
   "id": "4f2e7fdd",
   "metadata": {},
   "outputs": [],
   "source": [
    "slice_list = [\"DE\"]\n",
    "Delaware = states_2019.iloc[states_2019.index.isin(slice_list)]\n",
    "#Delaware"
   ]
  },
  {
   "cell_type": "code",
   "execution_count": 28,
   "id": "8ebf0de8",
   "metadata": {},
   "outputs": [
    {
     "data": {
      "text/plain": [
       "644.0"
      ]
     },
     "execution_count": 28,
     "metadata": {},
     "output_type": "execute_result"
    }
   ],
   "source": [
    "# Calculate the total Delaware Item/Bottle Count.\n",
    "Delaware[\"Item/Bottle Count\"].sum()"
   ]
  },
  {
   "cell_type": "code",
   "execution_count": 29,
   "id": "0bbf4b39",
   "metadata": {},
   "outputs": [],
   "source": [
    "slice_list = [\"FL\"]\n",
    "Florida = states_2019.iloc[states_2019.index.isin(slice_list)]\n",
    "#Florida"
   ]
  },
  {
   "cell_type": "code",
   "execution_count": 30,
   "id": "7840ccc8",
   "metadata": {},
   "outputs": [
    {
     "data": {
      "text/plain": [
       "55780.0"
      ]
     },
     "execution_count": 30,
     "metadata": {},
     "output_type": "execute_result"
    }
   ],
   "source": [
    "# Calculate the total Florida Item/Bottle Count.\n",
    "Florida[\"Item/Bottle Count\"].sum()"
   ]
  },
  {
   "cell_type": "code",
   "execution_count": 31,
   "id": "8dc52048",
   "metadata": {},
   "outputs": [],
   "source": [
    "slice_list = [\"GA\"]\n",
    "Georgia = states_2019.iloc[states_2019.index.isin(slice_list)]\n",
    "#Georgia"
   ]
  },
  {
   "cell_type": "code",
   "execution_count": 32,
   "id": "852830b5",
   "metadata": {},
   "outputs": [
    {
     "data": {
      "text/plain": [
       "22353.0"
      ]
     },
     "execution_count": 32,
     "metadata": {},
     "output_type": "execute_result"
    }
   ],
   "source": [
    "# Calculate the total Georgia Item/Bottle Count.\n",
    "Georgia[\"Item/Bottle Count\"].sum()"
   ]
  },
  {
   "cell_type": "code",
   "execution_count": 33,
   "id": "98b63f4c",
   "metadata": {},
   "outputs": [],
   "source": [
    "slice_list = [\"HI\"]\n",
    "Hawaii = states_2019.iloc[states_2019.index.isin(slice_list)]\n",
    "#Hawaii"
   ]
  },
  {
   "cell_type": "code",
   "execution_count": 34,
   "id": "bbbcd02c",
   "metadata": {},
   "outputs": [
    {
     "data": {
      "text/plain": [
       "5517.0"
      ]
     },
     "execution_count": 34,
     "metadata": {},
     "output_type": "execute_result"
    }
   ],
   "source": [
    "# Calculate the total Hawaii Item/Bottle Count.\n",
    "Hawaii[\"Item/Bottle Count\"].sum()"
   ]
  },
  {
   "cell_type": "code",
   "execution_count": 35,
   "id": "c80e8149",
   "metadata": {},
   "outputs": [],
   "source": [
    "slice_list = [\"ID\"]\n",
    "Idaho = states_2019.iloc[states_2019.index.isin(slice_list)]\n",
    "#Idaho"
   ]
  },
  {
   "cell_type": "code",
   "execution_count": 36,
   "id": "86b16d53",
   "metadata": {},
   "outputs": [
    {
     "data": {
      "text/plain": [
       "2456.0"
      ]
     },
     "execution_count": 36,
     "metadata": {},
     "output_type": "execute_result"
    }
   ],
   "source": [
    "# Calculate the total Idaho Item/Bottle Count.\n",
    "Idaho[\"Item/Bottle Count\"].sum()"
   ]
  },
  {
   "cell_type": "code",
   "execution_count": 37,
   "id": "e733a5e1",
   "metadata": {},
   "outputs": [],
   "source": [
    "slice_list = [\"IL\"]\n",
    "Illinois = states_2019.iloc[states_2019.index.isin(slice_list)]\n",
    "#Illinois"
   ]
  },
  {
   "cell_type": "code",
   "execution_count": 38,
   "id": "18d973cc",
   "metadata": {},
   "outputs": [
    {
     "data": {
      "text/plain": [
       "47148.0"
      ]
     },
     "execution_count": 38,
     "metadata": {},
     "output_type": "execute_result"
    }
   ],
   "source": [
    "# Calculate the total Illinois Item/Bottle Count.\n",
    "Illinois[\"Item/Bottle Count\"].sum()"
   ]
  },
  {
   "cell_type": "code",
   "execution_count": 39,
   "id": "d487423e",
   "metadata": {},
   "outputs": [],
   "source": [
    "slice_list = [\"IN\"]\n",
    "Indiana = states_2019.iloc[states_2019.index.isin(slice_list)]\n",
    "#Indiana"
   ]
  },
  {
   "cell_type": "code",
   "execution_count": 40,
   "id": "0524172d",
   "metadata": {},
   "outputs": [
    {
     "data": {
      "text/plain": [
       "10996.0"
      ]
     },
     "execution_count": 40,
     "metadata": {},
     "output_type": "execute_result"
    }
   ],
   "source": [
    "# Calculate the total Indiana Item/Bottle Count.\n",
    "Indiana[\"Item/Bottle Count\"].sum()"
   ]
  },
  {
   "cell_type": "code",
   "execution_count": 41,
   "id": "1befd608",
   "metadata": {},
   "outputs": [],
   "source": [
    "slice_list = [\"IA\"]\n",
    "Iowa = states_2019.iloc[states_2019.index.isin(slice_list)]\n",
    "#Iowa"
   ]
  },
  {
   "cell_type": "code",
   "execution_count": 42,
   "id": "bdab2c99",
   "metadata": {},
   "outputs": [
    {
     "data": {
      "text/plain": [
       "3605.0"
      ]
     },
     "execution_count": 42,
     "metadata": {},
     "output_type": "execute_result"
    }
   ],
   "source": [
    "# Calculate the total Iowa Item/Bottle Count.\n",
    "Iowa[\"Item/Bottle Count\"].sum()"
   ]
  },
  {
   "cell_type": "code",
   "execution_count": 43,
   "id": "7332d5c2",
   "metadata": {},
   "outputs": [],
   "source": [
    "slice_list = [\"KS\"]\n",
    "Kansas = states_2019.iloc[states_2019.index.isin(slice_list)]\n",
    "#Kansas"
   ]
  },
  {
   "cell_type": "code",
   "execution_count": 44,
   "id": "e695bef0",
   "metadata": {},
   "outputs": [
    {
     "data": {
      "text/plain": [
       "5949.0"
      ]
     },
     "execution_count": 44,
     "metadata": {},
     "output_type": "execute_result"
    }
   ],
   "source": [
    "# Calculate the total Kansas Item/Bottle Count.\n",
    "Kansas[\"Item/Bottle Count\"].sum()"
   ]
  },
  {
   "cell_type": "code",
   "execution_count": 45,
   "id": "72ad54cf",
   "metadata": {},
   "outputs": [],
   "source": [
    "#Effective March 12, 2021, brand registration is not required for DTC products.  DTC shipping previously prohibited. \n",
    "slice_list = [\"KY\"]\n",
    "Kentucky = states_2019.iloc[states_2019.index.isin(slice_list)]\n",
    "#Kentucky"
   ]
  },
  {
   "cell_type": "code",
   "execution_count": 46,
   "id": "5f1f4f67",
   "metadata": {},
   "outputs": [
    {
     "data": {
      "text/plain": [
       "52.0"
      ]
     },
     "execution_count": 46,
     "metadata": {},
     "output_type": "execute_result"
    }
   ],
   "source": [
    "# Calculate the total Kentucky Item/Bottle Count.\n",
    "Kentucky[\"Item/Bottle Count\"].sum()"
   ]
  },
  {
   "cell_type": "code",
   "execution_count": 47,
   "id": "2c8ffee3",
   "metadata": {},
   "outputs": [],
   "source": [
    "slice_list = [\"LA\"]\n",
    "Louisiana = states_2019.iloc[states_2019.index.isin(slice_list)]\n",
    "#Louisiana"
   ]
  },
  {
   "cell_type": "code",
   "execution_count": 48,
   "id": "34e9c28d",
   "metadata": {},
   "outputs": [
    {
     "data": {
      "text/plain": [
       "9000.0"
      ]
     },
     "execution_count": 48,
     "metadata": {},
     "output_type": "execute_result"
    }
   ],
   "source": [
    "# Calculate the total Louisiana Item/Bottle Count.\n",
    "Louisiana[\"Item/Bottle Count\"].sum()"
   ]
  },
  {
   "cell_type": "code",
   "execution_count": 49,
   "id": "ad8fac0b",
   "metadata": {},
   "outputs": [],
   "source": [
    "slice_list = [\"ME\"]\n",
    "Maine = states_2019.iloc[states_2019.index.isin(slice_list)]\n",
    "#Maine"
   ]
  },
  {
   "cell_type": "code",
   "execution_count": 50,
   "id": "85707452",
   "metadata": {},
   "outputs": [
    {
     "data": {
      "text/plain": [
       "2154.0"
      ]
     },
     "execution_count": 50,
     "metadata": {},
     "output_type": "execute_result"
    }
   ],
   "source": [
    "# Calculate the total Maine Item/Bottle Count.\n",
    "Maine[\"Item/Bottle Count\"].sum()"
   ]
  },
  {
   "cell_type": "code",
   "execution_count": 51,
   "id": "88e0b96d",
   "metadata": {},
   "outputs": [],
   "source": [
    "slice_list = [\"MD\"]\n",
    "Maryland = states_2019.iloc[states_2019.index.isin(slice_list)]\n",
    "#Maryland"
   ]
  },
  {
   "cell_type": "code",
   "execution_count": 52,
   "id": "381650a7",
   "metadata": {},
   "outputs": [
    {
     "data": {
      "text/plain": [
       "15462.0"
      ]
     },
     "execution_count": 52,
     "metadata": {},
     "output_type": "execute_result"
    }
   ],
   "source": [
    "# Calculate the total Maryland Item/Bottle Count.\n",
    "Maryland[\"Item/Bottle Count\"].sum()"
   ]
  },
  {
   "cell_type": "code",
   "execution_count": 53,
   "id": "32e12154",
   "metadata": {},
   "outputs": [],
   "source": [
    "slice_list = [\"MA\"]\n",
    "Massachusetts = states_2019.iloc[states_2019.index.isin(slice_list)]\n",
    "#Massachusetts"
   ]
  },
  {
   "cell_type": "code",
   "execution_count": 54,
   "id": "c71c15fb",
   "metadata": {},
   "outputs": [
    {
     "data": {
      "text/plain": [
       "32779.0"
      ]
     },
     "execution_count": 54,
     "metadata": {},
     "output_type": "execute_result"
    }
   ],
   "source": [
    "# Calculate the total Massachusetts Item/Bottle Count.\n",
    "Massachusetts[\"Item/Bottle Count\"].sum()"
   ]
  },
  {
   "cell_type": "code",
   "execution_count": 55,
   "id": "48fba113",
   "metadata": {},
   "outputs": [],
   "source": [
    "slice_list = [\"MI\"]\n",
    "Michigan = states_2019.iloc[states_2019.index.isin(slice_list)]\n",
    "#Michigan"
   ]
  },
  {
   "cell_type": "code",
   "execution_count": 56,
   "id": "46cde1b5",
   "metadata": {},
   "outputs": [
    {
     "data": {
      "text/plain": [
       "26403.0"
      ]
     },
     "execution_count": 56,
     "metadata": {},
     "output_type": "execute_result"
    }
   ],
   "source": [
    "# Calculate the total Michigan Item/Bottle Count.\n",
    "Michigan[\"Item/Bottle Count\"].sum()"
   ]
  },
  {
   "cell_type": "code",
   "execution_count": 57,
   "id": "fb231a20",
   "metadata": {},
   "outputs": [],
   "source": [
    "slice_list = [\"MN\"]\n",
    "Minnesota = states_2019.iloc[states_2019.index.isin(slice_list)]\n",
    "#Minnesota"
   ]
  },
  {
   "cell_type": "code",
   "execution_count": 58,
   "id": "4b214696",
   "metadata": {},
   "outputs": [
    {
     "data": {
      "text/plain": [
       "10094.0"
      ]
     },
     "execution_count": 58,
     "metadata": {},
     "output_type": "execute_result"
    }
   ],
   "source": [
    "# Calculate the total Minnesota Item/Bottle Count.\n",
    "Minnesota[\"Item/Bottle Count\"].sum()"
   ]
  },
  {
   "cell_type": "code",
   "execution_count": 59,
   "id": "9a20f7a8",
   "metadata": {},
   "outputs": [],
   "source": [
    "#DTC shipping prohibited in Mississippi.\n",
    "slice_list = [\"MS\"]\n",
    "Mississippi = states_2019.iloc[states_2019.index.isin(slice_list)]\n",
    "#Mississippi"
   ]
  },
  {
   "cell_type": "code",
   "execution_count": 60,
   "id": "2b1e324c",
   "metadata": {},
   "outputs": [
    {
     "data": {
      "text/plain": [
       "0.0"
      ]
     },
     "execution_count": 60,
     "metadata": {},
     "output_type": "execute_result"
    }
   ],
   "source": [
    "# Calculate the total Mississippi Item/Bottle Count.\n",
    "Mississippi[\"Item/Bottle Count\"].sum()"
   ]
  },
  {
   "cell_type": "code",
   "execution_count": 61,
   "id": "9bef5856",
   "metadata": {},
   "outputs": [],
   "source": [
    "slice_list = [\"MO\"]\n",
    "Missouri = states_2019.iloc[states_2019.index.isin(slice_list)]\n",
    "#Missouri"
   ]
  },
  {
   "cell_type": "code",
   "execution_count": 62,
   "id": "5df1975f",
   "metadata": {},
   "outputs": [
    {
     "data": {
      "text/plain": [
       "10167.0"
      ]
     },
     "execution_count": 62,
     "metadata": {},
     "output_type": "execute_result"
    }
   ],
   "source": [
    "# Calculate the total Missouri Item/Bottle Count.\n",
    "Missouri[\"Item/Bottle Count\"].sum()"
   ]
  },
  {
   "cell_type": "code",
   "execution_count": 63,
   "id": "a4328eed",
   "metadata": {},
   "outputs": [],
   "source": [
    "slice_list = [\"MT\"]\n",
    "Montana = states_2019.iloc[states_2019.index.isin(slice_list)]\n",
    "#Montana"
   ]
  },
  {
   "cell_type": "code",
   "execution_count": 64,
   "id": "aae94fd9",
   "metadata": {},
   "outputs": [
    {
     "data": {
      "text/plain": [
       "1868.0"
      ]
     },
     "execution_count": 64,
     "metadata": {},
     "output_type": "execute_result"
    }
   ],
   "source": [
    "# Calculate the total Montana Item/Bottle Count.\n",
    "Montana[\"Item/Bottle Count\"].sum()"
   ]
  },
  {
   "cell_type": "code",
   "execution_count": 65,
   "id": "f2b39ab0",
   "metadata": {},
   "outputs": [],
   "source": [
    "#No shipping law information\n",
    "slice_list = [\"NE\"]\n",
    "Nebraska = states_2019.iloc[states_2019.index.isin(slice_list)]\n",
    "#Nebraska"
   ]
  },
  {
   "cell_type": "code",
   "execution_count": 66,
   "id": "e1e943f9",
   "metadata": {},
   "outputs": [
    {
     "data": {
      "text/plain": [
       "2956.0"
      ]
     },
     "execution_count": 66,
     "metadata": {},
     "output_type": "execute_result"
    }
   ],
   "source": [
    "# Calculate the total Nebraska Item/Bottle Count.\n",
    "Nebraska[\"Item/Bottle Count\"].sum()"
   ]
  },
  {
   "cell_type": "code",
   "execution_count": 67,
   "id": "100e9166",
   "metadata": {},
   "outputs": [],
   "source": [
    "slice_list = [\"NV\"]\n",
    "Nevada = states_2019.iloc[states_2019.index.isin(slice_list)]\n",
    "#Nevada"
   ]
  },
  {
   "cell_type": "code",
   "execution_count": 68,
   "id": "9c857bcf",
   "metadata": {},
   "outputs": [
    {
     "data": {
      "text/plain": [
       "5816.0"
      ]
     },
     "execution_count": 68,
     "metadata": {},
     "output_type": "execute_result"
    }
   ],
   "source": [
    "# Calculate the total Nevada Item/Bottle Count.\n",
    "Nevada[\"Item/Bottle Count\"].sum()"
   ]
  },
  {
   "cell_type": "code",
   "execution_count": 69,
   "id": "4aea4238",
   "metadata": {},
   "outputs": [],
   "source": [
    "slice_list = [\"NH\"]\n",
    "New_Hampshire = states_2019.iloc[states_2019.index.isin(slice_list)]\n",
    "#New_Hampshire"
   ]
  },
  {
   "cell_type": "code",
   "execution_count": 70,
   "id": "89efa6ce",
   "metadata": {},
   "outputs": [
    {
     "data": {
      "text/plain": [
       "4017.0"
      ]
     },
     "execution_count": 70,
     "metadata": {},
     "output_type": "execute_result"
    }
   ],
   "source": [
    "# Calculate the total New_Hampshire Item/Bottle Count.\n",
    "New_Hampshire[\"Item/Bottle Count\"].sum()"
   ]
  },
  {
   "cell_type": "code",
   "execution_count": 71,
   "id": "66c74e9c",
   "metadata": {},
   "outputs": [],
   "source": [
    "slice_list = [\"NJ\"]\n",
    "New_Jersey = states_2019.iloc[states_2019.index.isin(slice_list)]\n",
    "#New_Jersey"
   ]
  },
  {
   "cell_type": "code",
   "execution_count": 72,
   "id": "42d1beb9",
   "metadata": {},
   "outputs": [
    {
     "data": {
      "text/plain": [
       "41505.0"
      ]
     },
     "execution_count": 72,
     "metadata": {},
     "output_type": "execute_result"
    }
   ],
   "source": [
    "# Calculate the total New Jersey Item/Bottle Count.\n",
    "New_Jersey[\"Item/Bottle Count\"].sum()"
   ]
  },
  {
   "cell_type": "code",
   "execution_count": 73,
   "id": "6af4fcab",
   "metadata": {},
   "outputs": [],
   "source": [
    "slice_list = [\"NM\"]\n",
    "New_Mexico = states_2019.iloc[states_2019.index.isin(slice_list)]\n",
    "#New_Mexico"
   ]
  },
  {
   "cell_type": "code",
   "execution_count": 74,
   "id": "192570b8",
   "metadata": {},
   "outputs": [
    {
     "data": {
      "text/plain": [
       "3002.0"
      ]
     },
     "execution_count": 74,
     "metadata": {},
     "output_type": "execute_result"
    }
   ],
   "source": [
    "# Calculate the total New Mexico Item/Bottle Count.\n",
    "New_Mexico[\"Item/Bottle Count\"].sum()"
   ]
  },
  {
   "cell_type": "code",
   "execution_count": 75,
   "id": "b2078a5c",
   "metadata": {},
   "outputs": [],
   "source": [
    "slice_list = [\"NY\"]\n",
    "New_York = states_2019.iloc[states_2019.index.isin(slice_list)]\n",
    "#New_York"
   ]
  },
  {
   "cell_type": "code",
   "execution_count": 76,
   "id": "7d0e3bbb",
   "metadata": {},
   "outputs": [
    {
     "data": {
      "text/plain": [
       "190449.0"
      ]
     },
     "execution_count": 76,
     "metadata": {},
     "output_type": "execute_result"
    }
   ],
   "source": [
    "# Calculate the total New York Item/Bottle Count.\n",
    "New_York[\"Item/Bottle Count\"].sum()"
   ]
  },
  {
   "cell_type": "code",
   "execution_count": 77,
   "id": "fb7706c7",
   "metadata": {},
   "outputs": [],
   "source": [
    "slice_list = [\"NC\"]\n",
    "North_Carolina = states_2019.iloc[states_2019.index.isin(slice_list)]\n",
    "#North_Carolina"
   ]
  },
  {
   "cell_type": "code",
   "execution_count": 78,
   "id": "30e40de8",
   "metadata": {},
   "outputs": [
    {
     "data": {
      "text/plain": [
       "18817.0"
      ]
     },
     "execution_count": 78,
     "metadata": {},
     "output_type": "execute_result"
    }
   ],
   "source": [
    "# Calculate the total North Carolina Item/Bottle Count.\n",
    "North_Carolina[\"Item/Bottle Count\"].sum()"
   ]
  },
  {
   "cell_type": "code",
   "execution_count": 79,
   "id": "5172eead",
   "metadata": {},
   "outputs": [],
   "source": [
    "slice_list = [\"ND\"]\n",
    "North_Dakota = states_2019.iloc[states_2019.index.isin(slice_list)]\n",
    "#North_Dakota"
   ]
  },
  {
   "cell_type": "code",
   "execution_count": 80,
   "id": "cc38a006",
   "metadata": {},
   "outputs": [
    {
     "data": {
      "text/plain": [
       "1033.0"
      ]
     },
     "execution_count": 80,
     "metadata": {},
     "output_type": "execute_result"
    }
   ],
   "source": [
    "# Calculate the total North Dakota Item/Bottle Count.\n",
    "North_Dakota[\"Item/Bottle Count\"].sum()"
   ]
  },
  {
   "cell_type": "code",
   "execution_count": 81,
   "id": "f0deb3be",
   "metadata": {},
   "outputs": [],
   "source": [
    "slice_list = [\"OH\"]\n",
    "Ohio = states_2019.iloc[states_2019.index.isin(slice_list)]\n",
    "#Ohio"
   ]
  },
  {
   "cell_type": "code",
   "execution_count": 82,
   "id": "7bd4c591",
   "metadata": {},
   "outputs": [
    {
     "data": {
      "text/plain": [
       "22436.0"
      ]
     },
     "execution_count": 82,
     "metadata": {},
     "output_type": "execute_result"
    }
   ],
   "source": [
    "# Calculate the total Ohio Item/Bottle Count.\n",
    "Ohio[\"Item/Bottle Count\"].sum()"
   ]
  },
  {
   "cell_type": "code",
   "execution_count": 83,
   "id": "e2195732",
   "metadata": {},
   "outputs": [],
   "source": [
    "slice_list = [\"OK\"]\n",
    "Oklahoma = states_2019.iloc[states_2019.index.isin(slice_list)]\n",
    "#Oklahoma"
   ]
  },
  {
   "cell_type": "code",
   "execution_count": 84,
   "id": "e8aee12d",
   "metadata": {},
   "outputs": [
    {
     "data": {
      "text/plain": [
       "1927.0"
      ]
     },
     "execution_count": 84,
     "metadata": {},
     "output_type": "execute_result"
    }
   ],
   "source": [
    "# Calculate the total Oklahoma Item/Bottle Count.\n",
    "Oklahoma[\"Item/Bottle Count\"].sum()"
   ]
  },
  {
   "cell_type": "code",
   "execution_count": 85,
   "id": "7f88e070",
   "metadata": {},
   "outputs": [],
   "source": [
    "slice_list = [\"OR\"]\n",
    "Oregon = states_2019.iloc[states_2019.index.isin(slice_list)]\n",
    "#Oregon"
   ]
  },
  {
   "cell_type": "code",
   "execution_count": 86,
   "id": "301c0ba5",
   "metadata": {},
   "outputs": [
    {
     "data": {
      "text/plain": [
       "6740.0"
      ]
     },
     "execution_count": 86,
     "metadata": {},
     "output_type": "execute_result"
    }
   ],
   "source": [
    "# Calculate the total Oregon Item/Bottle Count.\n",
    "Oregon[\"Item/Bottle Count\"].sum()"
   ]
  },
  {
   "cell_type": "code",
   "execution_count": 87,
   "id": "85ccc8a8",
   "metadata": {},
   "outputs": [],
   "source": [
    "slice_list = [\"PA\"]\n",
    "Pennsylvania = states_2019.iloc[states_2019.index.isin(slice_list)]\n",
    "#Pennsylvania"
   ]
  },
  {
   "cell_type": "code",
   "execution_count": 88,
   "id": "ab2abfe5",
   "metadata": {},
   "outputs": [
    {
     "data": {
      "text/plain": [
       "58150.0"
      ]
     },
     "execution_count": 88,
     "metadata": {},
     "output_type": "execute_result"
    }
   ],
   "source": [
    "# Calculate the total Pennsylvania Item/Bottle Count.\n",
    "Pennsylvania[\"Item/Bottle Count\"].sum()"
   ]
  },
  {
   "cell_type": "code",
   "execution_count": 89,
   "id": "0962fe9d",
   "metadata": {},
   "outputs": [],
   "source": [
    "slice_list = [\"RI\"]\n",
    "Rhode_Island = states_2019.iloc[states_2019.index.isin(slice_list)]\n",
    "#Rhode_Island"
   ]
  },
  {
   "cell_type": "code",
   "execution_count": 90,
   "id": "9fdb9396",
   "metadata": {},
   "outputs": [
    {
     "data": {
      "text/plain": [
       "5216.0"
      ]
     },
     "execution_count": 90,
     "metadata": {},
     "output_type": "execute_result"
    }
   ],
   "source": [
    "# Calculate the total Rhode Island Item/Bottle Count.\n",
    "Rhode_Island[\"Item/Bottle Count\"].sum()"
   ]
  },
  {
   "cell_type": "code",
   "execution_count": 91,
   "id": "3a4b5479",
   "metadata": {},
   "outputs": [],
   "source": [
    "slice_list = [\"SC\"]\n",
    "South_Carolina = states_2019.iloc[states_2019.index.isin(slice_list)]\n",
    "#South_Carolina"
   ]
  },
  {
   "cell_type": "code",
   "execution_count": 92,
   "id": "ec0980b5",
   "metadata": {},
   "outputs": [
    {
     "data": {
      "text/plain": [
       "9457.0"
      ]
     },
     "execution_count": 92,
     "metadata": {},
     "output_type": "execute_result"
    }
   ],
   "source": [
    "# Calculate the total Oregon Item/Bottle Count.\n",
    "South_Carolina[\"Item/Bottle Count\"].sum()"
   ]
  },
  {
   "cell_type": "code",
   "execution_count": 93,
   "id": "76a645da",
   "metadata": {},
   "outputs": [],
   "source": [
    "slice_list = [\"SD\"]\n",
    "South_Dakota = states_2019.iloc[states_2019.index.isin(slice_list)]\n",
    "#South_Dakota"
   ]
  },
  {
   "cell_type": "code",
   "execution_count": 94,
   "id": "b1f7d014",
   "metadata": {},
   "outputs": [
    {
     "data": {
      "text/plain": [
       "2545.0"
      ]
     },
     "execution_count": 94,
     "metadata": {},
     "output_type": "execute_result"
    }
   ],
   "source": [
    "# Calculate the total South_Dakota Item/Bottle Count.\n",
    "South_Dakota[\"Item/Bottle Count\"].sum()"
   ]
  },
  {
   "cell_type": "code",
   "execution_count": 95,
   "id": "a5519729",
   "metadata": {},
   "outputs": [],
   "source": [
    "slice_list = [\"TN\"]\n",
    "Tennessee = states_2019.iloc[states_2019.index.isin(slice_list)]\n",
    "#Tennessee"
   ]
  },
  {
   "cell_type": "code",
   "execution_count": 96,
   "id": "d48d6e6c",
   "metadata": {},
   "outputs": [
    {
     "data": {
      "text/plain": [
       "12090.0"
      ]
     },
     "execution_count": 96,
     "metadata": {},
     "output_type": "execute_result"
    }
   ],
   "source": [
    "# Calculate the total Tennessee Item/Bottle Count.\n",
    "Tennessee[\"Item/Bottle Count\"].sum()"
   ]
  },
  {
   "cell_type": "code",
   "execution_count": 97,
   "id": "5005f44d",
   "metadata": {},
   "outputs": [],
   "source": [
    "slice_list = [\"TX\"]\n",
    "Texas = states_2019.iloc[states_2019.index.isin(slice_list)]\n",
    "#Texas"
   ]
  },
  {
   "cell_type": "code",
   "execution_count": 98,
   "id": "354213ec",
   "metadata": {},
   "outputs": [
    {
     "data": {
      "text/plain": [
       "59999.0"
      ]
     },
     "execution_count": 98,
     "metadata": {},
     "output_type": "execute_result"
    }
   ],
   "source": [
    "# Calculate the total Texas Item/Bottle Count.\n",
    "Texas[\"Item/Bottle Count\"].sum()"
   ]
  },
  {
   "cell_type": "code",
   "execution_count": 99,
   "id": "b03db9f4",
   "metadata": {},
   "outputs": [],
   "source": [
    "#No orders from Utah. DTC shipping prohibited.\n",
    "slice_list = [\"UT\"]\n",
    "Utah = states_2019.iloc[states_2019.index.isin(slice_list)]\n",
    "#Utah"
   ]
  },
  {
   "cell_type": "code",
   "execution_count": 100,
   "id": "1e695744",
   "metadata": {},
   "outputs": [
    {
     "data": {
      "text/plain": [
       "0.0"
      ]
     },
     "execution_count": 100,
     "metadata": {},
     "output_type": "execute_result"
    }
   ],
   "source": [
    "# Calculate the total Utah Item/Bottle Count.\n",
    "Utah[\"Item/Bottle Count\"].sum()"
   ]
  },
  {
   "cell_type": "code",
   "execution_count": 101,
   "id": "f45b39a1",
   "metadata": {},
   "outputs": [],
   "source": [
    "slice_list = [\"VT\"]\n",
    "Vermont = states_2019.iloc[states_2019.index.isin(slice_list)]\n",
    "#Vermont"
   ]
  },
  {
   "cell_type": "code",
   "execution_count": 102,
   "id": "1d840441",
   "metadata": {},
   "outputs": [
    {
     "data": {
      "text/plain": [
       "1604.0"
      ]
     },
     "execution_count": 102,
     "metadata": {},
     "output_type": "execute_result"
    }
   ],
   "source": [
    "# Calculate the total Vermont Item/Bottle Count.\n",
    "Vermont[\"Item/Bottle Count\"].sum()"
   ]
  },
  {
   "cell_type": "code",
   "execution_count": 103,
   "id": "7c4d6473",
   "metadata": {},
   "outputs": [],
   "source": [
    "slice_list = [\"VA\"]\n",
    "Virginia = states_2019.iloc[states_2019.index.isin(slice_list)]\n",
    "#Virginia"
   ]
  },
  {
   "cell_type": "code",
   "execution_count": 104,
   "id": "cd24c9ee",
   "metadata": {},
   "outputs": [
    {
     "data": {
      "text/plain": [
       "22536.0"
      ]
     },
     "execution_count": 104,
     "metadata": {},
     "output_type": "execute_result"
    }
   ],
   "source": [
    "# Calculate the total Virginia Item/Bottle Count.\n",
    "Virginia[\"Item/Bottle Count\"].sum()"
   ]
  },
  {
   "cell_type": "code",
   "execution_count": 105,
   "id": "89abc71e",
   "metadata": {},
   "outputs": [],
   "source": [
    "slice_list = [\"WA\"]\n",
    "Washington = states_2019.iloc[states_2019.index.isin(slice_list)]\n",
    "#Washington"
   ]
  },
  {
   "cell_type": "code",
   "execution_count": 106,
   "id": "16318be9",
   "metadata": {},
   "outputs": [
    {
     "data": {
      "text/plain": [
       "12800.0"
      ]
     },
     "execution_count": 106,
     "metadata": {},
     "output_type": "execute_result"
    }
   ],
   "source": [
    "# Calculate the total Washington Item/Bottle Count.\n",
    "Washington[\"Item/Bottle Count\"].sum()"
   ]
  },
  {
   "cell_type": "code",
   "execution_count": 107,
   "id": "1a13d169",
   "metadata": {},
   "outputs": [],
   "source": [
    "slice_list = [\"WV\"]\n",
    "West_Virginia = states_2019.iloc[states_2019.index.isin(slice_list)]\n",
    "#West_Virginia"
   ]
  },
  {
   "cell_type": "code",
   "execution_count": 108,
   "id": "7bac9c7c",
   "metadata": {},
   "outputs": [
    {
     "data": {
      "text/plain": [
       "1541.0"
      ]
     },
     "execution_count": 108,
     "metadata": {},
     "output_type": "execute_result"
    }
   ],
   "source": [
    "# Calculate the total West Virginia Item/Bottle Count.\n",
    "West_Virginia[\"Item/Bottle Count\"].sum()"
   ]
  },
  {
   "cell_type": "code",
   "execution_count": 109,
   "id": "57a6d385",
   "metadata": {},
   "outputs": [],
   "source": [
    "slice_list = [\"WI\"]\n",
    "Wisconsin = states_2019.iloc[states_2019.index.isin(slice_list)]\n",
    "#Wisconsin"
   ]
  },
  {
   "cell_type": "code",
   "execution_count": 110,
   "id": "a20b77c2",
   "metadata": {},
   "outputs": [
    {
     "data": {
      "text/plain": [
       "10417.0"
      ]
     },
     "execution_count": 110,
     "metadata": {},
     "output_type": "execute_result"
    }
   ],
   "source": [
    "# Calculate the total Wisconsin Item/Bottle Count.\n",
    "Wisconsin[\"Item/Bottle Count\"].sum()"
   ]
  },
  {
   "cell_type": "code",
   "execution_count": 111,
   "id": "806f3be5",
   "metadata": {},
   "outputs": [],
   "source": [
    "slice_list = [\"WY\"]\n",
    "Wyoming = states_2019.iloc[states_2019.index.isin(slice_list)]\n",
    "#Wyoming"
   ]
  },
  {
   "cell_type": "code",
   "execution_count": 112,
   "id": "6eb9c5bf",
   "metadata": {},
   "outputs": [
    {
     "data": {
      "text/plain": [
       "1411.0"
      ]
     },
     "execution_count": 112,
     "metadata": {},
     "output_type": "execute_result"
    }
   ],
   "source": [
    "# Calculate the total Wyoming Item/Bottle Count.\n",
    "Wyoming[\"Item/Bottle Count\"].sum()"
   ]
  },
  {
   "cell_type": "markdown",
   "id": "c2b5439f",
   "metadata": {},
   "source": [
    "## Red Vs Blue"
   ]
  },
  {
   "cell_type": "code",
   "execution_count": 113,
   "id": "0af741d6",
   "metadata": {},
   "outputs": [
    {
     "data": {
      "text/html": [
       "<div>\n",
       "<style scoped>\n",
       "    .dataframe tbody tr th:only-of-type {\n",
       "        vertical-align: middle;\n",
       "    }\n",
       "\n",
       "    .dataframe tbody tr th {\n",
       "        vertical-align: top;\n",
       "    }\n",
       "\n",
       "    .dataframe thead th {\n",
       "        text-align: right;\n",
       "    }\n",
       "</style>\n",
       "<table border=\"1\" class=\"dataframe\">\n",
       "  <thead>\n",
       "    <tr style=\"text-align: right;\">\n",
       "      <th></th>\n",
       "      <th>Unnamed: 0</th>\n",
       "      <th>Order Number</th>\n",
       "      <th>Company Name</th>\n",
       "      <th>Ship Date</th>\n",
       "      <th>City</th>\n",
       "      <th>Created Date</th>\n",
       "      <th>Item/Bottle Count</th>\n",
       "      <th>Weight</th>\n",
       "      <th>Population</th>\n",
       "      <th>Lockdown Start</th>\n",
       "      <th>Initial Expected Lockdown End</th>\n",
       "      <th>Phase 1 Re-Opening Start</th>\n",
       "      <th>Political Alignment</th>\n",
       "    </tr>\n",
       "    <tr>\n",
       "      <th>State</th>\n",
       "      <th></th>\n",
       "      <th></th>\n",
       "      <th></th>\n",
       "      <th></th>\n",
       "      <th></th>\n",
       "      <th></th>\n",
       "      <th></th>\n",
       "      <th></th>\n",
       "      <th></th>\n",
       "      <th></th>\n",
       "      <th></th>\n",
       "      <th></th>\n",
       "      <th></th>\n",
       "    </tr>\n",
       "  </thead>\n",
       "  <tbody>\n",
       "    <tr>\n",
       "      <th>FL</th>\n",
       "      <td>1</td>\n",
       "      <td>1</td>\n",
       "      <td>Ecom3</td>\n",
       "      <td>11/15/19</td>\n",
       "      <td>CORAL GABLES</td>\n",
       "      <td>11/14/19</td>\n",
       "      <td>12.0</td>\n",
       "      <td>36.0</td>\n",
       "      <td>21,477,737</td>\n",
       "      <td>4/1/2020</td>\n",
       "      <td>5/1/2020</td>\n",
       "      <td>9/25/2020</td>\n",
       "      <td>Red</td>\n",
       "    </tr>\n",
       "    <tr>\n",
       "      <th>AR</th>\n",
       "      <td>10</td>\n",
       "      <td>10</td>\n",
       "      <td>Ecom3</td>\n",
       "      <td>11/14/19</td>\n",
       "      <td>LITTLE ROCK</td>\n",
       "      <td>11/13/19</td>\n",
       "      <td>6.0</td>\n",
       "      <td>18.0</td>\n",
       "      <td>3,017,804</td>\n",
       "      <td>3/15/2020</td>\n",
       "      <td>3/27/2020</td>\n",
       "      <td>6/5/2020</td>\n",
       "      <td>Red</td>\n",
       "    </tr>\n",
       "    <tr>\n",
       "      <th>FL</th>\n",
       "      <td>11</td>\n",
       "      <td>11</td>\n",
       "      <td>Ecom3</td>\n",
       "      <td>11/13/19</td>\n",
       "      <td>NAPLES</td>\n",
       "      <td>11/12/19</td>\n",
       "      <td>6.0</td>\n",
       "      <td>18.0</td>\n",
       "      <td>21,477,737</td>\n",
       "      <td>4/1/2020</td>\n",
       "      <td>5/1/2020</td>\n",
       "      <td>9/25/2020</td>\n",
       "      <td>Red</td>\n",
       "    </tr>\n",
       "    <tr>\n",
       "      <th>AR</th>\n",
       "      <td>18</td>\n",
       "      <td>18</td>\n",
       "      <td>Ecom3</td>\n",
       "      <td>11/14/19</td>\n",
       "      <td>JONESBORO</td>\n",
       "      <td>11/13/19</td>\n",
       "      <td>6.0</td>\n",
       "      <td>18.0</td>\n",
       "      <td>3,017,804</td>\n",
       "      <td>3/15/2020</td>\n",
       "      <td>3/27/2020</td>\n",
       "      <td>6/5/2020</td>\n",
       "      <td>Red</td>\n",
       "    </tr>\n",
       "    <tr>\n",
       "      <th>TN</th>\n",
       "      <td>21</td>\n",
       "      <td>21</td>\n",
       "      <td>Ecom3</td>\n",
       "      <td>11/15/19</td>\n",
       "      <td>NASHVILLE</td>\n",
       "      <td>11/14/19</td>\n",
       "      <td>12.0</td>\n",
       "      <td>36.0</td>\n",
       "      <td>6,829,174</td>\n",
       "      <td>4/2/2020</td>\n",
       "      <td>4/14/2020</td>\n",
       "      <td>5/1/2020</td>\n",
       "      <td>Red</td>\n",
       "    </tr>\n",
       "  </tbody>\n",
       "</table>\n",
       "</div>"
      ],
      "text/plain": [
       "       Unnamed: 0  Order Number Company Name Ship Date          City  \\\n",
       "State                                                                  \n",
       "FL              1             1        Ecom3  11/15/19  CORAL GABLES   \n",
       "AR             10            10        Ecom3  11/14/19   LITTLE ROCK   \n",
       "FL             11            11        Ecom3  11/13/19        NAPLES   \n",
       "AR             18            18        Ecom3  11/14/19     JONESBORO   \n",
       "TN             21            21        Ecom3  11/15/19     NASHVILLE   \n",
       "\n",
       "      Created Date  Item/Bottle Count  Weight  Population Lockdown Start  \\\n",
       "State                                                                      \n",
       "FL        11/14/19               12.0    36.0  21,477,737       4/1/2020   \n",
       "AR        11/13/19                6.0    18.0   3,017,804      3/15/2020   \n",
       "FL        11/12/19                6.0    18.0  21,477,737       4/1/2020   \n",
       "AR        11/13/19                6.0    18.0   3,017,804      3/15/2020   \n",
       "TN        11/14/19               12.0    36.0   6,829,174       4/2/2020   \n",
       "\n",
       "      Initial Expected Lockdown End Phase 1 Re-Opening Start  \\\n",
       "State                                                          \n",
       "FL                         5/1/2020                9/25/2020   \n",
       "AR                        3/27/2020                 6/5/2020   \n",
       "FL                         5/1/2020                9/25/2020   \n",
       "AR                        3/27/2020                 6/5/2020   \n",
       "TN                        4/14/2020                 5/1/2020   \n",
       "\n",
       "      Political Alignment  \n",
       "State                      \n",
       "FL                    Red  \n",
       "AR                    Red  \n",
       "FL                    Red  \n",
       "AR                    Red  \n",
       "TN                    Red  "
      ]
     },
     "execution_count": 113,
     "metadata": {},
     "output_type": "execute_result"
    }
   ],
   "source": [
    "#Create a df with only orders created in red states.\n",
    "red_states_2019= states_2019[states_2019['Political Alignment'] == 'Red']\n",
    "red_states_2019.head()"
   ]
  },
  {
   "cell_type": "code",
   "execution_count": 114,
   "id": "af0fed5b",
   "metadata": {},
   "outputs": [
    {
     "data": {
      "text/plain": [
       "array(['Red'], dtype=object)"
      ]
     },
     "execution_count": 114,
     "metadata": {},
     "output_type": "execute_result"
    }
   ],
   "source": [
    "#Check that red_states_2019 is all \"Red\"\n",
    "red_states_2019[\"Political Alignment\"].unique()"
   ]
  },
  {
   "cell_type": "code",
   "execution_count": 115,
   "id": "1cc5cdcf",
   "metadata": {},
   "outputs": [
    {
     "data": {
      "text/html": [
       "<div>\n",
       "<style scoped>\n",
       "    .dataframe tbody tr th:only-of-type {\n",
       "        vertical-align: middle;\n",
       "    }\n",
       "\n",
       "    .dataframe tbody tr th {\n",
       "        vertical-align: top;\n",
       "    }\n",
       "\n",
       "    .dataframe thead th {\n",
       "        text-align: right;\n",
       "    }\n",
       "</style>\n",
       "<table border=\"1\" class=\"dataframe\">\n",
       "  <thead>\n",
       "    <tr style=\"text-align: right;\">\n",
       "      <th></th>\n",
       "      <th>State</th>\n",
       "      <th>Unnamed: 0</th>\n",
       "      <th>Order Number</th>\n",
       "      <th>Company Name</th>\n",
       "      <th>Ship Date</th>\n",
       "      <th>City</th>\n",
       "      <th>Created Date</th>\n",
       "      <th>Item/Bottle Count</th>\n",
       "      <th>Weight</th>\n",
       "      <th>Population</th>\n",
       "      <th>Lockdown Start</th>\n",
       "      <th>Initial Expected Lockdown End</th>\n",
       "      <th>Phase 1 Re-Opening Start</th>\n",
       "      <th>Political Alignment</th>\n",
       "    </tr>\n",
       "  </thead>\n",
       "  <tbody>\n",
       "    <tr>\n",
       "      <th>0</th>\n",
       "      <td>FL</td>\n",
       "      <td>1</td>\n",
       "      <td>1</td>\n",
       "      <td>Ecom3</td>\n",
       "      <td>11/15/19</td>\n",
       "      <td>CORAL GABLES</td>\n",
       "      <td>11/14/19</td>\n",
       "      <td>12.0</td>\n",
       "      <td>36.0</td>\n",
       "      <td>21,477,737</td>\n",
       "      <td>4/1/2020</td>\n",
       "      <td>5/1/2020</td>\n",
       "      <td>9/25/2020</td>\n",
       "      <td>Red</td>\n",
       "    </tr>\n",
       "    <tr>\n",
       "      <th>1</th>\n",
       "      <td>AR</td>\n",
       "      <td>10</td>\n",
       "      <td>10</td>\n",
       "      <td>Ecom3</td>\n",
       "      <td>11/14/19</td>\n",
       "      <td>LITTLE ROCK</td>\n",
       "      <td>11/13/19</td>\n",
       "      <td>6.0</td>\n",
       "      <td>18.0</td>\n",
       "      <td>3,017,804</td>\n",
       "      <td>3/15/2020</td>\n",
       "      <td>3/27/2020</td>\n",
       "      <td>6/5/2020</td>\n",
       "      <td>Red</td>\n",
       "    </tr>\n",
       "    <tr>\n",
       "      <th>2</th>\n",
       "      <td>FL</td>\n",
       "      <td>11</td>\n",
       "      <td>11</td>\n",
       "      <td>Ecom3</td>\n",
       "      <td>11/13/19</td>\n",
       "      <td>NAPLES</td>\n",
       "      <td>11/12/19</td>\n",
       "      <td>6.0</td>\n",
       "      <td>18.0</td>\n",
       "      <td>21,477,737</td>\n",
       "      <td>4/1/2020</td>\n",
       "      <td>5/1/2020</td>\n",
       "      <td>9/25/2020</td>\n",
       "      <td>Red</td>\n",
       "    </tr>\n",
       "    <tr>\n",
       "      <th>3</th>\n",
       "      <td>AR</td>\n",
       "      <td>18</td>\n",
       "      <td>18</td>\n",
       "      <td>Ecom3</td>\n",
       "      <td>11/14/19</td>\n",
       "      <td>JONESBORO</td>\n",
       "      <td>11/13/19</td>\n",
       "      <td>6.0</td>\n",
       "      <td>18.0</td>\n",
       "      <td>3,017,804</td>\n",
       "      <td>3/15/2020</td>\n",
       "      <td>3/27/2020</td>\n",
       "      <td>6/5/2020</td>\n",
       "      <td>Red</td>\n",
       "    </tr>\n",
       "    <tr>\n",
       "      <th>4</th>\n",
       "      <td>TN</td>\n",
       "      <td>21</td>\n",
       "      <td>21</td>\n",
       "      <td>Ecom3</td>\n",
       "      <td>11/15/19</td>\n",
       "      <td>NASHVILLE</td>\n",
       "      <td>11/14/19</td>\n",
       "      <td>12.0</td>\n",
       "      <td>36.0</td>\n",
       "      <td>6,829,174</td>\n",
       "      <td>4/2/2020</td>\n",
       "      <td>4/14/2020</td>\n",
       "      <td>5/1/2020</td>\n",
       "      <td>Red</td>\n",
       "    </tr>\n",
       "    <tr>\n",
       "      <th>...</th>\n",
       "      <td>...</td>\n",
       "      <td>...</td>\n",
       "      <td>...</td>\n",
       "      <td>...</td>\n",
       "      <td>...</td>\n",
       "      <td>...</td>\n",
       "      <td>...</td>\n",
       "      <td>...</td>\n",
       "      <td>...</td>\n",
       "      <td>...</td>\n",
       "      <td>...</td>\n",
       "      <td>...</td>\n",
       "      <td>...</td>\n",
       "      <td>...</td>\n",
       "    </tr>\n",
       "    <tr>\n",
       "      <th>43940</th>\n",
       "      <td>FL</td>\n",
       "      <td>155162</td>\n",
       "      <td>155162</td>\n",
       "      <td>Ecom2</td>\n",
       "      <td>12/30/19</td>\n",
       "      <td>Miami Beach</td>\n",
       "      <td>12/29/19</td>\n",
       "      <td>2.0</td>\n",
       "      <td>6.0</td>\n",
       "      <td>21,477,737</td>\n",
       "      <td>4/1/2020</td>\n",
       "      <td>5/1/2020</td>\n",
       "      <td>9/25/2020</td>\n",
       "      <td>Red</td>\n",
       "    </tr>\n",
       "    <tr>\n",
       "      <th>43941</th>\n",
       "      <td>NC</td>\n",
       "      <td>155163</td>\n",
       "      <td>155163</td>\n",
       "      <td>Ecom2</td>\n",
       "      <td>12/30/19</td>\n",
       "      <td>Mooresville</td>\n",
       "      <td>12/29/19</td>\n",
       "      <td>2.0</td>\n",
       "      <td>6.0</td>\n",
       "      <td>10,488,084</td>\n",
       "      <td>3/30/2020</td>\n",
       "      <td>4/29/2020</td>\n",
       "      <td>5/20/2020</td>\n",
       "      <td>Red</td>\n",
       "    </tr>\n",
       "    <tr>\n",
       "      <th>43942</th>\n",
       "      <td>FL</td>\n",
       "      <td>155164</td>\n",
       "      <td>155164</td>\n",
       "      <td>Ecom2</td>\n",
       "      <td>12/30/19</td>\n",
       "      <td>Jupiter</td>\n",
       "      <td>12/29/19</td>\n",
       "      <td>2.0</td>\n",
       "      <td>6.0</td>\n",
       "      <td>21,477,737</td>\n",
       "      <td>4/1/2020</td>\n",
       "      <td>5/1/2020</td>\n",
       "      <td>9/25/2020</td>\n",
       "      <td>Red</td>\n",
       "    </tr>\n",
       "    <tr>\n",
       "      <th>43943</th>\n",
       "      <td>TX</td>\n",
       "      <td>155165</td>\n",
       "      <td>155165</td>\n",
       "      <td>Ecom2</td>\n",
       "      <td>12/30/19</td>\n",
       "      <td>Houston</td>\n",
       "      <td>12/29/19</td>\n",
       "      <td>2.0</td>\n",
       "      <td>6.0</td>\n",
       "      <td>28,995,881</td>\n",
       "      <td>3/31/2020</td>\n",
       "      <td>5/4/2020</td>\n",
       "      <td>5/1/2020</td>\n",
       "      <td>Red</td>\n",
       "    </tr>\n",
       "    <tr>\n",
       "      <th>43944</th>\n",
       "      <td>TX</td>\n",
       "      <td>155166</td>\n",
       "      <td>155166</td>\n",
       "      <td>Ecom2</td>\n",
       "      <td>12/30/19</td>\n",
       "      <td>Fort Worth</td>\n",
       "      <td>12/29/19</td>\n",
       "      <td>2.0</td>\n",
       "      <td>6.0</td>\n",
       "      <td>28,995,881</td>\n",
       "      <td>3/31/2020</td>\n",
       "      <td>5/4/2020</td>\n",
       "      <td>5/1/2020</td>\n",
       "      <td>Red</td>\n",
       "    </tr>\n",
       "  </tbody>\n",
       "</table>\n",
       "<p>43945 rows × 14 columns</p>\n",
       "</div>"
      ],
      "text/plain": [
       "      State  Unnamed: 0  Order Number Company Name Ship Date          City  \\\n",
       "0        FL           1             1        Ecom3  11/15/19  CORAL GABLES   \n",
       "1        AR          10            10        Ecom3  11/14/19   LITTLE ROCK   \n",
       "2        FL          11            11        Ecom3  11/13/19        NAPLES   \n",
       "3        AR          18            18        Ecom3  11/14/19     JONESBORO   \n",
       "4        TN          21            21        Ecom3  11/15/19     NASHVILLE   \n",
       "...     ...         ...           ...          ...       ...           ...   \n",
       "43940    FL      155162        155162        Ecom2  12/30/19   Miami Beach   \n",
       "43941    NC      155163        155163        Ecom2  12/30/19   Mooresville   \n",
       "43942    FL      155164        155164        Ecom2  12/30/19       Jupiter   \n",
       "43943    TX      155165        155165        Ecom2  12/30/19       Houston   \n",
       "43944    TX      155166        155166        Ecom2  12/30/19    Fort Worth   \n",
       "\n",
       "      Created Date  Item/Bottle Count  Weight  Population Lockdown Start  \\\n",
       "0         11/14/19               12.0    36.0  21,477,737       4/1/2020   \n",
       "1         11/13/19                6.0    18.0   3,017,804      3/15/2020   \n",
       "2         11/12/19                6.0    18.0  21,477,737       4/1/2020   \n",
       "3         11/13/19                6.0    18.0   3,017,804      3/15/2020   \n",
       "4         11/14/19               12.0    36.0   6,829,174       4/2/2020   \n",
       "...            ...                ...     ...         ...            ...   \n",
       "43940     12/29/19                2.0     6.0  21,477,737       4/1/2020   \n",
       "43941     12/29/19                2.0     6.0  10,488,084      3/30/2020   \n",
       "43942     12/29/19                2.0     6.0  21,477,737       4/1/2020   \n",
       "43943     12/29/19                2.0     6.0  28,995,881      3/31/2020   \n",
       "43944     12/29/19                2.0     6.0  28,995,881      3/31/2020   \n",
       "\n",
       "      Initial Expected Lockdown End Phase 1 Re-Opening Start  \\\n",
       "0                          5/1/2020                9/25/2020   \n",
       "1                         3/27/2020                 6/5/2020   \n",
       "2                          5/1/2020                9/25/2020   \n",
       "3                         3/27/2020                 6/5/2020   \n",
       "4                         4/14/2020                 5/1/2020   \n",
       "...                             ...                      ...   \n",
       "43940                      5/1/2020                9/25/2020   \n",
       "43941                     4/29/2020                5/20/2020   \n",
       "43942                      5/1/2020                9/25/2020   \n",
       "43943                      5/4/2020                 5/1/2020   \n",
       "43944                      5/4/2020                 5/1/2020   \n",
       "\n",
       "      Political Alignment  \n",
       "0                     Red  \n",
       "1                     Red  \n",
       "2                     Red  \n",
       "3                     Red  \n",
       "4                     Red  \n",
       "...                   ...  \n",
       "43940                 Red  \n",
       "43941                 Red  \n",
       "43942                 Red  \n",
       "43943                 Red  \n",
       "43944                 Red  \n",
       "\n",
       "[43945 rows x 14 columns]"
      ]
     },
     "execution_count": 115,
     "metadata": {},
     "output_type": "execute_result"
    }
   ],
   "source": [
    "new_red_states_2019 = red_states_2019.reset_index()\n",
    "new_red_states_2019"
   ]
  },
  {
   "cell_type": "code",
   "execution_count": 116,
   "id": "ebc49e79",
   "metadata": {},
   "outputs": [
    {
     "data": {
      "text/html": [
       "<div>\n",
       "<style scoped>\n",
       "    .dataframe tbody tr th:only-of-type {\n",
       "        vertical-align: middle;\n",
       "    }\n",
       "\n",
       "    .dataframe tbody tr th {\n",
       "        vertical-align: top;\n",
       "    }\n",
       "\n",
       "    .dataframe thead th {\n",
       "        text-align: right;\n",
       "    }\n",
       "</style>\n",
       "<table border=\"1\" class=\"dataframe\">\n",
       "  <thead>\n",
       "    <tr style=\"text-align: right;\">\n",
       "      <th></th>\n",
       "      <th>Unnamed: 0</th>\n",
       "      <th>Order Number</th>\n",
       "      <th>Item/Bottle Count</th>\n",
       "      <th>Weight</th>\n",
       "    </tr>\n",
       "  </thead>\n",
       "  <tbody>\n",
       "    <tr>\n",
       "      <th>count</th>\n",
       "      <td>43945.000000</td>\n",
       "      <td>43945.000000</td>\n",
       "      <td>43945.000000</td>\n",
       "      <td>43945.000000</td>\n",
       "    </tr>\n",
       "    <tr>\n",
       "      <th>mean</th>\n",
       "      <td>74502.086290</td>\n",
       "      <td>74502.086290</td>\n",
       "      <td>5.520810</td>\n",
       "      <td>16.652133</td>\n",
       "    </tr>\n",
       "    <tr>\n",
       "      <th>std</th>\n",
       "      <td>43431.202781</td>\n",
       "      <td>43431.202781</td>\n",
       "      <td>2.960282</td>\n",
       "      <td>8.869011</td>\n",
       "    </tr>\n",
       "    <tr>\n",
       "      <th>min</th>\n",
       "      <td>1.000000</td>\n",
       "      <td>1.000000</td>\n",
       "      <td>1.000000</td>\n",
       "      <td>1.000000</td>\n",
       "    </tr>\n",
       "    <tr>\n",
       "      <th>25%</th>\n",
       "      <td>37069.000000</td>\n",
       "      <td>37069.000000</td>\n",
       "      <td>3.000000</td>\n",
       "      <td>9.000000</td>\n",
       "    </tr>\n",
       "    <tr>\n",
       "      <th>50%</th>\n",
       "      <td>75679.000000</td>\n",
       "      <td>75679.000000</td>\n",
       "      <td>6.000000</td>\n",
       "      <td>18.000000</td>\n",
       "    </tr>\n",
       "    <tr>\n",
       "      <th>75%</th>\n",
       "      <td>109917.000000</td>\n",
       "      <td>109917.000000</td>\n",
       "      <td>6.000000</td>\n",
       "      <td>18.000000</td>\n",
       "    </tr>\n",
       "    <tr>\n",
       "      <th>max</th>\n",
       "      <td>155166.000000</td>\n",
       "      <td>155166.000000</td>\n",
       "      <td>14.000000</td>\n",
       "      <td>42.000000</td>\n",
       "    </tr>\n",
       "  </tbody>\n",
       "</table>\n",
       "</div>"
      ],
      "text/plain": [
       "          Unnamed: 0   Order Number  Item/Bottle Count        Weight\n",
       "count   43945.000000   43945.000000       43945.000000  43945.000000\n",
       "mean    74502.086290   74502.086290           5.520810     16.652133\n",
       "std     43431.202781   43431.202781           2.960282      8.869011\n",
       "min         1.000000       1.000000           1.000000      1.000000\n",
       "25%     37069.000000   37069.000000           3.000000      9.000000\n",
       "50%     75679.000000   75679.000000           6.000000     18.000000\n",
       "75%    109917.000000  109917.000000           6.000000     18.000000\n",
       "max    155166.000000  155166.000000          14.000000     42.000000"
      ]
     },
     "execution_count": 116,
     "metadata": {},
     "output_type": "execute_result"
    }
   ],
   "source": [
    "#Generate summary statistics for red_states_2019\n",
    "red_summary_statistics_2019 = red_states_2019.describe()\n",
    "red_summary_statistics_2019"
   ]
  },
  {
   "cell_type": "code",
   "execution_count": 117,
   "id": "08c0f1bf",
   "metadata": {},
   "outputs": [
    {
     "data": {
      "text/plain": [
       "242612.0"
      ]
     },
     "execution_count": 117,
     "metadata": {},
     "output_type": "execute_result"
    }
   ],
   "source": [
    "# Calculate the total 2019 Item/Bottle Count for Red States.\n",
    "total_red_count_2019 = red_states_2019[\"Item/Bottle Count\"].sum()\n",
    "total_red_count_2019"
   ]
  },
  {
   "cell_type": "code",
   "execution_count": 118,
   "id": "10904ce8",
   "metadata": {},
   "outputs": [
    {
     "data": {
      "text/plain": [
       "array(['FL', 'AR', 'TN', 'NC', 'MO', 'OH', 'TX', 'WV', 'SC', 'IN', 'LA',\n",
       "       'KS', 'MT', 'IA', 'NE', 'ID', 'WY', 'SD', 'ND', 'AK', 'OK', 'AL',\n",
       "       'KY'], dtype=object)"
      ]
     },
     "execution_count": 118,
     "metadata": {},
     "output_type": "execute_result"
    }
   ],
   "source": [
    "new_red_states_2019.State.unique()"
   ]
  },
  {
   "cell_type": "code",
   "execution_count": 119,
   "id": "dad6887e",
   "metadata": {},
   "outputs": [],
   "source": [
    "# Adding a list of values with keys to create a new DataFrame for Red states only.\n",
    "R = {'Red State': ['Alabama', 'Alaska', 'Arkansas', 'Florida', 'Idaho', 'Indiana', 'Iowa', 'Kansas', 'Kentucky', \n",
    "               'Louisiana', 'Missouri', 'Montana', 'Nebraska', 'North Carolina', 'North Dakota',\n",
    "               'Ohio', 'Oklahoma', 'South Carolina', 'South Dakota', 'Tennessee', 'Texas', 'West Virginia', 'Wyoming',  \n",
    "                ],\n",
    "     'Total Item/Bottle Count': [Alabama[\"Item/Bottle Count\"].sum(), \n",
    "            Alaska[\"Item/Bottle Count\"].sum(),  \n",
    "            Arkansas[\"Item/Bottle Count\"].sum(), \n",
    "            Florida[\"Item/Bottle Count\"].sum(),\n",
    "            Idaho[\"Item/Bottle Count\"].sum(),\n",
    "            Indiana[\"Item/Bottle Count\"].sum(),\n",
    "            Iowa[\"Item/Bottle Count\"].sum(),\n",
    "            Kansas[\"Item/Bottle Count\"].sum(),\n",
    "            Kentucky[\"Item/Bottle Count\"].sum(),\n",
    "            Louisiana[\"Item/Bottle Count\"].sum(),\n",
    "            Missouri[\"Item/Bottle Count\"].sum(),\n",
    "            Montana[\"Item/Bottle Count\"].sum(),\n",
    "            Nebraska[\"Item/Bottle Count\"].sum(),\n",
    "            North_Carolina[\"Item/Bottle Count\"].sum(),\n",
    "            North_Dakota[\"Item/Bottle Count\"].sum(),\n",
    "            Ohio[\"Item/Bottle Count\"].sum(),\n",
    "            Oklahoma[\"Item/Bottle Count\"].sum(),\n",
    "            South_Carolina[\"Item/Bottle Count\"].sum(),\n",
    "            South_Dakota[\"Item/Bottle Count\"].sum(),\n",
    "            Tennessee[\"Item/Bottle Count\"].sum(),\n",
    "            Texas[\"Item/Bottle Count\"].sum(),\n",
    "            West_Virginia[\"Item/Bottle Count\"].sum(),\n",
    "            Wyoming[\"Item/Bottle Count\"].sum()]}"
   ]
  },
  {
   "cell_type": "code",
   "execution_count": 120,
   "id": "feb30edb",
   "metadata": {},
   "outputs": [
    {
     "data": {
      "text/html": [
       "<div>\n",
       "<style scoped>\n",
       "    .dataframe tbody tr th:only-of-type {\n",
       "        vertical-align: middle;\n",
       "    }\n",
       "\n",
       "    .dataframe tbody tr th {\n",
       "        vertical-align: top;\n",
       "    }\n",
       "\n",
       "    .dataframe thead th {\n",
       "        text-align: right;\n",
       "    }\n",
       "</style>\n",
       "<table border=\"1\" class=\"dataframe\">\n",
       "  <thead>\n",
       "    <tr style=\"text-align: right;\">\n",
       "      <th></th>\n",
       "      <th>Red State</th>\n",
       "      <th>Total Item/Bottle Count</th>\n",
       "    </tr>\n",
       "  </thead>\n",
       "  <tbody>\n",
       "    <tr>\n",
       "      <th>0</th>\n",
       "      <td>Alabama</td>\n",
       "      <td>1751.0</td>\n",
       "    </tr>\n",
       "    <tr>\n",
       "      <th>1</th>\n",
       "      <td>Alaska</td>\n",
       "      <td>1665.0</td>\n",
       "    </tr>\n",
       "    <tr>\n",
       "      <th>2</th>\n",
       "      <td>Arkansas</td>\n",
       "      <td>5111.0</td>\n",
       "    </tr>\n",
       "    <tr>\n",
       "      <th>3</th>\n",
       "      <td>Florida</td>\n",
       "      <td>55780.0</td>\n",
       "    </tr>\n",
       "    <tr>\n",
       "      <th>4</th>\n",
       "      <td>Idaho</td>\n",
       "      <td>2456.0</td>\n",
       "    </tr>\n",
       "    <tr>\n",
       "      <th>5</th>\n",
       "      <td>Indiana</td>\n",
       "      <td>10996.0</td>\n",
       "    </tr>\n",
       "    <tr>\n",
       "      <th>6</th>\n",
       "      <td>Iowa</td>\n",
       "      <td>3605.0</td>\n",
       "    </tr>\n",
       "    <tr>\n",
       "      <th>7</th>\n",
       "      <td>Kansas</td>\n",
       "      <td>5949.0</td>\n",
       "    </tr>\n",
       "    <tr>\n",
       "      <th>8</th>\n",
       "      <td>Kentucky</td>\n",
       "      <td>52.0</td>\n",
       "    </tr>\n",
       "    <tr>\n",
       "      <th>9</th>\n",
       "      <td>Louisiana</td>\n",
       "      <td>9000.0</td>\n",
       "    </tr>\n",
       "    <tr>\n",
       "      <th>10</th>\n",
       "      <td>Missouri</td>\n",
       "      <td>10167.0</td>\n",
       "    </tr>\n",
       "    <tr>\n",
       "      <th>11</th>\n",
       "      <td>Montana</td>\n",
       "      <td>1868.0</td>\n",
       "    </tr>\n",
       "    <tr>\n",
       "      <th>12</th>\n",
       "      <td>Nebraska</td>\n",
       "      <td>2956.0</td>\n",
       "    </tr>\n",
       "    <tr>\n",
       "      <th>13</th>\n",
       "      <td>North Carolina</td>\n",
       "      <td>18817.0</td>\n",
       "    </tr>\n",
       "    <tr>\n",
       "      <th>14</th>\n",
       "      <td>North Dakota</td>\n",
       "      <td>1033.0</td>\n",
       "    </tr>\n",
       "    <tr>\n",
       "      <th>15</th>\n",
       "      <td>Ohio</td>\n",
       "      <td>22436.0</td>\n",
       "    </tr>\n",
       "    <tr>\n",
       "      <th>16</th>\n",
       "      <td>Oklahoma</td>\n",
       "      <td>1927.0</td>\n",
       "    </tr>\n",
       "    <tr>\n",
       "      <th>17</th>\n",
       "      <td>South Carolina</td>\n",
       "      <td>9457.0</td>\n",
       "    </tr>\n",
       "    <tr>\n",
       "      <th>18</th>\n",
       "      <td>South Dakota</td>\n",
       "      <td>2545.0</td>\n",
       "    </tr>\n",
       "    <tr>\n",
       "      <th>19</th>\n",
       "      <td>Tennessee</td>\n",
       "      <td>12090.0</td>\n",
       "    </tr>\n",
       "    <tr>\n",
       "      <th>20</th>\n",
       "      <td>Texas</td>\n",
       "      <td>59999.0</td>\n",
       "    </tr>\n",
       "    <tr>\n",
       "      <th>21</th>\n",
       "      <td>West Virginia</td>\n",
       "      <td>1541.0</td>\n",
       "    </tr>\n",
       "    <tr>\n",
       "      <th>22</th>\n",
       "      <td>Wyoming</td>\n",
       "      <td>1411.0</td>\n",
       "    </tr>\n",
       "  </tbody>\n",
       "</table>\n",
       "</div>"
      ],
      "text/plain": [
       "         Red State  Total Item/Bottle Count\n",
       "0          Alabama                   1751.0\n",
       "1           Alaska                   1665.0\n",
       "2         Arkansas                   5111.0\n",
       "3          Florida                  55780.0\n",
       "4            Idaho                   2456.0\n",
       "5          Indiana                  10996.0\n",
       "6             Iowa                   3605.0\n",
       "7           Kansas                   5949.0\n",
       "8         Kentucky                     52.0\n",
       "9        Louisiana                   9000.0\n",
       "10        Missouri                  10167.0\n",
       "11         Montana                   1868.0\n",
       "12        Nebraska                   2956.0\n",
       "13  North Carolina                  18817.0\n",
       "14    North Dakota                   1033.0\n",
       "15            Ohio                  22436.0\n",
       "16        Oklahoma                   1927.0\n",
       "17  South Carolina                   9457.0\n",
       "18    South Dakota                   2545.0\n",
       "19       Tennessee                  12090.0\n",
       "20           Texas                  59999.0\n",
       "21   West Virginia                   1541.0\n",
       "22         Wyoming                   1411.0"
      ]
     },
     "execution_count": 120,
     "metadata": {},
     "output_type": "execute_result"
    }
   ],
   "source": [
    "total_bottle_count_by_red_state = pd.DataFrame.from_dict(data=R)\n",
    "total_bottle_count_by_red_state"
   ]
  },
  {
   "cell_type": "code",
   "execution_count": 121,
   "id": "b39b9844",
   "metadata": {},
   "outputs": [
    {
     "name": "stdout",
     "output_type": "stream",
     "text": [
      "   Red State  Total Item/Bottle Count\n",
      "20     Texas                  59999.0\n"
     ]
    }
   ],
   "source": [
    "#Print the highest bottle count by red state\n",
    "print(total_bottle_count_by_red_state[total_bottle_count_by_red_state[\"Total Item/Bottle Count\"] == \n",
    "                                  total_bottle_count_by_red_state[\"Total Item/Bottle Count\"].max()])"
   ]
  },
  {
   "cell_type": "code",
   "execution_count": 122,
   "id": "c8b0ca5b",
   "metadata": {},
   "outputs": [
    {
     "name": "stdout",
     "output_type": "stream",
     "text": [
      "  Red State  Total Item/Bottle Count\n",
      "8  Kentucky                     52.0\n"
     ]
    }
   ],
   "source": [
    "#Print the lowest bottle count by red state\n",
    "print(total_bottle_count_by_red_state[total_bottle_count_by_red_state[\"Total Item/Bottle Count\"] == \n",
    "                                  total_bottle_count_by_red_state[\"Total Item/Bottle Count\"].min()])"
   ]
  },
  {
   "cell_type": "code",
   "execution_count": 123,
   "id": "411f3352",
   "metadata": {},
   "outputs": [],
   "source": [
    "#Export total_bottle_count_by_red_state to .csv\n",
    "total_bottle_count_by_red_state.to_csv('Resources/2019_total_bottle_count_by_red_state.csv') "
   ]
  },
  {
   "cell_type": "code",
   "execution_count": 124,
   "id": "db0a6394",
   "metadata": {},
   "outputs": [
    {
     "data": {
      "text/html": [
       "<div>\n",
       "<style scoped>\n",
       "    .dataframe tbody tr th:only-of-type {\n",
       "        vertical-align: middle;\n",
       "    }\n",
       "\n",
       "    .dataframe tbody tr th {\n",
       "        vertical-align: top;\n",
       "    }\n",
       "\n",
       "    .dataframe thead th {\n",
       "        text-align: right;\n",
       "    }\n",
       "</style>\n",
       "<table border=\"1\" class=\"dataframe\">\n",
       "  <thead>\n",
       "    <tr style=\"text-align: right;\">\n",
       "      <th></th>\n",
       "      <th>Unnamed: 0</th>\n",
       "      <th>Order Number</th>\n",
       "      <th>Company Name</th>\n",
       "      <th>Ship Date</th>\n",
       "      <th>City</th>\n",
       "      <th>Created Date</th>\n",
       "      <th>Item/Bottle Count</th>\n",
       "      <th>Weight</th>\n",
       "      <th>Population</th>\n",
       "      <th>Lockdown Start</th>\n",
       "      <th>Initial Expected Lockdown End</th>\n",
       "      <th>Phase 1 Re-Opening Start</th>\n",
       "      <th>Political Alignment</th>\n",
       "    </tr>\n",
       "    <tr>\n",
       "      <th>State</th>\n",
       "      <th></th>\n",
       "      <th></th>\n",
       "      <th></th>\n",
       "      <th></th>\n",
       "      <th></th>\n",
       "      <th></th>\n",
       "      <th></th>\n",
       "      <th></th>\n",
       "      <th></th>\n",
       "      <th></th>\n",
       "      <th></th>\n",
       "      <th></th>\n",
       "      <th></th>\n",
       "    </tr>\n",
       "  </thead>\n",
       "  <tbody>\n",
       "    <tr>\n",
       "      <th>PA</th>\n",
       "      <td>0</td>\n",
       "      <td>0</td>\n",
       "      <td>Ecom3</td>\n",
       "      <td>11/19/19</td>\n",
       "      <td>STEELTON</td>\n",
       "      <td>11/18/19</td>\n",
       "      <td>6.0</td>\n",
       "      <td>18.0</td>\n",
       "      <td>12,801,989</td>\n",
       "      <td>3/23/2020</td>\n",
       "      <td>4/30/2020</td>\n",
       "      <td>5/15/2020</td>\n",
       "      <td>Blue</td>\n",
       "    </tr>\n",
       "    <tr>\n",
       "      <th>IL</th>\n",
       "      <td>2</td>\n",
       "      <td>2</td>\n",
       "      <td>Ecom3</td>\n",
       "      <td>11/14/19</td>\n",
       "      <td>CHICAGO</td>\n",
       "      <td>11/13/19</td>\n",
       "      <td>6.0</td>\n",
       "      <td>18.0</td>\n",
       "      <td>12,671,821</td>\n",
       "      <td>3/20/2020</td>\n",
       "      <td>3/30/2020</td>\n",
       "      <td>5/5/2020</td>\n",
       "      <td>Blue</td>\n",
       "    </tr>\n",
       "    <tr>\n",
       "      <th>NJ</th>\n",
       "      <td>3</td>\n",
       "      <td>3</td>\n",
       "      <td>Ecom3</td>\n",
       "      <td>11/15/19</td>\n",
       "      <td>Rumson</td>\n",
       "      <td>11/14/19</td>\n",
       "      <td>12.0</td>\n",
       "      <td>36.0</td>\n",
       "      <td>8,882,190</td>\n",
       "      <td>3/21/2020</td>\n",
       "      <td>1/1/1111</td>\n",
       "      <td>5/12/2020</td>\n",
       "      <td>Blue</td>\n",
       "    </tr>\n",
       "    <tr>\n",
       "      <th>MD</th>\n",
       "      <td>4</td>\n",
       "      <td>4</td>\n",
       "      <td>Ecom3</td>\n",
       "      <td>11/14/19</td>\n",
       "      <td>PASADENA</td>\n",
       "      <td>11/13/19</td>\n",
       "      <td>6.0</td>\n",
       "      <td>18.0</td>\n",
       "      <td>6,045,680</td>\n",
       "      <td>3/12/2020</td>\n",
       "      <td>3/27/2020</td>\n",
       "      <td>5/13/2020</td>\n",
       "      <td>Blue</td>\n",
       "    </tr>\n",
       "    <tr>\n",
       "      <th>NY</th>\n",
       "      <td>5</td>\n",
       "      <td>5</td>\n",
       "      <td>Ecom3</td>\n",
       "      <td>11/14/19</td>\n",
       "      <td>NEW YORK</td>\n",
       "      <td>11/13/19</td>\n",
       "      <td>6.0</td>\n",
       "      <td>18.0</td>\n",
       "      <td>19,453,561</td>\n",
       "      <td>3/22/2020</td>\n",
       "      <td>4/6/2020</td>\n",
       "      <td>6/8/2020</td>\n",
       "      <td>Blue</td>\n",
       "    </tr>\n",
       "  </tbody>\n",
       "</table>\n",
       "</div>"
      ],
      "text/plain": [
       "       Unnamed: 0  Order Number Company Name Ship Date      City Created Date  \\\n",
       "State                                                                           \n",
       "PA              0             0        Ecom3  11/19/19  STEELTON     11/18/19   \n",
       "IL              2             2        Ecom3  11/14/19   CHICAGO     11/13/19   \n",
       "NJ              3             3        Ecom3  11/15/19    Rumson     11/14/19   \n",
       "MD              4             4        Ecom3  11/14/19  PASADENA     11/13/19   \n",
       "NY              5             5        Ecom3  11/14/19  NEW YORK     11/13/19   \n",
       "\n",
       "       Item/Bottle Count  Weight  Population Lockdown Start  \\\n",
       "State                                                         \n",
       "PA                   6.0    18.0  12,801,989      3/23/2020   \n",
       "IL                   6.0    18.0  12,671,821      3/20/2020   \n",
       "NJ                  12.0    36.0   8,882,190      3/21/2020   \n",
       "MD                   6.0    18.0   6,045,680      3/12/2020   \n",
       "NY                   6.0    18.0  19,453,561      3/22/2020   \n",
       "\n",
       "      Initial Expected Lockdown End Phase 1 Re-Opening Start  \\\n",
       "State                                                          \n",
       "PA                        4/30/2020                5/15/2020   \n",
       "IL                        3/30/2020                 5/5/2020   \n",
       "NJ                         1/1/1111                5/12/2020   \n",
       "MD                        3/27/2020                5/13/2020   \n",
       "NY                         4/6/2020                 6/8/2020   \n",
       "\n",
       "      Political Alignment  \n",
       "State                      \n",
       "PA                   Blue  \n",
       "IL                   Blue  \n",
       "NJ                   Blue  \n",
       "MD                   Blue  \n",
       "NY                   Blue  "
      ]
     },
     "execution_count": 124,
     "metadata": {},
     "output_type": "execute_result"
    }
   ],
   "source": [
    "#Create a df with only orders created in blue states.\n",
    "blue_states_2019= states_2019[states_2019['Political Alignment'] == 'Blue']\n",
    "blue_states_2019.head()"
   ]
  },
  {
   "cell_type": "code",
   "execution_count": 125,
   "id": "3734833b",
   "metadata": {},
   "outputs": [
    {
     "data": {
      "text/plain": [
       "array(['Blue'], dtype=object)"
      ]
     },
     "execution_count": 125,
     "metadata": {},
     "output_type": "execute_result"
    }
   ],
   "source": [
    "#Check that blue_states_2019 is all \"Blue\"\n",
    "blue_states_2019[\"Political Alignment\"].unique()"
   ]
  },
  {
   "cell_type": "code",
   "execution_count": 126,
   "id": "928a2f45",
   "metadata": {},
   "outputs": [
    {
     "data": {
      "text/html": [
       "<div>\n",
       "<style scoped>\n",
       "    .dataframe tbody tr th:only-of-type {\n",
       "        vertical-align: middle;\n",
       "    }\n",
       "\n",
       "    .dataframe tbody tr th {\n",
       "        vertical-align: top;\n",
       "    }\n",
       "\n",
       "    .dataframe thead th {\n",
       "        text-align: right;\n",
       "    }\n",
       "</style>\n",
       "<table border=\"1\" class=\"dataframe\">\n",
       "  <thead>\n",
       "    <tr style=\"text-align: right;\">\n",
       "      <th></th>\n",
       "      <th>State</th>\n",
       "      <th>Unnamed: 0</th>\n",
       "      <th>Order Number</th>\n",
       "      <th>Company Name</th>\n",
       "      <th>Ship Date</th>\n",
       "      <th>City</th>\n",
       "      <th>Created Date</th>\n",
       "      <th>Item/Bottle Count</th>\n",
       "      <th>Weight</th>\n",
       "      <th>Population</th>\n",
       "      <th>Lockdown Start</th>\n",
       "      <th>Initial Expected Lockdown End</th>\n",
       "      <th>Phase 1 Re-Opening Start</th>\n",
       "      <th>Political Alignment</th>\n",
       "    </tr>\n",
       "  </thead>\n",
       "  <tbody>\n",
       "    <tr>\n",
       "      <th>0</th>\n",
       "      <td>PA</td>\n",
       "      <td>0</td>\n",
       "      <td>0</td>\n",
       "      <td>Ecom3</td>\n",
       "      <td>11/19/19</td>\n",
       "      <td>STEELTON</td>\n",
       "      <td>11/18/19</td>\n",
       "      <td>6.0</td>\n",
       "      <td>18.0</td>\n",
       "      <td>12,801,989</td>\n",
       "      <td>3/23/2020</td>\n",
       "      <td>4/30/2020</td>\n",
       "      <td>5/15/2020</td>\n",
       "      <td>Blue</td>\n",
       "    </tr>\n",
       "    <tr>\n",
       "      <th>1</th>\n",
       "      <td>IL</td>\n",
       "      <td>2</td>\n",
       "      <td>2</td>\n",
       "      <td>Ecom3</td>\n",
       "      <td>11/14/19</td>\n",
       "      <td>CHICAGO</td>\n",
       "      <td>11/13/19</td>\n",
       "      <td>6.0</td>\n",
       "      <td>18.0</td>\n",
       "      <td>12,671,821</td>\n",
       "      <td>3/20/2020</td>\n",
       "      <td>3/30/2020</td>\n",
       "      <td>5/5/2020</td>\n",
       "      <td>Blue</td>\n",
       "    </tr>\n",
       "    <tr>\n",
       "      <th>2</th>\n",
       "      <td>NJ</td>\n",
       "      <td>3</td>\n",
       "      <td>3</td>\n",
       "      <td>Ecom3</td>\n",
       "      <td>11/15/19</td>\n",
       "      <td>Rumson</td>\n",
       "      <td>11/14/19</td>\n",
       "      <td>12.0</td>\n",
       "      <td>36.0</td>\n",
       "      <td>8,882,190</td>\n",
       "      <td>3/21/2020</td>\n",
       "      <td>1/1/1111</td>\n",
       "      <td>5/12/2020</td>\n",
       "      <td>Blue</td>\n",
       "    </tr>\n",
       "    <tr>\n",
       "      <th>3</th>\n",
       "      <td>MD</td>\n",
       "      <td>4</td>\n",
       "      <td>4</td>\n",
       "      <td>Ecom3</td>\n",
       "      <td>11/14/19</td>\n",
       "      <td>PASADENA</td>\n",
       "      <td>11/13/19</td>\n",
       "      <td>6.0</td>\n",
       "      <td>18.0</td>\n",
       "      <td>6,045,680</td>\n",
       "      <td>3/12/2020</td>\n",
       "      <td>3/27/2020</td>\n",
       "      <td>5/13/2020</td>\n",
       "      <td>Blue</td>\n",
       "    </tr>\n",
       "    <tr>\n",
       "      <th>4</th>\n",
       "      <td>NY</td>\n",
       "      <td>5</td>\n",
       "      <td>5</td>\n",
       "      <td>Ecom3</td>\n",
       "      <td>11/14/19</td>\n",
       "      <td>NEW YORK</td>\n",
       "      <td>11/13/19</td>\n",
       "      <td>6.0</td>\n",
       "      <td>18.0</td>\n",
       "      <td>19,453,561</td>\n",
       "      <td>3/22/2020</td>\n",
       "      <td>4/6/2020</td>\n",
       "      <td>6/8/2020</td>\n",
       "      <td>Blue</td>\n",
       "    </tr>\n",
       "  </tbody>\n",
       "</table>\n",
       "</div>"
      ],
      "text/plain": [
       "  State  Unnamed: 0  Order Number Company Name Ship Date      City  \\\n",
       "0    PA           0             0        Ecom3  11/19/19  STEELTON   \n",
       "1    IL           2             2        Ecom3  11/14/19   CHICAGO   \n",
       "2    NJ           3             3        Ecom3  11/15/19    Rumson   \n",
       "3    MD           4             4        Ecom3  11/14/19  PASADENA   \n",
       "4    NY           5             5        Ecom3  11/14/19  NEW YORK   \n",
       "\n",
       "  Created Date  Item/Bottle Count  Weight  Population Lockdown Start  \\\n",
       "0     11/18/19                6.0    18.0  12,801,989      3/23/2020   \n",
       "1     11/13/19                6.0    18.0  12,671,821      3/20/2020   \n",
       "2     11/14/19               12.0    36.0   8,882,190      3/21/2020   \n",
       "3     11/13/19                6.0    18.0   6,045,680      3/12/2020   \n",
       "4     11/13/19                6.0    18.0  19,453,561      3/22/2020   \n",
       "\n",
       "  Initial Expected Lockdown End Phase 1 Re-Opening Start Political Alignment  \n",
       "0                     4/30/2020                5/15/2020                Blue  \n",
       "1                     3/30/2020                 5/5/2020                Blue  \n",
       "2                      1/1/1111                5/12/2020                Blue  \n",
       "3                     3/27/2020                5/13/2020                Blue  \n",
       "4                      4/6/2020                 6/8/2020                Blue  "
      ]
     },
     "execution_count": 126,
     "metadata": {},
     "output_type": "execute_result"
    }
   ],
   "source": [
    "new_blue_states_2019 = blue_states_2019.reset_index()\n",
    "new_blue_states_2019.head()"
   ]
  },
  {
   "cell_type": "code",
   "execution_count": 127,
   "id": "6f8b9665",
   "metadata": {},
   "outputs": [
    {
     "data": {
      "text/plain": [
       "array(['PA', 'IL', 'NJ', 'MD', 'NY', 'MI', 'VA', 'NH', 'CT', 'MA', 'WI',\n",
       "       'MN', 'CA', 'VT', 'WA', 'GA', 'OR', 'AZ', 'NV', 'CO', 'NM', 'ME',\n",
       "       'DC', 'HI', 'RI', 'DE'], dtype=object)"
      ]
     },
     "execution_count": 127,
     "metadata": {},
     "output_type": "execute_result"
    }
   ],
   "source": [
    "new_blue_states_2019.State.unique()"
   ]
  },
  {
   "cell_type": "code",
   "execution_count": 128,
   "id": "5e05d0fa",
   "metadata": {},
   "outputs": [],
   "source": [
    "# Adding a list of values with keys to create a new DataFrame for Blue states only.\n",
    "B = {'Blue State': ['Arizona', 'California', 'Colordao', 'Connecticut', 'District of Columbia', 'Delaware', 'Georgia',\n",
    "               'Hawaii', 'Illinois', 'Maine', 'Maryland', 'Massachusetts', 'Michigan', 'Minnesota', 'Nevada',\n",
    "               'New Hampshire', 'New Jersey', 'New Mexico', 'New York', 'Oregon', 'Pennsylvania', 'Rhode Island',\n",
    "               'Vermont', 'Virginia', 'Washington',  'Wisconsin',\n",
    "              ],\n",
    "       'Total Item/Bottle Count': [Arizona[\"Item/Bottle Count\"].sum(),    \n",
    "            California[\"Item/Bottle Count\"].sum(),\n",
    "            Colorado[\"Item/Bottle Count\"].sum(),\n",
    "            Connecticut[\"Item/Bottle Count\"].sum(),\n",
    "            DC[\"Item/Bottle Count\"].sum(),\n",
    "            Delaware[\"Item/Bottle Count\"].sum(),\n",
    "            Georgia[\"Item/Bottle Count\"].sum(),\n",
    "            Hawaii[\"Item/Bottle Count\"].sum(),\n",
    "            Illinois[\"Item/Bottle Count\"].sum(),\n",
    "            Maine[\"Item/Bottle Count\"].sum(),\n",
    "            Maryland[\"Item/Bottle Count\"].sum(),\n",
    "            Massachusetts[\"Item/Bottle Count\"].sum(),\n",
    "            Michigan[\"Item/Bottle Count\"].sum(),\n",
    "            Minnesota[\"Item/Bottle Count\"].sum(),\n",
    "            Nevada[\"Item/Bottle Count\"].sum(),\n",
    "            New_Hampshire[\"Item/Bottle Count\"].sum(),\n",
    "            New_Jersey[\"Item/Bottle Count\"].sum(),\n",
    "            New_Mexico[\"Item/Bottle Count\"].sum(),\n",
    "            New_York[\"Item/Bottle Count\"].sum(),\n",
    "            Oregon[\"Item/Bottle Count\"].sum(),\n",
    "            Pennsylvania[\"Item/Bottle Count\"].sum(),\n",
    "            Rhode_Island[\"Item/Bottle Count\"].sum(),\n",
    "            Vermont[\"Item/Bottle Count\"].sum(),\n",
    "            Virginia[\"Item/Bottle Count\"].sum(),\n",
    "            Washington[\"Item/Bottle Count\"].sum(),\n",
    "            Wisconsin[\"Item/Bottle Count\"].sum()]}"
   ]
  },
  {
   "cell_type": "code",
   "execution_count": 129,
   "id": "8b9f90af",
   "metadata": {},
   "outputs": [
    {
     "data": {
      "text/html": [
       "<div>\n",
       "<style scoped>\n",
       "    .dataframe tbody tr th:only-of-type {\n",
       "        vertical-align: middle;\n",
       "    }\n",
       "\n",
       "    .dataframe tbody tr th {\n",
       "        vertical-align: top;\n",
       "    }\n",
       "\n",
       "    .dataframe thead th {\n",
       "        text-align: right;\n",
       "    }\n",
       "</style>\n",
       "<table border=\"1\" class=\"dataframe\">\n",
       "  <thead>\n",
       "    <tr style=\"text-align: right;\">\n",
       "      <th></th>\n",
       "      <th>Blue State</th>\n",
       "      <th>Total Item/Bottle Count</th>\n",
       "    </tr>\n",
       "  </thead>\n",
       "  <tbody>\n",
       "    <tr>\n",
       "      <th>0</th>\n",
       "      <td>Arizona</td>\n",
       "      <td>12787.0</td>\n",
       "    </tr>\n",
       "    <tr>\n",
       "      <th>1</th>\n",
       "      <td>California</td>\n",
       "      <td>141262.0</td>\n",
       "    </tr>\n",
       "    <tr>\n",
       "      <th>2</th>\n",
       "      <td>Colordao</td>\n",
       "      <td>20038.0</td>\n",
       "    </tr>\n",
       "    <tr>\n",
       "      <th>3</th>\n",
       "      <td>Connecticut</td>\n",
       "      <td>14319.0</td>\n",
       "    </tr>\n",
       "    <tr>\n",
       "      <th>4</th>\n",
       "      <td>District of Columbia</td>\n",
       "      <td>5585.0</td>\n",
       "    </tr>\n",
       "    <tr>\n",
       "      <th>5</th>\n",
       "      <td>Delaware</td>\n",
       "      <td>644.0</td>\n",
       "    </tr>\n",
       "    <tr>\n",
       "      <th>6</th>\n",
       "      <td>Georgia</td>\n",
       "      <td>22353.0</td>\n",
       "    </tr>\n",
       "    <tr>\n",
       "      <th>7</th>\n",
       "      <td>Hawaii</td>\n",
       "      <td>5517.0</td>\n",
       "    </tr>\n",
       "    <tr>\n",
       "      <th>8</th>\n",
       "      <td>Illinois</td>\n",
       "      <td>47148.0</td>\n",
       "    </tr>\n",
       "    <tr>\n",
       "      <th>9</th>\n",
       "      <td>Maine</td>\n",
       "      <td>2154.0</td>\n",
       "    </tr>\n",
       "    <tr>\n",
       "      <th>10</th>\n",
       "      <td>Maryland</td>\n",
       "      <td>15462.0</td>\n",
       "    </tr>\n",
       "    <tr>\n",
       "      <th>11</th>\n",
       "      <td>Massachusetts</td>\n",
       "      <td>32779.0</td>\n",
       "    </tr>\n",
       "    <tr>\n",
       "      <th>12</th>\n",
       "      <td>Michigan</td>\n",
       "      <td>26403.0</td>\n",
       "    </tr>\n",
       "    <tr>\n",
       "      <th>13</th>\n",
       "      <td>Minnesota</td>\n",
       "      <td>10094.0</td>\n",
       "    </tr>\n",
       "    <tr>\n",
       "      <th>14</th>\n",
       "      <td>Nevada</td>\n",
       "      <td>5816.0</td>\n",
       "    </tr>\n",
       "    <tr>\n",
       "      <th>15</th>\n",
       "      <td>New Hampshire</td>\n",
       "      <td>4017.0</td>\n",
       "    </tr>\n",
       "    <tr>\n",
       "      <th>16</th>\n",
       "      <td>New Jersey</td>\n",
       "      <td>41505.0</td>\n",
       "    </tr>\n",
       "    <tr>\n",
       "      <th>17</th>\n",
       "      <td>New Mexico</td>\n",
       "      <td>3002.0</td>\n",
       "    </tr>\n",
       "    <tr>\n",
       "      <th>18</th>\n",
       "      <td>New York</td>\n",
       "      <td>190449.0</td>\n",
       "    </tr>\n",
       "    <tr>\n",
       "      <th>19</th>\n",
       "      <td>Oregon</td>\n",
       "      <td>6740.0</td>\n",
       "    </tr>\n",
       "    <tr>\n",
       "      <th>20</th>\n",
       "      <td>Pennsylvania</td>\n",
       "      <td>58150.0</td>\n",
       "    </tr>\n",
       "    <tr>\n",
       "      <th>21</th>\n",
       "      <td>Rhode Island</td>\n",
       "      <td>5216.0</td>\n",
       "    </tr>\n",
       "    <tr>\n",
       "      <th>22</th>\n",
       "      <td>Vermont</td>\n",
       "      <td>1604.0</td>\n",
       "    </tr>\n",
       "    <tr>\n",
       "      <th>23</th>\n",
       "      <td>Virginia</td>\n",
       "      <td>22536.0</td>\n",
       "    </tr>\n",
       "    <tr>\n",
       "      <th>24</th>\n",
       "      <td>Washington</td>\n",
       "      <td>12800.0</td>\n",
       "    </tr>\n",
       "    <tr>\n",
       "      <th>25</th>\n",
       "      <td>Wisconsin</td>\n",
       "      <td>10417.0</td>\n",
       "    </tr>\n",
       "  </tbody>\n",
       "</table>\n",
       "</div>"
      ],
      "text/plain": [
       "              Blue State  Total Item/Bottle Count\n",
       "0                Arizona                  12787.0\n",
       "1             California                 141262.0\n",
       "2               Colordao                  20038.0\n",
       "3            Connecticut                  14319.0\n",
       "4   District of Columbia                   5585.0\n",
       "5               Delaware                    644.0\n",
       "6                Georgia                  22353.0\n",
       "7                 Hawaii                   5517.0\n",
       "8               Illinois                  47148.0\n",
       "9                  Maine                   2154.0\n",
       "10              Maryland                  15462.0\n",
       "11         Massachusetts                  32779.0\n",
       "12              Michigan                  26403.0\n",
       "13             Minnesota                  10094.0\n",
       "14                Nevada                   5816.0\n",
       "15         New Hampshire                   4017.0\n",
       "16            New Jersey                  41505.0\n",
       "17            New Mexico                   3002.0\n",
       "18              New York                 190449.0\n",
       "19                Oregon                   6740.0\n",
       "20          Pennsylvania                  58150.0\n",
       "21          Rhode Island                   5216.0\n",
       "22               Vermont                   1604.0\n",
       "23              Virginia                  22536.0\n",
       "24            Washington                  12800.0\n",
       "25             Wisconsin                  10417.0"
      ]
     },
     "execution_count": 129,
     "metadata": {},
     "output_type": "execute_result"
    }
   ],
   "source": [
    "total_bottle_count_by_blue_state = pd.DataFrame.from_dict(data=B)\n",
    "total_bottle_count_by_blue_state"
   ]
  },
  {
   "cell_type": "code",
   "execution_count": 130,
   "id": "31f85fd7",
   "metadata": {},
   "outputs": [
    {
     "data": {
      "text/html": [
       "<div>\n",
       "<style scoped>\n",
       "    .dataframe tbody tr th:only-of-type {\n",
       "        vertical-align: middle;\n",
       "    }\n",
       "\n",
       "    .dataframe tbody tr th {\n",
       "        vertical-align: top;\n",
       "    }\n",
       "\n",
       "    .dataframe thead th {\n",
       "        text-align: right;\n",
       "    }\n",
       "</style>\n",
       "<table border=\"1\" class=\"dataframe\">\n",
       "  <thead>\n",
       "    <tr style=\"text-align: right;\">\n",
       "      <th></th>\n",
       "      <th>Unnamed: 0</th>\n",
       "      <th>Order Number</th>\n",
       "      <th>Item/Bottle Count</th>\n",
       "      <th>Weight</th>\n",
       "    </tr>\n",
       "  </thead>\n",
       "  <tbody>\n",
       "    <tr>\n",
       "      <th>count</th>\n",
       "      <td>111222.000000</td>\n",
       "      <td>111222.000000</td>\n",
       "      <td>111222.000000</td>\n",
       "      <td>111222.000000</td>\n",
       "    </tr>\n",
       "    <tr>\n",
       "      <th>mean</th>\n",
       "      <td>78800.301910</td>\n",
       "      <td>78800.301910</td>\n",
       "      <td>6.462723</td>\n",
       "      <td>19.451395</td>\n",
       "    </tr>\n",
       "    <tr>\n",
       "      <th>std</th>\n",
       "      <td>45262.211616</td>\n",
       "      <td>45262.211616</td>\n",
       "      <td>90.911311</td>\n",
       "      <td>272.964328</td>\n",
       "    </tr>\n",
       "    <tr>\n",
       "      <th>min</th>\n",
       "      <td>0.000000</td>\n",
       "      <td>0.000000</td>\n",
       "      <td>1.000000</td>\n",
       "      <td>1.000000</td>\n",
       "    </tr>\n",
       "    <tr>\n",
       "      <th>25%</th>\n",
       "      <td>39458.500000</td>\n",
       "      <td>39458.500000</td>\n",
       "      <td>3.000000</td>\n",
       "      <td>9.000000</td>\n",
       "    </tr>\n",
       "    <tr>\n",
       "      <th>50%</th>\n",
       "      <td>78392.500000</td>\n",
       "      <td>78392.500000</td>\n",
       "      <td>6.000000</td>\n",
       "      <td>18.000000</td>\n",
       "    </tr>\n",
       "    <tr>\n",
       "      <th>75%</th>\n",
       "      <td>118913.750000</td>\n",
       "      <td>118913.750000</td>\n",
       "      <td>6.000000</td>\n",
       "      <td>18.000000</td>\n",
       "    </tr>\n",
       "    <tr>\n",
       "      <th>max</th>\n",
       "      <td>155161.000000</td>\n",
       "      <td>155161.000000</td>\n",
       "      <td>13596.000000</td>\n",
       "      <td>40788.000000</td>\n",
       "    </tr>\n",
       "  </tbody>\n",
       "</table>\n",
       "</div>"
      ],
      "text/plain": [
       "          Unnamed: 0   Order Number  Item/Bottle Count         Weight\n",
       "count  111222.000000  111222.000000      111222.000000  111222.000000\n",
       "mean    78800.301910   78800.301910           6.462723      19.451395\n",
       "std     45262.211616   45262.211616          90.911311     272.964328\n",
       "min         0.000000       0.000000           1.000000       1.000000\n",
       "25%     39458.500000   39458.500000           3.000000       9.000000\n",
       "50%     78392.500000   78392.500000           6.000000      18.000000\n",
       "75%    118913.750000  118913.750000           6.000000      18.000000\n",
       "max    155161.000000  155161.000000       13596.000000   40788.000000"
      ]
     },
     "execution_count": 130,
     "metadata": {},
     "output_type": "execute_result"
    }
   ],
   "source": [
    "#Generate summary statistics for blue_states_2020\n",
    "blue_summary_statistics_2019 = blue_states_2019.describe()\n",
    "blue_summary_statistics_2019"
   ]
  },
  {
   "cell_type": "code",
   "execution_count": 131,
   "id": "7532ecce",
   "metadata": {},
   "outputs": [
    {
     "data": {
      "text/plain": [
       "718797.0"
      ]
     },
     "execution_count": 131,
     "metadata": {},
     "output_type": "execute_result"
    }
   ],
   "source": [
    "# Calculate the total 2019 Item/Bottle Count for Blue States.\n",
    "total_blue_count_2019 = blue_states_2019[\"Item/Bottle Count\"].sum()\n",
    "total_blue_count_2019"
   ]
  },
  {
   "cell_type": "code",
   "execution_count": 132,
   "id": "5f5bc955",
   "metadata": {},
   "outputs": [
    {
     "name": "stdout",
     "output_type": "stream",
     "text": [
      "   Blue State  Total Item/Bottle Count\n",
      "18   New York                 190449.0\n"
     ]
    }
   ],
   "source": [
    "#Print the highest bottle count by blue state\n",
    "print(total_bottle_count_by_blue_state[total_bottle_count_by_blue_state[\"Total Item/Bottle Count\"] == \n",
    "                                  total_bottle_count_by_blue_state[\"Total Item/Bottle Count\"].max()])"
   ]
  },
  {
   "cell_type": "code",
   "execution_count": 133,
   "id": "e566c8c6",
   "metadata": {},
   "outputs": [
    {
     "name": "stdout",
     "output_type": "stream",
     "text": [
      "  Blue State  Total Item/Bottle Count\n",
      "5   Delaware                    644.0\n"
     ]
    }
   ],
   "source": [
    "#Print the lowest bottle count by blue state\n",
    "print(total_bottle_count_by_blue_state[total_bottle_count_by_blue_state[\"Total Item/Bottle Count\"] == \n",
    "                                  total_bottle_count_by_blue_state[\"Total Item/Bottle Count\"].min()])"
   ]
  },
  {
   "cell_type": "code",
   "execution_count": 134,
   "id": "15c3594e",
   "metadata": {},
   "outputs": [],
   "source": [
    "#Export total_bottle_count_by_blue_state to .csv\n",
    "total_bottle_count_by_blue_state.to_csv('Resources/2019_total_bottle_count_by_blue_state.csv') "
   ]
  },
  {
   "cell_type": "code",
   "execution_count": 135,
   "id": "51cad11a",
   "metadata": {},
   "outputs": [
    {
     "data": {
      "text/html": [
       "<div>\n",
       "<style scoped>\n",
       "    .dataframe tbody tr th:only-of-type {\n",
       "        vertical-align: middle;\n",
       "    }\n",
       "\n",
       "    .dataframe tbody tr th {\n",
       "        vertical-align: top;\n",
       "    }\n",
       "\n",
       "    .dataframe thead th {\n",
       "        text-align: right;\n",
       "    }\n",
       "</style>\n",
       "<table border=\"1\" class=\"dataframe\">\n",
       "  <thead>\n",
       "    <tr style=\"text-align: right;\">\n",
       "      <th></th>\n",
       "      <th>Blue State</th>\n",
       "      <th>Total Item/Bottle Count_Blue</th>\n",
       "      <th>Red State</th>\n",
       "      <th>Total Item/Bottle Count_Red</th>\n",
       "    </tr>\n",
       "  </thead>\n",
       "  <tbody>\n",
       "    <tr>\n",
       "      <th>0</th>\n",
       "      <td>Arizona</td>\n",
       "      <td>12787.0</td>\n",
       "      <td>Alabama</td>\n",
       "      <td>1751.0</td>\n",
       "    </tr>\n",
       "    <tr>\n",
       "      <th>1</th>\n",
       "      <td>California</td>\n",
       "      <td>141262.0</td>\n",
       "      <td>Alaska</td>\n",
       "      <td>1665.0</td>\n",
       "    </tr>\n",
       "    <tr>\n",
       "      <th>2</th>\n",
       "      <td>Colordao</td>\n",
       "      <td>20038.0</td>\n",
       "      <td>Arkansas</td>\n",
       "      <td>5111.0</td>\n",
       "    </tr>\n",
       "    <tr>\n",
       "      <th>3</th>\n",
       "      <td>Connecticut</td>\n",
       "      <td>14319.0</td>\n",
       "      <td>Florida</td>\n",
       "      <td>55780.0</td>\n",
       "    </tr>\n",
       "    <tr>\n",
       "      <th>4</th>\n",
       "      <td>District of Columbia</td>\n",
       "      <td>5585.0</td>\n",
       "      <td>Idaho</td>\n",
       "      <td>2456.0</td>\n",
       "    </tr>\n",
       "    <tr>\n",
       "      <th>5</th>\n",
       "      <td>Delaware</td>\n",
       "      <td>644.0</td>\n",
       "      <td>Indiana</td>\n",
       "      <td>10996.0</td>\n",
       "    </tr>\n",
       "    <tr>\n",
       "      <th>6</th>\n",
       "      <td>Georgia</td>\n",
       "      <td>22353.0</td>\n",
       "      <td>Iowa</td>\n",
       "      <td>3605.0</td>\n",
       "    </tr>\n",
       "    <tr>\n",
       "      <th>7</th>\n",
       "      <td>Hawaii</td>\n",
       "      <td>5517.0</td>\n",
       "      <td>Kansas</td>\n",
       "      <td>5949.0</td>\n",
       "    </tr>\n",
       "    <tr>\n",
       "      <th>8</th>\n",
       "      <td>Illinois</td>\n",
       "      <td>47148.0</td>\n",
       "      <td>Kentucky</td>\n",
       "      <td>52.0</td>\n",
       "    </tr>\n",
       "    <tr>\n",
       "      <th>9</th>\n",
       "      <td>Maine</td>\n",
       "      <td>2154.0</td>\n",
       "      <td>Louisiana</td>\n",
       "      <td>9000.0</td>\n",
       "    </tr>\n",
       "    <tr>\n",
       "      <th>10</th>\n",
       "      <td>Maryland</td>\n",
       "      <td>15462.0</td>\n",
       "      <td>Missouri</td>\n",
       "      <td>10167.0</td>\n",
       "    </tr>\n",
       "    <tr>\n",
       "      <th>11</th>\n",
       "      <td>Massachusetts</td>\n",
       "      <td>32779.0</td>\n",
       "      <td>Montana</td>\n",
       "      <td>1868.0</td>\n",
       "    </tr>\n",
       "    <tr>\n",
       "      <th>12</th>\n",
       "      <td>Michigan</td>\n",
       "      <td>26403.0</td>\n",
       "      <td>Nebraska</td>\n",
       "      <td>2956.0</td>\n",
       "    </tr>\n",
       "    <tr>\n",
       "      <th>13</th>\n",
       "      <td>Minnesota</td>\n",
       "      <td>10094.0</td>\n",
       "      <td>North Carolina</td>\n",
       "      <td>18817.0</td>\n",
       "    </tr>\n",
       "    <tr>\n",
       "      <th>14</th>\n",
       "      <td>Nevada</td>\n",
       "      <td>5816.0</td>\n",
       "      <td>North Dakota</td>\n",
       "      <td>1033.0</td>\n",
       "    </tr>\n",
       "    <tr>\n",
       "      <th>15</th>\n",
       "      <td>New Hampshire</td>\n",
       "      <td>4017.0</td>\n",
       "      <td>Ohio</td>\n",
       "      <td>22436.0</td>\n",
       "    </tr>\n",
       "    <tr>\n",
       "      <th>16</th>\n",
       "      <td>New Jersey</td>\n",
       "      <td>41505.0</td>\n",
       "      <td>Oklahoma</td>\n",
       "      <td>1927.0</td>\n",
       "    </tr>\n",
       "    <tr>\n",
       "      <th>17</th>\n",
       "      <td>New Mexico</td>\n",
       "      <td>3002.0</td>\n",
       "      <td>South Carolina</td>\n",
       "      <td>9457.0</td>\n",
       "    </tr>\n",
       "    <tr>\n",
       "      <th>18</th>\n",
       "      <td>New York</td>\n",
       "      <td>190449.0</td>\n",
       "      <td>South Dakota</td>\n",
       "      <td>2545.0</td>\n",
       "    </tr>\n",
       "    <tr>\n",
       "      <th>19</th>\n",
       "      <td>Oregon</td>\n",
       "      <td>6740.0</td>\n",
       "      <td>Tennessee</td>\n",
       "      <td>12090.0</td>\n",
       "    </tr>\n",
       "    <tr>\n",
       "      <th>20</th>\n",
       "      <td>Pennsylvania</td>\n",
       "      <td>58150.0</td>\n",
       "      <td>Texas</td>\n",
       "      <td>59999.0</td>\n",
       "    </tr>\n",
       "    <tr>\n",
       "      <th>21</th>\n",
       "      <td>Rhode Island</td>\n",
       "      <td>5216.0</td>\n",
       "      <td>West Virginia</td>\n",
       "      <td>1541.0</td>\n",
       "    </tr>\n",
       "    <tr>\n",
       "      <th>22</th>\n",
       "      <td>Vermont</td>\n",
       "      <td>1604.0</td>\n",
       "      <td>Wyoming</td>\n",
       "      <td>1411.0</td>\n",
       "    </tr>\n",
       "    <tr>\n",
       "      <th>23</th>\n",
       "      <td>Virginia</td>\n",
       "      <td>22536.0</td>\n",
       "      <td>NaN</td>\n",
       "      <td>NaN</td>\n",
       "    </tr>\n",
       "    <tr>\n",
       "      <th>24</th>\n",
       "      <td>Washington</td>\n",
       "      <td>12800.0</td>\n",
       "      <td>NaN</td>\n",
       "      <td>NaN</td>\n",
       "    </tr>\n",
       "    <tr>\n",
       "      <th>25</th>\n",
       "      <td>Wisconsin</td>\n",
       "      <td>10417.0</td>\n",
       "      <td>NaN</td>\n",
       "      <td>NaN</td>\n",
       "    </tr>\n",
       "  </tbody>\n",
       "</table>\n",
       "</div>"
      ],
      "text/plain": [
       "              Blue State  Total Item/Bottle Count_Blue       Red State  \\\n",
       "0                Arizona                       12787.0         Alabama   \n",
       "1             California                      141262.0          Alaska   \n",
       "2               Colordao                       20038.0        Arkansas   \n",
       "3            Connecticut                       14319.0         Florida   \n",
       "4   District of Columbia                        5585.0           Idaho   \n",
       "5               Delaware                         644.0         Indiana   \n",
       "6                Georgia                       22353.0            Iowa   \n",
       "7                 Hawaii                        5517.0          Kansas   \n",
       "8               Illinois                       47148.0        Kentucky   \n",
       "9                  Maine                        2154.0       Louisiana   \n",
       "10              Maryland                       15462.0        Missouri   \n",
       "11         Massachusetts                       32779.0         Montana   \n",
       "12              Michigan                       26403.0        Nebraska   \n",
       "13             Minnesota                       10094.0  North Carolina   \n",
       "14                Nevada                        5816.0    North Dakota   \n",
       "15         New Hampshire                        4017.0            Ohio   \n",
       "16            New Jersey                       41505.0        Oklahoma   \n",
       "17            New Mexico                        3002.0  South Carolina   \n",
       "18              New York                      190449.0    South Dakota   \n",
       "19                Oregon                        6740.0       Tennessee   \n",
       "20          Pennsylvania                       58150.0           Texas   \n",
       "21          Rhode Island                        5216.0   West Virginia   \n",
       "22               Vermont                        1604.0         Wyoming   \n",
       "23              Virginia                       22536.0             NaN   \n",
       "24            Washington                       12800.0             NaN   \n",
       "25             Wisconsin                       10417.0             NaN   \n",
       "\n",
       "    Total Item/Bottle Count_Red  \n",
       "0                        1751.0  \n",
       "1                        1665.0  \n",
       "2                        5111.0  \n",
       "3                       55780.0  \n",
       "4                        2456.0  \n",
       "5                       10996.0  \n",
       "6                        3605.0  \n",
       "7                        5949.0  \n",
       "8                          52.0  \n",
       "9                        9000.0  \n",
       "10                      10167.0  \n",
       "11                       1868.0  \n",
       "12                       2956.0  \n",
       "13                      18817.0  \n",
       "14                       1033.0  \n",
       "15                      22436.0  \n",
       "16                       1927.0  \n",
       "17                       9457.0  \n",
       "18                       2545.0  \n",
       "19                      12090.0  \n",
       "20                      59999.0  \n",
       "21                       1541.0  \n",
       "22                       1411.0  \n",
       "23                          NaN  \n",
       "24                          NaN  \n",
       "25                          NaN  "
      ]
     },
     "execution_count": 135,
     "metadata": {},
     "output_type": "execute_result"
    }
   ],
   "source": [
    "#Create a joined df with all of red states and all of blue states.\n",
    "joined_blueandred = total_bottle_count_by_blue_state.join(total_bottle_count_by_red_state, \n",
    "                                                          lsuffix='_Blue', rsuffix='_Red')\n",
    "joined_blueandred"
   ]
  },
  {
   "cell_type": "code",
   "execution_count": 136,
   "id": "a22e4ee8",
   "metadata": {},
   "outputs": [],
   "source": [
    "#Export total_bottle_count_by_blue_state to .csv\n",
    "joined_blueandred.to_csv('Resources/2019_joined_blueandred.csv')"
   ]
  },
  {
   "cell_type": "markdown",
   "id": "b2749ff8",
   "metadata": {},
   "source": [
    "## Total Wine Sales by State"
   ]
  },
  {
   "cell_type": "code",
   "execution_count": 137,
   "id": "762c673c",
   "metadata": {},
   "outputs": [],
   "source": [
    "# Adding a list of values with keys to create a new DataFrame.\n",
    "S = {'State': ['Alabama', 'Alaska', 'Arizona', 'Arkansas', 'California', 'Colordao', 'Connecticut', \n",
    "               'District of Columbia', 'Delaware', 'Florida', 'Georgia', 'Hawaii', 'Idaho', 'Illinois',\n",
    "               'Indiana', 'Iowa', 'Kansas', 'Kentucky', 'Louisiana', 'Maine', 'Maryland', 'Massachusetts',\n",
    "               'Michigan', 'Minnesota', 'Mississippi', 'Missouri', 'Montana', 'Nebraska', 'Nevada',\n",
    "              'New Hampshire', 'New Jersey', 'New Mexico', 'New York', 'North Carolina', 'North Dakota', 'Ohio',\n",
    "              'Oklahoma', 'Oregon', 'Pennsylvania', 'Rhode Island', 'South Carolina', 'South Dakota', 'Tennessee', \n",
    "              'Texas', 'Utah', 'Vermont', 'Virginia', 'Washington', 'West Virginia', 'Wisconsin', 'Wyoming'],\n",
    "     'Total Item/Bottle Count': [Alabama[\"Item/Bottle Count\"].sum(), \n",
    "            Alaska[\"Item/Bottle Count\"].sum(), \n",
    "            Arizona[\"Item/Bottle Count\"].sum(), \n",
    "            Arkansas[\"Item/Bottle Count\"].sum(), \n",
    "            California[\"Item/Bottle Count\"].sum(),\n",
    "            Colorado[\"Item/Bottle Count\"].sum(),\n",
    "            Connecticut[\"Item/Bottle Count\"].sum(),\n",
    "            DC[\"Item/Bottle Count\"].sum(),\n",
    "            Delaware[\"Item/Bottle Count\"].sum(),\n",
    "            Florida[\"Item/Bottle Count\"].sum(),\n",
    "            Georgia[\"Item/Bottle Count\"].sum(),\n",
    "            Hawaii[\"Item/Bottle Count\"].sum(),\n",
    "            Idaho[\"Item/Bottle Count\"].sum(),\n",
    "            Illinois[\"Item/Bottle Count\"].sum(),\n",
    "            Indiana[\"Item/Bottle Count\"].sum(),\n",
    "            Iowa[\"Item/Bottle Count\"].sum(),\n",
    "            Kansas[\"Item/Bottle Count\"].sum(),\n",
    "            Kentucky[\"Item/Bottle Count\"].sum(),\n",
    "            Louisiana[\"Item/Bottle Count\"].sum(),\n",
    "            Maine[\"Item/Bottle Count\"].sum(),\n",
    "            Maryland[\"Item/Bottle Count\"].sum(),\n",
    "            Massachusetts[\"Item/Bottle Count\"].sum(),\n",
    "            Michigan[\"Item/Bottle Count\"].sum(),\n",
    "            Minnesota[\"Item/Bottle Count\"].sum(),\n",
    "            Mississippi[\"Item/Bottle Count\"].sum(),\n",
    "            Missouri[\"Item/Bottle Count\"].sum(),\n",
    "            Montana[\"Item/Bottle Count\"].sum(),\n",
    "            Nebraska[\"Item/Bottle Count\"].sum(),\n",
    "            Nevada[\"Item/Bottle Count\"].sum(),\n",
    "            New_Hampshire[\"Item/Bottle Count\"].sum(),\n",
    "            New_Jersey[\"Item/Bottle Count\"].sum(),\n",
    "            New_Mexico[\"Item/Bottle Count\"].sum(),\n",
    "            New_York[\"Item/Bottle Count\"].sum(),\n",
    "            North_Carolina[\"Item/Bottle Count\"].sum(),\n",
    "            North_Dakota[\"Item/Bottle Count\"].sum(),\n",
    "            Ohio[\"Item/Bottle Count\"].sum(),\n",
    "            Oklahoma[\"Item/Bottle Count\"].sum(),\n",
    "            Oregon[\"Item/Bottle Count\"].sum(),\n",
    "            Pennsylvania[\"Item/Bottle Count\"].sum(),\n",
    "            Rhode_Island[\"Item/Bottle Count\"].sum(),\n",
    "            South_Carolina[\"Item/Bottle Count\"].sum(),\n",
    "            South_Dakota[\"Item/Bottle Count\"].sum(),\n",
    "            Tennessee[\"Item/Bottle Count\"].sum(),\n",
    "            Texas[\"Item/Bottle Count\"].sum(),\n",
    "            Utah[\"Item/Bottle Count\"].sum(),\n",
    "            Vermont[\"Item/Bottle Count\"].sum(),\n",
    "            Virginia[\"Item/Bottle Count\"].sum(),\n",
    "            Washington[\"Item/Bottle Count\"].sum(),\n",
    "            West_Virginia[\"Item/Bottle Count\"].sum(),\n",
    "            Wisconsin[\"Item/Bottle Count\"].sum(),\n",
    "            Wyoming[\"Item/Bottle Count\"].sum()]}"
   ]
  },
  {
   "cell_type": "code",
   "execution_count": 139,
   "id": "7b0d72d2",
   "metadata": {},
   "outputs": [
    {
     "data": {
      "text/html": [
       "<div>\n",
       "<style scoped>\n",
       "    .dataframe tbody tr th:only-of-type {\n",
       "        vertical-align: middle;\n",
       "    }\n",
       "\n",
       "    .dataframe tbody tr th {\n",
       "        vertical-align: top;\n",
       "    }\n",
       "\n",
       "    .dataframe thead th {\n",
       "        text-align: right;\n",
       "    }\n",
       "</style>\n",
       "<table border=\"1\" class=\"dataframe\">\n",
       "  <thead>\n",
       "    <tr style=\"text-align: right;\">\n",
       "      <th></th>\n",
       "      <th>State</th>\n",
       "      <th>Total Item/Bottle Count</th>\n",
       "    </tr>\n",
       "  </thead>\n",
       "  <tbody>\n",
       "    <tr>\n",
       "      <th>0</th>\n",
       "      <td>Alabama</td>\n",
       "      <td>1751.0</td>\n",
       "    </tr>\n",
       "    <tr>\n",
       "      <th>1</th>\n",
       "      <td>Alaska</td>\n",
       "      <td>1665.0</td>\n",
       "    </tr>\n",
       "    <tr>\n",
       "      <th>2</th>\n",
       "      <td>Arizona</td>\n",
       "      <td>12787.0</td>\n",
       "    </tr>\n",
       "    <tr>\n",
       "      <th>3</th>\n",
       "      <td>Arkansas</td>\n",
       "      <td>5111.0</td>\n",
       "    </tr>\n",
       "    <tr>\n",
       "      <th>4</th>\n",
       "      <td>California</td>\n",
       "      <td>141262.0</td>\n",
       "    </tr>\n",
       "    <tr>\n",
       "      <th>5</th>\n",
       "      <td>Colordao</td>\n",
       "      <td>20038.0</td>\n",
       "    </tr>\n",
       "    <tr>\n",
       "      <th>6</th>\n",
       "      <td>Connecticut</td>\n",
       "      <td>14319.0</td>\n",
       "    </tr>\n",
       "    <tr>\n",
       "      <th>7</th>\n",
       "      <td>District of Columbia</td>\n",
       "      <td>5585.0</td>\n",
       "    </tr>\n",
       "    <tr>\n",
       "      <th>8</th>\n",
       "      <td>Delaware</td>\n",
       "      <td>644.0</td>\n",
       "    </tr>\n",
       "    <tr>\n",
       "      <th>9</th>\n",
       "      <td>Florida</td>\n",
       "      <td>55780.0</td>\n",
       "    </tr>\n",
       "    <tr>\n",
       "      <th>10</th>\n",
       "      <td>Georgia</td>\n",
       "      <td>22353.0</td>\n",
       "    </tr>\n",
       "    <tr>\n",
       "      <th>11</th>\n",
       "      <td>Hawaii</td>\n",
       "      <td>5517.0</td>\n",
       "    </tr>\n",
       "    <tr>\n",
       "      <th>12</th>\n",
       "      <td>Idaho</td>\n",
       "      <td>2456.0</td>\n",
       "    </tr>\n",
       "    <tr>\n",
       "      <th>13</th>\n",
       "      <td>Illinois</td>\n",
       "      <td>47148.0</td>\n",
       "    </tr>\n",
       "    <tr>\n",
       "      <th>14</th>\n",
       "      <td>Indiana</td>\n",
       "      <td>10996.0</td>\n",
       "    </tr>\n",
       "    <tr>\n",
       "      <th>15</th>\n",
       "      <td>Iowa</td>\n",
       "      <td>3605.0</td>\n",
       "    </tr>\n",
       "    <tr>\n",
       "      <th>16</th>\n",
       "      <td>Kansas</td>\n",
       "      <td>5949.0</td>\n",
       "    </tr>\n",
       "    <tr>\n",
       "      <th>17</th>\n",
       "      <td>Kentucky</td>\n",
       "      <td>52.0</td>\n",
       "    </tr>\n",
       "    <tr>\n",
       "      <th>18</th>\n",
       "      <td>Louisiana</td>\n",
       "      <td>9000.0</td>\n",
       "    </tr>\n",
       "    <tr>\n",
       "      <th>19</th>\n",
       "      <td>Maine</td>\n",
       "      <td>2154.0</td>\n",
       "    </tr>\n",
       "    <tr>\n",
       "      <th>20</th>\n",
       "      <td>Maryland</td>\n",
       "      <td>15462.0</td>\n",
       "    </tr>\n",
       "    <tr>\n",
       "      <th>21</th>\n",
       "      <td>Massachusetts</td>\n",
       "      <td>32779.0</td>\n",
       "    </tr>\n",
       "    <tr>\n",
       "      <th>22</th>\n",
       "      <td>Michigan</td>\n",
       "      <td>26403.0</td>\n",
       "    </tr>\n",
       "    <tr>\n",
       "      <th>23</th>\n",
       "      <td>Minnesota</td>\n",
       "      <td>10094.0</td>\n",
       "    </tr>\n",
       "    <tr>\n",
       "      <th>24</th>\n",
       "      <td>Mississippi</td>\n",
       "      <td>0.0</td>\n",
       "    </tr>\n",
       "    <tr>\n",
       "      <th>25</th>\n",
       "      <td>Missouri</td>\n",
       "      <td>10167.0</td>\n",
       "    </tr>\n",
       "    <tr>\n",
       "      <th>26</th>\n",
       "      <td>Montana</td>\n",
       "      <td>1868.0</td>\n",
       "    </tr>\n",
       "    <tr>\n",
       "      <th>27</th>\n",
       "      <td>Nebraska</td>\n",
       "      <td>2956.0</td>\n",
       "    </tr>\n",
       "    <tr>\n",
       "      <th>28</th>\n",
       "      <td>Nevada</td>\n",
       "      <td>5816.0</td>\n",
       "    </tr>\n",
       "    <tr>\n",
       "      <th>29</th>\n",
       "      <td>New Hampshire</td>\n",
       "      <td>4017.0</td>\n",
       "    </tr>\n",
       "    <tr>\n",
       "      <th>30</th>\n",
       "      <td>New Jersey</td>\n",
       "      <td>41505.0</td>\n",
       "    </tr>\n",
       "    <tr>\n",
       "      <th>31</th>\n",
       "      <td>New Mexico</td>\n",
       "      <td>3002.0</td>\n",
       "    </tr>\n",
       "    <tr>\n",
       "      <th>32</th>\n",
       "      <td>New York</td>\n",
       "      <td>190449.0</td>\n",
       "    </tr>\n",
       "    <tr>\n",
       "      <th>33</th>\n",
       "      <td>North Carolina</td>\n",
       "      <td>18817.0</td>\n",
       "    </tr>\n",
       "    <tr>\n",
       "      <th>34</th>\n",
       "      <td>North Dakota</td>\n",
       "      <td>1033.0</td>\n",
       "    </tr>\n",
       "    <tr>\n",
       "      <th>35</th>\n",
       "      <td>Ohio</td>\n",
       "      <td>22436.0</td>\n",
       "    </tr>\n",
       "    <tr>\n",
       "      <th>36</th>\n",
       "      <td>Oklahoma</td>\n",
       "      <td>1927.0</td>\n",
       "    </tr>\n",
       "    <tr>\n",
       "      <th>37</th>\n",
       "      <td>Oregon</td>\n",
       "      <td>6740.0</td>\n",
       "    </tr>\n",
       "    <tr>\n",
       "      <th>38</th>\n",
       "      <td>Pennsylvania</td>\n",
       "      <td>58150.0</td>\n",
       "    </tr>\n",
       "    <tr>\n",
       "      <th>39</th>\n",
       "      <td>Rhode Island</td>\n",
       "      <td>5216.0</td>\n",
       "    </tr>\n",
       "    <tr>\n",
       "      <th>40</th>\n",
       "      <td>South Carolina</td>\n",
       "      <td>9457.0</td>\n",
       "    </tr>\n",
       "    <tr>\n",
       "      <th>41</th>\n",
       "      <td>South Dakota</td>\n",
       "      <td>2545.0</td>\n",
       "    </tr>\n",
       "    <tr>\n",
       "      <th>42</th>\n",
       "      <td>Tennessee</td>\n",
       "      <td>12090.0</td>\n",
       "    </tr>\n",
       "    <tr>\n",
       "      <th>43</th>\n",
       "      <td>Texas</td>\n",
       "      <td>59999.0</td>\n",
       "    </tr>\n",
       "    <tr>\n",
       "      <th>44</th>\n",
       "      <td>Utah</td>\n",
       "      <td>0.0</td>\n",
       "    </tr>\n",
       "    <tr>\n",
       "      <th>45</th>\n",
       "      <td>Vermont</td>\n",
       "      <td>1604.0</td>\n",
       "    </tr>\n",
       "    <tr>\n",
       "      <th>46</th>\n",
       "      <td>Virginia</td>\n",
       "      <td>22536.0</td>\n",
       "    </tr>\n",
       "    <tr>\n",
       "      <th>47</th>\n",
       "      <td>Washington</td>\n",
       "      <td>12800.0</td>\n",
       "    </tr>\n",
       "    <tr>\n",
       "      <th>48</th>\n",
       "      <td>West Virginia</td>\n",
       "      <td>1541.0</td>\n",
       "    </tr>\n",
       "    <tr>\n",
       "      <th>49</th>\n",
       "      <td>Wisconsin</td>\n",
       "      <td>10417.0</td>\n",
       "    </tr>\n",
       "    <tr>\n",
       "      <th>50</th>\n",
       "      <td>Wyoming</td>\n",
       "      <td>1411.0</td>\n",
       "    </tr>\n",
       "  </tbody>\n",
       "</table>\n",
       "</div>"
      ],
      "text/plain": [
       "                   State  Total Item/Bottle Count\n",
       "0                Alabama                   1751.0\n",
       "1                 Alaska                   1665.0\n",
       "2                Arizona                  12787.0\n",
       "3               Arkansas                   5111.0\n",
       "4             California                 141262.0\n",
       "5               Colordao                  20038.0\n",
       "6            Connecticut                  14319.0\n",
       "7   District of Columbia                   5585.0\n",
       "8               Delaware                    644.0\n",
       "9                Florida                  55780.0\n",
       "10               Georgia                  22353.0\n",
       "11                Hawaii                   5517.0\n",
       "12                 Idaho                   2456.0\n",
       "13              Illinois                  47148.0\n",
       "14               Indiana                  10996.0\n",
       "15                  Iowa                   3605.0\n",
       "16                Kansas                   5949.0\n",
       "17              Kentucky                     52.0\n",
       "18             Louisiana                   9000.0\n",
       "19                 Maine                   2154.0\n",
       "20              Maryland                  15462.0\n",
       "21         Massachusetts                  32779.0\n",
       "22              Michigan                  26403.0\n",
       "23             Minnesota                  10094.0\n",
       "24           Mississippi                      0.0\n",
       "25              Missouri                  10167.0\n",
       "26               Montana                   1868.0\n",
       "27              Nebraska                   2956.0\n",
       "28                Nevada                   5816.0\n",
       "29         New Hampshire                   4017.0\n",
       "30            New Jersey                  41505.0\n",
       "31            New Mexico                   3002.0\n",
       "32              New York                 190449.0\n",
       "33        North Carolina                  18817.0\n",
       "34          North Dakota                   1033.0\n",
       "35                  Ohio                  22436.0\n",
       "36              Oklahoma                   1927.0\n",
       "37                Oregon                   6740.0\n",
       "38          Pennsylvania                  58150.0\n",
       "39          Rhode Island                   5216.0\n",
       "40        South Carolina                   9457.0\n",
       "41          South Dakota                   2545.0\n",
       "42             Tennessee                  12090.0\n",
       "43                 Texas                  59999.0\n",
       "44                  Utah                      0.0\n",
       "45               Vermont                   1604.0\n",
       "46              Virginia                  22536.0\n",
       "47            Washington                  12800.0\n",
       "48         West Virginia                   1541.0\n",
       "49             Wisconsin                  10417.0\n",
       "50               Wyoming                   1411.0"
      ]
     },
     "execution_count": 139,
     "metadata": {},
     "output_type": "execute_result"
    }
   ],
   "source": [
    "total_bottle_count_by_state = pd.DataFrame.from_dict(data=S)\n",
    "total_bottle_count_by_state"
   ]
  },
  {
   "cell_type": "code",
   "execution_count": 140,
   "id": "8eb5c131",
   "metadata": {},
   "outputs": [
    {
     "name": "stdout",
     "output_type": "stream",
     "text": [
      "       State  Total Item/Bottle Count\n",
      "32  New York                 190449.0\n"
     ]
    }
   ],
   "source": [
    "#Print the highest bottle count by state\n",
    "print(total_bottle_count_by_state[total_bottle_count_by_state[\"Total Item/Bottle Count\"] == \n",
    "                                  total_bottle_count_by_state[\"Total Item/Bottle Count\"].max()])"
   ]
  },
  {
   "cell_type": "code",
   "execution_count": 141,
   "id": "9dcc8c75",
   "metadata": {},
   "outputs": [
    {
     "name": "stdout",
     "output_type": "stream",
     "text": [
      "          State  Total Item/Bottle Count\n",
      "24  Mississippi                      0.0\n",
      "44         Utah                      0.0\n"
     ]
    }
   ],
   "source": [
    "#Print the lowest bottle count by state\n",
    "print(total_bottle_count_by_state[total_bottle_count_by_state[\"Total Item/Bottle Count\"] == \n",
    "                                  total_bottle_count_by_state[\"Total Item/Bottle Count\"].min()])"
   ]
  },
  {
   "cell_type": "code",
   "execution_count": 142,
   "id": "08d683c7",
   "metadata": {},
   "outputs": [],
   "source": [
    "#Export total_bottle_count_by_state to .csv\n",
    "total_bottle_count_by_state.to_csv('Resources/2019_total_bottle_count_by_state.csv') "
   ]
  },
  {
   "cell_type": "markdown",
   "id": "ba5019e7",
   "metadata": {},
   "source": [
    "## Pie Chart"
   ]
  },
  {
   "cell_type": "code",
   "execution_count": 143,
   "id": "6096da47",
   "metadata": {},
   "outputs": [],
   "source": [
    "# Set the x-axis to a list of strings for each month.\n",
    "x_axis = total_bottle_count_by_state[\"State\"]\n",
    "\n",
    "# Set the y-axis to a list of floats as the Item/Bottle Count for each month.\n",
    "y_axis = total_bottle_count_by_state[\"Total Item/Bottle Count\"]"
   ]
  },
  {
   "cell_type": "code",
   "execution_count": 144,
   "id": "1f133967",
   "metadata": {},
   "outputs": [
    {
     "data": {
      "image/png": "[encoded data removed]",
      "text/plain": [
       "<Figure size 432x288 with 1 Axes>"
      ]
     },
     "metadata": {},
     "output_type": "display_data"
    }
   ],
   "source": [
    "plt.pie(y_axis, labels=x_axis)\n",
    "plt.show()"
   ]
  },
  {
   "cell_type": "code",
   "execution_count": 146,
   "id": "059f5a55",
   "metadata": {
    "scrolled": false
   },
   "outputs": [
    {
     "data": {
      "text/plain": [
       "([<matplotlib.patches.Wedge at 0x7fe2518fe390>,\n",
       "  <matplotlib.patches.Wedge at 0x7fe2518fead0>,\n",
       "  <matplotlib.patches.Wedge at 0x7fe251907310>,\n",
       "  <matplotlib.patches.Wedge at 0x7fe251907050>,\n",
       "  <matplotlib.patches.Wedge at 0x7fe251914350>,\n",
       "  <matplotlib.patches.Wedge at 0x7fe251914c10>,\n",
       "  <matplotlib.patches.Wedge at 0x7fe25191f450>,\n",
       "  <matplotlib.patches.Wedge at 0x7fe25191fc50>,\n",
       "  <matplotlib.patches.Wedge at 0x7fe251914310>,\n",
       "  <matplotlib.patches.Wedge at 0x7fe251914bd0>,\n",
       "  <matplotlib.patches.Wedge at 0x7fe2518fe350>,\n",
       "  <matplotlib.patches.Wedge at 0x7fe24eaa4b90>,\n",
       "  <matplotlib.patches.Wedge at 0x7fe24eab03d0>,\n",
       "  <matplotlib.patches.Wedge at 0x7fe24eab0bd0>,\n",
       "  <matplotlib.patches.Wedge at 0x7fe24eabc410>,\n",
       "  <matplotlib.patches.Wedge at 0x7fe24eabcc10>,\n",
       "  <matplotlib.patches.Wedge at 0x7fe24eacd450>,\n",
       "  <matplotlib.patches.Wedge at 0x7fe24eacdc50>,\n",
       "  <matplotlib.patches.Wedge at 0x7fe24ead9490>,\n",
       "  <matplotlib.patches.Wedge at 0x7fe24ead9c90>,\n",
       "  <matplotlib.patches.Wedge at 0x7fe24eafa4d0>,\n",
       "  <matplotlib.patches.Wedge at 0x7fe24eafacd0>,\n",
       "  <matplotlib.patches.Wedge at 0x7fe24eb06510>,\n",
       "  <matplotlib.patches.Wedge at 0x7fe24eb06d10>,\n",
       "  <matplotlib.patches.Wedge at 0x7fe24eb15550>,\n",
       "  <matplotlib.patches.Wedge at 0x7fe24eb15d50>,\n",
       "  <matplotlib.patches.Wedge at 0x7fe24eb22590>,\n",
       "  <matplotlib.patches.Wedge at 0x7fe24eb22d90>,\n",
       "  <matplotlib.patches.Wedge at 0x7fe24eb315d0>,\n",
       "  <matplotlib.patches.Wedge at 0x7fe24eb31dd0>,\n",
       "  <matplotlib.patches.Wedge at 0x7fe24f328610>,\n",
       "  <matplotlib.patches.Wedge at 0x7fe24f328e10>,\n",
       "  <matplotlib.patches.Wedge at 0x7fe24f337650>,\n",
       "  <matplotlib.patches.Wedge at 0x7fe24f337e50>,\n",
       "  <matplotlib.patches.Wedge at 0x7fe24f344690>,\n",
       "  <matplotlib.patches.Wedge at 0x7fe24f344e90>,\n",
       "  <matplotlib.patches.Wedge at 0x7fe24f3526d0>,\n",
       "  <matplotlib.patches.Wedge at 0x7fe24f352ed0>,\n",
       "  <matplotlib.patches.Wedge at 0x7fe24f361710>,\n",
       "  <matplotlib.patches.Wedge at 0x7fe24f361f10>,\n",
       "  <matplotlib.patches.Wedge at 0x7fe24f36f750>,\n",
       "  <matplotlib.patches.Wedge at 0x7fe24f36ff50>,\n",
       "  <matplotlib.patches.Wedge at 0x7fe24f37c790>,\n",
       "  <matplotlib.patches.Wedge at 0x7fe24f37cf90>,\n",
       "  <matplotlib.patches.Wedge at 0x7fe24f38a7d0>,\n",
       "  <matplotlib.patches.Wedge at 0x7fe24f38afd0>,\n",
       "  <matplotlib.patches.Wedge at 0x7fe24f399810>,\n",
       "  <matplotlib.patches.Wedge at 0x7fe24f358050>,\n",
       "  <matplotlib.patches.Wedge at 0x7fe24f358850>,\n",
       "  <matplotlib.patches.Wedge at 0x7fe24f3b4090>,\n",
       "  <matplotlib.patches.Wedge at 0x7fe24f3b4890>],\n",
       " [Text(1.0999819940026725, 0.0062938755870037685, 'Alabama'),\n",
       "  Text(1.0998432120492563, 0.018571723376544676, 'Alaska'),\n",
       "  Text(1.0977402985806959, 0.07047153235147412, 'Arizona'),\n",
       "  Text(1.0917442167056781, 0.1345160410126071, 'Arkansas'),\n",
       "  Text(1.0722776832808263, 0.7349969863461376, 'California'),\n",
       "  Text(0.4713383363182888, 0.993901490448982, 'Colordao'),\n",
       "  Text(0.3570217222243205, 1.0404496575327324, 'Connecticut'),\n",
       "  Text(0.28864346287889786, 1.0614541682697745, 'District of Columbia'),\n",
       "  Text(0.26697981493969736, 1.0671090752190073, 'Delaware'),\n",
       "  Text(0.06681772052742971, 1.0979687573986423, 'Florida'),\n",
       "  Text(-0.21264040807726947, 1.079251618878903, 'Georgia'),\n",
       "  Text(-0.30991159809003854, 1.055440572163719, 'Hawaii'),\n",
       "  Text(-0.3373010680647876, 1.047009068481431, 'Idaho'),\n",
       "  Text(-0.5018481077797546, 0.9788505895783483, 'Illinois'),\n",
       "  Text(-0.6776789506648776, 0.8664590237430451, 'Indiana'),\n",
       "  Text(-0.7182322556302244, 0.8331521031434297, 'Iowa'),\n",
       "  Text(-0.7438886939438236, 0.8103268544374873, 'Kansas'),\n",
       "  Text(-0.7596347172019987, 0.7955847512499467, 'Kentucky'),\n",
       "  Text(-0.7828317476760716, 0.772770635331356, 'Louisiana'),\n",
       "  Text(-0.8104714494765213, 0.7437311541030314, 'Maine'),\n",
       "  Text(-0.8519173418979884, 0.6958712830498657, 'Maryland'),\n",
       "  Text(-0.9505956957691303, 0.5535050344714157, 'Massachusetts'),\n",
       "  Text(-1.039250964415848, 0.3604960928508512, 'Michigan'),\n",
       "  Text(-1.0747602973635026, 0.23428679692017573, 'Minnesota'),\n",
       "  Text(-1.0819020505622388, 0.19871575928753954, 'Mississippi'),\n",
       "  Text(-1.0879056863780767, 0.16266904298681475, 'Missouri'),\n",
       "  Text(-1.0934601138609203, 0.11977052807457766, 'Montana'),\n",
       "  Text(-1.095212171738335, 0.10251974871311453, 'Nebraska'),\n",
       "  Text(-1.0977005159650002, 0.07108851700642231, 'Nevada'),\n",
       "  Text(-1.0994176924772696, 0.035787392583923536, 'New Hampshire'),\n",
       "  Text(-1.0925804375496821, -0.1275460210423882, 'New Jersey'),\n",
       "  Text(-1.0625615860154483, -0.2845397615876125, 'New Mexico'),\n",
       "  Text(-0.6891113714301815, -0.8573946102965744, 'New York'),\n",
       "  Text(0.007489030937915872, -1.0999745062571273, 'North Carolina'),\n",
       "  Text(0.07877175908457454, -1.0971759248045512, 'North Dakota'),\n",
       "  Text(0.16259972369057696, -1.0879160490845552, 'Ohio'),\n",
       "  Text(0.2486032268999036, -1.0715392832626134, 'Oklahoma'),\n",
       "  Text(0.2788466725306975, -1.0640697971555053, 'Oregon'),\n",
       "  Text(0.49654075397189046, -0.981553503200425, 'Pennsylvania'),\n",
       "  Text(0.6877264481279802, -0.8585058721670299, 'Rhode Island'),\n",
       "  Text(0.728083023434605, -0.8245575243646284, 'South Carolina'),\n",
       "  Text(0.759853098569959, -0.7953761805546053, 'South Dakota'),\n",
       "  Text(0.7970069342088947, -0.7581424317520679, 'Tennessee'),\n",
       "  Text(0.9519403736314794, -0.551189191703139, 'Texas'),\n",
       "  Text(1.041077458270009, -0.35518688866856807, 'Utah'),\n",
       "  Text(1.042924820692157, -0.3497253470714298, 'Vermont'),\n",
       "  Text(1.0672402552499833, -0.2664549447354107, 'Virginia'),\n",
       "  Text(1.0908320742517537, -0.14172291904846104, 'Washington'),\n",
       "  Text(1.0962735260603154, -0.0904674309311558, 'West Virginia'),\n",
       "  Text(1.09897082760081, -0.04757226169093337, 'Wisconsin'),\n",
       "  Text(1.09998830786416, -0.005071741529521507, 'Wyoming')],\n",
       " [Text(0.5999901785469123, 0.003433023047456601, '0.2%'),\n",
       "  Text(0.5999144792995942, 0.01013003093266073, '0.2%'),\n",
       "  Text(0.5987674355894704, 0.0384390176462586, '1.3%'),\n",
       "  Text(0.5954968454758244, 0.07337238600687661, '0.5%'),\n",
       "  Text(0.6598631897112777, 0.4523058377514692, '14.7%'),\n",
       "  Text(0.25709363799179386, 0.5421280856994447, '2.1%'),\n",
       "  Text(0.19473912121326573, 0.567517995017854, '1.5%'),\n",
       "  Text(0.1574418888430352, 0.5789750008744223, '0.6%'),\n",
       "  Text(0.14562535360347129, 0.5820594955740039, '0.1%'),\n",
       "  Text(0.03644602937859802, 0.5988920494901684, '5.8%'),\n",
       "  Text(-0.11598567713305605, 0.5886827012066742, '2.3%'),\n",
       "  Text(-0.16904268986729373, 0.5756948575438466, '0.6%'),\n",
       "  Text(-0.18398240076261138, 0.5710958555353259, '0.3%'),\n",
       "  Text(-0.2737353315162298, 0.5339185034063717, '4.9%'),\n",
       "  Text(-0.3696430639990241, 0.4726140129507518, '1.1%'),\n",
       "  Text(-0.3917630485255769, 0.45444660171459794, '0.4%'),\n",
       "  Text(-0.4057574694239037, 0.4419964660568112, '0.6%'),\n",
       "  Text(-0.4143462093829084, 0.4339553188636072, '0.0%'),\n",
       "  Text(-0.426999135096039, 0.4215112556352851, '0.9%'),\n",
       "  Text(-0.44207533607810245, 0.40567153860165345, '0.2%'),\n",
       "  Text(-0.46468218648981174, 0.3795661543908358, '1.6%'),\n",
       "  Text(-0.5185067431467983, 0.30191183698440854, '3.4%'),\n",
       "  Text(-0.5668641624086443, 0.19663423246410064, '2.7%'),\n",
       "  Text(-0.5862328894710014, 0.12779279832009582, '1.0%'),\n",
       "  Text(-0.5901283912157665, 0.10839041415683974, '0.0%'),\n",
       "  Text(-0.593403101660769, 0.08872856890189894, '1.1%'),\n",
       "  Text(-0.5964327893786838, 0.06532937894976963, '0.2%'),\n",
       "  Text(-0.597388457311819, 0.0559198629344261, '0.3%'),\n",
       "  Text(-0.5987457359809092, 0.0387755547307758, '0.6%'),\n",
       "  Text(-0.5996823777148743, 0.01952039595486738, '0.4%'),\n",
       "  Text(-0.5959529659361902, -0.06957055693221174, '4.3%'),\n",
       "  Text(-0.5795790469175172, -0.15520350632051588, '0.3%'),\n",
       "  Text(-0.37587892987100807, -0.46766978743449505, '19.8%'),\n",
       "  Text(0.0040849259661359305, -0.5999860943220694, '2.0%'),\n",
       "  Text(0.04296641404613156, -0.5984595953479369, '0.1%'),\n",
       "  Text(0.08869075837667832, -0.5934087540461209, '2.3%'),\n",
       "  Text(0.13560176012722014, -0.5844759726886982, '0.2%'),\n",
       "  Text(0.15209818501674408, -0.5804017075393665, '0.7%'),\n",
       "  Text(0.2708404112573948, -0.5353928199275044, '6.0%'),\n",
       "  Text(0.37512351716071646, -0.46827593027292536, '0.5%'),\n",
       "  Text(0.39713619460069355, -0.4497586496534336, '1.0%'),\n",
       "  Text(0.4144653264927049, -0.43384155302978467, '0.3%'),\n",
       "  Text(0.4347310550230334, -0.4135322355011279, '1.3%'),\n",
       "  Text(0.5192402037989887, -0.30064865001989394, '6.2%'),\n",
       "  Text(0.5678604317836412, -0.193738302910128, '0.0%'),\n",
       "  Text(0.5688680840139039, -0.19075928022077987, '0.2%'),\n",
       "  Text(0.5821310483181726, -0.14533906076476946, '2.3%'),\n",
       "  Text(0.5949993132282292, -0.07730341039006966, '1.3%'),\n",
       "  Text(0.597967377851081, -0.04934587141699407, '0.2%'),\n",
       "  Text(0.5994386332368055, -0.025948506376872748, '1.1%'),\n",
       "  Text(0.5999936224713599, -0.0027664044706480944, '0.1%')])"
      ]
     },
     "execution_count": 146,
     "metadata": {},
     "output_type": "execute_result"
    },
    {
     "data": {
      "image/png": "[encoded data removed]",
      "text/plain": [
       "<Figure size 1800x1800 with 1 Axes>"
      ]
     },
     "metadata": {},
     "output_type": "display_data"
    }
   ],
   "source": [
    "plt.subplots(figsize=(25, 25))\n",
    "explode_values = (0, 0, 0, 0, 0.2, 0, 0, 0, 0, 0,\n",
    "                  0, 0, 0, 0, 0, 0, 0, 0, 0, 0,\n",
    "                  0, 0, 0, 0, 0, 0, 0, 0, 0, 0,\n",
    "                  0, 0, 0, 0, 0, 0, 0, 0, 0, 0,\n",
    "                  0, 0, 0, 0, 0, 0, 0, 0, 0, 0, 0,)\n",
    "plt.pie(y_axis, explode=explode_values, labels=x_axis, autopct='%.1f%%')"
   ]
  },
  {
   "cell_type": "code",
   "execution_count": null,
   "id": "4392834c",
   "metadata": {},
   "outputs": [],
   "source": []
  }
 ],
 "metadata": {
  "kernelspec": {
   "display_name": "Python 3 (ipykernel)",
   "language": "python",
   "name": "python3"
  },
  "language_info": {
   "codemirror_mode": {
    "name": "ipython",
    "version": 3
   },
   "file_extension": ".py",
   "mimetype": "text/x-python",
   "name": "python",
   "nbconvert_exporter": "python",
   "pygments_lexer": "ipython3",
   "version": "3.7.13"
  }
 },
 "nbformat": 4,
 "nbformat_minor": 5
}
