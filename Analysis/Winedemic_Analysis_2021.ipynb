{
 "cells": [
  {
   "cell_type": "markdown",
   "id": "b28d77ec",
   "metadata": {},
   "source": [
    "## Import Dependencies, Read CSV and Create Dataframes."
   ]
  },
  {
   "cell_type": "code",
   "execution_count": 1,
   "id": "25060bae",
   "metadata": {},
   "outputs": [],
   "source": [
    "#Pandas library to create DataFrames\n",
    "import pandas as pd\n",
    "#NumPy library for converting data types\n",
    "import numpy as np\n",
    "import matplotlib\n",
    "matplotlib.__version__\n",
    "%matplotlib inline\n",
    "import matplotlib.pyplot as plt"
   ]
  },
  {
   "cell_type": "code",
   "execution_count": 2,
   "id": "10911d7e",
   "metadata": {},
   "outputs": [],
   "source": [
    "load_states = \"../state_covid_info/Complete_states.csv\"\n",
    "load_2021 = \"../data_frame/Complete_annual_dataframes/Complete_2021.csv\""
   ]
  },
  {
   "cell_type": "code",
   "execution_count": 3,
   "id": "ac5c9a47",
   "metadata": {},
   "outputs": [
    {
     "data": {
      "text/html": [
       "<div>\n",
       "<style scoped>\n",
       "    .dataframe tbody tr th:only-of-type {\n",
       "        vertical-align: middle;\n",
       "    }\n",
       "\n",
       "    .dataframe tbody tr th {\n",
       "        vertical-align: top;\n",
       "    }\n",
       "\n",
       "    .dataframe thead th {\n",
       "        text-align: right;\n",
       "    }\n",
       "</style>\n",
       "<table border=\"1\" class=\"dataframe\">\n",
       "  <thead>\n",
       "    <tr style=\"text-align: right;\">\n",
       "      <th></th>\n",
       "      <th>State</th>\n",
       "      <th>Population</th>\n",
       "      <th>Lockdown Start</th>\n",
       "      <th>Initial Expected Lockdown End</th>\n",
       "      <th>Phase 1 Re-Opening Start</th>\n",
       "      <th>Political Alignment</th>\n",
       "    </tr>\n",
       "  </thead>\n",
       "  <tbody>\n",
       "    <tr>\n",
       "      <th>0</th>\n",
       "      <td>AK</td>\n",
       "      <td>731,545</td>\n",
       "      <td>3/23/2020</td>\n",
       "      <td>3/30/2020</td>\n",
       "      <td>4/24/2020</td>\n",
       "      <td>Red</td>\n",
       "    </tr>\n",
       "    <tr>\n",
       "      <th>1</th>\n",
       "      <td>AL</td>\n",
       "      <td>4,903,185</td>\n",
       "      <td>4/4/2020</td>\n",
       "      <td>4/30/2020</td>\n",
       "      <td>4/30/2020</td>\n",
       "      <td>Red</td>\n",
       "    </tr>\n",
       "    <tr>\n",
       "      <th>2</th>\n",
       "      <td>AR</td>\n",
       "      <td>3,017,804</td>\n",
       "      <td>3/15/2020</td>\n",
       "      <td>3/27/2020</td>\n",
       "      <td>6/5/2020</td>\n",
       "      <td>Red</td>\n",
       "    </tr>\n",
       "    <tr>\n",
       "      <th>3</th>\n",
       "      <td>AZ</td>\n",
       "      <td>7,278,717</td>\n",
       "      <td>4/30/2020</td>\n",
       "      <td>5/15/2020</td>\n",
       "      <td>5/18/2020</td>\n",
       "      <td>Blue</td>\n",
       "    </tr>\n",
       "    <tr>\n",
       "      <th>4</th>\n",
       "      <td>CA</td>\n",
       "      <td>39,512,223</td>\n",
       "      <td>3/19/2020</td>\n",
       "      <td>4/2/2020</td>\n",
       "      <td>5/13/2020</td>\n",
       "      <td>Blue</td>\n",
       "    </tr>\n",
       "  </tbody>\n",
       "</table>\n",
       "</div>"
      ],
      "text/plain": [
       "  State  Population Lockdown Start Initial Expected Lockdown End  \\\n",
       "0    AK     731,545      3/23/2020                     3/30/2020   \n",
       "1    AL   4,903,185       4/4/2020                     4/30/2020   \n",
       "2    AR   3,017,804      3/15/2020                     3/27/2020   \n",
       "3    AZ   7,278,717      4/30/2020                     5/15/2020   \n",
       "4    CA  39,512,223      3/19/2020                      4/2/2020   \n",
       "\n",
       "  Phase 1 Re-Opening Start Political Alignment  \n",
       "0                4/24/2020                 Red  \n",
       "1                4/30/2020                 Red  \n",
       "2                 6/5/2020                 Red  \n",
       "3                5/18/2020                Blue  \n",
       "4                5/13/2020                Blue  "
      ]
     },
     "execution_count": 3,
     "metadata": {},
     "output_type": "execute_result"
    }
   ],
   "source": [
    "states_df = pd.read_csv(load_states)\n",
    "states_df.head()"
   ]
  },
  {
   "cell_type": "code",
   "execution_count": 4,
   "id": "1178cf2f",
   "metadata": {},
   "outputs": [
    {
     "data": {
      "text/html": [
       "<div>\n",
       "<style scoped>\n",
       "    .dataframe tbody tr th:only-of-type {\n",
       "        vertical-align: middle;\n",
       "    }\n",
       "\n",
       "    .dataframe tbody tr th {\n",
       "        vertical-align: top;\n",
       "    }\n",
       "\n",
       "    .dataframe thead th {\n",
       "        text-align: right;\n",
       "    }\n",
       "</style>\n",
       "<table border=\"1\" class=\"dataframe\">\n",
       "  <thead>\n",
       "    <tr style=\"text-align: right;\">\n",
       "      <th></th>\n",
       "      <th>Order Number</th>\n",
       "      <th>Company Name</th>\n",
       "      <th>Ship Date</th>\n",
       "      <th>City</th>\n",
       "      <th>State</th>\n",
       "      <th>Zip</th>\n",
       "      <th>Shipping Service</th>\n",
       "      <th>Created Date</th>\n",
       "      <th>Weight</th>\n",
       "      <th>Item/Bottle Count</th>\n",
       "    </tr>\n",
       "  </thead>\n",
       "  <tbody>\n",
       "    <tr>\n",
       "      <th>0</th>\n",
       "      <td>0</td>\n",
       "      <td>Ecom1</td>\n",
       "      <td>1/4/2021</td>\n",
       "      <td>Pleasant Prairie</td>\n",
       "      <td>WI</td>\n",
       "      <td>53158</td>\n",
       "      <td>FEH</td>\n",
       "      <td>12/7/2020</td>\n",
       "      <td>10.5</td>\n",
       "      <td>3.0</td>\n",
       "    </tr>\n",
       "    <tr>\n",
       "      <th>1</th>\n",
       "      <td>1</td>\n",
       "      <td>Ecom1</td>\n",
       "      <td>1/5/2021</td>\n",
       "      <td>Beaverton</td>\n",
       "      <td>OR</td>\n",
       "      <td>97005</td>\n",
       "      <td>FEH</td>\n",
       "      <td>12/23/2020</td>\n",
       "      <td>10.5</td>\n",
       "      <td>3.0</td>\n",
       "    </tr>\n",
       "    <tr>\n",
       "      <th>2</th>\n",
       "      <td>2</td>\n",
       "      <td>Ecom1</td>\n",
       "      <td>1/5/2021</td>\n",
       "      <td>Edison</td>\n",
       "      <td>NJ</td>\n",
       "      <td>8820</td>\n",
       "      <td>FEH</td>\n",
       "      <td>12/24/2020</td>\n",
       "      <td>6.5</td>\n",
       "      <td>1.0</td>\n",
       "    </tr>\n",
       "    <tr>\n",
       "      <th>3</th>\n",
       "      <td>3</td>\n",
       "      <td>Ecom1</td>\n",
       "      <td>1/5/2021</td>\n",
       "      <td>Jersey city</td>\n",
       "      <td>NJ</td>\n",
       "      <td>7302</td>\n",
       "      <td>FEH</td>\n",
       "      <td>12/24/2020</td>\n",
       "      <td>6.5</td>\n",
       "      <td>1.0</td>\n",
       "    </tr>\n",
       "    <tr>\n",
       "      <th>4</th>\n",
       "      <td>4</td>\n",
       "      <td>Ecom1</td>\n",
       "      <td>1/5/2021</td>\n",
       "      <td>Stoughton</td>\n",
       "      <td>MA</td>\n",
       "      <td>2072</td>\n",
       "      <td>FEH</td>\n",
       "      <td>12/24/2020</td>\n",
       "      <td>6.5</td>\n",
       "      <td>1.0</td>\n",
       "    </tr>\n",
       "  </tbody>\n",
       "</table>\n",
       "</div>"
      ],
      "text/plain": [
       "   Order Number Company Name Ship Date              City State    Zip  \\\n",
       "0             0        Ecom1  1/4/2021  Pleasant Prairie    WI  53158   \n",
       "1             1        Ecom1  1/5/2021         Beaverton    OR  97005   \n",
       "2             2        Ecom1  1/5/2021            Edison    NJ   8820   \n",
       "3             3        Ecom1  1/5/2021       Jersey city    NJ   7302   \n",
       "4             4        Ecom1  1/5/2021         Stoughton    MA   2072   \n",
       "\n",
       "  Shipping Service Created Date  Weight  Item/Bottle Count  \n",
       "0              FEH    12/7/2020    10.5                3.0  \n",
       "1              FEH   12/23/2020    10.5                3.0  \n",
       "2              FEH   12/24/2020     6.5                1.0  \n",
       "3              FEH   12/24/2020     6.5                1.0  \n",
       "4              FEH   12/24/2020     6.5                1.0  "
      ]
     },
     "execution_count": 4,
     "metadata": {},
     "output_type": "execute_result"
    }
   ],
   "source": [
    "#If I set the Index as \"State\" here, an extra column named \"Unammed:0\" populates. \n",
    "df_2021 = pd.read_csv(load_2021, index_col=[0])\n",
    "df_2021.head()"
   ]
  },
  {
   "cell_type": "code",
   "execution_count": 6,
   "id": "4e909ac4",
   "metadata": {},
   "outputs": [
    {
     "data": {
      "text/plain": [
       "array(['WI', 'OR', 'NJ', 'MA', 'CT', 'MD', 'NC', 'NH', 'PA', 'WA', 'GA',\n",
       "       'TX', 'IL', 'CA', 'FL', 'NM', 'NY', 'RI', 'MN', 'WY', 'DC', 'OH',\n",
       "       'MO', 'SC', 'IA', 'CO', 'WV', 'VA', 'AZ', 'IN', 'TN', 'KS', 'AL',\n",
       "       'MI', 'NE', 'NV', 'OK', 'DE', 'MT', 'ID', 'LA', 'ND', 'ME', 'VT',\n",
       "       'AK', 'HI', 'SD', 'AR', 'KY'], dtype=object)"
      ]
     },
     "execution_count": 6,
     "metadata": {},
     "output_type": "execute_result"
    }
   ],
   "source": [
    "df_2021.State.unique()"
   ]
  },
  {
   "cell_type": "code",
   "execution_count": 7,
   "id": "c5f48c04",
   "metadata": {},
   "outputs": [
    {
     "data": {
      "text/html": [
       "<div>\n",
       "<style scoped>\n",
       "    .dataframe tbody tr th:only-of-type {\n",
       "        vertical-align: middle;\n",
       "    }\n",
       "\n",
       "    .dataframe tbody tr th {\n",
       "        vertical-align: top;\n",
       "    }\n",
       "\n",
       "    .dataframe thead th {\n",
       "        text-align: right;\n",
       "    }\n",
       "</style>\n",
       "<table border=\"1\" class=\"dataframe\">\n",
       "  <thead>\n",
       "    <tr style=\"text-align: right;\">\n",
       "      <th></th>\n",
       "      <th>Order Number</th>\n",
       "      <th>Company Name</th>\n",
       "      <th>Ship Date</th>\n",
       "      <th>City</th>\n",
       "      <th>Zip</th>\n",
       "      <th>Shipping Service</th>\n",
       "      <th>Created Date</th>\n",
       "      <th>Weight</th>\n",
       "      <th>Item/Bottle Count</th>\n",
       "    </tr>\n",
       "    <tr>\n",
       "      <th>State</th>\n",
       "      <th></th>\n",
       "      <th></th>\n",
       "      <th></th>\n",
       "      <th></th>\n",
       "      <th></th>\n",
       "      <th></th>\n",
       "      <th></th>\n",
       "      <th></th>\n",
       "      <th></th>\n",
       "    </tr>\n",
       "  </thead>\n",
       "  <tbody>\n",
       "    <tr>\n",
       "      <th>WI</th>\n",
       "      <td>0</td>\n",
       "      <td>Ecom1</td>\n",
       "      <td>1/4/2021</td>\n",
       "      <td>Pleasant Prairie</td>\n",
       "      <td>53158</td>\n",
       "      <td>FEH</td>\n",
       "      <td>12/7/2020</td>\n",
       "      <td>10.5</td>\n",
       "      <td>3.0</td>\n",
       "    </tr>\n",
       "    <tr>\n",
       "      <th>OR</th>\n",
       "      <td>1</td>\n",
       "      <td>Ecom1</td>\n",
       "      <td>1/5/2021</td>\n",
       "      <td>Beaverton</td>\n",
       "      <td>97005</td>\n",
       "      <td>FEH</td>\n",
       "      <td>12/23/2020</td>\n",
       "      <td>10.5</td>\n",
       "      <td>3.0</td>\n",
       "    </tr>\n",
       "    <tr>\n",
       "      <th>NJ</th>\n",
       "      <td>2</td>\n",
       "      <td>Ecom1</td>\n",
       "      <td>1/5/2021</td>\n",
       "      <td>Edison</td>\n",
       "      <td>8820</td>\n",
       "      <td>FEH</td>\n",
       "      <td>12/24/2020</td>\n",
       "      <td>6.5</td>\n",
       "      <td>1.0</td>\n",
       "    </tr>\n",
       "    <tr>\n",
       "      <th>NJ</th>\n",
       "      <td>3</td>\n",
       "      <td>Ecom1</td>\n",
       "      <td>1/5/2021</td>\n",
       "      <td>Jersey city</td>\n",
       "      <td>7302</td>\n",
       "      <td>FEH</td>\n",
       "      <td>12/24/2020</td>\n",
       "      <td>6.5</td>\n",
       "      <td>1.0</td>\n",
       "    </tr>\n",
       "    <tr>\n",
       "      <th>MA</th>\n",
       "      <td>4</td>\n",
       "      <td>Ecom1</td>\n",
       "      <td>1/5/2021</td>\n",
       "      <td>Stoughton</td>\n",
       "      <td>2072</td>\n",
       "      <td>FEH</td>\n",
       "      <td>12/24/2020</td>\n",
       "      <td>6.5</td>\n",
       "      <td>1.0</td>\n",
       "    </tr>\n",
       "    <tr>\n",
       "      <th>...</th>\n",
       "      <td>...</td>\n",
       "      <td>...</td>\n",
       "      <td>...</td>\n",
       "      <td>...</td>\n",
       "      <td>...</td>\n",
       "      <td>...</td>\n",
       "      <td>...</td>\n",
       "      <td>...</td>\n",
       "      <td>...</td>\n",
       "    </tr>\n",
       "    <tr>\n",
       "      <th>IL</th>\n",
       "      <td>242646</td>\n",
       "      <td>Ecom2</td>\n",
       "      <td>12/30/2021</td>\n",
       "      <td>Oakwood</td>\n",
       "      <td>61858</td>\n",
       "      <td>FEH</td>\n",
       "      <td>12/30/2021</td>\n",
       "      <td>7.0</td>\n",
       "      <td>2.0</td>\n",
       "    </tr>\n",
       "    <tr>\n",
       "      <th>IL</th>\n",
       "      <td>242647</td>\n",
       "      <td>Ecom2</td>\n",
       "      <td>12/30/2021</td>\n",
       "      <td>Wonder Lake</td>\n",
       "      <td>60097</td>\n",
       "      <td>FEH</td>\n",
       "      <td>12/30/2021</td>\n",
       "      <td>7.0</td>\n",
       "      <td>2.0</td>\n",
       "    </tr>\n",
       "    <tr>\n",
       "      <th>MA</th>\n",
       "      <td>242648</td>\n",
       "      <td>Ecom2</td>\n",
       "      <td>12/30/2021</td>\n",
       "      <td>Charlestown</td>\n",
       "      <td>2129</td>\n",
       "      <td>UPS</td>\n",
       "      <td>12/30/2021</td>\n",
       "      <td>7.0</td>\n",
       "      <td>2.0</td>\n",
       "    </tr>\n",
       "    <tr>\n",
       "      <th>DC</th>\n",
       "      <td>242649</td>\n",
       "      <td>Ecom2</td>\n",
       "      <td>12/30/2021</td>\n",
       "      <td>Washington</td>\n",
       "      <td>20002</td>\n",
       "      <td>FEH</td>\n",
       "      <td>12/30/2021</td>\n",
       "      <td>7.0</td>\n",
       "      <td>2.0</td>\n",
       "    </tr>\n",
       "    <tr>\n",
       "      <th>FL</th>\n",
       "      <td>242650</td>\n",
       "      <td>Ecom2</td>\n",
       "      <td>12/30/2021</td>\n",
       "      <td>Delray Beach</td>\n",
       "      <td>33446</td>\n",
       "      <td>FEH</td>\n",
       "      <td>12/30/2021</td>\n",
       "      <td>7.0</td>\n",
       "      <td>2.0</td>\n",
       "    </tr>\n",
       "  </tbody>\n",
       "</table>\n",
       "<p>242651 rows × 9 columns</p>\n",
       "</div>"
      ],
      "text/plain": [
       "       Order Number Company Name   Ship Date              City    Zip  \\\n",
       "State                                                                   \n",
       "WI                0        Ecom1    1/4/2021  Pleasant Prairie  53158   \n",
       "OR                1        Ecom1    1/5/2021         Beaverton  97005   \n",
       "NJ                2        Ecom1    1/5/2021            Edison   8820   \n",
       "NJ                3        Ecom1    1/5/2021       Jersey city   7302   \n",
       "MA                4        Ecom1    1/5/2021         Stoughton   2072   \n",
       "...             ...          ...         ...               ...    ...   \n",
       "IL           242646        Ecom2  12/30/2021           Oakwood  61858   \n",
       "IL           242647        Ecom2  12/30/2021       Wonder Lake  60097   \n",
       "MA           242648        Ecom2  12/30/2021       Charlestown   2129   \n",
       "DC           242649        Ecom2  12/30/2021        Washington  20002   \n",
       "FL           242650        Ecom2  12/30/2021      Delray Beach  33446   \n",
       "\n",
       "      Shipping Service Created Date  Weight  Item/Bottle Count  \n",
       "State                                                           \n",
       "WI                 FEH    12/7/2020    10.5                3.0  \n",
       "OR                 FEH   12/23/2020    10.5                3.0  \n",
       "NJ                 FEH   12/24/2020     6.5                1.0  \n",
       "NJ                 FEH   12/24/2020     6.5                1.0  \n",
       "MA                 FEH   12/24/2020     6.5                1.0  \n",
       "...                ...          ...     ...                ...  \n",
       "IL                 FEH   12/30/2021     7.0                2.0  \n",
       "IL                 FEH   12/30/2021     7.0                2.0  \n",
       "MA                 UPS   12/30/2021     7.0                2.0  \n",
       "DC                 FEH   12/30/2021     7.0                2.0  \n",
       "FL                 FEH   12/30/2021     7.0                2.0  \n",
       "\n",
       "[242651 rows x 9 columns]"
      ]
     },
     "execution_count": 7,
     "metadata": {},
     "output_type": "execute_result"
    }
   ],
   "source": [
    "df_2021 = df_2021.set_index(\"State\")\n",
    "df_2021"
   ]
  },
  {
   "cell_type": "code",
   "execution_count": 8,
   "id": "53919cf2",
   "metadata": {},
   "outputs": [
    {
     "data": {
      "text/html": [
       "<div>\n",
       "<style scoped>\n",
       "    .dataframe tbody tr th:only-of-type {\n",
       "        vertical-align: middle;\n",
       "    }\n",
       "\n",
       "    .dataframe tbody tr th {\n",
       "        vertical-align: top;\n",
       "    }\n",
       "\n",
       "    .dataframe thead th {\n",
       "        text-align: right;\n",
       "    }\n",
       "</style>\n",
       "<table border=\"1\" class=\"dataframe\">\n",
       "  <thead>\n",
       "    <tr style=\"text-align: right;\">\n",
       "      <th></th>\n",
       "      <th>Order Number</th>\n",
       "      <th>Company Name</th>\n",
       "      <th>Ship Date</th>\n",
       "      <th>City</th>\n",
       "      <th>Zip</th>\n",
       "      <th>Shipping Service</th>\n",
       "      <th>Created Date</th>\n",
       "      <th>Weight</th>\n",
       "      <th>Item/Bottle Count</th>\n",
       "      <th>Population</th>\n",
       "      <th>Lockdown Start</th>\n",
       "      <th>Initial Expected Lockdown End</th>\n",
       "      <th>Phase 1 Re-Opening Start</th>\n",
       "      <th>Political Alignment</th>\n",
       "    </tr>\n",
       "    <tr>\n",
       "      <th>State</th>\n",
       "      <th></th>\n",
       "      <th></th>\n",
       "      <th></th>\n",
       "      <th></th>\n",
       "      <th></th>\n",
       "      <th></th>\n",
       "      <th></th>\n",
       "      <th></th>\n",
       "      <th></th>\n",
       "      <th></th>\n",
       "      <th></th>\n",
       "      <th></th>\n",
       "      <th></th>\n",
       "      <th></th>\n",
       "    </tr>\n",
       "  </thead>\n",
       "  <tbody>\n",
       "    <tr>\n",
       "      <th>WI</th>\n",
       "      <td>0</td>\n",
       "      <td>Ecom1</td>\n",
       "      <td>1/4/2021</td>\n",
       "      <td>Pleasant Prairie</td>\n",
       "      <td>53158</td>\n",
       "      <td>FEH</td>\n",
       "      <td>12/7/2020</td>\n",
       "      <td>10.5</td>\n",
       "      <td>3.0</td>\n",
       "      <td>5,822,434</td>\n",
       "      <td>3/24/2020</td>\n",
       "      <td>4/24/2020</td>\n",
       "      <td>5/26/2020</td>\n",
       "      <td>Blue</td>\n",
       "    </tr>\n",
       "    <tr>\n",
       "      <th>OR</th>\n",
       "      <td>1</td>\n",
       "      <td>Ecom1</td>\n",
       "      <td>1/5/2021</td>\n",
       "      <td>Beaverton</td>\n",
       "      <td>97005</td>\n",
       "      <td>FEH</td>\n",
       "      <td>12/23/2020</td>\n",
       "      <td>10.5</td>\n",
       "      <td>3.0</td>\n",
       "      <td>4,217,737</td>\n",
       "      <td>3/24/2020</td>\n",
       "      <td>3/31/2020</td>\n",
       "      <td>5/14/2020</td>\n",
       "      <td>Blue</td>\n",
       "    </tr>\n",
       "    <tr>\n",
       "      <th>NJ</th>\n",
       "      <td>2</td>\n",
       "      <td>Ecom1</td>\n",
       "      <td>1/5/2021</td>\n",
       "      <td>Edison</td>\n",
       "      <td>8820</td>\n",
       "      <td>FEH</td>\n",
       "      <td>12/24/2020</td>\n",
       "      <td>6.5</td>\n",
       "      <td>1.0</td>\n",
       "      <td>8,882,190</td>\n",
       "      <td>3/21/2020</td>\n",
       "      <td>1/1/1111</td>\n",
       "      <td>5/12/2020</td>\n",
       "      <td>Blue</td>\n",
       "    </tr>\n",
       "    <tr>\n",
       "      <th>NJ</th>\n",
       "      <td>3</td>\n",
       "      <td>Ecom1</td>\n",
       "      <td>1/5/2021</td>\n",
       "      <td>Jersey city</td>\n",
       "      <td>7302</td>\n",
       "      <td>FEH</td>\n",
       "      <td>12/24/2020</td>\n",
       "      <td>6.5</td>\n",
       "      <td>1.0</td>\n",
       "      <td>8,882,190</td>\n",
       "      <td>3/21/2020</td>\n",
       "      <td>1/1/1111</td>\n",
       "      <td>5/12/2020</td>\n",
       "      <td>Blue</td>\n",
       "    </tr>\n",
       "    <tr>\n",
       "      <th>MA</th>\n",
       "      <td>4</td>\n",
       "      <td>Ecom1</td>\n",
       "      <td>1/5/2021</td>\n",
       "      <td>Stoughton</td>\n",
       "      <td>2072</td>\n",
       "      <td>FEH</td>\n",
       "      <td>12/24/2020</td>\n",
       "      <td>6.5</td>\n",
       "      <td>1.0</td>\n",
       "      <td>6,892,503</td>\n",
       "      <td>3/23/2020</td>\n",
       "      <td>3/31/2020</td>\n",
       "      <td>5/18/2020</td>\n",
       "      <td>blue</td>\n",
       "    </tr>\n",
       "  </tbody>\n",
       "</table>\n",
       "</div>"
      ],
      "text/plain": [
       "       Order Number Company Name Ship Date              City    Zip  \\\n",
       "State                                                                 \n",
       "WI                0        Ecom1  1/4/2021  Pleasant Prairie  53158   \n",
       "OR                1        Ecom1  1/5/2021         Beaverton  97005   \n",
       "NJ                2        Ecom1  1/5/2021            Edison   8820   \n",
       "NJ                3        Ecom1  1/5/2021       Jersey city   7302   \n",
       "MA                4        Ecom1  1/5/2021         Stoughton   2072   \n",
       "\n",
       "      Shipping Service Created Date  Weight  Item/Bottle Count Population  \\\n",
       "State                                                                       \n",
       "WI                 FEH    12/7/2020    10.5                3.0  5,822,434   \n",
       "OR                 FEH   12/23/2020    10.5                3.0  4,217,737   \n",
       "NJ                 FEH   12/24/2020     6.5                1.0  8,882,190   \n",
       "NJ                 FEH   12/24/2020     6.5                1.0  8,882,190   \n",
       "MA                 FEH   12/24/2020     6.5                1.0  6,892,503   \n",
       "\n",
       "      Lockdown Start Initial Expected Lockdown End Phase 1 Re-Opening Start  \\\n",
       "State                                                                         \n",
       "WI         3/24/2020                     4/24/2020                5/26/2020   \n",
       "OR         3/24/2020                     3/31/2020                5/14/2020   \n",
       "NJ         3/21/2020                      1/1/1111                5/12/2020   \n",
       "NJ         3/21/2020                      1/1/1111                5/12/2020   \n",
       "MA         3/23/2020                     3/31/2020                5/18/2020   \n",
       "\n",
       "      Political Alignment  \n",
       "State                      \n",
       "WI                   Blue  \n",
       "OR                   Blue  \n",
       "NJ                   Blue  \n",
       "NJ                   Blue  \n",
       "MA                   blue  "
      ]
     },
     "execution_count": 8,
     "metadata": {},
     "output_type": "execute_result"
    }
   ],
   "source": [
    "#Join states and 2021 df on \"State\"\n",
    "states_2021 = df_2021.join(states_df.set_index (\"State\"), on = \"State\")\n",
    "states_2021.head()"
   ]
  },
  {
   "cell_type": "code",
   "execution_count": 9,
   "id": "4364147b",
   "metadata": {},
   "outputs": [
    {
     "data": {
      "text/plain": [
       "Order Number                     242651\n",
       "Company Name                     242651\n",
       "Ship Date                        242651\n",
       "City                             242651\n",
       "Zip                              242651\n",
       "Shipping Service                 242651\n",
       "Created Date                     242651\n",
       "Weight                           242651\n",
       "Item/Bottle Count                242651\n",
       "Population                       240900\n",
       "Lockdown Start                   240900\n",
       "Initial Expected Lockdown End    240900\n",
       "Phase 1 Re-Opening Start         240900\n",
       "Political Alignment              240900\n",
       "dtype: int64"
      ]
     },
     "execution_count": 9,
     "metadata": {},
     "output_type": "execute_result"
    }
   ],
   "source": [
    "states_2021.count()"
   ]
  },
  {
   "cell_type": "code",
   "execution_count": 10,
   "id": "39b430d0",
   "metadata": {},
   "outputs": [
    {
     "data": {
      "text/html": [
       "<div>\n",
       "<style scoped>\n",
       "    .dataframe tbody tr th:only-of-type {\n",
       "        vertical-align: middle;\n",
       "    }\n",
       "\n",
       "    .dataframe tbody tr th {\n",
       "        vertical-align: top;\n",
       "    }\n",
       "\n",
       "    .dataframe thead th {\n",
       "        text-align: right;\n",
       "    }\n",
       "</style>\n",
       "<table border=\"1\" class=\"dataframe\">\n",
       "  <thead>\n",
       "    <tr style=\"text-align: right;\">\n",
       "      <th></th>\n",
       "      <th>Order Number</th>\n",
       "      <th>Company Name</th>\n",
       "      <th>Ship Date</th>\n",
       "      <th>City</th>\n",
       "      <th>Zip</th>\n",
       "      <th>Shipping Service</th>\n",
       "      <th>Created Date</th>\n",
       "      <th>Weight</th>\n",
       "      <th>Item/Bottle Count</th>\n",
       "      <th>Population</th>\n",
       "      <th>Lockdown Start</th>\n",
       "      <th>Initial Expected Lockdown End</th>\n",
       "      <th>Phase 1 Re-Opening Start</th>\n",
       "      <th>Political Alignment</th>\n",
       "    </tr>\n",
       "    <tr>\n",
       "      <th>State</th>\n",
       "      <th></th>\n",
       "      <th></th>\n",
       "      <th></th>\n",
       "      <th></th>\n",
       "      <th></th>\n",
       "      <th></th>\n",
       "      <th></th>\n",
       "      <th></th>\n",
       "      <th></th>\n",
       "      <th></th>\n",
       "      <th></th>\n",
       "      <th></th>\n",
       "      <th></th>\n",
       "      <th></th>\n",
       "    </tr>\n",
       "  </thead>\n",
       "  <tbody>\n",
       "    <tr>\n",
       "      <th>CO</th>\n",
       "      <td>242641</td>\n",
       "      <td>Ecom3</td>\n",
       "      <td>12/30/2021</td>\n",
       "      <td>Colorado Springs</td>\n",
       "      <td>80907</td>\n",
       "      <td>UPS</td>\n",
       "      <td>12/30/2021</td>\n",
       "      <td>21.50</td>\n",
       "      <td>6.0</td>\n",
       "      <td>5,758,736</td>\n",
       "      <td>3/26/2020</td>\n",
       "      <td>4/26/2020</td>\n",
       "      <td>4/26/2020</td>\n",
       "      <td>Blue</td>\n",
       "    </tr>\n",
       "    <tr>\n",
       "      <th>NV</th>\n",
       "      <td>242642</td>\n",
       "      <td>Ecom3</td>\n",
       "      <td>12/30/2021</td>\n",
       "      <td>Las Vegas</td>\n",
       "      <td>89145</td>\n",
       "      <td>UPS</td>\n",
       "      <td>12/30/2021</td>\n",
       "      <td>3.35</td>\n",
       "      <td>1.0</td>\n",
       "      <td>3,080,156</td>\n",
       "      <td>4/1/2020</td>\n",
       "      <td>4/30/2020</td>\n",
       "      <td>5/9/2020</td>\n",
       "      <td>Blue</td>\n",
       "    </tr>\n",
       "    <tr>\n",
       "      <th>CA</th>\n",
       "      <td>242643</td>\n",
       "      <td>Ecom3</td>\n",
       "      <td>12/30/2021</td>\n",
       "      <td>San Diego</td>\n",
       "      <td>92130</td>\n",
       "      <td>UPS</td>\n",
       "      <td>12/30/2021</td>\n",
       "      <td>7.00</td>\n",
       "      <td>2.0</td>\n",
       "      <td>39,512,223</td>\n",
       "      <td>3/19/2020</td>\n",
       "      <td>4/2/2020</td>\n",
       "      <td>5/13/2020</td>\n",
       "      <td>Blue</td>\n",
       "    </tr>\n",
       "    <tr>\n",
       "      <th>AK</th>\n",
       "      <td>242644</td>\n",
       "      <td>Ecom3</td>\n",
       "      <td>12/30/2021</td>\n",
       "      <td>Anchorage</td>\n",
       "      <td>99503</td>\n",
       "      <td>UPS</td>\n",
       "      <td>12/30/2021</td>\n",
       "      <td>21.50</td>\n",
       "      <td>6.0</td>\n",
       "      <td>731,545</td>\n",
       "      <td>3/23/2020</td>\n",
       "      <td>3/30/2020</td>\n",
       "      <td>4/24/2020</td>\n",
       "      <td>Red</td>\n",
       "    </tr>\n",
       "    <tr>\n",
       "      <th>IL</th>\n",
       "      <td>242645</td>\n",
       "      <td>Ecom2</td>\n",
       "      <td>12/30/2021</td>\n",
       "      <td>Hillside</td>\n",
       "      <td>60162</td>\n",
       "      <td>FEH</td>\n",
       "      <td>12/30/2021</td>\n",
       "      <td>7.00</td>\n",
       "      <td>2.0</td>\n",
       "      <td>12,671,821</td>\n",
       "      <td>3/20/2020</td>\n",
       "      <td>3/30/2020</td>\n",
       "      <td>5/5/2020</td>\n",
       "      <td>Blue</td>\n",
       "    </tr>\n",
       "    <tr>\n",
       "      <th>IL</th>\n",
       "      <td>242646</td>\n",
       "      <td>Ecom2</td>\n",
       "      <td>12/30/2021</td>\n",
       "      <td>Oakwood</td>\n",
       "      <td>61858</td>\n",
       "      <td>FEH</td>\n",
       "      <td>12/30/2021</td>\n",
       "      <td>7.00</td>\n",
       "      <td>2.0</td>\n",
       "      <td>12,671,821</td>\n",
       "      <td>3/20/2020</td>\n",
       "      <td>3/30/2020</td>\n",
       "      <td>5/5/2020</td>\n",
       "      <td>Blue</td>\n",
       "    </tr>\n",
       "    <tr>\n",
       "      <th>IL</th>\n",
       "      <td>242647</td>\n",
       "      <td>Ecom2</td>\n",
       "      <td>12/30/2021</td>\n",
       "      <td>Wonder Lake</td>\n",
       "      <td>60097</td>\n",
       "      <td>FEH</td>\n",
       "      <td>12/30/2021</td>\n",
       "      <td>7.00</td>\n",
       "      <td>2.0</td>\n",
       "      <td>12,671,821</td>\n",
       "      <td>3/20/2020</td>\n",
       "      <td>3/30/2020</td>\n",
       "      <td>5/5/2020</td>\n",
       "      <td>Blue</td>\n",
       "    </tr>\n",
       "    <tr>\n",
       "      <th>MA</th>\n",
       "      <td>242648</td>\n",
       "      <td>Ecom2</td>\n",
       "      <td>12/30/2021</td>\n",
       "      <td>Charlestown</td>\n",
       "      <td>2129</td>\n",
       "      <td>UPS</td>\n",
       "      <td>12/30/2021</td>\n",
       "      <td>7.00</td>\n",
       "      <td>2.0</td>\n",
       "      <td>6,892,503</td>\n",
       "      <td>3/23/2020</td>\n",
       "      <td>3/31/2020</td>\n",
       "      <td>5/18/2020</td>\n",
       "      <td>blue</td>\n",
       "    </tr>\n",
       "    <tr>\n",
       "      <th>DC</th>\n",
       "      <td>242649</td>\n",
       "      <td>Ecom2</td>\n",
       "      <td>12/30/2021</td>\n",
       "      <td>Washington</td>\n",
       "      <td>20002</td>\n",
       "      <td>FEH</td>\n",
       "      <td>12/30/2021</td>\n",
       "      <td>7.00</td>\n",
       "      <td>2.0</td>\n",
       "      <td>NaN</td>\n",
       "      <td>NaN</td>\n",
       "      <td>NaN</td>\n",
       "      <td>NaN</td>\n",
       "      <td>NaN</td>\n",
       "    </tr>\n",
       "    <tr>\n",
       "      <th>FL</th>\n",
       "      <td>242650</td>\n",
       "      <td>Ecom2</td>\n",
       "      <td>12/30/2021</td>\n",
       "      <td>Delray Beach</td>\n",
       "      <td>33446</td>\n",
       "      <td>FEH</td>\n",
       "      <td>12/30/2021</td>\n",
       "      <td>7.00</td>\n",
       "      <td>2.0</td>\n",
       "      <td>21,477,737</td>\n",
       "      <td>4/1/2020</td>\n",
       "      <td>5/1/2020</td>\n",
       "      <td>9/25/2020</td>\n",
       "      <td>Red</td>\n",
       "    </tr>\n",
       "  </tbody>\n",
       "</table>\n",
       "</div>"
      ],
      "text/plain": [
       "       Order Number Company Name   Ship Date              City    Zip  \\\n",
       "State                                                                   \n",
       "CO           242641        Ecom3  12/30/2021  Colorado Springs  80907   \n",
       "NV           242642        Ecom3  12/30/2021         Las Vegas  89145   \n",
       "CA           242643        Ecom3  12/30/2021         San Diego  92130   \n",
       "AK           242644        Ecom3  12/30/2021         Anchorage  99503   \n",
       "IL           242645        Ecom2  12/30/2021          Hillside  60162   \n",
       "IL           242646        Ecom2  12/30/2021           Oakwood  61858   \n",
       "IL           242647        Ecom2  12/30/2021       Wonder Lake  60097   \n",
       "MA           242648        Ecom2  12/30/2021       Charlestown   2129   \n",
       "DC           242649        Ecom2  12/30/2021        Washington  20002   \n",
       "FL           242650        Ecom2  12/30/2021      Delray Beach  33446   \n",
       "\n",
       "      Shipping Service Created Date  Weight  Item/Bottle Count  Population  \\\n",
       "State                                                                        \n",
       "CO                 UPS   12/30/2021   21.50                6.0   5,758,736   \n",
       "NV                 UPS   12/30/2021    3.35                1.0   3,080,156   \n",
       "CA                 UPS   12/30/2021    7.00                2.0  39,512,223   \n",
       "AK                 UPS   12/30/2021   21.50                6.0     731,545   \n",
       "IL                 FEH   12/30/2021    7.00                2.0  12,671,821   \n",
       "IL                 FEH   12/30/2021    7.00                2.0  12,671,821   \n",
       "IL                 FEH   12/30/2021    7.00                2.0  12,671,821   \n",
       "MA                 UPS   12/30/2021    7.00                2.0   6,892,503   \n",
       "DC                 FEH   12/30/2021    7.00                2.0         NaN   \n",
       "FL                 FEH   12/30/2021    7.00                2.0  21,477,737   \n",
       "\n",
       "      Lockdown Start Initial Expected Lockdown End Phase 1 Re-Opening Start  \\\n",
       "State                                                                         \n",
       "CO         3/26/2020                     4/26/2020                4/26/2020   \n",
       "NV          4/1/2020                     4/30/2020                 5/9/2020   \n",
       "CA         3/19/2020                      4/2/2020                5/13/2020   \n",
       "AK         3/23/2020                     3/30/2020                4/24/2020   \n",
       "IL         3/20/2020                     3/30/2020                 5/5/2020   \n",
       "IL         3/20/2020                     3/30/2020                 5/5/2020   \n",
       "IL         3/20/2020                     3/30/2020                 5/5/2020   \n",
       "MA         3/23/2020                     3/31/2020                5/18/2020   \n",
       "DC               NaN                           NaN                      NaN   \n",
       "FL          4/1/2020                      5/1/2020                9/25/2020   \n",
       "\n",
       "      Political Alignment  \n",
       "State                      \n",
       "CO                   Blue  \n",
       "NV                   Blue  \n",
       "CA                   Blue  \n",
       "AK                    Red  \n",
       "IL                   Blue  \n",
       "IL                   Blue  \n",
       "IL                   Blue  \n",
       "MA                   blue  \n",
       "DC                    NaN  \n",
       "FL                    Red  "
      ]
     },
     "execution_count": 10,
     "metadata": {},
     "output_type": "execute_result"
    }
   ],
   "source": [
    "states_2021.tail(10)"
   ]
  },
  {
   "cell_type": "code",
   "execution_count": 12,
   "id": "0f26f0da",
   "metadata": {},
   "outputs": [
    {
     "data": {
      "text/plain": [
       "1065457.0"
      ]
     },
     "execution_count": 12,
     "metadata": {},
     "output_type": "execute_result"
    }
   ],
   "source": [
    "# Calculate the total 2020 Item/Bottle Count.\n",
    "total_count_2021 = states_2021[\"Item/Bottle Count\"].sum()\n",
    "total_count_2021"
   ]
  },
  {
   "cell_type": "markdown",
   "id": "524ec36c",
   "metadata": {},
   "source": [
    "## Slice Each State Into its Own Dataframe and Calculate Total Item/Bottle Count 2021."
   ]
  },
  {
   "cell_type": "code",
   "execution_count": null,
   "id": "f70b78b4",
   "metadata": {},
   "outputs": [],
   "source": [
    "#['WI', 'OR', 'NJ', 'MA', 'CT', 'MD', 'NC', 'NH', 'PA', 'WA', 'GA',\n",
    "#       'TX', 'IL', 'CA', 'FL', 'NM', 'NY', 'RI', 'MN', 'WY', 'DC', 'OH',\n",
    "#       'MO', 'SC', 'IA', 'CO', 'WV', 'VA', 'AZ', 'IN', 'TN', 'KS', 'AL',\n",
    "#       'MI', 'NE', 'NV', 'OK', 'DE', 'MT', 'ID', 'LA', 'ND', 'ME', 'VT',\n",
    "#       'AK', 'HI', 'SD', 'AR', 'KY']"
   ]
  },
  {
   "cell_type": "code",
   "execution_count": 13,
   "id": "4e756fd2",
   "metadata": {},
   "outputs": [],
   "source": [
    "slice_list = [\"AL\"]\n",
    "Alabama = states_2021.iloc[states_2021.index.isin(slice_list)]\n",
    "#Alabama"
   ]
  },
  {
   "cell_type": "code",
   "execution_count": 14,
   "id": "1bc1a114",
   "metadata": {},
   "outputs": [
    {
     "data": {
      "text/plain": [
       "1229.0"
      ]
     },
     "execution_count": 14,
     "metadata": {},
     "output_type": "execute_result"
    }
   ],
   "source": [
    "# Calculate the total Alabama Item/Bottle Count.\n",
    "Alabama[\"Item/Bottle Count\"].sum()"
   ]
  },
  {
   "cell_type": "code",
   "execution_count": 15,
   "id": "46bc454c",
   "metadata": {},
   "outputs": [],
   "source": [
    "slice_list = [\"AK\"]\n",
    "Alaska = states_2021.iloc[states_2021.index.isin(slice_list)]\n",
    "#Alaska"
   ]
  },
  {
   "cell_type": "code",
   "execution_count": 16,
   "id": "fa9ef0a5",
   "metadata": {},
   "outputs": [
    {
     "data": {
      "text/plain": [
       "2076.0"
      ]
     },
     "execution_count": 16,
     "metadata": {},
     "output_type": "execute_result"
    }
   ],
   "source": [
    "# Calculate the total Alaska Item/Bottle Count.\n",
    "Alaska[\"Item/Bottle Count\"].sum()"
   ]
  },
  {
   "cell_type": "code",
   "execution_count": 17,
   "id": "10dacd1f",
   "metadata": {},
   "outputs": [],
   "source": [
    "slice_list = [\"AZ\"]\n",
    "Arizona = states_2021.iloc[states_2021.index.isin(slice_list)]\n",
    "#Arizona"
   ]
  },
  {
   "cell_type": "code",
   "execution_count": 18,
   "id": "298982ef",
   "metadata": {},
   "outputs": [
    {
     "data": {
      "text/plain": [
       "16882.0"
      ]
     },
     "execution_count": 18,
     "metadata": {},
     "output_type": "execute_result"
    }
   ],
   "source": [
    "# Calculate the total Arizona Item/Bottle Count.\n",
    "Arizona[\"Item/Bottle Count\"].sum()"
   ]
  },
  {
   "cell_type": "code",
   "execution_count": 19,
   "id": "d917b8d2",
   "metadata": {},
   "outputs": [],
   "source": [
    "slice_list = [\"AR\"]\n",
    "Arkansas = states_2021.iloc[states_2021.index.isin(slice_list)]\n",
    "#Arkansas"
   ]
  },
  {
   "cell_type": "code",
   "execution_count": 20,
   "id": "e47d32b4",
   "metadata": {},
   "outputs": [
    {
     "data": {
      "text/plain": [
       "5121.0"
      ]
     },
     "execution_count": 20,
     "metadata": {},
     "output_type": "execute_result"
    }
   ],
   "source": [
    "# Calculate the total Arkansas Item/Bottle Count.\n",
    "Arkansas[\"Item/Bottle Count\"].sum()"
   ]
  },
  {
   "cell_type": "code",
   "execution_count": 21,
   "id": "30f0c11a",
   "metadata": {},
   "outputs": [],
   "source": [
    "slice_list = [\"CA\"]\n",
    "California = states_2021.iloc[states_2021.index.isin(slice_list)]\n",
    "#California"
   ]
  },
  {
   "cell_type": "code",
   "execution_count": 22,
   "id": "3d0f45fd",
   "metadata": {},
   "outputs": [
    {
     "data": {
      "text/plain": [
       "109697.0"
      ]
     },
     "execution_count": 22,
     "metadata": {},
     "output_type": "execute_result"
    }
   ],
   "source": [
    "# Calculate the total California Item/Bottle Count.\n",
    "California[\"Item/Bottle Count\"].sum()"
   ]
  },
  {
   "cell_type": "code",
   "execution_count": 23,
   "id": "acccd00a",
   "metadata": {},
   "outputs": [],
   "source": [
    "slice_list = [\"CO\"]\n",
    "Colorado = states_2021.iloc[states_2021.index.isin(slice_list)]\n",
    "#Colorado"
   ]
  },
  {
   "cell_type": "code",
   "execution_count": 24,
   "id": "927f2f03",
   "metadata": {},
   "outputs": [
    {
     "data": {
      "text/plain": [
       "27844.0"
      ]
     },
     "execution_count": 24,
     "metadata": {},
     "output_type": "execute_result"
    }
   ],
   "source": [
    "# Calculate the total Alaska Item/Bottle Count.\n",
    "Colorado[\"Item/Bottle Count\"].sum()"
   ]
  },
  {
   "cell_type": "code",
   "execution_count": 25,
   "id": "21aad67b",
   "metadata": {},
   "outputs": [],
   "source": [
    "slice_list = [\"CT\"]\n",
    "Connecticut = states_2021.iloc[states_2021.index.isin(slice_list)]\n",
    "#Connecticut"
   ]
  },
  {
   "cell_type": "code",
   "execution_count": 26,
   "id": "c2dbfd37",
   "metadata": {},
   "outputs": [
    {
     "data": {
      "text/plain": [
       "21934.0"
      ]
     },
     "execution_count": 26,
     "metadata": {},
     "output_type": "execute_result"
    }
   ],
   "source": [
    "# Calculate the total Connecticut Item/Bottle Count.\n",
    "Connecticut[\"Item/Bottle Count\"].sum()"
   ]
  },
  {
   "cell_type": "code",
   "execution_count": 29,
   "id": "b278f94e",
   "metadata": {},
   "outputs": [],
   "source": [
    "slice_list = [\"DC\"]\n",
    "DC = states_2021.iloc[states_2021.index.isin(slice_list)]\n",
    "#DC"
   ]
  },
  {
   "cell_type": "code",
   "execution_count": 30,
   "id": "fbdbcc4d",
   "metadata": {},
   "outputs": [
    {
     "data": {
      "text/plain": [
       "8089.0"
      ]
     },
     "execution_count": 30,
     "metadata": {},
     "output_type": "execute_result"
    }
   ],
   "source": [
    "#Calculate the total Delaware Item/Bottle Count.\n",
    "DC[\"Item/Bottle Count\"].sum()"
   ]
  },
  {
   "cell_type": "code",
   "execution_count": 27,
   "id": "4f2e7fdd",
   "metadata": {},
   "outputs": [],
   "source": [
    "slice_list = [\"DE\"]\n",
    "Delaware = states_2021.iloc[states_2021.index.isin(slice_list)]\n",
    "#Delaware"
   ]
  },
  {
   "cell_type": "code",
   "execution_count": 28,
   "id": "8ebf0de8",
   "metadata": {},
   "outputs": [
    {
     "data": {
      "text/plain": [
       "2053.0"
      ]
     },
     "execution_count": 28,
     "metadata": {},
     "output_type": "execute_result"
    }
   ],
   "source": [
    "# Calculate the total Delaware Item/Bottle Count.\n",
    "Delaware[\"Item/Bottle Count\"].sum()"
   ]
  },
  {
   "cell_type": "code",
   "execution_count": 31,
   "id": "0bbf4b39",
   "metadata": {},
   "outputs": [],
   "source": [
    "slice_list = [\"FL\"]\n",
    "Florida = states_2021.iloc[states_2021.index.isin(slice_list)]\n",
    "#Florida"
   ]
  },
  {
   "cell_type": "code",
   "execution_count": 32,
   "id": "7840ccc8",
   "metadata": {},
   "outputs": [
    {
     "data": {
      "text/plain": [
       "79220.0"
      ]
     },
     "execution_count": 32,
     "metadata": {},
     "output_type": "execute_result"
    }
   ],
   "source": [
    "# Calculate the total Florida Item/Bottle Count.\n",
    "Florida[\"Item/Bottle Count\"].sum()"
   ]
  },
  {
   "cell_type": "code",
   "execution_count": 33,
   "id": "8dc52048",
   "metadata": {},
   "outputs": [],
   "source": [
    "slice_list = [\"GA\"]\n",
    "Georgia = states_2021.iloc[states_2021.index.isin(slice_list)]\n",
    "#Georgia"
   ]
  },
  {
   "cell_type": "code",
   "execution_count": 34,
   "id": "852830b5",
   "metadata": {},
   "outputs": [
    {
     "data": {
      "text/plain": [
       "31870.0"
      ]
     },
     "execution_count": 34,
     "metadata": {},
     "output_type": "execute_result"
    }
   ],
   "source": [
    "# Calculate the total Georgia Item/Bottle Count.\n",
    "Georgia[\"Item/Bottle Count\"].sum()"
   ]
  },
  {
   "cell_type": "code",
   "execution_count": 35,
   "id": "98b63f4c",
   "metadata": {},
   "outputs": [],
   "source": [
    "slice_list = [\"HI\"]\n",
    "Hawaii = states_2021.iloc[states_2021.index.isin(slice_list)]\n",
    "#Hawaii"
   ]
  },
  {
   "cell_type": "code",
   "execution_count": 36,
   "id": "bbbcd02c",
   "metadata": {},
   "outputs": [
    {
     "data": {
      "text/plain": [
       "11142.0"
      ]
     },
     "execution_count": 36,
     "metadata": {},
     "output_type": "execute_result"
    }
   ],
   "source": [
    "# Calculate the total Hawaii Item/Bottle Count.\n",
    "Hawaii[\"Item/Bottle Count\"].sum()"
   ]
  },
  {
   "cell_type": "code",
   "execution_count": 37,
   "id": "c80e8149",
   "metadata": {},
   "outputs": [],
   "source": [
    "slice_list = [\"ID\"]\n",
    "Idaho = states_2021.iloc[states_2021.index.isin(slice_list)]\n",
    "#Idaho"
   ]
  },
  {
   "cell_type": "code",
   "execution_count": 38,
   "id": "86b16d53",
   "metadata": {},
   "outputs": [
    {
     "data": {
      "text/plain": [
       "3517.0"
      ]
     },
     "execution_count": 38,
     "metadata": {},
     "output_type": "execute_result"
    }
   ],
   "source": [
    "# Calculate the total Idaho Item/Bottle Count.\n",
    "Idaho[\"Item/Bottle Count\"].sum()"
   ]
  },
  {
   "cell_type": "code",
   "execution_count": 39,
   "id": "e733a5e1",
   "metadata": {},
   "outputs": [],
   "source": [
    "slice_list = [\"IL\"]\n",
    "Illinois = states_2021.iloc[states_2021.index.isin(slice_list)]\n",
    "#Illinois"
   ]
  },
  {
   "cell_type": "code",
   "execution_count": 40,
   "id": "18d973cc",
   "metadata": {},
   "outputs": [
    {
     "data": {
      "text/plain": [
       "42583.0"
      ]
     },
     "execution_count": 40,
     "metadata": {},
     "output_type": "execute_result"
    }
   ],
   "source": [
    "# Calculate the total Illinois Item/Bottle Count.\n",
    "Illinois[\"Item/Bottle Count\"].sum()"
   ]
  },
  {
   "cell_type": "code",
   "execution_count": 41,
   "id": "d487423e",
   "metadata": {},
   "outputs": [],
   "source": [
    "slice_list = [\"IN\"]\n",
    "Indiana = states_2021.iloc[states_2021.index.isin(slice_list)]\n",
    "#Indiana"
   ]
  },
  {
   "cell_type": "code",
   "execution_count": 42,
   "id": "0524172d",
   "metadata": {},
   "outputs": [
    {
     "data": {
      "text/plain": [
       "15893.0"
      ]
     },
     "execution_count": 42,
     "metadata": {},
     "output_type": "execute_result"
    }
   ],
   "source": [
    "# Calculate the total Indiana Item/Bottle Count.\n",
    "Indiana[\"Item/Bottle Count\"].sum()"
   ]
  },
  {
   "cell_type": "code",
   "execution_count": 43,
   "id": "1befd608",
   "metadata": {},
   "outputs": [],
   "source": [
    "slice_list = [\"IA\"]\n",
    "Iowa = states_2021.iloc[states_2021.index.isin(slice_list)]\n",
    "#Iowa"
   ]
  },
  {
   "cell_type": "code",
   "execution_count": 44,
   "id": "bdab2c99",
   "metadata": {},
   "outputs": [
    {
     "data": {
      "text/plain": [
       "5918.0"
      ]
     },
     "execution_count": 44,
     "metadata": {},
     "output_type": "execute_result"
    }
   ],
   "source": [
    "# Calculate the total Iowa Item/Bottle Count.\n",
    "Iowa[\"Item/Bottle Count\"].sum()"
   ]
  },
  {
   "cell_type": "code",
   "execution_count": 45,
   "id": "7332d5c2",
   "metadata": {},
   "outputs": [],
   "source": [
    "slice_list = [\"KS\"]\n",
    "Kansas = states_2021.iloc[states_2021.index.isin(slice_list)]\n",
    "#Kansas"
   ]
  },
  {
   "cell_type": "code",
   "execution_count": 46,
   "id": "e695bef0",
   "metadata": {},
   "outputs": [
    {
     "data": {
      "text/plain": [
       "7216.0"
      ]
     },
     "execution_count": 46,
     "metadata": {},
     "output_type": "execute_result"
    }
   ],
   "source": [
    "# Calculate the total Kansas Item/Bottle Count.\n",
    "Kansas[\"Item/Bottle Count\"].sum()"
   ]
  },
  {
   "cell_type": "code",
   "execution_count": 47,
   "id": "72ad54cf",
   "metadata": {},
   "outputs": [],
   "source": [
    "#Effective March 12, 2021, brand registration is not required for DTC products.  DTC shipping previously prohibited. \n",
    "slice_list = [\"KY\"]\n",
    "Kentucky = states_2021.iloc[states_2021.index.isin(slice_list)]\n",
    "#Kentucky"
   ]
  },
  {
   "cell_type": "code",
   "execution_count": 48,
   "id": "5f1f4f67",
   "metadata": {},
   "outputs": [
    {
     "data": {
      "text/plain": [
       "853.0"
      ]
     },
     "execution_count": 48,
     "metadata": {},
     "output_type": "execute_result"
    }
   ],
   "source": [
    "# Calculate the total Kentucky Item/Bottle Count.\n",
    "Kentucky[\"Item/Bottle Count\"].sum()"
   ]
  },
  {
   "cell_type": "code",
   "execution_count": 49,
   "id": "2c8ffee3",
   "metadata": {},
   "outputs": [],
   "source": [
    "slice_list = [\"LA\"]\n",
    "Louisiana = states_2021.iloc[states_2021.index.isin(slice_list)]\n",
    "#Louisiana"
   ]
  },
  {
   "cell_type": "code",
   "execution_count": 50,
   "id": "34e9c28d",
   "metadata": {},
   "outputs": [
    {
     "data": {
      "text/plain": [
       "8914.0"
      ]
     },
     "execution_count": 50,
     "metadata": {},
     "output_type": "execute_result"
    }
   ],
   "source": [
    "# Calculate the total Louisiana Item/Bottle Count.\n",
    "Louisiana[\"Item/Bottle Count\"].sum()"
   ]
  },
  {
   "cell_type": "code",
   "execution_count": 51,
   "id": "ad8fac0b",
   "metadata": {},
   "outputs": [],
   "source": [
    "slice_list = [\"ME\"]\n",
    "Maine = states_2021.iloc[states_2021.index.isin(slice_list)]\n",
    "#Maine"
   ]
  },
  {
   "cell_type": "code",
   "execution_count": 52,
   "id": "85707452",
   "metadata": {},
   "outputs": [
    {
     "data": {
      "text/plain": [
       "5630.0"
      ]
     },
     "execution_count": 52,
     "metadata": {},
     "output_type": "execute_result"
    }
   ],
   "source": [
    "# Calculate the total Maine Item/Bottle Count.\n",
    "Maine[\"Item/Bottle Count\"].sum()"
   ]
  },
  {
   "cell_type": "code",
   "execution_count": 53,
   "id": "88e0b96d",
   "metadata": {},
   "outputs": [],
   "source": [
    "slice_list = [\"MD\"]\n",
    "Maryland = states_2021.iloc[states_2021.index.isin(slice_list)]\n",
    "#Maryland"
   ]
  },
  {
   "cell_type": "code",
   "execution_count": 54,
   "id": "381650a7",
   "metadata": {},
   "outputs": [
    {
     "data": {
      "text/plain": [
       "28296.0"
      ]
     },
     "execution_count": 54,
     "metadata": {},
     "output_type": "execute_result"
    }
   ],
   "source": [
    "# Calculate the total Maryland Item/Bottle Count.\n",
    "Maryland[\"Item/Bottle Count\"].sum()"
   ]
  },
  {
   "cell_type": "code",
   "execution_count": 55,
   "id": "32e12154",
   "metadata": {},
   "outputs": [],
   "source": [
    "slice_list = [\"MA\"]\n",
    "Massachusetts = states_2021.iloc[states_2021.index.isin(slice_list)]\n",
    "#Massachusetts"
   ]
  },
  {
   "cell_type": "code",
   "execution_count": 56,
   "id": "c71c15fb",
   "metadata": {},
   "outputs": [
    {
     "data": {
      "text/plain": [
       "43842.0"
      ]
     },
     "execution_count": 56,
     "metadata": {},
     "output_type": "execute_result"
    }
   ],
   "source": [
    "# Calculate the total Massachusetts Item/Bottle Count.\n",
    "Massachusetts[\"Item/Bottle Count\"].sum()"
   ]
  },
  {
   "cell_type": "code",
   "execution_count": 57,
   "id": "48fba113",
   "metadata": {},
   "outputs": [],
   "source": [
    "slice_list = [\"MI\"]\n",
    "Michigan = states_2021.iloc[states_2021.index.isin(slice_list)]\n",
    "#Michigan"
   ]
  },
  {
   "cell_type": "code",
   "execution_count": 58,
   "id": "46cde1b5",
   "metadata": {},
   "outputs": [
    {
     "data": {
      "text/plain": [
       "32801.0"
      ]
     },
     "execution_count": 58,
     "metadata": {},
     "output_type": "execute_result"
    }
   ],
   "source": [
    "# Calculate the total Michigan Item/Bottle Count.\n",
    "Michigan[\"Item/Bottle Count\"].sum()"
   ]
  },
  {
   "cell_type": "code",
   "execution_count": 59,
   "id": "fb231a20",
   "metadata": {},
   "outputs": [],
   "source": [
    "slice_list = [\"MN\"]\n",
    "Minnesota = states_2021.iloc[states_2021.index.isin(slice_list)]\n",
    "#Minnesota"
   ]
  },
  {
   "cell_type": "code",
   "execution_count": 60,
   "id": "4b214696",
   "metadata": {},
   "outputs": [
    {
     "data": {
      "text/plain": [
       "14836.0"
      ]
     },
     "execution_count": 60,
     "metadata": {},
     "output_type": "execute_result"
    }
   ],
   "source": [
    "# Calculate the total Minnesota Item/Bottle Count.\n",
    "Minnesota[\"Item/Bottle Count\"].sum()"
   ]
  },
  {
   "cell_type": "code",
   "execution_count": 61,
   "id": "9a20f7a8",
   "metadata": {},
   "outputs": [],
   "source": [
    "#DTC shipping prohibited in Mississippi.  \n",
    "slice_list = [\"MS\"]\n",
    "Mississippi = states_2021.iloc[states_2021.index.isin(slice_list)]\n",
    "#Mississippi"
   ]
  },
  {
   "cell_type": "code",
   "execution_count": 62,
   "id": "2b1e324c",
   "metadata": {},
   "outputs": [
    {
     "data": {
      "text/plain": [
       "0.0"
      ]
     },
     "execution_count": 62,
     "metadata": {},
     "output_type": "execute_result"
    }
   ],
   "source": [
    "# Calculate the total Mississippi Item/Bottle Count.\n",
    "Mississippi[\"Item/Bottle Count\"].sum()"
   ]
  },
  {
   "cell_type": "code",
   "execution_count": 63,
   "id": "9bef5856",
   "metadata": {},
   "outputs": [],
   "source": [
    "slice_list = [\"MO\"]\n",
    "Missouri = states_2021.iloc[states_2021.index.isin(slice_list)]\n",
    "#Missouri"
   ]
  },
  {
   "cell_type": "code",
   "execution_count": 64,
   "id": "5df1975f",
   "metadata": {},
   "outputs": [
    {
     "data": {
      "text/plain": [
       "12324.0"
      ]
     },
     "execution_count": 64,
     "metadata": {},
     "output_type": "execute_result"
    }
   ],
   "source": [
    "# Calculate the total Missouri Item/Bottle Count.\n",
    "Missouri[\"Item/Bottle Count\"].sum()"
   ]
  },
  {
   "cell_type": "code",
   "execution_count": 65,
   "id": "a4328eed",
   "metadata": {},
   "outputs": [],
   "source": [
    "slice_list = [\"MT\"]\n",
    "Montana = states_2021.iloc[states_2021.index.isin(slice_list)]\n",
    "#Montana"
   ]
  },
  {
   "cell_type": "code",
   "execution_count": 66,
   "id": "aae94fd9",
   "metadata": {},
   "outputs": [
    {
     "data": {
      "text/plain": [
       "3063.0"
      ]
     },
     "execution_count": 66,
     "metadata": {},
     "output_type": "execute_result"
    }
   ],
   "source": [
    "# Calculate the total Montana Item/Bottle Count.\n",
    "Montana[\"Item/Bottle Count\"].sum()"
   ]
  },
  {
   "cell_type": "code",
   "execution_count": 67,
   "id": "f2b39ab0",
   "metadata": {},
   "outputs": [],
   "source": [
    "slice_list = [\"NE\"]\n",
    "Nebraska = states_2021.iloc[states_2021.index.isin(slice_list)]\n",
    "#Nebraska"
   ]
  },
  {
   "cell_type": "code",
   "execution_count": 68,
   "id": "e1e943f9",
   "metadata": {},
   "outputs": [
    {
     "data": {
      "text/plain": [
       "4781.0"
      ]
     },
     "execution_count": 68,
     "metadata": {},
     "output_type": "execute_result"
    }
   ],
   "source": [
    "# Calculate the total Nebraska Item/Bottle Count.\n",
    "Nebraska[\"Item/Bottle Count\"].sum()"
   ]
  },
  {
   "cell_type": "code",
   "execution_count": 69,
   "id": "100e9166",
   "metadata": {},
   "outputs": [],
   "source": [
    "slice_list = [\"NV\"]\n",
    "Nevada = states_2021.iloc[states_2021.index.isin(slice_list)]\n",
    "#Nevada"
   ]
  },
  {
   "cell_type": "code",
   "execution_count": 70,
   "id": "9c857bcf",
   "metadata": {},
   "outputs": [
    {
     "data": {
      "text/plain": [
       "6966.0"
      ]
     },
     "execution_count": 70,
     "metadata": {},
     "output_type": "execute_result"
    }
   ],
   "source": [
    "# Calculate the total Nevada Item/Bottle Count.\n",
    "Nevada[\"Item/Bottle Count\"].sum()"
   ]
  },
  {
   "cell_type": "code",
   "execution_count": 71,
   "id": "4aea4238",
   "metadata": {},
   "outputs": [],
   "source": [
    "slice_list = [\"NH\"]\n",
    "New_Hampshire = states_2021.iloc[states_2021.index.isin(slice_list)]\n",
    "#New_Hampshire"
   ]
  },
  {
   "cell_type": "code",
   "execution_count": 72,
   "id": "89efa6ce",
   "metadata": {},
   "outputs": [
    {
     "data": {
      "text/plain": [
       "6149.0"
      ]
     },
     "execution_count": 72,
     "metadata": {},
     "output_type": "execute_result"
    }
   ],
   "source": [
    "# Calculate the total New_Hampshire Item/Bottle Count.\n",
    "New_Hampshire[\"Item/Bottle Count\"].sum()"
   ]
  },
  {
   "cell_type": "code",
   "execution_count": 73,
   "id": "66c74e9c",
   "metadata": {},
   "outputs": [],
   "source": [
    "slice_list = [\"NJ\"]\n",
    "New_Jersey = states_2021.iloc[states_2021.index.isin(slice_list)]\n",
    "#New_Jersey"
   ]
  },
  {
   "cell_type": "code",
   "execution_count": 74,
   "id": "42d1beb9",
   "metadata": {},
   "outputs": [
    {
     "data": {
      "text/plain": [
       "58695.0"
      ]
     },
     "execution_count": 74,
     "metadata": {},
     "output_type": "execute_result"
    }
   ],
   "source": [
    "# Calculate the total New Jersey Item/Bottle Count.\n",
    "New_Jersey[\"Item/Bottle Count\"].sum()"
   ]
  },
  {
   "cell_type": "code",
   "execution_count": 75,
   "id": "6af4fcab",
   "metadata": {},
   "outputs": [],
   "source": [
    "slice_list = [\"NM\"]\n",
    "New_Mexico = states_2021.iloc[states_2021.index.isin(slice_list)]\n",
    "#New_Mexico"
   ]
  },
  {
   "cell_type": "code",
   "execution_count": 76,
   "id": "192570b8",
   "metadata": {},
   "outputs": [
    {
     "data": {
      "text/plain": [
       "4065.0"
      ]
     },
     "execution_count": 76,
     "metadata": {},
     "output_type": "execute_result"
    }
   ],
   "source": [
    "# Calculate the total New Mexico Item/Bottle Count.\n",
    "New_Mexico[\"Item/Bottle Count\"].sum()"
   ]
  },
  {
   "cell_type": "code",
   "execution_count": 77,
   "id": "b2078a5c",
   "metadata": {},
   "outputs": [],
   "source": [
    "slice_list = [\"NY\"]\n",
    "New_York = states_2021.iloc[states_2021.index.isin(slice_list)]\n",
    "#New_York"
   ]
  },
  {
   "cell_type": "code",
   "execution_count": 78,
   "id": "7d0e3bbb",
   "metadata": {},
   "outputs": [
    {
     "data": {
      "text/plain": [
       "108154.0"
      ]
     },
     "execution_count": 78,
     "metadata": {},
     "output_type": "execute_result"
    }
   ],
   "source": [
    "# Calculate the total New York Item/Bottle Count.\n",
    "New_York[\"Item/Bottle Count\"].sum()"
   ]
  },
  {
   "cell_type": "code",
   "execution_count": 79,
   "id": "fb7706c7",
   "metadata": {},
   "outputs": [],
   "source": [
    "slice_list = [\"NC\"]\n",
    "North_Carolina = states_2021.iloc[states_2021.index.isin(slice_list)]\n",
    "#North_Carolina"
   ]
  },
  {
   "cell_type": "code",
   "execution_count": 80,
   "id": "30e40de8",
   "metadata": {},
   "outputs": [
    {
     "data": {
      "text/plain": [
       "29491.0"
      ]
     },
     "execution_count": 80,
     "metadata": {},
     "output_type": "execute_result"
    }
   ],
   "source": [
    "# Calculate the total North Carolina Item/Bottle Count.\n",
    "North_Carolina[\"Item/Bottle Count\"].sum()"
   ]
  },
  {
   "cell_type": "code",
   "execution_count": 81,
   "id": "5172eead",
   "metadata": {},
   "outputs": [],
   "source": [
    "slice_list = [\"ND\"]\n",
    "North_Dakota = states_2021.iloc[states_2021.index.isin(slice_list)]\n",
    "#North_Dakota"
   ]
  },
  {
   "cell_type": "code",
   "execution_count": 82,
   "id": "cc38a006",
   "metadata": {},
   "outputs": [
    {
     "data": {
      "text/plain": [
       "1793.0"
      ]
     },
     "execution_count": 82,
     "metadata": {},
     "output_type": "execute_result"
    }
   ],
   "source": [
    "# Calculate the total North Dakota Item/Bottle Count.\n",
    "North_Dakota[\"Item/Bottle Count\"].sum()"
   ]
  },
  {
   "cell_type": "code",
   "execution_count": 83,
   "id": "f0deb3be",
   "metadata": {},
   "outputs": [],
   "source": [
    "slice_list = [\"OH\"]\n",
    "Ohio = states_2021.iloc[states_2021.index.isin(slice_list)]\n",
    "#Ohio"
   ]
  },
  {
   "cell_type": "code",
   "execution_count": 84,
   "id": "7bd4c591",
   "metadata": {},
   "outputs": [
    {
     "data": {
      "text/plain": [
       "33250.0"
      ]
     },
     "execution_count": 84,
     "metadata": {},
     "output_type": "execute_result"
    }
   ],
   "source": [
    "# Calculate the total Ohio Item/Bottle Count.\n",
    "Ohio[\"Item/Bottle Count\"].sum()"
   ]
  },
  {
   "cell_type": "code",
   "execution_count": 85,
   "id": "e2195732",
   "metadata": {},
   "outputs": [],
   "source": [
    "slice_list = [\"OK\"]\n",
    "Oklahoma = states_2021.iloc[states_2021.index.isin(slice_list)]\n",
    "#Oklahoma"
   ]
  },
  {
   "cell_type": "code",
   "execution_count": 86,
   "id": "e8aee12d",
   "metadata": {},
   "outputs": [
    {
     "data": {
      "text/plain": [
       "4705.0"
      ]
     },
     "execution_count": 86,
     "metadata": {},
     "output_type": "execute_result"
    }
   ],
   "source": [
    "# Calculate the total Oklahoma Item/Bottle Count.\n",
    "Oklahoma[\"Item/Bottle Count\"].sum()"
   ]
  },
  {
   "cell_type": "code",
   "execution_count": 87,
   "id": "7f88e070",
   "metadata": {},
   "outputs": [],
   "source": [
    "slice_list = [\"OR\"]\n",
    "Oregon = states_2021.iloc[states_2021.index.isin(slice_list)]\n",
    "#Oregon"
   ]
  },
  {
   "cell_type": "code",
   "execution_count": 88,
   "id": "301c0ba5",
   "metadata": {},
   "outputs": [
    {
     "data": {
      "text/plain": [
       "12011.0"
      ]
     },
     "execution_count": 88,
     "metadata": {},
     "output_type": "execute_result"
    }
   ],
   "source": [
    "# Calculate the total Oregon Item/Bottle Count.\n",
    "Oregon[\"Item/Bottle Count\"].sum()"
   ]
  },
  {
   "cell_type": "code",
   "execution_count": 89,
   "id": "85ccc8a8",
   "metadata": {},
   "outputs": [],
   "source": [
    "slice_list = [\"PA\"]\n",
    "Pennsylvania = states_2021.iloc[states_2021.index.isin(slice_list)]\n",
    "#Pennsylvania"
   ]
  },
  {
   "cell_type": "code",
   "execution_count": 90,
   "id": "ab2abfe5",
   "metadata": {},
   "outputs": [
    {
     "data": {
      "text/plain": [
       "69833.0"
      ]
     },
     "execution_count": 90,
     "metadata": {},
     "output_type": "execute_result"
    }
   ],
   "source": [
    "# Calculate the total Pennsylvania Item/Bottle Count.\n",
    "Pennsylvania[\"Item/Bottle Count\"].sum()"
   ]
  },
  {
   "cell_type": "code",
   "execution_count": 91,
   "id": "0962fe9d",
   "metadata": {},
   "outputs": [],
   "source": [
    "slice_list = [\"RI\"]\n",
    "Rhode_Island = states_2021.iloc[states_2021.index.isin(slice_list)]\n",
    "#Rhode_Island"
   ]
  },
  {
   "cell_type": "code",
   "execution_count": 92,
   "id": "9fdb9396",
   "metadata": {},
   "outputs": [
    {
     "data": {
      "text/plain": [
       "7125.0"
      ]
     },
     "execution_count": 92,
     "metadata": {},
     "output_type": "execute_result"
    }
   ],
   "source": [
    "# Calculate the total Rhode Island Item/Bottle Count.\n",
    "Rhode_Island[\"Item/Bottle Count\"].sum()"
   ]
  },
  {
   "cell_type": "code",
   "execution_count": 93,
   "id": "3a4b5479",
   "metadata": {},
   "outputs": [],
   "source": [
    "slice_list = [\"SC\"]\n",
    "South_Carolina = states_2021.iloc[states_2021.index.isin(slice_list)]\n",
    "#South_Carolina"
   ]
  },
  {
   "cell_type": "code",
   "execution_count": 94,
   "id": "ec0980b5",
   "metadata": {},
   "outputs": [
    {
     "data": {
      "text/plain": [
       "15546.0"
      ]
     },
     "execution_count": 94,
     "metadata": {},
     "output_type": "execute_result"
    }
   ],
   "source": [
    "# Calculate the total Oregon Item/Bottle Count.\n",
    "South_Carolina[\"Item/Bottle Count\"].sum()"
   ]
  },
  {
   "cell_type": "code",
   "execution_count": 95,
   "id": "76a645da",
   "metadata": {},
   "outputs": [],
   "source": [
    "slice_list = [\"SD\"]\n",
    "South_Dakota = states_2021.iloc[states_2021.index.isin(slice_list)]\n",
    "#South_Dakota"
   ]
  },
  {
   "cell_type": "code",
   "execution_count": 96,
   "id": "b1f7d014",
   "metadata": {},
   "outputs": [
    {
     "data": {
      "text/plain": [
       "1899.0"
      ]
     },
     "execution_count": 96,
     "metadata": {},
     "output_type": "execute_result"
    }
   ],
   "source": [
    "# Calculate the total South_Dakota Item/Bottle Count.\n",
    "South_Dakota[\"Item/Bottle Count\"].sum()"
   ]
  },
  {
   "cell_type": "code",
   "execution_count": 97,
   "id": "a5519729",
   "metadata": {},
   "outputs": [],
   "source": [
    "slice_list = [\"TN\"]\n",
    "Tennessee = states_2021.iloc[states_2021.index.isin(slice_list)]\n",
    "#Tennessee"
   ]
  },
  {
   "cell_type": "code",
   "execution_count": 98,
   "id": "d48d6e6c",
   "metadata": {},
   "outputs": [
    {
     "data": {
      "text/plain": [
       "19222.0"
      ]
     },
     "execution_count": 98,
     "metadata": {},
     "output_type": "execute_result"
    }
   ],
   "source": [
    "# Calculate the total Tennessee Item/Bottle Count.\n",
    "Tennessee[\"Item/Bottle Count\"].sum()"
   ]
  },
  {
   "cell_type": "code",
   "execution_count": 99,
   "id": "5005f44d",
   "metadata": {},
   "outputs": [],
   "source": [
    "slice_list = [\"TX\"]\n",
    "Texas = states_2021.iloc[states_2021.index.isin(slice_list)]\n",
    "#Texas"
   ]
  },
  {
   "cell_type": "code",
   "execution_count": 100,
   "id": "354213ec",
   "metadata": {},
   "outputs": [
    {
     "data": {
      "text/plain": [
       "61779.0"
      ]
     },
     "execution_count": 100,
     "metadata": {},
     "output_type": "execute_result"
    }
   ],
   "source": [
    "# Calculate the total Texas Item/Bottle Count.\n",
    "Texas[\"Item/Bottle Count\"].sum()"
   ]
  },
  {
   "cell_type": "code",
   "execution_count": 101,
   "id": "b03db9f4",
   "metadata": {},
   "outputs": [],
   "source": [
    "#No orders from Utah. DTC shipping prohibited.\n",
    "slice_list = [\"UT\"]\n",
    "Utah = states_2021.iloc[states_2021.index.isin(slice_list)]\n",
    "#Utah"
   ]
  },
  {
   "cell_type": "code",
   "execution_count": 102,
   "id": "1e695744",
   "metadata": {},
   "outputs": [
    {
     "data": {
      "text/plain": [
       "0.0"
      ]
     },
     "execution_count": 102,
     "metadata": {},
     "output_type": "execute_result"
    }
   ],
   "source": [
    "# Calculate the total Utah Item/Bottle Count.\n",
    "Utah[\"Item/Bottle Count\"].sum()"
   ]
  },
  {
   "cell_type": "code",
   "execution_count": 103,
   "id": "f45b39a1",
   "metadata": {},
   "outputs": [],
   "source": [
    "slice_list = [\"VT\"]\n",
    "Vermont = states_2021.iloc[states_2021.index.isin(slice_list)]\n",
    "#Vermont"
   ]
  },
  {
   "cell_type": "code",
   "execution_count": 104,
   "id": "1d840441",
   "metadata": {},
   "outputs": [
    {
     "data": {
      "text/plain": [
       "3339.0"
      ]
     },
     "execution_count": 104,
     "metadata": {},
     "output_type": "execute_result"
    }
   ],
   "source": [
    "# Calculate the total Vermont Item/Bottle Count.\n",
    "Vermont[\"Item/Bottle Count\"].sum()"
   ]
  },
  {
   "cell_type": "code",
   "execution_count": 105,
   "id": "7c4d6473",
   "metadata": {},
   "outputs": [],
   "source": [
    "slice_list = [\"VA\"]\n",
    "Virginia = states_2021.iloc[states_2021.index.isin(slice_list)]\n",
    "#Virginia"
   ]
  },
  {
   "cell_type": "code",
   "execution_count": 106,
   "id": "cd24c9ee",
   "metadata": {},
   "outputs": [
    {
     "data": {
      "text/plain": [
       "36481.0"
      ]
     },
     "execution_count": 106,
     "metadata": {},
     "output_type": "execute_result"
    }
   ],
   "source": [
    "# Calculate the total Virginia Item/Bottle Count.\n",
    "Virginia[\"Item/Bottle Count\"].sum()"
   ]
  },
  {
   "cell_type": "code",
   "execution_count": 107,
   "id": "89abc71e",
   "metadata": {},
   "outputs": [],
   "source": [
    "slice_list = [\"WA\"]\n",
    "Washington = states_2021.iloc[states_2021.index.isin(slice_list)]\n",
    "#Washington"
   ]
  },
  {
   "cell_type": "code",
   "execution_count": 108,
   "id": "16318be9",
   "metadata": {},
   "outputs": [
    {
     "data": {
      "text/plain": [
       "19606.0"
      ]
     },
     "execution_count": 108,
     "metadata": {},
     "output_type": "execute_result"
    }
   ],
   "source": [
    "# Calculate the total Washington Item/Bottle Count.\n",
    "Washington[\"Item/Bottle Count\"].sum()"
   ]
  },
  {
   "cell_type": "code",
   "execution_count": 109,
   "id": "1a13d169",
   "metadata": {},
   "outputs": [],
   "source": [
    "slice_list = [\"WV\"]\n",
    "West_Virginia = states_2021.iloc[states_2021.index.isin(slice_list)]\n",
    "#West_Virginia"
   ]
  },
  {
   "cell_type": "code",
   "execution_count": 110,
   "id": "7bac9c7c",
   "metadata": {},
   "outputs": [
    {
     "data": {
      "text/plain": [
       "2965.0"
      ]
     },
     "execution_count": 110,
     "metadata": {},
     "output_type": "execute_result"
    }
   ],
   "source": [
    "# Calculate the total West Virginia Item/Bottle Count.\n",
    "West_Virginia[\"Item/Bottle Count\"].sum()"
   ]
  },
  {
   "cell_type": "code",
   "execution_count": 111,
   "id": "57a6d385",
   "metadata": {},
   "outputs": [],
   "source": [
    "slice_list = [\"WI\"]\n",
    "Wisconsin = states_2021.iloc[states_2021.index.isin(slice_list)]\n",
    "#Wisconsin"
   ]
  },
  {
   "cell_type": "code",
   "execution_count": 112,
   "id": "a20b77c2",
   "metadata": {},
   "outputs": [
    {
     "data": {
      "text/plain": [
       "12753.0"
      ]
     },
     "execution_count": 112,
     "metadata": {},
     "output_type": "execute_result"
    }
   ],
   "source": [
    "# Calculate the total Wisconsin Item/Bottle Count.\n",
    "Wisconsin[\"Item/Bottle Count\"].sum()"
   ]
  },
  {
   "cell_type": "code",
   "execution_count": 113,
   "id": "806f3be5",
   "metadata": {},
   "outputs": [],
   "source": [
    "slice_list = [\"WY\"]\n",
    "Wyoming = states_2021.iloc[states_2021.index.isin(slice_list)]\n",
    "#Wyoming"
   ]
  },
  {
   "cell_type": "code",
   "execution_count": 114,
   "id": "6eb9c5bf",
   "metadata": {},
   "outputs": [
    {
     "data": {
      "text/plain": [
       "2006.0"
      ]
     },
     "execution_count": 114,
     "metadata": {},
     "output_type": "execute_result"
    }
   ],
   "source": [
    "# Calculate the total Wyoming Item/Bottle Count.\n",
    "Wyoming[\"Item/Bottle Count\"].sum()"
   ]
  },
  {
   "cell_type": "code",
   "execution_count": null,
   "id": "0e86674f",
   "metadata": {},
   "outputs": [],
   "source": [
    "#Trying to figure out how to get each state df to show total item/bottle count by month. .groupby?\n",
    "Wyoming[\"Created Date\"].unique()"
   ]
  },
  {
   "cell_type": "code",
   "execution_count": 115,
   "id": "2db4eab6",
   "metadata": {},
   "outputs": [
    {
     "data": {
      "text/html": [
       "<div>\n",
       "<style scoped>\n",
       "    .dataframe tbody tr th:only-of-type {\n",
       "        vertical-align: middle;\n",
       "    }\n",
       "\n",
       "    .dataframe tbody tr th {\n",
       "        vertical-align: top;\n",
       "    }\n",
       "\n",
       "    .dataframe thead th {\n",
       "        text-align: right;\n",
       "    }\n",
       "</style>\n",
       "<table border=\"1\" class=\"dataframe\">\n",
       "  <thead>\n",
       "    <tr style=\"text-align: right;\">\n",
       "      <th></th>\n",
       "      <th>State</th>\n",
       "      <th>Total Item/Bottle Count</th>\n",
       "    </tr>\n",
       "  </thead>\n",
       "  <tbody>\n",
       "    <tr>\n",
       "      <th>0</th>\n",
       "      <td>AL</td>\n",
       "      <td>1229</td>\n",
       "    </tr>\n",
       "    <tr>\n",
       "      <th>1</th>\n",
       "      <td>AK</td>\n",
       "      <td>2076</td>\n",
       "    </tr>\n",
       "    <tr>\n",
       "      <th>2</th>\n",
       "      <td>AZ</td>\n",
       "      <td>16882</td>\n",
       "    </tr>\n",
       "    <tr>\n",
       "      <th>3</th>\n",
       "      <td>AR</td>\n",
       "      <td>5121</td>\n",
       "    </tr>\n",
       "    <tr>\n",
       "      <th>4</th>\n",
       "      <td>CA</td>\n",
       "      <td>109697</td>\n",
       "    </tr>\n",
       "    <tr>\n",
       "      <th>5</th>\n",
       "      <td>CO</td>\n",
       "      <td>27844</td>\n",
       "    </tr>\n",
       "    <tr>\n",
       "      <th>6</th>\n",
       "      <td>CT</td>\n",
       "      <td>21934</td>\n",
       "    </tr>\n",
       "    <tr>\n",
       "      <th>7</th>\n",
       "      <td>DC</td>\n",
       "      <td>8089</td>\n",
       "    </tr>\n",
       "    <tr>\n",
       "      <th>8</th>\n",
       "      <td>DE</td>\n",
       "      <td>2053</td>\n",
       "    </tr>\n",
       "    <tr>\n",
       "      <th>9</th>\n",
       "      <td>FL</td>\n",
       "      <td>79220</td>\n",
       "    </tr>\n",
       "    <tr>\n",
       "      <th>10</th>\n",
       "      <td>GA</td>\n",
       "      <td>31870</td>\n",
       "    </tr>\n",
       "    <tr>\n",
       "      <th>11</th>\n",
       "      <td>HI</td>\n",
       "      <td>11142</td>\n",
       "    </tr>\n",
       "    <tr>\n",
       "      <th>12</th>\n",
       "      <td>ID</td>\n",
       "      <td>3517</td>\n",
       "    </tr>\n",
       "    <tr>\n",
       "      <th>13</th>\n",
       "      <td>IL</td>\n",
       "      <td>42583</td>\n",
       "    </tr>\n",
       "    <tr>\n",
       "      <th>14</th>\n",
       "      <td>IN</td>\n",
       "      <td>15893</td>\n",
       "    </tr>\n",
       "    <tr>\n",
       "      <th>15</th>\n",
       "      <td>IA</td>\n",
       "      <td>5918</td>\n",
       "    </tr>\n",
       "    <tr>\n",
       "      <th>16</th>\n",
       "      <td>KS</td>\n",
       "      <td>7216</td>\n",
       "    </tr>\n",
       "    <tr>\n",
       "      <th>17</th>\n",
       "      <td>KY</td>\n",
       "      <td>853</td>\n",
       "    </tr>\n",
       "    <tr>\n",
       "      <th>18</th>\n",
       "      <td>LA</td>\n",
       "      <td>8914</td>\n",
       "    </tr>\n",
       "    <tr>\n",
       "      <th>19</th>\n",
       "      <td>ME</td>\n",
       "      <td>5630</td>\n",
       "    </tr>\n",
       "    <tr>\n",
       "      <th>20</th>\n",
       "      <td>MD</td>\n",
       "      <td>28296</td>\n",
       "    </tr>\n",
       "    <tr>\n",
       "      <th>21</th>\n",
       "      <td>MA</td>\n",
       "      <td>43842</td>\n",
       "    </tr>\n",
       "    <tr>\n",
       "      <th>22</th>\n",
       "      <td>MI</td>\n",
       "      <td>32801</td>\n",
       "    </tr>\n",
       "    <tr>\n",
       "      <th>23</th>\n",
       "      <td>MN</td>\n",
       "      <td>14836</td>\n",
       "    </tr>\n",
       "    <tr>\n",
       "      <th>24</th>\n",
       "      <td>MS</td>\n",
       "      <td>0</td>\n",
       "    </tr>\n",
       "    <tr>\n",
       "      <th>25</th>\n",
       "      <td>MO</td>\n",
       "      <td>12324</td>\n",
       "    </tr>\n",
       "    <tr>\n",
       "      <th>26</th>\n",
       "      <td>MT</td>\n",
       "      <td>3063</td>\n",
       "    </tr>\n",
       "    <tr>\n",
       "      <th>27</th>\n",
       "      <td>NE</td>\n",
       "      <td>4781</td>\n",
       "    </tr>\n",
       "    <tr>\n",
       "      <th>28</th>\n",
       "      <td>NV</td>\n",
       "      <td>6966</td>\n",
       "    </tr>\n",
       "    <tr>\n",
       "      <th>29</th>\n",
       "      <td>NH</td>\n",
       "      <td>6149</td>\n",
       "    </tr>\n",
       "    <tr>\n",
       "      <th>30</th>\n",
       "      <td>NJ</td>\n",
       "      <td>58695</td>\n",
       "    </tr>\n",
       "    <tr>\n",
       "      <th>31</th>\n",
       "      <td>NM</td>\n",
       "      <td>4065</td>\n",
       "    </tr>\n",
       "    <tr>\n",
       "      <th>32</th>\n",
       "      <td>NY</td>\n",
       "      <td>108154</td>\n",
       "    </tr>\n",
       "    <tr>\n",
       "      <th>33</th>\n",
       "      <td>NC</td>\n",
       "      <td>29491</td>\n",
       "    </tr>\n",
       "    <tr>\n",
       "      <th>34</th>\n",
       "      <td>ND</td>\n",
       "      <td>1793</td>\n",
       "    </tr>\n",
       "    <tr>\n",
       "      <th>35</th>\n",
       "      <td>OH</td>\n",
       "      <td>33250</td>\n",
       "    </tr>\n",
       "    <tr>\n",
       "      <th>36</th>\n",
       "      <td>OK</td>\n",
       "      <td>4705</td>\n",
       "    </tr>\n",
       "    <tr>\n",
       "      <th>37</th>\n",
       "      <td>OR</td>\n",
       "      <td>12011</td>\n",
       "    </tr>\n",
       "    <tr>\n",
       "      <th>38</th>\n",
       "      <td>PA</td>\n",
       "      <td>69833</td>\n",
       "    </tr>\n",
       "    <tr>\n",
       "      <th>39</th>\n",
       "      <td>RI</td>\n",
       "      <td>7125</td>\n",
       "    </tr>\n",
       "    <tr>\n",
       "      <th>40</th>\n",
       "      <td>SC</td>\n",
       "      <td>15546</td>\n",
       "    </tr>\n",
       "    <tr>\n",
       "      <th>41</th>\n",
       "      <td>SD</td>\n",
       "      <td>1899</td>\n",
       "    </tr>\n",
       "    <tr>\n",
       "      <th>42</th>\n",
       "      <td>TN</td>\n",
       "      <td>19222</td>\n",
       "    </tr>\n",
       "    <tr>\n",
       "      <th>43</th>\n",
       "      <td>TX</td>\n",
       "      <td>61779</td>\n",
       "    </tr>\n",
       "    <tr>\n",
       "      <th>44</th>\n",
       "      <td>UT</td>\n",
       "      <td>0</td>\n",
       "    </tr>\n",
       "    <tr>\n",
       "      <th>45</th>\n",
       "      <td>VT</td>\n",
       "      <td>3339</td>\n",
       "    </tr>\n",
       "    <tr>\n",
       "      <th>46</th>\n",
       "      <td>VA</td>\n",
       "      <td>36481</td>\n",
       "    </tr>\n",
       "    <tr>\n",
       "      <th>47</th>\n",
       "      <td>WA</td>\n",
       "      <td>19606</td>\n",
       "    </tr>\n",
       "    <tr>\n",
       "      <th>48</th>\n",
       "      <td>WV</td>\n",
       "      <td>2965</td>\n",
       "    </tr>\n",
       "    <tr>\n",
       "      <th>49</th>\n",
       "      <td>WI</td>\n",
       "      <td>12753</td>\n",
       "    </tr>\n",
       "    <tr>\n",
       "      <th>50</th>\n",
       "      <td>WY</td>\n",
       "      <td>2006</td>\n",
       "    </tr>\n",
       "  </tbody>\n",
       "</table>\n",
       "</div>"
      ],
      "text/plain": [
       "   State Total Item/Bottle Count\n",
       "0     AL                    1229\n",
       "1     AK                    2076\n",
       "2     AZ                   16882\n",
       "3     AR                    5121\n",
       "4     CA                  109697\n",
       "5     CO                   27844\n",
       "6     CT                   21934\n",
       "7     DC                    8089\n",
       "8     DE                    2053\n",
       "9     FL                   79220\n",
       "10    GA                   31870\n",
       "11    HI                   11142\n",
       "12    ID                    3517\n",
       "13    IL                   42583\n",
       "14    IN                   15893\n",
       "15    IA                    5918\n",
       "16    KS                    7216\n",
       "17    KY                     853\n",
       "18    LA                    8914\n",
       "19    ME                    5630\n",
       "20    MD                   28296\n",
       "21    MA                   43842\n",
       "22    MI                   32801\n",
       "23    MN                   14836\n",
       "24    MS                       0\n",
       "25    MO                   12324\n",
       "26    MT                    3063\n",
       "27    NE                    4781\n",
       "28    NV                    6966\n",
       "29    NH                    6149\n",
       "30    NJ                   58695\n",
       "31    NM                    4065\n",
       "32    NY                  108154\n",
       "33    NC                   29491\n",
       "34    ND                    1793\n",
       "35    OH                   33250\n",
       "36    OK                    4705\n",
       "37    OR                   12011\n",
       "38    PA                   69833\n",
       "39    RI                    7125\n",
       "40    SC                   15546\n",
       "41    SD                    1899\n",
       "42    TN                   19222\n",
       "43    TX                   61779\n",
       "44    UT                       0\n",
       "45    VT                    3339\n",
       "46    VA                   36481\n",
       "47    WA                   19606\n",
       "48    WV                    2965\n",
       "49    WI                   12753\n",
       "50    WY                    2006"
      ]
     },
     "execution_count": 115,
     "metadata": {},
     "output_type": "execute_result"
    }
   ],
   "source": [
    "# List of Tuples\n",
    "state_count = [('AL', '1229'),\n",
    "              ('AK', '2076'),\n",
    "              ('AZ', '16882'),\n",
    "              ('AR', '5121'),\n",
    "              ('CA', '109697'),\n",
    "              ('CO', '27844'),\n",
    "              ('CT', '21934'),\n",
    "              ('DC', '8089'),\n",
    "              ('DE', '2053'),\n",
    "              ('FL', '79220'),\n",
    "              ('GA', '31870'),\n",
    "              ('HI', '11142'),\n",
    "              ('ID', '3517'),\n",
    "              ('IL', '42583'),\n",
    "              ('IN', '15893'),\n",
    "              ('IA', '5918'),\n",
    "              ('KS', '7216'),\n",
    "              ('KY', '853'),\n",
    "              ('LA', '8914'),\n",
    "              ('ME', '5630'),\n",
    "              ('MD', '28296'),\n",
    "              ('MA', '43842'),\n",
    "              ('MI', '32801'),\n",
    "              ('MN', '14836'),\n",
    "              ('MS', '0'),\n",
    "              ('MO', '12324'),\n",
    "              ('MT', '3063'),\n",
    "              ('NE', '4781'),\n",
    "              ('NV', '6966'),\n",
    "              ('NH', '6149'),\n",
    "              ('NJ', '58695'),\n",
    "              ('NM', '4065'),\n",
    "              ('NY', '108154'),\n",
    "              ('NC', '29491'),\n",
    "              ('ND', '1793'),\n",
    "              ('OH', '33250'),\n",
    "              ('OK', '4705'),\n",
    "              ('OR', '12011'),\n",
    "              ('PA', '69833'),\n",
    "              ('RI', '7125'),\n",
    "              ('SC', '15546'),\n",
    "              ('SD', '1899'),\n",
    "              ('TN', '19222'),\n",
    "              ('TX', '61779'),\n",
    "              ('UT', '0'),\n",
    "              ('VT', '3339'),\n",
    "              ('VA', '36481'),\n",
    "              ('WA', '19606'),\n",
    "              ('WV', '2965'),\n",
    "              ('WI', '12753'),\n",
    "              ('WY', '2006')]\n",
    "# Create a DataFrame object\n",
    "total_bottle_count_by_state = pd.DataFrame(state_count,\n",
    "                  columns=['State', 'Total Item/Bottle Count'])\n",
    "total_bottle_count_by_state"
   ]
  },
  {
   "cell_type": "code",
   "execution_count": 119,
   "id": "0d5d9388",
   "metadata": {},
   "outputs": [
    {
     "data": {
      "text/html": [
       "<div>\n",
       "<style scoped>\n",
       "    .dataframe tbody tr th:only-of-type {\n",
       "        vertical-align: middle;\n",
       "    }\n",
       "\n",
       "    .dataframe tbody tr th {\n",
       "        vertical-align: top;\n",
       "    }\n",
       "\n",
       "    .dataframe thead th {\n",
       "        text-align: right;\n",
       "    }\n",
       "</style>\n",
       "<table border=\"1\" class=\"dataframe\">\n",
       "  <thead>\n",
       "    <tr style=\"text-align: right;\">\n",
       "      <th></th>\n",
       "      <th>State</th>\n",
       "      <th>Total Item/Bottle Count</th>\n",
       "    </tr>\n",
       "  </thead>\n",
       "  <tbody>\n",
       "    <tr>\n",
       "      <th>0</th>\n",
       "      <td>AL</td>\n",
       "      <td>1229</td>\n",
       "    </tr>\n",
       "    <tr>\n",
       "      <th>1</th>\n",
       "      <td>AK</td>\n",
       "      <td>2076</td>\n",
       "    </tr>\n",
       "    <tr>\n",
       "      <th>2</th>\n",
       "      <td>AZ</td>\n",
       "      <td>16882</td>\n",
       "    </tr>\n",
       "    <tr>\n",
       "      <th>3</th>\n",
       "      <td>AR</td>\n",
       "      <td>5121</td>\n",
       "    </tr>\n",
       "    <tr>\n",
       "      <th>4</th>\n",
       "      <td>CA</td>\n",
       "      <td>109697</td>\n",
       "    </tr>\n",
       "    <tr>\n",
       "      <th>5</th>\n",
       "      <td>CO</td>\n",
       "      <td>27844</td>\n",
       "    </tr>\n",
       "    <tr>\n",
       "      <th>6</th>\n",
       "      <td>CT</td>\n",
       "      <td>21934</td>\n",
       "    </tr>\n",
       "    <tr>\n",
       "      <th>7</th>\n",
       "      <td>DC</td>\n",
       "      <td>8089</td>\n",
       "    </tr>\n",
       "    <tr>\n",
       "      <th>8</th>\n",
       "      <td>DE</td>\n",
       "      <td>2053</td>\n",
       "    </tr>\n",
       "    <tr>\n",
       "      <th>9</th>\n",
       "      <td>FL</td>\n",
       "      <td>79220</td>\n",
       "    </tr>\n",
       "    <tr>\n",
       "      <th>10</th>\n",
       "      <td>GA</td>\n",
       "      <td>31870</td>\n",
       "    </tr>\n",
       "    <tr>\n",
       "      <th>11</th>\n",
       "      <td>HI</td>\n",
       "      <td>11142</td>\n",
       "    </tr>\n",
       "    <tr>\n",
       "      <th>12</th>\n",
       "      <td>ID</td>\n",
       "      <td>3517</td>\n",
       "    </tr>\n",
       "    <tr>\n",
       "      <th>13</th>\n",
       "      <td>IL</td>\n",
       "      <td>42583</td>\n",
       "    </tr>\n",
       "    <tr>\n",
       "      <th>14</th>\n",
       "      <td>IN</td>\n",
       "      <td>15893</td>\n",
       "    </tr>\n",
       "    <tr>\n",
       "      <th>15</th>\n",
       "      <td>IA</td>\n",
       "      <td>5918</td>\n",
       "    </tr>\n",
       "    <tr>\n",
       "      <th>16</th>\n",
       "      <td>KS</td>\n",
       "      <td>7216</td>\n",
       "    </tr>\n",
       "    <tr>\n",
       "      <th>17</th>\n",
       "      <td>KY</td>\n",
       "      <td>853</td>\n",
       "    </tr>\n",
       "    <tr>\n",
       "      <th>18</th>\n",
       "      <td>LA</td>\n",
       "      <td>8914</td>\n",
       "    </tr>\n",
       "    <tr>\n",
       "      <th>19</th>\n",
       "      <td>ME</td>\n",
       "      <td>5630</td>\n",
       "    </tr>\n",
       "    <tr>\n",
       "      <th>20</th>\n",
       "      <td>MD</td>\n",
       "      <td>28296</td>\n",
       "    </tr>\n",
       "    <tr>\n",
       "      <th>21</th>\n",
       "      <td>MA</td>\n",
       "      <td>43842</td>\n",
       "    </tr>\n",
       "    <tr>\n",
       "      <th>22</th>\n",
       "      <td>MI</td>\n",
       "      <td>32801</td>\n",
       "    </tr>\n",
       "    <tr>\n",
       "      <th>23</th>\n",
       "      <td>MN</td>\n",
       "      <td>14836</td>\n",
       "    </tr>\n",
       "    <tr>\n",
       "      <th>24</th>\n",
       "      <td>MS</td>\n",
       "      <td>0</td>\n",
       "    </tr>\n",
       "    <tr>\n",
       "      <th>25</th>\n",
       "      <td>MO</td>\n",
       "      <td>12324</td>\n",
       "    </tr>\n",
       "    <tr>\n",
       "      <th>26</th>\n",
       "      <td>MT</td>\n",
       "      <td>3063</td>\n",
       "    </tr>\n",
       "    <tr>\n",
       "      <th>27</th>\n",
       "      <td>NE</td>\n",
       "      <td>4781</td>\n",
       "    </tr>\n",
       "    <tr>\n",
       "      <th>28</th>\n",
       "      <td>NV</td>\n",
       "      <td>6966</td>\n",
       "    </tr>\n",
       "    <tr>\n",
       "      <th>29</th>\n",
       "      <td>NH</td>\n",
       "      <td>6149</td>\n",
       "    </tr>\n",
       "    <tr>\n",
       "      <th>30</th>\n",
       "      <td>NJ</td>\n",
       "      <td>58695</td>\n",
       "    </tr>\n",
       "    <tr>\n",
       "      <th>31</th>\n",
       "      <td>NM</td>\n",
       "      <td>4065</td>\n",
       "    </tr>\n",
       "    <tr>\n",
       "      <th>32</th>\n",
       "      <td>NY</td>\n",
       "      <td>108154</td>\n",
       "    </tr>\n",
       "    <tr>\n",
       "      <th>33</th>\n",
       "      <td>NC</td>\n",
       "      <td>29491</td>\n",
       "    </tr>\n",
       "    <tr>\n",
       "      <th>34</th>\n",
       "      <td>ND</td>\n",
       "      <td>1793</td>\n",
       "    </tr>\n",
       "    <tr>\n",
       "      <th>35</th>\n",
       "      <td>OH</td>\n",
       "      <td>33250</td>\n",
       "    </tr>\n",
       "    <tr>\n",
       "      <th>36</th>\n",
       "      <td>OK</td>\n",
       "      <td>4705</td>\n",
       "    </tr>\n",
       "    <tr>\n",
       "      <th>37</th>\n",
       "      <td>OR</td>\n",
       "      <td>12011</td>\n",
       "    </tr>\n",
       "    <tr>\n",
       "      <th>38</th>\n",
       "      <td>PA</td>\n",
       "      <td>69833</td>\n",
       "    </tr>\n",
       "    <tr>\n",
       "      <th>39</th>\n",
       "      <td>RI</td>\n",
       "      <td>7125</td>\n",
       "    </tr>\n",
       "    <tr>\n",
       "      <th>40</th>\n",
       "      <td>SC</td>\n",
       "      <td>15546</td>\n",
       "    </tr>\n",
       "    <tr>\n",
       "      <th>41</th>\n",
       "      <td>SD</td>\n",
       "      <td>1899</td>\n",
       "    </tr>\n",
       "    <tr>\n",
       "      <th>42</th>\n",
       "      <td>TN</td>\n",
       "      <td>19222</td>\n",
       "    </tr>\n",
       "    <tr>\n",
       "      <th>43</th>\n",
       "      <td>TX</td>\n",
       "      <td>61779</td>\n",
       "    </tr>\n",
       "    <tr>\n",
       "      <th>44</th>\n",
       "      <td>UT</td>\n",
       "      <td>0</td>\n",
       "    </tr>\n",
       "    <tr>\n",
       "      <th>45</th>\n",
       "      <td>VT</td>\n",
       "      <td>3339</td>\n",
       "    </tr>\n",
       "    <tr>\n",
       "      <th>46</th>\n",
       "      <td>VA</td>\n",
       "      <td>36481</td>\n",
       "    </tr>\n",
       "    <tr>\n",
       "      <th>47</th>\n",
       "      <td>WA</td>\n",
       "      <td>19606</td>\n",
       "    </tr>\n",
       "    <tr>\n",
       "      <th>48</th>\n",
       "      <td>WV</td>\n",
       "      <td>2965</td>\n",
       "    </tr>\n",
       "    <tr>\n",
       "      <th>49</th>\n",
       "      <td>WI</td>\n",
       "      <td>12753</td>\n",
       "    </tr>\n",
       "    <tr>\n",
       "      <th>50</th>\n",
       "      <td>WY</td>\n",
       "      <td>2006</td>\n",
       "    </tr>\n",
       "  </tbody>\n",
       "</table>\n",
       "</div>"
      ],
      "text/plain": [
       "   State Total Item/Bottle Count\n",
       "0     AL                    1229\n",
       "1     AK                    2076\n",
       "2     AZ                   16882\n",
       "3     AR                    5121\n",
       "4     CA                  109697\n",
       "5     CO                   27844\n",
       "6     CT                   21934\n",
       "7     DC                    8089\n",
       "8     DE                    2053\n",
       "9     FL                   79220\n",
       "10    GA                   31870\n",
       "11    HI                   11142\n",
       "12    ID                    3517\n",
       "13    IL                   42583\n",
       "14    IN                   15893\n",
       "15    IA                    5918\n",
       "16    KS                    7216\n",
       "17    KY                     853\n",
       "18    LA                    8914\n",
       "19    ME                    5630\n",
       "20    MD                   28296\n",
       "21    MA                   43842\n",
       "22    MI                   32801\n",
       "23    MN                   14836\n",
       "24    MS                       0\n",
       "25    MO                   12324\n",
       "26    MT                    3063\n",
       "27    NE                    4781\n",
       "28    NV                    6966\n",
       "29    NH                    6149\n",
       "30    NJ                   58695\n",
       "31    NM                    4065\n",
       "32    NY                  108154\n",
       "33    NC                   29491\n",
       "34    ND                    1793\n",
       "35    OH                   33250\n",
       "36    OK                    4705\n",
       "37    OR                   12011\n",
       "38    PA                   69833\n",
       "39    RI                    7125\n",
       "40    SC                   15546\n",
       "41    SD                    1899\n",
       "42    TN                   19222\n",
       "43    TX                   61779\n",
       "44    UT                       0\n",
       "45    VT                    3339\n",
       "46    VA                   36481\n",
       "47    WA                   19606\n",
       "48    WV                    2965\n",
       "49    WI                   12753\n",
       "50    WY                    2006"
      ]
     },
     "execution_count": 119,
     "metadata": {},
     "output_type": "execute_result"
    }
   ],
   "source": [
    "total_bottle_count_by_state.sort_values(by=['Total Item/Bottle Count'], ascending=False)\n",
    "total_bottle_count_by_state"
   ]
  },
  {
   "cell_type": "markdown",
   "id": "ba5019e7",
   "metadata": {},
   "source": [
    "## Working syntax"
   ]
  },
  {
   "cell_type": "code",
   "execution_count": 120,
   "id": "6096da47",
   "metadata": {},
   "outputs": [],
   "source": [
    "# Set the x-axis to a list of strings for each month.\n",
    "x_axis = total_bottle_count_by_state[\"State\"]\n",
    "\n",
    "# Set the y-axis to a list of floats as the Item/Bottle Count for each month.\n",
    "y_axis = total_bottle_count_by_state[\"Total Item/Bottle Count\"]"
   ]
  },
  {
   "cell_type": "code",
   "execution_count": 138,
   "id": "059f5a55",
   "metadata": {},
   "outputs": [
    {
     "data": {
      "image/png": "[encoded data removed]",
      "text/plain": [
       "<Figure size 432x288 with 1 Axes>"
      ]
     },
     "metadata": {},
     "output_type": "display_data"
    }
   ],
   "source": [
    "plt.pie(y_axis, labels=x_axis)\n",
    "plt.show()"
   ]
  },
  {
   "cell_type": "code",
   "execution_count": 147,
   "id": "56e02eea",
   "metadata": {
    "scrolled": false
   },
   "outputs": [
    {
     "data": {
      "text/plain": [
       "([<matplotlib.patches.Wedge at 0x7f849fd52b10>,\n",
       "  <matplotlib.patches.Wedge at 0x7f849fd181d0>,\n",
       "  <matplotlib.patches.Wedge at 0x7f849fd18d90>,\n",
       "  <matplotlib.patches.Wedge at 0x7f849fd18a50>,\n",
       "  <matplotlib.patches.Wedge at 0x7f849fd6f1d0>,\n",
       "  <matplotlib.patches.Wedge at 0x7f849fbba050>,\n",
       "  <matplotlib.patches.Wedge at 0x7f849fbba910>,\n",
       "  <matplotlib.patches.Wedge at 0x7f84a0870090>,\n",
       "  <matplotlib.patches.Wedge at 0x7f849fd6fdd0>,\n",
       "  <matplotlib.patches.Wedge at 0x7f849fbbaf50>,\n",
       "  <matplotlib.patches.Wedge at 0x7f849fd52e90>,\n",
       "  <matplotlib.patches.Wedge at 0x7f849eb7ef10>,\n",
       "  <matplotlib.patches.Wedge at 0x7f849eb7e710>,\n",
       "  <matplotlib.patches.Wedge at 0x7f849e654190>,\n",
       "  <matplotlib.patches.Wedge at 0x7f849ebeb110>,\n",
       "  <matplotlib.patches.Wedge at 0x7f849ebd14d0>,\n",
       "  <matplotlib.patches.Wedge at 0x7f849ebd10d0>,\n",
       "  <matplotlib.patches.Wedge at 0x7f849ebddf90>,\n",
       "  <matplotlib.patches.Wedge at 0x7f849ebdd450>,\n",
       "  <matplotlib.patches.Wedge at 0x7f849eb61dd0>,\n",
       "  <matplotlib.patches.Wedge at 0x7f849e860f50>,\n",
       "  <matplotlib.patches.Wedge at 0x7f849e852710>,\n",
       "  <matplotlib.patches.Wedge at 0x7f849eb32590>,\n",
       "  <matplotlib.patches.Wedge at 0x7f849eb32950>,\n",
       "  <matplotlib.patches.Wedge at 0x7f849e89fd90>,\n",
       "  <matplotlib.patches.Wedge at 0x7f849eb45d90>,\n",
       "  <matplotlib.patches.Wedge at 0x7f849eb458d0>,\n",
       "  <matplotlib.patches.Wedge at 0x7f849e851290>,\n",
       "  <matplotlib.patches.Wedge at 0x7f849e874390>,\n",
       "  <matplotlib.patches.Wedge at 0x7f849ea479d0>,\n",
       "  <matplotlib.patches.Wedge at 0x7f849ebe6d50>,\n",
       "  <matplotlib.patches.Wedge at 0x7f849ebe6110>,\n",
       "  <matplotlib.patches.Wedge at 0x7f849fbd9890>,\n",
       "  <matplotlib.patches.Wedge at 0x7f849fbd9a90>,\n",
       "  <matplotlib.patches.Wedge at 0x7f849ebbd750>,\n",
       "  <matplotlib.patches.Wedge at 0x7f849ebbd110>,\n",
       "  <matplotlib.patches.Wedge at 0x7f849ebc8110>,\n",
       "  <matplotlib.patches.Wedge at 0x7f849ebc8950>,\n",
       "  <matplotlib.patches.Wedge at 0x7f849eba00d0>,\n",
       "  <matplotlib.patches.Wedge at 0x7f849eba7c90>,\n",
       "  <matplotlib.patches.Wedge at 0x7f849eba78d0>,\n",
       "  <matplotlib.patches.Wedge at 0x7f849f8b5fd0>,\n",
       "  <matplotlib.patches.Wedge at 0x7f849f4878d0>,\n",
       "  <matplotlib.patches.Wedge at 0x7f849fb98410>,\n",
       "  <matplotlib.patches.Wedge at 0x7f849ff11850>,\n",
       "  <matplotlib.patches.Wedge at 0x7f849ff11210>,\n",
       "  <matplotlib.patches.Wedge at 0x7f849fb5ffd0>,\n",
       "  <matplotlib.patches.Wedge at 0x7f849fb8dbd0>,\n",
       "  <matplotlib.patches.Wedge at 0x7f849fd78b90>,\n",
       "  <matplotlib.patches.Wedge at 0x7f849fd78f50>,\n",
       "  <matplotlib.patches.Wedge at 0x7f849faa0f50>],\n",
       " [Text(1.0999927773949787, 0.003986186006835063, 'AL'),\n",
       "  Text(1.0999017014442587, 0.014705344607487502, 'AK'),\n",
       "  Text(1.0973621085694867, 0.0761341098058562, 'AZ'),\n",
       "  Text(1.09011750591467, 0.14711839891182887, 'AR'),\n",
       "  Text(1.1574468027913971, 0.591875746004153, 'CA'),\n",
       "  Text(0.7023501980009462, 0.8465838407198851, 'CO'),\n",
       "  Text(0.5709869818731834, 0.9401988441448719, 'CT'),\n",
       "  Text(0.4856282621559429, 0.9869980704111833, 'DC'),\n",
       "  Text(0.4558997800662749, 1.0010771151792064, 'DE'),\n",
       "  Text(0.2052626220860245, 1.080679071683342, 'FL'),\n",
       "  Text(-0.153340444145427, 1.0892597064930307, 'GA'),\n",
       "  Text(-0.289883812204343, 1.0611160989363404, 'HI'),\n",
       "  Text(-0.3354637632873492, 1.047599190301849, 'ID'),\n",
       "  Text(-0.47433126446954943, 0.9924766251890865, 'IL'),\n",
       "  Text(-0.6375757151176961, 0.8963800575047164, 'IN'),\n",
       "  Text(-0.6938655998516055, 0.8535517145097724, 'IA'),\n",
       "  Text(-0.7263923638216004, 0.8260472951239947, 'KS'),\n",
       "  Text(-0.7458383662576595, 0.8085327027511662, 'KY'),\n",
       "  Text(-0.768810691529146, 0.7867211199595932, 'LA'),\n",
       "  Text(-0.8018314607353222, 0.753038052541211, 'ME'),\n",
       "  Text(-0.8730266007292012, 0.6691969474072756, 'MD'),\n",
       "  Text(-0.9946223015955884, 0.469815364977237, 'MA'),\n",
       "  Text(-1.0746035949123733, 0.23500449740676016, 'MI'),\n",
       "  Text(-1.0969210298031573, 0.08224508724283111, 'MN'),\n",
       "  Text(-1.0994683214256238, 0.0341966399156625, 'MS'),\n",
       "  Text(-1.0999848665170688, -0.005770046223950086, 'MO'),\n",
       "  Text(-1.0985912439648235, -0.05565320012202241, 'MT'),\n",
       "  Text(-1.0970103458284954, -0.08104505626652955, 'NE'),\n",
       "  Text(-1.0935457554853385, -0.11898605237590015, 'NV'),\n",
       "  Text(-1.088128070504807, -0.16117475664472358, 'NH'),\n",
       "  Text(-1.037670472659342, -0.3650205339031459, 'NJ'),\n",
       "  Text(-0.9527903508039194, -0.5497186074847245, 'NM'),\n",
       "  Text(-0.7225116917796129, -0.8294437022738564, 'NY'),\n",
       "  Text(-0.33634709295781573, -1.0473159184595766, 'NC'),\n",
       "  Text(-0.23844589671278807, -1.0738452189868122, 'ND'),\n",
       "  Text(-0.12641391400399876, -1.0927120033870728, 'OH'),\n",
       "  Text(-0.0035888531211521694, -1.0999941454995454, 'OK'),\n",
       "  Text(0.05061070719511425, -1.0988350905924011, 'OR'),\n",
       "  Text(0.31175320336405005, -1.0548980709965554, 'PA'),\n",
       "  Text(0.5410869333281008, -0.9577186072023408, 'RI'),\n",
       "  Text(0.6038517829995057, -0.919436253455517, 'SC'),\n",
       "  Text(0.6503263006746265, -0.8871728707815943, 'SD'),\n",
       "  Text(0.7042804366625733, -0.8449787373267893, 'TN'),\n",
       "  Text(0.8841885336731582, -0.6543780535141064, 'TX'),\n",
       "  Text(0.988103099546275, -0.48337590410263975, 'UT'),\n",
       "  Text(0.9928141305570365, -0.47362443155550576, 'VT'),\n",
       "  Text(1.041460504101905, -0.3540621674166929, 'VA'),\n",
       "  Text(1.0855384669864487, -0.1777814295496326, 'WA'),\n",
       "  Text(1.0949583740265423, -0.10519581336322742, 'WV'),\n",
       "  Text(1.0986562796176562, -0.054354201831048506, 'WI'),\n",
       "  Text(1.0999807580827758, -0.0065062929262344376, 'WY')],\n",
       " [Text(0.599996060397261, 0.0021742832764554887, '0.1%'),\n",
       "  Text(0.5999463826059592, 0.008021097058629545, '0.2%'),\n",
       "  Text(0.5985611501288108, 0.04152769625773975, '1.6%'),\n",
       "  Text(0.5946095486807289, 0.0802463994064521, '0.5%'),\n",
       "  Text(0.7122749555639367, 0.36423122831024796, '10.3%'),\n",
       "  Text(0.3831001080005161, 0.4617730040290282, '2.6%'),\n",
       "  Text(0.3114474446581, 0.51283573316993, '2.1%'),\n",
       "  Text(0.26488814299415064, 0.5383625838606454, '0.8%'),\n",
       "  Text(0.2486726073088772, 0.5460420628250217, '0.2%'),\n",
       "  Text(0.11196143022874062, 0.5894613118272775, '7.4%'),\n",
       "  Text(-0.08364024226114199, 0.5941416580871076, '3.0%'),\n",
       "  Text(-0.1581184430205507, 0.5787905994198219, '1.0%'),\n",
       "  Text(-0.1829802345203723, 0.5714177401646449, '0.3%'),\n",
       "  Text(-0.25872614425611784, 0.5413508864667744, '4.0%'),\n",
       "  Text(-0.34776857188237964, 0.48893457682075436, '1.5%'),\n",
       "  Text(-0.3784721453736029, 0.46557366245987575, '0.6%'),\n",
       "  Text(-0.3962140166299638, 0.4505712518858152, '0.7%'),\n",
       "  Text(-0.4068209270496324, 0.4410178378642724, '0.1%'),\n",
       "  Text(-0.41935128628862506, 0.4291206108870508, '0.8%'),\n",
       "  Text(-0.43736261494653933, 0.41074802865884236, '0.5%'),\n",
       "  Text(-0.4761963276704734, 0.3650165167676048, '2.7%'),\n",
       "  Text(-0.5425212554157754, 0.25626292635122017, '4.1%'),\n",
       "  Text(-0.586147415406749, 0.12818427131277826, '3.1%'),\n",
       "  Text(-0.598320561710813, 0.04486095667790787, '1.4%'),\n",
       "  Text(-0.5997099935048856, 0.01865271268127045, '0.0%'),\n",
       "  Text(-0.5999917453729465, -0.00314729794033641, '1.2%'),\n",
       "  Text(-0.5992315876171764, -0.030356290975648584, '0.3%'),\n",
       "  Text(-0.5983692795428156, -0.04420639432719794, '0.4%'),\n",
       "  Text(-0.5964795029920027, -0.06490148311412734, '0.7%'),\n",
       "  Text(-0.5935244020935311, -0.08791350362439466, '0.6%'),\n",
       "  Text(-0.5660020759960047, -0.19910210940171594, '5.5%'),\n",
       "  Text(-0.5197038277112287, -0.29984651317348604, '0.4%'),\n",
       "  Text(-0.3940972864252434, -0.45242383760392163, '10.2%'),\n",
       "  Text(-0.1834620507042631, -0.5712632282506781, '2.8%'),\n",
       "  Text(-0.1300613982069753, -0.5857337558109884, '0.2%'),\n",
       "  Text(-0.06895304400218114, -0.5960247291202214, '3.1%'),\n",
       "  Text(-0.001957556247901183, -0.5999968066361155, '0.4%'),\n",
       "  Text(0.027605840288244133, -0.5993645948685824, '1.1%'),\n",
       "  Text(0.17004720183493635, -0.5753989478163029, '6.6%'),\n",
       "  Text(0.2951383272698731, -0.5223919675649131, '0.7%'),\n",
       "  Text(0.3293736998179122, -0.5015106837030092, '1.5%'),\n",
       "  Text(0.3547234367316144, -0.4839124749717787, '0.2%'),\n",
       "  Text(0.3841529654523127, -0.46089749308733957, '1.8%'),\n",
       "  Text(0.4822846547308135, -0.3569334837349671, '5.8%'),\n",
       "  Text(0.5389653270252408, -0.2636595840559853, '0.0%'),\n",
       "  Text(0.5415349803038381, -0.25834059903027584, '0.3%'),\n",
       "  Text(0.5680693658737662, -0.19312481859092337, '3.4%'),\n",
       "  Text(0.5921118910835175, -0.09697168884525413, '1.8%'),\n",
       "  Text(0.5972500221962956, -0.057379534561760405, '0.3%'),\n",
       "  Text(0.5992670616096306, -0.029647746453299182, '1.2%'),\n",
       "  Text(0.5999895044087867, -0.003548887050673329, '0.2%')])"
      ]
     },
     "execution_count": 147,
     "metadata": {},
     "output_type": "execute_result"
    },
    {
     "data": {
      "image/png": "[encoded data removed]",
      "text/plain": [
       "<Figure size 1800x1800 with 1 Axes>"
      ]
     },
     "metadata": {},
     "output_type": "display_data"
    }
   ],
   "source": [
    "plt.subplots(figsize=(25, 25))\n",
    "explode_values = (0, 0, 0, 0, 0.2, 0, 0, 0, 0, 0, 0, 0, 0, 0, 0, 0, 0, 0, 0, 0, 0, 0, 0, 0, 0, 0, 0, 0, 0, 0, 0, 0, 0, 0, 0, 0, 0, 0, 0, 0, 0, 0, 0, 0, 0, 0, 0, 0, 0, 0, 0, )\n",
    "plt.pie(y_axis, explode=explode_values, labels=x_axis, autopct='%.1f%%')\n"
   ]
  },
  {
   "cell_type": "code",
   "execution_count": null,
   "id": "1d0b0793",
   "metadata": {},
   "outputs": [],
   "source": []
  },
  {
   "cell_type": "code",
   "execution_count": null,
   "id": "ea2838dc",
   "metadata": {},
   "outputs": [],
   "source": []
  },
  {
   "cell_type": "code",
   "execution_count": null,
   "id": "81068270",
   "metadata": {},
   "outputs": [],
   "source": []
  },
  {
   "cell_type": "code",
   "execution_count": null,
   "id": "2027fe50",
   "metadata": {},
   "outputs": [],
   "source": [
    "#test2 = states_2020.sort_values(\"State\")\n",
    "#test2 = states_2020.sort_values(['State'],ascending=True).groupby('').head()\n",
    "\n",
    "for i in range(len(states_2020)) :\n",
    "    #test2=states_2020['State'].groupby,\n",
    "    print(states_2020['State'].groupby(states_2020.loc[i, \"State\"], states_2020.loc[i, \"Item/Bottle Count\"]))\n",
    "#test2\n",
    "#This isn't working."
   ]
  },
  {
   "cell_type": "code",
   "execution_count": null,
   "id": "73c923c4",
   "metadata": {},
   "outputs": [],
   "source": [
    "test=states_2020.sort_values(\"State\")\n",
    "test.head()"
   ]
  },
  {
   "cell_type": "code",
   "execution_count": null,
   "id": "8d0ca22d",
   "metadata": {},
   "outputs": [],
   "source": [
    "#Loop through states_2020 to gather the Item/Bottle Count for all 50 states.\n",
    "for i in range(len(states_2020)) :\n",
    "  print(states_2020.loc[i, \"State\"], states_2020.loc[i, \"Item/Bottle Count\"])"
   ]
  },
  {
   "cell_type": "code",
   "execution_count": null,
   "id": "a821cceb",
   "metadata": {},
   "outputs": [],
   "source": [
    "# How many items/bottles per month have been purchased in each state from January 2020 to December 2021?\n",
    "# How many items/bottls per month 01/2020 - 12/2021\n",
    "# How many items/bottles per state then per month"
   ]
  },
  {
   "cell_type": "code",
   "execution_count": null,
   "id": "4f61b68e",
   "metadata": {},
   "outputs": [],
   "source": [
    "# Is there a time of year where wine shipments increased? For example, during the holidays or during COVID stay-at-home orders?"
   ]
  },
  {
   "cell_type": "code",
   "execution_count": null,
   "id": "0f25939d",
   "metadata": {},
   "outputs": [],
   "source": [
    "# How do wine shipments compare between states that had stay at home orders issued vs states that did not?\n",
    "    #Create a dataframe with data from states that issued stay at home orders\n",
    "    #Create a dataframe with data from states that did not issue stay at home orders\n",
    "    #Generate summary statistics for each data frame \n",
    "    #Convert each summary stat list to a data frame\n",
    "    #Merge the two summary statistic data frames to create a visual side-by-side comparison"
   ]
  },
  {
   "cell_type": "code",
   "execution_count": null,
   "id": "3ea0a6aa",
   "metadata": {},
   "outputs": [],
   "source": [
    "#How do wine shipments compare between red states and blue states?\n",
    "    #Create a dataframe with data from \"Red\" states\n",
    "    #Create a dataframe with data from \"Blue\" states \n",
    "    #Generate summary statistics for each data frame \n",
    "    #Convert each summary stat list to a data frame\n",
    "    #Merge the two summary statistic data frames to create a visual side-by-side comparison"
   ]
  },
  {
   "cell_type": "code",
   "execution_count": null,
   "id": "c4577995",
   "metadata": {},
   "outputs": [],
   "source": [
    "# Which state consumed the most wine?  "
   ]
  },
  {
   "cell_type": "code",
   "execution_count": null,
   "id": "883d5c49",
   "metadata": {},
   "outputs": [],
   "source": [
    "# Which state saw the most significant change in wine consumption?"
   ]
  }
 ],
 "metadata": {
  "kernelspec": {
   "display_name": "Python 3 (ipykernel)",
   "language": "python",
   "name": "python3"
  },
  "language_info": {
   "codemirror_mode": {
    "name": "ipython",
    "version": 3
   },
   "file_extension": ".py",
   "mimetype": "text/x-python",
   "name": "python",
   "nbconvert_exporter": "python",
   "pygments_lexer": "ipython3",
   "version": "3.7.13"
  }
 },
 "nbformat": 4,
 "nbformat_minor": 5
}
