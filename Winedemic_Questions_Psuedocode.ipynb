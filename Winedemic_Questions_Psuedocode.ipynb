{
 "cells": [
  {
   "cell_type": "code",
   "execution_count": null,
   "id": "c91eb4b1",
   "metadata": {},
   "outputs": [],
   "source": [
    "# Import dependencies"
   ]
  },
  {
   "cell_type": "code",
   "execution_count": null,
   "id": "6bd3cdd7",
   "metadata": {},
   "outputs": [],
   "source": [
    "# How many items/bottles per month have been purchased in each state and zip code from January 2020 to December 2021?"
   ]
  },
  {
   "cell_type": "code",
   "execution_count": null,
   "id": "bad6e046",
   "metadata": {},
   "outputs": [],
   "source": [
    "# Is there a time of year where wine shipments increased? For example, during the holidays or during COVID stay-at-home orders?"
   ]
  },
  {
   "cell_type": "code",
   "execution_count": null,
   "id": "0e302060",
   "metadata": {},
   "outputs": [],
   "source": [
    "# How do wine shipments compare between states that had stay at home orders issued vs states that did not?\n",
    "    #Create a dataframe with data from states that issued stay at home orders\n",
    "    #Create a dataframe with data from states that did not issue stay at home orders\n",
    "    #Generate summary statistics for each data frame \n",
    "    #Convert each summary stat list to a data frame\n",
    "    #Merge the two summary statistic data frames to create a visual side-by-side comparison"
   ]
  },
  {
   "cell_type": "code",
   "execution_count": null,
   "id": "96eab4df",
   "metadata": {},
   "outputs": [],
   "source": [
    "#How do wine shipments compare between red states and blue states?\n",
    "    #Create a dataframe with data from \"Red\" states\n",
    "    #Create a dataframe with data from \"Blue\" states \n",
    "    #Generate summary statistics for each data frame \n",
    "    #Convert each summary stat list to a data frame\n",
    "    #Merge the two summary statistic data frames to create a visual side-by-side comparison"
   ]
  },
  {
   "cell_type": "code",
   "execution_count": null,
   "id": "dda0ad49",
   "metadata": {},
   "outputs": [],
   "source": [
    "# Which state consumed the most wine?                                   "
   ]
  },
  {
   "cell_type": "code",
   "execution_count": null,
   "id": "65310643",
   "metadata": {},
   "outputs": [],
   "source": [
    "# Which state saw the most significant change in wine consumption?"
   ]
  }
 ],
 "metadata": {
  "kernelspec": {
   "display_name": "Python 3 (ipykernel)",
   "language": "python",
   "name": "python3"
  },
  "language_info": {
   "codemirror_mode": {
    "name": "ipython",
    "version": 3
   },
   "file_extension": ".py",
   "mimetype": "text/x-python",
   "name": "python",
   "nbconvert_exporter": "python",
   "pygments_lexer": "ipython3",
   "version": "3.7.13"
  }
 },
 "nbformat": 4,
 "nbformat_minor": 5
}
