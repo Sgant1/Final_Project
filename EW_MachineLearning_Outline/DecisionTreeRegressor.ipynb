{
 "cells": [
  {
   "cell_type": "code",
   "execution_count": 4,
   "metadata": {},
   "outputs": [],
   "source": [
    "import pandas as pd\n",
    "from sklearn.model_selection import train_test_split\n",
    "from sklearn.preprocessing import StandardScaler\n",
    "import numpy as np\n",
    "import matplotlib.pyplot as plt\n",
    "from sklearn.tree import DecisionTreeRegressor\n"
   ]
  },
  {
   "cell_type": "code",
   "execution_count": 2,
   "metadata": {},
   "outputs": [
    {
     "data": {
      "text/html": [
       "<div>\n",
       "<style scoped>\n",
       "    .dataframe tbody tr th:only-of-type {\n",
       "        vertical-align: middle;\n",
       "    }\n",
       "\n",
       "    .dataframe tbody tr th {\n",
       "        vertical-align: top;\n",
       "    }\n",
       "\n",
       "    .dataframe thead th {\n",
       "        text-align: right;\n",
       "    }\n",
       "</style>\n",
       "<table border=\"1\" class=\"dataframe\">\n",
       "  <thead>\n",
       "    <tr style=\"text-align: right;\">\n",
       "      <th></th>\n",
       "      <th>Company Name</th>\n",
       "      <th>Ship Date</th>\n",
       "      <th>City</th>\n",
       "      <th>State</th>\n",
       "      <th>Shipping Service</th>\n",
       "      <th>Created Date</th>\n",
       "      <th>Weight</th>\n",
       "      <th>Item/Bottle Count</th>\n",
       "    </tr>\n",
       "  </thead>\n",
       "  <tbody>\n",
       "    <tr>\n",
       "      <th>0</th>\n",
       "      <td>1</td>\n",
       "      <td>43952.87139</td>\n",
       "      <td>1555</td>\n",
       "      <td>34</td>\n",
       "      <td>5</td>\n",
       "      <td>43940.85348</td>\n",
       "      <td>10.5</td>\n",
       "      <td>3</td>\n",
       "    </tr>\n",
       "    <tr>\n",
       "      <th>1</th>\n",
       "      <td>1</td>\n",
       "      <td>43952.87149</td>\n",
       "      <td>5113</td>\n",
       "      <td>44</td>\n",
       "      <td>1</td>\n",
       "      <td>43943.52123</td>\n",
       "      <td>20.2</td>\n",
       "      <td>6</td>\n",
       "    </tr>\n",
       "    <tr>\n",
       "      <th>2</th>\n",
       "      <td>1</td>\n",
       "      <td>43952.87149</td>\n",
       "      <td>1341</td>\n",
       "      <td>5</td>\n",
       "      <td>9</td>\n",
       "      <td>43945.43794</td>\n",
       "      <td>20.2</td>\n",
       "      <td>6</td>\n",
       "    </tr>\n",
       "    <tr>\n",
       "      <th>3</th>\n",
       "      <td>1</td>\n",
       "      <td>43952.87148</td>\n",
       "      <td>4881</td>\n",
       "      <td>4</td>\n",
       "      <td>4</td>\n",
       "      <td>43945.60456</td>\n",
       "      <td>10.5</td>\n",
       "      <td>3</td>\n",
       "    </tr>\n",
       "    <tr>\n",
       "      <th>4</th>\n",
       "      <td>1</td>\n",
       "      <td>43952.87148</td>\n",
       "      <td>4984</td>\n",
       "      <td>44</td>\n",
       "      <td>1</td>\n",
       "      <td>43947.43795</td>\n",
       "      <td>39.0</td>\n",
       "      <td>12</td>\n",
       "    </tr>\n",
       "  </tbody>\n",
       "</table>\n",
       "</div>"
      ],
      "text/plain": [
       "   Company Name    Ship Date  City  State  Shipping Service  Created Date  \\\n",
       "0             1  43952.87139  1555     34                 5   43940.85348   \n",
       "1             1  43952.87149  5113     44                 1   43943.52123   \n",
       "2             1  43952.87149  1341      5                 9   43945.43794   \n",
       "3             1  43952.87148  4881      4                 4   43945.60456   \n",
       "4             1  43952.87148  4984     44                 1   43947.43795   \n",
       "\n",
       "   Weight  Item/Bottle Count  \n",
       "0    10.5                  3  \n",
       "1    20.2                  6  \n",
       "2    20.2                  6  \n",
       "3    10.5                  3  \n",
       "4    39.0                 12  "
      ]
     },
     "execution_count": 2,
     "metadata": {},
     "output_type": "execute_result"
    }
   ],
   "source": [
    "# Load data\n",
    "file = 'converted_datatypes.csv'\n",
    "df = pd.read_csv(file)\n",
    "df.head()"
   ]
  },
  {
   "cell_type": "markdown",
   "metadata": {},
   "source": [
    "## Predict 'Item/Bottle Count' and 'Weight'\n",
    "#### Reference: https://scikit-learn.org/stable/auto_examples/tree/plot_tree_regression_multioutput.html#sphx-glr-auto-examples-tree-plot-tree-regression-multioutput-py"
   ]
  },
  {
   "cell_type": "code",
   "execution_count": 3,
   "metadata": {},
   "outputs": [],
   "source": [
    "X = df.drop(columns=['Weight','Item/Bottle Count'], axis=1).values\n",
    "y = df[['Weight', 'Item/Bottle Count']].values\n",
    "\n",
    "X_train, X_test, y_train, y_test = train_test_split(X, y, random_state=1)"
   ]
  },
  {
   "cell_type": "code",
   "execution_count": 5,
   "metadata": {},
   "outputs": [
    {
     "data": {
      "text/plain": [
       "DecisionTreeRegressor(max_depth=8)"
      ]
     },
     "execution_count": 5,
     "metadata": {},
     "output_type": "execute_result"
    }
   ],
   "source": [
    "# Fit regression models\n",
    "regr_1 = DecisionTreeRegressor(max_depth=2)\n",
    "regr_2 = DecisionTreeRegressor(max_depth=5)\n",
    "regr_3 = DecisionTreeRegressor(max_depth=8)\n",
    "\n",
    "regr_1.fit(X, y)\n",
    "regr_2.fit(X, y)\n",
    "regr_3.fit(X, y)"
   ]
  },
  {
   "cell_type": "code",
   "execution_count": 6,
   "metadata": {},
   "outputs": [],
   "source": [
    "y_pred1 = regr_1.predict(X_test)\n",
    "y_pred2 = regr_2.predict(X_test)\n",
    "y_pred3 = regr_3.predict(X_test)"
   ]
  },
  {
   "cell_type": "code",
   "execution_count": 7,
   "metadata": {},
   "outputs": [
    {
     "data": {
      "image/png": "[encoded data removed]",
      "text/plain": [
       "<Figure size 432x288 with 1 Axes>"
      ]
     },
     "metadata": {
      "needs_background": "light"
     },
     "output_type": "display_data"
    }
   ],
   "source": [
    "# Plot the results\n",
    "plt.figure()\n",
    "s = 50\n",
    "\n",
    "# Data\n",
    "plt.scatter(y[:, 0], y[:, 1], c=\"navy\", s=s, edgecolor=\"black\", label=\"data\")\n",
    "\n",
    "# Prediction Max Depth 2\n",
    "plt.scatter(\n",
    "    y_pred1[:,0], y_pred1[:,1], c=\"orange\", s=s, edgecolor=\"black\", label=\"max_depth=2\"\n",
    ")\n",
    "\n",
    "# Prediction Max Depth 5\n",
    "plt.scatter(y_pred2[:,0], y_pred2[:,1], c=\"red\", s=s, edgecolor=\"black\", label=\"max_depth=5\")\n",
    "\n",
    "# Prediction Max Depth 8\n",
    "plt.scatter(\n",
    "    y_pred3[:,0], y_pred3[:,1],\n",
    "    c=\"cyan\", s=s, edgecolor=\"black\", label=\"max_depth=8\",\n",
    ")\n",
    "\n",
    "plt.xlim([0, 20])\n",
    "plt.ylim([0, 20])\n",
    "plt.xlabel(\"target 1\")\n",
    "plt.ylabel(\"target 2\")\n",
    "plt.title(\"Multi-output Decision Tree Regression\")\n",
    "plt.legend(loc=\"upper left\")\n",
    "plt.show()"
   ]
  },
  {
   "cell_type": "code",
   "execution_count": 8,
   "metadata": {},
   "outputs": [
    {
     "name": "stdout",
     "output_type": "stream",
     "text": [
      "Score Max Depth=2:  0.5010769195286005\n",
      "Score Max Depth=5:  0.5157538678720781\n",
      "Score Max Depth=8:  0.5437628293333148\n"
     ]
    }
   ],
   "source": [
    "# print(accuracy(y_test[:,0], y_pred3[:,0]))\n",
    "\n",
    "print(\"Score Max Depth=2: \", regr_1.score(X, y))\n",
    "print(\"Score Max Depth=5: \", regr_2.score(X, y))\n",
    "print(\"Score Max Depth=8: \", regr_3.score(X, y))"
   ]
  },
  {
   "cell_type": "code",
   "execution_count": null,
   "metadata": {},
   "outputs": [],
   "source": []
  }
 ],
 "metadata": {
  "kernelspec": {
   "display_name": "Python 3.7.13 ('mlenv')",
   "language": "python",
   "name": "python3"
  },
  "language_info": {
   "codemirror_mode": {
    "name": "ipython",
    "version": 3
   },
   "file_extension": ".py",
   "mimetype": "text/x-python",
   "name": "python",
   "nbconvert_exporter": "python",
   "pygments_lexer": "ipython3",
   "version": "3.7.13"
  },
  "orig_nbformat": 4,
  "vscode": {
   "interpreter": {
    "hash": "623e3639e648b69e2c47e238934d642b613130713e62d8d4c132195fb5d465b2"
   }
  }
 },
 "nbformat": 4,
 "nbformat_minor": 2
}
