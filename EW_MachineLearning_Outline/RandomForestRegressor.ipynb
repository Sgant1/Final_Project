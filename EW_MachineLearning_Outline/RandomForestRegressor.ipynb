{
 "cells": [
  {
   "cell_type": "markdown",
   "id": "da13aae1",
   "metadata": {},
   "source": [
    "### Import Dependencies"
   ]
  },
  {
   "cell_type": "code",
   "execution_count": 1,
   "id": "9a3655e9",
   "metadata": {},
   "outputs": [],
   "source": [
    "import pandas as pd\n",
    "from sklearn.model_selection import train_test_split\n",
    "from sklearn.ensemble import RandomForestRegressor\n",
    "from sklearn.metrics import mean_squared_error, mean_absolute_error\n",
    "import matplotlib.pyplot as plt"
   ]
  },
  {
   "cell_type": "markdown",
   "id": "eb58deda",
   "metadata": {},
   "source": [
    "### Load Data"
   ]
  },
  {
   "cell_type": "code",
   "execution_count": 2,
   "id": "d109b121",
   "metadata": {},
   "outputs": [
    {
     "data": {
      "text/html": [
       "<div>\n",
       "<style scoped>\n",
       "    .dataframe tbody tr th:only-of-type {\n",
       "        vertical-align: middle;\n",
       "    }\n",
       "\n",
       "    .dataframe tbody tr th {\n",
       "        vertical-align: top;\n",
       "    }\n",
       "\n",
       "    .dataframe thead th {\n",
       "        text-align: right;\n",
       "    }\n",
       "</style>\n",
       "<table border=\"1\" class=\"dataframe\">\n",
       "  <thead>\n",
       "    <tr style=\"text-align: right;\">\n",
       "      <th></th>\n",
       "      <th>Company Name</th>\n",
       "      <th>City</th>\n",
       "      <th>State</th>\n",
       "      <th>Item/Bottle Count</th>\n",
       "      <th>Year</th>\n",
       "      <th>Month</th>\n",
       "      <th>Day</th>\n",
       "    </tr>\n",
       "  </thead>\n",
       "  <tbody>\n",
       "    <tr>\n",
       "      <th>0</th>\n",
       "      <td>3</td>\n",
       "      <td>13262</td>\n",
       "      <td>38</td>\n",
       "      <td>6.0</td>\n",
       "      <td>2019</td>\n",
       "      <td>11</td>\n",
       "      <td>18</td>\n",
       "    </tr>\n",
       "    <tr>\n",
       "      <th>1</th>\n",
       "      <td>3</td>\n",
       "      <td>2208</td>\n",
       "      <td>9</td>\n",
       "      <td>12.0</td>\n",
       "      <td>2019</td>\n",
       "      <td>11</td>\n",
       "      <td>14</td>\n",
       "    </tr>\n",
       "    <tr>\n",
       "      <th>2</th>\n",
       "      <td>3</td>\n",
       "      <td>2052</td>\n",
       "      <td>14</td>\n",
       "      <td>6.0</td>\n",
       "      <td>2019</td>\n",
       "      <td>11</td>\n",
       "      <td>13</td>\n",
       "    </tr>\n",
       "    <tr>\n",
       "      <th>3</th>\n",
       "      <td>3</td>\n",
       "      <td>12759</td>\n",
       "      <td>31</td>\n",
       "      <td>12.0</td>\n",
       "      <td>2019</td>\n",
       "      <td>11</td>\n",
       "      <td>14</td>\n",
       "    </tr>\n",
       "    <tr>\n",
       "      <th>4</th>\n",
       "      <td>3</td>\n",
       "      <td>11113</td>\n",
       "      <td>20</td>\n",
       "      <td>6.0</td>\n",
       "      <td>2019</td>\n",
       "      <td>11</td>\n",
       "      <td>13</td>\n",
       "    </tr>\n",
       "  </tbody>\n",
       "</table>\n",
       "</div>"
      ],
      "text/plain": [
       "   Company Name   City  State  Item/Bottle Count  Year  Month  Day\n",
       "0             3  13262     38                6.0  2019     11   18\n",
       "1             3   2208      9               12.0  2019     11   14\n",
       "2             3   2052     14                6.0  2019     11   13\n",
       "3             3  12759     31               12.0  2019     11   14\n",
       "4             3  11113     20                6.0  2019     11   13"
      ]
     },
     "execution_count": 2,
     "metadata": {},
     "output_type": "execute_result"
    }
   ],
   "source": [
    "file = 'preprocessed_data.csv'\n",
    "df = pd.read_csv(file)\n",
    "df.head()"
   ]
  },
  {
   "cell_type": "markdown",
   "id": "575edb7c",
   "metadata": {},
   "source": [
    "### Split Data into Training and Test sets: Option 1\n",
    "- Split data by taking random samples from each month of the year (ex: use train_test_split on January data, then February data, then March data, etc.) And then combine all the samples into training data representing all months, and test data representing all months.\n",
    "\n",
    "- *Note: RandomForestRegressor does not require data to be scaled*\n"
   ]
  },
  {
   "cell_type": "code",
   "execution_count": 3,
   "id": "b1a4138d",
   "metadata": {},
   "outputs": [],
   "source": [
    "# Option 1 Train/Test data: split data by month\n",
    "jan_df = df.loc[df['Month'] == 1]\n",
    "feb_df = df.loc[df['Month'] == 2]\n",
    "mar_df = df.loc[df['Month'] == 3]\n",
    "apr_df = df.loc[df['Month'] == 4]\n",
    "may_df = df.loc[df['Month'] == 5]\n",
    "june_df = df.loc[df['Month'] == 6]\n",
    "july_df = df.loc[df['Month'] == 7]\n",
    "aug_df = df.loc[df['Month'] == 8]\n",
    "sep_df = df.loc[df['Month'] == 9]\n",
    "oct_df = df.loc[df['Month'] == 10]\n",
    "nov_df = df.loc[df['Month'] == 11]\n",
    "dec_df = df.loc[df['Month'] == 12]\n"
   ]
  },
  {
   "cell_type": "code",
   "execution_count": 4,
   "id": "8902cdef",
   "metadata": {},
   "outputs": [],
   "source": [
    "# Option 1 Train/Test data(cont.): get random training data from each month\n",
    "\n",
    "# January\n",
    "X_jan = jan_df.drop(columns=['Item/Bottle Count'], axis=1)\n",
    "y_jan = jan_df['Item/Bottle Count']\n",
    "X_train_jan, X_test_jan, y_train_jan, y_test_jan = train_test_split(X_jan, y_jan, random_state=1)\n",
    "\n",
    "# February\n",
    "X_feb = feb_df.drop(columns=['Item/Bottle Count'], axis=1)\n",
    "y_feb = feb_df['Item/Bottle Count']\n",
    "X_train_feb, X_test_feb, y_train_feb, y_test_feb = train_test_split(X_feb, y_feb, random_state=1)\n",
    "\n",
    "# March\n",
    "X_mar = mar_df.drop(columns=['Item/Bottle Count'], axis=1)\n",
    "y_mar = mar_df['Item/Bottle Count']\n",
    "X_train_mar, X_test_mar, y_train_mar, y_test_mar = train_test_split(X_mar, y_mar, random_state=1)\n",
    "\n",
    "# April\n",
    "X_apr = apr_df.drop(columns=['Item/Bottle Count'], axis=1)\n",
    "y_apr = apr_df['Item/Bottle Count']\n",
    "X_train_apr, X_test_apr, y_train_apr, y_test_apr = train_test_split(X_apr, y_apr, random_state=1)\n",
    "\n",
    "# May\n",
    "X_may = may_df.drop(columns=['Item/Bottle Count'], axis=1)\n",
    "y_may = may_df['Item/Bottle Count']\n",
    "X_train_may, X_test_may, y_train_may, y_test_may = train_test_split(X_may, y_may, random_state=1)\n",
    "\n",
    "# June\n",
    "X_june = june_df.drop(columns=['Item/Bottle Count'], axis=1)\n",
    "y_june = june_df['Item/Bottle Count']\n",
    "X_train_june, X_test_june, y_train_june, y_test_june = train_test_split(X_june, y_june, random_state=1)\n",
    "\n",
    "# July\n",
    "X_july = july_df.drop(columns=['Item/Bottle Count'], axis=1)\n",
    "y_july = july_df['Item/Bottle Count']\n",
    "X_train_july, X_test_july, y_train_july, y_test_july = train_test_split(X_july, y_july, random_state=1)\n",
    "\n",
    "# August\n",
    "X_aug = aug_df.drop(columns=['Item/Bottle Count'], axis=1)\n",
    "y_aug = aug_df['Item/Bottle Count']\n",
    "X_train_aug, X_test_aug, y_train_aug, y_test_aug = train_test_split(X_aug, y_aug, random_state=1)\n",
    "\n",
    "# September\n",
    "X_sep = sep_df.drop(columns=['Item/Bottle Count'], axis=1)\n",
    "y_sep = sep_df['Item/Bottle Count']\n",
    "X_train_sep, X_test_sep, y_train_sep, y_test_sep = train_test_split(X_sep, y_sep, random_state=1)\n",
    "\n",
    "# October\n",
    "X_oct = oct_df.drop(columns=['Item/Bottle Count'], axis=1)\n",
    "y_oct = oct_df['Item/Bottle Count']\n",
    "X_train_oct, X_test_oct, y_train_oct, y_test_oct = train_test_split(X_oct, y_oct, random_state=1)\n",
    "\n",
    "# November\n",
    "X_nov = nov_df.drop(columns=['Item/Bottle Count'], axis=1)\n",
    "y_nov = nov_df['Item/Bottle Count']\n",
    "X_train_nov, X_test_nov, y_train_nov, y_test_nov = train_test_split(X_nov, y_nov, random_state=1)\n",
    "\n",
    "# December\n",
    "X_dec = dec_df.drop(columns=['Item/Bottle Count'], axis=1)\n",
    "y_dec = dec_df['Item/Bottle Count']\n",
    "X_train_dec, X_test_dec, y_train_dec, y_test_dec = train_test_split(X_dec, y_dec, random_state=1)\n"
   ]
  },
  {
   "cell_type": "code",
   "execution_count": 5,
   "id": "dec0076a",
   "metadata": {},
   "outputs": [
    {
     "name": "stdout",
     "output_type": "stream",
     "text": [
      "(475361, 6) (475361,) (158460, 6) (158460,)\n"
     ]
    }
   ],
   "source": [
    "# Option 1 Train/Test data(cont.): combine training and test data from all months into X_train_all, X_test_all, y_train_all, y_test_all\n",
    "# https://pandas.pydata.org/pandas-docs/stable/reference/api/pandas.concat.html\n",
    "\n",
    "X_train_all = pd.concat([X_train_jan,\n",
    "    X_train_feb,\n",
    "    X_train_mar,\n",
    "    X_train_apr,\n",
    "    X_train_may,\n",
    "    X_train_june,\n",
    "    X_train_july,\n",
    "    X_train_aug,\n",
    "    X_train_sep,\n",
    "    X_train_oct,\n",
    "    X_train_nov,\n",
    "    X_train_dec])\n",
    "\n",
    "X_test_all = pd.concat([X_test_jan,\n",
    "    X_test_feb,\n",
    "    X_test_mar,\n",
    "    X_test_apr,\n",
    "    X_test_may,\n",
    "    X_test_june,\n",
    "    X_test_july,\n",
    "    X_test_aug,\n",
    "    X_test_sep,\n",
    "    X_test_oct,\n",
    "    X_test_nov,\n",
    "    X_test_dec])\n",
    "\n",
    "y_train_all = pd.concat([y_train_jan,\n",
    "    y_train_feb,\n",
    "    y_train_mar,\n",
    "    y_train_apr,\n",
    "    y_train_may,\n",
    "    y_train_june,\n",
    "    y_train_july,\n",
    "    y_train_aug,\n",
    "    y_train_sep,\n",
    "    y_train_oct,\n",
    "    y_train_nov,\n",
    "    y_train_dec])\n",
    "\n",
    "y_test_all = pd.concat([y_test_jan,\n",
    "    y_test_feb,\n",
    "    y_test_mar,\n",
    "    y_test_apr,\n",
    "    y_test_may,\n",
    "    y_test_june,\n",
    "    y_test_july,\n",
    "    y_test_aug,\n",
    "    y_test_sep,\n",
    "    y_test_oct,\n",
    "    y_test_nov,\n",
    "    y_test_dec])\n",
    "\n",
    "print(X_train_all.shape, y_train_all.shape,\n",
    "    X_test_all.shape, y_test_all.shape)"
   ]
  },
  {
   "cell_type": "markdown",
   "id": "9f61a268",
   "metadata": {},
   "source": [
    "### Build RandomForestRegressor Model"
   ]
  },
  {
   "cell_type": "code",
   "execution_count": 6,
   "id": "84e62c2d",
   "metadata": {},
   "outputs": [
    {
     "data": {
      "text/html": [
       "<style>#sk-container-id-1 {color: black;background-color: white;}#sk-container-id-1 pre{padding: 0;}#sk-container-id-1 div.sk-toggleable {background-color: white;}#sk-container-id-1 label.sk-toggleable__label {cursor: pointer;display: block;width: 100%;margin-bottom: 0;padding: 0.3em;box-sizing: border-box;text-align: center;}#sk-container-id-1 label.sk-toggleable__label-arrow:before {content: \"▸\";float: left;margin-right: 0.25em;color: #696969;}#sk-container-id-1 label.sk-toggleable__label-arrow:hover:before {color: black;}#sk-container-id-1 div.sk-estimator:hover label.sk-toggleable__label-arrow:before {color: black;}#sk-container-id-1 div.sk-toggleable__content {max-height: 0;max-width: 0;overflow: hidden;text-align: left;background-color: #f0f8ff;}#sk-container-id-1 div.sk-toggleable__content pre {margin: 0.2em;color: black;border-radius: 0.25em;background-color: #f0f8ff;}#sk-container-id-1 input.sk-toggleable__control:checked~div.sk-toggleable__content {max-height: 200px;max-width: 100%;overflow: auto;}#sk-container-id-1 input.sk-toggleable__control:checked~label.sk-toggleable__label-arrow:before {content: \"▾\";}#sk-container-id-1 div.sk-estimator input.sk-toggleable__control:checked~label.sk-toggleable__label {background-color: #d4ebff;}#sk-container-id-1 div.sk-label input.sk-toggleable__control:checked~label.sk-toggleable__label {background-color: #d4ebff;}#sk-container-id-1 input.sk-hidden--visually {border: 0;clip: rect(1px 1px 1px 1px);clip: rect(1px, 1px, 1px, 1px);height: 1px;margin: -1px;overflow: hidden;padding: 0;position: absolute;width: 1px;}#sk-container-id-1 div.sk-estimator {font-family: monospace;background-color: #f0f8ff;border: 1px dotted black;border-radius: 0.25em;box-sizing: border-box;margin-bottom: 0.5em;}#sk-container-id-1 div.sk-estimator:hover {background-color: #d4ebff;}#sk-container-id-1 div.sk-parallel-item::after {content: \"\";width: 100%;border-bottom: 1px solid gray;flex-grow: 1;}#sk-container-id-1 div.sk-label:hover label.sk-toggleable__label {background-color: #d4ebff;}#sk-container-id-1 div.sk-serial::before {content: \"\";position: absolute;border-left: 1px solid gray;box-sizing: border-box;top: 0;bottom: 0;left: 50%;z-index: 0;}#sk-container-id-1 div.sk-serial {display: flex;flex-direction: column;align-items: center;background-color: white;padding-right: 0.2em;padding-left: 0.2em;position: relative;}#sk-container-id-1 div.sk-item {position: relative;z-index: 1;}#sk-container-id-1 div.sk-parallel {display: flex;align-items: stretch;justify-content: center;background-color: white;position: relative;}#sk-container-id-1 div.sk-item::before, #sk-container-id-1 div.sk-parallel-item::before {content: \"\";position: absolute;border-left: 1px solid gray;box-sizing: border-box;top: 0;bottom: 0;left: 50%;z-index: -1;}#sk-container-id-1 div.sk-parallel-item {display: flex;flex-direction: column;z-index: 1;position: relative;background-color: white;}#sk-container-id-1 div.sk-parallel-item:first-child::after {align-self: flex-end;width: 50%;}#sk-container-id-1 div.sk-parallel-item:last-child::after {align-self: flex-start;width: 50%;}#sk-container-id-1 div.sk-parallel-item:only-child::after {width: 0;}#sk-container-id-1 div.sk-dashed-wrapped {border: 1px dashed gray;margin: 0 0.4em 0.5em 0.4em;box-sizing: border-box;padding-bottom: 0.4em;background-color: white;}#sk-container-id-1 div.sk-label label {font-family: monospace;font-weight: bold;display: inline-block;line-height: 1.2em;}#sk-container-id-1 div.sk-label-container {text-align: center;}#sk-container-id-1 div.sk-container {/* jupyter's `normalize.less` sets `[hidden] { display: none; }` but bootstrap.min.css set `[hidden] { display: none !important; }` so we also need the `!important` here to be able to override the default hidden behavior on the sphinx rendered scikit-learn.org. See: https://github.com/scikit-learn/scikit-learn/issues/21755 */display: inline-block !important;position: relative;}#sk-container-id-1 div.sk-text-repr-fallback {display: none;}</style><div id=\"sk-container-id-1\" class=\"sk-top-container\"><div class=\"sk-text-repr-fallback\"><pre>RandomForestRegressor(random_state=0)</pre><b>In a Jupyter environment, please rerun this cell to show the HTML representation or trust the notebook. <br />On GitHub, the HTML representation is unable to render, please try loading this page with nbviewer.org.</b></div><div class=\"sk-container\" hidden><div class=\"sk-item\"><div class=\"sk-estimator sk-toggleable\"><input class=\"sk-toggleable__control sk-hidden--visually\" id=\"sk-estimator-id-1\" type=\"checkbox\" checked><label for=\"sk-estimator-id-1\" class=\"sk-toggleable__label sk-toggleable__label-arrow\">RandomForestRegressor</label><div class=\"sk-toggleable__content\"><pre>RandomForestRegressor(random_state=0)</pre></div></div></div></div></div>"
      ],
      "text/plain": [
       "RandomForestRegressor(random_state=0)"
      ]
     },
     "execution_count": 6,
     "metadata": {},
     "output_type": "execute_result"
    }
   ],
   "source": [
    "# Option 1 Train/Test data\n",
    "regr_1 = RandomForestRegressor(max_depth=None, random_state=0)\n",
    "regr_1.fit(X_train_all,y_train_all)\n",
    "\n",
    "# WILL TAKE ABOUT 3 MINUTES TO COMPLETE"
   ]
  },
  {
   "cell_type": "code",
   "execution_count": 7,
   "id": "57e5d55a",
   "metadata": {},
   "outputs": [],
   "source": [
    "# Option 1 Train/Test data\n",
    "y_pred1 = regr_1.predict(X_test_all)"
   ]
  },
  {
   "cell_type": "markdown",
   "id": "9bbdb821",
   "metadata": {},
   "source": [
    "### Evaluate the Model"
   ]
  },
  {
   "cell_type": "code",
   "execution_count": 8,
   "id": "05b73dbe",
   "metadata": {},
   "outputs": [
    {
     "name": "stdout",
     "output_type": "stream",
     "text": [
      "Evaluate model: Option 1 Train/Test data\n",
      "----------------------------------------\n",
      "Training R-Squared: 0.8624742355735865\n",
      "Test R-Squared:  0.5943922118876332\n",
      "Root Mean Squared Error:  12.685259687650218\n",
      "Mean Absolute Error:  1.7630350640569152\n"
     ]
    }
   ],
   "source": [
    "# Scores for model with Option 1 Train/Test data\n",
    "\n",
    "print(\"Evaluate model: Option 1 Train/Test data\")\n",
    "print(\"----------------------------------------\")\n",
    "# Training Score\n",
    "print(\"Training R-Squared:\", regr_1.score(X_train_all,y_train_all))\n",
    "\n",
    "# Test Score\n",
    "print(\"Test R-Squared: \", regr_1.score(X_test_all, y_test_all))\n",
    "\n",
    "# Root Mean Squared Error\n",
    "print(\"Root Mean Squared Error: \", mean_squared_error(y_test_all, y_pred1, squared=False))\n",
    "\n",
    "# Mean Absolute Error\n",
    "print(\"Mean Absolute Error: \", mean_absolute_error(y_test_all, y_pred1))"
   ]
  },
  {
   "cell_type": "code",
   "execution_count": 9,
   "id": "50e28ab6",
   "metadata": {},
   "outputs": [
    {
     "data": {
      "text/html": [
       "<div>\n",
       "<style scoped>\n",
       "    .dataframe tbody tr th:only-of-type {\n",
       "        vertical-align: middle;\n",
       "    }\n",
       "\n",
       "    .dataframe tbody tr th {\n",
       "        vertical-align: top;\n",
       "    }\n",
       "\n",
       "    .dataframe thead th {\n",
       "        text-align: right;\n",
       "    }\n",
       "</style>\n",
       "<table border=\"1\" class=\"dataframe\">\n",
       "  <thead>\n",
       "    <tr style=\"text-align: right;\">\n",
       "      <th></th>\n",
       "      <th>Company Name</th>\n",
       "      <th>City</th>\n",
       "      <th>State</th>\n",
       "      <th>Year</th>\n",
       "      <th>Month</th>\n",
       "      <th>Day</th>\n",
       "      <th>Actual</th>\n",
       "      <th>Predicted</th>\n",
       "    </tr>\n",
       "    <tr>\n",
       "      <th>key_0</th>\n",
       "      <th></th>\n",
       "      <th></th>\n",
       "      <th></th>\n",
       "      <th></th>\n",
       "      <th></th>\n",
       "      <th></th>\n",
       "      <th></th>\n",
       "      <th></th>\n",
       "    </tr>\n",
       "  </thead>\n",
       "  <tbody>\n",
       "    <tr>\n",
       "      <th>158269</th>\n",
       "      <td>3</td>\n",
       "      <td>13513</td>\n",
       "      <td>4</td>\n",
       "      <td>2020</td>\n",
       "      <td>1</td>\n",
       "      <td>17</td>\n",
       "      <td>6.0</td>\n",
       "      <td>2.530556</td>\n",
       "    </tr>\n",
       "    <tr>\n",
       "      <th>412227</th>\n",
       "      <td>2</td>\n",
       "      <td>339</td>\n",
       "      <td>10</td>\n",
       "      <td>2021</td>\n",
       "      <td>1</td>\n",
       "      <td>19</td>\n",
       "      <td>2.0</td>\n",
       "      <td>2.000000</td>\n",
       "    </tr>\n",
       "    <tr>\n",
       "      <th>394490</th>\n",
       "      <td>3</td>\n",
       "      <td>5879</td>\n",
       "      <td>19</td>\n",
       "      <td>2021</td>\n",
       "      <td>1</td>\n",
       "      <td>1</td>\n",
       "      <td>6.0</td>\n",
       "      <td>6.105000</td>\n",
       "    </tr>\n",
       "    <tr>\n",
       "      <th>411938</th>\n",
       "      <td>2</td>\n",
       "      <td>9255</td>\n",
       "      <td>3</td>\n",
       "      <td>2021</td>\n",
       "      <td>1</td>\n",
       "      <td>19</td>\n",
       "      <td>2.0</td>\n",
       "      <td>2.000000</td>\n",
       "    </tr>\n",
       "    <tr>\n",
       "      <th>413521</th>\n",
       "      <td>3</td>\n",
       "      <td>9270</td>\n",
       "      <td>9</td>\n",
       "      <td>2021</td>\n",
       "      <td>1</td>\n",
       "      <td>18</td>\n",
       "      <td>6.0</td>\n",
       "      <td>4.645429</td>\n",
       "    </tr>\n",
       "    <tr>\n",
       "      <th>...</th>\n",
       "      <td>...</td>\n",
       "      <td>...</td>\n",
       "      <td>...</td>\n",
       "      <td>...</td>\n",
       "      <td>...</td>\n",
       "      <td>...</td>\n",
       "      <td>...</td>\n",
       "      <td>...</td>\n",
       "    </tr>\n",
       "    <tr>\n",
       "      <th>78032</th>\n",
       "      <td>3</td>\n",
       "      <td>278</td>\n",
       "      <td>34</td>\n",
       "      <td>2019</td>\n",
       "      <td>12</td>\n",
       "      <td>25</td>\n",
       "      <td>6.0</td>\n",
       "      <td>6.624000</td>\n",
       "    </tr>\n",
       "    <tr>\n",
       "      <th>63959</th>\n",
       "      <td>3</td>\n",
       "      <td>11744</td>\n",
       "      <td>38</td>\n",
       "      <td>2019</td>\n",
       "      <td>12</td>\n",
       "      <td>5</td>\n",
       "      <td>8.0</td>\n",
       "      <td>7.742738</td>\n",
       "    </tr>\n",
       "    <tr>\n",
       "      <th>628082</th>\n",
       "      <td>1</td>\n",
       "      <td>9255</td>\n",
       "      <td>3</td>\n",
       "      <td>2021</td>\n",
       "      <td>12</td>\n",
       "      <td>23</td>\n",
       "      <td>3.0</td>\n",
       "      <td>3.625000</td>\n",
       "    </tr>\n",
       "    <tr>\n",
       "      <th>389317</th>\n",
       "      <td>3</td>\n",
       "      <td>14367</td>\n",
       "      <td>44</td>\n",
       "      <td>2020</td>\n",
       "      <td>12</td>\n",
       "      <td>28</td>\n",
       "      <td>6.0</td>\n",
       "      <td>6.450000</td>\n",
       "    </tr>\n",
       "    <tr>\n",
       "      <th>614102</th>\n",
       "      <td>1</td>\n",
       "      <td>11781</td>\n",
       "      <td>34</td>\n",
       "      <td>2021</td>\n",
       "      <td>12</td>\n",
       "      <td>10</td>\n",
       "      <td>3.0</td>\n",
       "      <td>3.134500</td>\n",
       "    </tr>\n",
       "  </tbody>\n",
       "</table>\n",
       "<p>158460 rows × 8 columns</p>\n",
       "</div>"
      ],
      "text/plain": [
       "        Company Name   City  State  Year  Month  Day  Actual  Predicted\n",
       "key_0                                                                  \n",
       "158269             3  13513      4  2020      1   17     6.0   2.530556\n",
       "412227             2    339     10  2021      1   19     2.0   2.000000\n",
       "394490             3   5879     19  2021      1    1     6.0   6.105000\n",
       "411938             2   9255      3  2021      1   19     2.0   2.000000\n",
       "413521             3   9270      9  2021      1   18     6.0   4.645429\n",
       "...              ...    ...    ...   ...    ...  ...     ...        ...\n",
       "78032              3    278     34  2019     12   25     6.0   6.624000\n",
       "63959              3  11744     38  2019     12    5     8.0   7.742738\n",
       "628082             1   9255      3  2021     12   23     3.0   3.625000\n",
       "389317             3  14367     44  2020     12   28     6.0   6.450000\n",
       "614102             1  11781     34  2021     12   10     3.0   3.134500\n",
       "\n",
       "[158460 rows x 8 columns]"
      ]
     },
     "execution_count": 9,
     "metadata": {},
     "output_type": "execute_result"
    }
   ],
   "source": [
    "# cerate df to hold results\n",
    "results_df = pd.DataFrame({\n",
    "    \"Actual\": y_test_all,\n",
    "    \"Predicted\": y_pred1\n",
    "})\n",
    "all_results_df = pd.merge(X_test_all, results_df, on=results_df.index)\n",
    "all_results_df.set_index(['key_0'])"
   ]
  },
  {
   "cell_type": "markdown",
   "id": "a2f2e6b3",
   "metadata": {},
   "source": [
    "# ----------------------------------"
   ]
  },
  {
   "cell_type": "markdown",
   "id": "e110468e",
   "metadata": {},
   "source": [
    "### Split Data into Training and Test sets: Option 2\n",
    "- Split data by using the 2019 and 2020 data for training and the 2021 data for testing. \n",
    "\n",
    "- *Note: RandomForestRegressor does not require data to be scaled*"
   ]
  },
  {
   "cell_type": "code",
   "execution_count": 10,
   "id": "533967db",
   "metadata": {},
   "outputs": [],
   "source": [
    "# Option 2 Train/Test data: Train with 2019 and 2020, Test with 2021  -->  USE THIS OPTION ONCE MORE DATA IS AVAILABLE\n",
    "\n",
    "train_2019_2020 = df.loc[(df['Year'] == 2019) | (df['Year'] == 2020) | (df['Month'] <= 6 )]\n",
    "test_2021 = df.loc[(df['Year'] == 2021) & (df['Month'] > 6)]\n",
    "\n",
    "X_train_2019_2020 = train_2019_2020.drop(columns=['Item/Bottle Count'], axis=1)\n",
    "y_train_2019_2020 = train_2019_2020['Item/Bottle Count']\n",
    "\n",
    "X_test_2021 = test_2021.drop(columns=['Item/Bottle Count'], axis=1)\n",
    "y_test_2021 = test_2021['Item/Bottle Count']"
   ]
  },
  {
   "cell_type": "markdown",
   "id": "c9691ac1",
   "metadata": {},
   "source": [
    "### Build RandomForestRegressor Model"
   ]
  },
  {
   "cell_type": "code",
   "execution_count": 11,
   "id": "b7421b02",
   "metadata": {},
   "outputs": [
    {
     "data": {
      "text/html": [
       "<style>#sk-container-id-2 {color: black;background-color: white;}#sk-container-id-2 pre{padding: 0;}#sk-container-id-2 div.sk-toggleable {background-color: white;}#sk-container-id-2 label.sk-toggleable__label {cursor: pointer;display: block;width: 100%;margin-bottom: 0;padding: 0.3em;box-sizing: border-box;text-align: center;}#sk-container-id-2 label.sk-toggleable__label-arrow:before {content: \"▸\";float: left;margin-right: 0.25em;color: #696969;}#sk-container-id-2 label.sk-toggleable__label-arrow:hover:before {color: black;}#sk-container-id-2 div.sk-estimator:hover label.sk-toggleable__label-arrow:before {color: black;}#sk-container-id-2 div.sk-toggleable__content {max-height: 0;max-width: 0;overflow: hidden;text-align: left;background-color: #f0f8ff;}#sk-container-id-2 div.sk-toggleable__content pre {margin: 0.2em;color: black;border-radius: 0.25em;background-color: #f0f8ff;}#sk-container-id-2 input.sk-toggleable__control:checked~div.sk-toggleable__content {max-height: 200px;max-width: 100%;overflow: auto;}#sk-container-id-2 input.sk-toggleable__control:checked~label.sk-toggleable__label-arrow:before {content: \"▾\";}#sk-container-id-2 div.sk-estimator input.sk-toggleable__control:checked~label.sk-toggleable__label {background-color: #d4ebff;}#sk-container-id-2 div.sk-label input.sk-toggleable__control:checked~label.sk-toggleable__label {background-color: #d4ebff;}#sk-container-id-2 input.sk-hidden--visually {border: 0;clip: rect(1px 1px 1px 1px);clip: rect(1px, 1px, 1px, 1px);height: 1px;margin: -1px;overflow: hidden;padding: 0;position: absolute;width: 1px;}#sk-container-id-2 div.sk-estimator {font-family: monospace;background-color: #f0f8ff;border: 1px dotted black;border-radius: 0.25em;box-sizing: border-box;margin-bottom: 0.5em;}#sk-container-id-2 div.sk-estimator:hover {background-color: #d4ebff;}#sk-container-id-2 div.sk-parallel-item::after {content: \"\";width: 100%;border-bottom: 1px solid gray;flex-grow: 1;}#sk-container-id-2 div.sk-label:hover label.sk-toggleable__label {background-color: #d4ebff;}#sk-container-id-2 div.sk-serial::before {content: \"\";position: absolute;border-left: 1px solid gray;box-sizing: border-box;top: 0;bottom: 0;left: 50%;z-index: 0;}#sk-container-id-2 div.sk-serial {display: flex;flex-direction: column;align-items: center;background-color: white;padding-right: 0.2em;padding-left: 0.2em;position: relative;}#sk-container-id-2 div.sk-item {position: relative;z-index: 1;}#sk-container-id-2 div.sk-parallel {display: flex;align-items: stretch;justify-content: center;background-color: white;position: relative;}#sk-container-id-2 div.sk-item::before, #sk-container-id-2 div.sk-parallel-item::before {content: \"\";position: absolute;border-left: 1px solid gray;box-sizing: border-box;top: 0;bottom: 0;left: 50%;z-index: -1;}#sk-container-id-2 div.sk-parallel-item {display: flex;flex-direction: column;z-index: 1;position: relative;background-color: white;}#sk-container-id-2 div.sk-parallel-item:first-child::after {align-self: flex-end;width: 50%;}#sk-container-id-2 div.sk-parallel-item:last-child::after {align-self: flex-start;width: 50%;}#sk-container-id-2 div.sk-parallel-item:only-child::after {width: 0;}#sk-container-id-2 div.sk-dashed-wrapped {border: 1px dashed gray;margin: 0 0.4em 0.5em 0.4em;box-sizing: border-box;padding-bottom: 0.4em;background-color: white;}#sk-container-id-2 div.sk-label label {font-family: monospace;font-weight: bold;display: inline-block;line-height: 1.2em;}#sk-container-id-2 div.sk-label-container {text-align: center;}#sk-container-id-2 div.sk-container {/* jupyter's `normalize.less` sets `[hidden] { display: none; }` but bootstrap.min.css set `[hidden] { display: none !important; }` so we also need the `!important` here to be able to override the default hidden behavior on the sphinx rendered scikit-learn.org. See: https://github.com/scikit-learn/scikit-learn/issues/21755 */display: inline-block !important;position: relative;}#sk-container-id-2 div.sk-text-repr-fallback {display: none;}</style><div id=\"sk-container-id-2\" class=\"sk-top-container\"><div class=\"sk-text-repr-fallback\"><pre>RandomForestRegressor(random_state=0)</pre><b>In a Jupyter environment, please rerun this cell to show the HTML representation or trust the notebook. <br />On GitHub, the HTML representation is unable to render, please try loading this page with nbviewer.org.</b></div><div class=\"sk-container\" hidden><div class=\"sk-item\"><div class=\"sk-estimator sk-toggleable\"><input class=\"sk-toggleable__control sk-hidden--visually\" id=\"sk-estimator-id-2\" type=\"checkbox\" checked><label for=\"sk-estimator-id-2\" class=\"sk-toggleable__label sk-toggleable__label-arrow\">RandomForestRegressor</label><div class=\"sk-toggleable__content\"><pre>RandomForestRegressor(random_state=0)</pre></div></div></div></div></div>"
      ],
      "text/plain": [
       "RandomForestRegressor(random_state=0)"
      ]
     },
     "execution_count": 11,
     "metadata": {},
     "output_type": "execute_result"
    }
   ],
   "source": [
    "# Option 2 Train/Test data\n",
    "regr_2 = RandomForestRegressor(max_depth=None, random_state=0)\n",
    "regr_2.fit(X_train_2019_2020,y_train_2019_2020)\n",
    "\n",
    "# WILL TAKE ABOUT 3 MINUTES TO COMPLETE"
   ]
  },
  {
   "cell_type": "code",
   "execution_count": 12,
   "id": "67924bf9",
   "metadata": {},
   "outputs": [],
   "source": [
    "# Option 2 Train/Test data\n",
    "y_pred2 = regr_2.predict(X_test_2021)"
   ]
  },
  {
   "cell_type": "markdown",
   "id": "e1100313",
   "metadata": {},
   "source": [
    "### Evaluate the Model"
   ]
  },
  {
   "cell_type": "code",
   "execution_count": 13,
   "id": "e64a74c3",
   "metadata": {},
   "outputs": [
    {
     "name": "stdout",
     "output_type": "stream",
     "text": [
      "Evaluate model: Option 2 Train/Test data\n",
      "----------------------------------------\n",
      "Training R-Squared:  0.8721242265463877\n",
      "Test R-Squared:  -7.881679147275898\n",
      "Root Mean Squared Error:  10.458983938558172\n",
      "Mean Absolute Error:  1.8668916751691174\n"
     ]
    }
   ],
   "source": [
    "# Scores for model with Option 2 Train/Test data\n",
    "print(\"Evaluate model: Option 2 Train/Test data\")\n",
    "print(\"----------------------------------------\")\n",
    "\n",
    "# Training Score\n",
    "print(\"Training R-Squared: \", regr_2.score(X_train_2019_2020,y_train_2019_2020))\n",
    "\n",
    "# Test Score\n",
    "print(\"Test R-Squared: \", regr_2.score(X_test_2021, y_test_2021))\n",
    "\n",
    "# Root Mean Squared Error\n",
    "print(\"Root Mean Squared Error: \", mean_squared_error(y_test_2021, y_pred2, squared=False))\n",
    "\n",
    "# Mean Absolute Error\n",
    "print(\"Mean Absolute Error: \", mean_absolute_error(y_test_2021, y_pred2))\n",
    "\n",
    "\n",
    "# This model performs poorly and may be better to use once more years of data are available."
   ]
  },
  {
   "cell_type": "markdown",
   "id": "0a772861",
   "metadata": {},
   "source": [
    "### Visualize Model Results"
   ]
  },
  {
   "cell_type": "code",
   "execution_count": 14,
   "id": "b058ec8b",
   "metadata": {},
   "outputs": [],
   "source": [
    " # cerate df to hold results\n",
    "results2_df = pd.DataFrame({\n",
    "    \"Actual\": y_test_2021,\n",
    "    \"Predicted\": y_pred2\n",
    "})\n",
    "all_results2_df = pd.merge(X_test_2021, results2_df, on=results2_df.index)\n",
    "all_results2_df = all_results2_df.set_index(['key_0'])"
   ]
  },
  {
   "cell_type": "code",
   "execution_count": 16,
   "id": "c4c831a6",
   "metadata": {},
   "outputs": [],
   "source": [
    "# Plot line graph with all three years of data and model predictions\n",
    "\n",
    "# 2019 Data\n",
    "actual_count_2019 = df.loc[df['Year'] == 2019].groupby(['Year', 'Month']).sum().drop(\n",
    "    columns=['Company Name','City', 'State', 'Day'])\n",
    "actual_count_2019.reset_index(inplace=True)\n",
    "\n",
    "# 2020 Data\n",
    "actual_count_2020 = df.loc[df['Year'] == 2020].groupby(['Year', 'Month']).sum().drop(\n",
    "    columns=['Company Name','City', 'State', 'Day'])\n",
    "actual_count_2020.reset_index(inplace=True)\n",
    "\n",
    "# 2021 Data\n",
    "actual_count_2021 = df.loc[df['Year'] == 2021].groupby(['Year', 'Month']).sum().drop(\n",
    "    columns=['Company Name','City', 'State', 'Day'])\n",
    "actual_count_2021.reset_index(inplace=True)\n",
    "\n",
    "# Model Predictions\n",
    "predicted_count = all_results2_df.groupby(['Year', 'Month']).sum().drop(\n",
    "    columns=['Company Name','City', 'State', 'Day'])\n",
    "predicted_count.reset_index(inplace=True)\n"
   ]
  },
  {
   "cell_type": "code",
   "execution_count": 17,
   "id": "d4be261a",
   "metadata": {},
   "outputs": [],
   "source": [
    "# X-Axis: Months\n",
    "x_2019 = actual_count_2019['Month']\n",
    "x_2020 = actual_count_2020['Month']\n",
    "x_2021 = actual_count_2021['Month']\n",
    "x_pred = predicted_count['Month']\n",
    "\n",
    "# Y-Axis: 2019, 2020, 2021, Predictions\n",
    "y_2019 = actual_count_2019['Item/Bottle Count']\n",
    "y_2020 = actual_count_2020['Item/Bottle Count']\n",
    "y_2021 = actual_count_2021['Item/Bottle Count']\n",
    "y_predicted = predicted_count['Predicted']\n"
   ]
  },
  {
   "cell_type": "code",
   "execution_count": 18,
   "id": "8e220235",
   "metadata": {},
   "outputs": [
    {
     "data": {
      "text/plain": [
       "<matplotlib.legend.Legend at 0x1df0cdeaaf0>"
      ]
     },
     "execution_count": 18,
     "metadata": {},
     "output_type": "execute_result"
    },
    {
     "data": {
      "image/png": "[encoded data removed]",
      "text/plain": [
       "<Figure size 2000x500 with 3 Axes>"
      ]
     },
     "metadata": {},
     "output_type": "display_data"
    }
   ],
   "source": [
    "# Plot using multiple subplots\n",
    "fig, axs = plt.subplots(1,3, sharey=True, figsize=[20,5])\n",
    "fig.suptitle(\"Total Bottles Purchased per Month\")\n",
    "\n",
    "axs[0].plot(x_2019, y_2019)\n",
    "axs[0].set_xlabel('2019')\n",
    "axs[0].set_ylabel('Total Bottles')\n",
    "axs[0].xaxis.set_ticks([1,2,3,4,5,6,7,8,9,10,11,12])\n",
    "\n",
    "axs[1].plot(x_2020, y_2020)\n",
    "axs[1].set_xlabel('2020')\n",
    "axs[1].xaxis.set_ticks([1,2,3,4,5,6,7,8,9,10,11,12])\n",
    "\n",
    "axs[2].plot(x_2021, y_2021, label='Actual')\n",
    "axs[2].plot(x_pred, y_predicted, c='red', label='Predicted')\n",
    "axs[2].set_xlabel('2021')\n",
    "axs[2].xaxis.set_ticks([1,2,3,4,5,6,7,8,9,10,11,12])\n",
    "\n",
    "axs[2].legend()"
   ]
  },
  {
   "cell_type": "code",
   "execution_count": null,
   "id": "7fb6bb92",
   "metadata": {},
   "outputs": [],
   "source": []
  }
 ],
 "metadata": {
  "kernelspec": {
   "display_name": "Python 3.7.13 ('base')",
   "language": "python",
   "name": "python3"
  },
  "language_info": {
   "codemirror_mode": {
    "name": "ipython",
    "version": 3
   },
   "file_extension": ".py",
   "mimetype": "text/x-python",
   "name": "python",
   "nbconvert_exporter": "python",
   "pygments_lexer": "ipython3",
   "version": "3.9.13"
  },
  "vscode": {
   "interpreter": {
    "hash": "bba64072ecd06d1af2566b479e1eaae0ad85b48a4f764fe3f6caae46bebdb916"
   }
  }
 },
 "nbformat": 4,
 "nbformat_minor": 5
}
