{
 "cells": [
  {
   "cell_type": "markdown",
   "id": "da13aae1",
   "metadata": {},
   "source": [
    "### Import Dependencies"
   ]
  },
  {
   "cell_type": "code",
   "execution_count": 13,
   "id": "9a3655e9",
   "metadata": {},
   "outputs": [],
   "source": [
    "import pandas as pd\n",
    "from sklearn.model_selection import train_test_split\n",
    "from sklearn.ensemble import RandomForestRegressor\n",
    "from sklearn.metrics import mean_squared_error, mean_absolute_error\n",
    "import matplotlib.pyplot as plt"
   ]
  },
  {
   "cell_type": "markdown",
   "id": "eb58deda",
   "metadata": {},
   "source": [
    "### Load Data"
   ]
  },
  {
   "cell_type": "code",
   "execution_count": 14,
   "id": "d109b121",
   "metadata": {},
   "outputs": [
    {
     "data": {
      "text/html": [
       "<div>\n",
       "<style scoped>\n",
       "    .dataframe tbody tr th:only-of-type {\n",
       "        vertical-align: middle;\n",
       "    }\n",
       "\n",
       "    .dataframe tbody tr th {\n",
       "        vertical-align: top;\n",
       "    }\n",
       "\n",
       "    .dataframe thead th {\n",
       "        text-align: right;\n",
       "    }\n",
       "</style>\n",
       "<table border=\"1\" class=\"dataframe\">\n",
       "  <thead>\n",
       "    <tr style=\"text-align: right;\">\n",
       "      <th></th>\n",
       "      <th>Unnamed: 0</th>\n",
       "      <th>Company Name</th>\n",
       "      <th>City</th>\n",
       "      <th>State</th>\n",
       "      <th>Shipping Service</th>\n",
       "      <th>Created Date</th>\n",
       "      <th>Item/Bottle Count</th>\n",
       "    </tr>\n",
       "  </thead>\n",
       "  <tbody>\n",
       "    <tr>\n",
       "      <th>0</th>\n",
       "      <td>0</td>\n",
       "      <td>3</td>\n",
       "      <td>7981</td>\n",
       "      <td>9</td>\n",
       "      <td>14</td>\n",
       "      <td>1/1/20</td>\n",
       "      <td>3.0</td>\n",
       "    </tr>\n",
       "    <tr>\n",
       "      <th>1</th>\n",
       "      <td>1</td>\n",
       "      <td>3</td>\n",
       "      <td>5188</td>\n",
       "      <td>4</td>\n",
       "      <td>14</td>\n",
       "      <td>12/31/19</td>\n",
       "      <td>10.0</td>\n",
       "    </tr>\n",
       "    <tr>\n",
       "      <th>2</th>\n",
       "      <td>2</td>\n",
       "      <td>3</td>\n",
       "      <td>6939</td>\n",
       "      <td>34</td>\n",
       "      <td>1</td>\n",
       "      <td>1/1/20</td>\n",
       "      <td>8.0</td>\n",
       "    </tr>\n",
       "    <tr>\n",
       "      <th>3</th>\n",
       "      <td>3</td>\n",
       "      <td>3</td>\n",
       "      <td>6939</td>\n",
       "      <td>34</td>\n",
       "      <td>1</td>\n",
       "      <td>1/2/20</td>\n",
       "      <td>6.0</td>\n",
       "    </tr>\n",
       "    <tr>\n",
       "      <th>4</th>\n",
       "      <td>4</td>\n",
       "      <td>3</td>\n",
       "      <td>10666</td>\n",
       "      <td>20</td>\n",
       "      <td>4</td>\n",
       "      <td>12/31/19</td>\n",
       "      <td>12.0</td>\n",
       "    </tr>\n",
       "  </tbody>\n",
       "</table>\n",
       "</div>"
      ],
      "text/plain": [
       "   Unnamed: 0  Company Name   City  State  Shipping Service Created Date  \\\n",
       "0           0             3   7981      9                14       1/1/20   \n",
       "1           1             3   5188      4                14     12/31/19   \n",
       "2           2             3   6939     34                 1       1/1/20   \n",
       "3           3             3   6939     34                 1       1/2/20   \n",
       "4           4             3  10666     20                 4     12/31/19   \n",
       "\n",
       "   Item/Bottle Count  \n",
       "0                3.0  \n",
       "1               10.0  \n",
       "2                8.0  \n",
       "3                6.0  \n",
       "4               12.0  "
      ]
     },
     "execution_count": 14,
     "metadata": {},
     "output_type": "execute_result"
    }
   ],
   "source": [
    "file = 'preprocessed_data.csv'\n",
    "df = pd.read_csv(file)\n",
    "df.head()"
   ]
  },
  {
   "cell_type": "markdown",
   "id": "575edb7c",
   "metadata": {},
   "source": [
    "### Split Data into Training and Test sets\n",
    "- RandomForestRegressor cannot extrapolate values outside of what is in the training data, therefore we should include random samples from every month of the year in the training data set.\n",
    "\n",
    "- We will not scale the input features as it is unnecessary for RandomForest models. This will also make it easier to interpret the outcomes."
   ]
  },
  {
   "cell_type": "code",
   "execution_count": 15,
   "id": "36f71728",
   "metadata": {},
   "outputs": [],
   "source": [
    "# convert 'Created Date' to datetime format\n",
    "df['Created Date'] = pd.to_datetime(df['Created Date'], infer_datetime_format=True)\n",
    "\n",
    "# create column to hold 'Month' values\n",
    "df['Month'] = df['Created Date'].dt.month"
   ]
  },
  {
   "cell_type": "code",
   "execution_count": 16,
   "id": "b1a4138d",
   "metadata": {},
   "outputs": [],
   "source": [
    "# split data by month\n",
    "jan_df = df.loc[df['Month'] == 1]\n",
    "feb_df = df.loc[df['Month'] == 2]\n",
    "mar_df = df.loc[df['Month'] == 3]\n",
    "apr_df = df.loc[df['Month'] == 4]\n",
    "may_df = df.loc[df['Month'] == 5]\n",
    "june_df = df.loc[df['Month'] == 6]\n",
    "july_df = df.loc[df['Month'] == 7]\n",
    "aug_df = df.loc[df['Month'] == 8]\n",
    "sep_df = df.loc[df['Month'] == 9]\n",
    "oct_df = df.loc[df['Month'] == 10]\n",
    "nov_df = df.loc[df['Month'] == 11]\n",
    "dec_df = df.loc[df['Month'] == 12]\n"
   ]
  },
  {
   "cell_type": "code",
   "execution_count": 17,
   "id": "8902cdef",
   "metadata": {},
   "outputs": [],
   "source": [
    "# get random training data from each month\n",
    "\n",
    "# January\n",
    "X_jan = jan_df.drop(columns=['Created Date','Item/Bottle Count'], axis=1)\n",
    "y_jan = jan_df['Item/Bottle Count']\n",
    "X_train_jan, X_test_jan, y_train_jan, y_test_jan = train_test_split(X_jan, y_jan, random_state=1)\n",
    "\n",
    "# February\n",
    "X_feb = feb_df.drop(columns=['Created Date','Item/Bottle Count'], axis=1)\n",
    "y_feb = feb_df['Item/Bottle Count']\n",
    "X_train_feb, X_test_feb, y_train_feb, y_test_feb = train_test_split(X_feb, y_feb, random_state=1)\n",
    "\n",
    "# March\n",
    "X_mar = mar_df.drop(columns=['Created Date','Item/Bottle Count'], axis=1)\n",
    "y_mar = mar_df['Item/Bottle Count']\n",
    "X_train_mar, X_test_mar, y_train_mar, y_test_mar = train_test_split(X_mar, y_mar, random_state=1)\n",
    "\n",
    "# April\n",
    "X_apr = apr_df.drop(columns=['Created Date','Item/Bottle Count'], axis=1)\n",
    "y_apr = apr_df['Item/Bottle Count']\n",
    "X_train_apr, X_test_apr, y_train_apr, y_test_apr = train_test_split(X_apr, y_apr, random_state=1)\n",
    "\n",
    "# May\n",
    "X_may = may_df.drop(columns=['Created Date','Item/Bottle Count'], axis=1)\n",
    "y_may = may_df['Item/Bottle Count']\n",
    "X_train_may, X_test_may, y_train_may, y_test_may = train_test_split(X_may, y_may, random_state=1)\n",
    "\n",
    "# June\n",
    "X_june = june_df.drop(columns=['Created Date','Item/Bottle Count'], axis=1)\n",
    "y_june = june_df['Item/Bottle Count']\n",
    "X_train_june, X_test_june, y_train_june, y_test_june = train_test_split(X_june, y_june, random_state=1)\n",
    "\n",
    "# July\n",
    "X_july = july_df.drop(columns=['Created Date','Item/Bottle Count'], axis=1)\n",
    "y_july = july_df['Item/Bottle Count']\n",
    "X_train_july, X_test_july, y_train_july, y_test_july = train_test_split(X_july, y_july, random_state=1)\n",
    "\n",
    "# August\n",
    "X_aug = aug_df.drop(columns=['Created Date','Item/Bottle Count'], axis=1)\n",
    "y_aug = aug_df['Item/Bottle Count']\n",
    "X_train_aug, X_test_aug, y_train_aug, y_test_aug = train_test_split(X_aug, y_aug, random_state=1)\n",
    "\n",
    "# September\n",
    "X_sep = sep_df.drop(columns=['Created Date','Item/Bottle Count'], axis=1)\n",
    "y_sep = sep_df['Item/Bottle Count']\n",
    "X_train_sep, X_test_sep, y_train_sep, y_test_sep = train_test_split(X_sep, y_sep, random_state=1)\n",
    "\n",
    "# October\n",
    "X_oct = oct_df.drop(columns=['Created Date','Item/Bottle Count'], axis=1)\n",
    "y_oct = oct_df['Item/Bottle Count']\n",
    "X_train_oct, X_test_oct, y_train_oct, y_test_oct = train_test_split(X_oct, y_oct, random_state=1)\n",
    "\n",
    "# November\n",
    "X_nov = nov_df.drop(columns=['Created Date','Item/Bottle Count'], axis=1)\n",
    "y_nov = nov_df['Item/Bottle Count']\n",
    "X_train_nov, X_test_nov, y_train_nov, y_test_nov = train_test_split(X_nov, y_nov, random_state=1)\n",
    "\n",
    "# December\n",
    "X_dec = dec_df.drop(columns=['Created Date','Item/Bottle Count'], axis=1)\n",
    "y_dec = dec_df['Item/Bottle Count']\n",
    "X_train_dec, X_test_dec, y_train_dec, y_test_dec = train_test_split(X_dec, y_dec, random_state=1)\n"
   ]
  },
  {
   "cell_type": "code",
   "execution_count": 18,
   "id": "dec0076a",
   "metadata": {},
   "outputs": [
    {
     "name": "stdout",
     "output_type": "stream",
     "text": [
      "(176997, 6) (176997,) (59006, 6) (59006,)\n"
     ]
    }
   ],
   "source": [
    "# combine training and test data from all months into X_train_all, X_test_all, y_train_all, y_test_all\n",
    "# https://pandas.pydata.org/pandas-docs/stable/reference/api/pandas.concat.html\n",
    "\n",
    "X_train_all = pd.concat([X_train_jan,\n",
    "    X_train_feb,\n",
    "    X_train_mar,\n",
    "    X_train_apr,\n",
    "    X_train_may,\n",
    "    X_train_june,\n",
    "    X_train_july,\n",
    "    X_train_aug,\n",
    "    X_train_sep,\n",
    "    X_train_oct,\n",
    "    X_train_nov,\n",
    "    X_train_dec])\n",
    "\n",
    "X_test_all = pd.concat([X_test_jan,\n",
    "    X_test_feb,\n",
    "    X_test_mar,\n",
    "    X_test_apr,\n",
    "    X_test_may,\n",
    "    X_test_june,\n",
    "    X_test_july,\n",
    "    X_test_aug,\n",
    "    X_test_sep,\n",
    "    X_test_oct,\n",
    "    X_test_nov,\n",
    "    X_test_dec])\n",
    "\n",
    "y_train_all = pd.concat([y_train_jan,\n",
    "    y_train_feb,\n",
    "    y_train_mar,\n",
    "    y_train_apr,\n",
    "    y_train_may,\n",
    "    y_train_june,\n",
    "    y_train_july,\n",
    "    y_train_aug,\n",
    "    y_train_sep,\n",
    "    y_train_oct,\n",
    "    y_train_nov,\n",
    "    y_train_dec])\n",
    "\n",
    "y_test_all = pd.concat([y_test_jan,\n",
    "    y_test_feb,\n",
    "    y_test_mar,\n",
    "    y_test_apr,\n",
    "    y_test_may,\n",
    "    y_test_june,\n",
    "    y_test_july,\n",
    "    y_test_aug,\n",
    "    y_test_sep,\n",
    "    y_test_oct,\n",
    "    y_test_nov,\n",
    "    y_test_dec])\n",
    "\n",
    "print(X_train_all.shape, y_train_all.shape,\n",
    "    X_test_all.shape, y_test_all.shape)"
   ]
  },
  {
   "cell_type": "markdown",
   "id": "9f61a268",
   "metadata": {},
   "source": [
    "### Build RandomForestRegressor Model"
   ]
  },
  {
   "cell_type": "code",
   "execution_count": 19,
   "id": "84e62c2d",
   "metadata": {},
   "outputs": [
    {
     "data": {
      "text/html": [
       "<style>#sk-container-id-2 {color: black;background-color: white;}#sk-container-id-2 pre{padding: 0;}#sk-container-id-2 div.sk-toggleable {background-color: white;}#sk-container-id-2 label.sk-toggleable__label {cursor: pointer;display: block;width: 100%;margin-bottom: 0;padding: 0.3em;box-sizing: border-box;text-align: center;}#sk-container-id-2 label.sk-toggleable__label-arrow:before {content: \"▸\";float: left;margin-right: 0.25em;color: #696969;}#sk-container-id-2 label.sk-toggleable__label-arrow:hover:before {color: black;}#sk-container-id-2 div.sk-estimator:hover label.sk-toggleable__label-arrow:before {color: black;}#sk-container-id-2 div.sk-toggleable__content {max-height: 0;max-width: 0;overflow: hidden;text-align: left;background-color: #f0f8ff;}#sk-container-id-2 div.sk-toggleable__content pre {margin: 0.2em;color: black;border-radius: 0.25em;background-color: #f0f8ff;}#sk-container-id-2 input.sk-toggleable__control:checked~div.sk-toggleable__content {max-height: 200px;max-width: 100%;overflow: auto;}#sk-container-id-2 input.sk-toggleable__control:checked~label.sk-toggleable__label-arrow:before {content: \"▾\";}#sk-container-id-2 div.sk-estimator input.sk-toggleable__control:checked~label.sk-toggleable__label {background-color: #d4ebff;}#sk-container-id-2 div.sk-label input.sk-toggleable__control:checked~label.sk-toggleable__label {background-color: #d4ebff;}#sk-container-id-2 input.sk-hidden--visually {border: 0;clip: rect(1px 1px 1px 1px);clip: rect(1px, 1px, 1px, 1px);height: 1px;margin: -1px;overflow: hidden;padding: 0;position: absolute;width: 1px;}#sk-container-id-2 div.sk-estimator {font-family: monospace;background-color: #f0f8ff;border: 1px dotted black;border-radius: 0.25em;box-sizing: border-box;margin-bottom: 0.5em;}#sk-container-id-2 div.sk-estimator:hover {background-color: #d4ebff;}#sk-container-id-2 div.sk-parallel-item::after {content: \"\";width: 100%;border-bottom: 1px solid gray;flex-grow: 1;}#sk-container-id-2 div.sk-label:hover label.sk-toggleable__label {background-color: #d4ebff;}#sk-container-id-2 div.sk-serial::before {content: \"\";position: absolute;border-left: 1px solid gray;box-sizing: border-box;top: 0;bottom: 0;left: 50%;z-index: 0;}#sk-container-id-2 div.sk-serial {display: flex;flex-direction: column;align-items: center;background-color: white;padding-right: 0.2em;padding-left: 0.2em;position: relative;}#sk-container-id-2 div.sk-item {position: relative;z-index: 1;}#sk-container-id-2 div.sk-parallel {display: flex;align-items: stretch;justify-content: center;background-color: white;position: relative;}#sk-container-id-2 div.sk-item::before, #sk-container-id-2 div.sk-parallel-item::before {content: \"\";position: absolute;border-left: 1px solid gray;box-sizing: border-box;top: 0;bottom: 0;left: 50%;z-index: -1;}#sk-container-id-2 div.sk-parallel-item {display: flex;flex-direction: column;z-index: 1;position: relative;background-color: white;}#sk-container-id-2 div.sk-parallel-item:first-child::after {align-self: flex-end;width: 50%;}#sk-container-id-2 div.sk-parallel-item:last-child::after {align-self: flex-start;width: 50%;}#sk-container-id-2 div.sk-parallel-item:only-child::after {width: 0;}#sk-container-id-2 div.sk-dashed-wrapped {border: 1px dashed gray;margin: 0 0.4em 0.5em 0.4em;box-sizing: border-box;padding-bottom: 0.4em;background-color: white;}#sk-container-id-2 div.sk-label label {font-family: monospace;font-weight: bold;display: inline-block;line-height: 1.2em;}#sk-container-id-2 div.sk-label-container {text-align: center;}#sk-container-id-2 div.sk-container {/* jupyter's `normalize.less` sets `[hidden] { display: none; }` but bootstrap.min.css set `[hidden] { display: none !important; }` so we also need the `!important` here to be able to override the default hidden behavior on the sphinx rendered scikit-learn.org. See: https://github.com/scikit-learn/scikit-learn/issues/21755 */display: inline-block !important;position: relative;}#sk-container-id-2 div.sk-text-repr-fallback {display: none;}</style><div id=\"sk-container-id-2\" class=\"sk-top-container\"><div class=\"sk-text-repr-fallback\"><pre>RandomForestRegressor()</pre><b>In a Jupyter environment, please rerun this cell to show the HTML representation or trust the notebook. <br />On GitHub, the HTML representation is unable to render, please try loading this page with nbviewer.org.</b></div><div class=\"sk-container\" hidden><div class=\"sk-item\"><div class=\"sk-estimator sk-toggleable\"><input class=\"sk-toggleable__control sk-hidden--visually\" id=\"sk-estimator-id-2\" type=\"checkbox\" checked><label for=\"sk-estimator-id-2\" class=\"sk-toggleable__label sk-toggleable__label-arrow\">RandomForestRegressor</label><div class=\"sk-toggleable__content\"><pre>RandomForestRegressor()</pre></div></div></div></div></div>"
      ],
      "text/plain": [
       "RandomForestRegressor()"
      ]
     },
     "execution_count": 19,
     "metadata": {},
     "output_type": "execute_result"
    }
   ],
   "source": [
    "# Build model with all months sampled\n",
    "\n",
    "# Fit classifier models with different max_depth\n",
    "regr_1 = RandomForestRegressor(max_depth=5)\n",
    "regr_2 = RandomForestRegressor(max_depth=10)\n",
    "regr_3 = RandomForestRegressor(max_depth=20)\n",
    "regr_4 = RandomForestRegressor(max_depth=None)\n",
    "\n",
    "regr_1.fit(X_train_all,y_train_all)\n",
    "regr_2.fit(X_train_all,y_train_all)\n",
    "regr_3.fit(X_train_all,y_train_all)\n",
    "regr_4.fit(X_train_all,y_train_all)\n",
    "\n",
    "# WILL TAKE ABOUT 6 MINUTES TO COMPLETE"
   ]
  },
  {
   "cell_type": "code",
   "execution_count": 20,
   "id": "57e5d55a",
   "metadata": {},
   "outputs": [],
   "source": [
    "y_pred1 = regr_1.predict(X_test_all)\n",
    "y_pred2 = regr_2.predict(X_test_all)\n",
    "y_pred3 = regr_3.predict(X_test_all)\n",
    "y_pred4 = regr_4.predict(X_test_all)"
   ]
  },
  {
   "cell_type": "markdown",
   "id": "9bbdb821",
   "metadata": {},
   "source": [
    "### Evaluate the Model: How well does the model predict the target variable?\n",
    "- Mean Squared Error (MSE): mean or average of the squared differences between predicted and target values.\n",
    "    - unit of measurement = squared 'Item/Bottle Count'\n",
    "    - errors = mean_squared_error(expected, predicted)\n",
    "- Root Mean Squared Error (RMSE): square root of MSE.\n",
    "    - unit of measurement = 'Item/Bottle Count'\n",
    "    - ex: errors = mean_squared_error(y_expected, y_predicted, squared=False)\n",
    "- Mean Absolute Error (MAE): mean or average of the absolute error or difference between predicted and target values.\n",
    "    - unit of measurement = 'Item/Bottle Count'\n",
    "    - ex: errors = mean_absolute_error(y_expected, y_predicted)"
   ]
  },
  {
   "cell_type": "code",
   "execution_count": 21,
   "id": "05b73dbe",
   "metadata": {},
   "outputs": [
    {
     "name": "stdout",
     "output_type": "stream",
     "text": [
      "----------------------------------------\n",
      "Evaluate model\n",
      "----------------------------------------\n",
      "Training Score Max Depth=5:  0.6918098226796197\n",
      "Training Score Max Depth=10:  0.7807273914132054\n",
      "Training Score Max Depth=20:  0.8180447574116149\n",
      "Training Score Max Depth=None:  0.8678585886574459\n",
      "----------------------------------------\n",
      "Test Score Max Depth=5:  0.08779231496079287\n",
      "Test Score Max Depth=10:  0.03379880325854623\n",
      "Test Score Max Depth=20:  0.019923696399207214\n",
      "Test Score Max Depth=None:  0.023785957628622345\n",
      "----------------------------------------\n",
      "Mean Squared Error:  151.40763942532567\n",
      "Mean Squared Error:  160.36944744908672\n",
      "Mean Squared Error:  162.6724286789109\n",
      "Mean Squared Error:  162.03137306714572\n",
      "----------------------------------------\n",
      "Root Mean Squared Error:  12.304781161212322\n",
      "Root Mean Squared Error:  12.663705912926387\n",
      "Root Mean Squared Error:  12.754310200042609\n",
      "Root Mean Squared Error:  12.729154452167894\n",
      "----------------------------------------\n",
      "Mean Absolute Error:  1.7513261194329002\n",
      "Mean Absolute Error:  1.6880971102361613\n",
      "Mean Absolute Error:  1.6378518287406434\n",
      "Mean Absolute Error:  1.7067816832186558\n"
     ]
    }
   ],
   "source": [
    "# Scores for model with all months sampled\n",
    "\n",
    "print(\"----------------------------------------\")\n",
    "print(\"Evaluate model\")\n",
    "print(\"----------------------------------------\")\n",
    "# Training Score\n",
    "print(\"Training Score Max Depth=5: \", regr_1.score(X_train_all,y_train_all))\n",
    "print(\"Training Score Max Depth=10: \", regr_2.score(X_train_all,y_train_all))\n",
    "print(\"Training Score Max Depth=20: \", regr_3.score(X_train_all,y_train_all))\n",
    "print(\"Training Score Max Depth=None: \", regr_4.score(X_train_all,y_train_all))\n",
    "\n",
    "print(\"----------------------------------------\")\n",
    "# Test Score\n",
    "print(\"Test Score Max Depth=5: \", regr_1.score(X_test_all, y_test_all))\n",
    "print(\"Test Score Max Depth=10: \", regr_2.score(X_test_all, y_test_all))\n",
    "print(\"Test Score Max Depth=20: \", regr_3.score(X_test_all, y_test_all))\n",
    "print(\"Test Score Max Depth=None: \", regr_4.score(X_test_all, y_test_all))\n",
    "\n",
    "print(\"----------------------------------------\")\n",
    "# Mean Squared Error\n",
    "print(\"Mean Squared Error: \", mean_squared_error(y_test_all, y_pred1))\n",
    "print(\"Mean Squared Error: \", mean_squared_error(y_test_all, y_pred2))\n",
    "print(\"Mean Squared Error: \", mean_squared_error(y_test_all, y_pred3))\n",
    "print(\"Mean Squared Error: \", mean_squared_error(y_test_all, y_pred4))\n",
    "\n",
    "print(\"----------------------------------------\")\n",
    "# Root Mean Squared Error\n",
    "print(\"Root Mean Squared Error: \", mean_squared_error(y_test_all, y_pred1, squared=False))\n",
    "print(\"Root Mean Squared Error: \", mean_squared_error(y_test_all, y_pred2, squared=False))\n",
    "print(\"Root Mean Squared Error: \", mean_squared_error(y_test_all, y_pred3, squared=False))\n",
    "print(\"Root Mean Squared Error: \", mean_squared_error(y_test_all, y_pred4, squared=False))\n",
    "\n",
    "print(\"----------------------------------------\")\n",
    "# Mean Absolute Error\n",
    "print(\"Mean Absolute Error: \", mean_absolute_error(y_test_all, y_pred1))\n",
    "print(\"Mean Absolute Error: \", mean_absolute_error(y_test_all, y_pred2))\n",
    "print(\"Mean Absolute Error: \", mean_absolute_error(y_test_all, y_pred3))\n",
    "print(\"Mean Absolute Error: \", mean_absolute_error(y_test_all, y_pred4))"
   ]
  },
  {
   "cell_type": "code",
   "execution_count": null,
   "id": "e64a74c3",
   "metadata": {},
   "outputs": [],
   "source": []
  },
  {
   "cell_type": "code",
   "execution_count": null,
   "id": "c521032d",
   "metadata": {},
   "outputs": [],
   "source": []
  },
  {
   "cell_type": "code",
   "execution_count": null,
   "id": "73cba6f8",
   "metadata": {},
   "outputs": [],
   "source": []
  },
  {
   "cell_type": "code",
   "execution_count": null,
   "id": "3a11e83e",
   "metadata": {},
   "outputs": [],
   "source": []
  },
  {
   "cell_type": "code",
   "execution_count": null,
   "id": "88f08520",
   "metadata": {},
   "outputs": [],
   "source": []
  },
  {
   "cell_type": "code",
   "execution_count": null,
   "id": "e7e0d268",
   "metadata": {},
   "outputs": [],
   "source": []
  },
  {
   "cell_type": "code",
   "execution_count": null,
   "id": "aa29093f",
   "metadata": {},
   "outputs": [],
   "source": []
  },
  {
   "cell_type": "code",
   "execution_count": 22,
   "id": "6beb63e2",
   "metadata": {},
   "outputs": [
    {
     "data": {
      "text/plain": [
       "<matplotlib.collections.PathCollection at 0x1e104cd1760>"
      ]
     },
     "execution_count": 22,
     "metadata": {},
     "output_type": "execute_result"
    },
    {
     "data": {
      "image/png": "[encoded data removed]",
      "text/plain": [
       "<Figure size 640x480 with 1 Axes>"
      ]
     },
     "metadata": {},
     "output_type": "display_data"
    }
   ],
   "source": [
    "# Plot 'Item/Bottle Count' with 'Month'\n",
    "\n",
    "# True Test Dataset\n",
    "plt.scatter(X_test_all['Month'].values, y_test_all, color='black')\n",
    "\n",
    "# Max Depth = None\n",
    "plt.scatter(X_test_all['Month'].values, y_pred4)\n"
   ]
  }
 ],
 "metadata": {
  "kernelspec": {
   "display_name": "Python 3.7.13 ('base')",
   "language": "python",
   "name": "python3"
  },
  "language_info": {
   "codemirror_mode": {
    "name": "ipython",
    "version": 3
   },
   "file_extension": ".py",
   "mimetype": "text/x-python",
   "name": "python",
   "nbconvert_exporter": "python",
   "pygments_lexer": "ipython3",
   "version": "3.9.13"
  },
  "vscode": {
   "interpreter": {
    "hash": "bba64072ecd06d1af2566b479e1eaae0ad85b48a4f764fe3f6caae46bebdb916"
   }
  }
 },
 "nbformat": 4,
 "nbformat_minor": 5
}
