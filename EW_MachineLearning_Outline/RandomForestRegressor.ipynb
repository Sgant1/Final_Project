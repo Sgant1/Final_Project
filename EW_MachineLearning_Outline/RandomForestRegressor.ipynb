{
 "cells": [
  {
   "cell_type": "markdown",
   "id": "da13aae1",
   "metadata": {},
   "source": [
    "### Import Dependencies"
   ]
  },
  {
   "cell_type": "code",
   "execution_count": 1,
   "id": "9a3655e9",
   "metadata": {},
   "outputs": [],
   "source": [
    "import pandas as pd\n",
    "from sklearn.model_selection import train_test_split\n",
    "from sklearn.ensemble import RandomForestRegressor\n",
    "from sklearn.preprocessing import MinMaxScaler"
   ]
  },
  {
   "cell_type": "markdown",
   "id": "eb58deda",
   "metadata": {},
   "source": [
    "### Load Data"
   ]
  },
  {
   "cell_type": "code",
   "execution_count": null,
   "id": "d109b121",
   "metadata": {},
   "outputs": [],
   "source": [
    "file = 'preprocessed_data.csv'\n",
    "df = pd.read_csv(file)\n",
    "df.head()"
   ]
  },
  {
   "cell_type": "markdown",
   "id": "575edb7c",
   "metadata": {},
   "source": [
    "### Scale and Split Data\n",
    "##### Need to drop 'Weight' column completely because it has float variables and cannot be predicted in the classifier model without additional preprocessing"
   ]
  },
  {
   "cell_type": "code",
   "execution_count": null,
   "id": "3ea7ad99",
   "metadata": {},
   "outputs": [],
   "source": [
    "# split into features and target\n",
    "X = df.drop(columns=['Weight','Item/Bottle Count'], axis=1)\n",
    "y = df['Item/Bottle Count']\n",
    "\n",
    "X_train, X_test, y_train, y_test = train_test_split(X, y, random_state=1)"
   ]
  },
  {
   "cell_type": "code",
   "execution_count": null,
   "id": "3305415c",
   "metadata": {},
   "outputs": [],
   "source": [
    "# scale the data\n",
    "scaler = MinMaxScaler()\n",
    "X_scaler = scaler.fit(X_train)\n",
    "X_train_scaled = X_scaler.transform(X_train)\n",
    "X_test_scaled = X_scaler.transform(X_test)"
   ]
  },
  {
   "cell_type": "markdown",
   "id": "9f61a268",
   "metadata": {},
   "source": [
    "### Build RandomForestRegressor Model"
   ]
  },
  {
   "cell_type": "code",
   "execution_count": null,
   "id": "84e62c2d",
   "metadata": {},
   "outputs": [],
   "source": [
    "# Fit classifier models with different max_depth\n",
    "regr_1 = RandomForestRegressor(max_depth=5)\n",
    "regr_2 = RandomForestRegressor(max_depth=10)\n",
    "regr_3 = RandomForestRegressor(max_depth=20)\n",
    "regr_4 = RandomForestRegressor(max_depth=None)\n",
    "\n",
    "regr_1.fit(X_train_scaled,y_train)\n",
    "regr_2.fit(X_train_scaled,y_train)\n",
    "regr_3.fit(X_train_scaled,y_train)\n",
    "regr_4.fit(X_train_scaled,y_train)"
   ]
  },
  {
   "cell_type": "code",
   "execution_count": null,
   "id": "57e5d55a",
   "metadata": {},
   "outputs": [],
   "source": [
    "y_pred1 = regr_1.predict(X_test_scaled)\n",
    "y_pred2 = regr_2.predict(X_test_scaled)\n",
    "y_pred3 = regr_3.predict(X_test_scaled)\n",
    "y_pred4 = regr_4.predict(X_test_scaled)"
   ]
  },
  {
   "cell_type": "markdown",
   "id": "9bbdb821",
   "metadata": {},
   "source": [
    "### Print R-Squared Scores (how well does the model predict the target variable)"
   ]
  },
  {
   "cell_type": "code",
   "execution_count": null,
   "id": "05b73dbe",
   "metadata": {},
   "outputs": [],
   "source": [
    "# Training Score\n",
    "print(\"Training Score Max Depth=5: \", regr_1.score(X_train_scaled,y_train))\n",
    "print(\"Training Score Max Depth=10: \", regr_2.score(X_train_scaled,y_train))\n",
    "print(\"Training Score Max Depth=20: \", regr_3.score(X_train_scaled,y_train))\n",
    "print(\"Training Score Max Depth=None: \", regr_4.score(X_train_scaled,y_train))\n",
    "\n",
    "# Test Score\n",
    "print(\"Test Score Max Depth=5: \", regr_1.score(X_test_scaled, y_test))\n",
    "print(\"Test Score Max Depth=10: \", regr_2.score(X_test_scaled, y_test))\n",
    "print(\"Test Score Max Depth=20: \", regr_3.score(X_test_scaled, y_test))\n",
    "print(\"Test Score Max Depth=None: \", regr_4.score(X_test_scaled, y_test))"
   ]
  },
  {
   "cell_type": "code",
   "execution_count": null,
   "id": "6beb63e2",
   "metadata": {},
   "outputs": [],
   "source": []
  }
 ],
 "metadata": {
  "kernelspec": {
   "display_name": "Python 3.7.13 ('wine')",
   "language": "python",
   "name": "python3"
  },
  "language_info": {
   "codemirror_mode": {
    "name": "ipython",
    "version": 3
   },
   "file_extension": ".py",
   "mimetype": "text/x-python",
   "name": "python",
   "nbconvert_exporter": "python",
   "pygments_lexer": "ipython3",
   "version": "3.7.13"
  },
  "vscode": {
   "interpreter": {
    "hash": "bba64072ecd06d1af2566b479e1eaae0ad85b48a4f764fe3f6caae46bebdb916"
   }
  }
 },
 "nbformat": 4,
 "nbformat_minor": 5
}
