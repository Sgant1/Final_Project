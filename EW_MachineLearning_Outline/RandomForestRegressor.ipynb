{
 "cells": [
  {
   "cell_type": "markdown",
   "id": "da13aae1",
   "metadata": {},
   "source": [
    "### Import Dependencies"
   ]
  },
  {
   "cell_type": "code",
   "execution_count": 12,
   "id": "9a3655e9",
   "metadata": {},
   "outputs": [],
   "source": [
    "import pandas as pd\n",
    "from sklearn.model_selection import train_test_split\n",
    "from sklearn.ensemble import RandomForestRegressor\n",
    "from sklearn.preprocessing import MinMaxScaler"
   ]
  },
  {
   "cell_type": "markdown",
   "id": "eb58deda",
   "metadata": {},
   "source": [
    "### Load Data"
   ]
  },
  {
   "cell_type": "code",
   "execution_count": 13,
   "id": "d109b121",
   "metadata": {},
   "outputs": [
    {
     "data": {
      "text/html": [
       "<div>\n",
       "<style scoped>\n",
       "    .dataframe tbody tr th:only-of-type {\n",
       "        vertical-align: middle;\n",
       "    }\n",
       "\n",
       "    .dataframe tbody tr th {\n",
       "        vertical-align: top;\n",
       "    }\n",
       "\n",
       "    .dataframe thead th {\n",
       "        text-align: right;\n",
       "    }\n",
       "</style>\n",
       "<table border=\"1\" class=\"dataframe\">\n",
       "  <thead>\n",
       "    <tr style=\"text-align: right;\">\n",
       "      <th></th>\n",
       "      <th>Unnamed: 0</th>\n",
       "      <th>Company Name</th>\n",
       "      <th>City</th>\n",
       "      <th>State</th>\n",
       "      <th>Shipping Service</th>\n",
       "      <th>Created Date</th>\n",
       "      <th>Item/Bottle Count</th>\n",
       "    </tr>\n",
       "  </thead>\n",
       "  <tbody>\n",
       "    <tr>\n",
       "      <th>0</th>\n",
       "      <td>0</td>\n",
       "      <td>3</td>\n",
       "      <td>7981</td>\n",
       "      <td>9</td>\n",
       "      <td>14</td>\n",
       "      <td>1/1/20</td>\n",
       "      <td>3.0</td>\n",
       "    </tr>\n",
       "    <tr>\n",
       "      <th>1</th>\n",
       "      <td>1</td>\n",
       "      <td>3</td>\n",
       "      <td>5188</td>\n",
       "      <td>4</td>\n",
       "      <td>14</td>\n",
       "      <td>12/31/19</td>\n",
       "      <td>10.0</td>\n",
       "    </tr>\n",
       "    <tr>\n",
       "      <th>2</th>\n",
       "      <td>2</td>\n",
       "      <td>3</td>\n",
       "      <td>6939</td>\n",
       "      <td>34</td>\n",
       "      <td>1</td>\n",
       "      <td>1/1/20</td>\n",
       "      <td>8.0</td>\n",
       "    </tr>\n",
       "    <tr>\n",
       "      <th>3</th>\n",
       "      <td>3</td>\n",
       "      <td>3</td>\n",
       "      <td>6939</td>\n",
       "      <td>34</td>\n",
       "      <td>1</td>\n",
       "      <td>1/2/20</td>\n",
       "      <td>6.0</td>\n",
       "    </tr>\n",
       "    <tr>\n",
       "      <th>4</th>\n",
       "      <td>4</td>\n",
       "      <td>3</td>\n",
       "      <td>10666</td>\n",
       "      <td>20</td>\n",
       "      <td>4</td>\n",
       "      <td>12/31/19</td>\n",
       "      <td>12.0</td>\n",
       "    </tr>\n",
       "  </tbody>\n",
       "</table>\n",
       "</div>"
      ],
      "text/plain": [
       "   Unnamed: 0  Company Name   City  State  Shipping Service Created Date  \\\n",
       "0           0             3   7981      9                14       1/1/20   \n",
       "1           1             3   5188      4                14     12/31/19   \n",
       "2           2             3   6939     34                 1       1/1/20   \n",
       "3           3             3   6939     34                 1       1/2/20   \n",
       "4           4             3  10666     20                 4     12/31/19   \n",
       "\n",
       "   Item/Bottle Count  \n",
       "0                3.0  \n",
       "1               10.0  \n",
       "2                8.0  \n",
       "3                6.0  \n",
       "4               12.0  "
      ]
     },
     "execution_count": 13,
     "metadata": {},
     "output_type": "execute_result"
    }
   ],
   "source": [
    "file = 'preprocessed_data.csv'\n",
    "df = pd.read_csv(file)\n",
    "df.head()"
   ]
  },
  {
   "cell_type": "markdown",
   "id": "575edb7c",
   "metadata": {},
   "source": [
    "### Split Data into Training and Test sets\n",
    "- RandomForest cannot extrapolate values outside of what is in the training data, so we must include random samples from every month of the year in the training set.\n",
    "\n",
    "- We will not scale the data as it is unnecessary for RandomForest models."
   ]
  },
  {
   "cell_type": "code",
   "execution_count": 14,
   "id": "36f71728",
   "metadata": {},
   "outputs": [],
   "source": [
    "# convert 'Created Date' to datetime format\n",
    "# May 2020 has weird values (ex: 43940.85348)\n",
    "df['created_date_converted'] = pd.to_datetime(df['Created Date'], infer_datetime_format=True)\n",
    "df['created_date_converted']\n"
   ]
  },
  {
   "cell_type": "code",
   "execution_count": null,
   "id": "b1a4138d",
   "metadata": {},
   "outputs": [],
   "source": [
    "# split features data by month\n",
    "jan_df = df.loc[df['created_date_converted'].dt.month == 1]\n",
    "feb_df = df.loc[df['created_date_converted'].dt.month == 2]\n",
    "mar_df = df.loc[df['created_date_converted'].dt.month == 3]\n",
    "apr_df = df.loc[df['created_date_converted'].dt.month == 4]\n",
    "may_df = df.loc[df['created_date_converted'].dt.month == 5]\n",
    "june_df = df.loc[df['created_date_converted'].dt.month == 6]\n",
    "july_df = df.loc[df['created_date_converted'].dt.month == 7]\n",
    "aug_df = df.loc[df['created_date_converted'].dt.month == 8]\n",
    "sep_df = df.loc[df['created_date_converted'].dt.month == 9]\n",
    "oct_df = df.loc[df['created_date_converted'].dt.month == 10]\n",
    "nov_df = df.loc[df['created_date_converted'].dt.month == 11]\n",
    "dec_df = df.loc[df['created_date_converted'].dt.month == 12]\n"
   ]
  },
  {
   "cell_type": "code",
   "execution_count": null,
   "id": "8902cdef",
   "metadata": {},
   "outputs": [],
   "source": [
    "# get random training data from each month\n",
    "X_jan = jan_df.drop(columns=['Item/Bottle Count'], axis=1)\n",
    "y_jan = jan_df['Item/Bottle Count']\n",
    "X_train_jan, X_test_jan, y_train_jan, y_test_jan = train_test_split(X_jan, y_jan, random_state=1)\n"
   ]
  },
  {
   "cell_type": "code",
   "execution_count": 15,
   "id": "3ea7ad99",
   "metadata": {},
   "outputs": [],
   "source": [
    "# # split into features and target\n",
    "# X = df.drop(columns=['Item/Bottle Count'], axis=1)\n",
    "# y = df['Item/Bottle Count']\n",
    "\n",
    "# X_train, X_test, y_train, y_test = train_test_split(X, y, random_state=1)"
   ]
  },
  {
   "cell_type": "markdown",
   "id": "9f61a268",
   "metadata": {},
   "source": [
    "### Build RandomForestRegressor Model"
   ]
  },
  {
   "cell_type": "code",
   "execution_count": 16,
   "id": "84e62c2d",
   "metadata": {},
   "outputs": [],
   "source": [
    "# # Fit classifier models with different max_depth\n",
    "# regr_1 = RandomForestRegressor(max_depth=5)\n",
    "# regr_2 = RandomForestRegressor(max_depth=10)\n",
    "# regr_3 = RandomForestRegressor(max_depth=20)\n",
    "# regr_4 = RandomForestRegressor(max_depth=None)\n",
    "\n",
    "# regr_1.fit(X_train_scaled,y_train)\n",
    "# regr_2.fit(X_train_scaled,y_train)\n",
    "# regr_3.fit(X_train_scaled,y_train)\n",
    "# regr_4.fit(X_train_scaled,y_train)"
   ]
  },
  {
   "cell_type": "code",
   "execution_count": 17,
   "id": "57e5d55a",
   "metadata": {},
   "outputs": [],
   "source": [
    "# y_pred1 = regr_1.predict(X_test_scaled)\n",
    "# y_pred2 = regr_2.predict(X_test_scaled)\n",
    "# y_pred3 = regr_3.predict(X_test_scaled)\n",
    "# y_pred4 = regr_4.predict(X_test_scaled)"
   ]
  },
  {
   "cell_type": "markdown",
   "id": "9bbdb821",
   "metadata": {},
   "source": [
    "### Print R-Squared Scores (how well does the model predict the target variable)"
   ]
  },
  {
   "cell_type": "code",
   "execution_count": 18,
   "id": "05b73dbe",
   "metadata": {},
   "outputs": [],
   "source": [
    "# # Training Score\n",
    "# print(\"Training Score Max Depth=5: \", regr_1.score(X_train_scaled,y_train))\n",
    "# print(\"Training Score Max Depth=10: \", regr_2.score(X_train_scaled,y_train))\n",
    "# print(\"Training Score Max Depth=20: \", regr_3.score(X_train_scaled,y_train))\n",
    "# print(\"Training Score Max Depth=None: \", regr_4.score(X_train_scaled,y_train))\n",
    "\n",
    "# # Test Score\n",
    "# print(\"Test Score Max Depth=5: \", regr_1.score(X_test_scaled, y_test))\n",
    "# print(\"Test Score Max Depth=10: \", regr_2.score(X_test_scaled, y_test))\n",
    "# print(\"Test Score Max Depth=20: \", regr_3.score(X_test_scaled, y_test))\n",
    "# print(\"Test Score Max Depth=None: \", regr_4.score(X_test_scaled, y_test))"
   ]
  },
  {
   "cell_type": "code",
   "execution_count": null,
   "id": "6beb63e2",
   "metadata": {},
   "outputs": [],
   "source": []
  }
 ],
 "metadata": {
  "kernelspec": {
   "display_name": "Python 3.7.13 ('base')",
   "language": "python",
   "name": "python3"
  },
  "language_info": {
   "codemirror_mode": {
    "name": "ipython",
    "version": 3
   },
   "file_extension": ".py",
   "mimetype": "text/x-python",
   "name": "python",
   "nbconvert_exporter": "python",
   "pygments_lexer": "ipython3",
   "version": "3.9.13"
  },
  "vscode": {
   "interpreter": {
    "hash": "bba64072ecd06d1af2566b479e1eaae0ad85b48a4f764fe3f6caae46bebdb916"
   }
  }
 },
 "nbformat": 4,
 "nbformat_minor": 5
}
