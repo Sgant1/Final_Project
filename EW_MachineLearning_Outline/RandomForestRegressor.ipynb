{
 "cells": [
  {
   "cell_type": "markdown",
   "id": "da13aae1",
   "metadata": {},
   "source": [
    "### Import Dependencies"
   ]
  },
  {
   "cell_type": "code",
   "execution_count": 1,
   "id": "9a3655e9",
   "metadata": {},
   "outputs": [],
   "source": [
    "import pandas as pd\n",
    "from sklearn.model_selection import train_test_split\n",
    "from sklearn.ensemble import RandomForestRegressor\n",
    "from sklearn.preprocessing import MinMaxScaler"
   ]
  },
  {
   "cell_type": "markdown",
   "id": "eb58deda",
   "metadata": {},
   "source": [
    "### Load Data"
   ]
  },
  {
   "cell_type": "code",
   "execution_count": 2,
   "id": "d109b121",
   "metadata": {},
   "outputs": [
    {
     "data": {
      "text/html": [
       "<div>\n",
       "<style scoped>\n",
       "    .dataframe tbody tr th:only-of-type {\n",
       "        vertical-align: middle;\n",
       "    }\n",
       "\n",
       "    .dataframe tbody tr th {\n",
       "        vertical-align: top;\n",
       "    }\n",
       "\n",
       "    .dataframe thead th {\n",
       "        text-align: right;\n",
       "    }\n",
       "</style>\n",
       "<table border=\"1\" class=\"dataframe\">\n",
       "  <thead>\n",
       "    <tr style=\"text-align: right;\">\n",
       "      <th></th>\n",
       "      <th>Company Name</th>\n",
       "      <th>Ship Date</th>\n",
       "      <th>City</th>\n",
       "      <th>State</th>\n",
       "      <th>Shipping Service</th>\n",
       "      <th>Created Date</th>\n",
       "      <th>Weight</th>\n",
       "      <th>Item/Bottle Count</th>\n",
       "    </tr>\n",
       "  </thead>\n",
       "  <tbody>\n",
       "    <tr>\n",
       "      <th>0</th>\n",
       "      <td>1</td>\n",
       "      <td>43952.87139</td>\n",
       "      <td>1555</td>\n",
       "      <td>34</td>\n",
       "      <td>5</td>\n",
       "      <td>43940.85348</td>\n",
       "      <td>10.5</td>\n",
       "      <td>3</td>\n",
       "    </tr>\n",
       "    <tr>\n",
       "      <th>1</th>\n",
       "      <td>1</td>\n",
       "      <td>43952.87149</td>\n",
       "      <td>5113</td>\n",
       "      <td>44</td>\n",
       "      <td>1</td>\n",
       "      <td>43943.52123</td>\n",
       "      <td>20.2</td>\n",
       "      <td>6</td>\n",
       "    </tr>\n",
       "    <tr>\n",
       "      <th>2</th>\n",
       "      <td>1</td>\n",
       "      <td>43952.87149</td>\n",
       "      <td>1341</td>\n",
       "      <td>5</td>\n",
       "      <td>9</td>\n",
       "      <td>43945.43794</td>\n",
       "      <td>20.2</td>\n",
       "      <td>6</td>\n",
       "    </tr>\n",
       "    <tr>\n",
       "      <th>3</th>\n",
       "      <td>1</td>\n",
       "      <td>43952.87148</td>\n",
       "      <td>4881</td>\n",
       "      <td>4</td>\n",
       "      <td>4</td>\n",
       "      <td>43945.60456</td>\n",
       "      <td>10.5</td>\n",
       "      <td>3</td>\n",
       "    </tr>\n",
       "    <tr>\n",
       "      <th>4</th>\n",
       "      <td>1</td>\n",
       "      <td>43952.87148</td>\n",
       "      <td>4984</td>\n",
       "      <td>44</td>\n",
       "      <td>1</td>\n",
       "      <td>43947.43795</td>\n",
       "      <td>39.0</td>\n",
       "      <td>12</td>\n",
       "    </tr>\n",
       "  </tbody>\n",
       "</table>\n",
       "</div>"
      ],
      "text/plain": [
       "   Company Name    Ship Date  City  State  Shipping Service  Created Date  \\\n",
       "0             1  43952.87139  1555     34                 5   43940.85348   \n",
       "1             1  43952.87149  5113     44                 1   43943.52123   \n",
       "2             1  43952.87149  1341      5                 9   43945.43794   \n",
       "3             1  43952.87148  4881      4                 4   43945.60456   \n",
       "4             1  43952.87148  4984     44                 1   43947.43795   \n",
       "\n",
       "   Weight  Item/Bottle Count  \n",
       "0    10.5                  3  \n",
       "1    20.2                  6  \n",
       "2    20.2                  6  \n",
       "3    10.5                  3  \n",
       "4    39.0                 12  "
      ]
     },
     "execution_count": 2,
     "metadata": {},
     "output_type": "execute_result"
    }
   ],
   "source": [
    "file = 'preprocessed_data.csv'\n",
    "df = pd.read_csv(file)\n",
    "df.head()"
   ]
  },
  {
   "cell_type": "markdown",
   "id": "575edb7c",
   "metadata": {},
   "source": [
    "### Scale and Split Data\n",
    "##### Need to drop 'Weight' column completely because it has float variables and cannot be predicted in the classifier model without additional preprocessing"
   ]
  },
  {
   "cell_type": "code",
   "execution_count": 3,
   "id": "3ea7ad99",
   "metadata": {},
   "outputs": [],
   "source": [
    "# split into features and target\n",
    "X = df.drop(columns=['Weight','Item/Bottle Count'], axis=1)\n",
    "y = df['Item/Bottle Count']\n",
    "\n",
    "X_train, X_test, y_train, y_test = train_test_split(X, y, random_state=1)"
   ]
  },
  {
   "cell_type": "code",
   "execution_count": 4,
   "id": "3305415c",
   "metadata": {},
   "outputs": [],
   "source": [
    "# scale the data\n",
    "scaler = MinMaxScaler()\n",
    "X_scaler = scaler.fit(X_train)\n",
    "X_train_scaled = X_scaler.transform(X_train)\n",
    "X_test_scaled = X_scaler.transform(X_test)"
   ]
  },
  {
   "cell_type": "markdown",
   "id": "9f61a268",
   "metadata": {},
   "source": [
    "### Build RandomForestRegressor Model"
   ]
  },
  {
   "cell_type": "code",
   "execution_count": 6,
   "id": "84e62c2d",
   "metadata": {},
   "outputs": [
    {
     "data": {
      "text/plain": [
       "RandomForestRegressor()"
      ]
     },
     "execution_count": 6,
     "metadata": {},
     "output_type": "execute_result"
    }
   ],
   "source": [
    "# Fit classifier models with different max_depth\n",
    "regr_1 = RandomForestRegressor(max_depth=5)\n",
    "regr_2 = RandomForestRegressor(max_depth=10)\n",
    "regr_3 = RandomForestRegressor(max_depth=20)\n",
    "regr_4 = RandomForestRegressor(max_depth=None)\n",
    "\n",
    "regr_1.fit(X_train_scaled,y_train)\n",
    "regr_2.fit(X_train_scaled,y_train)\n",
    "regr_3.fit(X_train_scaled,y_train)\n",
    "regr_4.fit(X_train_scaled,y_train)"
   ]
  },
  {
   "cell_type": "code",
   "execution_count": 7,
   "id": "57e5d55a",
   "metadata": {},
   "outputs": [],
   "source": [
    "y_pred1 = regr_1.predict(X_test_scaled)\n",
    "y_pred2 = regr_2.predict(X_test_scaled)\n",
    "y_pred3 = regr_3.predict(X_test_scaled)\n",
    "y_pred4 = regr_4.predict(X_test_scaled)"
   ]
  },
  {
   "cell_type": "markdown",
   "id": "9bbdb821",
   "metadata": {},
   "source": [
    "### Print R-Squared Scores (how well does the model predict the target variable)"
   ]
  },
  {
   "cell_type": "code",
   "execution_count": 8,
   "id": "05b73dbe",
   "metadata": {},
   "outputs": [
    {
     "name": "stdout",
     "output_type": "stream",
     "text": [
      "Training Score Max Depth=5:  0.5588446031272207\n",
      "Training Score Max Depth=10:  0.6315532982823922\n",
      "Training Score Max Depth=20:  0.8515773928355911\n",
      "Training Score Max Depth=None:  0.9320415869860483\n",
      "Test Score Max Depth=5:  0.5454299090285035\n",
      "Test Score Max Depth=10:  0.5623558180748012\n",
      "Test Score Max Depth=20:  0.5639402566209031\n",
      "Test Score Max Depth=None:  0.5528493726055184\n"
     ]
    }
   ],
   "source": [
    "# Training Score\n",
    "print(\"Training Score Max Depth=5: \", regr_1.score(X_train_scaled,y_train))\n",
    "print(\"Training Score Max Depth=10: \", regr_2.score(X_train_scaled,y_train))\n",
    "print(\"Training Score Max Depth=20: \", regr_3.score(X_train_scaled,y_train))\n",
    "print(\"Training Score Max Depth=None: \", regr_4.score(X_train_scaled,y_train))\n",
    "\n",
    "# Test Score\n",
    "print(\"Test Score Max Depth=5: \", regr_1.score(X_test_scaled, y_test))\n",
    "print(\"Test Score Max Depth=10: \", regr_2.score(X_test_scaled, y_test))\n",
    "print(\"Test Score Max Depth=20: \", regr_3.score(X_test_scaled, y_test))\n",
    "print(\"Test Score Max Depth=None: \", regr_4.score(X_test_scaled, y_test))"
   ]
  },
  {
   "cell_type": "code",
   "execution_count": null,
   "id": "6beb63e2",
   "metadata": {},
   "outputs": [],
   "source": []
  }
 ],
 "metadata": {
  "kernelspec": {
   "display_name": "mlenv",
   "language": "python",
   "name": "mlenv"
  },
  "language_info": {
   "codemirror_mode": {
    "name": "ipython",
    "version": 3
   },
   "file_extension": ".py",
   "mimetype": "text/x-python",
   "name": "python",
   "nbconvert_exporter": "python",
   "pygments_lexer": "ipython3",
   "version": "3.7.13"
  }
 },
 "nbformat": 4,
 "nbformat_minor": 5
}
