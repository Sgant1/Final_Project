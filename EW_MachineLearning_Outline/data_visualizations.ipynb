{
 "cells": [
  {
   "cell_type": "code",
   "execution_count": 2,
   "metadata": {},
   "outputs": [],
   "source": [
    "%matplotlib inline\n",
    "import matplotlib.pyplot as plt\n",
    "import pandas as pd\n",
    "import os"
   ]
  },
  {
   "cell_type": "code",
   "execution_count": 30,
   "metadata": {},
   "outputs": [
    {
     "data": {
      "text/html": [
       "<div>\n",
       "<style scoped>\n",
       "    .dataframe tbody tr th:only-of-type {\n",
       "        vertical-align: middle;\n",
       "    }\n",
       "\n",
       "    .dataframe tbody tr th {\n",
       "        vertical-align: top;\n",
       "    }\n",
       "\n",
       "    .dataframe thead th {\n",
       "        text-align: right;\n",
       "    }\n",
       "</style>\n",
       "<table border=\"1\" class=\"dataframe\">\n",
       "  <thead>\n",
       "    <tr style=\"text-align: right;\">\n",
       "      <th></th>\n",
       "      <th>Company Name</th>\n",
       "      <th>Ship Date</th>\n",
       "      <th>City</th>\n",
       "      <th>State</th>\n",
       "      <th>Shipping Service</th>\n",
       "      <th>Created Date</th>\n",
       "      <th>Weight</th>\n",
       "      <th>Item/Bottle Count</th>\n",
       "    </tr>\n",
       "  </thead>\n",
       "  <tbody>\n",
       "    <tr>\n",
       "      <th>0</th>\n",
       "      <td>1</td>\n",
       "      <td>43952.87139</td>\n",
       "      <td>1555</td>\n",
       "      <td>34</td>\n",
       "      <td>5</td>\n",
       "      <td>43940.85348</td>\n",
       "      <td>10.5</td>\n",
       "      <td>3</td>\n",
       "    </tr>\n",
       "    <tr>\n",
       "      <th>1</th>\n",
       "      <td>1</td>\n",
       "      <td>43952.87149</td>\n",
       "      <td>5113</td>\n",
       "      <td>44</td>\n",
       "      <td>1</td>\n",
       "      <td>43943.52123</td>\n",
       "      <td>20.2</td>\n",
       "      <td>6</td>\n",
       "    </tr>\n",
       "    <tr>\n",
       "      <th>2</th>\n",
       "      <td>1</td>\n",
       "      <td>43952.87149</td>\n",
       "      <td>1341</td>\n",
       "      <td>5</td>\n",
       "      <td>9</td>\n",
       "      <td>43945.43794</td>\n",
       "      <td>20.2</td>\n",
       "      <td>6</td>\n",
       "    </tr>\n",
       "    <tr>\n",
       "      <th>3</th>\n",
       "      <td>1</td>\n",
       "      <td>43952.87148</td>\n",
       "      <td>4881</td>\n",
       "      <td>4</td>\n",
       "      <td>4</td>\n",
       "      <td>43945.60456</td>\n",
       "      <td>10.5</td>\n",
       "      <td>3</td>\n",
       "    </tr>\n",
       "    <tr>\n",
       "      <th>4</th>\n",
       "      <td>1</td>\n",
       "      <td>43952.87148</td>\n",
       "      <td>4984</td>\n",
       "      <td>44</td>\n",
       "      <td>1</td>\n",
       "      <td>43947.43795</td>\n",
       "      <td>39.0</td>\n",
       "      <td>12</td>\n",
       "    </tr>\n",
       "  </tbody>\n",
       "</table>\n",
       "</div>"
      ],
      "text/plain": [
       "   Company Name    Ship Date  City  State  Shipping Service  Created Date  \\\n",
       "0             1  43952.87139  1555     34                 5   43940.85348   \n",
       "1             1  43952.87149  5113     44                 1   43943.52123   \n",
       "2             1  43952.87149  1341      5                 9   43945.43794   \n",
       "3             1  43952.87148  4881      4                 4   43945.60456   \n",
       "4             1  43952.87148  4984     44                 1   43947.43795   \n",
       "\n",
       "   Weight  Item/Bottle Count  \n",
       "0    10.5                  3  \n",
       "1    20.2                  6  \n",
       "2    20.2                  6  \n",
       "3    10.5                  3  \n",
       "4    39.0                 12  "
      ]
     },
     "execution_count": 30,
     "metadata": {},
     "output_type": "execute_result"
    }
   ],
   "source": [
    "# Load data\n",
    "file = 'preprocessed_data.csv'\n",
    "df = pd.read_csv(file)\n",
    "df.head()"
   ]
  },
  {
   "cell_type": "markdown",
   "metadata": {},
   "source": [
    "##### Need to model 'Item/Bottle Count' per month per company\n",
    "Group by company\n",
    "Group by month\n",
    "Create new dataframe with Company, Month, State, Item/Bottle Count"
   ]
  },
  {
   "cell_type": "code",
   "execution_count": 31,
   "metadata": {},
   "outputs": [
    {
     "data": {
      "text/plain": [
       "Company Name           int64\n",
       "Ship Date            float64\n",
       "City                   int64\n",
       "State                  int64\n",
       "Shipping Service       int64\n",
       "Created Date         float64\n",
       "Weight               float64\n",
       "Item/Bottle Count      int64\n",
       "dtype: object"
      ]
     },
     "execution_count": 31,
     "metadata": {},
     "output_type": "execute_result"
    }
   ],
   "source": [
    "df.dtypes"
   ]
  },
  {
   "cell_type": "code",
   "execution_count": null,
   "metadata": {},
   "outputs": [],
   "source": []
  },
  {
   "cell_type": "code",
   "execution_count": 28,
   "metadata": {},
   "outputs": [],
   "source": [
    "# # plot 'Created Date' and 'Item/Bottle Count'\n",
    "\n",
    "# df.plot.scatter(x='Created Date', y='Item/Bottle Count')\n",
    "# plt.show()"
   ]
  },
  {
   "cell_type": "code",
   "execution_count": 29,
   "metadata": {},
   "outputs": [],
   "source": [
    "# # plot 'State' and 'Item/Bottle Count'\n",
    "\n",
    "# df.plot.scatter(x='State', y='Item/Bottle Count')\n",
    "# plt.show()"
   ]
  },
  {
   "cell_type": "code",
   "execution_count": null,
   "metadata": {},
   "outputs": [],
   "source": []
  },
  {
   "cell_type": "code",
   "execution_count": null,
   "metadata": {},
   "outputs": [],
   "source": []
  }
 ],
 "metadata": {
  "kernelspec": {
   "display_name": "Python 3.9.12",
   "language": "python",
   "name": "python3"
  },
  "language_info": {
   "codemirror_mode": {
    "name": "ipython",
    "version": 3
   },
   "file_extension": ".py",
   "mimetype": "text/x-python",
   "name": "python",
   "nbconvert_exporter": "python",
   "pygments_lexer": "ipython3",
   "version": "3.9.12"
  },
  "orig_nbformat": 4,
  "vscode": {
   "interpreter": {
    "hash": "049a0cd177f2bac84bc03927af55ff34f52c91ca0fdf6ac95b13364c3b2a1cda"
   }
  }
 },
 "nbformat": 4,
 "nbformat_minor": 2
}
